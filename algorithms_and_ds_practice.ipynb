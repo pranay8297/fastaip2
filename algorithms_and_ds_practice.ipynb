{
  "nbformat": 4,
  "nbformat_minor": 0,
  "metadata": {
    "colab": {
      "provenance": [],
      "collapsed_sections": [
        "yqVwsuQsPEFe",
        "1d6chI9XPL1c"
      ],
      "authorship_tag": "ABX9TyPOulh0/geG3fT5N/pKFvn8",
      "include_colab_link": true
    },
    "kernelspec": {
      "name": "python3",
      "display_name": "Python 3"
    },
    "language_info": {
      "name": "python"
    }
  },
  "cells": [
    {
      "cell_type": "markdown",
      "metadata": {
        "id": "view-in-github",
        "colab_type": "text"
      },
      "source": [
        "<a href=\"https://colab.research.google.com/github/pranay8297/fastaip2/blob/main/algorithms_and_ds_practice.ipynb\" target=\"_parent\"><img src=\"https://colab.research.google.com/assets/colab-badge.svg\" alt=\"Open In Colab\"/></a>"
      ]
    },
    {
      "cell_type": "code",
      "source": [
        "import time\n",
        "import math\n",
        "\n",
        "def timeit(func):\n",
        "    def new_func(*args, **kwargs):\n",
        "        t1 = time.time()\n",
        "        out = func(*args, **kwargs)\n",
        "        t2 = time.time()\n",
        "        print(f'total time in seconds: {t2 - t1} seconds')\n",
        "        return out\n",
        "    return new_func"
      ],
      "metadata": {
        "id": "CFv6WSC5OAcL"
      },
      "execution_count": 191,
      "outputs": []
    },
    {
      "cell_type": "markdown",
      "source": [
        "# Sorting Algorithms (insertion, selection, merge, quick)"
      ],
      "metadata": {
        "id": "yqVwsuQsPEFe"
      }
    },
    {
      "cell_type": "code",
      "execution_count": null,
      "metadata": {
        "id": "8hakAYmTR7mk"
      },
      "outputs": [],
      "source": [
        "def insertion_sort(arr):\n",
        "\n",
        "    for i in range(len(arr) - 1):\n",
        "\n",
        "        if arr[i] > arr[i + 1]:\n",
        "\n",
        "            arr[i], arr[i + 1] = arr[i + 1], arr[i]\n",
        "\n",
        "            for j in range(i, 0, -1):\n",
        "                if arr[j] < arr[j - 1]:\n",
        "                    arr[j], arr[j - 1] = arr[j - 1], arr[j]\n",
        "                else:\n",
        "                    break\n",
        "    return arr"
      ]
    },
    {
      "cell_type": "code",
      "source": [
        "insertion_sort([5, 10, 4, 7, 6, 11])"
      ],
      "metadata": {
        "colab": {
          "base_uri": "https://localhost:8080/"
        },
        "id": "LBBv67LOSc7B",
        "outputId": "39a2a6f4-fe37-497b-8c69-4759778ecf96"
      },
      "execution_count": null,
      "outputs": [
        {
          "output_type": "execute_result",
          "data": {
            "text/plain": [
              "[4, 5, 6, 7, 10, 11]"
            ]
          },
          "metadata": {},
          "execution_count": 7
        }
      ]
    },
    {
      "cell_type": "code",
      "source": [
        "def selection_sort(arr):\n",
        "    for i in range(len(arr)-1):\n",
        "        min_value = arr[i]\n",
        "        min_value_index = i\n",
        "        for j_index, j in enumerate(arr[i+1:]):\n",
        "            if min_value > j:\n",
        "                min_value = j\n",
        "                min_value_index = j_index+i+1\n",
        "        arr[i], arr[min_value_index] = arr[min_value_index], arr[i]\n",
        "    return arr"
      ],
      "metadata": {
        "id": "huubYEUSTQ9R"
      },
      "execution_count": null,
      "outputs": []
    },
    {
      "cell_type": "code",
      "source": [
        "selection_sort([5, 10, 4, 7, 6, 11])"
      ],
      "metadata": {
        "colab": {
          "base_uri": "https://localhost:8080/"
        },
        "id": "nFdIYUaiWvXg",
        "outputId": "afcd6b01-83d8-49d5-b218-c4770638a201"
      },
      "execution_count": null,
      "outputs": [
        {
          "output_type": "execute_result",
          "data": {
            "text/plain": [
              "[4, 5, 6, 7, 10, 11]"
            ]
          },
          "metadata": {},
          "execution_count": 20
        }
      ]
    },
    {
      "cell_type": "code",
      "source": [
        "[5, 10, 4, 7, 6, 11, 3]\n",
        "\n",
        "# The key idea of bubble sort is to push the maximum item to the last\n",
        "# iteration 1:\n",
        "#   [5, 4, 10, 7, 6, 11]\n",
        "#   [5, 4, 7, 10, 6, 11]\n",
        "#   [5, 4, 7, 6, 10, 11]\n",
        "# iteration 2:\n",
        "\n",
        "def bubble_sort(arr):\n",
        "\n",
        "    iterations_completed = 0\n",
        "    for i in range(len(arr)):\n",
        "        for j in range(len(arr)-i-1):\n",
        "            if arr[j] > arr[j+1]:\n",
        "                arr[j], arr[j+1] = arr[j+1], arr[j]\n",
        "    return arr\n",
        "\n",
        "bubble_sort([5, 10, 4, 7, 6, 11, 3])"
      ],
      "metadata": {
        "colab": {
          "base_uri": "https://localhost:8080/"
        },
        "id": "aPWkIv-9XcYg",
        "outputId": "d332b849-fe8b-43de-a8b4-676fadda7d7b"
      },
      "execution_count": null,
      "outputs": [
        {
          "output_type": "execute_result",
          "data": {
            "text/plain": [
              "[3, 4, 5, 6, 7, 10, 11]"
            ]
          },
          "metadata": {},
          "execution_count": 22
        }
      ]
    },
    {
      "cell_type": "code",
      "source": [
        "'''\n",
        "# [5, 10, 4, 7, 6, 11, 3]\n",
        "\n",
        "pivot = 4\n",
        "\n",
        "if arr[j] < pivot:\n",
        "    i += 1\n",
        "    arr[i], arr[j] = arr[j], arr[i] # swap\n",
        "else:\n",
        "    j += 1\n",
        "\n",
        "start: [5, 10, 3, 7, 4]\n",
        "\n",
        "step: i = -1, j = 0\n",
        "result: [5, 10, 3, 7, 4]\n",
        "\n",
        "step: i = -1, j = 1\n",
        "result: [5, 10, 3, 7, 4]\n",
        "\n",
        "step: i = 0, j = 2\n",
        "result: [3, 10, 5, 7, 4]\n",
        "\n",
        "step: i = 0, j = 3\n",
        "result: [3, 10, 5, 7, 4]\n",
        "\n",
        "step: i = 0, j = 4\n",
        "result: [3, 10, 5, 7, 4]\n",
        "\n",
        "Process Step:\n",
        "result: [3, 4, 5, 7, 10]\n",
        "\n",
        "new_children = [3], [5, 7, 10]\n",
        "'''"
      ],
      "metadata": {
        "id": "CIJVaYWItAop"
      },
      "execution_count": null,
      "outputs": []
    },
    {
      "cell_type": "code",
      "source": [
        "# arr = [5, 10, 4, 7, 6, 11, 3]\n",
        "def one_iter(arr):\n",
        "    start, last, mid = arr[0], arr[-1], arr[len(arr)//2]\n",
        "\n",
        "    pivot_idx = len(arr) - 1\n",
        "\n",
        "    if (start > last and start < mid) or (start < last and start > mid):\n",
        "        pivot_idx = 0\n",
        "    elif (mid > start and mid < last) or (mid < start and mid > last):\n",
        "        pivot_idx = len(arr)//2\n",
        "\n",
        "    # Now swap the last element and pivot element\n",
        "    arr[-1], arr[pivot_idx] = arr[pivot_idx], arr[-1]\n",
        "\n",
        "    print(f\"Before Sorting: {arr}\")\n",
        "\n",
        "    i = -1\n",
        "    for j in range(len(arr)):\n",
        "        if arr[j] <= arr[-1]:\n",
        "            i += 1\n",
        "            arr[i], arr[j] = arr[j], arr[i]\n",
        "    print(f\"after one round, current position: {i}, arr: {arr}\")"
      ],
      "metadata": {
        "id": "eG002eu309wU"
      },
      "execution_count": null,
      "outputs": []
    },
    {
      "cell_type": "code",
      "source": [
        "arr = [5, 10, 4, 7, 6, 11, 3]\n",
        "one_iter(arr[2:])\n",
        "arr"
      ],
      "metadata": {
        "colab": {
          "base_uri": "https://localhost:8080/"
        },
        "id": "LZtf0ChgCKJG",
        "outputId": "c88307d3-7348-41fb-80b0-dfed20b65f6f"
      },
      "execution_count": null,
      "outputs": [
        {
          "output_type": "stream",
          "name": "stdout",
          "text": [
            "Before Sorting: [3, 7, 6, 11, 4]\n",
            "after one round, current position: 1, arr: [3, 4, 6, 11, 7]\n"
          ]
        },
        {
          "output_type": "execute_result",
          "data": {
            "text/plain": [
              "[5, 10, 4, 7, 6, 11, 3]"
            ]
          },
          "metadata": {},
          "execution_count": 13
        }
      ]
    },
    {
      "cell_type": "code",
      "source": [
        "\n",
        "@timeit\n",
        "def quick_sort_wrap(arr):\n",
        "    return quick_sort(arr)\n",
        "\n",
        "def quick_sort(arr):\n",
        "\n",
        "    if len(arr) <= 1:\n",
        "        return arr\n",
        "\n",
        "    elif len(arr) == 2:\n",
        "        if arr[0] > arr[1]: arr[0], arr[1] = arr[1], arr[0]\n",
        "        return arr\n",
        "\n",
        "    else:\n",
        "        # length is greater than 2 : [5, 10, 4, 7, 6, 11, 3]\n",
        "        # get the pivot element\n",
        "        start, last, mid = arr[0], arr[-1], arr[len(arr)//2]\n",
        "\n",
        "        pivot_idx = len(arr) - 1\n",
        "\n",
        "        if (start > last and start < mid) or (start < last and start > mid):\n",
        "            pivot_idx = 0\n",
        "        elif (mid > start and mid < last) or (mid < start and mid > last):\n",
        "            pivot_idx = len(arr)//2\n",
        "\n",
        "        # Now swap the last element and pivot element\n",
        "        arr[-1], arr[pivot_idx] = arr[pivot_idx], arr[-1]\n",
        "\n",
        "        # Now perform one iteration of quick sort\n",
        "        i = -1\n",
        "        for j in range(len(arr)):\n",
        "            if arr[j] <= arr[-1]:\n",
        "                i += 1\n",
        "                arr[i], arr[j] = arr[j], arr[i]\n",
        "\n",
        "        out = quick_sort(arr[:i]) + [arr[i]] + quick_sort(arr[i+1:])\n",
        "\n",
        "        return out"
      ],
      "metadata": {
        "id": "RJy1_xLcy6vx"
      },
      "execution_count": null,
      "outputs": []
    },
    {
      "cell_type": "code",
      "source": [
        "quick_sort_wrap([5, 10, 4, 7, 6, 11, 3, 99, 200, 123, 532, 775, 292, 1, -10, 0, 99, 199, 1999])"
      ],
      "metadata": {
        "colab": {
          "base_uri": "https://localhost:8080/"
        },
        "id": "32hUwTRGClcS",
        "outputId": "f9996807-064c-4b99-def5-3834d5a078e1"
      },
      "execution_count": null,
      "outputs": [
        {
          "output_type": "stream",
          "name": "stdout",
          "text": [
            "total time in seconds: 4.5299530029296875e-05 seconds\n"
          ]
        },
        {
          "output_type": "execute_result",
          "data": {
            "text/plain": [
              "[-10, 0, 1, 3, 4, 5, 6, 7, 10, 11, 99, 99, 123, 199, 200, 292, 532, 775, 1999]"
            ]
          },
          "metadata": {},
          "execution_count": 36
        }
      ]
    },
    {
      "cell_type": "code",
      "source": [
        "import time\n",
        "t1 = time.time()\n",
        "t2 = time.time()"
      ],
      "metadata": {
        "id": "bljtA6gyCnLQ"
      },
      "execution_count": null,
      "outputs": []
    },
    {
      "cell_type": "code",
      "source": [
        "t2 - t1"
      ],
      "metadata": {
        "colab": {
          "base_uri": "https://localhost:8080/"
        },
        "id": "JLGnJMw9EcQB",
        "outputId": "e22fce1c-2905-4e57-fd25-84d49c78b5f9"
      },
      "execution_count": null,
      "outputs": [
        {
          "output_type": "execute_result",
          "data": {
            "text/plain": [
              "4.1484832763671875e-05"
            ]
          },
          "metadata": {},
          "execution_count": 31
        }
      ]
    },
    {
      "cell_type": "code",
      "source": [
        "def merge_sort(arrs):\n",
        "    if len(arrs) > 2:\n",
        "        # Divide the arrs into bins or 2 and merge\n",
        "        # [[5], [10], [4], [7], [6], [11], [3]]\n",
        "        batches = []\n",
        "        for i in range(1, len(arrs), 2):\n",
        "            batches.append(merge_sort([arrs[i-1], arrs[i]]))\n",
        "        if len(arrs) % 2 != 0:\n",
        "            batches.append(arrs[-1])\n",
        "        return merge_sort(batches)\n",
        "\n",
        "    elif len(arrs) == 2:\n",
        "        # do the merging logic here\n",
        "        arr1, arr2 = arrs[0], arrs[1]\n",
        "        i, j = 0, 0\n",
        "        result_arr = []\n",
        "        all_items_processed = False\n",
        "        while all_items_processed == False:\n",
        "            if arr1[i] < arr2[j]:\n",
        "                result_arr.append(arr1[i])\n",
        "                i += 1\n",
        "            elif arr2[j] < arr1[i]:\n",
        "                result_arr.append(arr2[j])\n",
        "                j += 1\n",
        "\n",
        "            if i == len(arr1):\n",
        "                result_arr = result_arr + arr2[j:]\n",
        "                all_items_processed = True\n",
        "            elif j == len(arr2):\n",
        "                result_arr = result_arr + arr1[i:]\n",
        "                all_items_processed = True\n",
        "        return merge_sort([result_arr])\n",
        "\n",
        "    else:\n",
        "        return arrs[0]"
      ],
      "metadata": {
        "id": "1zqE9XoYEdf4"
      },
      "execution_count": null,
      "outputs": []
    },
    {
      "cell_type": "code",
      "source": [
        "'''\n",
        "a = [5, 10, 4, 7, 6, 11, 3]\n",
        "a = [[5], [10]], [[4], [7]], [[6], [11]], [[3]]\n",
        "[[5, 10], [4, 7]], [[6, 11], [3]]\n",
        "\n",
        "\n",
        "'''\n",
        "def merge_arrays(arr_1, arr_2):\n",
        "    # [5, 10, 4, 7], [6, 11, 3]\n",
        "\n",
        "    i = 0; j = 0; result = []\n",
        "\n",
        "    while True:\n",
        "        # breakpoint()\n",
        "        if arr_1[i] < arr_2[j]:\n",
        "            result.append(arr_1[i])\n",
        "            i += 1\n",
        "\n",
        "        elif arr_2[j] < arr_1[i]:\n",
        "            result.append(arr_2[j])\n",
        "            j += 1\n",
        "\n",
        "        else:\n",
        "            result += [arr_1[i], arr_2[j]]\n",
        "            i += 1\n",
        "            j += 1\n",
        "\n",
        "        if len(result) == len(arr_1) + len(arr_2):\n",
        "            return result\n",
        "        elif i == len(arr_1):\n",
        "            result += arr_2[j:]\n",
        "            return result\n",
        "        elif j == len(arr_2):\n",
        "            result += arr_1[i:]\n",
        "            return result\n",
        "\n",
        "@timeit\n",
        "def merge_sort(arr):\n",
        "\n",
        "    # break it to arrs of individual elements and call recursive merge\n",
        "    arrs = [[i] for i in arr]\n",
        "\n",
        "    while True:\n",
        "        batches = []\n",
        "        for i in range(1, len(arrs), 2):\n",
        "            out = merge_arrays(arrs[i-1], arrs[i])\n",
        "            batches.append(out)\n",
        "        if len(arrs)%2 != 0:\n",
        "            # Its an odd length array, so manually add the last element to the batches\n",
        "            batches.append(arrs[-1])\n",
        "\n",
        "        if len(batches) == 1:\n",
        "            return batches[0]\n",
        "\n",
        "        arrs = batches\n"
      ],
      "metadata": {
        "id": "-o2c0ThPFmTj"
      },
      "execution_count": null,
      "outputs": []
    },
    {
      "cell_type": "code",
      "source": [
        "merge_sort([5, 10, 4, 7, 6, 11, 3])"
      ],
      "metadata": {
        "colab": {
          "base_uri": "https://localhost:8080/"
        },
        "id": "QKYNemKBIXBf",
        "outputId": "08d1c183-0573-4b3f-8144-a48ddd21c6df"
      },
      "execution_count": null,
      "outputs": [
        {
          "output_type": "stream",
          "name": "stdout",
          "text": [
            "total time in seconds: 3.24249267578125e-05 seconds\n"
          ]
        },
        {
          "output_type": "execute_result",
          "data": {
            "text/plain": [
              "[3, 4, 5, 6, 7, 10, 11]"
            ]
          },
          "metadata": {},
          "execution_count": 77
        }
      ]
    },
    {
      "cell_type": "code",
      "source": [
        "merge_sort([5, 10, 4, 7, 6, 11, 3, 99, 200, 123, 532, 775, 292, 1, -10, 0, 99, 199, 1999])"
      ],
      "metadata": {
        "colab": {
          "base_uri": "https://localhost:8080/"
        },
        "id": "aB5Fr7nzMKo_",
        "outputId": "5ba3db8a-0abf-4d24-856b-c82563340ddc"
      },
      "execution_count": null,
      "outputs": [
        {
          "output_type": "stream",
          "name": "stdout",
          "text": [
            "total time in seconds: 9.1552734375e-05 seconds\n"
          ]
        },
        {
          "output_type": "execute_result",
          "data": {
            "text/plain": [
              "[-10, 0, 1, 3, 4, 5, 6, 7, 10, 11, 99, 99, 123, 199, 200, 292, 532, 775, 1999]"
            ]
          },
          "metadata": {},
          "execution_count": 78
        }
      ]
    },
    {
      "cell_type": "code",
      "source": [
        "quick_sort_wrap([5, 10, 4, 7, 6, 11, 3, 99, 200, 123, 532, 775, 292, 1, -10, 0, 99, 199, 1999])"
      ],
      "metadata": {
        "colab": {
          "base_uri": "https://localhost:8080/"
        },
        "id": "IFb_AWxYNgtG",
        "outputId": "fde4395b-425b-4f4b-9f90-a4388707c81b"
      },
      "execution_count": null,
      "outputs": [
        {
          "output_type": "stream",
          "name": "stdout",
          "text": [
            "total time in seconds: 4.1961669921875e-05 seconds\n"
          ]
        },
        {
          "output_type": "execute_result",
          "data": {
            "text/plain": [
              "[-10, 0, 1, 3, 4, 5, 6, 7, 10, 11, 99, 99, 123, 199, 200, 292, 532, 775, 1999]"
            ]
          },
          "metadata": {},
          "execution_count": 79
        }
      ]
    },
    {
      "cell_type": "markdown",
      "source": [
        "# Trees"
      ],
      "metadata": {
        "id": "1d6chI9XPL1c"
      }
    },
    {
      "cell_type": "code",
      "source": [
        "class Node:\n",
        "    def __init__(self, value, parent = None, left = None, right = None):\n",
        "\n",
        "        self.value = value\n",
        "        self.parent = parent\n",
        "        self.left = left\n",
        "        self.right = right\n",
        "\n",
        "    def __eq__(self, other_node):\n",
        "        return self.value == other_node.value if other_node is not None else False\n",
        "\n",
        "    def __str__(self) -> str:\n",
        "        return f\"Node containing Value: {self.value}\"\n",
        "\n",
        "    def __repr__(self):\n",
        "        return f\"Node containing Value: {self.value}\"\n",
        "\n",
        "\n",
        "class Tree:\n",
        "\n",
        "    def __init__(self, elements = []):\n",
        "\n",
        "        self.head = Node(elements[0])\n",
        "        for element in elements[1:]:\n",
        "            self.insert(element)\n",
        "\n",
        "    def insert(self, element):\n",
        "        self._insert(self.head, element)\n",
        "\n",
        "    def _insert(self, current_node, element):\n",
        "\n",
        "        if current_node.value == element:\n",
        "            return\n",
        "\n",
        "        if current_node.value > element:\n",
        "            # go to left\n",
        "            if current_node.left == None:\n",
        "                current_node.left = Node(element, parent = current_node)\n",
        "            else:\n",
        "                self._insert(current_node.left, element)\n",
        "\n",
        "        elif element > current_node.value:\n",
        "            if current_node.right == None:\n",
        "                current_node.right = Node(element, parent = current_node)\n",
        "            else:\n",
        "                self._insert(current_node.right, element)\n",
        "\n",
        "    def find(self, element):\n",
        "        return self._find(self.head, element)\n",
        "\n",
        "    def _find(self, current_node, element):\n",
        "        if current_node == None:\n",
        "            return False, None\n",
        "\n",
        "        elif current_node.value == element:\n",
        "            return True, current_node\n",
        "\n",
        "        elif element < current_node.value:\n",
        "            return self._find(current_node.left, element)\n",
        "        else:\n",
        "            return self._find(current_node.right, element)\n",
        "\n",
        "    def delete(self, element: int):\n",
        "        '''\n",
        "        if it has one child\n",
        "            - directly delete the node\n",
        "            - take the only child of this node and set its parent as deleted nodes parent and parents left or right based on the value\n",
        "\n",
        "        if it has two children - get the right most element of left leaves or left most element of right leaves and do the same as above\n",
        "        '''\n",
        "        def has_one_child(node):\n",
        "            if (node.left == None and node.right != None) or (node.right == None and node.left != None): return True\n",
        "            else: False\n",
        "\n",
        "        def is_leaf_node(node):\n",
        "            return True if node.left == None and node.right == None else False\n",
        "\n",
        "        is_found, node = self.find(element)\n",
        "\n",
        "        if is_found == False:\n",
        "            return\n",
        "\n",
        "        if is_leaf_node(node):\n",
        "            print('Deleting leaf node')\n",
        "            if node.parent:\n",
        "                if node.parent.left == node:\n",
        "                    node.parent.left = None\n",
        "                else:\n",
        "                    node.parent.right = None\n",
        "            else: # This is the root node of the tree\n",
        "                self.head = None\n",
        "\n",
        "        elif has_one_child(node):\n",
        "            print('Deleting node with only one child')\n",
        "            child = node.left if node.left is not None else node.right\n",
        "            parent = node.parent\n",
        "\n",
        "            if parent == None: # Head Node case\n",
        "                child.parent = None\n",
        "                return\n",
        "\n",
        "            child.parent = parent\n",
        "            if parent.left == node:\n",
        "                parent.left = child\n",
        "            elif parent.right == node:\n",
        "                parent.right = child\n",
        "\n",
        "        else: # Has 2 children\n",
        "            print('Deleting node with 2 children')\n",
        "            #find the right most of left side of the node\n",
        "            replace_node = node.left\n",
        "            while replace_node.right != None:\n",
        "                replace_node = replace_node.right\n",
        "\n",
        "            # if replace node has no children: no worries\n",
        "            # else if it has left children - the left child node will take the place of replace node\n",
        "\n",
        "            # Handle replace node children first\n",
        "            replace_node_left_child = replace_node.left\n",
        "            replace_node_parent = replace_node.parent\n",
        "            replace_node_parent.right = replace_node_left_child\n",
        "\n",
        "            if replace_node_left_child != None:\n",
        "                replace_node_left_child.parent = replace_node_parent\n",
        "\n",
        "            # Now lets delete the node at work rn\n",
        "\n",
        "            node_parent = node.parent\n",
        "            node_left = node.left\n",
        "            node_right = node.right\n",
        "\n",
        "            if node_parent != None:\n",
        "                if node_parent.right == node:\n",
        "                    node_parent.right = replace_node\n",
        "                elif node_parent.left == node:\n",
        "                    node_parent.left = replace_node\n",
        "            else: # Its head node\n",
        "                self.head = replace_node\n",
        "\n",
        "            replace_node.left = node_left\n",
        "            replace_node.right = node_right\n",
        "            replace_node.parent = node_parent\n",
        "\n",
        "            if replace_node.left:\n",
        "                replace_node.left.parent = replace_node\n",
        "            if replace_node.right:\n",
        "                replace_node.right.parent = replace_node\n",
        "\n",
        "    def pre_order(self):\n",
        "        self._pre_order(self.head)\n",
        "\n",
        "    def _pre_order(self, node):\n",
        "        if node == None: return\n",
        "        print(node.value)\n",
        "        self._pre_order(node.left)\n",
        "        self._pre_order(node.right)\n",
        "\n",
        "    def post_order(self):\n",
        "        self._post_order(self.head)\n",
        "\n",
        "    def _post_order(self, node):\n",
        "        if node == None: return\n",
        "        self._post_order(node.left)\n",
        "        self._post_order(node.right)\n",
        "        print(node.value)\n",
        "\n",
        "    def in_order(self):\n",
        "        self._in_order(self.head)\n",
        "\n",
        "    def _in_order(self, node):\n",
        "        if node == None: return\n",
        "        self._in_order(node.left)\n",
        "        print(node.value)\n",
        "        self._in_order(node.right)\n",
        "\n",
        "    def get_height(self):\n",
        "        return self._get_height(self.head)\n",
        "\n",
        "    def _get_height(self, node):\n",
        "        if node == None:\n",
        "            return 0\n",
        "\n",
        "        height = 1 + max(self._get_height(node.left), self._get_height(node.right))\n",
        "        return height"
      ],
      "metadata": {
        "id": "L_2yu6jDN0Jv"
      },
      "execution_count": null,
      "outputs": []
    },
    {
      "cell_type": "code",
      "source": [
        "'''\n",
        "Tree([10, 64, 4, 6, 2, 8, 9, 1, 3])\n",
        "\n",
        "          10\n",
        "        /    \\\n",
        "       4      64\n",
        "     /  \\\n",
        "    2    6\n",
        "   / \\    \\\n",
        "  1   3    8\n",
        "            \\\n",
        "             9\n",
        "\n",
        "Delete 4\n",
        "\n",
        "          10\n",
        "        /    \\\n",
        "       3      64\n",
        "     /  \\\n",
        "    2    6\n",
        "   /      \\\n",
        "  1        8\n",
        "            \\\n",
        "             9\n",
        "\n",
        "Delete 10\n",
        "\n",
        "          9\n",
        "        /   \\\n",
        "       3     64\n",
        "     /  \\\n",
        "    2    6\n",
        "   /      \\\n",
        "  1        8\n",
        "\n",
        "'''\n",
        "tree = Tree([10, 64, 4, 6, 2, 8, 9, 1, 3])"
      ],
      "metadata": {
        "id": "amEGDau2lbDL"
      },
      "execution_count": null,
      "outputs": []
    },
    {
      "cell_type": "code",
      "source": [
        "tree.get_height()"
      ],
      "metadata": {
        "colab": {
          "base_uri": "https://localhost:8080/"
        },
        "id": "Zm80HWUjr49u",
        "outputId": "7cc4699f-62e5-4125-9b0c-8ee9331622e8"
      },
      "execution_count": null,
      "outputs": [
        {
          "output_type": "execute_result",
          "data": {
            "text/plain": [
              "5"
            ]
          },
          "metadata": {},
          "execution_count": 135
        }
      ]
    },
    {
      "cell_type": "code",
      "source": [
        "tree.delete(4)\n",
        "tree.delete(10)"
      ],
      "metadata": {
        "colab": {
          "base_uri": "https://localhost:8080/"
        },
        "id": "j9UeT5LKh-Nv",
        "outputId": "2a4c145d-d505-4f0b-b39e-4af60d67aa0c"
      },
      "execution_count": null,
      "outputs": [
        {
          "output_type": "stream",
          "name": "stdout",
          "text": [
            "Deleting node with 2 children\n"
          ]
        }
      ]
    },
    {
      "cell_type": "markdown",
      "source": [
        "# Directed Graphs, graph traversal, shortest path algorithms"
      ],
      "metadata": {
        "id": "cTFGTkDhw2DO"
      }
    },
    {
      "cell_type": "code",
      "source": [
        "class Node:\n",
        "\n",
        "    def __init__(self, value, out_edges = []):\n",
        "        self.value = value\n",
        "        self.out_edges = []\n",
        "\n",
        "    def add_edge(self, edge):\n",
        "        self.out_edges.append(edge)\n",
        "\n",
        "    def __repr__(self):\n",
        "        return f\"Node: {self.value}\"\n",
        "\n",
        "    def __str__(self):\n",
        "        return f\"Node: {self.value}\"\n",
        "\n",
        "    def __eq__(self, other_node):\n",
        "        return self.value == other_node.value\n",
        "\n",
        "class Edge:\n",
        "    def __init__(self, source, dest, weight):\n",
        "        self.source = source\n",
        "        self.dest = dest\n",
        "        self.weight = weight\n",
        "\n",
        "    def __repr__(self):\n",
        "        return f\"Edge connecting {self.source.value} to {self.dest.value} with weight of {self.weight}\"\n",
        "\n",
        "class Graph:\n",
        "\n",
        "    # Weighted Directed Graph\n",
        "    def __init__(self, n_nodes, edge_array, head_node = 0):\n",
        "\n",
        "        self.nodes = [Node(i) for i in range(n_nodes)]\n",
        "\n",
        "        for edge in edge_array:\n",
        "            if len(edge) == 3:\n",
        "                source, dest, weight = edge\n",
        "            else:\n",
        "                source, dest = edge\n",
        "                weight = 1\n",
        "\n",
        "            source, dest = self.nodes[source], self.nodes[dest]\n",
        "\n",
        "            edge_obj = Edge(source, dest, weight)\n",
        "            source.out_edges.append(edge_obj)\n",
        "\n",
        "        self.head_node = self.nodes[head_node]\n",
        "\n",
        "    def __repr__(self):\n",
        "        out = 'Graph containing following nodes and edges: \\n'\n",
        "        for node in self.nodes:\n",
        "            node_str = f'Node: {node.value}, edges : ['\n",
        "            for edge in node.out_edges:\n",
        "                node_str += f'{edge.dest.value}({edge.weight}), '\n",
        "            node_str += '] \\n'\n",
        "            out += node_str\n",
        "        return out\n",
        "\n",
        "    def dfs_recursive(self):\n",
        "        self._dfs_recursive(self.head_node, 0)\n",
        "\n",
        "    def _dfs_recursive(self, node, distance_from_root, source_node = None):\n",
        "\n",
        "        if hasattr(node, 'dfs_complete') and node.dfs_complete == True:\n",
        "            return\n",
        "\n",
        "        if hasattr(node, 'dfs_visited') and node.dfs_visited == True:\n",
        "            print(\"Cycle detected\")\n",
        "            return\n",
        "\n",
        "        node.dfs_visited = True\n",
        "\n",
        "        for edge in node.out_edges:\n",
        "            edge.dfs_visited = True\n",
        "            next_node = edge.dest\n",
        "            self._dfs_recursive(next_node, distance_from_root + edge.weight, node)\n",
        "\n",
        "        node.dfs_complete = True\n",
        "        node.dfs_distance = distance_from_root\n",
        "        node.dfs_source_node = source_node\n",
        "        print(f\"{node}, Distance from source: {distance_from_root}\")\n",
        "\n",
        "    def dfs(self):\n",
        "        # Implementation of DFS using stack - with iteration\n",
        "        # With distance from head node\n",
        "\n",
        "        self.head_node.dfs_distance = 0\n",
        "        self.head_node.dfs_source_node = None\n",
        "\n",
        "        nodes_to_visit = [self.head_node] # This is a stack\n",
        "\n",
        "        while len(nodes_to_visit) > 0:\n",
        "\n",
        "            node = nodes_to_visit.pop(0)\n",
        "\n",
        "            for edge in node.out_edges:\n",
        "\n",
        "                if hasattr(edge.dest, 'dfs_complete') and edge.dest.dfs_complete == True: continue\n",
        "\n",
        "                edge.dest.dfs_source_node = node\n",
        "                edge.dest.dfs_distance = node.dfs_distance + edge.weight\n",
        "                nodes_to_visit.append(edge.dest)\n",
        "\n",
        "            node.dfs_complete = True\n",
        "\n",
        "\n",
        "    def bfs(self):\n",
        "\n",
        "        self.head_node.bfs_distance_from_source = 0\n",
        "        self.head_node.bfs_source = None\n",
        "        nodes_to_visit = [self.head_node]\n",
        "\n",
        "        while len(nodes_to_visit) > 0:\n",
        "            node = nodes_to_visit.pop(0)\n",
        "            for edge in node.out_edges:\n",
        "                if hasattr(edge.dest, 'bfs_complete') and edge.dest.bfs_complete == True: continue\n",
        "\n",
        "                edge.dest.bfs_source = node\n",
        "                edge.dest.bfs_distance_from_source = node.bfs_distance_from_source + edge.weight\n",
        "                nodes_to_visit.append(edge.dest)\n",
        "\n",
        "            node.bfs_complete = True\n",
        "            print(f'BFS: Node: {node.value}, next visit: {[i.value for i in nodes_to_visit]}')\n",
        "\n",
        "    def topological_sort()\n",
        "\n",
        "    def dijkstras(self):\n",
        "\n",
        "        # TODO: Check for cyclic connections\n",
        "\n",
        "        def get_least_weighted_edge(edges):\n",
        "            min_v = math.inf\n",
        "\n",
        "            for index, edge in enumerate(edges):\n",
        "                if edge.effective_distance < min_v:\n",
        "                    min_index = index\n",
        "                    min_v = edge.effective_distance\n",
        "\n",
        "            return min_index\n",
        "\n",
        "        edges_to_process = [] + self.head_node.out_edges\n",
        "\n",
        "        self.head_node.djk_distance = 0\n",
        "\n",
        "        for i in edges_to_process:\n",
        "            i.effective_distance = 0 + i.weight # 0 because of root node\n",
        "\n",
        "        while len(edges_to_process) > 0:\n",
        "\n",
        "            # get the node\n",
        "            # check the node has already visited and has distance from source\n",
        "            # if it has distance from source and is less than the current distance from source, continue\n",
        "            # else: update the distance from source and djk_pred to this node\n",
        "            # update all the out edges of this node with effective distance and add them to edges to process\n",
        "\n",
        "            edge_idx = get_least_weighted_edge(edges_to_process)\n",
        "            edge = edges_to_process.pop(edge_idx)\n",
        "\n",
        "            if hasattr(edge, 'djk_visited') and edge.djk_visited == True: # This is a cyclic condition - No edge should be processed more than once\n",
        "                print('Detected a cycle - continuing')\n",
        "                continue\n",
        "\n",
        "            edge.djk_visited = True\n",
        "\n",
        "            dest_node = edge.dest\n",
        "\n",
        "            if hasattr(dest_node, 'djk_distance') and dest_node.djk_distance < edge.effective_distance: # This node is already visited by other path with shorter path\n",
        "                continue\n",
        "\n",
        "            dest_node.djk_distance = edge.effective_distance\n",
        "            dest_node.djk_parent = edge.source\n",
        "\n",
        "            for dest_node_edge in dest_node.out_edges:\n",
        "                dest_node_edge.effective_distance = dest_node_edge.weight + dest_node.djk_distance\n",
        "                edges_to_process.append(dest_node_edge)\n"
      ],
      "metadata": {
        "id": "51f1XUP2nOd0"
      },
      "execution_count": 199,
      "outputs": []
    },
    {
      "cell_type": "code",
      "source": [
        "n = 8\n",
        "edge_array = [[0, 1], [1, 2], [0, 3], [3, 4], [3, 6], [3, 7], [4, 2], [5, 4], [2, 5]]\n",
        "\n",
        "'''\n",
        "# Only outgoing graph - Couldnt show the direction here; My bad :\\\n",
        "\n",
        "         0 -- 1 -- 2\n",
        "          \\       /  \\\n",
        "           3 --- 4 -- 5\n",
        "          / \\\n",
        "         6   7\n",
        "\n",
        "'''\n",
        "\n",
        "graph = Graph(n, edge_array)\n",
        "graph.dfs_recursive()"
      ],
      "metadata": {
        "id": "Fg71WP-ZbzPK",
        "colab": {
          "base_uri": "https://localhost:8080/"
        },
        "outputId": "01039925-d941-427e-c34f-566dbacea214"
      },
      "execution_count": 202,
      "outputs": [
        {
          "output_type": "stream",
          "name": "stdout",
          "text": [
            "Cycle detected\n",
            "Node: 4, Distance from source: 4\n",
            "Node: 5, Distance from source: 3\n",
            "Node: 2, Distance from source: 2\n",
            "Node: 1, Distance from source: 1\n",
            "Node: 6, Distance from source: 2\n",
            "Node: 7, Distance from source: 2\n",
            "Node: 3, Distance from source: 1\n",
            "Node: 0, Distance from source: 0\n"
          ]
        }
      ]
    },
    {
      "cell_type": "code",
      "source": [
        "# DJK shortest path\n",
        "n = 8\n",
        "edge_array = [[0, 1, 4], [1, 2, 6], [0, 3, 8], [3, 4, 4], [3, 6, 1], [3, 7, 0], [2, 4, 0], [4, 5, 7], [5, 2, 8], [4, 0, 3]]\n",
        "graph = Graph(n, edge_array)\n",
        "graph"
      ],
      "metadata": {
        "colab": {
          "base_uri": "https://localhost:8080/"
        },
        "id": "0_CeMUUj7d8t",
        "outputId": "687c0683-51fb-4b00-ccba-916f1d748007"
      },
      "execution_count": 201,
      "outputs": [
        {
          "output_type": "execute_result",
          "data": {
            "text/plain": [
              "Graph containing following nodes and edges: \n",
              "Node: 0, edges : [1(4), 3(8), ] \n",
              "Node: 1, edges : [2(6), ] \n",
              "Node: 2, edges : [4(0), ] \n",
              "Node: 3, edges : [4(4), 6(1), 7(0), ] \n",
              "Node: 4, edges : [5(7), 0(3), ] \n",
              "Node: 5, edges : [2(8), ] \n",
              "Node: 6, edges : [] \n",
              "Node: 7, edges : [] "
            ]
          },
          "metadata": {},
          "execution_count": 201
        }
      ]
    },
    {
      "cell_type": "code",
      "source": [
        "graph.dijkstras()"
      ],
      "metadata": {
        "colab": {
          "base_uri": "https://localhost:8080/"
        },
        "id": "yLeZ7eoxByIY",
        "outputId": "22a51bfa-4953-4cff-f2e9-52274d01e73a"
      },
      "execution_count": null,
      "outputs": [
        {
          "output_type": "stream",
          "name": "stdout",
          "text": [
            "This Edge: Edge connecting 0 to 1 with weight of 4, Eff Dist: 4\n",
            "['0: 8: 3', '1: 10: 2']\n",
            "This Edge: Edge connecting 0 to 3 with weight of 8, Eff Dist: 8\n",
            "['1: 10: 2', '3: 12: 4', '3: 9: 6', '3: 8: 7']\n",
            "This Edge: Edge connecting 3 to 7 with weight of 0, Eff Dist: 8\n",
            "['1: 10: 2', '3: 12: 4', '3: 9: 6']\n",
            "This Edge: Edge connecting 3 to 6 with weight of 1, Eff Dist: 9\n",
            "['1: 10: 2', '3: 12: 4']\n",
            "This Edge: Edge connecting 1 to 2 with weight of 6, Eff Dist: 10\n",
            "['3: 12: 4', '2: 10: 4']\n",
            "This Edge: Edge connecting 2 to 4 with weight of 0, Eff Dist: 10\n",
            "['3: 12: 4', '4: 17: 5', '4: 13: 0']\n",
            "This Edge: Edge connecting 3 to 4 with weight of 4, Eff Dist: 12\n",
            "This Edge: Edge connecting 4 to 0 with weight of 3, Eff Dist: 13\n",
            "This Edge: Edge connecting 4 to 5 with weight of 7, Eff Dist: 17\n",
            "['5: 25: 2']\n",
            "This Edge: Edge connecting 5 to 2 with weight of 8, Eff Dist: 25\n"
          ]
        }
      ]
    },
    {
      "cell_type": "code",
      "source": [
        "nodes_to_visit = [graph.head_node]\n",
        "graph.head_node.bfs_distance_from_source = 0\n",
        "graph.head_node.bfs_source = None\n",
        "\n",
        "while len(nodes_to_visit) > 0:\n",
        "    node = nodes_to_visit.pop(0)\n",
        "    for edge in node.out_edges:\n",
        "        if hasattr(edge.dest, 'bfs_complete') and edge.dest.bfs_complete == True: continue\n",
        "\n",
        "        edge.dest.bfs_source = node\n",
        "        edge.dest.bfs_distance_from_source = node.bfs_distance_from_source + edge.weight\n",
        "\n",
        "        dest_node = edge.dest\n",
        "        print(f\"{dest_node}, djk_eff_dist: {dest_node.djk_distance}\")\n",
        "\n",
        "        nodes_to_visit.append(dest_node)\n",
        "\n",
        "    node.bfs_complete = True"
      ],
      "metadata": {
        "colab": {
          "base_uri": "https://localhost:8080/"
        },
        "id": "eZ0WvtV_CPjU",
        "outputId": "9166de9a-30db-436c-a9b4-997c3816e16a"
      },
      "execution_count": null,
      "outputs": [
        {
          "output_type": "stream",
          "name": "stdout",
          "text": [
            "Node containing value: 1, djk_eff_dist: 4\n",
            "Node containing value: 3, djk_eff_dist: 8\n",
            "Node containing value: 2, djk_eff_dist: 9\n",
            "Node containing value: 4, djk_eff_dist: 9\n",
            "Node containing value: 6, djk_eff_dist: 9\n",
            "Node containing value: 7, djk_eff_dist: 8\n",
            "Node containing value: 5, djk_eff_dist: 16\n"
          ]
        }
      ]
    },
    {
      "cell_type": "code",
      "source": [
        "# DFS\n",
        "graph = Graph(n, edge_array)\n",
        "graph.dfs_recursive()\n",
        "for node in graph.nodes:\n",
        "    print(node.value, node.dfs_distance, node.dfs_source_node.value if node.dfs_source_node else None)"
      ],
      "metadata": {
        "colab": {
          "base_uri": "https://localhost:8080/"
        },
        "id": "bXi2OZQNlJLH",
        "outputId": "624aecd0-4644-4d3e-c835-7f752c342cb7"
      },
      "execution_count": null,
      "outputs": [
        {
          "output_type": "stream",
          "name": "stdout",
          "text": [
            "0 0 None\n",
            "1 1 0\n",
            "2 2 1\n",
            "3 1 0\n",
            "4 2 3\n",
            "5 3 4\n",
            "6 2 3\n",
            "7 2 3\n"
          ]
        }
      ]
    },
    {
      "cell_type": "code",
      "source": [
        "# DFS\n",
        "graph = Graph(n, edge_array)\n",
        "graph.dfs()\n",
        "for node in graph.nodes:\n",
        "    print(node.value, node.dfs_distance, node.dfs_source_node.value if node.dfs_source_node else None)"
      ],
      "metadata": {
        "colab": {
          "base_uri": "https://localhost:8080/"
        },
        "id": "CHBLJw0JlWXd",
        "outputId": "b4000fc6-f995-49c1-f36f-71ca29bd3be0"
      },
      "execution_count": null,
      "outputs": [
        {
          "output_type": "stream",
          "name": "stdout",
          "text": [
            "DFS: Node: 0, next visit: [1, 3]\n",
            "DFS: Node: 1, next visit: [3, 2]\n",
            "DFS: Node: 3, next visit: [2, 4, 6, 7]\n",
            "DFS: Node: 2, next visit: [4, 6, 7]\n",
            "DFS: Node: 4, next visit: [6, 7, 5]\n",
            "DFS: Node: 6, next visit: [7, 5]\n",
            "DFS: Node: 7, next visit: [5]\n",
            "DFS: Node: 5, next visit: []\n",
            "0 0 None\n",
            "1 1 0\n",
            "2 2 1\n",
            "3 1 0\n",
            "4 2 3\n",
            "5 3 4\n",
            "6 2 3\n",
            "7 2 3\n"
          ]
        }
      ]
    },
    {
      "cell_type": "code",
      "source": [
        "# BFS\n",
        "graph = Graph(n, edge_array)\n",
        "graph.bfs()"
      ],
      "metadata": {
        "colab": {
          "base_uri": "https://localhost:8080/"
        },
        "id": "f3y-Fk4-o25W",
        "outputId": "28367257-c7b6-414e-eab9-c11d460dfc4b"
      },
      "execution_count": null,
      "outputs": [
        {
          "output_type": "stream",
          "name": "stdout",
          "text": [
            "BFS: Node: 0, next visit: [1, 3]\n",
            "BFS: Node: 1, next visit: [3, 2]\n",
            "BFS: Node: 3, next visit: [2, 4, 6, 7]\n",
            "BFS: Node: 2, next visit: [4, 6, 7]\n",
            "BFS: Node: 4, next visit: [6, 7, 5]\n",
            "BFS: Node: 6, next visit: [7, 5]\n",
            "BFS: Node: 7, next visit: [5]\n",
            "BFS: Node: 5, next visit: []\n"
          ]
        }
      ]
    },
    {
      "cell_type": "code",
      "source": [
        "str([list(range(10)),list(range(10, 20))])"
      ],
      "metadata": {
        "colab": {
          "base_uri": "https://localhost:8080/",
          "height": 35
        },
        "id": "3S2TRJnW3SB4",
        "outputId": "6940ee8c-7949-443e-eb08-94c4c16333e9"
      },
      "execution_count": null,
      "outputs": [
        {
          "output_type": "execute_result",
          "data": {
            "text/plain": [
              "'[[0, 1, 2, 3, 4, 5, 6, 7, 8, 9], [10, 11, 12, 13, 14, 15, 16, 17, 18, 19]]'"
            ],
            "application/vnd.google.colaboratory.intrinsic+json": {
              "type": "string"
            }
          },
          "metadata": {},
          "execution_count": 145
        }
      ]
    },
    {
      "cell_type": "code",
      "source": [
        "nodes = list(range(8))\n",
        "[[0]*len(nodes)]*len(nodes)"
      ],
      "metadata": {
        "colab": {
          "base_uri": "https://localhost:8080/"
        },
        "id": "H-kOQA9a9zhF",
        "outputId": "511a5d88-898e-44cd-be58-bc6bec1fa0a3"
      },
      "execution_count": null,
      "outputs": [
        {
          "output_type": "execute_result",
          "data": {
            "text/plain": [
              "[[0, 0, 0, 0, 0, 0, 0, 0],\n",
              " [0, 0, 0, 0, 0, 0, 0, 0],\n",
              " [0, 0, 0, 0, 0, 0, 0, 0],\n",
              " [0, 0, 0, 0, 0, 0, 0, 0],\n",
              " [0, 0, 0, 0, 0, 0, 0, 0],\n",
              " [0, 0, 0, 0, 0, 0, 0, 0],\n",
              " [0, 0, 0, 0, 0, 0, 0, 0],\n",
              " [0, 0, 0, 0, 0, 0, 0, 0]]"
            ]
          },
          "metadata": {},
          "execution_count": 147
        }
      ]
    },
    {
      "cell_type": "code",
      "source": [
        "graph.nodes[0].out_edges\n",
        "graph.nodes[0].dfs_visited\n",
        "for i in range(len(graph.nodes)):\n",
        "    graph.nodes[i].dfs_visited = False"
      ],
      "metadata": {
        "id": "3MqC2udrjKAm"
      },
      "execution_count": 210,
      "outputs": []
    },
    {
      "cell_type": "code",
      "source": [
        "# Start at a random index, do DFS\n",
        "\n",
        "n = 8\n",
        "edge_array = [[0, 1], [1, 2], [0, 3], [3, 4], [3, 6], [3, 7], [2, 4], [4, 5], [5, 2]]\n",
        "\n",
        "'''\n",
        "# Only outgoing graph - Couldnt show the direction here; My bad :\\\n",
        "\n",
        "         0 -- 1 -- 2\n",
        "          \\       /  \\\n",
        "           3 --- 4 -- 5\n",
        "          / \\\n",
        "         6   7\n",
        "\n",
        "'''\n",
        "\n",
        "graph = Graph(n, edge_array)\n",
        "\n",
        "def dfs(node, dfs_array):\n",
        "    out_edges = node.out_edges\n",
        "\n",
        "    if hasattr(node, 'dfs_completed') and node.dfs_completed == True:\n",
        "        return\n",
        "\n",
        "    if hasattr(node, 'dfs_visited') and node.dfs_visited == True:\n",
        "        raise Exception('Cycle Detected!')\n",
        "\n",
        "\n",
        "    node.dfs_visited = True\n",
        "    for edge in out_edges:\n",
        "        dest = edge.dest\n",
        "        dfs(dest, dfs_array)\n",
        "\n",
        "    node.dfs_completed = True\n",
        "    dfs_array.append(node)\n",
        "\n",
        "dfs_array = []\n",
        "for i in range(len(graph.nodes)):\n",
        "    dfs(graph.nodes[i], dfs_array)"
      ],
      "metadata": {
        "colab": {
          "base_uri": "https://localhost:8080/",
          "height": 0
        },
        "id": "AyXQucydF5_v",
        "outputId": "19357a01-3a71-4240-cac7-53a722b70101"
      },
      "execution_count": 218,
      "outputs": [
        {
          "output_type": "error",
          "ename": "Exception",
          "evalue": "Cycle Detected!",
          "traceback": [
            "\u001b[0;31m---------------------------------------------------------------------------\u001b[0m",
            "\u001b[0;31mException\u001b[0m                                 Traceback (most recent call last)",
            "\u001b[0;32m<ipython-input-218-071afbd7fb9e>\u001b[0m in \u001b[0;36m<cell line: 38>\u001b[0;34m()\u001b[0m\n\u001b[1;32m     37\u001b[0m \u001b[0mdfs_array\u001b[0m \u001b[0;34m=\u001b[0m \u001b[0;34m[\u001b[0m\u001b[0;34m]\u001b[0m\u001b[0;34m\u001b[0m\u001b[0;34m\u001b[0m\u001b[0m\n\u001b[1;32m     38\u001b[0m \u001b[0;32mfor\u001b[0m \u001b[0mi\u001b[0m \u001b[0;32min\u001b[0m \u001b[0mrange\u001b[0m\u001b[0;34m(\u001b[0m\u001b[0mlen\u001b[0m\u001b[0;34m(\u001b[0m\u001b[0mgraph\u001b[0m\u001b[0;34m.\u001b[0m\u001b[0mnodes\u001b[0m\u001b[0;34m)\u001b[0m\u001b[0;34m)\u001b[0m\u001b[0;34m:\u001b[0m\u001b[0;34m\u001b[0m\u001b[0;34m\u001b[0m\u001b[0m\n\u001b[0;32m---> 39\u001b[0;31m     \u001b[0mdfs\u001b[0m\u001b[0;34m(\u001b[0m\u001b[0mgraph\u001b[0m\u001b[0;34m.\u001b[0m\u001b[0mnodes\u001b[0m\u001b[0;34m[\u001b[0m\u001b[0mi\u001b[0m\u001b[0;34m]\u001b[0m\u001b[0;34m,\u001b[0m \u001b[0mdfs_array\u001b[0m\u001b[0;34m)\u001b[0m\u001b[0;34m\u001b[0m\u001b[0;34m\u001b[0m\u001b[0m\n\u001b[0m",
            "\u001b[0;32m<ipython-input-218-071afbd7fb9e>\u001b[0m in \u001b[0;36mdfs\u001b[0;34m(node, dfs_array)\u001b[0m\n\u001b[1;32m     30\u001b[0m     \u001b[0;32mfor\u001b[0m \u001b[0medge\u001b[0m \u001b[0;32min\u001b[0m \u001b[0mout_edges\u001b[0m\u001b[0;34m:\u001b[0m\u001b[0;34m\u001b[0m\u001b[0;34m\u001b[0m\u001b[0m\n\u001b[1;32m     31\u001b[0m         \u001b[0mdest\u001b[0m \u001b[0;34m=\u001b[0m \u001b[0medge\u001b[0m\u001b[0;34m.\u001b[0m\u001b[0mdest\u001b[0m\u001b[0;34m\u001b[0m\u001b[0;34m\u001b[0m\u001b[0m\n\u001b[0;32m---> 32\u001b[0;31m         \u001b[0mdfs\u001b[0m\u001b[0;34m(\u001b[0m\u001b[0mdest\u001b[0m\u001b[0;34m,\u001b[0m \u001b[0mdfs_array\u001b[0m\u001b[0;34m)\u001b[0m\u001b[0;34m\u001b[0m\u001b[0;34m\u001b[0m\u001b[0m\n\u001b[0m\u001b[1;32m     33\u001b[0m \u001b[0;34m\u001b[0m\u001b[0m\n\u001b[1;32m     34\u001b[0m     \u001b[0mnode\u001b[0m\u001b[0;34m.\u001b[0m\u001b[0mdfs_completed\u001b[0m \u001b[0;34m=\u001b[0m \u001b[0;32mTrue\u001b[0m\u001b[0;34m\u001b[0m\u001b[0;34m\u001b[0m\u001b[0m\n",
            "\u001b[0;32m<ipython-input-218-071afbd7fb9e>\u001b[0m in \u001b[0;36mdfs\u001b[0;34m(node, dfs_array)\u001b[0m\n\u001b[1;32m     30\u001b[0m     \u001b[0;32mfor\u001b[0m \u001b[0medge\u001b[0m \u001b[0;32min\u001b[0m \u001b[0mout_edges\u001b[0m\u001b[0;34m:\u001b[0m\u001b[0;34m\u001b[0m\u001b[0;34m\u001b[0m\u001b[0m\n\u001b[1;32m     31\u001b[0m         \u001b[0mdest\u001b[0m \u001b[0;34m=\u001b[0m \u001b[0medge\u001b[0m\u001b[0;34m.\u001b[0m\u001b[0mdest\u001b[0m\u001b[0;34m\u001b[0m\u001b[0;34m\u001b[0m\u001b[0m\n\u001b[0;32m---> 32\u001b[0;31m         \u001b[0mdfs\u001b[0m\u001b[0;34m(\u001b[0m\u001b[0mdest\u001b[0m\u001b[0;34m,\u001b[0m \u001b[0mdfs_array\u001b[0m\u001b[0;34m)\u001b[0m\u001b[0;34m\u001b[0m\u001b[0;34m\u001b[0m\u001b[0m\n\u001b[0m\u001b[1;32m     33\u001b[0m \u001b[0;34m\u001b[0m\u001b[0m\n\u001b[1;32m     34\u001b[0m     \u001b[0mnode\u001b[0m\u001b[0;34m.\u001b[0m\u001b[0mdfs_completed\u001b[0m \u001b[0;34m=\u001b[0m \u001b[0;32mTrue\u001b[0m\u001b[0;34m\u001b[0m\u001b[0;34m\u001b[0m\u001b[0m\n",
            "\u001b[0;32m<ipython-input-218-071afbd7fb9e>\u001b[0m in \u001b[0;36mdfs\u001b[0;34m(node, dfs_array)\u001b[0m\n\u001b[1;32m     30\u001b[0m     \u001b[0;32mfor\u001b[0m \u001b[0medge\u001b[0m \u001b[0;32min\u001b[0m \u001b[0mout_edges\u001b[0m\u001b[0;34m:\u001b[0m\u001b[0;34m\u001b[0m\u001b[0;34m\u001b[0m\u001b[0m\n\u001b[1;32m     31\u001b[0m         \u001b[0mdest\u001b[0m \u001b[0;34m=\u001b[0m \u001b[0medge\u001b[0m\u001b[0;34m.\u001b[0m\u001b[0mdest\u001b[0m\u001b[0;34m\u001b[0m\u001b[0;34m\u001b[0m\u001b[0m\n\u001b[0;32m---> 32\u001b[0;31m         \u001b[0mdfs\u001b[0m\u001b[0;34m(\u001b[0m\u001b[0mdest\u001b[0m\u001b[0;34m,\u001b[0m \u001b[0mdfs_array\u001b[0m\u001b[0;34m)\u001b[0m\u001b[0;34m\u001b[0m\u001b[0;34m\u001b[0m\u001b[0m\n\u001b[0m\u001b[1;32m     33\u001b[0m \u001b[0;34m\u001b[0m\u001b[0m\n\u001b[1;32m     34\u001b[0m     \u001b[0mnode\u001b[0m\u001b[0;34m.\u001b[0m\u001b[0mdfs_completed\u001b[0m \u001b[0;34m=\u001b[0m \u001b[0;32mTrue\u001b[0m\u001b[0;34m\u001b[0m\u001b[0;34m\u001b[0m\u001b[0m\n",
            "\u001b[0;32m<ipython-input-218-071afbd7fb9e>\u001b[0m in \u001b[0;36mdfs\u001b[0;34m(node, dfs_array)\u001b[0m\n\u001b[1;32m     30\u001b[0m     \u001b[0;32mfor\u001b[0m \u001b[0medge\u001b[0m \u001b[0;32min\u001b[0m \u001b[0mout_edges\u001b[0m\u001b[0;34m:\u001b[0m\u001b[0;34m\u001b[0m\u001b[0;34m\u001b[0m\u001b[0m\n\u001b[1;32m     31\u001b[0m         \u001b[0mdest\u001b[0m \u001b[0;34m=\u001b[0m \u001b[0medge\u001b[0m\u001b[0;34m.\u001b[0m\u001b[0mdest\u001b[0m\u001b[0;34m\u001b[0m\u001b[0;34m\u001b[0m\u001b[0m\n\u001b[0;32m---> 32\u001b[0;31m         \u001b[0mdfs\u001b[0m\u001b[0;34m(\u001b[0m\u001b[0mdest\u001b[0m\u001b[0;34m,\u001b[0m \u001b[0mdfs_array\u001b[0m\u001b[0;34m)\u001b[0m\u001b[0;34m\u001b[0m\u001b[0;34m\u001b[0m\u001b[0m\n\u001b[0m\u001b[1;32m     33\u001b[0m \u001b[0;34m\u001b[0m\u001b[0m\n\u001b[1;32m     34\u001b[0m     \u001b[0mnode\u001b[0m\u001b[0;34m.\u001b[0m\u001b[0mdfs_completed\u001b[0m \u001b[0;34m=\u001b[0m \u001b[0;32mTrue\u001b[0m\u001b[0;34m\u001b[0m\u001b[0;34m\u001b[0m\u001b[0m\n",
            "\u001b[0;32m<ipython-input-218-071afbd7fb9e>\u001b[0m in \u001b[0;36mdfs\u001b[0;34m(node, dfs_array)\u001b[0m\n\u001b[1;32m     30\u001b[0m     \u001b[0;32mfor\u001b[0m \u001b[0medge\u001b[0m \u001b[0;32min\u001b[0m \u001b[0mout_edges\u001b[0m\u001b[0;34m:\u001b[0m\u001b[0;34m\u001b[0m\u001b[0;34m\u001b[0m\u001b[0m\n\u001b[1;32m     31\u001b[0m         \u001b[0mdest\u001b[0m \u001b[0;34m=\u001b[0m \u001b[0medge\u001b[0m\u001b[0;34m.\u001b[0m\u001b[0mdest\u001b[0m\u001b[0;34m\u001b[0m\u001b[0;34m\u001b[0m\u001b[0m\n\u001b[0;32m---> 32\u001b[0;31m         \u001b[0mdfs\u001b[0m\u001b[0;34m(\u001b[0m\u001b[0mdest\u001b[0m\u001b[0;34m,\u001b[0m \u001b[0mdfs_array\u001b[0m\u001b[0;34m)\u001b[0m\u001b[0;34m\u001b[0m\u001b[0;34m\u001b[0m\u001b[0m\n\u001b[0m\u001b[1;32m     33\u001b[0m \u001b[0;34m\u001b[0m\u001b[0m\n\u001b[1;32m     34\u001b[0m     \u001b[0mnode\u001b[0m\u001b[0;34m.\u001b[0m\u001b[0mdfs_completed\u001b[0m \u001b[0;34m=\u001b[0m \u001b[0;32mTrue\u001b[0m\u001b[0;34m\u001b[0m\u001b[0;34m\u001b[0m\u001b[0m\n",
            "\u001b[0;32m<ipython-input-218-071afbd7fb9e>\u001b[0m in \u001b[0;36mdfs\u001b[0;34m(node, dfs_array)\u001b[0m\n\u001b[1;32m     24\u001b[0m \u001b[0;34m\u001b[0m\u001b[0m\n\u001b[1;32m     25\u001b[0m     \u001b[0;32mif\u001b[0m \u001b[0mhasattr\u001b[0m\u001b[0;34m(\u001b[0m\u001b[0mnode\u001b[0m\u001b[0;34m,\u001b[0m \u001b[0;34m'dfs_visited'\u001b[0m\u001b[0;34m)\u001b[0m \u001b[0;32mand\u001b[0m \u001b[0mnode\u001b[0m\u001b[0;34m.\u001b[0m\u001b[0mdfs_visited\u001b[0m \u001b[0;34m==\u001b[0m \u001b[0;32mTrue\u001b[0m\u001b[0;34m:\u001b[0m\u001b[0;34m\u001b[0m\u001b[0;34m\u001b[0m\u001b[0m\n\u001b[0;32m---> 26\u001b[0;31m         \u001b[0;32mraise\u001b[0m \u001b[0mException\u001b[0m\u001b[0;34m(\u001b[0m\u001b[0;34m'Cycle Detected!'\u001b[0m\u001b[0;34m)\u001b[0m\u001b[0;34m\u001b[0m\u001b[0;34m\u001b[0m\u001b[0m\n\u001b[0m\u001b[1;32m     27\u001b[0m \u001b[0;34m\u001b[0m\u001b[0m\n\u001b[1;32m     28\u001b[0m \u001b[0;34m\u001b[0m\u001b[0m\n",
            "\u001b[0;31mException\u001b[0m: Cycle Detected!"
          ]
        }
      ]
    },
    {
      "cell_type": "code",
      "source": [
        "dfs_array"
      ],
      "metadata": {
        "colab": {
          "base_uri": "https://localhost:8080/"
        },
        "id": "t7qTWvOxF6D7",
        "outputId": "d895dee3-edda-428d-9c01-adec2acc0399"
      },
      "execution_count": 216,
      "outputs": [
        {
          "output_type": "execute_result",
          "data": {
            "text/plain": [
              "[Node: 5, Node: 4, Node: 2, Node: 1, Node: 6, Node: 7, Node: 3, Node: 0]"
            ]
          },
          "metadata": {},
          "execution_count": 216
        }
      ]
    },
    {
      "cell_type": "code",
      "source": [],
      "metadata": {
        "id": "AiHP0LDZF6IM"
      },
      "execution_count": null,
      "outputs": []
    },
    {
      "cell_type": "code",
      "source": [],
      "metadata": {
        "id": "4QkwuaG0F6Mg"
      },
      "execution_count": null,
      "outputs": []
    },
    {
      "cell_type": "markdown",
      "source": [
        "# Undirected Graphs - Minimum Spanning Tree and Min Heap"
      ],
      "metadata": {
        "id": "ASNNbctZjKns"
      }
    },
    {
      "cell_type": "code",
      "source": [
        "# class Node: Remains the same as above\n",
        "from functools import total_ordering\n",
        "\n",
        "class MinHeap:\n",
        "\n",
        "    def __init__(self, elements = []):\n",
        "        self.elements = []\n",
        "        for i in elements: self.insert(i)\n",
        "\n",
        "    def swap(self, i1, i2):\n",
        "        tmp = self.elements[i1]\n",
        "        self.elements[i1] = self.elements[i2]\n",
        "        self.elements[i2] = tmp\n",
        "\n",
        "    def insert(self, element):\n",
        "\n",
        "        self.elements.append(element)\n",
        "        current_pos = len(self.elements) - 1 # Last Index of the array\n",
        "        parent_pos = (current_pos - 1)//2\n",
        "\n",
        "        while parent_pos >= 0 and self.elements[parent_pos] > self.elements[current_pos]:\n",
        "            self.swap(current_pos, parent_pos)\n",
        "            current_pos = parent_pos\n",
        "            parent_pos = (current_pos - 1)//2\n",
        "\n",
        "\n",
        "    def pop(self): # Pops the minimum value from the heap, and re arranges the elements\n",
        "\n",
        "        if len(self.elements) == 0:\n",
        "            return None\n",
        "\n",
        "        least = self.elements[0]\n",
        "        last_element = self.elements.pop(-1)\n",
        "        if len(self.elements) == 0:\n",
        "            return least\n",
        "\n",
        "        self.elements[0] = last_element\n",
        "\n",
        "        k = 0; c1, c2 = 2*k + 1, 2*k + 2\n",
        "        new_len = len(self.elements)\n",
        "\n",
        "        while c1 < new_len or c2 < new_len:\n",
        "            # get both children\n",
        "            # find the minimum of them\n",
        "            # if this minimum is less than parent - swap\n",
        "\n",
        "            child_1 = self.elements[c1]\n",
        "            child_2 = self.elements[c2] if c2 < new_len else Node(math.inf)\n",
        "\n",
        "            min_child = child_1 if child_1 <= child_2 else child_2\n",
        "\n",
        "            if min_child < self.elements[k]:\n",
        "\n",
        "                min_child_index = c1 if child_1 == min_child else c2\n",
        "                self.swap(k, min_child_index)\n",
        "                k = min_child_index\n",
        "                c1, c2 = 2*k + 1, 2*k + 2\n",
        "\n",
        "            else:\n",
        "                break\n",
        "\n",
        "        return least\n",
        "\n",
        "@total_ordering\n",
        "class Node:\n",
        "    def __init__(self, value, out_edges = []):\n",
        "        self.value = value\n",
        "        self.edges = []\n",
        "\n",
        "    def add_edge(self, edge):\n",
        "        self.edges.append(edge)\n",
        "\n",
        "    def __repr__(self):\n",
        "        return f\"Node: {self.value}\"\n",
        "\n",
        "    def __eq__(self, other_node):\n",
        "        if not isinstance(other_node, Node): return False\n",
        "        return self.value == other_node.value\n",
        "\n",
        "    def __lt__(self, other_node):\n",
        "        if not isinstance(other_node, Node): return False\n",
        "        return self.value < other_node.value\n",
        "\n",
        "    def __hash__(self):\n",
        "        return hash((self.value))\n",
        "\n",
        "@total_ordering\n",
        "class Edge:\n",
        "    def __init__(self, nodes: tuple, weight):\n",
        "       self.nodes = nodes\n",
        "       self.weight = weight\n",
        "\n",
        "    def __repr__(self):\n",
        "        return f\"Undirected Edge connecting {(self.nodes[0].value, self.nodes[1].value)} with weight of {self.weight}\"\n",
        "\n",
        "    def __eq__(self, other_edge):\n",
        "        if not isinstance(other_edge, Edge): return False\n",
        "        return self.weight == other_edge.weight\n",
        "\n",
        "    def __lt__(self, other_edge):\n",
        "        if not isinstance(other_edge, Edge): return False\n",
        "        return self.weight < other_edge.weight\n",
        "\n",
        "\n",
        "class UnDirectedGraph:\n",
        "\n",
        "    def __init__(self, n_nodes, edges = []):\n",
        "\n",
        "        self.nodes = [Node(i) for i in range(n_nodes)]\n",
        "        self.edges = []\n",
        "\n",
        "        for edge in edges:\n",
        "            a, b = self.nodes[edge[0]], self.nodes[edge[1]]\n",
        "            edge_obj = Edge((a, b), 1 if len(edge) == 2 else edge[-1])\n",
        "            a.add_edge(edge_obj)\n",
        "            b.add_edge(edge_obj)\n",
        "            self.edges.append(edge_obj)\n",
        "\n",
        "        self.head_node = self.nodes[0]\n",
        "\n",
        "    def __repr__(self):\n",
        "        # Return the adjecency matrix\n",
        "        adjecency_matrix = []\n",
        "        for index in range(len(self.nodes)):\n",
        "            # breakpoint()\n",
        "            node = self.nodes[index]\n",
        "            edges = node.edges\n",
        "            adj_mat = [0]*len(self.nodes)\n",
        "\n",
        "            for edge in edges:\n",
        "                edge_nodes = edge.nodes\n",
        "                other_node = edge_nodes[0] if edge_nodes[0] != node else edge_nodes[1]\n",
        "                adj_mat[other_node.value] = edge.weight\n",
        "            adjecency_matrix.append(adj_mat)\n",
        "\n",
        "        out = '   ' + '  '.join(map(str, list(range(len(self.nodes))))) # '   0  1  2  3  4  5  6  7  8'\n",
        "        for index, adj in enumerate(adjecency_matrix):\n",
        "            this_str = f'{index}  ' + '  '.join(map(str, adj))\n",
        "            out += '\\n'\n",
        "            out += this_str\n",
        "        return out\n",
        "\n",
        "    def prims(self): # Minimum Spanning Tree Algorithm\n",
        "\n",
        "        '''\n",
        "        Works only on Undirected Graphs\n",
        "\n",
        "        Covers all nodes in the tree\n",
        "        Total weight of the edges of the resultant tree is minimum\n",
        "        Will not have cycles\n",
        "\n",
        "        start with root node\n",
        "        chooses the least weighted edge from the root node\n",
        "        merges these 2 nodes into one\n",
        "\n",
        "        Now chooses least weighted edge of all the edges from both the nodes\n",
        "        merges this node to the above merged cluster\n",
        "\n",
        "        repeat the process until all the nodes are covered\n",
        "        '''\n",
        "\n",
        "        class Cluster:\n",
        "\n",
        "            def __init__(self):\n",
        "                self.all_nodes = []\n",
        "                self.all_edges = []\n",
        "                self.msp_edges = []\n",
        "\n",
        "                # Lets make it little smarter\n",
        "                self.l1 = None\n",
        "                self.l2 = None\n",
        "\n",
        "            def add_node(self, node):\n",
        "\n",
        "                if hasattr(node, 'prims_visited') and node.prims_visited == True:\n",
        "                    return\n",
        "\n",
        "                self.all_nodes.append(node)\n",
        "\n",
        "                total_edges_added = 0\n",
        "                for edge in node.edges:\n",
        "                    total_edges_added += self.add_edge_to_pool(node, edge)\n",
        "\n",
        "                if total_edges_added == 0: # That means no new edge is added and we have to get next least edge from the pool and update l2, as it will be none\n",
        "\n",
        "                    edge = self.get_min_out_edge_from_pool(self.all_edges)\n",
        "\n",
        "                    if self.l1 == None: # Make sure that l1 is never None, prioratize l1 first and follow it up by l2\n",
        "                        self.l1 = edge\n",
        "                        edge = None\n",
        "\n",
        "                    elif self.l1.weight > edge.weight:\n",
        "                        self.l1 = edge\n",
        "                        edge = None\n",
        "\n",
        "                    if edge == None: # if l1 is none and edge we popped above is assigned to l1, get a new edge from the pool and assign it to l2\n",
        "                        edge = self.get_min_out_edge_from_pool(self.all_edges)\n",
        "\n",
        "                    self.l2 = edge\n",
        "\n",
        "                node.prims_visited = True\n",
        "\n",
        "            def add_edge_to_pool(self, this_node, edge):\n",
        "                # this node is the node that is being added to the cluster\n",
        "                # edge is the edge that is going to other nodes\n",
        "                # The goal of the function is to add edge that is connecting to a node that is out of existing cluster\n",
        "\n",
        "                other_node = edge.nodes[0] if this_node != edge.nodes[0] else edge.nodes[1]\n",
        "\n",
        "                if hasattr(other_node, 'prims_visited') and other_node.prims_visited == True:\n",
        "                    return 0\n",
        "                else: # this edge is connecting to other node that is not part of the cluster, so add it\n",
        "\n",
        "                    # Update L1 and L2, so as to avoid the loop of choosing the minimum edge\n",
        "                    if self.l1 == None:\n",
        "                        self.l1 = edge\n",
        "                    elif edge.weight < self.l1.weight:\n",
        "                        if self.l2 != None:\n",
        "                            self.all_edges.append(self.l2)\n",
        "                        self.l2 = self.l1\n",
        "                        self.l1 = edge\n",
        "                    elif self.l2 == None:\n",
        "                        self.l2 = edge\n",
        "                    elif edge.weight < self.l2.weight:\n",
        "                        self.all_edges.append(self.l2)\n",
        "                        self.l2 = edge\n",
        "                    else: # Only add to the pool if its greater than l1 and l2, so that in future, if required we might use it... else not required as it already maintained in either l1 or l2\n",
        "                        self.all_edges.append(edge)\n",
        "                    return 1\n",
        "\n",
        "            def get_min_out_edge(self):\n",
        "\n",
        "                out_edge = self.l1\n",
        "                self.l1 = self.l2\n",
        "                self.l2 = None\n",
        "                return out_edge\n",
        "\n",
        "            def get_min_out_edge_from_pool(self, edges):\n",
        "                min_v = math.inf\n",
        "\n",
        "                if len(edges) == 0:\n",
        "                   return None\n",
        "\n",
        "                for index, edge in enumerate(edges):\n",
        "                    if edge.weight < min_v:\n",
        "                        min_index = index\n",
        "                        min_v = edge.weight\n",
        "\n",
        "                min_out_edge = self.all_edges.pop(min_index)\n",
        "                assert min_out_edge.weight >= self.l1.weight # just for checking, if this fails, all the logic we have written failed, need to check the logic again\n",
        "                return min_out_edge\n",
        "\n",
        "        cluster = Cluster()\n",
        "        cluster.add_node(self.head_node)\n",
        "\n",
        "        while len(cluster.all_nodes) < len(self.nodes): # Loop until all the nodes are covered\n",
        "            edge_to_process = cluster.get_min_out_edge()\n",
        "            cluster.add_node(edge_to_process.nodes[0])\n",
        "            cluster.add_node(edge_to_process.nodes[1])\n",
        "            cluster.msp_edges.append(edge_to_process)\n",
        "\n",
        "        return cluster\n",
        "\n",
        "    def prims_with_heap(self):\n",
        "\n",
        "        class Cluster:\n",
        "            def __init__(self):\n",
        "                self.all_nodes = []\n",
        "                self.msp_edges = []\n",
        "                self.edge_heap = MinHeap()\n",
        "\n",
        "            def add_node(self, node):\n",
        "                # check if prims flag is set, if set, return, else add them to all_nodes\n",
        "                # add nodes to all_nodes cluster\n",
        "                # process all edges saperately - check for inter cluster connecting edges and avoid adding them\n",
        "\n",
        "                if hasattr(node, 'prims_visited') and node.prims_visited == True: return\n",
        "\n",
        "                node.prims_visited = True\n",
        "                self.all_nodes.append(node)\n",
        "\n",
        "                for edge in node.edges:\n",
        "                    other_node = edge.nodes[0] if edge.nodes[0] != node else edge.nodes[1]\n",
        "\n",
        "                    if hasattr(other_node, 'prims_visited') and other_node.prims_visited == True:\n",
        "                        continue\n",
        "\n",
        "                    self.edge_heap.insert(edge)\n",
        "\n",
        "            def process_edge(self, edge):\n",
        "                edge_nodes = edge.nodes\n",
        "                node_to_process = None\n",
        "\n",
        "                for node in edge_nodes:\n",
        "                    if hasattr(node, 'prims_visited') and node.prims_visited == True: continue\n",
        "                    node_to_process = node\n",
        "                    break\n",
        "\n",
        "                if node_to_process == None: return\n",
        "\n",
        "                self.add_node(node_to_process)\n",
        "                self.msp_edges.append(edge)\n",
        "\n",
        "            def get_next_edge_to_process(self):\n",
        "                return self.edge_heap.pop()\n",
        "\n",
        "\n",
        "        cluster = Cluster()\n",
        "        cluster.add_node(self.head_node)\n",
        "\n",
        "        while len(cluster.all_nodes) < len(self.nodes):\n",
        "            edge_to_process = cluster.get_next_edge_to_process()\n",
        "            if edge_to_process == None:\n",
        "                print('MSP Not found, not all nodes are connected')\n",
        "                break\n",
        "            cluster.process_edge(edge_to_process)\n",
        "        return cluster\n",
        "\n",
        "    def kruskal(self):\n",
        "\n",
        "        edges_heap = MinHeap()\n",
        "        # Insert all edges\n",
        "        for edge in self.edges: edges_heap.insert(edge)\n",
        "        clusters = []\n",
        "        msp_edges = []\n",
        "\n",
        "        while True:\n",
        "\n",
        "            edge_to_process = edges_heap.pop()\n",
        "\n",
        "            if edge_to_process == None:\n",
        "                breakpoint()\n",
        "                print('All edges are processed and no more edges to process, the graph is not fully connected')\n",
        "                break\n",
        "\n",
        "            print(edge_to_process)\n",
        "            n1, n2 = edge_to_process.nodes\n",
        "            n1_ci = None\n",
        "            n2_ci = None\n",
        "\n",
        "            for cluster_idx in range(len(clusters)):\n",
        "                if n1 in clusters[cluster_idx]:\n",
        "                    n1_ci = cluster_idx\n",
        "                if n2 in clusters[cluster_idx]:\n",
        "                    n2_ci = cluster_idx\n",
        "\n",
        "            if n1_ci == n2_ci and n1_ci != None:\n",
        "                continue # both the nodes are already part of a cluster\n",
        "            elif n1_ci == n2_ci == None:\n",
        "                # Form a cluster and add the edge to msp_edges\n",
        "                cluster = set(edge_to_process.nodes)\n",
        "                clusters.append(cluster)\n",
        "                msp_edges.append(edge_to_process)\n",
        "            elif n1_ci == None and n2_ci >= 0:\n",
        "                clusters[n2_ci].add(n1)\n",
        "                msp_edges.append(edge_to_process)\n",
        "            elif n2_ci == None and n1_ci >= 0:\n",
        "                clusters[n1_ci].add(n2)\n",
        "                msp_edges.append(edge_to_process)\n",
        "            elif n1_ci != None and n2_ci != None and n1_ci >= 0 and n2_ci >= 0:\n",
        "\n",
        "                if n1_ci > n2_ci:\n",
        "                    c_to_merge = clusters.pop(n1_ci)\n",
        "                    cl = clusters[n2_ci]\n",
        "                    clusters[n2_ci] = cl.union(c_to_merge)\n",
        "                else:\n",
        "                    c_to_merge = clusters.pop(n2_ci)\n",
        "                    cl = clusters[n1_ci]\n",
        "                    clusters[n1_ci] = cl.union(c_to_merge)\n",
        "                msp_edges.append(edge_to_process)\n",
        "\n",
        "            if len(clusters[0]) == len(self.nodes):\n",
        "                break\n",
        "\n",
        "        return msp_edges"
      ],
      "metadata": {
        "id": "NQxXA0XP-YON"
      },
      "execution_count": 183,
      "outputs": []
    },
    {
      "cell_type": "code",
      "source": [
        "# Prims\n",
        "n = 8\n",
        "\n",
        "'''\n",
        "0 A\n",
        "1 B\n",
        "2 C\n",
        "3 D\n",
        "4 E\n",
        "5 F\n",
        "6 G\n",
        "7 H\n",
        "\n",
        "    A -4- B -6- C\n",
        "    |          / \\\n",
        "    8         0   8\n",
        "    |        /     \\\n",
        "    D --4-- E --7-- F\n",
        "   / \\\n",
        "  1   0\n",
        " /     \\\n",
        "G       H\n",
        "\n",
        "'''\n",
        "\n",
        "edge_array = [[0, 1, 4], [1, 2, 6], [0, 3, 8], [3, 4, 4], [3, 6, 1], [3, 7, 0], [2, 4, 0], [4, 5, 7], [5, 2, 8]]\n",
        "graph = UnDirectedGraph(n, edge_array)\n",
        "graph"
      ],
      "metadata": {
        "colab": {
          "base_uri": "https://localhost:8080/"
        },
        "id": "LrQKjbB3As_0",
        "outputId": "1ec3de6a-b698-4d19-ac87-401a457b8209"
      },
      "execution_count": 184,
      "outputs": [
        {
          "output_type": "execute_result",
          "data": {
            "text/plain": [
              "   0  1  2  3  4  5  6  7\n",
              "0  0  4  0  8  0  0  0  0\n",
              "1  4  0  6  0  0  0  0  0\n",
              "2  0  6  0  0  0  8  0  0\n",
              "3  8  0  0  0  4  0  1  0\n",
              "4  0  0  0  4  0  7  0  0\n",
              "5  0  0  8  0  7  0  0  0\n",
              "6  0  0  0  1  0  0  0  0\n",
              "7  0  0  0  0  0  0  0  0"
            ]
          },
          "metadata": {},
          "execution_count": 184
        }
      ]
    },
    {
      "cell_type": "code",
      "source": [
        "msp_edges = graph.kruskal()"
      ],
      "metadata": {
        "id": "Ds2ZlS3aBRpI",
        "colab": {
          "base_uri": "https://localhost:8080/"
        },
        "outputId": "4b7d7ba2-504c-4b30-909b-424695d4369f"
      },
      "execution_count": 185,
      "outputs": [
        {
          "output_type": "stream",
          "name": "stdout",
          "text": [
            "Undirected Edge connecting (3, 7) with weight of 0\n",
            "Undirected Edge connecting (2, 4) with weight of 0\n",
            "Undirected Edge connecting (3, 6) with weight of 1\n",
            "Undirected Edge connecting (0, 1) with weight of 4\n",
            "Undirected Edge connecting (3, 4) with weight of 4\n",
            "Undirected Edge connecting (1, 2) with weight of 6\n",
            "Undirected Edge connecting (4, 5) with weight of 7\n"
          ]
        }
      ]
    },
    {
      "cell_type": "code",
      "source": [
        "graph.prims_with_heap().msp_edges"
      ],
      "metadata": {
        "colab": {
          "base_uri": "https://localhost:8080/"
        },
        "id": "PBfFbgGuBVdU",
        "outputId": "ef8677f4-1073-4fdf-8fe3-b1393badc3d8"
      },
      "execution_count": 187,
      "outputs": [
        {
          "output_type": "execute_result",
          "data": {
            "text/plain": [
              "[Undirected Edge connecting (0, 1) with weight of 4,\n",
              " Undirected Edge connecting (1, 2) with weight of 6,\n",
              " Undirected Edge connecting (2, 4) with weight of 0,\n",
              " Undirected Edge connecting (3, 4) with weight of 4,\n",
              " Undirected Edge connecting (3, 7) with weight of 0,\n",
              " Undirected Edge connecting (3, 6) with weight of 1,\n",
              " Undirected Edge connecting (4, 5) with weight of 7]"
            ]
          },
          "metadata": {},
          "execution_count": 187
        }
      ]
    },
    {
      "cell_type": "code",
      "source": [
        "a = [4, 7, 3, 7, 4, 8, 12, 33, -4, 7, 64, 2, 11, 3]\n",
        "nodes = [Node(i) for i in a]\n",
        "heap = MinHeap(nodes)"
      ],
      "metadata": {
        "id": "wX_R9r6RhTx2"
      },
      "execution_count": 117,
      "outputs": []
    },
    {
      "cell_type": "code",
      "source": [
        "while len(heap.elements) > 0:\n",
        "    latest_node = heap.pop()\n",
        "    print(latest_node)"
      ],
      "metadata": {
        "colab": {
          "base_uri": "https://localhost:8080/"
        },
        "id": "WUV-iyCHi0kI",
        "outputId": "f028a855-e376-4b5f-d3f2-7fb5b3edaa17"
      },
      "execution_count": 118,
      "outputs": [
        {
          "output_type": "stream",
          "name": "stdout",
          "text": [
            "Node: -4\n",
            "Node: 2\n",
            "Node: 3\n",
            "Node: 3\n",
            "Node: 4\n",
            "Node: 4\n",
            "Node: 7\n",
            "Node: 7\n",
            "Node: 7\n",
            "Node: 8\n",
            "Node: 11\n",
            "Node: 12\n",
            "Node: 33\n",
            "Node: 64\n"
          ]
        }
      ]
    },
    {
      "cell_type": "code",
      "source": [
        "nodes = set([Node(i) for i in range(3)])"
      ],
      "metadata": {
        "id": "zZ5GlgL0JfA3"
      },
      "execution_count": 125,
      "outputs": []
    },
    {
      "cell_type": "code",
      "source": [
        "nodes"
      ],
      "metadata": {
        "colab": {
          "base_uri": "https://localhost:8080/"
        },
        "id": "hPmNIhzgYUbJ",
        "outputId": "79585ea5-0fa2-43ec-d8df-79ec55b30860"
      },
      "execution_count": 126,
      "outputs": [
        {
          "output_type": "execute_result",
          "data": {
            "text/plain": [
              "{Node: 0, Node: 1, Node: 2}"
            ]
          },
          "metadata": {},
          "execution_count": 126
        }
      ]
    },
    {
      "cell_type": "code",
      "source": [
        "nodes.add(Node(0))"
      ],
      "metadata": {
        "id": "yalcvGZ1YVEN"
      },
      "execution_count": 127,
      "outputs": []
    },
    {
      "cell_type": "code",
      "source": [
        "nodes"
      ],
      "metadata": {
        "colab": {
          "base_uri": "https://localhost:8080/"
        },
        "id": "b2xMuYNPYXE-",
        "outputId": "ed00e883-5529-4650-d071-b3504e746eee"
      },
      "execution_count": 128,
      "outputs": [
        {
          "output_type": "execute_result",
          "data": {
            "text/plain": [
              "{Node: 0, Node: 1, Node: 2}"
            ]
          },
          "metadata": {},
          "execution_count": 128
        }
      ]
    },
    {
      "cell_type": "code",
      "source": [
        "n1 = set([Node(i) for i in range(3)])\n",
        "n2 = set([Node(i) for i in range(2, 4)])"
      ],
      "metadata": {
        "id": "xH40qfd4YXq2"
      },
      "execution_count": 134,
      "outputs": []
    },
    {
      "cell_type": "code",
      "source": [
        "n1.union(n2)"
      ],
      "metadata": {
        "colab": {
          "base_uri": "https://localhost:8080/"
        },
        "id": "rkMM066bYb4y",
        "outputId": "9671a39e-efce-47ae-9662-85a29b7bd34c"
      },
      "execution_count": 135,
      "outputs": [
        {
          "output_type": "execute_result",
          "data": {
            "text/plain": [
              "{Node: 0, Node: 1, Node: 2, Node: 3}"
            ]
          },
          "metadata": {},
          "execution_count": 135
        }
      ]
    },
    {
      "cell_type": "code",
      "source": [
        "Node(0) in n1"
      ],
      "metadata": {
        "colab": {
          "base_uri": "https://localhost:8080/"
        },
        "id": "ofVwPBKZYdAV",
        "outputId": "b539ba14-fd96-45a2-f2a6-d63f3be9c4e4"
      },
      "execution_count": 137,
      "outputs": [
        {
          "output_type": "execute_result",
          "data": {
            "text/plain": [
              "True"
            ]
          },
          "metadata": {},
          "execution_count": 137
        }
      ]
    },
    {
      "cell_type": "code",
      "source": [
        "n1 == n1"
      ],
      "metadata": {
        "colab": {
          "base_uri": "https://localhost:8080/"
        },
        "id": "eoQXDQ72YzC0",
        "outputId": "d9a75965-f0c3-49a1-affc-02b15d919549"
      },
      "execution_count": 140,
      "outputs": [
        {
          "output_type": "execute_result",
          "data": {
            "text/plain": [
              "True"
            ]
          },
          "metadata": {},
          "execution_count": 140
        }
      ]
    },
    {
      "cell_type": "code",
      "source": [
        "len(n1)"
      ],
      "metadata": {
        "colab": {
          "base_uri": "https://localhost:8080/"
        },
        "id": "Xo6iABg4ZjaD",
        "outputId": "9378b9e7-9de3-4d68-e11d-35ca650ff5f2"
      },
      "execution_count": 141,
      "outputs": [
        {
          "output_type": "execute_result",
          "data": {
            "text/plain": [
              "3"
            ]
          },
          "metadata": {},
          "execution_count": 141
        }
      ]
    },
    {
      "cell_type": "code",
      "source": [
        "a = [[1, 2], [3, 4]]\n",
        "a[0].append(4)\n",
        "a"
      ],
      "metadata": {
        "colab": {
          "base_uri": "https://localhost:8080/"
        },
        "id": "upL4URKDZpBd",
        "outputId": "14836c0b-8ba3-4e22-ed06-1176fd77ec72"
      },
      "execution_count": 142,
      "outputs": [
        {
          "output_type": "execute_result",
          "data": {
            "text/plain": [
              "[[1, 2, 4], [3, 4]]"
            ]
          },
          "metadata": {},
          "execution_count": 142
        }
      ]
    },
    {
      "cell_type": "markdown",
      "source": [
        "# Python basic understanding"
      ],
      "metadata": {
        "id": "XozuVBLdpW0j"
      }
    },
    {
      "cell_type": "code",
      "source": [
        "a = [1, 2, 3, 4]\n",
        "def func(x):\n",
        "    x = [5,6,8]\n",
        "    x.pop(1)\n",
        "    x.append(10)\n",
        "\n",
        "func(a)\n",
        "a"
      ],
      "metadata": {
        "colab": {
          "base_uri": "https://localhost:8080/"
        },
        "id": "8VZrT8YMpWi-",
        "outputId": "e2a2a3f7-934c-471b-f0d9-076ea45635a7"
      },
      "execution_count": 45,
      "outputs": [
        {
          "output_type": "execute_result",
          "data": {
            "text/plain": [
              "[1, 2, 3, 4]"
            ]
          },
          "metadata": {},
          "execution_count": 45
        }
      ]
    },
    {
      "cell_type": "code",
      "source": [
        "for i in range(1, 10):\n",
        "    for j in range(1, 10):\n",
        "        print('j', j)\n",
        "        if j % 3 == 0:\n",
        "            break\n",
        "            print('breaking out of innter loop')\n",
        "    print('outer loop after breaking: ' , i)\n",
        "    if i%2 == 0:\n",
        "        break"
      ],
      "metadata": {
        "colab": {
          "base_uri": "https://localhost:8080/"
        },
        "id": "zlsYo7cRpjiV",
        "outputId": "9ce2e6b3-1370-4969-fcd4-945482feaeb3"
      },
      "execution_count": 30,
      "outputs": [
        {
          "output_type": "stream",
          "name": "stdout",
          "text": [
            "j 1\n",
            "j 2\n",
            "j 3\n",
            "outer loop after breaking:  1\n",
            "j 1\n",
            "j 2\n",
            "j 3\n",
            "outer loop after breaking:  2\n"
          ]
        }
      ]
    },
    {
      "cell_type": "code",
      "source": [
        "a = [1, 2, 3, 5]\n",
        "def test_fun():\n",
        "    for i in a:\n",
        "        yield i\n",
        "it = iter(test_fun())\n",
        "for i in it: print(i)\n",
        "it = iter(test_fun())\n",
        "next(it)"
      ],
      "metadata": {
        "colab": {
          "base_uri": "https://localhost:8080/"
        },
        "id": "HVL6rlHvt-oE",
        "outputId": "2b813b66-f625-4360-ae1e-19e5941aac69"
      },
      "execution_count": 43,
      "outputs": [
        {
          "output_type": "stream",
          "name": "stdout",
          "text": [
            "1\n",
            "2\n",
            "3\n",
            "5\n"
          ]
        },
        {
          "output_type": "execute_result",
          "data": {
            "text/plain": [
              "1"
            ]
          },
          "metadata": {},
          "execution_count": 43
        }
      ]
    },
    {
      "cell_type": "code",
      "source": [
        "temp = 10   # global-scope variable\n",
        "def func():\n",
        "     temp = 20   # local-scope variable\n",
        "     print(temp)\n",
        "print(temp)   # output => 10\n",
        "func()    # output => 20\n",
        "print(temp)   # output => 10"
      ],
      "metadata": {
        "colab": {
          "base_uri": "https://localhost:8080/"
        },
        "id": "WHnqvCjp_pkL",
        "outputId": "8549dc70-4bb3-4551-8d44-9f4ae63f15e9"
      },
      "execution_count": 44,
      "outputs": [
        {
          "output_type": "stream",
          "name": "stdout",
          "text": [
            "10\n",
            "20\n",
            "10\n"
          ]
        }
      ]
    },
    {
      "cell_type": "code",
      "source": [
        "# map function\n",
        "\n",
        "sq = lambda x: str(x)\n",
        "\n",
        "l = {i:j for i, j in zip(range(10), range(20))}\n",
        "out = filter(lambda k: l[k]%2 == 0, l)\n",
        "for i in out: print(i)\n",
        "l"
      ],
      "metadata": {
        "id": "GuIRoLlMaZto",
        "outputId": "08b9690c-13ca-4abc-d1a6-0f1f7e2423a0",
        "colab": {
          "base_uri": "https://localhost:8080/"
        }
      },
      "execution_count": 63,
      "outputs": [
        {
          "output_type": "stream",
          "name": "stdout",
          "text": [
            "0\n",
            "2\n",
            "4\n",
            "6\n",
            "8\n"
          ]
        },
        {
          "output_type": "execute_result",
          "data": {
            "text/plain": [
              "{0: 0, 1: 1, 2: 2, 3: 3, 4: 4, 5: 5, 6: 6, 7: 7, 8: 8, 9: 9}"
            ]
          },
          "metadata": {},
          "execution_count": 63
        }
      ]
    },
    {
      "cell_type": "code",
      "source": [
        "!python -V"
      ],
      "metadata": {
        "id": "YEPUlb8ye0CQ",
        "outputId": "95b39c1b-9f91-49e4-c4c3-bd291030c834",
        "colab": {
          "base_uri": "https://localhost:8080/"
        }
      },
      "execution_count": 69,
      "outputs": [
        {
          "output_type": "stream",
          "name": "stdout",
          "text": [
            "Python 3.10.12\n"
          ]
        }
      ]
    },
    {
      "cell_type": "code",
      "source": [
        "import functools\n",
        "su = lambda x, y: x * y\n",
        "l = range(1, 6)\n",
        "functools.reduce(su, l)"
      ],
      "metadata": {
        "id": "MFu2849ienGi",
        "outputId": "307255e7-8f2f-439e-bd74-9a2b673eefa8",
        "colab": {
          "base_uri": "https://localhost:8080/"
        }
      },
      "execution_count": 73,
      "outputs": [
        {
          "output_type": "execute_result",
          "data": {
            "text/plain": [
              "120"
            ]
          },
          "metadata": {},
          "execution_count": 73
        }
      ]
    },
    {
      "cell_type": "code",
      "source": [
        "# generators\n",
        "def gen(x = 10):\n",
        "    for i in range(x):\n",
        "        yield i\n",
        "    return x\n",
        "\n",
        "n = gen()\n",
        "while True:\n",
        "  print(next(n))\n"
      ],
      "metadata": {
        "id": "gC1-PIA2ve3G",
        "outputId": "35faef5a-afda-4035-cc95-8e6b45f5fc9f",
        "colab": {
          "base_uri": "https://localhost:8080/",
          "height": 349
        }
      },
      "execution_count": 80,
      "outputs": [
        {
          "output_type": "stream",
          "name": "stdout",
          "text": [
            "0\n",
            "1\n",
            "2\n",
            "3\n",
            "4\n",
            "5\n",
            "6\n",
            "7\n",
            "8\n",
            "9\n"
          ]
        },
        {
          "output_type": "error",
          "ename": "StopIteration",
          "evalue": "10",
          "traceback": [
            "\u001b[0;31m---------------------------------------------------------------------------\u001b[0m",
            "\u001b[0;31mStopIteration\u001b[0m                             Traceback (most recent call last)",
            "\u001b[0;32m<ipython-input-80-0e887dbae849>\u001b[0m in \u001b[0;36m<cell line: 8>\u001b[0;34m()\u001b[0m\n\u001b[1;32m      7\u001b[0m \u001b[0mn\u001b[0m \u001b[0;34m=\u001b[0m \u001b[0mgen\u001b[0m\u001b[0;34m(\u001b[0m\u001b[0;34m)\u001b[0m\u001b[0;34m\u001b[0m\u001b[0;34m\u001b[0m\u001b[0m\n\u001b[1;32m      8\u001b[0m \u001b[0;32mwhile\u001b[0m \u001b[0;32mTrue\u001b[0m\u001b[0;34m:\u001b[0m\u001b[0;34m\u001b[0m\u001b[0;34m\u001b[0m\u001b[0m\n\u001b[0;32m----> 9\u001b[0;31m   \u001b[0mprint\u001b[0m\u001b[0;34m(\u001b[0m\u001b[0mnext\u001b[0m\u001b[0;34m(\u001b[0m\u001b[0mn\u001b[0m\u001b[0;34m)\u001b[0m\u001b[0;34m)\u001b[0m\u001b[0;34m\u001b[0m\u001b[0;34m\u001b[0m\u001b[0m\n\u001b[0m",
            "\u001b[0;31mStopIteration\u001b[0m: 10"
          ]
        }
      ]
    },
    {
      "cell_type": "code",
      "source": [
        "a = 3\n",
        "b = a\n",
        "a = 4\n",
        "a, b"
      ],
      "metadata": {
        "colab": {
          "base_uri": "https://localhost:8080/"
        },
        "id": "ai7GLX07vsQX",
        "outputId": "a96cb9de-1739-40be-d2a7-8287da0c7645"
      },
      "execution_count": 81,
      "outputs": [
        {
          "output_type": "execute_result",
          "data": {
            "text/plain": [
              "(4, 3)"
            ]
          },
          "metadata": {},
          "execution_count": 81
        }
      ]
    },
    {
      "cell_type": "code",
      "source": [
        "a = 3\n",
        "b = a\n",
        "a += 4\n",
        "a, b"
      ],
      "metadata": {
        "outputId": "aa06f25a-24c0-4cec-98bf-c193813498d5",
        "colab": {
          "base_uri": "https://localhost:8080/"
        },
        "id": "M41hNlel7QCy"
      },
      "execution_count": 82,
      "outputs": [
        {
          "output_type": "execute_result",
          "data": {
            "text/plain": [
              "(7, 3)"
            ]
          },
          "metadata": {},
          "execution_count": 82
        }
      ]
    },
    {
      "cell_type": "code",
      "source": [
        "a = [3, 4]\n",
        "b = a\n",
        "a.append(5)\n",
        "print(a, b)\n",
        "a = [6, 7]\n",
        "print(a, b)"
      ],
      "metadata": {
        "id": "xM4sIj7Y7kGK",
        "outputId": "b53ed098-a2a7-41c6-f86e-6910d7b7b98c",
        "colab": {
          "base_uri": "https://localhost:8080/"
        }
      },
      "execution_count": 83,
      "outputs": [
        {
          "output_type": "stream",
          "name": "stdout",
          "text": [
            "[3, 4, 5] [3, 4, 5]\n",
            "[6, 7] [3, 4, 5]\n"
          ]
        }
      ]
    },
    {
      "cell_type": "code",
      "source": [
        "a = [3, 4]\n",
        "b = a\n",
        "a += [5]\n",
        "a = [1] + a\n",
        "print(a, b)"
      ],
      "metadata": {
        "id": "N0G3FhlI7t1y",
        "outputId": "11ebb86b-d51f-4a1e-dd3b-0a7342aa15fb",
        "colab": {
          "base_uri": "https://localhost:8080/"
        }
      },
      "execution_count": 88,
      "outputs": [
        {
          "output_type": "stream",
          "name": "stdout",
          "text": [
            "[1, 3, 4, 5] [3, 4, 5]\n"
          ]
        }
      ]
    },
    {
      "cell_type": "code",
      "source": [
        "import torch\n",
        "torch.tensor([2.])\n",
        "\n",
        "a = torch.tensor(3., requires_grad = True)\n",
        "b = torch.tensor(4., requires_grad = True)\n",
        "\n",
        "c = a*b\n",
        "c.backward()\n",
        "a.grad, b.grad"
      ],
      "metadata": {
        "id": "4tVcuq-NGk9K",
        "outputId": "b90c86f3-64d0-4b44-c5db-46303b96b451",
        "colab": {
          "base_uri": "https://localhost:8080/"
        }
      },
      "execution_count": 95,
      "outputs": [
        {
          "output_type": "execute_result",
          "data": {
            "text/plain": [
              "(tensor(4.), tensor(3.))"
            ]
          },
          "metadata": {},
          "execution_count": 95
        }
      ]
    },
    {
      "cell_type": "code",
      "source": [
        "import torch\n",
        "a = torch.tensor([1., 2., 4.], requires_grad = True)\n",
        "z = (torch.tensor(3., requires_grad = True)*a).sum()\n",
        "z.backward()\n",
        "\n",
        "# print(a, a.grad)\n",
        "\n",
        "b = a.clone()\n",
        "print(b)\n",
        "b.retain_grad()\n",
        "y = (6*b).sum()\n",
        "y.backward()\n",
        "print(a, b, a.grad, b.grad)\n",
        "\n",
        "# a = torch.tensor([1., 2., 3.], requires_grad = True)\n",
        "# z = (torch.tensor(3., requires_grad = True)*a).sum()\n",
        "# z.backward()\n",
        "# b = torch.tensor([8,9,10]).copy_(a)\n",
        "# # a[0] = 0.\n",
        "# print(a, b, a.grad, b.grad)"
      ],
      "metadata": {
        "id": "6Upjfr9cc2jv",
        "outputId": "a4f90e53-e4df-4aff-b9d3-9aca291b5b57",
        "colab": {
          "base_uri": "https://localhost:8080/"
        }
      },
      "execution_count": 28,
      "outputs": [
        {
          "output_type": "stream",
          "name": "stdout",
          "text": [
            "tensor([1., 2., 4.], grad_fn=<CloneBackward0>)\n",
            "tensor([1., 2., 4.], requires_grad=True) tensor([1., 2., 4.], grad_fn=<CloneBackward0>) tensor([9., 9., 9.]) tensor([6., 6., 6.])\n"
          ]
        }
      ]
    },
    {
      "cell_type": "code",
      "source": [
        "!pip freeze | grep torch"
      ],
      "metadata": {
        "id": "UfV1liajgw9J",
        "outputId": "0d762d0f-9290-4fef-cd2b-2cd269336b23",
        "colab": {
          "base_uri": "https://localhost:8080/"
        }
      },
      "execution_count": 27,
      "outputs": [
        {
          "output_type": "stream",
          "name": "stdout",
          "text": [
            "torch @ https://download.pytorch.org/whl/cu121_full/torch-2.5.1%2Bcu121-cp310-cp310-linux_x86_64.whl\n",
            "torchaudio @ https://download.pytorch.org/whl/cu121/torchaudio-2.5.1%2Bcu121-cp310-cp310-linux_x86_64.whl\n",
            "torchsummary==1.5.1\n",
            "torchvision @ https://download.pytorch.org/whl/cu121/torchvision-0.20.1%2Bcu121-cp310-cp310-linux_x86_64.whl\n"
          ]
        }
      ]
    },
    {
      "cell_type": "code",
      "source": [
        "def x():\n",
        "  try:\n",
        "    print('tried')\n",
        "    return 10\n",
        "  except: print('fucked')\n",
        "  finally: print('really?')\n",
        "x()"
      ],
      "metadata": {
        "id": "AF_VOW7MyChX",
        "outputId": "08d2d543-5d03-4b4a-d5e9-d1512ddc849b",
        "colab": {
          "base_uri": "https://localhost:8080/"
        }
      },
      "execution_count": 2,
      "outputs": [
        {
          "output_type": "stream",
          "name": "stdout",
          "text": [
            "tried\n",
            "really?\n"
          ]
        },
        {
          "output_type": "execute_result",
          "data": {
            "text/plain": [
              "10"
            ]
          },
          "metadata": {},
          "execution_count": 2
        }
      ]
    },
    {
      "cell_type": "markdown",
      "source": [
        "# LeetCode"
      ],
      "metadata": {
        "id": "022-fTRWFvE1"
      }
    },
    {
      "cell_type": "code",
      "source": [
        "# Leetcode\n",
        "# 219. Contains Duplicate II\n",
        "\n",
        "def solution(nums, k):\n",
        "\n",
        "    if k == 0:\n",
        "        return False\n",
        "\n",
        "    if len(nums) == 1:\n",
        "        return False\n",
        "\n",
        "    if len(nums) <= k:\n",
        "        return False\n",
        "\n",
        "    window_ceil = min(len(nums), k+1)\n",
        "    window = set(nums[:window_ceil])\n",
        "\n",
        "    if len(window) <= k:\n",
        "        return True\n",
        "\n",
        "    for i in range(1, len(nums)-k):\n",
        "\n",
        "        element_to_remove = nums[i-1]\n",
        "        window.remove(element_to_remove)\n",
        "        element_to_add = nums[i + k]\n",
        "        window.add(element_to_add)\n",
        "        if len(window) <= k:\n",
        "            return True\n",
        "\n",
        "    return False\n",
        "\n",
        "solution([1, 2], k = 2)"
      ],
      "metadata": {
        "colab": {
          "base_uri": "https://localhost:8080/"
        },
        "id": "aVL8RyMqZvOI",
        "outputId": "4be825c6-851d-40f7-9a45-c80b33977222"
      },
      "execution_count": 60,
      "outputs": [
        {
          "output_type": "execute_result",
          "data": {
            "text/plain": [
              "False"
            ]
          },
          "metadata": {},
          "execution_count": 60
        }
      ]
    },
    {
      "cell_type": "code",
      "source": [
        "# LC 209 Minimum Size Sub Array Sum\n",
        "'''\n",
        "Given an array of positive integers nums and a positive integer target, return the minimal length of a\n",
        "subarray whose sum is greater than or equal to target. If there is no such subarray, return 0 instead.\n",
        "\n",
        "Example 1:\n",
        "\n",
        "Input: target = 7, nums = [2,3,1,2,4,3]\n",
        "Output: 2\n",
        "Explanation: The subarray [4,3] has the minimal length under the problem constraint.\n",
        "Example 2:\n",
        "\n",
        "Input: target = 4, nums = [1,4,4]\n",
        "Output: 1\n",
        "Example 3:\n",
        "\n",
        "Input: target = 11, nums = [1,1,1,1,1,1,1,1]\n",
        "Output: 0\n",
        "\n",
        "\n",
        "Constraints:\n",
        "\n",
        "1 <= target <= 109\n",
        "1 <= nums.length <= 105\n",
        "1 <= nums[i] <= 104\n",
        "\n",
        "\n",
        "Follow up: If you have figured out the O(n) solution, try coding another solution of which the time complexity is O(n log(n)).\n",
        "'''\n",
        "class Solution(object):\n",
        "    def minSubArrayLen(self, target, nums):\n",
        "        \"\"\"\n",
        "        :type target: int\n",
        "        :type nums: List[int]\n",
        "        :rtype: int\n",
        "        \"\"\"\n",
        "\n",
        "        if len(nums) == 0: return 0\n",
        "\n",
        "        if len(nums) == 1:\n",
        "            if nums[0] >= target: return 1\n",
        "            else: return 0\n",
        "\n",
        "        min_len = len(nums) + 1\n",
        "\n",
        "        # handling the edge case of sub string of lenght 1 at idx 0\n",
        "        if nums[0] >= target:\n",
        "            return 1\n",
        "\n",
        "        i, j = 0, 1\n",
        "        window_sum = nums[i] + nums[j]\n",
        "        while i < j and j < len(nums):\n",
        "\n",
        "            if nums[j] >= target: return 1\n",
        "\n",
        "            if window_sum >= target:\n",
        "                min_len = min(j - i + 1, min_len)\n",
        "                window_sum -= nums[i]\n",
        "                i += 1\n",
        "            else:\n",
        "                j += 1\n",
        "                if j >= len(nums):\n",
        "                    break\n",
        "                window_sum += nums[j]\n",
        "\n",
        "        if min_len == len(nums) + 1: # No sub array found\n",
        "            return 0\n",
        "\n",
        "        return min_len\n",
        "\n",
        "Solution().minSubArrayLen(11, [1, 1, 1, 1, 1, 1, 1, 1])"
      ],
      "metadata": {
        "colab": {
          "base_uri": "https://localhost:8080/"
        },
        "id": "1vcHdeMP0hTH",
        "outputId": "24483faa-28e3-4c5b-ed26-2699e3328228"
      },
      "execution_count": 74,
      "outputs": [
        {
          "output_type": "execute_result",
          "data": {
            "text/plain": [
              "0"
            ]
          },
          "metadata": {},
          "execution_count": 74
        }
      ]
    },
    {
      "cell_type": "code",
      "source": [
        "'''\n",
        "395. Longest Substring with At Least K Repeating Characters\n",
        "\n",
        "Given a string s and an integer k, return the length of the longest substring of s such that the frequency of each character in this substring is greater than or equal to k.\n",
        "\n",
        "if no such substring exists, return 0.\n",
        "\n",
        "\n",
        "\n",
        "Example 1:\n",
        "\n",
        "Input: s = \"aaabb\", k = 3\n",
        "Output: 3\n",
        "Explanation: The longest substring is \"aaa\", as 'a' is repeated 3 times.\n",
        "Example 2:\n",
        "\n",
        "Input: s = \"ababbc\", k = 2\n",
        "Output: 5\n",
        "Explanation: The longest substring is \"ababb\", as 'a' is repeated 2 times and 'b' is repeated 3 times.\n",
        "'''\n",
        "from collections import Counter\n",
        "\n",
        "class Solution(object):\n",
        "    def longestSubstring(self, s, k):\n",
        "        \"\"\"\n",
        "        :type s: str\n",
        "        :type k: int\n",
        "        :rtype: int\n",
        "        \"\"\"\n",
        "\n",
        "        self.max_len = 0\n",
        "\n",
        "        if len(s) < k:\n",
        "            return 0\n",
        "\n",
        "        if len(s) == 1:\n",
        "            if k == 1:\n",
        "                return 1\n",
        "            else:\n",
        "                return 0\n",
        "\n",
        "        self.longest_substr_rec(s, k)\n",
        "        return self.max_len\n",
        "\n",
        "    def longest_substr_rec(self, s, k):\n",
        "        if len(s) <= self.max_len:\n",
        "            return\n",
        "\n",
        "        freq = Counter(s)\n",
        "\n",
        "        str_flag = True\n",
        "        for v in freq.values(): # at max 26 operations\n",
        "            if v < k:\n",
        "                str_flag = False\n",
        "\n",
        "        if str_flag == True: # That means each and every chararctars freq is greater than k and this satisfies the condition\n",
        "            if len(s) > self.max_len:\n",
        "                self.max_len = len(s)\n",
        "            return\n",
        "\n",
        "        # That means not all charactars have higher freq than k\n",
        "        # find that element and call this function recursively on the 2 halves\n",
        "        for index in range(len(s)):\n",
        "            if freq[s[index]] < k:\n",
        "                break\n",
        "\n",
        "\n",
        "        st1 = s[:index]\n",
        "        st2 = s[index+1:]\n",
        "\n",
        "        if len(st1) > 0: self.longest_substr_rec(st1, k)\n",
        "        if len(st2) > 0: self.longest_substr_rec(st2, k)\n",
        "\n",
        "        return\n",
        "\n",
        "Solution().longestSubstring(s = 'aaabb', k = 3)"
      ],
      "metadata": {
        "colab": {
          "base_uri": "https://localhost:8080/"
        },
        "id": "Vmavei7-eeB7",
        "outputId": "ad3dc08a-0cf1-4983-f846-d653451a8bec"
      },
      "execution_count": 80,
      "outputs": [
        {
          "output_type": "execute_result",
          "data": {
            "text/plain": [
              "3"
            ]
          },
          "metadata": {},
          "execution_count": 80
        }
      ]
    },
    {
      "cell_type": "code",
      "source": [
        "# LC 239\n",
        "\n",
        "'''\n",
        "239. Sliding Window Maximum\n",
        "\n",
        "You are given an array of integers nums, there is a sliding window of size k which is moving from the very left of the array to the very right.\n",
        "You can only see the k numbers in the window. Each time the sliding window moves right by one position.\n",
        "\n",
        "Return the max sliding window.\n",
        "\n",
        "Example 1:\n",
        "\n",
        "Input: nums = [1,3,-1,-3,5,3,6,7], k = 3\n",
        "Output: [3,3,5,5,6,7]\n",
        "Explanation:\n",
        "Window position                Max\n",
        "---------------               -----\n",
        "[1  3  -1] -3  5  3  6  7       3\n",
        " 1 [3  -1  -3] 5  3  6  7       3\n",
        " 1  3 [-1  -3  5] 3  6  7       5\n",
        " 1  3  -1 [-3  5  3] 6  7       5\n",
        " 1  3  -1  -3 [5  3  6] 7       6\n",
        " 1  3  -1  -3  5 [3  6  7]      7\n",
        "Example 2:\n",
        "\n",
        "Input: nums = [1], k = 1\n",
        "Output: [1]\n",
        "'''\n",
        "\n",
        "class Solution(object):\n",
        "    def maxSlidingWindow(self, nums, k):\n",
        "        \"\"\"\n",
        "        :type nums: List[int]\n",
        "        :type k: int\n",
        "        :rtype: List[int]\n",
        "        \"\"\"\n",
        "\n",
        "        if k == 1:\n",
        "            return nums\n",
        "\n",
        "        if len(nums) == k:\n",
        "            return [max(nums)]\n",
        "\n",
        "        window = nums[:k]\n",
        "        max_val = max(window)\n",
        "        retn_arr = [max_val]\n",
        "\n",
        "        for i in range(1, len(nums)-k+1):\n",
        "\n",
        "            left_val = window.pop(0)\n",
        "            right_val = nums[i+k-1]\n",
        "            window.append(right_val)\n",
        "\n",
        "            if max_val <= right_val:\n",
        "                max_val = right_val\n",
        "            elif left_val == max_val and right_val < max_val:\n",
        "                max_val = max(window)\n",
        "\n",
        "            retn_arr.append(max_val)\n",
        "\n",
        "        return retn_arr\n",
        "\n",
        "Solution().maxSlidingWindow([1,3,-1,-3,5,3,6,7], k = 3)"
      ],
      "metadata": {
        "colab": {
          "base_uri": "https://localhost:8080/"
        },
        "id": "6M23GNVuFyj5",
        "outputId": "ab48a687-ce54-4201-9dd2-b4cb952b8a79"
      },
      "execution_count": 85,
      "outputs": [
        {
          "output_type": "execute_result",
          "data": {
            "text/plain": [
              "[3, 3, 5, 5, 6, 7]"
            ]
          },
          "metadata": {},
          "execution_count": 85
        }
      ]
    },
    {
      "cell_type": "code",
      "source": [
        "class Solution(object):\n",
        "    def maxSlidingWindow(self, nums, k):\n",
        "        \"\"\"\n",
        "        :type nums: List[int]\n",
        "        :type k: int\n",
        "        :rtype: List[int]\n",
        "        \"\"\"\n",
        "\n",
        "        if k == 1:\n",
        "            return nums\n",
        "\n",
        "        if len(nums) == k:\n",
        "            return [max(nums)]\n",
        "\n",
        "        # [1,3,-1,-3,5,3,6,7], k = 3\n",
        "\n",
        "        result = []\n",
        "        window = []\n",
        "\n",
        "        l = r = 0\n",
        "\n",
        "        while r <= len(nums)-1:\n",
        "\n",
        "            # make sure that max value index is on 0th element\n",
        "            while len(window) > 0 and nums[window[-1]] <= nums[r]:\n",
        "                window.pop(-1)\n",
        "\n",
        "            window.append(r)\n",
        "\n",
        "            if l > window[0]:\n",
        "                print(l, r)\n",
        "                window.pop(0)\n",
        "\n",
        "            if r + 1 >= k:\n",
        "                result.append(nums[window[0]])\n",
        "                l += 1\n",
        "\n",
        "            r += 1\n",
        "\n",
        "        return result\n",
        "\n",
        "Solution().maxSlidingWindow([1,3,-1,-3,5,3,6,7], k = 3)"
      ],
      "metadata": {
        "colab": {
          "base_uri": "https://localhost:8080/"
        },
        "id": "UuGCHEYNIa79",
        "outputId": "e1d3119b-3885-4801-b7b4-61efc7fb0d4f"
      },
      "execution_count": 95,
      "outputs": [
        {
          "output_type": "execute_result",
          "data": {
            "text/plain": [
              "[3, 3, 5, 5, 6, 7]"
            ]
          },
          "metadata": {},
          "execution_count": 95
        }
      ]
    },
    {
      "cell_type": "code",
      "source": [
        "'''\n",
        "LC 424. Longest Repeating Character Replacement\n",
        "You are given a string s and an integer k. You can choose any character of the string and change it to any other uppercase English character.\n",
        "You can perform this operation at most k times.\n",
        "Return the length of the longest substring containing the same letter you can get after performing the above operations.\n",
        "\n",
        "Example 1:\n",
        "\n",
        "Input: s = \"ABAB\", k = 2\n",
        "Output: 4\n",
        "Explanation: Replace the two 'A's with two 'B's or vice versa.\n",
        "\n",
        "Example 2:\n",
        "\n",
        "Input: s = \"AABABBA\", k = 1\n",
        "Output: 4\n",
        "Explanation: Replace the one 'A' in the middle with 'B' and form \"AABBBBA\".\n",
        "The substring \"BBBB\" has the longest repeating letters, which is 4.\n",
        "There may exists other ways to achieve this answer too.\n",
        "'''\n",
        "from typing_extensions import DefaultDict\n",
        "\n",
        "class Solution(object):\n",
        "    def maxSlidingWindow(self, s, k):\n",
        "        \"\"\"\n",
        "        :type s: str\n",
        "        :type k: int\n",
        "        \"\"\"\n",
        "        str_len = len(s)\n",
        "\n",
        "        if str_len == 1: # edge cases\n",
        "            return 1\n",
        "        if k >= str_len-1: # edge cases\n",
        "            return str_len\n",
        "\n",
        "        max_substr_len = 0\n",
        "        counter = DefaultDict(int)\n",
        "\n",
        "        left = right = 0\n",
        "        counter[s[right]] += 1\n",
        "        max_freq = 1\n",
        "\n",
        "        while right < str_len:\n",
        "\n",
        "            max_freq = max(max_freq, counter[s[right]])\n",
        "            window_len = right - left + 1\n",
        "\n",
        "            if window_len - max_freq <= k: # condition passed for substring\n",
        "                if window_len > max_substr_len:\n",
        "                    max_substr_len = window_len\n",
        "                right += 1\n",
        "                if right < str_len:\n",
        "                    counter[s[right]] += 1\n",
        "            else:\n",
        "                # breakpoint()\n",
        "                counter[s[left]] -= 1\n",
        "                left += 1\n",
        "\n",
        "        return max_substr_len\n",
        "\n",
        "Solution().maxSlidingWindow('ababaabb', k = 2)"
      ],
      "metadata": {
        "colab": {
          "base_uri": "https://localhost:8080/"
        },
        "id": "5-fh9SoFBR2G",
        "outputId": "ce41e1d6-bd48-4887-f21f-98f83370cd87"
      },
      "execution_count": 22,
      "outputs": [
        {
          "output_type": "execute_result",
          "data": {
            "text/plain": [
              "6"
            ]
          },
          "metadata": {},
          "execution_count": 22
        }
      ]
    },
    {
      "cell_type": "code",
      "source": [
        "class Solution(object):\n",
        "    def numberOfArithmeticSlices(self, nums):\n",
        "        \"\"\"\n",
        "        :type nums: List[int]\n",
        "        :rtype: int\n",
        "        \"\"\"\n",
        "\n",
        "        if len(nums) < 3:\n",
        "            return 0\n",
        "\n",
        "        def calculate_subarrays(window_len):\n",
        "            if window_len < 3:\n",
        "                return 0\n",
        "            else:\n",
        "                # do calculation based on window length\n",
        "                return (window_len - 3 + 1) * (window_len - 3 + 2) // 2\n",
        "\n",
        "\n",
        "        l = 0\n",
        "        r = 1\n",
        "\n",
        "        this_diff = None\n",
        "        total_subarrays = 0\n",
        "        # breakpoint()\n",
        "        while r < len(nums):\n",
        "            # print(l, r)\n",
        "            d = nums[r] - nums[r-1]\n",
        "\n",
        "            if this_diff == None:\n",
        "                this_diff = d\n",
        "\n",
        "            if this_diff != d:\n",
        "                # window is broken\n",
        "                window_len = r-l # not adding one because its already added\n",
        "                total_subarrays += calculate_subarrays(window_len)\n",
        "                l = r\n",
        "                r += 1\n",
        "                this_diff = None\n",
        "            else:\n",
        "                r += 1\n",
        "\n",
        "        total_subarrays += calculate_subarrays(r-l)\n",
        "        return total_subarrays\n",
        "\n",
        "Solution().numberOfArithmeticSlices([1,2,3,8,9,10])"
      ],
      "metadata": {
        "colab": {
          "base_uri": "https://localhost:8080/"
        },
        "id": "BF4Y9yhSaHkP",
        "outputId": "ac4cf4b5-e372-4ae5-f146-fc3cf3b75923"
      },
      "execution_count": 36,
      "outputs": [
        {
          "output_type": "stream",
          "name": "stdout",
          "text": [
            "0 1\n",
            "0 2\n",
            "0 3\n",
            "3 4\n",
            "3 5\n"
          ]
        },
        {
          "output_type": "execute_result",
          "data": {
            "text/plain": [
              "2"
            ]
          },
          "metadata": {},
          "execution_count": 36
        }
      ]
    },
    {
      "cell_type": "code",
      "source": [
        "'''\n",
        "\n",
        "LC : 438. Find All Anagrams in a String\n",
        "Given two strings s and p, return an array of all the start indices of p's\n",
        "anagrams\n",
        " in s. You may return the answer in any order.\n",
        "\n",
        "\n",
        "\n",
        "Example 1:\n",
        "\n",
        "Input: s = \"cbaebabacd\", p = \"abc\"\n",
        "Output: [0,6]\n",
        "Explanation:\n",
        "The substring with start index = 0 is \"cba\", which is an anagram of \"abc\".\n",
        "The substring with start index = 6 is \"bac\", which is an anagram of \"abc\".\n",
        "Example 2:\n",
        "\n",
        "Input: s = \"abab\", p = \"ab\"\n",
        "Output: [0,1,2]\n",
        "Explanation:\n",
        "The substring with start index = 0 is \"ab\", which is an anagram of \"ab\".\n",
        "The substring with start index = 1 is \"ba\", which is an anagram of \"ab\".\n",
        "The substring with start index = 2 is \"ab\", which is an anagram of \"ab\".\n",
        "'''\n",
        "\n",
        "class Solution(object):\n",
        "    def findAnagrams(self, s, p):\n",
        "        \"\"\"\n",
        "        :type s: str\n",
        "        :type p: str\n",
        "        :rtype: List[int]\n",
        "        \"\"\"\n",
        "\n",
        "        p_c = Counter(p)\n",
        "        window_len = len(p)\n",
        "        window = s[:window_len]\n",
        "        window_c = Counter(window)\n",
        "\n",
        "        indecis = []\n",
        "\n",
        "        l = 0\n",
        "        r = window_len - 1\n",
        "\n",
        "        while True:\n",
        "\n",
        "            if window_c == p_c:\n",
        "                indecis.append(r-window_len+1)\n",
        "            r += 1\n",
        "            l += 1\n",
        "            if r >= len(s):\n",
        "                break\n",
        "\n",
        "            window_c[s[l-1]] -= 1\n",
        "            window_c[s[r]] += 1\n",
        "\n",
        "        return indecis\n",
        "\n",
        "Solution().findAnagrams('cbaebabacd', 'abc')"
      ],
      "metadata": {
        "colab": {
          "base_uri": "https://localhost:8080/"
        },
        "id": "h3Qod6cQ58ku",
        "outputId": "daa6108f-5b24-4e80-a5fe-fa0fa1af3d44"
      },
      "execution_count": 55,
      "outputs": [
        {
          "output_type": "execute_result",
          "data": {
            "text/plain": [
              "[0, 6]"
            ]
          },
          "metadata": {},
          "execution_count": 55
        }
      ]
    },
    {
      "cell_type": "code",
      "source": [
        "'''\n",
        "567. Permutation in String\n",
        "\n",
        "Given two strings s1 and s2, return true if s2 contains a\n",
        "permutation of s1, or false otherwise.\n",
        "\n",
        "In other words, return true if one of s1's permutations is the substring of s2.\n",
        "\n",
        "Example 1:\n",
        "\n",
        "Input: s1 = \"ab\", s2 = \"eidbaooo\"\n",
        "Output: true\n",
        "Explanation: s2 contains one permutation of s1 (\"ba\").\n",
        "Example 2:\n",
        "\n",
        "Input: s1 = \"ab\", s2 = \"eidboaoo\"\n",
        "Output: false\n",
        "\n",
        "\n",
        "Constraints:\n",
        "\n",
        "1 <= s1.length, s2.length <= 104\n",
        "s1 and s2 consist of lowercase English letters.\n",
        "'''\n",
        "\n",
        "class Solution:\n",
        "    def checkInclusion(self, s1: str, s2: str) -> bool:\n",
        "        if len(s1) > len(s2):\n",
        "            return False\n",
        "\n",
        "        pointer = 0\n",
        "        s1_c = Counter(s1)\n",
        "        l = 0\n",
        "        r = len(s1)-1\n",
        "        window = s2[l:r+1]\n",
        "        window_c = Counter(window)\n",
        "\n",
        "        while True:\n",
        "            if window_c == s1_c: return True\n",
        "\n",
        "            l += 1\n",
        "            r += 1\n",
        "\n",
        "            if r >= len(s2): return False\n",
        "\n",
        "            window_c[s2[r]] += 1\n",
        "            window_c[s2[l-1]] -= 1\n",
        "\n",
        "\n",
        "Solution().checkInclusion('adc', \"dcda\")"
      ],
      "metadata": {
        "colab": {
          "base_uri": "https://localhost:8080/"
        },
        "id": "viqnn62hcS7o",
        "outputId": "ddcf9659-0f9d-4c17-ee3f-e6911d3f9d19"
      },
      "execution_count": 67,
      "outputs": [
        {
          "output_type": "execute_result",
          "data": {
            "text/plain": [
              "True"
            ]
          },
          "metadata": {},
          "execution_count": 67
        }
      ]
    },
    {
      "cell_type": "code",
      "source": [
        "\"\"\"\n",
        "632. Smallest Range Covering Elements from K Lists\n",
        "\n",
        "You have k lists of sorted integers in non-decreasing order. Find the smallest range that includes at least one number from each of the k lists.\n",
        "We define the range [a, b] is smaller than range [c, d] if b - a < d - c or a < c if b - a == d - c.\n",
        "\n",
        "\n",
        "\n",
        "Example 1:\n",
        "Input: nums = [[4,10,15,24,26],[0,9,12,20],[5,18,22,30]]\n",
        "Output: [20,24]\n",
        "Explanation:\n",
        "List 1: [4, 10, 15, 24,26], 24 is in range [20,24].\n",
        "List 2: [0, 9, 12, 20], 20 is in range [20,24].\n",
        "List 3: [5, 18, 22, 30], 22 is in range [20,24].\n",
        "\n",
        "Example 2:\n",
        "Input: nums = [[1,2,3],[1,2,3],[1,2,3]]\n",
        "Output: [1,1]\n",
        "\"\"\"\n",
        "\n",
        "# HARD ONE MAN... I couldnt do it\n",
        "\n",
        "class Solution:\n",
        "    def smallestRange(self, nums):\n",
        "\n",
        "        ranges  = []\n",
        "        for i in nums:\n",
        "            ranges += [nums[0], nums[-1]]\n",
        "\n",
        "\n",
        "\n",
        ""
      ],
      "metadata": {
        "id": "XNRYOnfgdtOy"
      },
      "execution_count": null,
      "outputs": []
    },
    {
      "cell_type": "code",
      "source": [
        "'''\n",
        "We define a harmonious array as an array where the difference between its maximum value and its minimum value is exactly 1.\n",
        "\n",
        "Given an integer array nums, return the length of its longest harmonious\n",
        "subsequence among all its possible subsequences.\n",
        "\n",
        "Example 1:\n",
        "\n",
        "Input: nums = [1,3,2,2,5,2,3,7]\n",
        "\n",
        "Output: 5\n",
        "\n",
        "Explanation:\n",
        "\n",
        "The longest harmonious subsequence is [3,2,2,2,3].\n",
        "'''\n",
        "\n",
        "class Solution:\n",
        "    def findLHS(self, nums) -> int:\n",
        "        nums_counter = Counter(nums)\n",
        "\n",
        "        if len(nums_counter) <= 1:\n",
        "            return 0\n",
        "\n",
        "        max_sub_array_len = 0\n",
        "\n",
        "        for k in nums_counter.keys():\n",
        "            c_l = nums_counter[k] + nums_counter[k-1] if nums_counter[k-1] > 0 else 0\n",
        "            c_h = nums_counter[k] + nums_counter[k+1] if nums_counter[k+1] > 0 else 0\n",
        "            # print(k, c_l, c_h, nums_counter)\n",
        "            max_sub_array_len = max(max_sub_array_len, c_l, c_h)\n",
        "\n",
        "        return max_sub_array_len"
      ],
      "metadata": {
        "id": "wporBitpLtiv"
      },
      "execution_count": 79,
      "outputs": []
    },
    {
      "cell_type": "code",
      "source": [
        "# Submitted Succesfully - Easy\n",
        "'''\n",
        "LC: 345. Reverse Vowels of a String\n",
        "\n",
        "Given a string s, reverse only all the vowels in the string and return it.\n",
        "The vowels are 'a', 'e', 'i', 'o', and 'u', and they can appear in both lower and upper cases, more than once.\n",
        "\n",
        "\n",
        "\n",
        "Example 1:\n",
        "\n",
        "Input: s = \"IceCreAm\"\n",
        "Output: \"AceCreIm\"\n",
        "Explanation:\n",
        "The vowels in s are ['I', 'e', 'e', 'A']. On reversing the vowels, s becomes \"AceCreIm\".\n",
        "\n",
        "Example 2:\n",
        "\n",
        "Input: s = \"leetcode\"\n",
        "Output: \"leotcede\"\n",
        "'''\n",
        "class Solution:\n",
        "    def reverseVowels(self, s: str) -> str:\n",
        "\n",
        "        l = 0\n",
        "        r = len(s)-1\n",
        "        vowels = ('a', 'e', 'i', 'o', 'u')\n",
        "        ret_str = ['']*len(s)\n",
        "        while l <= r:\n",
        "\n",
        "            if s[l].lower() in vowels and s[r].lower() not in vowels: # c1: l is vowel and r is not vowel\n",
        "                ret_str[r] = s[r]\n",
        "                r -= 1\n",
        "\n",
        "            elif s[l].lower() not in vowels and s[r].lower() in vowels: # c2: r is vowel and l is not vowel\n",
        "                ret_str[l] = s[l]\n",
        "                l += 1\n",
        "\n",
        "            elif s[l].lower() in vowels and s[r].lower() in vowels: # c3: l and r are vowels\n",
        "\n",
        "                ret_str[l], ret_str[r] = s[r], s[l]\n",
        "                l += 1\n",
        "                r -= 1\n",
        "            else: # c4: l and r are not vowels\n",
        "                ret_str[l], ret_str[r] = s[l], s[r]\n",
        "                l += 1\n",
        "                r -= 1\n",
        "        return ''.join(ret_str)\n",
        "\n",
        "Solution().reverseVowels('IceCreAm')"
      ],
      "metadata": {
        "colab": {
          "base_uri": "https://localhost:8080/",
          "height": 35
        },
        "id": "ZKljyu94M1wm",
        "outputId": "1ee0193b-044d-4c2e-db91-6b52e731e3fb"
      },
      "execution_count": 95,
      "outputs": [
        {
          "output_type": "execute_result",
          "data": {
            "text/plain": [
              "'AceCreIm'"
            ],
            "application/vnd.google.colaboratory.intrinsic+json": {
              "type": "string"
            }
          },
          "metadata": {},
          "execution_count": 95
        }
      ]
    },
    {
      "cell_type": "code",
      "source": [
        "# Submitted Succesfully - Medium\n",
        "'''\n",
        "334. Increasing Triplet Subsequence\n",
        "Medium\n",
        "\n",
        "Given an integer array nums, return true if there exists a triple of indices (i, j, k) such that i < j < k and nums[i] < nums[j] < nums[k].\n",
        "If no such indices exists, return false.\n",
        "\n",
        "Example 1:\n",
        "\n",
        "Input: nums = [1,2,3,4,5]\n",
        "Output: true\n",
        "Explanation: Any triplet where i < j < k is valid.\n",
        "Example 2:\n",
        "\n",
        "Input: nums = [5,4,3,2,1]\n",
        "Output: false\n",
        "Explanation: No triplet exists.\n",
        "Example 3:\n",
        "\n",
        "Input: nums = [2,1,5,0,4,6]\n",
        "Output: true\n",
        "Explanation: The triplet (3, 4, 5) is valid because nums[3] == 0 < nums[4] == 4 < nums[5] == 6.\n",
        "'''\n",
        "class Solution:\n",
        "    def increasingTriplet(self, nums) -> bool:\n",
        "\n",
        "        if len(nums) < 3: return False\n",
        "\n",
        "        i = j = float('inf')\n",
        "        for num in nums:\n",
        "            if i >= num:\n",
        "                i = num\n",
        "            elif j >= num:\n",
        "                j = num\n",
        "            else:\n",
        "                return True\n",
        "\n",
        "        return False\n",
        "\n",
        "Solution().increasingTriplet([2, 1, 5, 0, 1, 6])"
      ],
      "metadata": {
        "colab": {
          "base_uri": "https://localhost:8080/"
        },
        "id": "Y0YfvyXjQIpd",
        "outputId": "cff335ae-3efa-4d49-f5d8-aaf00af541f7"
      },
      "execution_count": 116,
      "outputs": [
        {
          "output_type": "stream",
          "name": "stdout",
          "text": [
            "2 inf 2\n",
            "1 inf 1\n",
            "1 5 5\n",
            "0 5 0\n",
            "0 1 1\n"
          ]
        },
        {
          "output_type": "execute_result",
          "data": {
            "text/plain": [
              "True"
            ]
          },
          "metadata": {},
          "execution_count": 116
        }
      ]
    },
    {
      "cell_type": "code",
      "source": [
        "# DONE - Submitted - Medium\n",
        "'''\n",
        "443. String Compression\n",
        "\n",
        "Given an array of characters chars, compress it using the following algorithm:\n",
        "Begin with an empty string s. For each group of consecutive repeating characters in chars:\n",
        "\n",
        "If the group's length is 1, append the character to s.\n",
        "Otherwise, append the character followed by the group's length.\n",
        "The compressed string s should not be returned separately, but instead, be stored in the input character array chars. Note that group lengths that are 10 or longer will be split into multiple characters in chars.\n",
        "\n",
        "After you are done modifying the input array, return the new length of the array.\n",
        "You must write an algorithm that uses only constant extra space.\n",
        "\n",
        "\n",
        "Example 1:\n",
        "\n",
        "Input: chars = [\"a\",\"a\",\"b\",\"b\",\"c\",\"c\",\"c\"]\n",
        "Output: Return 6, and the first 6 characters of the input array should be: [\"a\",\"2\",\"b\",\"2\",\"c\",\"3\"]\n",
        "Explanation: The groups are \"aa\", \"bb\", and \"ccc\". This compresses to \"a2b2c3\".\n",
        "\n",
        "Example 2:\n",
        "\n",
        "Input: chars = [\"a\"]\n",
        "Output: Return 1, and the first character of the input array should be: [\"a\"]\n",
        "Explanation: The only group is \"a\", which remains uncompressed since it's a single character.\n",
        "\n",
        "Example 3:\n",
        "\n",
        "Input: chars = [\"a\",\"b\",\"b\",\"b\",\"b\",\"b\",\"b\",\"b\",\"b\",\"b\",\"b\",\"b\",\"b\"]\n",
        "Output: Return 4, and the first 4 characters of the input array should be: [\"a\",\"b\",\"1\",\"2\"].\n",
        "Explanation: The groups are \"a\" and \"bbbbbbbbbbbb\". This compresses to \"ab12\".\n",
        "'''\n",
        "class Solution:\n",
        "    def compress(self, chars) -> int:\n",
        "\n",
        "        total_len = 0\n",
        "        if len(chars) == 0:\n",
        "            total_len = 0\n",
        "\n",
        "        prev_char = chars[0]\n",
        "        char_count = 0\n",
        "\n",
        "        i = 0\n",
        "        lp = 0\n",
        "\n",
        "        for i in range(len(chars)):\n",
        "            ch = chars[i]\n",
        "            if ch == prev_char:\n",
        "                char_count += 1\n",
        "            else:\n",
        "                # breakpoint()\n",
        "                ch_list = list(f'{prev_char}{char_count}' if char_count > 1 else prev_char)\n",
        "                total_len += len(ch_list)\n",
        "                for i in ch_list:\n",
        "                    chars[lp] = i\n",
        "                    lp += 1\n",
        "\n",
        "                prev_char = ch\n",
        "                char_count = 1\n",
        "\n",
        "        ch_list = list(f'{prev_char}{char_count}' if char_count > 1 else prev_char)\n",
        "        total_len += len(ch_list)\n",
        "\n",
        "        for i in ch_list:\n",
        "            chars[lp] = i\n",
        "            lp += 1\n",
        "\n",
        "        while len(chars) > lp:\n",
        "            chars.pop()\n",
        "\n",
        "        # print(chars, lp)\n",
        "        return total_len\n",
        "Solution().compress([\"a\",\"a\",\"b\",\"b\",\"c\",\"c\",\"c\"])"
      ],
      "metadata": {
        "colab": {
          "base_uri": "https://localhost:8080/"
        },
        "id": "7DjmgkGvQbyg",
        "outputId": "ec800dff-a4b1-469c-fe75-5c855a5cbf78"
      },
      "execution_count": 138,
      "outputs": [
        {
          "output_type": "stream",
          "name": "stdout",
          "text": [
            "['a', '2', 'b', '2', 'c', '3'] 6\n"
          ]
        },
        {
          "output_type": "execute_result",
          "data": {
            "text/plain": [
              "6"
            ]
          },
          "metadata": {},
          "execution_count": 138
        }
      ]
    },
    {
      "cell_type": "code",
      "source": [
        "# DONE - Submitted - Easy\n",
        "'''\n",
        "392. Is Subsequence\n",
        "\n",
        "Given two strings s and t, return true if s is a subsequence of t, or false otherwise.\n",
        "A subsequence of a string is a new string that is formed from the original string by deleting some (can be none) of the characters without disturbing the relative positions of the remaining characters. (i.e., \"ace\" is a subsequence of \"abcde\" while \"aec\" is not).\n",
        "\n",
        "Example 1:\n",
        "\n",
        "Input: s = \"abc\", t = \"ahbgdc\"\n",
        "Output: true\n",
        "Example 2:\n",
        "\n",
        "Input: s = \"axc\", t = \"ahbgdc\"\n",
        "Output: false\n",
        "'''\n",
        "\n",
        "class Solution:\n",
        "    def isSubsequence(self, t: str, s: str) -> bool:\n",
        "\n",
        "        s_index = t_index = 0\n",
        "\n",
        "        if len(s) < len(t):\n",
        "            return False\n",
        "        if t == '':\n",
        "            return True\n",
        "\n",
        "        while s_index < len(s):\n",
        "\n",
        "            if t[t_index] == s[s_index]:\n",
        "                t_index += 1\n",
        "                s_index += 1\n",
        "\n",
        "                if t_index == len(t):\n",
        "                    return True\n",
        "            else:\n",
        "                s_index += 1\n",
        "\n",
        "        return False\n",
        "\n",
        "Solution().isSubsequence(\"abc\", \"ahbgdc\")"
      ],
      "metadata": {
        "colab": {
          "base_uri": "https://localhost:8080/"
        },
        "id": "KsQ1G7hdjcwd",
        "outputId": "ac5539a6-d52b-4426-ee76-c3d5f3711fbb"
      },
      "execution_count": 146,
      "outputs": [
        {
          "output_type": "execute_result",
          "data": {
            "text/plain": [
              "True"
            ]
          },
          "metadata": {},
          "execution_count": 146
        }
      ]
    },
    {
      "cell_type": "code",
      "source": [
        "# DONE - Submitted - Medium\n",
        "'''\n",
        "1679. Max Number of K-Sum Pairs\n",
        "Medium\n",
        "Topics\n",
        "Companies\n",
        "Hint\n",
        "You are given an integer array nums and an integer k.\n",
        "\n",
        "In one operation, you can pick two numbers from the array whose sum equals k and remove them from the array.\n",
        "\n",
        "Return the maximum number of operations you can perform on the array.\n",
        "\n",
        "\n",
        "\n",
        "Example 1:\n",
        "\n",
        "Input: nums = [1,2,3,4], k = 5\n",
        "Output: 2\n",
        "Explanation: Starting with nums = [1,2,3,4]:\n",
        "- Remove numbers 1 and 4, then nums = [2,3]\n",
        "- Remove numbers 2 and 3, then nums = []\n",
        "There are no more pairs that sum up to 5, hence a total of 2 operations.\n",
        "Example 2:\n",
        "\n",
        "Input: nums = [3,1,3,4,3], k = 6\n",
        "Output: 1\n",
        "Explanation: Starting with nums = [3,1,3,4,3]:\n",
        "- Remove the first two 3's, then nums = [1,4,3]\n",
        "There are no more pairs that sum up to 6, hence a total of 1 operation.\n",
        "'''\n",
        "class Solution:\n",
        "    def maxOperations(self, nums, k: int) -> int:\n",
        "        num_c = Counter(nums)\n",
        "        keys = num_c.keys()\n",
        "        total_op = 0\n",
        "\n",
        "        if k/2 in num_c:\n",
        "            total_op += num_c[k/2]//2\n",
        "            del num_c[k/2]\n",
        "\n",
        "        for key in keys:\n",
        "\n",
        "            diff = k - key\n",
        "\n",
        "            if num_c[key] <= 0: continue\n",
        "            if num_c[diff] <= 0: continue\n",
        "\n",
        "            if diff != key:\n",
        "                min_op = min(num_c[key], num_c[diff])\n",
        "            else:\n",
        "                min_op = num_c[key]//2\n",
        "\n",
        "            total_op += min_op\n",
        "            num_c[key] -= min_op\n",
        "            num_c[diff] -= min_op\n",
        "\n",
        "        return total_op\n",
        "\n",
        "Solution().maxOperations([3,1,3,4,3], k = 6)"
      ],
      "metadata": {
        "colab": {
          "base_uri": "https://localhost:8080/"
        },
        "id": "qwXVUaikrZaf",
        "outputId": "6780fb46-6bb9-4e27-cc42-816060448776"
      },
      "execution_count": 157,
      "outputs": [
        {
          "output_type": "execute_result",
          "data": {
            "text/plain": [
              "1"
            ]
          },
          "metadata": {},
          "execution_count": 157
        }
      ]
    },
    {
      "cell_type": "code",
      "source": [
        "# DONE - Submitted - Easy\n",
        "'''\n",
        "LC 724 - Find Pivot Index - Easy\n",
        "\n",
        "Given an array of integers nums, calculate the pivot index of this array.\n",
        "The pivot index is the index where the sum of all the numbers strictly to the left of the index is equal to the\n",
        "sum of all the numbers strictly to the index's right.\n",
        "If the index is on the left edge of the array, then the left sum is 0 because there are no elements to the left.\n",
        "This also applies to the right edge of the array.\n",
        "\n",
        "Return the leftmost pivot index. If no such index exists, return -1.\n",
        "\n",
        "Example 1:\n",
        "\n",
        "Input: nums = [1,7,3,6,5,6]\n",
        "Output: 3\n",
        "Explanation:\n",
        "The pivot index is 3.\n",
        "Left sum = nums[0] + nums[1] + nums[2] = 1 + 7 + 3 = 11\n",
        "Right sum = nums[4] + nums[5] = 5 + 6 = 11\n",
        "Example 2:\n",
        "\n",
        "Input: nums = [1,2,3]\n",
        "Output: -1\n",
        "Explanation:\n",
        "There is no index that satisfies the conditions in the problem statement.\n",
        "Example 3:\n",
        "\n",
        "Input: nums = [2,1,-1]\n",
        "Output: 0\n",
        "Explanation:\n",
        "The pivot index is 0.\n",
        "Left sum = 0 (no elements to the left of index 0)\n",
        "Right sum = nums[1] + nums[2] = 1 + -1 = 0\n",
        "'''\n",
        "\n",
        "class Solution:\n",
        "    def pivotIndex(self, nums) -> int:\n",
        "\n",
        "        if len(nums) == 0:\n",
        "            return -1\n",
        "\n",
        "        ls = []\n",
        "        rs = []\n",
        "\n",
        "        lsum = 0\n",
        "        rsum = 0\n",
        "\n",
        "        for i in range(len(nums)):\n",
        "            ls.append(lsum)\n",
        "            rs.append(rsum)\n",
        "\n",
        "            lsum += nums[i]\n",
        "            rsum += nums[len(nums) - 1 - i]\n",
        "\n",
        "        assert len(ls) == len(rs)\n",
        "        rs = list(reversed(rs))\n",
        "        print(ls, rs)\n",
        "        for idx in range(len(ls)):\n",
        "            if ls[idx] == rs[idx]:\n",
        "                return idx\n",
        "        return -1\n",
        "\n",
        "Solution().pivotIndex([1,7,3,6,5,6])"
      ],
      "metadata": {
        "colab": {
          "base_uri": "https://localhost:8080/"
        },
        "id": "FWSaUviduhMy",
        "outputId": "2954d75a-ee6e-4874-ceee-06ffb9913684"
      },
      "execution_count": 166,
      "outputs": [
        {
          "output_type": "stream",
          "name": "stdout",
          "text": [
            "[0, 1, 8, 11, 17, 22] [27, 20, 17, 11, 6, 0]\n"
          ]
        },
        {
          "output_type": "execute_result",
          "data": {
            "text/plain": [
              "3"
            ]
          },
          "metadata": {},
          "execution_count": 166
        }
      ]
    },
    {
      "cell_type": "code",
      "source": [
        "# DONE - Submitted - Easy\n",
        "'''\n",
        "LC 2215. Find the Difference of Two Arrays\n",
        "\n",
        "Given two 0-indexed integer arrays nums1 and nums2, return a list answer of size 2 where:\n",
        "\n",
        "answer[0] is a list of all distinct integers in nums1 which are not present in nums2.\n",
        "answer[1] is a list of all distinct integers in nums2 which are not present in nums1.\n",
        "Note that the integers in the lists may be returned in any order.\n",
        "\n",
        "Example 1:\n",
        "\n",
        "Input: nums1 = [1,2,3], nums2 = [2,4,6]\n",
        "Output: [[1,3],[4,6]]\n",
        "Explanation:\n",
        "For nums1, nums1[1] = 2 is present at index 0 of nums2, whereas nums1[0] = 1 and nums1[2] = 3 are not present in nums2. Therefore, answer[0] = [1,3].\n",
        "For nums2, nums2[0] = 2 is present at index 1 of nums1, whereas nums2[1] = 4 and nums2[2] = 6 are not present in nums2. Therefore, answer[1] = [4,6].\n",
        "Example 2:\n",
        "\n",
        "Input: nums1 = [1,2,3,3], nums2 = [1,1,2,2]\n",
        "Output: [[3],[]]\n",
        "Explanation:\n",
        "For nums1, nums1[2] and nums1[3] are not present in nums2. Since nums1[2] == nums1[3], their value is only included once and answer[0] = [3].\n",
        "Every integer in nums2 is present in nums1. Therefore, answer[1] = [].\n",
        "'''\n",
        "class Solution:\n",
        "    def findDifference(self, nums1, nums2):\n",
        "        n1s = set(nums1)\n",
        "        n2s = set(nums2)\n",
        "\n",
        "        return [list(n1s-n2s), list(n2s-n1s)]"
      ],
      "metadata": {
        "colab": {
          "base_uri": "https://localhost:8080/"
        },
        "id": "qGiQlXQm0ByD",
        "outputId": "b8b6ae3a-04c1-425f-f790-61b619c1e20a"
      },
      "execution_count": 170,
      "outputs": [
        {
          "output_type": "stream",
          "name": "stdout",
          "text": [
            "{0, 1, 8, 11, 17, 22} {0, 6, 11, 17, 20, 27}\n"
          ]
        },
        {
          "output_type": "execute_result",
          "data": {
            "text/plain": [
              "[[8, 1, 22], [27, 20, 6]]"
            ]
          },
          "metadata": {},
          "execution_count": 170
        }
      ]
    },
    {
      "cell_type": "code",
      "source": [
        "# DONE - Submitted - Medium\n",
        "'''\n",
        "LC 1657. Determine if Two Strings Are Close- Medium\n",
        "\n",
        "Two strings are considered close if you can attain one from the other using the following operations:\n",
        "\n",
        "Operation 1: Swap any two existing characters.\n",
        "For example, abcde -> aecdb\n",
        "Operation 2: Transform every occurrence of one existing character into another existing character, and do the same with the other character.\n",
        "For example, aacabb -> bbcbaa (all a's turn into b's, and all b's turn into a's)\n",
        "You can use the operations on either string as many times as necessary.\n",
        "\n",
        "Given two strings, word1 and word2, return true if word1 and word2 are close, and false otherwise.\n",
        "\n",
        "Example 1:\n",
        "\n",
        "Input: word1 = \"abc\", word2 = \"bca\"\n",
        "Output: true\n",
        "Explanation: You can attain word2 from word1 in 2 operations.\n",
        "Apply Operation 1: \"abc\" -> \"acb\"\n",
        "Apply Operation 1: \"acb\" -> \"bca\"\n",
        "Example 2:\n",
        "\n",
        "Input: word1 = \"a\", word2 = \"aa\"\n",
        "Output: false\n",
        "Explanation: It is impossible to attain word2 from word1, or vice versa, in any number of operations.\n",
        "Example 3:\n",
        "\n",
        "Input: word1 = \"cabbba\", word2 = \"abbccc\"\n",
        "Output: true\n",
        "Explanation: You can attain word2 from word1 in 3 operations.\n",
        "Apply Operation 1: \"cabbba\" -> \"caabbb\"\n",
        "Apply Operation 2: \"caabbb\" -> \"baaccc\"\n",
        "Apply Operation 2: \"baaccc\" -> \"abbccc\"\n",
        "'''\n",
        "\n",
        "class Solution:\n",
        "    def closeStrings(self, word1: str, word2: str) -> bool:\n",
        "\n",
        "        if len(word1) != len(word2):\n",
        "            return False\n",
        "\n",
        "        w1_c = Counter(word1)\n",
        "        w2_c = Counter(word2)\n",
        "\n",
        "        if w1_c == w2_c:\n",
        "            return True\n",
        "\n",
        "        # Do not touch keys with equal counts, they are assets\n",
        "        if len(w1_c) != len(w2_c):\n",
        "            return False\n",
        "\n",
        "        if set(w1_c.keys()) != set(w2_c.keys()):\n",
        "            return False\n",
        "\n",
        "        '''\n",
        "        The intution here is that, we can only transform all occurances of certain char to all occurances of other char,\n",
        "\n",
        "        as long as there is one to one mapping of all frequencies of word1 to word 2 frequencies, we are good, else its not possible\n",
        "        '''\n",
        "\n",
        "        v1s = Counter(w1_c.values())\n",
        "        v2s = Counter(w2_c.values())\n",
        "\n",
        "        if v1s == v2s: return True\n",
        "        return False\n"
      ],
      "metadata": {
        "colab": {
          "base_uri": "https://localhost:8080/"
        },
        "id": "dyM2U5IX3BB2",
        "outputId": "d92f9c8e-fe10-4184-86ec-55dc451beace"
      },
      "execution_count": 172,
      "outputs": [
        {
          "output_type": "execute_result",
          "data": {
            "text/plain": [
              "True"
            ]
          },
          "metadata": {},
          "execution_count": 172
        }
      ]
    },
    {
      "cell_type": "code",
      "source": [
        "# DONE - Submitted - Medium\n",
        "'''\n",
        "LC: 2390. Removing Stars From a String\n",
        "\n",
        "You are given a string s, which contains stars *.\n",
        "In one operation, you can:\n",
        "\n",
        "Choose a star in s.\n",
        "Remove the closest non-star character to its left, as well as remove the star itself.\n",
        "Return the string after all stars have been removed.\n",
        "\n",
        "Note:\n",
        "\n",
        "The input will be generated such that the operation is always possible.\n",
        "It can be shown that the resulting string will always be unique.\n",
        "\n",
        "Example 1:\n",
        "\n",
        "Input: s = \"leet**cod*e\"\n",
        "Output: \"lecoe\"\n",
        "Explanation: Performing the removals from left to right:\n",
        "- The closest character to the 1st star is 't' in \"leet**cod*e\". s becomes \"lee*cod*e\".\n",
        "- The closest character to the 2nd star is 'e' in \"lee*cod*e\". s becomes \"lecod*e\".\n",
        "- The closest character to the 3rd star is 'd' in \"lecod*e\". s becomes \"lecoe\".\n",
        "There are no more stars, so we return \"lecoe\".\n",
        "Example 2:\n",
        "\n",
        "Input: s = \"erase*****\"\n",
        "Output: \"\"\n",
        "Explanation: The entire string is removed, so we return an empty string.\n",
        "'''\n",
        "class Solution:\n",
        "    def removeStars(self, s: str) -> str:\n",
        "        idx = len(s)-1\n",
        "        output = []\n",
        "\n",
        "        star_count = 0\n",
        "        for idx in s:\n",
        "            if idx == '*':\n",
        "                output.pop(-1)\n",
        "            else:\n",
        "                output.append(idx)\n",
        "\n",
        "        return ''.join(output)\n",
        "Solution().removeStars(\"leet**cod*e\")"
      ],
      "metadata": {
        "colab": {
          "base_uri": "https://localhost:8080/",
          "height": 226
        },
        "id": "WKtAliu38b3K",
        "outputId": "dfe9d535-5ce5-4309-933b-2d667c416b9f"
      },
      "execution_count": 183,
      "outputs": [
        {
          "output_type": "stream",
          "name": "stdout",
          "text": [
            "['l']\n",
            "['l', 'e']\n",
            "['l', 'e', 'e']\n",
            "['l', 'e', 'e', 't']\n",
            "['l', 'e', 'e', 't']\n",
            "['l', 'e', 'e', 't']\n",
            "['l', 'e']\n",
            "['l', 'e', 'o']\n",
            "['l', 'e', 'o', 'd']\n",
            "['l', 'e', 'o', 'd']\n",
            "['l', 'e', 'o']\n"
          ]
        },
        {
          "output_type": "execute_result",
          "data": {
            "text/plain": [
              "'leo'"
            ],
            "application/vnd.google.colaboratory.intrinsic+json": {
              "type": "string"
            }
          },
          "metadata": {},
          "execution_count": 183
        }
      ]
    },
    {
      "cell_type": "code",
      "source": [
        "# DONE - Submitted - Medium\n",
        "'''\n",
        "735. Asteroid Collision\n",
        "\n",
        "We are given an array asteroids of integers representing asteroids in a row.\n",
        "\n",
        "For each asteroid, the absolute value represents its size, and the sign represents its direction (positive meaning right, negative meaning left). Each asteroid moves at the same speed.\n",
        "\n",
        "Find out the state of the asteroids after all collisions. If two asteroids meet, the smaller one will explode. If both are the same size, both will explode. Two asteroids moving in the same direction will never meet.\n",
        "\n",
        "\n",
        "\n",
        "Example 1:\n",
        "\n",
        "Input: asteroids = [5,10,-5]\n",
        "Output: [5,10]\n",
        "Explanation: The 10 and -5 collide resulting in 10. The 5 and 10 never collide.\n",
        "Example 2:\n",
        "\n",
        "Input: asteroids = [8,-8]\n",
        "Output: []\n",
        "Explanation: The 8 and -8 collide exploding each other.\n",
        "Example 3:\n",
        "\n",
        "Input: asteroids = [10,2,-5]\n",
        "Output: [10]\n",
        "Explanation: The 2 and -5 collide resulting in -5. The 10 and -5 collide resulting in 10.\n",
        "'''\n",
        "class Solution:\n",
        "    def asteroidCollision(self, ast):\n",
        "\n",
        "        i = 0\n",
        "\n",
        "        while i < len(ast):\n",
        "\n",
        "            if i == 0:\n",
        "                i += 1\n",
        "                continue\n",
        "\n",
        "            if ast[i] > 0:\n",
        "                i += 1\n",
        "                continue\n",
        "\n",
        "            sum_abs = abs(ast[i] + ast[i-1])\n",
        "\n",
        "            if sum_abs == 0:\n",
        "                ast.pop(i)\n",
        "                ast.pop(i-1)\n",
        "                i -= 1\n",
        "            elif abs(ast[i]) + abs(ast[i-1]) > sum_abs: # collision\n",
        "                idx_to_pop = i-1 if abs(ast[i]) > abs(ast[i-1]) else i\n",
        "                ast.pop(idx_to_pop)\n",
        "                i -= 1\n",
        "            else:\n",
        "                i += 1\n",
        "\n",
        "        return ast\n",
        "\n",
        "\n",
        "Solution().asteroidCollision([10,2,-5])"
      ],
      "metadata": {
        "colab": {
          "base_uri": "https://localhost:8080/"
        },
        "id": "9jBg1k9ZDjzw",
        "outputId": "d06e4548-c668-4a68-e7d4-c433935068eb"
      },
      "execution_count": 190,
      "outputs": [
        {
          "output_type": "execute_result",
          "data": {
            "text/plain": [
              "[10]"
            ]
          },
          "metadata": {},
          "execution_count": 190
        }
      ]
    },
    {
      "cell_type": "code",
      "source": [
        "# Attempted but did not go through - 119/121 test cases passed, only 2 failed. I checked those test cases, they were correct with my calculation, but\n",
        "# system says it differently\n",
        "\n",
        "'''\n",
        "437. Path Sum III\n",
        "\n",
        "Given the root of a binary tree and an integer targetSum, return the number of paths where the sum of the values along the path equals targetSum.\n",
        "The path does not need to start or end at the root or a leaf, but it must go downwards (i.e., traveling only from parent nodes to child nodes).\n",
        "\n",
        "Example 1:\n",
        "Input: root = [10,5,-3,3,2,null,11,3,-2,null,1], targetSum = 8\n",
        "Output: 3\n",
        "Explanation: The paths that sum to 8 are shown.\n",
        "\n",
        "Example 2:\n",
        "\n",
        "Input: root = [5,4,8,11,null,13,4,7,2,null,null,5,1], targetSum = 22\n",
        "Output: 3\n",
        "'''\n",
        "\n",
        "# Definition for a binary tree node.\n",
        "# class TreeNode:\n",
        "#     def __init__(self, val=0, left=None, right=None):\n",
        "#         self.val = val\n",
        "#         self.left = left\n",
        "#         self.right = right\n",
        "\n",
        "from typing_extensions import DefaultDict\n",
        "\n",
        "class TreeNode:\n",
        "    def __init__(self, val=0, left=None, right=None):\n",
        "        self.val = val\n",
        "        self.left = left\n",
        "        self.right = right\n",
        "\n",
        "root = TreeNode(10)\n",
        "root.right = TreeNode(-3)\n",
        "root.left = TreeNode(5)\n",
        "\n",
        "root.right.right = TreeNode(11)\n",
        "root.left.left = TreeNode(3)\n",
        "root.left.right = TreeNode(2)\n",
        "\n",
        "root.left.left.left = TreeNode(3)\n",
        "root.left.left.right = TreeNode(-2)\n",
        "root.left.right.right = TreeNode(1)\n",
        "\n",
        "\n",
        "class Solution:\n",
        "    def pathSum(self, root, targetSum: int) -> int:\n",
        "\n",
        "        self.target = targetSum\n",
        "        self.count = 0\n",
        "\n",
        "        self.sum_path(root, {})\n",
        "\n",
        "        return self.count\n",
        "\n",
        "    def sum_path(self, node, path_sums):\n",
        "\n",
        "        if node == None:\n",
        "            return\n",
        "\n",
        "        np = DefaultDict(int)\n",
        "        for k, v in path_sums.items():\n",
        "            np[k+node.val] += v\n",
        "\n",
        "        np[node.val] += 1\n",
        "\n",
        "        if self.target in np:\n",
        "            self.count += np[self.target]\n",
        "            np[self.target] = 0\n",
        "\n",
        "        self.sum_path(node.right, np)\n",
        "        self.sum_path(node.left, np)\n",
        "\n",
        "        return\n",
        "\n",
        "\n",
        "Solution().pathSum(root, 8)"
      ],
      "metadata": {
        "colab": {
          "base_uri": "https://localhost:8080/"
        },
        "id": "lthQsEBELoG4",
        "outputId": "1513699e-8c86-44ef-9bb9-adfaeccda8df"
      },
      "execution_count": 13,
      "outputs": [
        {
          "output_type": "execute_result",
          "data": {
            "text/plain": [
              "3"
            ]
          },
          "metadata": {},
          "execution_count": 13
        }
      ]
    },
    {
      "cell_type": "code",
      "source": [
        "# DONE - Submitted - Medium\n",
        "'''\n",
        "1161. Maximum Level Sum of a Binary Tree - Medium\n",
        "\n",
        "Given the root of a binary tree, the level of its root is 1, the level of its children is 2, and so on.\n",
        "\n",
        "Return the smallest level x such that the sum of all the values of nodes at level x is maximal.\n",
        "\n",
        "Example 1:\n",
        "\n",
        "\n",
        "Input: root = [1,7,0,7,-8,null,null]\n",
        "Output: 2\n",
        "Explanation:\n",
        "Level 1 sum = 1.\n",
        "Level 2 sum = 7 + 0 = 7.\n",
        "Level 3 sum = 7 + -8 = -1.\n",
        "So we return the level with the maximum sum which is level 2.\n",
        "Example 2:\n",
        "\n",
        "Input: root = [989,null,10250,98693,-89388,null,null,null,-32127]\n",
        "Output: 2\n",
        "'''\n",
        "root = TreeNode(-100)\n",
        "\n",
        "root.left = TreeNode(-200)\n",
        "root.right = TreeNode(-300)\n",
        "\n",
        "root.left.left = TreeNode(-20)\n",
        "root.left.right = TreeNode(-5)\n",
        "\n",
        "root.right.left = TreeNode(-10)\n",
        "\n",
        "class TreeNode:\n",
        "    def __init__(self, val=0, left=None, right=None):\n",
        "        self.val = val\n",
        "        self.left = left\n",
        "        self.right = right\n",
        "\n",
        "class Solution:\n",
        "    def maxLevelSum(self, root) -> int:\n",
        "\n",
        "        if root == None:\n",
        "            return 0\n",
        "\n",
        "        self.level_sum = DefaultDict(int)\n",
        "        self._ls(root, 1)\n",
        "\n",
        "        max_sum = -float('inf')\n",
        "        max_sum_levels = []\n",
        "        # print(self.level_sum)\n",
        "        for level, level_sum in self.level_sum.items():\n",
        "            if level_sum > max_sum:\n",
        "                max_sum_levels = [level]\n",
        "                max_sum = level_sum\n",
        "            elif level_sum == max_sum:\n",
        "                max_sum_levels.append(level)\n",
        "\n",
        "        return min(max_sum_levels)\n",
        "\n",
        "    def _ls(self, node, level):\n",
        "        if node == None:\n",
        "            return\n",
        "\n",
        "        self.level_sum[level] += node.val\n",
        "        self._ls(node.right, level + 1)\n",
        "        self._ls(node.left, level + 1)\n",
        "\n",
        "        return\n",
        "\n",
        "Solution().maxLevelSum(root)"
      ],
      "metadata": {
        "colab": {
          "base_uri": "https://localhost:8080/"
        },
        "id": "0O3qZjMS0JTf",
        "outputId": "ae2c2d9d-d82f-48c5-c370-cd0c26e956a9"
      },
      "execution_count": 18,
      "outputs": [
        {
          "output_type": "execute_result",
          "data": {
            "text/plain": [
              "3"
            ]
          },
          "metadata": {},
          "execution_count": 18
        }
      ]
    },
    {
      "cell_type": "code",
      "source": [
        "# Done Submitted - Medium\n",
        "'''\n",
        "LC: 187. Repeated DNA Sequences\n",
        "\n",
        "The DNA sequence is composed of a series of nucleotides abbreviated as 'A', 'C', 'G', and 'T'.\n",
        "\n",
        "For example, \"ACGAATTCCG\" is a DNA sequence.\n",
        "When studying DNA, it is useful to identify repeated sequences within the DNA.\n",
        "\n",
        "Given a string s that represents a DNA sequence, return all the 10-letter-long sequences (substrings)\n",
        "that occur more than once in a DNA molecule. You may return the answer in any order.\n",
        "\n",
        "Example 1:\n",
        "Input: s = \"AAAAACCCCCAAAAACCCCCCAAAAAGGGTTT\"\n",
        "Output: [\"AAAAACCCCC\",\"CCCCCAAAAA\"]\n",
        "\n",
        "Example 2:\n",
        "Input: s = \"AAAAAAAAAAAAA\"\n",
        "Output: [\"AAAAAAAAAA\"]\n",
        "'''\n",
        "class Solution:\n",
        "    def findRepeatedDnaSequences(self, s: str):\n",
        "\n",
        "        if len(s) < 10:\n",
        "            return []\n",
        "\n",
        "        seqs_count = DefaultDict(int)\n",
        "        seqs = set()\n",
        "\n",
        "        for i in range(len(s) - 10 + 1):\n",
        "            seq = s[i:i+10]\n",
        "            seqs_count[seq] += 1\n",
        "            if seqs_count[seq] > 1:\n",
        "                seqs.add(seq)\n",
        "        return list(seqs)\n",
        "\n",
        "Solution().findRepeatedDnaSequences(\"AAAAAAAAAAA\")"
      ],
      "metadata": {
        "colab": {
          "base_uri": "https://localhost:8080/"
        },
        "id": "UtS-I8ox8Rkx",
        "outputId": "4dc0121a-4481-4cc8-8db5-2b16f10a62d4"
      },
      "execution_count": 52,
      "outputs": [
        {
          "output_type": "execute_result",
          "data": {
            "text/plain": [
              "['AAAAAAAAAA']"
            ]
          },
          "metadata": {},
          "execution_count": 52
        }
      ]
    },
    {
      "cell_type": "code",
      "source": [
        "# Done Submitted - Medium\n",
        "'''\n",
        "1861. Rotating the Box - Medium\n",
        "\n",
        "You are given an m x n matrix of characters box representing a side-view of a box. Each cell of the box is one of the following:\n",
        "A stone '#'\n",
        "A stationary obstacle '*'\n",
        "Empty '.'\n",
        "The box is rotated 90 degrees clockwise, causing some of the stones to fall due to gravity. Each stone falls down until it lands on an obstacle, another stone, or the bottom of the box. Gravity does not affect the obstacles' positions, and the inertia from the box's rotation does not affect the stones' horizontal positions.\n",
        "\n",
        "It is guaranteed that each stone in box rests on an obstacle, another stone, or the bottom of the box.\n",
        "Return an n x m matrix representing the box after the rotation described above.\n",
        "\n",
        "Example 1:\n",
        "\n",
        "Input: box = [[\"#\",\".\",\"#\"]]\n",
        "Output: [[\".\"],\n",
        "         [\"#\"],\n",
        "         [\"#\"]]\n",
        "\n",
        "Example 2:\n",
        "\n",
        "Input: box = [[\"#\",\".\",\"*\",\".\"],\n",
        "              [\"#\",\"#\",\"*\",\".\"]]\n",
        "Output: [[\"#\",\".\"],\n",
        "         [\"#\",\"#\"],\n",
        "         [\"*\",\"*\"],\n",
        "         [\".\",\".\"]]\n",
        "\n",
        "Example 3:\n",
        "\n",
        "Input: box = [[\"#\",\"#\",\"*\",\".\",\"*\",\".\"],\n",
        "              [\"#\",\"#\",\"#\",\"*\",\".\",\".\"],\n",
        "              [\"#\",\"#\",\"#\",\".\",\"#\",\".\"]]\n",
        "Output: [[\".\",\"#\",\"#\"],\n",
        "         [\".\",\"#\",\"#\"],\n",
        "         [\"#\",\"#\",\"*\"],\n",
        "         [\"#\",\"*\",\".\"],\n",
        "         [\"#\",\".\",\"*\"],\n",
        "         [\"#\",\".\",\".\"]]\n",
        "'''\n",
        "\n",
        "class Solution:\n",
        "    def rotateTheBox(self, box):\n",
        "\n",
        "        stone = '#'\n",
        "        obs = '*'\n",
        "        space = '.'\n",
        "\n",
        "        nb = []\n",
        "        for row in box:\n",
        "            move = pin = len(row) - 1\n",
        "            while move >= 0 and pin >= 0:\n",
        "                if row[move] == space:\n",
        "                    move -= 1\n",
        "                elif row[move] == obs:\n",
        "                    move -= 1\n",
        "                    pin = move\n",
        "                elif row[move] == stone:\n",
        "                    row[move], row[pin] = row[pin], row[move]\n",
        "                    pin -= 1\n",
        "                    move -= 1\n",
        "            nb.append(row)\n",
        "        return [list(reversed(col)) for col in zip(*nb)]\n",
        "\n",
        "box = [[\"#\",\"#\",\"*\",\".\",\"*\",\".\"],\n",
        "              [\"#\",\"#\",\"#\",\"*\",\".\",\".\"],\n",
        "              [\"#\",\"#\",\"#\",\".\",\"#\",\".\"]]\n",
        "Solution().rotateTheBox(box)\n"
      ],
      "metadata": {
        "colab": {
          "base_uri": "https://localhost:8080/"
        },
        "id": "anvifFW4fssj",
        "outputId": "3dfab512-4c3b-499b-897f-1704ea6e1152"
      },
      "execution_count": 62,
      "outputs": [
        {
          "output_type": "execute_result",
          "data": {
            "text/plain": [
              "[['.', '#', '#'],\n",
              " ['.', '#', '#'],\n",
              " ['#', '#', '*'],\n",
              " ['#', '*', '.'],\n",
              " ['#', '.', '*'],\n",
              " ['#', '.', '.']]"
            ]
          },
          "metadata": {},
          "execution_count": 62
        }
      ]
    },
    {
      "cell_type": "code",
      "source": [
        "# Done Submitted - Easy\n",
        "'''\n",
        "700. Search in a Binary Search Tree\n",
        "\n",
        "You are given the root of a binary search tree (BST) and an integer val.\n",
        "\n",
        "Find the node in the BST that the node's value equals val and return the subtree rooted with that node. If such a node does not exist, return null.\n",
        "\n",
        "Example 1:\n",
        "\n",
        "Input: root = [4,2,7,1,3], val = 2\n",
        "Output: [2,1,3]\n",
        "\n",
        "Example 2:\n",
        "Input: root = [4,2,7,1,3], val = 5\n",
        "Output: []\n",
        "'''\n",
        "class Solution:\n",
        "    def searchBST(self, root, val: int):\n",
        "        return self._search(root, val)\n",
        "\n",
        "    def _search(self, node, val):\n",
        "        if node == None:\n",
        "            return None\n",
        "        elif node.val == val:\n",
        "            return node\n",
        "\n",
        "        if node.val > val: # go left\n",
        "            return self._search(node.left, val)\n",
        "        else: # go right\n",
        "            return self._search(node.right, val)"
      ],
      "metadata": {
        "id": "sBmrTDm9lgx0"
      },
      "execution_count": 63,
      "outputs": []
    },
    {
      "cell_type": "code",
      "source": [
        "# BST - Node Deletion - VVIMP\n",
        "# Done - Submitted - Medium\n",
        "'''\n",
        "450. Delete Node in a BST\n",
        "Given a root node reference of a BST and a key, delete the node with the given key in the BST.\n",
        "Return the root node reference (possibly updated) of the BST.\n",
        "Basically, the deletion can be divided into two stages:\n",
        "\n",
        "Search for a node to remove.\n",
        "If the node is found, delete the node.\n",
        "\n",
        "Example 1:\n",
        "Input: root = [5,3,6,2,4,null,7], key = 3\n",
        "Output: [5,4,6,2,null,null,7]\n",
        "Explanation: Given key to delete is 3. So we find the node with value 3 and delete it.\n",
        "One valid answer is [5,4,6,2,null,null,7], shown in the above BST.\n",
        "Please notice that another valid answer is [5,2,6,null,4,null,7] and it's also accepted.\n",
        "\n",
        "Example 2:\n",
        "Input: root = [5,3,6,2,4,null,7], key = 0\n",
        "Output: [5,3,6,2,4,null,7]\n",
        "Explanation: The tree does not contain a node with value = 0.\n",
        "\n",
        "Example 3:\n",
        "Input: root = [], key = 0\n",
        "Output: []\n",
        "'''\n",
        "# Definition for a binary tree node.\n",
        "class TreeNode:\n",
        "    def __init__(self, val=0, left=None, right=None):\n",
        "        self.val = val\n",
        "        self.left = left\n",
        "        self.right = right\n",
        "\n",
        "class Solution:\n",
        "\n",
        "    def searchBST(self, root, val: int) :\n",
        "        return self._search(root, None, val)\n",
        "\n",
        "    def _search(self, node, parent, val):\n",
        "\n",
        "        if node == None:\n",
        "            return None, parent\n",
        "\n",
        "        elif node.val == val:\n",
        "            return node, parent\n",
        "\n",
        "        if node.val > val: # go left\n",
        "            return self._search(node.left, node, val)\n",
        "        else: # go right\n",
        "            return self._search(node.right, node, val)\n",
        "\n",
        "    def deleteNode(self, root, key: int):\n",
        "\n",
        "        # search the node\n",
        "        # if node not found - return None - done\n",
        "        # check if its leaf node, then return the node - set the parent's child to None - done\n",
        "        # if it has only one child, set the nodes parents child to this nodes child and - done\n",
        "        # if it has 2 children, get the left most element of right and swap its position to this nodes position - done\n",
        "\n",
        "        target, parent = self.searchBST(root, key)\n",
        "        if target == None: # Node not found\n",
        "            pass\n",
        "\n",
        "        elif target.left == None and target.right == None: # leaf node case\n",
        "\n",
        "            if parent == None: # root node case\n",
        "                return None\n",
        "\n",
        "            setattr(parent, 'left' if parent.left and parent.left.val == target.val else 'right', None)\n",
        "\n",
        "        elif target.left == None: # only right child\n",
        "\n",
        "            if parent == None: # root node case\n",
        "                return target.right\n",
        "            setattr(parent, 'left' if parent.left and parent.left.val == target.val else 'right', target.right)\n",
        "\n",
        "        elif target.right == None: # only left child\n",
        "\n",
        "            if parent == None: # root node case\n",
        "                return target.left\n",
        "\n",
        "            setattr(parent, 'left' if parent.left and parent.left.val == target.val else 'right', target.left)\n",
        "\n",
        "        else: # node has 2 children\n",
        "            # get the left most child of right node\n",
        "            rn, rnp = target.right, target\n",
        "            while rn.left != None:\n",
        "                rnp = rn\n",
        "                rn = rn.left\n",
        "\n",
        "            setattr(rnp, 'left' if rnp.left and rnp.left.val == rn.val else 'right', rn.right)\n",
        "\n",
        "            # node to replace is stored in rn\n",
        "            rn.left = target.left\n",
        "            rn.right = target.right\n",
        "\n",
        "            # Now set the parent\n",
        "            if parent == None:\n",
        "                return rn\n",
        "\n",
        "            setattr(parent, 'left' if parent.left and parent.left.val == target.val else 'right', rn)\n",
        "\n",
        "        return root\n",
        "\n",
        "# root = TreeNode(5)\n",
        "\n",
        "# root.left = TreeNode(3)\n",
        "# root.right = TreeNode(6)\n",
        "\n",
        "# root.left.left = TreeNode(2)\n",
        "# root.left.right = TreeNode(4)\n",
        "# root.right.right = TreeNode(7)\n",
        "\n",
        "root = TreeNode(2)\n",
        "root.right = TreeNode(1)\n",
        "\n",
        "out = Solution().deleteNode(root, key = 2)\n",
        "print(out.val, out.left, out.right)"
      ],
      "metadata": {
        "colab": {
          "base_uri": "https://localhost:8080/"
        },
        "id": "59m6PgFkl_r-",
        "outputId": "8963f5b6-5c0c-4cf4-df70-271b06b33afb"
      },
      "execution_count": 70,
      "outputs": [
        {
          "output_type": "stream",
          "name": "stdout",
          "text": [
            "1 None None\n"
          ]
        }
      ]
    },
    {
      "cell_type": "code",
      "source": [
        "# Done - Submitted - Medium\n",
        "\n",
        "'''\n",
        "841. Keys and Rooms\n",
        "There are n rooms labeled from 0 to n - 1 and all the rooms are locked except for room 0. Your goal is to visit all the rooms.\n",
        "However, you cannot enter a locked room without having its key.\n",
        "When you visit a room, you may find a set of distinct keys in it. Each key has a number on it,\n",
        "denoting which room it unlocks, and you can take all of them with you to unlock the other rooms.\n",
        "\n",
        "Given an array rooms where rooms[i] is the set of keys that you can obtain if you visited room i,\n",
        "return true if you can visit all the rooms, or false otherwise.\n",
        "\n",
        "Example 1:\n",
        "Input: rooms = [[1],[2],[3],[]]\n",
        "Output: true\n",
        "Explanation:\n",
        "We visit room 0 and pick up key 1.\n",
        "We then visit room 1 and pick up key 2.\n",
        "We then visit room 2 and pick up key 3.\n",
        "We then visit room 3.\n",
        "Since we were able to visit every room, we return true.\n",
        "\n",
        "Example 2:\n",
        "Input: rooms = [[1,3],[3,0,1],[2],[0]]\n",
        "Output: false\n",
        "Explanation: We can not enter room number 2 since the only key that unlocks it is in that room.\n",
        "\n",
        "'''\n",
        "class Solution:\n",
        "    def canVisitAllRooms(self, rooms) -> bool:\n",
        "        # lets implement dfs\n",
        "\n",
        "        if len(rooms) == 0:\n",
        "            return False\n",
        "\n",
        "        to_visit_stack = [0]\n",
        "        visited = set()\n",
        "\n",
        "        while len(to_visit_stack) > 0:\n",
        "            room_to_visit = to_visit_stack.pop(-1)\n",
        "            if room_to_visit in visited:\n",
        "                continue\n",
        "            to_visit_stack += rooms[room_to_visit]\n",
        "            visited.add(room_to_visit)\n",
        "\n",
        "        if len(visited) != len(rooms):\n",
        "            return False\n",
        "\n",
        "        return True\n",
        "\n",
        "Solution().canVisitAllRooms([[1],[2],[3],[]])"
      ],
      "metadata": {
        "colab": {
          "base_uri": "https://localhost:8080/"
        },
        "id": "W0EwRWn_zzmC",
        "outputId": "16365788-4434-491a-dc62-9cf5524ff185"
      },
      "execution_count": 78,
      "outputs": [
        {
          "output_type": "execute_result",
          "data": {
            "text/plain": [
              "True"
            ]
          },
          "metadata": {},
          "execution_count": 78
        }
      ]
    },
    {
      "cell_type": "code",
      "source": [
        "# Done - Submitted - Medium\n",
        "# Lets implement a heap from scratch\n",
        "'''\n",
        "215. Kth Largest Element in an Array\n",
        "Given an integer array nums and an integer k, return the kth largest element in the array.\n",
        "Note that it is the kth largest element in the sorted order, not the kth distinct element.\n",
        "Can you solve it without sorting?\n",
        "\n",
        "Example 1:\n",
        "Input: nums = [3,2,1,5,6,4], k = 2\n",
        "Output: 5\n",
        "\n",
        "Example 2:\n",
        "Input: nums = [3,2,3,1,2,4,5,5,6], k = 4\n",
        "Output: 4\n",
        "\n",
        "Constraints:\n",
        "1 <= k <= nums.length <= 105\n",
        "-104 <= nums[i] <= 104\n",
        "'''\n",
        "class MinHeap:\n",
        "    def __init__(self, elements):\n",
        "        self.heap = []\n",
        "        [self.insert(i) for i in elements]\n",
        "\n",
        "    def insert(self, val):\n",
        "        self.heap.append(val)\n",
        "\n",
        "        c_i = len(self.heap) - 1\n",
        "\n",
        "        while True: # do the swapping\n",
        "            p_i = (c_i - 1)//2\n",
        "            if p_i < 0:\n",
        "                break\n",
        "\n",
        "            if self.heap[p_i] > self.heap[c_i]:\n",
        "                self.heap[p_i], self.heap[c_i] = self.heap[c_i], self.heap[p_i]\n",
        "                c_i = p_i\n",
        "            else:\n",
        "                break\n",
        "\n",
        "    def pop(self):\n",
        "\n",
        "        if len(self.heap) == 0:\n",
        "            raise KeyError('The heap is empty')\n",
        "\n",
        "        min_val = self.heap[0]\n",
        "\n",
        "        self.heap[0] = self.heap[-1]\n",
        "        self.heap.pop(-1)\n",
        "\n",
        "        idx = 0\n",
        "        while True:\n",
        "\n",
        "            c1, c2 = idx*2 + 1, idx*2 + 2\n",
        "\n",
        "            if c1 >= len(self.heap):\n",
        "                break\n",
        "\n",
        "            if c2 <= len(self.heap) - 1:\n",
        "\n",
        "                swap_idx = c1 if self.heap[c1] <= self.heap[c2] else c2\n",
        "            else:\n",
        "                swap_idx = c1\n",
        "\n",
        "            if self.heap[swap_idx] > self.heap[idx]:\n",
        "                break\n",
        "\n",
        "            self.heap[idx], self.heap[swap_idx] = self.heap[swap_idx], self.heap[idx]\n",
        "            idx = swap_idx\n",
        "        return min_val\n",
        "\n",
        "class Solution:\n",
        "    def findKthLargest(self, nums, k: int):\n",
        "        heap = MinHeap([])\n",
        "        for num in nums:\n",
        "            heap.insert(num)\n",
        "            if len(heap.heap) > k:\n",
        "                heap.pop()\n",
        "        return heap.pop()\n",
        "\n",
        "Solution().findKthLargest([3,2,3,1,2,4,5,5,6], k = 4)"
      ],
      "metadata": {
        "colab": {
          "base_uri": "https://localhost:8080/"
        },
        "id": "rHR18BkO8rJ4",
        "outputId": "62e159bb-d6f3-4b32-a8d9-0ca40fbdb22f"
      },
      "execution_count": 93,
      "outputs": [
        {
          "output_type": "execute_result",
          "data": {
            "text/plain": [
              "4"
            ]
          },
          "metadata": {},
          "execution_count": 93
        }
      ]
    },
    {
      "cell_type": "code",
      "source": [
        "# Done - Submitted - Medium\n",
        "'''\n",
        "1466. Reorder Routes to Make All Paths Lead to the City Zero\n",
        "There are n cities numbered from 0 to n - 1 and n - 1 roads such that there is only one way to travel between two different cities (this network form a tree). Last year,\n",
        "The ministry of transport decided to orient the roads in one direction because they are too narrow.\n",
        "Roads are represented by connections where connections[i] = [ai, bi] represents a road from city ai to city bi.\n",
        "This year, there will be a big event in the capital (city 0), and many people want to travel to this city.\n",
        "Your task consists of reorienting some roads such that each city can visit the city 0. Return the minimum number of edges changed.\n",
        "\n",
        "It's guaranteed that each city can reach city 0 after reorder.\n",
        "\n",
        "Example 1:\n",
        "\n",
        "Input: n = 6, connections = [[0,1],[1,3],[2,3],[4,0],[4,5]]\n",
        "Output: 3\n",
        "Explanation: Change the direction of edges show in red such that each node can reach the node 0 (capital).\n",
        "\n",
        "Example 2:\n",
        "\n",
        "Input: n = 5, connections = [[1,0],[1,2],[3,2],[3,4]]\n",
        "Output: 2\n",
        "Explanation: Change the direction of edges show in red such that each node can reach the node 0 (capital).\n",
        "\n",
        "Example 3:\n",
        "\n",
        "Input: n = 3, connections = [[1,0],[2,0]]\n",
        "Output: 0\n",
        "'''\n",
        "class Node:\n",
        "    def __init__(self, val):\n",
        "        self.val = val\n",
        "        self.inc = []\n",
        "        self.outg = []\n",
        "\n",
        "class Solution:\n",
        "    def minReorder(self, n: int, connections) -> int:\n",
        "\n",
        "        self.nodes = [Node(i) for i in range(n)]\n",
        "\n",
        "        for edge in connections:\n",
        "            self.nodes[edge[0]].outg.append(edge[1])\n",
        "            self.nodes[edge[1]].inc.append(edge[0])\n",
        "\n",
        "        start_node = self.nodes[0] # start with root node, do dfs starting with outg, and for each outg increament the count by 1\n",
        "\n",
        "        self.count = 0\n",
        "\n",
        "        self._dfs(start_node, coming_from = None)\n",
        "\n",
        "        return self.count\n",
        "\n",
        "    def _dfs(self, node, coming_from):\n",
        "\n",
        "        if hasattr(node, 'visited') and node.visited == True:\n",
        "            return\n",
        "\n",
        "        node.visited = True\n",
        "\n",
        "        if coming_from != None and len(node.outg + node.inc) == 1: # leaf node, do not perform anything over this\n",
        "            return\n",
        "\n",
        "        for n_i in node.outg:\n",
        "            if self.nodes[n_i] == coming_from:\n",
        "                continue\n",
        "            self.count += 1\n",
        "            self._dfs(self.nodes[n_i], node)\n",
        "\n",
        "        for n_i in node.inc:\n",
        "            self._dfs(self.nodes[n_i], node)\n",
        "\n",
        "Solution().minReorder(6, [[0,1],[1,3],[2,3],[4,0],[4,5]])"
      ],
      "metadata": {
        "colab": {
          "base_uri": "https://localhost:8080/"
        },
        "id": "3-7gNve-NNQD",
        "outputId": "32789ce5-0ee0-44b6-886c-b805ddcf6c4e"
      },
      "execution_count": 14,
      "outputs": [
        {
          "output_type": "execute_result",
          "data": {
            "text/plain": [
              "3"
            ]
          },
          "metadata": {},
          "execution_count": 14
        }
      ]
    },
    {
      "cell_type": "code",
      "source": [
        "# Done - Submitted - Medium - BFS problem\n",
        "'''\n",
        "994. Rotting Oranges\n",
        "\n",
        "You are given an m x n grid where each cell can have one of three values:\n",
        "\n",
        "0 representing an empty cell,\n",
        "1 representing a fresh orange, or\n",
        "2 representing a rotten orange.\n",
        "Every minute, any fresh orange that is 4-directionally adjacent to a rotten orange becomes rotten.\n",
        "\n",
        "Return the minimum number of minutes that must elapse until no cell has a fresh orange. If this is impossible, return -1.\n",
        "\n",
        "Example 1:\n",
        "\n",
        "Input: grid = [[2,1,1],[1,1,0],[0,1,1]]\n",
        "Output: 4\n",
        "\n",
        "Example 2:\n",
        "\n",
        "Input: grid = [[2,1,1],[0,1,1],[1,0,1]]\n",
        "Output: -1\n",
        "Explanation: The orange in the bottom left corner (row 2, column 0) is never rotten, because rotting only happens 4-directionally.\n",
        "\n",
        "Example 3:\n",
        "\n",
        "Input: grid = [[0,2]]\n",
        "Output: 0\n",
        "Explanation: Since there are already no fresh oranges at minute 0, the answer is just 0.\n",
        "'''\n",
        "\n",
        "class Solution:\n",
        "    def orangesRotting(self, grid) -> int:\n",
        "\n",
        "        fresh_oranges = 0\n",
        "\n",
        "        empty = 0\n",
        "        fresh = 1\n",
        "        rotten = 2\n",
        "\n",
        "        t = 0\n",
        "        nodes_to_visit = []\n",
        "        for i in range(len(grid)):\n",
        "            for j in range(len(grid[i])):\n",
        "                if grid[i][j] == fresh:\n",
        "                    fresh_oranges += 1\n",
        "                elif grid[i][j] == rotten:\n",
        "                    nodes_to_visit.append((i, j))\n",
        "\n",
        "        while len(nodes_to_visit) > 0 and fresh_oranges > 0:\n",
        "\n",
        "            new_nodes_to_visit = []\n",
        "            for i, j in nodes_to_visit:\n",
        "                idxs = ((i-1, j), (i+1, j), (i, j-1), (i, j+1))\n",
        "                for r, c in idxs:\n",
        "                    if r < 0 or r >= len(grid) or c < 0 or c >= len(grid[0]): # invalid idx... continue\n",
        "                        continue\n",
        "                    if grid[r][c] == fresh:\n",
        "                        grid[r][c] = rotten\n",
        "                        fresh_oranges -= 1\n",
        "                        new_nodes_to_visit.append((r, c))\n",
        "            nodes_to_visit = new_nodes_to_visit\n",
        "            t += 1\n",
        "\n",
        "        if fresh_oranges == 0:\n",
        "            return t\n",
        "        else:\n",
        "            return -1\n",
        "Solution().orangesRotting([[0,1]])"
      ],
      "metadata": {
        "colab": {
          "base_uri": "https://localhost:8080/"
        },
        "id": "Zz5tOfu99qEx",
        "outputId": "ff9dd2e9-ca5e-4d40-faaf-4ca66bec2b36"
      },
      "execution_count": 27,
      "outputs": [
        {
          "output_type": "execute_result",
          "data": {
            "text/plain": [
              "-1"
            ]
          },
          "metadata": {},
          "execution_count": 27
        }
      ]
    },
    {
      "cell_type": "code",
      "source": [
        "class Solution:\n",
        "    def maxScore(self, nums1, nums2, k):\n",
        "\n",
        "        nums = [(i, j) for i, j in zip(nums1, nums2)]\n",
        "        nums = sorted(nums, key = lambda x: x[1], reverse = True) # sorted [(n11, n21), (n12, n22)] sorted based on n2\n",
        "        nums1, nums2 = zip(*nums)\n",
        "\n",
        "        # Now we have sorted nums2 and adjusted nums1\n",
        "        n1w = nums1[:k]\n",
        "        n1s = sum(n1w)\n",
        "        coeff = nums2[k-1]\n",
        "        max_sum = coeff*n1s\n",
        "\n",
        "        for i in range(k, len(nums2)):\n",
        "\n",
        "            n1s = n1s - nums1[k-i] + nums1[i]\n",
        "            coeff = nums2[i]\n",
        "            max_sum = max(max_sum, coeff*n1s)\n",
        "\n",
        "        return max_sum\n",
        "\n",
        "Solution().maxScore([2,1,14,12], nums2 = [11,7,13,6], k = 3)"
      ],
      "metadata": {
        "colab": {
          "base_uri": "https://localhost:8080/"
        },
        "id": "M6abjGkXG7nF",
        "outputId": "a20ee7b6-8bc6-4136-d713-8eafde3e9848"
      },
      "execution_count": 43,
      "outputs": [
        {
          "output_type": "execute_result",
          "data": {
            "text/plain": [
              "119"
            ]
          },
          "metadata": {},
          "execution_count": 43
        }
      ]
    },
    {
      "cell_type": "code",
      "source": [
        "a, b = list(range(10)), list(range(10, 20))"
      ],
      "metadata": {
        "id": "CB0yEGq7SlSr"
      },
      "execution_count": 40,
      "outputs": []
    },
    {
      "cell_type": "code",
      "source": [
        "n = [(i, j) for i, j in zip(a, b)]"
      ],
      "metadata": {
        "id": "O6_J0zz7SpXq"
      },
      "execution_count": 29,
      "outputs": []
    },
    {
      "cell_type": "code",
      "source": [
        "c, d = zip(*n)"
      ],
      "metadata": {
        "id": "bYys7kb6SsVp"
      },
      "execution_count": 31,
      "outputs": []
    },
    {
      "cell_type": "code",
      "source": [
        "c, d"
      ],
      "metadata": {
        "colab": {
          "base_uri": "https://localhost:8080/"
        },
        "id": "JWGF6XuASs3j",
        "outputId": "2fa5d02d-a866-419a-c04c-81ad03cf10cf"
      },
      "execution_count": 32,
      "outputs": [
        {
          "output_type": "execute_result",
          "data": {
            "text/plain": [
              "((0, 1, 2, 3, 4, 5, 6, 7, 8, 9), (10, 11, 12, 13, 14, 15, 16, 17, 18, 19))"
            ]
          },
          "metadata": {},
          "execution_count": 32
        }
      ]
    },
    {
      "cell_type": "code",
      "source": [],
      "metadata": {
        "id": "k21QcpRcSwq3"
      },
      "execution_count": null,
      "outputs": []
    }
  ]
}
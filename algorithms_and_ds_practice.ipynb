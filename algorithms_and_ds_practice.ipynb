{
  "nbformat": 4,
  "nbformat_minor": 0,
  "metadata": {
    "colab": {
      "provenance": [],
      "collapsed_sections": [
        "yqVwsuQsPEFe",
        "1d6chI9XPL1c"
      ],
      "authorship_tag": "ABX9TyP3GNLUpkIWVbDIPwji25KN",
      "include_colab_link": true
    },
    "kernelspec": {
      "name": "python3",
      "display_name": "Python 3"
    },
    "language_info": {
      "name": "python"
    }
  },
  "cells": [
    {
      "cell_type": "markdown",
      "metadata": {
        "id": "view-in-github",
        "colab_type": "text"
      },
      "source": [
        "<a href=\"https://colab.research.google.com/github/pranay8297/fastaip2/blob/main/algorithms_and_ds_practice.ipynb\" target=\"_parent\"><img src=\"https://colab.research.google.com/assets/colab-badge.svg\" alt=\"Open In Colab\"/></a>"
      ]
    },
    {
      "cell_type": "code",
      "source": [
        "import time\n",
        "\n",
        "def timeit(func):\n",
        "    def new_func(*args, **kwargs):\n",
        "        t1 = time.time()\n",
        "        out = func(*args, **kwargs)\n",
        "        t2 = time.time()\n",
        "        print(f'total time in seconds: {t2 - t1} seconds')\n",
        "        return out\n",
        "    return new_func"
      ],
      "metadata": {
        "id": "CFv6WSC5OAcL"
      },
      "execution_count": 7,
      "outputs": []
    },
    {
      "cell_type": "markdown",
      "source": [
        "# Sorting Algorithms (insertion, selection, merge, quick)"
      ],
      "metadata": {
        "id": "yqVwsuQsPEFe"
      }
    },
    {
      "cell_type": "code",
      "execution_count": null,
      "metadata": {
        "id": "8hakAYmTR7mk"
      },
      "outputs": [],
      "source": [
        "def insertion_sort(arr):\n",
        "\n",
        "    for i in range(len(arr) - 1):\n",
        "\n",
        "        if arr[i] > arr[i + 1]:\n",
        "\n",
        "            arr[i], arr[i + 1] = arr[i + 1], arr[i]\n",
        "\n",
        "            for j in range(i, 0, -1):\n",
        "                if arr[j] < arr[j - 1]:\n",
        "                    arr[j], arr[j - 1] = arr[j - 1], arr[j]\n",
        "                else:\n",
        "                    break\n",
        "    return arr"
      ]
    },
    {
      "cell_type": "code",
      "source": [
        "insertion_sort([5, 10, 4, 7, 6, 11])"
      ],
      "metadata": {
        "colab": {
          "base_uri": "https://localhost:8080/"
        },
        "id": "LBBv67LOSc7B",
        "outputId": "39a2a6f4-fe37-497b-8c69-4759778ecf96"
      },
      "execution_count": null,
      "outputs": [
        {
          "output_type": "execute_result",
          "data": {
            "text/plain": [
              "[4, 5, 6, 7, 10, 11]"
            ]
          },
          "metadata": {},
          "execution_count": 7
        }
      ]
    },
    {
      "cell_type": "code",
      "source": [
        "def selection_sort(arr):\n",
        "    for i in range(len(arr)-1):\n",
        "        min_value = arr[i]\n",
        "        min_value_index = i\n",
        "        for j_index, j in enumerate(arr[i+1:]):\n",
        "            if min_value > j:\n",
        "                min_value = j\n",
        "                min_value_index = j_index+i+1\n",
        "        arr[i], arr[min_value_index] = arr[min_value_index], arr[i]\n",
        "    return arr"
      ],
      "metadata": {
        "id": "huubYEUSTQ9R"
      },
      "execution_count": null,
      "outputs": []
    },
    {
      "cell_type": "code",
      "source": [
        "selection_sort([5, 10, 4, 7, 6, 11])"
      ],
      "metadata": {
        "colab": {
          "base_uri": "https://localhost:8080/"
        },
        "id": "nFdIYUaiWvXg",
        "outputId": "afcd6b01-83d8-49d5-b218-c4770638a201"
      },
      "execution_count": null,
      "outputs": [
        {
          "output_type": "execute_result",
          "data": {
            "text/plain": [
              "[4, 5, 6, 7, 10, 11]"
            ]
          },
          "metadata": {},
          "execution_count": 20
        }
      ]
    },
    {
      "cell_type": "code",
      "source": [
        "[5, 10, 4, 7, 6, 11, 3]\n",
        "\n",
        "# The key idea of bubble sort is to push the maximum item to the last\n",
        "# iteration 1:\n",
        "#   [5, 4, 10, 7, 6, 11]\n",
        "#   [5, 4, 7, 10, 6, 11]\n",
        "#   [5, 4, 7, 6, 10, 11]\n",
        "# iteration 2:\n",
        "\n",
        "def bubble_sort(arr):\n",
        "\n",
        "    iterations_completed = 0\n",
        "    for i in range(len(arr)):\n",
        "        for j in range(len(arr)-i-1):\n",
        "            if arr[j] > arr[j+1]:\n",
        "                arr[j], arr[j+1] = arr[j+1], arr[j]\n",
        "    return arr\n",
        "\n",
        "bubble_sort([5, 10, 4, 7, 6, 11, 3])"
      ],
      "metadata": {
        "colab": {
          "base_uri": "https://localhost:8080/"
        },
        "id": "aPWkIv-9XcYg",
        "outputId": "d332b849-fe8b-43de-a8b4-676fadda7d7b"
      },
      "execution_count": null,
      "outputs": [
        {
          "output_type": "execute_result",
          "data": {
            "text/plain": [
              "[3, 4, 5, 6, 7, 10, 11]"
            ]
          },
          "metadata": {},
          "execution_count": 22
        }
      ]
    },
    {
      "cell_type": "code",
      "source": [
        "'''\n",
        "# [5, 10, 4, 7, 6, 11, 3]\n",
        "\n",
        "pivot = 4\n",
        "\n",
        "if arr[j] < pivot:\n",
        "    i += 1\n",
        "    arr[i], arr[j] = arr[j], arr[i] # swap\n",
        "else:\n",
        "    j += 1\n",
        "\n",
        "start: [5, 10, 3, 7, 4]\n",
        "\n",
        "step: i = -1, j = 0\n",
        "result: [5, 10, 3, 7, 4]\n",
        "\n",
        "step: i = -1, j = 1\n",
        "result: [5, 10, 3, 7, 4]\n",
        "\n",
        "step: i = 0, j = 2\n",
        "result: [3, 10, 5, 7, 4]\n",
        "\n",
        "step: i = 0, j = 3\n",
        "result: [3, 10, 5, 7, 4]\n",
        "\n",
        "step: i = 0, j = 4\n",
        "result: [3, 10, 5, 7, 4]\n",
        "\n",
        "Process Step:\n",
        "result: [3, 4, 5, 7, 10]\n",
        "\n",
        "new_children = [3], [5, 7, 10]\n",
        "'''"
      ],
      "metadata": {
        "id": "CIJVaYWItAop"
      },
      "execution_count": null,
      "outputs": []
    },
    {
      "cell_type": "code",
      "source": [
        "# arr = [5, 10, 4, 7, 6, 11, 3]\n",
        "def one_iter(arr):\n",
        "    start, last, mid = arr[0], arr[-1], arr[len(arr)//2]\n",
        "\n",
        "    pivot_idx = len(arr) - 1\n",
        "\n",
        "    if (start > last and start < mid) or (start < last and start > mid):\n",
        "        pivot_idx = 0\n",
        "    elif (mid > start and mid < last) or (mid < start and mid > last):\n",
        "        pivot_idx = len(arr)//2\n",
        "\n",
        "    # Now swap the last element and pivot element\n",
        "    arr[-1], arr[pivot_idx] = arr[pivot_idx], arr[-1]\n",
        "\n",
        "    print(f\"Before Sorting: {arr}\")\n",
        "\n",
        "    i = -1\n",
        "    for j in range(len(arr)):\n",
        "        if arr[j] <= arr[-1]:\n",
        "            i += 1\n",
        "            arr[i], arr[j] = arr[j], arr[i]\n",
        "    print(f\"after one round, current position: {i}, arr: {arr}\")"
      ],
      "metadata": {
        "id": "eG002eu309wU"
      },
      "execution_count": null,
      "outputs": []
    },
    {
      "cell_type": "code",
      "source": [
        "arr = [5, 10, 4, 7, 6, 11, 3]\n",
        "one_iter(arr[2:])\n",
        "arr"
      ],
      "metadata": {
        "colab": {
          "base_uri": "https://localhost:8080/"
        },
        "id": "LZtf0ChgCKJG",
        "outputId": "c88307d3-7348-41fb-80b0-dfed20b65f6f"
      },
      "execution_count": null,
      "outputs": [
        {
          "output_type": "stream",
          "name": "stdout",
          "text": [
            "Before Sorting: [3, 7, 6, 11, 4]\n",
            "after one round, current position: 1, arr: [3, 4, 6, 11, 7]\n"
          ]
        },
        {
          "output_type": "execute_result",
          "data": {
            "text/plain": [
              "[5, 10, 4, 7, 6, 11, 3]"
            ]
          },
          "metadata": {},
          "execution_count": 13
        }
      ]
    },
    {
      "cell_type": "code",
      "source": [
        "\n",
        "@timeit\n",
        "def quick_sort_wrap(arr):\n",
        "    return quick_sort(arr)\n",
        "\n",
        "def quick_sort(arr):\n",
        "\n",
        "    if len(arr) <= 1:\n",
        "        return arr\n",
        "\n",
        "    elif len(arr) == 2:\n",
        "        if arr[0] > arr[1]: arr[0], arr[1] = arr[1], arr[0]\n",
        "        return arr\n",
        "\n",
        "    else:\n",
        "        # length is greater than 2 : [5, 10, 4, 7, 6, 11, 3]\n",
        "        # get the pivot element\n",
        "        start, last, mid = arr[0], arr[-1], arr[len(arr)//2]\n",
        "\n",
        "        pivot_idx = len(arr) - 1\n",
        "\n",
        "        if (start > last and start < mid) or (start < last and start > mid):\n",
        "            pivot_idx = 0\n",
        "        elif (mid > start and mid < last) or (mid < start and mid > last):\n",
        "            pivot_idx = len(arr)//2\n",
        "\n",
        "        # Now swap the last element and pivot element\n",
        "        arr[-1], arr[pivot_idx] = arr[pivot_idx], arr[-1]\n",
        "\n",
        "        # Now perform one iteration of quick sort\n",
        "        i = -1\n",
        "        for j in range(len(arr)):\n",
        "            if arr[j] <= arr[-1]:\n",
        "                i += 1\n",
        "                arr[i], arr[j] = arr[j], arr[i]\n",
        "\n",
        "        out = quick_sort(arr[:i]) + [arr[i]] + quick_sort(arr[i+1:])\n",
        "\n",
        "        return out"
      ],
      "metadata": {
        "id": "RJy1_xLcy6vx"
      },
      "execution_count": null,
      "outputs": []
    },
    {
      "cell_type": "code",
      "source": [
        "quick_sort_wrap([5, 10, 4, 7, 6, 11, 3, 99, 200, 123, 532, 775, 292, 1, -10, 0, 99, 199, 1999])"
      ],
      "metadata": {
        "colab": {
          "base_uri": "https://localhost:8080/"
        },
        "id": "32hUwTRGClcS",
        "outputId": "f9996807-064c-4b99-def5-3834d5a078e1"
      },
      "execution_count": null,
      "outputs": [
        {
          "output_type": "stream",
          "name": "stdout",
          "text": [
            "total time in seconds: 4.5299530029296875e-05 seconds\n"
          ]
        },
        {
          "output_type": "execute_result",
          "data": {
            "text/plain": [
              "[-10, 0, 1, 3, 4, 5, 6, 7, 10, 11, 99, 99, 123, 199, 200, 292, 532, 775, 1999]"
            ]
          },
          "metadata": {},
          "execution_count": 36
        }
      ]
    },
    {
      "cell_type": "code",
      "source": [
        "import time\n",
        "t1 = time.time()\n",
        "t2 = time.time()"
      ],
      "metadata": {
        "id": "bljtA6gyCnLQ"
      },
      "execution_count": null,
      "outputs": []
    },
    {
      "cell_type": "code",
      "source": [
        "t2 - t1"
      ],
      "metadata": {
        "colab": {
          "base_uri": "https://localhost:8080/"
        },
        "id": "JLGnJMw9EcQB",
        "outputId": "e22fce1c-2905-4e57-fd25-84d49c78b5f9"
      },
      "execution_count": null,
      "outputs": [
        {
          "output_type": "execute_result",
          "data": {
            "text/plain": [
              "4.1484832763671875e-05"
            ]
          },
          "metadata": {},
          "execution_count": 31
        }
      ]
    },
    {
      "cell_type": "code",
      "source": [
        "def merge_sort(arrs):\n",
        "    if len(arrs) > 2:\n",
        "        # Divide the arrs into bins or 2 and merge\n",
        "        # [[5], [10], [4], [7], [6], [11], [3]]\n",
        "        batches = []\n",
        "        for i in range(1, len(arrs), 2):\n",
        "            batches.append(merge_sort([arrs[i-1], arrs[i]]))\n",
        "        if len(arrs) % 2 != 0:\n",
        "            batches.append(arrs[-1])\n",
        "        return merge_sort(batches)\n",
        "\n",
        "    elif len(arrs) == 2:\n",
        "        # do the merging logic here\n",
        "        arr1, arr2 = arrs[0], arrs[1]\n",
        "        i, j = 0, 0\n",
        "        result_arr = []\n",
        "        all_items_processed = False\n",
        "        while all_items_processed == False:\n",
        "            if arr1[i] < arr2[j]:\n",
        "                result_arr.append(arr1[i])\n",
        "                i += 1\n",
        "            elif arr2[j] < arr1[i]:\n",
        "                result_arr.append(arr2[j])\n",
        "                j += 1\n",
        "\n",
        "            if i == len(arr1):\n",
        "                result_arr = result_arr + arr2[j:]\n",
        "                all_items_processed = True\n",
        "            elif j == len(arr2):\n",
        "                result_arr = result_arr + arr1[i:]\n",
        "                all_items_processed = True\n",
        "        return merge_sort([result_arr])\n",
        "\n",
        "    else:\n",
        "        return arrs[0]"
      ],
      "metadata": {
        "id": "1zqE9XoYEdf4"
      },
      "execution_count": null,
      "outputs": []
    },
    {
      "cell_type": "code",
      "source": [
        "'''\n",
        "a = [5, 10, 4, 7, 6, 11, 3]\n",
        "a = [[5], [10]], [[4], [7]], [[6], [11]], [[3]]\n",
        "[[5, 10], [4, 7]], [[6, 11], [3]]\n",
        "\n",
        "\n",
        "'''\n",
        "def merge_arrays(arr_1, arr_2):\n",
        "    # [5, 10, 4, 7], [6, 11, 3]\n",
        "\n",
        "    i = 0; j = 0; result = []\n",
        "\n",
        "    while True:\n",
        "        # breakpoint()\n",
        "        if arr_1[i] < arr_2[j]:\n",
        "            result.append(arr_1[i])\n",
        "            i += 1\n",
        "\n",
        "        elif arr_2[j] < arr_1[i]:\n",
        "            result.append(arr_2[j])\n",
        "            j += 1\n",
        "\n",
        "        else:\n",
        "            result += [arr_1[i], arr_2[j]]\n",
        "            i += 1\n",
        "            j += 1\n",
        "\n",
        "        if len(result) == len(arr_1) + len(arr_2):\n",
        "            return result\n",
        "        elif i == len(arr_1):\n",
        "            result += arr_2[j:]\n",
        "            return result\n",
        "        elif j == len(arr_2):\n",
        "            result += arr_1[i:]\n",
        "            return result\n",
        "\n",
        "@timeit\n",
        "def merge_sort(arr):\n",
        "\n",
        "    # break it to arrs of individual elements and call recursive merge\n",
        "    arrs = [[i] for i in arr]\n",
        "\n",
        "    while True:\n",
        "        batches = []\n",
        "        for i in range(1, len(arrs), 2):\n",
        "            out = merge_arrays(arrs[i-1], arrs[i])\n",
        "            batches.append(out)\n",
        "        if len(arrs)%2 != 0:\n",
        "            # Its an odd length array, so manually add the last element to the batches\n",
        "            batches.append(arrs[-1])\n",
        "\n",
        "        if len(batches) == 1:\n",
        "            return batches[0]\n",
        "\n",
        "        arrs = batches\n"
      ],
      "metadata": {
        "id": "-o2c0ThPFmTj"
      },
      "execution_count": null,
      "outputs": []
    },
    {
      "cell_type": "code",
      "source": [
        "merge_sort([5, 10, 4, 7, 6, 11, 3])"
      ],
      "metadata": {
        "colab": {
          "base_uri": "https://localhost:8080/"
        },
        "id": "QKYNemKBIXBf",
        "outputId": "08d1c183-0573-4b3f-8144-a48ddd21c6df"
      },
      "execution_count": null,
      "outputs": [
        {
          "output_type": "stream",
          "name": "stdout",
          "text": [
            "total time in seconds: 3.24249267578125e-05 seconds\n"
          ]
        },
        {
          "output_type": "execute_result",
          "data": {
            "text/plain": [
              "[3, 4, 5, 6, 7, 10, 11]"
            ]
          },
          "metadata": {},
          "execution_count": 77
        }
      ]
    },
    {
      "cell_type": "code",
      "source": [
        "merge_sort([5, 10, 4, 7, 6, 11, 3, 99, 200, 123, 532, 775, 292, 1, -10, 0, 99, 199, 1999])"
      ],
      "metadata": {
        "colab": {
          "base_uri": "https://localhost:8080/"
        },
        "id": "aB5Fr7nzMKo_",
        "outputId": "5ba3db8a-0abf-4d24-856b-c82563340ddc"
      },
      "execution_count": null,
      "outputs": [
        {
          "output_type": "stream",
          "name": "stdout",
          "text": [
            "total time in seconds: 9.1552734375e-05 seconds\n"
          ]
        },
        {
          "output_type": "execute_result",
          "data": {
            "text/plain": [
              "[-10, 0, 1, 3, 4, 5, 6, 7, 10, 11, 99, 99, 123, 199, 200, 292, 532, 775, 1999]"
            ]
          },
          "metadata": {},
          "execution_count": 78
        }
      ]
    },
    {
      "cell_type": "code",
      "source": [
        "quick_sort_wrap([5, 10, 4, 7, 6, 11, 3, 99, 200, 123, 532, 775, 292, 1, -10, 0, 99, 199, 1999])"
      ],
      "metadata": {
        "colab": {
          "base_uri": "https://localhost:8080/"
        },
        "id": "IFb_AWxYNgtG",
        "outputId": "fde4395b-425b-4f4b-9f90-a4388707c81b"
      },
      "execution_count": null,
      "outputs": [
        {
          "output_type": "stream",
          "name": "stdout",
          "text": [
            "total time in seconds: 4.1961669921875e-05 seconds\n"
          ]
        },
        {
          "output_type": "execute_result",
          "data": {
            "text/plain": [
              "[-10, 0, 1, 3, 4, 5, 6, 7, 10, 11, 99, 99, 123, 199, 200, 292, 532, 775, 1999]"
            ]
          },
          "metadata": {},
          "execution_count": 79
        }
      ]
    },
    {
      "cell_type": "markdown",
      "source": [
        "# Trees"
      ],
      "metadata": {
        "id": "1d6chI9XPL1c"
      }
    },
    {
      "cell_type": "code",
      "source": [
        "class Node:\n",
        "    def __init__(self, value, parent = None, left = None, right = None):\n",
        "\n",
        "        self.value = value\n",
        "        self.parent = parent\n",
        "        self.left = left\n",
        "        self.right = right\n",
        "\n",
        "    def __eq__(self, other_node):\n",
        "        return self.value == other_node.value if other_node is not None else False\n",
        "\n",
        "    def __str__(self) -> str:\n",
        "        return f\"Node containing Value: {self.value}\"\n",
        "\n",
        "    def __repr__(self):\n",
        "        return f\"Node containing Value: {self.value}\"\n",
        "\n",
        "\n",
        "class Tree:\n",
        "\n",
        "    def __init__(self, elements = []):\n",
        "\n",
        "        self.head = Node(elements[0])\n",
        "        for element in elements[1:]:\n",
        "            self.insert(element)\n",
        "\n",
        "    def insert(self, element):\n",
        "        self._insert(self.head, element)\n",
        "\n",
        "    def _insert(self, current_node, element):\n",
        "\n",
        "        if current_node.value == element:\n",
        "            return\n",
        "\n",
        "        if current_node.value > element:\n",
        "            # go to left\n",
        "            if current_node.left == None:\n",
        "                current_node.left = Node(element, parent = current_node)\n",
        "            else:\n",
        "                self._insert(current_node.left, element)\n",
        "\n",
        "        elif element > current_node.value:\n",
        "            if current_node.right == None:\n",
        "                current_node.right = Node(element, parent = current_node)\n",
        "            else:\n",
        "                self._insert(current_node.right, element)\n",
        "\n",
        "    def find(self, element):\n",
        "        return self._find(self.head, element)\n",
        "\n",
        "    def _find(self, current_node, element):\n",
        "        if current_node == None:\n",
        "            return False, None\n",
        "\n",
        "        elif current_node.value == element:\n",
        "            return True, current_node\n",
        "\n",
        "        elif element < current_node.value:\n",
        "            return self._find(current_node.left, element)\n",
        "        else:\n",
        "            return self._find(current_node.right, element)\n",
        "\n",
        "    def delete(self, element: int):\n",
        "        '''\n",
        "        if it has one child\n",
        "            - directly delete the node\n",
        "            - take the only child of this node and set its parent as deleted nodes parent and parents left or right based on the value\n",
        "\n",
        "        if it has two children - get the right most element of left leaves or left most element of right leaves and do the same as above\n",
        "        '''\n",
        "        def has_one_child(node):\n",
        "            if (node.left == None and node.right != None) or (node.right == None and node.left != None): return True\n",
        "            else: False\n",
        "\n",
        "        def is_leaf_node(node):\n",
        "            return True if node.left == None and node.right == None else False\n",
        "\n",
        "        is_found, node = self.find(element)\n",
        "\n",
        "        if is_found == False:\n",
        "            return\n",
        "\n",
        "        if is_leaf_node(node):\n",
        "            print('Deleting leaf node')\n",
        "            if node.parent:\n",
        "                if node.parent.left == node:\n",
        "                    node.parent.left = None\n",
        "                else:\n",
        "                    node.parent.right = None\n",
        "            else: # This is the root node of the tree\n",
        "                self.head = None\n",
        "\n",
        "        elif has_one_child(node):\n",
        "            print('Deleting node with only one child')\n",
        "            child = node.left if node.left is not None else node.right\n",
        "            parent = node.parent\n",
        "\n",
        "            if parent == None: # Head Node case\n",
        "                child.parent = None\n",
        "                return\n",
        "\n",
        "            child.parent = parent\n",
        "            if parent.left == node:\n",
        "                parent.left = child\n",
        "            elif parent.right == node:\n",
        "                parent.right = child\n",
        "\n",
        "        else: # Has 2 children\n",
        "            print('Deleting node with 2 children')\n",
        "            #find the right most of left side of the node\n",
        "            replace_node = node.left\n",
        "            while replace_node.right != None:\n",
        "                replace_node = replace_node.right\n",
        "\n",
        "            # if replace node has no children: no worries\n",
        "            # else if it has left children - the left child node will take the place of replace node\n",
        "\n",
        "            # Handle replace node children first\n",
        "            replace_node_left_child = replace_node.left\n",
        "            replace_node_parent = replace_node.parent\n",
        "            replace_node_parent.right = replace_node_left_child\n",
        "\n",
        "            if replace_node_left_child != None:\n",
        "                replace_node_left_child.parent = replace_node_parent\n",
        "\n",
        "            # Now lets delete the node at work rn\n",
        "\n",
        "            node_parent = node.parent\n",
        "            node_left = node.left\n",
        "            node_right = node.right\n",
        "\n",
        "            if node_parent != None:\n",
        "                if node_parent.right == node:\n",
        "                    node_parent.right = replace_node\n",
        "                elif node_parent.left == node:\n",
        "                    node_parent.left = replace_node\n",
        "            else: # Its head node\n",
        "                self.head = replace_node\n",
        "\n",
        "            replace_node.left = node_left\n",
        "            replace_node.right = node_right\n",
        "            replace_node.parent = node_parent\n",
        "\n",
        "            if replace_node.left:\n",
        "                replace_node.left.parent = replace_node\n",
        "            if replace_node.right:\n",
        "                replace_node.right.parent = replace_node\n",
        "\n",
        "    def pre_order(self):\n",
        "        self._pre_order(self.head)\n",
        "\n",
        "    def _pre_order(self, node):\n",
        "        if node == None: return\n",
        "        print(node.value)\n",
        "        self._pre_order(node.left)\n",
        "        self._pre_order(node.right)\n",
        "\n",
        "    def post_order(self):\n",
        "        self._post_order(self.head)\n",
        "\n",
        "    def _post_order(self, node):\n",
        "        if node == None: return\n",
        "        self._post_order(node.left)\n",
        "        self._post_order(node.right)\n",
        "        print(node.value)\n",
        "\n",
        "    def in_order(self):\n",
        "        self._in_order(self.head)\n",
        "\n",
        "    def _in_order(self, node):\n",
        "        if node == None: return\n",
        "        self._in_order(node.left)\n",
        "        print(node.value)\n",
        "        self._in_order(node.right)\n",
        "\n",
        "    def get_height(self):\n",
        "        return self._get_height(self.head)\n",
        "\n",
        "    def _get_height(self, node):\n",
        "        if node == None:\n",
        "            return 0\n",
        "\n",
        "        height = 1 + max(self._get_height(node.left), self._get_height(node.right))\n",
        "        return height"
      ],
      "metadata": {
        "id": "L_2yu6jDN0Jv"
      },
      "execution_count": 133,
      "outputs": []
    },
    {
      "cell_type": "code",
      "source": [
        "'''\n",
        "Tree([10, 64, 4, 6, 2, 8, 9, 1, 3])\n",
        "\n",
        "          10\n",
        "        /    \\\n",
        "       4      64\n",
        "     /  \\\n",
        "    2    6\n",
        "   / \\    \\\n",
        "  1   3    8\n",
        "            \\\n",
        "             9\n",
        "\n",
        "Delete 4\n",
        "\n",
        "          10\n",
        "        /    \\\n",
        "       3      64\n",
        "     /  \\\n",
        "    2    6\n",
        "   /      \\\n",
        "  1        8\n",
        "            \\\n",
        "             9\n",
        "\n",
        "Delete 10\n",
        "\n",
        "          9\n",
        "        /   \\\n",
        "       3     64\n",
        "     /  \\\n",
        "    2    6\n",
        "   /      \\\n",
        "  1        8\n",
        "\n",
        "'''\n",
        "tree = Tree([10, 64, 4, 6, 2, 8, 9, 1, 3])"
      ],
      "metadata": {
        "id": "amEGDau2lbDL"
      },
      "execution_count": 134,
      "outputs": []
    },
    {
      "cell_type": "code",
      "source": [
        "tree.get_height()"
      ],
      "metadata": {
        "colab": {
          "base_uri": "https://localhost:8080/"
        },
        "id": "Zm80HWUjr49u",
        "outputId": "7cc4699f-62e5-4125-9b0c-8ee9331622e8"
      },
      "execution_count": 135,
      "outputs": [
        {
          "output_type": "execute_result",
          "data": {
            "text/plain": [
              "5"
            ]
          },
          "metadata": {},
          "execution_count": 135
        }
      ]
    },
    {
      "cell_type": "code",
      "source": [
        "tree.delete(4)\n",
        "tree.delete(10)"
      ],
      "metadata": {
        "colab": {
          "base_uri": "https://localhost:8080/"
        },
        "id": "j9UeT5LKh-Nv",
        "outputId": "2a4c145d-d505-4f0b-b39e-4af60d67aa0c"
      },
      "execution_count": 106,
      "outputs": [
        {
          "output_type": "stream",
          "name": "stdout",
          "text": [
            "Deleting node with 2 children\n"
          ]
        }
      ]
    },
    {
      "cell_type": "code",
      "source": [],
      "metadata": {
        "colab": {
          "base_uri": "https://localhost:8080/"
        },
        "id": "J6t8a0ucknne",
        "outputId": "97796f04-c177-4d75-ac94-251d602f43fe"
      },
      "execution_count": 118,
      "outputs": [
        {
          "output_type": "execute_result",
          "data": {
            "text/plain": [
              "Node containing Value: 8"
            ]
          },
          "metadata": {},
          "execution_count": 118
        }
      ]
    },
    {
      "cell_type": "markdown",
      "source": [
        "# Graphs, graph traversal, shortest path algorithms"
      ],
      "metadata": {
        "id": "cTFGTkDhw2DO"
      }
    },
    {
      "cell_type": "code",
      "source": [],
      "metadata": {
        "id": "51f1XUP2nOd0"
      },
      "execution_count": null,
      "outputs": []
    }
  ]
}
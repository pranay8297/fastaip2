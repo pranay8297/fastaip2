{
  "nbformat": 4,
  "nbformat_minor": 0,
  "metadata": {
    "colab": {
      "provenance": [],
      "collapsed_sections": [
        "yqVwsuQsPEFe",
        "1d6chI9XPL1c"
      ],
      "authorship_tag": "ABX9TyPHIQrubVKwKYS0rD3huoOZ",
      "include_colab_link": true
    },
    "kernelspec": {
      "name": "python3",
      "display_name": "Python 3"
    },
    "language_info": {
      "name": "python"
    }
  },
  "cells": [
    {
      "cell_type": "markdown",
      "metadata": {
        "id": "view-in-github",
        "colab_type": "text"
      },
      "source": [
        "<a href=\"https://colab.research.google.com/github/pranay8297/fastaip2/blob/main/algorithms_and_ds_practice.ipynb\" target=\"_parent\"><img src=\"https://colab.research.google.com/assets/colab-badge.svg\" alt=\"Open In Colab\"/></a>"
      ]
    },
    {
      "cell_type": "code",
      "source": [
        "import time\n",
        "import math\n",
        "\n",
        "def timeit(func):\n",
        "    def new_func(*args, **kwargs):\n",
        "        t1 = time.time()\n",
        "        out = func(*args, **kwargs)\n",
        "        t2 = time.time()\n",
        "        print(f'total time in seconds: {t2 - t1} seconds')\n",
        "        return out\n",
        "    return new_func"
      ],
      "metadata": {
        "id": "CFv6WSC5OAcL"
      },
      "execution_count": 85,
      "outputs": []
    },
    {
      "cell_type": "markdown",
      "source": [
        "# Sorting Algorithms (insertion, selection, merge, quick)"
      ],
      "metadata": {
        "id": "yqVwsuQsPEFe"
      }
    },
    {
      "cell_type": "code",
      "execution_count": null,
      "metadata": {
        "id": "8hakAYmTR7mk"
      },
      "outputs": [],
      "source": [
        "def insertion_sort(arr):\n",
        "\n",
        "    for i in range(len(arr) - 1):\n",
        "\n",
        "        if arr[i] > arr[i + 1]:\n",
        "\n",
        "            arr[i], arr[i + 1] = arr[i + 1], arr[i]\n",
        "\n",
        "            for j in range(i, 0, -1):\n",
        "                if arr[j] < arr[j - 1]:\n",
        "                    arr[j], arr[j - 1] = arr[j - 1], arr[j]\n",
        "                else:\n",
        "                    break\n",
        "    return arr"
      ]
    },
    {
      "cell_type": "code",
      "source": [
        "insertion_sort([5, 10, 4, 7, 6, 11])"
      ],
      "metadata": {
        "colab": {
          "base_uri": "https://localhost:8080/"
        },
        "id": "LBBv67LOSc7B",
        "outputId": "39a2a6f4-fe37-497b-8c69-4759778ecf96"
      },
      "execution_count": null,
      "outputs": [
        {
          "output_type": "execute_result",
          "data": {
            "text/plain": [
              "[4, 5, 6, 7, 10, 11]"
            ]
          },
          "metadata": {},
          "execution_count": 7
        }
      ]
    },
    {
      "cell_type": "code",
      "source": [
        "def selection_sort(arr):\n",
        "    for i in range(len(arr)-1):\n",
        "        min_value = arr[i]\n",
        "        min_value_index = i\n",
        "        for j_index, j in enumerate(arr[i+1:]):\n",
        "            if min_value > j:\n",
        "                min_value = j\n",
        "                min_value_index = j_index+i+1\n",
        "        arr[i], arr[min_value_index] = arr[min_value_index], arr[i]\n",
        "    return arr"
      ],
      "metadata": {
        "id": "huubYEUSTQ9R"
      },
      "execution_count": null,
      "outputs": []
    },
    {
      "cell_type": "code",
      "source": [
        "selection_sort([5, 10, 4, 7, 6, 11])"
      ],
      "metadata": {
        "colab": {
          "base_uri": "https://localhost:8080/"
        },
        "id": "nFdIYUaiWvXg",
        "outputId": "afcd6b01-83d8-49d5-b218-c4770638a201"
      },
      "execution_count": null,
      "outputs": [
        {
          "output_type": "execute_result",
          "data": {
            "text/plain": [
              "[4, 5, 6, 7, 10, 11]"
            ]
          },
          "metadata": {},
          "execution_count": 20
        }
      ]
    },
    {
      "cell_type": "code",
      "source": [
        "[5, 10, 4, 7, 6, 11, 3]\n",
        "\n",
        "# The key idea of bubble sort is to push the maximum item to the last\n",
        "# iteration 1:\n",
        "#   [5, 4, 10, 7, 6, 11]\n",
        "#   [5, 4, 7, 10, 6, 11]\n",
        "#   [5, 4, 7, 6, 10, 11]\n",
        "# iteration 2:\n",
        "\n",
        "def bubble_sort(arr):\n",
        "\n",
        "    iterations_completed = 0\n",
        "    for i in range(len(arr)):\n",
        "        for j in range(len(arr)-i-1):\n",
        "            if arr[j] > arr[j+1]:\n",
        "                arr[j], arr[j+1] = arr[j+1], arr[j]\n",
        "    return arr\n",
        "\n",
        "bubble_sort([5, 10, 4, 7, 6, 11, 3])"
      ],
      "metadata": {
        "colab": {
          "base_uri": "https://localhost:8080/"
        },
        "id": "aPWkIv-9XcYg",
        "outputId": "d332b849-fe8b-43de-a8b4-676fadda7d7b"
      },
      "execution_count": null,
      "outputs": [
        {
          "output_type": "execute_result",
          "data": {
            "text/plain": [
              "[3, 4, 5, 6, 7, 10, 11]"
            ]
          },
          "metadata": {},
          "execution_count": 22
        }
      ]
    },
    {
      "cell_type": "code",
      "source": [
        "'''\n",
        "# [5, 10, 4, 7, 6, 11, 3]\n",
        "\n",
        "pivot = 4\n",
        "\n",
        "if arr[j] < pivot:\n",
        "    i += 1\n",
        "    arr[i], arr[j] = arr[j], arr[i] # swap\n",
        "else:\n",
        "    j += 1\n",
        "\n",
        "start: [5, 10, 3, 7, 4]\n",
        "\n",
        "step: i = -1, j = 0\n",
        "result: [5, 10, 3, 7, 4]\n",
        "\n",
        "step: i = -1, j = 1\n",
        "result: [5, 10, 3, 7, 4]\n",
        "\n",
        "step: i = 0, j = 2\n",
        "result: [3, 10, 5, 7, 4]\n",
        "\n",
        "step: i = 0, j = 3\n",
        "result: [3, 10, 5, 7, 4]\n",
        "\n",
        "step: i = 0, j = 4\n",
        "result: [3, 10, 5, 7, 4]\n",
        "\n",
        "Process Step:\n",
        "result: [3, 4, 5, 7, 10]\n",
        "\n",
        "new_children = [3], [5, 7, 10]\n",
        "'''"
      ],
      "metadata": {
        "id": "CIJVaYWItAop"
      },
      "execution_count": null,
      "outputs": []
    },
    {
      "cell_type": "code",
      "source": [
        "# arr = [5, 10, 4, 7, 6, 11, 3]\n",
        "def one_iter(arr):\n",
        "    start, last, mid = arr[0], arr[-1], arr[len(arr)//2]\n",
        "\n",
        "    pivot_idx = len(arr) - 1\n",
        "\n",
        "    if (start > last and start < mid) or (start < last and start > mid):\n",
        "        pivot_idx = 0\n",
        "    elif (mid > start and mid < last) or (mid < start and mid > last):\n",
        "        pivot_idx = len(arr)//2\n",
        "\n",
        "    # Now swap the last element and pivot element\n",
        "    arr[-1], arr[pivot_idx] = arr[pivot_idx], arr[-1]\n",
        "\n",
        "    print(f\"Before Sorting: {arr}\")\n",
        "\n",
        "    i = -1\n",
        "    for j in range(len(arr)):\n",
        "        if arr[j] <= arr[-1]:\n",
        "            i += 1\n",
        "            arr[i], arr[j] = arr[j], arr[i]\n",
        "    print(f\"after one round, current position: {i}, arr: {arr}\")"
      ],
      "metadata": {
        "id": "eG002eu309wU"
      },
      "execution_count": null,
      "outputs": []
    },
    {
      "cell_type": "code",
      "source": [
        "arr = [5, 10, 4, 7, 6, 11, 3]\n",
        "one_iter(arr[2:])\n",
        "arr"
      ],
      "metadata": {
        "colab": {
          "base_uri": "https://localhost:8080/"
        },
        "id": "LZtf0ChgCKJG",
        "outputId": "c88307d3-7348-41fb-80b0-dfed20b65f6f"
      },
      "execution_count": null,
      "outputs": [
        {
          "output_type": "stream",
          "name": "stdout",
          "text": [
            "Before Sorting: [3, 7, 6, 11, 4]\n",
            "after one round, current position: 1, arr: [3, 4, 6, 11, 7]\n"
          ]
        },
        {
          "output_type": "execute_result",
          "data": {
            "text/plain": [
              "[5, 10, 4, 7, 6, 11, 3]"
            ]
          },
          "metadata": {},
          "execution_count": 13
        }
      ]
    },
    {
      "cell_type": "code",
      "source": [
        "\n",
        "@timeit\n",
        "def quick_sort_wrap(arr):\n",
        "    return quick_sort(arr)\n",
        "\n",
        "def quick_sort(arr):\n",
        "\n",
        "    if len(arr) <= 1:\n",
        "        return arr\n",
        "\n",
        "    elif len(arr) == 2:\n",
        "        if arr[0] > arr[1]: arr[0], arr[1] = arr[1], arr[0]\n",
        "        return arr\n",
        "\n",
        "    else:\n",
        "        # length is greater than 2 : [5, 10, 4, 7, 6, 11, 3]\n",
        "        # get the pivot element\n",
        "        start, last, mid = arr[0], arr[-1], arr[len(arr)//2]\n",
        "\n",
        "        pivot_idx = len(arr) - 1\n",
        "\n",
        "        if (start > last and start < mid) or (start < last and start > mid):\n",
        "            pivot_idx = 0\n",
        "        elif (mid > start and mid < last) or (mid < start and mid > last):\n",
        "            pivot_idx = len(arr)//2\n",
        "\n",
        "        # Now swap the last element and pivot element\n",
        "        arr[-1], arr[pivot_idx] = arr[pivot_idx], arr[-1]\n",
        "\n",
        "        # Now perform one iteration of quick sort\n",
        "        i = -1\n",
        "        for j in range(len(arr)):\n",
        "            if arr[j] <= arr[-1]:\n",
        "                i += 1\n",
        "                arr[i], arr[j] = arr[j], arr[i]\n",
        "\n",
        "        out = quick_sort(arr[:i]) + [arr[i]] + quick_sort(arr[i+1:])\n",
        "\n",
        "        return out"
      ],
      "metadata": {
        "id": "RJy1_xLcy6vx"
      },
      "execution_count": null,
      "outputs": []
    },
    {
      "cell_type": "code",
      "source": [
        "quick_sort_wrap([5, 10, 4, 7, 6, 11, 3, 99, 200, 123, 532, 775, 292, 1, -10, 0, 99, 199, 1999])"
      ],
      "metadata": {
        "colab": {
          "base_uri": "https://localhost:8080/"
        },
        "id": "32hUwTRGClcS",
        "outputId": "f9996807-064c-4b99-def5-3834d5a078e1"
      },
      "execution_count": null,
      "outputs": [
        {
          "output_type": "stream",
          "name": "stdout",
          "text": [
            "total time in seconds: 4.5299530029296875e-05 seconds\n"
          ]
        },
        {
          "output_type": "execute_result",
          "data": {
            "text/plain": [
              "[-10, 0, 1, 3, 4, 5, 6, 7, 10, 11, 99, 99, 123, 199, 200, 292, 532, 775, 1999]"
            ]
          },
          "metadata": {},
          "execution_count": 36
        }
      ]
    },
    {
      "cell_type": "code",
      "source": [
        "import time\n",
        "t1 = time.time()\n",
        "t2 = time.time()"
      ],
      "metadata": {
        "id": "bljtA6gyCnLQ"
      },
      "execution_count": null,
      "outputs": []
    },
    {
      "cell_type": "code",
      "source": [
        "t2 - t1"
      ],
      "metadata": {
        "colab": {
          "base_uri": "https://localhost:8080/"
        },
        "id": "JLGnJMw9EcQB",
        "outputId": "e22fce1c-2905-4e57-fd25-84d49c78b5f9"
      },
      "execution_count": null,
      "outputs": [
        {
          "output_type": "execute_result",
          "data": {
            "text/plain": [
              "4.1484832763671875e-05"
            ]
          },
          "metadata": {},
          "execution_count": 31
        }
      ]
    },
    {
      "cell_type": "code",
      "source": [
        "def merge_sort(arrs):\n",
        "    if len(arrs) > 2:\n",
        "        # Divide the arrs into bins or 2 and merge\n",
        "        # [[5], [10], [4], [7], [6], [11], [3]]\n",
        "        batches = []\n",
        "        for i in range(1, len(arrs), 2):\n",
        "            batches.append(merge_sort([arrs[i-1], arrs[i]]))\n",
        "        if len(arrs) % 2 != 0:\n",
        "            batches.append(arrs[-1])\n",
        "        return merge_sort(batches)\n",
        "\n",
        "    elif len(arrs) == 2:\n",
        "        # do the merging logic here\n",
        "        arr1, arr2 = arrs[0], arrs[1]\n",
        "        i, j = 0, 0\n",
        "        result_arr = []\n",
        "        all_items_processed = False\n",
        "        while all_items_processed == False:\n",
        "            if arr1[i] < arr2[j]:\n",
        "                result_arr.append(arr1[i])\n",
        "                i += 1\n",
        "            elif arr2[j] < arr1[i]:\n",
        "                result_arr.append(arr2[j])\n",
        "                j += 1\n",
        "\n",
        "            if i == len(arr1):\n",
        "                result_arr = result_arr + arr2[j:]\n",
        "                all_items_processed = True\n",
        "            elif j == len(arr2):\n",
        "                result_arr = result_arr + arr1[i:]\n",
        "                all_items_processed = True\n",
        "        return merge_sort([result_arr])\n",
        "\n",
        "    else:\n",
        "        return arrs[0]"
      ],
      "metadata": {
        "id": "1zqE9XoYEdf4"
      },
      "execution_count": null,
      "outputs": []
    },
    {
      "cell_type": "code",
      "source": [
        "'''\n",
        "a = [5, 10, 4, 7, 6, 11, 3]\n",
        "a = [[5], [10]], [[4], [7]], [[6], [11]], [[3]]\n",
        "[[5, 10], [4, 7]], [[6, 11], [3]]\n",
        "\n",
        "\n",
        "'''\n",
        "def merge_arrays(arr_1, arr_2):\n",
        "    # [5, 10, 4, 7], [6, 11, 3]\n",
        "\n",
        "    i = 0; j = 0; result = []\n",
        "\n",
        "    while True:\n",
        "        # breakpoint()\n",
        "        if arr_1[i] < arr_2[j]:\n",
        "            result.append(arr_1[i])\n",
        "            i += 1\n",
        "\n",
        "        elif arr_2[j] < arr_1[i]:\n",
        "            result.append(arr_2[j])\n",
        "            j += 1\n",
        "\n",
        "        else:\n",
        "            result += [arr_1[i], arr_2[j]]\n",
        "            i += 1\n",
        "            j += 1\n",
        "\n",
        "        if len(result) == len(arr_1) + len(arr_2):\n",
        "            return result\n",
        "        elif i == len(arr_1):\n",
        "            result += arr_2[j:]\n",
        "            return result\n",
        "        elif j == len(arr_2):\n",
        "            result += arr_1[i:]\n",
        "            return result\n",
        "\n",
        "@timeit\n",
        "def merge_sort(arr):\n",
        "\n",
        "    # break it to arrs of individual elements and call recursive merge\n",
        "    arrs = [[i] for i in arr]\n",
        "\n",
        "    while True:\n",
        "        batches = []\n",
        "        for i in range(1, len(arrs), 2):\n",
        "            out = merge_arrays(arrs[i-1], arrs[i])\n",
        "            batches.append(out)\n",
        "        if len(arrs)%2 != 0:\n",
        "            # Its an odd length array, so manually add the last element to the batches\n",
        "            batches.append(arrs[-1])\n",
        "\n",
        "        if len(batches) == 1:\n",
        "            return batches[0]\n",
        "\n",
        "        arrs = batches\n"
      ],
      "metadata": {
        "id": "-o2c0ThPFmTj"
      },
      "execution_count": null,
      "outputs": []
    },
    {
      "cell_type": "code",
      "source": [
        "merge_sort([5, 10, 4, 7, 6, 11, 3])"
      ],
      "metadata": {
        "colab": {
          "base_uri": "https://localhost:8080/"
        },
        "id": "QKYNemKBIXBf",
        "outputId": "08d1c183-0573-4b3f-8144-a48ddd21c6df"
      },
      "execution_count": null,
      "outputs": [
        {
          "output_type": "stream",
          "name": "stdout",
          "text": [
            "total time in seconds: 3.24249267578125e-05 seconds\n"
          ]
        },
        {
          "output_type": "execute_result",
          "data": {
            "text/plain": [
              "[3, 4, 5, 6, 7, 10, 11]"
            ]
          },
          "metadata": {},
          "execution_count": 77
        }
      ]
    },
    {
      "cell_type": "code",
      "source": [
        "merge_sort([5, 10, 4, 7, 6, 11, 3, 99, 200, 123, 532, 775, 292, 1, -10, 0, 99, 199, 1999])"
      ],
      "metadata": {
        "colab": {
          "base_uri": "https://localhost:8080/"
        },
        "id": "aB5Fr7nzMKo_",
        "outputId": "5ba3db8a-0abf-4d24-856b-c82563340ddc"
      },
      "execution_count": null,
      "outputs": [
        {
          "output_type": "stream",
          "name": "stdout",
          "text": [
            "total time in seconds: 9.1552734375e-05 seconds\n"
          ]
        },
        {
          "output_type": "execute_result",
          "data": {
            "text/plain": [
              "[-10, 0, 1, 3, 4, 5, 6, 7, 10, 11, 99, 99, 123, 199, 200, 292, 532, 775, 1999]"
            ]
          },
          "metadata": {},
          "execution_count": 78
        }
      ]
    },
    {
      "cell_type": "code",
      "source": [
        "quick_sort_wrap([5, 10, 4, 7, 6, 11, 3, 99, 200, 123, 532, 775, 292, 1, -10, 0, 99, 199, 1999])"
      ],
      "metadata": {
        "colab": {
          "base_uri": "https://localhost:8080/"
        },
        "id": "IFb_AWxYNgtG",
        "outputId": "fde4395b-425b-4f4b-9f90-a4388707c81b"
      },
      "execution_count": null,
      "outputs": [
        {
          "output_type": "stream",
          "name": "stdout",
          "text": [
            "total time in seconds: 4.1961669921875e-05 seconds\n"
          ]
        },
        {
          "output_type": "execute_result",
          "data": {
            "text/plain": [
              "[-10, 0, 1, 3, 4, 5, 6, 7, 10, 11, 99, 99, 123, 199, 200, 292, 532, 775, 1999]"
            ]
          },
          "metadata": {},
          "execution_count": 79
        }
      ]
    },
    {
      "cell_type": "markdown",
      "source": [
        "# Trees"
      ],
      "metadata": {
        "id": "1d6chI9XPL1c"
      }
    },
    {
      "cell_type": "code",
      "source": [
        "class Node:\n",
        "    def __init__(self, value, parent = None, left = None, right = None):\n",
        "\n",
        "        self.value = value\n",
        "        self.parent = parent\n",
        "        self.left = left\n",
        "        self.right = right\n",
        "\n",
        "    def __eq__(self, other_node):\n",
        "        return self.value == other_node.value if other_node is not None else False\n",
        "\n",
        "    def __str__(self) -> str:\n",
        "        return f\"Node containing Value: {self.value}\"\n",
        "\n",
        "    def __repr__(self):\n",
        "        return f\"Node containing Value: {self.value}\"\n",
        "\n",
        "\n",
        "class Tree:\n",
        "\n",
        "    def __init__(self, elements = []):\n",
        "\n",
        "        self.head = Node(elements[0])\n",
        "        for element in elements[1:]:\n",
        "            self.insert(element)\n",
        "\n",
        "    def insert(self, element):\n",
        "        self._insert(self.head, element)\n",
        "\n",
        "    def _insert(self, current_node, element):\n",
        "\n",
        "        if current_node.value == element:\n",
        "            return\n",
        "\n",
        "        if current_node.value > element:\n",
        "            # go to left\n",
        "            if current_node.left == None:\n",
        "                current_node.left = Node(element, parent = current_node)\n",
        "            else:\n",
        "                self._insert(current_node.left, element)\n",
        "\n",
        "        elif element > current_node.value:\n",
        "            if current_node.right == None:\n",
        "                current_node.right = Node(element, parent = current_node)\n",
        "            else:\n",
        "                self._insert(current_node.right, element)\n",
        "\n",
        "    def find(self, element):\n",
        "        return self._find(self.head, element)\n",
        "\n",
        "    def _find(self, current_node, element):\n",
        "        if current_node == None:\n",
        "            return False, None\n",
        "\n",
        "        elif current_node.value == element:\n",
        "            return True, current_node\n",
        "\n",
        "        elif element < current_node.value:\n",
        "            return self._find(current_node.left, element)\n",
        "        else:\n",
        "            return self._find(current_node.right, element)\n",
        "\n",
        "    def delete(self, element: int):\n",
        "        '''\n",
        "        if it has one child\n",
        "            - directly delete the node\n",
        "            - take the only child of this node and set its parent as deleted nodes parent and parents left or right based on the value\n",
        "\n",
        "        if it has two children - get the right most element of left leaves or left most element of right leaves and do the same as above\n",
        "        '''\n",
        "        def has_one_child(node):\n",
        "            if (node.left == None and node.right != None) or (node.right == None and node.left != None): return True\n",
        "            else: False\n",
        "\n",
        "        def is_leaf_node(node):\n",
        "            return True if node.left == None and node.right == None else False\n",
        "\n",
        "        is_found, node = self.find(element)\n",
        "\n",
        "        if is_found == False:\n",
        "            return\n",
        "\n",
        "        if is_leaf_node(node):\n",
        "            print('Deleting leaf node')\n",
        "            if node.parent:\n",
        "                if node.parent.left == node:\n",
        "                    node.parent.left = None\n",
        "                else:\n",
        "                    node.parent.right = None\n",
        "            else: # This is the root node of the tree\n",
        "                self.head = None\n",
        "\n",
        "        elif has_one_child(node):\n",
        "            print('Deleting node with only one child')\n",
        "            child = node.left if node.left is not None else node.right\n",
        "            parent = node.parent\n",
        "\n",
        "            if parent == None: # Head Node case\n",
        "                child.parent = None\n",
        "                return\n",
        "\n",
        "            child.parent = parent\n",
        "            if parent.left == node:\n",
        "                parent.left = child\n",
        "            elif parent.right == node:\n",
        "                parent.right = child\n",
        "\n",
        "        else: # Has 2 children\n",
        "            print('Deleting node with 2 children')\n",
        "            #find the right most of left side of the node\n",
        "            replace_node = node.left\n",
        "            while replace_node.right != None:\n",
        "                replace_node = replace_node.right\n",
        "\n",
        "            # if replace node has no children: no worries\n",
        "            # else if it has left children - the left child node will take the place of replace node\n",
        "\n",
        "            # Handle replace node children first\n",
        "            replace_node_left_child = replace_node.left\n",
        "            replace_node_parent = replace_node.parent\n",
        "            replace_node_parent.right = replace_node_left_child\n",
        "\n",
        "            if replace_node_left_child != None:\n",
        "                replace_node_left_child.parent = replace_node_parent\n",
        "\n",
        "            # Now lets delete the node at work rn\n",
        "\n",
        "            node_parent = node.parent\n",
        "            node_left = node.left\n",
        "            node_right = node.right\n",
        "\n",
        "            if node_parent != None:\n",
        "                if node_parent.right == node:\n",
        "                    node_parent.right = replace_node\n",
        "                elif node_parent.left == node:\n",
        "                    node_parent.left = replace_node\n",
        "            else: # Its head node\n",
        "                self.head = replace_node\n",
        "\n",
        "            replace_node.left = node_left\n",
        "            replace_node.right = node_right\n",
        "            replace_node.parent = node_parent\n",
        "\n",
        "            if replace_node.left:\n",
        "                replace_node.left.parent = replace_node\n",
        "            if replace_node.right:\n",
        "                replace_node.right.parent = replace_node\n",
        "\n",
        "    def pre_order(self):\n",
        "        self._pre_order(self.head)\n",
        "\n",
        "    def _pre_order(self, node):\n",
        "        if node == None: return\n",
        "        print(node.value)\n",
        "        self._pre_order(node.left)\n",
        "        self._pre_order(node.right)\n",
        "\n",
        "    def post_order(self):\n",
        "        self._post_order(self.head)\n",
        "\n",
        "    def _post_order(self, node):\n",
        "        if node == None: return\n",
        "        self._post_order(node.left)\n",
        "        self._post_order(node.right)\n",
        "        print(node.value)\n",
        "\n",
        "    def in_order(self):\n",
        "        self._in_order(self.head)\n",
        "\n",
        "    def _in_order(self, node):\n",
        "        if node == None: return\n",
        "        self._in_order(node.left)\n",
        "        print(node.value)\n",
        "        self._in_order(node.right)\n",
        "\n",
        "    def get_height(self):\n",
        "        return self._get_height(self.head)\n",
        "\n",
        "    def _get_height(self, node):\n",
        "        if node == None:\n",
        "            return 0\n",
        "\n",
        "        height = 1 + max(self._get_height(node.left), self._get_height(node.right))\n",
        "        return height"
      ],
      "metadata": {
        "id": "L_2yu6jDN0Jv"
      },
      "execution_count": 133,
      "outputs": []
    },
    {
      "cell_type": "code",
      "source": [
        "'''\n",
        "Tree([10, 64, 4, 6, 2, 8, 9, 1, 3])\n",
        "\n",
        "          10\n",
        "        /    \\\n",
        "       4      64\n",
        "     /  \\\n",
        "    2    6\n",
        "   / \\    \\\n",
        "  1   3    8\n",
        "            \\\n",
        "             9\n",
        "\n",
        "Delete 4\n",
        "\n",
        "          10\n",
        "        /    \\\n",
        "       3      64\n",
        "     /  \\\n",
        "    2    6\n",
        "   /      \\\n",
        "  1        8\n",
        "            \\\n",
        "             9\n",
        "\n",
        "Delete 10\n",
        "\n",
        "          9\n",
        "        /   \\\n",
        "       3     64\n",
        "     /  \\\n",
        "    2    6\n",
        "   /      \\\n",
        "  1        8\n",
        "\n",
        "'''\n",
        "tree = Tree([10, 64, 4, 6, 2, 8, 9, 1, 3])"
      ],
      "metadata": {
        "id": "amEGDau2lbDL"
      },
      "execution_count": 134,
      "outputs": []
    },
    {
      "cell_type": "code",
      "source": [
        "tree.get_height()"
      ],
      "metadata": {
        "colab": {
          "base_uri": "https://localhost:8080/"
        },
        "id": "Zm80HWUjr49u",
        "outputId": "7cc4699f-62e5-4125-9b0c-8ee9331622e8"
      },
      "execution_count": 135,
      "outputs": [
        {
          "output_type": "execute_result",
          "data": {
            "text/plain": [
              "5"
            ]
          },
          "metadata": {},
          "execution_count": 135
        }
      ]
    },
    {
      "cell_type": "code",
      "source": [
        "tree.delete(4)\n",
        "tree.delete(10)"
      ],
      "metadata": {
        "colab": {
          "base_uri": "https://localhost:8080/"
        },
        "id": "j9UeT5LKh-Nv",
        "outputId": "2a4c145d-d505-4f0b-b39e-4af60d67aa0c"
      },
      "execution_count": 106,
      "outputs": [
        {
          "output_type": "stream",
          "name": "stdout",
          "text": [
            "Deleting node with 2 children\n"
          ]
        }
      ]
    },
    {
      "cell_type": "markdown",
      "source": [
        "# Graphs, graph traversal, shortest path algorithms"
      ],
      "metadata": {
        "id": "cTFGTkDhw2DO"
      }
    },
    {
      "cell_type": "code",
      "source": [
        "class Node:\n",
        "\n",
        "    def __init__(self, value, out_edges = []):\n",
        "        self.value = value\n",
        "        self.out_edges = []\n",
        "\n",
        "    def add_edge(self, edge):\n",
        "        self.out_edges.append(edge)\n",
        "\n",
        "    def __repr__(self):\n",
        "        return f\"Node containing value: {self.value}\"\n",
        "\n",
        "    def __eq__(self, other_node):\n",
        "        return self.value == other_node.value\n",
        "\n",
        "class Edge:\n",
        "    def __init__(self, source, dest, weight):\n",
        "        self.source = source\n",
        "        self.dest = dest\n",
        "        self.weight = weight\n",
        "\n",
        "    def __repr__(self):\n",
        "        return f\"Edge connecting {self.source.value} to {self.dest.value} with weight of {self.weight}\"\n",
        "\n",
        "class Graph:\n",
        "\n",
        "    # Weighted Directed Graph\n",
        "    def __init__(self, n_nodes, edge_array, head_node = 0):\n",
        "\n",
        "        self.nodes = [Node(i) for i in range(n_nodes)]\n",
        "\n",
        "        for edge in edge_array:\n",
        "            if len(edge) == 3:\n",
        "                source, dest, weight = edge\n",
        "            else:\n",
        "                source, dest = edge\n",
        "                weight = 1\n",
        "\n",
        "            source, dest = self.nodes[source], self.nodes[dest]\n",
        "\n",
        "            edge_obj = Edge(source, dest, weight)\n",
        "            source.out_edges.append(edge_obj)\n",
        "\n",
        "        self.head_node = self.nodes[head_node]\n",
        "\n",
        "    def __repr__(self):\n",
        "        out = 'Graph containing following nodes and edges: \\n'\n",
        "        for node in self.nodes:\n",
        "            node_str = f'Node: {node.value}, edges : ['\n",
        "            for edge in node.out_edges:\n",
        "                node_str += f'{edge.dest.value}({edge.weight}), '\n",
        "            node_str += '] \\n'\n",
        "            out += node_str\n",
        "        return out\n",
        "\n",
        "    def dfs_recursive(self):\n",
        "        self._dfs_recursive(self.head_node, 0)\n",
        "\n",
        "    def _dfs_recursive(self, node, distance_from_root, source_node = None):\n",
        "\n",
        "        if hasattr(node, 'dfs_complete') and node.dfs_complete == True:\n",
        "            return\n",
        "\n",
        "        node.dfs_visited = True\n",
        "\n",
        "        for edge in node.out_edges:\n",
        "            edge.dfs_visited = True\n",
        "            next_node = edge.dest\n",
        "            self._dfs_recursive(next_node, distance_from_root + edge.weight, node)\n",
        "\n",
        "        node.dfs_complete = True\n",
        "        node.dfs_distance = distance_from_root\n",
        "        node.dfs_source_node = source_node\n",
        "\n",
        "    def dfs(self):\n",
        "        # Implementation of DFS using stack - with iteration\n",
        "        # With distance from head node\n",
        "\n",
        "        self.head_node.dfs_distance = 0\n",
        "        self.head_node.dfs_source_node = None\n",
        "\n",
        "        nodes_to_visit = [self.head_node] # This is a stack\n",
        "\n",
        "        while len(nodes_to_visit) > 0:\n",
        "\n",
        "            node = nodes_to_visit.pop(0)\n",
        "\n",
        "            for edge in node.out_edges:\n",
        "\n",
        "                if hasattr(edge.dest, 'dfs_complete') and edge.dest.dfs_complete == True: continue\n",
        "\n",
        "                edge.dest.dfs_source_node = node\n",
        "                edge.dest.dfs_distance = node.dfs_distance + edge.weight\n",
        "                nodes_to_visit.append(edge.dest)\n",
        "\n",
        "            node.dfs_complete = True\n",
        "\n",
        "\n",
        "    def bfs(self):\n",
        "\n",
        "        self.head_node.bfs_distance_from_source = 0\n",
        "        self.head_node.bfs_source = None\n",
        "        nodes_to_visit = [self.head_node]\n",
        "\n",
        "        while len(nodes_to_visit) > 0:\n",
        "            node = nodes_to_visit.pop(0)\n",
        "            for edge in node.out_edges:\n",
        "                if hasattr(edge.dest, 'bfs_complete') and edge.dest.bfs_complete == True: continue\n",
        "\n",
        "                edge.dest.bfs_source = node\n",
        "                edge.dest.bfs_distance_from_source = node.bfs_distance_from_source + edge.weight\n",
        "                nodes_to_visit.append(edge.dest)\n",
        "\n",
        "            node.bfs_complete = True\n",
        "            print(f'BFS: Node: {node.value}, next visit: {[i.value for i in nodes_to_visit]}')\n",
        "\n",
        "    def dijkstras(self):\n",
        "\n",
        "        # TODO: Check for cyclic connections\n",
        "\n",
        "        def get_least_weighted_edge(edges):\n",
        "            min_v = math.inf\n",
        "\n",
        "            for index, edge in enumerate(edges):\n",
        "                if edge.effective_distance < min_v:\n",
        "                    min_index = index\n",
        "                    min_v = edge.effective_distance\n",
        "\n",
        "            return min_index\n",
        "\n",
        "        edges_to_process = [] + self.head_node.out_edges\n",
        "\n",
        "        self.head_node.djk_distance = 0\n",
        "\n",
        "        for i in edges_to_process:\n",
        "            i.effective_distance = 0 + i.weight # 0 because of root node\n",
        "\n",
        "        while len(edges_to_process) > 0:\n",
        "\n",
        "            # get the node\n",
        "            # check the node has already visited and has distance from source\n",
        "            # if it has distance from source and is less than the current distance from source, continue\n",
        "            # else: update the distance from source and djk_pred to this node\n",
        "            # update all the out edges of this node with effective distance and add them to edges to process\n",
        "\n",
        "            edge_idx = get_least_weighted_edge(edges_to_process)\n",
        "            edge = edges_to_process.pop(edge_idx)\n",
        "\n",
        "            if hasattr(edge, 'djk_visited') and edge.djk_visited == True: # This is a cyclic condition - No edge should be processed more than once\n",
        "                print('Detected a cycle - continuing')\n",
        "                continue\n",
        "\n",
        "            edge.djk_visited = True\n",
        "\n",
        "            dest_node = edge.dest\n",
        "\n",
        "            if hasattr(dest_node, 'djk_distance') and dest_node.djk_distance < edge.effective_distance: # This node is already visited by other path with shorter path\n",
        "                continue\n",
        "\n",
        "            dest_node.djk_distance = edge.effective_distance\n",
        "            dest_node.djk_parent = edge.source\n",
        "\n",
        "            for dest_node_edge in dest_node.out_edges:\n",
        "                dest_node_edge.effective_distance = dest_node_edge.weight + dest_node.djk_distance\n",
        "                edges_to_process.append(dest_node_edge)\n"
      ],
      "metadata": {
        "id": "51f1XUP2nOd0"
      },
      "execution_count": 140,
      "outputs": []
    },
    {
      "cell_type": "code",
      "source": [],
      "metadata": {
        "id": "E8-WDe9Z7AfV"
      },
      "execution_count": null,
      "outputs": []
    },
    {
      "cell_type": "code",
      "source": [],
      "metadata": {
        "id": "UIxnDdzj64E8"
      },
      "execution_count": null,
      "outputs": []
    },
    {
      "cell_type": "code",
      "source": [
        "n = 8\n",
        "edge_array = [[0, 1], [1, 2], [0, 3], [3, 4], [3, 6], [3, 7], [4, 2], [4, 5], [5, 2]]\n",
        "\n",
        "'''\n",
        "# Only outgoing graph - Couldnt show the direction here; My bad :\\\n",
        "\n",
        "         0 -- 1 -- 2\n",
        "          \\       /  \\\n",
        "           3 --- 4 -- 5\n",
        "          / \\\n",
        "         6   7\n",
        "'''\n",
        "\n",
        "graph = Graph(n, edge_array)"
      ],
      "metadata": {
        "id": "Fg71WP-ZbzPK"
      },
      "execution_count": 98,
      "outputs": []
    },
    {
      "cell_type": "code",
      "source": [
        "# DJK shortest path\n",
        "n = 8\n",
        "edge_array = [[0, 1, 4], [1, 2, 6], [0, 3, 8], [3, 4, 4], [3, 6, 1], [3, 7, 0], [2, 4, 0], [4, 5, 7], [5, 2, 8], [4, 0, 3]]\n",
        "graph = Graph(n, edge_array)\n",
        "graph"
      ],
      "metadata": {
        "colab": {
          "base_uri": "https://localhost:8080/"
        },
        "id": "0_CeMUUj7d8t",
        "outputId": "0701fea3-8557-4c49-a4e7-220ccc8023e7"
      },
      "execution_count": 141,
      "outputs": [
        {
          "output_type": "execute_result",
          "data": {
            "text/plain": [
              "Graph containing following nodes and edges: \n",
              "Node: 0, edges : [1(4), 3(8), ] \n",
              "Node: 1, edges : [2(6), ] \n",
              "Node: 2, edges : [4(0), ] \n",
              "Node: 3, edges : [4(4), 6(1), 7(0), ] \n",
              "Node: 4, edges : [5(7), 0(3), ] \n",
              "Node: 5, edges : [2(8), ] \n",
              "Node: 6, edges : [] \n",
              "Node: 7, edges : [] "
            ]
          },
          "metadata": {},
          "execution_count": 141
        }
      ]
    },
    {
      "cell_type": "code",
      "source": [
        "graph.dijkstras()"
      ],
      "metadata": {
        "colab": {
          "base_uri": "https://localhost:8080/"
        },
        "id": "yLeZ7eoxByIY",
        "outputId": "22a51bfa-4953-4cff-f2e9-52274d01e73a"
      },
      "execution_count": 142,
      "outputs": [
        {
          "output_type": "stream",
          "name": "stdout",
          "text": [
            "This Edge: Edge connecting 0 to 1 with weight of 4, Eff Dist: 4\n",
            "['0: 8: 3', '1: 10: 2']\n",
            "This Edge: Edge connecting 0 to 3 with weight of 8, Eff Dist: 8\n",
            "['1: 10: 2', '3: 12: 4', '3: 9: 6', '3: 8: 7']\n",
            "This Edge: Edge connecting 3 to 7 with weight of 0, Eff Dist: 8\n",
            "['1: 10: 2', '3: 12: 4', '3: 9: 6']\n",
            "This Edge: Edge connecting 3 to 6 with weight of 1, Eff Dist: 9\n",
            "['1: 10: 2', '3: 12: 4']\n",
            "This Edge: Edge connecting 1 to 2 with weight of 6, Eff Dist: 10\n",
            "['3: 12: 4', '2: 10: 4']\n",
            "This Edge: Edge connecting 2 to 4 with weight of 0, Eff Dist: 10\n",
            "['3: 12: 4', '4: 17: 5', '4: 13: 0']\n",
            "This Edge: Edge connecting 3 to 4 with weight of 4, Eff Dist: 12\n",
            "This Edge: Edge connecting 4 to 0 with weight of 3, Eff Dist: 13\n",
            "This Edge: Edge connecting 4 to 5 with weight of 7, Eff Dist: 17\n",
            "['5: 25: 2']\n",
            "This Edge: Edge connecting 5 to 2 with weight of 8, Eff Dist: 25\n"
          ]
        }
      ]
    },
    {
      "cell_type": "code",
      "source": [
        "nodes_to_visit = [graph.head_node]\n",
        "graph.head_node.bfs_distance_from_source = 0\n",
        "graph.head_node.bfs_source = None\n",
        "\n",
        "while len(nodes_to_visit) > 0:\n",
        "    node = nodes_to_visit.pop(0)\n",
        "    for edge in node.out_edges:\n",
        "        if hasattr(edge.dest, 'bfs_complete') and edge.dest.bfs_complete == True: continue\n",
        "\n",
        "        edge.dest.bfs_source = node\n",
        "        edge.dest.bfs_distance_from_source = node.bfs_distance_from_source + edge.weight\n",
        "\n",
        "        dest_node = edge.dest\n",
        "        print(f\"{dest_node}, djk_eff_dist: {dest_node.djk_distance}\")\n",
        "\n",
        "        nodes_to_visit.append(dest_node)\n",
        "\n",
        "    node.bfs_complete = True"
      ],
      "metadata": {
        "colab": {
          "base_uri": "https://localhost:8080/"
        },
        "id": "eZ0WvtV_CPjU",
        "outputId": "9166de9a-30db-436c-a9b4-997c3816e16a"
      },
      "execution_count": 119,
      "outputs": [
        {
          "output_type": "stream",
          "name": "stdout",
          "text": [
            "Node containing value: 1, djk_eff_dist: 4\n",
            "Node containing value: 3, djk_eff_dist: 8\n",
            "Node containing value: 2, djk_eff_dist: 9\n",
            "Node containing value: 4, djk_eff_dist: 9\n",
            "Node containing value: 6, djk_eff_dist: 9\n",
            "Node containing value: 7, djk_eff_dist: 8\n",
            "Node containing value: 5, djk_eff_dist: 16\n"
          ]
        }
      ]
    },
    {
      "cell_type": "code",
      "source": [
        "# DFS\n",
        "graph = Graph(n, edge_array)\n",
        "graph.dfs_recursive()\n",
        "for node in graph.nodes:\n",
        "    print(node.value, node.dfs_distance, node.dfs_source_node.value if node.dfs_source_node else None)"
      ],
      "metadata": {
        "colab": {
          "base_uri": "https://localhost:8080/"
        },
        "id": "bXi2OZQNlJLH",
        "outputId": "624aecd0-4644-4d3e-c835-7f752c342cb7"
      },
      "execution_count": 77,
      "outputs": [
        {
          "output_type": "stream",
          "name": "stdout",
          "text": [
            "0 0 None\n",
            "1 1 0\n",
            "2 2 1\n",
            "3 1 0\n",
            "4 2 3\n",
            "5 3 4\n",
            "6 2 3\n",
            "7 2 3\n"
          ]
        }
      ]
    },
    {
      "cell_type": "code",
      "source": [
        "# DFS\n",
        "graph = Graph(n, edge_array)\n",
        "graph.dfs()\n",
        "for node in graph.nodes:\n",
        "    print(node.value, node.dfs_distance, node.dfs_source_node.value if node.dfs_source_node else None)"
      ],
      "metadata": {
        "colab": {
          "base_uri": "https://localhost:8080/"
        },
        "id": "CHBLJw0JlWXd",
        "outputId": "b4000fc6-f995-49c1-f36f-71ca29bd3be0"
      },
      "execution_count": 78,
      "outputs": [
        {
          "output_type": "stream",
          "name": "stdout",
          "text": [
            "DFS: Node: 0, next visit: [1, 3]\n",
            "DFS: Node: 1, next visit: [3, 2]\n",
            "DFS: Node: 3, next visit: [2, 4, 6, 7]\n",
            "DFS: Node: 2, next visit: [4, 6, 7]\n",
            "DFS: Node: 4, next visit: [6, 7, 5]\n",
            "DFS: Node: 6, next visit: [7, 5]\n",
            "DFS: Node: 7, next visit: [5]\n",
            "DFS: Node: 5, next visit: []\n",
            "0 0 None\n",
            "1 1 0\n",
            "2 2 1\n",
            "3 1 0\n",
            "4 2 3\n",
            "5 3 4\n",
            "6 2 3\n",
            "7 2 3\n"
          ]
        }
      ]
    },
    {
      "cell_type": "code",
      "source": [
        "# BFS\n",
        "graph = Graph(n, edge_array)\n",
        "graph.bfs()"
      ],
      "metadata": {
        "colab": {
          "base_uri": "https://localhost:8080/"
        },
        "id": "f3y-Fk4-o25W",
        "outputId": "28367257-c7b6-414e-eab9-c11d460dfc4b"
      },
      "execution_count": 81,
      "outputs": [
        {
          "output_type": "stream",
          "name": "stdout",
          "text": [
            "BFS: Node: 0, next visit: [1, 3]\n",
            "BFS: Node: 1, next visit: [3, 2]\n",
            "BFS: Node: 3, next visit: [2, 4, 6, 7]\n",
            "BFS: Node: 2, next visit: [4, 6, 7]\n",
            "BFS: Node: 4, next visit: [6, 7, 5]\n",
            "BFS: Node: 6, next visit: [7, 5]\n",
            "BFS: Node: 7, next visit: [5]\n",
            "BFS: Node: 5, next visit: []\n"
          ]
        }
      ]
    },
    {
      "cell_type": "code",
      "source": [
        "str([list(range(10)),list(range(10, 20))])"
      ],
      "metadata": {
        "colab": {
          "base_uri": "https://localhost:8080/",
          "height": 35
        },
        "id": "3S2TRJnW3SB4",
        "outputId": "6940ee8c-7949-443e-eb08-94c4c16333e9"
      },
      "execution_count": 145,
      "outputs": [
        {
          "output_type": "execute_result",
          "data": {
            "text/plain": [
              "'[[0, 1, 2, 3, 4, 5, 6, 7, 8, 9], [10, 11, 12, 13, 14, 15, 16, 17, 18, 19]]'"
            ],
            "application/vnd.google.colaboratory.intrinsic+json": {
              "type": "string"
            }
          },
          "metadata": {},
          "execution_count": 145
        }
      ]
    },
    {
      "cell_type": "code",
      "source": [
        "nodes = list(range(8))\n",
        "[[0]*len(nodes)]*len(nodes)"
      ],
      "metadata": {
        "colab": {
          "base_uri": "https://localhost:8080/"
        },
        "id": "H-kOQA9a9zhF",
        "outputId": "511a5d88-898e-44cd-be58-bc6bec1fa0a3"
      },
      "execution_count": 147,
      "outputs": [
        {
          "output_type": "execute_result",
          "data": {
            "text/plain": [
              "[[0, 0, 0, 0, 0, 0, 0, 0],\n",
              " [0, 0, 0, 0, 0, 0, 0, 0],\n",
              " [0, 0, 0, 0, 0, 0, 0, 0],\n",
              " [0, 0, 0, 0, 0, 0, 0, 0],\n",
              " [0, 0, 0, 0, 0, 0, 0, 0],\n",
              " [0, 0, 0, 0, 0, 0, 0, 0],\n",
              " [0, 0, 0, 0, 0, 0, 0, 0],\n",
              " [0, 0, 0, 0, 0, 0, 0, 0]]"
            ]
          },
          "metadata": {},
          "execution_count": 147
        }
      ]
    },
    {
      "cell_type": "code",
      "source": [
        "# class Node: Remains the same as above\n",
        "class Node:\n",
        "    def __init__(self, value, out_edges = []):\n",
        "        self.value = value\n",
        "        self.edges = []\n",
        "\n",
        "    def add_edge(self, edge):\n",
        "        self.edges.append(edge)\n",
        "\n",
        "    def __repr__(self):\n",
        "        return f\"Node containing value: {self.value}\"\n",
        "\n",
        "    def __eq__(self, other_node):\n",
        "        return self.value == other_node.value\n",
        "\n",
        "class Edge:\n",
        "    def __init__(self, nodes: tuple, weight):\n",
        "       self.nodes = nodes\n",
        "       self.weight = weight\n",
        "\n",
        "    def __repr__(self):\n",
        "        return f\"Undirected Edge connecting {(self.nodes[0].value, self.nodes[1].value)} with weight of {self.weight}\"\n",
        "\n",
        "class UnDirectedGraph:\n",
        "\n",
        "    def __init__(self, n_nodes, edges = []):\n",
        "        self.nodes = [Node(i) for i in range(n_nodes)]\n",
        "        for edge in edges:\n",
        "            a, b = self.nodes[edge[0]], self.nodes[edge[1]]\n",
        "            edge_obj = Edge((a, b), 1 if len(edge) == 2 else edge[-1])\n",
        "            a.add_edge(edge_obj)\n",
        "            b.add_edge(edge_obj)\n",
        "        self.head_node = self.nodes[0]\n",
        "\n",
        "    def __repr__(self):\n",
        "        # Return the adjecency matrix\n",
        "        adjecency_matrix = []\n",
        "        for index in range(len(self.nodes)):\n",
        "            # breakpoint()\n",
        "            node = self.nodes[index]\n",
        "            edges = node.edges\n",
        "            adj_mat = [0]*len(self.nodes)\n",
        "\n",
        "            for edge in edges:\n",
        "                edge_nodes = edge.nodes\n",
        "                other_node = edge_nodes[0] if edge_nodes[0] != node else edge_nodes[1]\n",
        "                adj_mat[other_node.value] = edge.weight\n",
        "            adjecency_matrix.append(adj_mat)\n",
        "\n",
        "        out = '   ' + '  '.join(map(str, list(range(len(self.nodes))))) # '   0  1  2  3  4  5  6  7  8'\n",
        "        for index, adj in enumerate(adjecency_matrix):\n",
        "            this_str = f'{index}  ' + '  '.join(map(str, adj))\n",
        "            out += '\\n'\n",
        "            out += this_str\n",
        "        return out\n",
        "\n",
        "    def prims(self): # Minimum Spanning Tree Algorithm\n",
        "\n",
        "        '''\n",
        "        Works only on Undirected Graphs\n",
        "\n",
        "        Covers all nodes in the tree\n",
        "        Total weight of the edges of the resultant tree is minimum\n",
        "        Will not have cycles\n",
        "\n",
        "        start with root node\n",
        "        chooses the least weighted edge from the root node\n",
        "        merges these 2 nodes into one\n",
        "\n",
        "        Now chooses least weighted edge of all the edges from both the nodes\n",
        "        merges this node to the above merged cluster\n",
        "\n",
        "        repeat the process until all the nodes are covered\n",
        "        '''\n",
        "\n",
        "        class Cluster:\n",
        "\n",
        "            def __init__(self):\n",
        "                self.all_nodes = []\n",
        "                self.all_edges = []\n",
        "                self.msp_edges = []\n",
        "\n",
        "            def add_node(self, node):\n",
        "                if node in self.all_nodes: return\n",
        "                self.all_nodes.append(node)\n",
        "                self.all_edges += node.edges\n",
        "\n",
        "            def get_min_out_edge(self):\n",
        "                min_v = math.inf\n",
        "                for index, edge in enumerate(self.all_edges):\n",
        "                    if edge.weight < min_v:\n",
        "                        min_index = index\n",
        "                        min_v = edge.weight\n",
        "\n",
        "                min_out_edge = self.all_edges.pop(min_index)\n",
        "                return min_out_edge\n",
        "\n",
        "            def clean_edges(self):\n",
        "                # Remove edges that connect inter cluster\n",
        "                new_edges = []\n",
        "                for edge in self.all_edges:\n",
        "                    if edge.nodes[0] not in self.all_nodes or edge.nodes[1] not in self.all_nodes:\n",
        "                        new_edges.append(edge)\n",
        "                self.all_edges = new_edges\n",
        "\n",
        "        cluster = Cluster()\n",
        "        cluster.add_node(self.head_node)\n",
        "\n",
        "        while len(cluster.all_nodes) < len(self.nodes): # Loop until all the nodes are covered\n",
        "            edge_to_process = cluster.get_min_out_edge()\n",
        "            cluster.add_node(edge_to_process.nodes[0])\n",
        "            cluster.add_node(edge_to_process.nodes[1])\n",
        "            cluster.msp_edges.append(edge_to_process)\n",
        "            cluster.clean_edges()\n",
        "        return cluster"
      ],
      "metadata": {
        "id": "NQxXA0XP-YON"
      },
      "execution_count": 186,
      "outputs": []
    },
    {
      "cell_type": "code",
      "source": [
        "# DJK shortest path\n",
        "n = 8\n",
        "edge_array = [[0, 1, 4], [1, 2, 6], [0, 3, 8], [3, 4, 4], [3, 6, 1], [3, 7, 0], [2, 4, 0], [4, 5, 7], [5, 2, 8]]\n",
        "graph = UnDirectedGraph(n, edge_array)\n",
        "graph"
      ],
      "metadata": {
        "colab": {
          "base_uri": "https://localhost:8080/"
        },
        "id": "LrQKjbB3As_0",
        "outputId": "fe8fd202-3a4b-4c12-d534-1a1e7db73502"
      },
      "execution_count": 187,
      "outputs": [
        {
          "output_type": "execute_result",
          "data": {
            "text/plain": [
              "   0  1  2  3  4  5  6  7\n",
              "0  0  4  0  8  0  0  0  0\n",
              "1  4  0  6  0  0  0  0  0\n",
              "2  0  6  0  0  0  8  0  0\n",
              "3  8  0  0  0  4  0  1  0\n",
              "4  0  0  0  4  0  7  0  0\n",
              "5  0  0  8  0  7  0  0  0\n",
              "6  0  0  0  1  0  0  0  0\n",
              "7  0  0  0  0  0  0  0  0"
            ]
          },
          "metadata": {},
          "execution_count": 187
        }
      ]
    },
    {
      "cell_type": "code",
      "source": [
        "cluster = graph.prims()"
      ],
      "metadata": {
        "id": "Ds2ZlS3aBRpI"
      },
      "execution_count": 189,
      "outputs": []
    },
    {
      "cell_type": "code",
      "source": [
        "cluster.msp_edges"
      ],
      "metadata": {
        "colab": {
          "base_uri": "https://localhost:8080/"
        },
        "id": "PBfFbgGuBVdU",
        "outputId": "9e8e34e2-7939-48de-8949-d960dac26c37"
      },
      "execution_count": 191,
      "outputs": [
        {
          "output_type": "execute_result",
          "data": {
            "text/plain": [
              "[Undirected Edge connecting (0, 1) with weight of 4,\n",
              " Undirected Edge connecting (1, 2) with weight of 6,\n",
              " Undirected Edge connecting (2, 4) with weight of 0,\n",
              " Undirected Edge connecting (3, 4) with weight of 4,\n",
              " Undirected Edge connecting (3, 7) with weight of 0,\n",
              " Undirected Edge connecting (3, 6) with weight of 1,\n",
              " Undirected Edge connecting (4, 5) with weight of 7]"
            ]
          },
          "metadata": {},
          "execution_count": 191
        }
      ]
    },
    {
      "cell_type": "code",
      "source": [],
      "metadata": {
        "id": "tglVY2ugHktK"
      },
      "execution_count": null,
      "outputs": []
    }
  ]
}
{
  "nbformat": 4,
  "nbformat_minor": 0,
  "metadata": {
    "colab": {
      "provenance": [],
      "gpuType": "T4",
      "authorship_tag": "ABX9TyNLUNT2mlKW5St34hW4i99a",
      "include_colab_link": true
    },
    "kernelspec": {
      "name": "python3",
      "display_name": "Python 3"
    },
    "language_info": {
      "name": "python"
    },
    "accelerator": "GPU"
  },
  "cells": [
    {
      "cell_type": "markdown",
      "metadata": {
        "id": "view-in-github",
        "colab_type": "text"
      },
      "source": [
        "<a href=\"https://colab.research.google.com/github/pranay8297/fastaip2/blob/main/pre_act_experimentation.ipynb\" target=\"_parent\"><img src=\"https://colab.research.google.com/assets/colab-badge.svg\" alt=\"Open In Colab\"/></a>"
      ]
    },
    {
      "cell_type": "code",
      "execution_count": 1,
      "metadata": {
        "colab": {
          "base_uri": "https://localhost:8080/"
        },
        "id": "QIxOUIMkahEZ",
        "outputId": "278178d9-c369-410b-f8c6-d2c898aa2180"
      },
      "outputs": [
        {
          "output_type": "stream",
          "name": "stdout",
          "text": [
            "Requirement already satisfied: torch==2.1.0 in /usr/local/lib/python3.10/dist-packages (2.1.0+cu121)\n",
            "Requirement already satisfied: filelock in /usr/local/lib/python3.10/dist-packages (from torch==2.1.0) (3.13.1)\n",
            "Requirement already satisfied: typing-extensions in /usr/local/lib/python3.10/dist-packages (from torch==2.1.0) (4.10.0)\n",
            "Requirement already satisfied: sympy in /usr/local/lib/python3.10/dist-packages (from torch==2.1.0) (1.12)\n",
            "Requirement already satisfied: networkx in /usr/local/lib/python3.10/dist-packages (from torch==2.1.0) (3.2.1)\n",
            "Requirement already satisfied: jinja2 in /usr/local/lib/python3.10/dist-packages (from torch==2.1.0) (3.1.3)\n",
            "Requirement already satisfied: fsspec in /usr/local/lib/python3.10/dist-packages (from torch==2.1.0) (2023.6.0)\n",
            "Requirement already satisfied: triton==2.1.0 in /usr/local/lib/python3.10/dist-packages (from torch==2.1.0) (2.1.0)\n",
            "Requirement already satisfied: MarkupSafe>=2.0 in /usr/local/lib/python3.10/dist-packages (from jinja2->torch==2.1.0) (2.1.5)\n",
            "Requirement already satisfied: mpmath>=0.19 in /usr/local/lib/python3.10/dist-packages (from sympy->torch==2.1.0) (1.3.0)\n",
            "Collecting datasets\n",
            "  Downloading datasets-2.18.0-py3-none-any.whl (510 kB)\n",
            "\u001b[2K     \u001b[90m━━━━━━━━━━━━━━━━━━━━━━━━━━━━━━━━━━━━━━━━\u001b[0m \u001b[32m510.5/510.5 kB\u001b[0m \u001b[31m6.1 MB/s\u001b[0m eta \u001b[36m0:00:00\u001b[0m\n",
            "\u001b[?25hRequirement already satisfied: filelock in /usr/local/lib/python3.10/dist-packages (from datasets) (3.13.1)\n",
            "Requirement already satisfied: numpy>=1.17 in /usr/local/lib/python3.10/dist-packages (from datasets) (1.25.2)\n",
            "Requirement already satisfied: pyarrow>=12.0.0 in /usr/local/lib/python3.10/dist-packages (from datasets) (14.0.2)\n",
            "Requirement already satisfied: pyarrow-hotfix in /usr/local/lib/python3.10/dist-packages (from datasets) (0.6)\n",
            "Collecting dill<0.3.9,>=0.3.0 (from datasets)\n",
            "  Downloading dill-0.3.8-py3-none-any.whl (116 kB)\n",
            "\u001b[2K     \u001b[90m━━━━━━━━━━━━━━━━━━━━━━━━━━━━━━━━━━━━━━━━\u001b[0m \u001b[32m116.3/116.3 kB\u001b[0m \u001b[31m7.7 MB/s\u001b[0m eta \u001b[36m0:00:00\u001b[0m\n",
            "\u001b[?25hRequirement already satisfied: pandas in /usr/local/lib/python3.10/dist-packages (from datasets) (1.5.3)\n",
            "Requirement already satisfied: requests>=2.19.0 in /usr/local/lib/python3.10/dist-packages (from datasets) (2.31.0)\n",
            "Requirement already satisfied: tqdm>=4.62.1 in /usr/local/lib/python3.10/dist-packages (from datasets) (4.66.2)\n",
            "Requirement already satisfied: xxhash in /usr/local/lib/python3.10/dist-packages (from datasets) (3.4.1)\n",
            "Collecting multiprocess (from datasets)\n",
            "  Downloading multiprocess-0.70.16-py310-none-any.whl (134 kB)\n",
            "\u001b[2K     \u001b[90m━━━━━━━━━━━━━━━━━━━━━━━━━━━━━━━━━━━━━━━━\u001b[0m \u001b[32m134.8/134.8 kB\u001b[0m \u001b[31m11.7 MB/s\u001b[0m eta \u001b[36m0:00:00\u001b[0m\n",
            "\u001b[?25hRequirement already satisfied: fsspec[http]<=2024.2.0,>=2023.1.0 in /usr/local/lib/python3.10/dist-packages (from datasets) (2023.6.0)\n",
            "Requirement already satisfied: aiohttp in /usr/local/lib/python3.10/dist-packages (from datasets) (3.9.3)\n",
            "Requirement already satisfied: huggingface-hub>=0.19.4 in /usr/local/lib/python3.10/dist-packages (from datasets) (0.20.3)\n",
            "Requirement already satisfied: packaging in /usr/local/lib/python3.10/dist-packages (from datasets) (23.2)\n",
            "Requirement already satisfied: pyyaml>=5.1 in /usr/local/lib/python3.10/dist-packages (from datasets) (6.0.1)\n",
            "Requirement already satisfied: aiosignal>=1.1.2 in /usr/local/lib/python3.10/dist-packages (from aiohttp->datasets) (1.3.1)\n",
            "Requirement already satisfied: attrs>=17.3.0 in /usr/local/lib/python3.10/dist-packages (from aiohttp->datasets) (23.2.0)\n",
            "Requirement already satisfied: frozenlist>=1.1.1 in /usr/local/lib/python3.10/dist-packages (from aiohttp->datasets) (1.4.1)\n",
            "Requirement already satisfied: multidict<7.0,>=4.5 in /usr/local/lib/python3.10/dist-packages (from aiohttp->datasets) (6.0.5)\n",
            "Requirement already satisfied: yarl<2.0,>=1.0 in /usr/local/lib/python3.10/dist-packages (from aiohttp->datasets) (1.9.4)\n",
            "Requirement already satisfied: async-timeout<5.0,>=4.0 in /usr/local/lib/python3.10/dist-packages (from aiohttp->datasets) (4.0.3)\n",
            "Requirement already satisfied: typing-extensions>=3.7.4.3 in /usr/local/lib/python3.10/dist-packages (from huggingface-hub>=0.19.4->datasets) (4.10.0)\n",
            "Requirement already satisfied: charset-normalizer<4,>=2 in /usr/local/lib/python3.10/dist-packages (from requests>=2.19.0->datasets) (3.3.2)\n",
            "Requirement already satisfied: idna<4,>=2.5 in /usr/local/lib/python3.10/dist-packages (from requests>=2.19.0->datasets) (3.6)\n",
            "Requirement already satisfied: urllib3<3,>=1.21.1 in /usr/local/lib/python3.10/dist-packages (from requests>=2.19.0->datasets) (2.0.7)\n",
            "Requirement already satisfied: certifi>=2017.4.17 in /usr/local/lib/python3.10/dist-packages (from requests>=2.19.0->datasets) (2024.2.2)\n",
            "Requirement already satisfied: python-dateutil>=2.8.1 in /usr/local/lib/python3.10/dist-packages (from pandas->datasets) (2.8.2)\n",
            "Requirement already satisfied: pytz>=2020.1 in /usr/local/lib/python3.10/dist-packages (from pandas->datasets) (2023.4)\n",
            "Requirement already satisfied: six>=1.5 in /usr/local/lib/python3.10/dist-packages (from python-dateutil>=2.8.1->pandas->datasets) (1.16.0)\n",
            "Installing collected packages: dill, multiprocess, datasets\n",
            "Successfully installed datasets-2.18.0 dill-0.3.8 multiprocess-0.70.16\n",
            "Collecting ipdb\n",
            "  Downloading ipdb-0.13.13-py3-none-any.whl (12 kB)\n",
            "Requirement already satisfied: ipython>=7.31.1 in /usr/local/lib/python3.10/dist-packages (from ipdb) (7.34.0)\n",
            "Requirement already satisfied: tomli in /usr/local/lib/python3.10/dist-packages (from ipdb) (2.0.1)\n",
            "Requirement already satisfied: decorator in /usr/local/lib/python3.10/dist-packages (from ipdb) (4.4.2)\n",
            "Requirement already satisfied: setuptools>=18.5 in /usr/local/lib/python3.10/dist-packages (from ipython>=7.31.1->ipdb) (67.7.2)\n",
            "Collecting jedi>=0.16 (from ipython>=7.31.1->ipdb)\n",
            "  Downloading jedi-0.19.1-py2.py3-none-any.whl (1.6 MB)\n",
            "\u001b[2K     \u001b[90m━━━━━━━━━━━━━━━━━━━━━━━━━━━━━━━━━━━━━━━━\u001b[0m \u001b[32m1.6/1.6 MB\u001b[0m \u001b[31m7.8 MB/s\u001b[0m eta \u001b[36m0:00:00\u001b[0m\n",
            "\u001b[?25hRequirement already satisfied: pickleshare in /usr/local/lib/python3.10/dist-packages (from ipython>=7.31.1->ipdb) (0.7.5)\n",
            "Requirement already satisfied: traitlets>=4.2 in /usr/local/lib/python3.10/dist-packages (from ipython>=7.31.1->ipdb) (5.7.1)\n",
            "Requirement already satisfied: prompt-toolkit!=3.0.0,!=3.0.1,<3.1.0,>=2.0.0 in /usr/local/lib/python3.10/dist-packages (from ipython>=7.31.1->ipdb) (3.0.43)\n",
            "Requirement already satisfied: pygments in /usr/local/lib/python3.10/dist-packages (from ipython>=7.31.1->ipdb) (2.16.1)\n",
            "Requirement already satisfied: backcall in /usr/local/lib/python3.10/dist-packages (from ipython>=7.31.1->ipdb) (0.2.0)\n",
            "Requirement already satisfied: matplotlib-inline in /usr/local/lib/python3.10/dist-packages (from ipython>=7.31.1->ipdb) (0.1.6)\n",
            "Requirement already satisfied: pexpect>4.3 in /usr/local/lib/python3.10/dist-packages (from ipython>=7.31.1->ipdb) (4.9.0)\n",
            "Requirement already satisfied: parso<0.9.0,>=0.8.3 in /usr/local/lib/python3.10/dist-packages (from jedi>=0.16->ipython>=7.31.1->ipdb) (0.8.3)\n",
            "Requirement already satisfied: ptyprocess>=0.5 in /usr/local/lib/python3.10/dist-packages (from pexpect>4.3->ipython>=7.31.1->ipdb) (0.7.0)\n",
            "Requirement already satisfied: wcwidth in /usr/local/lib/python3.10/dist-packages (from prompt-toolkit!=3.0.0,!=3.0.1,<3.1.0,>=2.0.0->ipython>=7.31.1->ipdb) (0.2.13)\n",
            "Installing collected packages: jedi, ipdb\n",
            "Successfully installed ipdb-0.13.13 jedi-0.19.1\n",
            "Collecting torcheval\n",
            "  Downloading torcheval-0.0.7-py3-none-any.whl (179 kB)\n",
            "\u001b[2K     \u001b[90m━━━━━━━━━━━━━━━━━━━━━━━━━━━━━━━━━━━━━━━━\u001b[0m \u001b[32m179.2/179.2 kB\u001b[0m \u001b[31m5.9 MB/s\u001b[0m eta \u001b[36m0:00:00\u001b[0m\n",
            "\u001b[?25hRequirement already satisfied: typing-extensions in /usr/local/lib/python3.10/dist-packages (from torcheval) (4.10.0)\n",
            "Installing collected packages: torcheval\n",
            "Successfully installed torcheval-0.0.7\n",
            "  Preparing metadata (setup.py) ... \u001b[?25l\u001b[?25hdone\n",
            "\u001b[2K     \u001b[90m━━━━━━━━━━━━━━━━━━━━━━━━━━━━━━━━━━━━━━━━\u001b[0m \u001b[32m619.9/619.9 MB\u001b[0m \u001b[31m1.0 MB/s\u001b[0m eta \u001b[36m0:00:00\u001b[0m\n",
            "\u001b[2K     \u001b[90m━━━━━━━━━━━━━━━━━━━━━━━━━━━━━━━━━━━━━━━━\u001b[0m \u001b[32m1.9/1.9 MB\u001b[0m \u001b[31m88.0 MB/s\u001b[0m eta \u001b[36m0:00:00\u001b[0m\n",
            "\u001b[2K     \u001b[90m━━━━━━━━━━━━━━━━━━━━━━━━━━━━━━━━━━━━━━━━\u001b[0m \u001b[32m44.6/44.6 kB\u001b[0m \u001b[31m6.5 MB/s\u001b[0m eta \u001b[36m0:00:00\u001b[0m\n",
            "\u001b[2K     \u001b[90m━━━━━━━━━━━━━━━━━━━━━━━━━━━━━━━━━━━━━━━━\u001b[0m \u001b[32m2.2/2.2 MB\u001b[0m \u001b[31m89.2 MB/s\u001b[0m eta \u001b[36m0:00:00\u001b[0m\n",
            "\u001b[2K     \u001b[90m━━━━━━━━━━━━━━━━━━━━━━━━━━━━━━━━━━━━━━━━\u001b[0m \u001b[32m21.0/21.0 MB\u001b[0m \u001b[31m75.4 MB/s\u001b[0m eta \u001b[36m0:00:00\u001b[0m\n",
            "\u001b[2K     \u001b[90m━━━━━━━━━━━━━━━━━━━━━━━━━━━━━━━━━━━━━━━━\u001b[0m \u001b[32m849.3/849.3 kB\u001b[0m \u001b[31m60.1 MB/s\u001b[0m eta \u001b[36m0:00:00\u001b[0m\n",
            "\u001b[2K     \u001b[90m━━━━━━━━━━━━━━━━━━━━━━━━━━━━━━━━━━━━━━━━\u001b[0m \u001b[32m11.8/11.8 MB\u001b[0m \u001b[31m103.7 MB/s\u001b[0m eta \u001b[36m0:00:00\u001b[0m\n",
            "\u001b[2K     \u001b[90m━━━━━━━━━━━━━━━━━━━━━━━━━━━━━━━━━━━━━━━━\u001b[0m \u001b[32m557.1/557.1 MB\u001b[0m \u001b[31m3.0 MB/s\u001b[0m eta \u001b[36m0:00:00\u001b[0m\n",
            "\u001b[2K     \u001b[90m━━━━━━━━━━━━━━━━━━━━━━━━━━━━━━━━━━━━━━━━\u001b[0m \u001b[32m317.1/317.1 MB\u001b[0m \u001b[31m4.4 MB/s\u001b[0m eta \u001b[36m0:00:00\u001b[0m\n",
            "\u001b[2K     \u001b[90m━━━━━━━━━━━━━━━━━━━━━━━━━━━━━━━━━━━━━━━━\u001b[0m \u001b[32m168.4/168.4 MB\u001b[0m \u001b[31m6.6 MB/s\u001b[0m eta \u001b[36m0:00:00\u001b[0m\n",
            "\u001b[2K     \u001b[90m━━━━━━━━━━━━━━━━━━━━━━━━━━━━━━━━━━━━━━━━\u001b[0m \u001b[32m54.6/54.6 MB\u001b[0m \u001b[31m11.5 MB/s\u001b[0m eta \u001b[36m0:00:00\u001b[0m\n",
            "\u001b[2K     \u001b[90m━━━━━━━━━━━━━━━━━━━━━━━━━━━━━━━━━━━━━━━━\u001b[0m \u001b[32m102.6/102.6 MB\u001b[0m \u001b[31m8.8 MB/s\u001b[0m eta \u001b[36m0:00:00\u001b[0m\n",
            "\u001b[2K     \u001b[90m━━━━━━━━━━━━━━━━━━━━━━━━━━━━━━━━━━━━━━━━\u001b[0m \u001b[32m173.2/173.2 MB\u001b[0m \u001b[31m6.9 MB/s\u001b[0m eta \u001b[36m0:00:00\u001b[0m\n",
            "\u001b[2K     \u001b[90m━━━━━━━━━━━━━━━━━━━━━━━━━━━━━━━━━━━━━━━━\u001b[0m \u001b[32m177.1/177.1 MB\u001b[0m \u001b[31m6.7 MB/s\u001b[0m eta \u001b[36m0:00:00\u001b[0m\n",
            "\u001b[2K     \u001b[90m━━━━━━━━━━━━━━━━━━━━━━━━━━━━━━━━━━━━━━━━\u001b[0m \u001b[32m98.6/98.6 kB\u001b[0m \u001b[31m15.2 MB/s\u001b[0m eta \u001b[36m0:00:00\u001b[0m\n",
            "\u001b[2K     \u001b[90m━━━━━━━━━━━━━━━━━━━━━━━━━━━━━━━━━━━━━━━━\u001b[0m \u001b[32m63.3/63.3 MB\u001b[0m \u001b[31m10.2 MB/s\u001b[0m eta \u001b[36m0:00:00\u001b[0m\n",
            "\u001b[2K     \u001b[90m━━━━━━━━━━━━━━━━━━━━━━━━━━━━━━━━━━━━━━━━\u001b[0m \u001b[32m153.0/153.0 kB\u001b[0m \u001b[31m23.5 MB/s\u001b[0m eta \u001b[36m0:00:00\u001b[0m\n",
            "\u001b[?25h  Installing build dependencies ... \u001b[?25l\u001b[?25hdone\n",
            "  Getting requirements to build wheel ... \u001b[?25l\u001b[?25hdone\n",
            "  Installing backend dependencies ... \u001b[?25l\u001b[?25hdone\n",
            "  Preparing metadata (pyproject.toml) ... \u001b[?25l\u001b[?25hdone\n",
            "\u001b[2K     \u001b[90m━━━━━━━━━━━━━━━━━━━━━━━━━━━━━━━━━━━━━━━━\u001b[0m \u001b[32m6.9/6.9 MB\u001b[0m \u001b[31m112.9 MB/s\u001b[0m eta \u001b[36m0:00:00\u001b[0m\n",
            "\u001b[2K     \u001b[90m━━━━━━━━━━━━━━━━━━━━━━━━━━━━━━━━━━━━━━━━\u001b[0m \u001b[32m6.9/6.9 MB\u001b[0m \u001b[31m116.3 MB/s\u001b[0m eta \u001b[36m0:00:00\u001b[0m\n",
            "\u001b[2K     \u001b[90m━━━━━━━━━━━━━━━━━━━━━━━━━━━━━━━━━━━━━━━━\u001b[0m \u001b[32m6.8/6.8 MB\u001b[0m \u001b[31m115.1 MB/s\u001b[0m eta \u001b[36m0:00:00\u001b[0m\n",
            "\u001b[2K     \u001b[90m━━━━━━━━━━━━━━━━━━━━━━━━━━━━━━━━━━━━━━━━\u001b[0m \u001b[32m6.8/6.8 MB\u001b[0m \u001b[31m102.0 MB/s\u001b[0m eta \u001b[36m0:00:00\u001b[0m\n",
            "\u001b[2K     \u001b[90m━━━━━━━━━━━━━━━━━━━━━━━━━━━━━━━━━━━━━━━━\u001b[0m \u001b[32m6.9/6.9 MB\u001b[0m \u001b[31m119.4 MB/s\u001b[0m eta \u001b[36m0:00:00\u001b[0m\n",
            "\u001b[2K     \u001b[90m━━━━━━━━━━━━━━━━━━━━━━━━━━━━━━━━━━━━━━━━\u001b[0m \u001b[32m6.0/6.0 MB\u001b[0m \u001b[31m119.2 MB/s\u001b[0m eta \u001b[36m0:00:00\u001b[0m\n",
            "\u001b[?25h  Building wheel for miniai (setup.py) ... \u001b[?25l\u001b[?25hdone\n",
            "  Building wheel for lit (pyproject.toml) ... \u001b[?25l\u001b[?25hdone\n",
            "\u001b[31mERROR: pip's dependency resolver does not currently take into account all the packages that are installed. This behaviour is the source of the following dependency conflicts.\n",
            "torchaudio 2.1.0+cu121 requires torch==2.1.0, but you have torch 2.0.1 which is incompatible.\n",
            "torchdata 0.7.0 requires torch==2.1.0, but you have torch 2.0.1 which is incompatible.\n",
            "torchtext 0.16.0 requires torch==2.1.0, but you have torch 2.0.1 which is incompatible.\u001b[0m\u001b[31m\n",
            "\u001b[0mRequirement already satisfied: diffusers in /usr/local/lib/python3.10/dist-packages (0.26.3)\n",
            "Requirement already satisfied: importlib-metadata in /usr/local/lib/python3.10/dist-packages (from diffusers) (7.0.1)\n",
            "Requirement already satisfied: filelock in /usr/local/lib/python3.10/dist-packages (from diffusers) (3.13.1)\n",
            "Requirement already satisfied: huggingface-hub>=0.20.2 in /usr/local/lib/python3.10/dist-packages (from diffusers) (0.20.3)\n",
            "Requirement already satisfied: numpy in /usr/local/lib/python3.10/dist-packages (from diffusers) (1.25.2)\n",
            "Requirement already satisfied: regex!=2019.12.17 in /usr/local/lib/python3.10/dist-packages (from diffusers) (2023.12.25)\n",
            "Requirement already satisfied: requests in /usr/local/lib/python3.10/dist-packages (from diffusers) (2.31.0)\n",
            "Requirement already satisfied: safetensors>=0.3.1 in /usr/local/lib/python3.10/dist-packages (from diffusers) (0.4.2)\n",
            "Requirement already satisfied: Pillow in /usr/local/lib/python3.10/dist-packages (from diffusers) (9.4.0)\n",
            "Requirement already satisfied: fsspec>=2023.5.0 in /usr/local/lib/python3.10/dist-packages (from huggingface-hub>=0.20.2->diffusers) (2023.6.0)\n",
            "Requirement already satisfied: tqdm>=4.42.1 in /usr/local/lib/python3.10/dist-packages (from huggingface-hub>=0.20.2->diffusers) (4.66.2)\n",
            "Requirement already satisfied: pyyaml>=5.1 in /usr/local/lib/python3.10/dist-packages (from huggingface-hub>=0.20.2->diffusers) (6.0.1)\n",
            "Requirement already satisfied: typing-extensions>=3.7.4.3 in /usr/local/lib/python3.10/dist-packages (from huggingface-hub>=0.20.2->diffusers) (4.10.0)\n",
            "Requirement already satisfied: packaging>=20.9 in /usr/local/lib/python3.10/dist-packages (from huggingface-hub>=0.20.2->diffusers) (23.2)\n",
            "Requirement already satisfied: zipp>=0.5 in /usr/local/lib/python3.10/dist-packages (from importlib-metadata->diffusers) (3.17.0)\n",
            "Requirement already satisfied: charset-normalizer<4,>=2 in /usr/local/lib/python3.10/dist-packages (from requests->diffusers) (3.3.2)\n",
            "Requirement already satisfied: idna<4,>=2.5 in /usr/local/lib/python3.10/dist-packages (from requests->diffusers) (3.6)\n",
            "Requirement already satisfied: urllib3<3,>=1.21.1 in /usr/local/lib/python3.10/dist-packages (from requests->diffusers) (2.0.7)\n",
            "Requirement already satisfied: certifi>=2017.4.17 in /usr/local/lib/python3.10/dist-packages (from requests->diffusers) (2024.2.2)\n",
            "Requirement already satisfied: tqdm in /usr/local/lib/python3.10/dist-packages (4.66.2)\n",
            "Collecting accelerate\n",
            "  Downloading accelerate-0.27.2-py3-none-any.whl (279 kB)\n",
            "\u001b[2K     \u001b[90m━━━━━━━━━━━━━━━━━━━━━━━━━━━━━━━━━━━━━━━━\u001b[0m \u001b[32m280.0/280.0 kB\u001b[0m \u001b[31m7.5 MB/s\u001b[0m eta \u001b[36m0:00:00\u001b[0m\n",
            "\u001b[?25hRequirement already satisfied: numpy>=1.17 in /usr/local/lib/python3.10/dist-packages (from accelerate) (1.25.2)\n",
            "Requirement already satisfied: packaging>=20.0 in /usr/local/lib/python3.10/dist-packages (from accelerate) (23.2)\n",
            "Requirement already satisfied: psutil in /usr/local/lib/python3.10/dist-packages (from accelerate) (5.9.5)\n",
            "Requirement already satisfied: pyyaml in /usr/local/lib/python3.10/dist-packages (from accelerate) (6.0.1)\n",
            "Requirement already satisfied: torch>=1.10.0 in /usr/local/lib/python3.10/dist-packages (from accelerate) (2.0.1)\n",
            "Requirement already satisfied: huggingface-hub in /usr/local/lib/python3.10/dist-packages (from accelerate) (0.20.3)\n",
            "Requirement already satisfied: safetensors>=0.3.1 in /usr/local/lib/python3.10/dist-packages (from accelerate) (0.4.2)\n",
            "Requirement already satisfied: filelock in /usr/local/lib/python3.10/dist-packages (from torch>=1.10.0->accelerate) (3.13.1)\n",
            "Requirement already satisfied: typing-extensions in /usr/local/lib/python3.10/dist-packages (from torch>=1.10.0->accelerate) (4.10.0)\n",
            "Requirement already satisfied: sympy in /usr/local/lib/python3.10/dist-packages (from torch>=1.10.0->accelerate) (1.12)\n",
            "Requirement already satisfied: networkx in /usr/local/lib/python3.10/dist-packages (from torch>=1.10.0->accelerate) (3.2.1)\n",
            "Requirement already satisfied: jinja2 in /usr/local/lib/python3.10/dist-packages (from torch>=1.10.0->accelerate) (3.1.3)\n",
            "Requirement already satisfied: nvidia-cuda-nvrtc-cu11==11.7.99 in /usr/local/lib/python3.10/dist-packages (from torch>=1.10.0->accelerate) (11.7.99)\n",
            "Requirement already satisfied: nvidia-cuda-runtime-cu11==11.7.99 in /usr/local/lib/python3.10/dist-packages (from torch>=1.10.0->accelerate) (11.7.99)\n",
            "Requirement already satisfied: nvidia-cuda-cupti-cu11==11.7.101 in /usr/local/lib/python3.10/dist-packages (from torch>=1.10.0->accelerate) (11.7.101)\n",
            "Requirement already satisfied: nvidia-cudnn-cu11==8.5.0.96 in /usr/local/lib/python3.10/dist-packages (from torch>=1.10.0->accelerate) (8.5.0.96)\n",
            "Requirement already satisfied: nvidia-cublas-cu11==11.10.3.66 in /usr/local/lib/python3.10/dist-packages (from torch>=1.10.0->accelerate) (11.10.3.66)\n",
            "Requirement already satisfied: nvidia-cufft-cu11==10.9.0.58 in /usr/local/lib/python3.10/dist-packages (from torch>=1.10.0->accelerate) (10.9.0.58)\n",
            "Requirement already satisfied: nvidia-curand-cu11==10.2.10.91 in /usr/local/lib/python3.10/dist-packages (from torch>=1.10.0->accelerate) (10.2.10.91)\n",
            "Requirement already satisfied: nvidia-cusolver-cu11==11.4.0.1 in /usr/local/lib/python3.10/dist-packages (from torch>=1.10.0->accelerate) (11.4.0.1)\n",
            "Requirement already satisfied: nvidia-cusparse-cu11==11.7.4.91 in /usr/local/lib/python3.10/dist-packages (from torch>=1.10.0->accelerate) (11.7.4.91)\n",
            "Requirement already satisfied: nvidia-nccl-cu11==2.14.3 in /usr/local/lib/python3.10/dist-packages (from torch>=1.10.0->accelerate) (2.14.3)\n",
            "Requirement already satisfied: nvidia-nvtx-cu11==11.7.91 in /usr/local/lib/python3.10/dist-packages (from torch>=1.10.0->accelerate) (11.7.91)\n",
            "Requirement already satisfied: triton==2.0.0 in /usr/local/lib/python3.10/dist-packages (from torch>=1.10.0->accelerate) (2.0.0)\n",
            "Requirement already satisfied: setuptools in /usr/local/lib/python3.10/dist-packages (from nvidia-cublas-cu11==11.10.3.66->torch>=1.10.0->accelerate) (67.7.2)\n",
            "Requirement already satisfied: wheel in /usr/local/lib/python3.10/dist-packages (from nvidia-cublas-cu11==11.10.3.66->torch>=1.10.0->accelerate) (0.42.0)\n",
            "Requirement already satisfied: cmake in /usr/local/lib/python3.10/dist-packages (from triton==2.0.0->torch>=1.10.0->accelerate) (3.27.9)\n",
            "Requirement already satisfied: lit in /usr/local/lib/python3.10/dist-packages (from triton==2.0.0->torch>=1.10.0->accelerate) (17.0.6)\n",
            "Requirement already satisfied: fsspec>=2023.5.0 in /usr/local/lib/python3.10/dist-packages (from huggingface-hub->accelerate) (2023.6.0)\n",
            "Requirement already satisfied: requests in /usr/local/lib/python3.10/dist-packages (from huggingface-hub->accelerate) (2.31.0)\n",
            "Requirement already satisfied: tqdm>=4.42.1 in /usr/local/lib/python3.10/dist-packages (from huggingface-hub->accelerate) (4.66.2)\n",
            "Requirement already satisfied: MarkupSafe>=2.0 in /usr/local/lib/python3.10/dist-packages (from jinja2->torch>=1.10.0->accelerate) (2.1.5)\n",
            "Requirement already satisfied: charset-normalizer<4,>=2 in /usr/local/lib/python3.10/dist-packages (from requests->huggingface-hub->accelerate) (3.3.2)\n",
            "Requirement already satisfied: idna<4,>=2.5 in /usr/local/lib/python3.10/dist-packages (from requests->huggingface-hub->accelerate) (3.6)\n",
            "Requirement already satisfied: urllib3<3,>=1.21.1 in /usr/local/lib/python3.10/dist-packages (from requests->huggingface-hub->accelerate) (2.0.7)\n",
            "Requirement already satisfied: certifi>=2017.4.17 in /usr/local/lib/python3.10/dist-packages (from requests->huggingface-hub->accelerate) (2024.2.2)\n",
            "Requirement already satisfied: mpmath>=0.19 in /usr/local/lib/python3.10/dist-packages (from sympy->torch>=1.10.0->accelerate) (1.3.0)\n",
            "Installing collected packages: accelerate\n",
            "Successfully installed accelerate-0.27.2\n"
          ]
        }
      ],
      "source": [
        "!pip install torch==2.1.0\n",
        "!pip install datasets\n",
        "!pip install ipdb\n",
        "!pip install torcheval\n",
        "!pip install -Uqq git+https://github.com/fastai/course22p2\n",
        "!pip install diffusers\n",
        "!pip install tqdm\n",
        "!pip install accelerate"
      ]
    },
    {
      "cell_type": "code",
      "source": [
        "import torch\n",
        "import math\n",
        "import numpy as np\n",
        "import fastcore.all as fc\n",
        "import matplotlib as mpl, matplotlib.pyplot as plt\n",
        "import time\n",
        "import numpy\n",
        "import pickle\n",
        "import os\n",
        "\n",
        "from pathlib import Path\n",
        "from PIL import Image\n",
        "from tqdm import tqdm\n",
        "from scipy.linalg import sqrtm\n",
        "from functools import partial\n",
        "from ipdb import set_trace as st\n",
        "\n",
        "from datasets import load_dataset\n",
        "from diffusers import UNet2DModel\n",
        "from accelerate import Accelerator\n",
        "\n",
        "from torch import nn\n",
        "from torch import optim\n",
        "from torch import autocast\n",
        "from torch.nn import functional as F\n",
        "from torch.utils.data import DataLoader\n",
        "from torch.cuda.amp import GradScaler\n",
        "from torch.optim import lr_scheduler\n",
        "from torchvision.transforms.functional import to_tensor, resize\n",
        "from torchvision import transforms\n",
        "from torchvision.transforms import v2, InterpolationMode\n",
        "from torcheval.metrics import MulticlassAccuracy\n",
        "\n",
        "from miniai.datasets import *\n",
        "from miniai.learner import *\n",
        "from miniai.augment import *\n",
        "from miniai.activations import *\n",
        "from miniai.init import *\n",
        "\n",
        "from google.colab import drive\n",
        "drive.mount('/content/drive')\n",
        "\n",
        "mpl.rcParams['image.cmap'] = 'gray_r'\n",
        "\n",
        "# set_seed(42)\n",
        "mdl_path = Path('drive/MyDrive/fastai_p2/models/')"
      ],
      "metadata": {
        "colab": {
          "base_uri": "https://localhost:8080/"
        },
        "id": "rnkLMDuVaqEt",
        "outputId": "0ba6f033-beef-4766-ba66-89d5f6eefed7"
      },
      "execution_count": 52,
      "outputs": [
        {
          "output_type": "stream",
          "name": "stdout",
          "text": [
            "Drive already mounted at /content/drive; to attempt to forcibly remount, call drive.mount(\"/content/drive\", force_remount=True).\n"
          ]
        }
      ]
    },
    {
      "cell_type": "markdown",
      "source": [
        "# Setup"
      ],
      "metadata": {
        "id": "tafCNz8fcxki"
      }
    },
    {
      "cell_type": "code",
      "source": [
        "def collate_fn(some):\n",
        "  x, y = zip(*some)\n",
        "  return torch.stack(x, dim = 0), torch.stack(y, dim = 0)\n",
        "\n",
        "class TinyImagenetDS:\n",
        "  def __init__(self, im_paths, labels):\n",
        "    fc.store_attr()\n",
        "    self.tfm = transforms.ToTensor()\n",
        "\n",
        "  def __getitem__(self, idx):\n",
        "    return transforms.ToTensor()(Image.open(self.im_paths[idx])), torch.tensor(self.labels[idx])\n",
        "\n",
        "  def __len__(self): return len(self.im_paths)\n",
        "\n",
        "class AveragePool(nn.Module):\n",
        "  def forward(self, x): return x.mean((-1, -2))\n",
        "\n",
        "def conv(ni, nf, stride = 2, ks = 3, act = GeneralRelu, norm = None, bias = True):\n",
        "  layers = [nn.Conv2d(ni, nf, kernel_size = ks, stride = stride, padding = ks//2, bias = bias)]\n",
        "  if act: layers.append(act())\n",
        "  if norm: layers.append(norm(nf) if norm.__name__ in (\"BatchNorm2d\", \"BatchNorm1d\", \"BatchNorm3d\") else norm()) # else its a batch norm.\n",
        "  return nn.Sequential(*layers)\n",
        "\n",
        "class ResBlock(nn.Module):\n",
        "\n",
        "  def __init__(self, ni, nf, stride = 2, ks = 3, norm = nn.BatchNorm2d, act = GeneralRelu):\n",
        "    super().__init__()\n",
        "    fc.store_attr()\n",
        "    self.create_id()\n",
        "    self.create_playground()\n",
        "    self.act_fn = act()\n",
        "\n",
        "  def create_id(self):\n",
        "    self.id_conv = fc.noop if self.ni == self.nf and self.stride == 1 else conv(self.ni, self.nf, stride = 1, ks = 1, norm = None, act = None)\n",
        "    self.avg_pool = fc.noop if self.stride == 1 else nn.AvgPool2d(2, ceil_mode = True)\n",
        "\n",
        "  def conserve(self, x): return self.id_conv(self.avg_pool(x))\n",
        "\n",
        "  def create_playground(self):\n",
        "    layers = [\n",
        "        conv(self.ni, self.nf, stride = 1, norm = self.norm, act = self.act),\n",
        "        conv(self.nf, self.nf, stride = self.stride, norm = self.norm, act = self.act),\n",
        "    ]\n",
        "    self.convs = nn.Sequential(*layers)\n",
        "    self.pf = conv(self.nf, self.nf, stride = 1, act = self.act, norm = self.norm)\n",
        "    if self.norm:\n",
        "      nn.init.constant_(self.pf[-1].weight, 0.)\n",
        "\n",
        "  def play(self, x):\n",
        "    inter = self.convs(x)\n",
        "    return  inter + self.pf(inter)\n",
        "\n",
        "  def forward(self, x): return self.act_fn(self.conserve(x) + self.play(x))\n",
        "\n",
        "  def __name__(self):\n",
        "    return 'ResBlock'\n",
        "\n",
        "class ResBlockV2(ResBlock):\n",
        "\n",
        "  def forward(self, x): return self.conserve(x) + self.act_fn(self.play(x))\n",
        "\n",
        "  def __name__(self):\n",
        "    return 'ResBlockV2'\n",
        "\n",
        "class ResBlockDV2(ResBlock):\n",
        "\n",
        "  def __init__(self, ni, nf, stride = 2, ks = 3, norm = nn.BatchNorm2d, act = GeneralRelu, p = 0.1, dropout_func = nn.Dropout2d(0.2)):\n",
        "    super().__init__(ni, nf, stride = 2, ks = 3, norm = nn.BatchNorm2d, act = act)\n",
        "    self.drop = dropout_func\n",
        "\n",
        "  def forward(self, x): return self.drop(super().forward(x))\n",
        "\n",
        "  def __name__(self):\n",
        "    return 'ResBlockD'\n",
        "\n",
        "\n",
        "class ResBlockDV3(ResBlockV2):\n",
        "\n",
        "  def __init__(self, ni, nf, stride = 2, ks = 3, norm = nn.BatchNorm2d, act = GeneralRelu, p = 0.1, dropout_func = nn.Dropout2d(0.2)):\n",
        "    super().__init__(ni, nf, stride = 2, ks = 3, norm = nn.BatchNorm2d, act = act)\n",
        "    self.drop = dropout_func\n",
        "\n",
        "  def forward(self, x): return self.drop(super().forward(x))\n",
        "\n",
        "  def __name__(self):\n",
        "    return 'ResBlockD'\n",
        "\n",
        "class UnetModel(UNet2DModel):\n",
        "  def forward(self, x): return super().forward(*x).sample\n",
        "\n",
        "class BaseSchedulerCB(Callback):\n",
        "  def __init__(self, sched_class): self.sched_class = sched_class\n",
        "  def before_fit(self, learn): self.sched = self.sched_class(learn.opt)\n",
        "  def step(self, learn):\n",
        "    if not learn.training: return\n",
        "    self.sched.step()\n",
        "\n",
        "class BatchSchedulerCB(BaseSchedulerCB):\n",
        "  def __init__(self, sched_class):super().__init__(sched_class)\n",
        "  def after_batch(self, learn): self.step(learn)\n",
        "\n",
        "class AccLearner(TrainLearner):\n",
        "\n",
        "  def __init__(self, *args, **kwargs):\n",
        "    super().__init__(*args, **kwargs)\n",
        "    self.aclr = Accelerator()\n",
        "    self.opt = self.opt_func(self.model.parameters(), self.lr)\n",
        "    self.model, self.opt, self.dls.train, self.dls.valid = self.aclr.prepare(self.model, self.opt, self.dls.train, self.dls.valid)\n",
        "\n",
        "  def backward(self): self.aclr.backward(self.loss)\n",
        "\n",
        "class LRScheduler:\n",
        "  def __init__(self):\n",
        "    self.batch_count = 0\n",
        "\n",
        "  def step(self):\n",
        "    raise NotImplementedError()\n",
        "\n",
        "class DropoutScheduler(LRScheduler):\n",
        "  def __init__(self, epochs = 10, min = 0.2, max = 0.5):\n",
        "    self.drops = iter(torch.linspace(min, max, steps = epochs))\n",
        "\n",
        "  def step(self):\n",
        "    return next(self.drops)\n",
        "\n",
        "class DropoutCB(Callback):\n",
        "  def __init__(self, drop_sched): fc.store_attr()\n",
        "  def before_epoch(self, learn):\n",
        "    if not learn.training: return\n",
        "    p = self.drop_sched.step()\n",
        "    for block in learn.model:\n",
        "      if isinstance(block, ResBlockDV2): block.drop.p = p\n",
        "      if isinstance(block, (nn.Dropout, nn.Dropout2d)): block.p = p"
      ],
      "metadata": {
        "id": "LaPktDBYbqIY"
      },
      "execution_count": 7,
      "outputs": []
    },
    {
      "cell_type": "code",
      "source": [
        "def pre_conv(ni, nf, stride = 2, ks = 3, act = GeneralRelu, norm = None, bias = True):\n",
        "  layers = []\n",
        "  if act: layers.append(act())\n",
        "  if norm: layers.append(norm(ni) if norm.__name__ in (\"BatchNorm2d\", \"BatchNorm1d\", \"BatchNorm3d\") else norm()) # else its a layer norm.\n",
        "  layers.append(nn.Conv2d(ni, nf, kernel_size = ks, stride = stride, padding = ks//2, bias = bias))\n",
        "  return nn.Sequential(*layers)\n",
        "\n",
        "class PreActResBlock(nn.Module):\n",
        "\n",
        "  def __init__(self, ni, nf, stride = 2, ks = 3, norm = nn.BatchNorm2d, act = GeneralRelu):\n",
        "    super().__init__()\n",
        "    fc.store_attr()\n",
        "    self.create_id()\n",
        "    self.create_playground()\n",
        "    self.act_fn = act()\n",
        "\n",
        "  def create_id(self):\n",
        "    self.id_conv = fc.noop if self.ni == self.nf and self.stride == 1 else conv(self.ni, self.nf, stride = 1, ks = 1, norm = None, act = None)\n",
        "    self.avg_pool = fc.noop if self.stride == 1 else nn.AvgPool2d(2, ceil_mode = True)\n",
        "\n",
        "  def conserve(self, x): return self.id_conv(self.avg_pool(x))\n",
        "\n",
        "  def create_playground(self):\n",
        "    layers = [\n",
        "        pre_conv(self.ni, self.nf, stride = 1, norm = self.norm, act = self.act),\n",
        "        pre_conv(self.nf, self.nf, stride = self.stride, norm = self.norm, act = self.act),\n",
        "    ]\n",
        "    self.convs = nn.Sequential(*layers)\n",
        "    self.pf = pre_conv(self.nf, self.nf, stride = 1, act = self.act, norm = self.norm)\n",
        "    if self.norm:\n",
        "      nn.init.constant_(self.pf[-1].weight, 0.)\n",
        "\n",
        "  def play(self, x):\n",
        "    inter = self.convs(x)\n",
        "    return  inter + self.pf(inter)\n",
        "\n",
        "  def forward(self, x):\n",
        "    return self.conserve(x) + self.play(x)\n",
        "\n",
        "  def __name__(self):\n",
        "    return 'PreResBlock'\n",
        "\n",
        "class PreActResBlockD(PreActResBlock):\n",
        "\n",
        "  def __init__(self, ni, nf, stride = 2, ks = 3, norm = nn.BatchNorm2d, act = GeneralRelu, p = 0.1, dropout_func = nn.Dropout2d(0.2)):\n",
        "    super().__init__(ni, nf, stride = 2, ks = 3, norm = nn.BatchNorm2d, act = act)\n",
        "    self.drop = dropout_func\n",
        "\n",
        "  def forward(self, x): return self.drop(super().forward(x))\n",
        "\n",
        "  def __name__(self):\n",
        "    return 'ResBlockD'\n",
        "\n",
        "class AugmentNormCB(Callback):\n",
        "  order = 20\n",
        "  def __init__(self, transforms = None):\n",
        "    fc.store_attr()\n",
        "    device = torch.device('cuda' if torch.cuda.is_available() else 'cpu')\n",
        "    self.mean = torch.tensor([0.4810, 0.4482, 0.3968], device = device)\n",
        "    self.std = torch.tensor([0.2760, 0.2683, 0.2813], device = device)\n",
        "    if not self.transforms:\n",
        "      self.transforms = v2.Compose([\n",
        "          v2.RandomHorizontalFlip(p = 0.5),\n",
        "          v2.RandomPerspective(distortion_scale=0.2, p=0.8),\n",
        "          RandErase(0.2)\n",
        "      ])\n",
        "\n",
        "  def before_batch(self, learn):\n",
        "    if learn.training: learn.batch = (self.transforms(learn.batch[0]), learn.batch[1])\n",
        "    x = learn.batch[0]\n",
        "    x = (x - self.mean[None, :, None, None])/(self.std[None, :, None, None])\n",
        "    learn.batch = (x, learn.batch[1])\n",
        "\n",
        "class AugmentNormCBV2(AugmentNormCB):\n",
        "  def __init__(self, total_epochs, threshold = 0.1, initial_transforms = [], addtional_transforms = []):\n",
        "    fc.store_attr()\n",
        "    device = torch.device('cuda' if torch.cuda.is_available() else 'cpu')\n",
        "    self.mean = torch.tensor([0.47565, 0.40303, 0.31555], device = device)\n",
        "    self.std = torch.tensor([0.28858, 0.24402, 0.26615], device = device)\n",
        "    self.transforms = v2.Compose(self.initial_transforms)\n",
        "    self.task_done = False\n",
        "\n",
        "  def before_epoch(self, learn):\n",
        "    if (learn.epoch >= self.total_epochs*self.threshold) and self.task_done == False:\n",
        "      self.transforms = v2.Compose(self.initial_transforms + self.addtional_transforms)\n",
        "      self.task_done = True\n",
        "\n",
        "def init_weights(m, leaky = 0.):\n",
        "  if isinstance(m, (nn.Conv2d, nn.Conv1d, nn.Conv3d, nn.Linear)): nn.init.kaiming_normal_(m.weight, a = leaky)\n",
        "\n",
        "iw = partial(init_weights, leaky = 0.1)"
      ],
      "metadata": {
        "id": "2B0x07uncClD"
      },
      "execution_count": 60,
      "outputs": []
    },
    {
      "cell_type": "code",
      "source": [
        "!wget 'http://cs231n.stanford.edu/tiny-imagenet-200.zip'\n",
        "!unzip tiny-imagenet-200.zip"
      ],
      "metadata": {
        "id": "c82zK14QcD9M"
      },
      "execution_count": null,
      "outputs": []
    },
    {
      "cell_type": "markdown",
      "source": [
        "# Data Prep"
      ],
      "metadata": {
        "id": "Sg5KK_Ggc1r1"
      }
    },
    {
      "cell_type": "code",
      "source": [
        "tfm = transforms.ToTensor()\n",
        "\n",
        "def _verify_im_path(im_path):\n",
        "  im = Image.open(im_path)\n",
        "  im_t = tfm(im)\n",
        "  del im\n",
        "  if im_t.shape[0] == 1: return False\n",
        "  return True\n",
        "\n",
        "def verify_ims(im_paths):\n",
        "  verified_paths = []\n",
        "  for i in im_paths:\n",
        "    if _verify_im_path(i): verified_paths.append(i)\n",
        "  return verified_paths\n",
        "\n",
        "def get_train_d(path, limit = None):\n",
        "  im_paths, classes = [], []\n",
        "  for i in tqdm(path.ls()):\n",
        "    cla = i.name\n",
        "    ps = (i/'images').ls()\n",
        "    if limit != None: ps = ps[:limit]\n",
        "    ims = verify_ims(ps)\n",
        "    im_paths += ims\n",
        "    classes += [cla]*len(ims)\n",
        "  return im_paths, classes\n",
        "\n",
        "def get_valid_d(path):\n",
        "  paths, classes = [], []\n",
        "  with open(path/\"val_annotations.txt\", 'r') as f:\n",
        "    for i in tqdm(f.read().splitlines()):\n",
        "      im_path = path/'images'/i.split()[0]\n",
        "      if _verify_im_path(im_path):\n",
        "        paths.append(im_path)\n",
        "        classes.append(i.split()[1])\n",
        "  return paths, classes"
      ],
      "metadata": {
        "id": "1h3DdEOucKRS"
      },
      "execution_count": 10,
      "outputs": []
    },
    {
      "cell_type": "code",
      "source": [
        "train_im_paths, train_labels = get_train_d(Path('tiny-imagenet-200/train'), limit = 50)\n",
        "valid_paths, valid_classes = get_valid_d(Path('tiny-imagenet-200/val'))"
      ],
      "metadata": {
        "colab": {
          "base_uri": "https://localhost:8080/"
        },
        "id": "HmXW59YMcTzT",
        "outputId": "2c319a44-adb4-4693-a92f-fc12e698f1f4"
      },
      "execution_count": 19,
      "outputs": [
        {
          "output_type": "stream",
          "name": "stderr",
          "text": [
            "100%|██████████| 200/200 [00:04<00:00, 43.30it/s]\n",
            "100%|██████████| 10000/10000 [00:06<00:00, 1569.36it/s]\n"
          ]
        }
      ]
    },
    {
      "cell_type": "code",
      "source": [
        "class_dict = {v: i for i, v in enumerate(set(train_labels))}\n",
        "new_train_labels = tuple(map(lambda x: class_dict[x], train_labels))\n",
        "new_valid_labels = tuple(map(lambda x: class_dict[x], valid_classes))"
      ],
      "metadata": {
        "id": "PLetFohacZu-"
      },
      "execution_count": 20,
      "outputs": []
    },
    {
      "cell_type": "code",
      "source": [
        "class TinyImagenetDS:\n",
        "  def __init__(self, im_paths, labels):\n",
        "    fc.store_attr()\n",
        "    self.tfm = transforms.ToTensor()\n",
        "\n",
        "  def __getitem__(self, idx):\n",
        "    return transforms.ToTensor()(Image.open(self.im_paths[idx])), torch.tensor(self.labels[idx])\n",
        "\n",
        "  def __len__(self): return len(self.im_paths)"
      ],
      "metadata": {
        "id": "tIQeAlwncbZW"
      },
      "execution_count": 21,
      "outputs": []
    },
    {
      "cell_type": "code",
      "source": [
        "train_ds = TinyImagenetDS(train_im_paths, new_train_labels)\n",
        "valid_ds = TinyImagenetDS(valid_paths, new_valid_labels)\n",
        "len(train_ds), len(valid_ds)"
      ],
      "metadata": {
        "colab": {
          "base_uri": "https://localhost:8080/"
        },
        "id": "tnRnZgMfccxU",
        "outputId": "e3a6e1eb-8a99-43ec-ac24-9ccebd0c4239"
      },
      "execution_count": 22,
      "outputs": [
        {
          "output_type": "execute_result",
          "data": {
            "text/plain": [
              "(9806, 9832)"
            ]
          },
          "metadata": {},
          "execution_count": 22
        }
      ]
    },
    {
      "cell_type": "code",
      "source": [
        "with open('/content/drive/MyDrive/fastai_p2/tiny_img_net/dls/train_ds_exp.pkl', 'wb') as f:\n",
        "  pickle.dump(train_ds, f)\n",
        "\n",
        "with open('/content/drive/MyDrive/fastai_p2/tiny_img_net/dls/valid_ds_exp.pkl', 'wb') as f:\n",
        "  pickle.dump(valid_ds, f)"
      ],
      "metadata": {
        "id": "a6e-r_zWdDuf"
      },
      "execution_count": 23,
      "outputs": []
    },
    {
      "cell_type": "code",
      "source": [
        "def collate_fn(some):\n",
        "  x, y = zip(*some)\n",
        "  return torch.stack(x, dim = 0), torch.stack(y, dim = 0)"
      ],
      "metadata": {
        "id": "VUOZNFejcqDS"
      },
      "execution_count": 24,
      "outputs": []
    },
    {
      "cell_type": "code",
      "source": [
        "train_dl, valid_dl = DataLoader(train_ds, 256, True, collate_fn = collate_fn, num_workers = 2), DataLoader(valid_ds, 256, True, collate_fn = collate_fn, num_workers = 2)"
      ],
      "metadata": {
        "id": "VHJlnevxcrhr"
      },
      "execution_count": 25,
      "outputs": []
    },
    {
      "cell_type": "markdown",
      "source": [
        "# Experiments with Modeling."
      ],
      "metadata": {
        "id": "LR8RFq27dUpu"
      }
    },
    {
      "cell_type": "code",
      "source": [
        "x, y = next(iter(train_dl))"
      ],
      "metadata": {
        "id": "vxFChRkudfVN"
      },
      "execution_count": 26,
      "outputs": []
    },
    {
      "cell_type": "code",
      "source": [
        "x.shape, y.shape"
      ],
      "metadata": {
        "colab": {
          "base_uri": "https://localhost:8080/"
        },
        "id": "O1jya66sdhfd",
        "outputId": "610efae4-bf37-4c49-8ca9-a7ca1b2a60ce"
      },
      "execution_count": 27,
      "outputs": [
        {
          "output_type": "execute_result",
          "data": {
            "text/plain": [
              "(torch.Size([256, 3, 64, 64]), torch.Size([256]))"
            ]
          },
          "metadata": {},
          "execution_count": 27
        }
      ]
    },
    {
      "cell_type": "code",
      "source": [
        "# Check in lr scheduler after what epoch learning rate reduces - 0.3*total_steps\n",
        "# Experiment with adding higher transforms after epoch 0.1*total_steps and 0.3*total_steps.\n",
        "# Check the models activation functions - get it general relu with right amount of leak - Build the model - Refactor the code\n",
        "    # Blocks Required:- Pre Act Resblocks, Dropout versions of pre act resblocks, function to build model with nfs and nls - done\n",
        "# Make the network more deeper and more layers at each level - done\n",
        "# Re factor the code properly. - done\n",
        "\n",
        "# Just complete Aug Norm CB v2"
      ],
      "metadata": {
        "id": "6wszuxQMdiN6"
      },
      "execution_count": null,
      "outputs": []
    },
    {
      "cell_type": "code",
      "source": [
        "# function to build model with nfs and nls\n",
        "\n",
        "def blocks(nls, ni, nf, block):\n",
        "  ls = [PreActResBlock(ni, nf)] + [block(nf, nf, stride = 1) for i in range(nls - 1)]\n",
        "  return ls\n",
        "\n",
        "def get_model(block = PreActResBlockD, act = GeneralRelu, nls = [2, 3, 4, 2, 1], nfs = [64, 128, 256, 512, 1024], nc = 10, norm = nn.BatchNorm2d, bias = True, p = 0.2):\n",
        "\n",
        "  pnf, layers = 3, []\n",
        "\n",
        "  for nl, nf in zip(nls, nfs):\n",
        "    layers += blocks(nl, pnf, nf, block)\n",
        "    pnf = nf\n",
        "\n",
        "  return nn.Sequential(*layers, act(), AveragePool(), nn.Dropout(p), nn.Linear(nf, nc, bias = False), nn.BatchNorm1d(nc))"
      ],
      "metadata": {
        "id": "25yBFyCKjVE-"
      },
      "execution_count": 61,
      "outputs": []
    },
    {
      "cell_type": "code",
      "source": [
        "act_gr = partial(GeneralRelu, sub = 0.1, leak = 0.1)\n",
        "iw = partial(init_weights, leaky = 0.1)"
      ],
      "metadata": {
        "id": "VcGasPwgkbUb"
      },
      "execution_count": 62,
      "outputs": []
    },
    {
      "cell_type": "code",
      "source": [
        "dls = DataLoaders(train_dl, valid_dl)\n",
        "lr_max, epochs = 5e-02, 100\n",
        "cbs = [\n",
        "          DeviceCB(torch.device('cuda' if torch.cuda.is_available() else 'cpu')),\n",
        "          MetricsCB(accuracy = MulticlassAccuracy()),\n",
        "          ProgressCB(plot = True),\n",
        "          BatchSchedulerCB(partial(lr_scheduler.OneCycleLR, max_lr = lr_max, epochs = epochs, steps_per_epoch = len(dls.train))),\n",
        "          AugmentNormCBV2(total_epochs = epochs, threshold = 0.31,\n",
        "                          initial_transforms = [v2.RandomHorizontalFlip(p = 0.5),\n",
        "                                                v2.Pad(4),\n",
        "                                                v2.RandomCrop(size=(64, 64)),\n",
        "                                                v2.TrivialAugmentWide(interpolation = InterpolationMode.BILINEAR)],\n",
        "                          addtional_transforms=[RandErase(max_num = 4)]\n",
        "                          )\n",
        "      ]\n",
        "model = get_model(act = act_gr, nls = [2, 3, 8, 5, 2, 1], nfs = [64, 128, 256, 512, 1024, 2048], nc = 200, norm = nn.BatchNorm2d, bias = True, p = 0.25)\n",
        "learner = AccLearner(model, dls, loss_func = nn.CrossEntropyLoss(), lr = lr_max, cbs = cbs, opt_func = torch.optim.AdamW)\n",
        "learner.fit(epochs)"
      ],
      "metadata": {
        "colab": {
          "base_uri": "https://localhost:8080/",
          "height": 822
        },
        "id": "896aTUXelfQw",
        "outputId": "2752c69a-b180-4174-cfc5-5323583c61df"
      },
      "execution_count": null,
      "outputs": [
        {
          "output_type": "display_data",
          "data": {
            "text/plain": [
              "<IPython.core.display.HTML object>"
            ],
            "text/html": [
              "\n",
              "<style>\n",
              "    /* Turns off some styling */\n",
              "    progress {\n",
              "        /* gets rid of default border in Firefox and Opera. */\n",
              "        border: none;\n",
              "        /* Needs to be in here for Safari polyfill so background images work as expected. */\n",
              "        background-size: auto;\n",
              "    }\n",
              "    progress:not([value]), progress:not([value])::-webkit-progress-bar {\n",
              "        background: repeating-linear-gradient(45deg, #7e7e7e, #7e7e7e 10px, #5c5c5c 10px, #5c5c5c 20px);\n",
              "    }\n",
              "    .progress-bar-interrupted, .progress-bar-interrupted::-webkit-progress-bar {\n",
              "        background: #F44336;\n",
              "    }\n",
              "</style>\n"
            ]
          },
          "metadata": {}
        },
        {
          "output_type": "display_data",
          "data": {
            "text/plain": [
              "<IPython.core.display.HTML object>"
            ],
            "text/html": [
              "\n",
              "    <div>\n",
              "      <progress value='6' class='' max='100' style='width:300px; height:20px; vertical-align: middle;'></progress>\n",
              "      6.00% [6/100 04:58&lt;1:17:53]\n",
              "    </div>\n",
              "    \n",
              "<table border=\"1\" class=\"dataframe\">\n",
              "  <thead>\n",
              "    <tr style=\"text-align: left;\">\n",
              "      <th>accuracy</th>\n",
              "      <th>loss</th>\n",
              "      <th>epoch</th>\n",
              "      <th>train</th>\n",
              "    </tr>\n",
              "  </thead>\n",
              "  <tbody>\n",
              "    <tr>\n",
              "      <td>0.006</td>\n",
              "      <td>5.416</td>\n",
              "      <td>0</td>\n",
              "      <td>train</td>\n",
              "    </tr>\n",
              "    <tr>\n",
              "      <td>0.005</td>\n",
              "      <td>30.834</td>\n",
              "      <td>0</td>\n",
              "      <td>eval</td>\n",
              "    </tr>\n",
              "    <tr>\n",
              "      <td>0.010</td>\n",
              "      <td>5.360</td>\n",
              "      <td>1</td>\n",
              "      <td>train</td>\n",
              "    </tr>\n",
              "    <tr>\n",
              "      <td>0.011</td>\n",
              "      <td>5.613</td>\n",
              "      <td>1</td>\n",
              "      <td>eval</td>\n",
              "    </tr>\n",
              "    <tr>\n",
              "      <td>0.009</td>\n",
              "      <td>5.284</td>\n",
              "      <td>2</td>\n",
              "      <td>train</td>\n",
              "    </tr>\n",
              "    <tr>\n",
              "      <td>0.010</td>\n",
              "      <td>5.312</td>\n",
              "      <td>2</td>\n",
              "      <td>eval</td>\n",
              "    </tr>\n",
              "    <tr>\n",
              "      <td>0.012</td>\n",
              "      <td>5.236</td>\n",
              "      <td>3</td>\n",
              "      <td>train</td>\n",
              "    </tr>\n",
              "    <tr>\n",
              "      <td>0.012</td>\n",
              "      <td>5.546</td>\n",
              "      <td>3</td>\n",
              "      <td>eval</td>\n",
              "    </tr>\n",
              "    <tr>\n",
              "      <td>0.013</td>\n",
              "      <td>5.219</td>\n",
              "      <td>4</td>\n",
              "      <td>train</td>\n",
              "    </tr>\n",
              "    <tr>\n",
              "      <td>0.014</td>\n",
              "      <td>5.389</td>\n",
              "      <td>4</td>\n",
              "      <td>eval</td>\n",
              "    </tr>\n",
              "    <tr>\n",
              "      <td>0.013</td>\n",
              "      <td>5.165</td>\n",
              "      <td>5</td>\n",
              "      <td>train</td>\n",
              "    </tr>\n",
              "    <tr>\n",
              "      <td>0.016</td>\n",
              "      <td>5.115</td>\n",
              "      <td>5</td>\n",
              "      <td>eval</td>\n",
              "    </tr>\n",
              "  </tbody>\n",
              "</table><p>\n",
              "\n",
              "    <div>\n",
              "      <progress value='28' class='' max='39' style='width:300px; height:20px; vertical-align: middle;'></progress>\n",
              "      71.79% [28/39 00:31&lt;00:12 5.146]\n",
              "    </div>\n",
              "    "
            ]
          },
          "metadata": {}
        },
        {
          "output_type": "display_data",
          "data": {
            "text/plain": [
              "<Figure size 600x400 with 1 Axes>"
            ],
            "image/png": "[encoded data removed]"
          },
          "metadata": {}
        }
      ]
    },
    {
      "cell_type": "code",
      "source": [
        "t = 0\n",
        "for i in model.parameters(): t+= i.numel()"
      ],
      "metadata": {
        "id": "MUWjvnh5mkpg"
      },
      "execution_count": 69,
      "outputs": []
    },
    {
      "cell_type": "code",
      "source": [
        "t"
      ],
      "metadata": {
        "colab": {
          "base_uri": "https://localhost:8080/"
        },
        "id": "berh6vm_2GJ-",
        "outputId": "f349ea28-b088-423b-ed0f-d0d982fb706d"
      },
      "execution_count": 70,
      "outputs": [
        {
          "output_type": "execute_result",
          "data": {
            "text/plain": [
              "48060182"
            ]
          },
          "metadata": {},
          "execution_count": 70
        }
      ]
    },
    {
      "cell_type": "code",
      "source": [],
      "metadata": {
        "id": "bZWYfk7y2Iu_"
      },
      "execution_count": null,
      "outputs": []
    }
  ]
}
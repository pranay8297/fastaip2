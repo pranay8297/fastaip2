{
  "nbformat": 4,
  "nbformat_minor": 0,
  "metadata": {
    "colab": {
      "provenance": [],
      "collapsed_sections": [
        "sZBSSpcBq8w3",
        "5dRb7VkjGz8q"
      ],
      "gpuType": "T4",
      "authorship_tag": "ABX9TyNvzeziLz3lOhRYmgiYmWOS",
      "include_colab_link": true
    },
    "kernelspec": {
      "name": "python3",
      "display_name": "Python 3"
    },
    "language_info": {
      "name": "python"
    },
    "accelerator": "GPU",
    "widgets": {
      "application/vnd.jupyter.widget-state+json": {
        "f6261dff1b62455bb98fc7b284c104d7": {
          "model_module": "@jupyter-widgets/controls",
          "model_name": "HBoxModel",
          "model_module_version": "1.5.0",
          "state": {
            "_dom_classes": [],
            "_model_module": "@jupyter-widgets/controls",
            "_model_module_version": "1.5.0",
            "_model_name": "HBoxModel",
            "_view_count": null,
            "_view_module": "@jupyter-widgets/controls",
            "_view_module_version": "1.5.0",
            "_view_name": "HBoxView",
            "box_style": "",
            "children": [
              "IPY_MODEL_8cb21f2553ef43b4aa6637ef40a224b3",
              "IPY_MODEL_196e2255a3754ddc983156c9b1f3cf83",
              "IPY_MODEL_ad8415a5185d454d94c2e90fbef1c416"
            ],
            "layout": "IPY_MODEL_a43402022089472f83cf9753f85f773a"
          }
        },
        "8cb21f2553ef43b4aa6637ef40a224b3": {
          "model_module": "@jupyter-widgets/controls",
          "model_name": "HTMLModel",
          "model_module_version": "1.5.0",
          "state": {
            "_dom_classes": [],
            "_model_module": "@jupyter-widgets/controls",
            "_model_module_version": "1.5.0",
            "_model_name": "HTMLModel",
            "_view_count": null,
            "_view_module": "@jupyter-widgets/controls",
            "_view_module_version": "1.5.0",
            "_view_name": "HTMLView",
            "description": "",
            "description_tooltip": null,
            "layout": "IPY_MODEL_a4437c8f9f7e4484a2cddeed3bb851e1",
            "placeholder": "​",
            "style": "IPY_MODEL_f51e0e6583c34846937667e68c9d137d",
            "value": "Downloading data: 100%"
          }
        },
        "196e2255a3754ddc983156c9b1f3cf83": {
          "model_module": "@jupyter-widgets/controls",
          "model_name": "FloatProgressModel",
          "model_module_version": "1.5.0",
          "state": {
            "_dom_classes": [],
            "_model_module": "@jupyter-widgets/controls",
            "_model_module_version": "1.5.0",
            "_model_name": "FloatProgressModel",
            "_view_count": null,
            "_view_module": "@jupyter-widgets/controls",
            "_view_module_version": "1.5.0",
            "_view_name": "ProgressView",
            "bar_style": "success",
            "description": "",
            "description_tooltip": null,
            "layout": "IPY_MODEL_1c0f7569a03046a1ba24ba5ef52d3ea8",
            "max": 30931277,
            "min": 0,
            "orientation": "horizontal",
            "style": "IPY_MODEL_f79033f1668745a2b9ac9e2a6fd9a090",
            "value": 30931277
          }
        },
        "ad8415a5185d454d94c2e90fbef1c416": {
          "model_module": "@jupyter-widgets/controls",
          "model_name": "HTMLModel",
          "model_module_version": "1.5.0",
          "state": {
            "_dom_classes": [],
            "_model_module": "@jupyter-widgets/controls",
            "_model_module_version": "1.5.0",
            "_model_name": "HTMLModel",
            "_view_count": null,
            "_view_module": "@jupyter-widgets/controls",
            "_view_module_version": "1.5.0",
            "_view_name": "HTMLView",
            "description": "",
            "description_tooltip": null,
            "layout": "IPY_MODEL_385b3dd974fc45ccbff9e29f248fc6e9",
            "placeholder": "​",
            "style": "IPY_MODEL_8f229bd5738d42038ddde0e86c2f8322",
            "value": " 30.9M/30.9M [00:01&lt;00:00, 22.2MB/s]"
          }
        },
        "a43402022089472f83cf9753f85f773a": {
          "model_module": "@jupyter-widgets/base",
          "model_name": "LayoutModel",
          "model_module_version": "1.2.0",
          "state": {
            "_model_module": "@jupyter-widgets/base",
            "_model_module_version": "1.2.0",
            "_model_name": "LayoutModel",
            "_view_count": null,
            "_view_module": "@jupyter-widgets/base",
            "_view_module_version": "1.2.0",
            "_view_name": "LayoutView",
            "align_content": null,
            "align_items": null,
            "align_self": null,
            "border": null,
            "bottom": null,
            "display": null,
            "flex": null,
            "flex_flow": null,
            "grid_area": null,
            "grid_auto_columns": null,
            "grid_auto_flow": null,
            "grid_auto_rows": null,
            "grid_column": null,
            "grid_gap": null,
            "grid_row": null,
            "grid_template_areas": null,
            "grid_template_columns": null,
            "grid_template_rows": null,
            "height": null,
            "justify_content": null,
            "justify_items": null,
            "left": null,
            "margin": null,
            "max_height": null,
            "max_width": null,
            "min_height": null,
            "min_width": null,
            "object_fit": null,
            "object_position": null,
            "order": null,
            "overflow": null,
            "overflow_x": null,
            "overflow_y": null,
            "padding": null,
            "right": null,
            "top": null,
            "visibility": null,
            "width": null
          }
        },
        "a4437c8f9f7e4484a2cddeed3bb851e1": {
          "model_module": "@jupyter-widgets/base",
          "model_name": "LayoutModel",
          "model_module_version": "1.2.0",
          "state": {
            "_model_module": "@jupyter-widgets/base",
            "_model_module_version": "1.2.0",
            "_model_name": "LayoutModel",
            "_view_count": null,
            "_view_module": "@jupyter-widgets/base",
            "_view_module_version": "1.2.0",
            "_view_name": "LayoutView",
            "align_content": null,
            "align_items": null,
            "align_self": null,
            "border": null,
            "bottom": null,
            "display": null,
            "flex": null,
            "flex_flow": null,
            "grid_area": null,
            "grid_auto_columns": null,
            "grid_auto_flow": null,
            "grid_auto_rows": null,
            "grid_column": null,
            "grid_gap": null,
            "grid_row": null,
            "grid_template_areas": null,
            "grid_template_columns": null,
            "grid_template_rows": null,
            "height": null,
            "justify_content": null,
            "justify_items": null,
            "left": null,
            "margin": null,
            "max_height": null,
            "max_width": null,
            "min_height": null,
            "min_width": null,
            "object_fit": null,
            "object_position": null,
            "order": null,
            "overflow": null,
            "overflow_x": null,
            "overflow_y": null,
            "padding": null,
            "right": null,
            "top": null,
            "visibility": null,
            "width": null
          }
        },
        "f51e0e6583c34846937667e68c9d137d": {
          "model_module": "@jupyter-widgets/controls",
          "model_name": "DescriptionStyleModel",
          "model_module_version": "1.5.0",
          "state": {
            "_model_module": "@jupyter-widgets/controls",
            "_model_module_version": "1.5.0",
            "_model_name": "DescriptionStyleModel",
            "_view_count": null,
            "_view_module": "@jupyter-widgets/base",
            "_view_module_version": "1.2.0",
            "_view_name": "StyleView",
            "description_width": ""
          }
        },
        "1c0f7569a03046a1ba24ba5ef52d3ea8": {
          "model_module": "@jupyter-widgets/base",
          "model_name": "LayoutModel",
          "model_module_version": "1.2.0",
          "state": {
            "_model_module": "@jupyter-widgets/base",
            "_model_module_version": "1.2.0",
            "_model_name": "LayoutModel",
            "_view_count": null,
            "_view_module": "@jupyter-widgets/base",
            "_view_module_version": "1.2.0",
            "_view_name": "LayoutView",
            "align_content": null,
            "align_items": null,
            "align_self": null,
            "border": null,
            "bottom": null,
            "display": null,
            "flex": null,
            "flex_flow": null,
            "grid_area": null,
            "grid_auto_columns": null,
            "grid_auto_flow": null,
            "grid_auto_rows": null,
            "grid_column": null,
            "grid_gap": null,
            "grid_row": null,
            "grid_template_areas": null,
            "grid_template_columns": null,
            "grid_template_rows": null,
            "height": null,
            "justify_content": null,
            "justify_items": null,
            "left": null,
            "margin": null,
            "max_height": null,
            "max_width": null,
            "min_height": null,
            "min_width": null,
            "object_fit": null,
            "object_position": null,
            "order": null,
            "overflow": null,
            "overflow_x": null,
            "overflow_y": null,
            "padding": null,
            "right": null,
            "top": null,
            "visibility": null,
            "width": null
          }
        },
        "f79033f1668745a2b9ac9e2a6fd9a090": {
          "model_module": "@jupyter-widgets/controls",
          "model_name": "ProgressStyleModel",
          "model_module_version": "1.5.0",
          "state": {
            "_model_module": "@jupyter-widgets/controls",
            "_model_module_version": "1.5.0",
            "_model_name": "ProgressStyleModel",
            "_view_count": null,
            "_view_module": "@jupyter-widgets/base",
            "_view_module_version": "1.2.0",
            "_view_name": "StyleView",
            "bar_color": null,
            "description_width": ""
          }
        },
        "385b3dd974fc45ccbff9e29f248fc6e9": {
          "model_module": "@jupyter-widgets/base",
          "model_name": "LayoutModel",
          "model_module_version": "1.2.0",
          "state": {
            "_model_module": "@jupyter-widgets/base",
            "_model_module_version": "1.2.0",
            "_model_name": "LayoutModel",
            "_view_count": null,
            "_view_module": "@jupyter-widgets/base",
            "_view_module_version": "1.2.0",
            "_view_name": "LayoutView",
            "align_content": null,
            "align_items": null,
            "align_self": null,
            "border": null,
            "bottom": null,
            "display": null,
            "flex": null,
            "flex_flow": null,
            "grid_area": null,
            "grid_auto_columns": null,
            "grid_auto_flow": null,
            "grid_auto_rows": null,
            "grid_column": null,
            "grid_gap": null,
            "grid_row": null,
            "grid_template_areas": null,
            "grid_template_columns": null,
            "grid_template_rows": null,
            "height": null,
            "justify_content": null,
            "justify_items": null,
            "left": null,
            "margin": null,
            "max_height": null,
            "max_width": null,
            "min_height": null,
            "min_width": null,
            "object_fit": null,
            "object_position": null,
            "order": null,
            "overflow": null,
            "overflow_x": null,
            "overflow_y": null,
            "padding": null,
            "right": null,
            "top": null,
            "visibility": null,
            "width": null
          }
        },
        "8f229bd5738d42038ddde0e86c2f8322": {
          "model_module": "@jupyter-widgets/controls",
          "model_name": "DescriptionStyleModel",
          "model_module_version": "1.5.0",
          "state": {
            "_model_module": "@jupyter-widgets/controls",
            "_model_module_version": "1.5.0",
            "_model_name": "DescriptionStyleModel",
            "_view_count": null,
            "_view_module": "@jupyter-widgets/base",
            "_view_module_version": "1.2.0",
            "_view_name": "StyleView",
            "description_width": ""
          }
        },
        "eb2b923525f04b2a9bfa437541376ffb": {
          "model_module": "@jupyter-widgets/controls",
          "model_name": "HBoxModel",
          "model_module_version": "1.5.0",
          "state": {
            "_dom_classes": [],
            "_model_module": "@jupyter-widgets/controls",
            "_model_module_version": "1.5.0",
            "_model_name": "HBoxModel",
            "_view_count": null,
            "_view_module": "@jupyter-widgets/controls",
            "_view_module_version": "1.5.0",
            "_view_name": "HBoxView",
            "box_style": "",
            "children": [
              "IPY_MODEL_4a92391f39024d49b2419c829f4086cd",
              "IPY_MODEL_9e6e7e67da19496891b480717f378a7e",
              "IPY_MODEL_cd526fc35ddf40c0a5962358ba12342a"
            ],
            "layout": "IPY_MODEL_b39036475596492aa2b6301348952da2"
          }
        },
        "4a92391f39024d49b2419c829f4086cd": {
          "model_module": "@jupyter-widgets/controls",
          "model_name": "HTMLModel",
          "model_module_version": "1.5.0",
          "state": {
            "_dom_classes": [],
            "_model_module": "@jupyter-widgets/controls",
            "_model_module_version": "1.5.0",
            "_model_name": "HTMLModel",
            "_view_count": null,
            "_view_module": "@jupyter-widgets/controls",
            "_view_module_version": "1.5.0",
            "_view_name": "HTMLView",
            "description": "",
            "description_tooltip": null,
            "layout": "IPY_MODEL_e60e8c3ebcc44baa9a8cb24183e63099",
            "placeholder": "​",
            "style": "IPY_MODEL_7dd276595b20419c8d18631d4639900d",
            "value": "Downloading data: 100%"
          }
        },
        "9e6e7e67da19496891b480717f378a7e": {
          "model_module": "@jupyter-widgets/controls",
          "model_name": "FloatProgressModel",
          "model_module_version": "1.5.0",
          "state": {
            "_dom_classes": [],
            "_model_module": "@jupyter-widgets/controls",
            "_model_module_version": "1.5.0",
            "_model_name": "FloatProgressModel",
            "_view_count": null,
            "_view_module": "@jupyter-widgets/controls",
            "_view_module_version": "1.5.0",
            "_view_name": "ProgressView",
            "bar_style": "success",
            "description": "",
            "description_tooltip": null,
            "layout": "IPY_MODEL_c34f31a6a4ef44ff9de6e6f31c6ec926",
            "max": 5175617,
            "min": 0,
            "orientation": "horizontal",
            "style": "IPY_MODEL_298edbd9f0f24ad6b23e94e86ae84840",
            "value": 5175617
          }
        },
        "cd526fc35ddf40c0a5962358ba12342a": {
          "model_module": "@jupyter-widgets/controls",
          "model_name": "HTMLModel",
          "model_module_version": "1.5.0",
          "state": {
            "_dom_classes": [],
            "_model_module": "@jupyter-widgets/controls",
            "_model_module_version": "1.5.0",
            "_model_name": "HTMLModel",
            "_view_count": null,
            "_view_module": "@jupyter-widgets/controls",
            "_view_module_version": "1.5.0",
            "_view_name": "HTMLView",
            "description": "",
            "description_tooltip": null,
            "layout": "IPY_MODEL_53b3a538c5b34fd184a658f085d5060c",
            "placeholder": "​",
            "style": "IPY_MODEL_3d433dbe9a3444b68a1a1373946df8d9",
            "value": " 5.18M/5.18M [00:00&lt;00:00, 8.72MB/s]"
          }
        },
        "b39036475596492aa2b6301348952da2": {
          "model_module": "@jupyter-widgets/base",
          "model_name": "LayoutModel",
          "model_module_version": "1.2.0",
          "state": {
            "_model_module": "@jupyter-widgets/base",
            "_model_module_version": "1.2.0",
            "_model_name": "LayoutModel",
            "_view_count": null,
            "_view_module": "@jupyter-widgets/base",
            "_view_module_version": "1.2.0",
            "_view_name": "LayoutView",
            "align_content": null,
            "align_items": null,
            "align_self": null,
            "border": null,
            "bottom": null,
            "display": null,
            "flex": null,
            "flex_flow": null,
            "grid_area": null,
            "grid_auto_columns": null,
            "grid_auto_flow": null,
            "grid_auto_rows": null,
            "grid_column": null,
            "grid_gap": null,
            "grid_row": null,
            "grid_template_areas": null,
            "grid_template_columns": null,
            "grid_template_rows": null,
            "height": null,
            "justify_content": null,
            "justify_items": null,
            "left": null,
            "margin": null,
            "max_height": null,
            "max_width": null,
            "min_height": null,
            "min_width": null,
            "object_fit": null,
            "object_position": null,
            "order": null,
            "overflow": null,
            "overflow_x": null,
            "overflow_y": null,
            "padding": null,
            "right": null,
            "top": null,
            "visibility": null,
            "width": null
          }
        },
        "e60e8c3ebcc44baa9a8cb24183e63099": {
          "model_module": "@jupyter-widgets/base",
          "model_name": "LayoutModel",
          "model_module_version": "1.2.0",
          "state": {
            "_model_module": "@jupyter-widgets/base",
            "_model_module_version": "1.2.0",
            "_model_name": "LayoutModel",
            "_view_count": null,
            "_view_module": "@jupyter-widgets/base",
            "_view_module_version": "1.2.0",
            "_view_name": "LayoutView",
            "align_content": null,
            "align_items": null,
            "align_self": null,
            "border": null,
            "bottom": null,
            "display": null,
            "flex": null,
            "flex_flow": null,
            "grid_area": null,
            "grid_auto_columns": null,
            "grid_auto_flow": null,
            "grid_auto_rows": null,
            "grid_column": null,
            "grid_gap": null,
            "grid_row": null,
            "grid_template_areas": null,
            "grid_template_columns": null,
            "grid_template_rows": null,
            "height": null,
            "justify_content": null,
            "justify_items": null,
            "left": null,
            "margin": null,
            "max_height": null,
            "max_width": null,
            "min_height": null,
            "min_width": null,
            "object_fit": null,
            "object_position": null,
            "order": null,
            "overflow": null,
            "overflow_x": null,
            "overflow_y": null,
            "padding": null,
            "right": null,
            "top": null,
            "visibility": null,
            "width": null
          }
        },
        "7dd276595b20419c8d18631d4639900d": {
          "model_module": "@jupyter-widgets/controls",
          "model_name": "DescriptionStyleModel",
          "model_module_version": "1.5.0",
          "state": {
            "_model_module": "@jupyter-widgets/controls",
            "_model_module_version": "1.5.0",
            "_model_name": "DescriptionStyleModel",
            "_view_count": null,
            "_view_module": "@jupyter-widgets/base",
            "_view_module_version": "1.2.0",
            "_view_name": "StyleView",
            "description_width": ""
          }
        },
        "c34f31a6a4ef44ff9de6e6f31c6ec926": {
          "model_module": "@jupyter-widgets/base",
          "model_name": "LayoutModel",
          "model_module_version": "1.2.0",
          "state": {
            "_model_module": "@jupyter-widgets/base",
            "_model_module_version": "1.2.0",
            "_model_name": "LayoutModel",
            "_view_count": null,
            "_view_module": "@jupyter-widgets/base",
            "_view_module_version": "1.2.0",
            "_view_name": "LayoutView",
            "align_content": null,
            "align_items": null,
            "align_self": null,
            "border": null,
            "bottom": null,
            "display": null,
            "flex": null,
            "flex_flow": null,
            "grid_area": null,
            "grid_auto_columns": null,
            "grid_auto_flow": null,
            "grid_auto_rows": null,
            "grid_column": null,
            "grid_gap": null,
            "grid_row": null,
            "grid_template_areas": null,
            "grid_template_columns": null,
            "grid_template_rows": null,
            "height": null,
            "justify_content": null,
            "justify_items": null,
            "left": null,
            "margin": null,
            "max_height": null,
            "max_width": null,
            "min_height": null,
            "min_width": null,
            "object_fit": null,
            "object_position": null,
            "order": null,
            "overflow": null,
            "overflow_x": null,
            "overflow_y": null,
            "padding": null,
            "right": null,
            "top": null,
            "visibility": null,
            "width": null
          }
        },
        "298edbd9f0f24ad6b23e94e86ae84840": {
          "model_module": "@jupyter-widgets/controls",
          "model_name": "ProgressStyleModel",
          "model_module_version": "1.5.0",
          "state": {
            "_model_module": "@jupyter-widgets/controls",
            "_model_module_version": "1.5.0",
            "_model_name": "ProgressStyleModel",
            "_view_count": null,
            "_view_module": "@jupyter-widgets/base",
            "_view_module_version": "1.2.0",
            "_view_name": "StyleView",
            "bar_color": null,
            "description_width": ""
          }
        },
        "53b3a538c5b34fd184a658f085d5060c": {
          "model_module": "@jupyter-widgets/base",
          "model_name": "LayoutModel",
          "model_module_version": "1.2.0",
          "state": {
            "_model_module": "@jupyter-widgets/base",
            "_model_module_version": "1.2.0",
            "_model_name": "LayoutModel",
            "_view_count": null,
            "_view_module": "@jupyter-widgets/base",
            "_view_module_version": "1.2.0",
            "_view_name": "LayoutView",
            "align_content": null,
            "align_items": null,
            "align_self": null,
            "border": null,
            "bottom": null,
            "display": null,
            "flex": null,
            "flex_flow": null,
            "grid_area": null,
            "grid_auto_columns": null,
            "grid_auto_flow": null,
            "grid_auto_rows": null,
            "grid_column": null,
            "grid_gap": null,
            "grid_row": null,
            "grid_template_areas": null,
            "grid_template_columns": null,
            "grid_template_rows": null,
            "height": null,
            "justify_content": null,
            "justify_items": null,
            "left": null,
            "margin": null,
            "max_height": null,
            "max_width": null,
            "min_height": null,
            "min_width": null,
            "object_fit": null,
            "object_position": null,
            "order": null,
            "overflow": null,
            "overflow_x": null,
            "overflow_y": null,
            "padding": null,
            "right": null,
            "top": null,
            "visibility": null,
            "width": null
          }
        },
        "3d433dbe9a3444b68a1a1373946df8d9": {
          "model_module": "@jupyter-widgets/controls",
          "model_name": "DescriptionStyleModel",
          "model_module_version": "1.5.0",
          "state": {
            "_model_module": "@jupyter-widgets/controls",
            "_model_module_version": "1.5.0",
            "_model_name": "DescriptionStyleModel",
            "_view_count": null,
            "_view_module": "@jupyter-widgets/base",
            "_view_module_version": "1.2.0",
            "_view_name": "StyleView",
            "description_width": ""
          }
        },
        "a4ce797b409a4a4186a209bcb55f0f75": {
          "model_module": "@jupyter-widgets/controls",
          "model_name": "HBoxModel",
          "model_module_version": "1.5.0",
          "state": {
            "_dom_classes": [],
            "_model_module": "@jupyter-widgets/controls",
            "_model_module_version": "1.5.0",
            "_model_name": "HBoxModel",
            "_view_count": null,
            "_view_module": "@jupyter-widgets/controls",
            "_view_module_version": "1.5.0",
            "_view_name": "HBoxView",
            "box_style": "",
            "children": [
              "IPY_MODEL_cb0c04c48bb54be5b50438a827c7dbb0",
              "IPY_MODEL_5b7cd88ab6b14d2093e02c99344ca667",
              "IPY_MODEL_d03e113a487e4139ac9591e2f2edba88"
            ],
            "layout": "IPY_MODEL_b63200e2fd774356b6e4f0501201da15"
          }
        },
        "cb0c04c48bb54be5b50438a827c7dbb0": {
          "model_module": "@jupyter-widgets/controls",
          "model_name": "HTMLModel",
          "model_module_version": "1.5.0",
          "state": {
            "_dom_classes": [],
            "_model_module": "@jupyter-widgets/controls",
            "_model_module_version": "1.5.0",
            "_model_name": "HTMLModel",
            "_view_count": null,
            "_view_module": "@jupyter-widgets/controls",
            "_view_module_version": "1.5.0",
            "_view_name": "HTMLView",
            "description": "",
            "description_tooltip": null,
            "layout": "IPY_MODEL_e332161731244062ac54edb7e51e002d",
            "placeholder": "​",
            "style": "IPY_MODEL_005ac8f12e6844449a22dc82b5e4a07d",
            "value": "Generating train split: "
          }
        },
        "5b7cd88ab6b14d2093e02c99344ca667": {
          "model_module": "@jupyter-widgets/controls",
          "model_name": "FloatProgressModel",
          "model_module_version": "1.5.0",
          "state": {
            "_dom_classes": [],
            "_model_module": "@jupyter-widgets/controls",
            "_model_module_version": "1.5.0",
            "_model_name": "FloatProgressModel",
            "_view_count": null,
            "_view_module": "@jupyter-widgets/controls",
            "_view_module_version": "1.5.0",
            "_view_name": "ProgressView",
            "bar_style": "success",
            "description": "",
            "description_tooltip": null,
            "layout": "IPY_MODEL_dd95ca644f9c40858cac5aad51c3d452",
            "max": 1,
            "min": 0,
            "orientation": "horizontal",
            "style": "IPY_MODEL_431f166bc7f74a97b47721915ee59002",
            "value": 1
          }
        },
        "d03e113a487e4139ac9591e2f2edba88": {
          "model_module": "@jupyter-widgets/controls",
          "model_name": "HTMLModel",
          "model_module_version": "1.5.0",
          "state": {
            "_dom_classes": [],
            "_model_module": "@jupyter-widgets/controls",
            "_model_module_version": "1.5.0",
            "_model_name": "HTMLModel",
            "_view_count": null,
            "_view_module": "@jupyter-widgets/controls",
            "_view_module_version": "1.5.0",
            "_view_name": "HTMLView",
            "description": "",
            "description_tooltip": null,
            "layout": "IPY_MODEL_66849b4f911c48329f6b55998abf7e55",
            "placeholder": "​",
            "style": "IPY_MODEL_b4545ebaca9243b487771ab39ab098fc",
            "value": " 60000/0 [00:00&lt;00:00, 345255.10 examples/s]"
          }
        },
        "b63200e2fd774356b6e4f0501201da15": {
          "model_module": "@jupyter-widgets/base",
          "model_name": "LayoutModel",
          "model_module_version": "1.2.0",
          "state": {
            "_model_module": "@jupyter-widgets/base",
            "_model_module_version": "1.2.0",
            "_model_name": "LayoutModel",
            "_view_count": null,
            "_view_module": "@jupyter-widgets/base",
            "_view_module_version": "1.2.0",
            "_view_name": "LayoutView",
            "align_content": null,
            "align_items": null,
            "align_self": null,
            "border": null,
            "bottom": null,
            "display": null,
            "flex": null,
            "flex_flow": null,
            "grid_area": null,
            "grid_auto_columns": null,
            "grid_auto_flow": null,
            "grid_auto_rows": null,
            "grid_column": null,
            "grid_gap": null,
            "grid_row": null,
            "grid_template_areas": null,
            "grid_template_columns": null,
            "grid_template_rows": null,
            "height": null,
            "justify_content": null,
            "justify_items": null,
            "left": null,
            "margin": null,
            "max_height": null,
            "max_width": null,
            "min_height": null,
            "min_width": null,
            "object_fit": null,
            "object_position": null,
            "order": null,
            "overflow": null,
            "overflow_x": null,
            "overflow_y": null,
            "padding": null,
            "right": null,
            "top": null,
            "visibility": null,
            "width": null
          }
        },
        "e332161731244062ac54edb7e51e002d": {
          "model_module": "@jupyter-widgets/base",
          "model_name": "LayoutModel",
          "model_module_version": "1.2.0",
          "state": {
            "_model_module": "@jupyter-widgets/base",
            "_model_module_version": "1.2.0",
            "_model_name": "LayoutModel",
            "_view_count": null,
            "_view_module": "@jupyter-widgets/base",
            "_view_module_version": "1.2.0",
            "_view_name": "LayoutView",
            "align_content": null,
            "align_items": null,
            "align_self": null,
            "border": null,
            "bottom": null,
            "display": null,
            "flex": null,
            "flex_flow": null,
            "grid_area": null,
            "grid_auto_columns": null,
            "grid_auto_flow": null,
            "grid_auto_rows": null,
            "grid_column": null,
            "grid_gap": null,
            "grid_row": null,
            "grid_template_areas": null,
            "grid_template_columns": null,
            "grid_template_rows": null,
            "height": null,
            "justify_content": null,
            "justify_items": null,
            "left": null,
            "margin": null,
            "max_height": null,
            "max_width": null,
            "min_height": null,
            "min_width": null,
            "object_fit": null,
            "object_position": null,
            "order": null,
            "overflow": null,
            "overflow_x": null,
            "overflow_y": null,
            "padding": null,
            "right": null,
            "top": null,
            "visibility": null,
            "width": null
          }
        },
        "005ac8f12e6844449a22dc82b5e4a07d": {
          "model_module": "@jupyter-widgets/controls",
          "model_name": "DescriptionStyleModel",
          "model_module_version": "1.5.0",
          "state": {
            "_model_module": "@jupyter-widgets/controls",
            "_model_module_version": "1.5.0",
            "_model_name": "DescriptionStyleModel",
            "_view_count": null,
            "_view_module": "@jupyter-widgets/base",
            "_view_module_version": "1.2.0",
            "_view_name": "StyleView",
            "description_width": ""
          }
        },
        "dd95ca644f9c40858cac5aad51c3d452": {
          "model_module": "@jupyter-widgets/base",
          "model_name": "LayoutModel",
          "model_module_version": "1.2.0",
          "state": {
            "_model_module": "@jupyter-widgets/base",
            "_model_module_version": "1.2.0",
            "_model_name": "LayoutModel",
            "_view_count": null,
            "_view_module": "@jupyter-widgets/base",
            "_view_module_version": "1.2.0",
            "_view_name": "LayoutView",
            "align_content": null,
            "align_items": null,
            "align_self": null,
            "border": null,
            "bottom": null,
            "display": null,
            "flex": null,
            "flex_flow": null,
            "grid_area": null,
            "grid_auto_columns": null,
            "grid_auto_flow": null,
            "grid_auto_rows": null,
            "grid_column": null,
            "grid_gap": null,
            "grid_row": null,
            "grid_template_areas": null,
            "grid_template_columns": null,
            "grid_template_rows": null,
            "height": null,
            "justify_content": null,
            "justify_items": null,
            "left": null,
            "margin": null,
            "max_height": null,
            "max_width": null,
            "min_height": null,
            "min_width": null,
            "object_fit": null,
            "object_position": null,
            "order": null,
            "overflow": null,
            "overflow_x": null,
            "overflow_y": null,
            "padding": null,
            "right": null,
            "top": null,
            "visibility": null,
            "width": "20px"
          }
        },
        "431f166bc7f74a97b47721915ee59002": {
          "model_module": "@jupyter-widgets/controls",
          "model_name": "ProgressStyleModel",
          "model_module_version": "1.5.0",
          "state": {
            "_model_module": "@jupyter-widgets/controls",
            "_model_module_version": "1.5.0",
            "_model_name": "ProgressStyleModel",
            "_view_count": null,
            "_view_module": "@jupyter-widgets/base",
            "_view_module_version": "1.2.0",
            "_view_name": "StyleView",
            "bar_color": null,
            "description_width": ""
          }
        },
        "66849b4f911c48329f6b55998abf7e55": {
          "model_module": "@jupyter-widgets/base",
          "model_name": "LayoutModel",
          "model_module_version": "1.2.0",
          "state": {
            "_model_module": "@jupyter-widgets/base",
            "_model_module_version": "1.2.0",
            "_model_name": "LayoutModel",
            "_view_count": null,
            "_view_module": "@jupyter-widgets/base",
            "_view_module_version": "1.2.0",
            "_view_name": "LayoutView",
            "align_content": null,
            "align_items": null,
            "align_self": null,
            "border": null,
            "bottom": null,
            "display": null,
            "flex": null,
            "flex_flow": null,
            "grid_area": null,
            "grid_auto_columns": null,
            "grid_auto_flow": null,
            "grid_auto_rows": null,
            "grid_column": null,
            "grid_gap": null,
            "grid_row": null,
            "grid_template_areas": null,
            "grid_template_columns": null,
            "grid_template_rows": null,
            "height": null,
            "justify_content": null,
            "justify_items": null,
            "left": null,
            "margin": null,
            "max_height": null,
            "max_width": null,
            "min_height": null,
            "min_width": null,
            "object_fit": null,
            "object_position": null,
            "order": null,
            "overflow": null,
            "overflow_x": null,
            "overflow_y": null,
            "padding": null,
            "right": null,
            "top": null,
            "visibility": null,
            "width": null
          }
        },
        "b4545ebaca9243b487771ab39ab098fc": {
          "model_module": "@jupyter-widgets/controls",
          "model_name": "DescriptionStyleModel",
          "model_module_version": "1.5.0",
          "state": {
            "_model_module": "@jupyter-widgets/controls",
            "_model_module_version": "1.5.0",
            "_model_name": "DescriptionStyleModel",
            "_view_count": null,
            "_view_module": "@jupyter-widgets/base",
            "_view_module_version": "1.2.0",
            "_view_name": "StyleView",
            "description_width": ""
          }
        },
        "3975efb08f8d4cada365682b8a62f47b": {
          "model_module": "@jupyter-widgets/controls",
          "model_name": "HBoxModel",
          "model_module_version": "1.5.0",
          "state": {
            "_dom_classes": [],
            "_model_module": "@jupyter-widgets/controls",
            "_model_module_version": "1.5.0",
            "_model_name": "HBoxModel",
            "_view_count": null,
            "_view_module": "@jupyter-widgets/controls",
            "_view_module_version": "1.5.0",
            "_view_name": "HBoxView",
            "box_style": "",
            "children": [
              "IPY_MODEL_91666e2df977402f88b5a2c3ddba2cb9",
              "IPY_MODEL_3441083239e44a1cb0439bc0c65ecfe8",
              "IPY_MODEL_136e299b52a0431a99efdb7262f5d91e"
            ],
            "layout": "IPY_MODEL_a488aab64e8749aab3e2b2a933f12355"
          }
        },
        "91666e2df977402f88b5a2c3ddba2cb9": {
          "model_module": "@jupyter-widgets/controls",
          "model_name": "HTMLModel",
          "model_module_version": "1.5.0",
          "state": {
            "_dom_classes": [],
            "_model_module": "@jupyter-widgets/controls",
            "_model_module_version": "1.5.0",
            "_model_name": "HTMLModel",
            "_view_count": null,
            "_view_module": "@jupyter-widgets/controls",
            "_view_module_version": "1.5.0",
            "_view_name": "HTMLView",
            "description": "",
            "description_tooltip": null,
            "layout": "IPY_MODEL_56e712f03f3648bd92cff178532643a7",
            "placeholder": "​",
            "style": "IPY_MODEL_570db13f5487436c99cab7657eabbde8",
            "value": "Generating test split: "
          }
        },
        "3441083239e44a1cb0439bc0c65ecfe8": {
          "model_module": "@jupyter-widgets/controls",
          "model_name": "FloatProgressModel",
          "model_module_version": "1.5.0",
          "state": {
            "_dom_classes": [],
            "_model_module": "@jupyter-widgets/controls",
            "_model_module_version": "1.5.0",
            "_model_name": "FloatProgressModel",
            "_view_count": null,
            "_view_module": "@jupyter-widgets/controls",
            "_view_module_version": "1.5.0",
            "_view_name": "ProgressView",
            "bar_style": "success",
            "description": "",
            "description_tooltip": null,
            "layout": "IPY_MODEL_b3c17eeaf5854ada8dae46b85a10ecd8",
            "max": 1,
            "min": 0,
            "orientation": "horizontal",
            "style": "IPY_MODEL_4bffe41e36954763855e8248b83c4dc9",
            "value": 1
          }
        },
        "136e299b52a0431a99efdb7262f5d91e": {
          "model_module": "@jupyter-widgets/controls",
          "model_name": "HTMLModel",
          "model_module_version": "1.5.0",
          "state": {
            "_dom_classes": [],
            "_model_module": "@jupyter-widgets/controls",
            "_model_module_version": "1.5.0",
            "_model_name": "HTMLModel",
            "_view_count": null,
            "_view_module": "@jupyter-widgets/controls",
            "_view_module_version": "1.5.0",
            "_view_name": "HTMLView",
            "description": "",
            "description_tooltip": null,
            "layout": "IPY_MODEL_f81b7850e0b6469e998744aed0c3abad",
            "placeholder": "​",
            "style": "IPY_MODEL_89914fbc50df4dcd80959476f853ea67",
            "value": " 10000/0 [00:00&lt;00:00, 211395.80 examples/s]"
          }
        },
        "a488aab64e8749aab3e2b2a933f12355": {
          "model_module": "@jupyter-widgets/base",
          "model_name": "LayoutModel",
          "model_module_version": "1.2.0",
          "state": {
            "_model_module": "@jupyter-widgets/base",
            "_model_module_version": "1.2.0",
            "_model_name": "LayoutModel",
            "_view_count": null,
            "_view_module": "@jupyter-widgets/base",
            "_view_module_version": "1.2.0",
            "_view_name": "LayoutView",
            "align_content": null,
            "align_items": null,
            "align_self": null,
            "border": null,
            "bottom": null,
            "display": null,
            "flex": null,
            "flex_flow": null,
            "grid_area": null,
            "grid_auto_columns": null,
            "grid_auto_flow": null,
            "grid_auto_rows": null,
            "grid_column": null,
            "grid_gap": null,
            "grid_row": null,
            "grid_template_areas": null,
            "grid_template_columns": null,
            "grid_template_rows": null,
            "height": null,
            "justify_content": null,
            "justify_items": null,
            "left": null,
            "margin": null,
            "max_height": null,
            "max_width": null,
            "min_height": null,
            "min_width": null,
            "object_fit": null,
            "object_position": null,
            "order": null,
            "overflow": null,
            "overflow_x": null,
            "overflow_y": null,
            "padding": null,
            "right": null,
            "top": null,
            "visibility": null,
            "width": null
          }
        },
        "56e712f03f3648bd92cff178532643a7": {
          "model_module": "@jupyter-widgets/base",
          "model_name": "LayoutModel",
          "model_module_version": "1.2.0",
          "state": {
            "_model_module": "@jupyter-widgets/base",
            "_model_module_version": "1.2.0",
            "_model_name": "LayoutModel",
            "_view_count": null,
            "_view_module": "@jupyter-widgets/base",
            "_view_module_version": "1.2.0",
            "_view_name": "LayoutView",
            "align_content": null,
            "align_items": null,
            "align_self": null,
            "border": null,
            "bottom": null,
            "display": null,
            "flex": null,
            "flex_flow": null,
            "grid_area": null,
            "grid_auto_columns": null,
            "grid_auto_flow": null,
            "grid_auto_rows": null,
            "grid_column": null,
            "grid_gap": null,
            "grid_row": null,
            "grid_template_areas": null,
            "grid_template_columns": null,
            "grid_template_rows": null,
            "height": null,
            "justify_content": null,
            "justify_items": null,
            "left": null,
            "margin": null,
            "max_height": null,
            "max_width": null,
            "min_height": null,
            "min_width": null,
            "object_fit": null,
            "object_position": null,
            "order": null,
            "overflow": null,
            "overflow_x": null,
            "overflow_y": null,
            "padding": null,
            "right": null,
            "top": null,
            "visibility": null,
            "width": null
          }
        },
        "570db13f5487436c99cab7657eabbde8": {
          "model_module": "@jupyter-widgets/controls",
          "model_name": "DescriptionStyleModel",
          "model_module_version": "1.5.0",
          "state": {
            "_model_module": "@jupyter-widgets/controls",
            "_model_module_version": "1.5.0",
            "_model_name": "DescriptionStyleModel",
            "_view_count": null,
            "_view_module": "@jupyter-widgets/base",
            "_view_module_version": "1.2.0",
            "_view_name": "StyleView",
            "description_width": ""
          }
        },
        "b3c17eeaf5854ada8dae46b85a10ecd8": {
          "model_module": "@jupyter-widgets/base",
          "model_name": "LayoutModel",
          "model_module_version": "1.2.0",
          "state": {
            "_model_module": "@jupyter-widgets/base",
            "_model_module_version": "1.2.0",
            "_model_name": "LayoutModel",
            "_view_count": null,
            "_view_module": "@jupyter-widgets/base",
            "_view_module_version": "1.2.0",
            "_view_name": "LayoutView",
            "align_content": null,
            "align_items": null,
            "align_self": null,
            "border": null,
            "bottom": null,
            "display": null,
            "flex": null,
            "flex_flow": null,
            "grid_area": null,
            "grid_auto_columns": null,
            "grid_auto_flow": null,
            "grid_auto_rows": null,
            "grid_column": null,
            "grid_gap": null,
            "grid_row": null,
            "grid_template_areas": null,
            "grid_template_columns": null,
            "grid_template_rows": null,
            "height": null,
            "justify_content": null,
            "justify_items": null,
            "left": null,
            "margin": null,
            "max_height": null,
            "max_width": null,
            "min_height": null,
            "min_width": null,
            "object_fit": null,
            "object_position": null,
            "order": null,
            "overflow": null,
            "overflow_x": null,
            "overflow_y": null,
            "padding": null,
            "right": null,
            "top": null,
            "visibility": null,
            "width": "20px"
          }
        },
        "4bffe41e36954763855e8248b83c4dc9": {
          "model_module": "@jupyter-widgets/controls",
          "model_name": "ProgressStyleModel",
          "model_module_version": "1.5.0",
          "state": {
            "_model_module": "@jupyter-widgets/controls",
            "_model_module_version": "1.5.0",
            "_model_name": "ProgressStyleModel",
            "_view_count": null,
            "_view_module": "@jupyter-widgets/base",
            "_view_module_version": "1.2.0",
            "_view_name": "StyleView",
            "bar_color": null,
            "description_width": ""
          }
        },
        "f81b7850e0b6469e998744aed0c3abad": {
          "model_module": "@jupyter-widgets/base",
          "model_name": "LayoutModel",
          "model_module_version": "1.2.0",
          "state": {
            "_model_module": "@jupyter-widgets/base",
            "_model_module_version": "1.2.0",
            "_model_name": "LayoutModel",
            "_view_count": null,
            "_view_module": "@jupyter-widgets/base",
            "_view_module_version": "1.2.0",
            "_view_name": "LayoutView",
            "align_content": null,
            "align_items": null,
            "align_self": null,
            "border": null,
            "bottom": null,
            "display": null,
            "flex": null,
            "flex_flow": null,
            "grid_area": null,
            "grid_auto_columns": null,
            "grid_auto_flow": null,
            "grid_auto_rows": null,
            "grid_column": null,
            "grid_gap": null,
            "grid_row": null,
            "grid_template_areas": null,
            "grid_template_columns": null,
            "grid_template_rows": null,
            "height": null,
            "justify_content": null,
            "justify_items": null,
            "left": null,
            "margin": null,
            "max_height": null,
            "max_width": null,
            "min_height": null,
            "min_width": null,
            "object_fit": null,
            "object_position": null,
            "order": null,
            "overflow": null,
            "overflow_x": null,
            "overflow_y": null,
            "padding": null,
            "right": null,
            "top": null,
            "visibility": null,
            "width": null
          }
        },
        "89914fbc50df4dcd80959476f853ea67": {
          "model_module": "@jupyter-widgets/controls",
          "model_name": "DescriptionStyleModel",
          "model_module_version": "1.5.0",
          "state": {
            "_model_module": "@jupyter-widgets/controls",
            "_model_module_version": "1.5.0",
            "_model_name": "DescriptionStyleModel",
            "_view_count": null,
            "_view_module": "@jupyter-widgets/base",
            "_view_module_version": "1.2.0",
            "_view_name": "StyleView",
            "description_width": ""
          }
        }
      }
    }
  },
  "cells": [
    {
      "cell_type": "markdown",
      "metadata": {
        "id": "view-in-github",
        "colab_type": "text"
      },
      "source": [
        "<a href=\"https://colab.research.google.com/github/pranay8297/fastaip2/blob/main/DDPM.ipynb\" target=\"_parent\"><img src=\"https://colab.research.google.com/assets/colab-badge.svg\" alt=\"Open In Colab\"/></a>"
      ]
    },
    {
      "cell_type": "markdown",
      "source": [
        "# Setup\n"
      ],
      "metadata": {
        "id": "XohSTEOMmSIM"
      }
    },
    {
      "cell_type": "code",
      "execution_count": null,
      "metadata": {
        "id": "b3v1QLr8KBZ0"
      },
      "outputs": [],
      "source": [
        "!pip install torch==2.1.0\n",
        "!pip install datasets\n",
        "# !pip install torchaudio==0.13.1\n",
        "!pip install ipdb\n",
        "!pip install torcheval\n",
        "!pip install -Uqq git+https://github.com/fastai/course22p2\n",
        "!pip install wandb\n",
        "!pip install diffusers\n",
        "!pip install tqdm"
      ]
    },
    {
      "cell_type": "code",
      "source": [
        "from miniai.datasets import *\n",
        "from miniai.activations import *\n",
        "from miniai.learner import *\n",
        "from miniai.augment import *\n",
        "from miniai.activations import *\n",
        "from miniai.init import *\n",
        "\n",
        "from datasets import load_dataset\n",
        "from torch.utils.data import DataLoader\n",
        "from torchvision.transforms.functional import to_tensor, resize\n",
        "\n",
        "import torch\n",
        "import math\n",
        "\n",
        "from torch import nn\n",
        "from torch.nn import functional as F\n",
        "from torcheval.metrics import MulticlassAccuracy\n",
        "import fastcore.all as fc\n",
        "import matplotlib as mpl, matplotlib.pyplot as plt\n",
        "from ipdb import set_trace as st\n",
        "from functools import partial\n",
        "from torch import optim\n",
        "from torch.optim import lr_scheduler\n",
        "import wandb\n",
        "\n",
        "from torchvision import transforms\n",
        "from torchvision.transforms import v2\n",
        "from diffusers import UNet2DModel\n",
        "from pathlib import Path\n",
        "from tqdm import tqdm\n",
        "\n",
        "mdl_path = Path('drive/MyDrive/fastai_p2/models/')"
      ],
      "metadata": {
        "id": "QbOkBBdoKlgt"
      },
      "execution_count": 14,
      "outputs": []
    },
    {
      "cell_type": "code",
      "source": [
        "from google.colab import drive\n",
        "drive.mount('/content/drive')\n",
        "mpl.rcParams['image.cmap'] = 'gray'\n",
        "set_seed(42)"
      ],
      "metadata": {
        "colab": {
          "base_uri": "https://localhost:8080/"
        },
        "id": "kMeuTaSi6YSl",
        "outputId": "7318841d-e31d-4dd7-84c7-32c1e90ee66f"
      },
      "execution_count": 4,
      "outputs": [
        {
          "output_type": "stream",
          "name": "stdout",
          "text": [
            "Mounted at /content/drive\n"
          ]
        }
      ]
    },
    {
      "cell_type": "code",
      "source": [
        "dsd = load_dataset('fashion_mnist')\n",
        "\n",
        "@inplace\n",
        "def transformi(b): b['image'] = [resize(to_tensor(o), (32, 32), antialias = True) for o in b['image']]\n",
        "\n",
        "def collate_fn(some_data):\n",
        "  sd = (i.values() for i in some_data)\n",
        "  xs, ys = zip(*sd)\n",
        "  return torch.stack(xs), torch.tensor(ys)\n",
        "\n",
        "tds = dsd.with_transform(transformi)\n",
        "dls = DataLoaders.from_dd(tds, 128, num_workers=2)"
      ],
      "metadata": {
        "colab": {
          "base_uri": "https://localhost:8080/",
          "height": 272,
          "referenced_widgets": [
            "f6261dff1b62455bb98fc7b284c104d7",
            "8cb21f2553ef43b4aa6637ef40a224b3",
            "196e2255a3754ddc983156c9b1f3cf83",
            "ad8415a5185d454d94c2e90fbef1c416",
            "a43402022089472f83cf9753f85f773a",
            "a4437c8f9f7e4484a2cddeed3bb851e1",
            "f51e0e6583c34846937667e68c9d137d",
            "1c0f7569a03046a1ba24ba5ef52d3ea8",
            "f79033f1668745a2b9ac9e2a6fd9a090",
            "385b3dd974fc45ccbff9e29f248fc6e9",
            "8f229bd5738d42038ddde0e86c2f8322",
            "eb2b923525f04b2a9bfa437541376ffb",
            "4a92391f39024d49b2419c829f4086cd",
            "9e6e7e67da19496891b480717f378a7e",
            "cd526fc35ddf40c0a5962358ba12342a",
            "b39036475596492aa2b6301348952da2",
            "e60e8c3ebcc44baa9a8cb24183e63099",
            "7dd276595b20419c8d18631d4639900d",
            "c34f31a6a4ef44ff9de6e6f31c6ec926",
            "298edbd9f0f24ad6b23e94e86ae84840",
            "53b3a538c5b34fd184a658f085d5060c",
            "3d433dbe9a3444b68a1a1373946df8d9",
            "a4ce797b409a4a4186a209bcb55f0f75",
            "cb0c04c48bb54be5b50438a827c7dbb0",
            "5b7cd88ab6b14d2093e02c99344ca667",
            "d03e113a487e4139ac9591e2f2edba88",
            "b63200e2fd774356b6e4f0501201da15",
            "e332161731244062ac54edb7e51e002d",
            "005ac8f12e6844449a22dc82b5e4a07d",
            "dd95ca644f9c40858cac5aad51c3d452",
            "431f166bc7f74a97b47721915ee59002",
            "66849b4f911c48329f6b55998abf7e55",
            "b4545ebaca9243b487771ab39ab098fc",
            "3975efb08f8d4cada365682b8a62f47b",
            "91666e2df977402f88b5a2c3ddba2cb9",
            "3441083239e44a1cb0439bc0c65ecfe8",
            "136e299b52a0431a99efdb7262f5d91e",
            "a488aab64e8749aab3e2b2a933f12355",
            "56e712f03f3648bd92cff178532643a7",
            "570db13f5487436c99cab7657eabbde8",
            "b3c17eeaf5854ada8dae46b85a10ecd8",
            "4bffe41e36954763855e8248b83c4dc9",
            "f81b7850e0b6469e998744aed0c3abad",
            "89914fbc50df4dcd80959476f853ea67"
          ]
        },
        "id": "jezoMNKgUMyS",
        "outputId": "f575b06c-12c6-4bc4-abc9-cd47f4fa8edf"
      },
      "execution_count": 5,
      "outputs": [
        {
          "output_type": "stream",
          "name": "stderr",
          "text": [
            "/usr/local/lib/python3.10/dist-packages/huggingface_hub/utils/_token.py:88: UserWarning: \n",
            "The secret `HF_TOKEN` does not exist in your Colab secrets.\n",
            "To authenticate with the Hugging Face Hub, create a token in your settings tab (https://huggingface.co/settings/tokens), set it as secret in your Google Colab and restart your session.\n",
            "You will be able to reuse this secret in all of your notebooks.\n",
            "Please note that authentication is recommended but still optional to access public models or datasets.\n",
            "  warnings.warn(\n"
          ]
        },
        {
          "output_type": "display_data",
          "data": {
            "text/plain": [
              "Downloading data:   0%|          | 0.00/30.9M [00:00<?, ?B/s]"
            ],
            "application/vnd.jupyter.widget-view+json": {
              "version_major": 2,
              "version_minor": 0,
              "model_id": "f6261dff1b62455bb98fc7b284c104d7"
            }
          },
          "metadata": {}
        },
        {
          "output_type": "display_data",
          "data": {
            "text/plain": [
              "Downloading data:   0%|          | 0.00/5.18M [00:00<?, ?B/s]"
            ],
            "application/vnd.jupyter.widget-view+json": {
              "version_major": 2,
              "version_minor": 0,
              "model_id": "eb2b923525f04b2a9bfa437541376ffb"
            }
          },
          "metadata": {}
        },
        {
          "output_type": "display_data",
          "data": {
            "text/plain": [
              "Generating train split: 0 examples [00:00, ? examples/s]"
            ],
            "application/vnd.jupyter.widget-view+json": {
              "version_major": 2,
              "version_minor": 0,
              "model_id": "a4ce797b409a4a4186a209bcb55f0f75"
            }
          },
          "metadata": {}
        },
        {
          "output_type": "display_data",
          "data": {
            "text/plain": [
              "Generating test split: 0 examples [00:00, ? examples/s]"
            ],
            "application/vnd.jupyter.widget-view+json": {
              "version_major": 2,
              "version_minor": 0,
              "model_id": "3975efb08f8d4cada365682b8a62f47b"
            }
          },
          "metadata": {}
        }
      ]
    },
    {
      "cell_type": "code",
      "source": [
        "def noisify_img(cb_obj, x_0):\n",
        "  n = x_0.shape[0]\n",
        "  device = x_0.device\n",
        "  noise = torch.randn(x_0.shape, device = device)\n",
        "  ts = torch.randint(0, cb_obj.n_steps, size = (n,), device = device, dtype = torch.long)\n",
        "\n",
        "  if cb_obj.alpha_bar.device != device: cb_obj.alpha_bar = cb_obj.alpha_bar.to(device)\n",
        "\n",
        "  c1 = cb_obj.alpha_bar[ts].sqrt()[:, None, None, None].to(device)\n",
        "  c2 = (1 - cb_obj.alpha_bar[ts]).sqrt()[:, None, None, None].to(device)\n",
        "  x_t = c1*x_0 + c2*noise\n",
        "\n",
        "  return (x_t, ts), noise\n",
        "\n",
        "class DDPMPrep(Callback):\n",
        "  def __init__(self, n_steps = 1000, beta_min = 0.0001, beta_max = 0.02):\n",
        "    fc.store_attr()\n",
        "    self.beta = torch.linspace(beta_min, beta_max, n_steps)\n",
        "    self.alpha = 1. - self.beta\n",
        "    self.alpha_bar = self.alpha.cumprod(0)\n",
        "    self.sigma = self.beta.sqrt()\n",
        "\n",
        "  def before_batch(self, learn): learn.batch = noisify_img(self, learn.batch[0])\n",
        "\n",
        "class UnetModel(UNet2DModel):\n",
        "  def forward(self, x): return super().forward(*x).sample\n",
        "\n",
        "class BaseSchedulerCB(Callback):\n",
        "  def __init__(self, sched_class): self.sched_class = sched_class\n",
        "  def before_fit(self, learn): self.sched = self.sched_class(learn.opt)\n",
        "  def step(self, learn):\n",
        "    if not learn.training: return\n",
        "    self.sched.step()\n",
        "\n",
        "class BatchSchedulerCB(BaseSchedulerCB):\n",
        "  def __init__(self, sched_class):super().__init__(sched_class)\n",
        "  def after_batch(self, learn): self.step(learn)\n",
        "\n",
        "def get_callbacks(stats_layer = GeneralRelu):\n",
        "  astats = ActivationStats(fc.risinstance(stats_layer))\n",
        "  metrics = MetricsCB()\n",
        "  return [DeviceCB(torch.device('cuda' if torch.cuda.is_available() else 'cpu')), metrics, ProgressCB(plot = True), astats]\n",
        "\n",
        "class LossMonitoringCB(Callback):\n",
        "  def __init__(self): self.losses = [4.0]\n",
        "  def after_loss(self, learn):\n",
        "    if not learn.training: return\n",
        "    if learn.loss.item() > self.losses[-1] * 2:\n",
        "      print('SOME SHIT HAPPENED')\n",
        "      st()\n",
        "    self.losses.append(learn.loss.item())\n"
      ],
      "metadata": {
        "id": "lTMSpg26i2tY"
      },
      "execution_count": 8,
      "outputs": []
    },
    {
      "cell_type": "code",
      "source": [
        "# dls = DataLoaders.from_dd(tds, 128, num_workers=2)"
      ],
      "metadata": {
        "id": "aCT7Do3TR6VV"
      },
      "execution_count": null,
      "outputs": []
    },
    {
      "cell_type": "markdown",
      "source": [
        "# Experiments in Playground"
      ],
      "metadata": {
        "id": "sZBSSpcBq8w3"
      }
    },
    {
      "cell_type": "code",
      "source": [
        "x = torch.randn((4, 1, 32, 32))\n",
        "n = torch.randn(x.shape)\n",
        "ts = torch.randint(size = (4,), low = 0, high = 10)\n",
        "\n",
        "beta = torch.linspace(0.1, 1, 10)\n",
        "alpha = 1. - beta\n",
        "alpha_bar = alpha.cumprod(0)"
      ],
      "metadata": {
        "id": "I0jTmlE0kiBg"
      },
      "execution_count": null,
      "outputs": []
    },
    {
      "cell_type": "code",
      "source": [
        "alpha_bar.shape"
      ],
      "metadata": {
        "colab": {
          "base_uri": "https://localhost:8080/"
        },
        "id": "oAgyolNako-X",
        "outputId": "712356db-e628-45d2-e27d-a516668d0bc9"
      },
      "execution_count": null,
      "outputs": [
        {
          "output_type": "execute_result",
          "data": {
            "text/plain": [
              "torch.Size([10])"
            ]
          },
          "metadata": {},
          "execution_count": 39
        }
      ]
    },
    {
      "cell_type": "code",
      "source": [
        "ts"
      ],
      "metadata": {
        "colab": {
          "base_uri": "https://localhost:8080/"
        },
        "id": "3twwdPztlSYP",
        "outputId": "7126da81-00b7-4d5e-ae0e-1c9d8525a565"
      },
      "execution_count": null,
      "outputs": [
        {
          "output_type": "execute_result",
          "data": {
            "text/plain": [
              "tensor([1, 5, 6, 4])"
            ]
          },
          "metadata": {},
          "execution_count": 40
        }
      ]
    },
    {
      "cell_type": "code",
      "source": [
        "c1 = alpha_bar[ts].sqrt()\n",
        "c2 = (1. - alpha_bar[ts]).sqrt()"
      ],
      "metadata": {
        "id": "KMSG83cllUQ5"
      },
      "execution_count": null,
      "outputs": []
    },
    {
      "cell_type": "code",
      "source": [
        "plt.plot(c1)"
      ],
      "metadata": {
        "colab": {
          "base_uri": "https://localhost:8080/"
        },
        "id": "rCBkeDrUlWtm",
        "outputId": "f2921f5e-342f-4f53-b556-7892caea7527"
      },
      "execution_count": null,
      "outputs": [
        {
          "output_type": "execute_result",
          "data": {
            "text/plain": [
              "[<matplotlib.lines.Line2D at 0x7d0eabb54c10>]"
            ]
          },
          "metadata": {},
          "execution_count": 42
        },
        {
          "output_type": "display_data",
          "data": {
            "text/plain": [
              "<Figure size 640x480 with 1 Axes>"
            ],
            "image/png": "[encoded data removed]"
          },
          "metadata": {}
        }
      ]
    },
    {
      "cell_type": "code",
      "source": [
        "plt.plot(c2)"
      ],
      "metadata": {
        "colab": {
          "base_uri": "https://localhost:8080/"
        },
        "id": "KHE-NeL9mLXx",
        "outputId": "a609c96a-7a8f-4088-f491-74ac4ec002e7"
      },
      "execution_count": null,
      "outputs": [
        {
          "output_type": "execute_result",
          "data": {
            "text/plain": [
              "[<matplotlib.lines.Line2D at 0x7d0eabbcba00>]"
            ]
          },
          "metadata": {},
          "execution_count": 43
        },
        {
          "output_type": "display_data",
          "data": {
            "text/plain": [
              "<Figure size 640x480 with 1 Axes>"
            ],
            "image/png": "[encoded data removed]"
          },
          "metadata": {}
        }
      ]
    },
    {
      "cell_type": "code",
      "source": [
        "c1.shape"
      ],
      "metadata": {
        "colab": {
          "base_uri": "https://localhost:8080/"
        },
        "id": "6fo-REWBmMXq",
        "outputId": "4565b4df-1fb3-4322-c7c0-f9f4f66b3dab"
      },
      "execution_count": null,
      "outputs": [
        {
          "output_type": "execute_result",
          "data": {
            "text/plain": [
              "torch.Size([4])"
            ]
          },
          "metadata": {},
          "execution_count": 44
        }
      ]
    },
    {
      "cell_type": "code",
      "source": [
        "x.shape"
      ],
      "metadata": {
        "colab": {
          "base_uri": "https://localhost:8080/"
        },
        "id": "-Y9izKshmcKy",
        "outputId": "63cb9493-1434-4df7-8a9e-7d78e8335647"
      },
      "execution_count": null,
      "outputs": [
        {
          "output_type": "execute_result",
          "data": {
            "text/plain": [
              "torch.Size([4, 1, 32, 32])"
            ]
          },
          "metadata": {},
          "execution_count": 45
        }
      ]
    },
    {
      "cell_type": "code",
      "source": [
        "c1[:, None, None, None].shape"
      ],
      "metadata": {
        "colab": {
          "base_uri": "https://localhost:8080/"
        },
        "id": "Y7YGj7QBmcvb",
        "outputId": "d52fb4b6-7625-4a58-92cb-dc62c4f07658"
      },
      "execution_count": null,
      "outputs": [
        {
          "output_type": "execute_result",
          "data": {
            "text/plain": [
              "torch.Size([4, 1, 1, 1])"
            ]
          },
          "metadata": {},
          "execution_count": 46
        }
      ]
    },
    {
      "cell_type": "code",
      "source": [
        "c1[:, None, None, None] *"
      ],
      "metadata": {
        "colab": {
          "base_uri": "https://localhost:8080/"
        },
        "id": "a749geUKmgaX",
        "outputId": "f7a75be1-b1da-497e-c507-a7b88147c902"
      },
      "execution_count": null,
      "outputs": [
        {
          "output_type": "execute_result",
          "data": {
            "text/plain": [
              "tensor([[[[0.8485]]],\n",
              "\n",
              "\n",
              "        [[[0.2459]]],\n",
              "\n",
              "\n",
              "        [[[0.1347]]],\n",
              "\n",
              "\n",
              "        [[[0.3888]]]])"
            ]
          },
          "metadata": {},
          "execution_count": 48
        }
      ]
    },
    {
      "cell_type": "code",
      "source": [
        "x.shape"
      ],
      "metadata": {
        "colab": {
          "base_uri": "https://localhost:8080/"
        },
        "id": "eiJ5y9RimnE_",
        "outputId": "385c5804-780b-483c-be88-65203ccfbe26"
      },
      "execution_count": null,
      "outputs": [
        {
          "output_type": "execute_result",
          "data": {
            "text/plain": [
              "torch.Size([4, 1, 32, 32])"
            ]
          },
          "metadata": {},
          "execution_count": 49
        }
      ]
    },
    {
      "cell_type": "code",
      "source": [
        "x.mean((1, 2, 3)), x.std((1, 2, 3))"
      ],
      "metadata": {
        "colab": {
          "base_uri": "https://localhost:8080/"
        },
        "id": "ITh8G-jKmsGh",
        "outputId": "4033405b-02f1-4e92-b3dc-dd758b5431c4"
      },
      "execution_count": null,
      "outputs": [
        {
          "output_type": "execute_result",
          "data": {
            "text/plain": [
              "(tensor([-0.0070, -0.0118, -0.0779, -0.0054]),\n",
              " tensor([0.9981, 0.9988, 1.0180, 1.0242]))"
            ]
          },
          "metadata": {},
          "execution_count": 56
        }
      ]
    },
    {
      "cell_type": "code",
      "source": [
        "x_bar ="
      ],
      "metadata": {
        "id": "W5-tuIelmuLr"
      },
      "execution_count": null,
      "outputs": []
    },
    {
      "cell_type": "code",
      "source": [
        "x_bar.mean((1, 2, 3)), x_bar.std((1, 2, 3))"
      ],
      "metadata": {
        "colab": {
          "base_uri": "https://localhost:8080/"
        },
        "id": "fMlJ5nomm7o5",
        "outputId": "6f6e6369-08e1-444c-ed24-464e2255415a"
      },
      "execution_count": null,
      "outputs": [
        {
          "output_type": "execute_result",
          "data": {
            "text/plain": [
              "(tensor([-0.0060, -0.0029, -0.0105, -0.0021]),\n",
              " tensor([0.8469, 0.2456, 0.1371, 0.3983]))"
            ]
          },
          "metadata": {},
          "execution_count": 58
        }
      ]
    },
    {
      "cell_type": "code",
      "source": [
        "noise = torch.randn(x.shape)"
      ],
      "metadata": {
        "id": "sUzh4cmKnFq2"
      },
      "execution_count": null,
      "outputs": []
    },
    {
      "cell_type": "code",
      "source": [
        "noise.mean(), noise.std()"
      ],
      "metadata": {
        "colab": {
          "base_uri": "https://localhost:8080/"
        },
        "id": "LZhpIxgrnnWC",
        "outputId": "f1acbec6-2c3a-4223-99c3-0bb63a645b5c"
      },
      "execution_count": null,
      "outputs": [
        {
          "output_type": "execute_result",
          "data": {
            "text/plain": [
              "(tensor(0.0049), tensor(0.9886))"
            ]
          },
          "metadata": {},
          "execution_count": 61
        }
      ]
    },
    {
      "cell_type": "code",
      "source": [
        "noise[2].mean(), noise[2].std()"
      ],
      "metadata": {
        "colab": {
          "base_uri": "https://localhost:8080/"
        },
        "id": "IFyOGiz_nyhK",
        "outputId": "000cd0b6-bcec-4872-d3d1-6fe3240b4a90"
      },
      "execution_count": null,
      "outputs": [
        {
          "output_type": "execute_result",
          "data": {
            "text/plain": [
              "(tensor(-0.0003), tensor(1.0068))"
            ]
          },
          "metadata": {},
          "execution_count": 63
        }
      ]
    },
    {
      "cell_type": "code",
      "source": [
        "x_bar = c1[:, None, None, None] * x + c2[:, None, None, None] * noise"
      ],
      "metadata": {
        "id": "4u8RzDKln1ga"
      },
      "execution_count": null,
      "outputs": []
    },
    {
      "cell_type": "code",
      "source": [
        "x_bar.shape"
      ],
      "metadata": {
        "colab": {
          "base_uri": "https://localhost:8080/"
        },
        "id": "V9ZcWxPTot08",
        "outputId": "9245c7c0-93f3-404d-f5dd-5c95ca5ffe72"
      },
      "execution_count": null,
      "outputs": [
        {
          "output_type": "execute_result",
          "data": {
            "text/plain": [
              "torch.Size([4, 1, 32, 32])"
            ]
          },
          "metadata": {},
          "execution_count": 68
        }
      ]
    },
    {
      "cell_type": "code",
      "source": [
        "x_bar.mean((1, 2, 3)), x_bar.std((1, 2, 3))"
      ],
      "metadata": {
        "colab": {
          "base_uri": "https://localhost:8080/"
        },
        "id": "nBKhpLcHo9ZV",
        "outputId": "a40fd4bf-9c96-4028-fd6d-7bdeded2b040"
      },
      "execution_count": null,
      "outputs": [
        {
          "output_type": "execute_result",
          "data": {
            "text/plain": [
              "(tensor([ 0.0040,  0.0121, -0.0107, -0.0156]),\n",
              " tensor([0.9898, 0.9885, 1.0087, 1.0106]))"
            ]
          },
          "metadata": {},
          "execution_count": 69
        }
      ]
    },
    {
      "cell_type": "code",
      "source": [
        "x, y = next(iter(dls.train))"
      ],
      "metadata": {
        "colab": {
          "base_uri": "https://localhost:8080/"
        },
        "id": "3v_7QATApC3A",
        "outputId": "335fdd97-8836-47a4-a7ab-f1f6e7c4c65b"
      },
      "execution_count": null,
      "outputs": [
        {
          "output_type": "stream",
          "name": "stderr",
          "text": [
            "/usr/local/lib/python3.10/dist-packages/torchvision/transforms/functional.py:1603: UserWarning: The default value of the antialias parameter of all the resizing transforms (Resize(), RandomResizedCrop(), etc.) will change from None to True in v0.17, in order to be consistent across the PIL and Tensor backends. To suppress this warning, directly pass antialias=True (recommended, future default), antialias=None (current default, which means False for Tensors and True for PIL), or antialias=False (only works on Tensors - PIL will still use antialiasing). This also applies if you are using the inference transforms from the models weights: update the call to weights.transforms(antialias=True).\n",
            "  warnings.warn(\n",
            "/usr/local/lib/python3.10/dist-packages/torchvision/transforms/functional.py:1603: UserWarning: The default value of the antialias parameter of all the resizing transforms (Resize(), RandomResizedCrop(), etc.) will change from None to True in v0.17, in order to be consistent across the PIL and Tensor backends. To suppress this warning, directly pass antialias=True (recommended, future default), antialias=None (current default, which means False for Tensors and True for PIL), or antialias=False (only works on Tensors - PIL will still use antialiasing). This also applies if you are using the inference transforms from the models weights: update the call to weights.transforms(antialias=True).\n",
            "  warnings.warn(\n"
          ]
        }
      ]
    },
    {
      "cell_type": "code",
      "source": [
        "x.shape"
      ],
      "metadata": {
        "colab": {
          "base_uri": "https://localhost:8080/"
        },
        "id": "d0X01KhqpfCZ",
        "outputId": "7ac6830d-ed94-49de-9c6b-905cffd830fa"
      },
      "execution_count": null,
      "outputs": [
        {
          "output_type": "execute_result",
          "data": {
            "text/plain": [
              "torch.Size([128, 1, 32, 32])"
            ]
          },
          "metadata": {},
          "execution_count": 78
        }
      ]
    },
    {
      "cell_type": "code",
      "source": [
        "x = x[2]"
      ],
      "metadata": {
        "id": "J-ouXEEppiTK"
      },
      "execution_count": null,
      "outputs": []
    },
    {
      "cell_type": "code",
      "source": [
        "show_image(x)"
      ],
      "metadata": {
        "colab": {
          "base_uri": "https://localhost:8080/"
        },
        "id": "mE3Ycn8wpkDv",
        "outputId": "ce05b75f-846b-442d-d14c-1af162c4d655"
      },
      "execution_count": null,
      "outputs": [
        {
          "output_type": "execute_result",
          "data": {
            "text/plain": [
              "<Axes: >"
            ]
          },
          "metadata": {},
          "execution_count": 84
        },
        {
          "output_type": "display_data",
          "data": {
            "text/plain": [
              "<Figure size 640x480 with 1 Axes>"
            ],
            "image/png": "[encoded data removed]"
          },
          "metadata": {}
        }
      ]
    },
    {
      "cell_type": "code",
      "source": [
        "xs = torch.cat([x]*16, dim = 0)[:, None, :, :]"
      ],
      "metadata": {
        "id": "aEeFJBpeplHV"
      },
      "execution_count": null,
      "outputs": []
    },
    {
      "cell_type": "code",
      "source": [
        "xs.shape"
      ],
      "metadata": {
        "colab": {
          "base_uri": "https://localhost:8080/"
        },
        "id": "LnVPNww0p3Uo",
        "outputId": "89123891-8e34-473b-d4ed-4f3b733c382a"
      },
      "execution_count": null,
      "outputs": [
        {
          "output_type": "execute_result",
          "data": {
            "text/plain": [
              "torch.Size([16, 1, 32, 32])"
            ]
          },
          "metadata": {},
          "execution_count": 89
        }
      ]
    },
    {
      "cell_type": "code",
      "source": [
        "n = torch.randn(xs.shape)\n",
        "ts = torch.randint(size = (16,), low = 0, high = 1000)\n",
        "\n",
        "beta = torch.linspace(0.0001, 0.02, 1000)\n",
        "alpha = 1. - beta\n",
        "alpha_bar = alpha.cumprod(0)"
      ],
      "metadata": {
        "id": "72NcNxjxp958"
      },
      "execution_count": null,
      "outputs": []
    },
    {
      "cell_type": "code",
      "source": [
        "ts"
      ],
      "metadata": {
        "colab": {
          "base_uri": "https://localhost:8080/"
        },
        "id": "h-RudkfSqYRz",
        "outputId": "a1a2dc7c-8f42-41d1-d413-da814fdbc3e2"
      },
      "execution_count": null,
      "outputs": [
        {
          "output_type": "execute_result",
          "data": {
            "text/plain": [
              "tensor([805, 790, 521, 822, 628, 780, 364, 464,  56,  91,  14, 303, 321, 736,\n",
              "        244, 873])"
            ]
          },
          "metadata": {},
          "execution_count": 100
        }
      ]
    },
    {
      "cell_type": "code",
      "source": [
        "c1 = alpha_bar[ts].sqrt()\n",
        "c2 = (1. - alpha_bar[ts]).sqrt()"
      ],
      "metadata": {
        "id": "Rg98pJTcqS33"
      },
      "execution_count": null,
      "outputs": []
    },
    {
      "cell_type": "code",
      "source": [
        "x_bar = c1[:, None, None, None] * xs + c2[:, None, None, None] * n"
      ],
      "metadata": {
        "id": "XzwQpgcUqbn7"
      },
      "execution_count": null,
      "outputs": []
    },
    {
      "cell_type": "code",
      "source": [
        "show_images(x_bar, titles = [str(int(i)) for i in ts])"
      ],
      "metadata": {
        "colab": {
          "base_uri": "https://localhost:8080/"
        },
        "id": "mna0uzm4qnJd",
        "outputId": "a67f2127-9b79-4912-bfc4-1d21d71761df"
      },
      "execution_count": null,
      "outputs": [
        {
          "output_type": "display_data",
          "data": {
            "text/plain": [
              "<Figure size 1200x1200 with 16 Axes>"
            ],
            "image/png": "[encoded data removed]"
          },
          "metadata": {}
        }
      ]
    },
    {
      "cell_type": "code",
      "source": [
        "show_images(x_bar, titles = [str(int(i)) for i in ts])"
      ],
      "metadata": {
        "colab": {
          "base_uri": "https://localhost:8080/"
        },
        "id": "qsw8cUW1rTrc",
        "outputId": "e04e8cee-6048-47e4-b949-9c989d1173c6"
      },
      "execution_count": null,
      "outputs": [
        {
          "output_type": "display_data",
          "data": {
            "text/plain": [
              "<Figure size 1200x1200 with 16 Axes>"
            ],
            "image/png": "[encoded data removed]"
          },
          "metadata": {}
        }
      ]
    },
    {
      "cell_type": "markdown",
      "source": [
        "# Training"
      ],
      "metadata": {
        "id": "5dRb7VkjGz8q"
      }
    },
    {
      "cell_type": "code",
      "source": [
        "def noisify_img(cb_obj, x_0):\n",
        "  n = x_0.shape[0]\n",
        "  device = x_0.device\n",
        "  noise = torch.randn(x_0.shape, device = device)\n",
        "  ts = torch.randint(0, cb_obj.n_steps, size = (n,), device = device, dtype = torch.long)\n",
        "\n",
        "  if cb_obj.alpha_bar.device != device: cb_obj.alpha_bar = cb_obj.alpha_bar.to(device)\n",
        "\n",
        "  c1 = cb_obj.alpha_bar[ts].sqrt()[:, None, None, None].to(device)\n",
        "  c2 = (1 - cb_obj.alpha_bar[ts]).sqrt()[:, None, None, None].to(device)\n",
        "  x_t = c1*x_0 + c2*noise\n",
        "\n",
        "  return (x_t, ts), noise"
      ],
      "metadata": {
        "id": "ECblNfrXHwYG"
      },
      "execution_count": null,
      "outputs": []
    },
    {
      "cell_type": "code",
      "source": [
        "class DDPMPrep(Callback):\n",
        "  def __init__(self, n_steps = 1000, beta_min = 0.0001, beta_max = 0.02):\n",
        "    fc.store_attr()\n",
        "    self.beta = torch.linspace(beta_min, beta_max, n_steps)\n",
        "    self.alpha = 1. - self.beta\n",
        "    self.alpha_bar = self.alpha.cumprod(0)\n",
        "    self.sigma = self.beta.sqrt()\n",
        "\n",
        "  def before_batch(self, learn): learn.batch = noisify_img(self, learn.batch[0])"
      ],
      "metadata": {
        "id": "HqMUilWXdURY"
      },
      "execution_count": null,
      "outputs": []
    },
    {
      "cell_type": "code",
      "source": [
        "class UnetModel(UNet2DModel):\n",
        "  def forward(self, x): return super().forward(*x).sample"
      ],
      "metadata": {
        "id": "G0ckr2wwMwmr"
      },
      "execution_count": null,
      "outputs": []
    },
    {
      "cell_type": "code",
      "source": [
        "class BaseSchedulerCB(Callback):\n",
        "  def __init__(self, sched_class): self.sched_class = sched_class\n",
        "  def before_fit(self, learn): self.sched = self.sched_class(learn.opt)\n",
        "  def step(self, learn):\n",
        "    if not learn.training: return\n",
        "    self.sched.step()\n",
        "\n",
        "class BatchSchedulerCB(BaseSchedulerCB):\n",
        "  def __init__(self, sched_class):super().__init__(sched_class)\n",
        "  def after_batch(self, learn): self.step(learn)\n",
        "\n",
        "def get_callbacks(stats_layer = GeneralRelu):\n",
        "  astats = ActivationStats(fc.risinstance(stats_layer))\n",
        "  metrics = MetricsCB()\n",
        "  return [DeviceCB(torch.device('cuda' if torch.cuda.is_available() else 'cpu')), metrics, ProgressCB(plot = True), astats]"
      ],
      "metadata": {
        "id": "d7lfRqrIPDEx"
      },
      "execution_count": null,
      "outputs": []
    },
    {
      "cell_type": "code",
      "source": [
        "class LossMonitoringCB(Callback):\n",
        "  def __init__(self): self.losses = [4.0]\n",
        "  def after_loss(self, learn):\n",
        "    if not learn.training: return\n",
        "    if learn.loss.item() > self.losses[-1] * 2:\n",
        "      print('SOME SHIT HAPPENED')\n",
        "      st()\n",
        "    self.losses.append(learn.loss.item())\n"
      ],
      "metadata": {
        "id": "Qq-O-XW_ZM7t"
      },
      "execution_count": null,
      "outputs": []
    },
    {
      "cell_type": "code",
      "source": [
        "model = UnetModel(in_channels=1, out_channels=1, block_out_channels=(32, 64, 128, 128))\n",
        "lr_max, epochs = 5e-03, 5\n",
        "cbs = get_callbacks(nn.BatchNorm2d) + [\n",
        "          DDPMPrep(),\n",
        "          BatchSchedulerCB(partial(lr_scheduler.OneCycleLR, max_lr = lr_max, epochs = epochs, steps_per_epoch = len(dls.train))),\n",
        "          LossMonitoringCB()\n",
        "      ]\n",
        "learner = TrainLearner(model, dls, loss_func = nn.MSELoss(), lr = lr_max, cbs = cbs, opt_func = torch.optim.Adam)\n",
        "learner.fit(epochs)"
      ],
      "metadata": {
        "id": "QLPhhyb3QOpg"
      },
      "execution_count": null,
      "outputs": []
    },
    {
      "cell_type": "code",
      "source": [
        "from google.colab import drive\n",
        "drive.mount('/content/drive')"
      ],
      "metadata": {
        "colab": {
          "base_uri": "https://localhost:8080/"
        },
        "id": "dfKgiCU0SBM6",
        "outputId": "b9ac25b6-d47f-499e-dc09-6b88891b1607"
      },
      "execution_count": null,
      "outputs": [
        {
          "output_type": "stream",
          "name": "stdout",
          "text": [
            "Mounted at /content/drive\n"
          ]
        }
      ]
    },
    {
      "cell_type": "code",
      "source": [
        "!ls drive/MyDrive/fastai_p2/models/"
      ],
      "metadata": {
        "colab": {
          "base_uri": "https://localhost:8080/"
        },
        "id": "0Pw8N4AVk2tr",
        "outputId": "297c7e23-55f2-43bb-8b25-c77dbbd2ef59"
      },
      "execution_count": null,
      "outputs": [
        {
          "output_type": "stream",
          "name": "stdout",
          "text": [
            "fashion_ddpm.pkl\n"
          ]
        }
      ]
    },
    {
      "cell_type": "code",
      "source": [
        "from pathlib import Path\n",
        "mdl_path = Path('drive/MyDrive/fastai_p2/models/')\n",
        "mdl_path.mkdir(exist_ok=True)\n",
        "# Save the model\n",
        "torch.save(learner.model, mdl_path/'fashion_ddpm.pkl')"
      ],
      "metadata": {
        "id": "xKwUFFetk8ak"
      },
      "execution_count": null,
      "outputs": []
    },
    {
      "cell_type": "markdown",
      "source": [
        "# Inference"
      ],
      "metadata": {
        "id": "T-c9bth78acc"
      }
    },
    {
      "cell_type": "code",
      "source": [
        "class DDPMCB(TrainCB):\n",
        "    order = DeviceCB.order+1\n",
        "    def __init__(self, n_steps, beta_min, beta_max):\n",
        "        super().__init__()\n",
        "        self.n_steps,self.βmin,self.βmax = n_steps,beta_min,beta_max\n",
        "        # variance schedule, linearly increased with timestep\n",
        "        self.β = torch.linspace(self.βmin, self.βmax, self.n_steps)\n",
        "        self.α = 1. - self.β\n",
        "        self.ᾱ = torch.cumprod(self.α, dim=0)\n",
        "        self.σ = self.β.sqrt()\n",
        "\n",
        "    def predict(self, learn): learn.preds = learn.model(*learn.batch[0]).sample\n",
        "\n",
        "    def before_batch(self, learn):\n",
        "        device = learn.batch[0].device\n",
        "        ε = torch.randn(learn.batch[0].shape, device=device)  # noise, x_T\n",
        "        x0 = learn.batch[0] # original images, x_0\n",
        "        self.ᾱ = self.ᾱ.to(device)\n",
        "        n = x0.shape[0]\n",
        "        # select random timesteps\n",
        "        t = torch.randint(0, self.n_steps, (n,), device=device, dtype=torch.long)\n",
        "        ᾱ_t = self.ᾱ[t].reshape(-1, 1, 1, 1).to(device)\n",
        "        xt = ᾱ_t.sqrt()*x0 + (1-ᾱ_t).sqrt()*ε #noisify the image\n",
        "        # input to our model is noisy image and timestep, ground truth is the noise\n",
        "        learn.batch = ((xt, t), ε)\n",
        "\n",
        "    @torch.no_grad()\n",
        "    def sample(self, model, sz):\n",
        "        device = next(model.parameters()).device\n",
        "        x_t = torch.randn(sz, device=device)\n",
        "        preds, x0_coeffs, xt_coeffs = [], [], []\n",
        "        for t in reversed(range(self.n_steps)):\n",
        "            t_batch = torch.full((x_t.shape[0],), t, device=device, dtype=torch.long)\n",
        "            z = (torch.randn(x_t.shape) if t > 0 else torch.zeros(x_t.shape)).to(device)\n",
        "            ᾱ_t1 = self.ᾱ[t-1]  if t > 0 else torch.tensor(1)\n",
        "            b̄_t = 1 - self.ᾱ[t]\n",
        "            b̄_t1 = 1 - ᾱ_t1\n",
        "            noise_pred = learner.model((x_t, t_batch))\n",
        "            x_0_hat = ((x_t - b̄_t.sqrt() * noise_pred)/self.ᾱ[t].sqrt()).clamp(-1,1)\n",
        "            x0_coeff = ᾱ_t1.sqrt()*(1-self.α[t])/b̄_t\n",
        "            xt_coeff = self.α[t].sqrt()*b̄_t1/b̄_t\n",
        "            x_t = x_0_hat*x0_coeff + x_t*xt_coeff + self.σ[t]*z\n",
        "            preds.append(x_t.cpu())\n",
        "            x0_coeffs.append(x0_coeff.cpu())\n",
        "            xt_coeffs.append(xt_coeff.cpu())\n",
        "        return preds, x0_coeffs, xt_coeffs"
      ],
      "metadata": {
        "id": "8cXjpZ0hipEz"
      },
      "execution_count": 42,
      "outputs": []
    },
    {
      "cell_type": "code",
      "source": [
        "model = UnetModel(in_channels=1, out_channels=1, block_out_channels=(32, 64, 128, 128))\n",
        "lr_max, epochs = 1e-03, 5\n",
        "ddpm_cb = DDPMCB(1000, 0.0001, 0.002)\n",
        "cbs = get_callbacks(nn.BatchNorm2d) + [\n",
        "          ddpm_cb,\n",
        "          BatchSchedulerCB(partial(lr_scheduler.OneCycleLR, max_lr = lr_max, epochs = epochs, steps_per_epoch = len(dls.train))),\n",
        "          LossMonitoringCB()\n",
        "      ]\n",
        "learner = TrainLearner(model, dls, loss_func = nn.MSELoss(), lr = lr_max, cbs = cbs, opt_func = torch.optim.Adam)\n",
        "# learner.model = torch.load(mdl_path/'fashion_ddpm.pkl')"
      ],
      "metadata": {
        "id": "dzZVC-oslVY8"
      },
      "execution_count": 43,
      "outputs": []
    },
    {
      "cell_type": "code",
      "source": [
        "# Trying to replicate whats been happening in Tanishks notebook.\n",
        "learner.fit(epochs)"
      ],
      "metadata": {
        "colab": {
          "base_uri": "https://localhost:8080/",
          "height": 714
        },
        "id": "C3GwDZQVkgih",
        "outputId": "3605aea7-628b-4cb9-b7cb-c6173483019e"
      },
      "execution_count": 38,
      "outputs": [
        {
          "output_type": "display_data",
          "data": {
            "text/plain": [
              "<IPython.core.display.HTML object>"
            ],
            "text/html": [
              "\n",
              "<style>\n",
              "    /* Turns off some styling */\n",
              "    progress {\n",
              "        /* gets rid of default border in Firefox and Opera. */\n",
              "        border: none;\n",
              "        /* Needs to be in here for Safari polyfill so background images work as expected. */\n",
              "        background-size: auto;\n",
              "    }\n",
              "    progress:not([value]), progress:not([value])::-webkit-progress-bar {\n",
              "        background: repeating-linear-gradient(45deg, #7e7e7e, #7e7e7e 10px, #5c5c5c 10px, #5c5c5c 20px);\n",
              "    }\n",
              "    .progress-bar-interrupted, .progress-bar-interrupted::-webkit-progress-bar {\n",
              "        background: #F44336;\n",
              "    }\n",
              "</style>\n"
            ]
          },
          "metadata": {}
        },
        {
          "output_type": "display_data",
          "data": {
            "text/plain": [
              "<IPython.core.display.HTML object>"
            ],
            "text/html": [
              "<table border=\"1\" class=\"dataframe\">\n",
              "  <thead>\n",
              "    <tr style=\"text-align: left;\">\n",
              "      <th>loss</th>\n",
              "      <th>epoch</th>\n",
              "      <th>train</th>\n",
              "    </tr>\n",
              "  </thead>\n",
              "  <tbody>\n",
              "    <tr>\n",
              "      <td>0.159</td>\n",
              "      <td>0</td>\n",
              "      <td>train</td>\n",
              "    </tr>\n",
              "    <tr>\n",
              "      <td>0.056</td>\n",
              "      <td>0</td>\n",
              "      <td>eval</td>\n",
              "    </tr>\n",
              "    <tr>\n",
              "      <td>0.049</td>\n",
              "      <td>1</td>\n",
              "      <td>train</td>\n",
              "    </tr>\n",
              "    <tr>\n",
              "      <td>0.046</td>\n",
              "      <td>1</td>\n",
              "      <td>eval</td>\n",
              "    </tr>\n",
              "    <tr>\n",
              "      <td>0.043</td>\n",
              "      <td>2</td>\n",
              "      <td>train</td>\n",
              "    </tr>\n",
              "    <tr>\n",
              "      <td>0.041</td>\n",
              "      <td>2</td>\n",
              "      <td>eval</td>\n",
              "    </tr>\n",
              "    <tr>\n",
              "      <td>0.039</td>\n",
              "      <td>3</td>\n",
              "      <td>train</td>\n",
              "    </tr>\n",
              "    <tr>\n",
              "      <td>0.039</td>\n",
              "      <td>3</td>\n",
              "      <td>eval</td>\n",
              "    </tr>\n",
              "    <tr>\n",
              "      <td>0.038</td>\n",
              "      <td>4</td>\n",
              "      <td>train</td>\n",
              "    </tr>\n",
              "    <tr>\n",
              "      <td>0.038</td>\n",
              "      <td>4</td>\n",
              "      <td>eval</td>\n",
              "    </tr>\n",
              "  </tbody>\n",
              "</table>"
            ]
          },
          "metadata": {}
        },
        {
          "output_type": "display_data",
          "data": {
            "text/plain": [
              "<Figure size 600x400 with 1 Axes>"
            ],
            "image/png": "[encoded data removed]"
          },
          "metadata": {}
        }
      ]
    },
    {
      "cell_type": "code",
      "source": [
        "torch.save(learner.model, mdl_path/'fashion_ddpm_v2.pkl')"
      ],
      "metadata": {
        "id": "iRwrMsPSrFkP"
      },
      "execution_count": 39,
      "outputs": []
    },
    {
      "cell_type": "code",
      "source": [
        "learner.model = torch.load(mdl_path/'fashion_ddpm_v2.pkl')"
      ],
      "metadata": {
        "id": "e-0lpeJ-roXK"
      },
      "execution_count": 45,
      "outputs": []
    },
    {
      "cell_type": "code",
      "source": [
        "samples, x0_c, xt_c = ddpm_cb.sample(learner.model, (16, 1, 32, 32))"
      ],
      "metadata": {
        "id": "8KtGSXEAjsnI"
      },
      "execution_count": 46,
      "outputs": []
    },
    {
      "cell_type": "code",
      "source": [
        "show_images(-samples[-1], figsize=(5,5))"
      ],
      "metadata": {
        "colab": {
          "base_uri": "https://localhost:8080/",
          "height": 422
        },
        "id": "yzQnk77ljxEJ",
        "outputId": "37d3f00d-2cb0-4d5d-82ed-92b4a2efa17e"
      },
      "execution_count": 47,
      "outputs": [
        {
          "output_type": "display_data",
          "data": {
            "text/plain": [
              "<Figure size 500x500 with 16 Axes>"
            ],
            "image/png": "[encoded data removed]"
          },
          "metadata": {}
        }
      ]
    },
    {
      "cell_type": "code",
      "source": [
        "plt.plot(list(reversed(x0_c)))"
      ],
      "metadata": {
        "colab": {
          "base_uri": "https://localhost:8080/",
          "height": 448
        },
        "id": "1OnWTheerxVu",
        "outputId": "a9fdb0be-b686-434f-99bf-f1cb4c6af5f9"
      },
      "execution_count": 52,
      "outputs": [
        {
          "output_type": "execute_result",
          "data": {
            "text/plain": [
              "[<matplotlib.lines.Line2D at 0x7e2fc869a9b0>]"
            ]
          },
          "metadata": {},
          "execution_count": 52
        },
        {
          "output_type": "display_data",
          "data": {
            "text/plain": [
              "<Figure size 640x480 with 1 Axes>"
            ],
            "image/png": "[encoded data removed]"
          },
          "metadata": {}
        }
      ]
    },
    {
      "cell_type": "code",
      "source": [
        "plt.plot(list(reversed(xt_c)))"
      ],
      "metadata": {
        "colab": {
          "base_uri": "https://localhost:8080/",
          "height": 448
        },
        "id": "Wd41Nq3ur1mr",
        "outputId": "45abfbdf-f521-4c62-c356-3390d2d9ca61"
      },
      "execution_count": 51,
      "outputs": [
        {
          "output_type": "execute_result",
          "data": {
            "text/plain": [
              "[<matplotlib.lines.Line2D at 0x7e2fc8623a30>]"
            ]
          },
          "metadata": {},
          "execution_count": 51
        },
        {
          "output_type": "display_data",
          "data": {
            "text/plain": [
              "<Figure size 640x480 with 1 Axes>"
            ],
            "image/png": "[encoded data removed]"
          },
          "metadata": {}
        }
      ]
    },
    {
      "cell_type": "markdown",
      "source": [
        "# Plotting for better understanding."
      ],
      "metadata": {
        "id": "A4MzkCs8jQue"
      }
    },
    {
      "cell_type": "code",
      "source": [
        "fracs = []\n",
        "for i in range(len(cbs[-3].beta) - 1):\n",
        "  fracs.append(cbs[-3].beta[i]/cbs[-3].beta[i+1])"
      ],
      "metadata": {
        "id": "H4x1R0g-A0hh"
      },
      "execution_count": null,
      "outputs": []
    },
    {
      "cell_type": "code",
      "source": [
        "plt.plot(fracs)"
      ],
      "metadata": {
        "colab": {
          "base_uri": "https://localhost:8080/",
          "height": 448
        },
        "id": "9jqxwOhyAvrf",
        "outputId": "141178b1-edd4-44dd-cd27-3191fb117c29"
      },
      "execution_count": null,
      "outputs": [
        {
          "output_type": "execute_result",
          "data": {
            "text/plain": [
              "[<matplotlib.lines.Line2D at 0x7eeb3ac79ab0>]"
            ]
          },
          "metadata": {},
          "execution_count": 23
        },
        {
          "output_type": "display_data",
          "data": {
            "text/plain": [
              "<Figure size 640x480 with 1 Axes>"
            ],
            "image/png": "[encoded data removed]"
          },
          "metadata": {}
        }
      ]
    },
    {
      "cell_type": "code",
      "source": [
        "plt.plot(cbs[-3].beta)"
      ],
      "metadata": {
        "colab": {
          "base_uri": "https://localhost:8080/",
          "height": 448
        },
        "id": "Nr3t7P8PBEIo",
        "outputId": "cf9dcfbb-5fcb-490f-b338-744f2e49cafa"
      },
      "execution_count": null,
      "outputs": [
        {
          "output_type": "execute_result",
          "data": {
            "text/plain": [
              "[<matplotlib.lines.Line2D at 0x7eeb38ddce20>]"
            ]
          },
          "metadata": {},
          "execution_count": 24
        },
        {
          "output_type": "display_data",
          "data": {
            "text/plain": [
              "<Figure size 640x480 with 1 Axes>"
            ],
            "image/png": "[encoded data removed]"
          },
          "metadata": {}
        }
      ]
    },
    {
      "cell_type": "code",
      "source": [
        "plt.plot(cbs[-3].alpha.sqrt())"
      ],
      "metadata": {
        "colab": {
          "base_uri": "https://localhost:8080/",
          "height": 448
        },
        "id": "_bk9GnBhBLc1",
        "outputId": "119bf2a4-218d-469b-d96d-764b123d4fe8"
      },
      "execution_count": null,
      "outputs": [
        {
          "output_type": "execute_result",
          "data": {
            "text/plain": [
              "[<matplotlib.lines.Line2D at 0x7eeb38cd9ff0>]"
            ]
          },
          "metadata": {},
          "execution_count": 26
        },
        {
          "output_type": "display_data",
          "data": {
            "text/plain": [
              "<Figure size 640x480 with 1 Axes>"
            ],
            "image/png": "[encoded data removed]"
          },
          "metadata": {}
        }
      ]
    },
    {
      "cell_type": "code",
      "source": [
        "plt.plot((1 - cbs[-3].alpha_bar))"
      ],
      "metadata": {
        "colab": {
          "base_uri": "https://localhost:8080/",
          "height": 448
        },
        "id": "f2rn5pF1Bk5k",
        "outputId": "fed8e8e1-c3a1-4c49-d6e6-f5b553272700"
      },
      "execution_count": null,
      "outputs": [
        {
          "output_type": "execute_result",
          "data": {
            "text/plain": [
              "[<matplotlib.lines.Line2D at 0x7eeb38c13850>]"
            ]
          },
          "metadata": {},
          "execution_count": 28
        },
        {
          "output_type": "display_data",
          "data": {
            "text/plain": [
              "<Figure size 640x480 with 1 Axes>"
            ],
            "image/png": "[encoded data removed]"
          },
          "metadata": {}
        }
      ]
    },
    {
      "cell_type": "code",
      "source": [
        "plt.plot((1 - cbs[-3].alpha_bar).sqrt())"
      ],
      "metadata": {
        "colab": {
          "base_uri": "https://localhost:8080/",
          "height": 448
        },
        "id": "gu6irEp6C6xx",
        "outputId": "76796a39-a910-469f-8008-43005415974f"
      },
      "execution_count": null,
      "outputs": [
        {
          "output_type": "execute_result",
          "data": {
            "text/plain": [
              "[<matplotlib.lines.Line2D at 0x7eeb38ab8a30>]"
            ]
          },
          "metadata": {},
          "execution_count": 29
        },
        {
          "output_type": "display_data",
          "data": {
            "text/plain": [
              "<Figure size 640x480 with 1 Axes>"
            ],
            "image/png": "[encoded data removed]"
          },
          "metadata": {}
        }
      ]
    },
    {
      "cell_type": "code",
      "source": [
        "plt.plot(cbs[-3].alpha_bar.sqrt())"
      ],
      "metadata": {
        "colab": {
          "base_uri": "https://localhost:8080/",
          "height": 448
        },
        "id": "Q6G_ywOhC_Fw",
        "outputId": "15dbb619-5671-4de2-cd04-4566d42381e3"
      },
      "execution_count": null,
      "outputs": [
        {
          "output_type": "execute_result",
          "data": {
            "text/plain": [
              "[<matplotlib.lines.Line2D at 0x7eeb38b0fb80>]"
            ]
          },
          "metadata": {},
          "execution_count": 30
        },
        {
          "output_type": "display_data",
          "data": {
            "text/plain": [
              "<Figure size 640x480 with 1 Axes>"
            ],
            "image/png": "[encoded data removed]"
          },
          "metadata": {}
        }
      ]
    },
    {
      "cell_type": "code",
      "source": [
        "o = cbs[-3]\n",
        "dist = []\n",
        "for i in range(1, len(o.alpha_bar)):\n",
        "  dist.append(o.alpha_bar[i - 1].sqrt()*o.beta[i]/(1 - o.alpha_bar[i]))\n"
      ],
      "metadata": {
        "id": "wg94OA5ZDSG9"
      },
      "execution_count": null,
      "outputs": []
    },
    {
      "cell_type": "code",
      "source": [
        "plt.plot(dist)"
      ],
      "metadata": {
        "colab": {
          "base_uri": "https://localhost:8080/",
          "height": 448
        },
        "id": "lGIh7pdeEo6g",
        "outputId": "d996cc66-83de-4d3e-d96a-67b9438fbdaf"
      },
      "execution_count": null,
      "outputs": [
        {
          "output_type": "execute_result",
          "data": {
            "text/plain": [
              "[<matplotlib.lines.Line2D at 0x7eeb3899db10>]"
            ]
          },
          "metadata": {},
          "execution_count": 32
        },
        {
          "output_type": "display_data",
          "data": {
            "text/plain": [
              "<Figure size 640x480 with 1 Axes>"
            ],
            "image/png": "[encoded data removed]"
          },
          "metadata": {}
        }
      ]
    },
    {
      "cell_type": "markdown",
      "source": [
        "# Error Fixing in Generating Sample code\n"
      ],
      "metadata": {
        "id": "tof8z5sWjZSn"
      }
    },
    {
      "cell_type": "code",
      "source": [
        "learner.model.device"
      ],
      "metadata": {
        "colab": {
          "base_uri": "https://localhost:8080/"
        },
        "id": "Rt_QhkqnEpy7",
        "outputId": "967b3bd9-0da5-49be-a59c-0cd38d388758"
      },
      "execution_count": null,
      "outputs": [
        {
          "output_type": "execute_result",
          "data": {
            "text/plain": [
              "device(type='cuda', index=0)"
            ]
          },
          "metadata": {},
          "execution_count": 35
        }
      ]
    },
    {
      "cell_type": "code",
      "source": [
        "x_t = torch.randn((1, 32, 32)).to(model.device)\n",
        "x_t[None, :].shape"
      ],
      "metadata": {
        "colab": {
          "base_uri": "https://localhost:8080/"
        },
        "id": "WCdGAbbgJf3i",
        "outputId": "ee022d26-08b7-495c-e432-b3d1bf7ba562"
      },
      "execution_count": null,
      "outputs": [
        {
          "output_type": "execute_result",
          "data": {
            "text/plain": [
              "torch.Size([1, 1, 32, 32])"
            ]
          },
          "metadata": {},
          "execution_count": 36
        }
      ]
    },
    {
      "cell_type": "code",
      "source": [
        "!pip install tqdm\n",
        "from tqdm import tqdm"
      ],
      "metadata": {
        "colab": {
          "base_uri": "https://localhost:8080/"
        },
        "id": "uuR-BSgpMqWr",
        "outputId": "53b9f539-5efb-4c54-dc8a-a6b8b722b87a"
      },
      "execution_count": 55,
      "outputs": [
        {
          "output_type": "stream",
          "name": "stdout",
          "text": [
            "Requirement already satisfied: tqdm in /usr/local/lib/python3.10/dist-packages (4.66.1)\n"
          ]
        }
      ]
    },
    {
      "cell_type": "code",
      "source": [
        "@torch.no_grad()\n",
        "def sample(model = learner.model, cb = DDPMPrep(), out_shape = (16, 1, 32, 32)):\n",
        "  preds, x0_coeffs, xt_coeffs = [], [], []\n",
        "  n_steps, beta, alpha, alpha_bar, sigma = cb.n_steps, cb.beta.to(model.device), cb.alpha.to(model.device), cb.alpha_bar.to(model.device), cb.sigma.to(model.device)\n",
        "  x_t = torch.randn(out_shape).to(model.device)\n",
        "  for ts in tqdm(reversed(range(n_steps))):\n",
        "    t_batch = torch.full((out_shape[0],), ts, device = model.device, dtype = torch.long)#torch.stack([torch.tensor([ts], device = model.device, dtype = torch.long)] * out_shape[0], dim = 0)\n",
        "    noise_pred = model((x_t, t_batch))\n",
        "\n",
        "    z = (torch.randn(x_t.shape) if ts > 0 else torch.zeros(x_t.shape)).to(model.device)\n",
        "    alpha_bar_t_1 = alpha_bar[ts - 1] if ts > 0 else torch.tensor(1.)\n",
        "    beta_bar_t = 1 - alpha_bar[ts]\n",
        "    beta_bar_t_1 = 1 - alpha_bar_t_1\n",
        "    alpha_bar_t = alpha_bar[ts]\n",
        "\n",
        "    x0_hat = ((x_t - beta_bar_t.sqrt()*noise_pred)/(alpha_bar_t.sqrt())).clamp(-1, 1)\n",
        "    # ᾱ_t1.sqrt()*(1-self.α[t])/b̄_t\n",
        "    x0_coeff = alpha_bar_t_1.sqrt() * (1 - alpha[ts])/beta_bar_t\n",
        "    xt_coeff = alpha[ts].sqrt()*beta_bar_t_1/beta_bar_t\n",
        "\n",
        "    x_t = x0_hat*x0_coeff + xt_coeff*x_t + sigma[ts]*z\n",
        "\n",
        "    preds.append(x_t.cpu())\n",
        "    x0_coeffs.append(x0_coeff.cpu())\n",
        "    xt_coeffs.append(xt_coeff.cpu())\n",
        "\n",
        "  return preds, x0_coeffs, xt_coeffs\n",
        "\n"
      ],
      "metadata": {
        "id": "-Ert49UlEtt_"
      },
      "execution_count": 71,
      "outputs": []
    },
    {
      "cell_type": "code",
      "source": [
        "torch.full((16,), 23)"
      ],
      "metadata": {
        "colab": {
          "base_uri": "https://localhost:8080/"
        },
        "id": "5KDMtsDsu5z4",
        "outputId": "502e56f1-e89a-4ed4-e0cc-a58c994c3706"
      },
      "execution_count": 68,
      "outputs": [
        {
          "output_type": "execute_result",
          "data": {
            "text/plain": [
              "tensor([23, 23, 23, 23, 23, 23, 23, 23, 23, 23, 23, 23, 23, 23, 23, 23])"
            ]
          },
          "metadata": {},
          "execution_count": 68
        }
      ]
    },
    {
      "cell_type": "code",
      "source": [
        "learner.model = torch.load(mdl_path/'fashion_ddpm.pkl')\n",
        "out = sample(model = learner.model)"
      ],
      "metadata": {
        "colab": {
          "base_uri": "https://localhost:8080/"
        },
        "id": "zlTlfILtL9tx",
        "outputId": "6afc1ea2-3c18-469e-9a54-6b04284e8c71"
      },
      "execution_count": 75,
      "outputs": [
        {
          "output_type": "stream",
          "name": "stderr",
          "text": [
            "1000it [00:30, 33.14it/s]\n"
          ]
        }
      ]
    },
    {
      "cell_type": "code",
      "source": [
        "show_images(-out[0][-1])"
      ],
      "metadata": {
        "colab": {
          "base_uri": "https://localhost:8080/",
          "height": 961
        },
        "id": "l6ZHyi2hL-rU",
        "outputId": "5a822980-5aa7-4294-fdd0-8236b7e4db85"
      },
      "execution_count": 76,
      "outputs": [
        {
          "output_type": "display_data",
          "data": {
            "text/plain": [
              "<Figure size 1200x1200 with 16 Axes>"
            ],
            "image/png": "[encoded data removed]"
          },
          "metadata": {}
        }
      ]
    },
    {
      "cell_type": "code",
      "source": [
        "plt.plot(list(reversed(out[1])))"
      ],
      "metadata": {
        "colab": {
          "base_uri": "https://localhost:8080/",
          "height": 448
        },
        "id": "m8ZM9NGWNeCh",
        "outputId": "7ef8fa55-0b42-42f7-e8ac-358358488829"
      },
      "execution_count": 63,
      "outputs": [
        {
          "output_type": "execute_result",
          "data": {
            "text/plain": [
              "[<matplotlib.lines.Line2D at 0x7e2fc83086d0>]"
            ]
          },
          "metadata": {},
          "execution_count": 63
        },
        {
          "output_type": "display_data",
          "data": {
            "text/plain": [
              "<Figure size 640x480 with 1 Axes>"
            ],
            "image/png": "[encoded data removed]"
          },
          "metadata": {}
        }
      ]
    },
    {
      "cell_type": "code",
      "source": [
        "plt.plot(list(reversed(out[2])))"
      ],
      "metadata": {
        "colab": {
          "base_uri": "https://localhost:8080/",
          "height": 448
        },
        "id": "S0Z26o-iNnLB",
        "outputId": "b26b2de4-7b78-4614-f913-211bc5df42db"
      },
      "execution_count": 62,
      "outputs": [
        {
          "output_type": "execute_result",
          "data": {
            "text/plain": [
              "[<matplotlib.lines.Line2D at 0x7e2fc846ff70>]"
            ]
          },
          "metadata": {},
          "execution_count": 62
        },
        {
          "output_type": "display_data",
          "data": {
            "text/plain": [
              "<Figure size 640x480 with 1 Axes>"
            ],
            "image/png": "[encoded data removed]"
          },
          "metadata": {}
        }
      ]
    },
    {
      "cell_type": "code",
      "source": [
        "samples = out[0]"
      ],
      "metadata": {
        "id": "-3m7TqBWwWcd"
      },
      "execution_count": 77,
      "outputs": []
    },
    {
      "cell_type": "code",
      "source": [
        "%matplotlib auto\n",
        "import matplotlib.animation as animation\n",
        "from IPython.display import display, HTML\n",
        "from fastcore.foundation import L\n",
        "\n",
        "fig,ax = plt.subplots(figsize=(3,3))\n",
        "def _show_i(i): return show_image(-samples[i][9], ax=ax, animated=True).get_images()\n",
        "r = L.range(800,990, 5)+L.range(990,1000)+[999]*10\n",
        "ims = r.map(_show_i)\n",
        "\n",
        "animate = animation.ArtistAnimation(fig, ims, interval=50, blit=True, repeat_delay=3000)\n",
        "display(HTML(animate.to_html5_video()))\n"
      ],
      "metadata": {
        "id": "1oNi3zNWNpI0",
        "colab": {
          "base_uri": "https://localhost:8080/",
          "height": 339
        },
        "outputId": "d50e72af-ada7-44a3-ff0f-992c4c5ed84c"
      },
      "execution_count": 78,
      "outputs": [
        {
          "output_type": "stream",
          "name": "stdout",
          "text": [
            "Using matplotlib backend: <object object at 0x7e31bb7a7660>\n"
          ]
        },
        {
          "output_type": "display_data",
          "data": {
            "text/plain": [
              "<IPython.core.display.HTML object>"
            ],
            "text/html": [
              "<video width=\"300\" height=\"300\" controls autoplay loop>\n",
              "  <source type=\"video/mp4\" src=\"data:video/mp4;base64,AAAAIGZ0eXBNNFYgAAACAE00ViBpc29taXNvMmF2YzEAAAAIZnJlZQABm2FtZGF0AAACrgYF//+q\n",
              "3EXpvebZSLeWLNgg2SPu73gyNjQgLSBjb3JlIDE2MyByMzA2MCA1ZGI2YWE2IC0gSC4yNjQvTVBF\n",
              "Ry00IEFWQyBjb2RlYyAtIENvcHlsZWZ0IDIwMDMtMjAyMSAtIGh0dHA6Ly93d3cudmlkZW9sYW4u\n",
              "b3JnL3gyNjQuaHRtbCAtIG9wdGlvbnM6IGNhYmFjPTEgcmVmPTMgZGVibG9jaz0xOjA6MCBhbmFs\n",
              "eXNlPTB4MzoweDExMyBtZT1oZXggc3VibWU9NyBwc3k9MSBwc3lfcmQ9MS4wMDowLjAwIG1peGVk\n",
              "X3JlZj0xIG1lX3JhbmdlPTE2IGNocm9tYV9tZT0xIHRyZWxsaXM9MSA4eDhkY3Q9MSBjcW09MCBk\n",
              "ZWFkem9uZT0yMSwxMSBmYXN0X3Bza2lwPTEgY2hyb21hX3FwX29mZnNldD0tMiB0aHJlYWRzPTMg\n",
              "bG9va2FoZWFkX3RocmVhZHM9MSBzbGljZWRfdGhyZWFkcz0wIG5yPTAgZGVjaW1hdGU9MSBpbnRl\n",
              "cmxhY2VkPTAgYmx1cmF5X2NvbXBhdD0wIGNvbnN0cmFpbmVkX2ludHJhPTAgYmZyYW1lcz0zIGJf\n",
              "cHlyYW1pZD0yIGJfYWRhcHQ9MSBiX2JpYXM9MCBkaXJlY3Q9MSB3ZWlnaHRiPTEgb3Blbl9nb3A9\n",
              "MCB3ZWlnaHRwPTIga2V5aW50PTI1MCBrZXlpbnRfbWluPTIwIHNjZW5lY3V0PTQwIGludHJhX3Jl\n",
              "ZnJlc2g9MCByY19sb29rYWhlYWQ9NDAgcmM9Y3JmIG1idHJlZT0xIGNyZj0yMy4wIHFjb21wPTAu\n",
              "NjAgcXBtaW49MCBxcG1heD02OSBxcHN0ZXA9NCBpcF9yYXRpbz0xLjQwIGFxPTE6MS4wMACAAAAW\n",
              "DmWIhAA7//73Tr8Cm0WXagOSVwr2yqQmWblSawHypgALkWM0hT7MmDcDAac0bJy9X04ACwQ/XE9Z\n",
              "HhoG9QMIxBtXuv3RZTweXBd5UuO3Hw5qXYMz3KTiL5hINOFFzH5BAV/D33oaP82HJNvzMKwvbGH2\n",
              "MGc3waDabZQIdIE18Pk6LQGFd6iqkdA8f3pbar4g7+dM/MGm+O0jHToFFA6DJFilEpuRjdavSA0R\n",
              "xkKtJQzOWOr/uiyWxJ9FKzWwj5dzh21huFOUBwWNNJDkEkddWMyKWVwoQZZmw9XM2QiXpHhO9yMK\n",
              "Pl/J4RXCCY3WrV5hB2iD9lb4go27kTW+pZM7ZmLol2yEAiu5DM6nHtlMSVIz7B47gyoTAsj45z+y\n",
              "swtYXias6kzlx89q9Gntj4V2eKquzGq8o2B+mm3T5DMjAqFlrygwVhOYaVQnheSARGFSVyhaVg4t\n",
              "uq2RUyDiyscBmSuo0/xe3HFcZGaPv2HLUidj7iXrI22VAlP4755lUu5dMml2qTFImTm/zS3MYbYN\n",
              "/WK1W2mWpGEgrdwHDS0YvA5hZwaClQkArXHUFrBNbPmmOtbcgofw2f/sl2czkUhvm+HEzMujMqIi\n",
              "4ifi5rxQmSZKzTe1frocIaYoh6E7Wkid2JGT3c8G24X8yGvMRl+nQKNGvHN1GYAhjvkEJTBTtTgl\n",
              "PbcN/rwwvwJKdMvfW8d98jkpIE2ARpjl920AgiHPArNlR3NIthal+EZ9uILIhhdht1Pa82TGBH43\n",
              "UsD+M57XoNKsafhrusS0HWk6g9MMZ4FshrxQjpgi0ngq69DfL/j4C8/TdDJvcSxCnyLwrWAzVOZc\n",
              "XRAgGhReIFsflY18ivLIQS/yjHvwnhs5zP4UmkSUOqhZ8raAX2OTS0CnD6/XeDjHLSMicSckoCdS\n",
              "vtKMQp+6STSfRqLish2OVn4XN+OlRjUzb3oeBBhTZvFibyjexzCO+1u9iZbmdJvuRDd+nv8O6mhD\n",
              "NrSHsNialkEkx/gjOvYuSKOCm0vUS+hDvWb5Jyh9bFNX3yPVD7g2Q4LoHRUr3SolKBXvS3dlrwQk\n",
              "qP+HcEmL3f2fW9vC7BIUJWe7IBOqqiRgqTrVeFpiVAm/Ht8Nf9gyYWOhXU6fb0GX868KFLtG7OhN\n",
              "2URAT5gDOw45Rg7/+XHMlblQhkZti38bUZJAtCAX8Ecc8Wt5SQJWGHZJ9QoZMq/4BmRoaPUfyVDh\n",
              "Irr+SHRVPVSeC2szGSWLPADeWp8z1HR4Qh5h/lVU0P3skHXxe6ELuX7yd0m+QavasBR2gWoT1COT\n",
              "17KxnXZtOCdyeyWOqE0wr6R9RZ3hqIcXf6PTHu4prONzXXvkm1f/tLdAbNiuDo9jU8wjxxWQPgIe\n",
              "DmRewaLFa8CZ8Pij0ZEotpTU50DC9nZH/InF+Q+T6T+QjU4+1TA6mJyNT+wcOvdwa1vn1n1e8fpZ\n",
              "Hk2dd0Y8Yn6bfQ4bs0JcBlWHmkmuEaYhhuKxncae5pNURNUaDVEzUCbLmolXL7ZapVhC5OiXOCbS\n",
              "higvLz3qbgRRWVvROH5LTW28+wFgsYF5gZ1LRzRmFV/3ZDpu6iGbHy+7j1IudvKVHgKWmSQkdF6A\n",
              "4jrOtMVt5s4SJcSc+7Z0yyrBsfmoV8MBRZg6/VgJmroeeYathcrDQA5CSIV8SUw0rtBJLD1dkph5\n",
              "tpBN2CZmamBfvGJ44Oa5bTBx44eUYw0rl2ILaEvUfPBXkVaNrV0aT8AH4dM1NiiPWIAjvFbWS6GQ\n",
              "sWcAuzrsFlkkztS5mSR4C3mr+GW9+NocNooNJI+uuNm7ibjoFsz21nHiizoioAZZ3ctLAGArTPX2\n",
              "7GDb8rSKHMI8eCejEXOeTFsl1BQ9+lx6jPCIsnw7Pl+4hrGRIxVIRLstT3AEAApth1xG+pswR3LL\n",
              "dbzkZMi4D0ESSjRbJCFQ9nAfUZ47NQIwSjzCTeWe0U33BMRs1rYLnahzD+xA+viCcoOeondMdLi2\n",
              "p5JCQdlirh2yky455rwq1CAHcEs3vGAG1gKPy0CbX3uVk0kG3kH2WX4N2nBHiild5CrGG3bL2DIw\n",
              "fVXiZJoiMTshSql90omPSrCQKzcfw4NqiNBpEAOCObLuqUL4QFZHvVJ7f52A7n8+uvszsW66kzyZ\n",
              "dCZNv/KaaH9j2KGk+SHgAahqVpEs8qxe2zu8FPVHLxt7tBgLLjNimPcZi5jBpbqibTsCtNzifn2e\n",
              "1+HTGQe6vPFDz7ZheIzp/xQDATwHmFhdkM7T5wM4jiH/6mytwTukzX6bDC6eTtcnCqC67/4a23xM\n",
              "pzYSottSn+YKibXP4NDk9sdGidKV8c0FAMMIO6nYyRsgislY1MC6/gdlYqJqcZkTyoKc2nJwDWsR\n",
              "lcI8h5jYi8VfNGL/p7a+puA5BNmnZtZ83sG1vqM2AH9s6R9TuCvTxL6w/4iQepV2YjLnOOu0uUPP\n",
              "Fc/LzLZhDHoIrC0NFoZN4WUcIZiOQl51rpHJ6VQU+8qhEwoGj2/DRdXL/fTERw9F8k8uSU0P3LiD\n",
              "po53bJcHclHQievXuoSaVuWSY2EdQMQ4se5Hxn4rStbIuh2/Iani+r9pgYPURZOHVwmEqy+M62fL\n",
              "INDB7OtPVWJGipbXhou49LV9SDYMzYQSfXDLOPoQpBmfRMgtvqi8gTOpKqLGyDRxOtqdew3dElYW\n",
              "/dNrEb1euS1NYbSV2WP4D1i5zuG7Nuxd6ALzBsBMnAqpv0T8lT0FlVePR2k45swVPzvRJc+YoFSD\n",
              "5dO9RD2r08Uv3Hqf46zK526RtzAaTt/nUFS5davIQ7OyxGQaaho84GEfznF1wn7/uIDEZUgmBsoy\n",
              "f8zVeOa7YGol5q/hhybo9xtUSo4hGJ3PO5w6e/3TuL+iL/q+u4KJ0FyKx6g7fOTU8yzOElKjxQPQ\n",
              "oGjEx8saYr+zSfHn1kLzb7eGl9iLRWoVOoUYAadXY4o/+Hu/7fT6W4S27TLsBNlWkF4XNGg7eZDd\n",
              "FfKrSqMgchZ9LvgzaHXal5iWJ9eywRIWAOEUwj2uMh3lOlRVcXRcB2e5e1BfrexdejehEDeGQES5\n",
              "z/my1c5vT6zCAUU16TjuIPfX3FHZyo2dOJS3tbkhJwTT0dbDjsRsA4q4F/X/02MwJxxQHiPZCjkU\n",
              "6gxHejv5KL212w6UH1VZN9wBDW7UBEIvxmmMhFM0Zj3AuFCkZHb+EGtV18XuaWV4KAgYDGCTYvTu\n",
              "Iu1PIoWL9YbkySEVhxBbSkg2CgtGU1sYNoEdKqDWUp7dPQ/bL91rh7X6EXgUCcr8ifq0nEpaoN+Q\n",
              "4zqeNrLgEmwS9CRACC8EmCkRiSCPN8Cbgl+Fg0R5mpeCidc7DDlTjpsU2QoHDQDWb+7jyj3+k65W\n",
              "rbWJIqiAP8HRa4mRQOknxhhTjF4ILhDk5NDRzscc/AEzCWU68CY/ihw8v4XACWghhyGQN5cjgRs/\n",
              "Y06xLlC6/6XaBiQFxGURUTSHheM3FEqAoX0ZeND6xGgVJoiIqhtzwX/dGfx9xf1WAW+Q71lbxRSa\n",
              "WloEQTm/V3hxVNSf32547yMsDsZwYn+iuoYVGxupUHIsfN5QlOe5pGf9krv17c60ZNvEwX34JnDc\n",
              "5TNp/QlG/Hnf1FNFLFF+fC2CRq9cl6XTJFAAiG/xcRRO+aAROSlha/w1k+SkLQzFLYHBrxAEgxyI\n",
              "21AZVCdweCWPbupE7muQlobwnRAaRCKGn+FB6msT92sGQI/tWpeFFLCcXPFIV/u6WcTA26igav27\n",
              "//83mFxISnq68O+onwFvk2vc4Sa/coWyf5asriZdtRctvri/qaA03H0lkXyJb1NuGDlvcmaurzSg\n",
              "JVmvbMAnjRsTwpIJnnoHBC2OEJnRnL8JB/qedjDttz0dCdzkKQSsq+0nUzqe4Z428lHAKba54stF\n",
              "ezFKiUN7mE6a+9DgiLX2i0VGeEof1KqH476G6UxwL8n1rkyAuNEQUGVV0YeNr+zJsAQ6SNgQ3oEK\n",
              "gDJOch04zvufB5xL5PNZt9oDmplK6xX2JAKBzcbnS+RfZLfzzlmPk6brnTT0abh0gLbIWKPoxqAw\n",
              "KcGFueKt4kX3gr92jVADuaKd2EU8GYjgK+cTwmIayyY+ms3+zM7gaiFb1kuxgsj8kf9SFLDccN4H\n",
              "Y9+I7duG7yM3oREQ/FUtLyLn3QfQrjMTJ6R2PS/cdChZayKx5W2CCOze+PTN8hdIuFZGyIFdmH/X\n",
              "8dXLJHgJCxbJJBdy5wNHvc6ZZW8jcyClNFb+/y1EKXfn38Yn/fXq13KqAD5hb1XY+QVLOW3fjjTz\n",
              "M78Kj4P3FnzhEnpIARUNyta+JaAJwJGN+Y+PIMMWy02nkjlHcHII8RqMUyc9dE7SZ4QCr/t9XFTw\n",
              "HN6rf+EsfzySsDH44HRnia0bxAiBfQXfcDuYE7Ym8+vDJvoq9zDwX7I722+1Y1ys1TyPV5GT9eiC\n",
              "yle8Q4loiteMYUSmUJ+6QO0RQXVv7a0VCXBeDosDg111XGlYPjtDBW1EGUm7lmlwtIMp//02jem9\n",
              "rqGYgJM7CfRLnYUElcqK2jYZ9qFt02ipeODbEei8YWMhlPzo/pvZJN6NBIeVH6GASSvg8EeFMfjj\n",
              "mzQ2Qhv20gzGjBCij6IV8dhDzpNXIUtSvqfvNhbuVziA1DV6K5ou3ozD6NLhunZKiLsnBgMHo577\n",
              "1x3UvpVfmnRuA4RBIT5NTmzG/bkPy3rPPMTNSkjegSaUwxsJSm88l9YJphy+hT4UV85i4WCCxbg3\n",
              "1fuUT3r4gxIvFbYmXqjlhTSgTn5BQ0rBIvLmobP0587FmFbq1YpUVnoH5KIy77W8nSe0SHubcV3k\n",
              "2h04s5mXdcneWNrEB0hVJ3oJc1nDyEv8D/OhJcKfYRRRYKLMGIfYKklMX6rnZmk7SKLIretfoBpK\n",
              "sq7WYIk3vvNiIlhg/+w1pP/LVR8npaqGo2NZNj1q+g+gHUuGKzCS0SMmaoWOgG23VqFI98e0f6yI\n",
              "v1GGO+r4wiISnxNh7EgoR94ZqI+9qPLJPLzBJ5hOsHuhjzi5y6w3bHGLWvon4fNM+Tam21Eq7H7h\n",
              "JVBZFoIesoJ2ygdxA8qEBthcnQlNW07PRR/XzBK2Sag95PV18zraeo2vETNjexIzA3N8EI4JOxAc\n",
              "Ts3/RnMlpWhtzNSDGR/C+/TkOxEArpOQhFCF7yocyWZ+q0fFzauhBAJD/NcZKdPMSlz/iAzs42x9\n",
              "aXNgFy/iprBE4TrsWKyfylEChZYL4okMrBgf0gwRseZr45CQ+TpYzadNN5HDRtw7dLvokx95/OME\n",
              "vj/UPwmOcebgXuAox+B9Hox6rFSkubHVoC5TcGMFzHX865nSk2geVY9DUum8qzE879HPBpMG7Zjw\n",
              "BPGraIlqOxhgYMVGMpSK2oQy3xdzT8PQRddlMV9zSqgNuaSW4Pmje9zUd2ptB67lDBSpLmjIhPmS\n",
              "EzXjAX0uURD8uVgKldMTQ+sups3QynOl6FtHoqIGSOOgYIPBtvzuQpIlA+rewrg/OxS0y8LJ9c9T\n",
              "zjpviFPzVMv2CBU2N7466ugX7yLgr/4kZpEcG0yFyZESpiy4yYjIXgdPzLtN/r4T3yppf7+WInf8\n",
              "ZIN8ifElq0ZHKVI/WQsDJBLipYeQH2J+0N1lBSWVrPpY8FHYraaO/JbBRT4uf/wsiev7rzfcIjPN\n",
              "eu7xVWb/QlcCWSjjLjAR1pQTgI8YDewPoordBYJV10WSIDEEpEeo0u6iu7MxiqwuDgYhAJNNbJEs\n",
              "FOLobdp5M3Iser7+IL0Y8ACtReyDoTDcWiB03wQfh/5cqKzNYP3i1+wZ34IIjiLMcViW3++rjjDw\n",
              "EZ+lHcr53Bt/kKEeLBegiVVXPE88XvqKtPlpvrKsj5VDfNRnjm5gOkBvgpkmtyTu30rO5Jv4/a6H\n",
              "bgxB9slH/oldm0h3sd29kjUNpWwVHqV1+/WwRou8pYEuFEwTJLYX6MDHJisVUn1JO34FjJn/K8gz\n",
              "ln6BSR18e+hti/zKxmUf/baY9kcta1B/miX8ek//QEXPSZpyjnhKwMsgj3vDMXSxdPSYoYXQHDmp\n",
              "iFXVoIoeZVomxUR8pASPsj614Th/zOdzaqDmMujzL7p1Al8Xb0DUwpf372Z5a9PlZ457CPU94P2q\n",
              "Bz1OsiC9YmxX3jMmV6ZN7ikUhIbFWPSHBFnpv9K5HoKIO7LSYF8FUrlmWaUG8csI3ZsZtMG6+MAr\n",
              "WSPpQwSDS0nrSmw4/ijy8N6k+Kybcikdhvl0dvpFWJYe0a22ovhGj74pLVwwe5+GiDUcnmNiH7MX\n",
              "XjiawIJ6UMOvJBNmr3VZc4IFI0ZEQ+864Ken19qXuuUfHgtcUKUrYSdYlJH+uac4L0HWH2aIE5j5\n",
              "2Cr8oab8vscDtzIQJks9aAk1D6A7D/NWcmaFzIqNofuWejk+7DDCJ3J7QNZN/7FZWegr05OPuTQh\n",
              "UDe3Vs3//7K39PkcEc4YuYcNZr5b4xzH2IWRLSXUC5pbGfVDXWKtLKKRlUrhnV06ePWePx+PZIJs\n",
              "QfbP5oSYzdp40gYazyg8Yp8gygz23iBRPv4oXhqCc7vjxg3Fw+hh3ttiaYr7KuzoE1pgh8hVXQii\n",
              "kKfe3fQw8p+wB4Q8Q16hTCWQfSBVTCqIAPlW5Ve1+tAO4JMtSVee0J4s1GNBNsP4HHiL40RdpJ6V\n",
              "qwIb8PJrM6GOTMWDGuTUcaLjiiE3PxBmv+NK+5OwsDKpjrKDxUojTSH4q0n3jBvqDbZPO8pqRZqa\n",
              "SM2o/3bOBRwY16/0PLYzG49WsHkHvSyhkKqnsK1ZcKeKHTuFlL+NydEp8e3V0DjmKQN8tDVhRIKz\n",
              "FooNiav2ets5N+iFCIYjD6Wil9bV/IBICS1UScdEi/RmNrNznhU0IUYyN3lacDPjf6w/A/9D8s17\n",
              "TfHmywYw0WD0YNuLQHXCnIiMQJ7rX/VfARUIuNQWNw/uIcOky9QuyAJEBu4cG/IdTq+n61jWsB+o\n",
              "+5Xj2Ij7CxA/8CNU+LeHMHNHp/AHlxfJDB/RSyuRfwroWEQj9WFhnqRyWYA2/fQHj8e4w0aUCQw5\n",
              "vunBktPKapyHLzTyxyArzs/nSfOc6OEzVQsUiJSLuK0WGoc2mQ1gElWUD6NL5zuBheRiIU64zw3/\n",
              "2WPzj5+BBFxs8Z/rHQ1LMFoYfdjjKu4wRSezmn3a8Mv1geYgQ+0SgN0p7edyfffbFSpeLwFQ9ePg\n",
              "qDaDaMww6w9mlnH4/7fSTyCu3dVW/WdPGpSeI7mjHUseghSrB5087osrkCl4w2gZ+amM3PMhLAUZ\n",
              "oNynwBcbLBxeCg3yI5onPxDaDLRSkW2rkmPXUGf5OC/wBPmU1w6QMEnkNUfxXpsSHEJBStk0x8vV\n",
              "Muw6Rv9GZaorkLeVFNkgegxs9muv98CiX/yKe+vMUJG9iclTERyuq/H2fkgnEEUFRsJcvXdPyAQc\n",
              "iTnQQTOkOCRrOPxMLSgFq5v/PNLMPBimFHd12vk8+yMfJeEzWxyUil7ERas9TgD5hK4S+HFSqC64\n",
              "Di4+G3rjE6izjF8KyYXlsNOw88/9I7+bLGn/GBQGksbDi6MRXkSqwWRtFY4A2icT3MMMRANqAUAA\n",
              "AAMBkwAAD7RBmiJjYPhxDv/+qZYD9gJgCPkUZb3RGUU8GAHUooGbzu/UDljxp5WKD6FKG87//CVq\n",
              "2u+SiPGOpV2wyd2L1A148Rh0Byalx8k1Y0CBVzCOfvkE6nKJVJxvUCy5HVxQcE/Gk7HtV/kpRPC6\n",
              "Y8Py9JeV/WYkfamZOWKHiwlf+gko9y0xU5GYGqkQprufDD8xxUMq7Z/ocsVQAlFVRAbqc92+H2ew\n",
              "tGAwLU1Cg+T4NkBt2lepOTI5oF56FJvSv/8L1gxc2HV/Q2zSHy6WqlUbVRdDwKSiZZQMhM0r5hPL\n",
              "lshlyOtNTvc2JSqI6/9+OQkex4jEaFjT36wraohD9ZTDB6DYdjbxJT1wEVjqQvrYPibFy+V0pwSz\n",
              "tOP+mGkRgrSm8cCnrdHSuqw8bXeJwWYwOTue9Xxhns76Z3oj8v6aOO5wwomqfUgT7Qf5Wap0OHGS\n",
              "J1tOG0hNoNUJiaftUNEHAhEa+i8eRkPDVgL5shQWbgJubsP4ck5xwQCoK7Gvm3I+Q3p5x8CIOUG/\n",
              "K61xd2cxTv7kKVnm7tiHP2k6Fl5MxQG6s59f/O65KHTu3Tn+6058UuRSzM/RQtUEJ8Ubu7mwfE5W\n",
              "cWnTZDP4AxLzx9jqq3yfgJcQKB+pgcGZVTmAIjz4SXlrqN0UqI2mb2NlB2U1OhvjuJ3tPQirBe7L\n",
              "uBEOFltL99dTUp/4YFhbRJteuIZU9wLfMNtOwSp8Cbtg45txE0cD+dU43TZ6XHUUZ8JKwBoJFR5r\n",
              "f4Drit11XzWPGQsLaQiWJDqis7SZkv079g0m24Y8QT5blxCOO7h8rzI9lmhxt7eshfo96OVHeELD\n",
              "hQq+NHBgGTL0DOP0eXPx3KN2Lp4SbOKFDcNd/DGjjMh1bma9MfZ1VlHKehK1VCGgGXjo4mznFYpH\n",
              "NEviyjdPkADE2CY59mbqZH0UUiNbycRh/W3B0PU7yoCW2YMbi1b9bGxbHqWxrkSQ/FrD1mwaxpZG\n",
              "aYQ8ULJqoCfAP1My7Tw28kN/wyXbBNV76KP4+t67k4YoiHpnGfvSoyTigB0kaGC7d3Bel3COSPJe\n",
              "CPxOhqlfum2LOfgIsw1Gv/+paoBUvbfj/ZhETE3naNVYpadKGh4JjN7i+sx3gqSgPudU0lTJ3ok0\n",
              "WUS/wUNcC+Y6oRq0o+Y1bEBAaQuIU10I6SZE0yNOfWejaMUdePqfiNUNBU71kiOX9wM7O3m3GnWn\n",
              "UlIsM10xZ3p0WyIN9l5ltS6GO6UFUARkjxo0qxq/O4OWtGQoJRckB6O42TXTEfLlACbgWiXEYsKO\n",
              "g2fJO+jUTx+p5lq8eL6VhTpHce15t0Q32SEpL17rJ47k2kH+jadoeU6vIX6ePYxBgURDmpKlok4W\n",
              "Fzbj/EIaWA5t5u//JdSzBiFIdCrwj49mX9b5eDD4sczPI8v6oXSD0WmyNLYrcpq1nY0d877Rj42D\n",
              "iLsnWWqgFHNwEv6j+ikgWjUTon3W9ISUqHk13tVRldMPBUHlGuZDjRtRYCoQvSsxecwjI2vqqU87\n",
              "qKknnUOYz4eWSFSBH+GeoQCSEUlqOIFracanaCrUMs80cKIcfvn3d8s68yC6bbnImNXirQrnLzKy\n",
              "y1uNW07B3e9eRYGGTXZCd7uUzYmZ/5nuVV+arX2Y3Uk8V0qbogqBfDGODl8xZS2HqVAeN78neqAL\n",
              "MZYcpCnxRISQN5l1XAHwNQOOTGfejbFrBrCDoaaBBVZWQC1VX6No1BQQjint2q5j/5FQQkdyJSwm\n",
              "ZY5gZycwzRB8LtgYJf3jUd+GiYljHfNMZbx2aHqNP6uD2+bMw01PQVN1gxDmNlnjHSetY3P1nnfa\n",
              "s+5mKFR2s0AjNhfLV51+rGlr+ocHgXbkd275wQAvnFPjmQcV+TBWRE7dJB64aWWSLJ40xjOXLxzc\n",
              "uZvFgRIPvIx+naj7Jh59/f0lH/D8XqOuOGwi4CRM+bvJu5/8piwscmsywuY2mMq4z1kc2FIG5n0N\n",
              "4FOcVeNEDIP/9oBHRV6lwblqXzlHpbz+KAAdBBK2f0yAdz7L8DElIr1A+vL5U5UBUdkQuerJBnjn\n",
              "drTULf8TpMBtlpzYXbfbAlmvlBUecYoZT9TCFLGEPz5AQcjdRZSrSfbS2cK+wXgjQ5lfD/ytrD73\n",
              "9yg48i6a06ABny4tKl2aa6JDDvGKPAY9PrevGXEhznnRIwh5hOnD1NB1lAx7M+3IdMUFiHTlRkYC\n",
              "k4/7gx/3S6HYQIiizmlPV/eRQyNqcI9QGhevQ3EaHVxO1pvVTRqM0SQzUf2pXnJ601YAuW/JLICD\n",
              "t0tORePtgARMBDTD/hbs52meKEwiNcvxb52vp+h8D8GHNJAWOHPg0QCl8t/XABF1HLR5621w1JCc\n",
              "CUlTxn63++1KXvJLFemBgYIJG3fbWUnXOSX/n8wbQNzltnvEc2888GqN53XuysR4G4PSxFRyKCr/\n",
              "ob1SoQKAnjgiVdGEKdFAeCnB4fnMUXmL5yMGbZiKDmSaTJ7Z6uWMiTdrgwyeyRfPUJDVlRpWT2mj\n",
              "tjnPGd35zY1BSafUrngpVnX/glJCBuJWAWaqkXADpY24h0SI7cLDbMNEFcsZQXod2ljlTZk1knbo\n",
              "su3UbUbnt7Ei9NAJdxErudZc3awTXlFB2QZu6l7LgaREMsybxcbfWOxNXFa3PduiqI6SJUffX4eT\n",
              "mrljkJpdo6Uc+lokfwgTF8sb7yACLod7mpYFddbTyxC+LBU/n8rieHGnUp/BVMqt8Tiuxt8e/sFY\n",
              "y23LlfYgV4Qj7uHDrrZgC84uSoPqYxUBmR6GxyXpTbHU0/db4tvDIl+1WPP8XMQH9ADeREWWzUC+\n",
              "B73LFxem/exr/vLfj7WLR8xoVba+oBnCp+IHDGaPBKL/pxBxMawzUQUtoqjtRxUhwLn6GMbJQ80T\n",
              "R0salrryjVG60yP7jMnx2YBwRCyqKjH/NYRgr98YrbMGx1ONlUIf+odR8sefCC2SftHYRfPHCKJ/\n",
              "geVqViZtYmyGC+dL83PDjkgKnEa8IaA985C06+YvgCgW8wFDitdHuxSqHQpN+GXIo2/E1KCmjz0d\n",
              "R2N5fK17hRBHoTDRFlNtNDnl7snSjJ1tlCjb2JU+1wFmm/K1Xgm1fCOj/i5sUQ0U38ZKoaEu0QXB\n",
              "F00EHwCo22u+R58e5/gdMqSA8US+2woUnJKNc2P5KsImhUOp2RK+xEU9rAGxPJLiEf6Nt7Bo6V4B\n",
              "QgEEQ2W3doJr8yWczONUbKYhv82OnWwFKZRltwmpuWdzN6O1flrpilkcAp/moDPzZzSpbpGmgEx5\n",
              "5+yKs3J73q5j51Q+2m5rQGwQvmfWdXJkbII+AL9BY7SWBXlvzqZ2Odq480wbGi/1uVP4kUmDdZeY\n",
              "F8wlChw+gx4pvkIVyW/9EQ9aomt2p9bSTnL4E1rl+GOSV97SYdoB4qoQfJJlfuDhI44wsO2ISDkp\n",
              "UPtOv8rcItJPLG/kI0gfPYL6LJaeb6S0ln2zDU9zInOiWX8t0a/8PHPesanCk5clzkMHFAIRVl1k\n",
              "KboyPWUgbO2+DfU1quiSD9SupMXPXUp3cmxvMy3dIV8le323vHaqY4Jp/Mg3QR1IxhHpJ9pJ2bgn\n",
              "wiNlleUn6O4cteKZr4ZOX55vt+Yf5YJqwnaPhvQdzWD5lyWUUU+znMZmVwm15tyK3eKXwu9yrkQq\n",
              "e05kquXbqpZ42f1hTG2XcVRKFYkKuUC42PAptqLBOD36oVVuyIkxlK9wBjKVeMkeNTH5oyLg8/RG\n",
              "DQEVAfsBdUmdinhq+tYgJNnGzDkbP03d9B3jRx4kBTxW2FAuGFfD67xmbkqw88vDtnB/rkVxr1c0\n",
              "YM1ATymviLWAHEK13SuUv7vLJlgfEax7QooUHk410x8H6EfzyxKInXgsTJEuwvF3lEnNIZFD63qP\n",
              "cvfdixgBLLKhGvGLTEG7UJtQZ4c7CjcF5cMeB0GvO6e9Hh0CaV6CDTbXR3dDvyclTJOk8qL/X9jm\n",
              "Q9mcikT9/xqDDVfa5A92xhneNf4yvNu1yL5DiTwgpxWw4dqC3HE1TDtIhJVXaQk79mftML3/nT+3\n",
              "eEcOWUVHBmlnh2SiuSl+/CKjsp0CGeWUhh6O0wnH1JqTT6NFg1Bam32UwLhOuvLk3uT3BrrX32Y+\n",
              "4Eq9ghaAcbAV7VMiaXEfz0FTEuCODVCvYOXbG8pMaApt9We4/Mp1+Bj8Ey2mrd9B36IssimPoxlp\n",
              "f6oIXOrgQRr4YkxqspBGLPucdJj9s39+ALwCU5uU9coemn6WbeyGQZM9IYMdjU7RbrhOhLryO1mR\n",
              "upFt3bPZngtnzJ2YCqbN4Gw8wCLY52EnqueMotE7oFHimTBdM+i3ofVew9G82AIUgmkEBKGROfDY\n",
              "cf8kgE9O+WIe9phACnDk5Tb4Y4Rddx4g8dZU7X5Ti6SQIVCn0HYHXHj8VLvVF+Z8llTN/rO7+o+u\n",
              "5L7lVEsK0PcZN1Kr3HsrVAuPJiUjS3VkWMgpp4SZZvCOMqj6lt1kIe59GbZcvmFI98S7s9qYt+y6\n",
              "wmfBFOTeS9lRYKVyNlDaCMGwGbbvx9eRv3faBBCtVdYc4jOEGyhrJFtvZvVPKTbniZBXxMPynxoS\n",
              "DbvdkjAFu5+ekXehpvNwZq1gd3BAkxKfNJHmPLwhHApt8oK23bm2bQ5mA/KC+ubTwtkbMtIK/Dg9\n",
              "KjsmuMP3VA2bRZiSrpdc2/pBQ6gQMw++XtN64kOUgndG4HlM/y2B1LB2adgVe2VyEHLB5Mos+9VX\n",
              "lHwh5NNe04kINmFmoCGT8MujJb3A84bjq/a+Fjg7dwTgFJZgH068waX/mumFzT3AHJh1Lmio3F1s\n",
              "q+p2pUZPEzCJKU8J/5gox0SZ5FVmhE60gHIsxY5Sdfu8titBrpZ4FYKXSXq82FKuIUXgstckTOCG\n",
              "svhLoQ9230o/2P8LEitw4FGSP+9Kft9q/xsSp8KxH1WELlNEVHfaSxZNZgZFrsmsfS1T19E0hfi3\n",
              "ju0jSJ8nU6oeJT5Qc8EJtHaLmUSMgKaZfDurCprbqlyMRVJ6BD6RDlv/HHVoAhcyEFV3aycLIhUz\n",
              "YaBZtqtpOO1tc42zU+XLY+isVZz/Y8xFxkexJ+Dz1DLeN+MEIvXvK20Q6PSJFt9SYx1s4WAvzyAa\n",
              "DobM6RD1QVeOlo4H+qLdkGBoT2gdABTYXeUh4+Xs7dEJaDqVf7f3gmOgWAz+CjYi5VF3HCJiNaiB\n",
              "ItbKbRrFgSWGRkSLOiriJGTqbnuKgE75f1JK6dIglv5cMq/JU/AIWx2f1dsfv/2P0miX7yoGyDY9\n",
              "DIGoW71YboxFcpibEE737bEB3ms4CLdclIfXB1LYcuW1ykt7YM5Z4o7tpeoXKJhUtiFbu0zhOrzc\n",
              "TCt5T1OMifc6WxPO4eC6bLnfYscvyFHEqGmGrViXExz1FMTfpFwAAASvAZ5BeQr/AjUPgALqTyAS\n",
              "BPgFrmKxrunA97qMWliEXI/Pl4uRfAgxLcOdKBl9em1nys6Dt0BZd2DbRIYfqdsIGP6gr7sPPGCf\n",
              "6UerlwT8+IACgtWuuU6BRk8WMW9V36IwxaDVaRO3hONhCUj+EfyXF3YLaAJXEfQNKXv4K+HDFcqN\n",
              "3VDF0WBB9hC0lYAAOWEBdUuVYp5+cz09G0/x3DfOWs1+k8w5RS6RFhXl/shUFTleRhyT9zknIjMR\n",
              "e1CexBAUqrs6HSJS4cylBIjvLlGIfqG34jBRObilRjzN28Dbcdpk2gJfSQuwwWyW6J1Z1x86iN1x\n",
              "zhP6qxFFPv47yIunyfjVK28IG9EJ7y2q9jX2Qzm6WKjxh0nfwTyzEr3bNbYtUZMLYuqEWhQDHqfl\n",
              "hq3hw54JqxuubY5XOyONCUDRatiS37xls1L3Yyjvl2UYYfvgrWUJpgWudKLAAFyJQpTzG8uPUFiY\n",
              "Y0nfWSgI2708fDYnURF/s1MgAhiiQcuGdBCH35QYMT7fUrM6fJJiQ+lLbEUCs0SjNOi3sh/FW4F8\n",
              "9qxnSq8Ha7jXcZ/AV+/M3nUhQsFluL3c8B1LHGUfCTmud9hdQ/uhxmXen6YU5l7L4IMbmXvOfj3P\n",
              "/CQ4YaCVeoCQIomtv/z0XawBH2elsfNNApW9SeCDMrEgGGAgiFZj/trOK+9a7QIeb5MEuDYOdpAP\n",
              "bfMjSVeDyDx6cKal74a/3VpE6TXnN96NODSBByAFZ/4eXGp3EiJHEGW7CWHBgxWY5Dxd3nbGHN5m\n",
              "3EZp4r7dwC15gP6ymEjocatLOEeBGOwAFdVjiwnNcWDzxQdVX1d9lUZBP4uFg6TlV/hP/1pRJCal\n",
              "yChA7HoRuWhHAfhHeElpFxBMvRZp9qBM+ptJA3mxy91f6KqJ8e2OKyGqotX5Aqx1M87LuIKADqH3\n",
              "EWJOPFXwglxez7natD1ACqQA3UkYMj2BsXlmUYCFKORFO2A7doDabK8Gk81aNSrN7zXPQiudwuqu\n",
              "EoSZWmIFSnB4l4mCMio5bpumeYrZBFKly5Rad2TKhE0F/yD5ZvBq+DQd/ndA1ymwpoRxr15MIsfD\n",
              "vDDj16HHv7phBQ4aK2QcHGD4qIxteEd929BimHWatlyhaZO9YKz5mwhOGZT3CuIqZxep9RBViQt3\n",
              "rrzX7jgcSbUoAmEEv/yC+k30hbiubRpKfSSZRKI2Vv6hLGksIEN0Q4l43UGioYmtt4Toq1iOBclr\n",
              "ghEMgtepLvnaDI2Rca4cLeZNZwXuagDMnwY+7oLXfb/VVifJdZk0BMeuuWEJgVtoWQL8rnuAB2id\n",
              "cb26FCgPCilLs8av3BpvIs6Q1G13wktrb252f42n5fMfzgcPA3vpQzreg61aPsah0gzVswnYhpf+\n",
              "ibtmCOXH2uPJyaN/qMuKt2IrB3xek6rJC1SjUkIIHcz0PiGopJhZLxPH4fugDT2dCc7+kvWx7NA5\n",
              "s5t9bOyG+0PF/i0ZzXmypAF8Soqp28uQM9mDnnM8N5pRTxGQQ3KiJqnmZrQkUxMXXhqvklapsNG7\n",
              "6sGBwS7FW6177B9aDO7RtuZqvaX8FWNJ+BOEIqL/LCXTsZb6lUoB9jZxRkEAAA4nQZpESeEIQyCM\n",
              "B1AoQHUCYCHf/qmWBArFl4A5l373d/pI14ZbApXTLu/Fdy8QH6liCbfsHAtrWEmKgzwhrT5uyeR/\n",
              "h42O89XQVDEyKCo94txThOhUeC3dWWCNfS//Fa9CMy87uYjgkbheoI74s2JfV3bJG47eFYbtSU3x\n",
              "ZW8SLqtEUgoeCBAKdUA1jH/H0r0ninKlokp/anhJnacCQUWFEkuv6tMVSv0LCBO+6Uwsw19K2Uie\n",
              "wGzFc2F7YwIru5r88VcfvcH7t27h5pwz1skx8ciIf0Z+dy2G3PfeOBWAPRSukUpOaDA3Lq5ZPBr7\n",
              "rh3bVf1W6vQ1eluMxDieqkMAftSTinvRubJZXqCohb6wzPI9Dr0H3a7zjlMMq3EsVOb32AmKu1dR\n",
              "8L5+sdAZZAISiExY2cD4zlkPp1s+fL+MtI0IJ4Ak2z4CT6stesULYyYNOvM/Bb2M8r/vxRFPJZ//\n",
              "nuHaML4RA4vYzIMyzsh5pzM5N3kQmR8eWIKUkRByOSq9ibVaeKoHLr5wdmyqBOP1tUZWM/XvayP2\n",
              "qEh8DPuElzaOIWDiJXmN7FXQiX7U0aONcNbE4yL96CqpJdgn98mfjhkWOHRVFrAbgIX/f082XAdV\n",
              "22YGEmQwgCFwXDad6NA/yJrAVAJn96qDyX7Hbq0frQh+SCC3HoKjjYXwcb91JlKOY6cCpVuapxWP\n",
              "iRUQd8rf1YWx+yPQi5mUTfqFVdK8bdiemrXCa6HLxrAIh4OPJlR/STX2EAkdn74zlFYAffL4vLnh\n",
              "tU0Ss9uAEZHAI1tsipyvDjDXsJFRBxB8DW0ApprtBmuCGTGFaUGXU2xuu6dG5NxUdjIzFy6Uf1ev\n",
              "bz6nVNypXhw+6H5w1WwsUf7K6XsvtBTMVzBTutw2PLA6ir3IbbBjWmMc5uSrnA6YPTMjwNGTuPRU\n",
              "aUhMwBHlt6l4220GlWAagVUKvzY0CLBGFUUf2uHWjmFhejWDZH3sgTnfQN7Ya/xcZHsibccqs3LX\n",
              "QwHem3/3Kb7P+6f8q2FbPOhb17qoR6MK2BaTjIVoN56IDxX5Qs1E4obCdJy7Vj1XTxf4/NND+5Hm\n",
              "gU5YLEMWqzZB9FzbWr8VqwXQwXmpgZc1+c0wn675AlwyhwLwRBv2J85WHqO9TGLtLga5To3KPhOc\n",
              "4vgJZtkLbwEarlNhe4OQanieFwfU+e3cJrgLKE0tFnWrEO5XedqIhPG+q8mxYt56Jv6Y6OgUAeZz\n",
              "hHG3/1hbaCioIPObOoTShxwQNkis3QIkiOVotAl34OzT2t9P0EmmLZZZddz3nwmWvgdV2bqjlp17\n",
              "ZD2UiAJXeBHdblkSdZhj+vGsP+ZFO4Xouk4R6mo/UZ8YaEC92o9NlHg7CJOu2whb5/aJQysk2RJY\n",
              "glrmloBMxPt21iVtlGhGY3bRtvKJvV6wh/mHO6/kc3ZJtzySO+5HKAFFK+DvkwpbXEPINqN6UFiI\n",
              "KC0+LjFT3qUgAuKhWGp9Ea2o9Sd0Exv5LiwtVL0trAOi7/Vrd4u1xh4fFLGih9Glt90c4Ee7UnHo\n",
              "FRTsxh2If9wGSkqvdAQlhFxMUENPRN7MMESaXtb5WXLuVVsyndm0pRJSad671YwNMdH6jnxCxv8q\n",
              "sZe7DqA54XML7qdNqbdrJXBWNshYURuWzlhkTuLz49L8yyCIg5Zlg9RhIqwi8ae/lvvYmUhKrlKb\n",
              "GNRAg5URFjN9f1Q6r2qVMHqtTnDBpqzYjW0cN6QcQb6fOGY6RcZCNeU5VpqJt+hazB159TswTrds\n",
              "xd7hosAO/OKRMN0HViRsXI5PM1AM14yKD2TjR6A+u5TYYPri3byjTn90gS7JAucn/PMFkRenwxw4\n",
              "zAaBuWhq5PDnw1e1ADJBv8tUT+bhrhGbJ1CttkFKAgJ/F1RWF/daXyVQuMMswNu7KKKa2Bg/szGi\n",
              "8CoZh0JXnhj6aolVUYyK5D4nETAcJLoj4IsMTogfhCmFSWatDVYeAqFDkE1PBp4f1+RJJ7bES+7A\n",
              "zH+9KGHeVDx5cnA9BXFOQEYvaX5ZvpUcy5Q5ysQr8ZvJ9doZSZ0yi/VPDisR8bwCBJi1X1xXp89T\n",
              "gAAIXmBYZMT8XcQzXt/BQRWxtCeHYT3PGzbm/9CnEaduOyyBN2mYNmcTBTI3mqbcC+/X2t6GKiT7\n",
              "dYDeQ3R+Kd95z1kIV3bRSXr2VIF26ZTiUvzqJuJn5tYt1Pd9nw2Fl+/speQiezNPsplSFcqjGPYl\n",
              "hWpvGXwuigZaolN+GRSWT2/EX118295j1ObcKOMLJVT+U+qjlfWfi1D9fLsLLcRERAZoc6LLeM4J\n",
              "GFw+ykI0RU9I6MZkZpyvC7bd8WRUdrojHR0IhvCueTga6dZLuNu+U1ahAwC+ubx2Mr9FgCXiSrtx\n",
              "ngxXk61PEiUhaegMmWQn9lDguhluhhObnddmePb2m//wqd53xB30aS4DGIasKLS6GRHSfRr84jQY\n",
              "Tsx/0w+DnymXRfKaNAn+kPtiPJotEYKVmOAmefxR3xnpvRBAWX+OROFq5A2SNAuJvxF9EHX8ji09\n",
              "SX3bfNveqwv3HTMcm5lE+y9IMExXs7Ai6moMIAU9lxf08ab8zk8TLu2Ex6goBqDfREKxIIx0dUbX\n",
              "vd7KS0V9Hj1nRkvVW6Pigakv7T1Ln+B4cH8mY72WVFXUgWmo9IoO7CuD5T1cJMcYGU1briMsxbSP\n",
              "efDlhnfSlXsaTyFEkkdOgJfXSa5siZ+WKf28q50V701E/bwVCiwnV5xcAv61DdenlkqXgHCmwuOF\n",
              "ARZROsno7kiQaVaI0LaAfMF92zbTGRpbkmImzchZ0xx9BKOWCNK+aN90Ynmr7OQsBV1csAc4DUpp\n",
              "u4ZHSNSaHDeHGEe0Ak4wHfVWL8wWttdhZC8SAVK/9Pd1Gfp3UllEA+1TuEpmrVmhkXIFqGEBGKVw\n",
              "rVhIQ7rODm55L7QiRHvluE5uHmb0Rncs9QFt7ldu56+M2QO2g/uBOXDjqnKs6mYSr/DR8fdkkDdP\n",
              "nn2xQ4+zKoe/8jaC+sQ4a0uDqYklskHhyaSgCfezcO2+70SgUq1F0zIL+AD7yUl3wusjvUHi0KEn\n",
              "+o1Ctr9k5EGbVwgNtRQgogZtEeDHLcBWQvV4BaQWK7PZJ7MsKS9utMA9ZtSVHwBeGIUwADi2ztVb\n",
              "x+T8MPBR9ONGUGVGH3KIdpaj1AkgvyLlRIwoSRAJutuu+K1+WpVtSCjM3UE6+qZ3mEQ2yYB7aWv2\n",
              "MAJ8d5MKn1AcvF/mk0AsSno2Xt/iz39hbbugURJ7W3Mr5R9tYD9/HI6xFNaXOw9ZYkUwm0um1Ww3\n",
              "PBoJ0n4J2Bo1tgyOP6VmLTxVy/dhrbvPLcijgLCzCcsK6hwa9XudIOvGFk5BgxamMHnsYbBtYWsB\n",
              "4DfIjB1RXlpELcvbdRF0AwgJTt1fNCC3xaW+rl4uNoEpNLrQC5m45NaIxT9oySM0b6fOT25n7v4t\n",
              "P3W7sf/NnsKWSKXE4EGClhsyLXSdSsFROi6vEM95Jxzrq7pOrU1BAPcalx44fCPBbjCBDF0PdFWI\n",
              "KvIf4B1T/h2FVLs+0xHckEKlj179iPOvTX9IK2S+LAZg9dy4ruzcZcLJ4z4WKpWdHbUhQZSWAeKU\n",
              "9MIQQ12Z7nEm6uA7YjA7R3UzAI5gakGkB0USSkbUvG47YTJCRB7BU1hlJ0w9Jf8VhkMrPUQH0e/j\n",
              "QAZb7goiCyZTgylkxrG2q0LgJs90xXt8VCaw8kSkgUBrNRtSDoD7Vf//DD5kpiNCX/kPg0N6JYJ1\n",
              "iEAUEPHQNs4WgsonxTFAc4YlhCssWSaq23oxzpdq0LyLIA+ub2PJ8emNrRrBaLUACWNJdPYh5v6Y\n",
              "VpW19OAtg4R3xirgTXyHLxDVlyeNoDp7oAt08RdG8mCc+4shoF1oJaGQ7KwQrDoNHG/A/ONH5rZw\n",
              "CAToRV3YXbJT/woF4NVNTtTGFDB0rT+XQFWzX7Gu2HqhQj3O47w7bkXsiUa2XuyI9kmAC0dFfCDG\n",
              "YJ7sacTdz/CiMIOhWX2eSQi9QBxzaxVRrjAk5MiYZpMLpteMkyvFkis82MQkCrVU2kOo2Uh9HhRY\n",
              "QT4zDgPAuLBBLaCAV6jTa4Feik1rEpU/uYD/aaNoBgIyL+ogipi0gQmvFWPs2W0bvBBxUYuYh4hx\n",
              "Dk8Ss9g9rojMuS2ngH0jWCPYb8ceAb6YThLgg8U9TACPGDdhuwVbATvTJwLMnxN3qKl3ZzA3Bhh7\n",
              "SfQGKwml+PjHRLws/VNaEXTrBUxZWax6m6eCWMmrKkF6qD15dzNuYnTvBpUQ6EMAml6vxyZDfmG6\n",
              "6cIdjVVT9r7EUDOkWZo0Yhi9MjR7sabLtSrUC3IpSRr53maIJErPEgHgWOt/duWHqEnGSuPt+qMB\n",
              "6qZbKtc2JxveH7mGwb2ey0Y4wSn3gXzGjRu8UDTv1gHf/ePuURlHvtTdc+tYOQko3LawzaAwc8LU\n",
              "xyIOg5xlo53nBX9Ar7O/duMYIRNdv86bGTfRk5qEkyopnT6LdA0P7uvOOxPWLCmf79ZQ1oRnFhmO\n",
              "CR0cdDhA4liXx1jIsUeVD/pbKuamJW82su2pO1Ir/Qabi4gxJaLW8885VGh5l62MxAalOvjB+tRQ\n",
              "HVJH6G6WSIwa6QUK/thXcNHMXF4gu45rtnIGTQNDdYhQw3DTL9H6ix0fnaaXxon4IxOmNpRPXPza\n",
              "RKv1WnpSNWyFkLXrvYxk2NQj7uJHui5mZl5vIwsYmcnH6WjP2OgD4yXYwWWzNCe9iw7tvL1nPyxV\n",
              "GsJLQ0RQGULHZ08+oOcD20+KJdyF9TMsin/GsNyrZ5WmpkPTqJPUfjAOotBA5uzzyDyeNFwfCqJO\n",
              "CKjk56OxsH05e9l/0z6+J3k2B2UHUsYAAAPEAZ5jakK/AxWWkVQkHUAHsqqCAaOtGuUDYB34VJfs\n",
              "Gcp0J1O2zvcf54TkRHbSYp8DxYU4L0BHnAPqm+85aVhbHN23V+SRTzXiOA7Cx8W+4aJVFrPCCOI0\n",
              "QSq15QWgVQe3uuUSYz0R5wI/D3uvonQ2FEkSE7cNf26630Pc/pMFrybOAoGiZvj8kC2U7dhgMYF/\n",
              "HtnqoIAHPPd+dyFJ8lDADju6GDS9WV7uxHpvET6tJ6IHIeMCj9PeIT+bA8KDGx1c9BL86fL+DVak\n",
              "X0kXzX7w9YNTa0PsOeHXZf+lPIl2DpFP85Cr1C+2XmcZHdoCGWXUVbxqywgxPNbPCO/zaXGKGtqJ\n",
              "CUYQwuYREDF4C2TuqBpNamjAIKgLl/OY1+/QWeina4a+fPw1J7mZ75kH7z0KlvH56ktj9977yIMP\n",
              "uHv+i02fTTq7/TI1npC46ubfyf+gfmEKE4SrofOzXFkjz7s6/ii/wnEdLxinQ9j+3FxNOqAszC1h\n",
              "YoL6CN8fcPJdRMr02dlDiiqwaSsnxU6KC4QLr4fJljZEczmwHrxfkIszd67/wj++DT8N4pXyE+QD\n",
              "8RDZgGpeWt/VRTQ5jsM3WWoNJOt/fgZmoaP3geIaJh8jg8aI/kTBEqyQXZ8TB1+Sm6QBObJnYidY\n",
              "2948c7AgB5PWc6uLUzhlWV35XlR5oM54Z96VZcKQaueehDt8Y38cMJCr6FPICQyiAU6SzDX0afJR\n",
              "oHqWpKlUqrs2OGleNg4uQ1jFgSBAQD0x1yELJHx3iiUueX6s5blYgOUHsq1RcMM43Bje0feSCbqu\n",
              "wcxWSfZE9togBUMJlxIXogCSNb/x3GuJRzpvIyOROYQeS/PVzTEFeu+sAhYYN4fqDVVekZKNvcGf\n",
              "u9R2kxjKQ/RLA13y1cvEnoSAJsqm5gOQ8i54HAbFJdUGEqvu7ZUQ2wF0zxQVg7URVNcFhTsCoSr3\n",
              "8LOcA+1RaymnVByVq5UUKer+cFD5i8jTszeFGJZ2Ft1Y7srStZAA/ilKfZtgfDxILcC4M4xzceSD\n",
              "W2mxmWMAqvfonCHU+JZRIwr/s+Hm8Lt/NmAsZ4UWvpMX9ErI4ojsveJRoLV2P1fDTNh2HhRa5QpA\n",
              "6tVNm9mJ9wJWnA9Z43yukd73ekH0N4TDPFdq5lYEROIQ7q55EWIJaH8d1hiw5SEm8lEZv7SeAYMP\n",
              "RdQp5sTsF6bNOS2NJpb7ijfA+faKK9ldTuEeek3VwJWdjE8F+Ph2dY15Bt3mYwlpmKCQ59f6Xk0w\n",
              "RDMDGi7dIWfsknaiG7l34sTjWVFiEwAAD5ZBmmZL4QhDyFwRB9BECEBTw7/+qZYLbkdp+tgQBf5+\n",
              "/6B/8sG8rNnIa2Ab1oyv1o04bOV18aebmgJcbgHjm0SBjqhmKwnmd9Nubb74IsPlzhqWUSEgDGJ2\n",
              "WJntH3SihV9AY/Z7xJz0i9MNjB1vX5mZSBC3DZAQZu1XBnb6ufWZ2DasHrzsrtRiNl7whHHDHc6Y\n",
              "90OfsOzMMcgz6WU9/2UyBG1Q73fCOrPPqoo6T0nRjwDdqkDyWaafYLfOMrHjDnAjj4TiAi7/JHvo\n",
              "5PjXzL7kEB76ngs3lmhSt53J08GNAWfHDZoGGL+nAzahh0PiLLxnQ1rpJYm67X8gpba39PYXxCBu\n",
              "+YhS23L5zvsXJ5ImlbmCtW/UQwx0ldaBKc19vUAAmxMDflZJ68Sg5q4ChaZXlhaFR7aDI/FsZECo\n",
              "TNUltxbEHRmrQn5ZYXosz0pjq9t53YhQeciFVJdq07pjwESdHP3ijbpfM9t+GG6GTHu1WiezQLHS\n",
              "L1wbe/ntMSLRoqBdKT8qGzR1/X9CTf/+a2cKsVj8/2TEoaSmBXAsRxOUzYZTQv/qUrTo5J4KOm/b\n",
              "OJD0IRUU9YnroESkuclsdvG9VD0fCSbw4uZbJ5tD8TeMCzoCPJdQ+zcMJEBMpWnRCDRvjCW5pbdw\n",
              "JqDr4omSwwfaOtGN/rcI6MzM8kJhmwGL3n+9vn8s/UjwmAiXx4PUSvfsxAQRYEyvRQipsBx243Bl\n",
              "Q4yP5XIBlBGzbzvOnS7Icm0FxyqUeaHMzCrvRaC5/IGRMVgyOVweZVW1qvIPKPweBiFPUaQVVQTI\n",
              "uwcCDG+jPCSCQwIobnwoxljalKqsPS9wtvRGYAAa+0WeAySaqwslNHkwbVkwg1OVJy/AmVaRtfCg\n",
              "WcY7pmKH9v84L80EPlbXwdISL9R+PyqpQ6tyKZQGtz+EU3ar1c8NbGEeiC0npWID4go3vsqV5aEg\n",
              "R4wlJ+Q9rR3ZnGj6wBpAemYXTUjHzPYPgq3xP4kPf8aVOmLythfkuIdU8/6z25dQo/gD+cgjagvi\n",
              "4pJHfbhywqMqgyFbZrA+DHuiB6XUJ54GJMtF8QV9BoeZAoPQLgKI6cFkLH0vB7FBBXMAHgjXGUkZ\n",
              "fElkxv1ZI95Ky9DaWbR0Xh0Bxtb1GBJvVN3R6it0qXV5rpBezu/geGbLENsa5701qcVlYrEA21up\n",
              "uLy1JhtlFk8DKxGTyz9RFLsLm3EMtW8/h/BWg/OcQLREKpoNpzDY4tpy7eTMwSPok+2iUlqX8yap\n",
              "6YAX/pW25cc5AsFTJ0+bp3J3aR5bgof1u5JctRb3wNq8o93YgtRWKljnTQARCIZr5Njv3AOVwlYA\n",
              "dDfpJPDmjbflyOrZYqLErBd/E1GJjQ2y1mQfUECXXiW+Wt7xJXgDC0WzYx3C1FSYJyZ9nVvfyDa8\n",
              "lCKoaSnu2e+UJc7U3gtdpnvpBJZMq98SpsMTxAGLRxrvCFqraaqlZQYO7Yvr98IesK8i3AYq2alh\n",
              "JrkHE3SL89kn6BUKm/8GfkAfnfP1zAc4E+MjpA1Q6ULbe7RIVOpisUl2Wx6eLZ2udqgo2boNpcjc\n",
              "RrzKF/l56VbZo61+rdRJA0uyWKVLkVU4GYrB919cuwyf+JuksnF+dkV1pvDDUinez3ELkJRd8nj3\n",
              "nOB3F1ymfQ5Cfvu1DiqEOMRoxijCjiwE9MlCjo8DDPHIacz1pBBH4Jb2DsCnieZ+wBjduFVOJgR6\n",
              "z31JLFSya1M5J5CBNFhS+j650m1Rp5uN4egWdornVDAb6NxWXCTYIdHrFEwtPgkxJRUlCYp8Kb6z\n",
              "Wd9tDWn6YuHDba93oiF8w2slbFC5Vkz3NplMen3v7gJr4jZx8cHDGg0/PyPhAm5QZyGB6Uh0XFoP\n",
              "CVC7h6ildeiTsqLTE6n8oMuGiX98i8jFvRNgKie8xLzPjVNfXop6YAbEs3+JTSmDSiPOeJQhRNPQ\n",
              "wydh50boiuGdTCRVl1GnNTbFY0Du1jZfNLRaraFJOicgVvKsffSQ8UbYniI59wr1UCZClPvkqS+3\n",
              "gJS7spA1E82vKG6tiSRiIGGkxcR+kQhu4xQHcVwM6TSf4LXXXkqlqunB1i0lY4qV5E71J2kQnyLM\n",
              "p0ZnwyekIx+nC6wwZWgiKKAThPYqYGDGuFBntdAXnM0NsmOmq5x9h8hS+KPGBpHy1oneLGxPhY8q\n",
              "DacbQzJ6IWNxC3YKLK26OtKG/sQLUl0M9x3VHG4yN8OQSsxOHLKAOYlwu50VSNlSlVG5zldJM8+Y\n",
              "3QaZwYkdTv6jY5pocjjq8RrMnaY/17K7zw2opVIF0O1UJW2Y9AiMLo1WuIOUP239WJ+5OiBFFwIz\n",
              "cpI8WWbScQpUPLIZ+MULQRoLfuglbKLOMw5G0pDfRiI5c2ufecN4vDNy63lWPe6gqwOQ/A5nefUQ\n",
              "tI6QBDwO5CIGp0pkXtSOp3ZJqzsD49TBSxqSITsuiHNlQRLYiwHH2KQ7YHMqpGJWEiNYWYYhxcPm\n",
              "XhC9W/U57L11PCXpIIVVcJrHViC1MZ3t2rICv9wBpViYdggg4vz9vgno8NhK88c8DFDsekMNDPPL\n",
              "8W85XvPUuBqHYxfWabViHv6ixkJZpp8MfObfgd1CggbkjPmrj/fMmQdCSWIg3/KaYa0yiOp5wFZ3\n",
              "xnj0orVyCKeGo5TSv/ihpE97Ar9yLbG6bEwIuo6yr2bLlMn7Ef/TIyDGXpcPmmoYAlP0Obmbc1Cq\n",
              "nMNjPD5ueK1XoiV8J6GKgX/v22TVfZ2guXZGBt8l0KwrRn2pkLZm0IH0Knp4ZAw5uhGGtJUaRiw6\n",
              "y8AtXK9q9dbwG9h6Pyg4/GvVq8d6+k9elxiQT2Z1Q1a9VN9AX4S87pNoiyNJpM8jAvxNawnEZF00\n",
              "JeYbGVzF2sGl9c+w2kZG3jbQ4iJu5dzq+Ee5WcZ8JaWC0atL8tSxJ0wFvtZbFcxcP3MzrZ4Ep08z\n",
              "gRjAggOc+oE5wzf/0UMQWZq6LYRHC1wy9me/LyP+jc/QI+ncUfJTZGiaAtRyHs2eXjkx+wfFosTZ\n",
              "sFPNWeRyBAQ6zOhv8mQQfM3Bb0guJz59j81y5fa5kwvg9CFBLw/k5YplMymmNjQC7I53aykq74CC\n",
              "uMvz7hRpCUzUPi494SDQxgAV4cWMra667J6SISvbdAwiypXniu6Wq0YgNBin61TqW2LZX/YwGFAN\n",
              "RqtQ47gPHDRGGnrwN1V1c9O4h3i8sIVKOP+noSV5+/cb+UBpaAOwNdX5ZImrHvkfQhjq97RNVESi\n",
              "qqKYjuP1zK10dYfezzCgE137A+H/i/BuNWtGA5ComGwINp2UP0sz0/rwqJTtXQbpKQnC+DKPcNi+\n",
              "AIdu9KxBDIMQPdtt/B+CM5OpM6moqa7Oe+G3AxlT7WKu9B3xGSvFAszE4Yb6SmnOspYwI3izzhcC\n",
              "uMpgZNuMGtSPuWl4bfC23pqlLFfqyvPTP3q4L0C4er6BGh7iS48fYvMABIr6Cg7w0ropxp3IJFC+\n",
              "k2F79iUitNv1Ug+izAxkv2op53gjyXT37wr+cCxUmfDbMgfeo8JGT8xl/qFxYY64kiOY9IJ6GSWY\n",
              "aRsjlQiOjgTuKG2zd9O9dbQ7WYopO5Ijpk/emFLOjYzKbzdDeabsCv+17PxkfBMfU7vnOx0ChD4N\n",
              "zie1ZdNwhypxtjiFXmOsgNgp+aGbBmMV9JM/2P+iOVR5CQdHHJA7sj5+eGbF/E2OEbsS2YjemO6e\n",
              "OBh9ql8IlBodZ+wnRVIezrM1a9FgkPxsA9qL3yg3hGuNSmP52envJzDkJzXcVuWiEFQYWvb8TSfr\n",
              "dbRDT6jxlNyb/D1g6aj9hqNjuo7TkCRVdc818x9NYeNGIY4hafaDC6uqgC30acD0DvHxkIUDSR/T\n",
              "3Ldclkzxwaffdz2wVfMLI9LrX+dbJkgsfSc9JKb1iImi8hEcbDIxwPEndSScQh4i6jvLoDwGmkaS\n",
              "qXmoxPrQ3qqwqX//avWW2Rl3S/8yaDdowA2FkWzCP0DUWKSZnZJx7PbxDxUx+j/6eP9rQcc0npje\n",
              "G8Hodmkpcx6ky433mQkzFhOXHWpByD18cOJc0U/nqsPOQCAHiHCVb9WXhb/lMPgO22AdU/6tIfJG\n",
              "nXSl7AAWTZaq/9Fr9KOdb5jwBOHVvainKEu5IhdNtwkvTVrrjj2fROVlO1HkoyMuW/qXgd+NWgMX\n",
              "RvHLQS8R1HgnJYtSF3KuuqFQTSr4pqpHlr0OmKiDUd0YpGJw5vOmm2zbHrpY4znSANdk+LtaUZfR\n",
              "09Q5Mmw197OLhLsgp6yA67Xf0WAxwmX18OCjC7n/heFbmwXjlqND++Q1QKWEzwWVv7+O+C2/aDzU\n",
              "cu+MY1ysOO/iIsoZqd7tpbg3b4YBfe0n7D8lPOWgzHwE3naAfeImgXmoXC9+zp+L+luOWvoavnRb\n",
              "K3VBOe799POxK/U7fnmsPbyB+JlvO5UywuMnwPY1Kt0rHKFd6MKMlzLuBzKxNnppTyImGKd62nvU\n",
              "7Fq69Cl1kVcoFVvM3o+ZvMzz2RPjn/fQTNBo6f/FroEr6yiQBh9oagk9gRqyrOKL6PqSGX5g8T29\n",
              "PwrQB5UbJVNuSyIZ+7jx0pCUuyi6KyeWLF6yJcMGhKM+Rjwq/DwToyAvukzbp/tswdjF2VBYqsqc\n",
              "GN9Zmr+hQ7J+sYIcYGdLIxrXYUu6k6S1O+Ubhpo8qOZRKzIYaCDAXYUb02Be9L8vDD6MCYgkzxWA\n",
              "/bO/Bup0Y00wFjEUpiI023mLrfCNipQw6qBUguIKR9FMUuaxV2gVheIxhegDdeXB8+EhXCJPjt0f\n",
              "QGal09lAtg8C57RBN+fM6l8qq6swq3qIxFMOwwMDsXdoQ+iqzJ2rBNXUzljH49cT/L4N1yTJN6hZ\n",
              "AP587SD/9BPr5IVKoZfIydiX2iMFoIXRZ+bslb1JbwuuDThM1/TK3z11IeLbejhojFu+GGwBSmut\n",
              "M98iBJ4Iqkm8VTUasUFlnWD1z8QaInSks/ruFUH7WGR2V0ZhxRhbUe/4vwQV/LBn50WXxTAhdVO4\n",
              "pVyJn70cnFOXoH9sRK80VqmDnYtPnExhTdTsAtrGvuAjtoRnBA8Y2ZpsUu+4zZqrJ2w5Vbnk4iA1\n",
              "U/URORW2bYX9VA9h0FcZV91jpQ1Dc/8efK+LwKVmDpBKeL+vCUvg8k5Fjwl+d7tUcCMEUxhPIF98\n",
              "9OtSAOGqLz6zO1vuIh34UBbdvWsYBqOjHm15boZscCm1e3NxCgbqY4BfCNhmn5nR6qoL3WorRR0p\n",
              "7sHVihIyTPrUCKRwhRQWmkdl+HM0G8g4V1EagMLwmFYJsmS8QsbebsHiiuUY1qg7wh/+THAG6fbz\n",
              "IUsOFigezxWTLpQWaw+0wrvGokpGWybvY88AAAStAZ6FakK/Axa+MILgwYAOKpfwroMMkgkLpZQe\n",
              "6aMKkIHQ0wsnycJjQD6xkL4AAiy0lkq6BI+Du6UcCheGHAHXARkmSez0GdGEeFN6AV/QLhBAIcdK\n",
              "/YKDN+25TxD6T5qIr2DNj3z5GvxVgi5mBzN+BaWW06eIvqtOBB+XlOxptZldsh/g9jMobvP7euRW\n",
              "dQxD2bgy6TvnKaheWtmJIgXuwRQxFowGCsL0gc/uggjwFEzfaqTW0CK15hmyjocZnZQjan0s2OO4\n",
              "k1mOJKu0bxs+bSt1r9vmyyK65FwcZ6F8bqjaAvr3390n+gpfem0tHS6NB72RLJqYbCzj97NRCFWU\n",
              "qBwPPwVat3cm/KQ2SZ5n43qFXnL7uHDmM+vnzVr9p1E+mlRPKqeL2S3YLVnzKGdVmOrI208YuXb8\n",
              "JhcDIAvTAgPtnVtEl72zF70Q6+EOTooig5HnhJnnL9AQPPQAiU+xHm2kBr5TOaOvnYlm8Uz0f7jR\n",
              "bx0vlFBnhh8OP6kHqrmMkNmLVbDTZ9SCOTEmqk4IcoXHf2a2xFyZUnkiNlZHSZNWNQOmPrs/M+nl\n",
              "C0pxWuDdrNt62cp8cZNht39D3KwUxLUiXF01AWLepBWQH7LPjuPHDL9Wz0fwKn0MY6C62+p4GhI+\n",
              "PNyh1yyfzTAg01kgNCvPS0zIgXqKcHoCAduDtbniVvqMxrEWEIISOoc8TXIYMenlGGHhxaLeIV/V\n",
              "FAtnMUh1steLL/O0JvwBzIAIBNBDvJReDr0/jH85bV74r1AMQTfseponyYOI/x+cOhfSwBK+UxGR\n",
              "j2PNw0s5ZcU4shXRdSkYnlhG+cjPfKQCrh57I8jrBV4DKMHImhD2X5MRIsryoGE+3PAt7ic8FBk2\n",
              "P1FXm8xMAZpyKN53psG1qLyLoFBaI2Z6Rr6QnCc8NemvcuDTmMFRgRWcIrBBBVaVOnhVQEpAdVvf\n",
              "+9vH3HhMWjJaBQ+Pf+5ufePzhreQZuuLh5aCAOaKj9ewbDKRxDTRCrpItrYjDunAqoxd1IoQBqyn\n",
              "gJOyCsINB9ooJJM8IiLlIjPVWRkeuIKFgkkhDscXM8L4zlhL7gROmHXaqB8UpAU414YwVYPga5OD\n",
              "VGFUd8iUE7BhsqRhVl7D2TDqG6bWAhEqS8FFBn80iSk/tMkTAVUKmivqb7Gn73er5t6odrMbWDsm\n",
              "KrSPp16jDrZuZN52lB8aqbQYZlwHKOgDzTRwbZGoNezdrxrCnyYBpqlRezUz6pO+sjCpiF+xjH7g\n",
              "9WYgsNJzizMjXVUj9lW18tOucvXjLGY0QzTur2QWJy0MAKnlA4aIbNaIg42yCp+JKUzbPJrrMGb3\n",
              "UYDVh45Y4YVJ3v8LeG44hx40pVjxRvSQJlG3gJN0JuUpcdgWgEBACfdaIUkeQnk+dOIhJRWD6Lm2\n",
              "hIAk5vSeSIC5y0r21MlXJKo+sRFDaSlZ0Y25WNfjZaDYZTc0Z+R3GweGeqrfBlxpjnAlUKSN7SUF\n",
              "W4PQs7ccVZu2DJtvBMSxI1w5/+cvPfqlSzj9UI5wgEHwNqXIECq9wJ+V3mNbaYZ+gllRWTSy5eSk\n",
              "u+m1bd5nP5RyK/4e0fiRnjhlqGM+vfLG908IEs9pAAAPcUGaiUvhCEPIIwHUChAdQJgCHf/+qZYI\n",
              "XtoU9ajoAsPzJX7e2WgFIXaLezR/0qTaD5Nu++1soTmPpb9e8BwUt++HAG6qjJ0wxWyAwlaUPG7b\n",
              "Tn2FpnhM+nByIZ6YWTvl6P49hxmxf5VHMQF43D13XwF9mzmeBxBdtNANNsH7JWOTmYg4NlwHyqLM\n",
              "q3a2I0S+YZjhsgoKkJbpThecanyZwA1y73JlcJT8B+4M/U7kKBhYlY2WZbEzlOxOhSYvfo6cpJ5h\n",
              "sKaGkkldgnAFPpS0qUjjKzjbfcuvynlJbxyX3P4uxUgwEoWGVTr6qxMld6OKUEw95fIAlZqWtH6K\n",
              "oNcvqI7eQ59mxO111Or1IFEwYZSR/O5WRmX+r2J62KEyUJUIcaIzQl0qXfZoBQxGjawFzy1qoktn\n",
              "34huXNBCdeUIVLJWX07oRwKCtVrf4buF0bZUa/TPsvQNgCLX5oJtQA31ghkI6qz4EQIXXepj7nNu\n",
              "Jm5l2fqzro4By/FCCADF0rUUu3rJlbqqIk+WtIHy72bCSXnrFE2OqxFUdXSuQ2FcrQc/k1JftA7S\n",
              "FKdwKRnHgWLIMv0y8c8ZAM0nzmQR66N/L3dx9aCkDqZkEIPwoMpAsmKbmgk5GjKdtrP6HXck3XvI\n",
              "zrSyQE8+3e2DgB4DTN2lchEx8LiOENRBi9BkpCmJwPvv64IioQI9ay1a3GuExMYnqboe+r1IiA4p\n",
              "2KbHbt2DysWyPL9NdNCRUnu9a5dF8fm8Ch8o3E0T5eU1CER/REF2WIJ/WLRYsEGwNH8YXy1Y2CaZ\n",
              "n+QenGuLl7JqVCAMWS/k2gzcw8zus+wp2DGlB4qocaUsG7ylzjRbtwhVshiVNW76da5ZKZnYLX4/\n",
              "hgq253XkBYS6pTHqb3RA5kNiPmTmyh/Z6TUke10pECHxrphhs9RiIr0nNZaJZA7bmuM6dJP3o434\n",
              "H9mMXjJYMoid5TyTKc0FBmxDES8Ea+fVZ9v2iKHd5pMC/VaQXLt0V2B/26BnJCZdgloxDzrwwTRW\n",
              "CKm8NUk9Mo1nLQ7n6y40KJ97RNQw8xuz6R1m5js3R6Q6wLMN42aZwRZOFb3Ccx3DWRmTSJwHLz6q\n",
              "aXIEz34chM/1yVq95wP76x+czC09MnuNs80wRxGz8LLJR5ksQSGeyCeMPhsexONm39qAMAszMl32\n",
              "fz2VZHqUhY+y7G+uZ9YjfdiFUdi1fcV6GbxHB8m11zpsz11dlo6+RwPi/UEHFh5MqcZCqFSDux/3\n",
              "pqyjCLRSHIrKyVJS+kKN8jQtOOEZKB9OR8+JTD8sBI6DLi+qaoU834Xhl+y09sgj4dn913ds5SrZ\n",
              "wlGf4Ak5KHsjXRa80bDqyygqaFKtCKRz4raM7v7C9Vg6fA0xQxZM2C4CYB0+kyjt90MDczbNZVuB\n",
              "mQKDgQtMYRlWYoUhOJgYv3Z7I7wZ0vfdC1iKaDeE+Zos/ydq0qA+BTNDpuBvfPuAVhlWsei41G49\n",
              "gV4lLRD/VU7m78FFpQHuHwk6RQRh+ZgYkLuVQ+qtHr3hmXM5uXzUOy4UUWd3CSPKlZRAO6Backr6\n",
              "U7lHJp9TEp7HkLyHnslYpup5yclJwll33XkXdYdd9JO/aebO8PZZ/ICdJxufos2+B3EJbaO4E+Cw\n",
              "Kxwga/rOaO5u8fqo4FkJvB1ClNuLyERgiRa+a47BPEdDPzTiw/NgG9+uO0bFo02VZkCEZUetZi7Y\n",
              "su8bUHJF+skXDq/o1+NjxYH9+G3l1uTfzM29Strh0q2ctCa+PukmoaBjGZ2BS5kImqL3qqPln5FH\n",
              "EC8vEfMZhHgN+gvSQWInZPTK1BW/QM6Yv7CzP3PUXh5Q2To9OyhKWdUSG14NtQpnVnerMFO/Qwnq\n",
              "4lI6wruMvBQ/joz2zavNp64ycMX202NtcJtnXF1ZaGwWELV8rsfgyWZxXfzwUc1DQD8h2JZEdgGX\n",
              "iuLC0PHXDS+c7rGmgrI396FI4OxbsjuZnvKU67dykOR70aWAgnDuEFkL/ZzvuRusDOEugfBT5rOK\n",
              "cUqRNFYFDdJ6uR3revyuAQJdvtvJkqPRmO7zWj9ycUutPPBad8rxbmm/sQ8MYb4ORWUt9Ka4Jd1/\n",
              "TOfa4jKVXEciZ6+8nyy7VE6Fi7OruYgcrlI+JGdSSAA088b4VWd5APden5qDWDwv5+/Q1nKWDbpQ\n",
              "Xq5T318BXVrJgDjSnhyOCXduYA8gFRgmVP7lnDDyXzTpm1t0sfTL0FZ+vEdlZpWb4XvmJH9UykNB\n",
              "ffZ8kQl0p4Z9JNQ49Lzbsoqv+y2MfaUq/voZXIhg0Yi0tS7j5ZwrNt08lzgFivr5v6r8KjKKjigo\n",
              "HDGyO2Sryxhj0FUbETpj1RfzVn4Tdqk3YrPRkcc42ChLAGgtOPv9+b1ZVdLl0cHbgAoJQee0pHW5\n",
              "I82UHV5Y2y+bLRznmbDWaGm8TnFvEAzC8ZOV8h+PO4TUoy9wTtt509LyAOFU7E2bpXV1knPvaIVx\n",
              "9G9Uan+siLEMItQ313j3SKix6y3RlAH57itT+kwUj3AzXtXZOsWZ9Wy5qGSvnLK+aruf5hhYgTL6\n",
              "1WKbAaTRRqDP70yR/21Q7C2I2WID2C8+DrNfbHHncmjzDvFUePlsBnbSpBmQ19VJyHhb5qCvwBLg\n",
              "8MfPp0KNFrTsXk4vYvbTFU7AOO/xXSmc4wh5p+OdOCPjVsxRUDXV7iai3t/5bIOHyu4y+4BJnfDS\n",
              "LkSxMP5lufa/T+bx9nFKK1po9lBdSwnVsekYfxQYbzs8E24r8FqRa28IP1VsngOpow6LXFfoZVEn\n",
              "YmHvCAYZpekQM2MyY/a2rlcUNKT5Hk3g0xvrrO+NtOll4VB2zLHxen1Jgl13HqVJAMqEEn7+6uG+\n",
              "T82EbO3w21jcg+DpolpdsKX3dUAYttmWSHv49+QbRyep/5rEbgW0LxxegrkLF/8Y8JpvIGmCABXT\n",
              "3ioEBGvxiEl4Tj0K+AMaN8GUE1IAmW3njbecA76o+IrmtBhzijvCx1AfLHh+e4RJMJXYQ5KzFvty\n",
              "DcJQ5dfJqrNlDqDfBlgmfLGsywB8wbEK6NGLNKiH0TJNCWDcDIRItqA16IWZc/8FWgGwE7pP2FvU\n",
              "mGQkgeXkC+wsmZCEHz6v+epIxUQ3XCQkBS9wZCaWcJzJjlJhqIp+oNTYCUp0fHZ2jGxLJOnuphPO\n",
              "6QG5lUJasqXJq6XaxvRV532UJF5SMYhxf3B4wv/zE3O/akB+jTVkgck4Xh77OrG1qnRxNzarQLrx\n",
              "TUKpEmsQRlpIoAsKXXbl7+gXdzT3E9DKag5DAJNCy+OD55fZUmfhxE7vC4Z0CLkPGbfrnDk171Me\n",
              "nWxeKXlsfiB2t/+XpVAX3fvKRKQ8dARBY08tZ8VOHHpamp72mSB2iKEGeiluNLF9S3fJosNCOB1T\n",
              "dn08oc4TgHyqv/OURNMGGIsIJyWhmC4JtZ3RW0Zr+3agv3Tud9Y5glFnLuk9LDV9f22vLQWGwVOb\n",
              "wAuDGEFCB/h6ChZX6rAHDF6Zs+zjhERtvI6Vx2FRQYFncv5QqRvOIqKcqXQTWitw/5ZlouiAE5o4\n",
              "h7F097aXLTqFLBFSPM32HwKQDU6o9MmxOYls6pJ2N5vH5+61u7wxneZrI5DCDyPEo4FS+XdakEsA\n",
              "2yipe/jsy9AU593JfDI2ymNs/UnqZWj6nPVPfkBkLghQnt2mNiA4LfsDh9PBWnttqE32uEz97m21\n",
              "D3xUQmbXXU2bFxaOv8ORJPDWNbfRqxB7CRIYDHQ15Xq4Os5oJIsbncVHpNVxGLWFz7XWObWk6Myj\n",
              "dGaUapDMVOrhWCCR5k849i2nwH2fJ/XiimU09JfUxhhM19Ym83rQFX1vX9S6wVhpaA2exiXKGuP1\n",
              "nbx0GNQA8NWUSU08PGiB+jefC96yU70/9rWHGB3gqax2i9ZWk7Wrrx7vHlz2GmiRvVnO/mFyieJH\n",
              "L6hkS+6HZlo/mC6z0+iEXUB4KbjXSQ3f8sJBkCzlAtV3zV8qsQw3u/vdIgw3xI2zl2/f4Lp+Z/b/\n",
              "AJSQApuWjbzmr1jB/zxJr70MFyWyqdVyirXhDGViOUR5gem6CgSmCZQRIVwo7d3fTcRu3yo+WUX+\n",
              "uqytxpYXpkoqv0yzbrMDJWA49B8e8brkC6EGPbCe0lwxbKrSr0+2O+QidEc4c1vKf+BR/KzB10Ax\n",
              "9QvsrkJh1/sN0Rh/ZhgdwmOLvlprXBGkzqK9QIdmbJudpqOs4d8Q+3BFPNotxuntWVPvbX7+/HTJ\n",
              "0tMbNlJMXWGcYawV4eLKZ+NKpYh6ZeoikuLFtMkPTJOnyhnMSngC3aLAbSTs7H9VIcIAVlNADXSx\n",
              "BJiqh9i9aDGUCagi8LvHIG/scBB3X5m2/vBrdg/e3nXkqUWijvzOhvkxNCRoGp5OaNSE19KV7/dD\n",
              "sJucT2FkJRzQAw8I+bUbNV4YULPOgGplN5LHpmwjfesP9ir9t4M/AHq1ODN8fOwvB66kZSf30OyC\n",
              "zT4kGG7bW20uxL42OxO1feADMf85Bh9PYtfmY8qS/3jGmf+wx2rs7O31+GEudJgD39cBdxVnx4Dx\n",
              "V7UecE2dQ4+oqqGvt6taiih4l9owr39GrBrhlTqfIokE549r/tc+L4CRSv/arvnaweDNiQ9reKM5\n",
              "yfoLO5cSDaysfSvlyNyO2K9bdpv3mk+s985WMDdXjRpmo8qWQx8f5jjMYELKh7bBpfYmVtAn6wf+\n",
              "RKWZ4LyvdaT2ti8AnsBOTgpZfCsw+LlMckfaBkeDDyHZBUPSIHiChjXtNy66SroJSHGTVtQFtEl/\n",
              "feYhgnLpCUetHNtP/IzaLbMQNY1c6PzGHhojrYLnx8yTAbxZcWZHzKdb8bnAv3isIJhRtcJU95yc\n",
              "0X7Gnp5xvbk2XqEpwB36NQLM+UppMq9pTPf5jTWxMkh6O8ZJPmPqL1jkt7njec3RpT0cvHA+Kgud\n",
              "EwzYyCKbPy38Drytzixd+WDsQ4QNRandIemK6OCIMzSbrh8RjokgG6whXn+e6qzH+dyow35pndfm\n",
              "ysnqe42qp9dgJipaIARzh/ovZhSgfv7fSMvJgfhmNV6Q16nmt5rrSvaQCHE0wnFbLx2V48EWDAWN\n",
              "aUWqzxx1xAV2YaLVa5bwtp/t0r1uyOORPVWhRhLo/qCTrBUxd7cInTYmAsVr8BLnH+1RflSMZG7O\n",
              "EcjN/m8zUWZ+weMLkSjah5zqmVBaG+RlK6L+q9uSsuiKj0xEpqmBov2mW+PNsn5CHEBxA8NSn9Sh\n",
              "vHLxMxDnsHEIUzcp3dOBHAon0RVsSaiuDiUMvPByhQLftnQE0k/HI93NypSe8X6fRgSxv1UhAAAF\n",
              "jEGep0URPC//Ald2FOUMNQAJswMvzoYzNnjp1gotCRgr8XRkO7m10Fb66OEhpG2y0Qa8U4rB60mw\n",
              "FX5Js+Dmat46wp1ogNmR/UdL47Xsd8qoljdnukXaiSb5NniWWW6/c8LeTgYEfSjvOyQjzfdXLAqf\n",
              "J89CZoPvSYBmJyVW9U2IoUKMkUFRv99qpTJCZKd9cc/9TjUUETOsMlolxRHBkptjWwVHUgFmzzye\n",
              "7jKw9YcggVIxzaYAAmtGAjneh3iTJTpeLIr+e2YF58OIub6bhe4SjToVMAGCgyb3bdUiZsr6fdZ5\n",
              "gJZbNJzPfhNHBZBWC0tuE88aBhJT4hWC+GXUfew3Eg8QdXDgLRHKQAQ36rfiOS2WPNkbLTEZ28sq\n",
              "eOfrRV/rmsG2VIxdv20KaXTzGSSLkQGHEtZsxTnvO67V1vxveNyaRjJxScVF8QcmqegdV9rNU3Ur\n",
              "2ohr2Kcb/MycwxCD7iX+NEMNvnvOSVbjFoLF/JAemAE5vGbpWuUBUXUnmkONMURvZ/LH4Jy3rhpF\n",
              "ABydRyQ6LAxoWMh/h18Z2sJXsqGpGK23z/j02/XKb7vgMd390PmatZ9604KTfbXHBlna2zaOlIn9\n",
              "L7zFn0V2XIbi8smJEgw6Ag14en9YCdsDv00OxtISOkdoILKUHa20wIrVBS5Q8dM7k7zIz4NXeSGA\n",
              "gbG0shWbAwdnRmXZ1YJvfxapz+wMlsLZHQ1/8u5wVqvZnkly9eDzM4tcw6NGfVBBVjwx1QNyTKxp\n",
              "YKo4uIIkS6PuoLBYPUgLIeyE1nB/bz6eZfkRXIoLz0iNBOlo95oljO+K3UkFZy3DZPyIKtaS1Ua0\n",
              "McYQG1jCaz3oyWWslMjWxQmxzPBDuUWD2DKH9mucUv+1xIN5AXGnkH0XHBTFqU+E0CGri5j7ynmf\n",
              "RaxbQCcP3m2dU8TjI8ANcJ7arxrM/HhSCbJa5ni4w6Bmyqkr7krII/pJGZdyUOI6uEJkAKUI1KNQ\n",
              "4FyA6xYSbu3aHGZFSz1EoVF1KijymI1FA07oiRIeVx8uvy2N32APieY49dLgJQrsgYJSySL1eEir\n",
              "u4h+dLLAUXtO8oLd74W3i+hsbYXmBstynQnGUBi1a2eRUz54KxsJZfa2WFq51qjkPTr+dD3x7CfR\n",
              "l3LKX0U688sgrid3iHpXlGMJCWY4wyQ8LKe11e8A/eyDm5e8jtEyydRaia7pTbbMOnOZ/B2bS3QD\n",
              "sM5O3AuROK1w4xkgllUQRVY9+ZZ/5u6e2kZpTrS1R07gbAiyTLid953rniLsuVbJUp010PQsSzqL\n",
              "QNI9xL3WCUrnp1F2Et1vfOcCgzRN1CHLSxMwZsqwwqmi7VTy8S53v9moWatk7tNorbfTvTamGZuE\n",
              "IkqpWN6imDUIeQOwSPVHnOows/qd9Yv0pbIbM9h4SY6eI78KaTHycuDUUpn4iTVt71HwRAAVrN/7\n",
              "kq+0WYdpXcn4a9VNWaYkuyXrZJvc2QWUmOmbC/DQorS7OVUuthKL2yEa0n7mVpnpjrdY+3KVGEjW\n",
              "8SYvnJU3CSKWJAM5DyATgt+Ichzn9nOIlpV0uBjJO6Cvs6aq5sFqugjXrYM0TdUUpm0Lj3laisxB\n",
              "nS0tGi4lfg6IfPjQy0Snow4z8/TayTe13zWP7ZL6xWBIJ4rFin6vPRZ+CbiC1/ZTl7jPdmsi51lu\n",
              "cKhmDMAPtq6Zg08zGHHbCyR6BObi7MlS8fX4+UWuxoaJmVjYVXMSBANGDrpY8fP39Sp/TqtP8bF/\n",
              "RUBL1W31RT5k3M/5Po3Fovav5olX7PtExNTHTWCwpJrxYhW7iqUewOIt1BiIoazFn668MRrYIuJb\n",
              "URizLvj8LFDNG/bbaRTn+4L3dsiQB61Vqg8nmfq8QvwqYJZf9Puky/k91BisTdqhBelyyUgAAAO5\n",
              "AZ7IakK/A5qZarEgnwSgAE1xemCIKVMPcnfUtlJd/o7nW+I1qMiAtW6zE7COQaw8f2RlfdqPhm61\n",
              "TNTCoyENVYq6FXs09FNL+JtNaTBhDqKeJb1Vrw4kN/IX+jygRU7/wIZFzOi0gLt9hDs56AcEfb8a\n",
              "K7MF7bUje1Af4k5XPdNjwRGxa8kJyyqEiHV+9tJtQsCYhxxTfv60bVPaP3w5jnBXmgcuQFGEUPij\n",
              "IsdSkWnvFIqtQN+unG9tlSzi/gTR6GuFwzxGukRHzLXRasUmHEDye3ToKI4wFIfP8/8C0xE8izIs\n",
              "rlJKimBQUdXiIA3Wx+ynG0u+gX2EZN6j7FEA7Vx2gbh0TxYV/vqDtS39T5i0sr8riWjTVcDS2Tdr\n",
              "iHWQyL2WZb7XlkNHU7CPkCU6kCPd9eA2griVWNekJY3HnyHJeOYFh6OwUOtkcE5GipPtvsOgcUoM\n",
              "9HdYv3wtmGmJz0JXLQXlUel/2i7WdF8D3HWXfHNnTRRkz8bPQGTeSrMjQfo6Wuc/LKO8uSAJBkyy\n",
              "ArvMH8JRFH/3J0ruQuubsAE4xgglFnJrO7/GSDJnYdMLt1SktP3+Yt1ZPySLXBI5q30KOjaZzrNz\n",
              "l5bRie9ECm9Cwes5WlyiR1eTTZ7mnyGIFCYhVh3gFE1MEQH+waZ5V5dWIlB+Eo0O9NlAc6zyFDEg\n",
              "OmfXczOb4PHVfd2rUO9ea6QCUUoANyXVB7arCsmskVLVhjajWdNd4MEf4I2A/P47Qp4Isn5H/1Yx\n",
              "HzVmE9pJ/t+tYW5bWjnRCZekGwg5QjYzZ44LEAhPrTvOE2pKKM0wJCZE4GkHm4Gi6a+0PUMPeRo+\n",
              "qOE+2pOvlaJFuDEoQ2bhWDgf014yglCUnJqU7asn/Sdz8i033lGBJX+cJt512ksC/NnkLsxvznzr\n",
              "IaFdjDiogOJK/97FzpA5fX+ohds+cRa906H3n+DPd/Wgmzu073rwWdgjBR7ClHU7s9SWhkerhZcv\n",
              "J7s+A2qx2t32K2jweqsQhY91XJ5QfRn82xf2QHOHm9Y+SC9p0IdROq3jURoulinLa2vpyd4QGpFD\n",
              "eCaTnhNCDr0XZK3bI2RDzVQRkykrqmANMtP6eBEBP0w6rpo4mNYgSNI5Ix3FsKm5dLscDSt4Ro+x\n",
              "CZD8+DYYCpDg/kqV+vwXgqKSfb/LI2shDBVMjm5KvjuZjTTQC46M7Tf/5u09ZsRCk83f3w97pUBh\n",
              "4HCIp0obBemvDejv2cA//fp3/wS146Pv0yXB8DwYNHNK3CZZPTTxGLAAABBoQZrMS6hCEFoh8BBC\n",
              "UBBCwCG//qeEB82kHuAOWr2WPYKb51qajHdLPHAOFDCpCcfTD6VlIL/vvXWoDQMnR/eCHfiR4GGC\n",
              "YftYteIqvcfJw3DQCMPoTzzdJz55LreW8f6oFE+UQAqZV3ZrtOOlC+kx5bf6xDWqbyaFB9qIEn3n\n",
              "wffa83WVFLptlvCeWCvDThtxsgfEifBMptUhRMkYIzGDo5xrG6cAM9xgESU3TZOT/tfR9naxSdtx\n",
              "WFd4ezSYXVPsAgblyBjkLKId/1L2Ef3VMfrsm/VrOvhgTgPGoPEYowY0QijPjXU01NoWA1VZMJIa\n",
              "Ohnh3Rc1dIOsVkbHVk/f4bVyrvv6TT2DYKKKWvM+1kPvLYz75Cw3FfkKARzAuLrNb6pPGf4Uihq8\n",
              "XozMuQocFDsN4PHVmA7Vib47MUCFABFK/vHnG0qpDBA0pXuKDC60MZYC9QkFVju7JWf3mBKW+TMu\n",
              "ajkNr1EN+S0T/8GMfiXWvGHcwDRNVyiNTJBjcUEs9ros07AiJnr3jI9ZRNzpgz3whG2umpptjFUN\n",
              "5gPpDhCIRQlSwE4ejnprJWDRxAf9YEj6+4rCBzOU31Tij13vR6TBL4HFdlvgleMGsRHNAZIvyNER\n",
              "Yk8JR8nsMruQRC/1zDtUP8AkwgsMJCfGmdtv9JeHo2aXUhcGepA3xAaQ4Hjtkd9o4Y8C/jtiETPO\n",
              "ftdq7Ew77VOTzYOBEeo/g7wVztm6ON9UexEVjKLIdDyAIDDN5gkxNg+QbSOsGm01uhtVg+c3ET69\n",
              "eFUcTKlNFH5Ec658jk8z1yOUoJODo/nLVSbsvK9ntjJxdTjTiOpoxo0ZQwjRP/wR6mgc/KsxPP3s\n",
              "xejVLdebNU/OKr5nNTjSfz5dA5jQkO2Kk1eM1FjOnhZmBDt0lS8PKUCTzZWb9DFDWXVDI6x1HD6H\n",
              "/vmMMF8vcXwjf9tmGjiK48zjkT8CQeujXG5jSchyARPhd08dTX9D2knWkvXOuOBApQiR4xv4G4o/\n",
              "FBZWBSyXcFVbEzsUNUOxA102KCfEqYh2ODy0gHM3cqDgG9f7XWqxxkniIhfp54Jv2eeG5i2GFs/b\n",
              "LE6972YhBohPISfQUs+xsWRswf47DYWAZgKgPVQriYTObLOouDyL5R2bHBqapiGTn9LkOEcdi2f7\n",
              "a5E2lL9iL05ej7nHdsoGyJtEc7V8gty+xxyv56i8zu291x3RIG/Fx1kkkry9gVTckTbhYFWVegQh\n",
              "MnK1Tq2/B2g6bTuIVds+NrnPKqX9IpAKdzddVcaLtOop3DxkEz8aAkEkwCiFpLdK8+Ej2NT+4MlX\n",
              "rc7Jy7HfszfyyGmv/0Puix2kuEQsSPbT4xfIgBmHSYZeE4JFVjaHLfSH9yfWdB6ZNQ9ze261WG+n\n",
              "UNKpMT0VIxphV07RS3Ww9W+AuQmiXUPtHW5kfx9+hkjxm70/T6l/KHiYgTNb+E+5yiG4wbvrN2ot\n",
              "rQO9GM9k/8HD7BLC7H3bPiNzKd6Iuvx/Vl05CgDaZV3M23OU7avPm852r5n4BBOg5oo2e048TRi2\n",
              "moHZkkHPhNk1A72bPl+k2FeWLIxZJfusqpNB58wgmXSlTOg+S0ow6fgOiprDws3BuFEcxIBXESI+\n",
              "PR5fppdLsPaEarfV7EZy9iuOd59i3VJaK3yXCR57pELoWlT8hrQJNl/inyXovh/6j6W9GGi4DZTE\n",
              "r+LpBfPLpINobF0VmBok+0oLwDvAXLp3rW4xqmN3xpltDky9IHw1jESqBqbxfDWc4CsSgVUQFDJw\n",
              "4S7rbZ00b/+TJzuw7/Q9oU/BWrqr1x5Mx10TOAJEgY9zvYJqSHVO754mOlhZ2j52eQTmK1TjzDUY\n",
              "Z5q+s+Pup0rPKYK0OHMOQ43ve9r7jrwmXg1Ve9FN2TYgH997av2I77MxPgr8RmJYx+b4asPIfZd5\n",
              "jwZgujNz4Jpt6E5w1ZTotZ2wX4S6hznkZN5yJRafBRdKjwSi9j/moD33W1jzGEP4eWCY1MqvCeai\n",
              "wuCbRN0o2rRHHJyNzimwBIBQKzn+o89ERKbp/OPM+0Hpqjv39xiE1pNDwQh1PrgOKdv6cl4c4rrO\n",
              "gv2XWapKAWH53x4AnmKi/A/a2KHsX5x7c4vxmsX+yMjxYpJyIIQ/5dStqMTf2j/TU0nu21XClK9z\n",
              "tLtCHF/du5kpmU2fRKgY9yS1EHfgKf4M/jF+AcCZnFqOTE63ogLFjm9TW6ebbDmfLa2UbmIreYR5\n",
              "dwIM1XJuBIFLr750PrKyL4fyyt7rG1cfvgxewuf6pKRVV9F32pmWuHQRZP0kIsHNK3yyXM+iyHIO\n",
              "N8yhjOHwmbdfjHZMDsfYshsIsxl7CZ97O6gxtks1bFa7wqjPPpS+Xx4NQbGWs/tHVgB5LUDPSIhB\n",
              "1DEWBNcIqqfn5CQCq7ftVI7CjD9Fw8DMybj+eBfNAf5TrP2X/zzy1XEfbPklZW9wW0ltiDw95DTS\n",
              "ab1bckl+I+oW+zNovdwbly+ff4M2CdpBKWvuKuQTOTAnpRLmVQMLVWpQbhmyF9JAonC0WqywvOeP\n",
              "c5lv+AD5o9AUsAbiJFjUY6RmAcrTPCRG2q8qqvej+GFft4xNKXmfvpRH5/jL4xPHwRBxkbX7eZGY\n",
              "GsfB3EMx5jtRErTz+Tus9k/as9P46EqCNjl83hCgQ4A+h+aBT8As/CNYZl7EH40Cj99mzROjohwO\n",
              "1RHqAlEVxJb9Cs+IppdnLC277nszlPFoZ7cG5QGR8Pjq3/XX+z43aNbAYOuSMEXWdYjvYUojE+2H\n",
              "KgcsNb/+0K1G5XCPHrx1rUrzKj6IYe7VqzxEmlP+om0YjFaFf7buMc/9J/fEd28Ayd7ZfA+8DJZk\n",
              "DfQZ8DlnwL7ur+IDAuXEjODpK/vBe8xQcOF5JBfeLMrHV+f8Cuq9r2aU/wsxlBWAt5GFtN0PVtRb\n",
              "uxy65bkrcu1tNitfheIBQQMR33ueKnJZEzhIL8vGBqJHbwy1v7HPCTGwVnij5/OY4mWb2NNiZGao\n",
              "ugKTz67+lgpQqaWFrAuhFeTjq6jBRislKEm//a4ujl91KWDv1lGX+KpHhi3tTOnarv84FhDClhoq\n",
              "QKD1I8f/laY8Gu2oIhEX0Q/McrX2W7Bjp/CjArm1RmY3V8xiLfwzH9mI70h6I91klvrOoAXMM03W\n",
              "7cO4fAFh/IbPyZsqxzW+0SKvcx0b4SmM6/7KiMxtPzthV61B9MCrqalqJdMMl23kx0XdyXmfw7Zq\n",
              "Hm/BSasS/kIJBFWIQogDXz2KdaWkcCCK49MbjidNhCxYfiLlnZUOm3XyJRw73k6Go9xkHYr3TgG4\n",
              "aZFdlnIaG2bbUMVdCDu6I/qptcrcC0A97tM3FRr8JjmE6PIvEPs4r0Of3vhZ0US3KD9oROCXbkP8\n",
              "n7SpRId5/elo13M4icDYF+IIUbi4d3BKqw2GboBIqH1Rj0ktrgzwArKlOZaQc9iyNNuWaj364WP3\n",
              "S6v7au881jyin8leSwqSnRxlidsB2m+m81AS90vS2CvSbR+v9mZsAca51qedl/1TupPFLXVRAu1p\n",
              "NppggKZ3J1Y4m8hbbSsRGEaAl1wLbTMY/aoLkn3PRll76pOmDA7CtuEU+7tSQSQVkoI1BI4W2CGd\n",
              "wJj3WXHQNrMMWsihWNW8FRd0wI0lhaPJ/cG4HOtV25antuCC0pJ9COAL7aIDQzhj09RONU9CxPa9\n",
              "2gCkCtPn0e1uwf6VkI9AkE/NQPEy4OcP31ATtadwyU68zktIur0e8h5wEJLTiAY8XBcQGqrbDa8X\n",
              "T+qz9DblWVK9YHO6zOIEGpjh78hbNokeqtU5/NgSAzmycquqvorygVnMqsJFBiRk4FF4UdKb+3xt\n",
              "g7tmqUt7u4yAOjJHzKOUHErJTPCLF2KQeIcE8ojxNEBlmhMcOCc48cGkCBDfuHS3K/5zK6Tu+YBH\n",
              "vTNml2aVxq268Ulknwq+hkitB7I+YM++ss6jEXYVOlxtdfOjz7NfohfGicJ8RoTQS+uSJBJtTB2t\n",
              "I3DlTe4nQ4GLGrcjFh0YgVEf7Kd+WOpNmUpFP7CPRucEZitX7DGPbcQPXmgXNCMUObwy3siOYah0\n",
              "md/94/mSudcjRfJfgeNaUJ2BO4hCoWR5T81LUm5DeLyikUTavOmQLrqPa2/bKJM9+qBpnMYmmsK3\n",
              "U3P0aPTtauUU4iHNNWgP7xCmZIckK6zjMuf8Zj+ht/LgysmvcwnRT0TE/EvGfSzXJ8KWMiugVNKS\n",
              "LVtw6MgCpuV+iwBLiPd+hWlm7a2BW8FqvuMYkW9OVPLHQL3oPj2CNKUXy52rpcZrqq823V/grFT2\n",
              "YFhJXG9OXiznCIHF8KvNtS95Gnk9AGI4WaQsyaYy7TVAbtZq6N5LG+e96dV36z3+aCuDFm3S++Vs\n",
              "EcY/9CoiQ8qKw5ssXDWEdjNwZlNnYo74cjw1go8043UKeSG791meB3jaj7zqlsI6bRjL5FAfRLJe\n",
              "n/apMKmCXDSEb+OCyKJCw0Ls3jMvY9CBYtAJSFQm8wLl/dVXcV4+Va+6p/o/GiyI8uWye1cMrLBQ\n",
              "oiu8ds4FVAoUZPIjXd0EdkjH7BPdOKN/kXHicsMvC3CMz82A4y3tnCQzEBPGVYHMVM+nwktpr3P+\n",
              "Hs61avUSgNGpIE0mEwyk9CSyCBPkLdCAdo0Fzk9f1lwTBipNvWPNwQDxxh6ae9tRHL9XibPBzGzT\n",
              "1jdjXYWAxwVmyT3iUO9F4fq0+hlBywYO64mEkndfuHQLia8osBt6VxvKxU6uVZpgq/e8ymRnZXqG\n",
              "Kt2SmB1Vh3UYkpnVpOwRXuEejiYgrRNNZJjHOy94AEPXx+OSdaV0MlnWhV7O3KVr3sQFQR8NJdtA\n",
              "vh4KKpM73I6/AW7tCTCCZcfUsn9kJj+Tsk1EexftYzWats+fSymzDMTQAZRtHwkp2ME9upWGkDTU\n",
              "h9XpOeHv9+YBAFu9ZPIuEWAepOzznhNafiUKV2bJif7l99GqE3jxF378KqYCw8K01WtgoESl13kW\n",
              "XrHqqEYZt/4bTdz+5frGJ+VUScW4Ion5aSR3DjyvD6Es1jgWBdPBbaL+iiK8eA7tsC415goabAlG\n",
              "0owICMzMgbA0WnFpfXuOT8Kz4lqbEShxFnutLmRw8WN0NgrKRyzweUF00kowW9/6TmDrgNEcrDTD\n",
              "CBfdKg4G5vHRlPAcRu7bt4jxn7/2xKlbmYs9fvaOog/SPvn3k/QSpsOjaAd9FyB/0xattOsd7Fpk\n",
              "yLTJfI1QqtMYAC1QoEUGdX9a0BnQobbu0/U5P6t1Kz9CeFLe2w8xklT0XVNUmLuqZauLJtc/WBg2\n",
              "f2Z43CFs8HNhRp47eT1ENCcyx8JKYHgFLqdcVULBPMpEIu61whu13/hAK4S4rnTGP6vf6P4SIUOd\n",
              "jn8Rpr0JEJz2aeyhkYhl6+Br20GVAviTOd8rozC1QQibzY5uxA3oieLtyrWCD5DcnA/HNXdJchdk\n",
              "IBz7twzIZQzGc3wE2C23FyjTvCtwHkXau7xgZz2RvGI6UZ0qZ+7tPe6+HXJgHeqOD5GnIfv8B8mD\n",
              "jOsqngakbNCcDC0uA7Xy7+Qbj/M7fKgSL8bxS0A7By0592ziuqYIWyMGL5wxP9Yve17aRrxE0AXS\n",
              "xGJgG2jUO874LsaZZpvKzDFbN/k5sb4F5RtxAAAFBkGe6kURLC//AlfDQsNxACxFYumazKpf9S7u\n",
              "hG/5bFf7PW/9wTwATIdBotXy59pLmKZSlxDqURF5HbYbxDlTKmhJTIgNSDQYxjorWmhggLYlj08t\n",
              "hjuBQ0HuYb7JYES8wqYiLJ4nx3FDttfCS4ORr/TTx3PFBMyp0AVc6+uB/9Nn4x1ev7plkAI0N3KC\n",
              "MSGct5CCMNTx1x1lXVlcnPocqwcy9fhbdK/QOwtTMDk6nu9foUdwmTTF5iwa6Zo1AzO9kpHV7t2q\n",
              "8mAs/eO9xcARMzIs+yHrZJ/t8EsWlsRiULv6BDn4wk5PAJL0EB27SMW0Gf9FMOuWPDBk0RaOXpF8\n",
              "8hPAG3wez8pwMPioyeTDKrC5SKmCBwC7PCZcB96AS2EkaVM/qGNqoKQecsY/ZVA6x0qMBkfcRdJS\n",
              "TUcY6/xqwfDSh8ku6nXDhRUiQ/722xoh9YK2nPD1xsIUwYVfQCMImU4mDELK9g9fyPqSmyY2fTud\n",
              "pNPoWm5Msyv6szCwHsFTDKRrwORWjAlkQfEzdVIIkyW0dmngU+Q6uG8BD55khtxDGqXwkvU+0lkW\n",
              "3Jz6Gt7kH+qahWNzQLAIhzltRZ69QXAdgiGmZgwn9YFSNbhDq7XxZe0jiCq6CxHuYQwZnLTzDYTN\n",
              "B3U4AYE5Qr+GULD750Ng4Wza7DOWYglfk7Q8IJNRBNohC4D+WMdx9ZevFOfGGgTzGQorMhx9NUYh\n",
              "KVf9mTk9ibcRcwaSWdCH68v6bAyvXJd0KEYm7nrBi9sSHEcKxYMVoCRTdXZHQxrL68qgr6S4ttJC\n",
              "wrTXihiz9lHynJM8pgTBugygCZYE/Ckwy0Zy1sPprIjjWyEO6EVHFxNIXbVYzk7nhj9mZSnnruuK\n",
              "y99eovr8eaXgJtLGGLQRyd9x/cqXaYwPLovqzv1SB6cogsqa8HhfZEEwh7IfQruu7cb8AA5eImF5\n",
              "OS7RJJDemWyJcV8uRmAg4l8VK0X4QG2ZVQoCeDRbZf9SrlPQZm8BIFloRtZIAxpnE1bTAtaDwvL/\n",
              "9MpE3F1DKht90f77V28/zGcLJtJ3oM2niGGLCXg1I3+cDb5h+a6cfpSQKc8bbW4vG2QJ2YCefU7y\n",
              "kGsB/lBIKFLdqUn2Z514wLpFH5pjqrvZ1Igo0+Ro9bpZk6vSbnMsHrLExnv5Il8KbnPjjDwZnvl6\n",
              "40OEovJFZYz4HFi5DsUrsS3ILxel3bEZQsGYRCFQj8gc7EWnUjlGO4S8wG6yl5C7+mUaKJ5BQgi+\n",
              "TYU0iuYzOPVJHMyAo4wg6g3rBE0Ve+cGSe9RQzi8DoF8pa8r8d8wbw2QyyLTQGbobbmauB/M/jFh\n",
              "syztCvw4FbSpN1eeMtf9ur0GLzZPMUa6edrFoc3+JPk/9+7etHDS2HBCctrvozb3lyIe96QwVcdl\n",
              "j/fnvupUJ7IgcKrlIzE0EtthtiGgLkKbAUTkj0PnsZU1L3+Qd1KaQcz75Q4C+TlEq8M+kpJepswe\n",
              "MSmZK9nvvKlXnuNsCwwedUHvrQb0LeBskC1JE1Wy3TISwYwdUBXRdDd400xbZj9qXYz2h8NvXNKp\n",
              "J0GrKYhJzBCermmI0b6rs4w4ZFll74X/Er9r6bHLQwiEYhdrH7OMLNf4mT2+rIgIyP0vSKMW67HF\n",
              "xcEXH7Jl5TJYn2SMnBp8rSU2gWsZI7yCJTOFGgdlmoetHx4ZXv8ckGkE/ICoQgV5gJHf2O6KToIi\n",
              "ICM7LEi4AAAEZAGfC2pCvwUNe/qTkAEsqxTrNvQCWZFl2itu5F698VSozY/MXBNnLwZjlApqwLan\n",
              "xe+7DrtFv6SyIgdzef/n7ULQ5rQu4w0cIGk6NMa53gjFq8xvim8yhezZsOvDO/hySfzS4dKLrR7m\n",
              "BDrI2Dhk9uW88C5CHq4fy3gJOL1ip1AZHVShurNTu08jIRqbpLN0M9wuj31vrdCdlRCDcH6/ELB6\n",
              "290UmJmHGzrWu01svbERiQymR006tmZk2J8O0S6BgfMRj8g/PbPRXqVq3kBFlnOOuJY5ygyCGoc1\n",
              "DIYTU07L+/FDbxIj3kzBGw0rMUtp2uMDwsLmR4Qy0KFVklhRJT03ZaYAKkTZXFEO1DZK451O+SK2\n",
              "79tKyzjBxRnJMzt0G3ZGumZNcl9cL+mXMJ4Z4UfB1ONsJgPO6X+QZncqyUyp4Ozk8HPZPc/4iuGK\n",
              "+pyJ+wctkyGTfOi/CbshcBO8ix0G2bPzD412E/o44vLqeGYvN33t6NxXDTOuQot1DRsdPpHHTXaO\n",
              "5UL/cJ351U+BTS3Qc2DyrMT8tOpMfzaIzgb0+qlAT9jEyMNeeq23H5jYKF25rLe0XJVgUd0aNRBR\n",
              "UbkkmosvQJ7MiaZeDGkQeVhPJd2wsQA46CcdfLa8Gz2rNYhMeIdBeNi/45FF9pNyg5u0tWXKM/9o\n",
              "hKu78OjAffrCQtvR/gc93Ecu4/k7Oqze7PcgQJ6u84Sjtc/zZvJHsmElbN9/b5edWyGZTANinhv/\n",
              "Vp4q+fnkhq+IPhF/L+A50xBYNOjJoNzun+6JWl0r1TMLkzbT450iEJAZKDTS5lBhoEP5LvYNjas8\n",
              "adhFm2jKJeV7QcnxcuGPJY3RqjbigwGR8nwSiEcjKYbq3oEo8n5Y7YExccOa2lFaEP4r6C2AD76y\n",
              "tkG5uO1pOPi7t7icLwT9t3Ui+fmqiVdxl98hXFMKU5KNeKCmUJc8LlOptFVz0YhWSzNyUoe1PpRU\n",
              "T2fXGAoa026Ywv9d7L60LMrEwrtPwdyo+wiVQ6jE/GDTm7234w1WGsd9iZHRaama8LqpoFVoxj60\n",
              "p1Oipjj1II9tW/U+QXANgDh3llyLBe39R5hsufdfltdtdpX6w18XmeOKVB/fwCwJRNX/9b5JJQtW\n",
              "Tsq93a/Athp5O08t+kGbyMBwcnunUgFz+0hyIJd0k4zSSGloGg4nilBJteBRceK9zHvtR8qpIz88\n",
              "M7UTHi3yD0C4ub603LcaK0d967jytTP4HhgG0UU0mAMNhcHNeih7s6gAbOjmx/Eofv+sv6WvNXFW\n",
              "6iI5UFeTw3vaoQhAhS3irQ6rM0XbpnTRgSLPWSz2fispxoIa0KnSWL0KqrsPxkLSXfQ00l4Iz3k/\n",
              "62TaJQBpo8hLDTH3it6p6rIMbvaiYnx41SiEQqtkEjqrPUGaeW0Ud0/HSSw2vLtBeE7O79Uh6ElD\n",
              "jtraVpkznRyE0pqczIlMZEUfmBp5eP0dZ91KD9rKX9Wr/61uP3rOWHoGpFL2o0Rrq5UzAAAK8kGb\n",
              "DUuoQhBbIXBECNBECUAh35ONZ3kJNeqbGwfeExyTkAAACWkdc13zfUbFWb8HRHz5lAAA1N4uEARN\n",
              "dqVsFfciBOQC09SkzmWMvNZ9OmnYsbnKoY+iQfKNlC54timuUFpFqP/hooLQMyEGAZpRYL/S1Fjh\n",
              "b6CGsyCzl+kU0s1YblbkH+jOIcBvY9WTwaftAbJ2Ms1BKaPfnD3acppZuZWsylrxmazudS0oRf6C\n",
              "wJBcdcDBG54OOxa/OUAkaYxg4u7mKrJgyR8nQ11CxeXsKN3D9+jE+p6YPc/XjiZTzZ6YNDTKdgJa\n",
              "P/ufL6sGVh4xNmY82O6cJ5UxeX11pFvklPylJOnk7RXnzfZW92mBkJVsKM6mwFer0dvnWMcWHMbp\n",
              "zuIDT1IbnVXP9NwSU41MH2b+3NR4lqurfKklhhPEHOaRSZQs2640+pKGzXEY/qmjSgiCHVErCFPh\n",
              "fMs7cMTNJmtKI8Z19aazYVSPeXcpOSsdBUxjQoOrTwjnk+sVVSWs05pQ/P/sFFVwAy8FV5ZAJ3bl\n",
              "Y8vqsmMck+CVQ1nbaSMRwd43YCi8JL6XyqDgP8H2WjRNy/mr8vXuEKfcswruBGnuL0YaddE34A44\n",
              "z1eilejquGfK01ScdRI4GVqJSytZ4FSQyElRYjjXfCxdUyL5YSlH7YxTgusJje/QakkgjQGqxe4p\n",
              "uFLGBMNiJMv4JuXJsIsXYfSzVYjdAc8RpqV8sErGY/FiV6xlfnXsVlOXgTAtnG/PnMSYSnxNg2bv\n",
              "gDBBmSa18N19m+YpcQHlAUYa4bsB3F0GgTKVJ/HL2cXd287/X9WlJRs3ivt9crppqTxUTUcl2io+\n",
              "Hl8+bTYkp6B7BVZ5XsGl29zueTpHqjNB3gD+YeJVBXOjWqaW6xm9GGGmkrnQq9fc6EtqM/r3KekM\n",
              "cJ//v2dXTruPEKCi1Q6cSDoTMfydSGF9DqJ9A1t0/Esv2MS4oqWsL6jmBvZaCgb+BylLW4UMnPp/\n",
              "+xMc1V8hroQuOEN3WaNJ0fs+W73Qaf4QpjvWEgTSA5ujlXHKP/WXkJ05m1CZ9taB9JMQelA4Y7JL\n",
              "8uvvQmfA76QcZWdApE0hsIWFZRCIqKenRbo7sUITtJ+tgkL5oD6YJ4oJ0mA0xSahC7M78CFgNSnE\n",
              "+hnhfFY+E0+hVOwgxqnJhvQdPlOJo4vQ7OJ/6EdbOQx0bCxQGmTfcFKAITgGnP/zdKD118UAl/cS\n",
              "9wmHD5i1MIlAbfQvK5FE+L6nd00d3BY/gGT4T4Kfno9rxR/SLma6+RVjOg0vdctFtDIV4sgxjvpX\n",
              "8WquFq/deID+idP8yi5ZdC0YaV7qPF4NUDAOh8KR7+O5nyvw/cd8tjQmi5ZmqOhwVpFibDDY6SCC\n",
              "lFrltIXLSsEWpmN0Vt8juN//CVMmHv6wFEG/pgWEKbqVme4Y0tONmcgm0GHLF4KOFUtRyBzWKqUz\n",
              "5WtfOAZGk437bBiCBRxEwC3PlJ0RmgwqegZ3cYtysqtgT4IyO9JkSFy0n0aQugQxpfhE6np9T99N\n",
              "IxEYcTUyYIQmUpHoMZgGUOjtpg5ilk5CNwlbWPZ5+d6h/ISGMhsSuKq386BONEZeuLOVAncIEsAu\n",
              "bdjMJ9lbhf9rjOYrONOfRA2k3Wj8xgDuxztjbb1PV0a3XvRJktwc5tsq85xJ7w1H06VuWAoXNT4x\n",
              "V1sD3eiSZhBFiGMsABcee18eeYSFnfEDhxIj0eYG/8aVDQYn5hXhvrSlQxFYqKfToiEnJVTryMH6\n",
              "yNAZMnZH0g9Wwm61JOFSi9a76mq3MNRKAVgfXTF2DLFO9e/6MSIcBitGqPuLmPl7+l7siW3dCosR\n",
              "/5Skj1v5SDlzrIiFj5vnjx1tY5EqX+VTWT+U6e3VRNTQxpKPCwFOWOIavI3AScmren02nIv9XVwK\n",
              "BjW+W8T1Z+6P/wEHY96+ua0MPB0iEuZpgou2nn3d/gePBGZV8mNVMmJVXGcRoANcWmqGICbKneCw\n",
              "exLVXIPDpG11Yn4oRN39QuAKVK+Qrop/N4c+SEp7KSsGcEtRuFwu6J2EZNifXufUGj/Z6G3RHvao\n",
              "2Tg8cMRSH03Ii+WONaXfM23ZRvLbjjRT+qTqkQPWdl1ViEgsZxefpubRMqc7RR5z6ARzv6xkT42W\n",
              "Xqs3gnKzgL+fara601PGnwY2NXWDMkEqM+pofFPzNbbLmzVcjDa2YUK4YHhD7L9hB8UdhlfK9zNp\n",
              "T3yEMgUYosMOPVGUlZxRksBLNXbbptbzWfPcff9EGhTDw99vBpekwuKL76vepJD2tHYRy26T0sPG\n",
              "xfTji0RFYzRyh3uFMNaMMdwOyr/PEa3JzZRtgHJB8eerahBiEyqEkfXfhu22pbrha0lOfvxCHb1b\n",
              "ZavQ3SVufkNBPhsY5/e8/mFyuHrl6lZgNKkjDBJvSJBRJS/IsCBB2Uxg0X/qoWXqyFckKJ3wxxYs\n",
              "BELujOXIqoTCEzb51RwyDwT94PNaNuwcGdWSGJJUJVermLGc0oYNIhVA2TOj3QnJM5Wz1oP0LQEE\n",
              "jPJKxk8foVms0i8s4IFCvk59oQZKOoxk7nwfmW1mtqqS/0o6kQuuFZbIa2z4QFCQKHl0rGVPEQHt\n",
              "u+aOf3ww12ZOoAF2RNBwlGBA/4USz6vUlzqwzc5I34ymTeQmHJBvEqkoLvL4l26qvjN/KfVVDwnj\n",
              "TAKvo6LUE1ftJ9RH9K48PDBO02yBXpmY525R8Ay4VkWtmyL+85R1PKCUgAR/A+z4D+q02VOhTbnT\n",
              "d/DrAvxxiQARMqAJuU5zreEzzm9XR0M1RnMHhY2FHHckAFKiJXe2c1+z8jWAYi5nAxK8LoMqtgP/\n",
              "EWuX8jrlpoyI8UCWwHkAVqGhXWA+IfVFy4NglG/vlD1Eqm7FJk6QMoBCmPniOwo5Dn5ZZzlTwd0w\n",
              "TZU470R0V7dqOxJ3Qsx9mYna+WTHZ07Kv0eYrjSZHfl/ubpZbucVPrK/RXxLDUBB8fXgvYq0IwTP\n",
              "y2lO9b5TA/XMomkkLDGpkmbZieVjeR0HEnp3sZd4MkvXWcOiyXZV+fNfZlNTFIJ59zX9frzYk9Sk\n",
              "zh8Bv0NvUsqn3yuOgIBrIXnMxZ1k+8yQwcRg5lp2A1YPgAAUPW/LChieaJtuTVLybkJ1Iz8WmdtV\n",
              "DDkWe7sWh9QNR7TMaHgG/5ulmSKgZyVlebuo2kET+khuw1afvR+qWFrNujVuCmr7yHAmy/umUD2v\n",
              "bfamlDFQAI9mlypq7S/xqZabsFkiQN2sYUw6Rb/4xbYNNSMpRiU5pvWbXcHxknSZKMY1Kzc1LBVX\n",
              "GLvvitbKCglvQr1RSQmwzzOfN/UuWLh0qPsWgylw5xEP9wEFAuN0MSvNieoheaDVJQxWlnd9XASP\n",
              "dUqOyTJpBkGl7EhiHno9azkAXKw3lubre7yfMZDO4XQT0B6SdsD4ZK60YTstKSpTfIwAUeKIvUoF\n",
              "qHG8cPyc8IFBB3VTZQpuGGdbqoO6b/lhfbCTXOMMeFpU5OXKNkYejLCqwvlOa78smhAILuYOhXuG\n",
              "Owd1KuJToKHiOQjv1pZldIuSUowbqLQB83/pZfQRfclQ1E6g6g01BJiZuVJkY0GXvagwNxv2Aimg\n",
              "Cq2Z8wzPVi05P+Tm2W82kbH+a2MNGD1DB0q3Z+zfw5+f+e83MMLrRNk81Z5KSuF07CrYYWPVDerD\n",
              "TrJcqvGaPjR2soAGwHgd3wxQ8YCFyFVC4RVRfPHcAaq4yRLWz5WJLCboT5vduH/RN6rcAImAJyzf\n",
              "5uwG8AATUQAADr9Bmy9J4QpSZTBRUsO//qmW7LaBe/y77VLVW/UohOY5aGYAiM/71dc6dDNGTkKN\n",
              "ZszKWnD5bjrYbD4ezX6oCa1EwTcPmPLAUJN31Q9Rnrt8HEW352UnvyjqmzdLI7WA7mDKYg56/OKt\n",
              "JoNxb6rSeHJhYV922JD2amuoCPyFfesolfvHNstQc+XVlTOwEmXdlWM52UKm5l+oy9LOLT2yH+LS\n",
              "RCljYGAOpqfPCKwgfNJEqiWBryLgkmX5L4cmZRYdvT1/8kwXREbJ3QhDaSGfBSMSbtfZR8Wgm1Xe\n",
              "8rljFIy69zWLDC3ZN/ZNZ5GkV2RmIefsuO6lcgBJVOX6m3GMVq3zVLXfTgSvvL/vGiKEd65i7DeN\n",
              "IaMG1vZ8YDOqusARLpahU6oITuRsPlfkKBDJGF1B4VXEYBPGU9SBzKByJRf7WHBEFuXQ43BEcjmF\n",
              "UNLDI4rqXzykXr1HxsTwznNMsYLfL+sKlx5V7i87NBfIDxYnP2WQVijH4bpk7/IB85rog8XsPLRf\n",
              "mCDgWY9g03vezoatmrbbJ+WvJvi/JM6fLiwlkHsQL+ZYjcEVjuLWXN5uWXLzuA/cDNvlQcQXWMsB\n",
              "1NJAAmhuVmDBPbiR0/ni1gvcW+wgXy95XIDV2fe2WZC068hsCQiw42rCCCYJ3czUL2jzF226NdkZ\n",
              "cf4tOt0tjSTMR+B2BAafOl+lESeUHXdmiLn9iYyDp7QUKIZD3oOaEMyqOyz1wEYIRJnNYP3Ixik/\n",
              "K1HfrUSUB6KL1QmqTM32enn5HCR2WKcx/ANXbgcJE3bazdMAcdCHYeNAGPC0EiRjRBfv23KL4eJM\n",
              "nuMWiyz+wlMG97+hVBCKaTBk7PvJwSSrVVj1wW6pLR93CNxdQfDWuQdZuUZikU9NcMlzeWAyMxy6\n",
              "cyavghjPnRgdAJfHGTYNk8JrrOhpVckum1eX0sfdvTkCTAZB3PRXZ1D75XYT+dTCo+Zu7hUgifPd\n",
              "a58SH7Ps0DF+jP3EiDq5I6rjJJK3dItQbs904sbTXX5LBNu+EfJrAGiXxCnmiEFy711YpeScS4wt\n",
              "NVfRrfL0S+MApv9X/D5iSHeaJLpw/lVWIUykAbT1azRiAWBio9LVeqssYGP118Fwa38FnjqAbzyA\n",
              "wdeui0/Xi4khrxZaF+v52exMxLqh6nph9Pz9HkU0Wx/BAIPwI2egXneUvu/rZMCDs2jf3+aZpY+c\n",
              "fEOTh1/bl0Mj1w01IJaJ0afN4rB3tHcO/DcgfOA42fM4T0Tw/QTLSpDscZL1YsexwrNb5tYIfBWy\n",
              "SQ9mXYa3S3q+lrs3uVp6oaj8OKiAuBtbCI+ReJhhu6e0/7mP9FVlZ0gLYNcScSpv9CmleIHZuyHS\n",
              "d0Rilqo83LcHZrspa1w2iO5k5y9sm/BiT/pe6isK67oCNzLsC3OI2dOyktxLbpMOA+QF1uErTOqx\n",
              "DNYfJEiqpE0IrBIZvxSMdd9JY2q0Q0r4ikPl7YXWf67PJqBfAP7P+4RUwh2uM09hv1N1sEPUoeMf\n",
              "drRMRjLkr71PcXF74rtSUu54eGY/Eumc00kmjwKX815lL0y5Ucw8KrM1APfeJoRVfGKf3eGX8XH/\n",
              "YqlCPiGitZlSJFI5LZZTDkgPIFtu/OAZvsX4HDNgV5ANMQNImf0dP81NCyzMac2AMwYDhJDuJtoh\n",
              "BDOWEs0WI9OG3fPViMFj11NVByxz8JXSrh7R9hVOFy5ZN3gW7hW5Pa4FgQAA5DhDapJ34Y2HEGTC\n",
              "+ju7tFMhUR/tUZOvuKmjdiKDejf9Mm7bh2PyO0ADikBvm4JEZ8IcDmTv+ec4EivEX2z1Lu5T6UoY\n",
              "EV4/Hrq5yghRwFQPSsGK4+WgO6m1YTyaSVfmAZYMUiQB8g7bLEHH/C8DuSUR41/XLFVbemxBd9LI\n",
              "Yx2++a8nmkpYvcokP1wZW617LJAjiTq72CooWgpBISLvZs+uMvKcuCIVnACMQ5K1GyA92cBM2P16\n",
              "aFmsFzmelZ6cJxAARmvHIuqpgYJlgmx01Ngvg999W6iY/xiHFXju62IOcvFNQ43ROaHrqv5kgJpD\n",
              "sz3Y5uCGxoskFpUDjaoNguFZCkztkerE8cpG5R93UvX+PEH61U52ZFtNxnmgGm2+GBJj/TugKZvx\n",
              "AWQi/b12+W73EpcViY6Dc5qLVqKbqQpiNMB4/xE4bdyWwIFbItHITL98mMZz4/5nAMf0ud3/5gq+\n",
              "oIoWLL5GFoY9G+A5FWopVPtNOZ3dtYJXcESq+tcP+ec4hPjsVi6YKbnOhw1scpo7O/3sMDWShXgh\n",
              "PAeODPxW0iKbqyirvf/riGQrDAUs1UMHpbqcux+hkl3OCC68X9tMDwonGAw9Ha3zaRzTpFLY1Amz\n",
              "kQHEITYvrd95tOvMYmOBUt9lITYl1nRuK6Ap/CSxojFKcsaLD0Py7KkFQl05wxze0yebXVRtYixf\n",
              "lSD8+gk/XS3O9teJcGUvG9XeJpfk2PVC2Fl3DXY/+3ibbEbHFxjSUSm6n0EU8G0i55EXvU/CX64a\n",
              "9NSJ9KwJesTvQb1yPVeKTxAF5mLXdPRKo4+kFaB2xm/Djc0RoqlP32kgtx+xs3rqWOiy64PtgpAF\n",
              "Fqy6Fl2GIRyrcIZGuC1pf9zFIjWhPkV+SMoV41OhgrmliH4x6/exsHybSa7g39x9+xgYj8WRmrOY\n",
              "5VO7O3/wXGlGokXwBtGVNX5T7cDjfB4+JLiOZTNGxGx1pTgAhfaYaucuBWATABZvp7piVvjdq1Rv\n",
              "3Ng3n/nWreHVkTC5+J8OiQvK+W2rIuEHmTY3S44UOiFaWllcs5HPArAkloz9nIVDavNvRWMwmKVD\n",
              "C1Y4oe8737eqy5tVeoBwmKNeAk/fPAPKT4k0vrjHvHE9V/j/WVIZ6gWHCk7q0Uxmn1zT2Xg2Wh13\n",
              "2+OvMLq32OyRUqzD0dosKgd/YcAZTQ+DuZHaNk4/uN2UQkRGY1TRQ0PC5LMAyZ2SpBjsxaUukRhz\n",
              "cr32ThGJk9JAPqkgquw/6lXkbGCUmnotyuTtROTlEHQbkWK+d8lcTORil/U1Lz/rh9VesampaZCn\n",
              "pP930JnV7aOCzfKliyvMc4VZEUagJiQ+3bhGw0WBLqUzXDqnvq2k5lePE6+1pVRMS1kPARAC3AAK\n",
              "XcLqKrRO3/yGjnfJwuC1daLwExKt8oEh7+m4y7sYktqjuNhvogGR8QTsP6ud/B1WbwBAtHc+Qkka\n",
              "PPrfpY6HJ5qA9XuCe9u4lh2vB/RVXyKhrjr6vOAZ+X5/V8+TduH0CO9ORIiIIwLtfv4PkgRC4KZm\n",
              "74S5rgKAx5ULui1Simn2WQ3zJbN12+ytvV0YYAWkuDYNDN+SQ15b6dVKyVbGz1FtPScLsoNbEpo7\n",
              "hn62Tugc5y3PEqbcSmfABZxTyVTzvLO/zFZFKfhMxlsuw+G4uDoAyMDr2ek2JuDaOHN/i1RdHLdv\n",
              "97ia42bnTdvfgX1WmmdREvActk9Uy/KAYbdfvNGCZ4r38P9EjFgT1Ckga7x/8t/hMqStOkRznDL2\n",
              "XvUiEd4/sdQ7bBZWdlDNuwN8CLjiwCv4mmbiGHmkBMssDCnmjqPl4UzPQVBECRcdVwjrqmdgL6Qk\n",
              "+9jnX+k6u5vPd51vmpgpD/P2SuBdBPIBC4qgrzTLhLKzu/hmVuEtbuxUTNAsXy1pLSuy7mEUXxN6\n",
              "FuRHoUYBHiyoJ/Vw6TuQ/MWajn/SUUmICDfLlytLysDhnDMBrkgePaeRz7a8uxSWD+98fUk4i+Pd\n",
              "qPNNU0vHodkpuqRDQPiFhBvt9+81ZlvuoDgfISbvRic0wW9gkxqz3hqgWrZHMFbs6QrdQ1yutNzL\n",
              "uywhdGpObPSCAPy06Xl6/4N51cE77fpy8opOnyrELoT5mLizL9K50tXBQfazd4QGUWv+tkwnZ4/F\n",
              "Am7OTLDE501P/V2hNd01pzgFMwSpyMP7QR7ZR1CoohGTtWXIOokomF6LRRODeRkM5kSlcifz1NJl\n",
              "Gjno8Erb2CTIG5y5d1MpPQZmfbYkChQLAs0+O61Ae58YcbbJuv7Y0IxgdFu/LMl2Gkj70HR1U1cV\n",
              "4d3eTEfpcEf/V9Yp3OfAiYGjiIFfYTVvOUhKYTs97n2BUKDHokeLmZkW/EYr8peAYFqG143EtzVt\n",
              "AAuGtBj2NRBkXiPeI4kOd2eBJFXH1jWC4ReO90pMTF6FZ9kHMagiIFuXZhR29qxGSuKrPjB8Vhin\n",
              "ulADuQWEvabYSTnY3v7TeipIqOXqZMHw+U9fzONKzAC/zEpPQEcxVE1AO/JEAZF1d/QvipM1Zd7g\n",
              "WIvoX93As7FsGgMdLVX2ri/eG93QRj+PXmNvsk40T6G40YgA0swmPxfbCKDUwQX5hImrdpADx3f+\n",
              "CMS8Yv+bj8b0fiF5YhGrFApBgHE6tY08SW2dkoP2iax0AJXMYZ48bfErqVDdWKbaP9WZWf40+mh7\n",
              "PsAqPlBDhIyoPVFpv5T9GcUqgktzv7wUouVLeaD2dVzWcZZyEjHxfmqLPPkZ181wIDx16RPHRMV2\n",
              "icf5wy3Qg0aQcAyRma50ClxGTsg237EBxaAS6LzCpcXd1C3c5unUkhyV99DmfaAsavkOQmuO8byW\n",
              "r376huMniV08fk3Picg4p1vhWVUu0yGwKtqoxwtl2S5TURORCGobvHK5Tl2Dh0UFufuI1JpRjlhg\n",
              "KG1gSm0ww0o9hdOcPIo3t2iKDUDSXP6I/VO+k9Oq6+DmdaEzSUd4P1EnknqZyxhZ+JYLMj+KaGlP\n",
              "6MqAAOgwHYj1Uk2zWb6WNuTK2JZR0E0xXv4AOXrYG71RWkRlyQQ6QxdzlRMm6yTBR9YGiEjo5elR\n",
              "Taw8NL3YA8nXuBWFqCnVD2GGq7xcP/EueyiQB6RHa+Y5nYV2xjgBotURTneUt5+wrGjCL8O16Ep2\n",
              "GeFJJ6KZQOWh/kPFSyy40FN6dtUOuwDITEYAVq/fxGmVo24XO+m92A9ZuVIYth18IUx0YPXMwAdt\n",
              "8BB1ewDUAxsT695+7W2bfwHuihs8o5mql4qQRBPF8q9eQ8n2NH/pwQy+TIkenApca0VIcp6DHf+d\n",
              "3L8V6qP7laJ/mAO3B4FWIk2+1YlTOQWBAAAD2AGfTmpCvwXtZp6lfqrwdAvQACzsvSnfo5oKlj4K\n",
              "jCA9VynoCeUuF5LkElacgfrQD3EDDVxILby+rwDYNVCBVJzqkL+3stvIMYMpykGm8YgMixQh8hnK\n",
              "ksK0lB8qhnyH9j7nDaGTOuijs6KAE/x0rtc4CZJwFlwjJxrAZjeUC6gcdwYy88XzwnJ5AQgPTsYE\n",
              "zx4MJnNxSv1wiuKdnnpENzA4/BwtV/I7y82Dq14WAjvPU6/q9z5fzPukPy0t7yczHcwWDOT0DvGE\n",
              "IL7f3suVIEttm7gRykkv4uVGiN9+XYYSwO1N6WClYGi1zbH88IxbiNuqQPHIbwpDNRcLul4s8eV3\n",
              "2Z3sGMoZuUzpehpIkA/9EQYayL4JCdX+Tads3BQK/qL9HUBu/L3MJMsfZcu/AgpOtkeVu7ElV838\n",
              "tT7MWcuxaCQaoWSuiXe8/lebdxWDNMpayMp7l5S/faEKrjV/OZiCCQI5PTVXG1u43pxpu9UxFD+9\n",
              "mZLECYkFskOQLvTu/30f3FfOINpEzI21OhR5N0uBjCVSu6HW8axCtZqahdPKSwwcAOD/1+WP5WIi\n",
              "BT30aLqTA9DCxgOvHmBfU9FgGBlWhJppeSWl7fbsV27brNfyy+PnSLFyjd4PtlfEwMUO1EhyNLOJ\n",
              "wDYATkymIsbTKzFXRjmkOSz+Y/h7hlXw/xuit4jZrBmh8KX9RzWrJeIL984Qi1SFMkJZ9+NrFgA8\n",
              "c4e6etpO1mhaSIExbYgZikzj684V0ALXNldPYM0YZtOuB3Ghi7UqzTtM0sfaevCTqdv7Q7h0gj6Q\n",
              "Ca3SjYfieGDJJFWGejY4kV3MYTA9VMKDyZwbD6WP3RoeDLjpCfCl9ZpMJrbjA7KEAIpyIis01NwR\n",
              "racBGpL9X1uc6MOMo2DpIHFQe6NLTbrLG8X1ZpP3+Jy5edGclbg/9VRHJnWZpAVvUO6p69K06AwI\n",
              "aA5NXAojzqP/w5F3H1RYolNMv1Unm0AnVqXM3Sui9M0H7iImsnFFXdy/nen2/VjnaNYvHoBIdhSt\n",
              "ahttgTIlvcpMI3h+Ne8cQRwVedt2VEgjVEoyyyuPGq8lBle5610HXIkV7NMlY0duROb8jdHnKYne\n",
              "FTUqIN6T28T0VCxNVRPNRCJCe3pRtn6i+gbzTd23/AFTeVuKlKmk/RMIdsen/nXCS0P5nZZjmGuu\n",
              "zP8LYRW0frng/MO5iPekp/JE8YdP9ViJms/rkywIPr1Wi4NUy81ve9VWiD0YqEhYJZB9CxShEqGs\n",
              "XszWoT4CFGdTj3hHHU3+7GjDv4WMt0DNEDfVDskqaUOgIdESdQsS94NOLQAAC7xBm1BL4QhDohsH\n",
              "QLEHQKgCH//+qZYn90qwPwVQMm1aAARlefIaD6a8TazFVdKJM6r68YuhU/bIXzG8i+eyZ0hV00pj\n",
              "HVQSIfm0AJRolc9xiOtV+p9Zrv9LkPGVpz0NIhKcJqwcM2iQ/kw1n1GucsQsAwcHKPe1iyB3hj0u\n",
              "kdteymssXy8T3T0TVeEbw9xeNsQP2Dj6BxtoLKSarvNkaWsUWZHwBlDZ7AOdxTCSQalqgXBYSZ3w\n",
              "Xn5k8sbm8tZPTRZYUHnNEr58kbVKcZ45Phpmd3iWztXzLBD/DosuFdon9skZ0ROROBloVkAD/q4D\n",
              "OM2+Ssb0TXckmMPtkjVAD0QqjpxwYRMBFuqH+KXCfaPs9FomfzNZwTNEWBIOU4LkFcD3UAWdgh6r\n",
              "ijPRIrXBS5UI1V+pTuswAmrz5yWNjjLNG8XSzD7FNkEZ+PSUsrNSrp0T3zas4hPP4cBxw3WrfEu+\n",
              "F59aKNQhs9CBWwFD1+WRhSkSPsChnnmTSEISWQyRqHuxYmP9P+Z09u/pf4v0V4X9BjT/bLpETMNG\n",
              "EChI9kMZA8sD7Ha/1juCitGDqz03QHvc4Grsd5tctJe4cCgXura5+vHBYoeWhvr09Ceqmhft3U7W\n",
              "46tRQY8Sx2hNglHYQvmfv6dKkDnEJVU1mUTKLDxSgPkjQ7oJS1XevTg2jLb2r1EHXmOyYJzvbl56\n",
              "F5ykbQezA7IpfjDn0k9ilB+1LBpfa38C9HofKITWnm4ucEvHxZKB+rjL2YoJ2rV1Afbbp16P+yuI\n",
              "rbcRgdbryAk2VbcrXnw/0pFvRKoyl1R1O3Q4O7NOp0/MmfwDqZ2ey9mXapMNEcwZD8/oCYf4FxYe\n",
              "2ioL8hlvVbuR1a3TzWcndE4AlS6H79itSwZsEQ/xqPktL7fNKgkZQEvt1cqGpEEjIWToK8L3oIs3\n",
              "EEy+Ey0VxXcsoCXAhBxZbM+i3pZXoV6H6kaDzqeY6p5Q2AiPN2cl/vn+ipU+mG/9GpqD+rpY9mh7\n",
              "mYnBzE+7h8MWu8bwGcm9W7N/27s39YnFAuvKjkrKvVhnVeUli6Le6hDrsY4Nvm9Id0RMeQ4OX5Wj\n",
              "a+InIP2j6GCWdWhGUylBeFsrWYnk/edLw/bnYh4iQWUKMPit7mufMORMDZ6CwGr1tiWSS2iPeq7P\n",
              "rjsdj890tDXoOxsBNcsnbP9dpwclSd580gdNre9i6oTx2wwcD4G8WqAmJUXJhiYexQIoILz8o7EL\n",
              "7NbfP6IU3J5LD8k3CWG0MD1np2QP8JKlc+8xU7w3fEDeJUPRr/1MxBLveeQflo8T82S3fHu7m8Sk\n",
              "MTLMF1X07fIbig2ccAYoV9WN85x4zOHTozE6/uqAIS3hwM9SDtiUXMiTv9zOnsTFvDxW7dOF0Urd\n",
              "Q5wtBsihsyJq6BzpfsX9VtPJke0fmnMsoSRBLqpYHY0Wn7/KSX+N+VVUNqwVxB3GBEdYx/qNabPK\n",
              "V7O44cWnuPXMBHvI7o/zl5JsOOxUjdmRakkrGuk0q/a/uwYhNMuTizjcwe5RgVmAgJz5djVvO+Jk\n",
              "WitCwMwmt4bqkxrXOx0gxPcq+U87rnibve0IqoaJjWcaZo7xz03bPfiFoTDaWZ9P9X0UeQrVlMJg\n",
              "N58pFxZCwdrsyIwqGSWp2VF/ZdGM5f+KY03cT4d1gL4MhAxB/Lf3mzTZiYpESIzCmz5K1CBlgCyj\n",
              "qwPlLOmXdPjz624OjmsbxY7zc5b4TDQ5KkasSb7BkNTxv94AmVwLi/TG8102hYXrQookTUGPQd3p\n",
              "cdAj1rE+m4tqRXSRwvaJ6ToMxmpupIiuCM/PGTDlZ5Waih+v3ed7bkhYWI+KrGojkCRG5dKm9p0D\n",
              "GDjuOo0lOD99Ntdqv6ij96zwZMX2mZxc43qCRASNm8EiZR2glBHmXNU2QXl9Gsp/80PKFDQXzbfJ\n",
              "+JoGcBBBFW7+hW6K/98g9LEIjOMmm0sBvZWR3ZywRJxaU6MpOGoETr2jTbH30++eKYoHVZ21VwQv\n",
              "KAeRibkh2a8F/OGs8vMjjJW4I4TsfOSEfWuwjFUlDyz8Mca7GaNa4x8qZnAtTOrbFVkJVUch77n7\n",
              "EVF5v8SKfLlhLZysZPMUAP1ZVIChS408DTH6LVhDcDSQ8/yTalgW4wvxMbK/Nw8R2s67JAwhwOhk\n",
              "yL/bSWw4A0ZJmNMGndegLP8vtpNao39tMYnw1TKBVkPvThDOCnvQv12Uz0X2oQdGebUwPObhPgxl\n",
              "wHbg7b0A6e49+F567/Ssaj1y+OXtmoh2nEkBEy1WleI+1l+S6Vdic/1uYwf+Ka5IetTar8tiWX8P\n",
              "es8zBIDHK1/vg2erhZxVil/ll7Gkyjs3pNzUkphj0FBV2/ZIJmnQhp9buFRx2801bB/A+bA2xwb2\n",
              "3724jLuhizfH9Gw0E6QaWjSplVsctZf4lnWQpMZTACsE9FTR1goYz09Ubg/Vbh7LftdcOS/GnQYN\n",
              "ezT2ELT+VC6mENUBq6LxxAkuOG093DFt9O//2RuyjadLfmeswyV2HKQ3hDepkALt/k6gtXAWeHDK\n",
              "JOxQRm8dD/6gXd7HcjHP5u9oqqA/ZbF5REnbo9mi+65qqDi67fVrnhBUWE96pkWYCAUOHQ2Nyth4\n",
              "s2Q8OfsWtcyt1Eq6OwKhO3jBSzcAe2dBYw1zsauF5VKjUA02UG6YreTsDxb7gxJno85UjED+pP2b\n",
              "5OvEz0xqISd/rRzMOVT/KAzPnqa5AR1rQ/n7lzXm0/BJREBSbNQWLP7XQeTOIPcPOUmsf3KFKA3M\n",
              "ujLYC7NP2MkrDwy4h3l5596BIhBMqFIdGDbCmhdjEElW7l/FzlxVZ/smUu52lVLo4wGCA4KVqzjA\n",
              "EKMZOfPSP26pNA2DnD4Aon2d6t/wiWSTyN9TCt2H9zXREyD3yiaTpqbWlKXKMotRA8rZO//tB5dB\n",
              "aq5wbVueFZip68uRgul/voiY5hYknNjNlrT5RrJLIdGm74lk8Rzjfy3A65KA4q10qGVDM1PoI4z+\n",
              "l/pFKwbo6lhSvTpgQPTZunCswNSG9xxv5/dfJeZPowxEny0R4wd49VgufAJeZPePp4tOQlfyzN+A\n",
              "RFCIck443V4aHJxA52mUWIdtsZ6lpNjgArTYYh7JKt0/sbZMVhKwVYlmn2xhvhqNLdinDHwENg8D\n",
              "How7lUa1mtcQo6ycxRXT7u8B4CatvofVjGk7W362X6F/UdSoNJNTzWG4L2q9zTFwsZyR3zeohAsI\n",
              "js+Cjj7eLTr/qxe7gmo41riCDEmxJSTgLQA6wZP8qPy9PQfNN5sP8PetWGEEVGwEMzjxlkm371xS\n",
              "/HVe4kwisRGtiZv4qsN4klx0Up4GCD/NC3pROis6ypb+s1tfIfqNa2adVFLNK3hy1JjgIDcXDy9r\n",
              "gSx3iQDEkQlVnvzEISxvsJRt14dWDLrb/YYvoi6MqlaDomNNLKO6/X3CHx7xlYuQ0NV3F+Cy4lTZ\n",
              "l1y5sy81n34hgUmWTMg6sK1gQp0BQKb6H0t5UgPbXLXtcJbJV8GyFJJGvxOgKO0eI4u6Gb2tJbzG\n",
              "D7wnwEjlsfJtNARVx2mFdlbzyoGohgQklwob5wVvDonlhC5qkeVto6wA4th6Xmo0QZa7GcFhowCR\n",
              "JOqL4bYw44OwhkVlDFfdVt91TxJIviKtdlxTNwAYHwNnspzJFSIX0qUQ07J4PctgAMONOXWkpR0K\n",
              "jv3IVACS215cDzqaH7o+jxqmeHYMCr+rH9K1dtVVd6tjUDki6bL9dUyRVC4/ujLWm735j4BEglLp\n",
              "5U0tKf9mnl2mUaEjpsihXrP2R9rtmSf5GdtLAnnhEbSI3ZR5L5K2GQ9nGC2AluTYqBX1jS52ztyN\n",
              "R5oa5upPQ3faPyMKcO8b9yLNsFBaMHsLLaDAAQZhEqJRR0I06lWGv+Ks5azf2VhkU0FR6vriXAIq\n",
              "T89FTzU2feIJ0eSo03w3bQzqjQYGXdDAY0LvYwS0wyrQuSI24ieC1ZAFyNCJ0+Rv0FlrpNYjtMJn\n",
              "uY3ax0Z1VRdbmeZbb9GgdFauxSLiz2XD7TB8jM+EAAARmkGbdEvhCEPIbAhD0CEEQCH//qmWEJzE\n",
              "zmIblzyi4AW0Om7+lZsDh+QLLO6x2z9HlyeiNocjf2K1lLH891rbl6erJ4P/MGhf0JrkurgFKVBW\n",
              "PxgvsDXD/orcYsH0Y6czrdj8Pz20MjfPIYfp4//KhJlmdxS+a24G2hBIpijUgmVtD8r3jNaroTMW\n",
              "gzbd3yg+25oxWTZUmj3WpHJ0qekbn3TfvzrmN9eaeZXjW50ESNy4Qc1fbfwUDmSgAqBmb/x3kJJ0\n",
              "8zNou/Ef55K/43TygWZ8xwpDQBA1ohh3zv0GemRGxehYcz5q6SDTLjJWUpNOGUH156xunOhPXvJ8\n",
              "kyn7VJEKC/MYXyDG7OEllsWqadn5Pd2qzfHG6OAJPIHmJKDlb0d6PCAWNmxfxmoT3b8GrcBo1+mM\n",
              "X5uS95uimn4UQDJCrLSQ+dbTO3od42q+RzTnfg5ATRfdUX5uLlmuNmLAVGVsPUdwfJzky/NtzBTo\n",
              "+7Er2FbmuO/IUR3WIvbov195Jf8gy9b+xNTmidap3GeoVbiCODaXDSjKgfgFLqzahtCY5zB8ORdL\n",
              "p9bjrQa0fRhoay/MbGCw/c2MKeSSqKfxAAujE9/AqrwoIdVtPCJAWMjMy8z+c4ocN83abKhOKphS\n",
              "GlEJhh9/EOLsMe9vVDM+zjF83g6qgUxwEzqfResOgfa4CJYxgiW8RVZtyyZ+rh3Wjnc6nfgxvR7Q\n",
              "/8lvjZgk9MzNRMVCQrGPsoJFWuA5xlj7WeqMfcXZ5JcXYyOcWnsa51VuK6XNJikgSgNbKFBeNYCj\n",
              "Ii2L/M7s3zMS9B4eM0xqHgGisauEJ+rqNHIIl0rAAYFNC1VHhZkuAFnsDaTT+bK7Wh30Kw/qdJLS\n",
              "0NhMknADoE55oSXRHJkdzMJUYCGYrVxVy3QnqUqbOjPDU9nZg+PkjWRa2lI44+w1RDcY20wOzdFD\n",
              "Fls8rq3C0gplNuwmWaMhdDz9e8arjWpLczqWfvRzEAuhja7x/JWqcerba7uqbc4dQtcbnta8Y/S8\n",
              "sKaKSPuXaK8ODh3ri4HsGfd9rx92VG9cB0uEFEXBVw++aep6KFvNMvjL8IJUs5OhuqiMJh5b4FeK\n",
              "J0c7F3kdCje8Xoprpls1pDRvoedo03IuNVp2w7p20ED4yNDmRlwRIUMGIhln3UqQTURMJvDa8Y0h\n",
              "LXy6xCEdc30sTlctiTU/MgcfwMiVGcmxle5rOHMI6L5UU/unDdBp1y01Cxxcez7qioCruxGFbank\n",
              "mtpPD6QY/e+0n+HcA3v0kLkXBqRtjovfiIS2cqADOXbD1I8Nq9b6yJrEsJmlR3bMFcyKvkp/+dNc\n",
              "OS02jJgeU6/jx88t6Y7hL4zeQkOuQRSIa4CbQvC4ReuDcyo2HwnF59NQfbmWS5tJFXqJ8nAW2bCd\n",
              "s4vJyDTy3+wibvRq88Ktpu5YlvP/LrRvQd0gSozOmW6loG7A5g/NY2BoavkMr31ZIb+uPnllLxYU\n",
              "Uzsgu6/zAYFxlbYPs5ufZsXqKM91j2yeUPAHNBlDMPTbm1jarmmau7flFRDC+U0o+zNoWY70yFH5\n",
              "MWmrayi2YbbG6lM8tG+FMzq6dTUyC9rYQvS41qKG2e8OrrkK2tw0Tpp55ssxnjiPOhBbWXeB9AfT\n",
              "k5/NYDJCCoEoQ74k5jB+rS9DL6Ool/xC+p9IBygTtsPv/tuds4Lwba2HUTTZ02FOr88mRQOq2OZG\n",
              "sixCojm0QgfbuzBcb2basd1lo27qxbKAazBxWcQKSXZ8ClCUv4GDzvFYfMyPBN089VZrloWBit/F\n",
              "ttE/szSPob9uwecf76VYW46x5L0WKD/Qk4h5qt4QTv8qnapl8+gbJBgBZud7I7eCVvUcLRNd8Jhx\n",
              "j7jDHpH9ZPmYrsJtZNhiy9tV66xzRtCDcSUEDQQfZTmOZH7OEogcfoe5aVL6ONtNi/+IdxzwNsyl\n",
              "LyM+hQPfGLcsASdm62l0iv7f6Sdfk629PnFnucf90AoVSmDst6ERmKxYET19WCIhDqJhI8A8TQX7\n",
              "Am3gg6swOVCNNsBrzskSFG0F27wiRjyhx1ZEpmZfkTpGnoYqMpXkNlukZ+R0aJCWfG4q8L8BQ/E4\n",
              "W531NWc7wRMFTQzvQtrfp/hXQAph5GyjKQSPLp+Czq7OLOROdLz0udx+BJ4RlI3k80hFirE4NBGb\n",
              "z7PqUbb3wlgCFgpN7YLsBaopJaInvROYKcbA+aJAxA7sujg+XUKAvAHe5+sZqlgcfD7lJStkTMtC\n",
              "hYDDn1ZdUw51KP63MVIpil2ta+Uuayur6rACe/WF+W1JfQ8BFAUS0/7hzyWssrzSv5/QMOUCq0Mi\n",
              "8iOkZMgVxo3TKODnuJZo7xWQyUb7SrN3f9AXpISHCg8XYzEzUqen3npfyPKGROXWtTKymwflzlUM\n",
              "sIzqaoF9GlGgXbmVw1ZAnX6PONLzlOftcgqF7/o0WK4GZ6Rp/c6w6ma+Bag+QKLavyBS81FZpVz8\n",
              "TEsOVneSW2MYaBhAflTX8svl80cFL3BRqKSzTng4mBy/mjGR6RrjPgXCqVFgprM1jubamng57Hq8\n",
              "B/yU2jJDEtP5ljnxmmZwjk8+cFTNJ0uWv2ATKWbuLClxyoBPPw5dNw2YW0NdVntuIKPvO6xIAdlH\n",
              "3G2pdRxr4+TW5heO/34p62sJlvNQHnjl5W9QXBDP06oK56UpHrOpVcluptbIBcsWovPVgEPz5ZDB\n",
              "KM8KHv6Yx7c+dJlGboJ+5mVSciidmGadDStIXy3KMHLdPEo0APX4+0dC7KxZ0pztcVOXmfos6pA9\n",
              "uCkcikhzgL75IcPHDbvsFVSQhzngqaTazTypNTwBt0d6O0FngrSXhTL2sMvxbL1YoIhQeLCiOj1R\n",
              "wvKH4LZGwADFzM8j/CMLqKUcRaE4fiMkzh7TuVXzZ6fJTgJna1g+yz9aJCVSes7s5A5vNRq1FmgY\n",
              "XlQ7XoMlFU9Z62Mf1tnxqEXsVLJzs2YD9ge7Tc4+iEGGXs5uv6TaA/qGBjitSf+7XLSLI9wtHhar\n",
              "VjUhwEBcFmRWW8ipcIA9q2avssxmY97PFUNw2kf0Q99Y+l6Q/Jn6QwAbW4nSDXB6DsOO0ujzAUgz\n",
              "yRmOCbF+INEEuDpO96vLjk3nkh1GxTBK+xus7WCzJo+9UYl+uwAMTiXrRF4tDP/JDjQ+dbqk9s3w\n",
              "43uo4SwJ/UbAy3R4zDOewk57V/rtLgN/2hEJvBUOdZk3zMy0EuAYpGmIrPJSW6y3SHIq0wOWiNL6\n",
              "2UBJFH122XqcUWdLnUygZGyTgVxu7jroPwc+14AgFUwkgh4fNGg7HIqjd9y+ltAbCKV4QcCn6Y2T\n",
              "WTfbl+4aHlEIOiqCDlnWAZ1MWuX+Bk1IX8B8czi2TkijSrF5OQt+1+n4EASYYptq52om+Y92IMru\n",
              "RUvb0rbhWNRcogVABY0sVyCPB366bjJ+MI8Ks5PKaiBGYQ+M4uaBnhKnTR2rcA/kMcsvPJN+7zyR\n",
              "8xn+gHpO8jqgdicfrEM2Ic8gYWdH/ERwbPGG27oy/MlmbA7ZGjQJgk3wlBsKCvhPMgnvasVkE4Ay\n",
              "3U+8AaSLoNBZ1rkIfm1CwOlvGI5zVyJIyD43C2/iP12C/E3+xgEvI/yD8Vwe66U8X/OsFT6o7d6m\n",
              "EMc02cW4P65w8aumCrs8dZ9rLXCitghTJYa3ObUk0RSHUmk5mbYMDFT8GhPdArfmV62Ghsj+bH2y\n",
              "uRd+VuEmP9q01XwEG1GYURVHxEmIN/vde4hfFf7l6VBN7zwMrEzatLLaWs0bSeNsauBLtRidQx/K\n",
              "PqtkEUTRgq9k2VJk6ylPm7Rn/Y9nrZgirnAfLlZs4C1gJYw2R5GC37C6x5Vnx/NMo0Z5f0eFNlem\n",
              "ZojX7UlgHJdvfLp3z99FzNGQEbCXiMXfmpcIlWunM82sWpvI2wrp3rHjV7ayvuas1n5EAQwD7s+Y\n",
              "QgxsarJTHT9XcDHvyg/hyGXn97+qew//S9W1dqtw7uizTnE+Zk2ub6rceDlVGUSTpi8uxoFgnZAf\n",
              "kG5mkdoif3yiJgo6ykA2xms0hivf7hNW7PhgjJu5SPPe5MYPWXgcdzMtQb0FVPbdUGz+1GykcPHn\n",
              "6bD2eYtcuqO0NQY9IwLZ0xwsDEmjgyVob0aF+DzL6UGc66asQ5bChWRWzDgE0QgNC85+IFsEmRBY\n",
              "C40Lit4/NpwXb95Uy0O8uT9KXdu6j2Dcp547Xot/qmButvbpDY13wzdHCe9AoEWpg48Aht4tmauH\n",
              "jQyskUR37i+CA1JtUZ96vZ4VebQjfir3R8tN170hQPJ+pwMyW5zSX5ZbDqUP/VCO8AUme/Vpotc9\n",
              "ofsu8frLbfoMLwXfEwuQ9NWBMkeaMCFmdZvIC8EbJ950w0BpN7Zis/WTrXQHmRDkGQjN7O7QWEMo\n",
              "ltztyKNkZIGmzUEIGf8xftdAld3MagpwGPbb27o/LNbuH9x56nRvO1tx2V6GyxqZ+qq6MPEwoJz7\n",
              "UGarUvxCR9WA24aOmkTmi6Qk5LSNHwiEkBqc4kYHsJGarIc7wTxOU4t+fSD99/9k3LvJXeOvW9hJ\n",
              "lmIDj3xfkML3RHoOuavGSFmYIwRQk06+3xoCxmpWzrdhaXIqbf+BuoH7aRq09YVB+bQfynI58GGD\n",
              "8YdUrhGiDjG2fVuuAZptowsVi+fXp9IgrMf718eBunvLDu3QonWmOOPUNqMEZsxe6SB6BiG9dr73\n",
              "ywBOW8lxoRKI7NRLb3eBuYvv2c21HEZBw5KQS0nShtYZHLx3Uafz69G4zcl+4UoFTW9pSXJsJtEM\n",
              "f/fXD8EfSgtzG3q+BXmnEDyCDJLvSG6XQthd20nx2qCEsQw83VJrgNwi9+LndYarF2sbHQ6eY4Tf\n",
              "HrQnNEB+aatg3dGnWzcZkWtECRSWKIkGp5rzZ5GwQCTqZCSKy30ikNkUfEI4JZ6cmH2DuY7e2H6h\n",
              "HG0Pdmfxanlo+0AxJIiUvN6gAt/1Cn2R959vbv4UaEnJgbUcBEon4KGtTf2Am4WneSnBVQro7CLm\n",
              "mdL8/keLufNElcJKPU57F9OLpgdwXTJPyJYbV5YbMlCPspB2YhEErgZb0zXr9JSGM/3uWDgTk4ry\n",
              "gvRMK7djddZHD76UIOIEWh1uhiSzMI/bfYSoWbHXLlbbFFNyQZfh7rNi9/wP6sy7HKDmHR4pIw8Y\n",
              "LS3gw67pZ/CRsOU80TGoD6PyT2D2jgnLTe+DRQUF+MH65yXdA7SdR4lNsKec+pv/Yvz2Cl04Pdlm\n",
              "VD9zVzBeXXjrzWEzzbfy1eKRF2nHqrQTCsipjITiJhpXWd8Wr0P6JSvSx5m3vZLUhgFTIujxEvU5\n",
              "4UpCCzm4DHeF2fciVyBYaVeIeEuJKKayv08/5AM/TKugSOSzFRofGz8n+2Xt7Op/LXEWIm76rJK7\n",
              "3iEWy430r2Lc3UGDJbfFKQ/+HjvAeAatOvJBBZds7tHicpSYtqx6MQ9c7gasZqSfZf+oAKgglZ3T\n",
              "TJqRz/F40k/HfbsJocjg42AUBxhwEXOVaG9OKjeRuD2q5F9XBMxzJsv4YW/CGeeTYaYTV7Zx1eCY\n",
              "npJh/Sx+2+XPl08elSECMDJecakyAPNfQwY5pK1fCzeKez9bQK2TObxy7SwNFEz49Ve6IZ8xKh72\n",
              "axmAXzhEfftoc47Xbs0hyZ7qJqzKK0Squ5AQeJorCe6MAp2zEA4Sth2KXWa4L9O+3T2mxkwglFqC\n",
              "Dsf4ktftAC/hLbXdTtgqBu+WaeZ0MiPyHlz+V3oW/hZ+l9s80ZQsZnGmJesaM9tReDQYRCMyQbSB\n",
              "WCANJRDgJxEjhEzOgQ3kR/CWePNqkoAGZn19hjf3Qijy/NxO+x/Z/h3RL59mghsnns133LuM1+sM\n",
              "ASZb7zSZAJCqI9Bv3EzeuRoWtEk0j22yvJhX/oPxAAS1PUnxSdjwW+pusklJRC8JpDCIIa7n2nrg\n",
              "NfyGhaeny9u71Bb7c5solfV+PinHzPcspJaMzYftE/v6hWrQcX9KtW1mnghrNMESfR7Y2h8qiv4e\n",
              "KRVzhH2mSg/kFKL16chzLABWaJNCJVJaFV+AcmaLmP9ZL/fyoAAACAtBn5JFETwz/wH2AbUxOQUB\n",
              "ABdC1/G3tDyR/yN4gEWwcMhXPCoHwY/V40rypQ0DDy5TWNndo5CYpaL72Sn/Z4cJsY9o/a87ryqj\n",
              "NMfJphAw9+EgA41JoUDNulRadXXPwDI/W4c1PsTqIImE8EIo1y9nunMb8vblGZbR70hK1n/p/5UY\n",
              "tVF0qt8uBs+7Ut7Ei4lKo1lW+ALUTYBK30vwoxQSRpp71Y22+u2GFxtwQ6E2xrUx++tw+QGX2bS0\n",
              "MB+ULqzK+AoclCFtMx5KS5+AUXd91zrykOZPXEU0j38HW/203JILa3410yWQ/UcVRGuRbTxvHuAT\n",
              "nhmdLfc1WXtrJdlNaNg0SbNLRPMu8SBF7OcAqC+TIk3r+tY8RCP/HnFysm+Odji9Y+Pe4NUSU91V\n",
              "DnU5bzNPsoIhqShb0wCSnGN/sv3Gx360jORbmd/bwmfVEck5eRmHgaFN9CByrMD6HCL+KKRFOuJa\n",
              "PQRZbjscaFwgfWb1No+g9K/mIbxsN1pQbuXtULACYkmXh/QUgu16evIQ0CuXu52mxkz58ZdQJ6hN\n",
              "SCu93oGqx0rw+eCa/339PXwrpUOLn3talx8UqJqP0uA+9fTzifSIkMGnRZ1B6lgBLKfx73LF1a54\n",
              "KkUVAtlZIVj9XxpGB0UpfZ5ITIy7iWhNhmsjQJThF3h5448YzoYOpb7Am+ghr94esSR8FhyJ07h8\n",
              "1cWvmxUrpa+gR3Ix9BgrBiSdPiI/2xw9GyO8VREmYbeVt/RjXwLnsiubSPFbIgVaw4DF/zvx+E9J\n",
              "chXScT8Cp4wT8LnbCL/JVyVHxl1Rb8MDdJbA3L9ISXUP3CiZ7m2ODnblTvgsD3FZ8Q6/K9ARrRXp\n",
              "yzyFDOB1X8oNZi+hgK0RQFL8hl+P8jw1SMsg2MHGfGdGHp98oYKP4LxaocDH7F5RfDxdfnCUneKr\n",
              "5BOFfMaGd0NsbDuJjzCjqIPtdWgQg4IP7z77e+brvnpiE0h2EPPeR68GXUfeZw3WDK+YRMyyMxkS\n",
              "3lwwZSx8A7UQ5Ij0ev5eq87xfNDelqzaceZCLPeY+wk7dJ4Ngun9mGWUaZq9znbap0RHWjFSnQRZ\n",
              "UAzNtuBWYOGVWuDdFIyOGsPClIagzI5Bt5wWtFAducXSkt2/qJJmVyqux5PywLiVp5wnQqc5UecY\n",
              "Z9f1I3UMTTspByVPdzNIjT6hSNBkuKTmf1uUmGNeWWWvgxLWcf7ukzWd+eYXVLVOVGF9D/YEhDAl\n",
              "RRxeFAly3zOMqr7T3G8Y24ntLB9HIIrkE4Xmp9rQfnR9QAoVdCTGBnUvoFSkw+AAcct6gGhFQvY0\n",
              "tjVkf47Dib+aoRbGuRdVWfvjK16z8w6zWuDrskF9EAJRiNTPS9wqpMaCSoj1OPmOv18R3FlYr6on\n",
              "NttphzFmXkp84gBCGdNwwSCwAAQ8H6fmC8sT9e8c/l8hfs3nEHouk4pZVGl0BH5vgpbSo7Y7fB42\n",
              "vYxSR8kETFroiBL8o4lPJm+yyiTKKNoeUxgaGs3yBlVGk53cP3r35blpDZxiy4b+sZ2YaXGAcLik\n",
              "Teoo+PL2eSy94t/LAR8+jdmT10s3wavVO2uLCUaGNfRmCLzP3oiOoIDzsy1lLAGjl9oBgQT6jFZC\n",
              "OnVBw0IPQDAB7Gb5pPfAdt5xgforM11Ei6D2EA36UDmzP5VtmmRL5B4yrz4neAMYAvhQpq0N2ays\n",
              "UDe6QHurz65k2gc0vgjbVWPuEswztkvRqbj2vpRIs+ZIuzZxt8AUS/8ogdswcXV1jV1ad/xm6l2r\n",
              "nRB1c24t1H7VPFus9RsCanM41b4LO41HHHrLYkJC/k248T19vTIQslxTTuATogiMD+6IHyx52DOc\n",
              "1OP6EKl4+nYkOA9VxTVC7IuFmX1Atrdv54q8Hu8SAJSuVvpcb6tWjt+0r7CFZwqyrzpGkhLoXsnD\n",
              "JSSahIWeRavB2u4tcAhkfzjfyO1HmLpHTnCmZGCILMwSmIkpAOjirfO2NTkKW24bI3CbCpu9VXH9\n",
              "b2vagahTFQJw5TJatwVniCwyrJrVzqOL2Af+W3m1iDQdwuOFV08rCc7znEvvHQbK5pO+zO/4Ky/o\n",
              "YLVXT8RhLsacynf/sA/IDyJk/mb1PO3akwXZSUGCKTtemdvojzp69W/V0Zh4l7nYRHlvqCPoQd+s\n",
              "p/Wnkxw0ALPTprVEIxh1EzBEGZ0lS/lHzdrDPa+h/Mwl9GuwbpmWDCv16Vgh+57rqj6XWZJU8caZ\n",
              "ROPILlSANVVF7Tj6r6onnRdQaDt/+GNHCBbI8/1fYfxKEB+iWKa/ga8tJXNY+n/ke9ykCAsv/cLf\n",
              "Um+DUkGmpMViQUGgVd3ULrw9PkCzk3TfTT20MNAwmT56rFeEn96PIBG7bmMEzypviBg4Y0moV+sT\n",
              "I9sT6w2gBAOW/u41Vuqjtf6LelcWTX5aWFwtq7HoOS8lycWNxHZSiH3Y0LsIxoEBQXGJCLlMknLt\n",
              "TBkq+2TmzB399YvDZnUbL2DcvoYHzBKWFIAWqGufwywe7gL8WgBR0kkcSSv+hZcBiSA1GtD/zesN\n",
              "WdJT9x4vh3vUVJMezBS2Kdix5JsW9AQeAYmmmX0STMHE3haU58qY9mxvdxSMEOkIbilHZZjo4s3p\n",
              "Qgf27BhkB0URCsKsX3UX1Jmcz4/whw0AUwONnr35TYzODu3nhrLHAcO/KDU3+nQOBwVLXprFEptV\n",
              "R2BFVV7Hqmt99lQi6X3B5kLVyMJGbh/uPWYmgG/+ReX2Y9OddieNH3bBctHX3szZAAAD2wGfsXRC\n",
              "vwNpmtETQZACwvrlb8LaJE654Jv2x0xfMbN3JbJZxYpidql+Mjy7U0kx84dIxsVw/Mmp6Gsf7Vyt\n",
              "fRaMvzKyk9Ec59Tv/MKA+um7V2sKBrVi2Zxb7zz44LuNPSvBhlMZnKLpSQjvT2NBG4HUl4Krg5et\n",
              "E3CUA670Z5qFbhddAbvmh77G+XFdddbf7loqA/f22+kZXoV60HWMuEBjm2kAdrdOZ1zJuNfMEim/\n",
              "+Okbr8EdcDZ1NqA1XAKuaP4xzDa0TtaXVRH01Gq8SpQPKM8yj9FhigtGiY3JGYVbhMVDyKae3SAg\n",
              "XMltuV2u0f5nYBTFDrAsQrYhWfCvpHDCLnOZbuug66TPkQLPvGd1+nxa38+OayB0YHDuY87qUFza\n",
              "Oi5BahsJwAw6BwzGH83bY/rlCBKY/Ond4hCnoJrF0/bU2woFU5v801aQ0iGH025gpjYHbtXclE6Q\n",
              "qDpOOopCWYuB/ZmPkQYOlsB5nTV58YoOzbkB3d8luOSyIRzV+S0uvkp+AoKzE+kFpYbemGTvnyg4\n",
              "9IXlBTFDLQDgaTsPdwMv0lKV7tZRKayack/bQdRTZcqeGGSB4XmEP8+wPvnTvoUKiVUoO10Lp32I\n",
              "hIdXQvpdOmnz1Q1fYA7UOeXqMCauuIzTiwCyjwZYGbfBE31zN0lYeyydBHE83yExA+gh+cOokra7\n",
              "9lKkDScgwC/Xo2yhPgi/Vk+6iJXftNA89Yr+smFy6Tinr7oSl86dBC3Ws01ILTp1JUwzFpTNBISp\n",
              "D/8J396Ab5+6QX3YetIj7bJWfqpkvb69K8Y4+1vCcdfo8fzR7ZGE/zlSmcgmbj3quD5SrqSA1NWd\n",
              "K/3KXvWF+nnTXxbu4VknEldlZ5oZZAdAvBAPTuTNONEenNc8/2XOgribmiPwnZ9/oILPyvpgS62H\n",
              "SoJHXfUTCl7eCFqPyfDAY9Ou2VXLfFPKTnJKRBEWDs6JGjKB54eiuMbgDCqPoyxvXT/nOowe5wa2\n",
              "+BvqhyX9NGtgNIdgKRLQftgFTT/J9UnNRvhV1OXtPXKGwFJJlyCyJNS4+a4DB8whLxH+8oS3a7Ad\n",
              "xQTPXT24NdfzJySt38TNBysOASoLRmbb8q8Yr0yYiXHvtkmzsSFwtuF9263N/uvrQDGp56P6WU9X\n",
              "xTFQbRfYwiS3LaRYVpz2xelVJYIg3iaH2LZXxVKorTfJBRW6qKgY71x614apGVpM2pnxKTgDBsNB\n",
              "ychLn4elhVuelIUsjjRSwOZlhD7trURfwUO0bb656mYYtYv+LGOjGsrpdbdZPB8iNaGxRjjSIff6\n",
              "o3RM98HjMTIKMJXpgAAABFkBn7NqQr8DaMB/n9AAXDWDuqBK55AEMeW6WFkRwgcgIpINCtK438eZ\n",
              "vc15N35uo99+3XP+/DfHbRQtHvG5UsKBFzauSLblrtdU6SQEDuPKx8a5alJU34WfTgijWPWNRFeB\n",
              "KeUERet2sXqn/8IT2Fsmq8OnzsxwL4SxCKx/R6LBxTqrsFAaCg/AmVrZG2YeY6YpNtiE7n/9MBdQ\n",
              "QpklxtWU1ZyBHOerF3/xaYvX2YYYhT6dCET2P8z/M6PZxEUOYonYhPPuwBJmXNlOyoULj4wCDelX\n",
              "YWgyJe+zVK+7J/2PXrKAozT4Mp4r1R9ia7jzUhweeMKFk0/NtwhLLPt9SODpgVCtgT0DO/CBOg2i\n",
              "SOyio+piFaz8ssr47YI6Ndc6T6zJLQrYFpkzxuaPM5r773nuovYROpRz7kIzzAxTcHbqYN64KEfx\n",
              "ANReLPOEBipIc43+Ba1H5d9OQw6vGWILzMB6MoyvWQdI3AaxaaOkXFAHNJ6QqhQN+dsCg4djobeH\n",
              "UmQ1mebgBRXPBgbczDmsTMWHwNtS67nTPVhMyzyIiwmT1YlE556Cfe8M4YGLv4pP5e6MiZAt2wZH\n",
              "4PS118iU1v6uz29McGTEE9YEf0ofjS7WwqylshNNUtJEAhvwGsKfADxzRZqMlHDKilLxnUZ33lpR\n",
              "iB68RduFj9DjiOYin7wWY5gh/u90l1wNamtdFsKnGAAG2UmNcrpSz0gBDXfWIp1I5G+igAgxWNpr\n",
              "ooiMyh5BScqurscc8cTM+6nzOThHU1WHa2qj+Ks6Qc4++ZJlIErCc4/33nnH0MSmG7mVoKqPRtuA\n",
              "MlKH0eyy57VQutjDqDIGox1YEkWor/WB3mhZfIk+HIIKbhHDDq16J/MyeJOLZKYFv04XtRQ/uXwA\n",
              "seHK/4DBR8zFDIowZq9Cmnp538jV/R3/3KUaT9R6uV7PZzzoP5Wy8SfOLj4cmoGdRAxxb4mvBqa0\n",
              "oOve9fg775SHlX/t8n8QrDNosyvpleZX+eaK2ptYOehIsZGIKj4rMZ8R/Bb3pQ2d6Hn4Y/Vtsc1W\n",
              "+quM+mLKLaBS1rTMXUlBmJ34qVMg/I84jTYOPHRoqdcAPqMHSCmOrMNS2m840TxYNVOEkNaXSxBp\n",
              "xl22M4jh8Wxl9gtsOqTL9midE/Mc4jFUBzxhuounCCkoR2hR3SHrDAPP5elbbCwKzGfTYzrgdrTU\n",
              "T5KC58F7g/bRl4oaZ6UaS1eX/9skxx2vS7RjOICCWGEJgWuSeu5Bg8y98ROKN7y9fq+116K80sy0\n",
              "ISgZmleUYAbNRhXmN/chZtMtgiYU6Pu7l4KgMhvLUusZ7Fzy72wIxTI3Q4KghuCd+c3fLQAQWQzB\n",
              "hiBOEisOUzbg1aapbQ3WfiTaHHxUVfVvs2MTpG2Qwrwfqe6qN5Emtj92rMK5UpRUj3hExencuEV1\n",
              "WtaGp2neDS1gTbZl1Bwz2DzQI8gshenVXQPhOKzZ3lDFWnu6JQM4ZhR1Pcctl/AAAA/TQZu3S6hC\n",
              "EFonRVHAIf+Wq23hbaeNRvsDSTxMPfGQAADNdKKaGLFBd1e2K5lUYpKAAAFUDf/axg6QAtodRXfP\n",
              "QYC8vycI7ohHcvcaetPB+FNKoU6/H/1JjHSMfg1zvUptO1YTsYxMh7IpUDqgFpMrOxawZNyegD7F\n",
              "6VRM2sTAI12CZM/TNhk2ISDHsncZpxft2fxXuZYlIve/YpsifE6J3SV0ciCKbu3MlkjNSLdVo4yQ\n",
              "jB9SutpLlYrHE/a61yozxv1sfDM/1bx6+3WQ8MfqS8Qi+J97RzdKHKz6pW9wUGVIO8cQJcDRZ8Ot\n",
              "xwkjSkwKxmyVlym1rOeOnHriGbI0OLWYy33rYNvgbhv/WYSKHE/WBOK73lp0JD2BT/oUGetQ/NrF\n",
              "kArhfjpT2x6eFUOqf3TqY7rsFPEElEtkxZLsmEj2FmANnLDW0lO1p8ozbapRMIEFO5inzTp9ywTo\n",
              "QhQcHyKv2tQLmFNB7hyDK6Wxs21qUIO5wgxGN8C2I8hRg2K9LYA93hEURIHoimkSD3e67SjATcf+\n",
              "Cmcipc9rkLM9OZ6/e/1lEgcFEs2SJl9AgEunJzpAYqdqv4AlBZ1i/zx4yM1dF9c1lsmq7Kb7FfZN\n",
              "RSEdBdg5WaFWNB0BIJtqZA3Fj47OT59EbtMfoHa/y9lGfroJYoVbk3pASiAa3sF2WD7giGUtb4qX\n",
              "WZSSCGe7QC2hfHxMscqn2GsyAewvJoJJOiHZ5Kn+xel06bPJUseD0z5mdi4G0OpHPyw5y/GStJdd\n",
              "zbna6G1COIJ6c0uFy/5txXHSH8/3HLE9PWaEzXm/XXFyJ10BAEaTJHiqa3Ixs4pGelW9f2m3GTlO\n",
              "45Vp3BokJDAQVAD0E+fKsn+3yISjVtrOhOpmvgB8bAcHUnFON7umTclZzAGYAbdCnoJPvDulPYqg\n",
              "d1v625tAL3cWJHPXvJHCu9FTS6hXxBclsUcrmFBO9+Fqwsfjn4BrOwwZPIkQjA7wvakkBFmruiDR\n",
              "bMa816jNkB39YC+fNJFrvktidjY4sozRAVbjna7Wgji/Hmh0S/sdxX6aSbOg46pvsiw+Imz4Z7Ao\n",
              "NEoTblHaJ80LIf7QYKwy9MBF2ijLJi1QgeqLWKZ/gYw1Ai6CHD2RbwCa5W2QHRgViFu1YHTOpxvt\n",
              "SfWlJGDPfnf59/9flZF2ggO8KgdxvEP+jOUx48oknGTPJgZswhLXjGihv53hyd4bWNJbxgWMgNWx\n",
              "3873Tt2hDeURYA9AEIKYu1sBPas2LxWNgn9VqCUsayFO/DXJDoawQal99/VUYF1hwWNzQnLFS49p\n",
              "B4I5N0zgrI3XP2KgvK1FqA6yWB4v+dscgTuyykuj9v6pRKL9SorOpTzqQoT0/B1DllYEpOXY9O9n\n",
              "TQFExZeSm9QI+wcHJe4BllQj5H1PAtjarfFEMi6q57LfEy/cNki4ZzY55/vI1d8qsiWyVAC45N0f\n",
              "QDb4ElYZd8hru5bKt7JkiUeHXdnVPuv34qMKYarKw1Hymq0n5a4BHMFpWtz+1UqiwTNnM4Cd1YSc\n",
              "Q8btH3JKVu+c0YjrHrSq2BQ9PCb/ptPr3jgGaC4l4CnfFfi3sVgFdGUHDyTU6dU28TTQBYwx2sYW\n",
              "7eQ7y407RBUYRK85OjnYsrXLeFPauYrPddKeEyztnZj5thRuOOZ50Il+E8YaiCpARL6ZjyVFApW2\n",
              "s2S0R2PwigZTHIqqGRvlmG+fP2UsJdB2zqia2oFjGxozT4+JygivkD4J7UWOsa68JlIvpOFsgx+l\n",
              "icxL5Y3hlbdYTfPAFCo3Tm6Ep/S4KvklJLoET4pyjAqSpe1Ezbw2y25gr0GrFkD+xL0T6mffgZHD\n",
              "DZu30Mji9DbJhJvNnREALGGCtjn5Gif6c2BP6xUWTCrA9LJRDuzptaZpuGcO4nj7UYcMKEDMd5x1\n",
              "91hyAvJ98fqSpc5alxqn1UWNDXlUSCgaVfuusGrFEGBfQpa9GjmfREpSVsFQjNrGW2ZFuENjxFkJ\n",
              "Fd+nW+qPWmotgT39y+smIIVX07wMouJrE63PoHNLFj1LIfNhLDw219vEN4eb9AuVVe+lgJmIkk5n\n",
              "ssHqGXknfEP4FGK0wXSOXphQscJXabOZ/woH78ktlbhX59XtHZEQtvloaAaGsXG/wa4QCUWkis6D\n",
              "DRNXF8KY2FUBzeLyJD5PIV58jU4B9ojkBCh9fHnhTD9EDzoStOA70TtQOjYCe8wDpMlgIZIhtI6Z\n",
              "CF+4bFVc48tHvhykqT87349KNjJsrF6/GuzeU6sJuibl7fn/wOi04Pq46+UTdMR/8e6kbSaotQXv\n",
              "Hmw3/xgnDj1S1vTD3RVa9mR5FkIdX8acEtOaqm7tUswicJyN4aE76+2DlmdkElQNSf1QY2w99p09\n",
              "8d/fZ6dvqTZp5HdU2r8RHJLvIvV1BL4+tZBz9lQ7KpRQiCmKz4rsnmiTzM3BY9ewylgcwL6hBtL/\n",
              "XdzGodo8X9pJ93nkoIqjPvg5IQne/bCf/VhPJQgY3Ocf7/fddfXgmIeyhTgZH0PVWgX66JRH+Z70\n",
              "zNwTnVUdo4/5j1+YbVJZzuZcrHTedSdvt/qhSzKgn5VH6Zj6wHDEVuiUYgVldX9QnXslvzEZ1QS2\n",
              "+IHzIFCcFkpnhBnjcjoyB+FVY2vvXFS25jTOUYCDMceGpCEjUeGyPNJ/DYleV3/x/RmfsbtWi+PX\n",
              "osedhtdm32bkqOirdGROIa2NpbCfPUXnrXuRVE4oOpFon2Xry5u7c0BA1GiwdZRoc+nEoUt/nCml\n",
              "nsQqvmLNPr4Qy8UwzyuQAXSGlVJyyZ0ErIf0UUAv/vUc5RRbWRcS0nSykXdIc+XEd6lwsJdLmIBS\n",
              "N1Kg5GNgIoyqNnTT/xLoTEqzf0x5B5rE9/jNxol5siTFcWfzd34/Onl4BSwN5dmoJLrNSicKndqn\n",
              "Gn5x3hXL+BuvOezTnpe7DiIfzDfZn12OYKGoAZcImsL6U/19I38UrA9E1j7IV+/ty+MfM7IS9HNI\n",
              "FqYG8Lqm2gQgVv3UHOUOR56pJC7WLXyTOGKaZVe+ghre0pEATYgWI2SRXAiXD+y79dZKGfoEHRZF\n",
              "UnEwTTCdJkinr26HeRMUJ8RS3zZAWCqipkzMZIhbp11W8X+eKRm+4ikQc87kFWSknHD9TE0gohi+\n",
              "BJuuhHequAK0Rg2bbxm5by+RqAwmBp66DSMpX17uSqObkhjKDjZDNB907dUYLm/Dpig+jq7IIJrr\n",
              "py1fbHIq7dOfol2RhgO5awIv/GfNWNT07UEuKI4NujHBU6w/TRJwNrwHRGDzteknb4lY6x7Jzt1f\n",
              "wotXxJLj679tTY5cYol9KmqvdBKlfIjpv0DEEO/3bHx6BkUhlcKxvYvWNX4fgCIhvoMAvIP23cdt\n",
              "T2sU2sOhvVKx7FfwE2ARCtlCMhq6w6VZryl8TffXUQZS12NwFwHH5X6/vPsCWzZL0bHzA8bJlyPe\n",
              "Z5FDXGx2qu++CMKyB5hZ7skTNP/ugHUsSTC5A4CoIYFUhdlAd/GIIkEndGopy14E1hL39S1J5BHT\n",
              "VbH9hfDG9oeCPxPyXNLZcKfelOYOU0ZDnwGp6Rwx6baY2hIg6/q6/HB4DkYDvHjY7XvNAJHSlr+O\n",
              "elYG1uGL4Lli3kmem6w/lDtegzzd8hztfpbZ7k374areCy94g9tWc0WUVZ8ZRkFUVvSdL0J+X1SD\n",
              "Ky/iLQQ5hqzPW0ONtNFDH0rUzYYf2noycXMUdejAyYAzvaDn9vRF3UrSrSkoZQ8NDcZa8dDxwnbS\n",
              "6+vYAWfIdzB3B/gH3dmDO4F2eYSj3hpru8gxtxFYg7oR0S/u5V6P90N28bUxS2HlogmK+llpRLMm\n",
              "oMi+bHn/4E/borQYAPWu7tddwPDNhtKdPkP1cL4otlJUanpa54Mu8g4VQsAczcDdzLcvmMZtXxTX\n",
              "dM5lbt612pd73yAXtAfb/nnq/1LP1kpB/YhNbMVszLLr23iGgSsrScc0BfZZaG4NEeTOIzH+i07P\n",
              "P2sXcjJRY7YIL44kysXMqL8hvmK/uGEA3SnoxOchooFRpGPWU1jbZUgwtywhdNDYx57G9uR0ndSS\n",
              "ZjrHkcc7TSkxW45GeVL1gIluTyXGg7+nG7WS0LnI0ype3184Q10ZaLJRyEg2aNw3knd/6qg0ZcIG\n",
              "ffAwSKR1/Bsn/48+5TEtioXoVcwDReoP9JzqmlZpV6tbz6aVQan5mylxjU0cs1gcA2zqbbtXKy1w\n",
              "uWEEQ+mbiLNoanJhE/gYMO7uf/wkcyqvkfh0X5Ngt//IV6bCoD/qUWmh3CiZYLFXH9Qcchx4UnhK\n",
              "n1Ql/bLRgvkmfXAwSchzhBrcauBK7WdpNdkGy0x5bSE1o4DqAxoj+h0AKsPpr2mdbNQzUCfDIq17\n",
              "7teGXZvdgFPl/bDT8bwJci0KNiEReAgAgD6cUKR05gBv2GbNnuBEkVlNto5nkCSC8XWltYhbo+1W\n",
              "zjycKmUMvd59WxiSVeQjI8u3Fx1UzHtM9UQqTIvy8K/RqfcvwakhRKq5E3FPABfx1+fy+W8qJrDL\n",
              "nDw1YXrLaBSrsxRrqLPXdMWmDFGZ1gYIcXZIJmV91ZDIb+4zgwh0tSH2VswMDeGHeYEFMajhfIBo\n",
              "rinAZ+OOFhRHzMfZRO2juF9ADddddoKbpvONfn+diICrJsSOAp53Wzdm+ytouk40tNCl8JydKIJ4\n",
              "9WrkjbWJpeQ5/yvhoosv+53uMCoQ6swgQWTghzt5hmol6PwzeotNi6MY6D9UOFyWd2+h7EAnxttI\n",
              "WZoQhovRGzD+Brrm8a86fRlbxOY5+8b5CcxDlAGskTR3giYOWbYAwpSxSiFYGiMRdN5Krpy9gR2+\n",
              "toxoDQhFbqH6aGJtwiNWCxuOLDevF4HeCAvB4meXODIc6zEUJjlKf4uYhsqJD1EhRpUXCseNpzps\n",
              "t8nQ7Hx40o/AvzKVdXAdDbOoG6/WS8fqdQMrAZfea6FAOPL1cxahUvBQLRNsIQvBwJkQrFZOG05P\n",
              "KJA8wqQzBo/ZFPPZQLCIfxXCK7Qx3Q+qqwc/5yTCbx2rujUA7BP7d0bZqvN8yfxGmaSYSHWrNYiG\n",
              "HhVGzhRryMsLKOjKi7OqTiVIb/SoTplocAtqltzWsuIQBKmA7we8EW4IVvx5ASwMLmQ8AqhkMfmT\n",
              "zYxc4gGjS5fWhTTcJcaUfYodrb8VQ/ozjpz4eHi0Xw1SOohYicWHALq3SRP3dYoAw4QyMwJyiYNH\n",
              "VHiFE1OKKD6OJ1tvS4SAe1FizTTlxFvXEeeaLp+eeO6W3ydmBrgIZ7B7jnW4/vOdNi8N0mIasgX7\n",
              "pVfN/O8a/pjg2oc/jUaUFq2uxyqMK2hNKETfDkyK/UbHE+SAt9fwhRoigZ0mEChQtBr8tLudRigq\n",
              "2UIdl/M91wQ8MDjiFcU+Mkg04hRrylVW2gpgnfryZONMkDLT9M+mRxAW2w2XiuB8dCoAAAMBKwAA\n",
              "BlVBn9VFESwv/wJ3I0sHTkAK9DWqUm4zBihMGyaqSnh3E9M92jfny0R+3IsvMQ6SAbzBFeIhWSqS\n",
              "CQrVEbsQWGRuR1gIlyvp//BiTp0oWOxsSHVmCcHnoNmvEF5l6UE64CTxye3S+rRDCP8iAPDPf5uf\n",
              "MkvtYaNkzFQ3WsTXI9Xgm1truQEcx1vnqAR+ZFDpqifrMpZwCSOssVr7xtB58gSkl4T++IQqeMGc\n",
              "Nw6nleNxDcAxxakp6pODfZ9rn5p2yfk+vBiY94OZMNANVqMISyYrIcS40i65uWYx7tPISTEjC/Nm\n",
              "MmRErCUbr2394c+D24eJfw7QWlWBeQd7gGfUGX2KDa5A61PFScGMpG7IsnUV2CgymB7YpPFJcx8/\n",
              "/lCkdY4xVaRd0Lx6PVXydWRTh/P2eSw9FGbfcKuuEHp/ZOjnM8oKWwAq9opmMu/6qlzSgHAJsnZ3\n",
              "CIJG97gY4LeXz44BIvb0TlLQw02ZsYLg3NtmSxIAcGylFwTaM2E63a9cw9k71DkjHnwKW/zM3ZkO\n",
              "0hh21deDDhAf8Wa6nIyGeMFW1Eu7UCe0/G8TkhPfzNjMbViChVHRz+w8LeMN1dyHFmTZHonYR0S1\n",
              "c3GyEycLlmnnBXSwIcu0aDw4ahomIXD54ys+OAo6goCKaikkPKygGKBV+GW/9OAZdB3swXP8kZPA\n",
              "16vB9JZTRZqD8W5xU7Drk00Ilq3AmpcvTfmyr5QrJyICRN8P6v7lfibepnZnmq7YFR8V3Zai1pKr\n",
              "Zbnjlwmv7+lfprcwUWQrSOQL2LtcVoy9tkwXLn86VPi/5koIUtZ7/UquBcEuAoCpBkh1pq5kOhm3\n",
              "t+56S8htDkbQG8O4oHlGBcELd3rDDvf8+E1tGmdsgER2EDFQv+JfgT5pDTr+3xqjbQ/pWMqeurFU\n",
              "cBM0j48OZma3yYhQrNstYx+KL+f6Owrwi+1hYghcSY1slVzHSJL7jU6tVGPfE7JySj/DDTFlQb24\n",
              "8FbHkajQ8B07W8yBL7sxaxT+CzCCXTWT9urDZHt2mGW9Vgrei6uSvVWeg5tRybTzF74xRi5DLHAN\n",
              "HsK9ZTUMeSDvVfdnjFNY5QxI9MnSA2cvHC0t4TVF7I7cixeZZCbJdD6p6Btg4Mn9yl0L4eoZ4hm2\n",
              "9GNM7nhZ7v0XsvCK5gZY1+ZeXW/rdQ3p6S8VT5TX1Mlrm5OuOAkfChSGSAfah+HH1v44UApcGXwu\n",
              "HhT7BAFrbTZMmrv2b/xvsn5eOB/n2qj5kmM7CY4mDwado9ZK3/FXPTGZNcStfm9ZBmUxrAioqzY/\n",
              "nWx8SHMjQP+G6+pg3VMTnCoDMOQB9wm0uMDdIekpCIuVBHpydeSQCMGQnY11YMp858pndWDRcWOU\n",
              "0tGpsh3FOeB4kUvtNe0yEwzpgXZil54AHFEZLw2IHk6x8DQmLnWopduNgFRGfxaMO/iP4mOgdrgi\n",
              "5sOemTPMB8RUL8KVqypBgH8cNRaOUy2v8fY+htUNY+BZnGwUWV0BrM3hp8JO0RVY/2JJI8wOeiNm\n",
              "1b7YACQRJDgBnUuq80yXPJP/nEZWOQIhSeyjpT+32rjpxcwBx6PH5worvx3bxHsdH/5urZyFwGU1\n",
              "0xJYejJQiW4jRrt4PefX3zYgVBkf9jbsbUV8zqiWKWn6ozWYBsiNA/+6PhDnNJ7y/nGT2OULDmzo\n",
              "2DGgd6sdpvbRC6S01ltQiD1wOQf6Z5OcRzw9C+gFIN26VH+nQqu5VUeEGwm1PYtH7UkTSCMekc62\n",
              "DLru2u7/PiAJK4EGxvwd9WXQQxQfZQoLCpcC+VZOHhYTjXnPvjzdr63IiWKQyq5IFD0SLhfjhyYF\n",
              "e24KKRmJV3Dm9B+dQPFHxfinlEMZcDzWo94lcnTED5sL+YjG3N8VQlz6tVlEAYpyKQnkFIq2GOFI\n",
              "KiZqHwxUJzosM2vF4Jur7cgKiKfMAfrzVFN3u4wWY+I2Eq1NRgFUfa9pWIddgg3VuRl53B8KUpF1\n",
              "D1N6SdsT5z5wM2Bs/tMQdiWzz2YhqNT80kFO+1eALOdUP6+M4zbGCF+70lBL5UhBq8+F3qJrREgR\n",
              "PzgX+8TZ0pxNxcNqR29u3nAoD3j0HCyB3eVxYPaH3UV+C3OQH6qiUVWR9gKdIEBALgpwmri12JtW\n",
              "SMYfMFUCGZFXpYLfDEMjX7gnBKO+0gphu/GAAAADtwGf9mpCvwZ7DLQW/6x5oACdccjYGQ/ePoN3\n",
              "/Zf9opbg2SLcf8swhVw4biv33VmIr34kXe5MEy4BSN2XCYlrHoPN/ox/C5atiM3OKlzmluluVQ90\n",
              "RoKYIYye7+mtljfz9WPBU/UbKP7wrcR2ZdfN7v7KshZqettr4rqhD4NIWpwKi4ITpyVjMNXFqnRw\n",
              "sFIgg9Qwbp6/r5wOQ9SAOIGmLFo5K6EiUtbNaic7sr6N7zJKa5YVz/i68V79Z1ojWgszQOTKC5rO\n",
              "F8rw40vP30VsgMNJOeLwXzBA36CpWujefhHCr4r5nHZ1QlhF43/MTYeVcSZfdP6JMag+Ce5IkdQH\n",
              "9jw9D10NqTNd97xQ5i4AgEKiO/UZiWbs1N4lgqxiTzb5p/8SUWDZ4Pej9XDemmkEP11gzZkmAAs+\n",
              "39zTQh7uk3Rtnk3TtTrZvWsa6H0KmGUf4mV8bTrzhTN4SlTDwIJNyBKCh3RVoFrdtd/vjG/S6f2g\n",
              "xNtZmgPPvS/NhVy1+C1tCy3yzRQN3+03+o7MlMD5llVVK4SGcy6GxyQCUav0/bnByNrp7WPAeZaA\n",
              "y3Id2V5Mltu30cZxVGFqt3jhK3wwqFgjY3EuyFWvvTNmCqKMTZidXK9G+sncR9P2hA6nhd7pE8dX\n",
              "FT53H4LztKhjlGeNM/3gcTFlEm0DDDtAhXaBmBKiKjnhGYp4BcNRItkBAlqafaQRwNkb/X3ocS6M\n",
              "09acAj6+q1fxwuAWo9yfISlGEdxcIfNv7aTZ7xMMyKL82d07w4X3CZ6zBjGdHy1kfmqzO1woW5c+\n",
              "Z135Wvk7SgSSF9a4lsHc9wkGOrLIb05WqGOGpCFH8nMy8e4orXU7OBI0XrLeuapOc0V8vVgcdQJs\n",
              "8n3lBsgmEKyfHryE5gF3akWM5I7/sng7CvisZya86bj8BY5WTa/y4IOQne/S01cFTGYe4d64RNZR\n",
              "sqN+nrWdCb4Sm9M0wp1GIGd3sF7J7qzAAuN/oaDz92mVOrsDL+zFkXAT7wp9wa+Flpum7sFunV0a\n",
              "edclyuMWVXVlPyeSUQlu2uarVF4VW14DWq8sai8Q6s8gYfst22YrJ1pJtBu+GCqo+IFVLxqCQUdA\n",
              "iQ0aCswVJj7hITGEzngkVejkFG5dLtaffjWNs1Nq/mHcAqMjjbn0kbIQROgRUFcNqLtTJ8D8i+au\n",
              "Z/vD/aWlJk/iRwlp+U/LvBXbnvw4ET5pgg0b3GBaf1YxYVfz2F/gGs3ll9rljv2AJfzHM3wdpcV7\n",
              "O8zhOyp/owTSKIBpJQAAD9VBm/tLqEIQWyHwEkBDQEkBFAIf//6plqhUojZ+FGxp7QABdVAtz4ka\n",
              "ulxUToZe9nTnb1u13ggKv8qVFjcDc26LzYhOhg8+o56p+9ozswQpGUpd4fGz3kVSYpEWJrcnVCNM\n",
              "Ywtuvib9gOHhvtYRdn+VTjbftojEx2ruISUWc+dzwVvabSVimuftF/medoZeQBQAy3Mpw6+OeOr5\n",
              "25aT05tbEQEHskjALKGntuQ4sfhKYfVSBQKttt9t0VOptodGoxd7UfOv/6oiwS/fsz9euFTK58CJ\n",
              "z1PMeYB0lOl/kksd8yDAzpvEexTiulyDjQdMvHVSnxN+B3OVzj2gsgIEq52pQxmuh+y7jB5IzOnl\n",
              "ftqH6ZNIf5Rjagl+YPYa0x302IaXa4ccdXtCQjoyoxKPxiwIs0fS/xRhwmSfTtt35bWvX0RWhGEY\n",
              "2ruZHDw21WIl8nwDs05PDM88ujeWZzxKh9+DGu1NWvfgb7A6X3j405yZj98IS3MGXpKMbMiDDPsF\n",
              "kX5weV/3d158YjL0lqFf8iMOckmZW1I9yujSCUW7qbmie3tGpftYRjoHvd5WHdhBWu2wHY+sUKhE\n",
              "Y+yyJv+F+48TAFWXbzljxCm/ZyrWSLPxUbxzfTs9fnhdD2c9mp9jx/H6boBOqfrmpJnJHHmTRRNF\n",
              "yHWhxGLsx/wgRjQw7NEWMCJKk4WM0ugs+/3McyYFUGtp1nXPqYs5iq/oQGpZfd9jFWNnA6DzdgMA\n",
              "fVPpvKFZfZtvqqtJkXHfB/UlYI1VCe0UIwB778s/j7ZPsAH3A5ksTKlN4yR7GGdEepef71Ehu9nP\n",
              "gRZOX0JrS6QACi/yHm7BmX1ptQqB0Eu+g0YwA9kfb4xrmqCVEBCiIFMI34Pdc5P/ARvNiI6HxWYm\n",
              "j5eRa5WtFayk5SScD8zU3+LKPM0OaMHK8kA33UdTyEDkoqi594Dt2ZesDr0Z2F+qqw+HXIez7d8k\n",
              "ES9DpW7qges6OQKNVK3WA3dZg+K/d4pPnqS9EO+HF15fdubqGtJi4GiGKSD107et29VyconvNoet\n",
              "BNQWJ0QDUO3aBlwDKTW9pTqdzEHMXadMw5i9wrAgV8NFSQML6xrhHhM2PcYkGkQCFb0pvdFusuj7\n",
              "QSh4Hpd87BAyJ6eVAf85jZrl9IX5LoMltaa1AXLFIlrL0pUS2r5T7dnvfisg0lORH+K6Y3Akg6pE\n",
              "DYInRFialkXTOfTjFN/yzNCee77yUjoiW3ibv0nRkPxHIxz7fuCa2L1L9LzBBn/oHyk0rXK+C5u7\n",
              "+/omHrrQ/YeArs/ExGpD1PzJip5/fi8vMTRzQkVCBDbQbyvowNs9sebWAI9yr3eoZWfuzT/eZCPa\n",
              "uutHiuT0FeZSDOBF69ITf6UAayMNxYBOKdDhbqvEF4aB8/aTZnsaD4VFgpO1aWco5YNUPGWVqTS2\n",
              "TYvMex/PzFKg9rFi3G2OgroQCBUxeFyzmzYbMsm4Jj/M0Z9FVm2ppEAHuMJggKrJg08UlyewzhCV\n",
              "b4/BRt2EZ9JdqusxYmV60p6tykwsg80PVjYQhd7c5+my8O7U83Aue1hpCEbY5Z98aPuFPjoh3N6m\n",
              "En7/v/VY4OvqHTxjcjaW5fJDhbgiyH9pDV6s6rw5iDUBOxHzEzquTy5sEGzKnnEDSptcZiIrA7GC\n",
              "eLG/aNUHcy7rgs3S4vvUZ3x6cmzfaL6EKcKUkfCa+dZjmBEB8mcHUBvl7XbX3VmjbivPwH4F/b0A\n",
              "2SWniDiWFc4lTaddJbwHJ8oEROh9pxCAN8wQo9eu5CD19JkLlv8cyyI9RYIN7KN4Hc0kdlN+2xiW\n",
              "n46N8fzNYEO3zCiy4hloT0HprCn8ci3WrUsQNYDmK4oQ3HwZ1qVqbTCifAomwlhoHk0z0Vjx/p/Q\n",
              "ex3kLham7quaef20iG8+249HAfM1QJFpwaFbagaYRCADx0aG4khc5EsrSg4c253yb3Z30/LnVSmB\n",
              "iFiDLk0C7BsKeMtQqgSpZYDR88dWpoySakX38my8x3RkVi90kLQWdwYsm3Wf8LEdgwf3tNvM/oXj\n",
              "OrcxbNzRgRPXniAHb0FJkDB5vitERhPFfHGY34OKskYkuDSQIbNxEohb6SEwUaZse2U0s697QFKK\n",
              "PmY0N+hbPattKAalID6tqHa0JWrLDhP1+iRtZCsDeaG60Shysp/XbCbOzsENY/2ejbAd9OmNl6wa\n",
              "z3axsAUYmBvFY/VEx5K6ZwvaCBCVtG5f/GBN5GuG2Muwescx4WHefyNpUK5A7Gtui3cMuEMVepwY\n",
              "h5uw+GN2oVtz9/zzMOG5Ahn6AsTbxbhUGJjWhwW5aIdD5Cb0wuREoUBiE8NmmzJsAFiKI49OW6J/\n",
              "77T07cr0FylY/SjJrLWj6qCnXBzgB9JXBQvz773Myl3O12CdDGPgqnqACqLZD/xcMxbqPfoO+Pwi\n",
              "LN+FIX49wHA6y3g6SSbImOAemCrYHmb8401rCmDx9PEEAOouDyoMISHla3Y17qZI3HDRW/5fOSOV\n",
              "MlWgYmaLzFO4t4cWTIQgB6kP9XXf8u/Hv6K6NXyNdqhQhD7fLcNlBOAZJ9RztwEEJyfyp2JkkZDe\n",
              "9doBRqb4qZxCeT+WkHn1MKt1g1GnU4y7AnCdO5aYXAIz5UAW/Ol42H5Xv6Jv1JGgh2lztw5JMgcl\n",
              "aEbQMtNU9C0mXZsQb8XB2E/fb1/QggmDy5ddePDAZ4MgsY4gAeEn+ppzeP4H+6R+wa2r//P7JAXy\n",
              "ZyVhbl45FBYMZ2OaLyfEGFjKBRp31Y52ppjBn9R+20G+DK5ehPpng348n1FjBVRRB3ZI8niBXdCm\n",
              "lz996iHwe1YfZUklFxoYcrk32uZ+39CA3XwWvEieqbAbGDQQHciPUecDuHVy37JqKUt0pX1zYN6u\n",
              "EDKIgI4M0Qms3N5v9pKTLQ1fXk+gZ7gGWnebA5I+pax2Mxt3bv7hSCfWYMEq6Xx1AWLFOXtpm2Iy\n",
              "V4NHoKjWoLmaKA6MOv16JXuRObNLHCTlDEZCSW++HGz4Z+AbjMpfI3hwJipVNsy8ct7vJduoiUEf\n",
              "ltQrlZonbMtrgGbK65G4tAjSFkvhCnSLIWCxQ+GzuCjiYOsBvLq+ZUWQb457HnqZxl98Egf9Y04a\n",
              "dHKI7D6FhQaLdxcWiHEYN8ldjhzyqBUF4Kg62WfcNojEn4ha6V/l0kA/jC+nlcs5Yjspru8QY7jR\n",
              "ZzCXjTFQs82qJTZrv6EZNDOu4M+qMLb8H5Xhfwk/xApHMTOW/PON66wOzhd+l7RRpHcw5pjsBGKZ\n",
              "ZOOj+sCSFVSah69tdXxuqzYkSIZJ/b/ub6slUKSKOax/1SjqS44U9/qOy7Kt+iSJ1KhEvpG7wGs3\n",
              "oh2pKcbrap6Up7Ar2unCg5PJ6SlTtpxLzEoADD35UCdZR0PHJ8qhAE4C05Hh/uRiDwACyLtx+vZG\n",
              "uPshB4NUH1d1LMA2cwHwg0USlPSGRk3KZQx5bKDHwCYaFWkp9cxGNBXu2CfvpNFnRt+nxs8myHd+\n",
              "R3UIf1NGQi0xN+YmH9Le3frBUPriLDGwbxjKIAU5a8XaezpAcJZX0u0hS3w6rud0gMAEmlTW9E26\n",
              "8s7PmHapi1UBMJTsdVhAW/h5qNh5LfBQiAonxV5lqxSYWoe6itaVjO1l5GcQBiGBJMO5YVyYULed\n",
              "j6oJca7VfR2VQLSMabBek8YmpONykhJX1yzQNwm+s2QWE/6SwRTOGoJEozK0Wv3NDdduuxdUUyJp\n",
              "A4Uo9ETvL5nKEmAA1r2sHlQd3eOEjjsREkBW5LZxNvJlE70LrvE/YNtwDTGbEyKBsYqEdFWVgiPT\n",
              "Xbe8sKIuAuWU6A0C8xNNjOmQxNy81nN2UQEmABf/GIVGFdO0yHEXX7dgB/AnI682CVvSaj/noy/4\n",
              "sQ2nmg6LG+XuG465W2eRnx+qhNaeqKbWQd2izetBdhqHvZdtH77pwJz1IlzCdLkHNGI0DYW2Dmro\n",
              "DE5bIrXud5UHIfqq743gXUQNCphH/lsTTdS24pTibMYhDEbFr0BjkbO8dW05mh3B+5rmgeuz6mn+\n",
              "ejhtEl7dQFMppvE5t+nWFtAiBUA5rJHNPnprsi/f5PgwNqbeBMCV8uV5irrVUQd6PNG9bChFbZxM\n",
              "JoIooJKKsVPuq+Z0ewAw7VNA6cHFjBPqedL0Sjuvodj5nQt95TfLrOkXYZwORNO7NfgE8Bw9XNcI\n",
              "7vMwH9jmqXdzduPv7bKMbQF44FQhA6XbZj0W3lglOSNuYEj5QI7IVOCaXPUR/dP5xligBF8HWTJH\n",
              "JU8DWlovn26NlyhoXi+TuPjcntpxu3tsTveN8as8do17jt7u7r4+/NBZ9dUUWiwCZ1+iZDOsoJ2W\n",
              "h4QaojfEH9SG6xZZi60jdcvGM2A8zLo255p0HsgoJXGJF0R5h+0Kwzojjdy0zz6M/K3UUdhrV0J7\n",
              "6SoPWBzPtAJat1Tcvke7f3m23HhK20Omrmh/IDMsmOuUp7XZ9ZmK0n1LrGs2AEwN00yG7IYZHr/Q\n",
              "SQvJn8SCE0UP7nTN8H5+pYo37MkHIbB8r2J+BTnuGryEuORncj8frCaHvVvOhnbHJszJUxqiZlqj\n",
              "Qqs7bOx2FXZaQElVZYy9xtYJYvdIkmD0X+EJziX1gqp4BnCG8wsWNUNLT1y/mwUDIf4KPLg8AdNR\n",
              "eQ9fp8BFp69WZnDcjWiS6tDoj/wzJUhHk5vX+H+K09C7N/4JwWsOr48pJAFJur1+715OkPciOAiV\n",
              "ooTCrVqMb2A0EhT+DGPMwz2wfWimvGaoa/fCycgj7k0Dn4GcqPCPLRE9wq6qW6v38JKbhrLmGuEf\n",
              "W7JW8O3lztUK/qqVOVGkU/2uizBsO3u55duaUnwZce7HXJnjU3jMcMnBUjftKD9ItEFj5gf2dsln\n",
              "2EP3YSwdrI8CNz1bDkltb1XViH5jyEnVBwiPyzaf7AIJhUY3/BGvgT9KRuH1rDBBpTrdJU4pLReB\n",
              "BoSTC9N2mbP7kdbG38GXR0AdINGQ+bXZXDK2f5kz7x1KNi0+8rl4WxtDJMrIr2zgdJKunMTYtjqY\n",
              "P8bTs4ZuoMxzfw/gDHPA77ZoDLzZ264WWBi3MGCJiTF2NABqDYxOqgb4I50+PjahoRhD5dYLFE12\n",
              "mDQkZ/19aZ1YE64xrSR96zVSxcQxfskpkG3NscHC+T2SPzA0SIIHgtWReFJI5IEexOsqbJy/v8Yj\n",
              "jJpIi4hUWtchzp+lSsq8ICVewQa0hAE8ay7uXuced+M3alGKoqf1Gb9aY4qgl6745+e7a6PB0mV7\n",
              "dZR8+u2vY9YkkXzzoltRBvk3/vHySAw4N3kIO4OK6ESB585u+LSZJN7JzXzf2JDKNluZ5z2ZpaSh\n",
              "Q/S/yHmikY+MXfOh7vke2aRpN1rnrtfQqRZu5zxRd4630PUimSIBS0/zFEZa2SrDz8PJQi/nmCNp\n",
              "s2BX1tBUJj2u3xjOcAGydmXcXnWk5YEAAAlEQZ4ZRRUsM/8DBy8+aAQlTpYm6AEtXMrjciO50Bln\n",
              "DEshTX5XWFXzz5LpsOiZKFFaZOjGz91742wzKkQlm834pLMiCNTUmchUxlQaamhY2DxQIqX0onW0\n",
              "48NDeR/kXQrQmLlBWgNW314txgimoxKan2XybKarBu3hNrDHNd73FANA5Pv9as+D8nQFyLRPcvEn\n",
              "se6qLXSbVk9KQMbo9GiPCMb5uxqRwq3wRCySBXZ6sk3XQnstdgA6QLLm3NuvYv2x2uLv9rSulinl\n",
              "5N1cD/fU0BQ6ORhUdRAgGvgtwnAPeSss7+ctaL2mtmpZ5dyzChUKZy1AsXSeiVO/0e+m3MyBD6HL\n",
              "AB9+cruWiddbYn6+zTFnMMDjjjnLyca0eIS1HVvCx/G49H8agJRXmlJlmnR7OSbnNVHumrYrdsIo\n",
              "ryD3nZjegSQ7e8xHcrAA2l2iPEhiOJ4nkDVmdA09lNDRLSEpIhPlw4AfFpeXGY7xmKyUpHARWNL2\n",
              "F69R3dedmJXoTMf/ph7oB+/6sQFBetixd4mN8Rk+rMCySA1kbeTyRwQ/tBTJrfECHY1gbUCliFm2\n",
              "xdiNynwD64mlL7DvXe9M8M8b4iits4mS12MJUynZiJo6QHiC6afgbyxdn8InLPbmdTcgNfQLqrcd\n",
              "SQBGr9tHQDTqEjBpyLMJryKUUq55iSmmJJ8+FDoq40U3++HP60IlNFFy6WJdxxmIUQiuPKr46XJ+\n",
              "U3ex6CY5vjWTMHuW6LCrR1wQ4ezlLQcdLG/f+UHOx+M5ikqWv+1dP4/jCigxWJdZDUa0KRWVK2sf\n",
              "zMzy9o+9QMyqLvo5Jo8WgOOLgRUUBBRn98gzfYZEOPX7qcdIFm5oqPtjke8MaUURIMMoezRe0WGO\n",
              "IaP0p/lIr4q5Qpri5w/zegU/hw9pN/BN4e1lccsRtkBLHvB9nkrGAie+3yDh21vHn25fJfHYZzkf\n",
              "QAFy8AzQkd2lFLYJFZpJvH9e/pg2rS7qcfrFlJ2aDIxrgXgmWPvbzOm3JknHt+We9NUeBxpTDUSe\n",
              "iaAx1/pbgt4tYts0EidV3JNnSsjt3I4lBgd4M/2J7x17I6EI+EHjRlntN3pV+lt2NLkNhW1Ari+R\n",
              "FzzrPnp87BKC03LGWx8I1KFsYkPGorVY4z/h9b+6ZVsLL16lnhy7v5hMJGBHexsA94CT1igUsYPT\n",
              "OCSWxxUaGo0DPgjmRGRSalxd1zNrI6ltcmzfi60wwLGLJ4gdD3rvWnK3qP2uB+SxVcLYW+TJF3U0\n",
              "VIo3T3Iv3BoJPpn5af2OhF7b6AmNS2pmUZ+Tk1YODe/ysAnte5AVtWzSDL2Lp7HqExqVX8+sY7+F\n",
              "QOO8t2DcGAOL9PUA2IBqa+5s/DgiaUnnVV7/+zFhr7DSBi01s04wpLCKQQuT9CJJjXTNgAnfKM6A\n",
              "1c59NPpC+8Oo+SsNyXJTjz+VQgVvoeNgE8Ieck/VQV1NDjqvPZo0Fp0+5vB5LR6tpAbIx6FyR4Bi\n",
              "ib6Ad5UL9bi5wzhUUPIQWvGHqy4He7bRYvo4XG2AMtZFwqWoxeQQa0KAomFkjqAPKHkhhZmyQmhD\n",
              "i87cERRQBMAekRKsgk5jeYVHqxJHIlzYDE5A14Uzfbn6qFXPNdh+y5rkxK32Oc7FOzScx11fK+lM\n",
              "qeAsgMXKvOPIVx7qEbEryUHQH2FUQy6ZjYRgB0/NdYOvWG2XIX0Ur4KWHTVjyhsLR1L/s0MlPD73\n",
              "Klk951mxMQKPG2/v8yoZpKAXthSgUJQIi+Z39VEhPUOkq4OW6VXI6eviVuXPnl+mCO8ug6PJZVOl\n",
              "MHU/nx3t2J2Tbt7WM+logwyoEZT+MWIDo42yl92MfPifgD+Me8XdiWBJe+QkBIDXInEvyhWDvntN\n",
              "8z55aU8EVr23Gg4aXTL7PjTuPlEQXITi35QckwDwM38Fa5n9lRwOdR3y3ENNYXvNoW3KE5M8gQwY\n",
              "OrQ5xrbEbxs0KiPaTb4Qqn/Kd3Fu1uZGsVp3NBiSpDSRjFSzPLG6rT7mQFvkBbGVKLg4MzejP/kr\n",
              "pzlm8ihSym5/MP89rJlDDEOq5VbdSpSbfXPeYC9i2xI0L3PPoTZbXkGyjpqWRE/67/OXH6aDIbxa\n",
              "9SNh1e7gJ1MGXPdNREGHfOjtmXLoKwa6v0ls9oZgQ71RVxO2Vb2At9WJ3DckNWgYy5udIgTCOLAj\n",
              "VJlLCNzPCb1Fiu9/zPIXfMUCUqbIrLGn3rmF/j21aATRLc8p4nG7JDmXdBVl/8FQZ+OVunrUygbG\n",
              "xoFwC0jK2YejDVNh9TYhKUznmkBYs2OIzJxuBKOUPQCwL4b69SYOSmXC8Fq9aAqzWx2S7nvlJcit\n",
              "b7hYTAwGvcFm9upMjSofw6GNayTkuZyYsMZQ1QgYqFkrrhArZMfaGK/wgw+8GUZixIxKmj1gddcd\n",
              "bxfz3BElq/z4OkBv0/uwUanHkPmuua/i6gUyF/lVpgq2hM+qdIxw2oxJ33GUV9BPIXXyqgk6Ghdo\n",
              "pePt0YoMTYqVp7dpD8CuxwmLQzwYSSfpMAYoLJ0kQORZC1+ERxcd7/CyACG/n+Pmen7zWBB/bt/C\n",
              "pBUrg/1rl0dn9Oblp3FduqwM13XVKleYgOZ6FBh6uTE0FspBBhVwdXjIjIfg9+8ZgTnoVL/fPibA\n",
              "iv/ccLi7KGOg9pX4j8JtLSmvr7/BeoUvzRPmsjE5by32HWJJasNuhiKoyu1RIjdr0gk9y7wJuYN8\n",
              "m+sTVEpb+TxqUKimgOrQiGtS7W4yJ4+cdSuBmPcD6nLper9fqBCm4zsJl3PYW6oCj4hFSff0oFDp\n",
              "aXyZvrgv0YMOSNkI+r8Ap8ij/IAreS2BSjgJbWQ+Pwy8hu/29BXy38kG8nxQ7m+UySCMgPu3yTT7\n",
              "UAgORgzZgb74WeXuQKXoApDeE2YQ37Oc5bHs28CVVpdgMA4rw8aPQ2t+rO8Kp1BvUBxuTtx8oiJr\n",
              "3ddotMDwvwpfpHm3QYgM50RIlrq3TaOmfcNOZSU8tZqY48a6zg3c/XBJa7gIXjZmn72ZE4BfDGcX\n",
              "w1SrB0A78Kd8RA2W+uNy98lJsFdJq3W37zmADwsgFjutPNTWES2/Wfq9GkWqdeUg+oikwChKwt8c\n",
              "sUj6yGXYjymgWk4a9k25WXeLyQM2MTBOvZb79qy9+29tavT7m6WZdBS2+63SaozurmABzGd+75/X\n",
              "RvG3TMgAAASpAZ44dEK/BfQ6KwUZsrEGTCgBa4bHYD9Pf9jek7o1Ua4RmzzVEag0bIRBFvhbTI6y\n",
              "gP8M0BxfhoCVh+t2+nMWlvBtEoKWOL61kf36rNp1R6dg7V8KKDQ/LSGsOlvN5ybCkLq3zgBSFMUd\n",
              "4nK25Qg9a01i/YpXwZC7roZnbWVf0Pg1KId5d+X3v/46fibQrMQYjmCBJEIIBu3ibStxQmzKcyX1\n",
              "IGcg5bznTdnjIcY2GsBB2pBMsHth1qr/8pFU907sCP0X1XzQoZs17fuW6yXtB5e1otAdiDJ/Ct9B\n",
              "8s/dzcQWYAuuOJRi/AcNZ52GpBY9UqXEYsm4O4UyE48/0Qobr2+id2ZRE/gBpbn7HxtPyf76K0F9\n",
              "pDbGqhlMuQNNKeI5Q4Fz1BooUOGuiG9D1fRF4Bd5JRBuZ/CKoN/r4zDxNJ80vnFaxW6hbHNkYuIR\n",
              "dvKPMGj2dxMxDhQmAFeVxfL1yXRA7Qry/ivoxOCU7zdZyRsEvRy9EvcOdXhss0K4AjB221YqlXgJ\n",
              "1RddVS9eKs3QBTDKF4QM9xOPsC3aZJxTtS2zKq5PpBjBQXgqsfZx1NlXYANsq/88JhrXaKv0tLTp\n",
              "O98x5AdviEyNKA1fIarJQcqZEPCY5UIjrQqeZouXxVS4uBKSU4K0/pUdB4m06Y4xIUmx+rObhLWu\n",
              "T19sNeJconjF4gIEMK2VUfV3ovE0ENL5evtdU7N6HzpMs+quS/UL+R5BSCg597cCjRpYy0iNFlp6\n",
              "sBj2BES5I8qwFNV0nPgzJ1qma6s21LHJMj6Eo5hxNP6DVk4dXjQ6gbMu8lD7ZLpOG8c1TFgp+5zP\n",
              "dtG//EHhyjrxTaGmolkPowiA8bLEtrywjWEraaX+Nx7vfHp023aq/mcjyonRbsC81hl1eLhGWHu7\n",
              "vNcMLUGxzoP6nDrwuUGrchVkY7rOo4/bRawCmQ2SMzYl9VVc6SG1YnRR6aMgUMVutl0jeK7uKrro\n",
              "wWkNsjTyWf42JaCT7rKtgC46qum71cQfO2FTKSvW1bnCVLWTGksZb5Kt/PR7pmY8EfTSm3U0uL2i\n",
              "m/fHvncfNN697J4wHcxqXzOouvNs6k4B/i/Vf9hER131ggSyUjgebix3YrB5L9wEYo7zZfMZwwkr\n",
              "3aDcWrRV2Ekq/A3FsQCTn2S0jGX9AnlZmscWjGeIeQjWOYoh3XbHOT9cOgoZTPQoPbPB7Bs0Wyrq\n",
              "HYrbaWN/V2hNcESaEBOMp4/7UK0rfuxvpzSItrS8O5qJRnd+PDiC5pUllizbuZUI6HiQabHWvw03\n",
              "vm0udA8rkX8s2qfxTGzacoV41lWCIvfjHSc4jzrK2V5MbE/iDRXnXr73svnmlm5XGM1B9nLevie+\n",
              "OUrcAtCvDfrkgHudRtAhCRsgjp8/uaKge2ZKRqiP0qK5PuZCMxg6tW2cHwRwe2CI+USkayuLnDL9\n",
              "ENIP/keaT/OjLcZMtiJwJXjNuwPt/NT1WEHCT3cHpYulSsEP63QiebKQj0LQAfX6n1y5jBSIfoXS\n",
              "QvrIOBmQOkceLHTbZG2s8RcaSZvzwVPMorgO1Gcq4bx0TfnFAxPbuYVPU+yeL7FHds82Ytm9oSTx\n",
              "ZNYoQsEAAAReAZ46akK/Be1d7hGZdxcfwAt4/EOpoNLGdhDty2YKWdTLOW2OGBVCE/1xP8Z8stdl\n",
              "1GQrxcLTh1GbdcxWusaLwc62yoOxFG0zhO8+tXytkoDctoc6QrXAW5S4gNqZgvk8wLllXYJ+XGJa\n",
              "gDE0Q4Ob8c+Nve2grl17iIyZS9we9hFn6UKQYRt/q+7mcPS82AAsQqZTO4Q+6HmcCzpjD4HEorBr\n",
              "ORgplLCTbQXXOwV/+oQH5Equr5mJ37E7kpm4R+wnQ3KNMX6KJ1YDLISvF9bDpsaN1JMnQgEm8+4g\n",
              "w4RmpcFCvxsREtjo7pPGeuYDg4ghqbg2DBuWLGB8d23Q8NkEzJelwpQMVYeG8avcGysqgSjIvVR4\n",
              "ZBHCnSd6AJCf7g1ZAFflqXYMvKbBpRU9/lmnWv0oiZccAJMJVUkkns1foxnk8iyzl9RlRwyrCHTA\n",
              "YlPhc3vJBy8/f8OtyUrB5FSVczIth2BENzdbUbJuZOCnfPq99cj1GJBNnP3Sj0RXU7p7TgPRsIDE\n",
              "RIzqYVo5VNSXTZJx19G8p0Wi4YAifmJo93iID90weyI8+5o+89KGAhvM75IQRHF11AJQFy0imDa6\n",
              "nNHKCO73tDIrDoNI3dl0/6VmUkDXVhltnDlmVgVMbnAKUJRHWbT+SDRCfgCGjDsYChy5s0DJ5HMl\n",
              "kxT30s3YWhSCnk+wUJmrGUJ7KDcAHqGWFkydCGycJb0cTqelrrLS66o4g25x9kNKeVGvW6YG+ajp\n",
              "+sS1Pkog36pbSIMW5tYAcQaB3d+UDz72p62Ktjo4d6+xPhhB6XYFR0ZtEgsFbZeH40yOQcoiAyG8\n",
              "/aSQGwDG5ptBgkMG/vOPovXwFy0vCiiXPmLL08i4ZMzw96Z0Fj5U4npHAE336QeKHGt7PPJW7kb4\n",
              "s7756Bwv5uXV/tdlfvVZdH1BNo86ysuaQ9cGG1Mr7+1PEpoOF/dPnP6zy5LZWfouyjVc6m0kt42X\n",
              "oQR3qcN5M/DCRuq8nux8APE6JM+it5Ks7i+WyGUTpYHmp9yCVaHyCUj6AfYwYIAspvU5te3DCybv\n",
              "oaO+bINyXtOcwKkK5sRTmBmzS2A8Lf9pO3JbE3QFpN+qzRlhd6S2TcZGP1z7dvQxo9jtbUPawrFD\n",
              "3N6I9QqTZJ4n6kl7WfAuFiH+Um95W96z8d9On+I3wn2JjjUbXSnRynkf/bmcbydO+TFI2p0L/MDH\n",
              "laG/qfhJnjVfFnZB/g2Iq0oM6MpQa2jvobflhjF61IwwUMf16ofXAMlZgBuHv5A9BqzdqfRaI3MP\n",
              "0yZoLVEXvpsYuoVY3Oo5g8s64u8kBmgeYBVg3OMrxewANmTCyI0mFi7fTNNN4DLTMJFlR8xmiK+2\n",
              "af0GmRkaz9FihqP80ea6FBZVLZr4l8FVYkk0XjAPjkLX5Hp8Olauoq6wA0lbNTWFcYdpmrGm/iKx\n",
              "WszU3l/atUyrNZu4tUjxLD60l9fwRiJoHgBKg5l0VGDywABfZ2Jei+b0+YAAAA+BQZo/SahBbJlM\n",
              "CHf//qmWGNtoNtESoATt9G24Ggux+v8mriq1TjSRjzXirAbKbLOnxNMEZSQLUB5rmvYmTurrMLPN\n",
              "/yeRG3y3OOJMs9j+3nPNbnS5KQMXlNTJvO6f3OhEatxEO+m6WkY6mwlblsgPoQyOM2L2gtj7UScR\n",
              "57v+NDjXEQMmdnUXdGZan8wv0IxMh/vkH+ZekGW9Cv+eI7tZsf4Cf5Srf1/jZYxrOOuDb/zFijrs\n",
              "JaFZsOq9znnDhXdO5vNE2LrJ6C/HUozKiHRmT/gHPO7d2LRK74qNiBeIJ8smDWGAv95cFbvo3HU4\n",
              "z/rGtoIl+R0q1F1f95tYMepAi4Dj6YvnkGLZf5j4n6GIx/xJjxVTdYIwxsOY3HD0y8ZfJUz6iaE8\n",
              "+U7NvjcDnN/FCHbODtlI7uZ6P47CMdW9bKrXfq+zc7CZH+eB6n0BNBFflZwDL1VlfhR4+A5/KCt/\n",
              "dhaQc/7XNLmcsfe5kdauCOT0xowu0I06Zeed6R/ApHbYAM09+G9KQ2UWxm0dnva9iFe65lPnRtuj\n",
              "xJr3UtUk8aKYylk8b2soMAYv0T19pAuNdTmJfhNhk1kLsrr0gt85NfghztlfAsvXpmTVtWOYC3Hb\n",
              "Hzfy+8UA9rmTangkodpHsjEo0Rr7c8d4OhGq6sIice5C7nT4WJcGl52AttYWZmXXsl3rp54Q24+t\n",
              "lqkyMbsu9rQ2iNtGuDeBpZTcPj1ZcZ3td963fnR/PQhsXheEy+6h2T7PnELILyQlvxVToAru8+rJ\n",
              "Z7seiawWC+iwJAuz2l4WSMjmQfXb+BtXZL/vP/+UsMQZ6fl2EV8Ydx3mbEI/xd5Tl0Yq9qzJHX1y\n",
              "yUyFTdfLsTibwpyxSB6Nt8OcTz/f5yJmuC/GUY/YIapit017rYklM682NGQggtNB7ilR8P7YnLck\n",
              "vzkL/3BrPhLVqZRSgD+Ds37Dai3zUT9B9r5EEZ6XrhJeTnztIidRPcY2i/YZqJ4BT1gKclSuXIZI\n",
              "QLUMFM2Igtprtul3TsVcC9K7kDppbibXqgrt7gpz0vd63ZVnCB9euLAS64Pao/gTEVsZb+cc5RLQ\n",
              "ywRd2v1qPPJHjtZoSAmppIItx2QrgK9Fuu32fM2MSG1oVFwxXqNHVkMQW9sR6L7Xv3l36C33VEj6\n",
              "6i2AI/wGQuN5ZPdjLIBGHQtppDpncuKzswSxQ2UI86gP+4KUYXWNlQFFvWC/+SGVV3lV8O2O31Me\n",
              "o18g4odIl+cG+4jp9aRxKesLKk2uf6b6taeX+bhY0kiKHJORmLN1hlOC0iwc2eWteqlzg9Kp9nYD\n",
              "J3Kh9I6TIJgrjewpZ/LkLI/gvE2dC+HVr6R2dU5LTEW7uNhdY8/tcFEA+pKl4K5tE5XlaIHW0oXP\n",
              "kchNDGfbiVFrOGlFVYutIbE3+ScjUyDef9ASzbxNcouEV7aTGPWH2xWStdeAyV+qJ4WzOU3rqcPq\n",
              "kuJBpxiflXwL0F6jYIdnL12bw4S+796Fdtx5MDk9XJk9BLWb7C9Pm/bpayTHtT7e81qfAnuQLZ9g\n",
              "g6J5rPGKMFyx4DdzsA9rXR6f3QxvDYzK9CunpOvE+IXsTrj5pqEb0HsRo3z7EvjvmTMw47jwT48z\n",
              "lWt4nl+Lq5cYO1wX2qqA7fCfmo5gk1c+1Qjp3hgG1xqn3wHsxPRmjZtbMb/l0CYs8bWRL1Fs1GUf\n",
              "iuovDQFElRdv49QQQ3nJCjLsOtIWZZkgwLY2igER/zhiz1cebU1BmfQp3ycrVotbYpdfLNyv8VGF\n",
              "OERTE9dYGDBQdwN6c5zLOu+UwPactoEb7J1SwlKRj40XF34OsoSljcjESxLRaaBoVj2bxpytzAQd\n",
              "WGnd+WmcMLccHdtD00r/sp6iTiclEqIop4KJhnQRTfZkq0jlkqtbecZBbmn65kPpNq48JrQyA+wB\n",
              "oEtDEX7Fzd6JXjNf7uZpGxsW+2EhdhnphCcng9uHwLDmjD9AUt3B46ro4aEdMDgflAw1+4VbpVPZ\n",
              "tZa+VYAbaY27ofpjouETfPuQRowWHYBVLD0hAAkpjeaoGA5vEEJZPn23NtYn++LiDM+bkWLNkOpQ\n",
              "9acnSBb8aax8kJxfRvSNh0h4tjesa99Xw7a8XOGR+m8e4hHGnG+YC3B48+8/BMhzkM5/Zzk+eFX8\n",
              "QcaysZqtfYhdRsCBo5OjVCM9EQ0d1ulZ/7TwQF5nFv0LPhcp1W12J/WIUeuLr2XeERq8EdfPcDUi\n",
              "G2ztq02gvqJidMv8h3iJdKfELypO3lGNh+xXrC9yrnhanDx0EpBvBrh0P/NhiEsUOyIwmyx6UL11\n",
              "l4/hZxx2MoXAapgGyChzkAg+rU6kckgQxZlbsGBZS2SS3vf4JWQB5jJExA2ZKpAWK4euVJLa0rPd\n",
              "WtdmhUZUUGSuguklV1EWkStpl1na1lLYts4VF7G6wvfyFasPWi6lV39hlIQnhpsk+6txHSPChqWs\n",
              "N85VjsBSxBbAyG256wkiZqO03Kar4MZBDwvCrWdTwESDfxuAhcYvMszRTZ2hnwNCiwUPFK7qSRZr\n",
              "HdjEFGfTNup7LYfvyrGmPhfoeraGFEZpj7LC8qMxWCuYAgxmpQCr/qeHxwsXWdj691faMV1xV8WH\n",
              "EYLh25PO9wGA9z7lO4t7N9nlYizeR/Uzi18Ro8r4m/GD8mXdWrBP5GDnSvVH737G/P8/vyTqJn0y\n",
              "cuzk8O0KcCltCR0JHh5Ot6EQ/1N1qKXVWBkUmWUWiZoNPge+8vceCWtZjruqG2lHEOs5l+KgV2sj\n",
              "gdyYaZDP/RfPCJLQbouLQm73Is7v/sGEoIyLjGXAfZfTwAz3b8gBojgzrTNq9snfEQotH6ti/toA\n",
              "vrXMvX3BnaBatHEz/zcdK3vGA04Tjc4e2mzg1ANTwwXDimvpv2hyOc3A2eIqZyzWCL9ta6jgfePB\n",
              "xaLZ9CKF5crb81tMWzRqOp+UjleqVSUHFV2FytUJXL0+MP0O9DmDw/UmJVoWlMb+5wQrkvEFnMrv\n",
              "fGZSrEVnawiBtOtraZweeVJg3E3+f/+6XX8oD9g1xQN1uoOgUn4OAaM0HRxRKTTo/jg5ghXzD9cH\n",
              "Ylr7MxKVOnPrvaEZxF0tGQKYuwq9XAJiT24JalRdivraNV9AtjkGqs8Lp2QL8tqTBCC3F35NIrUq\n",
              "1mIBwlAkY51Uudl4ltS8fe+bKrwlIwIQvithbPPETnLHADUsCtX++cVtcqpMYn3R5mdeb2cIgTcd\n",
              "/WM7T65HEZbRwbeIIAif1Exh0mMUJTBFIiRjhuA1xZB833On9Aat84VD4KLNGPq7qF0g7lVVd7Gi\n",
              "0rbLPZYzYS+4HajbWEGLhP1JjMdB1XHJyz1K88G8TJa7uyK8ePsI5/CHUelgx79wq7Ubnhh5vI4M\n",
              "zoInW3JKJPseI3ihuCsuRuljy0GHyXx16Da+qeB5GK91XrZOgRgPrArutJfonEZOtuEt3aBljvo1\n",
              "cZ8Uu6hvweoZvy2Ze1D1Kgx7Qoi0pebHmE7PgAEMYDObk1XkAoXkKeOot4IYZ098Mnr7hZ+KZnnt\n",
              "ON+xtnmcw80W6VcPQbfZg1kni64vGQbRzX3CGiWXXpjjpcrulNeJWwV9WzokPwfh3Wqw8SfDP/Tx\n",
              "GwSHpJqegxKKhhyKVbNY/jyXNB0ZOvfuRDsDYEHrslxln3blgZfVZgkKgch3BlDsDNzRiDDX/zYQ\n",
              "jUYHzU0GNPTYRVU9n8diqYMOWmSTKXiMWoo3lBc9bdqBaDzLenWMMWNN4qwiPYeHCApySG/yHD/G\n",
              "2yk4Zqgdgu6S9MffWrQtgBOFxHNga5xs0hUXiXUdyz25RpICYQuxCNIlGFEvWpFNtjlJNv3E5egU\n",
              "JMN5WnDOJ2d7Fk+NO5RqByIYtUl0gFqPykL+vCLWIZd671KsCRzHo24O6EYVW4s7fGgrKHDTeHVI\n",
              "aS7qLvFw8mCPbnN7ozXvEbI769FRV3mnDiCTZTuNsdmPmv7PU+ttYihBe4R2ZTgQdy9lbS+225NX\n",
              "zW0a2Af26XVHu1zqfrdkYkc7t3WSuqpFccjm+dCLB34/3B6I1AYtzIVN2hMchtr0oQLPn7CswMqG\n",
              "qMYgxzBYzDfXVD8Os8NuO9eTyq6fn50ubhCAJty1OTbSUUS5enfRt0adZJJKf6aTVTtIvYlsn66z\n",
              "jKN7K1dSUEDL3VCIbomUFDM/Hdj6v28QgOsdXSq6dQpTgoTlVhOdOF1BQmXdZEOXCGDA3ZJYSeVU\n",
              "PwaL4BFIajZ8+bSJ0B6m/mVZUrj5M+vXaemAniBzyisseRadZ1aG+TTC9Fas0ZHOS7eOkFSUcyfh\n",
              "50+J60mdBtdITRx3iolMk8EgvuIU1AOpwyjTYWdX39azhlPpR5jF543t4eCTqphVfb0J7v4SA4pi\n",
              "ndBkDa2Hr5wUpfh5Yg9zPEb0YC7D0JmThG4ht8+e6KtVryp6iJVCXVKq4qgsu8KWitOiQCQQd6Hi\n",
              "GmXF7xsdVA1RoJSjF2+iqwdLXpv82JlljSfTSKoSdtvj2/qRtNilUJWIJwe3gxnzGv+PH8cd7Jqy\n",
              "YYYaWAOkD2MTxhPiQKMRkJXgTkLFerp7uoq7Jk14QiJoCi4fYNFsg+2SVOiIQG6vPMDGy6xlZbD3\n",
              "TbHOgFONsXc932Dh9rF+dhWDHhj6vDzTaML+QYvUV69yR6CRHbM6f1gNZFzVtuBplOrTbAFS4Rau\n",
              "7n3o1nonASxzUT7FpSepFfbXIsKwOtLfOjf8B6gffJUG0CN617QeoGu1BMgZzsxGRmnzUrtOF0F4\n",
              "H3FHm3V6wuYAiTpznZX0Jy249+3jEquvvwXbEGxERuaILLoo9SiCYJ1BkpqCOj/dK5O+HP9MYqz8\n",
              "TTlGjAZK3tNoBJ0FruKwW6YNfZNf4oFnETDA9oYaUCO7Dqt6STrp3Pn9Ot1b5asMrs6HpMljt7+3\n",
              "5LJ9xz/meqJUsBgWYmsLpF8D2I6VBKB5ZtQbG3LvCPDfUjkJbqsdLxeV4yJJGNFgfY7NM1+0vsLW\n",
              "QYhHtBnogdZPHGZ2xrQsXw5/6NdDEiCPKravgX7nXNIDGENtyCEPzlFVo1tM1cZgqEpXoRJf2bvC\n",
              "f0+R4Mkgu6iIA10+3C88GtV+3sRB8ep/oHPWrGtOmgNamCAbDOS1WToV4XZwFPVDJ82L7Eq7VsKA\n",
              "J4Fyny4aHt4eKWqK/XymDCrxw8D/oNI95L3HbCuFabqdK7bIp4jWm/S4FA3hoxYWyWklMrVp7M8Y\n",
              "fppaGplqwxiF5gZnrwNrHMB8doDxghnEK4uGNrXifPfa/Ncgp8s3JncwZ9SkTfKFRd/who/SxxLV\n",
              "qU8l1kAEQn5TRhd5D4nl/lcJdhWbGcOh5RTxAAALBUGeXUUVLDP/AsfGBDbjeYKQAEtXTquryTKg\n",
              "olxsbMvgTw0waAYidCpC7TFUIVhTimSw9+lFqLiyf/O93BrYJrmGSiP7rNyJOOFJZgtCox37oF9B\n",
              "+JixrWRdL9qFvM5BJGMNuIIvwhjW3/1+Bj5vPfTteVtArUKT5Jrxbi5pVL7OH44hxJ7xeXlsfuVF\n",
              "ubqad5+orckQIbqlQ1s9LOksdCyh7JtKB1e7V1IywHGqpxE6aBfJeB0CwOuSSKQzR9e479Mvt8r6\n",
              "ZBgyHkwL+PCi/7N2aKT7w2Oqej1PID1RLl6dsg+mT9nX3sjwfVeRhKOt9TPZC+B1A/cmfDFLZa86\n",
              "7PjP2AndctiXjf7NWvHYztjMOjzQxw8iE4BJWkVt1WDj7j3I71vuhmuUiw3kzVYO94bv3sY4LWbq\n",
              "rzb7cXeKKMar8yWtNo9tKsvJrrB2uwcFciPF5EJy1HsWtvHWIAfTcs/uzdNFYFOzIhiuiJdfymWx\n",
              "U8TSgkzWmyi2rYd8/3VTZC+WAEGydfIhFasFC8wWyj6qnsUdXD8m3ZheMWcy+544o9z+2vknhHZt\n",
              "Y6pPtyjjc24Ed+tmq4YWG2lEP6DynLnIkQt6D+FqqzonOz116N7iG5bpEaL5lWW8lsUBaujpgbrc\n",
              "0huvtb5hKrtMsXuXVsGdA6sdfdhf4Crp2td9Juh7IFfmQ1l9CgFklicG5Yu0IJjFCFNkuGsnXibZ\n",
              "HG3CnfltVjnwWuIB6aT9VHUhgi5JkAAFSvk8UjwrnaWzXjkPG1lr89spnKEbS9IF/WWoEfeyN3RR\n",
              "768+fQcx+9/Iuu7uO7L5rkuiHU64iW6BUA7/UMyJeRyT7CwRptAu6BXcJe480Pbwf/E6JL8d6CXz\n",
              "Lov8z6lREWf1PZUAoaJOtw8ce26KC8ASPOQySoJLkW7oUChuFUdHd6+NtUvFp/Dbm3DqOyiL9Ul9\n",
              "Pa6IkSccZ3XoQeRvDqacrCzpx3f+l4uNLpLDLNQ3Yy2d7XYK73p12m2pO1GYK6gEn9UL/skpDz4n\n",
              "yOStf8OoYrBSFE6J9cmDxeRSeBAD7z+9za0Vdk+Peo3MAaDj9C56gS2iGTDVzXSaq9TBbCSEkL4M\n",
              "v8RjkjJ8jRaIDYS2q4XPkKxHGJV+JtromuysqXU5VsFrkmp4yKg4dpnaFVaOtoTinhRXV/630Efc\n",
              "Z9+Tf/P9ndBmTMq7IWm+R+oHNtt4qjqoWgI7hQjpt8Mi8JwYtTCRU2U3n9SkNieLX+Jaeu0kbHqe\n",
              "lHdPIBJKjlyQdI/ZjCbOWhlBqZkJ+FcACdJf9e0YSB6eY2ICKG7KaIm3E7sYkgZIsLMjHOwWiCaG\n",
              "B3crp1/C1DFTwJAbTP2qSYTTGyPe58TA3azW+XRRlwufdnnT8ktH+HAcL4KDmY/EkgBcsDPxocen\n",
              "6b9oxtSOUaqIgnhUh2p/mrJ5tVlJPClmU7a2LQ/ieoCUX3hxjL/jrEddBL19z9WiOObv4czYUjSa\n",
              "zQuuYhyAtOrNG6yBwv/u6qKIcpPSOUhZ2d5kssPeEPWlQ8d1NOr1pb9wkIXnJzdiYeyrrTiK/TE7\n",
              "kJUvoivmSfJ+W2SdzC5edsDLDKTuP6wv6Egjl4F65wQZR+CGQ+hJL/K0NYjzhIMAeTnhS41ReGd/\n",
              "CYYStQldAf2CbmJvfTfVv5xpzXr1S5StnM/uAnR47yBV3f+NIizRw+SOov8I9R2N+imisI6w7ZkB\n",
              "zvcIzeOfe5Iiehp2x5NeSbgM9QMVU8UvxZEqOmwxnf3NMIdP3Kh6qsU6ElVKDhIi26Vb3CPMlF8Z\n",
              "iuqo/9r+ozwI66ekt9b0InmGuWcDENSTfbD5zLKQ3LYUpwAhfysqqNb0KByQuGad1/u4rL/eTq5g\n",
              "lLw4m+VapMLCp9ENYycxioQWmKMJZ1QCGnJDKnsSfxz14AJpf9KEyFq2sl5bjQ5hPkjQLK33Cy32\n",
              "y4Z0uozVYv8eMLEo2QQDr+6JP7cIY0LC2Tpr3oPUyTzuFIAA3kY2cL8pT3zhvTCwxK0V5iAhtWm5\n",
              "QcBiUL3DfojCuDsTkHOoXA8/QKyH38N44ic9A1P5xqk9dUMWZzAqDtikBofroMqYb1VSFdwlXgQF\n",
              "kutbLoRcFttrf98sckdCQEeAUhbHtDQsOq0WwEaud/i3n8EILCkWTHv2GL95CKXmj+svSxfNYGAE\n",
              "SIdkBoIOBJKptMq4WlptDSamr8DJpj6Y+JUOIGSBf41ipXZ3otIMbJjyQMH+kppwifXVJ4HVT4OJ\n",
              "PqIUsS9b6GgT2EUDzamwj+/eLu3ZvqjhyzDz0cRxrnLrUmGhkUpF1umNzM3Zf5bBVge3uq1w7iUb\n",
              "saYewpZlpwWlzHN0v4fgoy2vsPZYe0yrX73sT3UU93CHcn+gmBlx2wuMXyqvwbr/k1wXHPhQZEoy\n",
              "AmAy69lvhEr1iMExTBI72FjN7VCVhA9Yz3fbNFJtWzMP1JynDjAQmU3BHPeSr31kielDscAbbC+9\n",
              "JsF53i1FX4QYNx9SpbXLUfv29GgBLA6Z2JcMZATHhn6URSFA9NRR8is2GtrpLF2lWQ+xciMgsozj\n",
              "noUUB1uGZSIqcRWPofbtcMp18P7BZVPz23N87yyx2SYnHqgcgSceS7rpy9W0C1YRL3vMBluPNmvG\n",
              "XMG9mESeavqi5Dcx5mFbiuWRs4QjFhlZQm9usPguOAg+yBHCRUZ4URBayQC8j7hYNp06sYhvl2OE\n",
              "rS8lglk6wJmcpK/TYCotBHIN19bU+jtu8QDlwYI0vBoB8bB2wlHbw8EJRIyspKXO3c7z5Q8sONez\n",
              "+Zb6kaHVbWQkOSLBz5zBYYiUfYzEa6D9RhTUlImtenjtzXQJYfUt5VPEVaOj0oGSbxvGEk9Q3uwa\n",
              "vdMJle/k3iypgkIRsLpj6IN+Co5iqWo0N1xhBhWj5YZeCwcUrteQ5f1rXCqtlks6kj2Z4C+zGxp0\n",
              "WqanPTZQtt0Kt7rBG+ZIUWjriRZcSaWSNt8epsQgyhQI6mYeguwPeG+c5eIlo32pCYsf2TscwyxM\n",
              "7fQ93PE4cIoePjLLZG7DoK6QIXwO4W4TkB6JJ8ilTmT0aqRRo13s9nU9E2b/mYbCkfOkw0d6Yele\n",
              "iXG/iqDqd343hlgYnAQnW2iWwTVEltsuuRrXPsyj4pZ6+8MtYWuVHCW63jsXzEpMuFvAkS8uUCAw\n",
              "9rK0MioRvibQHicNKQgAkWArIpQ53Dge/VAPtEJMbqb0MAkuH1gqBhXvKTbiBjikkOWohM7NQ7wZ\n",
              "NW/VRQdLHTEYeiDsb7j8wQjwpKSCspD6OoASHLG9XOjlXkJPIHO+0SKNUw7KmTIx5b0E5Zo1ofEp\n",
              "XqFnV6aT6uXcL5wiee0zWXAyJHxdb9px4CbF4JiVXyb2WeoPNrbSkStwmTyNjj0jKlxBVSHlSKhQ\n",
              "WYLNWuNylbCr3C2vPt0PrVhQ97TSMPz/xkD6by6CZba2cjwxe/WRKJpIY/7W5yY2x+k9rxj9ar0R\n",
              "faDKuiRYsM8dd0dVimgF6aeFXsdUz64bct5L/ZaNbwGqq52P8AFM4PUec1FmxNp/MyBOwOrPcRyL\n",
              "vAAsEvaTDgpidyhWn9reS34e3wD5lxhHk+an5zaiQmocFKzda3Rh730nmLTbvsQ7JnKdjsdRZJey\n",
              "KAWUYIj40bDtEOSJv0664G8wQKzMOBH4ILo5XSVZrJA/K4vp75x5R/nWjwtNm5yiQ6OwJ+Z1sx2X\n",
              "TFUbInVpkl3eujg3IhDu/Y9Y0E7vkrcAzSPKbkwaoWoBQ6vmC6e66cnN/dzXj+C2Thf5gJCklwN8\n",
              "4uEAAAUtAZ58dEK/As5Dg8kH8fqAEeHTiA9JDKOEAS8ER9/il9FHI6NdxnytI0Sf0l3nGePsPndU\n",
              "YMSBEBShySNGIDplk8GNIRNQ2IHCvOYy0Kp9TZZqsrcsOMGvaJCGaU2e25S6AhvoZ4g2VOP5MJGX\n",
              "Wzd1IEQEBS3GZxNvq7Ad7SvjRL8/54sVABgaXeyrC20fbfaxKbUah+MeEYcRmYz6FpAkjvzMrOYV\n",
              "ZnKs2cfgiA7tcLCemjDjVvQs4cyc1vCMd/gPVTzPPNUvqWgXQQPJ+9Wo1tzK5FyVBNfkn2/r8mgI\n",
              "iXSHQV4LQhhYlUVTm00eudLE5mW4j924u7MSbFCqR8dTDcWgII/4QYVhykuEMAgOz8MmRXHPnG0g\n",
              "qv2/gkk79CcY88r5lU1cd1r0AzmA8AMkm8Enp1HlkNXX1MeM4KtMnEM6Nh+mMRXTVq5LnYnj7IyJ\n",
              "gxPb7S6QPCGHF+PuJGeDOaXJLAE8lzi7pxFM/fa/vCpH4sbdyns4q7sYNt5c8cpRGD8+SQ3hHtl2\n",
              "J20j9d44rG1fvuWfEVbMQAqriOmjCpwqKfweGPIUFf+1CvdCi/N5ftE5AollK1eKHMuqUvRlGhqh\n",
              "3QC4ogtHkXG41ZknfuiWHFyG0w9PCXlRO4+ozDEk+iXseTXgRbv4diCjr801cwMgN7mo8gzx7GNu\n",
              "/odvyJ25UDeVic0mk0G31mi/pTrVJpwwei+IbdM0l1LV0xOIyMjlDKMlp+KwG1C++fu54nrR1Xmk\n",
              "ado3pNTasTnMhtVUe7lfjYAlh1GMVMP5EZXhB2YbpFn1T95KLvE5lgYChT+t0JbFzkqUgmzufR5Z\n",
              "/qXlVZYbu8u5qpup7UVGrkQi3K7Yr3C8MBeT33hK4/T8gHAaLrUP+Qbt4GF2b/H68uzwynEzzDgL\n",
              "9Ns+1SBgUXPIGstYCqiybdTxYn7UyAvF3J1b/3gfB22CvNQCIaS73lCXu2DME0eBa1HXgVp/MJab\n",
              "V/3KQIG/qx24gYIyZRnAvEdb+DkaGhXCMM7A5KbXuJtcPV8SF4eDiRcxQg5/Zvb7FaqLycP2jCrM\n",
              "5XvwxB0hmc2UE+Se6BUvEzQxruoMuvJNUBcXljxXBjoaxcq3guD6JAc8l6lZY2OxumKUsxBeTRGR\n",
              "kNsl7KxV4Wf5fx1DzsNB+ZA/BV2c0xq4KMnS8LK8Lil0rlkhF8xgYTOWBtinT88Ob9CBzt7zteQT\n",
              "gJdRIiTf/q9gX/I2ZxtQAlm7AXmFwelOlxLXaHF541Nhrrr7N0v5YNvJZc5n9BcrLGp4RUhJgXbo\n",
              "N+tVqAUC9OVean3xCLUEPTT0CWCbtooST/n6Vj9Lek1mHxL8mL0TJ+4RAJWzNYmVZWcg9omwD07B\n",
              "Z5JBoM4D8Jc6Kdm0b9/EV2O7hfm1PUt91YPJR2tuuPdLjSNEL6AXOfIieYot9YExeCrp76UCyI6l\n",
              "2uyefL3Qtzn+vGkjgw6DSqFX0XVipWg/ohWu3CQPIo5QKBhADR8AqETPsyPlQMPHhy/DZbAD3amc\n",
              "vthu6noMxnqNJypkI8XsZlbIinHT+usqL7qI32ApwD7Rf+mWO6llJW7DhDaQbG30LRvCSH6DDdUt\n",
              "65OLXz5tQHHNrReXzAANUxZKkGaoQN3qs9ICwdjDdFQ41IYN+YNsi5eruqm9oDkUldLXiw2AtAfs\n",
              "ZVi0vLMLOIEi/113fV5gkj8k9LYgL9vHmM4n7GLsXwNxKeBELwtFmJe/7FdUk+WV3KJqzCNAYCCe\n",
              "H78lweS8ZM/f9HGnnNKFCFvs8mAAAAVhAZ5+akK/BK8roVGUY3tQAtONTwOsFqqSQiS5VjUTPrQO\n",
              "waRfzpEAcFI5xvG0t9PUdvbR8gcvUbWgfSeMV2tuUmqq4rdU1Yu7dhaaCWePuu39fnyJH6EypuEQ\n",
              "ruXIkqIBsYdxvSuDNCR4eth+rVSK41R1kUTsfOluorJU8WA8hlqxJ0VMzepAHHRTGOvUbV+NF/+n\n",
              "sQjNbQSPuEYcK7uB+TbTt51KSdeCDR15G3aOgaoigZ2L/caXJPAtSXFW1elHeTARB+YXoFAkeDLV\n",
              "LB3W275YY6BAK5snnMSQLQpzLoZtX40I8VVnw/LsyZi2pdSv73T02XQ9XZw7deFp2eG3b8+mMojG\n",
              "kHO3Zjc7eqy4pScemTLKxzhcjMBiRxC3SMuBNdzzlisPKswp0ociD7NtXjOdN4ViPB4B05GLS3Sy\n",
              "l0LlzQhUZnVUjUItDPxjTGMBt7qQ/Eg5N4nKl3QIodIregZEq0ArgdpN42xwHz62sEyL/NvNwaqF\n",
              "wSNs2RWVBtKqI1IfSWgMAwNuV9XewXkHjEw0+2Dy1Udd/tdmPVrXpG35p4MJCfpPl5LKM0Yp2Z07\n",
              "THYSAHrFwr0BQ4uMMFu5LPFfCnJz2+z+9onDGzTnuav72FjpujCiAJ8HDF1klPkkeBvL2FXbRqmM\n",
              "ALCl94mTdRMFnUYMspBQQKUsxA2d/YJ0TS+zta9HfqRcwBrgotiRAzrNiOOt2X12JBEgvDlyPxEq\n",
              "QHRZ6h1l6aPiJxY7WOAC7iJeSYC4LaDGq5ebH87zAiez6LDgcnublYqB++a37r1CurS1MYQlyuyJ\n",
              "EwptqNfTkLMVo4S4iI6aDZUU/Y7QuUvDGr8ka+fPeRz/g5bf/T42V4qEW1lRJ0/bLXokuaZnhoR4\n",
              "gAB2s4KlQxb3PllU+XrcaapDivgopudbH2alWCX0s4Xbx4Q7Nn+M4dqaKnD8So+nBBZQ4j3KXOBT\n",
              "9c8wp4xMja03MGtKh3qfHNwDkgnjW03RLNYzW5QIlIFZZAIgz/CXjb06Mb8VPhR5M2yrzv1eUjaf\n",
              "2atzX1EeD1NIF8Osh2ML1q7INEhQvX+MF4CDMLj+Xnv9fRRWZO/yozgvnagXavyouZLZBppajQKV\n",
              "8lHHhQIiZ7GEpmc2o+/VzakBcskTnkVk1EoWI/O4+bdBk3RDZpzMoRyUC1vc8RYhDZlaNEeVYh19\n",
              "VqWdM/9IJ6HHVUGj/Ldb7MXEYvE/pkDbIrEgEYOs8VJlLw7LVOod5rTzvV2g39/wSxwyglo83eZG\n",
              "xNAWGrcqsbOTL6QTkBgS05hCrrS9V1vf0OoQjLM8J39795u8/3pd9t4IxaNGpwN9OAN+VzmnH5+s\n",
              "ILQnpf8nMMou3y7/PZgdg61f09IbD2Ji5c5k2osxsYwEQ/ydhuy0JvosQgub3ubsa2cEV+bQA8Id\n",
              "suJGuGcF3Jn50GbTd8pId7E94lhOMTBf0eCme1tD/xf04xiWhN4t/f5ncwzH42Vs6eldY1TjtnP9\n",
              "EEHezGFmp65XxK9QpE24MkCrAIDlCo3+GkjTjv2MXZsNJUy9hkQ5rHbnqCavwU77k/VChxs/m3M6\n",
              "N7hDQEtcopARst7DUL18PltswrvVlxvJmkCA/cWX9VjvWyL6Bc9fu36GQkCkzxhFCdjtsIiBNth/\n",
              "YYVvrAAwbfIAnz+z2QG3bozYsy4dEoGB1XX8HctUlW2e3eeS57l3vUsbhZELI69go7QK989eRH9Y\n",
              "EuY0KkFgg/+qUBQeU5aIikJC1F3ClQq+TIPC0EZ8qup1HjqnY2P/u155EmkVRlhihSZJdm8t0TAL\n",
              "dq7KbmfMfvKe+nDKtyWxd8pqaBnKnFwYKAmEjQMTHpaQAAAOX0GaY0uoQhBbIbB8HkHwcAId/5ON\n",
              "Z3kJNeqbGwfeExyTkAAACWkdc13zfUbFWb8HRHz5lAAA2csL7J0FrcaAPynM9AlYAqx428IYAT5O\n",
              "E9XmDMCwulTBBurtpOUhqvYkS9eZcng8JqoHXGPrWx6J4ev+BED3h0QijXPih7iCL6uqDdPDc6EA\n",
              "LjhK3nQUoUPZiuRqjhz16e4lF1Ll0TXOLxVbdnt8ju3J8+b+m+VPd6B/whEhs2rb6IqcGckDoe4e\n",
              "ekp1FEHTwrpYD8DhBpFuIkSXTwk0NxOZkOHMcdDYrQu6M8091CX/4TejbT+kUDKhd+5NMurt+aGI\n",
              "VjtaGqQd6y5Kdd3x0aN4nirgu8HiQwPXDPi5Z2/14xza0qWXVgm+V9ghmpA1BBLSTTEDi8zv7q3E\n",
              "vfTryrWitrKGSncN79aB0at9jxmlHsjaQCBuPK36N0HAYDIMWM2TCBK5PvNFtfEz3HaZZZPtuevG\n",
              "DNWvyjZSLa4jhiNQ/k8vzFtWMNXLoUwSdjTFQPOX9AHGV2BkHBG2jBEcVa22Hp9LPKEh2Ji4GeJH\n",
              "Bfdnb8AnXFvSlzvTl3zz/XhlqCFiGRAQ9gfRfD6PUi5+zO8zmL1sZ6pjg9tvPhQFCbY8IqSDqgA2\n",
              "Dc9S4HfOxLVCsEzsKD930obv5HyzHJGi5QYBitKfX7YVzmJTs9FyqrKcciqE3LgQ6+4TCchbCCqv\n",
              "VtDKkc/g45FNJ1SUAd7do0X8NhQPmOWw9V7+mOJxz6BVn+XrpuRBVfQZpF2MWDgsL+tfObicAdyg\n",
              "M3Llk+/5MhE9ggnQwhwcWCQ9DkuezmROyRPkMZ3MPQlW4am5WGiY4UbLcAGdE6kFzGpFfFg3A/vs\n",
              "n6PIwywYgG9wMxh3IZEtX33TsT46obEhfZ9NUadfoStzekWVN19OevVZlcIzcLc+MLWMrDGbaA62\n",
              "L1z1rXPLJn8ZkL+4ASX7XrlL7cXhXshIZHWUPC6S1yFz6ZrbfYGefR8qnBG/u8XF8jy3AQkjvJRg\n",
              "3pqVJNz2L58C5vEqGPPo873+MHSdPT9YRUbYrR9X6sxoyobsSsuUj0Qd+byEMheeJwDoEZTL7Cu1\n",
              "RP17iW91/akn/z7Ia+Ca7WDy+uW9m50HXu8HvQ/1qXdoq5EBeRaUz2nAiGfqOe7ePb+jFPkD5UDe\n",
              "ukwElm/rlceln+DD7tWWfXfxuDiClJy3cCFLgmKnVPFVpZQIodozOI35XUNh4NGSij+WZSIx6oKo\n",
              "G7LXanxM31Qv20F986enUHY5U7nneywthMIlPg1/olkfNYbK2HUQNpfsTzB+bEfe69Tie3TshQfa\n",
              "nF/eFnQPSk9Y2sPUL6OOkT5lt9T9jxinnjprCwcOHTgHYp9QvuLEQVNHoQRf3WKlN4cO5psSaTLp\n",
              "vsW2IFGpPxMRkeQLLiZ+/6esmG+yBzXB2oUsWPLYZyOLVV5XzK3jhGIBg+GbufQXaMqh6DkZJN44\n",
              "WCfeLl3367gJcW44VcGR34pwVomm4kTduXer0jUS6UEZqJwE8QpL1+Sa0RN59UFkB9Q3FE7Ygn79\n",
              "i5RolmNfnt03Hr7OxU5VwyFYEM7ZwEHsEbwlzYWDQ1dAz+uh88lJZF8WxLiXmcAqGcFmDSHmftsR\n",
              "g2k/w2agHw18y2Wvh3rLpOYQgHH8v63CFhSMTxxyIP1xJeVk2D7NMD475h6kWsHnw1qitV15eedU\n",
              "JtIQRuMJlbCHvuH4P/kQ/MrvXmLkOl+1ZozAKPRxd8iejqaJyedkEIeM4gxLPoS2r/cwMyzu/y9X\n",
              "Ypl/qyMtHYkDHwum617qzpj83Yv4aVJMVPbz0pJyi8vdyb2vHWjOwNog82AMfJg67XKBiRjtSIc6\n",
              "IWBQDFYrtCHDFj9kp2K095XDx8Nxk12jKQhf2Hei7kVl5wE/FYajOZUwZjUCDYZA2s5CrGNvBqHB\n",
              "w/5Fb6BP0909xLOuBgaCN7C56I5w6rCDy43pjkVBNewrqGPtiMG0JZY2DC0nj4fVqyf+/t36R3vB\n",
              "W1a1tMVmuzMBr/1hdoA0loxZ9s0AZIcOVddVpTX4FB5szqxnVb1UYn84PgRe9G2oB4hoZ9PAPi3j\n",
              "YsqUKjuzXvoyFJwFu+utkhLyUUl9mEYq/rdaoQbU4lr+7dqSEpgxrzUdKILlJmWuwcneNBGj6M1a\n",
              "gJZjnxWaWWc0gfQ7PmKitFyp88/mdrBqTfWc3W5oC81XeQtDOVzL/J5krItn4IM+KKDkDzyfJqB6\n",
              "7b/saoDLT+d6+pQGJfhBzm7xUpM7yQhmk0TgDyqkBwro3oh9PmPTororSiW/CHISYitq8UwrJLhi\n",
              "WpkBCmt6AhNkaRiAea7mBU74LPJ31VA3bj7lAX1mXYiCrbDM/lYdMxr4xTXzeIKmsOGJIWdL6w/v\n",
              "kB+DrIThL7iSqI2BRVjTkYWkW6KniFTeW1nTIIMFVkVbzPDWWc4pTFkuc5yCTaDXcKtXqznpGaet\n",
              "429coNiyw7Extz2eWDuCwok3R+Xb+Swtv+sAGhfBlmPgMRUkwhsIAa0Iwg8wHPbGwoN7YAufMxnQ\n",
              "+95asbtM7gBV2PaKYpRXfU7Yozd51b3NfRJnsNVaQkKZh9F9n6/Em12zlmysld5LB+z+nRjazNwE\n",
              "3BogD458gDLtWjuGWPNGTwg7r+rGTEdZlLk3C/oTx137ruj+fQ/LmGn1OwENpFnccRxGAVjRcJGT\n",
              "Gl/Qs/c/VqMwVbsXOy5qaiAs7Oc+3wvtbq8g57P0hkxQDP4wjq0x4qWkwJ40N6lLRYpGVPjDdbyB\n",
              "Zt9t2jolL4WpSKswVyREwKRyW83N6KIqSTuKTmMuYSAgHGJOlsDWSP+7WbUtxnczR09lQOQX6qAK\n",
              "m55Q3GrlbNAAR3XNgIi+L5rd0VZ1ETrhTuTLUTAfZ/b88w3ZcJ9hRaFEk860udm2gy9BzhOw4hy7\n",
              "0U9hhqIT5e/aWAVR/a0HC48hnNHpFyVYoe0ppP9zYWd6NNAxOtGggltJO98wrZXITTHdCHqwzmQT\n",
              "qoCb7WmaYerrmIAsCCme171MxG3ZFEH34VwBOpS4wbHjuA1rHxnCG9nS64n2n4qvEF7gm5BsXGg7\n",
              "f/6QULHJrxr6sUcmQmu2rZcECx1xhdmCAsLapXu3Mb4gCkxnAB8z47QF3ChaKmR1jofCMgIzZSKy\n",
              "ji0h68cZarWFNBZaFlz+KrdKX+qdhIPpGsAvMWtvuWHatelH6I3w/AFF07G9kcqriibyqY4HOJN0\n",
              "0CrbIB0lCArSWXjqKkZI6vU2/YKNNFg5hNtD7hYciEN+sF/900IelSQ5hJhDwZDNshMgv0rXyCxx\n",
              "Sjl0C/oSEHmzZVMGIkHAV3hf5MLim8kVbFV3r0IsTn9ZD9GRlVOX2QqelKRW8pm4qX8iawegCgb/\n",
              "zl59wz6EhsUL5S7KUapYuWE2P5lkGMT/8HShJvEmzDDJ+McPqIgU15yTyACzrUKEfh/YyS8Kmm1m\n",
              "mI6rhiY6oLoqLL5Hb/6o5lltYLk9N3YUUTD1DIqHaggqAMr9JF+NnoxR8BzEg7eQvKxEPVITHBA/\n",
              "DlgWwslbntC28hmWib4SNGRdyqnhWxUqGO9GXyqDr8Vug5geUdRYCk2D5C2PJHo95emecZ8VEfHA\n",
              "QWFhOKiuIiK7L0m7K6SmOMa6lMQi1pZmhFh8uTl3SOiVEM5eDTQk8psSN0qXC5+cyFYeb++QR/TY\n",
              "ejEFw+hnJ9kmJpDS7ECCMy7WgXhOf0G04zob9D2Djno/NeY6xUrDg7zMi5JGphVKxX2wOKqA3EqP\n",
              "RpE4HXSB2bz+BKavT+hv9912yhAlEhnvXi5ZUaDkh2piX+YUR99UIcGyIAvXndEZxF/16DLFxvEw\n",
              "7vJPe2aw+W+LdZcdMC5ecoVqnO/Es3tWYTve6xWWjaowC8EaRenmCgAeBQplgtkpregq6MH5qjV3\n",
              "tyGrgFCblpyl/dpEDGup1D6JrJiD6/DEQI8HD6ld37A9BXWkPNMbco5AnT/2vcwkkriOyFr6bY74\n",
              "wpEK0/rjWDdrAacc/cB1e4rXS0nsQzjyQsPyAIjxn/G+anDWSNKTmyMv7cAZeBHd35g9c+P8EUiZ\n",
              "hZUtngqXP4OG0atFFarv1HzpOp/Jx0sU38KiFEg42le7iDGICvLaGjtjSLc8uZekyyzaEL+9vwIu\n",
              "C0cQdGWojNSyYv+Q8gWOZb2xELUjoJEZ4Fxcx+E9YoTP+k5n/2sb9f+P/b94eBk6PXz32gkIqbL6\n",
              "jyEOJPv5ugeUdWiZsmT/cohrzwgzNphHRgKcDBDKXOfAIcE7QbD4rNcYMeN2IOh0OUsy46z/lBUp\n",
              "g2iPAMJgQDWProGwb8VwtwaOUNHPREBfyBUVj1viYK02o5OitY6wMpmhXK4ffAur/iHlHPWxU7j1\n",
              "aFHFq3o2gCuCzUa8JB2mFvLUhgn38ciZJmPl3siWGiAuE+CCeiVIHQaf1hYiUm+2CMULCvQd4MZ0\n",
              "HrGaZrFjuLyxsItuqq+txv9icZz/asrje/p77XwCh2AVTWPCWqqvb3X6YTV16fmUwcmmLpjoXPP5\n",
              "R/rFE+X2Ug+1Fx1kbC2Mp2eIkXCOdPD1cCmayZoL3yKgt2N5xcWP5NT0VUYuvJR+N+0moak2pjYk\n",
              "b2vdes5dDPB9XYOfe+PwdJKaB6O08/ZvIk4opYQury0EUj0mE7+pKahocIti39RwR6Wm6cb7ajSV\n",
              "jYzrUKzji8iUU0+0KIB2k6uFYlIFlUUhl3+gBuAkSAEWPwtCI7IvCKzmRSr8TBcROrgBN5P7sZrl\n",
              "f0gJgXZPwKAtups928C6oMlsunAobevVCIRoimlO72hhOG8I9sP+5NrrSGQr2VxCCCEwoL3+cumQ\n",
              "ZvUhinuVkCZyKtorBk1vZPOcyOh6OvB/jQ5KHCBouuXo4wREYoZLOF08bq8RsJX2U2fV/KTsbb6I\n",
              "7wHGQsRVRUAABrUAAAjsQZ6BRRUsM/8DBcw+JvaYAS1h3MlHJsgibAE8DN8k3LCjlO/nZVoiBtAC\n",
              "afPYdohjV5PZmHjQqcUQfLrCoVecve03q0Mf918KjrDLugiXvZgLZVRt28RMp+1bWkqZf8RlCsE8\n",
              "6KeJVYmPPxOGc6+DZJpthYYKzb9dBXo1RO5KclY5bCa2RFCh85Pm47/QHe+0ZpzohzOnBgtVFWLE\n",
              "69a5Q8HnKo9y3BWxzXkT2NpY2NP/9gKg7ENYaYrnx1vAjwdj7wRR8PNtjMNaIhhfRAZwAtuK+ui2\n",
              "Z7fS9e8XTt/NTBsuAwLTEU3AuLUYJTfBC5uymTpOqNahdaFbQN4qADG8QPR+gTWJgJEWDrDCDEQ1\n",
              "4jd1jKamJh918a8OKkoAytUyRMhHEVAcmNT8SQzmVlTeARPcKtB0CbkVTREAUc+sgrrIWY8smYCu\n",
              "8RfBE7Gth79LhlhqMPLEAl0ZY24eLvL0pSKzBRonjaamC07i72Jtqxi5qjsJKE4541joN12C1osW\n",
              "W27XFeKttWvOPNU+GFAKZKlrE2985qBTrlw4Euzn5ZM+ff815DPY1cfwwHDNqARYctPpdcTD473b\n",
              "ch2+B6s8RlOEo/YhMCvaejh61Su0HcOtiQKD5qIWT05OOfnydqrdeXAW7NLKFMFTNFQPvpklE44N\n",
              "MbogvZk43S3C0pK9JvJQh+b6hlikSIslBT2mwmrxdVqXDtAWzfVDEawCncBuLkppi/fb9b2uMZpc\n",
              "ObWldWmxSVqH2O68uZ51n3yWqcynPT4P6Cveh1H/xHP5chbd1JiMbFR7IodYaXbCFLElIkTd/Py6\n",
              "YbpUeE4Wa0efsPX+SidM9FaXLEbEFBGaPTArbp+a+WQ+D6PFS7Z4mdTH8zT1W7c1hAjFDGoV9Qkm\n",
              "Uyu0aaiE1n9hZctZcvXSg4PgBjkawocDMT79nH1QZHzMMnlYroyrmf0Kv2PsEcKzjXbaSCa1P41H\n",
              "0cBJjwoRSZcSdF/XrzYUlvvmb0W32vT1xPcs5auzNNYtfHiRKQXhsVtNlJD89pe8pVo8SEuqZRt/\n",
              "AMvW3H0ke6qZwf3aC1hvZn81ypG8qMm/t5ZYVwd8BhJwUq4lWejwixpJjit3tMKvjC6OBuIUfrAo\n",
              "Nl4WNEOSrgDtGbkuJRFkL8SrEoeqOStBA3369TBoSMt2KYU716Y4HR3DO3ibIKsMQfOrxx9QOp9Y\n",
              "3pxPLk6h7GvIHhh0UnWiOd/e0c7q5eJfjslMHBjfstUxDDRVQCEwAH4EDPI7e5mbh5zZkrx7DCPA\n",
              "n0KXBCHiY/jdo+5dFeKlO9KmIbTdEYY0QRVCYO1mz+3Mke6T0SMOuEcKFgXROrxqK9gjUOqSmK/V\n",
              "+nxfsDIZ7rqGiatmyL2/QVE0tIeeJ3WgAzt8Lf7rd1n+ylCTXIMrMyvLDoSi0RbpnvCoEpJbeXcq\n",
              "ZfR3BkNxvbcA0RI1rkYlxRMXaUNXK6+khWTSbAbaaAje36Hgv9BD8Nr9zdqGAMOhkJ8WUPH0piv9\n",
              "hISZ4xccbX+OfX64brGadOSDTHN6Nbl///e/i4ouGqBc+dXiusYRWazg30zyflq3kStwuCnIFzwX\n",
              "KsVMjQ+0qQ4bPN8vF8Tek/flCKLX1CToFxyex2llWknE+s6RcjJHp9hC+NES+Ntd+MN6Efk1cZnV\n",
              "yjYdHeR1A9/d5PTnRR7GUqAt34wb5vrchZ6nRKVgVzetOD27FhjmrUJTYb2MdvvhNb9fUvsCRAyW\n",
              "BZCM491H9WCvbohZM7CQQ8eo06o+dnAxxnZ5Qmduj1SZDoyJXRQ8LZv5+HuxNzdSriO/LxbCHSTX\n",
              "RGa5jIG6nhYtJqwiwz0ZiZarnK/4OZTR5gJrvrtsvDakAS1BBcPCnLTi2QJ0ISZHgR61jobRYn1+\n",
              "wNn42XTcEQ31ZeJi+1yFztkorSS5ytk5m7+rJ2sm+wkz+P3t8M9IjLRWop8/ndcXzBourx34JZWX\n",
              "Ak2inr73DuoGPTGJgXbQ9cAU0KQwAFRXkJhx+FaUe6IlrW8CpBrr2lJD/nNXpJQlyC4q9/I4e3iK\n",
              "5jZtSHQH5nDBD+K1hA/LkXbt6Nu/nKgEdDpr+9gVojxPe8ZePeq3Y9LayGFheC3dYg9dGO5GBw/l\n",
              "ESqV4wxLT+ii9NkGlTfCMHII2jl06VqAN81klxboe58km+QOlGPyaMYqBq/KIF791sy3ps0avhmX\n",
              "J89c2dQuj0TPdPbQSl6UKXLdQ5cHQFPWsEGYK43LFuMztCvvSXr8m887naBvU/WFikB3HZAz3xgb\n",
              "1LKb2hrXcvoxhtAT/Wrol17N1CGjf3Rbk3v3L0cK88Vy/pywLt7O7cEU4cGP6zhnjptbjwi2dGcU\n",
              "fNhX12cW/JVfRgXaH+BWc+jKNDRxcXElg6xMrjdYKOV38LiNlRrtt1cQGYsvrIFhgO0oUEGfBBJ7\n",
              "b8n4y4uDHdeuIt8uIMmPOdtU0XFkW8bU5Ba67LF/jLLIzc3E8xXMxVRtpO0DXGsD08W90imJUxCr\n",
              "PL14PPaJQxfNKtpKpGb9AaxWCtXv7Y/wzwl006Pj8LzLv9ziKXCY4fmDfZkALwrS3F3a8C7SCwZa\n",
              "/qHfy99xXeZhFkJaWLu78rmEAekAS2BJ2Am7xTKVG2+62yrbeFkB1NmYuF2ZGhRmK1LyjF6dl2CZ\n",
              "2Gl8JanACqZyK4IYpx81uuTshoKfQ7lGt57XsSzn+iPS5EY2hOKQqKGSFEgE317aq4j9VSYTqWR+\n",
              "x31IIUv4yJayNFpkPP3n5iXcDQ1fLz4ZKEZRZA7S9OT+JKCh3V9mN6hEZUORMic+Hzko4LWBwYMs\n",
              "Yl8cATKhu0nBwg/FE3fZ+TyoSDlgIzaPZJXQUsNqRPPlHjQ02k93vA+X7iqEBRiTKVOWXjdsJhKM\n",
              "5WIkgD3w1zRTEBQH3bHBlxvKAQ1GPzcH929DNTDXp4S+QwEpt7Q26SpkGqTi8aeWoX5CNPT2s5O2\n",
              "MhCoOqX/BKmCsKzGqtSphFUrVnmnvogb5Vqvbt3jARj/d9lnYcBJUK2ZgkFldBGRUnBBXE6PWyDA\n",
              "gBjb/8nKz/z05GA7rEx8f5m4gAAABjABnqB0Qr8EqwUIszJkgBVqPBLA5Z7A/G+RdSKzpWsl7XzO\n",
              "Sa2sqrDZ1PQ85MKm64ethIURyGRjvYSSaJHQyvb0s+BPPoNYWAhbkbwBvVsmur6DBzCCJ/dkS3/c\n",
              "uipPvubf6MdRBUaRbG1gSjv+1mpkwvJRTj714UjXdOzwCwfe07Bi58ovUepd1XUL9S3oM1aD+Xfr\n",
              "G3fWHyW1H437r9mx9g9oTVQlbcAf3OVGqiaYcCh+geKLzOvIyRbrwkvOSTNpGQArkretSqKFaLdq\n",
              "j0IvJwGU2YFXlRu0eIxFfXHWqUHupfYK+e39VKDmuo9K3MWuw6plzAbFzx5yPt4TWe0Vt9LYuDOf\n",
              "7TPo8ZLOWkcJkBx1jjFTQ3PYg2Js9fPMgHyGy0qklWy1dwLF6VThqi9bqlvbcpJF2MkwnTHRaurO\n",
              "qwQJCG+zPmhnJlK9qZl4vEna/GHi4MxOTq3x8csDvvQCmN9knpMWt2JhedNWJAB7Nor/UtuZASyT\n",
              "ZkYq9Sq2YZtcKpEQWs94382Nb2Hc3KsGVWYDWoCKiNNwGVa1VRVX1uI2sIwhqXPGTijg24dWmyJW\n",
              "DtuCocU6AB1jlBgvmCOgww83IRyRE0zaMzBtARuHfkNs220CUPeJc7850VAtBKqk1AbITOGd2r2w\n",
              "+/XeU8plzxUeojBfPwYVAWpO5/jNhvYJ2BJsP27ZoUJTNJM7AqZgrqM1TFDCo8wGWeablWWwxb3F\n",
              "LOwShDfn9R4fijM8AAW9acL1NqoqKCsjw5WVWq7nNLHRfbFb99gC9wYYjZbfENs97unGLSbcU5lt\n",
              "md7YiAPoVPv0dJ0/qHukWkLai7YROnFxwjPEe+B9qaIr/1J9QT15NFFfFiCHK3GOboPEGWjdtFgo\n",
              "zqRJIa9ZlMWFeVCRxrHnULwWyFj+iwm13tSrzmSCYfgq9okhMgasqEYO9F/xa+QdfYp4GF56DdDO\n",
              "UxgiezMYhqkkM0L6zcELE5V6Rs65X8T8NaB6R4pyT9TQsnNJnftWaeFhwgqlWe+eLY2jtmwLQ6aP\n",
              "mitPcoilaEe4lE/nCAD36Bakxkt0TAHbDOsEteL8FZzmdTGjJL+bhO6IEUR+rknEGxSHN4SpXqSq\n",
              "fFxLIcMrqWOU2Zn5rodxhv2HgIrrnUaCDPUqP39bpgcHBao6kPOAHoQQCFy+v5TQfmfWlABRtaAj\n",
              "1KJT5kdnNqIKoBFL1xlB3H/zv2Q6yxq2hnjIVS320YFesKZFm1l++FOYVHfy5vjreW4uGD9HY9Ky\n",
              "/mQAvvmyQy9u16tRo6kSlfy2vwcVl4VP/cXY6ZtBUOxjW3c/UIPqrqPDmXP6cJB1BJS8UGF6YKCx\n",
              "baQSyFT2JwigPoK4GYL4HKpovanng1pBTcah3WK5OQXBJv/q6IJ/8fdBVRbuQBvp0h0UkOa1pTWs\n",
              "zs+6SJZ6p/rGcbsKtgyM9xrWkYQQ5RGa0awi1gSiPjgmufRKCzBwnj9y3Q0GJt4h9X9by4xkhPZJ\n",
              "vU0H71j8Ezh753jGCEzV0D6FpEhQuAlciMyAvfGaUo/s4EpOj1XUlTjahnRPjasUyOw+x4iko2m9\n",
              "qktVzru7QEVXDMd0gAcsO7eS/qn5l28/jxcZoSERuKXO8Opzt4qdRm1dUraCOdLGEusSQMHErYSE\n",
              "3ZS7O9CpY4gyZ8trfw0JY1LqigxCpTv+7rGXoky/zqdmI4LWLjp05Wnf7dEiOYrJCaFen0b4MVW+\n",
              "08lOLTqqoFi0mZUbjmuhaFlZStiwTo/cf9gRBkhTFLZSBOMGW5eAOLYy857qiibxZHSPe4aSMWuV\n",
              "bsAzSCpErCxCXW7vKDRVsPwHN2/0931hMwlNpXydE2eRIEWuNf6zStUXBFOl+oV/7c77qDNr8uZH\n",
              "jbdEbIAvOBJX8azLBMRuiCg+v4RyAMMzDa6Pu4BWQ54iu+L59aoFxkm7SwXMokqRNzFyOmFFkivL\n",
              "uVKizgiiE+n7MqSNBL4ZFRPrSHUn+u2ip+OoPITogMzO7tB3Kp955zg7f7YZ8PNxWZAGF+jJigB/\n",
              "xdKwDoOexm+lPa/VfjFygrdeQX9w0u2Eg8OA1ELplFEy8SiLmA6Hl24vQNiwKLWFTVptEht/ov17\n",
              "+NsphIx3nFojgLEAAAWqAZ6iakK/BRDse0qRJcC1AB824qF7bqCG/IHWMvW/Ra0IN8tymndM8oG/\n",
              "ME7lPDBaBLTVhqcUUZlUKAQMJjTsOIs7Qd4ASRKO4Y5kCGteGZ1cV2RxdTk7H1MuTRc+FePPC67/\n",
              "D2o+V9l+ILqq8okVpB8+tGw5doIFzAD2ebowKC1r6X73OWXYSqZeGdCVQDLTycFWoMjy5mYyPcSU\n",
              "G8fOdefB7NbUONdC/LaSr0GVvVoyOO4LbZr92VQ4fHvKemuDMHLbIeCXXzW/YCQ/e2QgbKIAQPUm\n",
              "ahfWplf7eXZvoMXYEpsVkGkb9sPaTQEdUqtEF9NpdpE6q4DJh0iiCxYbpgHopyM3+21124loZYZ/\n",
              "a1gxO0/XCi6NzWsG5aRjdl0UgXeiITHL5aPNtkxqVdt8n1EBUzEPnnGcqlcfq8VEJNuoiFh+HI0d\n",
              "WyYQu4wR1FV9BXCdZg4uBeqgej2StcTgtaYkj0EFbW5rJs6QuEVVeZdvMpN3jE3aghk2kWbxO36i\n",
              "Lw9H51JuOlMtOPCnRkp4EQzpHYSO1sOa9WrLnUTbSbTXl6RZnC3e0sj94bcIm3NNI8dCcCmfTLfe\n",
              "gEGcnjSTknj2sZ82ESSIc22b9QXwzosrswIyP3qRmHzZo+78/PC/5LhfMf6z62+Liqs9EKVdJoq4\n",
              "BI3pbuaeZ250OGu+E9jRiA0dQj3bEPr845DsljFdNTy36fZKmK9zvdbmo897CTTlR3NzF3gh/iRt\n",
              "Ct7S7TrwiVE/pHxVzI8+Oi1ACWbbGBAF2w6u++w2jv/ZSXfLCgwqJZPIX3wyCSRc5wsZ6oo2nRWd\n",
              "lktDV/H6cnt2UuFrQcevTXPI7T/tdj83I2OxxfbsUKYGVFBYzorCGgCr70QefnbO/paQ2LcTWtsr\n",
              "c1Ug82DDVxLmu9BiHilCk8BFvh/FEUz43eS25pQfQGngQMAkEnFeSxh14nSvX8/BJlJ2bW5U6TcB\n",
              "DnB4phwvhQlI0KsEv6b3N9EcVENHlkpeyS5KWOVo7yRMtYB/tBjKyUBh9I8hu4McFQJYgKeQBs57\n",
              "jwMDOLvVOwjgH3TKa9N/xab7ulgvtd20z0J5B6FINQRGpPkuFdizcAdQLZSIAu9ONpvGKSNf0EN6\n",
              "1XZb0FVZ79GJxgaASAckC/KlKZhJuhrnj6OQ8HvH5t2XzNoG46IEhXE19cWuX45rR1fSk0mDNUMj\n",
              "N4bOH0gi3HsRu07hTM26GNa/AmljS1/Y7dp9p1Om+p7WRu9Okj1Za7d9p3CWkFJjwt22uwAkOgrG\n",
              "ubdd9ENVhz+Pyg0Wp1ZvVNk2bYqk70F4LsMEmKXg01Z8zdu03z8bmf6pei6aYpBPAKIXBvFY3/Qk\n",
              "UwX5Ruu5a5n/4MmerPrxRPL/kIJyNqesjQjm6OWvsoLE33+gmyKlffmtBP5iLaa/wDpwdfyXiugJ\n",
              "whhYrqbRDY7NSX2+/F/wkVmXkXeRJ0rmkIP6ks/jaaQtffZJevFui6/dDeBy8hCwn3NIpdTtnYMU\n",
              "l5s64yeNT/MpPlkjYBhethcRGX4SJMKw0FI0yQaJMsZm7r8YMQp5D26ytvvm+6lZTaByCgmSpGwV\n",
              "79aKpw9U7Z8qsxwUMQi+CA0/pPQIB01Nv6XBaWs5MX+MSgRMf2NuMBmIL9X7b6SFckb1LgWg+2lT\n",
              "pf4ZSAlalhHLAcIips2KtrH8N6ERwwSTgyrUMgquM0F4y1gUrdd1bbn0rYi5xq6mUXabr6yGkXQP\n",
              "u2OEvcKSlw9sCphO1DueSGc0x3CJkZNMqdK+m97hPzMwQYN0EP1KLy8qqTXwqFe+6BNUyNkhNkEE\n",
              "HrI3M+JaxPy0nP9VSo6LUkHhsabKUQX6Tkv+MveQDmlDk51qcXCo3+jpUstAgZFSAQl8N9WKrU48\n",
              "OLvksPfp5ojFPa2qsyzwMs+yG0R2bIVHBbZ8Zis1HU90kDJe9p/fMAAADjlBmqZLqEIQWyHwEkDV\n",
              "ASQNwCHfk41neQk16psbB94THJOQAAAJaR1zXfN9RsVZvwdEfPmUAADZywvtnEYCQA9U5noErAaS\n",
              "QaWp/EPtU/v15xNcFYPjkIbHoufbVNl6TUu9nX++RtUujI0B9i7mxmEn4IGkYEgHqpPx95JnZEuN\n",
              "u0EqLi85Aq/719REOE7t14cwcbMnJBqynODE/t6CStHujnWTfuDJ4xHbluyxWXgP+XgMZndTO1nW\n",
              "WvSRY8H5tbmD07Gu+MkfiYuNRaETTPeK9Ah6WelzxYkPzzmT2pcQkUR3COZf3CKMxK00F+WdhW+R\n",
              "T1fziaHLTqnfN8dX9AILNBEgex325ppSEZEefd3NnvrM7ztoAL1JJLeewEuFKmycmGag3ujbS/du\n",
              "GgWPmJxem1WTb9rqNEuISI2QGGsTBDQRkdhjMbRlWxcU3rawC4zc+yKyAi4DITSMhi+/5sE8dM8K\n",
              "iJLhKe90fOdP77HzaEcqkHQYXLKDfS69shIYISXBZWVfmMIM1GyaOuvgy51h36DFn7ww08a8RNjR\n",
              "TomKENo5tPS2AelVmR/agjWO/z/wnSc4Uv69OXZElqeoxplbAjc0FSMKws8O7mBMjJDxoFYcyW19\n",
              "WXGcGc42Q5Pxtr4MEhRdYhZIpotbKYbpFFKP/Kxhx85FytHJLRyPC+8JuluOagM21/Tl9RHt86S7\n",
              "mhtqQyg8gSbqVKbJ8FCsB/rDX18W+5Ggaq/OS1dbyl+/lYuoN2eTsW4vRDGmovbi3YQhz1JXWy4b\n",
              "RLHKCQjeHy5dcd+06MeCI8PXy8ttc9p1saM4hXlpkit+8mNKsOG4KgH4zc+JvyQvLSKEbKq01DlG\n",
              "OvvaHKCRpFGbJA9iDuEYLkAsN7OEJu5klmzqYcIqKZnDeCvCnbR0oGAEEqB2pkBrV/nnMOTDKHZD\n",
              "dolaNgG4P1i0FfzVcQPNxK4+ktNGW+1YO+y9fFU1btlfr+5vJmBU+HtAGPu92EkJr5Pzdlp/ikFi\n",
              "a8tSWe20GE+6K0CxdvWU0/tHG1o0I83kL88zK3gphwDAQn0iXUyu1jUWkVTy99lyIxkHOw6WJ6hN\n",
              "p3vNdmn66tG6UTq+B7Dsr+Ms/GxNfPWUf0CEEj8FX1KFKfyaQVIugTTf9ECmjYD0HdEIIE8+KFFc\n",
              "IkDYRA8d9rIEVn6+6BdU96D9Q6KfFruio/eDso3+SD2z5XrOCYrtOZYhz0gAkOz7R7AmZl8wqAuS\n",
              "khEtjq7IPeOoODs0ChzQ/zk1p4xcLJltJhZbkKCssaecvvN91LnS8RUpUMLf7LkXP8iz8+3cYbU0\n",
              "AAJ8sup+QWDLbUH8RKPZBk1kDMASj8ssUKY95YgTEWubUIbXl3i4e/+Z4mGiuDSDvqT6kv81lbV3\n",
              "VG+LJ9uy1gmsd9dS6AznIrozXtW0LJub6h7+bcSm/KNZAbdvyFqu2UoaZUeN87IZY5W+tfeuhELf\n",
              "8a0dk4SKSzSfa+dfFrGF1N41YdcUt3ULkDQ/MpWNzCS4+J2mnB20NQZfWLiHKTEm0Tev6Sba6/Ck\n",
              "EePfDROkojwBOMfo5o0bDoTzgyF2Xp7EwIqL8LH5UXaCEowHhdj8qJeuMjXouTVVciXML+QkSZrb\n",
              "FWv/tBQpbmWJLJZ0++LFMYinwIK7tnsDhWBTmIlvUXrni8rhCA5Hqd3iTk/PhlMl/K6Q80E6agPX\n",
              "FMZSW4K06IIJSsu+/Aa9NOMNwEFZ+YW5YLKK/3qFj7qSLIuXzCehWhAiK2blSfdH6MRMzsPbTKN9\n",
              "wJk0DkvOJV1707BKxHvnnKwy5Ff1tToSl7oS16RnBcfSJw4REC/YtB12VwsEws5ccFS1/4neD6Zr\n",
              "Xo2XpoxXg5nGVzEL3vl4kyEv/+WR9bJqBcjAPFRgoCcQJBNFu3WceY0DZP4DQGu2pnGbR6RQyYAH\n",
              "G6Z6e2/7GSTaeV3rJc6hK74hzEjewt+ZFXXxOaidwsBQcA59ix1A3oBS6C+twmU2j5HZ2dYL9eNS\n",
              "PNBUHNCrM60QlqIf6rHGaUcZ0fI+nISiZaej3BqhgItsKV8XQ7pK6GWn8wycfskKno0OgBLTKAUX\n",
              "x2+F0CUQ3f9JZa+Ar1LrmI8CrAsjRXPH8ogeyDq1lvoXE6loOGQ1TREhkKNyr2tWF3kBMMeWl7Ot\n",
              "ui34afIumnHpmLTVAie8ehi65lNAFMIMm2tU5hSUuqFdPt8zxn0Sdr1aOGDihbWoPW0pzxpzHHw8\n",
              "aAiWL2VoSXJKhJUA6+yyE2Bw9C9TpjpWfprNzAXK4XLISSg2dDBBajFeteF151128VYrZmyG6WNc\n",
              "t6bt1doIf6/l0Vp0Kulzvu3HBnd5NdT3bh9Cx/wG64rsLsvqwudlpqN2sPS+47u3GrkqDIFcAlDj\n",
              "UZ5G1ywZBUQFFYYBbY0ndnxvBtRVn3QAdJyXsJFgFocVG+azg/c9z5lT1KtBm6913ZYPUtfJEdXg\n",
              "kV4UvmwtpBNMQ4e/e7Y8vDv4Ga0RfylmnFuPJ6gorWfNad1qsZnitUVMZIePehQh9Xo9sjLZJncj\n",
              "4ZXro3KUKJ/AutaWn2ScVALDCFYGT4sgTFVs7LkZ4nhCHaJmWjw6GXZ6K2QZbDEkAyyodUQPSWf1\n",
              "AfARUp1uU8aqcgtdFoHxdaDy0yfNbbDdwgK0NdROZqdg7X86KS/ynKRJ+zBJJ8t7txPDKHCPLHJV\n",
              "oWjWirqwuRrSLXB7roSfpzAiFCMy9xsWBsYMbCr089BaLA+FxNqQ9Qn/jynWAYqGenTatfNEDV7R\n",
              "ghXQpZOIELhV1L5ahlghtyuwIJUZjeEFiX8yY4n8aMH2LTo5myyq/Bq4iEH6+mTWMoDCiuOAxWMb\n",
              "h29jBmXBmkgcuhqxInv+ea4L9W/IRxEFTAO1NgSVy5V/UY40siZuQgK2kmLHR5MMUIZbQWNeUBqQ\n",
              "yHWImZC2GNXq4c+vhCcn96lPdMzK2HFQs1AOyJqW2pL3/8MR5Li2DuofP1qmKVzz7zX6Zy8DJdkC\n",
              "c3gRBh6PkghdiDtF6/wws3dbH1VAd+MC06xQklmdBJMG82OXqm0HI+pmrpzhyUZCYCZNcu8NuRBm\n",
              "gkENKe3HNWUx9Go9365qs7gD4+831nG6iJKNsmG8z8Qt38nbzkxmhLDqJkS6Nw33UW4sOiX0MIbJ\n",
              "sxEKqzus3OwEKnckoJd107bPjuL8hmigDcIf3JHp0qIfF14Q2n/wEKIQf98lMk7P0rmfF6VFptcW\n",
              "1atMjgqF+bYIDOAKBfpIjlSDlLOERpqAFfOpJ5SdTWPVCfjwD0kRr/l1a+pzm33HnKpoBzS7JLZH\n",
              "D6KNR1vyb1JY9DV66jrNcPNl+PnvjA03OcvgaWBrBO5uMxaYwk1C0cKvT9snt7Z5/KF8SaK5Oyl3\n",
              "/2AfNiLDtECrTdbqzAXW+Y1o5Q47q10uK8o8A/uprdAsLt+VWqK1RVl8lOACcZrkgeBdnbPCviG/\n",
              "18TWiZtMTAfzCrmUcLLe/7M6mUeqIUlV+iFPWTFHyTpAKboCHGnjEP0yrj4iJz1zL/HU2jIN48G1\n",
              "lJPenHhsMDfS0iLYW6/DzCGm+hcJz9WNILJ5GlW5v45PXQAwqSU9e6VcnoE3FOyL5HOm5dfp8zJQ\n",
              "Q0j0I9lnNhjw/RSPp2iPhRrNQjju8SZoAvUW4J5F2wY4lD0tlaPEUf4s3QEqK7H/laMohchSs9kx\n",
              "54gHX019BoIKyhdHV+Prsb/wynVsrMUdUkq80iTGu+N9Ks0mmj0Dbmd92eUmUHHusHP578Q/9q+b\n",
              "gn7WWgaIBhLGF4ycJyV1BXG+yLQETT0tLVqHhZINi4/c/Uc+B9yIW1rdlGap4orV+Vjw+NwF2Dxu\n",
              "gG3pMx2cWdSUDRx1/8DAY8iyMHJ2mPBWnMwI59PEJ4cG0lubT33bZWowHr4o5q8U2mnxW+xdOtBz\n",
              "eoD719f+d1BvEWgDeLS4pqnPJ3wmAhv7D+cSoWPD1F76mQ00gFsoIjnrxKx0xJoBT59g5RkA1i6N\n",
              "+2KWGWxXUeGtj1lU1kmHg2/B8ahN4Iqcv2KTfegPgkuQ5eEv3a2g3E4TolQHsPtSGhfxscqFQE53\n",
              "Y+xnFhTRI/wji1vS4D6X+LZ98Yqk2RLlbzGYhKsIxTFQ8PlCUQwS8E912el753+3dktZVLlEh6mT\n",
              "L0WyLE7xBdYhufLz6FD09Hc4McK2ltcN2uELrZpHSPD/Wsz5wMaQ9S6ePIcsQOYWAJU8Xw2OuVCR\n",
              "biwumavGk8ogRXQep2jeSPJ4swx/1rhBmLgg7xZbXaUop8EdajncdbOTrO6VpN0CLvDuAOFC2Jed\n",
              "wI9PoRzRprlUFYNZmeNqz+J9IcL3Cwan6nv8TfV85hujaML1Q9AiVG7dLCMOze8xRmE7dwyZGqgZ\n",
              "iH9QU6CTGMk1iTSuR9JLnZ7KUe/YOdgK032bl/lqfgWvXWENnimTOcgU0PkIQFi8QQg/96kxAmwW\n",
              "qAXcJEpLd2vm3raDNqD7Q4WhjJYkDmPwNaq6g3yhOka+qYxu9EQDVE5li6cKJms7Cai7uDEu921t\n",
              "Ls3ntNCCinEAZmb3J9jSdftBz6ps3JCIUewrC5vRe37PMQtDb3L4bdHvRHayPBRmlUkUmLjIs0Zi\n",
              "pnXskSctxwlx41FVPbkLmtD0hqtr3rSlJDu1+Hne19MjJm2pcR83iWVHqm14D6z0/p5Tuch0ICej\n",
              "Y2JH554lEWyqsrZWVbTGXh5y/yqk3GyKY+e/kGhe809WUs7U9doUBr5I+u0InVSt066pJ6gBOSzw\n",
              "8fnDis245chek1ugSmIE58+fQzCeunMl9HDBEf50Z/x/kqWHn6GhGEYT1nI093oRIVW0juatSR+h\n",
              "213+qnKDppm2X8vk8tdEITq5zVaBnTi1+UHnfaKK8hDAAABxwQAACAJBnsRFFSwv/wPgacoQAAcZ\n",
              "HAd2jg/7JDW1SmQtMkylaiGu7aGzCf6W2JH9AyEBHuCrls9wstboU5kGMdEDpI+b41I0iu4RwHx5\n",
              "zQU9+C9Pyid/C7b4vCXaBETJsPko7CZEqBx76UH4Vm4A9tcd81525+kPEL30Xg3zxTZ5I7mUhS0G\n",
              "2X34E6eFUkeU/8U9UUiDjCDJG0HXhRFbaBX50dF312kH/N2WyveJd5YkW1enFgxKUqDVNm4zXBLa\n",
              "nT0Uf+B3HM7HffPoerEiawWdlgR9kiTqEcHeuOyeoiismNZ+qO7NOu2CjAqui+kLMEDTeYtcVHiV\n",
              "f4Z0kVn4kjLPDUa5/cSv4TcaqjU0hrwEuDfTvQUJoU/c3qDQ+cbrZ2Y+K+Jrq1IZh1E1CDmxtQWr\n",
              "EEwsGO1pKTDE9U/i6dL/0V5y76irV616i/xkpS/wAvpwC/QF9l5jY19H/oT/8Pumdv6ozbQICZe2\n",
              "pU02jDhpjsUPYlDFawsDvwaahIWdq7xyTclyzFXbOgfTYswBLYVp66bv4M0oJEdPprtgPeAhqfzh\n",
              "fwfSWO3vomz4bIqvW5ZbWzDy0FlpSR+lwDz5O1Ob3lFxTpoTLJTt9QCNGrlocuX8YNmG5di8QtqQ\n",
              "li//ftOgckLQcVAQMLMuFQ7UUAaOL1uzGGqH/CoIR8p9tmpnIoYBOgKKxX9HfAYyzQYZGV9I2m8M\n",
              "xvVA0qETatEHmLo6toDXPXHkQKETxnfPmAIkKjh3lqkqF3JSeURy/yZwdItd5uXta9ipxjUA9tNV\n",
              "LfrKYf+HuDLFXRygtgJWRt08aLixQ3/z2AacmExI4gzTfggE1xIndweeCoQ+KKjVNpx/YApfG2qa\n",
              "kBn2dY0KtxX/K3yTJZ9QWl1oQxKN1jM2hvua8oKkZiePLivExOqfxb4IGA4MT/+y77hPyGcIeHsk\n",
              "c4gjqL1pMeIN8uVpM+e/zD4oKlajhf6SaEKat9nvJG/M1KQhow82L3JjaNmS9DnEoJqDS4rDsUqS\n",
              "pkEOuL8SQGYh7tM7xji/VLBlc2MON1bqfLVS+dvUSzWqKK7q+5K2EFZGb3gS4rpSr1Oa75sQeYaQ\n",
              "sto18BVU0SXEfBUDswJPqLcPjII1LX9/0LiyTzGckgk+nj4t9RuUFqSxvOFgwzoTDbvnMKODYIDf\n",
              "9Z+jZEQLxtpJTEMzVXW6JvgB9w4oEjLn66c4GHWRDIDrrOImRpLK+oLkhIRDbr7gRT0L0fWqrvsb\n",
              "yWKFGNGJkFvvHl3W2yLEpJX0xOmhsvCsjnuO59Xg2pDRhhdsjoO8xDFahHrcCdWJ9DXCa69K2PxU\n",
              "Gsv0nl4fbgAv88+Wpr7oL6z+RfKQVKsE5QptHt+QX2RoRFKSfQe3NbtI6hCe60unI5/QLiQOC5PV\n",
              "Yi/jhNPAdnPi1E6XE5Vsd4Y+UmBu85zz/pocaLBIQbqCPuYoYbQ4LhnDW0T34pJxHPt8q3IzXjBT\n",
              "x/AWj6RVNZu+LQnWYCikU28CVRLJL2qT86Uvs567Vfi9hu5dXVtZosjSBGohMQDbdCDJwblcSDtG\n",
              "otiV9u89xHkiYvieEaY6hQ2z4Y8LBPlAFm0NXFRSiRv1iBJ91VbwYf2dKcYIjsjz5rXBWFQjYuom\n",
              "TweLQTtbQi4qq7ksCAyu7QTuZaZjnssbUiDmhHsrmjOvE3z5dM11Ih1m46c5siRaiznosj6cAYIt\n",
              "TJFsjm0HpQAVKTpU3SUrBYGpbMYqijj81W6G31BDaGu8z1DM5CBm6RIDuJt6qzkyuQaQ9ktGpDay\n",
              "ovO0u8dmPKkd2+IcfXapiy2hv9ejN/BSNsHs8s5dnCYwenJLs/pimwsuXIFdAa7D0nizAGEBmTxK\n",
              "zn82KMXc8MAKUNl8eqzK1fuP/FISdyIgcyyHQv5NR9WkE/6Qcu4OqFeYAJrj4pZUeX3EnopWKnzN\n",
              "k8U67cAnuFr8FvYWDtFWU0vvuTuz36odzk3opOD+0o4/8pDCmpKSiJBzI5ANdiXeddUDOlWV87Gn\n",
              "pKgD/FYjdfhzzBFbesMHHSwH/WvNp0ORJBZzmAHbi3spH8K8lDJZlswQsNFHSHm9vvpARWY5u4Yt\n",
              "U0PlZCVJFECGriFDguJu7PH+/vEn1BAOJlvvmxIrunAiXGCGiVzcsL53vjs+9MLXtek4IDU4/eWB\n",
              "3TjUsd3kmXnE5epwI0Trtppi9HHYnfN6hCu9NqG5oe6+bhHIyZzb0lcdYQokH9YHzVIaACNHywbC\n",
              "hX7DHat6IrCiaTeoYwsk3R0ggs06OCfZoQO3EdJ3b6pY4gNX6yGhIWHwuwYt4DuUh9JX0S79l+7l\n",
              "nzbfIB78qwZyIkVUOPzxmUeaVoY0OcXQaQE4XWlHZ3f8i7hVrOjSyvJh5+69TJcNFNer97KKCk0G\n",
              "GjVCq6/3l1tqAyGi2T6D5UQlzRJOY8503A7GLyv7fDtWJ0gs7H8f9JrCzqtVxbtggPwMduk5rDUa\n",
              "k1UAmaYjB9JrnpdiRNh61Dulok/3l1KoaEvFZDwAWKQ+LOC7wXPlCli5VPj25gV+sS/rqaMDVXwg\n",
              "r7wgQ1a40SHd+aYM2Y/QIs2jRZLeS3h6VziKx6Dput3YcOvTP7MrYItt/zu+mqqcFrXnQz9zT+X7\n",
              "XCHBSBWZKBjWzraGM66XQCTY2R4ffOflHA8ALcY/ayufhrYYk2t7fLpOX+I+3miSOM+zga7SCSN3\n",
              "ZdPnVCgk8DOdVVq4lDiosPkkONohXwUzTZUWRDIPhgkZhsd7VlOBAAAFJgGe5WpCvwUNiFzpG/ka\n",
              "AEe/83WNb/ucA1XcAFqE5b/Om3imCV/7ib8PLCSfmslWdYF3Sbxkj6wn15BAzxdgSHm/DKpqke7a\n",
              "dl1Fe9slrNw3Ert4+ADj/M7GTiyVXnw7fQ9PcNwb8KVrOk4nA9bDL+JjMGD4BHe1g4jiTbP4yzVd\n",
              "Hvv/bY7FArxtkzTluHMPt2sKRuqqx6QmZdsDkMWSPHW0TAtd2vWRB77CW/WyH9duBeDRkfAYSh5R\n",
              "TdkUouoaJiiFaKQWa2BE50bYQ+GlZiuYNNPnBhS4/BbwqWeIRjnHlOHTThNHQHS8eaVehjSxKq4D\n",
              "YdFFPIck3uzDtjV6e+CZNEvn8ktM4npezN4HQkkLuPLtD1Id1aY4Zcrp0Czd5/gWp1ucJ/RiZunv\n",
              "sGgSjZouSn657LnJb2PxV8flPZKSW8L9jy/lvBBWGneopEKeFLxMnzsBhFjNeYSwb/FzJnwHQszY\n",
              "/bOLmebIIuPrs89oUVBi9z6g6OpM7XasM9eLPqikdeV2XapAtJOQIFqcV/WDN9TpJUDczkrjAEtW\n",
              "dFwyKu78fLjaq6XOrEzjlCXW7QS4r6U13fuvWuPQs15Ksvhgm9EODsW3l8Q7Palq59q3FYMX0BKN\n",
              "uJP2zqYRxDOM8LXBVyFQhyC3BUrbCqxFKxXdWBzv79lYG4r5hwSoG0e6c7ysjgdtXM4AlhqeMnuV\n",
              "Mo/7oDlHbkrU7vWQmjaHsbZWKE1CQBJpFHCymqpL2I8HkR91w8ofavwM4GUCGQSMlDICi4IjKRVq\n",
              "ZKwJd9h3lvBmwJOxDgslgJf/YTzQbaCS6Jc4vLaqJqC/r3Xsc04jQ0r4fooEkGKBIV0r2Ur+BLcX\n",
              "EQh69pvojAQR1OkA+1Vz1pDakL8NJ7dUL5lAGrXTa/BoxiXR6+mM4rBOfSBz4yTWigMVW/xbz/6/\n",
              "S9fo4Dnh/Y+22GpY9PnZS3a3DpY0I9DZE9HhTluxkYAsH9zIzUhO1HsnXyQ3E2JcOnfHvA2nqcCa\n",
              "DOvVE/y2oDw8aP+Sk8yEkbMmWo/hiEweBa3S/hXycn2+xOs0byA0b+ou3Vexb36fXxHuKdUInkzo\n",
              "cRf6hAmxPLdBYwa4zeUbG/hox/DEL+XpobvoJx/IBnGpMf4Okka9c99m2tiDFBxzIZ42aznh6oHc\n",
              "QtyW1gg6bCJoF+h5Lk3zojZ0/IlnTpFdt+hGUjEjzmal0ES1jPGVo7G1yqtTo2eZNarIDNPiaOUM\n",
              "REJsNhF172/nFvFJX3m+BlxZGgoiwePu3cibr46F0qjzkyDXCnJMPt9Aboudm703EqGI8IX6zMer\n",
              "sH3VFboGzQroHSLA24/kjY2d0wzxMb8sBelz9sruZsp1a2GBhufLLfMl9sS0ws99zoZFog6j/JIb\n",
              "iSl1hRYUTf0ZMPLfAP3qbMWCD/7OGvnkfpy6NmCxVaT9I9LaaHuxGpJd+cMHsvV5a5eXFR11kZ5x\n",
              "TIxn11956eZ5HD2VDMfz+uwT5Rbm4mo84BQQ/AjPBuSG6kOEkdcgXm91b9saWCi/rnWwAB45jLIK\n",
              "QYfjarGYq1ySIYV0YkEFdSwY4frrOjNLJJfOn6EzWeqWsu1664yD7oeIlTcnAfs/+4ImVl45gbX7\n",
              "1gteRyHHaSJTp2dS8MpFI8NQtqQRNCSFoNb4P8PetzKqAvG9nnRu9MCAO4oNfu7NqFaJMYm/Ao+3\n",
              "HNN6g0i8lDTjmotltuVb1j5fA1tQSofrDg0Z9KSzcNMbG7tjXky4pwxgKs9qsM/6DtkAAAbhQZrn\n",
              "S6hCEFsh8BBUBBMAh/+Wq23hbaeNRvsDSTxMPfGQAADNdKKaGLFBd1e2K5lUYpKAAAFUWLfDQC0A\n",
              "cy8pybeNAN780IzhPSIbruXZs89m1OlYgDcFw/+HSUi3VcM3FBh30ufRSW7GrMCiidXJmv+5A3wB\n",
              "rjT8T2K1fTlpfzYwLSx2JrxnQShKu8kyvpB8QxSkUk0KGcxx9hXIot2h3LU9h3qCp5aSyapOC5yt\n",
              "UG8ZxVjdMDkkcGdPuWW4TmCGoakYO7ST5dLD6dqmm8HUMXGpO1RRiThpRxRF6jIGts606CC7iqir\n",
              "VA0sYfMAoO4fonJwYqpz0sEDGtJ62Y2Nlgv/IaGAlQ2U3wx0m73u6BpIR0C5e/L19SDS+3fJ4JpF\n",
              "Te9zezSIl4NGRl6kUheG1gCCdisqpDX0nKUnhivEEwaTX5TqWaerE2WqYqJ+OxY4Ko9Q2R5fC87K\n",
              "rJ4+uPzClPxrFiziEFCP7QkZGnsOrrznCnR37zeoVUUoiUr38SACRhTe5bKCnBGTrhuHtNqqrE+a\n",
              "lq7RA8IJ9QaSULcB5sdG/2ibr3xUcO8Bfes0vza3HRnGKMXpP5GxH3YzQSvSsRadZmRrFsKKXY5k\n",
              "QbNUoCvkifYb7TbRMFjqf7KbY5MNQBrBns+6kF4ojYnmqCx2VUpxc0bKGrritduf6Dwd/c6nBydD\n",
              "rQK6BnwDMlmLZxZQ3yynjVibV4IAcwj5s9YNLTRIpuy8jwWBjI0zg8n7myJEz72x3ZWswbImZDIG\n",
              "0NNXr+2EDRieBJmVabiGGhtw6xJMv4p8DtEFldoqByLj+RkFv+gqoz3Ao8Olh2yO3g+o9whZU+ht\n",
              "9RZZJAM2ADRks3FgsUoWlhN0N7gbQi3mR9J9TIiUg2h2KyjntA59sEQYwoB8+KsGKV+T14xIBDd/\n",
              "/xlEQs7iOQtegX4or6/+pmRyXD6Yy3q++Yww8X0tSH/Qt4PsPJPl4MPsmeTjlWpGczM0DA3U45IU\n",
              "CjTLHc88GBI1pM1Ty02OXcbc2jmE1aYYVLaPR+sAhcZyhj70fx92D7vcIJgTwA3148ooLiyJAKvk\n",
              "GAKdgGdTbeCs0AURcGaZhBHnh1rsSbVKtx6hqx8P7PNqqTIDfcjl06YfDo5uD/mTUfIhwVWuN6KP\n",
              "t+wYaFVzFPqfU93GdH/U5XZ/78OeS3BTeMz3Q95ZlzTPfeQyyXrobFCTrzqdNA6zNIXk2UUbz5Cz\n",
              "FIh1cZVQCe9ggOkTe6bnDfaj9MjLnHmVwyZBDPxI2QbK5NSg0xO4D0uIpbS0BpR/vhVbC4Lmc16y\n",
              "FH/2Q85vapKGm/zyHTASdG1tC1zjiunNCOr9QpX6qQKQS5B/JwdcgbsIWZI+Hu88cVn90auiWLF+\n",
              "gXHB401L/Llu2WzwoYP2x70ROulceIby1td3bnysZXyI6dnzqANeBTfsQK0J1n7djgbqWv/+k/kF\n",
              "zk0LEv+182zQjnTUQRAoV5keU+IbMO4g3QTMuHoUzVFgaS/nAWxvjurZfGr+KvdVHTYEzWn0L82H\n",
              "W0AgvG2bCIL9oSKxTLGQfo1x4r/imQSPm1xiuGwqHPNvn4H9ewClwd838m5z7Qu4JaaxuWVZ/OAx\n",
              "9fkAmqiwQGM8Ulvq357bA6ccoyTbpYtkcWeuWRgfudNwdxHbhTbLZdPmT5A+MiwG1q15coJ+9t+f\n",
              "DoJRCyjZoAh1eMPeaosmSz3M+1oNQLtTyuEaI5L+kltbMg+x3HByW/XfH3YbakagWBcjf/k6eqoi\n",
              "rB4G1ks1ODciv6L64A/NK7qIGhsC7Cf/FQ4M+Sc5zPnVA+ZNOadRE+bwrJn7jWBY124h7dM6aP9o\n",
              "uKe/Jed+HoFxThXH8Mya19Hwfd7D3EWckMhJY3recJDZuCSRKAc20LlvTdo3C3zFpwFI+NuUUvsf\n",
              "OCphK/hsJbUb60skp3s7QelMnzjwOMC5TGZZ08S1/iuYAqV3AmiZaI9j8JdCUmqMUCpJXsx07AKS\n",
              "GtJSvR4SFVv5pfzUynNAzL0gQZEWT0fubv/blZDTE4vuuN49246xutls9F3rl7YJ6LZIWwvkB9ic\n",
              "3WH6Mntcsw67PjI7ZXQT8kqXjGphDn2DR5YImopWjZWvSsoHHQbPhxp2gxnAlNeUjP+1FBVXna8I\n",
              "bpnLNoKzQKPKgLY6eSl2qCyb62vHgNWyDrrK4gUGJLQxbP4NVbBBKdT9gL+EqQhl9ASS4u1Evi1I\n",
              "al8H4U5/QX8xCxvxGg3yiTdhHf4Hss4zoN7cpUNgMwygACqL560lqbHpZa0E1Cx88vVQ2roWoElO\n",
              "q1IsEp+wQlWR9c/iy+TX++iQLjZz+jsqfy5Q6zzpxOBX3CGt0hb+wJCnfIAAACAhAAAJoUGbC0nh\n",
              "ClJlMCH//qmWM3UoybM6+IaZ2gAbgYxkn6znTny+eu7s7+VSRhZMsTGYUVPQHYUE9LznKTNb7wje\n",
              "nsaGEeSkZho3E6NC8M3fSiP0nCgf3qjJjew/MtCh/TZyhHkyuadnZD/kT5gwFveNxCB4yZ8RVwEs\n",
              "qsY4CrsYEuufB9pcmhQvp348ma0fPxNoUD157qYkW4LOx7ucbaWgdGiiLSGR12AsbMYa9Xkuw93s\n",
              "/CHKAgcYVM4P5XyFDrg5sQd4wx+3jadzRFr2jefz85ZRFje5cHRf9yu6LO9Ak1h8x2pQjMjE4vOf\n",
              "XOtuon6a9sSGofAjfhzLC5gO0ZHiZY1awycWWgkwDoGR9Tsi6dhQKPCAp4xxmighffRZAvkoDxMA\n",
              "yLx775OAXAnL7TWc6E1oCCdotlTHO61llQ9f7Jdh6V6siempN6We0RFMmHx2mn2FSwLxVsAjKEil\n",
              "1sKWFrDDdNDgSMLc4yHdeHtCrgurBjjsendFASzFUyYeL6M/noeHOENblVNpoWmAudcTuFty7Lyc\n",
              "ziiogKbuk0l80bP+RODHqvHcdxs1iovdyp/4GMf+KgB+UpOtNnCHbOViTxlu+GP/IQEu1DrAh1Rt\n",
              "BZiLkh0h4+glvLJJMjVS201F5F1atgvk5MscxRuZAApQpff7OOJ82O+2ix5EImudHcmViMO1zPCk\n",
              "bzFej63fuNr+x1QiyhHKaHjixGyV4rRZIkFEreOB0UyjFbs3YdNwIzSr5PuOgbfM9FUp9wI/wgRW\n",
              "h2q6TkT6NYUlrCNUX4rdfshj1O7A82ACKB5wIZsp233e4w0hWc0eJrtH3A+ci6T4pTLUL16lX0mE\n",
              "TK5ojvfsJBeU5Z2LbSkptf2OUdyEamy8O1pgNtzdb9+olvQnVQsQ0vQig8Ny7z+gRwmvoM0uEp3G\n",
              "7J3hOg9PFJNCS+d8k8ozJiZKuu6/QH5dltsuGXde+MrPbENj+HZnVJB7i1Yo/3VvGz59hihPAQ+D\n",
              "XQdv5gdQqOmGsp42wOig07HPhSQy0r1he/9NRGsvTJql2I1rrycqTd0l3Lt1VamgBV6xR/RtDrkk\n",
              "4Vc/DbdynbAvD7gYU5f2Hu4MGK+ZeEzWC3mDjKiXUstVcOr6UPM3nGkcVaBlD4jVPWS6+yg+Wpul\n",
              "qFQTOOsWXfJPiDlqhjDlfFdne2ZTWWUf/TD1Vf/Gev8wpyQgPIEtTw2iOJTx9SY9GN1mvtlV7PXw\n",
              "pw2m8vJCmhsTpD9z+21dr61BA2RT/7q2CAtalH/aF9OWZJf4gADyzKHhNJog3aWsi9IeN5xYOJtO\n",
              "8t30jBIJJGfCxnKzB9jBijS1pm3qq1638no0liwXzG4fsuVdE4WCPNWxcpsGhIyJgJbx5BZH67ky\n",
              "Pj/GIc8h+Pke2k/twkPYh8DMO/DEN8e5rkRW652QvNcd3oARroOaAD+Tqy0kD5kXeYxMgZ/jxS6g\n",
              "FtvQPAk+JgqTIfkPcWPjNEydCDbpk9ZgjX3J94gHTJpM5ae/M93w74PL0Sq3fIIIRWozGTOEJ8zf\n",
              "fLSeopIu5MfqTTixLM2AG4fy4ioROug9oPTBuNa5EWJsN4oI8GuuUDQGnL+SQ+DoDQrfqQrZzNMo\n",
              "jiuV+S8YNJhUtLjf8Zy3O27UPAdP/JnOUDt5MAjjAWds0mXYSK2WrRodDyRi6iSe0eSKCOLQtkhG\n",
              "ASZqOzxtbKIBNtohVDIzMUzjziiobojw/lslSIRFZs5s6enArFcleIGEEqZUi4T0H8kAYVsfRRo2\n",
              "UnHjpW6/rrmLOxaLbU3C+2KIyeYsGr2zzxr7iePoiCN7nqT0/pf2EJ4RgXFdmArL4Qk1Fu9rPyPg\n",
              "OWkcEDFfEEHEePHGZ3l+r6gKsHW8tnZsqALjeHd9lbPwWJWnolRVKGGo3H5XqLB0KCmu8lCMLQ/f\n",
              "E0QB6i9sRay/7nOj3w8RDn1IarGW5fnREDSfr7IaE6VAVm2T2T9zwXN0W7fqgK7KrUI5dtrL91Pl\n",
              "YEWixTE0ejQ362HhnKRG3Ave+jUyw63C0rmYS5h1Awlx284ONnM/ezDNuxZAmSd1BMwpqFnA8dWq\n",
              "wRNX33EsSasJd70xDA5zguF6pkNwmJnhKmziakjFm/w7vgeu15SnNDTwfRgbuArnFh5kklIWMCjp\n",
              "ByYN6yfv5G0DHyMGYd3/x2LQZukmKlQGQh9bfZpZydi2gX1lqDjG3NjxKQjJ5MbLUqizjJURnuKB\n",
              "BE2XLVT9T1sArFXpA8F3FstYnabnowc/YPhHRkZ9csawI7jYXghYb5W+Tt7l+/amuIDnRrubaC5U\n",
              "me50M3iEB9RE/46YSbtuxpezoCdVnERgUCnuHo4lXfW0jg0Dd5vI9u3+vtM2YmhSXkOhvk3e9EfW\n",
              "bvK+0MlRAGU/G4PJxK63iAQPLpq1FGKJVFtxOpWiX4K1OwTnBMmkbBVYNqnZI5sgzsetNDv5yjhN\n",
              "Smb7NhlHU5pBnIyxyvzWdQOclmm5cuEfGrY5cP/nuYIYlsQ1Y7RQkEoaeHaEseVosYMmFRwQWMLU\n",
              "5W5GRTcisJbj/odSVySoob7GmUsfxrF64IU9w94CCf28WU9TQD1kdW1+G4umBkOvNcPzolZsoTIi\n",
              "I+r2fNYmZ/2/L8vLAXsymNX4j9XYZ+P04VdXTNcoXeKKS/odB5xATbtgXUJ7AsSvTg4VPfpUZfpI\n",
              "P34j44wp9OeyPWv2aa/n8YwbCUBXSd5SUMeyNLodDR4izI0E9dDsF/Czd6dwhm888iFG174OMvbm\n",
              "8uYl25CiPVLvnWD6QLJw9sKVp+1edEL3KA/VY8WrRxzGvQVicGK/JuqFatmZv0Jviyhb2qmh3Wi5\n",
              "ooUfrrF/1sH+8XfgBOVrHPuP9h0y7BtdoLwDrHgafBwgIAY8m3WQT3tsPr5W9IeSzq7OP89dWK+r\n",
              "16F6QHS2W6A/s+14yWAH2qupXxeeay+HAVJi64csGLx2qSGq2YaOtn+Y3sAzbDobVBulr71Azvk7\n",
              "TM+JcHpQayXbhdZLT4cBAZmIDNqE7Lc7eU1HJnS5wWsz6F5oTCFr6EHB00ku3ZAiJLI+wUd5MrHK\n",
              "9xrH7kkpZsysRhvS96Kp9D7CxhkhefV/Ry78HU1xeMS2UQC2e1Ip4LiJgk5aO27472H9KMO6qTIr\n",
              "PCzNnZyHpGLM1DQkLan8w3DWwco7TP9XCW+PAeEBZFDgRVkR12tnGrutrzy41KDO75sgbxc7cy9A\n",
              "3d/OJgYnYCL3QKxm2E87Yx9FrvTkCDemHca7IRHFvpMrZWlTDnkSsDoX1WNybE1jz8/Ao7P14cQ4\n",
              "UQfcVGFEEn6gAAAEJkGfKUU0TDP/A/eOIy+M6DMZa9GTUFr/kAUpAyga8hwvJsEDNfA2BTbTjFDn\n",
              "S87N54PHTfP9GjqHWlczJBmh004BghQ0/+5SwB3yJcxA/nPQH6GR3sTeO2P4nxaxv1/TbZOv73zI\n",
              "d0tZMqmqDYSzbu0w6jy+1ba+6cznlGYBxNnA6vu7L8dGrClm45yPsLeThKGzJlPl/KdVFdCOvezM\n",
              "EKTiAecNTymjUaDQUPu5bEyFzVggg1IsOM27iDj00MAmo+Okv4xIIP/MUPJjfUvHm408FadzSXn+\n",
              "Xn2OhDL2/WdaPIW1HBrLjgJn75u6/snT8/ffvD7ASSvhPk1bWk/w2mthI8fAbWmIz661EHTU/t9/\n",
              "KiAzRqtfXTaI7aj13seyr+/bXkC7/MyHC5+2enw23MBH1xLYq2MG5++THNFHkCpPIf0z2sBTI83K\n",
              "oIdwyEcyKsUGVrXWGo28bRGZqJZe49gYR2PSB4Ek4RGfDlBah93VdK9GtWg8w4o4cVPqvRnEJw3r\n",
              "OLDGGCeWCVYxsrBNscQlfAeoQauSPqt8VSO40mCnrOHfjREvfyUwQiPZRJ4pN8MNHoph6W19pyle\n",
              "a0XQCwd4rWT9SahQXg/FQRO7HVOtXZ7Ds7jsQ6ZfIO4KMV6hFKMB91ehCpYHSZADjLUjZK0MFe0u\n",
              "94/vvWLlbkkZHebpY4do0CSXM1wagq9GcO6JpSXjcIdcOlofXvDslYpbrtrkf1yANyuoNqrLg41z\n",
              "OWusWzp0f+zkj2d8yGBFiPCB/+vW7vyiFMQy9HCP2W6l4yt1F0OGA2FIHvnu8XxCecMg6NSNIECa\n",
              "qgsneihNo6jeBRislBsTRo3/iWzeXLVn+J8jyB9DqiszyquCIx6Qog9UMYSK3acb0gB5AwUSrZba\n",
              "vdjYno6baUtye/a8vK7ZmGpV3Eem88Bqe3S6droyO+RhLmOv2236Uzbi27lsHDUnQU2/YiceHY+y\n",
              "vtkzfpCSyRMrKN9nnJaihn84RYhkjo1q+r7H7kpZXPL2PSh25KFyJ5nqF+nAYVNsQEy7V9Kp8AcW\n",
              "iTQemcgLfsNXIBIqYoeF5SdjB/mIGEDQUy/CopCPsQlEwuP+ybr6s/XGjlPH2OlUuam9APwrixPT\n",
              "k42BgP8EgmqBlFqDjKJ1JRFIZQ0zvRzjHiOz9YJSjC3206LKIl94ky/KeYg1joDLpd6Rxl5pHAC4\n",
              "C3KLuknDK1mYEXSYA2SRQfLhiV5sMawv/QErL0APxl2jcggwG1glxuEyOfRip2uJS35vgQyyZTzK\n",
              "XuweKrt99m4gh/xYuMUAWYBqHYZwdDrTmaPV9K3lgJZKneDoMV0i28Vgkl5FcXUh8IWI21EgaHS0\n",
              "Fa22PUZGo04wgp2hZQxSO0HgPVqIvJRZLqsItjxRZhSolU6ObxJjzGjGjjwZJdJugAAAAikBn0h0\n",
              "Qr8F9EVejpUVWoOi5xNlsAbbiOtqIzKZbFMkdQZEYpcPT0TMa5gWqiwQFCHvpudNNw13U6/RqhkQ\n",
              "r2Yhyum6KscFFJSxM49CgsE3N5xmRmJ472pCln3934NYPv98CNpGJ44A3c6iUCbZAVVDSsypsaPf\n",
              "NqilD1htd0KW8hhTDx70vhD34rao7DfAcxo8SfMHTbWj2A4dBmWQdXrJiwHX3U3MIB8QqD/eUBZ+\n",
              "OPY5m0jfu5AvPqx/W+lpk0AhbI3iIevHVc6Q/Bqhe8hwqTkFDlKEnvoZp9QuIPCRIfRsgKxBG91r\n",
              "sx58btMC3sIw0WtTnRCrPmw38Fqw9IKdl8BXz/fL2U+EAA5r5Hp/GiunOBk16p+PFot92raXizps\n",
              "Sa54QHXMc7t1iAA+SrCZbw9hNJ3yOPk6Fi0ryjqPO6NcIlyKY4WPngUtbjTVv4i3SLy6CWsyIkPc\n",
              "HhnBA8T8n6sqsg+lwg7xIo+Fl6t37dcklhIgdpI/9lqAp8gCvTjgUOPWv7rzCaGSH529Nv65zXt2\n",
              "1SJogr1BQz4IqHT/MwKNB7YDOIVcg2DodK7J8s57Ez5ix9F+FEh9Gb2/UQ1aAm31m2KXAKzoGeTX\n",
              "2YU0U/PduxusFz6qIgC0ITUWuNrmNTvtCOVIHofyWGCzWIb3m/aCvFmtb2uvx8SHMv90mZmjL3Bh\n",
              "DWQlzISqIF88soAOvdcsaFhpHYk//ntTTYTKeIMcQQbqfqWdAAAB6QGfSmpCvwZ3QLhyvPZThxRn\n",
              "OBoG65B+0xHXWSCpAMa0eLCEx5UaAbnfcAttHeUbrzG7lRTQqR99CoSSS6QBAHxsUfl+7YyslhPx\n",
              "1s8VsRDjwRaZAa7jRtFLkAUp425ExEvDg6vKUL7xVu7HsFel0OQ0yNDM+M/cqanEPeV99mBA1knB\n",
              "oM7u2w2HUQ03wzyYiWK6rHvDSddoDUn8BB61JYe7CoBq+FS6wPTcrM8Z3M+cXxPat3SxTnluGL3G\n",
              "t39hILG39gww1L4grDvD3t227gWVW82nw+q1XvkhYhOBXFVzFF45xm/RnBxHOrRmuxOM5DGLOrI+\n",
              "CSmwCbm+2ZzVWH1vAEN5xMlBmYQRD8l6IkkF440oa3yfVzZs1TnAjHqxf4bMYzhT1eznbyXXqlvz\n",
              "dT1iYiePk1FnJAElB+Ahj70ZB+XmqfDHstGN9EdcspCiknO9WujdkKWuIWsTiVeQVrzPV9t5GWHY\n",
              "TV8kPWLvFobk23oXQl9GLXH71j4vnh2tLUeTunkGhKkOeiJhZ9qvpjZscBzJiSaoS2FTstdHJsaZ\n",
              "qFi08fUUEvAG9CCFdFs71t0KWyOjiHiFKJFIhRWroeMq7lOJKOZJNnyXznDjOaBO0xblCLljXI+e\n",
              "eLbFxFkfHDiItG7VlTIC4gAACSJBm09JqEFomUwId//+qZYzdKh5133B32zif6pAZu9ezJT+lNjt\n",
              "LVI7AYBSqcAd2l4LWMwdWn/fONN8E7g6yCcrlF3dqceElnfJ653VzOtJO/wOz+LjTHRyKv77bYEw\n",
              "Jn1BdqVzA8grI1sMWS1kgr1CTFeEmXfYGqJzuDWl7WuGs85KM09qEiu0FZzkImunuh4yg355Abpe\n",
              "990kSmRpgx/aCtQaJUf3x56gYOsyf9G+VVSHMSXOEpYEDBBm/vsh0Mz5nYyqb2+xM8NvuSj2Gk8J\n",
              "dcZKFcfwdDj6yIs9ix957bzKvUjic4BkixW7qLbXtGHN0ZMIcsLtdFO8stuukMAgB5DtuhcmIe9V\n",
              "WWFCruNhotsLsMHmXu+RcoaLwhdiOs4WZPx9EswFY85/ioMTC2hSm959qYoseSj17flIGMb37QeK\n",
              "yHOiF3BZ/Obt105eslA2lxVhPEdTHoaiVyIVZmKdqd1VkQhB9Rg95eo5o4uDinU/CrzAUTlDgBY+\n",
              "BQ2jrkIw8BJM6hsCopMyGVqFG7AqrCG5sKxlqDNQERU6MAXpVG+Inpn2pfSikzp/H/v3nH2sq+nN\n",
              "MAwOaSG1a0nkmJ3SvII3ydZzZdhDyWHkKqTmRe3vz/8iBGre8MIIMJwaVENwn601v+UUs6QPHXAN\n",
              "MCXHAAxaDnD/qTJmuxqqgHCgzH+j0Zcr15Yc/I5fzDJhMsha8/abGIhf/oPiTA44kXxsZl/mu3e+\n",
              "SN4st8mOjXEV8v45ISgv4EscXzzxO+IAZe4qGK8hyxmsIdvenHorecFQx2RHe77dYbiaMD6AlJzU\n",
              "itKLDA8ZyvU6ErLbSZ02212UdkS5fm7EqiiE+VMzDuXPX5NQL4IHZkH+OtNUOvSrbvDPNZCzrjHJ\n",
              "gdckyzWs7L45nPrj5URkrnfOU1MPA8HXax+86+YsPRnKOZexbusay/jJZhbgFgMIBDw6hVwyWQAe\n",
              "MDgzI5TmbpV4SDUqReQNo+7AcShL3tet9HLQ1NX35l0R+iDUvG8UuJZI2GFh8GqYKb3V0oVDsWs1\n",
              "H3vhGJOFIT0wXYISYSSqWJdFSHCGYwialBctfuc6IA5gNTR/kwbOW6XAosTuS0auQAE3QosCyQzJ\n",
              "JrBzk2fsoaoFUoatOCDdMLod6l5yJPWGUPH0kdilBeulM9EWVoNNp0a8HkVliP7cM0Ez2lUFyMLX\n",
              "WMboLPYU3HIr/SI4Mz9L0CsQJ36/2Lyo10Uw3tpillFZSuUlPLsokxB8ZWGakMrAJAy8NkeEoFag\n",
              "Z1z1vEn8cQxTDCANTpAvnxsUcmfUwQBESlohHacnhy75RSDkmaztdG9B/ebaK1/izO0hf+UhiMGb\n",
              "v9JzVgMthLCNI4mK794A3weH6Z5qPq2oMYh2J1hsD6R7djvkVac7Xc5XKYAV8vRC9Z9U7+q2yHSc\n",
              "omUQy9Z5xEOUnl9+iDS9yN+SDv0JY/E1ssREGxdfYuWNCeCQBnh+IFdbz+FnPTWd/VodrsJp580v\n",
              "3xrGBTiPWWRpkq9v4RqBLA10ppT+LFWoNykDAldbkTZ/LTVJvapdfUhNlAxAgt/vc6Ea18s3PGSG\n",
              "b9ETw/g9HCuZidIyE6Ah8n4c751w7wwOyX/QmWDzye41bYid1xK5zhZWYn2C2n8i8ScDV8J2gc+T\n",
              "ycMIcAiFhltjRX44Vy4gOvK5oDcpGebYkl8agmUHWlu2K02nU/C5N1AzSkJNuYAIPrwwpBkGzoPr\n",
              "Rn0dHaDIeXExkQrYN90vyfas3tT9T3zmMgUqsFRLs+rmvXot2H/BpJd3WEZY/M/PhARLGNvVs4BR\n",
              "xVk4SAJF7qWVrDDBJR++JdL3LFoubJzLxc7WaxXiXmJvuhWH2FK5qjjNRg1pETx670Xkhig40qtA\n",
              "XNeXm7V0NPeAlHTxfoKGGYaKnDlWSTNUq3YdtxbEZZpnXmOduOzBMASTJZQXMh5S6PCOmHIYqein\n",
              "Ltm3fT//SooOO5q6dl0dHVXiEXAbLmL4wGMNedoIxJxdFffdPoBWd3E8IhClBHAb5vK2R5BKa98V\n",
              "RvOasTn7i6iBjVWbbboKI8sChUSCvABFC43nAEuKp8Sa6BZpqjXlx1kXbPN1fl6IbyZ8uOoNvh/A\n",
              "hRhQy4cu0vkoMXnYGQqnKIoyrEyDFfEKrXnJTIVLM2x+ZZCOFx0mib5a3eyJTiDgO1AHkJOK4ciS\n",
              "ACxskqNqcWJHPtNmBNTVZeADTs/rvKgZca2DKej6+Yyw/lGACM8ZP+p2pWn/UMk5itZ6IGur/ahd\n",
              "mXbK1tKNxOYur3AdU5r5oMbV6Go7cta3kewJtOBsS9BK/yDMEaq+VelTnqGUzdNHStQ4cejyPAj+\n",
              "KAD1W/HDtwpj8ryGLi1r5AdfKMAtHwbxEv6bZngutYZ5Z1ADl83Q5Bijd4CHhr9pHBrKppXU+OM+\n",
              "AEn7EICHViD05m4aiDJKVAlPFglWTHFDPfOdZ8MZuvEuXqtNBQ2TM/lo9jJaU/ZPCt6qIWjVA9e5\n",
              "ZS4bERMxEbGxMRS2lkAlXupwGym+TjaB3/r2ZGrQJL3Rz9If8MSnvGkzQRUjnmWXLIRza4THVocl\n",
              "LVfQk5ikgrDWIjcGDZc6dvygmDTSvPeksJ4Pwp5HtDqPy6STLE5pPRLZipqf4ddpso58gmycoLFd\n",
              "65qPLFnaZLwG/KqRnkmEJFTMAiYjPRzWYkiLF//+utaGbKCJehcs98CCZTMdfjh934IrZwqI6Iv1\n",
              "wbHOtLpnEaDqCkwYmZ3yBlJe80vv+7je+WIFydF0JrUJSW4E75uvDvdKUosY3UjWrAXU+LUj2t13\n",
              "+6xRrvlEbJj1x1fv2fmjpmPvSv94svgMbN8tJUiYtmCut2E8wr+vEgBJXahR9Vi/RSCF1BFFLD5I\n",
              "LVbu+NFD4vnwp3tMXLQUYT/pZ8EC7LpO6a4dFAOJpZdc23MQr4IYI2olEAE0mDSDZMTh9ktySKp+\n",
              "g1zglUlXKuzEuS1tIvsv0fsjt1BPF5SmHBJgPqUffxvEMZ4nAsQ9+ji4tjE7nvfmE5Gq8/DSGaDs\n",
              "ABG8qDLj5yPDggaMf//4EOf2NlIrkzZNbOBl4jpegKNhWQ9ddilokWHbTDeyD/m1u77luwDp78Jl\n",
              "ikwVcdONPwCEOUbLSo4zKv6b8s6EAAADqEGfbUURLDP/A/l4pSEl9qwd3Vlxs75aHEAl2MMZZq6Y\n",
              "BfpiS6rmNWjAEUKgTjjGDW3F4N4aIXqM61HipKvP9eYPEuf/QyCNAtpFQlz5G9xnuuSxMZvICvcr\n",
              "FsVX8KgQZRDYgiJcr377zIDVQ5gzgKNUxc9b32Igq7lrf/31SOJX8G5RfWuHeQRNR0d+712b1MxX\n",
              "YWTWVbv3/P/BqNBsdY1GIQYNDuNY0+ex1ivkwrJiiJS60iIQDj3nUb5Ehxwr/vuWstmiSIhQE7kV\n",
              "Bs+Hpz7h3d4gcUxi0/8v/DMb7NeCJn/lfM8QVhwGcRYccd/K+mqzeWmcVHhK99EvkJCwiwA9z0OP\n",
              "Xg2cwYeOjK07CxOM9GVkuX5uH4ARN1KH8x+UdmKIFXiq9nQGyaxj1URy1R+8pKDuzjJKcCzZGDKg\n",
              "fSZDSEzK1eHZn4Fct/dXvaMJGVDxU/LUp/ia/58xKJirqgCRcS2FHpPVXs0KgDTySK+pS0TotPw9\n",
              "2TUSplHKSpKBr0kS43DPRlCO8yGYKU1uuQwnD3Hpuzw0SN0ZGrm3QU5xc48VMZF8Bc/gQxefF0l5\n",
              "WhcGew23yYQzma8PAYOPlIssVTEoyus433wPbRsaJF77mYg5mfHOu/97cbiSqU7IMXEEQDpgje6d\n",
              "+3CBE38TMH+Kxf1torxz3I+Hk1LkDUZpaOcvbDb9xVCWUJbtIrr6nZcAvaZHQeKuxQ2xhqXE3oQF\n",
              "C6tQ0rLg0aJxkNHsz6p/jiaQ4EI/kHoNT32irfnn99L6PM+Wu4KPD9dNh42w5NrqjFB+kRNSgA5a\n",
              "2J4aHNBeJCaXUUqT+8xunDG7GtUONIQjkEHkdnVU+B5zd9J0JuhFrkK80AOOTPMmU9kKXWw3m3AV\n",
              "efd4wZSE9No98Y7m1Fr0FduVoTG9QdTDIwQbFH54jke36zTyOSRxqNgoTvTV/AY6IBWQFCoKrx5I\n",
              "P/ZElX8A4eC5ca6TdngNTzESPyt/X7kNlXO3OMCB+f3EGsHeBahzsXdqAxZ2EGygtlpnoqq8rh/Q\n",
              "Ru5C2RG7Sa5hITDXUjncY4MKHn+ea9YrU3zntd28KVxQwmcQc4+jx7wQFl3UCnzyCVvziSuvCsJV\n",
              "iVx6fW2kdH8JUbMIzR5LD/Va5hqAlyVXzLozja6+74DiRWFnQmHKcvGZ18SrokOo+CnJJMvqxj4T\n",
              "la+xKNN0dRDVBs9La+qRjBGnPRHZEFkrzqhavEbiFMzMTEvP/hpFv8amVMTvBqV1EQAAAgEBn4x0\n",
              "Qr8Gb+KkOh92U4a2F4p1Li0hAJU29GVLbP8u3MIChWOtDJpgitdBC88nwDknJR8Dpeiy40dDe47r\n",
              "57gThIs1yp2owb7H5Cz5Bk9LldLKYDu2Jwg7DQy1/c00pWAL1VV/ZOOndou3QvkKMJtFBMQ5mUeH\n",
              "rhTWQYk14wxgMA6R33fvZlXh/ooYDAPS43s3ijC0RfB1Bkm/QHRfiH2l03SX2xeMqZKFW41hGDUu\n",
              "SgNWxaj0uGepGkU7J8BSQquuUX5CnwzVvVjavpJe+3xgdPleYRQSM+aYok7NCSoDgjNEBlxTZR6E\n",
              "YID0qF3f3QrcbQgSHGzlz18dsLdvNgXTOrqWj5r0V7cWeA+c+7zLpfbBEFdtwAGEfaqkOA//2tF1\n",
              "xHYwX7iw/XgBgXoJ0R5jfEXfNSBvEhWuUxGVgOCaFOuSp82vs0YMJRCxJPf7To2zsENaiun3gUCe\n",
              "L1N7FR9XniIqCGJ1VDVeRrngIDy565o+rYk2B8mS0JefVY0upCqWrzd/Tifu0eBoNUpeOseCN7SN\n",
              "pUSnKUMkYbVu7b5JAx9913hUj5kDccv8vv93zjTj92YyG6cgjuVBJTWZ/qrRfsmLTUtyf7QggOY1\n",
              "NmSnylX6SXR1NNPxj2GDM/xJVcx7cIc0lseZydkO0SVvnNpI+mZ3HZUctQO5GwVbkS2kkfEAAAEv\n",
              "AZ+OakK/BndAuHK89lOGtheppD110YQABr3ctyqIw1ZxQx1JZ0a5xuoJFRDrPkcLjo3BmRtYosLI\n",
              "WpLznrwgp5PYCeR6Dtsk+s5ViAPsD14MYGZ4LDrEVTQz4h1vP56C4K7wLWc6RrbqnmdLkIZwYctw\n",
              "Ns+Xg6NZFuaOHO8OmRJnEe6mM+5/5Mf6WMJXqKpSh44cWA80Zt8patQo/iuNy81o+uwUuI3zy9KU\n",
              "H+J8LFBf5csKNCF2ZnkUcq/QxHpXNDxP+Lq1T1h5yZOMFtv6Cg/zk8JPgMfFW1Ikq4Ne6Tdcyyoe\n",
              "9mgfUkPaeO3gTcgtdcW2X6s73R7RMDkAJ2TqK9pWPOfg+TK9cSmIfMSJe831L69fJtJ7AN8kf76y\n",
              "YRfnacwg9s/Km0lqRU2AEfmhAAAAQEGbk0moQWyZTAh3//6pljN0qDWTG40zTT3NhAALKRvX7kWc\n",
              "lc2dwhA27A0Cku3OcbPbROnp/rQbhCDulZGgm4AAAAAqQZ+xRRUsM/8D+XilJHoJ+p5UBxgUMN+5\n",
              "fpmuYT82l+qroC+mkcjuKu8MAAAAHAGf0HRCvwZv9mk660/QptCANcgBw9yGaJ2+G1EAAAAWAZ/S\n",
              "akK/BndU+cyXsv7jjs2x11Hi8gAAABNBm9dJqEFsmUwIZ//+nhAAALaAAAAAIUGf9UUVLDP/A/l4\n",
              "pSbHVnnOxJBeJLfcl9hyeOpP/MmwBQAAABYBnhR0Qr8Gb/ZpxwAx/KQsJRx+V4/wAAAAFgGeFmpC\n",
              "vwZ3VPnMl7L+447NsddR4vMAAAATQZoZSahBbJlMFEwr//44QAACywAAAB4BnjhqQr8Gew+m5Z7S\n",
              "SIdf89ou8EBtGjzEs64m4bsAAAXLbW9vdgAAAGxtdmhkAAAAAAAAAAAAAAAAAAAD6AAAC1QAAQAA\n",
              "AQAAAAAAAAAAAAAAAAEAAAAAAAAAAAAAAAAAAAABAAAAAAAAAAAAAAAAAABAAAAAAAAAAAAAAAAA\n",
              "AAAAAAAAAAAAAAAAAAAAAAAAAgAABPV0cmFrAAAAXHRraGQAAAADAAAAAAAAAAAAAAABAAAAAAAA\n",
              "C1QAAAAAAAAAAAAAAAAAAAAAAAEAAAAAAAAAAAAAAAAAAAABAAAAAAAAAAAAAAAAAABAAAAAASwA\n",
              "AAEsAAAAAAAkZWR0cwAAABxlbHN0AAAAAAAAAAEAAAtUAAAEAAABAAAAAARtbWRpYQAAACBtZGhk\n",
              "AAAAAAAAAAAAAAAAAAAoAAAAdABVxAAAAAAALWhkbHIAAAAAAAAAAHZpZGUAAAAAAAAAAAAAAABW\n",
              "aWRlb0hhbmRsZXIAAAAEGG1pbmYAAAAUdm1oZAAAAAEAAAAAAAAAAAAAACRkaW5mAAAAHGRyZWYA\n",
              "AAAAAAAAAQAAAAx1cmwgAAAAAQAAA9hzdGJsAAAAuHN0c2QAAAAAAAAAAQAAAKhhdmMxAAAAAAAA\n",
              "AAEAAAAAAAAAAAAAAAAAAAAAASwBLABIAAAASAAAAAAAAAABAAAAAAAAAAAAAAAAAAAAAAAAAAAA\n",
              "AAAAAAAAAAAAAAAAGP//AAAANmF2Y0MBZAAN/+EAGWdkAA2s2UEwn7uEAAADAAQAAAMAoDxQplgB\n",
              "AAZo6+PLIsD9+PgAAAAAHHV1aWRraEDyXyRPxbo5pRvPAyPzAAAAAAAAABhzdHRzAAAAAAAAAAEA\n",
              "AAA6AAACAAAAABRzdHNzAAAAAAAAAAEAAAABAAABwGN0dHMAAAAAAAAANgAAAAEAAAQAAAAAAQAA\n",
              "BgAAAAABAAACAAAAAAEAAAYAAAAAAQAAAgAAAAABAAAGAAAAAAEAAAIAAAAAAQAACAAAAAACAAAC\n",
              "AAAAAAEAAAgAAAAAAgAAAgAAAAABAAAEAAAAAAEAAAYAAAAAAQAAAgAAAAABAAAEAAAAAAEAAAoA\n",
              "AAAAAQAABAAAAAABAAAAAAAAAAEAAAIAAAAAAQAACAAAAAACAAACAAAAAAEAAAoAAAAAAQAABAAA\n",
              "AAABAAAAAAAAAAEAAAIAAAAAAQAACgAAAAABAAAEAAAAAAEAAAAAAAAAAQAAAgAAAAABAAAKAAAA\n",
              "AAEAAAQAAAAAAQAAAAAAAAABAAACAAAAAAEAAAgAAAAAAgAAAgAAAAABAAAEAAAAAAEAAAoAAAAA\n",
              "AQAABAAAAAABAAAAAAAAAAEAAAIAAAAAAQAACgAAAAABAAAEAAAAAAEAAAAAAAAAAQAAAgAAAAAB\n",
              "AAAKAAAAAAEAAAQAAAAAAQAAAAAAAAABAAACAAAAAAEAAAoAAAAAAQAABAAAAAABAAAAAAAAAAEA\n",
              "AAIAAAAAAQAABgAAAAABAAACAAAAABxzdHNjAAAAAAAAAAEAAAABAAAAOgAAAAEAAAD8c3RzegAA\n",
              "AAAAAAAAAAAAOgAAGMQAAA+4AAAEswAADisAAAPIAAAPmgAABLEAAA91AAAFkAAAA70AABBsAAAF\n",
              "CgAABGgAAAr2AAAOwwAAA9wAAAvAAAARngAACA8AAAPfAAAEXQAAD9cAAAZZAAADuwAAD9kAAAlI\n",
              "AAAErQAABGIAAA+FAAALCQAABTEAAAVlAAAOYwAACPAAAAY0AAAFrgAADj0AAAgGAAAFKgAABuUA\n",
              "AAmlAAAEKgAAAi0AAAHtAAAJJgAAA6wAAAIFAAABMwAAAEQAAAAuAAAAIAAAABoAAAAXAAAAJQAA\n",
              "ABoAAAAaAAAAFwAAACIAAAAUc3RjbwAAAAAAAAABAAAAMAAAAGJ1ZHRhAAAAWm1ldGEAAAAAAAAA\n",
              "IWhkbHIAAAAAAAAAAG1kaXJhcHBsAAAAAAAAAAAAAAAALWlsc3QAAAAlqXRvbwAAAB1kYXRhAAAA\n",
              "AQAAAABMYXZmNTguNzYuMTAw\n",
              "\">\n",
              "  Your browser does not support the video tag.\n",
              "</video>"
            ]
          },
          "metadata": {}
        }
      ]
    }
  ]
}
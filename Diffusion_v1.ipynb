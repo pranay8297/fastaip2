{
  "cells": [
    {
      "cell_type": "markdown",
      "metadata": {
        "id": "view-in-github",
        "colab_type": "text"
      },
      "source": [
        "<a href=\"https://colab.research.google.com/github/pranay8297/fastaip2/blob/main/Diffusion_v1.ipynb\" target=\"_parent\"><img src=\"https://colab.research.google.com/assets/colab-badge.svg\" alt=\"Open In Colab\"/></a>"
      ]
    },
    {
      "cell_type": "code",
      "execution_count": null,
      "metadata": {
        "id": "1kAIm59QgvsO"
      },
      "outputs": [],
      "source": [
        "!pip install ipdb\n",
        "!pip install torcheval\n",
        "!pip install -Uqq git+https://github.com/fastai/course22p2\n",
        "!pip install tqdm\n",
        "!pip install accelerate"
      ]
    },
    {
      "cell_type": "code",
      "execution_count": 1,
      "metadata": {
        "colab": {
          "base_uri": "https://localhost:8080/"
        },
        "id": "vnxlc5y8859i",
        "outputId": "b35e668e-ed4a-4de8-807a-4bcd53a5e880"
      },
      "outputs": [
        {
          "output_type": "stream",
          "name": "stderr",
          "text": [
            "/usr/local/lib/python3.10/dist-packages/torchvision/datapoints/__init__.py:12: UserWarning: The torchvision.datapoints and torchvision.transforms.v2 namespaces are still Beta. While we do not expect major breaking changes, some APIs may still change according to user feedback. Please submit any feedback you may have in this issue: https://github.com/pytorch/vision/issues/6753, and you can also check out https://github.com/pytorch/vision/issues/7319 to learn more about the APIs that we suspect might involve future changes. You can silence this warning by calling torchvision.disable_beta_transforms_warning().\n",
            "  warnings.warn(_BETA_TRANSFORMS_WARNING)\n",
            "/usr/local/lib/python3.10/dist-packages/torchvision/transforms/v2/__init__.py:54: UserWarning: The torchvision.datapoints and torchvision.transforms.v2 namespaces are still Beta. While we do not expect major breaking changes, some APIs may still change according to user feedback. Please submit any feedback you may have in this issue: https://github.com/pytorch/vision/issues/6753, and you can also check out https://github.com/pytorch/vision/issues/7319 to learn more about the APIs that we suspect might involve future changes. You can silence this warning by calling torchvision.disable_beta_transforms_warning().\n",
            "  warnings.warn(_BETA_TRANSFORMS_WARNING)\n"
          ]
        },
        {
          "output_type": "stream",
          "name": "stdout",
          "text": [
            "Drive already mounted at /content/drive; to attempt to forcibly remount, call drive.mount(\"/content/drive\", force_remount=True).\n"
          ]
        }
      ],
      "source": [
        "import torch\n",
        "import math\n",
        "import numpy as np\n",
        "import fastcore.all as fc\n",
        "import matplotlib as mpl, matplotlib.pyplot as plt\n",
        "import time\n",
        "import numpy\n",
        "import pickle\n",
        "import os\n",
        "# import lpips\n",
        "\n",
        "from pathlib import Path\n",
        "from PIL import Image\n",
        "from tqdm import tqdm\n",
        "from scipy.linalg import sqrtm\n",
        "from functools import partial\n",
        "from ipdb import set_trace as st\n",
        "from accelerate import Accelerator\n",
        "from datasets import load_dataset\n",
        "\n",
        "from torch import nn\n",
        "from torch import optim\n",
        "from torch import autocast\n",
        "from torch.nn import functional as F\n",
        "from torch.utils.data import DataLoader\n",
        "from torch.cuda.amp import GradScaler\n",
        "from torch.optim import lr_scheduler\n",
        "from torchvision.transforms.functional import to_tensor, resize\n",
        "from torchvision import transforms\n",
        "from torchvision.transforms import v2, InterpolationMode\n",
        "# from torcheval.metrics import MulticlassAccuracy\n",
        "import torchvision.transforms.functional as TF\n",
        "\n",
        "from miniai.datasets import *\n",
        "from miniai.learner import *\n",
        "from miniai.augment import *\n",
        "from miniai.activations import *\n",
        "from miniai.init import *\n",
        "\n",
        "from google.colab import drive\n",
        "drive.mount('/content/drive')\n",
        "\n",
        "mpl.rcParams['image.cmap'] = 'gray_r'\n",
        "\n",
        "set_seed(42)\n",
        "mdl_path = Path('drive/MyDrive/fastai_p2/models/')\n",
        "\n",
        "IMAGENET_MEAN = torch.tensor([0.4810, 0.4482, 0.3968])\n",
        "IMAGENET_STD = torch.tensor([0.2760, 0.2683, 0.2813])\n",
        "\n",
        "IN_CHANNELS_RGB = 3\n",
        "IN_CHANNELS_GRAY_SCALE = 1"
      ]
    },
    {
      "cell_type": "code",
      "execution_count": 2,
      "metadata": {
        "id": "acxB4ANcdy6P"
      },
      "outputs": [],
      "source": [
        "IMAGENET_IN_CHANNELS, IMAGENET_OUT_CHANNELS = 3, 3\n",
        "FMNIST_IN_CHANNELS, FMNIST_OUT_CHANNELS = 1, 1"
      ]
    },
    {
      "cell_type": "code",
      "execution_count": 3,
      "metadata": {
        "id": "x-2dsWeeXNkh",
        "colab": {
          "base_uri": "https://localhost:8080/"
        },
        "outputId": "e022fa92-f468-4d10-bc9d-bb5ef903d5bf"
      },
      "outputs": [
        {
          "output_type": "stream",
          "name": "stderr",
          "text": [
            "/usr/local/lib/python3.10/dist-packages/huggingface_hub/utils/_token.py:88: UserWarning: \n",
            "The secret `HF_TOKEN` does not exist in your Colab secrets.\n",
            "To authenticate with the Hugging Face Hub, create a token in your settings tab (https://huggingface.co/settings/tokens), set it as secret in your Google Colab and restart your session.\n",
            "You will be able to reuse this secret in all of your notebooks.\n",
            "Please note that authentication is recommended but still optional to access public models or datasets.\n",
            "  warnings.warn(\n"
          ]
        }
      ],
      "source": [
        "dname, xn, yn = 'fashion_mnist', 'image', 'label'\n",
        "dsd = load_dataset(dname)\n",
        "\n",
        "@inplace\n",
        "def transformi(b): b['image'] = [(resize(to_tensor(o), (32, 32), antialias = True))*2. - 1. for o in b['image']]\n",
        "\n",
        "tds = dsd.with_transform(transformi)\n",
        "dls = DataLoaders.from_dd(tds, batch_size = 256, num_workers=2)"
      ]
    },
    {
      "cell_type": "code",
      "execution_count": 4,
      "metadata": {
        "id": "78dR4tSbYI3L"
      },
      "outputs": [],
      "source": [
        "def flatten_mse(yhat, targ): return F.mse_loss(yhat.flatten(), targ.flatten())\n",
        "\n",
        "class BaseSchedulerCB(Callback):\n",
        "  def __init__(self, sched_class): self.sched_class = sched_class\n",
        "  def before_fit(self, learn): self.sched = self.sched_class(learn.opt)\n",
        "  def step(self, learn):\n",
        "    if not learn.training: return\n",
        "    self.sched.step()\n",
        "\n",
        "class BatchSchedulerCB(BaseSchedulerCB):\n",
        "  def __init__(self, sched_class):super().__init__(sched_class)\n",
        "  def after_batch(self, learn): self.step(learn)\n",
        "\n",
        "def noisify_img(cb_obj, x_0):\n",
        "  n = x_0.shape[0]\n",
        "  device = x_0.device\n",
        "  noise = torch.randn(x_0.shape, device = device)\n",
        "  ts = torch.randint(0, cb_obj.n_steps, size = (n,), device = device, dtype = torch.long)\n",
        "\n",
        "  if cb_obj.alpha_bar.device != device: cb_obj.alpha_bar = cb_obj.alpha_bar.to(device)\n",
        "\n",
        "  c1 = cb_obj.alpha_bar[ts].sqrt()[:, None, None, None].to(device)\n",
        "  c2 = (1 - cb_obj.alpha_bar[ts]).sqrt()[:, None, None, None].to(device)\n",
        "  x_t = c1*x_0 + c2*noise\n",
        "\n",
        "  return (x_t, ts), noise\n",
        "\n",
        "class DDPMPrep(Callback):\n",
        "  def __init__(self, n_steps = 1000, beta_min = 0.0001, beta_max = 0.02):\n",
        "    fc.store_attr()\n",
        "    self.beta = torch.linspace(beta_min, beta_max, n_steps)\n",
        "    self.alpha = 1. - self.beta\n",
        "    self.alpha_bar = self.alpha.cumprod(0)\n",
        "    self.sigma = self.beta.sqrt()\n",
        "\n",
        "  def before_batch(self, learn): learn.batch = noisify_img(self, learn.batch[0])\n",
        "\n",
        "class AccLearner(TrainLearner):\n",
        "\n",
        "  def __init__(self, *args, **kwargs):\n",
        "    super().__init__(*args, **kwargs)\n",
        "    self.aclr = Accelerator()\n",
        "    self.opt = self.opt_func(self.model.parameters(), self.lr)\n",
        "    self.model, self.opt, self.dls.train, self.dls.valid = self.aclr.prepare(self.model, self.opt, self.dls.train, self.dls.valid)\n",
        "\n",
        "  def backward(self): self.aclr.backward(self.loss)"
      ]
    },
    {
      "cell_type": "markdown",
      "metadata": {
        "id": "uE5hi24rHyZn"
      },
      "source": [
        "# Jermeys Code"
      ]
    },
    {
      "cell_type": "code",
      "execution_count": null,
      "metadata": {
        "id": "-6Lr9YWGHyGZ"
      },
      "outputs": [],
      "source": []
    },
    {
      "cell_type": "code",
      "execution_count": null,
      "metadata": {
        "id": "gO3ABfSfg098"
      },
      "outputs": [],
      "source": [
        "def get_layer():\n",
        "  return nn.Sequential(\n",
        "      nn.Linear(10, 10),\n",
        "      nn.Linear(10, 10),nn.Linear(10, 10)\n",
        "  )"
      ]
    },
    {
      "cell_type": "code",
      "execution_count": null,
      "metadata": {
        "id": "HrVrZGQO9WJb"
      },
      "outputs": [],
      "source": [
        "layers = nn.Sequential(*[get_layer() for i in range(4)])"
      ]
    },
    {
      "cell_type": "code",
      "execution_count": null,
      "metadata": {
        "colab": {
          "base_uri": "https://localhost:8080/"
        },
        "id": "HmZ2GCI89f-B",
        "outputId": "1ea451a2-1b8f-4d84-e955-e08242802201"
      },
      "outputs": [
        {
          "data": {
            "text/plain": [
              "4"
            ]
          },
          "execution_count": 9,
          "metadata": {},
          "output_type": "execute_result"
        }
      ],
      "source": [
        "len(layers)"
      ]
    },
    {
      "cell_type": "code",
      "execution_count": null,
      "metadata": {
        "id": "sXDOFJvN9i7_"
      },
      "outputs": [],
      "source": [
        "def unet_conv(ni, nf, ks=3, stride=1, act=nn.SiLU, norm=None, bias=True):\n",
        "    layers = nn.Sequential()\n",
        "    if norm: layers.append(norm(ni))\n",
        "    if act : layers.append(act())\n",
        "    layers.append(nn.Conv2d(ni, nf, stride=stride, kernel_size=ks, padding=ks//2, bias=bias))\n",
        "    return layers"
      ]
    },
    {
      "cell_type": "code",
      "execution_count": null,
      "metadata": {
        "id": "LRKgl9mZFZ_H"
      },
      "outputs": [],
      "source": [
        "class UnetResBlock(nn.Module):\n",
        "    def __init__(self, ni, nf=None, ks=3, act=nn.SiLU, norm=nn.BatchNorm2d):\n",
        "        super().__init__()\n",
        "        if nf is None: nf = ni\n",
        "        self.convs = nn.Sequential(unet_conv(ni, nf, ks, act=act, norm=norm),\n",
        "                                   unet_conv(nf, nf, ks, act=act, norm=norm))\n",
        "        self.idconv = fc.noop if ni==nf else nn.Conv2d(ni, nf, 1)\n",
        "\n",
        "    def forward(self, x): return self.convs(x) + self.idconv(x)"
      ]
    },
    {
      "cell_type": "code",
      "execution_count": null,
      "metadata": {
        "id": "rhy4UvFUFbom"
      },
      "outputs": [],
      "source": [
        "class SaveModule:\n",
        "    def forward(self, x, *args, **kwargs):\n",
        "        self.saved = super().forward(x, *args, **kwargs)\n",
        "        return self.saved\n",
        "\n",
        "class SavedResBlock(SaveModule, UnetResBlock): pass\n",
        "class SavedConv(SaveModule, nn.Conv2d): pass"
      ]
    },
    {
      "cell_type": "code",
      "execution_count": null,
      "metadata": {
        "id": "aMtzF940FfSi"
      },
      "outputs": [],
      "source": [
        "def down_block(ni, nf, add_down=True, num_layers=1):\n",
        "    res = nn.Sequential(*[SavedResBlock(ni=ni if i==0 else nf, nf=nf)\n",
        "                         for i in range(num_layers)])\n",
        "    if add_down: res.append(SavedConv(nf, nf, 3, stride=2, padding=1))\n",
        "    return res\n"
      ]
    },
    {
      "cell_type": "code",
      "execution_count": null,
      "metadata": {
        "id": "t30gpCVsFiB1"
      },
      "outputs": [],
      "source": [
        "def upsample(nf): return nn.Sequential(nn.Upsample(scale_factor=2.), nn.Conv2d(nf, nf, 3, padding=1))\n"
      ]
    },
    {
      "cell_type": "code",
      "execution_count": null,
      "metadata": {
        "id": "BTg4-o-xFjsP"
      },
      "outputs": [],
      "source": [
        "class UpBlock(nn.Module):\n",
        "    def __init__(self, ni, prev_nf, nf, add_up=True, num_layers=2):\n",
        "        super().__init__()\n",
        "        self.resnets = nn.ModuleList(\n",
        "            [UnetResBlock((prev_nf if i==0 else nf)+(ni if (i==num_layers-1) else nf), nf)\n",
        "            for i in range(num_layers)])\n",
        "        self.up = upsample(nf) if add_up else nn.Identity()\n",
        "\n",
        "    def forward(self, x, ups):\n",
        "        for resnet in self.resnets: x = resnet(torch.cat([x, ups.pop()], dim=1))\n",
        "        return self.up(x)"
      ]
    },
    {
      "cell_type": "code",
      "execution_count": null,
      "metadata": {
        "id": "mtA-Jhr0FmOJ"
      },
      "outputs": [],
      "source": [
        "class UNet2DModel(nn.Module):\n",
        "    def __init__( self, in_channels=3, out_channels=3, nfs=(224,448,672,896), num_layers=1):\n",
        "        super().__init__()\n",
        "        self.conv_in = nn.Conv2d(in_channels, nfs[0], kernel_size=3, padding=1)\n",
        "        nf = nfs[0]\n",
        "        self.downs = nn.Sequential()\n",
        "        for i in range(len(nfs)):\n",
        "            ni = nf\n",
        "            nf = nfs[i]\n",
        "            self.downs.append(down_block(ni, nf, add_down=i!=len(nfs)-1, num_layers=num_layers))\n",
        "        self.mid_block = UnetResBlock(nfs[-1])\n",
        "\n",
        "        rev_nfs = list(reversed(nfs))\n",
        "        nf = rev_nfs[0]\n",
        "        self.ups = nn.ModuleList()\n",
        "        for i in range(len(nfs)):\n",
        "            prev_nf = nf\n",
        "            nf = rev_nfs[i]\n",
        "            ni = rev_nfs[min(i+1, len(nfs)-1)]\n",
        "            self.ups.append(UpBlock(ni, prev_nf, nf, add_up=i!=len(nfs)-1, num_layers=num_layers+1))\n",
        "        self.conv_out = unet_conv(nfs[0], out_channels, act=nn.SiLU, norm=nn.BatchNorm2d)\n",
        "\n",
        "    def forward(self, inp):\n",
        "        st()\n",
        "        x = self.conv_in(inp[0])\n",
        "        saved = [x]\n",
        "        x = self.downs(x)\n",
        "        saved += [p.saved for o in self.downs for p in o]\n",
        "        x = self.mid_block(x)\n",
        "        for block in self.ups: x = block(x, saved)\n",
        "        return self.conv_out(x)"
      ]
    },
    {
      "cell_type": "code",
      "execution_count": null,
      "metadata": {
        "id": "U17H1HFkFogq"
      },
      "outputs": [],
      "source": [
        "model = UNet2DModel(in_channels=1, out_channels=1, nfs=(32,64,128,256), num_layers=2)"
      ]
    },
    {
      "cell_type": "code",
      "execution_count": null,
      "metadata": {
        "colab": {
          "base_uri": "https://localhost:8080/"
        },
        "id": "uoEeUbprFrE9",
        "outputId": "56272811-87ba-44a4-fb08-80ed80a1f244"
      },
      "outputs": [
        {
          "name": "stderr",
          "output_type": "stream",
          "text": [
            "\n",
            "PYDEV DEBUGGER WARNING:\n",
            "sys.settrace() should not be used when the debugger is being used.\n",
            "This may cause the debugger to stop working correctly.\n",
            "If this is needed, please check: \n",
            "http://pydev.blogspot.com/2007/06/why-cant-pydev-debugger-work-with.html\n",
            "to see how to restore the debug tracing back correctly.\n",
            "Call Location:\n",
            "  File \"/usr/lib/python3.10/bdb.py\", line 336, in set_trace\n",
            "    sys.settrace(self.trace_dispatch)\n",
            "\n"
          ]
        },
        {
          "name": "stdout",
          "output_type": "stream",
          "text": [
            "> \u001b[0;32m<ipython-input-23-734baf59ad32>\u001b[0m(25)\u001b[0;36mforward\u001b[0;34m()\u001b[0m\n",
            "\u001b[0;32m     24 \u001b[0;31m        \u001b[0mst\u001b[0m\u001b[0;34m(\u001b[0m\u001b[0;34m)\u001b[0m\u001b[0;34m\u001b[0m\u001b[0;34m\u001b[0m\u001b[0m\n",
            "\u001b[0m\u001b[0;32m---> 25 \u001b[0;31m        \u001b[0mx\u001b[0m \u001b[0;34m=\u001b[0m \u001b[0mself\u001b[0m\u001b[0;34m.\u001b[0m\u001b[0mconv_in\u001b[0m\u001b[0;34m(\u001b[0m\u001b[0minp\u001b[0m\u001b[0;34m[\u001b[0m\u001b[0;36m0\u001b[0m\u001b[0;34m]\u001b[0m\u001b[0;34m)\u001b[0m\u001b[0;34m\u001b[0m\u001b[0;34m\u001b[0m\u001b[0m\n",
            "\u001b[0m\u001b[0;32m     26 \u001b[0;31m        \u001b[0msaved\u001b[0m \u001b[0;34m=\u001b[0m \u001b[0;34m[\u001b[0m\u001b[0mx\u001b[0m\u001b[0;34m]\u001b[0m\u001b[0;34m\u001b[0m\u001b[0;34m\u001b[0m\u001b[0m\n",
            "\u001b[0m\n",
            "ipdb> n\n",
            "> \u001b[0;32m<ipython-input-23-734baf59ad32>\u001b[0m(26)\u001b[0;36mforward\u001b[0;34m()\u001b[0m\n",
            "\u001b[0;32m     25 \u001b[0;31m        \u001b[0mx\u001b[0m \u001b[0;34m=\u001b[0m \u001b[0mself\u001b[0m\u001b[0;34m.\u001b[0m\u001b[0mconv_in\u001b[0m\u001b[0;34m(\u001b[0m\u001b[0minp\u001b[0m\u001b[0;34m[\u001b[0m\u001b[0;36m0\u001b[0m\u001b[0;34m]\u001b[0m\u001b[0;34m)\u001b[0m\u001b[0;34m\u001b[0m\u001b[0;34m\u001b[0m\u001b[0m\n",
            "\u001b[0m\u001b[0;32m---> 26 \u001b[0;31m        \u001b[0msaved\u001b[0m \u001b[0;34m=\u001b[0m \u001b[0;34m[\u001b[0m\u001b[0mx\u001b[0m\u001b[0;34m]\u001b[0m\u001b[0;34m\u001b[0m\u001b[0;34m\u001b[0m\u001b[0m\n",
            "\u001b[0m\u001b[0;32m     27 \u001b[0;31m        \u001b[0mx\u001b[0m \u001b[0;34m=\u001b[0m \u001b[0mself\u001b[0m\u001b[0;34m.\u001b[0m\u001b[0mdowns\u001b[0m\u001b[0;34m(\u001b[0m\u001b[0mx\u001b[0m\u001b[0;34m)\u001b[0m\u001b[0;34m\u001b[0m\u001b[0;34m\u001b[0m\u001b[0m\n",
            "\u001b[0m\n",
            "ipdb> x.shape\n",
            "torch.Size([64, 32, 32, 32])\n",
            "ipdb> n\n",
            "> \u001b[0;32m<ipython-input-23-734baf59ad32>\u001b[0m(27)\u001b[0;36mforward\u001b[0;34m()\u001b[0m\n",
            "\u001b[0;32m     26 \u001b[0;31m        \u001b[0msaved\u001b[0m \u001b[0;34m=\u001b[0m \u001b[0;34m[\u001b[0m\u001b[0mx\u001b[0m\u001b[0;34m]\u001b[0m\u001b[0;34m\u001b[0m\u001b[0;34m\u001b[0m\u001b[0m\n",
            "\u001b[0m\u001b[0;32m---> 27 \u001b[0;31m        \u001b[0mx\u001b[0m \u001b[0;34m=\u001b[0m \u001b[0mself\u001b[0m\u001b[0;34m.\u001b[0m\u001b[0mdowns\u001b[0m\u001b[0;34m(\u001b[0m\u001b[0mx\u001b[0m\u001b[0;34m)\u001b[0m\u001b[0;34m\u001b[0m\u001b[0;34m\u001b[0m\u001b[0m\n",
            "\u001b[0m\u001b[0;32m     28 \u001b[0;31m        \u001b[0msaved\u001b[0m \u001b[0;34m+=\u001b[0m \u001b[0;34m[\u001b[0m\u001b[0mp\u001b[0m\u001b[0;34m.\u001b[0m\u001b[0msaved\u001b[0m \u001b[0;32mfor\u001b[0m \u001b[0mo\u001b[0m \u001b[0;32min\u001b[0m \u001b[0mself\u001b[0m\u001b[0;34m.\u001b[0m\u001b[0mdowns\u001b[0m \u001b[0;32mfor\u001b[0m \u001b[0mp\u001b[0m \u001b[0;32min\u001b[0m \u001b[0mo\u001b[0m\u001b[0;34m]\u001b[0m\u001b[0;34m\u001b[0m\u001b[0;34m\u001b[0m\u001b[0m\n",
            "\u001b[0m\n",
            "ipdb> n\n",
            "> \u001b[0;32m<ipython-input-23-734baf59ad32>\u001b[0m(28)\u001b[0;36mforward\u001b[0;34m()\u001b[0m\n",
            "\u001b[0;32m     27 \u001b[0;31m        \u001b[0mx\u001b[0m \u001b[0;34m=\u001b[0m \u001b[0mself\u001b[0m\u001b[0;34m.\u001b[0m\u001b[0mdowns\u001b[0m\u001b[0;34m(\u001b[0m\u001b[0mx\u001b[0m\u001b[0;34m)\u001b[0m\u001b[0;34m\u001b[0m\u001b[0;34m\u001b[0m\u001b[0m\n",
            "\u001b[0m\u001b[0;32m---> 28 \u001b[0;31m        \u001b[0msaved\u001b[0m \u001b[0;34m+=\u001b[0m \u001b[0;34m[\u001b[0m\u001b[0mp\u001b[0m\u001b[0;34m.\u001b[0m\u001b[0msaved\u001b[0m \u001b[0;32mfor\u001b[0m \u001b[0mo\u001b[0m \u001b[0;32min\u001b[0m \u001b[0mself\u001b[0m\u001b[0;34m.\u001b[0m\u001b[0mdowns\u001b[0m \u001b[0;32mfor\u001b[0m \u001b[0mp\u001b[0m \u001b[0;32min\u001b[0m \u001b[0mo\u001b[0m\u001b[0;34m]\u001b[0m\u001b[0;34m\u001b[0m\u001b[0;34m\u001b[0m\u001b[0m\n",
            "\u001b[0m\u001b[0;32m     29 \u001b[0;31m        \u001b[0mx\u001b[0m \u001b[0;34m=\u001b[0m \u001b[0mself\u001b[0m\u001b[0;34m.\u001b[0m\u001b[0mmid_block\u001b[0m\u001b[0;34m(\u001b[0m\u001b[0mx\u001b[0m\u001b[0;34m)\u001b[0m\u001b[0;34m\u001b[0m\u001b[0;34m\u001b[0m\u001b[0m\n",
            "\u001b[0m\n",
            "ipdb> x.shape\n",
            "torch.Size([64, 256, 4, 4])\n",
            "ipdb> self.down\n",
            "*** AttributeError: 'UNet2DModel' object has no attribute 'down'\n",
            "ipdb> self.downs\n",
            "Sequential(\n",
            "  (0): Sequential(\n",
            "    (0): SavedResBlock(\n",
            "      (convs): Sequential(\n",
            "        (0): Sequential(\n",
            "          (0): BatchNorm2d(32, eps=1e-05, momentum=0.1, affine=True, track_running_stats=True)\n",
            "          (1): SiLU()\n",
            "          (2): Conv2d(32, 32, kernel_size=(3, 3), stride=(1, 1), padding=(1, 1))\n",
            "        )\n",
            "        (1): Sequential(\n",
            "          (0): BatchNorm2d(32, eps=1e-05, momentum=0.1, affine=True, track_running_stats=True)\n",
            "          (1): SiLU()\n",
            "          (2): Conv2d(32, 32, kernel_size=(3, 3), stride=(1, 1), padding=(1, 1))\n",
            "        )\n",
            "      )\n",
            "    )\n",
            "    (1): SavedResBlock(\n",
            "      (convs): Sequential(\n",
            "        (0): Sequential(\n",
            "          (0): BatchNorm2d(32, eps=1e-05, momentum=0.1, affine=True, track_running_stats=True)\n",
            "          (1): SiLU()\n",
            "          (2): Conv2d(32, 32, kernel_size=(3, 3), stride=(1, 1), padding=(1, 1))\n",
            "        )\n",
            "        (1): Sequential(\n",
            "          (0): BatchNorm2d(32, eps=1e-05, momentum=0.1, affine=True, track_running_stats=True)\n",
            "          (1): SiLU()\n",
            "          (2): Conv2d(32, 32, kernel_size=(3, 3), stride=(1, 1), padding=(1, 1))\n",
            "        )\n",
            "      )\n",
            "    )\n",
            "    (2): SavedConv(32, 32, kernel_size=(3, 3), stride=(2, 2), padding=(1, 1))\n",
            "  )\n",
            "  (1): Sequential(\n",
            "    (0): SavedResBlock(\n",
            "      (convs): Sequential(\n",
            "        (0): Sequential(\n",
            "          (0): BatchNorm2d(32, eps=1e-05, momentum=0.1, affine=True, track_running_stats=True)\n",
            "          (1): SiLU()\n",
            "          (2): Conv2d(32, 64, kernel_size=(3, 3), stride=(1, 1), padding=(1, 1))\n",
            "        )\n",
            "        (1): Sequential(\n",
            "          (0): BatchNorm2d(64, eps=1e-05, momentum=0.1, affine=True, track_running_stats=True)\n",
            "          (1): SiLU()\n",
            "          (2): Conv2d(64, 64, kernel_size=(3, 3), stride=(1, 1), padding=(1, 1))\n",
            "        )\n",
            "      )\n",
            "      (idconv): Conv2d(32, 64, kernel_size=(1, 1), stride=(1, 1))\n",
            "    )\n",
            "    (1): SavedResBlock(\n",
            "      (convs): Sequential(\n",
            "        (0): Sequential(\n",
            "          (0): BatchNorm2d(64, eps=1e-05, momentum=0.1, affine=True, track_running_stats=True)\n",
            "          (1): SiLU()\n",
            "          (2): Conv2d(64, 64, kernel_size=(3, 3), stride=(1, 1), padding=(1, 1))\n",
            "        )\n",
            "        (1): Sequential(\n",
            "          (0): BatchNorm2d(64, eps=1e-05, momentum=0.1, affine=True, track_running_stats=True)\n",
            "          (1): SiLU()\n",
            "          (2): Conv2d(64, 64, kernel_size=(3, 3), stride=(1, 1), padding=(1, 1))\n",
            "        )\n",
            "      )\n",
            "    )\n",
            "    (2): SavedConv(64, 64, kernel_size=(3, 3), stride=(2, 2), padding=(1, 1))\n",
            "  )\n",
            "  (2): Sequential(\n",
            "    (0): SavedResBlock(\n",
            "      (convs): Sequential(\n",
            "        (0): Sequential(\n",
            "          (0): BatchNorm2d(64, eps=1e-05, momentum=0.1, affine=True, track_running_stats=True)\n",
            "          (1): SiLU()\n",
            "          (2): Conv2d(64, 128, kernel_size=(3, 3), stride=(1, 1), padding=(1, 1))\n",
            "        )\n",
            "        (1): Sequential(\n",
            "          (0): BatchNorm2d(128, eps=1e-05, momentum=0.1, affine=True, track_running_stats=True)\n",
            "          (1): SiLU()\n",
            "          (2): Conv2d(128, 128, kernel_size=(3, 3), stride=(1, 1), padding=(1, 1))\n",
            "        )\n",
            "      )\n",
            "      (idconv): Conv2d(64, 128, kernel_size=(1, 1), stride=(1, 1))\n",
            "    )\n",
            "    (1): SavedResBlock(\n",
            "      (convs): Sequential(\n",
            "        (0): Sequential(\n",
            "          (0): BatchNorm2d(128, eps=1e-05, momentum=0.1, affine=True, track_running_stats=True)\n",
            "          (1): SiLU()\n",
            "          (2): Conv2d(128, 128, kernel_size=(3, 3), stride=(1, 1), padding=(1, 1))\n",
            "        )\n",
            "        (1): Sequential(\n",
            "          (0): BatchNorm2d(128, eps=1e-05, momentum=0.1, affine=True, track_running_stats=True)\n",
            "          (1): SiLU()\n",
            "          (2): Conv2d(128, 128, kernel_size=(3, 3), stride=(1, 1), padding=(1, 1))\n",
            "        )\n",
            "      )\n",
            "    )\n",
            "    (2): SavedConv(128, 128, kernel_size=(3, 3), stride=(2, 2), padding=(1, 1))\n",
            "  )\n",
            "  (3): Sequential(\n",
            "    (0): SavedResBlock(\n",
            "      (convs): Sequential(\n",
            "        (0): Sequential(\n",
            "          (0): BatchNorm2d(128, eps=1e-05, momentum=0.1, affine=True, track_running_stats=True)\n",
            "          (1): SiLU()\n",
            "          (2): Conv2d(128, 256, kernel_size=(3, 3), stride=(1, 1), padding=(1, 1))\n",
            "        )\n",
            "        (1): Sequential(\n",
            "          (0): BatchNorm2d(256, eps=1e-05, momentum=0.1, affine=True, track_running_stats=True)\n",
            "          (1): SiLU()\n",
            "          (2): Conv2d(256, 256, kernel_size=(3, 3), stride=(1, 1), padding=(1, 1))\n",
            "        )\n",
            "      )\n",
            "      (idconv): Conv2d(128, 256, kernel_size=(1, 1), stride=(1, 1))\n",
            "    )\n",
            "    (1): SavedResBlock(\n",
            "      (convs): Sequential(\n",
            "        (0): Sequential(\n",
            "          (0): BatchNorm2d(256, eps=1e-05, momentum=0.1, affine=True, track_running_stats=True)\n",
            "          (1): SiLU()\n",
            "          (2): Conv2d(256, 256, kernel_size=(3, 3), stride=(1, 1), padding=(1, 1))\n",
            "        )\n",
            "        (1): Sequential(\n",
            "          (0): BatchNorm2d(256, eps=1e-05, momentum=0.1, affine=True, track_running_stats=True)\n",
            "          (1): SiLU()\n",
            "          (2): Conv2d(256, 256, kernel_size=(3, 3), stride=(1, 1), padding=(1, 1))\n",
            "        )\n",
            "      )\n",
            "    )\n",
            "  )\n",
            ")\n",
            "ipdb> l\n",
            "\u001b[1;32m     23 \u001b[0m    \u001b[0;32mdef\u001b[0m \u001b[0mforward\u001b[0m\u001b[0;34m(\u001b[0m\u001b[0mself\u001b[0m\u001b[0;34m,\u001b[0m \u001b[0minp\u001b[0m\u001b[0;34m)\u001b[0m\u001b[0;34m:\u001b[0m\u001b[0;34m\u001b[0m\u001b[0;34m\u001b[0m\u001b[0m\n",
            "\u001b[1;32m     24 \u001b[0m        \u001b[0mst\u001b[0m\u001b[0;34m(\u001b[0m\u001b[0;34m)\u001b[0m\u001b[0;34m\u001b[0m\u001b[0;34m\u001b[0m\u001b[0m\n",
            "\u001b[1;32m     25 \u001b[0m        \u001b[0mx\u001b[0m \u001b[0;34m=\u001b[0m \u001b[0mself\u001b[0m\u001b[0;34m.\u001b[0m\u001b[0mconv_in\u001b[0m\u001b[0;34m(\u001b[0m\u001b[0minp\u001b[0m\u001b[0;34m[\u001b[0m\u001b[0;36m0\u001b[0m\u001b[0;34m]\u001b[0m\u001b[0;34m)\u001b[0m\u001b[0;34m\u001b[0m\u001b[0;34m\u001b[0m\u001b[0m\n",
            "\u001b[1;32m     26 \u001b[0m        \u001b[0msaved\u001b[0m \u001b[0;34m=\u001b[0m \u001b[0;34m[\u001b[0m\u001b[0mx\u001b[0m\u001b[0;34m]\u001b[0m\u001b[0;34m\u001b[0m\u001b[0;34m\u001b[0m\u001b[0m\n",
            "\u001b[1;32m     27 \u001b[0m        \u001b[0mx\u001b[0m \u001b[0;34m=\u001b[0m \u001b[0mself\u001b[0m\u001b[0;34m.\u001b[0m\u001b[0mdowns\u001b[0m\u001b[0;34m(\u001b[0m\u001b[0mx\u001b[0m\u001b[0;34m)\u001b[0m\u001b[0;34m\u001b[0m\u001b[0;34m\u001b[0m\u001b[0m\n",
            "\u001b[0;32m---> 28 \u001b[0;31m        \u001b[0msaved\u001b[0m \u001b[0;34m+=\u001b[0m \u001b[0;34m[\u001b[0m\u001b[0mp\u001b[0m\u001b[0;34m.\u001b[0m\u001b[0msaved\u001b[0m \u001b[0;32mfor\u001b[0m \u001b[0mo\u001b[0m \u001b[0;32min\u001b[0m \u001b[0mself\u001b[0m\u001b[0;34m.\u001b[0m\u001b[0mdowns\u001b[0m \u001b[0;32mfor\u001b[0m \u001b[0mp\u001b[0m \u001b[0;32min\u001b[0m \u001b[0mo\u001b[0m\u001b[0;34m]\u001b[0m\u001b[0;34m\u001b[0m\u001b[0;34m\u001b[0m\u001b[0m\n",
            "\u001b[0m\u001b[1;32m     29 \u001b[0m        \u001b[0mx\u001b[0m \u001b[0;34m=\u001b[0m \u001b[0mself\u001b[0m\u001b[0;34m.\u001b[0m\u001b[0mmid_block\u001b[0m\u001b[0;34m(\u001b[0m\u001b[0mx\u001b[0m\u001b[0;34m)\u001b[0m\u001b[0;34m\u001b[0m\u001b[0;34m\u001b[0m\u001b[0m\n",
            "\u001b[1;32m     30 \u001b[0m        \u001b[0;32mfor\u001b[0m \u001b[0mblock\u001b[0m \u001b[0;32min\u001b[0m \u001b[0mself\u001b[0m\u001b[0;34m.\u001b[0m\u001b[0mups\u001b[0m\u001b[0;34m:\u001b[0m \u001b[0mx\u001b[0m \u001b[0;34m=\u001b[0m \u001b[0mblock\u001b[0m\u001b[0;34m(\u001b[0m\u001b[0mx\u001b[0m\u001b[0;34m,\u001b[0m \u001b[0msaved\u001b[0m\u001b[0;34m)\u001b[0m\u001b[0;34m\u001b[0m\u001b[0;34m\u001b[0m\u001b[0m\n",
            "\u001b[1;32m     31 \u001b[0m        \u001b[0;32mreturn\u001b[0m \u001b[0mself\u001b[0m\u001b[0;34m.\u001b[0m\u001b[0mconv_out\u001b[0m\u001b[0;34m(\u001b[0m\u001b[0mx\u001b[0m\u001b[0;34m)\u001b[0m\u001b[0;34m\u001b[0m\u001b[0;34m\u001b[0m\u001b[0m\n",
            "\n",
            "ipdb> n\n",
            "> \u001b[0;32m<ipython-input-23-734baf59ad32>\u001b[0m(29)\u001b[0;36mforward\u001b[0;34m()\u001b[0m\n",
            "\u001b[0;32m     28 \u001b[0;31m        \u001b[0msaved\u001b[0m \u001b[0;34m+=\u001b[0m \u001b[0;34m[\u001b[0m\u001b[0mp\u001b[0m\u001b[0;34m.\u001b[0m\u001b[0msaved\u001b[0m \u001b[0;32mfor\u001b[0m \u001b[0mo\u001b[0m \u001b[0;32min\u001b[0m \u001b[0mself\u001b[0m\u001b[0;34m.\u001b[0m\u001b[0mdowns\u001b[0m \u001b[0;32mfor\u001b[0m \u001b[0mp\u001b[0m \u001b[0;32min\u001b[0m \u001b[0mo\u001b[0m\u001b[0;34m]\u001b[0m\u001b[0;34m\u001b[0m\u001b[0;34m\u001b[0m\u001b[0m\n",
            "\u001b[0m\u001b[0;32m---> 29 \u001b[0;31m        \u001b[0mx\u001b[0m \u001b[0;34m=\u001b[0m \u001b[0mself\u001b[0m\u001b[0;34m.\u001b[0m\u001b[0mmid_block\u001b[0m\u001b[0;34m(\u001b[0m\u001b[0mx\u001b[0m\u001b[0;34m)\u001b[0m\u001b[0;34m\u001b[0m\u001b[0;34m\u001b[0m\u001b[0m\n",
            "\u001b[0m\u001b[0;32m     30 \u001b[0;31m        \u001b[0;32mfor\u001b[0m \u001b[0mblock\u001b[0m \u001b[0;32min\u001b[0m \u001b[0mself\u001b[0m\u001b[0;34m.\u001b[0m\u001b[0mups\u001b[0m\u001b[0;34m:\u001b[0m \u001b[0mx\u001b[0m \u001b[0;34m=\u001b[0m \u001b[0mblock\u001b[0m\u001b[0;34m(\u001b[0m\u001b[0mx\u001b[0m\u001b[0;34m,\u001b[0m \u001b[0msaved\u001b[0m\u001b[0;34m)\u001b[0m\u001b[0;34m\u001b[0m\u001b[0;34m\u001b[0m\u001b[0m\n",
            "\u001b[0m\n",
            "ipdb> len(saved)\n",
            "12\n",
            "ipdb> self.downs[0]\n",
            "Sequential(\n",
            "  (0): SavedResBlock(\n",
            "    (convs): Sequential(\n",
            "      (0): Sequential(\n",
            "        (0): BatchNorm2d(32, eps=1e-05, momentum=0.1, affine=True, track_running_stats=True)\n",
            "        (1): SiLU()\n",
            "        (2): Conv2d(32, 32, kernel_size=(3, 3), stride=(1, 1), padding=(1, 1))\n",
            "      )\n",
            "      (1): Sequential(\n",
            "        (0): BatchNorm2d(32, eps=1e-05, momentum=0.1, affine=True, track_running_stats=True)\n",
            "        (1): SiLU()\n",
            "        (2): Conv2d(32, 32, kernel_size=(3, 3), stride=(1, 1), padding=(1, 1))\n",
            "      )\n",
            "    )\n",
            "  )\n",
            "  (1): SavedResBlock(\n",
            "    (convs): Sequential(\n",
            "      (0): Sequential(\n",
            "        (0): BatchNorm2d(32, eps=1e-05, momentum=0.1, affine=True, track_running_stats=True)\n",
            "        (1): SiLU()\n",
            "        (2): Conv2d(32, 32, kernel_size=(3, 3), stride=(1, 1), padding=(1, 1))\n",
            "      )\n",
            "      (1): Sequential(\n",
            "        (0): BatchNorm2d(32, eps=1e-05, momentum=0.1, affine=True, track_running_stats=True)\n",
            "        (1): SiLU()\n",
            "        (2): Conv2d(32, 32, kernel_size=(3, 3), stride=(1, 1), padding=(1, 1))\n",
            "      )\n",
            "    )\n",
            "  )\n",
            "  (2): SavedConv(32, 32, kernel_size=(3, 3), stride=(2, 2), padding=(1, 1))\n",
            ")\n",
            "ipdb> self.downs[0].saved\n",
            "*** AttributeError: 'Sequential' object has no attribute 'saved'\n",
            "ipdb> exit\n"
          ]
        },
        {
          "name": "stderr",
          "output_type": "stream",
          "text": [
            "\n",
            "PYDEV DEBUGGER WARNING:\n",
            "sys.settrace() should not be used when the debugger is being used.\n",
            "This may cause the debugger to stop working correctly.\n",
            "If this is needed, please check: \n",
            "http://pydev.blogspot.com/2007/06/why-cant-pydev-debugger-work-with.html\n",
            "to see how to restore the debug tracing back correctly.\n",
            "Call Location:\n",
            "  File \"/usr/lib/python3.10/bdb.py\", line 361, in set_quit\n",
            "    sys.settrace(None)\n",
            "\n"
          ]
        }
      ],
      "source": [
        "x = torch.randn(64, 1, 32, 32)\n",
        "out = model([x])"
      ]
    },
    {
      "cell_type": "markdown",
      "metadata": {
        "id": "8tfyFx7UT41Y"
      },
      "source": [
        "# Test Exps and Viz"
      ]
    },
    {
      "cell_type": "code",
      "execution_count": null,
      "metadata": {
        "colab": {
          "base_uri": "https://localhost:8080/"
        },
        "id": "eHRsySgOH42_",
        "outputId": "a15f07b8-32a9-46e4-d900-9828818f6879"
      },
      "outputs": [
        {
          "data": {
            "text/plain": [
              "[<matplotlib.lines.Line2D at 0x7f5d0fce7ca0>]"
            ]
          },
          "execution_count": 39,
          "metadata": {},
          "output_type": "execute_result"
        },
        {
          "data": {
            "image/png": "[encoded data removed]",
            "text/plain": [
              "<Figure size 640x480 with 1 Axes>"
            ]
          },
          "metadata": {},
          "output_type": "display_data"
        }
      ],
      "source": [
        "x = torch.randn(16)\n",
        "plt.plot(x)\n",
        "plt.plot(nn.SiLU()(x))"
      ]
    },
    {
      "cell_type": "code",
      "execution_count": null,
      "metadata": {
        "colab": {
          "base_uri": "https://localhost:8080/"
        },
        "id": "GN2XJP-lSyyJ",
        "outputId": "f8e2d75e-163b-4706-881b-e5c5ab2190c4"
      },
      "outputs": [
        {
          "data": {
            "text/plain": [
              "[<matplotlib.lines.Line2D at 0x7f5d0fcf2e00>]"
            ]
          },
          "execution_count": 40,
          "metadata": {},
          "output_type": "execute_result"
        },
        {
          "data": {
            "image/png": "[encoded data removed]",
            "text/plain": [
              "<Figure size 640x480 with 1 Axes>"
            ]
          },
          "metadata": {},
          "output_type": "display_data"
        }
      ],
      "source": [
        "x = torch.linspace(-1, 1, 60)\n",
        "plt.plot(x)\n",
        "plt.plot(nn.SiLU()(x))"
      ]
    },
    {
      "cell_type": "markdown",
      "metadata": {
        "id": "VYomwkXUH1fq"
      },
      "source": [
        "# Mine"
      ]
    },
    {
      "cell_type": "markdown",
      "metadata": {
        "id": "y_96hJPMOWGT"
      },
      "source": [
        "**Plan**\n",
        "\n",
        "3 versions of diffusion unet should be implemented.\n",
        "1. What ever is implemented in diffusers\n",
        "2. Replace Unet Conv with my implementation of pre act conv\n",
        "3. Tweak the arch in a way that instead of adding skip connections everywhere, just limit it to the starting block."
      ]
    },
    {
      "cell_type": "code",
      "execution_count": null,
      "metadata": {
        "id": "l1xv2IsxH5DX"
      },
      "outputs": [],
      "source": [
        "# Basic Pre Act Conv -\n",
        "# Saved Conv\n",
        "# Down Block\n",
        "# Up Block"
      ]
    },
    {
      "cell_type": "code",
      "execution_count": 5,
      "metadata": {
        "id": "MDzI7qVbH48I"
      },
      "outputs": [],
      "source": [
        "def _pre_conv(ni, nf, kernel_size = 3, stride = 1, act = nn.SiLU, norm = nn.BatchNorm2d):\n",
        "  layers = []\n",
        "  if act: layers.append(act())\n",
        "  if norm: layers.append(norm(ni))\n",
        "  layers.append(nn.Conv2d(ni, nf, kernel_size, stride = stride, padding = kernel_size//2, bias = True))\n",
        "  return nn.Sequential(*layers)\n",
        "\n",
        "class ResBlock(nn.Module):\n",
        "  def __init__(self, ni, nf, kernel_size = 3, stride = 1, act = nn.SiLU, norm = nn.BatchNorm2d):\n",
        "    super().__init__()\n",
        "    self.id_conv = nn.Conv2d(ni, nf, kernel_size = 1, stride = stride) if ni != nf else fc.noop\n",
        "    self.convs = nn.Sequential(\n",
        "        _pre_conv(ni, nf, kernel_size, 1, act, norm),\n",
        "        _pre_conv(nf, nf, kernel_size, stride, act, norm)\n",
        "    )\n",
        "\n",
        "  def forward(self, x): return self.id_conv(x) + self.convs(x)"
      ]
    },
    {
      "cell_type": "code",
      "execution_count": 6,
      "metadata": {
        "id": "Lk0NRL4XS0CI"
      },
      "outputs": [],
      "source": [
        "class SM:\n",
        "  def forward(self, *args, **kwargs):\n",
        "    self.saved = super().forward(*args, **kwargs)\n",
        "    return self.saved\n",
        "\n",
        "class SConv(SM, nn.Conv2d): pass\n",
        "class SResBlock(SM, ResBlock): pass"
      ]
    },
    {
      "cell_type": "code",
      "execution_count": 7,
      "metadata": {
        "id": "uRjmssYQW_0v"
      },
      "outputs": [],
      "source": [
        "def down_block(ni, nf, n_layers = 1, add_down = True, act = nn.SiLU, norm = nn.BatchNorm2d):\n",
        "  layers = [SResBlock(ni if i == 0 else nf, nf, act = act, norm = norm) for i in range(n_layers)]\n",
        "  if add_down == True: layers.append(SConv(nf, nf, kernel_size = 3, stride = 2, padding = 1))\n",
        "  return nn.Sequential(*layers)\n",
        "\n",
        "def up_conv(ni, nf, kernel_size = 3):\n",
        "  return nn.Sequential(nn.Upsample(scale_factor = 2), nn.Conv2d(ni, nf, stride = 1, kernel_size = kernel_size, padding = kernel_size//2))\n",
        "\n",
        "class UpBlock(nn.Module):\n",
        "  def __init__(self, ni, nf, prev_nf, add_up = True, n_layers = 2, act = nn.SiLU, norm = nn.BatchNorm2d):\n",
        "    super().__init__()\n",
        "    self.blocks = nn.ModuleList([])\n",
        "    for i in range(n_layers):\n",
        "      if i == 0: inc = ni + nf\n",
        "      elif i == n_layers - 1: inc = prev_nf + nf\n",
        "      else: inc = 2*nf\n",
        "      self.blocks.append(ResBlock(inc, nf, act = act, norm = norm))\n",
        "\n",
        "    self.up = up_conv(nf, nf) if add_up else nn.Identity()\n",
        "\n",
        "  def forward(self, x, ups):\n",
        "    for block in self.blocks: x = block(torch.cat([ups.pop(), x], dim = 1))\n",
        "    return self.up(x)"
      ]
    },
    {
      "cell_type": "code",
      "execution_count": 8,
      "metadata": {
        "id": "YmiZbOc9dZzj"
      },
      "outputs": [],
      "source": [
        "class DiffusionUNET(nn.Module):\n",
        "  def __init__(self, in_channels = FMNIST_IN_CHANNELS, out_channels = FMNIST_OUT_CHANNELS,\n",
        "                                                    nfs = [64, 128, 256, 512], n_layers = 2):\n",
        "    super().__init__()\n",
        "    self.first_c = nn.Conv2d(in_channels, nfs[0], kernel_size = 3, padding = 1, bias = True)\n",
        "    downs, ni = [], nfs[0]\n",
        "    for i, nf in enumerate(nfs):\n",
        "      downs.append(down_block(ni, nf, n_layers = n_layers, add_down = False if i == (len(nfs)-1) else True))\n",
        "      ni = nf\n",
        "    self.downs = nn.Sequential(*downs)\n",
        "    self.mid_c = ResBlock(nf, nf)\n",
        "    ups, ni, nfs  = [], nfs[-1], list(reversed(nfs))\n",
        "    for i, nf in enumerate(nfs):\n",
        "      prev_nf = nfs[i + 1] if i < len(nfs) - 1 else nfs[i]\n",
        "      ups.append(UpBlock(ni, nf, prev_nf, add_up = True if i < len(nfs) - 1 else False, n_layers = n_layers + 1))\n",
        "      ni = nf\n",
        "    self.ups = nn.ModuleList(ups)\n",
        "    self.final_c = _pre_conv(nfs[-1], out_channels)\n",
        "\n",
        "  def forward(self, inp):\n",
        "    x, t = inp\n",
        "    x = self.first_c(x)\n",
        "    acts = [x]\n",
        "    x = self.downs(x)\n",
        "    x = self.mid_c(x)\n",
        "    acts += [i.saved for j in self.downs for i in j]\n",
        "    for up in self.ups: x = up(x, acts)\n",
        "    return self.final_c(x)"
      ]
    },
    {
      "cell_type": "code",
      "execution_count": null,
      "metadata": {
        "id": "_joP1Mq2Np6u"
      },
      "outputs": [],
      "source": [
        "model = DiffusionUNET(nfs = [64, 128, 256])\n",
        "x = torch.randn(4, 1, 32, 32)\n",
        "out = model(x)"
      ]
    },
    {
      "cell_type": "code",
      "execution_count": null,
      "metadata": {
        "colab": {
          "base_uri": "https://localhost:8080/"
        },
        "id": "AcxCY5jlWECF",
        "outputId": "609fe54e-98d1-4b56-a9d7-9d3082ad5b93"
      },
      "outputs": [
        {
          "data": {
            "text/plain": [
              "torch.Size([4, 1, 32, 32])"
            ]
          },
          "execution_count": 162,
          "metadata": {},
          "output_type": "execute_result"
        }
      ],
      "source": [
        "out.shape"
      ]
    },
    {
      "cell_type": "code",
      "execution_count": null,
      "metadata": {
        "id": "iXxjoORgdisy"
      },
      "outputs": [],
      "source": [
        "x, y = next(iter(dls.train))\n",
        "(xout, t), y = noisify_img(DDPMPrep(beta_max=0.01), x)"
      ]
    },
    {
      "cell_type": "code",
      "execution_count": null,
      "metadata": {
        "colab": {
          "base_uri": "https://localhost:8080/",
          "height": 752
        },
        "id": "b1foH7ImdkS4",
        "outputId": "cd30ee35-8c6d-4a55-f26c-2b012dc87ab7"
      },
      "outputs": [
        {
          "data": {
            "image/png": "[encoded data removed]",
            "text/plain": [
              "<Figure size 900x900 with 9 Axes>"
            ]
          },
          "metadata": {},
          "output_type": "display_data"
        }
      ],
      "source": [
        "show_images(xout[:9], titles= [str(i.item()) for i in t[:9]])"
      ]
    },
    {
      "cell_type": "code",
      "execution_count": null,
      "metadata": {
        "id": "lSNDVO7cX0bU"
      },
      "outputs": [],
      "source": [
        "lr_max, epochs = 5e-03, 13\n",
        "cbs = [\n",
        "          DeviceCB(torch.device('cuda' if torch.cuda.is_available() else 'cpu')),\n",
        "          MetricsCB(),\n",
        "          ProgressCB(plot = True),\n",
        "          DDPMPrep(beta_max=0.01),\n",
        "          BatchSchedulerCB(partial(lr_scheduler.OneCycleLR, max_lr = lr_max, epochs = epochs, steps_per_epoch = len(dls.train))),\n",
        "      ]\n",
        "model =  DiffusionUNET(nfs = [64, 128, 256])\n",
        "learner = AccLearner(model, dls, loss_func = flatten_mse, lr = lr_max, cbs = cbs, opt_func = partial(torch.optim.AdamW, eps = 1e-05))"
      ]
    },
    {
      "cell_type": "code",
      "execution_count": null,
      "metadata": {
        "colab": {
          "background_save": true,
          "base_uri": "https://localhost:8080/",
          "height": 57
        },
        "id": "OTgQ_ubGeoZX",
        "outputId": "dc97fbd2-83b8-4dd9-9bf3-36a375fe8d63"
      },
      "outputs": [
        {
          "data": {
            "text/html": [
              "\n",
              "<style>\n",
              "    /* Turns off some styling */\n",
              "    progress {\n",
              "        /* gets rid of default border in Firefox and Opera. */\n",
              "        border: none;\n",
              "        /* Needs to be in here for Safari polyfill so background images work as expected. */\n",
              "        background-size: auto;\n",
              "    }\n",
              "    progress:not([value]), progress:not([value])::-webkit-progress-bar {\n",
              "        background: repeating-linear-gradient(45deg, #7e7e7e, #7e7e7e 10px, #5c5c5c 10px, #5c5c5c 20px);\n",
              "    }\n",
              "    .progress-bar-interrupted, .progress-bar-interrupted::-webkit-progress-bar {\n",
              "        background: #F44336;\n",
              "    }\n",
              "</style>\n"
            ],
            "text/plain": [
              "<IPython.core.display.HTML object>"
            ]
          },
          "metadata": {},
          "output_type": "display_data"
        },
        {
          "data": {
            "text/html": [
              "\n",
              "    <div>\n",
              "      <progress value='0' class='' max='13' style='width:300px; height:20px; vertical-align: middle;'></progress>\n",
              "      0.00% [0/13 00:00&lt;?]\n",
              "    </div>\n",
              "    \n",
              "\n",
              "\n",
              "    <div>\n",
              "      <progress value='0' class='' max='235' style='width:300px; height:20px; vertical-align: middle;'></progress>\n",
              "      0.00% [0/235 00:00&lt;?]\n",
              "    </div>\n",
              "    "
            ],
            "text/plain": [
              "<IPython.core.display.HTML object>"
            ]
          },
          "metadata": {},
          "output_type": "display_data"
        }
      ],
      "source": [
        "learner.fit(epochs)"
      ]
    },
    {
      "cell_type": "markdown",
      "source": [
        "# With Timestep implementation"
      ],
      "metadata": {
        "id": "-YDojWq5x1TK"
      }
    },
    {
      "cell_type": "code",
      "execution_count": 51,
      "metadata": {
        "id": "QL8NtRnffFM4"
      },
      "outputs": [],
      "source": [
        "def get_tembs(nsteps, nemb = 32, max_steps = 1000):\n",
        "  tsteps = torch.linspace(-10, 10, nsteps)\n",
        "  points = -1*math.log(max_steps) * torch.linspace(0, 1, nemb//2)\n",
        "  points_dist = tsteps[:, None] * points[None, :].exp()\n",
        "  return torch.cat((torch.sin(points_dist), torch.cos(points_dist)), dim = 1)"
      ]
    },
    {
      "cell_type": "code",
      "source": [
        "x, y = next(iter(dls.train))\n",
        "x = x[:16]\n",
        "(xout, t), y = noisify_img(DDPMPrep(n_steps = 100, beta_max=0.01), x)\n",
        "print(x.mean(), x.std(), x.min(), x.max(), xout.mean(), xout.std(), y.mean(), y.std())\n",
        "show_images(xout[:9], titles= [str(i.item()) for i in t[:9]])"
      ],
      "metadata": {
        "colab": {
          "base_uri": "https://localhost:8080/",
          "height": 790
        },
        "id": "ZeVeVdRWx018",
        "outputId": "ce606809-3c22-480b-c14a-cfa1958d7d09"
      },
      "execution_count": 52,
      "outputs": [
        {
          "output_type": "stream",
          "name": "stdout",
          "text": [
            "tensor(-0.4438) tensor(0.6787) tensor(-1.) tensor(0.9895) tensor(-0.4036) tensor(0.7425) tensor(0.0022) tensor(1.0003)\n"
          ]
        },
        {
          "output_type": "display_data",
          "data": {
            "text/plain": [
              "<Figure size 900x900 with 9 Axes>"
            ],
            "image/png": "[encoded data removed]"
          },
          "metadata": {}
        }
      ]
    },
    {
      "cell_type": "code",
      "source": [
        "class EmbResBlock(nn.Module):\n",
        "  def __init__(self, ni, nf, n_emb, kernel_size = 3, stride = 1, act = nn.SiLU, norm = nn.BatchNorm2d):\n",
        "    super().__init__()\n",
        "    self.emb_proj = nn.Linear(n_emb, 2*nf)\n",
        "    self.id_conv = nn.Conv2d(ni, nf, kernel_size = 1, stride = stride) if ni != nf else fc.noop\n",
        "    self.conv1 = _pre_conv(ni, nf, kernel_size, 1, act, norm)\n",
        "    self.conv2 = _pre_conv(nf, nf, kernel_size, stride, act, norm)\n",
        "\n",
        "  def forward(self, x, t_emb):\n",
        "    res = self.conv1(x)\n",
        "    t_emb = self.emb_proj(t_emb)[:, :, None, None]  # bs, 2*nf\n",
        "    scale, shift = t_emb.chunk(2, dim = 1)\n",
        "    res = res + res * scale + shift\n",
        "    return self.id_conv(x) + self.conv2(res)\n",
        "\n",
        "class SEResBlock(SM, EmbResBlock): pass\n",
        "\n",
        "class DownBlock(nn.Module):\n",
        "  def __init__(self, ni, nf, n_emb, n_layers = 1, add_down = True, act = nn.SiLU, norm = nn.BatchNorm2d):\n",
        "    super().__init__()\n",
        "    self.layers = nn.ModuleList([SEResBlock(ni if i == 0 else nf, nf, n_emb = n_emb, act = act, norm = norm) for i in range(n_layers)])\n",
        "    self.f_layer = SConv(nf, nf, kernel_size = 3, stride = 2, padding = 1) if add_down == True else fc.noop\n",
        "\n",
        "  def forward(self, x, t_emb):\n",
        "    for layer in self.layers:\n",
        "      x = layer(x, t_emb)\n",
        "    return self.f_layer(x)\n",
        "\n",
        "  def get_acts(self):\n",
        "    acts = [l.saved for l in self.layers]\n",
        "    if hasattr(self.f_layer, 'saved'): acts.append(self.f_layer.saved)\n",
        "    return acts\n",
        "\n",
        "def up_conv(ni, nf, kernel_size = 3):\n",
        "  return nn.Sequential(nn.Upsample(scale_factor = 2), nn.Conv2d(ni, nf, stride = 1, kernel_size = kernel_size, padding = kernel_size//2))\n",
        "\n",
        "class UpBlock(nn.Module):\n",
        "  def __init__(self, ni, nf, prev_nf, n_emb, add_up = True, n_layers = 2, act = nn.SiLU, norm = nn.BatchNorm2d):\n",
        "    super().__init__()\n",
        "    self.blocks = nn.ModuleList([])\n",
        "    for i in range(n_layers):\n",
        "      if i == 0: inc = ni + nf\n",
        "      elif i == n_layers - 1: inc = prev_nf + nf\n",
        "      else: inc = 2*nf\n",
        "      self.blocks.append(EmbResBlock(inc, nf, n_emb = n_emb, act = act, norm = norm))\n",
        "\n",
        "    self.up = up_conv(nf, nf) if add_up else nn.Identity()\n",
        "\n",
        "  def forward(self, x, ups, t_emb):\n",
        "    for block in self.blocks: x = block(torch.cat([ups.pop(), x], dim = 1), t_emb)\n",
        "    return self.up(x)\n",
        "\n",
        "class DiffusionUNET(nn.Module):\n",
        "  def __init__(self, in_channels = FMNIST_IN_CHANNELS, out_channels = FMNIST_OUT_CHANNELS,\n",
        "                                                  nfs = [64, 128, 256, 512], n_layers = 2, emb_dim = 16, n_steps = 1000):\n",
        "    super().__init__()\n",
        "    self.emb_dim = emb_dim\n",
        "    self.n_steps = n_steps\n",
        "    n_emb = nfs[0]*4\n",
        "    self.emb_mlp = nn.Sequential(nn.Linear(emb_dim, n_emb, bias = True),\n",
        "                                 nn.BatchNorm1d(n_emb),\n",
        "                                 nn.Linear(n_emb, n_emb, bias = True))\n",
        "\n",
        "    self.first_c = nn.Conv2d(in_channels, nfs[0], kernel_size = 3, padding = 1, bias = True)\n",
        "    downs, ni = [], nfs[0]\n",
        "    for i, nf in enumerate(nfs):\n",
        "      downs.append(DownBlock(ni, nf, n_emb = n_emb, n_layers = n_layers, add_down = False if i == (len(nfs)-1) else True))\n",
        "      ni = nf\n",
        "\n",
        "    self.downs = nn.Sequential(*downs)\n",
        "    self.mid_c = EmbResBlock(nf, nf, n_emb = n_emb)\n",
        "\n",
        "    ups, ni, nfs  = [], nfs[-1], list(reversed(nfs))\n",
        "    for i, nf in enumerate(nfs):\n",
        "      prev_nf = nfs[i + 1] if i < len(nfs) - 1 else nfs[i]\n",
        "      ups.append(UpBlock(ni, nf, prev_nf, n_emb = n_emb, add_up = True if i < len(nfs) - 1 else False, n_layers = n_layers + 1))\n",
        "      ni = nf\n",
        "    self.ups = nn.ModuleList(ups)\n",
        "    self.final_c = _pre_conv(nfs[-1], out_channels) # EmbResBlock(nf, nf, n_emb = n_emb)\n",
        "\n",
        "  def forward(self, inp):\n",
        "    x, ts = inp\n",
        "    tembs = get_tembs(self.n_steps, self.emb_dim).to(x.device)[ts]\n",
        "\n",
        "    t_emb = self.emb_mlp(tembs) # bs, 4*nfs[0]\n",
        "    x = self.first_c(x)\n",
        "    acts = [x]\n",
        "    for block in self.downs:\n",
        "      x = block(x, t_emb)\n",
        "    x = self.mid_c(x, t_emb)\n",
        "    # acts += [i.saved for j in self.downs for i in j]\n",
        "    for i in self.downs: acts += i.get_acts()\n",
        "    for up in self.ups: x = up(x, acts, t_emb)\n",
        "    return self.final_c(x)"
      ],
      "metadata": {
        "id": "Z-5ujJtux6Po"
      },
      "execution_count": 53,
      "outputs": []
    },
    {
      "cell_type": "code",
      "source": [
        "lr_max, epochs = 1e-03, 10\n",
        "dls = DataLoaders.from_dd(tds, batch_size = 256, num_workers=2)\n",
        "cbs = [\n",
        "          DeviceCB(torch.device('cuda' if torch.cuda.is_available() else 'cpu')),\n",
        "          MetricsCB(),\n",
        "          ProgressCB(plot = True),\n",
        "          DDPMPrep(n_steps = 1000, beta_max=0.01),\n",
        "          BatchSchedulerCB(partial(lr_scheduler.OneCycleLR, max_lr = lr_max, epochs = epochs, steps_per_epoch = len(dls.train))),\n",
        "      ]\n",
        "model =  DiffusionUNET(nfs = [64, 128, 256, 512])\n",
        "learner = AccLearner(model, dls, loss_func = flatten_mse, lr = lr_max, cbs = cbs, opt_func = partial(torch.optim.AdamW, eps = 1e-05))\n",
        "learner.fit(epochs)"
      ],
      "metadata": {
        "colab": {
          "base_uri": "https://localhost:8080/",
          "height": 1000
        },
        "id": "AnIYwMefx9n8",
        "outputId": "c43ebc70-bf78-42fa-cb31-bd72292bd554"
      },
      "execution_count": 56,
      "outputs": [
        {
          "output_type": "display_data",
          "data": {
            "text/plain": [
              "<IPython.core.display.HTML object>"
            ],
            "text/html": [
              "\n",
              "<style>\n",
              "    /* Turns off some styling */\n",
              "    progress {\n",
              "        /* gets rid of default border in Firefox and Opera. */\n",
              "        border: none;\n",
              "        /* Needs to be in here for Safari polyfill so background images work as expected. */\n",
              "        background-size: auto;\n",
              "    }\n",
              "    progress:not([value]), progress:not([value])::-webkit-progress-bar {\n",
              "        background: repeating-linear-gradient(45deg, #7e7e7e, #7e7e7e 10px, #5c5c5c 10px, #5c5c5c 20px);\n",
              "    }\n",
              "    .progress-bar-interrupted, .progress-bar-interrupted::-webkit-progress-bar {\n",
              "        background: #F44336;\n",
              "    }\n",
              "</style>\n"
            ]
          },
          "metadata": {}
        },
        {
          "output_type": "display_data",
          "data": {
            "text/plain": [
              "<IPython.core.display.HTML object>"
            ],
            "text/html": [
              "<table border=\"1\" class=\"dataframe\">\n",
              "  <thead>\n",
              "    <tr style=\"text-align: left;\">\n",
              "      <th>loss</th>\n",
              "      <th>epoch</th>\n",
              "      <th>train</th>\n",
              "    </tr>\n",
              "  </thead>\n",
              "  <tbody>\n",
              "    <tr>\n",
              "      <td>0.153</td>\n",
              "      <td>0</td>\n",
              "      <td>train</td>\n",
              "    </tr>\n",
              "    <tr>\n",
              "      <td>0.072</td>\n",
              "      <td>0</td>\n",
              "      <td>eval</td>\n",
              "    </tr>\n",
              "    <tr>\n",
              "      <td>0.057</td>\n",
              "      <td>1</td>\n",
              "      <td>train</td>\n",
              "    </tr>\n",
              "    <tr>\n",
              "      <td>0.050</td>\n",
              "      <td>1</td>\n",
              "      <td>eval</td>\n",
              "    </tr>\n",
              "    <tr>\n",
              "      <td>0.046</td>\n",
              "      <td>2</td>\n",
              "      <td>train</td>\n",
              "    </tr>\n",
              "    <tr>\n",
              "      <td>0.049</td>\n",
              "      <td>2</td>\n",
              "      <td>eval</td>\n",
              "    </tr>\n",
              "    <tr>\n",
              "      <td>0.041</td>\n",
              "      <td>3</td>\n",
              "      <td>train</td>\n",
              "    </tr>\n",
              "    <tr>\n",
              "      <td>0.041</td>\n",
              "      <td>3</td>\n",
              "      <td>eval</td>\n",
              "    </tr>\n",
              "    <tr>\n",
              "      <td>0.038</td>\n",
              "      <td>4</td>\n",
              "      <td>train</td>\n",
              "    </tr>\n",
              "    <tr>\n",
              "      <td>0.037</td>\n",
              "      <td>4</td>\n",
              "      <td>eval</td>\n",
              "    </tr>\n",
              "    <tr>\n",
              "      <td>0.037</td>\n",
              "      <td>5</td>\n",
              "      <td>train</td>\n",
              "    </tr>\n",
              "    <tr>\n",
              "      <td>0.035</td>\n",
              "      <td>5</td>\n",
              "      <td>eval</td>\n",
              "    </tr>\n",
              "    <tr>\n",
              "      <td>0.035</td>\n",
              "      <td>6</td>\n",
              "      <td>train</td>\n",
              "    </tr>\n",
              "    <tr>\n",
              "      <td>0.035</td>\n",
              "      <td>6</td>\n",
              "      <td>eval</td>\n",
              "    </tr>\n",
              "    <tr>\n",
              "      <td>0.034</td>\n",
              "      <td>7</td>\n",
              "      <td>train</td>\n",
              "    </tr>\n",
              "    <tr>\n",
              "      <td>0.034</td>\n",
              "      <td>7</td>\n",
              "      <td>eval</td>\n",
              "    </tr>\n",
              "    <tr>\n",
              "      <td>0.033</td>\n",
              "      <td>8</td>\n",
              "      <td>train</td>\n",
              "    </tr>\n",
              "    <tr>\n",
              "      <td>0.033</td>\n",
              "      <td>8</td>\n",
              "      <td>eval</td>\n",
              "    </tr>\n",
              "    <tr>\n",
              "      <td>0.033</td>\n",
              "      <td>9</td>\n",
              "      <td>train</td>\n",
              "    </tr>\n",
              "    <tr>\n",
              "      <td>0.032</td>\n",
              "      <td>9</td>\n",
              "      <td>eval</td>\n",
              "    </tr>\n",
              "  </tbody>\n",
              "</table>"
            ]
          },
          "metadata": {}
        },
        {
          "output_type": "display_data",
          "data": {
            "text/plain": [
              "<Figure size 600x400 with 1 Axes>"
            ],
            "image/png": "[encoded data removed]"
          },
          "metadata": {}
        }
      ]
    },
    {
      "cell_type": "code",
      "source": [
        "torch.save(learner.model, mdl_path/'diffusion_unet_v1.pkl')"
      ],
      "metadata": {
        "id": "0mCkYUHGyecG"
      },
      "execution_count": 14,
      "outputs": []
    },
    {
      "cell_type": "code",
      "source": [
        "torch.save(learner.model, mdl_path/'diffusion_unet_v2.pkl')"
      ],
      "metadata": {
        "id": "srS1sRgLXBA3"
      },
      "execution_count": 57,
      "outputs": []
    },
    {
      "cell_type": "code",
      "source": [
        "from google.colab import runtime\n",
        "runtime.unassign()"
      ],
      "metadata": {
        "id": "HzYMEMGk40e3"
      },
      "execution_count": null,
      "outputs": []
    },
    {
      "cell_type": "markdown",
      "source": [
        "# Test Sampling"
      ],
      "metadata": {
        "id": "LwEkOYlSF7af"
      }
    },
    {
      "cell_type": "code",
      "source": [
        "model = torch.load(mdl_path/'diffusion_unet_v2.pkl')"
      ],
      "metadata": {
        "id": "yD_YWjrAHZ81"
      },
      "execution_count": 58,
      "outputs": []
    },
    {
      "cell_type": "code",
      "source": [
        "class DDIM_SchedulerV2: # This is only for sampling purposes\n",
        "\n",
        "  def __init__(self, noise_cb): self.noise_cb = noise_cb\n",
        "\n",
        "  def set_timesteps(self, ts, skips = 10):\n",
        "    self.skips = skips\n",
        "    self.num_timesteps = ts\n",
        "    self.timesteps = reversed(torch.tensor(range(0, 1000, skips)))\n",
        "\n",
        "  def step(self, xt, np, cts, eta = 0.8):\n",
        "\n",
        "    a_bar_t, a_bar_t_1 = self.noise_cb.alpha_bar[cts], self.noise_cb.alpha_bar[cts + 1] if cts > 0 else torch.tensor(1.)\n",
        "    b_bar_t, b_bar_t_1 = (1. - a_bar_t), (1. - a_bar_t_1)\n",
        "\n",
        "    if cts == 0: st()\n",
        "\n",
        "    x0_hat = (xt - b_bar_t_1.sqrt()*np)/(a_bar_t.sqrt())\n",
        "\n",
        "    # if cts == 0: return x0_hat\n",
        "\n",
        "    sig = (b_bar_t/b_bar_t_1).sqrt() * (1. - (a_bar_t_1/a_bar_t)).sqrt() * eta\n",
        "\n",
        "    xt = a_bar_t_1.sqrt()*x0_hat + (b_bar_t_1 - sig**2).sqrt()*np\n",
        "    if cts > 0: xt += sig*torch.randn(xt.shape).to(xt.device)\n",
        "    return xt\n",
        "\n",
        "  def _get_alphas(self, ts):\n",
        "\n",
        "    def _get_alpha(ts, alpha_bar = self.noise_cb.alpha_bar):\n",
        "      return alpha_bar[ts] if ts >= 0 else torch.tensor(1.)\n",
        "    prev_ts = ts - self.skips\n",
        "    return _get_alpha(ts), _get_alpha(prev_ts)\n",
        "\n",
        "  def _get_variance(self, alpha_bar, alpha_bar_prev, beta_bar, beta_bar_prev): return (beta_bar_prev / beta_bar) * (1 - alpha_bar / alpha_bar_prev)\n",
        "\n",
        "  def step_new(self, xt, np, ts, eta = 0.5):\n",
        "    # get the current time step and previous timesteps\n",
        "    # Get alpha bar t and alpha bar t - steps and beta bar t and beta bar t - steps\n",
        "    # get the x0 hat based on the noise predict\n",
        "    # calculate the xt-steps using the updated formula\n",
        "\n",
        "    alpha_bar, alpha_bar_prev = self._get_alphas(ts)\n",
        "    beta_bar, beta_bar_prev = (1. - alpha_bar), (1. - alpha_bar_prev)\n",
        "\n",
        "    x0_hat = (xt - beta_bar.sqrt() * np)/(alpha_bar.sqrt()).clip(-1., 1.)\n",
        "\n",
        "\n",
        "    var = self._get_variance(alpha_bar, alpha_bar_prev, beta_bar, beta_bar_prev)\n",
        "    sigma = (var*eta).sqrt()\n",
        "\n",
        "    xt_new = alpha_bar_prev.sqrt() * x0_hat + (beta_bar_prev - sigma**2).sqrt() * np + torch.randn(xt.shape).to(xt.device)*sigma\n",
        "    return xt_new\n",
        "\n",
        "class DDPMPrepV2(DDPMPrep):\n",
        "  def __init__(self, n_steps = 1000, beta = torch.tensor([0.]), name = 'lin'):\n",
        "    fc.store_attr()\n",
        "    self.alpha = 1. - self.beta\n",
        "    self.alpha_bar = self.alpha.cumprod(0)\n",
        "    self.sigma = self.beta.sqrt()\n",
        "\n",
        "def ddim_sample_v3(model, n_steps, out_shape = (256, 1, 32, 32), sched = DDIM_SchedulerV2(DDPMPrepV2(n_steps = 1000, beta = torch.linspace(0.0001, 0.01, 1000)))):\n",
        "  model.device = torch.device('cuda')\n",
        "  sched.set_timesteps(n_steps, skips = 10)\n",
        "  xt = torch.randn(out_shape).to(model.device)\n",
        "  for ts in tqdm(sched.timesteps):\n",
        "    with torch.no_grad(): np = model((xt, torch.tensor([ts]*out_shape[0]).to(model.device)))\n",
        "    # print(np.mean(), np.std(), np.max(), np.min())\n",
        "    xt = sched.step_new(xt, np, ts, eta = 0.8)\n",
        "    if ts%10 == 0: print(ts, xt.mean().item(), xt.std().item(), xt.max().item(), xt.min().item())\n",
        "  return xt"
      ],
      "metadata": {
        "id": "Kfpdcy_X-lDy"
      },
      "execution_count": 67,
      "outputs": []
    },
    {
      "cell_type": "code",
      "source": [
        "mout = ddim_sample_v3(model, 1000)"
      ],
      "metadata": {
        "id": "IvGxU8G-HmK6"
      },
      "execution_count": null,
      "outputs": []
    },
    {
      "cell_type": "code",
      "source": [
        "show_images(mout[:9])"
      ],
      "metadata": {
        "id": "Bf09kdhKHmh0",
        "outputId": "2fc480c6-d353-4e09-caee-33b763fbed80",
        "colab": {
          "base_uri": "https://localhost:8080/",
          "height": 730
        }
      },
      "execution_count": 69,
      "outputs": [
        {
          "output_type": "display_data",
          "data": {
            "text/plain": [
              "<Figure size 900x900 with 9 Axes>"
            ],
            "image/png": "[encoded data removed]"
          },
          "metadata": {}
        }
      ]
    },
    {
      "cell_type": "code",
      "source": [
        "t.shape"
      ],
      "metadata": {
        "id": "hxB4vRfBH0R3",
        "outputId": "5c66cfc7-5c0f-4aa5-ae99-69bbf94752ea",
        "colab": {
          "base_uri": "https://localhost:8080/"
        }
      },
      "execution_count": 24,
      "outputs": [
        {
          "output_type": "execute_result",
          "data": {
            "text/plain": [
              "torch.Size([16])"
            ]
          },
          "metadata": {},
          "execution_count": 24
        }
      ]
    },
    {
      "cell_type": "code",
      "source": [
        "xout.shape"
      ],
      "metadata": {
        "id": "w6AqW9kFMxh-",
        "outputId": "ea22d59c-8a34-473d-dee3-4cb1838b7f37",
        "colab": {
          "base_uri": "https://localhost:8080/"
        }
      },
      "execution_count": 28,
      "outputs": [
        {
          "output_type": "execute_result",
          "data": {
            "text/plain": [
              "torch.Size([16, 1, 32, 32])"
            ]
          },
          "metadata": {},
          "execution_count": 28
        }
      ]
    },
    {
      "cell_type": "code",
      "source": [
        "m_out = model((xout.to(model.device), t.to(model.device)))"
      ],
      "metadata": {
        "id": "rPZ6o7GKM9-P"
      },
      "execution_count": 29,
      "outputs": []
    },
    {
      "cell_type": "code",
      "source": [
        "m_out.shape"
      ],
      "metadata": {
        "id": "l8zzJuHiNQUC",
        "outputId": "d2141256-d2f1-4d72-a1a4-d335ab7fdfff",
        "colab": {
          "base_uri": "https://localhost:8080/"
        }
      },
      "execution_count": 30,
      "outputs": [
        {
          "output_type": "execute_result",
          "data": {
            "text/plain": [
              "torch.Size([16, 1, 32, 32])"
            ]
          },
          "metadata": {},
          "execution_count": 30
        }
      ]
    },
    {
      "cell_type": "code",
      "source": [
        "for i, j in zip(t, xout): print(i.item(), j.mean().item(), j.std().item(), j.max().item(), j.min().item())"
      ],
      "metadata": {
        "id": "yQ6uZ2qlNRuL",
        "outputId": "8d2d902e-97ee-4bf8-98c6-dc72f9cea189",
        "colab": {
          "base_uri": "https://localhost:8080/"
        }
      },
      "execution_count": 33,
      "outputs": [
        {
          "output_type": "stream",
          "name": "stdout",
          "text": [
            "8 -0.6750460863113403 0.5247769355773926 0.8754502534866333 -1.1682876348495483\n",
            "37 -0.744844913482666 0.5084912180900574 1.0623400211334229 -1.657519817352295\n",
            "43 -0.4453883767127991 0.6512959599494934 1.387173056602478 -1.8236937522888184\n",
            "91 -0.4938420057296753 0.7544857263565063 1.983168125152588 -2.4761829376220703\n",
            "59 -0.5316202640533447 0.5841531753540039 1.4586646556854248 -2.060277223587036\n",
            "0 -0.3165576756000519 0.5932957530021667 0.8637517690658569 -1.027001976966858\n",
            "52 -0.23196493089199066 0.7671382427215576 1.7606035470962524 -2.0760669708251953\n",
            "15 -0.5845580101013184 0.6806420087814331 0.9807341694831848 -1.390209674835205\n",
            "39 -0.3718884587287903 0.755619466304779 1.6166105270385742 -1.8092067241668701\n",
            "7 -0.5157567262649536 0.7327222228050232 1.0463318824768066 -1.1699862480163574\n",
            "82 -0.4026561975479126 0.5624815225601196 1.3476098775863647 -2.1175460815429688\n",
            "35 -0.5763939023017883 0.5803648829460144 1.0909777879714966 -1.7517609596252441\n",
            "77 -0.07558000087738037 0.88327956199646 2.2377848625183105 -2.3536806106567383\n",
            "70 -0.46362054347991943 0.6521331667900085 1.8350796699523926 -2.2585813999176025\n",
            "90 -0.41191723942756653 0.8203887939453125 2.4600839614868164 -2.8039515018463135\n",
            "56 -0.6546052694320679 0.6576713919639587 1.768589973449707 -2.174313545227051\n"
          ]
        }
      ]
    },
    {
      "cell_type": "code",
      "source": [
        "del model\n",
        "clean_mem()"
      ],
      "metadata": {
        "id": "9vGuG0hfP_Y0"
      },
      "execution_count": 54,
      "outputs": []
    },
    {
      "cell_type": "code",
      "source": [],
      "metadata": {
        "id": "MBIV0sF3NixO"
      },
      "execution_count": null,
      "outputs": []
    }
  ],
  "metadata": {
    "colab": {
      "collapsed_sections": [
        "uE5hi24rHyZn",
        "8tfyFx7UT41Y"
      ],
      "provenance": [],
      "gpuType": "T4",
      "include_colab_link": true
    },
    "kernelspec": {
      "display_name": "Python 3",
      "name": "python3"
    },
    "language_info": {
      "name": "python"
    },
    "accelerator": "GPU"
  },
  "nbformat": 4,
  "nbformat_minor": 0
}
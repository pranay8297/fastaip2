{
  "nbformat": 4,
  "nbformat_minor": 0,
  "metadata": {
    "colab": {
      "provenance": [],
      "collapsed_sections": [
        "uE5hi24rHyZn",
        "8tfyFx7UT41Y"
      ],
      "authorship_tag": "ABX9TyP+HZn9E9CbgdQsQZM1a5Nu",
      "include_colab_link": true
    },
    "kernelspec": {
      "name": "python3",
      "display_name": "Python 3"
    },
    "language_info": {
      "name": "python"
    },
    "widgets": {
      "application/vnd.jupyter.widget-state+json": {
        "bb6808ddde24467dbe1656a5a98b1e94": {
          "model_module": "@jupyter-widgets/controls",
          "model_name": "HBoxModel",
          "model_module_version": "1.5.0",
          "state": {
            "_dom_classes": [],
            "_model_module": "@jupyter-widgets/controls",
            "_model_module_version": "1.5.0",
            "_model_name": "HBoxModel",
            "_view_count": null,
            "_view_module": "@jupyter-widgets/controls",
            "_view_module_version": "1.5.0",
            "_view_name": "HBoxView",
            "box_style": "",
            "children": [
              "IPY_MODEL_de96bdd216bd40a382358de96bf467f8",
              "IPY_MODEL_bea2f9133e014521a0fbc5da294ba795",
              "IPY_MODEL_9747759b169a4cc9a3ab923dd0285cea"
            ],
            "layout": "IPY_MODEL_1a9a5b8fc1d944efb7bdf618884303b3"
          }
        },
        "de96bdd216bd40a382358de96bf467f8": {
          "model_module": "@jupyter-widgets/controls",
          "model_name": "HTMLModel",
          "model_module_version": "1.5.0",
          "state": {
            "_dom_classes": [],
            "_model_module": "@jupyter-widgets/controls",
            "_model_module_version": "1.5.0",
            "_model_name": "HTMLModel",
            "_view_count": null,
            "_view_module": "@jupyter-widgets/controls",
            "_view_module_version": "1.5.0",
            "_view_name": "HTMLView",
            "description": "",
            "description_tooltip": null,
            "layout": "IPY_MODEL_b06eff61fb1047f0a77b2a57cb8c752d",
            "placeholder": "​",
            "style": "IPY_MODEL_de812a7497e24928af4a4668c2e2249f",
            "value": "Downloading data: 100%"
          }
        },
        "bea2f9133e014521a0fbc5da294ba795": {
          "model_module": "@jupyter-widgets/controls",
          "model_name": "FloatProgressModel",
          "model_module_version": "1.5.0",
          "state": {
            "_dom_classes": [],
            "_model_module": "@jupyter-widgets/controls",
            "_model_module_version": "1.5.0",
            "_model_name": "FloatProgressModel",
            "_view_count": null,
            "_view_module": "@jupyter-widgets/controls",
            "_view_module_version": "1.5.0",
            "_view_name": "ProgressView",
            "bar_style": "success",
            "description": "",
            "description_tooltip": null,
            "layout": "IPY_MODEL_1484cf8b259a480d941911a98eb0ab44",
            "max": 5175617,
            "min": 0,
            "orientation": "horizontal",
            "style": "IPY_MODEL_4fe79447cc4c4008890b9cda17e571da",
            "value": 5175617
          }
        },
        "9747759b169a4cc9a3ab923dd0285cea": {
          "model_module": "@jupyter-widgets/controls",
          "model_name": "HTMLModel",
          "model_module_version": "1.5.0",
          "state": {
            "_dom_classes": [],
            "_model_module": "@jupyter-widgets/controls",
            "_model_module_version": "1.5.0",
            "_model_name": "HTMLModel",
            "_view_count": null,
            "_view_module": "@jupyter-widgets/controls",
            "_view_module_version": "1.5.0",
            "_view_name": "HTMLView",
            "description": "",
            "description_tooltip": null,
            "layout": "IPY_MODEL_954d64d929b64586ac36e73acad62a82",
            "placeholder": "​",
            "style": "IPY_MODEL_dd9f67a01c2d4e21941ac578919ea8f8",
            "value": " 5.18M/5.18M [00:00&lt;00:00, 6.26MB/s]"
          }
        },
        "1a9a5b8fc1d944efb7bdf618884303b3": {
          "model_module": "@jupyter-widgets/base",
          "model_name": "LayoutModel",
          "model_module_version": "1.2.0",
          "state": {
            "_model_module": "@jupyter-widgets/base",
            "_model_module_version": "1.2.0",
            "_model_name": "LayoutModel",
            "_view_count": null,
            "_view_module": "@jupyter-widgets/base",
            "_view_module_version": "1.2.0",
            "_view_name": "LayoutView",
            "align_content": null,
            "align_items": null,
            "align_self": null,
            "border": null,
            "bottom": null,
            "display": null,
            "flex": null,
            "flex_flow": null,
            "grid_area": null,
            "grid_auto_columns": null,
            "grid_auto_flow": null,
            "grid_auto_rows": null,
            "grid_column": null,
            "grid_gap": null,
            "grid_row": null,
            "grid_template_areas": null,
            "grid_template_columns": null,
            "grid_template_rows": null,
            "height": null,
            "justify_content": null,
            "justify_items": null,
            "left": null,
            "margin": null,
            "max_height": null,
            "max_width": null,
            "min_height": null,
            "min_width": null,
            "object_fit": null,
            "object_position": null,
            "order": null,
            "overflow": null,
            "overflow_x": null,
            "overflow_y": null,
            "padding": null,
            "right": null,
            "top": null,
            "visibility": null,
            "width": null
          }
        },
        "b06eff61fb1047f0a77b2a57cb8c752d": {
          "model_module": "@jupyter-widgets/base",
          "model_name": "LayoutModel",
          "model_module_version": "1.2.0",
          "state": {
            "_model_module": "@jupyter-widgets/base",
            "_model_module_version": "1.2.0",
            "_model_name": "LayoutModel",
            "_view_count": null,
            "_view_module": "@jupyter-widgets/base",
            "_view_module_version": "1.2.0",
            "_view_name": "LayoutView",
            "align_content": null,
            "align_items": null,
            "align_self": null,
            "border": null,
            "bottom": null,
            "display": null,
            "flex": null,
            "flex_flow": null,
            "grid_area": null,
            "grid_auto_columns": null,
            "grid_auto_flow": null,
            "grid_auto_rows": null,
            "grid_column": null,
            "grid_gap": null,
            "grid_row": null,
            "grid_template_areas": null,
            "grid_template_columns": null,
            "grid_template_rows": null,
            "height": null,
            "justify_content": null,
            "justify_items": null,
            "left": null,
            "margin": null,
            "max_height": null,
            "max_width": null,
            "min_height": null,
            "min_width": null,
            "object_fit": null,
            "object_position": null,
            "order": null,
            "overflow": null,
            "overflow_x": null,
            "overflow_y": null,
            "padding": null,
            "right": null,
            "top": null,
            "visibility": null,
            "width": null
          }
        },
        "de812a7497e24928af4a4668c2e2249f": {
          "model_module": "@jupyter-widgets/controls",
          "model_name": "DescriptionStyleModel",
          "model_module_version": "1.5.0",
          "state": {
            "_model_module": "@jupyter-widgets/controls",
            "_model_module_version": "1.5.0",
            "_model_name": "DescriptionStyleModel",
            "_view_count": null,
            "_view_module": "@jupyter-widgets/base",
            "_view_module_version": "1.2.0",
            "_view_name": "StyleView",
            "description_width": ""
          }
        },
        "1484cf8b259a480d941911a98eb0ab44": {
          "model_module": "@jupyter-widgets/base",
          "model_name": "LayoutModel",
          "model_module_version": "1.2.0",
          "state": {
            "_model_module": "@jupyter-widgets/base",
            "_model_module_version": "1.2.0",
            "_model_name": "LayoutModel",
            "_view_count": null,
            "_view_module": "@jupyter-widgets/base",
            "_view_module_version": "1.2.0",
            "_view_name": "LayoutView",
            "align_content": null,
            "align_items": null,
            "align_self": null,
            "border": null,
            "bottom": null,
            "display": null,
            "flex": null,
            "flex_flow": null,
            "grid_area": null,
            "grid_auto_columns": null,
            "grid_auto_flow": null,
            "grid_auto_rows": null,
            "grid_column": null,
            "grid_gap": null,
            "grid_row": null,
            "grid_template_areas": null,
            "grid_template_columns": null,
            "grid_template_rows": null,
            "height": null,
            "justify_content": null,
            "justify_items": null,
            "left": null,
            "margin": null,
            "max_height": null,
            "max_width": null,
            "min_height": null,
            "min_width": null,
            "object_fit": null,
            "object_position": null,
            "order": null,
            "overflow": null,
            "overflow_x": null,
            "overflow_y": null,
            "padding": null,
            "right": null,
            "top": null,
            "visibility": null,
            "width": null
          }
        },
        "4fe79447cc4c4008890b9cda17e571da": {
          "model_module": "@jupyter-widgets/controls",
          "model_name": "ProgressStyleModel",
          "model_module_version": "1.5.0",
          "state": {
            "_model_module": "@jupyter-widgets/controls",
            "_model_module_version": "1.5.0",
            "_model_name": "ProgressStyleModel",
            "_view_count": null,
            "_view_module": "@jupyter-widgets/base",
            "_view_module_version": "1.2.0",
            "_view_name": "StyleView",
            "bar_color": null,
            "description_width": ""
          }
        },
        "954d64d929b64586ac36e73acad62a82": {
          "model_module": "@jupyter-widgets/base",
          "model_name": "LayoutModel",
          "model_module_version": "1.2.0",
          "state": {
            "_model_module": "@jupyter-widgets/base",
            "_model_module_version": "1.2.0",
            "_model_name": "LayoutModel",
            "_view_count": null,
            "_view_module": "@jupyter-widgets/base",
            "_view_module_version": "1.2.0",
            "_view_name": "LayoutView",
            "align_content": null,
            "align_items": null,
            "align_self": null,
            "border": null,
            "bottom": null,
            "display": null,
            "flex": null,
            "flex_flow": null,
            "grid_area": null,
            "grid_auto_columns": null,
            "grid_auto_flow": null,
            "grid_auto_rows": null,
            "grid_column": null,
            "grid_gap": null,
            "grid_row": null,
            "grid_template_areas": null,
            "grid_template_columns": null,
            "grid_template_rows": null,
            "height": null,
            "justify_content": null,
            "justify_items": null,
            "left": null,
            "margin": null,
            "max_height": null,
            "max_width": null,
            "min_height": null,
            "min_width": null,
            "object_fit": null,
            "object_position": null,
            "order": null,
            "overflow": null,
            "overflow_x": null,
            "overflow_y": null,
            "padding": null,
            "right": null,
            "top": null,
            "visibility": null,
            "width": null
          }
        },
        "dd9f67a01c2d4e21941ac578919ea8f8": {
          "model_module": "@jupyter-widgets/controls",
          "model_name": "DescriptionStyleModel",
          "model_module_version": "1.5.0",
          "state": {
            "_model_module": "@jupyter-widgets/controls",
            "_model_module_version": "1.5.0",
            "_model_name": "DescriptionStyleModel",
            "_view_count": null,
            "_view_module": "@jupyter-widgets/base",
            "_view_module_version": "1.2.0",
            "_view_name": "StyleView",
            "description_width": ""
          }
        },
        "dd66831831e443f3ab0930ce9931674f": {
          "model_module": "@jupyter-widgets/controls",
          "model_name": "HBoxModel",
          "model_module_version": "1.5.0",
          "state": {
            "_dom_classes": [],
            "_model_module": "@jupyter-widgets/controls",
            "_model_module_version": "1.5.0",
            "_model_name": "HBoxModel",
            "_view_count": null,
            "_view_module": "@jupyter-widgets/controls",
            "_view_module_version": "1.5.0",
            "_view_name": "HBoxView",
            "box_style": "",
            "children": [
              "IPY_MODEL_fb0ad000d66a441781f70cb8577bad88",
              "IPY_MODEL_2445f0df8d914c9d9839b5cc9c19e293",
              "IPY_MODEL_e2e1ed9cb4f543438886b6c69f399060"
            ],
            "layout": "IPY_MODEL_c961b32f4ab740319674e080383e62c8"
          }
        },
        "fb0ad000d66a441781f70cb8577bad88": {
          "model_module": "@jupyter-widgets/controls",
          "model_name": "HTMLModel",
          "model_module_version": "1.5.0",
          "state": {
            "_dom_classes": [],
            "_model_module": "@jupyter-widgets/controls",
            "_model_module_version": "1.5.0",
            "_model_name": "HTMLModel",
            "_view_count": null,
            "_view_module": "@jupyter-widgets/controls",
            "_view_module_version": "1.5.0",
            "_view_name": "HTMLView",
            "description": "",
            "description_tooltip": null,
            "layout": "IPY_MODEL_b8cf8d3642774628a17ee2b0abda1fa9",
            "placeholder": "​",
            "style": "IPY_MODEL_4a477d602b494599a66bc5acff8b5ffe",
            "value": "Generating train split: 100%"
          }
        },
        "2445f0df8d914c9d9839b5cc9c19e293": {
          "model_module": "@jupyter-widgets/controls",
          "model_name": "FloatProgressModel",
          "model_module_version": "1.5.0",
          "state": {
            "_dom_classes": [],
            "_model_module": "@jupyter-widgets/controls",
            "_model_module_version": "1.5.0",
            "_model_name": "FloatProgressModel",
            "_view_count": null,
            "_view_module": "@jupyter-widgets/controls",
            "_view_module_version": "1.5.0",
            "_view_name": "ProgressView",
            "bar_style": "success",
            "description": "",
            "description_tooltip": null,
            "layout": "IPY_MODEL_835e036699374f5f931c4f96a359c696",
            "max": 60000,
            "min": 0,
            "orientation": "horizontal",
            "style": "IPY_MODEL_c1bca6ab7dd44ee79fead6fb8741d7ed",
            "value": 60000
          }
        },
        "e2e1ed9cb4f543438886b6c69f399060": {
          "model_module": "@jupyter-widgets/controls",
          "model_name": "HTMLModel",
          "model_module_version": "1.5.0",
          "state": {
            "_dom_classes": [],
            "_model_module": "@jupyter-widgets/controls",
            "_model_module_version": "1.5.0",
            "_model_name": "HTMLModel",
            "_view_count": null,
            "_view_module": "@jupyter-widgets/controls",
            "_view_module_version": "1.5.0",
            "_view_name": "HTMLView",
            "description": "",
            "description_tooltip": null,
            "layout": "IPY_MODEL_de291ac52f1040c1b0c6788d73c22bd0",
            "placeholder": "​",
            "style": "IPY_MODEL_75bd3d81548a4ffbbe837a043e35e854",
            "value": " 60000/60000 [00:00&lt;00:00, 129924.26 examples/s]"
          }
        },
        "c961b32f4ab740319674e080383e62c8": {
          "model_module": "@jupyter-widgets/base",
          "model_name": "LayoutModel",
          "model_module_version": "1.2.0",
          "state": {
            "_model_module": "@jupyter-widgets/base",
            "_model_module_version": "1.2.0",
            "_model_name": "LayoutModel",
            "_view_count": null,
            "_view_module": "@jupyter-widgets/base",
            "_view_module_version": "1.2.0",
            "_view_name": "LayoutView",
            "align_content": null,
            "align_items": null,
            "align_self": null,
            "border": null,
            "bottom": null,
            "display": null,
            "flex": null,
            "flex_flow": null,
            "grid_area": null,
            "grid_auto_columns": null,
            "grid_auto_flow": null,
            "grid_auto_rows": null,
            "grid_column": null,
            "grid_gap": null,
            "grid_row": null,
            "grid_template_areas": null,
            "grid_template_columns": null,
            "grid_template_rows": null,
            "height": null,
            "justify_content": null,
            "justify_items": null,
            "left": null,
            "margin": null,
            "max_height": null,
            "max_width": null,
            "min_height": null,
            "min_width": null,
            "object_fit": null,
            "object_position": null,
            "order": null,
            "overflow": null,
            "overflow_x": null,
            "overflow_y": null,
            "padding": null,
            "right": null,
            "top": null,
            "visibility": null,
            "width": null
          }
        },
        "b8cf8d3642774628a17ee2b0abda1fa9": {
          "model_module": "@jupyter-widgets/base",
          "model_name": "LayoutModel",
          "model_module_version": "1.2.0",
          "state": {
            "_model_module": "@jupyter-widgets/base",
            "_model_module_version": "1.2.0",
            "_model_name": "LayoutModel",
            "_view_count": null,
            "_view_module": "@jupyter-widgets/base",
            "_view_module_version": "1.2.0",
            "_view_name": "LayoutView",
            "align_content": null,
            "align_items": null,
            "align_self": null,
            "border": null,
            "bottom": null,
            "display": null,
            "flex": null,
            "flex_flow": null,
            "grid_area": null,
            "grid_auto_columns": null,
            "grid_auto_flow": null,
            "grid_auto_rows": null,
            "grid_column": null,
            "grid_gap": null,
            "grid_row": null,
            "grid_template_areas": null,
            "grid_template_columns": null,
            "grid_template_rows": null,
            "height": null,
            "justify_content": null,
            "justify_items": null,
            "left": null,
            "margin": null,
            "max_height": null,
            "max_width": null,
            "min_height": null,
            "min_width": null,
            "object_fit": null,
            "object_position": null,
            "order": null,
            "overflow": null,
            "overflow_x": null,
            "overflow_y": null,
            "padding": null,
            "right": null,
            "top": null,
            "visibility": null,
            "width": null
          }
        },
        "4a477d602b494599a66bc5acff8b5ffe": {
          "model_module": "@jupyter-widgets/controls",
          "model_name": "DescriptionStyleModel",
          "model_module_version": "1.5.0",
          "state": {
            "_model_module": "@jupyter-widgets/controls",
            "_model_module_version": "1.5.0",
            "_model_name": "DescriptionStyleModel",
            "_view_count": null,
            "_view_module": "@jupyter-widgets/base",
            "_view_module_version": "1.2.0",
            "_view_name": "StyleView",
            "description_width": ""
          }
        },
        "835e036699374f5f931c4f96a359c696": {
          "model_module": "@jupyter-widgets/base",
          "model_name": "LayoutModel",
          "model_module_version": "1.2.0",
          "state": {
            "_model_module": "@jupyter-widgets/base",
            "_model_module_version": "1.2.0",
            "_model_name": "LayoutModel",
            "_view_count": null,
            "_view_module": "@jupyter-widgets/base",
            "_view_module_version": "1.2.0",
            "_view_name": "LayoutView",
            "align_content": null,
            "align_items": null,
            "align_self": null,
            "border": null,
            "bottom": null,
            "display": null,
            "flex": null,
            "flex_flow": null,
            "grid_area": null,
            "grid_auto_columns": null,
            "grid_auto_flow": null,
            "grid_auto_rows": null,
            "grid_column": null,
            "grid_gap": null,
            "grid_row": null,
            "grid_template_areas": null,
            "grid_template_columns": null,
            "grid_template_rows": null,
            "height": null,
            "justify_content": null,
            "justify_items": null,
            "left": null,
            "margin": null,
            "max_height": null,
            "max_width": null,
            "min_height": null,
            "min_width": null,
            "object_fit": null,
            "object_position": null,
            "order": null,
            "overflow": null,
            "overflow_x": null,
            "overflow_y": null,
            "padding": null,
            "right": null,
            "top": null,
            "visibility": null,
            "width": null
          }
        },
        "c1bca6ab7dd44ee79fead6fb8741d7ed": {
          "model_module": "@jupyter-widgets/controls",
          "model_name": "ProgressStyleModel",
          "model_module_version": "1.5.0",
          "state": {
            "_model_module": "@jupyter-widgets/controls",
            "_model_module_version": "1.5.0",
            "_model_name": "ProgressStyleModel",
            "_view_count": null,
            "_view_module": "@jupyter-widgets/base",
            "_view_module_version": "1.2.0",
            "_view_name": "StyleView",
            "bar_color": null,
            "description_width": ""
          }
        },
        "de291ac52f1040c1b0c6788d73c22bd0": {
          "model_module": "@jupyter-widgets/base",
          "model_name": "LayoutModel",
          "model_module_version": "1.2.0",
          "state": {
            "_model_module": "@jupyter-widgets/base",
            "_model_module_version": "1.2.0",
            "_model_name": "LayoutModel",
            "_view_count": null,
            "_view_module": "@jupyter-widgets/base",
            "_view_module_version": "1.2.0",
            "_view_name": "LayoutView",
            "align_content": null,
            "align_items": null,
            "align_self": null,
            "border": null,
            "bottom": null,
            "display": null,
            "flex": null,
            "flex_flow": null,
            "grid_area": null,
            "grid_auto_columns": null,
            "grid_auto_flow": null,
            "grid_auto_rows": null,
            "grid_column": null,
            "grid_gap": null,
            "grid_row": null,
            "grid_template_areas": null,
            "grid_template_columns": null,
            "grid_template_rows": null,
            "height": null,
            "justify_content": null,
            "justify_items": null,
            "left": null,
            "margin": null,
            "max_height": null,
            "max_width": null,
            "min_height": null,
            "min_width": null,
            "object_fit": null,
            "object_position": null,
            "order": null,
            "overflow": null,
            "overflow_x": null,
            "overflow_y": null,
            "padding": null,
            "right": null,
            "top": null,
            "visibility": null,
            "width": null
          }
        },
        "75bd3d81548a4ffbbe837a043e35e854": {
          "model_module": "@jupyter-widgets/controls",
          "model_name": "DescriptionStyleModel",
          "model_module_version": "1.5.0",
          "state": {
            "_model_module": "@jupyter-widgets/controls",
            "_model_module_version": "1.5.0",
            "_model_name": "DescriptionStyleModel",
            "_view_count": null,
            "_view_module": "@jupyter-widgets/base",
            "_view_module_version": "1.2.0",
            "_view_name": "StyleView",
            "description_width": ""
          }
        },
        "f5bd7b7ba25a4d809a8583959fcad443": {
          "model_module": "@jupyter-widgets/controls",
          "model_name": "HBoxModel",
          "model_module_version": "1.5.0",
          "state": {
            "_dom_classes": [],
            "_model_module": "@jupyter-widgets/controls",
            "_model_module_version": "1.5.0",
            "_model_name": "HBoxModel",
            "_view_count": null,
            "_view_module": "@jupyter-widgets/controls",
            "_view_module_version": "1.5.0",
            "_view_name": "HBoxView",
            "box_style": "",
            "children": [
              "IPY_MODEL_828bbdeab5ad470bb0a2c504d5fd8717",
              "IPY_MODEL_b983e5da31e04ceb90099a485ebf962b",
              "IPY_MODEL_98c3952bb29346c08e3edd58b47bb643"
            ],
            "layout": "IPY_MODEL_b6f880b763d64deea140cb0e7ed8855e"
          }
        },
        "828bbdeab5ad470bb0a2c504d5fd8717": {
          "model_module": "@jupyter-widgets/controls",
          "model_name": "HTMLModel",
          "model_module_version": "1.5.0",
          "state": {
            "_dom_classes": [],
            "_model_module": "@jupyter-widgets/controls",
            "_model_module_version": "1.5.0",
            "_model_name": "HTMLModel",
            "_view_count": null,
            "_view_module": "@jupyter-widgets/controls",
            "_view_module_version": "1.5.0",
            "_view_name": "HTMLView",
            "description": "",
            "description_tooltip": null,
            "layout": "IPY_MODEL_91bcdbf5b7d9436db42f465c6220546f",
            "placeholder": "​",
            "style": "IPY_MODEL_b7633e5e907043d6896d00c0a27b345e",
            "value": "Generating test split: 100%"
          }
        },
        "b983e5da31e04ceb90099a485ebf962b": {
          "model_module": "@jupyter-widgets/controls",
          "model_name": "FloatProgressModel",
          "model_module_version": "1.5.0",
          "state": {
            "_dom_classes": [],
            "_model_module": "@jupyter-widgets/controls",
            "_model_module_version": "1.5.0",
            "_model_name": "FloatProgressModel",
            "_view_count": null,
            "_view_module": "@jupyter-widgets/controls",
            "_view_module_version": "1.5.0",
            "_view_name": "ProgressView",
            "bar_style": "success",
            "description": "",
            "description_tooltip": null,
            "layout": "IPY_MODEL_94a8b14da8f842f38c4fe51099764bc2",
            "max": 10000,
            "min": 0,
            "orientation": "horizontal",
            "style": "IPY_MODEL_b1fe67937d3b43cca1ebf87b8a82823c",
            "value": 10000
          }
        },
        "98c3952bb29346c08e3edd58b47bb643": {
          "model_module": "@jupyter-widgets/controls",
          "model_name": "HTMLModel",
          "model_module_version": "1.5.0",
          "state": {
            "_dom_classes": [],
            "_model_module": "@jupyter-widgets/controls",
            "_model_module_version": "1.5.0",
            "_model_name": "HTMLModel",
            "_view_count": null,
            "_view_module": "@jupyter-widgets/controls",
            "_view_module_version": "1.5.0",
            "_view_name": "HTMLView",
            "description": "",
            "description_tooltip": null,
            "layout": "IPY_MODEL_146eb7fba812482d9d092cbc5ad2164b",
            "placeholder": "​",
            "style": "IPY_MODEL_c4f2cae80cb643cba29ebf544d7cefff",
            "value": " 10000/10000 [00:00&lt;00:00, 81267.95 examples/s]"
          }
        },
        "b6f880b763d64deea140cb0e7ed8855e": {
          "model_module": "@jupyter-widgets/base",
          "model_name": "LayoutModel",
          "model_module_version": "1.2.0",
          "state": {
            "_model_module": "@jupyter-widgets/base",
            "_model_module_version": "1.2.0",
            "_model_name": "LayoutModel",
            "_view_count": null,
            "_view_module": "@jupyter-widgets/base",
            "_view_module_version": "1.2.0",
            "_view_name": "LayoutView",
            "align_content": null,
            "align_items": null,
            "align_self": null,
            "border": null,
            "bottom": null,
            "display": null,
            "flex": null,
            "flex_flow": null,
            "grid_area": null,
            "grid_auto_columns": null,
            "grid_auto_flow": null,
            "grid_auto_rows": null,
            "grid_column": null,
            "grid_gap": null,
            "grid_row": null,
            "grid_template_areas": null,
            "grid_template_columns": null,
            "grid_template_rows": null,
            "height": null,
            "justify_content": null,
            "justify_items": null,
            "left": null,
            "margin": null,
            "max_height": null,
            "max_width": null,
            "min_height": null,
            "min_width": null,
            "object_fit": null,
            "object_position": null,
            "order": null,
            "overflow": null,
            "overflow_x": null,
            "overflow_y": null,
            "padding": null,
            "right": null,
            "top": null,
            "visibility": null,
            "width": null
          }
        },
        "91bcdbf5b7d9436db42f465c6220546f": {
          "model_module": "@jupyter-widgets/base",
          "model_name": "LayoutModel",
          "model_module_version": "1.2.0",
          "state": {
            "_model_module": "@jupyter-widgets/base",
            "_model_module_version": "1.2.0",
            "_model_name": "LayoutModel",
            "_view_count": null,
            "_view_module": "@jupyter-widgets/base",
            "_view_module_version": "1.2.0",
            "_view_name": "LayoutView",
            "align_content": null,
            "align_items": null,
            "align_self": null,
            "border": null,
            "bottom": null,
            "display": null,
            "flex": null,
            "flex_flow": null,
            "grid_area": null,
            "grid_auto_columns": null,
            "grid_auto_flow": null,
            "grid_auto_rows": null,
            "grid_column": null,
            "grid_gap": null,
            "grid_row": null,
            "grid_template_areas": null,
            "grid_template_columns": null,
            "grid_template_rows": null,
            "height": null,
            "justify_content": null,
            "justify_items": null,
            "left": null,
            "margin": null,
            "max_height": null,
            "max_width": null,
            "min_height": null,
            "min_width": null,
            "object_fit": null,
            "object_position": null,
            "order": null,
            "overflow": null,
            "overflow_x": null,
            "overflow_y": null,
            "padding": null,
            "right": null,
            "top": null,
            "visibility": null,
            "width": null
          }
        },
        "b7633e5e907043d6896d00c0a27b345e": {
          "model_module": "@jupyter-widgets/controls",
          "model_name": "DescriptionStyleModel",
          "model_module_version": "1.5.0",
          "state": {
            "_model_module": "@jupyter-widgets/controls",
            "_model_module_version": "1.5.0",
            "_model_name": "DescriptionStyleModel",
            "_view_count": null,
            "_view_module": "@jupyter-widgets/base",
            "_view_module_version": "1.2.0",
            "_view_name": "StyleView",
            "description_width": ""
          }
        },
        "94a8b14da8f842f38c4fe51099764bc2": {
          "model_module": "@jupyter-widgets/base",
          "model_name": "LayoutModel",
          "model_module_version": "1.2.0",
          "state": {
            "_model_module": "@jupyter-widgets/base",
            "_model_module_version": "1.2.0",
            "_model_name": "LayoutModel",
            "_view_count": null,
            "_view_module": "@jupyter-widgets/base",
            "_view_module_version": "1.2.0",
            "_view_name": "LayoutView",
            "align_content": null,
            "align_items": null,
            "align_self": null,
            "border": null,
            "bottom": null,
            "display": null,
            "flex": null,
            "flex_flow": null,
            "grid_area": null,
            "grid_auto_columns": null,
            "grid_auto_flow": null,
            "grid_auto_rows": null,
            "grid_column": null,
            "grid_gap": null,
            "grid_row": null,
            "grid_template_areas": null,
            "grid_template_columns": null,
            "grid_template_rows": null,
            "height": null,
            "justify_content": null,
            "justify_items": null,
            "left": null,
            "margin": null,
            "max_height": null,
            "max_width": null,
            "min_height": null,
            "min_width": null,
            "object_fit": null,
            "object_position": null,
            "order": null,
            "overflow": null,
            "overflow_x": null,
            "overflow_y": null,
            "padding": null,
            "right": null,
            "top": null,
            "visibility": null,
            "width": null
          }
        },
        "b1fe67937d3b43cca1ebf87b8a82823c": {
          "model_module": "@jupyter-widgets/controls",
          "model_name": "ProgressStyleModel",
          "model_module_version": "1.5.0",
          "state": {
            "_model_module": "@jupyter-widgets/controls",
            "_model_module_version": "1.5.0",
            "_model_name": "ProgressStyleModel",
            "_view_count": null,
            "_view_module": "@jupyter-widgets/base",
            "_view_module_version": "1.2.0",
            "_view_name": "StyleView",
            "bar_color": null,
            "description_width": ""
          }
        },
        "146eb7fba812482d9d092cbc5ad2164b": {
          "model_module": "@jupyter-widgets/base",
          "model_name": "LayoutModel",
          "model_module_version": "1.2.0",
          "state": {
            "_model_module": "@jupyter-widgets/base",
            "_model_module_version": "1.2.0",
            "_model_name": "LayoutModel",
            "_view_count": null,
            "_view_module": "@jupyter-widgets/base",
            "_view_module_version": "1.2.0",
            "_view_name": "LayoutView",
            "align_content": null,
            "align_items": null,
            "align_self": null,
            "border": null,
            "bottom": null,
            "display": null,
            "flex": null,
            "flex_flow": null,
            "grid_area": null,
            "grid_auto_columns": null,
            "grid_auto_flow": null,
            "grid_auto_rows": null,
            "grid_column": null,
            "grid_gap": null,
            "grid_row": null,
            "grid_template_areas": null,
            "grid_template_columns": null,
            "grid_template_rows": null,
            "height": null,
            "justify_content": null,
            "justify_items": null,
            "left": null,
            "margin": null,
            "max_height": null,
            "max_width": null,
            "min_height": null,
            "min_width": null,
            "object_fit": null,
            "object_position": null,
            "order": null,
            "overflow": null,
            "overflow_x": null,
            "overflow_y": null,
            "padding": null,
            "right": null,
            "top": null,
            "visibility": null,
            "width": null
          }
        },
        "c4f2cae80cb643cba29ebf544d7cefff": {
          "model_module": "@jupyter-widgets/controls",
          "model_name": "DescriptionStyleModel",
          "model_module_version": "1.5.0",
          "state": {
            "_model_module": "@jupyter-widgets/controls",
            "_model_module_version": "1.5.0",
            "_model_name": "DescriptionStyleModel",
            "_view_count": null,
            "_view_module": "@jupyter-widgets/base",
            "_view_module_version": "1.2.0",
            "_view_name": "StyleView",
            "description_width": ""
          }
        }
      }
    }
  },
  "cells": [
    {
      "cell_type": "markdown",
      "metadata": {
        "id": "view-in-github",
        "colab_type": "text"
      },
      "source": [
        "<a href=\"https://colab.research.google.com/github/pranay8297/fastaip2/blob/main/Diffusion_v1.ipynb\" target=\"_parent\"><img src=\"https://colab.research.google.com/assets/colab-badge.svg\" alt=\"Open In Colab\"/></a>"
      ]
    },
    {
      "cell_type": "code",
      "execution_count": null,
      "metadata": {
        "id": "1kAIm59QgvsO"
      },
      "outputs": [],
      "source": [
        "!pip install ipdb\n",
        "!pip install torcheval\n",
        "!pip install -Uqq git+https://github.com/fastai/course22p2\n",
        "!pip install tqdm\n",
        "!pip install accelerate"
      ]
    },
    {
      "cell_type": "code",
      "source": [
        "import torch\n",
        "import math\n",
        "import numpy as np\n",
        "import fastcore.all as fc\n",
        "import matplotlib as mpl, matplotlib.pyplot as plt\n",
        "import time\n",
        "import numpy\n",
        "import pickle\n",
        "import os\n",
        "# import lpips\n",
        "\n",
        "from pathlib import Path\n",
        "from PIL import Image\n",
        "from tqdm import tqdm\n",
        "from scipy.linalg import sqrtm\n",
        "from functools import partial\n",
        "from ipdb import set_trace as st\n",
        "from accelerate import Accelerator\n",
        "from datasets import load_dataset\n",
        "\n",
        "from torch import nn\n",
        "from torch import optim\n",
        "from torch import autocast\n",
        "from torch.nn import functional as F\n",
        "from torch.utils.data import DataLoader\n",
        "from torch.cuda.amp import GradScaler\n",
        "from torch.optim import lr_scheduler\n",
        "from torchvision.transforms.functional import to_tensor, resize\n",
        "from torchvision import transforms\n",
        "from torchvision.transforms import v2, InterpolationMode\n",
        "# from torcheval.metrics import MulticlassAccuracy\n",
        "import torchvision.transforms.functional as TF\n",
        "\n",
        "from miniai.datasets import *\n",
        "from miniai.learner import *\n",
        "from miniai.augment import *\n",
        "from miniai.activations import *\n",
        "from miniai.init import *\n",
        "\n",
        "from google.colab import drive\n",
        "drive.mount('/content/drive')\n",
        "\n",
        "mpl.rcParams['image.cmap'] = 'gray_r'\n",
        "\n",
        "set_seed(42)\n",
        "mdl_path = Path('drive/MyDrive/fastai_p2/models/')\n",
        "\n",
        "IMAGENET_MEAN = torch.tensor([0.4810, 0.4482, 0.3968])\n",
        "IMAGENET_STD = torch.tensor([0.2760, 0.2683, 0.2813])\n",
        "\n",
        "IN_CHANNELS_RGB = 3\n",
        "IN_CHANNELS_GRAY_SCALE = 1"
      ],
      "metadata": {
        "id": "vnxlc5y8859i"
      },
      "execution_count": null,
      "outputs": []
    },
    {
      "cell_type": "code",
      "source": [
        "IMAGENET_IN_CHANNELS, IMAGENET_OUT_CHANNELS = 3, 3\n",
        "FMNIST_IN_CHANNELS, FMNIST_OUT_CHANNELS = 1, 1"
      ],
      "metadata": {
        "id": "acxB4ANcdy6P"
      },
      "execution_count": 4,
      "outputs": []
    },
    {
      "cell_type": "code",
      "source": [
        "dname, xn, yn = 'fashion_mnist', 'image', 'label'\n",
        "dsd = load_dataset(dname)\n",
        "\n",
        "@inplace\n",
        "def transformi(b): b['image'] = [(resize(to_tensor(o), (32, 32), antialias = True))*2. - 1. for o in b['image']]\n",
        "\n",
        "tds = dsd.with_transform(transformi)\n",
        "dls = DataLoaders.from_dd(tds, batch_size = 256, num_workers=2)"
      ],
      "metadata": {
        "colab": {
          "base_uri": "https://localhost:8080/",
          "height": 131,
          "referenced_widgets": [
            "adf002589229416d800d9bd46538fbe9",
            "bb6808ddde24467dbe1656a5a98b1e94",
            "de96bdd216bd40a382358de96bf467f8",
            "bea2f9133e014521a0fbc5da294ba795",
            "9747759b169a4cc9a3ab923dd0285cea",
            "1a9a5b8fc1d944efb7bdf618884303b3",
            "b06eff61fb1047f0a77b2a57cb8c752d",
            "de812a7497e24928af4a4668c2e2249f",
            "1484cf8b259a480d941911a98eb0ab44",
            "4fe79447cc4c4008890b9cda17e571da",
            "954d64d929b64586ac36e73acad62a82",
            "dd9f67a01c2d4e21941ac578919ea8f8",
            "dd66831831e443f3ab0930ce9931674f",
            "fb0ad000d66a441781f70cb8577bad88",
            "2445f0df8d914c9d9839b5cc9c19e293",
            "e2e1ed9cb4f543438886b6c69f399060",
            "c961b32f4ab740319674e080383e62c8",
            "b8cf8d3642774628a17ee2b0abda1fa9",
            "4a477d602b494599a66bc5acff8b5ffe",
            "835e036699374f5f931c4f96a359c696",
            "c1bca6ab7dd44ee79fead6fb8741d7ed",
            "de291ac52f1040c1b0c6788d73c22bd0",
            "75bd3d81548a4ffbbe837a043e35e854",
            "f5bd7b7ba25a4d809a8583959fcad443",
            "828bbdeab5ad470bb0a2c504d5fd8717",
            "b983e5da31e04ceb90099a485ebf962b",
            "98c3952bb29346c08e3edd58b47bb643",
            "b6f880b763d64deea140cb0e7ed8855e",
            "91bcdbf5b7d9436db42f465c6220546f",
            "b7633e5e907043d6896d00c0a27b345e",
            "94a8b14da8f842f38c4fe51099764bc2",
            "b1fe67937d3b43cca1ebf87b8a82823c",
            "146eb7fba812482d9d092cbc5ad2164b",
            "c4f2cae80cb643cba29ebf544d7cefff"
          ]
        },
        "id": "x-2dsWeeXNkh",
        "outputId": "ccefec4f-b2c3-4b2d-8734-30ca01d186a6"
      },
      "execution_count": 5,
      "outputs": [
        {
          "output_type": "display_data",
          "data": {
            "text/plain": [
              "Downloading data:   0%|          | 0.00/30.9M [00:00<?, ?B/s]"
            ],
            "application/vnd.jupyter.widget-view+json": {
              "version_major": 2,
              "version_minor": 0,
              "model_id": "adf002589229416d800d9bd46538fbe9"
            }
          },
          "metadata": {}
        },
        {
          "output_type": "display_data",
          "data": {
            "text/plain": [
              "Downloading data:   0%|          | 0.00/5.18M [00:00<?, ?B/s]"
            ],
            "application/vnd.jupyter.widget-view+json": {
              "version_major": 2,
              "version_minor": 0,
              "model_id": "bb6808ddde24467dbe1656a5a98b1e94"
            }
          },
          "metadata": {}
        },
        {
          "output_type": "display_data",
          "data": {
            "text/plain": [
              "Generating train split:   0%|          | 0/60000 [00:00<?, ? examples/s]"
            ],
            "application/vnd.jupyter.widget-view+json": {
              "version_major": 2,
              "version_minor": 0,
              "model_id": "dd66831831e443f3ab0930ce9931674f"
            }
          },
          "metadata": {}
        },
        {
          "output_type": "display_data",
          "data": {
            "text/plain": [
              "Generating test split:   0%|          | 0/10000 [00:00<?, ? examples/s]"
            ],
            "application/vnd.jupyter.widget-view+json": {
              "version_major": 2,
              "version_minor": 0,
              "model_id": "f5bd7b7ba25a4d809a8583959fcad443"
            }
          },
          "metadata": {}
        }
      ]
    },
    {
      "cell_type": "code",
      "source": [
        "def flatten_mse(yhat, targ): return F.mse_loss(yhat.flatten(), targ.flatten())\n",
        "\n",
        "class BaseSchedulerCB(Callback):\n",
        "  def __init__(self, sched_class): self.sched_class = sched_class\n",
        "  def before_fit(self, learn): self.sched = self.sched_class(learn.opt)\n",
        "  def step(self, learn):\n",
        "    if not learn.training: return\n",
        "    self.sched.step()\n",
        "\n",
        "class BatchSchedulerCB(BaseSchedulerCB):\n",
        "  def __init__(self, sched_class):super().__init__(sched_class)\n",
        "  def after_batch(self, learn): self.step(learn)\n",
        "\n",
        "def noisify_img(cb_obj, x_0):\n",
        "  n = x_0.shape[0]\n",
        "  device = x_0.device\n",
        "  noise = torch.randn(x_0.shape, device = device)\n",
        "  ts = torch.randint(0, cb_obj.n_steps, size = (n,), device = device, dtype = torch.long)\n",
        "\n",
        "  if cb_obj.alpha_bar.device != device: cb_obj.alpha_bar = cb_obj.alpha_bar.to(device)\n",
        "\n",
        "  c1 = cb_obj.alpha_bar[ts].sqrt()[:, None, None, None].to(device)\n",
        "  c2 = (1 - cb_obj.alpha_bar[ts]).sqrt()[:, None, None, None].to(device)\n",
        "  x_t = c1*x_0 + c2*noise\n",
        "\n",
        "  return (x_t, ts), noise\n",
        "\n",
        "class DDPMPrep(Callback):\n",
        "  def __init__(self, n_steps = 1000, beta_min = 0.0001, beta_max = 0.02):\n",
        "    fc.store_attr()\n",
        "    self.beta = torch.linspace(beta_min, beta_max, n_steps)\n",
        "    self.alpha = 1. - self.beta\n",
        "    self.alpha_bar = self.alpha.cumprod(0)\n",
        "    self.sigma = self.beta.sqrt()\n",
        "\n",
        "  def before_batch(self, learn): learn.batch = noisify_img(self, learn.batch[0])\n",
        "\n",
        "class AccLearner(TrainLearner):\n",
        "\n",
        "  def __init__(self, *args, **kwargs):\n",
        "    super().__init__(*args, **kwargs)\n",
        "    self.aclr = Accelerator()\n",
        "    self.opt = self.opt_func(self.model.parameters(), self.lr)\n",
        "    self.model, self.opt, self.dls.train, self.dls.valid = self.aclr.prepare(self.model, self.opt, self.dls.train, self.dls.valid)\n",
        "\n",
        "  def backward(self): self.aclr.backward(self.loss)"
      ],
      "metadata": {
        "id": "78dR4tSbYI3L"
      },
      "execution_count": 6,
      "outputs": []
    },
    {
      "cell_type": "markdown",
      "source": [
        "# Jermeys Code"
      ],
      "metadata": {
        "id": "uE5hi24rHyZn"
      }
    },
    {
      "cell_type": "code",
      "source": [],
      "metadata": {
        "id": "-6Lr9YWGHyGZ"
      },
      "execution_count": null,
      "outputs": []
    },
    {
      "cell_type": "code",
      "source": [
        "def get_layer():\n",
        "  return nn.Sequential(\n",
        "      nn.Linear(10, 10),\n",
        "      nn.Linear(10, 10),nn.Linear(10, 10)\n",
        "  )"
      ],
      "metadata": {
        "id": "gO3ABfSfg098"
      },
      "execution_count": 7,
      "outputs": []
    },
    {
      "cell_type": "code",
      "source": [
        "layers = nn.Sequential(*[get_layer() for i in range(4)])"
      ],
      "metadata": {
        "id": "HrVrZGQO9WJb"
      },
      "execution_count": 8,
      "outputs": []
    },
    {
      "cell_type": "code",
      "source": [
        "len(layers)"
      ],
      "metadata": {
        "colab": {
          "base_uri": "https://localhost:8080/"
        },
        "id": "HmZ2GCI89f-B",
        "outputId": "1ea451a2-1b8f-4d84-e955-e08242802201"
      },
      "execution_count": 9,
      "outputs": [
        {
          "output_type": "execute_result",
          "data": {
            "text/plain": [
              "4"
            ]
          },
          "metadata": {},
          "execution_count": 9
        }
      ]
    },
    {
      "cell_type": "code",
      "source": [
        "def unet_conv(ni, nf, ks=3, stride=1, act=nn.SiLU, norm=None, bias=True):\n",
        "    layers = nn.Sequential()\n",
        "    if norm: layers.append(norm(ni))\n",
        "    if act : layers.append(act())\n",
        "    layers.append(nn.Conv2d(ni, nf, stride=stride, kernel_size=ks, padding=ks//2, bias=bias))\n",
        "    return layers"
      ],
      "metadata": {
        "id": "sXDOFJvN9i7_"
      },
      "execution_count": 4,
      "outputs": []
    },
    {
      "cell_type": "code",
      "source": [
        "class UnetResBlock(nn.Module):\n",
        "    def __init__(self, ni, nf=None, ks=3, act=nn.SiLU, norm=nn.BatchNorm2d):\n",
        "        super().__init__()\n",
        "        if nf is None: nf = ni\n",
        "        self.convs = nn.Sequential(unet_conv(ni, nf, ks, act=act, norm=norm),\n",
        "                                   unet_conv(nf, nf, ks, act=act, norm=norm))\n",
        "        self.idconv = fc.noop if ni==nf else nn.Conv2d(ni, nf, 1)\n",
        "\n",
        "    def forward(self, x): return self.convs(x) + self.idconv(x)"
      ],
      "metadata": {
        "id": "LRKgl9mZFZ_H"
      },
      "execution_count": 6,
      "outputs": []
    },
    {
      "cell_type": "code",
      "source": [
        "class SaveModule:\n",
        "    def forward(self, x, *args, **kwargs):\n",
        "        self.saved = super().forward(x, *args, **kwargs)\n",
        "        return self.saved\n",
        "\n",
        "class SavedResBlock(SaveModule, UnetResBlock): pass\n",
        "class SavedConv(SaveModule, nn.Conv2d): pass"
      ],
      "metadata": {
        "id": "rhy4UvFUFbom"
      },
      "execution_count": 7,
      "outputs": []
    },
    {
      "cell_type": "code",
      "source": [
        "def down_block(ni, nf, add_down=True, num_layers=1):\n",
        "    res = nn.Sequential(*[SavedResBlock(ni=ni if i==0 else nf, nf=nf)\n",
        "                         for i in range(num_layers)])\n",
        "    if add_down: res.append(SavedConv(nf, nf, 3, stride=2, padding=1))\n",
        "    return res\n",
        ""
      ],
      "metadata": {
        "id": "aMtzF940FfSi"
      },
      "execution_count": 8,
      "outputs": []
    },
    {
      "cell_type": "code",
      "source": [
        "def upsample(nf): return nn.Sequential(nn.Upsample(scale_factor=2.), nn.Conv2d(nf, nf, 3, padding=1))\n"
      ],
      "metadata": {
        "id": "t30gpCVsFiB1"
      },
      "execution_count": 9,
      "outputs": []
    },
    {
      "cell_type": "code",
      "source": [
        "class UpBlock(nn.Module):\n",
        "    def __init__(self, ni, prev_nf, nf, add_up=True, num_layers=2):\n",
        "        super().__init__()\n",
        "        self.resnets = nn.ModuleList(\n",
        "            [UnetResBlock((prev_nf if i==0 else nf)+(ni if (i==num_layers-1) else nf), nf)\n",
        "            for i in range(num_layers)])\n",
        "        self.up = upsample(nf) if add_up else nn.Identity()\n",
        "\n",
        "    def forward(self, x, ups):\n",
        "        for resnet in self.resnets: x = resnet(torch.cat([x, ups.pop()], dim=1))\n",
        "        return self.up(x)"
      ],
      "metadata": {
        "id": "BTg4-o-xFjsP"
      },
      "execution_count": 10,
      "outputs": []
    },
    {
      "cell_type": "code",
      "source": [
        "class UNet2DModel(nn.Module):\n",
        "    def __init__( self, in_channels=3, out_channels=3, nfs=(224,448,672,896), num_layers=1):\n",
        "        super().__init__()\n",
        "        self.conv_in = nn.Conv2d(in_channels, nfs[0], kernel_size=3, padding=1)\n",
        "        nf = nfs[0]\n",
        "        self.downs = nn.Sequential()\n",
        "        for i in range(len(nfs)):\n",
        "            ni = nf\n",
        "            nf = nfs[i]\n",
        "            self.downs.append(down_block(ni, nf, add_down=i!=len(nfs)-1, num_layers=num_layers))\n",
        "        self.mid_block = UnetResBlock(nfs[-1])\n",
        "\n",
        "        rev_nfs = list(reversed(nfs))\n",
        "        nf = rev_nfs[0]\n",
        "        self.ups = nn.ModuleList()\n",
        "        for i in range(len(nfs)):\n",
        "            prev_nf = nf\n",
        "            nf = rev_nfs[i]\n",
        "            ni = rev_nfs[min(i+1, len(nfs)-1)]\n",
        "            self.ups.append(UpBlock(ni, prev_nf, nf, add_up=i!=len(nfs)-1, num_layers=num_layers+1))\n",
        "        self.conv_out = unet_conv(nfs[0], out_channels, act=nn.SiLU, norm=nn.BatchNorm2d)\n",
        "\n",
        "    def forward(self, inp):\n",
        "        st()\n",
        "        x = self.conv_in(inp[0])\n",
        "        saved = [x]\n",
        "        x = self.downs(x)\n",
        "        saved += [p.saved for o in self.downs for p in o]\n",
        "        x = self.mid_block(x)\n",
        "        for block in self.ups: x = block(x, saved)\n",
        "        return self.conv_out(x)"
      ],
      "metadata": {
        "id": "mtA-Jhr0FmOJ"
      },
      "execution_count": 23,
      "outputs": []
    },
    {
      "cell_type": "code",
      "source": [
        "model = UNet2DModel(in_channels=1, out_channels=1, nfs=(32,64,128,256), num_layers=2)"
      ],
      "metadata": {
        "id": "U17H1HFkFogq"
      },
      "execution_count": 24,
      "outputs": []
    },
    {
      "cell_type": "code",
      "source": [
        "x = torch.randn(64, 1, 32, 32)\n",
        "out = model([x])"
      ],
      "metadata": {
        "colab": {
          "base_uri": "https://localhost:8080/"
        },
        "id": "uoEeUbprFrE9",
        "outputId": "56272811-87ba-44a4-fb08-80ed80a1f244"
      },
      "execution_count": 25,
      "outputs": [
        {
          "output_type": "stream",
          "name": "stderr",
          "text": [
            "\n",
            "PYDEV DEBUGGER WARNING:\n",
            "sys.settrace() should not be used when the debugger is being used.\n",
            "This may cause the debugger to stop working correctly.\n",
            "If this is needed, please check: \n",
            "http://pydev.blogspot.com/2007/06/why-cant-pydev-debugger-work-with.html\n",
            "to see how to restore the debug tracing back correctly.\n",
            "Call Location:\n",
            "  File \"/usr/lib/python3.10/bdb.py\", line 336, in set_trace\n",
            "    sys.settrace(self.trace_dispatch)\n",
            "\n"
          ]
        },
        {
          "name": "stdout",
          "output_type": "stream",
          "text": [
            "> \u001b[0;32m<ipython-input-23-734baf59ad32>\u001b[0m(25)\u001b[0;36mforward\u001b[0;34m()\u001b[0m\n",
            "\u001b[0;32m     24 \u001b[0;31m        \u001b[0mst\u001b[0m\u001b[0;34m(\u001b[0m\u001b[0;34m)\u001b[0m\u001b[0;34m\u001b[0m\u001b[0;34m\u001b[0m\u001b[0m\n",
            "\u001b[0m\u001b[0;32m---> 25 \u001b[0;31m        \u001b[0mx\u001b[0m \u001b[0;34m=\u001b[0m \u001b[0mself\u001b[0m\u001b[0;34m.\u001b[0m\u001b[0mconv_in\u001b[0m\u001b[0;34m(\u001b[0m\u001b[0minp\u001b[0m\u001b[0;34m[\u001b[0m\u001b[0;36m0\u001b[0m\u001b[0;34m]\u001b[0m\u001b[0;34m)\u001b[0m\u001b[0;34m\u001b[0m\u001b[0;34m\u001b[0m\u001b[0m\n",
            "\u001b[0m\u001b[0;32m     26 \u001b[0;31m        \u001b[0msaved\u001b[0m \u001b[0;34m=\u001b[0m \u001b[0;34m[\u001b[0m\u001b[0mx\u001b[0m\u001b[0;34m]\u001b[0m\u001b[0;34m\u001b[0m\u001b[0;34m\u001b[0m\u001b[0m\n",
            "\u001b[0m\n",
            "ipdb> n\n",
            "> \u001b[0;32m<ipython-input-23-734baf59ad32>\u001b[0m(26)\u001b[0;36mforward\u001b[0;34m()\u001b[0m\n",
            "\u001b[0;32m     25 \u001b[0;31m        \u001b[0mx\u001b[0m \u001b[0;34m=\u001b[0m \u001b[0mself\u001b[0m\u001b[0;34m.\u001b[0m\u001b[0mconv_in\u001b[0m\u001b[0;34m(\u001b[0m\u001b[0minp\u001b[0m\u001b[0;34m[\u001b[0m\u001b[0;36m0\u001b[0m\u001b[0;34m]\u001b[0m\u001b[0;34m)\u001b[0m\u001b[0;34m\u001b[0m\u001b[0;34m\u001b[0m\u001b[0m\n",
            "\u001b[0m\u001b[0;32m---> 26 \u001b[0;31m        \u001b[0msaved\u001b[0m \u001b[0;34m=\u001b[0m \u001b[0;34m[\u001b[0m\u001b[0mx\u001b[0m\u001b[0;34m]\u001b[0m\u001b[0;34m\u001b[0m\u001b[0;34m\u001b[0m\u001b[0m\n",
            "\u001b[0m\u001b[0;32m     27 \u001b[0;31m        \u001b[0mx\u001b[0m \u001b[0;34m=\u001b[0m \u001b[0mself\u001b[0m\u001b[0;34m.\u001b[0m\u001b[0mdowns\u001b[0m\u001b[0;34m(\u001b[0m\u001b[0mx\u001b[0m\u001b[0;34m)\u001b[0m\u001b[0;34m\u001b[0m\u001b[0;34m\u001b[0m\u001b[0m\n",
            "\u001b[0m\n",
            "ipdb> x.shape\n",
            "torch.Size([64, 32, 32, 32])\n",
            "ipdb> n\n",
            "> \u001b[0;32m<ipython-input-23-734baf59ad32>\u001b[0m(27)\u001b[0;36mforward\u001b[0;34m()\u001b[0m\n",
            "\u001b[0;32m     26 \u001b[0;31m        \u001b[0msaved\u001b[0m \u001b[0;34m=\u001b[0m \u001b[0;34m[\u001b[0m\u001b[0mx\u001b[0m\u001b[0;34m]\u001b[0m\u001b[0;34m\u001b[0m\u001b[0;34m\u001b[0m\u001b[0m\n",
            "\u001b[0m\u001b[0;32m---> 27 \u001b[0;31m        \u001b[0mx\u001b[0m \u001b[0;34m=\u001b[0m \u001b[0mself\u001b[0m\u001b[0;34m.\u001b[0m\u001b[0mdowns\u001b[0m\u001b[0;34m(\u001b[0m\u001b[0mx\u001b[0m\u001b[0;34m)\u001b[0m\u001b[0;34m\u001b[0m\u001b[0;34m\u001b[0m\u001b[0m\n",
            "\u001b[0m\u001b[0;32m     28 \u001b[0;31m        \u001b[0msaved\u001b[0m \u001b[0;34m+=\u001b[0m \u001b[0;34m[\u001b[0m\u001b[0mp\u001b[0m\u001b[0;34m.\u001b[0m\u001b[0msaved\u001b[0m \u001b[0;32mfor\u001b[0m \u001b[0mo\u001b[0m \u001b[0;32min\u001b[0m \u001b[0mself\u001b[0m\u001b[0;34m.\u001b[0m\u001b[0mdowns\u001b[0m \u001b[0;32mfor\u001b[0m \u001b[0mp\u001b[0m \u001b[0;32min\u001b[0m \u001b[0mo\u001b[0m\u001b[0;34m]\u001b[0m\u001b[0;34m\u001b[0m\u001b[0;34m\u001b[0m\u001b[0m\n",
            "\u001b[0m\n",
            "ipdb> n\n",
            "> \u001b[0;32m<ipython-input-23-734baf59ad32>\u001b[0m(28)\u001b[0;36mforward\u001b[0;34m()\u001b[0m\n",
            "\u001b[0;32m     27 \u001b[0;31m        \u001b[0mx\u001b[0m \u001b[0;34m=\u001b[0m \u001b[0mself\u001b[0m\u001b[0;34m.\u001b[0m\u001b[0mdowns\u001b[0m\u001b[0;34m(\u001b[0m\u001b[0mx\u001b[0m\u001b[0;34m)\u001b[0m\u001b[0;34m\u001b[0m\u001b[0;34m\u001b[0m\u001b[0m\n",
            "\u001b[0m\u001b[0;32m---> 28 \u001b[0;31m        \u001b[0msaved\u001b[0m \u001b[0;34m+=\u001b[0m \u001b[0;34m[\u001b[0m\u001b[0mp\u001b[0m\u001b[0;34m.\u001b[0m\u001b[0msaved\u001b[0m \u001b[0;32mfor\u001b[0m \u001b[0mo\u001b[0m \u001b[0;32min\u001b[0m \u001b[0mself\u001b[0m\u001b[0;34m.\u001b[0m\u001b[0mdowns\u001b[0m \u001b[0;32mfor\u001b[0m \u001b[0mp\u001b[0m \u001b[0;32min\u001b[0m \u001b[0mo\u001b[0m\u001b[0;34m]\u001b[0m\u001b[0;34m\u001b[0m\u001b[0;34m\u001b[0m\u001b[0m\n",
            "\u001b[0m\u001b[0;32m     29 \u001b[0;31m        \u001b[0mx\u001b[0m \u001b[0;34m=\u001b[0m \u001b[0mself\u001b[0m\u001b[0;34m.\u001b[0m\u001b[0mmid_block\u001b[0m\u001b[0;34m(\u001b[0m\u001b[0mx\u001b[0m\u001b[0;34m)\u001b[0m\u001b[0;34m\u001b[0m\u001b[0;34m\u001b[0m\u001b[0m\n",
            "\u001b[0m\n",
            "ipdb> x.shape\n",
            "torch.Size([64, 256, 4, 4])\n",
            "ipdb> self.down\n",
            "*** AttributeError: 'UNet2DModel' object has no attribute 'down'\n",
            "ipdb> self.downs\n",
            "Sequential(\n",
            "  (0): Sequential(\n",
            "    (0): SavedResBlock(\n",
            "      (convs): Sequential(\n",
            "        (0): Sequential(\n",
            "          (0): BatchNorm2d(32, eps=1e-05, momentum=0.1, affine=True, track_running_stats=True)\n",
            "          (1): SiLU()\n",
            "          (2): Conv2d(32, 32, kernel_size=(3, 3), stride=(1, 1), padding=(1, 1))\n",
            "        )\n",
            "        (1): Sequential(\n",
            "          (0): BatchNorm2d(32, eps=1e-05, momentum=0.1, affine=True, track_running_stats=True)\n",
            "          (1): SiLU()\n",
            "          (2): Conv2d(32, 32, kernel_size=(3, 3), stride=(1, 1), padding=(1, 1))\n",
            "        )\n",
            "      )\n",
            "    )\n",
            "    (1): SavedResBlock(\n",
            "      (convs): Sequential(\n",
            "        (0): Sequential(\n",
            "          (0): BatchNorm2d(32, eps=1e-05, momentum=0.1, affine=True, track_running_stats=True)\n",
            "          (1): SiLU()\n",
            "          (2): Conv2d(32, 32, kernel_size=(3, 3), stride=(1, 1), padding=(1, 1))\n",
            "        )\n",
            "        (1): Sequential(\n",
            "          (0): BatchNorm2d(32, eps=1e-05, momentum=0.1, affine=True, track_running_stats=True)\n",
            "          (1): SiLU()\n",
            "          (2): Conv2d(32, 32, kernel_size=(3, 3), stride=(1, 1), padding=(1, 1))\n",
            "        )\n",
            "      )\n",
            "    )\n",
            "    (2): SavedConv(32, 32, kernel_size=(3, 3), stride=(2, 2), padding=(1, 1))\n",
            "  )\n",
            "  (1): Sequential(\n",
            "    (0): SavedResBlock(\n",
            "      (convs): Sequential(\n",
            "        (0): Sequential(\n",
            "          (0): BatchNorm2d(32, eps=1e-05, momentum=0.1, affine=True, track_running_stats=True)\n",
            "          (1): SiLU()\n",
            "          (2): Conv2d(32, 64, kernel_size=(3, 3), stride=(1, 1), padding=(1, 1))\n",
            "        )\n",
            "        (1): Sequential(\n",
            "          (0): BatchNorm2d(64, eps=1e-05, momentum=0.1, affine=True, track_running_stats=True)\n",
            "          (1): SiLU()\n",
            "          (2): Conv2d(64, 64, kernel_size=(3, 3), stride=(1, 1), padding=(1, 1))\n",
            "        )\n",
            "      )\n",
            "      (idconv): Conv2d(32, 64, kernel_size=(1, 1), stride=(1, 1))\n",
            "    )\n",
            "    (1): SavedResBlock(\n",
            "      (convs): Sequential(\n",
            "        (0): Sequential(\n",
            "          (0): BatchNorm2d(64, eps=1e-05, momentum=0.1, affine=True, track_running_stats=True)\n",
            "          (1): SiLU()\n",
            "          (2): Conv2d(64, 64, kernel_size=(3, 3), stride=(1, 1), padding=(1, 1))\n",
            "        )\n",
            "        (1): Sequential(\n",
            "          (0): BatchNorm2d(64, eps=1e-05, momentum=0.1, affine=True, track_running_stats=True)\n",
            "          (1): SiLU()\n",
            "          (2): Conv2d(64, 64, kernel_size=(3, 3), stride=(1, 1), padding=(1, 1))\n",
            "        )\n",
            "      )\n",
            "    )\n",
            "    (2): SavedConv(64, 64, kernel_size=(3, 3), stride=(2, 2), padding=(1, 1))\n",
            "  )\n",
            "  (2): Sequential(\n",
            "    (0): SavedResBlock(\n",
            "      (convs): Sequential(\n",
            "        (0): Sequential(\n",
            "          (0): BatchNorm2d(64, eps=1e-05, momentum=0.1, affine=True, track_running_stats=True)\n",
            "          (1): SiLU()\n",
            "          (2): Conv2d(64, 128, kernel_size=(3, 3), stride=(1, 1), padding=(1, 1))\n",
            "        )\n",
            "        (1): Sequential(\n",
            "          (0): BatchNorm2d(128, eps=1e-05, momentum=0.1, affine=True, track_running_stats=True)\n",
            "          (1): SiLU()\n",
            "          (2): Conv2d(128, 128, kernel_size=(3, 3), stride=(1, 1), padding=(1, 1))\n",
            "        )\n",
            "      )\n",
            "      (idconv): Conv2d(64, 128, kernel_size=(1, 1), stride=(1, 1))\n",
            "    )\n",
            "    (1): SavedResBlock(\n",
            "      (convs): Sequential(\n",
            "        (0): Sequential(\n",
            "          (0): BatchNorm2d(128, eps=1e-05, momentum=0.1, affine=True, track_running_stats=True)\n",
            "          (1): SiLU()\n",
            "          (2): Conv2d(128, 128, kernel_size=(3, 3), stride=(1, 1), padding=(1, 1))\n",
            "        )\n",
            "        (1): Sequential(\n",
            "          (0): BatchNorm2d(128, eps=1e-05, momentum=0.1, affine=True, track_running_stats=True)\n",
            "          (1): SiLU()\n",
            "          (2): Conv2d(128, 128, kernel_size=(3, 3), stride=(1, 1), padding=(1, 1))\n",
            "        )\n",
            "      )\n",
            "    )\n",
            "    (2): SavedConv(128, 128, kernel_size=(3, 3), stride=(2, 2), padding=(1, 1))\n",
            "  )\n",
            "  (3): Sequential(\n",
            "    (0): SavedResBlock(\n",
            "      (convs): Sequential(\n",
            "        (0): Sequential(\n",
            "          (0): BatchNorm2d(128, eps=1e-05, momentum=0.1, affine=True, track_running_stats=True)\n",
            "          (1): SiLU()\n",
            "          (2): Conv2d(128, 256, kernel_size=(3, 3), stride=(1, 1), padding=(1, 1))\n",
            "        )\n",
            "        (1): Sequential(\n",
            "          (0): BatchNorm2d(256, eps=1e-05, momentum=0.1, affine=True, track_running_stats=True)\n",
            "          (1): SiLU()\n",
            "          (2): Conv2d(256, 256, kernel_size=(3, 3), stride=(1, 1), padding=(1, 1))\n",
            "        )\n",
            "      )\n",
            "      (idconv): Conv2d(128, 256, kernel_size=(1, 1), stride=(1, 1))\n",
            "    )\n",
            "    (1): SavedResBlock(\n",
            "      (convs): Sequential(\n",
            "        (0): Sequential(\n",
            "          (0): BatchNorm2d(256, eps=1e-05, momentum=0.1, affine=True, track_running_stats=True)\n",
            "          (1): SiLU()\n",
            "          (2): Conv2d(256, 256, kernel_size=(3, 3), stride=(1, 1), padding=(1, 1))\n",
            "        )\n",
            "        (1): Sequential(\n",
            "          (0): BatchNorm2d(256, eps=1e-05, momentum=0.1, affine=True, track_running_stats=True)\n",
            "          (1): SiLU()\n",
            "          (2): Conv2d(256, 256, kernel_size=(3, 3), stride=(1, 1), padding=(1, 1))\n",
            "        )\n",
            "      )\n",
            "    )\n",
            "  )\n",
            ")\n",
            "ipdb> l\n",
            "\u001b[1;32m     23 \u001b[0m    \u001b[0;32mdef\u001b[0m \u001b[0mforward\u001b[0m\u001b[0;34m(\u001b[0m\u001b[0mself\u001b[0m\u001b[0;34m,\u001b[0m \u001b[0minp\u001b[0m\u001b[0;34m)\u001b[0m\u001b[0;34m:\u001b[0m\u001b[0;34m\u001b[0m\u001b[0;34m\u001b[0m\u001b[0m\n",
            "\u001b[1;32m     24 \u001b[0m        \u001b[0mst\u001b[0m\u001b[0;34m(\u001b[0m\u001b[0;34m)\u001b[0m\u001b[0;34m\u001b[0m\u001b[0;34m\u001b[0m\u001b[0m\n",
            "\u001b[1;32m     25 \u001b[0m        \u001b[0mx\u001b[0m \u001b[0;34m=\u001b[0m \u001b[0mself\u001b[0m\u001b[0;34m.\u001b[0m\u001b[0mconv_in\u001b[0m\u001b[0;34m(\u001b[0m\u001b[0minp\u001b[0m\u001b[0;34m[\u001b[0m\u001b[0;36m0\u001b[0m\u001b[0;34m]\u001b[0m\u001b[0;34m)\u001b[0m\u001b[0;34m\u001b[0m\u001b[0;34m\u001b[0m\u001b[0m\n",
            "\u001b[1;32m     26 \u001b[0m        \u001b[0msaved\u001b[0m \u001b[0;34m=\u001b[0m \u001b[0;34m[\u001b[0m\u001b[0mx\u001b[0m\u001b[0;34m]\u001b[0m\u001b[0;34m\u001b[0m\u001b[0;34m\u001b[0m\u001b[0m\n",
            "\u001b[1;32m     27 \u001b[0m        \u001b[0mx\u001b[0m \u001b[0;34m=\u001b[0m \u001b[0mself\u001b[0m\u001b[0;34m.\u001b[0m\u001b[0mdowns\u001b[0m\u001b[0;34m(\u001b[0m\u001b[0mx\u001b[0m\u001b[0;34m)\u001b[0m\u001b[0;34m\u001b[0m\u001b[0;34m\u001b[0m\u001b[0m\n",
            "\u001b[0;32m---> 28 \u001b[0;31m        \u001b[0msaved\u001b[0m \u001b[0;34m+=\u001b[0m \u001b[0;34m[\u001b[0m\u001b[0mp\u001b[0m\u001b[0;34m.\u001b[0m\u001b[0msaved\u001b[0m \u001b[0;32mfor\u001b[0m \u001b[0mo\u001b[0m \u001b[0;32min\u001b[0m \u001b[0mself\u001b[0m\u001b[0;34m.\u001b[0m\u001b[0mdowns\u001b[0m \u001b[0;32mfor\u001b[0m \u001b[0mp\u001b[0m \u001b[0;32min\u001b[0m \u001b[0mo\u001b[0m\u001b[0;34m]\u001b[0m\u001b[0;34m\u001b[0m\u001b[0;34m\u001b[0m\u001b[0m\n",
            "\u001b[0m\u001b[1;32m     29 \u001b[0m        \u001b[0mx\u001b[0m \u001b[0;34m=\u001b[0m \u001b[0mself\u001b[0m\u001b[0;34m.\u001b[0m\u001b[0mmid_block\u001b[0m\u001b[0;34m(\u001b[0m\u001b[0mx\u001b[0m\u001b[0;34m)\u001b[0m\u001b[0;34m\u001b[0m\u001b[0;34m\u001b[0m\u001b[0m\n",
            "\u001b[1;32m     30 \u001b[0m        \u001b[0;32mfor\u001b[0m \u001b[0mblock\u001b[0m \u001b[0;32min\u001b[0m \u001b[0mself\u001b[0m\u001b[0;34m.\u001b[0m\u001b[0mups\u001b[0m\u001b[0;34m:\u001b[0m \u001b[0mx\u001b[0m \u001b[0;34m=\u001b[0m \u001b[0mblock\u001b[0m\u001b[0;34m(\u001b[0m\u001b[0mx\u001b[0m\u001b[0;34m,\u001b[0m \u001b[0msaved\u001b[0m\u001b[0;34m)\u001b[0m\u001b[0;34m\u001b[0m\u001b[0;34m\u001b[0m\u001b[0m\n",
            "\u001b[1;32m     31 \u001b[0m        \u001b[0;32mreturn\u001b[0m \u001b[0mself\u001b[0m\u001b[0;34m.\u001b[0m\u001b[0mconv_out\u001b[0m\u001b[0;34m(\u001b[0m\u001b[0mx\u001b[0m\u001b[0;34m)\u001b[0m\u001b[0;34m\u001b[0m\u001b[0;34m\u001b[0m\u001b[0m\n",
            "\n",
            "ipdb> n\n",
            "> \u001b[0;32m<ipython-input-23-734baf59ad32>\u001b[0m(29)\u001b[0;36mforward\u001b[0;34m()\u001b[0m\n",
            "\u001b[0;32m     28 \u001b[0;31m        \u001b[0msaved\u001b[0m \u001b[0;34m+=\u001b[0m \u001b[0;34m[\u001b[0m\u001b[0mp\u001b[0m\u001b[0;34m.\u001b[0m\u001b[0msaved\u001b[0m \u001b[0;32mfor\u001b[0m \u001b[0mo\u001b[0m \u001b[0;32min\u001b[0m \u001b[0mself\u001b[0m\u001b[0;34m.\u001b[0m\u001b[0mdowns\u001b[0m \u001b[0;32mfor\u001b[0m \u001b[0mp\u001b[0m \u001b[0;32min\u001b[0m \u001b[0mo\u001b[0m\u001b[0;34m]\u001b[0m\u001b[0;34m\u001b[0m\u001b[0;34m\u001b[0m\u001b[0m\n",
            "\u001b[0m\u001b[0;32m---> 29 \u001b[0;31m        \u001b[0mx\u001b[0m \u001b[0;34m=\u001b[0m \u001b[0mself\u001b[0m\u001b[0;34m.\u001b[0m\u001b[0mmid_block\u001b[0m\u001b[0;34m(\u001b[0m\u001b[0mx\u001b[0m\u001b[0;34m)\u001b[0m\u001b[0;34m\u001b[0m\u001b[0;34m\u001b[0m\u001b[0m\n",
            "\u001b[0m\u001b[0;32m     30 \u001b[0;31m        \u001b[0;32mfor\u001b[0m \u001b[0mblock\u001b[0m \u001b[0;32min\u001b[0m \u001b[0mself\u001b[0m\u001b[0;34m.\u001b[0m\u001b[0mups\u001b[0m\u001b[0;34m:\u001b[0m \u001b[0mx\u001b[0m \u001b[0;34m=\u001b[0m \u001b[0mblock\u001b[0m\u001b[0;34m(\u001b[0m\u001b[0mx\u001b[0m\u001b[0;34m,\u001b[0m \u001b[0msaved\u001b[0m\u001b[0;34m)\u001b[0m\u001b[0;34m\u001b[0m\u001b[0;34m\u001b[0m\u001b[0m\n",
            "\u001b[0m\n",
            "ipdb> len(saved)\n",
            "12\n",
            "ipdb> self.downs[0]\n",
            "Sequential(\n",
            "  (0): SavedResBlock(\n",
            "    (convs): Sequential(\n",
            "      (0): Sequential(\n",
            "        (0): BatchNorm2d(32, eps=1e-05, momentum=0.1, affine=True, track_running_stats=True)\n",
            "        (1): SiLU()\n",
            "        (2): Conv2d(32, 32, kernel_size=(3, 3), stride=(1, 1), padding=(1, 1))\n",
            "      )\n",
            "      (1): Sequential(\n",
            "        (0): BatchNorm2d(32, eps=1e-05, momentum=0.1, affine=True, track_running_stats=True)\n",
            "        (1): SiLU()\n",
            "        (2): Conv2d(32, 32, kernel_size=(3, 3), stride=(1, 1), padding=(1, 1))\n",
            "      )\n",
            "    )\n",
            "  )\n",
            "  (1): SavedResBlock(\n",
            "    (convs): Sequential(\n",
            "      (0): Sequential(\n",
            "        (0): BatchNorm2d(32, eps=1e-05, momentum=0.1, affine=True, track_running_stats=True)\n",
            "        (1): SiLU()\n",
            "        (2): Conv2d(32, 32, kernel_size=(3, 3), stride=(1, 1), padding=(1, 1))\n",
            "      )\n",
            "      (1): Sequential(\n",
            "        (0): BatchNorm2d(32, eps=1e-05, momentum=0.1, affine=True, track_running_stats=True)\n",
            "        (1): SiLU()\n",
            "        (2): Conv2d(32, 32, kernel_size=(3, 3), stride=(1, 1), padding=(1, 1))\n",
            "      )\n",
            "    )\n",
            "  )\n",
            "  (2): SavedConv(32, 32, kernel_size=(3, 3), stride=(2, 2), padding=(1, 1))\n",
            ")\n",
            "ipdb> self.downs[0].saved\n",
            "*** AttributeError: 'Sequential' object has no attribute 'saved'\n",
            "ipdb> exit\n"
          ]
        },
        {
          "output_type": "stream",
          "name": "stderr",
          "text": [
            "\n",
            "PYDEV DEBUGGER WARNING:\n",
            "sys.settrace() should not be used when the debugger is being used.\n",
            "This may cause the debugger to stop working correctly.\n",
            "If this is needed, please check: \n",
            "http://pydev.blogspot.com/2007/06/why-cant-pydev-debugger-work-with.html\n",
            "to see how to restore the debug tracing back correctly.\n",
            "Call Location:\n",
            "  File \"/usr/lib/python3.10/bdb.py\", line 361, in set_quit\n",
            "    sys.settrace(None)\n",
            "\n"
          ]
        }
      ]
    },
    {
      "cell_type": "markdown",
      "source": [
        "# Test Exps and Viz"
      ],
      "metadata": {
        "id": "8tfyFx7UT41Y"
      }
    },
    {
      "cell_type": "code",
      "source": [
        "x = torch.randn(16)\n",
        "plt.plot(x)\n",
        "plt.plot(nn.SiLU()(x))"
      ],
      "metadata": {
        "colab": {
          "base_uri": "https://localhost:8080/",
          "height": 0
        },
        "id": "eHRsySgOH42_",
        "outputId": "a15f07b8-32a9-46e4-d900-9828818f6879"
      },
      "execution_count": 39,
      "outputs": [
        {
          "output_type": "execute_result",
          "data": {
            "text/plain": [
              "[<matplotlib.lines.Line2D at 0x7f5d0fce7ca0>]"
            ]
          },
          "metadata": {},
          "execution_count": 39
        },
        {
          "output_type": "display_data",
          "data": {
            "text/plain": [
              "<Figure size 640x480 with 1 Axes>"
            ],
            "image/png": "[encoded data removed]"
          },
          "metadata": {}
        }
      ]
    },
    {
      "cell_type": "code",
      "source": [
        "x = torch.linspace(-1, 1, 60)\n",
        "plt.plot(x)\n",
        "plt.plot(nn.SiLU()(x))"
      ],
      "metadata": {
        "colab": {
          "base_uri": "https://localhost:8080/",
          "height": 0
        },
        "id": "GN2XJP-lSyyJ",
        "outputId": "f8e2d75e-163b-4706-881b-e5c5ab2190c4"
      },
      "execution_count": 40,
      "outputs": [
        {
          "output_type": "execute_result",
          "data": {
            "text/plain": [
              "[<matplotlib.lines.Line2D at 0x7f5d0fcf2e00>]"
            ]
          },
          "metadata": {},
          "execution_count": 40
        },
        {
          "output_type": "display_data",
          "data": {
            "text/plain": [
              "<Figure size 640x480 with 1 Axes>"
            ],
            "image/png": "[encoded data removed]"
          },
          "metadata": {}
        }
      ]
    },
    {
      "cell_type": "markdown",
      "source": [
        "# Without Timestep Implementation"
      ],
      "metadata": {
        "id": "VYomwkXUH1fq"
      }
    },
    {
      "cell_type": "markdown",
      "source": [
        "**Plan**\n",
        "\n",
        "3 versions of diffusion unet should be implemented.\n",
        "1. What ever is implemented in diffusers\n",
        "2. Replace Unet Conv with my implementation of pre act conv\n",
        "3. Tweak the arch in a way that instead of adding skip connections everywhere, just limit it to the starting block."
      ],
      "metadata": {
        "id": "y_96hJPMOWGT"
      }
    },
    {
      "cell_type": "code",
      "source": [
        "# Basic Pre Act Conv -\n",
        "# Saved Conv\n",
        "# Down Block\n",
        "# Up Block"
      ],
      "metadata": {
        "id": "l1xv2IsxH5DX"
      },
      "execution_count": null,
      "outputs": []
    },
    {
      "cell_type": "code",
      "source": [
        "def _pre_conv(ni, nf, kernel_size = 3, stride = 1, act = nn.SiLU, norm = nn.BatchNorm2d):\n",
        "  layers = []\n",
        "  if act: layers.append(act())\n",
        "  if norm: layers.append(norm(ni))\n",
        "  layers.append(nn.Conv2d(ni, nf, kernel_size, stride = stride, padding = kernel_size//2, bias = True))\n",
        "  return nn.Sequential(*layers)\n",
        "\n",
        "class ResBlock(nn.Module):\n",
        "  def __init__(self, ni, nf, kernel_size = 3, stride = 1, act = nn.SiLU, norm = nn.BatchNorm2d):\n",
        "    super().__init__()\n",
        "    self.id_conv = nn.Conv2d(ni, nf, kernel_size = 1, stride = stride) if ni != nf else fc.noop\n",
        "    self.convs = nn.Sequential(\n",
        "        _pre_conv(ni, nf, kernel_size, 1, act, norm),\n",
        "        _pre_conv(nf, nf, kernel_size, stride, act, norm)\n",
        "    )\n",
        "\n",
        "  def forward(self, x): return self.id_conv(x) + self.convs(x)\n",
        "\n",
        "class SM:\n",
        "  def forward(self, *args, **kwargs):\n",
        "    self.saved = super().forward(*args, **kwargs)\n",
        "    return self.saved\n",
        "\n",
        "class SConv(SM, nn.Conv2d): pass\n",
        "class SResBlock(SM, ResBlock): pass\n",
        "\n",
        "def down_block(ni, nf, n_layers = 1, add_down = True, act = nn.SiLU, norm = nn.BatchNorm2d):\n",
        "  layers = [SResBlock(ni if i == 0 else nf, nf, act = act, norm = norm) for i in range(n_layers)]\n",
        "  if add_down == True: layers.append(SConv(nf, nf, kernel_size = 3, stride = 2, padding = 1))\n",
        "  return nn.Sequential(*layers)\n",
        "\n",
        "def up_conv(ni, nf, kernel_size = 3):\n",
        "  return nn.Sequential(nn.Upsample(scale_factor = 2), nn.Conv2d(ni, nf, stride = 1, kernel_size = kernel_size, padding = kernel_size//2))\n",
        "\n",
        "class UpBlock(nn.Module):\n",
        "  def __init__(self, ni, nf, prev_nf, add_up = True, n_layers = 2, act = nn.SiLU, norm = nn.BatchNorm2d):\n",
        "    super().__init__()\n",
        "    self.blocks = nn.ModuleList([])\n",
        "    for i in range(n_layers):\n",
        "      if i == 0: inc = ni + nf\n",
        "      elif i == n_layers - 1: inc = prev_nf + nf\n",
        "      else: inc = 2*nf\n",
        "      self.blocks.append(ResBlock(inc, nf, act = act, norm = norm))\n",
        "\n",
        "    self.up = up_conv(nf, nf) if add_up else nn.Identity()\n",
        "\n",
        "  def forward(self, x, ups):\n",
        "    for block in self.blocks: x = block(torch.cat([ups.pop(), x], dim = 1))\n",
        "    return self.up(x)\n",
        "\n",
        "class DiffusionUNET(nn.Module):\n",
        "  def __init__(self, in_channels = FMNIST_IN_CHANNELS, out_channels = FMNIST_OUT_CHANNELS,\n",
        "                                                    nfs = [64, 128, 256, 512], n_layers = 2):\n",
        "    super().__init__()\n",
        "    self.first_c = nn.Conv2d(in_channels, nfs[0], kernel_size = 3, padding = 1, bias = True)\n",
        "    downs, ni = [], nfs[0]\n",
        "    for i, nf in enumerate(nfs):\n",
        "      downs.append(down_block(ni, nf, n_layers = n_layers, add_down = False if i == (len(nfs)-1) else True))\n",
        "      ni = nf\n",
        "    self.downs = nn.Sequential(*downs)\n",
        "    self.mid_c = ResBlock(nf, nf)\n",
        "    ups, ni, nfs  = [], nfs[-1], list(reversed(nfs))\n",
        "    for i, nf in enumerate(nfs):\n",
        "      prev_nf = nfs[i + 1] if i < len(nfs) - 1 else nfs[i]\n",
        "      ups.append(UpBlock(ni, nf, prev_nf, add_up = True if i < len(nfs) - 1 else False, n_layers = n_layers + 1))\n",
        "      ni = nf\n",
        "    self.ups = nn.ModuleList(ups)\n",
        "    self.final_c = _pre_conv(nfs[-1], out_channels)\n",
        "\n",
        "  def forward(self, inp):\n",
        "    x, t = inp\n",
        "    x = self.first_c(x)\n",
        "    acts = [x]\n",
        "    x = self.downs(x)\n",
        "    x = self.mid_c(x)\n",
        "    acts += [i.saved for j in self.downs for i in j]\n",
        "    for up in self.ups: x = up(x, acts)\n",
        "    return self.final_c(x)"
      ],
      "metadata": {
        "id": "MDzI7qVbH48I"
      },
      "execution_count": 8,
      "outputs": []
    },
    {
      "cell_type": "code",
      "source": [
        "x, y = next(iter(dls.train))\n",
        "(xout, t), y = noisify_img(DDPMPrep(beta_max=0.01), x)\n",
        "print(y.mean(), y.std())\n",
        "show_images(xout[:9], titles= [str(i.item()) for i in t[:9]])"
      ],
      "metadata": {
        "colab": {
          "base_uri": "https://localhost:8080/",
          "height": 770
        },
        "id": "iXxjoORgdisy",
        "outputId": "34b7836a-c2ce-4047-de02-7f61b07e983d"
      },
      "execution_count": 9,
      "outputs": [
        {
          "output_type": "stream",
          "name": "stdout",
          "text": [
            "tensor(-0.0005) tensor(1.0009)\n"
          ]
        },
        {
          "output_type": "display_data",
          "data": {
            "text/plain": [
              "<Figure size 900x900 with 9 Axes>"
            ],
            "image/png": "[encoded data removed]"
          },
          "metadata": {}
        }
      ]
    },
    {
      "cell_type": "code",
      "source": [
        "lr_max, epochs = 5e-04, 4\n",
        "cbs = [\n",
        "          DeviceCB(torch.device('cuda' if torch.cuda.is_available() else 'cpu')),\n",
        "          MetricsCB(),\n",
        "          ProgressCB(plot = True),\n",
        "          DDPMPrep(beta_max=0.01),\n",
        "          BatchSchedulerCB(partial(lr_scheduler.OneCycleLR, max_lr = lr_max, epochs = epochs, steps_per_epoch = len(dls.train))),\n",
        "      ]\n",
        "model =  DiffusionUNET(nfs = [64, 128, 256, 512])\n",
        "learner = AccLearner(model, dls, loss_func = flatten_mse, lr = lr_max, cbs = cbs, opt_func = partial(torch.optim.AdamW, eps = 1e-05))\n",
        "learner.fit(epochs)"
      ],
      "metadata": {
        "colab": {
          "base_uri": "https://localhost:8080/",
          "height": 651
        },
        "id": "lSNDVO7cX0bU",
        "outputId": "3fb0fe19-8f61-4658-8f8e-65a565c4f0fe"
      },
      "execution_count": 23,
      "outputs": [
        {
          "output_type": "display_data",
          "data": {
            "text/plain": [
              "<IPython.core.display.HTML object>"
            ],
            "text/html": [
              "\n",
              "<style>\n",
              "    /* Turns off some styling */\n",
              "    progress {\n",
              "        /* gets rid of default border in Firefox and Opera. */\n",
              "        border: none;\n",
              "        /* Needs to be in here for Safari polyfill so background images work as expected. */\n",
              "        background-size: auto;\n",
              "    }\n",
              "    progress:not([value]), progress:not([value])::-webkit-progress-bar {\n",
              "        background: repeating-linear-gradient(45deg, #7e7e7e, #7e7e7e 10px, #5c5c5c 10px, #5c5c5c 20px);\n",
              "    }\n",
              "    .progress-bar-interrupted, .progress-bar-interrupted::-webkit-progress-bar {\n",
              "        background: #F44336;\n",
              "    }\n",
              "</style>\n"
            ]
          },
          "metadata": {}
        },
        {
          "output_type": "display_data",
          "data": {
            "text/plain": [
              "<IPython.core.display.HTML object>"
            ],
            "text/html": [
              "<table border=\"1\" class=\"dataframe\">\n",
              "  <thead>\n",
              "    <tr style=\"text-align: left;\">\n",
              "      <th>loss</th>\n",
              "      <th>epoch</th>\n",
              "      <th>train</th>\n",
              "    </tr>\n",
              "  </thead>\n",
              "  <tbody>\n",
              "    <tr>\n",
              "      <td>0.167</td>\n",
              "      <td>0</td>\n",
              "      <td>train</td>\n",
              "    </tr>\n",
              "    <tr>\n",
              "      <td>0.087</td>\n",
              "      <td>0</td>\n",
              "      <td>eval</td>\n",
              "    </tr>\n",
              "    <tr>\n",
              "      <td>0.064</td>\n",
              "      <td>1</td>\n",
              "      <td>train</td>\n",
              "    </tr>\n",
              "    <tr>\n",
              "      <td>0.068</td>\n",
              "      <td>1</td>\n",
              "      <td>eval</td>\n",
              "    </tr>\n",
              "    <tr>\n",
              "      <td>0.052</td>\n",
              "      <td>2</td>\n",
              "      <td>train</td>\n",
              "    </tr>\n",
              "    <tr>\n",
              "      <td>0.048</td>\n",
              "      <td>2</td>\n",
              "      <td>eval</td>\n",
              "    </tr>\n",
              "    <tr>\n",
              "      <td>0.046</td>\n",
              "      <td>3</td>\n",
              "      <td>train</td>\n",
              "    </tr>\n",
              "    <tr>\n",
              "      <td>0.045</td>\n",
              "      <td>3</td>\n",
              "      <td>eval</td>\n",
              "    </tr>\n",
              "  </tbody>\n",
              "</table>"
            ]
          },
          "metadata": {}
        },
        {
          "output_type": "display_data",
          "data": {
            "text/plain": [
              "<Figure size 600x400 with 1 Axes>"
            ],
            "image/png": "[encoded data removed]"
          },
          "metadata": {}
        }
      ]
    },
    {
      "cell_type": "code",
      "source": [
        "del model\n",
        "del learner\n",
        "clean_mem()"
      ],
      "metadata": {
        "id": "OTgQ_ubGeoZX"
      },
      "execution_count": 21,
      "outputs": []
    },
    {
      "cell_type": "markdown",
      "source": [
        "# With Timestep Implentation\n",
        "\n",
        "1. timestep logic\n",
        "2. New Implementation of All the blocks with timestep inclusion logic"
      ],
      "metadata": {
        "id": "4rUiNhpg9Kju"
      }
    },
    {
      "cell_type": "code",
      "source": [
        "tsteps = torch.linspace(-10, 10, 100)\n",
        "max_t = 100\n",
        "nemb = 16\n",
        "points = -1*math.log(max_t) * torch.linspace(0, 1, nemb//2)"
      ],
      "metadata": {
        "id": "QL8NtRnffFM4"
      },
      "execution_count": 50,
      "outputs": []
    },
    {
      "cell_type": "code",
      "source": [
        "plt.plot(points)"
      ],
      "metadata": {
        "id": "ryFpFsQc-CrY",
        "outputId": "ea26d7ef-ec8e-4726-daf3-b58960b97a9f",
        "colab": {
          "base_uri": "https://localhost:8080/",
          "height": 448
        }
      },
      "execution_count": 45,
      "outputs": [
        {
          "output_type": "execute_result",
          "data": {
            "text/plain": [
              "[<matplotlib.lines.Line2D at 0x7f15c75e93f0>]"
            ]
          },
          "metadata": {},
          "execution_count": 45
        },
        {
          "output_type": "display_data",
          "data": {
            "text/plain": [
              "<Figure size 640x480 with 1 Axes>"
            ],
            "image/png": "[encoded data removed]"
          },
          "metadata": {}
        }
      ]
    },
    {
      "cell_type": "code",
      "source": [
        "points_dist = tsteps[:, None] * points[None, :].exp()\n",
        "points_dist.shape"
      ],
      "metadata": {
        "id": "6P62jgO_-IMo",
        "outputId": "de5971ad-ee25-4496-cec5-b609d6f8eb77",
        "colab": {
          "base_uri": "https://localhost:8080/"
        }
      },
      "execution_count": 51,
      "outputs": [
        {
          "output_type": "execute_result",
          "data": {
            "text/plain": [
              "torch.Size([100, 8])"
            ]
          },
          "metadata": {},
          "execution_count": 51
        }
      ]
    },
    {
      "cell_type": "code",
      "source": [
        "for i in points_dist: plt.plot(i)"
      ],
      "metadata": {
        "id": "X6PHTfSw-Qo3",
        "outputId": "542cc08a-d053-4082-bfb7-11e39ef0540e",
        "colab": {
          "base_uri": "https://localhost:8080/",
          "height": 430
        }
      },
      "execution_count": 40,
      "outputs": [
        {
          "output_type": "display_data",
          "data": {
            "text/plain": [
              "<Figure size 640x480 with 1 Axes>"
            ],
            "image/png": "[encoded data removed]"
          },
          "metadata": {}
        }
      ]
    },
    {
      "cell_type": "code",
      "source": [
        "tembs = torch.cat((torch.sin(points_dist), torch.cos(points_dist)), dim = 1)\n",
        "show_image(tembs.T)"
      ],
      "metadata": {
        "id": "mHGajM0W-Z12",
        "outputId": "4ae94720-e83d-43e1-a04e-d89ab7d4cb00",
        "colab": {
          "base_uri": "https://localhost:8080/",
          "height": 134
        }
      },
      "execution_count": 52,
      "outputs": [
        {
          "output_type": "execute_result",
          "data": {
            "text/plain": [
              "<Axes: >"
            ]
          },
          "metadata": {},
          "execution_count": 52
        },
        {
          "output_type": "display_data",
          "data": {
            "text/plain": [
              "<Figure size 640x480 with 1 Axes>"
            ],
            "image/png": "[encoded data removed]"
          },
          "metadata": {}
        }
      ]
    },
    {
      "cell_type": "code",
      "source": [
        "def get_tembs(nsteps, nemb = 32, max_steps = 1000):\n",
        "  tsteps = torch.linspace(-10, 10, nsteps)\n",
        "  points = -1*math.log(max_steps) * torch.linspace(0, 1, nemb//2)\n",
        "  points_dist = tsteps[:, None] * points[None, :].exp()\n",
        "  return torch.cat((torch.sin(points_dist), torch.cos(points_dist)), dim = 1)"
      ],
      "metadata": {
        "id": "YJpjFua6ADWd"
      },
      "execution_count": 53,
      "outputs": []
    },
    {
      "cell_type": "code",
      "source": [
        "a = torch.randn(32, 64, 4, 4)\n",
        "x, y = a.chunk(2, dim = 1)\n",
        "x.shape, y.shape"
      ],
      "metadata": {
        "id": "8zQHmfy62FD7",
        "outputId": "a273f0a3-e2c5-4adf-8401-21ab11ca9c7f",
        "colab": {
          "base_uri": "https://localhost:8080/"
        }
      },
      "execution_count": 56,
      "outputs": [
        {
          "output_type": "execute_result",
          "data": {
            "text/plain": [
              "(torch.Size([32, 32, 4, 4]), torch.Size([32, 32, 4, 4]))"
            ]
          },
          "metadata": {},
          "execution_count": 56
        }
      ]
    },
    {
      "cell_type": "code",
      "source": [
        "class EmbResBlock(nn.Module):\n",
        "  def __init__(self, ni, nf, n_emb, kernel_size = 3, stride = 1, act = nn.SiLU, norm = nn.BatchNorm2d):\n",
        "    super().__init__()\n",
        "    self.emb_proj = nn.Linear(n_emb, 2*nf)\n",
        "    self.id_conv = nn.Conv2d(ni, nf, kernel_size = 1, stride = stride) if ni != nf else fc.noop\n",
        "    self.conv1 = _pre_conv(ni, nf, kernel_size, 1, act, norm)\n",
        "    self.conv2 = _pre_conv(nf, nf, kernel_size, stride, act, norm)\n",
        "\n",
        "  def forward(self, x, t_emb):\n",
        "    res = self.conv1(x)\n",
        "    t_emb = self.emb_proj(t_emb)[:, :, None, None]  # bs, 2*nf\n",
        "    scale, shift = t_emb.chunk(2, dim = 1)\n",
        "    res = res + res * scale + shift\n",
        "    return self.id_conv(x) + self.conv2(res)\n",
        "\n",
        "class SEResBlock(SM, ResBlock): pass\n",
        "\n",
        "def down_block(ni, nf, n_emb, n_layers = 1, add_down = True, act = nn.SiLU, norm = nn.BatchNorm2d):\n",
        "  layers = [SEResBlock(ni if i == 0 else nf, nf, n_emb = n_emb, act = act, norm = norm) for i in range(n_layers)]\n",
        "  if add_down == True: layers.append(SConv(nf, nf, kernel_size = 3, stride = 2, padding = 1))\n",
        "  return nn.Sequential(*layers)\n",
        "\n",
        "def up_conv(ni, nf, kernel_size = 3):\n",
        "  return nn.Sequential(nn.Upsample(scale_factor = 2), nn.Conv2d(ni, nf, stride = 1, kernel_size = kernel_size, padding = kernel_size//2))\n",
        "\n",
        "class UpBlock(nn.Module):\n",
        "  def __init__(self, ni, nf, prev_nf, n_emb, add_up = True, n_layers = 2, act = nn.SiLU, norm = nn.BatchNorm2d):\n",
        "    super().__init__()\n",
        "    self.blocks = nn.ModuleList([])\n",
        "    for i in range(n_layers):\n",
        "      if i == 0: inc = ni + nf\n",
        "      elif i == n_layers - 1: inc = prev_nf + nf\n",
        "      else: inc = 2*nf\n",
        "      self.blocks.append(EmbResBlock(inc, nf, n_emb = n_emb, act = act, norm = norm))\n",
        "\n",
        "    self.up = up_conv(nf, nf) if add_up else nn.Identity()\n",
        "\n",
        "  def forward(self, x, ups, t_emb):\n",
        "    for block in self.blocks: x = block(torch.cat([ups.pop(), x], dim = 1), t_emb)\n",
        "    return self.up(x)\n",
        "\n",
        "class DiffusionUNET(nn.Module):\n",
        "  def __init__(self, in_channels = FMNIST_IN_CHANNELS, out_channels = FMNIST_OUT_CHANNELS,\n",
        "                                                    nfs = [64, 128, 256, 512], n_layers = 2, emb_dim = 16):\n",
        "    super().__init__()\n",
        "\n",
        "    n_emb = nfs[0]*4\n",
        "    self.emb_mlp = nn.Sequential(nn.Linear(emb_dim, n_emb, bias = True),\n",
        "                                 nn.BatchNorm1d(n_emb),\n",
        "                                 nn.Linear(n_emb, n_emb, bias = True))\n",
        "\n",
        "    self.first_c = nn.Conv2d(in_channels, nfs[0], kernel_size = 3, padding = 1, bias = True)\n",
        "    downs, ni = [], nfs[0]\n",
        "    for i, nf in enumerate(nfs):\n",
        "      downs.append(down_block(ni, nf, n_emb = n_emb, n_layers = n_layers, add_down = False if i == (len(nfs)-1) else True))\n",
        "      ni = nf\n",
        "\n",
        "    self.downs = nn.Sequential(*downs)\n",
        "    self.mid_c = EmbResBlock(nf, nf, n_emb = n_emb)\n",
        "\n",
        "    ups, ni, nfs  = [], nfs[-1], list(reversed(nfs))\n",
        "    for i, nf in enumerate(nfs):\n",
        "      prev_nf = nfs[i + 1] if i < len(nfs) - 1 else nfs[i]\n",
        "      ups.append(UpBlock(ni, nf, prev_nf, n_emb = n_emb, add_up = True if i < len(nfs) - 1 else False, n_layers = n_layers + 1))\n",
        "      ni = nf\n",
        "    self.ups = nn.ModuleList(ups)\n",
        "    self.final_c = _pre_conv(nfs[-1], out_channels) # EmbResBlock(nf, nf, n_emb = n_emb)\n",
        "\n",
        "  def forward(self, inp):\n",
        "    x, ts = inp\n",
        "    t_emb = self.emb_mlp(ts) # bs, 4*nfs[0]\n",
        "    x = self.first_c(x)\n",
        "    acts = [x]\n",
        "    for block in self.downs: x = block(x, t_emb)\n",
        "    x = self.mid_c(x, t_emb)\n",
        "    acts += [i.saved for j in self.downs for i in j]\n",
        "    for up in self.ups: x = up(x, acts, t_emb)\n",
        "    return self.final_c(x)"
      ],
      "metadata": {
        "id": "-Y-hNxAXB93L"
      },
      "execution_count": 57,
      "outputs": []
    },
    {
      "cell_type": "code",
      "source": [],
      "metadata": {
        "id": "TfHjGT9kB9oZ"
      },
      "execution_count": null,
      "outputs": []
    }
  ]
}
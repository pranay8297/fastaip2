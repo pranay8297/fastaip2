{
  "nbformat": 4,
  "nbformat_minor": 0,
  "metadata": {
    "colab": {
      "provenance": [],
      "collapsed_sections": [
        "uE5hi24rHyZn",
        "8tfyFx7UT41Y",
        "VYomwkXUH1fq",
        "4rUiNhpg9Kju"
      ],
      "authorship_tag": "ABX9TyPcPsfkzdfwlXSMRrJFMfw1",
      "include_colab_link": true
    },
    "kernelspec": {
      "name": "python3",
      "display_name": "Python 3"
    },
    "language_info": {
      "name": "python"
    },
    "widgets": {
      "application/vnd.jupyter.widget-state+json": {
        "bd06e59ce012481882bc902b8f040d35": {
          "model_module": "@jupyter-widgets/controls",
          "model_name": "HBoxModel",
          "model_module_version": "1.5.0",
          "state": {
            "_dom_classes": [],
            "_model_module": "@jupyter-widgets/controls",
            "_model_module_version": "1.5.0",
            "_model_name": "HBoxModel",
            "_view_count": null,
            "_view_module": "@jupyter-widgets/controls",
            "_view_module_version": "1.5.0",
            "_view_name": "HBoxView",
            "box_style": "",
            "children": [
              "IPY_MODEL_9cfa9cd80fed4a8bb500e1414a740d71",
              "IPY_MODEL_e5820b285c6e4dc29987b7dcf26f6127",
              "IPY_MODEL_ae48927cdd2142bc8e9e562e9bd992ee"
            ],
            "layout": "IPY_MODEL_24f7813dd17b41fcb4fc6d2f17447c88"
          }
        },
        "9cfa9cd80fed4a8bb500e1414a740d71": {
          "model_module": "@jupyter-widgets/controls",
          "model_name": "HTMLModel",
          "model_module_version": "1.5.0",
          "state": {
            "_dom_classes": [],
            "_model_module": "@jupyter-widgets/controls",
            "_model_module_version": "1.5.0",
            "_model_name": "HTMLModel",
            "_view_count": null,
            "_view_module": "@jupyter-widgets/controls",
            "_view_module_version": "1.5.0",
            "_view_name": "HTMLView",
            "description": "",
            "description_tooltip": null,
            "layout": "IPY_MODEL_3bb41f683705481193664405be867cea",
            "placeholder": "​",
            "style": "IPY_MODEL_9e664da0778f447b890b08821b9b30c5",
            "value": "Downloading data: 100%"
          }
        },
        "e5820b285c6e4dc29987b7dcf26f6127": {
          "model_module": "@jupyter-widgets/controls",
          "model_name": "FloatProgressModel",
          "model_module_version": "1.5.0",
          "state": {
            "_dom_classes": [],
            "_model_module": "@jupyter-widgets/controls",
            "_model_module_version": "1.5.0",
            "_model_name": "FloatProgressModel",
            "_view_count": null,
            "_view_module": "@jupyter-widgets/controls",
            "_view_module_version": "1.5.0",
            "_view_name": "ProgressView",
            "bar_style": "success",
            "description": "",
            "description_tooltip": null,
            "layout": "IPY_MODEL_ca542b87131144769ceb75f48e4e5ef3",
            "max": 30931277,
            "min": 0,
            "orientation": "horizontal",
            "style": "IPY_MODEL_9fcdf4c4fbf5410a8199e6f926b41bde",
            "value": 30931277
          }
        },
        "ae48927cdd2142bc8e9e562e9bd992ee": {
          "model_module": "@jupyter-widgets/controls",
          "model_name": "HTMLModel",
          "model_module_version": "1.5.0",
          "state": {
            "_dom_classes": [],
            "_model_module": "@jupyter-widgets/controls",
            "_model_module_version": "1.5.0",
            "_model_name": "HTMLModel",
            "_view_count": null,
            "_view_module": "@jupyter-widgets/controls",
            "_view_module_version": "1.5.0",
            "_view_name": "HTMLView",
            "description": "",
            "description_tooltip": null,
            "layout": "IPY_MODEL_43fdc97c16e2401bb9463694bb9878e5",
            "placeholder": "​",
            "style": "IPY_MODEL_931373bd2298404fa1618b76a54ff82b",
            "value": " 30.9M/30.9M [00:01&lt;00:00, 23.6MB/s]"
          }
        },
        "24f7813dd17b41fcb4fc6d2f17447c88": {
          "model_module": "@jupyter-widgets/base",
          "model_name": "LayoutModel",
          "model_module_version": "1.2.0",
          "state": {
            "_model_module": "@jupyter-widgets/base",
            "_model_module_version": "1.2.0",
            "_model_name": "LayoutModel",
            "_view_count": null,
            "_view_module": "@jupyter-widgets/base",
            "_view_module_version": "1.2.0",
            "_view_name": "LayoutView",
            "align_content": null,
            "align_items": null,
            "align_self": null,
            "border": null,
            "bottom": null,
            "display": null,
            "flex": null,
            "flex_flow": null,
            "grid_area": null,
            "grid_auto_columns": null,
            "grid_auto_flow": null,
            "grid_auto_rows": null,
            "grid_column": null,
            "grid_gap": null,
            "grid_row": null,
            "grid_template_areas": null,
            "grid_template_columns": null,
            "grid_template_rows": null,
            "height": null,
            "justify_content": null,
            "justify_items": null,
            "left": null,
            "margin": null,
            "max_height": null,
            "max_width": null,
            "min_height": null,
            "min_width": null,
            "object_fit": null,
            "object_position": null,
            "order": null,
            "overflow": null,
            "overflow_x": null,
            "overflow_y": null,
            "padding": null,
            "right": null,
            "top": null,
            "visibility": null,
            "width": null
          }
        },
        "3bb41f683705481193664405be867cea": {
          "model_module": "@jupyter-widgets/base",
          "model_name": "LayoutModel",
          "model_module_version": "1.2.0",
          "state": {
            "_model_module": "@jupyter-widgets/base",
            "_model_module_version": "1.2.0",
            "_model_name": "LayoutModel",
            "_view_count": null,
            "_view_module": "@jupyter-widgets/base",
            "_view_module_version": "1.2.0",
            "_view_name": "LayoutView",
            "align_content": null,
            "align_items": null,
            "align_self": null,
            "border": null,
            "bottom": null,
            "display": null,
            "flex": null,
            "flex_flow": null,
            "grid_area": null,
            "grid_auto_columns": null,
            "grid_auto_flow": null,
            "grid_auto_rows": null,
            "grid_column": null,
            "grid_gap": null,
            "grid_row": null,
            "grid_template_areas": null,
            "grid_template_columns": null,
            "grid_template_rows": null,
            "height": null,
            "justify_content": null,
            "justify_items": null,
            "left": null,
            "margin": null,
            "max_height": null,
            "max_width": null,
            "min_height": null,
            "min_width": null,
            "object_fit": null,
            "object_position": null,
            "order": null,
            "overflow": null,
            "overflow_x": null,
            "overflow_y": null,
            "padding": null,
            "right": null,
            "top": null,
            "visibility": null,
            "width": null
          }
        },
        "9e664da0778f447b890b08821b9b30c5": {
          "model_module": "@jupyter-widgets/controls",
          "model_name": "DescriptionStyleModel",
          "model_module_version": "1.5.0",
          "state": {
            "_model_module": "@jupyter-widgets/controls",
            "_model_module_version": "1.5.0",
            "_model_name": "DescriptionStyleModel",
            "_view_count": null,
            "_view_module": "@jupyter-widgets/base",
            "_view_module_version": "1.2.0",
            "_view_name": "StyleView",
            "description_width": ""
          }
        },
        "ca542b87131144769ceb75f48e4e5ef3": {
          "model_module": "@jupyter-widgets/base",
          "model_name": "LayoutModel",
          "model_module_version": "1.2.0",
          "state": {
            "_model_module": "@jupyter-widgets/base",
            "_model_module_version": "1.2.0",
            "_model_name": "LayoutModel",
            "_view_count": null,
            "_view_module": "@jupyter-widgets/base",
            "_view_module_version": "1.2.0",
            "_view_name": "LayoutView",
            "align_content": null,
            "align_items": null,
            "align_self": null,
            "border": null,
            "bottom": null,
            "display": null,
            "flex": null,
            "flex_flow": null,
            "grid_area": null,
            "grid_auto_columns": null,
            "grid_auto_flow": null,
            "grid_auto_rows": null,
            "grid_column": null,
            "grid_gap": null,
            "grid_row": null,
            "grid_template_areas": null,
            "grid_template_columns": null,
            "grid_template_rows": null,
            "height": null,
            "justify_content": null,
            "justify_items": null,
            "left": null,
            "margin": null,
            "max_height": null,
            "max_width": null,
            "min_height": null,
            "min_width": null,
            "object_fit": null,
            "object_position": null,
            "order": null,
            "overflow": null,
            "overflow_x": null,
            "overflow_y": null,
            "padding": null,
            "right": null,
            "top": null,
            "visibility": null,
            "width": null
          }
        },
        "9fcdf4c4fbf5410a8199e6f926b41bde": {
          "model_module": "@jupyter-widgets/controls",
          "model_name": "ProgressStyleModel",
          "model_module_version": "1.5.0",
          "state": {
            "_model_module": "@jupyter-widgets/controls",
            "_model_module_version": "1.5.0",
            "_model_name": "ProgressStyleModel",
            "_view_count": null,
            "_view_module": "@jupyter-widgets/base",
            "_view_module_version": "1.2.0",
            "_view_name": "StyleView",
            "bar_color": null,
            "description_width": ""
          }
        },
        "43fdc97c16e2401bb9463694bb9878e5": {
          "model_module": "@jupyter-widgets/base",
          "model_name": "LayoutModel",
          "model_module_version": "1.2.0",
          "state": {
            "_model_module": "@jupyter-widgets/base",
            "_model_module_version": "1.2.0",
            "_model_name": "LayoutModel",
            "_view_count": null,
            "_view_module": "@jupyter-widgets/base",
            "_view_module_version": "1.2.0",
            "_view_name": "LayoutView",
            "align_content": null,
            "align_items": null,
            "align_self": null,
            "border": null,
            "bottom": null,
            "display": null,
            "flex": null,
            "flex_flow": null,
            "grid_area": null,
            "grid_auto_columns": null,
            "grid_auto_flow": null,
            "grid_auto_rows": null,
            "grid_column": null,
            "grid_gap": null,
            "grid_row": null,
            "grid_template_areas": null,
            "grid_template_columns": null,
            "grid_template_rows": null,
            "height": null,
            "justify_content": null,
            "justify_items": null,
            "left": null,
            "margin": null,
            "max_height": null,
            "max_width": null,
            "min_height": null,
            "min_width": null,
            "object_fit": null,
            "object_position": null,
            "order": null,
            "overflow": null,
            "overflow_x": null,
            "overflow_y": null,
            "padding": null,
            "right": null,
            "top": null,
            "visibility": null,
            "width": null
          }
        },
        "931373bd2298404fa1618b76a54ff82b": {
          "model_module": "@jupyter-widgets/controls",
          "model_name": "DescriptionStyleModel",
          "model_module_version": "1.5.0",
          "state": {
            "_model_module": "@jupyter-widgets/controls",
            "_model_module_version": "1.5.0",
            "_model_name": "DescriptionStyleModel",
            "_view_count": null,
            "_view_module": "@jupyter-widgets/base",
            "_view_module_version": "1.2.0",
            "_view_name": "StyleView",
            "description_width": ""
          }
        },
        "db5a00a4d9504ad4a292e6ca4888040e": {
          "model_module": "@jupyter-widgets/controls",
          "model_name": "HBoxModel",
          "model_module_version": "1.5.0",
          "state": {
            "_dom_classes": [],
            "_model_module": "@jupyter-widgets/controls",
            "_model_module_version": "1.5.0",
            "_model_name": "HBoxModel",
            "_view_count": null,
            "_view_module": "@jupyter-widgets/controls",
            "_view_module_version": "1.5.0",
            "_view_name": "HBoxView",
            "box_style": "",
            "children": [
              "IPY_MODEL_0e683a6d9abe4e6e92c478d60ad91bfa",
              "IPY_MODEL_5fec746cac7849ca9b6e49db009e3089",
              "IPY_MODEL_796ed71796774a2baeb6f99731799154"
            ],
            "layout": "IPY_MODEL_d754f5daf0c840f88c85093aa1337dc3"
          }
        },
        "0e683a6d9abe4e6e92c478d60ad91bfa": {
          "model_module": "@jupyter-widgets/controls",
          "model_name": "HTMLModel",
          "model_module_version": "1.5.0",
          "state": {
            "_dom_classes": [],
            "_model_module": "@jupyter-widgets/controls",
            "_model_module_version": "1.5.0",
            "_model_name": "HTMLModel",
            "_view_count": null,
            "_view_module": "@jupyter-widgets/controls",
            "_view_module_version": "1.5.0",
            "_view_name": "HTMLView",
            "description": "",
            "description_tooltip": null,
            "layout": "IPY_MODEL_d8ba845cd9af493c9ca9def16a743f6e",
            "placeholder": "​",
            "style": "IPY_MODEL_587ff0190e5f4292b9bf51fd5055237e",
            "value": "Downloading data: 100%"
          }
        },
        "5fec746cac7849ca9b6e49db009e3089": {
          "model_module": "@jupyter-widgets/controls",
          "model_name": "FloatProgressModel",
          "model_module_version": "1.5.0",
          "state": {
            "_dom_classes": [],
            "_model_module": "@jupyter-widgets/controls",
            "_model_module_version": "1.5.0",
            "_model_name": "FloatProgressModel",
            "_view_count": null,
            "_view_module": "@jupyter-widgets/controls",
            "_view_module_version": "1.5.0",
            "_view_name": "ProgressView",
            "bar_style": "success",
            "description": "",
            "description_tooltip": null,
            "layout": "IPY_MODEL_359c74d5599b4f2fbc86ecf83c52f2c1",
            "max": 5175617,
            "min": 0,
            "orientation": "horizontal",
            "style": "IPY_MODEL_912e73b6bc9845888345c7290d014e7a",
            "value": 5175617
          }
        },
        "796ed71796774a2baeb6f99731799154": {
          "model_module": "@jupyter-widgets/controls",
          "model_name": "HTMLModel",
          "model_module_version": "1.5.0",
          "state": {
            "_dom_classes": [],
            "_model_module": "@jupyter-widgets/controls",
            "_model_module_version": "1.5.0",
            "_model_name": "HTMLModel",
            "_view_count": null,
            "_view_module": "@jupyter-widgets/controls",
            "_view_module_version": "1.5.0",
            "_view_name": "HTMLView",
            "description": "",
            "description_tooltip": null,
            "layout": "IPY_MODEL_a351a671e26a40e4a7da0aa816cc42f2",
            "placeholder": "​",
            "style": "IPY_MODEL_0e88c13a1e9d4845ab14b5b02f04725a",
            "value": " 5.18M/5.18M [00:00&lt;00:00, 12.3MB/s]"
          }
        },
        "d754f5daf0c840f88c85093aa1337dc3": {
          "model_module": "@jupyter-widgets/base",
          "model_name": "LayoutModel",
          "model_module_version": "1.2.0",
          "state": {
            "_model_module": "@jupyter-widgets/base",
            "_model_module_version": "1.2.0",
            "_model_name": "LayoutModel",
            "_view_count": null,
            "_view_module": "@jupyter-widgets/base",
            "_view_module_version": "1.2.0",
            "_view_name": "LayoutView",
            "align_content": null,
            "align_items": null,
            "align_self": null,
            "border": null,
            "bottom": null,
            "display": null,
            "flex": null,
            "flex_flow": null,
            "grid_area": null,
            "grid_auto_columns": null,
            "grid_auto_flow": null,
            "grid_auto_rows": null,
            "grid_column": null,
            "grid_gap": null,
            "grid_row": null,
            "grid_template_areas": null,
            "grid_template_columns": null,
            "grid_template_rows": null,
            "height": null,
            "justify_content": null,
            "justify_items": null,
            "left": null,
            "margin": null,
            "max_height": null,
            "max_width": null,
            "min_height": null,
            "min_width": null,
            "object_fit": null,
            "object_position": null,
            "order": null,
            "overflow": null,
            "overflow_x": null,
            "overflow_y": null,
            "padding": null,
            "right": null,
            "top": null,
            "visibility": null,
            "width": null
          }
        },
        "d8ba845cd9af493c9ca9def16a743f6e": {
          "model_module": "@jupyter-widgets/base",
          "model_name": "LayoutModel",
          "model_module_version": "1.2.0",
          "state": {
            "_model_module": "@jupyter-widgets/base",
            "_model_module_version": "1.2.0",
            "_model_name": "LayoutModel",
            "_view_count": null,
            "_view_module": "@jupyter-widgets/base",
            "_view_module_version": "1.2.0",
            "_view_name": "LayoutView",
            "align_content": null,
            "align_items": null,
            "align_self": null,
            "border": null,
            "bottom": null,
            "display": null,
            "flex": null,
            "flex_flow": null,
            "grid_area": null,
            "grid_auto_columns": null,
            "grid_auto_flow": null,
            "grid_auto_rows": null,
            "grid_column": null,
            "grid_gap": null,
            "grid_row": null,
            "grid_template_areas": null,
            "grid_template_columns": null,
            "grid_template_rows": null,
            "height": null,
            "justify_content": null,
            "justify_items": null,
            "left": null,
            "margin": null,
            "max_height": null,
            "max_width": null,
            "min_height": null,
            "min_width": null,
            "object_fit": null,
            "object_position": null,
            "order": null,
            "overflow": null,
            "overflow_x": null,
            "overflow_y": null,
            "padding": null,
            "right": null,
            "top": null,
            "visibility": null,
            "width": null
          }
        },
        "587ff0190e5f4292b9bf51fd5055237e": {
          "model_module": "@jupyter-widgets/controls",
          "model_name": "DescriptionStyleModel",
          "model_module_version": "1.5.0",
          "state": {
            "_model_module": "@jupyter-widgets/controls",
            "_model_module_version": "1.5.0",
            "_model_name": "DescriptionStyleModel",
            "_view_count": null,
            "_view_module": "@jupyter-widgets/base",
            "_view_module_version": "1.2.0",
            "_view_name": "StyleView",
            "description_width": ""
          }
        },
        "359c74d5599b4f2fbc86ecf83c52f2c1": {
          "model_module": "@jupyter-widgets/base",
          "model_name": "LayoutModel",
          "model_module_version": "1.2.0",
          "state": {
            "_model_module": "@jupyter-widgets/base",
            "_model_module_version": "1.2.0",
            "_model_name": "LayoutModel",
            "_view_count": null,
            "_view_module": "@jupyter-widgets/base",
            "_view_module_version": "1.2.0",
            "_view_name": "LayoutView",
            "align_content": null,
            "align_items": null,
            "align_self": null,
            "border": null,
            "bottom": null,
            "display": null,
            "flex": null,
            "flex_flow": null,
            "grid_area": null,
            "grid_auto_columns": null,
            "grid_auto_flow": null,
            "grid_auto_rows": null,
            "grid_column": null,
            "grid_gap": null,
            "grid_row": null,
            "grid_template_areas": null,
            "grid_template_columns": null,
            "grid_template_rows": null,
            "height": null,
            "justify_content": null,
            "justify_items": null,
            "left": null,
            "margin": null,
            "max_height": null,
            "max_width": null,
            "min_height": null,
            "min_width": null,
            "object_fit": null,
            "object_position": null,
            "order": null,
            "overflow": null,
            "overflow_x": null,
            "overflow_y": null,
            "padding": null,
            "right": null,
            "top": null,
            "visibility": null,
            "width": null
          }
        },
        "912e73b6bc9845888345c7290d014e7a": {
          "model_module": "@jupyter-widgets/controls",
          "model_name": "ProgressStyleModel",
          "model_module_version": "1.5.0",
          "state": {
            "_model_module": "@jupyter-widgets/controls",
            "_model_module_version": "1.5.0",
            "_model_name": "ProgressStyleModel",
            "_view_count": null,
            "_view_module": "@jupyter-widgets/base",
            "_view_module_version": "1.2.0",
            "_view_name": "StyleView",
            "bar_color": null,
            "description_width": ""
          }
        },
        "a351a671e26a40e4a7da0aa816cc42f2": {
          "model_module": "@jupyter-widgets/base",
          "model_name": "LayoutModel",
          "model_module_version": "1.2.0",
          "state": {
            "_model_module": "@jupyter-widgets/base",
            "_model_module_version": "1.2.0",
            "_model_name": "LayoutModel",
            "_view_count": null,
            "_view_module": "@jupyter-widgets/base",
            "_view_module_version": "1.2.0",
            "_view_name": "LayoutView",
            "align_content": null,
            "align_items": null,
            "align_self": null,
            "border": null,
            "bottom": null,
            "display": null,
            "flex": null,
            "flex_flow": null,
            "grid_area": null,
            "grid_auto_columns": null,
            "grid_auto_flow": null,
            "grid_auto_rows": null,
            "grid_column": null,
            "grid_gap": null,
            "grid_row": null,
            "grid_template_areas": null,
            "grid_template_columns": null,
            "grid_template_rows": null,
            "height": null,
            "justify_content": null,
            "justify_items": null,
            "left": null,
            "margin": null,
            "max_height": null,
            "max_width": null,
            "min_height": null,
            "min_width": null,
            "object_fit": null,
            "object_position": null,
            "order": null,
            "overflow": null,
            "overflow_x": null,
            "overflow_y": null,
            "padding": null,
            "right": null,
            "top": null,
            "visibility": null,
            "width": null
          }
        },
        "0e88c13a1e9d4845ab14b5b02f04725a": {
          "model_module": "@jupyter-widgets/controls",
          "model_name": "DescriptionStyleModel",
          "model_module_version": "1.5.0",
          "state": {
            "_model_module": "@jupyter-widgets/controls",
            "_model_module_version": "1.5.0",
            "_model_name": "DescriptionStyleModel",
            "_view_count": null,
            "_view_module": "@jupyter-widgets/base",
            "_view_module_version": "1.2.0",
            "_view_name": "StyleView",
            "description_width": ""
          }
        },
        "13bb1cc8133742e0926bd6bc3dbaed14": {
          "model_module": "@jupyter-widgets/controls",
          "model_name": "HBoxModel",
          "model_module_version": "1.5.0",
          "state": {
            "_dom_classes": [],
            "_model_module": "@jupyter-widgets/controls",
            "_model_module_version": "1.5.0",
            "_model_name": "HBoxModel",
            "_view_count": null,
            "_view_module": "@jupyter-widgets/controls",
            "_view_module_version": "1.5.0",
            "_view_name": "HBoxView",
            "box_style": "",
            "children": [
              "IPY_MODEL_bce7fb5b8ee34b8792270897f74e9487",
              "IPY_MODEL_b32b787753984b2ca82d3a406abb1d0d",
              "IPY_MODEL_92bbb3a3c22f40afb28be781044c1b99"
            ],
            "layout": "IPY_MODEL_76e034a93eb646438f831cf78dd2142a"
          }
        },
        "bce7fb5b8ee34b8792270897f74e9487": {
          "model_module": "@jupyter-widgets/controls",
          "model_name": "HTMLModel",
          "model_module_version": "1.5.0",
          "state": {
            "_dom_classes": [],
            "_model_module": "@jupyter-widgets/controls",
            "_model_module_version": "1.5.0",
            "_model_name": "HTMLModel",
            "_view_count": null,
            "_view_module": "@jupyter-widgets/controls",
            "_view_module_version": "1.5.0",
            "_view_name": "HTMLView",
            "description": "",
            "description_tooltip": null,
            "layout": "IPY_MODEL_b2db1edf3b2e46e780a92080a1eafdb1",
            "placeholder": "​",
            "style": "IPY_MODEL_722d65941deb41bc9ad085ab99b1ed9c",
            "value": "Generating train split: 100%"
          }
        },
        "b32b787753984b2ca82d3a406abb1d0d": {
          "model_module": "@jupyter-widgets/controls",
          "model_name": "FloatProgressModel",
          "model_module_version": "1.5.0",
          "state": {
            "_dom_classes": [],
            "_model_module": "@jupyter-widgets/controls",
            "_model_module_version": "1.5.0",
            "_model_name": "FloatProgressModel",
            "_view_count": null,
            "_view_module": "@jupyter-widgets/controls",
            "_view_module_version": "1.5.0",
            "_view_name": "ProgressView",
            "bar_style": "success",
            "description": "",
            "description_tooltip": null,
            "layout": "IPY_MODEL_a7947b3f2a6e455b8b82f685ac526f92",
            "max": 60000,
            "min": 0,
            "orientation": "horizontal",
            "style": "IPY_MODEL_1e725d73d2454ca787f41897501225f9",
            "value": 60000
          }
        },
        "92bbb3a3c22f40afb28be781044c1b99": {
          "model_module": "@jupyter-widgets/controls",
          "model_name": "HTMLModel",
          "model_module_version": "1.5.0",
          "state": {
            "_dom_classes": [],
            "_model_module": "@jupyter-widgets/controls",
            "_model_module_version": "1.5.0",
            "_model_name": "HTMLModel",
            "_view_count": null,
            "_view_module": "@jupyter-widgets/controls",
            "_view_module_version": "1.5.0",
            "_view_name": "HTMLView",
            "description": "",
            "description_tooltip": null,
            "layout": "IPY_MODEL_aeffbbd8634842b7aa4a2bc368bb08cc",
            "placeholder": "​",
            "style": "IPY_MODEL_5047980e71204778b748edf961253f7e",
            "value": " 60000/60000 [00:00&lt;00:00, 124433.47 examples/s]"
          }
        },
        "76e034a93eb646438f831cf78dd2142a": {
          "model_module": "@jupyter-widgets/base",
          "model_name": "LayoutModel",
          "model_module_version": "1.2.0",
          "state": {
            "_model_module": "@jupyter-widgets/base",
            "_model_module_version": "1.2.0",
            "_model_name": "LayoutModel",
            "_view_count": null,
            "_view_module": "@jupyter-widgets/base",
            "_view_module_version": "1.2.0",
            "_view_name": "LayoutView",
            "align_content": null,
            "align_items": null,
            "align_self": null,
            "border": null,
            "bottom": null,
            "display": null,
            "flex": null,
            "flex_flow": null,
            "grid_area": null,
            "grid_auto_columns": null,
            "grid_auto_flow": null,
            "grid_auto_rows": null,
            "grid_column": null,
            "grid_gap": null,
            "grid_row": null,
            "grid_template_areas": null,
            "grid_template_columns": null,
            "grid_template_rows": null,
            "height": null,
            "justify_content": null,
            "justify_items": null,
            "left": null,
            "margin": null,
            "max_height": null,
            "max_width": null,
            "min_height": null,
            "min_width": null,
            "object_fit": null,
            "object_position": null,
            "order": null,
            "overflow": null,
            "overflow_x": null,
            "overflow_y": null,
            "padding": null,
            "right": null,
            "top": null,
            "visibility": null,
            "width": null
          }
        },
        "b2db1edf3b2e46e780a92080a1eafdb1": {
          "model_module": "@jupyter-widgets/base",
          "model_name": "LayoutModel",
          "model_module_version": "1.2.0",
          "state": {
            "_model_module": "@jupyter-widgets/base",
            "_model_module_version": "1.2.0",
            "_model_name": "LayoutModel",
            "_view_count": null,
            "_view_module": "@jupyter-widgets/base",
            "_view_module_version": "1.2.0",
            "_view_name": "LayoutView",
            "align_content": null,
            "align_items": null,
            "align_self": null,
            "border": null,
            "bottom": null,
            "display": null,
            "flex": null,
            "flex_flow": null,
            "grid_area": null,
            "grid_auto_columns": null,
            "grid_auto_flow": null,
            "grid_auto_rows": null,
            "grid_column": null,
            "grid_gap": null,
            "grid_row": null,
            "grid_template_areas": null,
            "grid_template_columns": null,
            "grid_template_rows": null,
            "height": null,
            "justify_content": null,
            "justify_items": null,
            "left": null,
            "margin": null,
            "max_height": null,
            "max_width": null,
            "min_height": null,
            "min_width": null,
            "object_fit": null,
            "object_position": null,
            "order": null,
            "overflow": null,
            "overflow_x": null,
            "overflow_y": null,
            "padding": null,
            "right": null,
            "top": null,
            "visibility": null,
            "width": null
          }
        },
        "722d65941deb41bc9ad085ab99b1ed9c": {
          "model_module": "@jupyter-widgets/controls",
          "model_name": "DescriptionStyleModel",
          "model_module_version": "1.5.0",
          "state": {
            "_model_module": "@jupyter-widgets/controls",
            "_model_module_version": "1.5.0",
            "_model_name": "DescriptionStyleModel",
            "_view_count": null,
            "_view_module": "@jupyter-widgets/base",
            "_view_module_version": "1.2.0",
            "_view_name": "StyleView",
            "description_width": ""
          }
        },
        "a7947b3f2a6e455b8b82f685ac526f92": {
          "model_module": "@jupyter-widgets/base",
          "model_name": "LayoutModel",
          "model_module_version": "1.2.0",
          "state": {
            "_model_module": "@jupyter-widgets/base",
            "_model_module_version": "1.2.0",
            "_model_name": "LayoutModel",
            "_view_count": null,
            "_view_module": "@jupyter-widgets/base",
            "_view_module_version": "1.2.0",
            "_view_name": "LayoutView",
            "align_content": null,
            "align_items": null,
            "align_self": null,
            "border": null,
            "bottom": null,
            "display": null,
            "flex": null,
            "flex_flow": null,
            "grid_area": null,
            "grid_auto_columns": null,
            "grid_auto_flow": null,
            "grid_auto_rows": null,
            "grid_column": null,
            "grid_gap": null,
            "grid_row": null,
            "grid_template_areas": null,
            "grid_template_columns": null,
            "grid_template_rows": null,
            "height": null,
            "justify_content": null,
            "justify_items": null,
            "left": null,
            "margin": null,
            "max_height": null,
            "max_width": null,
            "min_height": null,
            "min_width": null,
            "object_fit": null,
            "object_position": null,
            "order": null,
            "overflow": null,
            "overflow_x": null,
            "overflow_y": null,
            "padding": null,
            "right": null,
            "top": null,
            "visibility": null,
            "width": null
          }
        },
        "1e725d73d2454ca787f41897501225f9": {
          "model_module": "@jupyter-widgets/controls",
          "model_name": "ProgressStyleModel",
          "model_module_version": "1.5.0",
          "state": {
            "_model_module": "@jupyter-widgets/controls",
            "_model_module_version": "1.5.0",
            "_model_name": "ProgressStyleModel",
            "_view_count": null,
            "_view_module": "@jupyter-widgets/base",
            "_view_module_version": "1.2.0",
            "_view_name": "StyleView",
            "bar_color": null,
            "description_width": ""
          }
        },
        "aeffbbd8634842b7aa4a2bc368bb08cc": {
          "model_module": "@jupyter-widgets/base",
          "model_name": "LayoutModel",
          "model_module_version": "1.2.0",
          "state": {
            "_model_module": "@jupyter-widgets/base",
            "_model_module_version": "1.2.0",
            "_model_name": "LayoutModel",
            "_view_count": null,
            "_view_module": "@jupyter-widgets/base",
            "_view_module_version": "1.2.0",
            "_view_name": "LayoutView",
            "align_content": null,
            "align_items": null,
            "align_self": null,
            "border": null,
            "bottom": null,
            "display": null,
            "flex": null,
            "flex_flow": null,
            "grid_area": null,
            "grid_auto_columns": null,
            "grid_auto_flow": null,
            "grid_auto_rows": null,
            "grid_column": null,
            "grid_gap": null,
            "grid_row": null,
            "grid_template_areas": null,
            "grid_template_columns": null,
            "grid_template_rows": null,
            "height": null,
            "justify_content": null,
            "justify_items": null,
            "left": null,
            "margin": null,
            "max_height": null,
            "max_width": null,
            "min_height": null,
            "min_width": null,
            "object_fit": null,
            "object_position": null,
            "order": null,
            "overflow": null,
            "overflow_x": null,
            "overflow_y": null,
            "padding": null,
            "right": null,
            "top": null,
            "visibility": null,
            "width": null
          }
        },
        "5047980e71204778b748edf961253f7e": {
          "model_module": "@jupyter-widgets/controls",
          "model_name": "DescriptionStyleModel",
          "model_module_version": "1.5.0",
          "state": {
            "_model_module": "@jupyter-widgets/controls",
            "_model_module_version": "1.5.0",
            "_model_name": "DescriptionStyleModel",
            "_view_count": null,
            "_view_module": "@jupyter-widgets/base",
            "_view_module_version": "1.2.0",
            "_view_name": "StyleView",
            "description_width": ""
          }
        },
        "5be4e58541684b2a9b77bab515ddd74a": {
          "model_module": "@jupyter-widgets/controls",
          "model_name": "HBoxModel",
          "model_module_version": "1.5.0",
          "state": {
            "_dom_classes": [],
            "_model_module": "@jupyter-widgets/controls",
            "_model_module_version": "1.5.0",
            "_model_name": "HBoxModel",
            "_view_count": null,
            "_view_module": "@jupyter-widgets/controls",
            "_view_module_version": "1.5.0",
            "_view_name": "HBoxView",
            "box_style": "",
            "children": [
              "IPY_MODEL_8cd7a8af03464557a52a96ff3ef63718",
              "IPY_MODEL_d051f02eccdb4209807dc26213a72182",
              "IPY_MODEL_179e96684f95443690081ee7d69ba305"
            ],
            "layout": "IPY_MODEL_4d04262c5cff43c39fad81d1f77b08df"
          }
        },
        "8cd7a8af03464557a52a96ff3ef63718": {
          "model_module": "@jupyter-widgets/controls",
          "model_name": "HTMLModel",
          "model_module_version": "1.5.0",
          "state": {
            "_dom_classes": [],
            "_model_module": "@jupyter-widgets/controls",
            "_model_module_version": "1.5.0",
            "_model_name": "HTMLModel",
            "_view_count": null,
            "_view_module": "@jupyter-widgets/controls",
            "_view_module_version": "1.5.0",
            "_view_name": "HTMLView",
            "description": "",
            "description_tooltip": null,
            "layout": "IPY_MODEL_15f9e5d2863948ff8c034767be6b7a15",
            "placeholder": "​",
            "style": "IPY_MODEL_0ad04db647e542a4b1c092cdcf4e63b5",
            "value": "Generating test split: 100%"
          }
        },
        "d051f02eccdb4209807dc26213a72182": {
          "model_module": "@jupyter-widgets/controls",
          "model_name": "FloatProgressModel",
          "model_module_version": "1.5.0",
          "state": {
            "_dom_classes": [],
            "_model_module": "@jupyter-widgets/controls",
            "_model_module_version": "1.5.0",
            "_model_name": "FloatProgressModel",
            "_view_count": null,
            "_view_module": "@jupyter-widgets/controls",
            "_view_module_version": "1.5.0",
            "_view_name": "ProgressView",
            "bar_style": "success",
            "description": "",
            "description_tooltip": null,
            "layout": "IPY_MODEL_dbebfb98fc9349488a47cc8af4cb0ab7",
            "max": 10000,
            "min": 0,
            "orientation": "horizontal",
            "style": "IPY_MODEL_f2a9a88578714227b53c8b8f0ceebbb1",
            "value": 10000
          }
        },
        "179e96684f95443690081ee7d69ba305": {
          "model_module": "@jupyter-widgets/controls",
          "model_name": "HTMLModel",
          "model_module_version": "1.5.0",
          "state": {
            "_dom_classes": [],
            "_model_module": "@jupyter-widgets/controls",
            "_model_module_version": "1.5.0",
            "_model_name": "HTMLModel",
            "_view_count": null,
            "_view_module": "@jupyter-widgets/controls",
            "_view_module_version": "1.5.0",
            "_view_name": "HTMLView",
            "description": "",
            "description_tooltip": null,
            "layout": "IPY_MODEL_2023f207daa4469bbf48822e632bfd2b",
            "placeholder": "​",
            "style": "IPY_MODEL_dc8e7c98f558468b8e486744be940b2f",
            "value": " 10000/10000 [00:00&lt;00:00, 76856.48 examples/s]"
          }
        },
        "4d04262c5cff43c39fad81d1f77b08df": {
          "model_module": "@jupyter-widgets/base",
          "model_name": "LayoutModel",
          "model_module_version": "1.2.0",
          "state": {
            "_model_module": "@jupyter-widgets/base",
            "_model_module_version": "1.2.0",
            "_model_name": "LayoutModel",
            "_view_count": null,
            "_view_module": "@jupyter-widgets/base",
            "_view_module_version": "1.2.0",
            "_view_name": "LayoutView",
            "align_content": null,
            "align_items": null,
            "align_self": null,
            "border": null,
            "bottom": null,
            "display": null,
            "flex": null,
            "flex_flow": null,
            "grid_area": null,
            "grid_auto_columns": null,
            "grid_auto_flow": null,
            "grid_auto_rows": null,
            "grid_column": null,
            "grid_gap": null,
            "grid_row": null,
            "grid_template_areas": null,
            "grid_template_columns": null,
            "grid_template_rows": null,
            "height": null,
            "justify_content": null,
            "justify_items": null,
            "left": null,
            "margin": null,
            "max_height": null,
            "max_width": null,
            "min_height": null,
            "min_width": null,
            "object_fit": null,
            "object_position": null,
            "order": null,
            "overflow": null,
            "overflow_x": null,
            "overflow_y": null,
            "padding": null,
            "right": null,
            "top": null,
            "visibility": null,
            "width": null
          }
        },
        "15f9e5d2863948ff8c034767be6b7a15": {
          "model_module": "@jupyter-widgets/base",
          "model_name": "LayoutModel",
          "model_module_version": "1.2.0",
          "state": {
            "_model_module": "@jupyter-widgets/base",
            "_model_module_version": "1.2.0",
            "_model_name": "LayoutModel",
            "_view_count": null,
            "_view_module": "@jupyter-widgets/base",
            "_view_module_version": "1.2.0",
            "_view_name": "LayoutView",
            "align_content": null,
            "align_items": null,
            "align_self": null,
            "border": null,
            "bottom": null,
            "display": null,
            "flex": null,
            "flex_flow": null,
            "grid_area": null,
            "grid_auto_columns": null,
            "grid_auto_flow": null,
            "grid_auto_rows": null,
            "grid_column": null,
            "grid_gap": null,
            "grid_row": null,
            "grid_template_areas": null,
            "grid_template_columns": null,
            "grid_template_rows": null,
            "height": null,
            "justify_content": null,
            "justify_items": null,
            "left": null,
            "margin": null,
            "max_height": null,
            "max_width": null,
            "min_height": null,
            "min_width": null,
            "object_fit": null,
            "object_position": null,
            "order": null,
            "overflow": null,
            "overflow_x": null,
            "overflow_y": null,
            "padding": null,
            "right": null,
            "top": null,
            "visibility": null,
            "width": null
          }
        },
        "0ad04db647e542a4b1c092cdcf4e63b5": {
          "model_module": "@jupyter-widgets/controls",
          "model_name": "DescriptionStyleModel",
          "model_module_version": "1.5.0",
          "state": {
            "_model_module": "@jupyter-widgets/controls",
            "_model_module_version": "1.5.0",
            "_model_name": "DescriptionStyleModel",
            "_view_count": null,
            "_view_module": "@jupyter-widgets/base",
            "_view_module_version": "1.2.0",
            "_view_name": "StyleView",
            "description_width": ""
          }
        },
        "dbebfb98fc9349488a47cc8af4cb0ab7": {
          "model_module": "@jupyter-widgets/base",
          "model_name": "LayoutModel",
          "model_module_version": "1.2.0",
          "state": {
            "_model_module": "@jupyter-widgets/base",
            "_model_module_version": "1.2.0",
            "_model_name": "LayoutModel",
            "_view_count": null,
            "_view_module": "@jupyter-widgets/base",
            "_view_module_version": "1.2.0",
            "_view_name": "LayoutView",
            "align_content": null,
            "align_items": null,
            "align_self": null,
            "border": null,
            "bottom": null,
            "display": null,
            "flex": null,
            "flex_flow": null,
            "grid_area": null,
            "grid_auto_columns": null,
            "grid_auto_flow": null,
            "grid_auto_rows": null,
            "grid_column": null,
            "grid_gap": null,
            "grid_row": null,
            "grid_template_areas": null,
            "grid_template_columns": null,
            "grid_template_rows": null,
            "height": null,
            "justify_content": null,
            "justify_items": null,
            "left": null,
            "margin": null,
            "max_height": null,
            "max_width": null,
            "min_height": null,
            "min_width": null,
            "object_fit": null,
            "object_position": null,
            "order": null,
            "overflow": null,
            "overflow_x": null,
            "overflow_y": null,
            "padding": null,
            "right": null,
            "top": null,
            "visibility": null,
            "width": null
          }
        },
        "f2a9a88578714227b53c8b8f0ceebbb1": {
          "model_module": "@jupyter-widgets/controls",
          "model_name": "ProgressStyleModel",
          "model_module_version": "1.5.0",
          "state": {
            "_model_module": "@jupyter-widgets/controls",
            "_model_module_version": "1.5.0",
            "_model_name": "ProgressStyleModel",
            "_view_count": null,
            "_view_module": "@jupyter-widgets/base",
            "_view_module_version": "1.2.0",
            "_view_name": "StyleView",
            "bar_color": null,
            "description_width": ""
          }
        },
        "2023f207daa4469bbf48822e632bfd2b": {
          "model_module": "@jupyter-widgets/base",
          "model_name": "LayoutModel",
          "model_module_version": "1.2.0",
          "state": {
            "_model_module": "@jupyter-widgets/base",
            "_model_module_version": "1.2.0",
            "_model_name": "LayoutModel",
            "_view_count": null,
            "_view_module": "@jupyter-widgets/base",
            "_view_module_version": "1.2.0",
            "_view_name": "LayoutView",
            "align_content": null,
            "align_items": null,
            "align_self": null,
            "border": null,
            "bottom": null,
            "display": null,
            "flex": null,
            "flex_flow": null,
            "grid_area": null,
            "grid_auto_columns": null,
            "grid_auto_flow": null,
            "grid_auto_rows": null,
            "grid_column": null,
            "grid_gap": null,
            "grid_row": null,
            "grid_template_areas": null,
            "grid_template_columns": null,
            "grid_template_rows": null,
            "height": null,
            "justify_content": null,
            "justify_items": null,
            "left": null,
            "margin": null,
            "max_height": null,
            "max_width": null,
            "min_height": null,
            "min_width": null,
            "object_fit": null,
            "object_position": null,
            "order": null,
            "overflow": null,
            "overflow_x": null,
            "overflow_y": null,
            "padding": null,
            "right": null,
            "top": null,
            "visibility": null,
            "width": null
          }
        },
        "dc8e7c98f558468b8e486744be940b2f": {
          "model_module": "@jupyter-widgets/controls",
          "model_name": "DescriptionStyleModel",
          "model_module_version": "1.5.0",
          "state": {
            "_model_module": "@jupyter-widgets/controls",
            "_model_module_version": "1.5.0",
            "_model_name": "DescriptionStyleModel",
            "_view_count": null,
            "_view_module": "@jupyter-widgets/base",
            "_view_module_version": "1.2.0",
            "_view_name": "StyleView",
            "description_width": ""
          }
        }
      }
    }
  },
  "cells": [
    {
      "cell_type": "markdown",
      "metadata": {
        "id": "view-in-github",
        "colab_type": "text"
      },
      "source": [
        "<a href=\"https://colab.research.google.com/github/pranay8297/fastaip2/blob/main/Diffusion_v1.ipynb\" target=\"_parent\"><img src=\"https://colab.research.google.com/assets/colab-badge.svg\" alt=\"Open In Colab\"/></a>"
      ]
    },
    {
      "cell_type": "code",
      "execution_count": 1,
      "metadata": {
        "colab": {
          "base_uri": "https://localhost:8080/"
        },
        "id": "1kAIm59QgvsO",
        "outputId": "00e319ce-dca0-482d-b527-505c6042538b"
      },
      "outputs": [
        {
          "output_type": "stream",
          "name": "stdout",
          "text": [
            "Collecting ipdb\n",
            "  Downloading ipdb-0.13.13-py3-none-any.whl (12 kB)\n",
            "Requirement already satisfied: ipython>=7.31.1 in /usr/local/lib/python3.10/dist-packages (from ipdb) (7.34.0)\n",
            "Requirement already satisfied: tomli in /usr/local/lib/python3.10/dist-packages (from ipdb) (2.0.1)\n",
            "Requirement already satisfied: decorator in /usr/local/lib/python3.10/dist-packages (from ipdb) (4.4.2)\n",
            "Requirement already satisfied: setuptools>=18.5 in /usr/local/lib/python3.10/dist-packages (from ipython>=7.31.1->ipdb) (67.7.2)\n",
            "Collecting jedi>=0.16 (from ipython>=7.31.1->ipdb)\n",
            "  Downloading jedi-0.19.1-py2.py3-none-any.whl (1.6 MB)\n",
            "\u001b[2K     \u001b[90m━━━━━━━━━━━━━━━━━━━━━━━━━━━━━━━━━━━━━━━━\u001b[0m \u001b[32m1.6/1.6 MB\u001b[0m \u001b[31m16.1 MB/s\u001b[0m eta \u001b[36m0:00:00\u001b[0m\n",
            "\u001b[?25hRequirement already satisfied: pickleshare in /usr/local/lib/python3.10/dist-packages (from ipython>=7.31.1->ipdb) (0.7.5)\n",
            "Requirement already satisfied: traitlets>=4.2 in /usr/local/lib/python3.10/dist-packages (from ipython>=7.31.1->ipdb) (5.7.1)\n",
            "Requirement already satisfied: prompt-toolkit!=3.0.0,!=3.0.1,<3.1.0,>=2.0.0 in /usr/local/lib/python3.10/dist-packages (from ipython>=7.31.1->ipdb) (3.0.43)\n",
            "Requirement already satisfied: pygments in /usr/local/lib/python3.10/dist-packages (from ipython>=7.31.1->ipdb) (2.16.1)\n",
            "Requirement already satisfied: backcall in /usr/local/lib/python3.10/dist-packages (from ipython>=7.31.1->ipdb) (0.2.0)\n",
            "Requirement already satisfied: matplotlib-inline in /usr/local/lib/python3.10/dist-packages (from ipython>=7.31.1->ipdb) (0.1.6)\n",
            "Requirement already satisfied: pexpect>4.3 in /usr/local/lib/python3.10/dist-packages (from ipython>=7.31.1->ipdb) (4.9.0)\n",
            "Requirement already satisfied: parso<0.9.0,>=0.8.3 in /usr/local/lib/python3.10/dist-packages (from jedi>=0.16->ipython>=7.31.1->ipdb) (0.8.3)\n",
            "Requirement already satisfied: ptyprocess>=0.5 in /usr/local/lib/python3.10/dist-packages (from pexpect>4.3->ipython>=7.31.1->ipdb) (0.7.0)\n",
            "Requirement already satisfied: wcwidth in /usr/local/lib/python3.10/dist-packages (from prompt-toolkit!=3.0.0,!=3.0.1,<3.1.0,>=2.0.0->ipython>=7.31.1->ipdb) (0.2.13)\n",
            "Installing collected packages: jedi, ipdb\n",
            "Successfully installed ipdb-0.13.13 jedi-0.19.1\n",
            "Collecting torcheval\n",
            "  Downloading torcheval-0.0.7-py3-none-any.whl (179 kB)\n",
            "\u001b[2K     \u001b[90m━━━━━━━━━━━━━━━━━━━━━━━━━━━━━━━━━━━━━━━━\u001b[0m \u001b[32m179.2/179.2 kB\u001b[0m \u001b[31m1.2 MB/s\u001b[0m eta \u001b[36m0:00:00\u001b[0m\n",
            "\u001b[?25hRequirement already satisfied: typing-extensions in /usr/local/lib/python3.10/dist-packages (from torcheval) (4.10.0)\n",
            "Installing collected packages: torcheval\n",
            "Successfully installed torcheval-0.0.7\n",
            "  Preparing metadata (setup.py) ... \u001b[?25l\u001b[?25hdone\n",
            "\u001b[2K     \u001b[90m━━━━━━━━━━━━━━━━━━━━━━━━━━━━━━━━━━━━━━━━\u001b[0m \u001b[32m510.5/510.5 kB\u001b[0m \u001b[31m10.9 MB/s\u001b[0m eta \u001b[36m0:00:00\u001b[0m\n",
            "\u001b[2K     \u001b[90m━━━━━━━━━━━━━━━━━━━━━━━━━━━━━━━━━━━━━━━━\u001b[0m \u001b[32m619.9/619.9 MB\u001b[0m \u001b[31m2.6 MB/s\u001b[0m eta \u001b[36m0:00:00\u001b[0m\n",
            "\u001b[2K     \u001b[90m━━━━━━━━━━━━━━━━━━━━━━━━━━━━━━━━━━━━━━━━\u001b[0m \u001b[32m2.0/2.0 MB\u001b[0m \u001b[31m90.5 MB/s\u001b[0m eta \u001b[36m0:00:00\u001b[0m\n",
            "\u001b[2K     \u001b[90m━━━━━━━━━━━━━━━━━━━━━━━━━━━━━━━━━━━━━━━━\u001b[0m \u001b[32m44.6/44.6 kB\u001b[0m \u001b[31m7.3 MB/s\u001b[0m eta \u001b[36m0:00:00\u001b[0m\n",
            "\u001b[2K     \u001b[90m━━━━━━━━━━━━━━━━━━━━━━━━━━━━━━━━━━━━━━━━\u001b[0m \u001b[32m2.2/2.2 MB\u001b[0m \u001b[31m98.1 MB/s\u001b[0m eta \u001b[36m0:00:00\u001b[0m\n",
            "\u001b[2K     \u001b[90m━━━━━━━━━━━━━━━━━━━━━━━━━━━━━━━━━━━━━━━━\u001b[0m \u001b[32m21.0/21.0 MB\u001b[0m \u001b[31m77.7 MB/s\u001b[0m eta \u001b[36m0:00:00\u001b[0m\n",
            "\u001b[2K     \u001b[90m━━━━━━━━━━━━━━━━━━━━━━━━━━━━━━━━━━━━━━━━\u001b[0m \u001b[32m849.3/849.3 kB\u001b[0m \u001b[31m73.3 MB/s\u001b[0m eta \u001b[36m0:00:00\u001b[0m\n",
            "\u001b[2K     \u001b[90m━━━━━━━━━━━━━━━━━━━━━━━━━━━━━━━━━━━━━━━━\u001b[0m \u001b[32m11.8/11.8 MB\u001b[0m \u001b[31m108.2 MB/s\u001b[0m eta \u001b[36m0:00:00\u001b[0m\n",
            "\u001b[2K     \u001b[90m━━━━━━━━━━━━━━━━━━━━━━━━━━━━━━━━━━━━━━━━\u001b[0m \u001b[32m557.1/557.1 MB\u001b[0m \u001b[31m3.0 MB/s\u001b[0m eta \u001b[36m0:00:00\u001b[0m\n",
            "\u001b[2K     \u001b[90m━━━━━━━━━━━━━━━━━━━━━━━━━━━━━━━━━━━━━━━━\u001b[0m \u001b[32m317.1/317.1 MB\u001b[0m \u001b[31m2.5 MB/s\u001b[0m eta \u001b[36m0:00:00\u001b[0m\n",
            "\u001b[2K     \u001b[90m━━━━━━━━━━━━━━━━━━━━━━━━━━━━━━━━━━━━━━━━\u001b[0m \u001b[32m168.4/168.4 MB\u001b[0m \u001b[31m7.9 MB/s\u001b[0m eta \u001b[36m0:00:00\u001b[0m\n",
            "\u001b[2K     \u001b[90m━━━━━━━━━━━━━━━━━━━━━━━━━━━━━━━━━━━━━━━━\u001b[0m \u001b[32m54.6/54.6 MB\u001b[0m \u001b[31m8.3 MB/s\u001b[0m eta \u001b[36m0:00:00\u001b[0m\n",
            "\u001b[2K     \u001b[90m━━━━━━━━━━━━━━━━━━━━━━━━━━━━━━━━━━━━━━━━\u001b[0m \u001b[32m102.6/102.6 MB\u001b[0m \u001b[31m9.0 MB/s\u001b[0m eta \u001b[36m0:00:00\u001b[0m\n",
            "\u001b[2K     \u001b[90m━━━━━━━━━━━━━━━━━━━━━━━━━━━━━━━━━━━━━━━━\u001b[0m \u001b[32m173.2/173.2 MB\u001b[0m \u001b[31m7.1 MB/s\u001b[0m eta \u001b[36m0:00:00\u001b[0m\n",
            "\u001b[2K     \u001b[90m━━━━━━━━━━━━━━━━━━━━━━━━━━━━━━━━━━━━━━━━\u001b[0m \u001b[32m177.1/177.1 MB\u001b[0m \u001b[31m7.1 MB/s\u001b[0m eta \u001b[36m0:00:00\u001b[0m\n",
            "\u001b[2K     \u001b[90m━━━━━━━━━━━━━━━━━━━━━━━━━━━━━━━━━━━━━━━━\u001b[0m \u001b[32m98.6/98.6 kB\u001b[0m \u001b[31m15.6 MB/s\u001b[0m eta \u001b[36m0:00:00\u001b[0m\n",
            "\u001b[2K     \u001b[90m━━━━━━━━━━━━━━━━━━━━━━━━━━━━━━━━━━━━━━━━\u001b[0m \u001b[32m63.3/63.3 MB\u001b[0m \u001b[31m10.3 MB/s\u001b[0m eta \u001b[36m0:00:00\u001b[0m\n",
            "\u001b[2K     \u001b[90m━━━━━━━━━━━━━━━━━━━━━━━━━━━━━━━━━━━━━━━━\u001b[0m \u001b[32m161.0/161.0 kB\u001b[0m \u001b[31m22.3 MB/s\u001b[0m eta \u001b[36m0:00:00\u001b[0m\n",
            "\u001b[?25h  Installing build dependencies ... \u001b[?25l\u001b[?25hdone\n",
            "  Getting requirements to build wheel ... \u001b[?25l\u001b[?25hdone\n",
            "  Installing backend dependencies ... \u001b[?25l\u001b[?25hdone\n",
            "  Preparing metadata (pyproject.toml) ... \u001b[?25l\u001b[?25hdone\n",
            "\u001b[2K     \u001b[90m━━━━━━━━━━━━━━━━━━━━━━━━━━━━━━━━━━━━━━━━\u001b[0m \u001b[32m116.3/116.3 kB\u001b[0m \u001b[31m15.5 MB/s\u001b[0m eta \u001b[36m0:00:00\u001b[0m\n",
            "\u001b[2K     \u001b[90m━━━━━━━━━━━━━━━━━━━━━━━━━━━━━━━━━━━━━━━━\u001b[0m \u001b[32m194.1/194.1 kB\u001b[0m \u001b[31m23.2 MB/s\u001b[0m eta \u001b[36m0:00:00\u001b[0m\n",
            "\u001b[2K     \u001b[90m━━━━━━━━━━━━━━━━━━━━━━━━━━━━━━━━━━━━━━━━\u001b[0m \u001b[32m134.8/134.8 kB\u001b[0m \u001b[31m16.6 MB/s\u001b[0m eta \u001b[36m0:00:00\u001b[0m\n",
            "\u001b[2K     \u001b[90m━━━━━━━━━━━━━━━━━━━━━━━━━━━━━━━━━━━━━━━━\u001b[0m \u001b[32m6.9/6.9 MB\u001b[0m \u001b[31m114.1 MB/s\u001b[0m eta \u001b[36m0:00:00\u001b[0m\n",
            "\u001b[2K     \u001b[90m━━━━━━━━━━━━━━━━━━━━━━━━━━━━━━━━━━━━━━━━\u001b[0m \u001b[32m6.9/6.9 MB\u001b[0m \u001b[31m115.8 MB/s\u001b[0m eta \u001b[36m0:00:00\u001b[0m\n",
            "\u001b[2K     \u001b[90m━━━━━━━━━━━━━━━━━━━━━━━━━━━━━━━━━━━━━━━━\u001b[0m \u001b[32m6.9/6.9 MB\u001b[0m \u001b[31m75.2 MB/s\u001b[0m eta \u001b[36m0:00:00\u001b[0m\n",
            "\u001b[2K     \u001b[90m━━━━━━━━━━━━━━━━━━━━━━━━━━━━━━━━━━━━━━━━\u001b[0m \u001b[32m6.8/6.8 MB\u001b[0m \u001b[31m116.9 MB/s\u001b[0m eta \u001b[36m0:00:00\u001b[0m\n",
            "\u001b[2K     \u001b[90m━━━━━━━━━━━━━━━━━━━━━━━━━━━━━━━━━━━━━━━━\u001b[0m \u001b[32m6.8/6.8 MB\u001b[0m \u001b[31m116.9 MB/s\u001b[0m eta \u001b[36m0:00:00\u001b[0m\n",
            "\u001b[2K     \u001b[90m━━━━━━━━━━━━━━━━━━━━━━━━━━━━━━━━━━━━━━━━\u001b[0m \u001b[32m6.9/6.9 MB\u001b[0m \u001b[31m101.6 MB/s\u001b[0m eta \u001b[36m0:00:00\u001b[0m\n",
            "\u001b[2K     \u001b[90m━━━━━━━━━━━━━━━━━━━━━━━━━━━━━━━━━━━━━━━━\u001b[0m \u001b[32m6.0/6.0 MB\u001b[0m \u001b[31m107.0 MB/s\u001b[0m eta \u001b[36m0:00:00\u001b[0m\n",
            "\u001b[?25h  Building wheel for miniai (setup.py) ... \u001b[?25l\u001b[?25hdone\n",
            "  Building wheel for lit (pyproject.toml) ... \u001b[?25l\u001b[?25hdone\n",
            "\u001b[31mERROR: pip's dependency resolver does not currently take into account all the packages that are installed. This behaviour is the source of the following dependency conflicts.\n",
            "torchaudio 2.2.1+cu121 requires torch==2.2.1, but you have torch 2.0.1 which is incompatible.\n",
            "torchtext 0.17.1 requires torch==2.2.1, but you have torch 2.0.1 which is incompatible.\u001b[0m\u001b[31m\n",
            "\u001b[0mRequirement already satisfied: tqdm in /usr/local/lib/python3.10/dist-packages (4.66.2)\n",
            "Collecting accelerate\n",
            "  Downloading accelerate-0.28.0-py3-none-any.whl (290 kB)\n",
            "\u001b[2K     \u001b[90m━━━━━━━━━━━━━━━━━━━━━━━━━━━━━━━━━━━━━━━━\u001b[0m \u001b[32m290.1/290.1 kB\u001b[0m \u001b[31m8.5 MB/s\u001b[0m eta \u001b[36m0:00:00\u001b[0m\n",
            "\u001b[?25hRequirement already satisfied: numpy>=1.17 in /usr/local/lib/python3.10/dist-packages (from accelerate) (1.25.2)\n",
            "Requirement already satisfied: packaging>=20.0 in /usr/local/lib/python3.10/dist-packages (from accelerate) (24.0)\n",
            "Requirement already satisfied: psutil in /usr/local/lib/python3.10/dist-packages (from accelerate) (5.9.5)\n",
            "Requirement already satisfied: pyyaml in /usr/local/lib/python3.10/dist-packages (from accelerate) (6.0.1)\n",
            "Requirement already satisfied: torch>=1.10.0 in /usr/local/lib/python3.10/dist-packages (from accelerate) (2.0.1)\n",
            "Requirement already satisfied: huggingface-hub in /usr/local/lib/python3.10/dist-packages (from accelerate) (0.20.3)\n",
            "Requirement already satisfied: safetensors>=0.3.1 in /usr/local/lib/python3.10/dist-packages (from accelerate) (0.4.2)\n",
            "Requirement already satisfied: filelock in /usr/local/lib/python3.10/dist-packages (from torch>=1.10.0->accelerate) (3.13.3)\n",
            "Requirement already satisfied: typing-extensions in /usr/local/lib/python3.10/dist-packages (from torch>=1.10.0->accelerate) (4.10.0)\n",
            "Requirement already satisfied: sympy in /usr/local/lib/python3.10/dist-packages (from torch>=1.10.0->accelerate) (1.12)\n",
            "Requirement already satisfied: networkx in /usr/local/lib/python3.10/dist-packages (from torch>=1.10.0->accelerate) (3.2.1)\n",
            "Requirement already satisfied: jinja2 in /usr/local/lib/python3.10/dist-packages (from torch>=1.10.0->accelerate) (3.1.3)\n",
            "Requirement already satisfied: nvidia-cuda-nvrtc-cu11==11.7.99 in /usr/local/lib/python3.10/dist-packages (from torch>=1.10.0->accelerate) (11.7.99)\n",
            "Requirement already satisfied: nvidia-cuda-runtime-cu11==11.7.99 in /usr/local/lib/python3.10/dist-packages (from torch>=1.10.0->accelerate) (11.7.99)\n",
            "Requirement already satisfied: nvidia-cuda-cupti-cu11==11.7.101 in /usr/local/lib/python3.10/dist-packages (from torch>=1.10.0->accelerate) (11.7.101)\n",
            "Requirement already satisfied: nvidia-cudnn-cu11==8.5.0.96 in /usr/local/lib/python3.10/dist-packages (from torch>=1.10.0->accelerate) (8.5.0.96)\n",
            "Requirement already satisfied: nvidia-cublas-cu11==11.10.3.66 in /usr/local/lib/python3.10/dist-packages (from torch>=1.10.0->accelerate) (11.10.3.66)\n",
            "Requirement already satisfied: nvidia-cufft-cu11==10.9.0.58 in /usr/local/lib/python3.10/dist-packages (from torch>=1.10.0->accelerate) (10.9.0.58)\n",
            "Requirement already satisfied: nvidia-curand-cu11==10.2.10.91 in /usr/local/lib/python3.10/dist-packages (from torch>=1.10.0->accelerate) (10.2.10.91)\n",
            "Requirement already satisfied: nvidia-cusolver-cu11==11.4.0.1 in /usr/local/lib/python3.10/dist-packages (from torch>=1.10.0->accelerate) (11.4.0.1)\n",
            "Requirement already satisfied: nvidia-cusparse-cu11==11.7.4.91 in /usr/local/lib/python3.10/dist-packages (from torch>=1.10.0->accelerate) (11.7.4.91)\n",
            "Requirement already satisfied: nvidia-nccl-cu11==2.14.3 in /usr/local/lib/python3.10/dist-packages (from torch>=1.10.0->accelerate) (2.14.3)\n",
            "Requirement already satisfied: nvidia-nvtx-cu11==11.7.91 in /usr/local/lib/python3.10/dist-packages (from torch>=1.10.0->accelerate) (11.7.91)\n",
            "Requirement already satisfied: triton==2.0.0 in /usr/local/lib/python3.10/dist-packages (from torch>=1.10.0->accelerate) (2.0.0)\n",
            "Requirement already satisfied: setuptools in /usr/local/lib/python3.10/dist-packages (from nvidia-cublas-cu11==11.10.3.66->torch>=1.10.0->accelerate) (67.7.2)\n",
            "Requirement already satisfied: wheel in /usr/local/lib/python3.10/dist-packages (from nvidia-cublas-cu11==11.10.3.66->torch>=1.10.0->accelerate) (0.43.0)\n",
            "Requirement already satisfied: cmake in /usr/local/lib/python3.10/dist-packages (from triton==2.0.0->torch>=1.10.0->accelerate) (3.27.9)\n",
            "Requirement already satisfied: lit in /usr/local/lib/python3.10/dist-packages (from triton==2.0.0->torch>=1.10.0->accelerate) (18.1.2)\n",
            "Requirement already satisfied: fsspec>=2023.5.0 in /usr/local/lib/python3.10/dist-packages (from huggingface-hub->accelerate) (2023.6.0)\n",
            "Requirement already satisfied: requests in /usr/local/lib/python3.10/dist-packages (from huggingface-hub->accelerate) (2.31.0)\n",
            "Requirement already satisfied: tqdm>=4.42.1 in /usr/local/lib/python3.10/dist-packages (from huggingface-hub->accelerate) (4.66.2)\n",
            "Requirement already satisfied: MarkupSafe>=2.0 in /usr/local/lib/python3.10/dist-packages (from jinja2->torch>=1.10.0->accelerate) (2.1.5)\n",
            "Requirement already satisfied: charset-normalizer<4,>=2 in /usr/local/lib/python3.10/dist-packages (from requests->huggingface-hub->accelerate) (3.3.2)\n",
            "Requirement already satisfied: idna<4,>=2.5 in /usr/local/lib/python3.10/dist-packages (from requests->huggingface-hub->accelerate) (3.6)\n",
            "Requirement already satisfied: urllib3<3,>=1.21.1 in /usr/local/lib/python3.10/dist-packages (from requests->huggingface-hub->accelerate) (2.0.7)\n",
            "Requirement already satisfied: certifi>=2017.4.17 in /usr/local/lib/python3.10/dist-packages (from requests->huggingface-hub->accelerate) (2024.2.2)\n",
            "Requirement already satisfied: mpmath>=0.19 in /usr/local/lib/python3.10/dist-packages (from sympy->torch>=1.10.0->accelerate) (1.3.0)\n",
            "Installing collected packages: accelerate\n",
            "Successfully installed accelerate-0.28.0\n",
            "Requirement already satisfied: einops in /usr/local/lib/python3.10/dist-packages (0.7.0)\n"
          ]
        }
      ],
      "source": [
        "!pip install ipdb\n",
        "!pip install torcheval\n",
        "!pip install -Uqq git+https://github.com/fastai/course22p2\n",
        "!pip install tqdm\n",
        "!pip install accelerate\n",
        "!pip install einops"
      ]
    },
    {
      "cell_type": "code",
      "source": [
        "import torch\n",
        "import math\n",
        "import numpy as np\n",
        "import fastcore.all as fc\n",
        "import matplotlib as mpl, matplotlib.pyplot as plt\n",
        "import time\n",
        "import numpy\n",
        "import pickle\n",
        "import os\n",
        "# import lpips\n",
        "\n",
        "from pathlib import Path\n",
        "from PIL import Image\n",
        "from tqdm import tqdm\n",
        "from scipy.linalg import sqrtm\n",
        "from functools import partial\n",
        "from ipdb import set_trace as st\n",
        "from accelerate import Accelerator\n",
        "from datasets import load_dataset\n",
        "\n",
        "from torch import nn\n",
        "from torch import optim\n",
        "from torch import autocast\n",
        "from torch.nn import functional as F\n",
        "from torch.utils.data import DataLoader\n",
        "from torch.cuda.amp import GradScaler\n",
        "from torch.optim import lr_scheduler\n",
        "from torchvision.transforms.functional import to_tensor, resize\n",
        "from torchvision import transforms\n",
        "from torchvision.transforms import v2, InterpolationMode\n",
        "# from torcheval.metrics import MulticlassAccuracy\n",
        "import torchvision.transforms.functional as TF\n",
        "\n",
        "from miniai.datasets import *\n",
        "from miniai.learner import *\n",
        "from miniai.augment import *\n",
        "from miniai.activations import *\n",
        "from miniai.init import *\n",
        "\n",
        "from google.colab import drive\n",
        "drive.mount('/content/drive')\n",
        "\n",
        "mpl.rcParams['image.cmap'] = 'gray_r'\n",
        "\n",
        "set_seed(42)\n",
        "mdl_path = Path('drive/MyDrive/fastai_p2/models/')\n",
        "\n",
        "IMAGENET_MEAN = torch.tensor([0.4810, 0.4482, 0.3968])\n",
        "IMAGENET_STD = torch.tensor([0.2760, 0.2683, 0.2813])\n",
        "\n",
        "IN_CHANNELS_RGB = 3\n",
        "IN_CHANNELS_GRAY_SCALE = 1"
      ],
      "metadata": {
        "colab": {
          "base_uri": "https://localhost:8080/"
        },
        "id": "vnxlc5y8859i",
        "outputId": "b0987e92-7365-4852-dfb0-9f78db8039c0"
      },
      "execution_count": 3,
      "outputs": [
        {
          "output_type": "stream",
          "name": "stdout",
          "text": [
            "Mounted at /content/drive\n"
          ]
        }
      ]
    },
    {
      "cell_type": "code",
      "source": [
        "IMAGENET_IN_CHANNELS, IMAGENET_OUT_CHANNELS = 3, 3\n",
        "FMNIST_IN_CHANNELS, FMNIST_OUT_CHANNELS = 1, 1"
      ],
      "metadata": {
        "id": "acxB4ANcdy6P"
      },
      "execution_count": 4,
      "outputs": []
    },
    {
      "cell_type": "code",
      "source": [
        "dname, xn, yn = 'fashion_mnist', 'image', 'label'\n",
        "dsd = load_dataset(dname)\n",
        "\n",
        "@inplace\n",
        "def transformi(b): b['image'] = [(resize(to_tensor(o), (32, 32), antialias = True))*2. - 1. for o in b['image']]\n",
        "\n",
        "tds = dsd.with_transform(transformi)\n",
        "dls = DataLoaders.from_dd(tds, batch_size = 256, num_workers=2)"
      ],
      "metadata": {
        "colab": {
          "base_uri": "https://localhost:8080/",
          "height": 272,
          "referenced_widgets": [
            "bd06e59ce012481882bc902b8f040d35",
            "9cfa9cd80fed4a8bb500e1414a740d71",
            "e5820b285c6e4dc29987b7dcf26f6127",
            "ae48927cdd2142bc8e9e562e9bd992ee",
            "24f7813dd17b41fcb4fc6d2f17447c88",
            "3bb41f683705481193664405be867cea",
            "9e664da0778f447b890b08821b9b30c5",
            "ca542b87131144769ceb75f48e4e5ef3",
            "9fcdf4c4fbf5410a8199e6f926b41bde",
            "43fdc97c16e2401bb9463694bb9878e5",
            "931373bd2298404fa1618b76a54ff82b",
            "db5a00a4d9504ad4a292e6ca4888040e",
            "0e683a6d9abe4e6e92c478d60ad91bfa",
            "5fec746cac7849ca9b6e49db009e3089",
            "796ed71796774a2baeb6f99731799154",
            "d754f5daf0c840f88c85093aa1337dc3",
            "d8ba845cd9af493c9ca9def16a743f6e",
            "587ff0190e5f4292b9bf51fd5055237e",
            "359c74d5599b4f2fbc86ecf83c52f2c1",
            "912e73b6bc9845888345c7290d014e7a",
            "a351a671e26a40e4a7da0aa816cc42f2",
            "0e88c13a1e9d4845ab14b5b02f04725a",
            "13bb1cc8133742e0926bd6bc3dbaed14",
            "bce7fb5b8ee34b8792270897f74e9487",
            "b32b787753984b2ca82d3a406abb1d0d",
            "92bbb3a3c22f40afb28be781044c1b99",
            "76e034a93eb646438f831cf78dd2142a",
            "b2db1edf3b2e46e780a92080a1eafdb1",
            "722d65941deb41bc9ad085ab99b1ed9c",
            "a7947b3f2a6e455b8b82f685ac526f92",
            "1e725d73d2454ca787f41897501225f9",
            "aeffbbd8634842b7aa4a2bc368bb08cc",
            "5047980e71204778b748edf961253f7e",
            "5be4e58541684b2a9b77bab515ddd74a",
            "8cd7a8af03464557a52a96ff3ef63718",
            "d051f02eccdb4209807dc26213a72182",
            "179e96684f95443690081ee7d69ba305",
            "4d04262c5cff43c39fad81d1f77b08df",
            "15f9e5d2863948ff8c034767be6b7a15",
            "0ad04db647e542a4b1c092cdcf4e63b5",
            "dbebfb98fc9349488a47cc8af4cb0ab7",
            "f2a9a88578714227b53c8b8f0ceebbb1",
            "2023f207daa4469bbf48822e632bfd2b",
            "dc8e7c98f558468b8e486744be940b2f"
          ]
        },
        "id": "x-2dsWeeXNkh",
        "outputId": "82920b79-fabb-4b49-c910-db934e46332f"
      },
      "execution_count": 5,
      "outputs": [
        {
          "output_type": "stream",
          "name": "stderr",
          "text": [
            "/usr/local/lib/python3.10/dist-packages/huggingface_hub/utils/_token.py:88: UserWarning: \n",
            "The secret `HF_TOKEN` does not exist in your Colab secrets.\n",
            "To authenticate with the Hugging Face Hub, create a token in your settings tab (https://huggingface.co/settings/tokens), set it as secret in your Google Colab and restart your session.\n",
            "You will be able to reuse this secret in all of your notebooks.\n",
            "Please note that authentication is recommended but still optional to access public models or datasets.\n",
            "  warnings.warn(\n"
          ]
        },
        {
          "output_type": "display_data",
          "data": {
            "text/plain": [
              "Downloading data:   0%|          | 0.00/30.9M [00:00<?, ?B/s]"
            ],
            "application/vnd.jupyter.widget-view+json": {
              "version_major": 2,
              "version_minor": 0,
              "model_id": "bd06e59ce012481882bc902b8f040d35"
            }
          },
          "metadata": {}
        },
        {
          "output_type": "display_data",
          "data": {
            "text/plain": [
              "Downloading data:   0%|          | 0.00/5.18M [00:00<?, ?B/s]"
            ],
            "application/vnd.jupyter.widget-view+json": {
              "version_major": 2,
              "version_minor": 0,
              "model_id": "db5a00a4d9504ad4a292e6ca4888040e"
            }
          },
          "metadata": {}
        },
        {
          "output_type": "display_data",
          "data": {
            "text/plain": [
              "Generating train split:   0%|          | 0/60000 [00:00<?, ? examples/s]"
            ],
            "application/vnd.jupyter.widget-view+json": {
              "version_major": 2,
              "version_minor": 0,
              "model_id": "13bb1cc8133742e0926bd6bc3dbaed14"
            }
          },
          "metadata": {}
        },
        {
          "output_type": "display_data",
          "data": {
            "text/plain": [
              "Generating test split:   0%|          | 0/10000 [00:00<?, ? examples/s]"
            ],
            "application/vnd.jupyter.widget-view+json": {
              "version_major": 2,
              "version_minor": 0,
              "model_id": "5be4e58541684b2a9b77bab515ddd74a"
            }
          },
          "metadata": {}
        }
      ]
    },
    {
      "cell_type": "code",
      "source": [
        "def flatten_mse(yhat, targ): return F.mse_loss(yhat.flatten(), targ.flatten())\n",
        "\n",
        "class BaseSchedulerCB(Callback):\n",
        "  def __init__(self, sched_class): self.sched_class = sched_class\n",
        "  def before_fit(self, learn): self.sched = self.sched_class(learn.opt)\n",
        "  def step(self, learn):\n",
        "    if not learn.training: return\n",
        "    self.sched.step()\n",
        "\n",
        "class BatchSchedulerCB(BaseSchedulerCB):\n",
        "  def __init__(self, sched_class):super().__init__(sched_class)\n",
        "  def after_batch(self, learn): self.step(learn)\n",
        "\n",
        "def noisify_img(cb_obj, x_0):\n",
        "  n = x_0.shape[0]\n",
        "  device = x_0.device\n",
        "  noise = torch.randn(x_0.shape, device = device)\n",
        "  ts = torch.randint(0, cb_obj.n_steps, size = (n,), device = device, dtype = torch.long)\n",
        "\n",
        "  if cb_obj.alpha_bar.device != device: cb_obj.alpha_bar = cb_obj.alpha_bar.to(device)\n",
        "\n",
        "  c1 = cb_obj.alpha_bar[ts].sqrt()[:, None, None, None].to(device)\n",
        "  c2 = (1 - cb_obj.alpha_bar[ts]).sqrt()[:, None, None, None].to(device)\n",
        "  x_t = c1*x_0 + c2*noise\n",
        "\n",
        "  return (x_t, ts), noise\n",
        "\n",
        "class DDPMPrep(Callback):\n",
        "  def __init__(self, n_steps = 1000, beta_min = 0.0001, beta_max = 0.02):\n",
        "    fc.store_attr()\n",
        "    self.beta = torch.linspace(beta_min, beta_max, n_steps)\n",
        "    self.alpha = 1. - self.beta\n",
        "    self.alpha_bar = self.alpha.cumprod(0)\n",
        "    self.sigma = self.beta.sqrt()\n",
        "\n",
        "  def before_batch(self, learn): learn.batch = noisify_img(self, learn.batch[0])\n",
        "\n",
        "class AccLearner(TrainLearner):\n",
        "\n",
        "  def __init__(self, *args, **kwargs):\n",
        "    super().__init__(*args, **kwargs)\n",
        "    self.aclr = Accelerator()\n",
        "    self.opt = self.opt_func(self.model.parameters(), self.lr)\n",
        "    self.model, self.opt, self.dls.train, self.dls.valid = self.aclr.prepare(self.model, self.opt, self.dls.train, self.dls.valid)\n",
        "\n",
        "  def backward(self): self.aclr.backward(self.loss)\n",
        "\n",
        "def _pre_conv(ni, nf, kernel_size = 3, stride = 1, act = nn.SiLU, norm = nn.BatchNorm2d):\n",
        "  layers = []\n",
        "  if act: layers.append(act())\n",
        "  if norm: layers.append(norm(ni))\n",
        "  layers.append(nn.Conv2d(ni, nf, kernel_size, stride = stride, padding = kernel_size//2, bias = True))\n",
        "  return nn.Sequential(*layers)\n",
        "\n",
        "class ResBlock(nn.Module):\n",
        "  def __init__(self, ni, nf, kernel_size = 3, stride = 1, act = nn.SiLU, norm = nn.BatchNorm2d):\n",
        "    super().__init__()\n",
        "    self.id_conv = nn.Conv2d(ni, nf, kernel_size = 1, stride = stride) if ni != nf else fc.noop\n",
        "    self.convs = nn.Sequential(\n",
        "        _pre_conv(ni, nf, kernel_size, 1, act, norm),\n",
        "        _pre_conv(nf, nf, kernel_size, stride, act, norm)\n",
        "    )\n",
        "\n",
        "  def forward(self, x): return self.id_conv(x) + self.convs(x)\n",
        "\n",
        "class SM:\n",
        "  def forward(self, *args, **kwargs):\n",
        "    self.saved = super().forward(*args, **kwargs)\n",
        "    return self.saved\n",
        "\n",
        "class SConv(SM, nn.Conv2d): pass\n",
        "class SResBlock(SM, ResBlock): pass\n",
        "\n",
        "def get_tembs(nsteps, nemb = 32, max_steps = 1000):\n",
        "  tsteps = torch.linspace(-10, 10, nsteps)\n",
        "  points = -1*math.log(max_steps) * torch.linspace(0, 1, nemb//2)\n",
        "  points_dist = tsteps[:, None] * points[None, :].exp()\n",
        "  return torch.cat((torch.sin(points_dist), torch.cos(points_dist)), dim = 1)\n",
        "\n",
        "class EmbResBlock(nn.Module):\n",
        "  def __init__(self, ni, nf, n_emb, kernel_size = 3, stride = 1, act = nn.SiLU, norm = nn.BatchNorm2d):\n",
        "    super().__init__()\n",
        "    self.emb_proj = nn.Linear(n_emb, 2*nf)\n",
        "    self.id_conv = nn.Conv2d(ni, nf, kernel_size = 1, stride = stride) if ni != nf else fc.noop\n",
        "    self.conv1 = _pre_conv(ni, nf, kernel_size, 1, act, norm)\n",
        "    self.conv2 = _pre_conv(nf, nf, kernel_size, stride, act, norm)\n",
        "\n",
        "  def forward(self, x, t_emb):\n",
        "    res = self.conv1(x)\n",
        "    t_emb = self.emb_proj(t_emb)[:, :, None, None]  # bs, 2*nf\n",
        "    scale, shift = t_emb.chunk(2, dim = 1)\n",
        "    res = res + res * scale + shift\n",
        "    return self.id_conv(x) + self.conv2(res)\n",
        "\n",
        "class SEResBlock(SM, EmbResBlock): pass\n",
        "\n",
        "class DownBlock(nn.Module):\n",
        "  def __init__(self, ni, nf, n_emb, n_layers = 1, add_down = True, act = nn.SiLU, norm = nn.BatchNorm2d):\n",
        "    super().__init__()\n",
        "    self.layers = nn.ModuleList([SEResBlock(ni if i == 0 else nf, nf, n_emb = n_emb, act = act, norm = norm) for i in range(n_layers)])\n",
        "    self.f_layer = SConv(nf, nf, kernel_size = 3, stride = 2, padding = 1) if add_down == True else fc.noop\n",
        "\n",
        "  def forward(self, x, t_emb):\n",
        "    for layer in self.layers:\n",
        "      x = layer(x, t_emb)\n",
        "    return self.f_layer(x)\n",
        "\n",
        "  def get_acts(self):\n",
        "    acts = [l.saved for l in self.layers]\n",
        "    if hasattr(self.f_layer, 'saved'): acts.append(self.f_layer.saved)\n",
        "    return acts\n",
        "\n",
        "def up_conv(ni, nf, kernel_size = 3):\n",
        "  return nn.Sequential(nn.Upsample(scale_factor = 2), nn.Conv2d(ni, nf, stride = 1, kernel_size = kernel_size, padding = kernel_size//2))\n",
        "\n",
        "class UpBlock(nn.Module):\n",
        "  def __init__(self, ni, nf, prev_nf, n_emb, add_up = True, n_layers = 2, act = nn.SiLU, norm = nn.BatchNorm2d):\n",
        "    super().__init__()\n",
        "    self.blocks = nn.ModuleList([])\n",
        "    for i in range(n_layers):\n",
        "      if i == 0: inc = ni + nf\n",
        "      elif i == n_layers - 1: inc = prev_nf + nf\n",
        "      else: inc = 2*nf\n",
        "      self.blocks.append(EmbResBlock(inc, nf, n_emb = n_emb, act = act, norm = norm))\n",
        "\n",
        "    self.up = up_conv(nf, nf) if add_up else nn.Identity()\n",
        "\n",
        "  def forward(self, x, ups, t_emb):\n",
        "    for block in self.blocks: x = block(torch.cat([ups.pop(), x], dim = 1), t_emb)\n",
        "    return self.up(x)\n",
        "\n",
        "class DiffusionUNET(nn.Module):\n",
        "  def __init__(self, in_channels = FMNIST_IN_CHANNELS, out_channels = FMNIST_OUT_CHANNELS,\n",
        "                                                    nfs = [64, 128, 256, 512], n_layers = 2, emb_dim = 16):\n",
        "    super().__init__()\n",
        "    self.emb_dim = emb_dim\n",
        "    n_emb = nfs[0]*4\n",
        "    self.emb_mlp = nn.Sequential(nn.Linear(emb_dim, n_emb, bias = True),\n",
        "                                 nn.BatchNorm1d(n_emb),\n",
        "                                 nn.Linear(n_emb, n_emb, bias = True))\n",
        "\n",
        "    self.first_c = nn.Conv2d(in_channels, nfs[0], kernel_size = 3, padding = 1, bias = True)\n",
        "    downs, ni = [], nfs[0]\n",
        "    for i, nf in enumerate(nfs):\n",
        "      downs.append(DownBlock(ni, nf, n_emb = n_emb, n_layers = n_layers, add_down = False if i == (len(nfs)-1) else True))\n",
        "      ni = nf\n",
        "\n",
        "    self.downs = nn.Sequential(*downs)\n",
        "    self.mid_c = EmbResBlock(nf, nf, n_emb = n_emb)\n",
        "\n",
        "    ups, ni, nfs  = [], nfs[-1], list(reversed(nfs))\n",
        "    for i, nf in enumerate(nfs):\n",
        "      prev_nf = nfs[i + 1] if i < len(nfs) - 1 else nfs[i]\n",
        "      ups.append(UpBlock(ni, nf, prev_nf, n_emb = n_emb, add_up = True if i < len(nfs) - 1 else False, n_layers = n_layers + 1))\n",
        "      ni = nf\n",
        "    self.ups = nn.ModuleList(ups)\n",
        "    self.final_c = _pre_conv(nfs[-1], out_channels) # EmbResBlock(nf, nf, n_emb = n_emb)\n",
        "\n",
        "  def forward(self, inp):\n",
        "    x, ts = inp\n",
        "    tembs = get_tembs(100, self.emb_dim).to(x.device)[ts]\n",
        "\n",
        "    t_emb = self.emb_mlp(tembs) # bs, 4*nfs[0]\n",
        "    x = self.first_c(x)\n",
        "    acts = [x]\n",
        "    for block in self.downs:\n",
        "      x = block(x, t_emb)\n",
        "    x = self.mid_c(x, t_emb)\n",
        "    # acts += [i.saved for j in self.downs for i in j]\n",
        "    for i in self.downs: acts += i.get_acts()\n",
        "    for up in self.ups: x = up(x, acts, t_emb)\n",
        "    return self.final_c(x)"
      ],
      "metadata": {
        "id": "78dR4tSbYI3L"
      },
      "execution_count": 6,
      "outputs": []
    },
    {
      "cell_type": "markdown",
      "source": [
        "# Jermeys Code"
      ],
      "metadata": {
        "id": "uE5hi24rHyZn"
      }
    },
    {
      "cell_type": "code",
      "source": [],
      "metadata": {
        "id": "-6Lr9YWGHyGZ"
      },
      "execution_count": null,
      "outputs": []
    },
    {
      "cell_type": "code",
      "source": [
        "def get_layer():\n",
        "  return nn.Sequential(\n",
        "      nn.Linear(10, 10),\n",
        "      nn.Linear(10, 10),nn.Linear(10, 10)\n",
        "  )"
      ],
      "metadata": {
        "id": "gO3ABfSfg098"
      },
      "execution_count": 7,
      "outputs": []
    },
    {
      "cell_type": "code",
      "source": [
        "layers = nn.Sequential(*[get_layer() for i in range(4)])"
      ],
      "metadata": {
        "id": "HrVrZGQO9WJb"
      },
      "execution_count": 8,
      "outputs": []
    },
    {
      "cell_type": "code",
      "source": [
        "len(layers)"
      ],
      "metadata": {
        "colab": {
          "base_uri": "https://localhost:8080/"
        },
        "id": "HmZ2GCI89f-B",
        "outputId": "1ea451a2-1b8f-4d84-e955-e08242802201"
      },
      "execution_count": 9,
      "outputs": [
        {
          "output_type": "execute_result",
          "data": {
            "text/plain": [
              "4"
            ]
          },
          "metadata": {},
          "execution_count": 9
        }
      ]
    },
    {
      "cell_type": "code",
      "source": [
        "def unet_conv(ni, nf, ks=3, stride=1, act=nn.SiLU, norm=None, bias=True):\n",
        "    layers = nn.Sequential()\n",
        "    if norm: layers.append(norm(ni))\n",
        "    if act : layers.append(act())\n",
        "    layers.append(nn.Conv2d(ni, nf, stride=stride, kernel_size=ks, padding=ks//2, bias=bias))\n",
        "    return layers"
      ],
      "metadata": {
        "id": "sXDOFJvN9i7_"
      },
      "execution_count": 4,
      "outputs": []
    },
    {
      "cell_type": "code",
      "source": [
        "class UnetResBlock(nn.Module):\n",
        "    def __init__(self, ni, nf=None, ks=3, act=nn.SiLU, norm=nn.BatchNorm2d):\n",
        "        super().__init__()\n",
        "        if nf is None: nf = ni\n",
        "        self.convs = nn.Sequential(unet_conv(ni, nf, ks, act=act, norm=norm),\n",
        "                                   unet_conv(nf, nf, ks, act=act, norm=norm))\n",
        "        self.idconv = fc.noop if ni==nf else nn.Conv2d(ni, nf, 1)\n",
        "\n",
        "    def forward(self, x): return self.convs(x) + self.idconv(x)"
      ],
      "metadata": {
        "id": "LRKgl9mZFZ_H"
      },
      "execution_count": 6,
      "outputs": []
    },
    {
      "cell_type": "code",
      "source": [
        "class SaveModule:\n",
        "    def forward(self, x, *args, **kwargs):\n",
        "        self.saved = super().forward(x, *args, **kwargs)\n",
        "        return self.saved\n",
        "\n",
        "class SavedResBlock(SaveModule, UnetResBlock): pass\n",
        "class SavedConv(SaveModule, nn.Conv2d): pass"
      ],
      "metadata": {
        "id": "rhy4UvFUFbom"
      },
      "execution_count": 7,
      "outputs": []
    },
    {
      "cell_type": "code",
      "source": [
        "def down_block(ni, nf, add_down=True, num_layers=1):\n",
        "    res = nn.Sequential(*[SavedResBlock(ni=ni if i==0 else nf, nf=nf)\n",
        "                         for i in range(num_layers)])\n",
        "    if add_down: res.append(SavedConv(nf, nf, 3, stride=2, padding=1))\n",
        "    return res\n",
        ""
      ],
      "metadata": {
        "id": "aMtzF940FfSi"
      },
      "execution_count": 8,
      "outputs": []
    },
    {
      "cell_type": "code",
      "source": [
        "def upsample(nf): return nn.Sequential(nn.Upsample(scale_factor=2.), nn.Conv2d(nf, nf, 3, padding=1))\n"
      ],
      "metadata": {
        "id": "t30gpCVsFiB1"
      },
      "execution_count": 9,
      "outputs": []
    },
    {
      "cell_type": "code",
      "source": [
        "class UpBlock(nn.Module):\n",
        "    def __init__(self, ni, prev_nf, nf, add_up=True, num_layers=2):\n",
        "        super().__init__()\n",
        "        self.resnets = nn.ModuleList(\n",
        "            [UnetResBlock((prev_nf if i==0 else nf)+(ni if (i==num_layers-1) else nf), nf)\n",
        "            for i in range(num_layers)])\n",
        "        self.up = upsample(nf) if add_up else nn.Identity()\n",
        "\n",
        "    def forward(self, x, ups):\n",
        "        for resnet in self.resnets: x = resnet(torch.cat([x, ups.pop()], dim=1))\n",
        "        return self.up(x)"
      ],
      "metadata": {
        "id": "BTg4-o-xFjsP"
      },
      "execution_count": 10,
      "outputs": []
    },
    {
      "cell_type": "code",
      "source": [
        "class UNet2DModel(nn.Module):\n",
        "    def __init__( self, in_channels=3, out_channels=3, nfs=(224,448,672,896), num_layers=1):\n",
        "        super().__init__()\n",
        "        self.conv_in = nn.Conv2d(in_channels, nfs[0], kernel_size=3, padding=1)\n",
        "        nf = nfs[0]\n",
        "        self.downs = nn.Sequential()\n",
        "        for i in range(len(nfs)):\n",
        "            ni = nf\n",
        "            nf = nfs[i]\n",
        "            self.downs.append(down_block(ni, nf, add_down=i!=len(nfs)-1, num_layers=num_layers))\n",
        "        self.mid_block = UnetResBlock(nfs[-1])\n",
        "\n",
        "        rev_nfs = list(reversed(nfs))\n",
        "        nf = rev_nfs[0]\n",
        "        self.ups = nn.ModuleList()\n",
        "        for i in range(len(nfs)):\n",
        "            prev_nf = nf\n",
        "            nf = rev_nfs[i]\n",
        "            ni = rev_nfs[min(i+1, len(nfs)-1)]\n",
        "            self.ups.append(UpBlock(ni, prev_nf, nf, add_up=i!=len(nfs)-1, num_layers=num_layers+1))\n",
        "        self.conv_out = unet_conv(nfs[0], out_channels, act=nn.SiLU, norm=nn.BatchNorm2d)\n",
        "\n",
        "    def forward(self, inp):\n",
        "        st()\n",
        "        x = self.conv_in(inp[0])\n",
        "        saved = [x]\n",
        "        x = self.downs(x)\n",
        "        saved += [p.saved for o in self.downs for p in o]\n",
        "        x = self.mid_block(x)\n",
        "        for block in self.ups: x = block(x, saved)\n",
        "        return self.conv_out(x)"
      ],
      "metadata": {
        "id": "mtA-Jhr0FmOJ"
      },
      "execution_count": 23,
      "outputs": []
    },
    {
      "cell_type": "code",
      "source": [
        "model = UNet2DModel(in_channels=1, out_channels=1, nfs=(32,64,128,256), num_layers=2)"
      ],
      "metadata": {
        "id": "U17H1HFkFogq"
      },
      "execution_count": 24,
      "outputs": []
    },
    {
      "cell_type": "code",
      "source": [
        "x = torch.randn(64, 1, 32, 32)\n",
        "out = model([x])"
      ],
      "metadata": {
        "colab": {
          "base_uri": "https://localhost:8080/"
        },
        "id": "uoEeUbprFrE9",
        "outputId": "56272811-87ba-44a4-fb08-80ed80a1f244"
      },
      "execution_count": 25,
      "outputs": [
        {
          "output_type": "stream",
          "name": "stderr",
          "text": [
            "\n",
            "PYDEV DEBUGGER WARNING:\n",
            "sys.settrace() should not be used when the debugger is being used.\n",
            "This may cause the debugger to stop working correctly.\n",
            "If this is needed, please check: \n",
            "http://pydev.blogspot.com/2007/06/why-cant-pydev-debugger-work-with.html\n",
            "to see how to restore the debug tracing back correctly.\n",
            "Call Location:\n",
            "  File \"/usr/lib/python3.10/bdb.py\", line 336, in set_trace\n",
            "    sys.settrace(self.trace_dispatch)\n",
            "\n"
          ]
        },
        {
          "name": "stdout",
          "output_type": "stream",
          "text": [
            "> \u001b[0;32m<ipython-input-23-734baf59ad32>\u001b[0m(25)\u001b[0;36mforward\u001b[0;34m()\u001b[0m\n",
            "\u001b[0;32m     24 \u001b[0;31m        \u001b[0mst\u001b[0m\u001b[0;34m(\u001b[0m\u001b[0;34m)\u001b[0m\u001b[0;34m\u001b[0m\u001b[0;34m\u001b[0m\u001b[0m\n",
            "\u001b[0m\u001b[0;32m---> 25 \u001b[0;31m        \u001b[0mx\u001b[0m \u001b[0;34m=\u001b[0m \u001b[0mself\u001b[0m\u001b[0;34m.\u001b[0m\u001b[0mconv_in\u001b[0m\u001b[0;34m(\u001b[0m\u001b[0minp\u001b[0m\u001b[0;34m[\u001b[0m\u001b[0;36m0\u001b[0m\u001b[0;34m]\u001b[0m\u001b[0;34m)\u001b[0m\u001b[0;34m\u001b[0m\u001b[0;34m\u001b[0m\u001b[0m\n",
            "\u001b[0m\u001b[0;32m     26 \u001b[0;31m        \u001b[0msaved\u001b[0m \u001b[0;34m=\u001b[0m \u001b[0;34m[\u001b[0m\u001b[0mx\u001b[0m\u001b[0;34m]\u001b[0m\u001b[0;34m\u001b[0m\u001b[0;34m\u001b[0m\u001b[0m\n",
            "\u001b[0m\n",
            "ipdb> n\n",
            "> \u001b[0;32m<ipython-input-23-734baf59ad32>\u001b[0m(26)\u001b[0;36mforward\u001b[0;34m()\u001b[0m\n",
            "\u001b[0;32m     25 \u001b[0;31m        \u001b[0mx\u001b[0m \u001b[0;34m=\u001b[0m \u001b[0mself\u001b[0m\u001b[0;34m.\u001b[0m\u001b[0mconv_in\u001b[0m\u001b[0;34m(\u001b[0m\u001b[0minp\u001b[0m\u001b[0;34m[\u001b[0m\u001b[0;36m0\u001b[0m\u001b[0;34m]\u001b[0m\u001b[0;34m)\u001b[0m\u001b[0;34m\u001b[0m\u001b[0;34m\u001b[0m\u001b[0m\n",
            "\u001b[0m\u001b[0;32m---> 26 \u001b[0;31m        \u001b[0msaved\u001b[0m \u001b[0;34m=\u001b[0m \u001b[0;34m[\u001b[0m\u001b[0mx\u001b[0m\u001b[0;34m]\u001b[0m\u001b[0;34m\u001b[0m\u001b[0;34m\u001b[0m\u001b[0m\n",
            "\u001b[0m\u001b[0;32m     27 \u001b[0;31m        \u001b[0mx\u001b[0m \u001b[0;34m=\u001b[0m \u001b[0mself\u001b[0m\u001b[0;34m.\u001b[0m\u001b[0mdowns\u001b[0m\u001b[0;34m(\u001b[0m\u001b[0mx\u001b[0m\u001b[0;34m)\u001b[0m\u001b[0;34m\u001b[0m\u001b[0;34m\u001b[0m\u001b[0m\n",
            "\u001b[0m\n",
            "ipdb> x.shape\n",
            "torch.Size([64, 32, 32, 32])\n",
            "ipdb> n\n",
            "> \u001b[0;32m<ipython-input-23-734baf59ad32>\u001b[0m(27)\u001b[0;36mforward\u001b[0;34m()\u001b[0m\n",
            "\u001b[0;32m     26 \u001b[0;31m        \u001b[0msaved\u001b[0m \u001b[0;34m=\u001b[0m \u001b[0;34m[\u001b[0m\u001b[0mx\u001b[0m\u001b[0;34m]\u001b[0m\u001b[0;34m\u001b[0m\u001b[0;34m\u001b[0m\u001b[0m\n",
            "\u001b[0m\u001b[0;32m---> 27 \u001b[0;31m        \u001b[0mx\u001b[0m \u001b[0;34m=\u001b[0m \u001b[0mself\u001b[0m\u001b[0;34m.\u001b[0m\u001b[0mdowns\u001b[0m\u001b[0;34m(\u001b[0m\u001b[0mx\u001b[0m\u001b[0;34m)\u001b[0m\u001b[0;34m\u001b[0m\u001b[0;34m\u001b[0m\u001b[0m\n",
            "\u001b[0m\u001b[0;32m     28 \u001b[0;31m        \u001b[0msaved\u001b[0m \u001b[0;34m+=\u001b[0m \u001b[0;34m[\u001b[0m\u001b[0mp\u001b[0m\u001b[0;34m.\u001b[0m\u001b[0msaved\u001b[0m \u001b[0;32mfor\u001b[0m \u001b[0mo\u001b[0m \u001b[0;32min\u001b[0m \u001b[0mself\u001b[0m\u001b[0;34m.\u001b[0m\u001b[0mdowns\u001b[0m \u001b[0;32mfor\u001b[0m \u001b[0mp\u001b[0m \u001b[0;32min\u001b[0m \u001b[0mo\u001b[0m\u001b[0;34m]\u001b[0m\u001b[0;34m\u001b[0m\u001b[0;34m\u001b[0m\u001b[0m\n",
            "\u001b[0m\n",
            "ipdb> n\n",
            "> \u001b[0;32m<ipython-input-23-734baf59ad32>\u001b[0m(28)\u001b[0;36mforward\u001b[0;34m()\u001b[0m\n",
            "\u001b[0;32m     27 \u001b[0;31m        \u001b[0mx\u001b[0m \u001b[0;34m=\u001b[0m \u001b[0mself\u001b[0m\u001b[0;34m.\u001b[0m\u001b[0mdowns\u001b[0m\u001b[0;34m(\u001b[0m\u001b[0mx\u001b[0m\u001b[0;34m)\u001b[0m\u001b[0;34m\u001b[0m\u001b[0;34m\u001b[0m\u001b[0m\n",
            "\u001b[0m\u001b[0;32m---> 28 \u001b[0;31m        \u001b[0msaved\u001b[0m \u001b[0;34m+=\u001b[0m \u001b[0;34m[\u001b[0m\u001b[0mp\u001b[0m\u001b[0;34m.\u001b[0m\u001b[0msaved\u001b[0m \u001b[0;32mfor\u001b[0m \u001b[0mo\u001b[0m \u001b[0;32min\u001b[0m \u001b[0mself\u001b[0m\u001b[0;34m.\u001b[0m\u001b[0mdowns\u001b[0m \u001b[0;32mfor\u001b[0m \u001b[0mp\u001b[0m \u001b[0;32min\u001b[0m \u001b[0mo\u001b[0m\u001b[0;34m]\u001b[0m\u001b[0;34m\u001b[0m\u001b[0;34m\u001b[0m\u001b[0m\n",
            "\u001b[0m\u001b[0;32m     29 \u001b[0;31m        \u001b[0mx\u001b[0m \u001b[0;34m=\u001b[0m \u001b[0mself\u001b[0m\u001b[0;34m.\u001b[0m\u001b[0mmid_block\u001b[0m\u001b[0;34m(\u001b[0m\u001b[0mx\u001b[0m\u001b[0;34m)\u001b[0m\u001b[0;34m\u001b[0m\u001b[0;34m\u001b[0m\u001b[0m\n",
            "\u001b[0m\n",
            "ipdb> x.shape\n",
            "torch.Size([64, 256, 4, 4])\n",
            "ipdb> self.down\n",
            "*** AttributeError: 'UNet2DModel' object has no attribute 'down'\n",
            "ipdb> self.downs\n",
            "Sequential(\n",
            "  (0): Sequential(\n",
            "    (0): SavedResBlock(\n",
            "      (convs): Sequential(\n",
            "        (0): Sequential(\n",
            "          (0): BatchNorm2d(32, eps=1e-05, momentum=0.1, affine=True, track_running_stats=True)\n",
            "          (1): SiLU()\n",
            "          (2): Conv2d(32, 32, kernel_size=(3, 3), stride=(1, 1), padding=(1, 1))\n",
            "        )\n",
            "        (1): Sequential(\n",
            "          (0): BatchNorm2d(32, eps=1e-05, momentum=0.1, affine=True, track_running_stats=True)\n",
            "          (1): SiLU()\n",
            "          (2): Conv2d(32, 32, kernel_size=(3, 3), stride=(1, 1), padding=(1, 1))\n",
            "        )\n",
            "      )\n",
            "    )\n",
            "    (1): SavedResBlock(\n",
            "      (convs): Sequential(\n",
            "        (0): Sequential(\n",
            "          (0): BatchNorm2d(32, eps=1e-05, momentum=0.1, affine=True, track_running_stats=True)\n",
            "          (1): SiLU()\n",
            "          (2): Conv2d(32, 32, kernel_size=(3, 3), stride=(1, 1), padding=(1, 1))\n",
            "        )\n",
            "        (1): Sequential(\n",
            "          (0): BatchNorm2d(32, eps=1e-05, momentum=0.1, affine=True, track_running_stats=True)\n",
            "          (1): SiLU()\n",
            "          (2): Conv2d(32, 32, kernel_size=(3, 3), stride=(1, 1), padding=(1, 1))\n",
            "        )\n",
            "      )\n",
            "    )\n",
            "    (2): SavedConv(32, 32, kernel_size=(3, 3), stride=(2, 2), padding=(1, 1))\n",
            "  )\n",
            "  (1): Sequential(\n",
            "    (0): SavedResBlock(\n",
            "      (convs): Sequential(\n",
            "        (0): Sequential(\n",
            "          (0): BatchNorm2d(32, eps=1e-05, momentum=0.1, affine=True, track_running_stats=True)\n",
            "          (1): SiLU()\n",
            "          (2): Conv2d(32, 64, kernel_size=(3, 3), stride=(1, 1), padding=(1, 1))\n",
            "        )\n",
            "        (1): Sequential(\n",
            "          (0): BatchNorm2d(64, eps=1e-05, momentum=0.1, affine=True, track_running_stats=True)\n",
            "          (1): SiLU()\n",
            "          (2): Conv2d(64, 64, kernel_size=(3, 3), stride=(1, 1), padding=(1, 1))\n",
            "        )\n",
            "      )\n",
            "      (idconv): Conv2d(32, 64, kernel_size=(1, 1), stride=(1, 1))\n",
            "    )\n",
            "    (1): SavedResBlock(\n",
            "      (convs): Sequential(\n",
            "        (0): Sequential(\n",
            "          (0): BatchNorm2d(64, eps=1e-05, momentum=0.1, affine=True, track_running_stats=True)\n",
            "          (1): SiLU()\n",
            "          (2): Conv2d(64, 64, kernel_size=(3, 3), stride=(1, 1), padding=(1, 1))\n",
            "        )\n",
            "        (1): Sequential(\n",
            "          (0): BatchNorm2d(64, eps=1e-05, momentum=0.1, affine=True, track_running_stats=True)\n",
            "          (1): SiLU()\n",
            "          (2): Conv2d(64, 64, kernel_size=(3, 3), stride=(1, 1), padding=(1, 1))\n",
            "        )\n",
            "      )\n",
            "    )\n",
            "    (2): SavedConv(64, 64, kernel_size=(3, 3), stride=(2, 2), padding=(1, 1))\n",
            "  )\n",
            "  (2): Sequential(\n",
            "    (0): SavedResBlock(\n",
            "      (convs): Sequential(\n",
            "        (0): Sequential(\n",
            "          (0): BatchNorm2d(64, eps=1e-05, momentum=0.1, affine=True, track_running_stats=True)\n",
            "          (1): SiLU()\n",
            "          (2): Conv2d(64, 128, kernel_size=(3, 3), stride=(1, 1), padding=(1, 1))\n",
            "        )\n",
            "        (1): Sequential(\n",
            "          (0): BatchNorm2d(128, eps=1e-05, momentum=0.1, affine=True, track_running_stats=True)\n",
            "          (1): SiLU()\n",
            "          (2): Conv2d(128, 128, kernel_size=(3, 3), stride=(1, 1), padding=(1, 1))\n",
            "        )\n",
            "      )\n",
            "      (idconv): Conv2d(64, 128, kernel_size=(1, 1), stride=(1, 1))\n",
            "    )\n",
            "    (1): SavedResBlock(\n",
            "      (convs): Sequential(\n",
            "        (0): Sequential(\n",
            "          (0): BatchNorm2d(128, eps=1e-05, momentum=0.1, affine=True, track_running_stats=True)\n",
            "          (1): SiLU()\n",
            "          (2): Conv2d(128, 128, kernel_size=(3, 3), stride=(1, 1), padding=(1, 1))\n",
            "        )\n",
            "        (1): Sequential(\n",
            "          (0): BatchNorm2d(128, eps=1e-05, momentum=0.1, affine=True, track_running_stats=True)\n",
            "          (1): SiLU()\n",
            "          (2): Conv2d(128, 128, kernel_size=(3, 3), stride=(1, 1), padding=(1, 1))\n",
            "        )\n",
            "      )\n",
            "    )\n",
            "    (2): SavedConv(128, 128, kernel_size=(3, 3), stride=(2, 2), padding=(1, 1))\n",
            "  )\n",
            "  (3): Sequential(\n",
            "    (0): SavedResBlock(\n",
            "      (convs): Sequential(\n",
            "        (0): Sequential(\n",
            "          (0): BatchNorm2d(128, eps=1e-05, momentum=0.1, affine=True, track_running_stats=True)\n",
            "          (1): SiLU()\n",
            "          (2): Conv2d(128, 256, kernel_size=(3, 3), stride=(1, 1), padding=(1, 1))\n",
            "        )\n",
            "        (1): Sequential(\n",
            "          (0): BatchNorm2d(256, eps=1e-05, momentum=0.1, affine=True, track_running_stats=True)\n",
            "          (1): SiLU()\n",
            "          (2): Conv2d(256, 256, kernel_size=(3, 3), stride=(1, 1), padding=(1, 1))\n",
            "        )\n",
            "      )\n",
            "      (idconv): Conv2d(128, 256, kernel_size=(1, 1), stride=(1, 1))\n",
            "    )\n",
            "    (1): SavedResBlock(\n",
            "      (convs): Sequential(\n",
            "        (0): Sequential(\n",
            "          (0): BatchNorm2d(256, eps=1e-05, momentum=0.1, affine=True, track_running_stats=True)\n",
            "          (1): SiLU()\n",
            "          (2): Conv2d(256, 256, kernel_size=(3, 3), stride=(1, 1), padding=(1, 1))\n",
            "        )\n",
            "        (1): Sequential(\n",
            "          (0): BatchNorm2d(256, eps=1e-05, momentum=0.1, affine=True, track_running_stats=True)\n",
            "          (1): SiLU()\n",
            "          (2): Conv2d(256, 256, kernel_size=(3, 3), stride=(1, 1), padding=(1, 1))\n",
            "        )\n",
            "      )\n",
            "    )\n",
            "  )\n",
            ")\n",
            "ipdb> l\n",
            "\u001b[1;32m     23 \u001b[0m    \u001b[0;32mdef\u001b[0m \u001b[0mforward\u001b[0m\u001b[0;34m(\u001b[0m\u001b[0mself\u001b[0m\u001b[0;34m,\u001b[0m \u001b[0minp\u001b[0m\u001b[0;34m)\u001b[0m\u001b[0;34m:\u001b[0m\u001b[0;34m\u001b[0m\u001b[0;34m\u001b[0m\u001b[0m\n",
            "\u001b[1;32m     24 \u001b[0m        \u001b[0mst\u001b[0m\u001b[0;34m(\u001b[0m\u001b[0;34m)\u001b[0m\u001b[0;34m\u001b[0m\u001b[0;34m\u001b[0m\u001b[0m\n",
            "\u001b[1;32m     25 \u001b[0m        \u001b[0mx\u001b[0m \u001b[0;34m=\u001b[0m \u001b[0mself\u001b[0m\u001b[0;34m.\u001b[0m\u001b[0mconv_in\u001b[0m\u001b[0;34m(\u001b[0m\u001b[0minp\u001b[0m\u001b[0;34m[\u001b[0m\u001b[0;36m0\u001b[0m\u001b[0;34m]\u001b[0m\u001b[0;34m)\u001b[0m\u001b[0;34m\u001b[0m\u001b[0;34m\u001b[0m\u001b[0m\n",
            "\u001b[1;32m     26 \u001b[0m        \u001b[0msaved\u001b[0m \u001b[0;34m=\u001b[0m \u001b[0;34m[\u001b[0m\u001b[0mx\u001b[0m\u001b[0;34m]\u001b[0m\u001b[0;34m\u001b[0m\u001b[0;34m\u001b[0m\u001b[0m\n",
            "\u001b[1;32m     27 \u001b[0m        \u001b[0mx\u001b[0m \u001b[0;34m=\u001b[0m \u001b[0mself\u001b[0m\u001b[0;34m.\u001b[0m\u001b[0mdowns\u001b[0m\u001b[0;34m(\u001b[0m\u001b[0mx\u001b[0m\u001b[0;34m)\u001b[0m\u001b[0;34m\u001b[0m\u001b[0;34m\u001b[0m\u001b[0m\n",
            "\u001b[0;32m---> 28 \u001b[0;31m        \u001b[0msaved\u001b[0m \u001b[0;34m+=\u001b[0m \u001b[0;34m[\u001b[0m\u001b[0mp\u001b[0m\u001b[0;34m.\u001b[0m\u001b[0msaved\u001b[0m \u001b[0;32mfor\u001b[0m \u001b[0mo\u001b[0m \u001b[0;32min\u001b[0m \u001b[0mself\u001b[0m\u001b[0;34m.\u001b[0m\u001b[0mdowns\u001b[0m \u001b[0;32mfor\u001b[0m \u001b[0mp\u001b[0m \u001b[0;32min\u001b[0m \u001b[0mo\u001b[0m\u001b[0;34m]\u001b[0m\u001b[0;34m\u001b[0m\u001b[0;34m\u001b[0m\u001b[0m\n",
            "\u001b[0m\u001b[1;32m     29 \u001b[0m        \u001b[0mx\u001b[0m \u001b[0;34m=\u001b[0m \u001b[0mself\u001b[0m\u001b[0;34m.\u001b[0m\u001b[0mmid_block\u001b[0m\u001b[0;34m(\u001b[0m\u001b[0mx\u001b[0m\u001b[0;34m)\u001b[0m\u001b[0;34m\u001b[0m\u001b[0;34m\u001b[0m\u001b[0m\n",
            "\u001b[1;32m     30 \u001b[0m        \u001b[0;32mfor\u001b[0m \u001b[0mblock\u001b[0m \u001b[0;32min\u001b[0m \u001b[0mself\u001b[0m\u001b[0;34m.\u001b[0m\u001b[0mups\u001b[0m\u001b[0;34m:\u001b[0m \u001b[0mx\u001b[0m \u001b[0;34m=\u001b[0m \u001b[0mblock\u001b[0m\u001b[0;34m(\u001b[0m\u001b[0mx\u001b[0m\u001b[0;34m,\u001b[0m \u001b[0msaved\u001b[0m\u001b[0;34m)\u001b[0m\u001b[0;34m\u001b[0m\u001b[0;34m\u001b[0m\u001b[0m\n",
            "\u001b[1;32m     31 \u001b[0m        \u001b[0;32mreturn\u001b[0m \u001b[0mself\u001b[0m\u001b[0;34m.\u001b[0m\u001b[0mconv_out\u001b[0m\u001b[0;34m(\u001b[0m\u001b[0mx\u001b[0m\u001b[0;34m)\u001b[0m\u001b[0;34m\u001b[0m\u001b[0;34m\u001b[0m\u001b[0m\n",
            "\n",
            "ipdb> n\n",
            "> \u001b[0;32m<ipython-input-23-734baf59ad32>\u001b[0m(29)\u001b[0;36mforward\u001b[0;34m()\u001b[0m\n",
            "\u001b[0;32m     28 \u001b[0;31m        \u001b[0msaved\u001b[0m \u001b[0;34m+=\u001b[0m \u001b[0;34m[\u001b[0m\u001b[0mp\u001b[0m\u001b[0;34m.\u001b[0m\u001b[0msaved\u001b[0m \u001b[0;32mfor\u001b[0m \u001b[0mo\u001b[0m \u001b[0;32min\u001b[0m \u001b[0mself\u001b[0m\u001b[0;34m.\u001b[0m\u001b[0mdowns\u001b[0m \u001b[0;32mfor\u001b[0m \u001b[0mp\u001b[0m \u001b[0;32min\u001b[0m \u001b[0mo\u001b[0m\u001b[0;34m]\u001b[0m\u001b[0;34m\u001b[0m\u001b[0;34m\u001b[0m\u001b[0m\n",
            "\u001b[0m\u001b[0;32m---> 29 \u001b[0;31m        \u001b[0mx\u001b[0m \u001b[0;34m=\u001b[0m \u001b[0mself\u001b[0m\u001b[0;34m.\u001b[0m\u001b[0mmid_block\u001b[0m\u001b[0;34m(\u001b[0m\u001b[0mx\u001b[0m\u001b[0;34m)\u001b[0m\u001b[0;34m\u001b[0m\u001b[0;34m\u001b[0m\u001b[0m\n",
            "\u001b[0m\u001b[0;32m     30 \u001b[0;31m        \u001b[0;32mfor\u001b[0m \u001b[0mblock\u001b[0m \u001b[0;32min\u001b[0m \u001b[0mself\u001b[0m\u001b[0;34m.\u001b[0m\u001b[0mups\u001b[0m\u001b[0;34m:\u001b[0m \u001b[0mx\u001b[0m \u001b[0;34m=\u001b[0m \u001b[0mblock\u001b[0m\u001b[0;34m(\u001b[0m\u001b[0mx\u001b[0m\u001b[0;34m,\u001b[0m \u001b[0msaved\u001b[0m\u001b[0;34m)\u001b[0m\u001b[0;34m\u001b[0m\u001b[0;34m\u001b[0m\u001b[0m\n",
            "\u001b[0m\n",
            "ipdb> len(saved)\n",
            "12\n",
            "ipdb> self.downs[0]\n",
            "Sequential(\n",
            "  (0): SavedResBlock(\n",
            "    (convs): Sequential(\n",
            "      (0): Sequential(\n",
            "        (0): BatchNorm2d(32, eps=1e-05, momentum=0.1, affine=True, track_running_stats=True)\n",
            "        (1): SiLU()\n",
            "        (2): Conv2d(32, 32, kernel_size=(3, 3), stride=(1, 1), padding=(1, 1))\n",
            "      )\n",
            "      (1): Sequential(\n",
            "        (0): BatchNorm2d(32, eps=1e-05, momentum=0.1, affine=True, track_running_stats=True)\n",
            "        (1): SiLU()\n",
            "        (2): Conv2d(32, 32, kernel_size=(3, 3), stride=(1, 1), padding=(1, 1))\n",
            "      )\n",
            "    )\n",
            "  )\n",
            "  (1): SavedResBlock(\n",
            "    (convs): Sequential(\n",
            "      (0): Sequential(\n",
            "        (0): BatchNorm2d(32, eps=1e-05, momentum=0.1, affine=True, track_running_stats=True)\n",
            "        (1): SiLU()\n",
            "        (2): Conv2d(32, 32, kernel_size=(3, 3), stride=(1, 1), padding=(1, 1))\n",
            "      )\n",
            "      (1): Sequential(\n",
            "        (0): BatchNorm2d(32, eps=1e-05, momentum=0.1, affine=True, track_running_stats=True)\n",
            "        (1): SiLU()\n",
            "        (2): Conv2d(32, 32, kernel_size=(3, 3), stride=(1, 1), padding=(1, 1))\n",
            "      )\n",
            "    )\n",
            "  )\n",
            "  (2): SavedConv(32, 32, kernel_size=(3, 3), stride=(2, 2), padding=(1, 1))\n",
            ")\n",
            "ipdb> self.downs[0].saved\n",
            "*** AttributeError: 'Sequential' object has no attribute 'saved'\n",
            "ipdb> exit\n"
          ]
        },
        {
          "output_type": "stream",
          "name": "stderr",
          "text": [
            "\n",
            "PYDEV DEBUGGER WARNING:\n",
            "sys.settrace() should not be used when the debugger is being used.\n",
            "This may cause the debugger to stop working correctly.\n",
            "If this is needed, please check: \n",
            "http://pydev.blogspot.com/2007/06/why-cant-pydev-debugger-work-with.html\n",
            "to see how to restore the debug tracing back correctly.\n",
            "Call Location:\n",
            "  File \"/usr/lib/python3.10/bdb.py\", line 361, in set_quit\n",
            "    sys.settrace(None)\n",
            "\n"
          ]
        }
      ]
    },
    {
      "cell_type": "markdown",
      "source": [
        "# Test Exps and Viz"
      ],
      "metadata": {
        "id": "8tfyFx7UT41Y"
      }
    },
    {
      "cell_type": "code",
      "source": [
        "x = torch.randn(16)\n",
        "plt.plot(x)\n",
        "plt.plot(nn.SiLU()(x))"
      ],
      "metadata": {
        "colab": {
          "base_uri": "https://localhost:8080/",
          "height": 448
        },
        "id": "eHRsySgOH42_",
        "outputId": "a15f07b8-32a9-46e4-d900-9828818f6879"
      },
      "execution_count": 39,
      "outputs": [
        {
          "output_type": "execute_result",
          "data": {
            "text/plain": [
              "[<matplotlib.lines.Line2D at 0x7f5d0fce7ca0>]"
            ]
          },
          "metadata": {},
          "execution_count": 39
        },
        {
          "output_type": "display_data",
          "data": {
            "text/plain": [
              "<Figure size 640x480 with 1 Axes>"
            ],
            "image/png": "[encoded data removed]"
          },
          "metadata": {}
        }
      ]
    },
    {
      "cell_type": "code",
      "source": [
        "x = torch.linspace(-1, 1, 60)\n",
        "plt.plot(x)\n",
        "plt.plot(nn.SiLU()(x))"
      ],
      "metadata": {
        "colab": {
          "base_uri": "https://localhost:8080/",
          "height": 448
        },
        "id": "GN2XJP-lSyyJ",
        "outputId": "f8e2d75e-163b-4706-881b-e5c5ab2190c4"
      },
      "execution_count": 40,
      "outputs": [
        {
          "output_type": "execute_result",
          "data": {
            "text/plain": [
              "[<matplotlib.lines.Line2D at 0x7f5d0fcf2e00>]"
            ]
          },
          "metadata": {},
          "execution_count": 40
        },
        {
          "output_type": "display_data",
          "data": {
            "text/plain": [
              "<Figure size 640x480 with 1 Axes>"
            ],
            "image/png": "[encoded data removed]"
          },
          "metadata": {}
        }
      ]
    },
    {
      "cell_type": "markdown",
      "source": [
        "# Without Timestep Implementation"
      ],
      "metadata": {
        "id": "VYomwkXUH1fq"
      }
    },
    {
      "cell_type": "markdown",
      "source": [
        "**Plan**\n",
        "\n",
        "3 versions of diffusion unet should be implemented.\n",
        "1. What ever is implemented in diffusers\n",
        "2. Replace Unet Conv with my implementation of pre act conv\n",
        "3. Tweak the arch in a way that instead of adding skip connections everywhere, just limit it to the starting block."
      ],
      "metadata": {
        "id": "y_96hJPMOWGT"
      }
    },
    {
      "cell_type": "code",
      "source": [
        "# Basic Pre Act Conv -\n",
        "# Saved Conv\n",
        "# Down Block\n",
        "# Up Block"
      ],
      "metadata": {
        "id": "l1xv2IsxH5DX"
      },
      "execution_count": null,
      "outputs": []
    },
    {
      "cell_type": "code",
      "source": [
        "def _pre_conv(ni, nf, kernel_size = 3, stride = 1, act = nn.SiLU, norm = nn.BatchNorm2d):\n",
        "  layers = []\n",
        "  if act: layers.append(act())\n",
        "  if norm: layers.append(norm(ni))\n",
        "  layers.append(nn.Conv2d(ni, nf, kernel_size, stride = stride, padding = kernel_size//2, bias = True))\n",
        "  return nn.Sequential(*layers)\n",
        "\n",
        "class ResBlock(nn.Module):\n",
        "  def __init__(self, ni, nf, kernel_size = 3, stride = 1, act = nn.SiLU, norm = nn.BatchNorm2d):\n",
        "    super().__init__()\n",
        "    self.id_conv = nn.Conv2d(ni, nf, kernel_size = 1, stride = stride) if ni != nf else fc.noop\n",
        "    self.convs = nn.Sequential(\n",
        "        _pre_conv(ni, nf, kernel_size, 1, act, norm),\n",
        "        _pre_conv(nf, nf, kernel_size, stride, act, norm)\n",
        "    )\n",
        "\n",
        "  def forward(self, x): return self.id_conv(x) + self.convs(x)\n",
        "\n",
        "class SM:\n",
        "  def forward(self, *args, **kwargs):\n",
        "    self.saved = super().forward(*args, **kwargs)\n",
        "    return self.saved\n",
        "\n",
        "class SConv(SM, nn.Conv2d): pass\n",
        "class SResBlock(SM, ResBlock): pass\n",
        "\n",
        "def down_block(ni, nf, n_layers = 1, add_down = True, act = nn.SiLU, norm = nn.BatchNorm2d):\n",
        "  layers = [SResBlock(ni if i == 0 else nf, nf, act = act, norm = norm) for i in range(n_layers)]\n",
        "  if add_down == True: layers.append(SConv(nf, nf, kernel_size = 3, stride = 2, padding = 1))\n",
        "  return nn.Sequential(*layers)\n",
        "\n",
        "def up_conv(ni, nf, kernel_size = 3):\n",
        "  return nn.Sequential(nn.Upsample(scale_factor = 2), nn.Conv2d(ni, nf, stride = 1, kernel_size = kernel_size, padding = kernel_size//2))\n",
        "\n",
        "class UpBlock(nn.Module):\n",
        "  def __init__(self, ni, nf, prev_nf, add_up = True, n_layers = 2, act = nn.SiLU, norm = nn.BatchNorm2d):\n",
        "    super().__init__()\n",
        "    self.blocks = nn.ModuleList([])\n",
        "    for i in range(n_layers):\n",
        "      if i == 0: inc = ni + nf\n",
        "      elif i == n_layers - 1: inc = prev_nf + nf\n",
        "      else: inc = 2*nf\n",
        "      self.blocks.append(ResBlock(inc, nf, act = act, norm = norm))\n",
        "\n",
        "    self.up = up_conv(nf, nf) if add_up else nn.Identity()\n",
        "\n",
        "  def forward(self, x, ups):\n",
        "    for block in self.blocks: x = block(torch.cat([ups.pop(), x], dim = 1))\n",
        "    return self.up(x)\n",
        "\n",
        "class DiffusionUNET(nn.Module):\n",
        "  def __init__(self, in_channels = FMNIST_IN_CHANNELS, out_channels = FMNIST_OUT_CHANNELS,\n",
        "                                                    nfs = [64, 128, 256, 512], n_layers = 2):\n",
        "    super().__init__()\n",
        "    self.first_c = nn.Conv2d(in_channels, nfs[0], kernel_size = 3, padding = 1, bias = True)\n",
        "    downs, ni = [], nfs[0]\n",
        "    for i, nf in enumerate(nfs):\n",
        "      downs.append(down_block(ni, nf, n_layers = n_layers, add_down = False if i == (len(nfs)-1) else True))\n",
        "      ni = nf\n",
        "    self.downs = nn.Sequential(*downs)\n",
        "    self.mid_c = ResBlock(nf, nf)\n",
        "    ups, ni, nfs  = [], nfs[-1], list(reversed(nfs))\n",
        "    for i, nf in enumerate(nfs):\n",
        "      prev_nf = nfs[i + 1] if i < len(nfs) - 1 else nfs[i]\n",
        "      ups.append(UpBlock(ni, nf, prev_nf, add_up = True if i < len(nfs) - 1 else False, n_layers = n_layers + 1))\n",
        "      ni = nf\n",
        "    self.ups = nn.ModuleList(ups)\n",
        "    self.final_c = _pre_conv(nfs[-1], out_channels)\n",
        "\n",
        "  def forward(self, inp):\n",
        "    x, t = inp\n",
        "    x = self.first_c(x)\n",
        "    acts = [x]\n",
        "    x = self.downs(x)\n",
        "    x = self.mid_c(x)\n",
        "    acts += [i.saved for j in self.downs for i in j]\n",
        "    for up in self.ups: x = up(x, acts)\n",
        "    return self.final_c(x)"
      ],
      "metadata": {
        "id": "MDzI7qVbH48I"
      },
      "execution_count": 9,
      "outputs": []
    },
    {
      "cell_type": "code",
      "source": [
        "x, y = next(iter(dls.train))\n",
        "(xout, t), y = noisify_img(DDPMPrep(n_steps = 100, beta_max=0.01), x)\n",
        "print(y.mean(), y.std())\n",
        "show_images(xout[:9], titles= [str(i.item()) for i in t[:9]])"
      ],
      "metadata": {
        "colab": {
          "base_uri": "https://localhost:8080/",
          "height": 770
        },
        "id": "iXxjoORgdisy",
        "outputId": "55db2660-8012-415f-f54d-e815cd6b37cf"
      },
      "execution_count": 46,
      "outputs": [
        {
          "output_type": "stream",
          "name": "stdout",
          "text": [
            "tensor(-0.0026) tensor(1.0008)\n"
          ]
        },
        {
          "output_type": "display_data",
          "data": {
            "text/plain": [
              "<Figure size 900x900 with 9 Axes>"
            ],
            "image/png": "[encoded data removed]"
          },
          "metadata": {}
        }
      ]
    },
    {
      "cell_type": "code",
      "source": [
        "lr_max, epochs = 5e-04, 4\n",
        "cbs = [\n",
        "          DeviceCB(torch.device('cuda' if torch.cuda.is_available() else 'cpu')),\n",
        "          MetricsCB(),\n",
        "          ProgressCB(plot = True),\n",
        "          DDPMPrep(beta_max=0.01),\n",
        "          BatchSchedulerCB(partial(lr_scheduler.OneCycleLR, max_lr = lr_max, epochs = epochs, steps_per_epoch = len(dls.train))),\n",
        "      ]\n",
        "model =  DiffusionUNET(nfs = [64, 128, 256, 512])\n",
        "learner = AccLearner(model, dls, loss_func = flatten_mse, lr = lr_max, cbs = cbs, opt_func = partial(torch.optim.AdamW, eps = 1e-05))\n",
        "learner.fit(epochs)"
      ],
      "metadata": {
        "colab": {
          "base_uri": "https://localhost:8080/",
          "height": 651
        },
        "id": "lSNDVO7cX0bU",
        "outputId": "3fb0fe19-8f61-4658-8f8e-65a565c4f0fe"
      },
      "execution_count": 23,
      "outputs": [
        {
          "output_type": "display_data",
          "data": {
            "text/plain": [
              "<IPython.core.display.HTML object>"
            ],
            "text/html": [
              "\n",
              "<style>\n",
              "    /* Turns off some styling */\n",
              "    progress {\n",
              "        /* gets rid of default border in Firefox and Opera. */\n",
              "        border: none;\n",
              "        /* Needs to be in here for Safari polyfill so background images work as expected. */\n",
              "        background-size: auto;\n",
              "    }\n",
              "    progress:not([value]), progress:not([value])::-webkit-progress-bar {\n",
              "        background: repeating-linear-gradient(45deg, #7e7e7e, #7e7e7e 10px, #5c5c5c 10px, #5c5c5c 20px);\n",
              "    }\n",
              "    .progress-bar-interrupted, .progress-bar-interrupted::-webkit-progress-bar {\n",
              "        background: #F44336;\n",
              "    }\n",
              "</style>\n"
            ]
          },
          "metadata": {}
        },
        {
          "output_type": "display_data",
          "data": {
            "text/plain": [
              "<IPython.core.display.HTML object>"
            ],
            "text/html": [
              "<table border=\"1\" class=\"dataframe\">\n",
              "  <thead>\n",
              "    <tr style=\"text-align: left;\">\n",
              "      <th>loss</th>\n",
              "      <th>epoch</th>\n",
              "      <th>train</th>\n",
              "    </tr>\n",
              "  </thead>\n",
              "  <tbody>\n",
              "    <tr>\n",
              "      <td>0.167</td>\n",
              "      <td>0</td>\n",
              "      <td>train</td>\n",
              "    </tr>\n",
              "    <tr>\n",
              "      <td>0.087</td>\n",
              "      <td>0</td>\n",
              "      <td>eval</td>\n",
              "    </tr>\n",
              "    <tr>\n",
              "      <td>0.064</td>\n",
              "      <td>1</td>\n",
              "      <td>train</td>\n",
              "    </tr>\n",
              "    <tr>\n",
              "      <td>0.068</td>\n",
              "      <td>1</td>\n",
              "      <td>eval</td>\n",
              "    </tr>\n",
              "    <tr>\n",
              "      <td>0.052</td>\n",
              "      <td>2</td>\n",
              "      <td>train</td>\n",
              "    </tr>\n",
              "    <tr>\n",
              "      <td>0.048</td>\n",
              "      <td>2</td>\n",
              "      <td>eval</td>\n",
              "    </tr>\n",
              "    <tr>\n",
              "      <td>0.046</td>\n",
              "      <td>3</td>\n",
              "      <td>train</td>\n",
              "    </tr>\n",
              "    <tr>\n",
              "      <td>0.045</td>\n",
              "      <td>3</td>\n",
              "      <td>eval</td>\n",
              "    </tr>\n",
              "  </tbody>\n",
              "</table>"
            ]
          },
          "metadata": {}
        },
        {
          "output_type": "display_data",
          "data": {
            "text/plain": [
              "<Figure size 600x400 with 1 Axes>"
            ],
            "image/png": "[encoded data removed]"
          },
          "metadata": {}
        }
      ]
    },
    {
      "cell_type": "code",
      "source": [
        "del model\n",
        "del learner\n",
        "clean_mem()"
      ],
      "metadata": {
        "id": "OTgQ_ubGeoZX"
      },
      "execution_count": 21,
      "outputs": []
    },
    {
      "cell_type": "markdown",
      "source": [
        "# With Timestep Implentation\n",
        "\n",
        "1. timestep logic\n",
        "2. New Implementation of All the blocks with timestep inclusion logic"
      ],
      "metadata": {
        "id": "4rUiNhpg9Kju"
      }
    },
    {
      "cell_type": "code",
      "source": [
        "tsteps = torch.linspace(-10, 10, 100)\n",
        "max_t = 100\n",
        "nemb = 16\n",
        "points = -1*math.log(max_t) * torch.linspace(0, 1, nemb//2)"
      ],
      "metadata": {
        "id": "QL8NtRnffFM4"
      },
      "execution_count": 8,
      "outputs": []
    },
    {
      "cell_type": "code",
      "source": [
        "plt.plot(points)"
      ],
      "metadata": {
        "colab": {
          "base_uri": "https://localhost:8080/",
          "height": 448
        },
        "id": "ryFpFsQc-CrY",
        "outputId": "ea26d7ef-ec8e-4726-daf3-b58960b97a9f"
      },
      "execution_count": 45,
      "outputs": [
        {
          "output_type": "execute_result",
          "data": {
            "text/plain": [
              "[<matplotlib.lines.Line2D at 0x7f15c75e93f0>]"
            ]
          },
          "metadata": {},
          "execution_count": 45
        },
        {
          "output_type": "display_data",
          "data": {
            "text/plain": [
              "<Figure size 640x480 with 1 Axes>"
            ],
            "image/png": "[encoded data removed]"
          },
          "metadata": {}
        }
      ]
    },
    {
      "cell_type": "code",
      "source": [
        "points_dist = tsteps[:, None] * points[None, :].exp()\n",
        "points_dist.shape"
      ],
      "metadata": {
        "colab": {
          "base_uri": "https://localhost:8080/"
        },
        "id": "6P62jgO_-IMo",
        "outputId": "de5971ad-ee25-4496-cec5-b609d6f8eb77"
      },
      "execution_count": 51,
      "outputs": [
        {
          "output_type": "execute_result",
          "data": {
            "text/plain": [
              "torch.Size([100, 8])"
            ]
          },
          "metadata": {},
          "execution_count": 51
        }
      ]
    },
    {
      "cell_type": "code",
      "source": [
        "for i in points_dist: plt.plot(i)"
      ],
      "metadata": {
        "colab": {
          "base_uri": "https://localhost:8080/",
          "height": 430
        },
        "id": "X6PHTfSw-Qo3",
        "outputId": "542cc08a-d053-4082-bfb7-11e39ef0540e"
      },
      "execution_count": 40,
      "outputs": [
        {
          "output_type": "display_data",
          "data": {
            "text/plain": [
              "<Figure size 640x480 with 1 Axes>"
            ],
            "image/png": "[encoded data removed]"
          },
          "metadata": {}
        }
      ]
    },
    {
      "cell_type": "code",
      "source": [
        "tembs = torch.cat((torch.sin(points_dist), torch.cos(points_dist)), dim = 1)\n",
        "show_image(tembs.T)"
      ],
      "metadata": {
        "colab": {
          "base_uri": "https://localhost:8080/",
          "height": 134
        },
        "id": "mHGajM0W-Z12",
        "outputId": "4ae94720-e83d-43e1-a04e-d89ab7d4cb00"
      },
      "execution_count": 52,
      "outputs": [
        {
          "output_type": "execute_result",
          "data": {
            "text/plain": [
              "<Axes: >"
            ]
          },
          "metadata": {},
          "execution_count": 52
        },
        {
          "output_type": "display_data",
          "data": {
            "text/plain": [
              "<Figure size 640x480 with 1 Axes>"
            ],
            "image/png": "[encoded data removed]"
          },
          "metadata": {}
        }
      ]
    },
    {
      "cell_type": "code",
      "source": [
        "def get_tembs(nsteps, nemb = 32, max_steps = 1000):\n",
        "  tsteps = torch.linspace(-10, 10, nsteps)\n",
        "  points = -1*math.log(max_steps) * torch.linspace(0, 1, nemb//2)\n",
        "  points_dist = tsteps[:, None] * points[None, :].exp()\n",
        "  return torch.cat((torch.sin(points_dist), torch.cos(points_dist)), dim = 1)"
      ],
      "metadata": {
        "id": "YJpjFua6ADWd"
      },
      "execution_count": 30,
      "outputs": []
    },
    {
      "cell_type": "code",
      "source": [
        "embs = get_tembs(100, 16)\n",
        "show_image(embs.T)"
      ],
      "metadata": {
        "colab": {
          "base_uri": "https://localhost:8080/",
          "height": 134
        },
        "id": "8zQHmfy62FD7",
        "outputId": "bfa59bc3-8033-4fa3-d80b-dafa426a9d4d"
      },
      "execution_count": 34,
      "outputs": [
        {
          "output_type": "execute_result",
          "data": {
            "text/plain": [
              "<Axes: >"
            ]
          },
          "metadata": {},
          "execution_count": 34
        },
        {
          "output_type": "display_data",
          "data": {
            "text/plain": [
              "<Figure size 640x480 with 1 Axes>"
            ],
            "image/png": "[encoded data removed]"
          },
          "metadata": {}
        }
      ]
    },
    {
      "cell_type": "code",
      "source": [
        "x, y = next(iter(dls.train))\n",
        "x = x[:16]\n",
        "(xout, t), y = noisify_img(DDPMPrep(n_steps = 100, beta_max=0.01), x)\n",
        "print(x.mean(), x.std(), x.min(), x.max(), xout.mean(), xout.std(), y.mean(), y.std())\n",
        "show_images(xout[:9], titles= [str(i.item()) for i in t[:9]])"
      ],
      "metadata": {
        "colab": {
          "base_uri": "https://localhost:8080/",
          "height": 770
        },
        "id": "mjupsdibrE3w",
        "outputId": "99f9ed23-28dc-4c79-b0ca-5f990b01ba18"
      },
      "execution_count": 59,
      "outputs": [
        {
          "output_type": "stream",
          "name": "stdout",
          "text": [
            "tensor(-0.4202) tensor(0.6703) tensor(-1.) tensor(0.9533) tensor(-0.3852) tensor(0.7329) tensor(0.0049) tensor(0.9982)\n"
          ]
        },
        {
          "output_type": "display_data",
          "data": {
            "text/plain": [
              "<Figure size 900x900 with 9 Axes>"
            ],
            "image/png": "[encoded data removed]"
          },
          "metadata": {}
        }
      ]
    },
    {
      "cell_type": "code",
      "source": [
        "class EmbResBlock(nn.Module):\n",
        "  def __init__(self, ni, nf, n_emb, kernel_size = 3, stride = 1, act = nn.SiLU, norm = nn.BatchNorm2d):\n",
        "    super().__init__()\n",
        "    self.emb_proj = nn.Linear(n_emb, 2*nf)\n",
        "    self.id_conv = nn.Conv2d(ni, nf, kernel_size = 1, stride = stride) if ni != nf else fc.noop\n",
        "    self.conv1 = _pre_conv(ni, nf, kernel_size, 1, act, norm)\n",
        "    self.conv2 = _pre_conv(nf, nf, kernel_size, stride, act, norm)\n",
        "\n",
        "  def forward(self, x, t_emb):\n",
        "    res = self.conv1(x)\n",
        "    t_emb = self.emb_proj(t_emb)[:, :, None, None]  # bs, 2*nf\n",
        "    scale, shift = t_emb.chunk(2, dim = 1)\n",
        "    res = res + res * scale + shift\n",
        "    return self.id_conv(x) + self.conv2(res)\n",
        "\n",
        "class SEResBlock(SM, EmbResBlock): pass\n",
        "\n",
        "class DownBlock(nn.Module):\n",
        "  def __init__(self, ni, nf, n_emb, n_layers = 1, add_down = True, act = nn.SiLU, norm = nn.BatchNorm2d):\n",
        "    super().__init__()\n",
        "    self.layers = nn.ModuleList([SEResBlock(ni if i == 0 else nf, nf, n_emb = n_emb, act = act, norm = norm) for i in range(n_layers)])\n",
        "    self.f_layer = SConv(nf, nf, kernel_size = 3, stride = 2, padding = 1) if add_down == True else fc.noop\n",
        "\n",
        "  def forward(self, x, t_emb):\n",
        "    for layer in self.layers:\n",
        "      x = layer(x, t_emb)\n",
        "    return self.f_layer(x)\n",
        "\n",
        "  def get_acts(self):\n",
        "    acts = [l.saved for l in self.layers]\n",
        "    if hasattr(self.f_layer, 'saved'): acts.append(self.f_layer.saved)\n",
        "    return acts\n",
        "\n",
        "def up_conv(ni, nf, kernel_size = 3):\n",
        "  return nn.Sequential(nn.Upsample(scale_factor = 2), nn.Conv2d(ni, nf, stride = 1, kernel_size = kernel_size, padding = kernel_size//2))\n",
        "\n",
        "class UpBlock(nn.Module):\n",
        "  def __init__(self, ni, nf, prev_nf, n_emb, add_up = True, n_layers = 2, act = nn.SiLU, norm = nn.BatchNorm2d):\n",
        "    super().__init__()\n",
        "    self.blocks = nn.ModuleList([])\n",
        "    for i in range(n_layers):\n",
        "      if i == 0: inc = ni + nf\n",
        "      elif i == n_layers - 1: inc = prev_nf + nf\n",
        "      else: inc = 2*nf\n",
        "      self.blocks.append(EmbResBlock(inc, nf, n_emb = n_emb, act = act, norm = norm))\n",
        "\n",
        "    self.up = up_conv(nf, nf) if add_up else nn.Identity()\n",
        "\n",
        "  def forward(self, x, ups, t_emb):\n",
        "    for block in self.blocks: x = block(torch.cat([ups.pop(), x], dim = 1), t_emb)\n",
        "    return self.up(x)\n",
        "\n",
        "class DiffusionUNET(nn.Module):\n",
        "  def __init__(self, in_channels = FMNIST_IN_CHANNELS, out_channels = FMNIST_OUT_CHANNELS,\n",
        "                                                    nfs = [64, 128, 256, 512], n_layers = 2, emb_dim = 16):\n",
        "    super().__init__()\n",
        "    self.emb_dim = emb_dim\n",
        "    n_emb = nfs[0]*4\n",
        "    self.emb_mlp = nn.Sequential(nn.Linear(emb_dim, n_emb, bias = True),\n",
        "                                 nn.BatchNorm1d(n_emb),\n",
        "                                 nn.Linear(n_emb, n_emb, bias = True))\n",
        "\n",
        "    self.first_c = nn.Conv2d(in_channels, nfs[0], kernel_size = 3, padding = 1, bias = True)\n",
        "    downs, ni = [], nfs[0]\n",
        "    for i, nf in enumerate(nfs):\n",
        "      downs.append(DownBlock(ni, nf, n_emb = n_emb, n_layers = n_layers, add_down = False if i == (len(nfs)-1) else True))\n",
        "      ni = nf\n",
        "\n",
        "    self.downs = nn.Sequential(*downs)\n",
        "    self.mid_c = EmbResBlock(nf, nf, n_emb = n_emb)\n",
        "\n",
        "    ups, ni, nfs  = [], nfs[-1], list(reversed(nfs))\n",
        "    for i, nf in enumerate(nfs):\n",
        "      prev_nf = nfs[i + 1] if i < len(nfs) - 1 else nfs[i]\n",
        "      ups.append(UpBlock(ni, nf, prev_nf, n_emb = n_emb, add_up = True if i < len(nfs) - 1 else False, n_layers = n_layers + 1))\n",
        "      ni = nf\n",
        "    self.ups = nn.ModuleList(ups)\n",
        "    self.final_c = _pre_conv(nfs[-1], out_channels) # EmbResBlock(nf, nf, n_emb = n_emb)\n",
        "\n",
        "  def forward(self, inp):\n",
        "    x, ts = inp\n",
        "    tembs = get_tembs(100, self.emb_dim).to(x.device)[ts]\n",
        "\n",
        "    t_emb = self.emb_mlp(tembs) # bs, 4*nfs[0]\n",
        "    x = self.first_c(x)\n",
        "    acts = [x]\n",
        "    for block in self.downs:\n",
        "      x = block(x, t_emb)\n",
        "    x = self.mid_c(x, t_emb)\n",
        "    # acts += [i.saved for j in self.downs for i in j]\n",
        "    for i in self.downs: acts += i.get_acts()\n",
        "    for up in self.ups: x = up(x, acts, t_emb)\n",
        "    return self.final_c(x)"
      ],
      "metadata": {
        "id": "-Y-hNxAXB93L"
      },
      "execution_count": 60,
      "outputs": []
    },
    {
      "cell_type": "code",
      "source": [
        "model = DiffusionUNET(emb_dim = 32)"
      ],
      "metadata": {
        "id": "TfHjGT9kB9oZ"
      },
      "execution_count": 61,
      "outputs": []
    },
    {
      "cell_type": "code",
      "source": [
        "out = model((xout, t))"
      ],
      "metadata": {
        "id": "imZoEth6rOZX"
      },
      "execution_count": 62,
      "outputs": []
    },
    {
      "cell_type": "code",
      "source": [
        "out.shape"
      ],
      "metadata": {
        "colab": {
          "base_uri": "https://localhost:8080/"
        },
        "id": "FvDvaFIOsk1i",
        "outputId": "b14cabac-055a-45a3-bca1-6e15b9b659d0"
      },
      "execution_count": 63,
      "outputs": [
        {
          "output_type": "execute_result",
          "data": {
            "text/plain": [
              "torch.Size([16, 1, 32, 32])"
            ]
          },
          "metadata": {},
          "execution_count": 63
        }
      ]
    },
    {
      "cell_type": "code",
      "source": [
        "lr_max, epochs = 5e-04, 15\n",
        "dls = DataLoaders.from_dd(tds, batch_size = 8, num_workers=2)\n",
        "cbs = [\n",
        "          DeviceCB(torch.device('cpu')),\n",
        "          MetricsCB(),\n",
        "          ProgressCB(plot = True),\n",
        "          DDPMPrep(n_steps = 100, beta_max=0.01),\n",
        "          BatchSchedulerCB(partial(lr_scheduler.OneCycleLR, max_lr = lr_max, epochs = epochs, steps_per_epoch = len(dls.train))),\n",
        "      ]\n",
        "model =  DiffusionUNET(nfs = [64, 128, 256, 512])\n",
        "learner = TrainLearner(model, dls, loss_func = flatten_mse, lr = lr_max, cbs = cbs, opt_func = partial(torch.optim.AdamW, eps = 1e-05))\n",
        "learner.fit(epochs)"
      ],
      "metadata": {
        "id": "pcg8NU-3wm7S"
      },
      "execution_count": null,
      "outputs": []
    },
    {
      "cell_type": "code",
      "source": [
        "class DDIM_SchedulerV2: # This is only for sampling purposes\n",
        "\n",
        "  def __init__(self, noise_cb): self.noise_cb = noise_cb\n",
        "\n",
        "  def set_timesteps(self, ts, skips = 10):\n",
        "    self.skips = skips\n",
        "    self.num_timesteps = ts\n",
        "    self.timesteps = reversed(torch.tensor(range(0, 1000, skips)))\n",
        "\n",
        "  def step(self, xt, np, cts, eta = 0.8):\n",
        "\n",
        "    a_bar_t, a_bar_t_1 = self.noise_cb.alpha_bar[cts], self.noise_cb.alpha_bar[cts + 1] if cts > 0 else torch.tensor(1.)\n",
        "    b_bar_t, b_bar_t_1 = (1. - a_bar_t), (1. - a_bar_t_1)\n",
        "\n",
        "    if cts == 0: st()\n",
        "\n",
        "    x0_hat = (xt - b_bar_t_1.sqrt()*np)/(a_bar_t.sqrt())\n",
        "\n",
        "    # if cts == 0: return x0_hat\n",
        "\n",
        "    sig = (b_bar_t/b_bar_t_1).sqrt() * (1. - (a_bar_t_1/a_bar_t)).sqrt() * eta\n",
        "\n",
        "    xt = a_bar_t_1.sqrt()*x0_hat + (b_bar_t_1 - sig**2).sqrt()*np\n",
        "    if cts > 0: xt += sig*torch.randn(xt.shape).to(xt.device)\n",
        "    return xt\n",
        "\n",
        "  def _get_alphas(self, ts):\n",
        "\n",
        "    def _get_alpha(ts, alpha_bar = self.noise_cb.alpha_bar):\n",
        "      return alpha_bar[ts] if ts >= 0 else torch.tensor(1.)\n",
        "    prev_ts = ts - self.skips\n",
        "    return _get_alpha(ts), _get_alpha(prev_ts)\n",
        "\n",
        "  def _get_variance(self, alpha_bar, alpha_bar_prev, beta_bar, beta_bar_prev): return (beta_bar_prev / beta_bar) * (1 - alpha_bar / alpha_bar_prev)\n",
        "\n",
        "  def step_new(self, xt, np, ts, eta = 0.5):\n",
        "    # get the current time step and previous timesteps\n",
        "    # Get alpha bar t and alpha bar t - steps and beta bar t and beta bar t - steps\n",
        "    # get the x0 hat based on the noise predict\n",
        "    # calculate the xt-steps using the updated formula\n",
        "\n",
        "    alpha_bar, alpha_bar_prev = self._get_alphas(ts)\n",
        "    beta_bar, beta_bar_prev = (1. - alpha_bar), (1. - alpha_bar_prev)\n",
        "\n",
        "    x0_hat = (xt - beta_bar.sqrt() * np)/(alpha_bar.sqrt()).clip(-1., 1.)\n",
        "\n",
        "\n",
        "    var = self._get_variance(alpha_bar, alpha_bar_prev, beta_bar, beta_bar_prev)\n",
        "    sigma = (var*eta).sqrt()\n",
        "\n",
        "    xt_new = alpha_bar_prev.sqrt() * x0_hat + (beta_bar_prev - sigma**2).sqrt() * np + torch.randn(xt.shape).to(xt.device)*sigma\n",
        "    return xt_new\n",
        "\n",
        "class DDPMPrepV2(DDPMPrep):\n",
        "  def __init__(self, n_steps = 1000, beta = torch.tensor([0.]), name = 'lin'):\n",
        "    fc.store_attr()\n",
        "    self.alpha = 1. - self.beta\n",
        "    self.alpha_bar = self.alpha.cumprod(0)\n",
        "    self.sigma = self.beta.sqrt()\n",
        "\n",
        "def ddim_sample_v3(model, n_steps, out_shape = (256, 1, 32, 32), sched = DDIM_SchedulerV2(DDPMPrepV2(n_steps = 1000, beta = torch.linspace(0.0001, 0.01, 1000)))):\n",
        "  model.device = torch.device('cuda')\n",
        "  sched.set_timesteps(n_steps, skips = 10)\n",
        "  xt = torch.randn(out_shape).to(model.device)\n",
        "  for ts in tqdm(sched.timesteps):\n",
        "    with torch.no_grad(): np = model((xt, torch.tensor([ts]*out_shape[0]).to(model.device)))\n",
        "    # print(np.mean(), np.std(), np.max(), np.min())\n",
        "    xt = sched.step_new(xt, np, ts, eta = 0.8)\n",
        "    if ts%10 == 0: print(ts, xt.mean().item(), xt.std().item(), xt.max().item(), xt.min().item())\n",
        "  return xt"
      ],
      "metadata": {
        "id": "Kfpdcy_X-lDy"
      },
      "execution_count": null,
      "outputs": []
    },
    {
      "cell_type": "code",
      "source": [
        "mout = ddim_sample_v3(model, 1000)"
      ],
      "metadata": {
        "id": "AH9PTj43aT1b"
      },
      "execution_count": null,
      "outputs": []
    },
    {
      "cell_type": "code",
      "source": [
        "show_images(mout[:9])"
      ],
      "metadata": {
        "colab": {
          "base_uri": "https://localhost:8080/",
          "height": 730
        },
        "id": "Bf09kdhKHmh0",
        "outputId": "2fc480c6-d353-4e09-caee-33b763fbed80"
      },
      "execution_count": null,
      "outputs": [
        {
          "output_type": "display_data",
          "data": {
            "text/plain": [
              "<Figure size 900x900 with 9 Axes>"
            ],
            "image/png": "[encoded data removed]"
          },
          "metadata": {}
        }
      ]
    },
    {
      "cell_type": "markdown",
      "source": [
        "# Attention and Transformers"
      ],
      "metadata": {
        "id": "m91Ui-s2ThLb"
      }
    },
    {
      "cell_type": "code",
      "source": [
        "x, y = next(iter(dls.train))\n",
        "x = x[:16]\n",
        "(xout, t), y = noisify_img(DDPMPrep(n_steps = 100, beta_max=0.01), x)\n",
        "print(x.mean(), x.std(), x.min(), x.max(), xout.mean(), xout.std(), y.mean(), y.std())\n",
        "show_images(xout[:9], titles= [str(i.item()) for i in t[:9]])"
      ],
      "metadata": {
        "colab": {
          "base_uri": "https://localhost:8080/",
          "height": 770
        },
        "id": "sMkB1R2wIL7P",
        "outputId": "2c8c99e6-7bc6-41a5-ee46-6eaf8b5c5728"
      },
      "execution_count": 20,
      "outputs": [
        {
          "output_type": "stream",
          "name": "stdout",
          "text": [
            "tensor(-0.3656) tensor(0.6621) tensor(-1.) tensor(0.9907) tensor(-0.3407) tensor(0.7402) tensor(-0.0108) tensor(0.9935)\n"
          ]
        },
        {
          "output_type": "display_data",
          "data": {
            "text/plain": [
              "<Figure size 900x900 with 9 Axes>"
            ],
            "image/png": "[encoded data removed]"
          },
          "metadata": {}
        }
      ]
    },
    {
      "cell_type": "code",
      "source": [
        "# !pip install einops\n",
        "from einops import rearrange"
      ],
      "metadata": {
        "id": "zzUTLPkNayYp"
      },
      "execution_count": 10,
      "outputs": []
    },
    {
      "cell_type": "code",
      "source": [
        "class SelfAttention(nn.Module):\n",
        "  def __init__(self, ni):\n",
        "    super().__init__()\n",
        "    self.kqv = nn.Linear(ni, 3*ni)\n",
        "    self.norm = nn.GroupNorm(1, ni)\n",
        "    self.proj = nn.Linear(ni, ni)\n",
        "    self.scale = ni\n",
        "\n",
        "  def rearrange(self, x, mode = 1):\n",
        "    if mode == 1:\n",
        "      self.h, self.w = x.shape[-2], x.shape[-1]\n",
        "      return rearrange(x, 'b c h w -> b (h w) c')\n",
        "    if mode == 2:\n",
        "      return rearrange(x, 'b (h w) c -> b c h w', h = self.h, w = self.w)\n",
        "\n",
        "  def forward(self, inp):\n",
        "    # Verify Shape\n",
        "    x = inp\n",
        "    x = self.norm(x)\n",
        "    x = self.rearrange(x)\n",
        "    k, q, v = self.kqv(x).chunk(3, dim = -1)\n",
        "    sim = k @ q.transpose(-1, -2)/self.scale\n",
        "    sim = F.softmax(sim, dim= -1)\n",
        "    att_x = sim @ v\n",
        "    x = self.proj(att_x)\n",
        "    x = self.rearrange(x, 2)\n",
        "    return inp + x\n",
        "\n",
        "class MultiHeadSelfAttention(nn.Module):\n",
        "  def __init__(self, ni, n_heads = 16):\n",
        "    super().__init__()\n",
        "    self.n_heads = n_heads\n",
        "    self.norm = nn.GroupNorm(1, ni)\n",
        "    ni = ni//n_heads\n",
        "    self.kqv = nn.Linear(ni, 3*ni)\n",
        "    self.proj = nn.Linear(ni, ni)\n",
        "    self.scale = math.sqrt(ni/n_heads)\n",
        "\n",
        "  def rearrange(self, x, mode = 1):\n",
        "    if mode == 1:\n",
        "      self.h, self.w = x.shape[-2], x.shape[-1]\n",
        "      x = rearrange(x, 'b c h w -> b (h w) c')\n",
        "      return rearrange(x, 'b s (c d) -> (b d) s c', d = self.n_heads)\n",
        "    if mode == 2:\n",
        "      x = rearrange(x, '(b d) s c -> b s (c d)', d = self.n_heads)\n",
        "      return rearrange(x, 'b (h w) c -> b c h w', h = self.h, w = self.w)\n",
        "\n",
        "  def forward(self, inp):\n",
        "    x = inp\n",
        "    x = self.norm(x)\n",
        "    x = self.rearrange(x)\n",
        "    k, q, v = self.kqv(x).chunk(3, dim = -1)\n",
        "    sim = k @ q.transpose(-1, -2)/self.scale\n",
        "    sim = F.softmax(sim, dim= -1)\n",
        "    att_x = sim @ v\n",
        "    x = self.proj(att_x)\n",
        "    x = self.rearrange(x, 2)\n",
        "    return x\n",
        "\n",
        "class MultiHeadSelfAttentionV2(nn.Module):\n",
        "  def __init__(self, ni, n_heads = 16):\n",
        "    super().__init__()\n",
        "    self.n_heads = n_heads\n",
        "    self.norm = nn.GroupNorm(1, ni)\n",
        "    self.kqv = nn.Linear(ni, 3*ni)\n",
        "    self.proj = nn.Linear(ni, ni)\n",
        "    self.scale = math.sqrt(ni/n_heads)\n",
        "\n",
        "  def rearrange(self, x, mode = 1):\n",
        "    if mode == 1:\n",
        "      self.h, self.w = x.shape[-2], x.shape[-1]\n",
        "      x = rearrange(x, 'b c h w -> b (h w) c')\n",
        "      return rearrange(x, 'b s (c d) -> (b d) s c', d = self.n_heads)\n",
        "    if mode == 2:\n",
        "      x = rearrange(x, '(b d) s c -> b s (c d)', d = self.n_heads)\n",
        "      return rearrange(x, 'b (h w) c -> b c h w', h = self.h, w = self.w)\n",
        "\n",
        "  def forward(self, inp):\n",
        "    # st()\n",
        "    x = inp\n",
        "    x = self.norm(x)\n",
        "\n",
        "    h, w = x.shape[-2], x.shape[-1]\n",
        "\n",
        "    x = rearrange(x, 'b c h w -> b (h w) c')\n",
        "    k, q, v = self.kqv(x).chunk(3, dim = -1)\n",
        "    k = rearrange(k, 'b s (c d) -> (b d) s c', d = self.n_heads)\n",
        "    q = rearrange(q, 'b s (c d) -> (b d) s c', d = self.n_heads)\n",
        "    v = rearrange(v, 'b s (c d) -> (b d) s c', d = self.n_heads)\n",
        "\n",
        "    sim = k @ q.transpose(-1, -2)/self.scale\n",
        "    sim = F.softmax(sim, dim= -1)\n",
        "    att_x = sim @ v\n",
        "    att_x = rearrange(att_x, '(b d) s c -> b s (c d)', d = self.n_heads)\n",
        "    x = self.proj(att_x)\n",
        "    out = rearrange(x, 'b (h w) c -> b c h w', h = h, w = w)\n",
        "    return out"
      ],
      "metadata": {
        "id": "FraUFU1Gjm1A"
      },
      "execution_count": 7,
      "outputs": []
    },
    {
      "cell_type": "code",
      "source": [
        "class AttEmbResBlock(nn.Module):\n",
        "  def __init__(self, ni, nf, n_emb, kernel_size = 3, stride = 1, act = nn.SiLU, norm = nn.BatchNorm2d, attn = False):\n",
        "    super().__init__()\n",
        "    self.emb_proj = nn.Linear(n_emb, 2*nf)\n",
        "    self.id_conv = nn.Conv2d(ni, nf, kernel_size = 1, stride = stride) if ni != nf else fc.noop\n",
        "    self.conv1 = _pre_conv(ni, nf, kernel_size, 1, act, norm)\n",
        "    self.conv2 = _pre_conv(nf, nf, kernel_size, stride, act, norm)\n",
        "    if attn: self.attn = MultiHeadSelfAttentionV2(nf, 8)\n",
        "\n",
        "  def forward(self, x, t_emb):\n",
        "    res = self.conv1(x)\n",
        "    t_emb = self.emb_proj(t_emb)[:, :, None, None]  # bs, 2*nf\n",
        "    scale, shift = t_emb.chunk(2, dim = 1)\n",
        "    res = res + res * scale + shift\n",
        "    res = self.conv2(res)\n",
        "    x = self.id_conv(x) + res\n",
        "    if hasattr(self, 'attn'): x = x + self.attn(x)\n",
        "    return x\n",
        "\n",
        "class SAttEmbResBlock(SM, AttEmbResBlock): pass\n",
        "\n",
        "class DownBlock(nn.Module):\n",
        "  def __init__(self, ni, nf, n_emb, n_layers = 1, add_down = True, act = nn.SiLU, norm = nn.BatchNorm2d, attn = False):\n",
        "    super().__init__()\n",
        "    self.layers = nn.ModuleList([SAttEmbResBlock(ni if i == 0 else nf, nf, n_emb = n_emb, act = act, norm = norm, attn = attn) for i in range(n_layers)])\n",
        "    self.f_layer = SConv(nf, nf, kernel_size = 3, stride = 2, padding = 1) if add_down == True else fc.noop\n",
        "\n",
        "  def forward(self, x, t_emb):\n",
        "    for layer in self.layers:\n",
        "      x = layer(x, t_emb)\n",
        "    return self.f_layer(x)\n",
        "\n",
        "  def get_acts(self):\n",
        "    acts = [l.saved for l in self.layers]\n",
        "    if hasattr(self.f_layer, 'saved'): acts.append(self.f_layer.saved)\n",
        "    return acts\n",
        "\n",
        "def up_conv(ni, nf, kernel_size = 3):\n",
        "  return nn.Sequential(nn.Upsample(scale_factor = 2), nn.Conv2d(ni, nf, stride = 1, kernel_size = kernel_size, padding = kernel_size//2))\n",
        "\n",
        "class UpBlock(nn.Module):\n",
        "  def __init__(self, ni, nf, prev_nf, n_emb, add_up = True, n_layers = 2, act = nn.SiLU, norm = nn.BatchNorm2d, attn = False):\n",
        "    super().__init__()\n",
        "    self.blocks = nn.ModuleList([])\n",
        "    for i in range(n_layers):\n",
        "      if i == 0: inc = ni + nf\n",
        "      elif i == n_layers - 1: inc = prev_nf + nf\n",
        "      else: inc = 2*nf\n",
        "      self.blocks.append(AttEmbResBlock(inc, nf, n_emb = n_emb, act = act, norm = norm, attn = attn))\n",
        "\n",
        "    self.up = up_conv(nf, nf) if add_up else nn.Identity()\n",
        "\n",
        "  def forward(self, x, ups, t_emb):\n",
        "    for block in self.blocks: x = block(torch.cat([ups.pop(), x], dim = 1), t_emb)\n",
        "    return self.up(x)\n",
        "\n",
        "class DiffusionUNETV2(nn.Module):\n",
        "  def __init__(self, in_channels = FMNIST_IN_CHANNELS, out_channels = FMNIST_OUT_CHANNELS,\n",
        "                                                    nfs = [64, 128, 256, 512], n_layers = 2, emb_dim = 16, attn_start = 2):\n",
        "    super().__init__()\n",
        "    self.emb_dim = emb_dim\n",
        "    n_emb = nfs[0]*4\n",
        "    self.emb_mlp = nn.Sequential(nn.Linear(emb_dim, n_emb, bias = True),\n",
        "                                 nn.BatchNorm1d(n_emb),\n",
        "                                 nn.Linear(n_emb, n_emb, bias = True))\n",
        "\n",
        "    self.first_c = nn.Conv2d(in_channels, nfs[0], kernel_size = 3, padding = 1, bias = True)\n",
        "    downs, ni = [], nfs[0]\n",
        "    for i, nf in enumerate(nfs):\n",
        "      downs.append(DownBlock(ni, nf, n_emb = n_emb, n_layers = n_layers, add_down = False if i == (len(nfs)-1) else True, attn = True if i >= attn_start else False))\n",
        "      ni = nf\n",
        "\n",
        "    self.downs = nn.Sequential(*downs)\n",
        "    self.mid_c = AttEmbResBlock(nf, nf, n_emb = n_emb, attn = True)\n",
        "\n",
        "    ups, ni, nfs  = [], nfs[-1], list(reversed(nfs))\n",
        "    for i, nf in enumerate(nfs):\n",
        "      prev_nf = nfs[i + 1] if i < len(nfs) - 1 else nfs[i]\n",
        "      ups.append(UpBlock(ni, nf, prev_nf, n_emb = n_emb, add_up = True if i < len(nfs) - 1 else False, n_layers = n_layers + 1, attn = True if i <= attn_start else False))\n",
        "      ni = nf\n",
        "    self.ups = nn.ModuleList(ups)\n",
        "    self.final_c = _pre_conv(nfs[-1], out_channels) # EmbResBlock(nf, nf, n_emb = n_emb)\n",
        "\n",
        "  def forward(self, inp):\n",
        "    x, ts = inp\n",
        "    # st()\n",
        "    tembs = get_tembs(1000, self.emb_dim).to(x.device)[ts]\n",
        "\n",
        "    t_emb = self.emb_mlp(tembs) # bs, 4*nfs[0]\n",
        "    x = self.first_c(x)\n",
        "    acts = [x]\n",
        "    for block in self.downs:\n",
        "      x = block(x, t_emb)\n",
        "    x = self.mid_c(x, t_emb)\n",
        "    # acts += [i.saved for j in self.downs for i in j]\n",
        "    for i in self.downs: acts += i.get_acts()\n",
        "    for up in self.ups: x = up(x, acts, t_emb)\n",
        "    return self.final_c(x)"
      ],
      "metadata": {
        "id": "IRC6buWAxZVX"
      },
      "execution_count": 8,
      "outputs": []
    },
    {
      "cell_type": "code",
      "source": [
        "lr_max, epochs = 2e-03, 10\n",
        "dls = DataLoaders.from_dd(tds, batch_size = 256, num_workers=2)\n",
        "cbs = [\n",
        "          DeviceCB(torch.device('cuda')),\n",
        "          MetricsCB(),\n",
        "          ProgressCB(plot = True),\n",
        "          DDPMPrep(n_steps = 1000, beta_max=0.01),\n",
        "          BatchSchedulerCB(partial(lr_scheduler.OneCycleLR, max_lr = lr_max, epochs = epochs, steps_per_epoch = len(dls.train))),\n",
        "      ]\n",
        "model =  DiffusionUNETV2(nfs = [64, 128, 256, 512])\n",
        "learner = TrainLearner(model, dls, loss_func = flatten_mse, lr = lr_max, cbs = cbs, opt_func = partial(torch.optim.AdamW, eps = 1e-05))\n",
        "learner.fit(epochs)"
      ],
      "metadata": {
        "colab": {
          "base_uri": "https://localhost:8080/",
          "height": 1000
        },
        "id": "5mWwsGbIIFhq",
        "outputId": "7100b2ac-cd67-478e-fe4e-1dfd0d291cc4"
      },
      "execution_count": 11,
      "outputs": [
        {
          "output_type": "display_data",
          "data": {
            "text/plain": [
              "<IPython.core.display.HTML object>"
            ],
            "text/html": [
              "\n",
              "<style>\n",
              "    /* Turns off some styling */\n",
              "    progress {\n",
              "        /* gets rid of default border in Firefox and Opera. */\n",
              "        border: none;\n",
              "        /* Needs to be in here for Safari polyfill so background images work as expected. */\n",
              "        background-size: auto;\n",
              "    }\n",
              "    progress:not([value]), progress:not([value])::-webkit-progress-bar {\n",
              "        background: repeating-linear-gradient(45deg, #7e7e7e, #7e7e7e 10px, #5c5c5c 10px, #5c5c5c 20px);\n",
              "    }\n",
              "    .progress-bar-interrupted, .progress-bar-interrupted::-webkit-progress-bar {\n",
              "        background: #F44336;\n",
              "    }\n",
              "</style>\n"
            ]
          },
          "metadata": {}
        },
        {
          "output_type": "display_data",
          "data": {
            "text/plain": [
              "<IPython.core.display.HTML object>"
            ],
            "text/html": [
              "<table border=\"1\" class=\"dataframe\">\n",
              "  <thead>\n",
              "    <tr style=\"text-align: left;\">\n",
              "      <th>loss</th>\n",
              "      <th>epoch</th>\n",
              "      <th>train</th>\n",
              "    </tr>\n",
              "  </thead>\n",
              "  <tbody>\n",
              "    <tr>\n",
              "      <td>0.125</td>\n",
              "      <td>0</td>\n",
              "      <td>train</td>\n",
              "    </tr>\n",
              "    <tr>\n",
              "      <td>0.069</td>\n",
              "      <td>0</td>\n",
              "      <td>eval</td>\n",
              "    </tr>\n",
              "    <tr>\n",
              "      <td>0.053</td>\n",
              "      <td>1</td>\n",
              "      <td>train</td>\n",
              "    </tr>\n",
              "    <tr>\n",
              "      <td>0.062</td>\n",
              "      <td>1</td>\n",
              "      <td>eval</td>\n",
              "    </tr>\n",
              "    <tr>\n",
              "      <td>0.045</td>\n",
              "      <td>2</td>\n",
              "      <td>train</td>\n",
              "    </tr>\n",
              "    <tr>\n",
              "      <td>0.044</td>\n",
              "      <td>2</td>\n",
              "      <td>eval</td>\n",
              "    </tr>\n",
              "    <tr>\n",
              "      <td>0.039</td>\n",
              "      <td>3</td>\n",
              "      <td>train</td>\n",
              "    </tr>\n",
              "    <tr>\n",
              "      <td>0.038</td>\n",
              "      <td>3</td>\n",
              "      <td>eval</td>\n",
              "    </tr>\n",
              "    <tr>\n",
              "      <td>0.037</td>\n",
              "      <td>4</td>\n",
              "      <td>train</td>\n",
              "    </tr>\n",
              "    <tr>\n",
              "      <td>0.037</td>\n",
              "      <td>4</td>\n",
              "      <td>eval</td>\n",
              "    </tr>\n",
              "    <tr>\n",
              "      <td>0.036</td>\n",
              "      <td>5</td>\n",
              "      <td>train</td>\n",
              "    </tr>\n",
              "    <tr>\n",
              "      <td>0.037</td>\n",
              "      <td>5</td>\n",
              "      <td>eval</td>\n",
              "    </tr>\n",
              "    <tr>\n",
              "      <td>0.034</td>\n",
              "      <td>6</td>\n",
              "      <td>train</td>\n",
              "    </tr>\n",
              "    <tr>\n",
              "      <td>0.034</td>\n",
              "      <td>6</td>\n",
              "      <td>eval</td>\n",
              "    </tr>\n",
              "    <tr>\n",
              "      <td>0.033</td>\n",
              "      <td>7</td>\n",
              "      <td>train</td>\n",
              "    </tr>\n",
              "    <tr>\n",
              "      <td>0.033</td>\n",
              "      <td>7</td>\n",
              "      <td>eval</td>\n",
              "    </tr>\n",
              "    <tr>\n",
              "      <td>0.032</td>\n",
              "      <td>8</td>\n",
              "      <td>train</td>\n",
              "    </tr>\n",
              "    <tr>\n",
              "      <td>0.032</td>\n",
              "      <td>8</td>\n",
              "      <td>eval</td>\n",
              "    </tr>\n",
              "    <tr>\n",
              "      <td>0.032</td>\n",
              "      <td>9</td>\n",
              "      <td>train</td>\n",
              "    </tr>\n",
              "    <tr>\n",
              "      <td>0.031</td>\n",
              "      <td>9</td>\n",
              "      <td>eval</td>\n",
              "    </tr>\n",
              "  </tbody>\n",
              "</table>"
            ]
          },
          "metadata": {}
        },
        {
          "output_type": "display_data",
          "data": {
            "text/plain": [
              "<Figure size 600x400 with 1 Axes>"
            ],
            "image/png": "[encoded data removed]"
          },
          "metadata": {}
        }
      ]
    },
    {
      "cell_type": "code",
      "source": [
        "torch.save(learner.model, mdl_path/'diffusion_attn_v3.pkl')"
      ],
      "metadata": {
        "id": "dmKYaCVsMO50"
      },
      "execution_count": 12,
      "outputs": []
    },
    {
      "cell_type": "code",
      "source": [
        "class DDIM_SchedulerV2: # This is only for sampling purposes\n",
        "\n",
        "  def __init__(self, noise_cb): self.noise_cb = noise_cb\n",
        "\n",
        "  def set_timesteps(self, ts, skips = 10):\n",
        "    self.skips = skips\n",
        "    self.num_timesteps = ts\n",
        "    self.timesteps = reversed(torch.tensor(range(0, 1000, skips)))\n",
        "\n",
        "  def step(self, xt, np, cts, eta = 0.8):\n",
        "\n",
        "    a_bar_t, a_bar_t_1 = self.noise_cb.alpha_bar[cts], self.noise_cb.alpha_bar[cts + 1] if cts > 0 else torch.tensor(1.)\n",
        "    b_bar_t, b_bar_t_1 = (1. - a_bar_t), (1. - a_bar_t_1)\n",
        "\n",
        "    if cts == 0: st()\n",
        "\n",
        "    x0_hat = (xt - b_bar_t_1.sqrt()*np)/(a_bar_t.sqrt())\n",
        "\n",
        "    # if cts == 0: return x0_hat\n",
        "\n",
        "    sig = (b_bar_t/b_bar_t_1).sqrt() * (1. - (a_bar_t_1/a_bar_t)).sqrt() * eta\n",
        "\n",
        "    xt = a_bar_t_1.sqrt()*x0_hat + (b_bar_t_1 - sig**2).sqrt()*np\n",
        "    if cts > 0: xt += sig*torch.randn(xt.shape).to(xt.device)\n",
        "    return xt\n",
        "\n",
        "  def _get_alphas(self, ts):\n",
        "\n",
        "    def _get_alpha(ts, alpha_bar = self.noise_cb.alpha_bar):\n",
        "      return alpha_bar[ts] if ts >= 0 else torch.tensor(1.)\n",
        "    prev_ts = ts - self.skips\n",
        "    return _get_alpha(ts), _get_alpha(prev_ts)\n",
        "\n",
        "  def _get_variance(self, alpha_bar, alpha_bar_prev, beta_bar, beta_bar_prev): return (beta_bar_prev / beta_bar) * (1 - alpha_bar / alpha_bar_prev)\n",
        "\n",
        "  def step_new(self, xt, np, ts, eta = 0.5):\n",
        "    # get the current time step and previous timesteps\n",
        "    # Get alpha bar t and alpha bar t - steps and beta bar t and beta bar t - steps\n",
        "    # get the x0 hat based on the noise predict\n",
        "    # calculate the xt-steps using the updated formula\n",
        "\n",
        "    alpha_bar, alpha_bar_prev = self._get_alphas(ts)\n",
        "    beta_bar, beta_bar_prev = (1. - alpha_bar), (1. - alpha_bar_prev)\n",
        "\n",
        "    x0_hat = (xt - beta_bar.sqrt() * np)/(alpha_bar.sqrt()).clip(-1., 1.)\n",
        "\n",
        "\n",
        "    var = self._get_variance(alpha_bar, alpha_bar_prev, beta_bar, beta_bar_prev)\n",
        "    sigma = (var*eta).sqrt()\n",
        "\n",
        "    xt_new = alpha_bar_prev.sqrt() * x0_hat + (beta_bar_prev - sigma**2).sqrt() * np + torch.randn(xt.shape).to(xt.device)*sigma\n",
        "    return xt_new\n",
        "\n",
        "class DDPMPrepV2(DDPMPrep):\n",
        "  def __init__(self, n_steps = 1000, beta = torch.tensor([0.]), name = 'lin'):\n",
        "    fc.store_attr()\n",
        "    self.alpha = 1. - self.beta\n",
        "    self.alpha_bar = self.alpha.cumprod(0)\n",
        "    self.sigma = self.beta.sqrt()\n",
        "\n",
        "def ddim_sample_v3(model, n_steps, out_shape = (256, 1, 32, 32), sched = DDIM_SchedulerV2(DDPMPrepV2(n_steps = 1000, beta = torch.linspace(0.0001, 0.01, 1000)))):\n",
        "  model.device = torch.device('cuda')\n",
        "  sched.set_timesteps(n_steps, skips = 10)\n",
        "  xt = torch.randn(out_shape).to(model.device)\n",
        "  for ts in tqdm(sched.timesteps):\n",
        "    with torch.no_grad(): np = model((xt, torch.tensor([ts]*out_shape[0]).to(model.device)))\n",
        "    # print(np.mean(), np.std(), np.max(), np.min())\n",
        "    xt = sched.step_new(xt, np, ts, eta = 0.8)\n",
        "    # if ts%10 == 0: print(ts, xt.mean().item(), xt.std().item(), xt.max().item(), xt.min().item())\n",
        "  return xt"
      ],
      "metadata": {
        "id": "sjjkLVU6MMKZ"
      },
      "execution_count": 13,
      "outputs": []
    },
    {
      "cell_type": "code",
      "source": [
        "mout = ddim_sample_v3(model, 1000)\n",
        "show_images(mout[:35], ncols = 5)"
      ],
      "metadata": {
        "colab": {
          "base_uri": "https://localhost:8080/",
          "height": 1000
        },
        "id": "dyOcresZQ9l9",
        "outputId": "018a7613-bab5-4531-d23c-46d57e1d3358"
      },
      "execution_count": 14,
      "outputs": [
        {
          "output_type": "stream",
          "name": "stderr",
          "text": [
            "100%|██████████| 100/100 [00:37<00:00,  2.66it/s]\n"
          ]
        },
        {
          "output_type": "display_data",
          "data": {
            "text/plain": [
              "<Figure size 1500x2100 with 35 Axes>"
            ],
            "image/png": "[encoded data removed]"
          },
          "metadata": {}
        }
      ]
    },
    {
      "cell_type": "markdown",
      "source": [
        "# Conditional Diffusion."
      ],
      "metadata": {
        "id": "bNfWMNXkTGlC"
      }
    },
    {
      "cell_type": "code",
      "source": [],
      "metadata": {
        "id": "X-rzzAjANubD"
      },
      "execution_count": null,
      "outputs": []
    },
    {
      "cell_type": "code",
      "source": [],
      "metadata": {
        "id": "ix9wgGjvTF7b"
      },
      "execution_count": null,
      "outputs": []
    }
  ]
}
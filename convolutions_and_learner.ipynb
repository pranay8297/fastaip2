{
  "nbformat": 4,
  "nbformat_minor": 0,
  "metadata": {
    "colab": {
      "provenance": [],
      "collapsed_sections": [
        "d4bzpsNs29Ys",
        "nfPCcX0_CAuW",
        "WjUnwnn7CFqz",
        "iyjhef81E9dl",
        "dF4BzjKzO27w"
      ],
      "authorship_tag": "ABX9TyN6ssR54xLAlsedWMAWwuKQ",
      "include_colab_link": true
    },
    "kernelspec": {
      "name": "python3",
      "display_name": "Python 3"
    },
    "language_info": {
      "name": "python"
    },
    "widgets": {
      "application/vnd.jupyter.widget-state+json": {
        "bd2d16ba125d4ba5b8e62c694eb48e8d": {
          "model_module": "@jupyter-widgets/controls",
          "model_name": "HBoxModel",
          "model_module_version": "1.5.0",
          "state": {
            "_dom_classes": [],
            "_model_module": "@jupyter-widgets/controls",
            "_model_module_version": "1.5.0",
            "_model_name": "HBoxModel",
            "_view_count": null,
            "_view_module": "@jupyter-widgets/controls",
            "_view_module_version": "1.5.0",
            "_view_name": "HBoxView",
            "box_style": "",
            "children": [
              "IPY_MODEL_47fe5fb8ab5249309c7b9f120ce7904c",
              "IPY_MODEL_68d302e32b3544ee8e41e0c79b4e25a6",
              "IPY_MODEL_0db0df0535f049008aa05aa9ebd624ed"
            ],
            "layout": "IPY_MODEL_bd5b8e75e6af4a33b24805d4b08f05a9"
          }
        },
        "47fe5fb8ab5249309c7b9f120ce7904c": {
          "model_module": "@jupyter-widgets/controls",
          "model_name": "HTMLModel",
          "model_module_version": "1.5.0",
          "state": {
            "_dom_classes": [],
            "_model_module": "@jupyter-widgets/controls",
            "_model_module_version": "1.5.0",
            "_model_name": "HTMLModel",
            "_view_count": null,
            "_view_module": "@jupyter-widgets/controls",
            "_view_module_version": "1.5.0",
            "_view_name": "HTMLView",
            "description": "",
            "description_tooltip": null,
            "layout": "IPY_MODEL_fe13dc26852949a893425bd857d6568b",
            "placeholder": "​",
            "style": "IPY_MODEL_d64d0ed714434b4f91443a4ddc42ba3c",
            "value": "Downloading data: 100%"
          }
        },
        "68d302e32b3544ee8e41e0c79b4e25a6": {
          "model_module": "@jupyter-widgets/controls",
          "model_name": "FloatProgressModel",
          "model_module_version": "1.5.0",
          "state": {
            "_dom_classes": [],
            "_model_module": "@jupyter-widgets/controls",
            "_model_module_version": "1.5.0",
            "_model_name": "FloatProgressModel",
            "_view_count": null,
            "_view_module": "@jupyter-widgets/controls",
            "_view_module_version": "1.5.0",
            "_view_name": "ProgressView",
            "bar_style": "success",
            "description": "",
            "description_tooltip": null,
            "layout": "IPY_MODEL_791d579dc1ac4778a3544c12ccaf14cb",
            "max": 15561616,
            "min": 0,
            "orientation": "horizontal",
            "style": "IPY_MODEL_abd308bd04cd430faff6250092cd7d11",
            "value": 15561616
          }
        },
        "0db0df0535f049008aa05aa9ebd624ed": {
          "model_module": "@jupyter-widgets/controls",
          "model_name": "HTMLModel",
          "model_module_version": "1.5.0",
          "state": {
            "_dom_classes": [],
            "_model_module": "@jupyter-widgets/controls",
            "_model_module_version": "1.5.0",
            "_model_name": "HTMLModel",
            "_view_count": null,
            "_view_module": "@jupyter-widgets/controls",
            "_view_module_version": "1.5.0",
            "_view_name": "HTMLView",
            "description": "",
            "description_tooltip": null,
            "layout": "IPY_MODEL_d1731ddb8fb04ff4b5ba6dcd8e125a38",
            "placeholder": "​",
            "style": "IPY_MODEL_5c22f8424f834a4ca197a3cf04dd2962",
            "value": " 15.6M/15.6M [00:00&lt;00:00, 25.5MB/s]"
          }
        },
        "bd5b8e75e6af4a33b24805d4b08f05a9": {
          "model_module": "@jupyter-widgets/base",
          "model_name": "LayoutModel",
          "model_module_version": "1.2.0",
          "state": {
            "_model_module": "@jupyter-widgets/base",
            "_model_module_version": "1.2.0",
            "_model_name": "LayoutModel",
            "_view_count": null,
            "_view_module": "@jupyter-widgets/base",
            "_view_module_version": "1.2.0",
            "_view_name": "LayoutView",
            "align_content": null,
            "align_items": null,
            "align_self": null,
            "border": null,
            "bottom": null,
            "display": null,
            "flex": null,
            "flex_flow": null,
            "grid_area": null,
            "grid_auto_columns": null,
            "grid_auto_flow": null,
            "grid_auto_rows": null,
            "grid_column": null,
            "grid_gap": null,
            "grid_row": null,
            "grid_template_areas": null,
            "grid_template_columns": null,
            "grid_template_rows": null,
            "height": null,
            "justify_content": null,
            "justify_items": null,
            "left": null,
            "margin": null,
            "max_height": null,
            "max_width": null,
            "min_height": null,
            "min_width": null,
            "object_fit": null,
            "object_position": null,
            "order": null,
            "overflow": null,
            "overflow_x": null,
            "overflow_y": null,
            "padding": null,
            "right": null,
            "top": null,
            "visibility": null,
            "width": null
          }
        },
        "fe13dc26852949a893425bd857d6568b": {
          "model_module": "@jupyter-widgets/base",
          "model_name": "LayoutModel",
          "model_module_version": "1.2.0",
          "state": {
            "_model_module": "@jupyter-widgets/base",
            "_model_module_version": "1.2.0",
            "_model_name": "LayoutModel",
            "_view_count": null,
            "_view_module": "@jupyter-widgets/base",
            "_view_module_version": "1.2.0",
            "_view_name": "LayoutView",
            "align_content": null,
            "align_items": null,
            "align_self": null,
            "border": null,
            "bottom": null,
            "display": null,
            "flex": null,
            "flex_flow": null,
            "grid_area": null,
            "grid_auto_columns": null,
            "grid_auto_flow": null,
            "grid_auto_rows": null,
            "grid_column": null,
            "grid_gap": null,
            "grid_row": null,
            "grid_template_areas": null,
            "grid_template_columns": null,
            "grid_template_rows": null,
            "height": null,
            "justify_content": null,
            "justify_items": null,
            "left": null,
            "margin": null,
            "max_height": null,
            "max_width": null,
            "min_height": null,
            "min_width": null,
            "object_fit": null,
            "object_position": null,
            "order": null,
            "overflow": null,
            "overflow_x": null,
            "overflow_y": null,
            "padding": null,
            "right": null,
            "top": null,
            "visibility": null,
            "width": null
          }
        },
        "d64d0ed714434b4f91443a4ddc42ba3c": {
          "model_module": "@jupyter-widgets/controls",
          "model_name": "DescriptionStyleModel",
          "model_module_version": "1.5.0",
          "state": {
            "_model_module": "@jupyter-widgets/controls",
            "_model_module_version": "1.5.0",
            "_model_name": "DescriptionStyleModel",
            "_view_count": null,
            "_view_module": "@jupyter-widgets/base",
            "_view_module_version": "1.2.0",
            "_view_name": "StyleView",
            "description_width": ""
          }
        },
        "791d579dc1ac4778a3544c12ccaf14cb": {
          "model_module": "@jupyter-widgets/base",
          "model_name": "LayoutModel",
          "model_module_version": "1.2.0",
          "state": {
            "_model_module": "@jupyter-widgets/base",
            "_model_module_version": "1.2.0",
            "_model_name": "LayoutModel",
            "_view_count": null,
            "_view_module": "@jupyter-widgets/base",
            "_view_module_version": "1.2.0",
            "_view_name": "LayoutView",
            "align_content": null,
            "align_items": null,
            "align_self": null,
            "border": null,
            "bottom": null,
            "display": null,
            "flex": null,
            "flex_flow": null,
            "grid_area": null,
            "grid_auto_columns": null,
            "grid_auto_flow": null,
            "grid_auto_rows": null,
            "grid_column": null,
            "grid_gap": null,
            "grid_row": null,
            "grid_template_areas": null,
            "grid_template_columns": null,
            "grid_template_rows": null,
            "height": null,
            "justify_content": null,
            "justify_items": null,
            "left": null,
            "margin": null,
            "max_height": null,
            "max_width": null,
            "min_height": null,
            "min_width": null,
            "object_fit": null,
            "object_position": null,
            "order": null,
            "overflow": null,
            "overflow_x": null,
            "overflow_y": null,
            "padding": null,
            "right": null,
            "top": null,
            "visibility": null,
            "width": null
          }
        },
        "abd308bd04cd430faff6250092cd7d11": {
          "model_module": "@jupyter-widgets/controls",
          "model_name": "ProgressStyleModel",
          "model_module_version": "1.5.0",
          "state": {
            "_model_module": "@jupyter-widgets/controls",
            "_model_module_version": "1.5.0",
            "_model_name": "ProgressStyleModel",
            "_view_count": null,
            "_view_module": "@jupyter-widgets/base",
            "_view_module_version": "1.2.0",
            "_view_name": "StyleView",
            "bar_color": null,
            "description_width": ""
          }
        },
        "d1731ddb8fb04ff4b5ba6dcd8e125a38": {
          "model_module": "@jupyter-widgets/base",
          "model_name": "LayoutModel",
          "model_module_version": "1.2.0",
          "state": {
            "_model_module": "@jupyter-widgets/base",
            "_model_module_version": "1.2.0",
            "_model_name": "LayoutModel",
            "_view_count": null,
            "_view_module": "@jupyter-widgets/base",
            "_view_module_version": "1.2.0",
            "_view_name": "LayoutView",
            "align_content": null,
            "align_items": null,
            "align_self": null,
            "border": null,
            "bottom": null,
            "display": null,
            "flex": null,
            "flex_flow": null,
            "grid_area": null,
            "grid_auto_columns": null,
            "grid_auto_flow": null,
            "grid_auto_rows": null,
            "grid_column": null,
            "grid_gap": null,
            "grid_row": null,
            "grid_template_areas": null,
            "grid_template_columns": null,
            "grid_template_rows": null,
            "height": null,
            "justify_content": null,
            "justify_items": null,
            "left": null,
            "margin": null,
            "max_height": null,
            "max_width": null,
            "min_height": null,
            "min_width": null,
            "object_fit": null,
            "object_position": null,
            "order": null,
            "overflow": null,
            "overflow_x": null,
            "overflow_y": null,
            "padding": null,
            "right": null,
            "top": null,
            "visibility": null,
            "width": null
          }
        },
        "5c22f8424f834a4ca197a3cf04dd2962": {
          "model_module": "@jupyter-widgets/controls",
          "model_name": "DescriptionStyleModel",
          "model_module_version": "1.5.0",
          "state": {
            "_model_module": "@jupyter-widgets/controls",
            "_model_module_version": "1.5.0",
            "_model_name": "DescriptionStyleModel",
            "_view_count": null,
            "_view_module": "@jupyter-widgets/base",
            "_view_module_version": "1.2.0",
            "_view_name": "StyleView",
            "description_width": ""
          }
        },
        "721ce9782287448183bcb76e753b8c67": {
          "model_module": "@jupyter-widgets/controls",
          "model_name": "HBoxModel",
          "model_module_version": "1.5.0",
          "state": {
            "_dom_classes": [],
            "_model_module": "@jupyter-widgets/controls",
            "_model_module_version": "1.5.0",
            "_model_name": "HBoxModel",
            "_view_count": null,
            "_view_module": "@jupyter-widgets/controls",
            "_view_module_version": "1.5.0",
            "_view_name": "HBoxView",
            "box_style": "",
            "children": [
              "IPY_MODEL_89e44b08add3493595652e9dd8bbc27b",
              "IPY_MODEL_0bedb6069fb74adeb885f74d2b003eb9",
              "IPY_MODEL_fd407a16bf7a458e8020b52c851ef4a2"
            ],
            "layout": "IPY_MODEL_5f69ca883d524f989e46e22da9a83260"
          }
        },
        "89e44b08add3493595652e9dd8bbc27b": {
          "model_module": "@jupyter-widgets/controls",
          "model_name": "HTMLModel",
          "model_module_version": "1.5.0",
          "state": {
            "_dom_classes": [],
            "_model_module": "@jupyter-widgets/controls",
            "_model_module_version": "1.5.0",
            "_model_name": "HTMLModel",
            "_view_count": null,
            "_view_module": "@jupyter-widgets/controls",
            "_view_module_version": "1.5.0",
            "_view_name": "HTMLView",
            "description": "",
            "description_tooltip": null,
            "layout": "IPY_MODEL_185fe31f00224014991475a22bc31a3b",
            "placeholder": "​",
            "style": "IPY_MODEL_f64f724f41544c7cb100222dae9192c8",
            "value": "Downloading data: 100%"
          }
        },
        "0bedb6069fb74adeb885f74d2b003eb9": {
          "model_module": "@jupyter-widgets/controls",
          "model_name": "FloatProgressModel",
          "model_module_version": "1.5.0",
          "state": {
            "_dom_classes": [],
            "_model_module": "@jupyter-widgets/controls",
            "_model_module_version": "1.5.0",
            "_model_name": "FloatProgressModel",
            "_view_count": null,
            "_view_module": "@jupyter-widgets/controls",
            "_view_module_version": "1.5.0",
            "_view_name": "ProgressView",
            "bar_style": "success",
            "description": "",
            "description_tooltip": null,
            "layout": "IPY_MODEL_fe762dd83c9e4ad8a6b4d966e4e5099c",
            "max": 2595890,
            "min": 0,
            "orientation": "horizontal",
            "style": "IPY_MODEL_8d0c0743afc645f68c1f62dbcbd19e25",
            "value": 2595890
          }
        },
        "fd407a16bf7a458e8020b52c851ef4a2": {
          "model_module": "@jupyter-widgets/controls",
          "model_name": "HTMLModel",
          "model_module_version": "1.5.0",
          "state": {
            "_dom_classes": [],
            "_model_module": "@jupyter-widgets/controls",
            "_model_module_version": "1.5.0",
            "_model_name": "HTMLModel",
            "_view_count": null,
            "_view_module": "@jupyter-widgets/controls",
            "_view_module_version": "1.5.0",
            "_view_name": "HTMLView",
            "description": "",
            "description_tooltip": null,
            "layout": "IPY_MODEL_0e92eb250d134ff7a8fcc127007b608b",
            "placeholder": "​",
            "style": "IPY_MODEL_5f13e0a3954548daa07ab7bb9f4598ba",
            "value": " 2.60M/2.60M [00:00&lt;00:00, 13.3MB/s]"
          }
        },
        "5f69ca883d524f989e46e22da9a83260": {
          "model_module": "@jupyter-widgets/base",
          "model_name": "LayoutModel",
          "model_module_version": "1.2.0",
          "state": {
            "_model_module": "@jupyter-widgets/base",
            "_model_module_version": "1.2.0",
            "_model_name": "LayoutModel",
            "_view_count": null,
            "_view_module": "@jupyter-widgets/base",
            "_view_module_version": "1.2.0",
            "_view_name": "LayoutView",
            "align_content": null,
            "align_items": null,
            "align_self": null,
            "border": null,
            "bottom": null,
            "display": null,
            "flex": null,
            "flex_flow": null,
            "grid_area": null,
            "grid_auto_columns": null,
            "grid_auto_flow": null,
            "grid_auto_rows": null,
            "grid_column": null,
            "grid_gap": null,
            "grid_row": null,
            "grid_template_areas": null,
            "grid_template_columns": null,
            "grid_template_rows": null,
            "height": null,
            "justify_content": null,
            "justify_items": null,
            "left": null,
            "margin": null,
            "max_height": null,
            "max_width": null,
            "min_height": null,
            "min_width": null,
            "object_fit": null,
            "object_position": null,
            "order": null,
            "overflow": null,
            "overflow_x": null,
            "overflow_y": null,
            "padding": null,
            "right": null,
            "top": null,
            "visibility": null,
            "width": null
          }
        },
        "185fe31f00224014991475a22bc31a3b": {
          "model_module": "@jupyter-widgets/base",
          "model_name": "LayoutModel",
          "model_module_version": "1.2.0",
          "state": {
            "_model_module": "@jupyter-widgets/base",
            "_model_module_version": "1.2.0",
            "_model_name": "LayoutModel",
            "_view_count": null,
            "_view_module": "@jupyter-widgets/base",
            "_view_module_version": "1.2.0",
            "_view_name": "LayoutView",
            "align_content": null,
            "align_items": null,
            "align_self": null,
            "border": null,
            "bottom": null,
            "display": null,
            "flex": null,
            "flex_flow": null,
            "grid_area": null,
            "grid_auto_columns": null,
            "grid_auto_flow": null,
            "grid_auto_rows": null,
            "grid_column": null,
            "grid_gap": null,
            "grid_row": null,
            "grid_template_areas": null,
            "grid_template_columns": null,
            "grid_template_rows": null,
            "height": null,
            "justify_content": null,
            "justify_items": null,
            "left": null,
            "margin": null,
            "max_height": null,
            "max_width": null,
            "min_height": null,
            "min_width": null,
            "object_fit": null,
            "object_position": null,
            "order": null,
            "overflow": null,
            "overflow_x": null,
            "overflow_y": null,
            "padding": null,
            "right": null,
            "top": null,
            "visibility": null,
            "width": null
          }
        },
        "f64f724f41544c7cb100222dae9192c8": {
          "model_module": "@jupyter-widgets/controls",
          "model_name": "DescriptionStyleModel",
          "model_module_version": "1.5.0",
          "state": {
            "_model_module": "@jupyter-widgets/controls",
            "_model_module_version": "1.5.0",
            "_model_name": "DescriptionStyleModel",
            "_view_count": null,
            "_view_module": "@jupyter-widgets/base",
            "_view_module_version": "1.2.0",
            "_view_name": "StyleView",
            "description_width": ""
          }
        },
        "fe762dd83c9e4ad8a6b4d966e4e5099c": {
          "model_module": "@jupyter-widgets/base",
          "model_name": "LayoutModel",
          "model_module_version": "1.2.0",
          "state": {
            "_model_module": "@jupyter-widgets/base",
            "_model_module_version": "1.2.0",
            "_model_name": "LayoutModel",
            "_view_count": null,
            "_view_module": "@jupyter-widgets/base",
            "_view_module_version": "1.2.0",
            "_view_name": "LayoutView",
            "align_content": null,
            "align_items": null,
            "align_self": null,
            "border": null,
            "bottom": null,
            "display": null,
            "flex": null,
            "flex_flow": null,
            "grid_area": null,
            "grid_auto_columns": null,
            "grid_auto_flow": null,
            "grid_auto_rows": null,
            "grid_column": null,
            "grid_gap": null,
            "grid_row": null,
            "grid_template_areas": null,
            "grid_template_columns": null,
            "grid_template_rows": null,
            "height": null,
            "justify_content": null,
            "justify_items": null,
            "left": null,
            "margin": null,
            "max_height": null,
            "max_width": null,
            "min_height": null,
            "min_width": null,
            "object_fit": null,
            "object_position": null,
            "order": null,
            "overflow": null,
            "overflow_x": null,
            "overflow_y": null,
            "padding": null,
            "right": null,
            "top": null,
            "visibility": null,
            "width": null
          }
        },
        "8d0c0743afc645f68c1f62dbcbd19e25": {
          "model_module": "@jupyter-widgets/controls",
          "model_name": "ProgressStyleModel",
          "model_module_version": "1.5.0",
          "state": {
            "_model_module": "@jupyter-widgets/controls",
            "_model_module_version": "1.5.0",
            "_model_name": "ProgressStyleModel",
            "_view_count": null,
            "_view_module": "@jupyter-widgets/base",
            "_view_module_version": "1.2.0",
            "_view_name": "StyleView",
            "bar_color": null,
            "description_width": ""
          }
        },
        "0e92eb250d134ff7a8fcc127007b608b": {
          "model_module": "@jupyter-widgets/base",
          "model_name": "LayoutModel",
          "model_module_version": "1.2.0",
          "state": {
            "_model_module": "@jupyter-widgets/base",
            "_model_module_version": "1.2.0",
            "_model_name": "LayoutModel",
            "_view_count": null,
            "_view_module": "@jupyter-widgets/base",
            "_view_module_version": "1.2.0",
            "_view_name": "LayoutView",
            "align_content": null,
            "align_items": null,
            "align_self": null,
            "border": null,
            "bottom": null,
            "display": null,
            "flex": null,
            "flex_flow": null,
            "grid_area": null,
            "grid_auto_columns": null,
            "grid_auto_flow": null,
            "grid_auto_rows": null,
            "grid_column": null,
            "grid_gap": null,
            "grid_row": null,
            "grid_template_areas": null,
            "grid_template_columns": null,
            "grid_template_rows": null,
            "height": null,
            "justify_content": null,
            "justify_items": null,
            "left": null,
            "margin": null,
            "max_height": null,
            "max_width": null,
            "min_height": null,
            "min_width": null,
            "object_fit": null,
            "object_position": null,
            "order": null,
            "overflow": null,
            "overflow_x": null,
            "overflow_y": null,
            "padding": null,
            "right": null,
            "top": null,
            "visibility": null,
            "width": null
          }
        },
        "5f13e0a3954548daa07ab7bb9f4598ba": {
          "model_module": "@jupyter-widgets/controls",
          "model_name": "DescriptionStyleModel",
          "model_module_version": "1.5.0",
          "state": {
            "_model_module": "@jupyter-widgets/controls",
            "_model_module_version": "1.5.0",
            "_model_name": "DescriptionStyleModel",
            "_view_count": null,
            "_view_module": "@jupyter-widgets/base",
            "_view_module_version": "1.2.0",
            "_view_name": "StyleView",
            "description_width": ""
          }
        },
        "9e706783baac4af98f750523aa36c5a8": {
          "model_module": "@jupyter-widgets/controls",
          "model_name": "HBoxModel",
          "model_module_version": "1.5.0",
          "state": {
            "_dom_classes": [],
            "_model_module": "@jupyter-widgets/controls",
            "_model_module_version": "1.5.0",
            "_model_name": "HBoxModel",
            "_view_count": null,
            "_view_module": "@jupyter-widgets/controls",
            "_view_module_version": "1.5.0",
            "_view_name": "HBoxView",
            "box_style": "",
            "children": [
              "IPY_MODEL_0d21b8fd28b94a5fb947a7272099f542",
              "IPY_MODEL_aa53405f78db48e1a4863c816b3df663",
              "IPY_MODEL_9425714a10c04568b08cb6d73ad623ef"
            ],
            "layout": "IPY_MODEL_9a1207a757514583887230ec36d546c1"
          }
        },
        "0d21b8fd28b94a5fb947a7272099f542": {
          "model_module": "@jupyter-widgets/controls",
          "model_name": "HTMLModel",
          "model_module_version": "1.5.0",
          "state": {
            "_dom_classes": [],
            "_model_module": "@jupyter-widgets/controls",
            "_model_module_version": "1.5.0",
            "_model_name": "HTMLModel",
            "_view_count": null,
            "_view_module": "@jupyter-widgets/controls",
            "_view_module_version": "1.5.0",
            "_view_name": "HTMLView",
            "description": "",
            "description_tooltip": null,
            "layout": "IPY_MODEL_c98b5895cd55434c8d4e3df8dc88c90a",
            "placeholder": "​",
            "style": "IPY_MODEL_ea520d9a69444322861c7f4771e34388",
            "value": "Generating train split: "
          }
        },
        "aa53405f78db48e1a4863c816b3df663": {
          "model_module": "@jupyter-widgets/controls",
          "model_name": "FloatProgressModel",
          "model_module_version": "1.5.0",
          "state": {
            "_dom_classes": [],
            "_model_module": "@jupyter-widgets/controls",
            "_model_module_version": "1.5.0",
            "_model_name": "FloatProgressModel",
            "_view_count": null,
            "_view_module": "@jupyter-widgets/controls",
            "_view_module_version": "1.5.0",
            "_view_name": "ProgressView",
            "bar_style": "success",
            "description": "",
            "description_tooltip": null,
            "layout": "IPY_MODEL_caa3907ccbd6407297f402c781fee6cd",
            "max": 1,
            "min": 0,
            "orientation": "horizontal",
            "style": "IPY_MODEL_37063d79cd3d4858bbc5125e48b72bad",
            "value": 1
          }
        },
        "9425714a10c04568b08cb6d73ad623ef": {
          "model_module": "@jupyter-widgets/controls",
          "model_name": "HTMLModel",
          "model_module_version": "1.5.0",
          "state": {
            "_dom_classes": [],
            "_model_module": "@jupyter-widgets/controls",
            "_model_module_version": "1.5.0",
            "_model_name": "HTMLModel",
            "_view_count": null,
            "_view_module": "@jupyter-widgets/controls",
            "_view_module_version": "1.5.0",
            "_view_name": "HTMLView",
            "description": "",
            "description_tooltip": null,
            "layout": "IPY_MODEL_7f03f8b3d9f949c8b734e3f0945bb968",
            "placeholder": "​",
            "style": "IPY_MODEL_048da3b679f34180b915f299a6eea567",
            "value": " 60000/0 [00:00&lt;00:00, 246321.32 examples/s]"
          }
        },
        "9a1207a757514583887230ec36d546c1": {
          "model_module": "@jupyter-widgets/base",
          "model_name": "LayoutModel",
          "model_module_version": "1.2.0",
          "state": {
            "_model_module": "@jupyter-widgets/base",
            "_model_module_version": "1.2.0",
            "_model_name": "LayoutModel",
            "_view_count": null,
            "_view_module": "@jupyter-widgets/base",
            "_view_module_version": "1.2.0",
            "_view_name": "LayoutView",
            "align_content": null,
            "align_items": null,
            "align_self": null,
            "border": null,
            "bottom": null,
            "display": null,
            "flex": null,
            "flex_flow": null,
            "grid_area": null,
            "grid_auto_columns": null,
            "grid_auto_flow": null,
            "grid_auto_rows": null,
            "grid_column": null,
            "grid_gap": null,
            "grid_row": null,
            "grid_template_areas": null,
            "grid_template_columns": null,
            "grid_template_rows": null,
            "height": null,
            "justify_content": null,
            "justify_items": null,
            "left": null,
            "margin": null,
            "max_height": null,
            "max_width": null,
            "min_height": null,
            "min_width": null,
            "object_fit": null,
            "object_position": null,
            "order": null,
            "overflow": null,
            "overflow_x": null,
            "overflow_y": null,
            "padding": null,
            "right": null,
            "top": null,
            "visibility": null,
            "width": null
          }
        },
        "c98b5895cd55434c8d4e3df8dc88c90a": {
          "model_module": "@jupyter-widgets/base",
          "model_name": "LayoutModel",
          "model_module_version": "1.2.0",
          "state": {
            "_model_module": "@jupyter-widgets/base",
            "_model_module_version": "1.2.0",
            "_model_name": "LayoutModel",
            "_view_count": null,
            "_view_module": "@jupyter-widgets/base",
            "_view_module_version": "1.2.0",
            "_view_name": "LayoutView",
            "align_content": null,
            "align_items": null,
            "align_self": null,
            "border": null,
            "bottom": null,
            "display": null,
            "flex": null,
            "flex_flow": null,
            "grid_area": null,
            "grid_auto_columns": null,
            "grid_auto_flow": null,
            "grid_auto_rows": null,
            "grid_column": null,
            "grid_gap": null,
            "grid_row": null,
            "grid_template_areas": null,
            "grid_template_columns": null,
            "grid_template_rows": null,
            "height": null,
            "justify_content": null,
            "justify_items": null,
            "left": null,
            "margin": null,
            "max_height": null,
            "max_width": null,
            "min_height": null,
            "min_width": null,
            "object_fit": null,
            "object_position": null,
            "order": null,
            "overflow": null,
            "overflow_x": null,
            "overflow_y": null,
            "padding": null,
            "right": null,
            "top": null,
            "visibility": null,
            "width": null
          }
        },
        "ea520d9a69444322861c7f4771e34388": {
          "model_module": "@jupyter-widgets/controls",
          "model_name": "DescriptionStyleModel",
          "model_module_version": "1.5.0",
          "state": {
            "_model_module": "@jupyter-widgets/controls",
            "_model_module_version": "1.5.0",
            "_model_name": "DescriptionStyleModel",
            "_view_count": null,
            "_view_module": "@jupyter-widgets/base",
            "_view_module_version": "1.2.0",
            "_view_name": "StyleView",
            "description_width": ""
          }
        },
        "caa3907ccbd6407297f402c781fee6cd": {
          "model_module": "@jupyter-widgets/base",
          "model_name": "LayoutModel",
          "model_module_version": "1.2.0",
          "state": {
            "_model_module": "@jupyter-widgets/base",
            "_model_module_version": "1.2.0",
            "_model_name": "LayoutModel",
            "_view_count": null,
            "_view_module": "@jupyter-widgets/base",
            "_view_module_version": "1.2.0",
            "_view_name": "LayoutView",
            "align_content": null,
            "align_items": null,
            "align_self": null,
            "border": null,
            "bottom": null,
            "display": null,
            "flex": null,
            "flex_flow": null,
            "grid_area": null,
            "grid_auto_columns": null,
            "grid_auto_flow": null,
            "grid_auto_rows": null,
            "grid_column": null,
            "grid_gap": null,
            "grid_row": null,
            "grid_template_areas": null,
            "grid_template_columns": null,
            "grid_template_rows": null,
            "height": null,
            "justify_content": null,
            "justify_items": null,
            "left": null,
            "margin": null,
            "max_height": null,
            "max_width": null,
            "min_height": null,
            "min_width": null,
            "object_fit": null,
            "object_position": null,
            "order": null,
            "overflow": null,
            "overflow_x": null,
            "overflow_y": null,
            "padding": null,
            "right": null,
            "top": null,
            "visibility": null,
            "width": "20px"
          }
        },
        "37063d79cd3d4858bbc5125e48b72bad": {
          "model_module": "@jupyter-widgets/controls",
          "model_name": "ProgressStyleModel",
          "model_module_version": "1.5.0",
          "state": {
            "_model_module": "@jupyter-widgets/controls",
            "_model_module_version": "1.5.0",
            "_model_name": "ProgressStyleModel",
            "_view_count": null,
            "_view_module": "@jupyter-widgets/base",
            "_view_module_version": "1.2.0",
            "_view_name": "StyleView",
            "bar_color": null,
            "description_width": ""
          }
        },
        "7f03f8b3d9f949c8b734e3f0945bb968": {
          "model_module": "@jupyter-widgets/base",
          "model_name": "LayoutModel",
          "model_module_version": "1.2.0",
          "state": {
            "_model_module": "@jupyter-widgets/base",
            "_model_module_version": "1.2.0",
            "_model_name": "LayoutModel",
            "_view_count": null,
            "_view_module": "@jupyter-widgets/base",
            "_view_module_version": "1.2.0",
            "_view_name": "LayoutView",
            "align_content": null,
            "align_items": null,
            "align_self": null,
            "border": null,
            "bottom": null,
            "display": null,
            "flex": null,
            "flex_flow": null,
            "grid_area": null,
            "grid_auto_columns": null,
            "grid_auto_flow": null,
            "grid_auto_rows": null,
            "grid_column": null,
            "grid_gap": null,
            "grid_row": null,
            "grid_template_areas": null,
            "grid_template_columns": null,
            "grid_template_rows": null,
            "height": null,
            "justify_content": null,
            "justify_items": null,
            "left": null,
            "margin": null,
            "max_height": null,
            "max_width": null,
            "min_height": null,
            "min_width": null,
            "object_fit": null,
            "object_position": null,
            "order": null,
            "overflow": null,
            "overflow_x": null,
            "overflow_y": null,
            "padding": null,
            "right": null,
            "top": null,
            "visibility": null,
            "width": null
          }
        },
        "048da3b679f34180b915f299a6eea567": {
          "model_module": "@jupyter-widgets/controls",
          "model_name": "DescriptionStyleModel",
          "model_module_version": "1.5.0",
          "state": {
            "_model_module": "@jupyter-widgets/controls",
            "_model_module_version": "1.5.0",
            "_model_name": "DescriptionStyleModel",
            "_view_count": null,
            "_view_module": "@jupyter-widgets/base",
            "_view_module_version": "1.2.0",
            "_view_name": "StyleView",
            "description_width": ""
          }
        },
        "320811098fd84881b40125851e01d760": {
          "model_module": "@jupyter-widgets/controls",
          "model_name": "HBoxModel",
          "model_module_version": "1.5.0",
          "state": {
            "_dom_classes": [],
            "_model_module": "@jupyter-widgets/controls",
            "_model_module_version": "1.5.0",
            "_model_name": "HBoxModel",
            "_view_count": null,
            "_view_module": "@jupyter-widgets/controls",
            "_view_module_version": "1.5.0",
            "_view_name": "HBoxView",
            "box_style": "",
            "children": [
              "IPY_MODEL_9e3571dd512940268401c1859ee214c3",
              "IPY_MODEL_aa696877c2824404bff05a9f72165183",
              "IPY_MODEL_a9cde400869943c5a8d1f5f155b4ac0a"
            ],
            "layout": "IPY_MODEL_58902a1525f54e92b14d702480f90cf3"
          }
        },
        "9e3571dd512940268401c1859ee214c3": {
          "model_module": "@jupyter-widgets/controls",
          "model_name": "HTMLModel",
          "model_module_version": "1.5.0",
          "state": {
            "_dom_classes": [],
            "_model_module": "@jupyter-widgets/controls",
            "_model_module_version": "1.5.0",
            "_model_name": "HTMLModel",
            "_view_count": null,
            "_view_module": "@jupyter-widgets/controls",
            "_view_module_version": "1.5.0",
            "_view_name": "HTMLView",
            "description": "",
            "description_tooltip": null,
            "layout": "IPY_MODEL_a0a479b4cc5d48eda33042b1c01756d3",
            "placeholder": "​",
            "style": "IPY_MODEL_dd9fc8b509754f0b9e1fc99151f90917",
            "value": "Generating test split: "
          }
        },
        "aa696877c2824404bff05a9f72165183": {
          "model_module": "@jupyter-widgets/controls",
          "model_name": "FloatProgressModel",
          "model_module_version": "1.5.0",
          "state": {
            "_dom_classes": [],
            "_model_module": "@jupyter-widgets/controls",
            "_model_module_version": "1.5.0",
            "_model_name": "FloatProgressModel",
            "_view_count": null,
            "_view_module": "@jupyter-widgets/controls",
            "_view_module_version": "1.5.0",
            "_view_name": "ProgressView",
            "bar_style": "success",
            "description": "",
            "description_tooltip": null,
            "layout": "IPY_MODEL_663658726258461bb870ac47677f32f1",
            "max": 1,
            "min": 0,
            "orientation": "horizontal",
            "style": "IPY_MODEL_6a8ba954ebda498fb29470f217f2272d",
            "value": 1
          }
        },
        "a9cde400869943c5a8d1f5f155b4ac0a": {
          "model_module": "@jupyter-widgets/controls",
          "model_name": "HTMLModel",
          "model_module_version": "1.5.0",
          "state": {
            "_dom_classes": [],
            "_model_module": "@jupyter-widgets/controls",
            "_model_module_version": "1.5.0",
            "_model_name": "HTMLModel",
            "_view_count": null,
            "_view_module": "@jupyter-widgets/controls",
            "_view_module_version": "1.5.0",
            "_view_name": "HTMLView",
            "description": "",
            "description_tooltip": null,
            "layout": "IPY_MODEL_0b9375b35fd940a986e8d0158afb8098",
            "placeholder": "​",
            "style": "IPY_MODEL_8a0d14709c464a4694c195be15c3bda0",
            "value": " 10000/0 [00:00&lt;00:00, 179401.70 examples/s]"
          }
        },
        "58902a1525f54e92b14d702480f90cf3": {
          "model_module": "@jupyter-widgets/base",
          "model_name": "LayoutModel",
          "model_module_version": "1.2.0",
          "state": {
            "_model_module": "@jupyter-widgets/base",
            "_model_module_version": "1.2.0",
            "_model_name": "LayoutModel",
            "_view_count": null,
            "_view_module": "@jupyter-widgets/base",
            "_view_module_version": "1.2.0",
            "_view_name": "LayoutView",
            "align_content": null,
            "align_items": null,
            "align_self": null,
            "border": null,
            "bottom": null,
            "display": null,
            "flex": null,
            "flex_flow": null,
            "grid_area": null,
            "grid_auto_columns": null,
            "grid_auto_flow": null,
            "grid_auto_rows": null,
            "grid_column": null,
            "grid_gap": null,
            "grid_row": null,
            "grid_template_areas": null,
            "grid_template_columns": null,
            "grid_template_rows": null,
            "height": null,
            "justify_content": null,
            "justify_items": null,
            "left": null,
            "margin": null,
            "max_height": null,
            "max_width": null,
            "min_height": null,
            "min_width": null,
            "object_fit": null,
            "object_position": null,
            "order": null,
            "overflow": null,
            "overflow_x": null,
            "overflow_y": null,
            "padding": null,
            "right": null,
            "top": null,
            "visibility": null,
            "width": null
          }
        },
        "a0a479b4cc5d48eda33042b1c01756d3": {
          "model_module": "@jupyter-widgets/base",
          "model_name": "LayoutModel",
          "model_module_version": "1.2.0",
          "state": {
            "_model_module": "@jupyter-widgets/base",
            "_model_module_version": "1.2.0",
            "_model_name": "LayoutModel",
            "_view_count": null,
            "_view_module": "@jupyter-widgets/base",
            "_view_module_version": "1.2.0",
            "_view_name": "LayoutView",
            "align_content": null,
            "align_items": null,
            "align_self": null,
            "border": null,
            "bottom": null,
            "display": null,
            "flex": null,
            "flex_flow": null,
            "grid_area": null,
            "grid_auto_columns": null,
            "grid_auto_flow": null,
            "grid_auto_rows": null,
            "grid_column": null,
            "grid_gap": null,
            "grid_row": null,
            "grid_template_areas": null,
            "grid_template_columns": null,
            "grid_template_rows": null,
            "height": null,
            "justify_content": null,
            "justify_items": null,
            "left": null,
            "margin": null,
            "max_height": null,
            "max_width": null,
            "min_height": null,
            "min_width": null,
            "object_fit": null,
            "object_position": null,
            "order": null,
            "overflow": null,
            "overflow_x": null,
            "overflow_y": null,
            "padding": null,
            "right": null,
            "top": null,
            "visibility": null,
            "width": null
          }
        },
        "dd9fc8b509754f0b9e1fc99151f90917": {
          "model_module": "@jupyter-widgets/controls",
          "model_name": "DescriptionStyleModel",
          "model_module_version": "1.5.0",
          "state": {
            "_model_module": "@jupyter-widgets/controls",
            "_model_module_version": "1.5.0",
            "_model_name": "DescriptionStyleModel",
            "_view_count": null,
            "_view_module": "@jupyter-widgets/base",
            "_view_module_version": "1.2.0",
            "_view_name": "StyleView",
            "description_width": ""
          }
        },
        "663658726258461bb870ac47677f32f1": {
          "model_module": "@jupyter-widgets/base",
          "model_name": "LayoutModel",
          "model_module_version": "1.2.0",
          "state": {
            "_model_module": "@jupyter-widgets/base",
            "_model_module_version": "1.2.0",
            "_model_name": "LayoutModel",
            "_view_count": null,
            "_view_module": "@jupyter-widgets/base",
            "_view_module_version": "1.2.0",
            "_view_name": "LayoutView",
            "align_content": null,
            "align_items": null,
            "align_self": null,
            "border": null,
            "bottom": null,
            "display": null,
            "flex": null,
            "flex_flow": null,
            "grid_area": null,
            "grid_auto_columns": null,
            "grid_auto_flow": null,
            "grid_auto_rows": null,
            "grid_column": null,
            "grid_gap": null,
            "grid_row": null,
            "grid_template_areas": null,
            "grid_template_columns": null,
            "grid_template_rows": null,
            "height": null,
            "justify_content": null,
            "justify_items": null,
            "left": null,
            "margin": null,
            "max_height": null,
            "max_width": null,
            "min_height": null,
            "min_width": null,
            "object_fit": null,
            "object_position": null,
            "order": null,
            "overflow": null,
            "overflow_x": null,
            "overflow_y": null,
            "padding": null,
            "right": null,
            "top": null,
            "visibility": null,
            "width": "20px"
          }
        },
        "6a8ba954ebda498fb29470f217f2272d": {
          "model_module": "@jupyter-widgets/controls",
          "model_name": "ProgressStyleModel",
          "model_module_version": "1.5.0",
          "state": {
            "_model_module": "@jupyter-widgets/controls",
            "_model_module_version": "1.5.0",
            "_model_name": "ProgressStyleModel",
            "_view_count": null,
            "_view_module": "@jupyter-widgets/base",
            "_view_module_version": "1.2.0",
            "_view_name": "StyleView",
            "bar_color": null,
            "description_width": ""
          }
        },
        "0b9375b35fd940a986e8d0158afb8098": {
          "model_module": "@jupyter-widgets/base",
          "model_name": "LayoutModel",
          "model_module_version": "1.2.0",
          "state": {
            "_model_module": "@jupyter-widgets/base",
            "_model_module_version": "1.2.0",
            "_model_name": "LayoutModel",
            "_view_count": null,
            "_view_module": "@jupyter-widgets/base",
            "_view_module_version": "1.2.0",
            "_view_name": "LayoutView",
            "align_content": null,
            "align_items": null,
            "align_self": null,
            "border": null,
            "bottom": null,
            "display": null,
            "flex": null,
            "flex_flow": null,
            "grid_area": null,
            "grid_auto_columns": null,
            "grid_auto_flow": null,
            "grid_auto_rows": null,
            "grid_column": null,
            "grid_gap": null,
            "grid_row": null,
            "grid_template_areas": null,
            "grid_template_columns": null,
            "grid_template_rows": null,
            "height": null,
            "justify_content": null,
            "justify_items": null,
            "left": null,
            "margin": null,
            "max_height": null,
            "max_width": null,
            "min_height": null,
            "min_width": null,
            "object_fit": null,
            "object_position": null,
            "order": null,
            "overflow": null,
            "overflow_x": null,
            "overflow_y": null,
            "padding": null,
            "right": null,
            "top": null,
            "visibility": null,
            "width": null
          }
        },
        "8a0d14709c464a4694c195be15c3bda0": {
          "model_module": "@jupyter-widgets/controls",
          "model_name": "DescriptionStyleModel",
          "model_module_version": "1.5.0",
          "state": {
            "_model_module": "@jupyter-widgets/controls",
            "_model_module_version": "1.5.0",
            "_model_name": "DescriptionStyleModel",
            "_view_count": null,
            "_view_module": "@jupyter-widgets/base",
            "_view_module_version": "1.2.0",
            "_view_name": "StyleView",
            "description_width": ""
          }
        },
        "85c32e1ca8744ac19887b83c0ddb2d7f": {
          "model_module": "@jupyter-widgets/controls",
          "model_name": "HBoxModel",
          "model_module_version": "1.5.0",
          "state": {
            "_dom_classes": [],
            "_model_module": "@jupyter-widgets/controls",
            "_model_module_version": "1.5.0",
            "_model_name": "HBoxModel",
            "_view_count": null,
            "_view_module": "@jupyter-widgets/controls",
            "_view_module_version": "1.5.0",
            "_view_name": "HBoxView",
            "box_style": "",
            "children": [
              "IPY_MODEL_445a477108a2428eb4e5ddfb03f36c74",
              "IPY_MODEL_045d6b7590ac460db0f035e4f8ae845b",
              "IPY_MODEL_01b66f35c1ab44c198f74d910278a433"
            ],
            "layout": "IPY_MODEL_9d342c79eac84b80953489507251ffa6"
          }
        },
        "445a477108a2428eb4e5ddfb03f36c74": {
          "model_module": "@jupyter-widgets/controls",
          "model_name": "HTMLModel",
          "model_module_version": "1.5.0",
          "state": {
            "_dom_classes": [],
            "_model_module": "@jupyter-widgets/controls",
            "_model_module_version": "1.5.0",
            "_model_name": "HTMLModel",
            "_view_count": null,
            "_view_module": "@jupyter-widgets/controls",
            "_view_module_version": "1.5.0",
            "_view_name": "HTMLView",
            "description": "",
            "description_tooltip": null,
            "layout": "IPY_MODEL_f501c830fc3c4dd2bd4bfbbc8703141a",
            "placeholder": "​",
            "style": "IPY_MODEL_40db3d97ec5c481ab932a195fd123aba",
            "value": "Downloading data: 100%"
          }
        },
        "045d6b7590ac460db0f035e4f8ae845b": {
          "model_module": "@jupyter-widgets/controls",
          "model_name": "FloatProgressModel",
          "model_module_version": "1.5.0",
          "state": {
            "_dom_classes": [],
            "_model_module": "@jupyter-widgets/controls",
            "_model_module_version": "1.5.0",
            "_model_name": "FloatProgressModel",
            "_view_count": null,
            "_view_module": "@jupyter-widgets/controls",
            "_view_module_version": "1.5.0",
            "_view_name": "ProgressView",
            "bar_style": "success",
            "description": "",
            "description_tooltip": null,
            "layout": "IPY_MODEL_d016ebfe78af46d9a4d832d210ea4688",
            "max": 30931277,
            "min": 0,
            "orientation": "horizontal",
            "style": "IPY_MODEL_6e377051a0724ffd81165d85fe1977aa",
            "value": 30931277
          }
        },
        "01b66f35c1ab44c198f74d910278a433": {
          "model_module": "@jupyter-widgets/controls",
          "model_name": "HTMLModel",
          "model_module_version": "1.5.0",
          "state": {
            "_dom_classes": [],
            "_model_module": "@jupyter-widgets/controls",
            "_model_module_version": "1.5.0",
            "_model_name": "HTMLModel",
            "_view_count": null,
            "_view_module": "@jupyter-widgets/controls",
            "_view_module_version": "1.5.0",
            "_view_name": "HTMLView",
            "description": "",
            "description_tooltip": null,
            "layout": "IPY_MODEL_0317b1813ff844e59d6c510df22fba19",
            "placeholder": "​",
            "style": "IPY_MODEL_492be37487764ee4b2c1133a60fdd766",
            "value": " 30.9M/30.9M [00:02&lt;00:00, 12.6MB/s]"
          }
        },
        "9d342c79eac84b80953489507251ffa6": {
          "model_module": "@jupyter-widgets/base",
          "model_name": "LayoutModel",
          "model_module_version": "1.2.0",
          "state": {
            "_model_module": "@jupyter-widgets/base",
            "_model_module_version": "1.2.0",
            "_model_name": "LayoutModel",
            "_view_count": null,
            "_view_module": "@jupyter-widgets/base",
            "_view_module_version": "1.2.0",
            "_view_name": "LayoutView",
            "align_content": null,
            "align_items": null,
            "align_self": null,
            "border": null,
            "bottom": null,
            "display": null,
            "flex": null,
            "flex_flow": null,
            "grid_area": null,
            "grid_auto_columns": null,
            "grid_auto_flow": null,
            "grid_auto_rows": null,
            "grid_column": null,
            "grid_gap": null,
            "grid_row": null,
            "grid_template_areas": null,
            "grid_template_columns": null,
            "grid_template_rows": null,
            "height": null,
            "justify_content": null,
            "justify_items": null,
            "left": null,
            "margin": null,
            "max_height": null,
            "max_width": null,
            "min_height": null,
            "min_width": null,
            "object_fit": null,
            "object_position": null,
            "order": null,
            "overflow": null,
            "overflow_x": null,
            "overflow_y": null,
            "padding": null,
            "right": null,
            "top": null,
            "visibility": null,
            "width": null
          }
        },
        "f501c830fc3c4dd2bd4bfbbc8703141a": {
          "model_module": "@jupyter-widgets/base",
          "model_name": "LayoutModel",
          "model_module_version": "1.2.0",
          "state": {
            "_model_module": "@jupyter-widgets/base",
            "_model_module_version": "1.2.0",
            "_model_name": "LayoutModel",
            "_view_count": null,
            "_view_module": "@jupyter-widgets/base",
            "_view_module_version": "1.2.0",
            "_view_name": "LayoutView",
            "align_content": null,
            "align_items": null,
            "align_self": null,
            "border": null,
            "bottom": null,
            "display": null,
            "flex": null,
            "flex_flow": null,
            "grid_area": null,
            "grid_auto_columns": null,
            "grid_auto_flow": null,
            "grid_auto_rows": null,
            "grid_column": null,
            "grid_gap": null,
            "grid_row": null,
            "grid_template_areas": null,
            "grid_template_columns": null,
            "grid_template_rows": null,
            "height": null,
            "justify_content": null,
            "justify_items": null,
            "left": null,
            "margin": null,
            "max_height": null,
            "max_width": null,
            "min_height": null,
            "min_width": null,
            "object_fit": null,
            "object_position": null,
            "order": null,
            "overflow": null,
            "overflow_x": null,
            "overflow_y": null,
            "padding": null,
            "right": null,
            "top": null,
            "visibility": null,
            "width": null
          }
        },
        "40db3d97ec5c481ab932a195fd123aba": {
          "model_module": "@jupyter-widgets/controls",
          "model_name": "DescriptionStyleModel",
          "model_module_version": "1.5.0",
          "state": {
            "_model_module": "@jupyter-widgets/controls",
            "_model_module_version": "1.5.0",
            "_model_name": "DescriptionStyleModel",
            "_view_count": null,
            "_view_module": "@jupyter-widgets/base",
            "_view_module_version": "1.2.0",
            "_view_name": "StyleView",
            "description_width": ""
          }
        },
        "d016ebfe78af46d9a4d832d210ea4688": {
          "model_module": "@jupyter-widgets/base",
          "model_name": "LayoutModel",
          "model_module_version": "1.2.0",
          "state": {
            "_model_module": "@jupyter-widgets/base",
            "_model_module_version": "1.2.0",
            "_model_name": "LayoutModel",
            "_view_count": null,
            "_view_module": "@jupyter-widgets/base",
            "_view_module_version": "1.2.0",
            "_view_name": "LayoutView",
            "align_content": null,
            "align_items": null,
            "align_self": null,
            "border": null,
            "bottom": null,
            "display": null,
            "flex": null,
            "flex_flow": null,
            "grid_area": null,
            "grid_auto_columns": null,
            "grid_auto_flow": null,
            "grid_auto_rows": null,
            "grid_column": null,
            "grid_gap": null,
            "grid_row": null,
            "grid_template_areas": null,
            "grid_template_columns": null,
            "grid_template_rows": null,
            "height": null,
            "justify_content": null,
            "justify_items": null,
            "left": null,
            "margin": null,
            "max_height": null,
            "max_width": null,
            "min_height": null,
            "min_width": null,
            "object_fit": null,
            "object_position": null,
            "order": null,
            "overflow": null,
            "overflow_x": null,
            "overflow_y": null,
            "padding": null,
            "right": null,
            "top": null,
            "visibility": null,
            "width": null
          }
        },
        "6e377051a0724ffd81165d85fe1977aa": {
          "model_module": "@jupyter-widgets/controls",
          "model_name": "ProgressStyleModel",
          "model_module_version": "1.5.0",
          "state": {
            "_model_module": "@jupyter-widgets/controls",
            "_model_module_version": "1.5.0",
            "_model_name": "ProgressStyleModel",
            "_view_count": null,
            "_view_module": "@jupyter-widgets/base",
            "_view_module_version": "1.2.0",
            "_view_name": "StyleView",
            "bar_color": null,
            "description_width": ""
          }
        },
        "0317b1813ff844e59d6c510df22fba19": {
          "model_module": "@jupyter-widgets/base",
          "model_name": "LayoutModel",
          "model_module_version": "1.2.0",
          "state": {
            "_model_module": "@jupyter-widgets/base",
            "_model_module_version": "1.2.0",
            "_model_name": "LayoutModel",
            "_view_count": null,
            "_view_module": "@jupyter-widgets/base",
            "_view_module_version": "1.2.0",
            "_view_name": "LayoutView",
            "align_content": null,
            "align_items": null,
            "align_self": null,
            "border": null,
            "bottom": null,
            "display": null,
            "flex": null,
            "flex_flow": null,
            "grid_area": null,
            "grid_auto_columns": null,
            "grid_auto_flow": null,
            "grid_auto_rows": null,
            "grid_column": null,
            "grid_gap": null,
            "grid_row": null,
            "grid_template_areas": null,
            "grid_template_columns": null,
            "grid_template_rows": null,
            "height": null,
            "justify_content": null,
            "justify_items": null,
            "left": null,
            "margin": null,
            "max_height": null,
            "max_width": null,
            "min_height": null,
            "min_width": null,
            "object_fit": null,
            "object_position": null,
            "order": null,
            "overflow": null,
            "overflow_x": null,
            "overflow_y": null,
            "padding": null,
            "right": null,
            "top": null,
            "visibility": null,
            "width": null
          }
        },
        "492be37487764ee4b2c1133a60fdd766": {
          "model_module": "@jupyter-widgets/controls",
          "model_name": "DescriptionStyleModel",
          "model_module_version": "1.5.0",
          "state": {
            "_model_module": "@jupyter-widgets/controls",
            "_model_module_version": "1.5.0",
            "_model_name": "DescriptionStyleModel",
            "_view_count": null,
            "_view_module": "@jupyter-widgets/base",
            "_view_module_version": "1.2.0",
            "_view_name": "StyleView",
            "description_width": ""
          }
        },
        "8607787941cd4872b980807996c93633": {
          "model_module": "@jupyter-widgets/controls",
          "model_name": "HBoxModel",
          "model_module_version": "1.5.0",
          "state": {
            "_dom_classes": [],
            "_model_module": "@jupyter-widgets/controls",
            "_model_module_version": "1.5.0",
            "_model_name": "HBoxModel",
            "_view_count": null,
            "_view_module": "@jupyter-widgets/controls",
            "_view_module_version": "1.5.0",
            "_view_name": "HBoxView",
            "box_style": "",
            "children": [
              "IPY_MODEL_3420c1b8e71741cbb6d20a2da46dae54",
              "IPY_MODEL_21372882d57c4423843cb7cef03ecdc2",
              "IPY_MODEL_f2a425d04a6f4dcfb5ad8f341aac09f0"
            ],
            "layout": "IPY_MODEL_b3e90dda54de4e0d9a722c561b0c6a01"
          }
        },
        "3420c1b8e71741cbb6d20a2da46dae54": {
          "model_module": "@jupyter-widgets/controls",
          "model_name": "HTMLModel",
          "model_module_version": "1.5.0",
          "state": {
            "_dom_classes": [],
            "_model_module": "@jupyter-widgets/controls",
            "_model_module_version": "1.5.0",
            "_model_name": "HTMLModel",
            "_view_count": null,
            "_view_module": "@jupyter-widgets/controls",
            "_view_module_version": "1.5.0",
            "_view_name": "HTMLView",
            "description": "",
            "description_tooltip": null,
            "layout": "IPY_MODEL_7f8416f2cb09481ca5cf24453614ab1e",
            "placeholder": "​",
            "style": "IPY_MODEL_8de67bca2b5241ddbd24057c4bec0ded",
            "value": "Downloading data: 100%"
          }
        },
        "21372882d57c4423843cb7cef03ecdc2": {
          "model_module": "@jupyter-widgets/controls",
          "model_name": "FloatProgressModel",
          "model_module_version": "1.5.0",
          "state": {
            "_dom_classes": [],
            "_model_module": "@jupyter-widgets/controls",
            "_model_module_version": "1.5.0",
            "_model_name": "FloatProgressModel",
            "_view_count": null,
            "_view_module": "@jupyter-widgets/controls",
            "_view_module_version": "1.5.0",
            "_view_name": "ProgressView",
            "bar_style": "success",
            "description": "",
            "description_tooltip": null,
            "layout": "IPY_MODEL_edd1d159c0ea46958dfa5492cb6c4d9d",
            "max": 5175617,
            "min": 0,
            "orientation": "horizontal",
            "style": "IPY_MODEL_6b8ad05dbb0c4de6b7497615b2f86e3f",
            "value": 5175617
          }
        },
        "f2a425d04a6f4dcfb5ad8f341aac09f0": {
          "model_module": "@jupyter-widgets/controls",
          "model_name": "HTMLModel",
          "model_module_version": "1.5.0",
          "state": {
            "_dom_classes": [],
            "_model_module": "@jupyter-widgets/controls",
            "_model_module_version": "1.5.0",
            "_model_name": "HTMLModel",
            "_view_count": null,
            "_view_module": "@jupyter-widgets/controls",
            "_view_module_version": "1.5.0",
            "_view_name": "HTMLView",
            "description": "",
            "description_tooltip": null,
            "layout": "IPY_MODEL_583b0d9ed78645229a0c029df1f802b9",
            "placeholder": "​",
            "style": "IPY_MODEL_08740b20db194845ba847201cb68b8db",
            "value": " 5.18M/5.18M [00:00&lt;00:00, 6.51MB/s]"
          }
        },
        "b3e90dda54de4e0d9a722c561b0c6a01": {
          "model_module": "@jupyter-widgets/base",
          "model_name": "LayoutModel",
          "model_module_version": "1.2.0",
          "state": {
            "_model_module": "@jupyter-widgets/base",
            "_model_module_version": "1.2.0",
            "_model_name": "LayoutModel",
            "_view_count": null,
            "_view_module": "@jupyter-widgets/base",
            "_view_module_version": "1.2.0",
            "_view_name": "LayoutView",
            "align_content": null,
            "align_items": null,
            "align_self": null,
            "border": null,
            "bottom": null,
            "display": null,
            "flex": null,
            "flex_flow": null,
            "grid_area": null,
            "grid_auto_columns": null,
            "grid_auto_flow": null,
            "grid_auto_rows": null,
            "grid_column": null,
            "grid_gap": null,
            "grid_row": null,
            "grid_template_areas": null,
            "grid_template_columns": null,
            "grid_template_rows": null,
            "height": null,
            "justify_content": null,
            "justify_items": null,
            "left": null,
            "margin": null,
            "max_height": null,
            "max_width": null,
            "min_height": null,
            "min_width": null,
            "object_fit": null,
            "object_position": null,
            "order": null,
            "overflow": null,
            "overflow_x": null,
            "overflow_y": null,
            "padding": null,
            "right": null,
            "top": null,
            "visibility": null,
            "width": null
          }
        },
        "7f8416f2cb09481ca5cf24453614ab1e": {
          "model_module": "@jupyter-widgets/base",
          "model_name": "LayoutModel",
          "model_module_version": "1.2.0",
          "state": {
            "_model_module": "@jupyter-widgets/base",
            "_model_module_version": "1.2.0",
            "_model_name": "LayoutModel",
            "_view_count": null,
            "_view_module": "@jupyter-widgets/base",
            "_view_module_version": "1.2.0",
            "_view_name": "LayoutView",
            "align_content": null,
            "align_items": null,
            "align_self": null,
            "border": null,
            "bottom": null,
            "display": null,
            "flex": null,
            "flex_flow": null,
            "grid_area": null,
            "grid_auto_columns": null,
            "grid_auto_flow": null,
            "grid_auto_rows": null,
            "grid_column": null,
            "grid_gap": null,
            "grid_row": null,
            "grid_template_areas": null,
            "grid_template_columns": null,
            "grid_template_rows": null,
            "height": null,
            "justify_content": null,
            "justify_items": null,
            "left": null,
            "margin": null,
            "max_height": null,
            "max_width": null,
            "min_height": null,
            "min_width": null,
            "object_fit": null,
            "object_position": null,
            "order": null,
            "overflow": null,
            "overflow_x": null,
            "overflow_y": null,
            "padding": null,
            "right": null,
            "top": null,
            "visibility": null,
            "width": null
          }
        },
        "8de67bca2b5241ddbd24057c4bec0ded": {
          "model_module": "@jupyter-widgets/controls",
          "model_name": "DescriptionStyleModel",
          "model_module_version": "1.5.0",
          "state": {
            "_model_module": "@jupyter-widgets/controls",
            "_model_module_version": "1.5.0",
            "_model_name": "DescriptionStyleModel",
            "_view_count": null,
            "_view_module": "@jupyter-widgets/base",
            "_view_module_version": "1.2.0",
            "_view_name": "StyleView",
            "description_width": ""
          }
        },
        "edd1d159c0ea46958dfa5492cb6c4d9d": {
          "model_module": "@jupyter-widgets/base",
          "model_name": "LayoutModel",
          "model_module_version": "1.2.0",
          "state": {
            "_model_module": "@jupyter-widgets/base",
            "_model_module_version": "1.2.0",
            "_model_name": "LayoutModel",
            "_view_count": null,
            "_view_module": "@jupyter-widgets/base",
            "_view_module_version": "1.2.0",
            "_view_name": "LayoutView",
            "align_content": null,
            "align_items": null,
            "align_self": null,
            "border": null,
            "bottom": null,
            "display": null,
            "flex": null,
            "flex_flow": null,
            "grid_area": null,
            "grid_auto_columns": null,
            "grid_auto_flow": null,
            "grid_auto_rows": null,
            "grid_column": null,
            "grid_gap": null,
            "grid_row": null,
            "grid_template_areas": null,
            "grid_template_columns": null,
            "grid_template_rows": null,
            "height": null,
            "justify_content": null,
            "justify_items": null,
            "left": null,
            "margin": null,
            "max_height": null,
            "max_width": null,
            "min_height": null,
            "min_width": null,
            "object_fit": null,
            "object_position": null,
            "order": null,
            "overflow": null,
            "overflow_x": null,
            "overflow_y": null,
            "padding": null,
            "right": null,
            "top": null,
            "visibility": null,
            "width": null
          }
        },
        "6b8ad05dbb0c4de6b7497615b2f86e3f": {
          "model_module": "@jupyter-widgets/controls",
          "model_name": "ProgressStyleModel",
          "model_module_version": "1.5.0",
          "state": {
            "_model_module": "@jupyter-widgets/controls",
            "_model_module_version": "1.5.0",
            "_model_name": "ProgressStyleModel",
            "_view_count": null,
            "_view_module": "@jupyter-widgets/base",
            "_view_module_version": "1.2.0",
            "_view_name": "StyleView",
            "bar_color": null,
            "description_width": ""
          }
        },
        "583b0d9ed78645229a0c029df1f802b9": {
          "model_module": "@jupyter-widgets/base",
          "model_name": "LayoutModel",
          "model_module_version": "1.2.0",
          "state": {
            "_model_module": "@jupyter-widgets/base",
            "_model_module_version": "1.2.0",
            "_model_name": "LayoutModel",
            "_view_count": null,
            "_view_module": "@jupyter-widgets/base",
            "_view_module_version": "1.2.0",
            "_view_name": "LayoutView",
            "align_content": null,
            "align_items": null,
            "align_self": null,
            "border": null,
            "bottom": null,
            "display": null,
            "flex": null,
            "flex_flow": null,
            "grid_area": null,
            "grid_auto_columns": null,
            "grid_auto_flow": null,
            "grid_auto_rows": null,
            "grid_column": null,
            "grid_gap": null,
            "grid_row": null,
            "grid_template_areas": null,
            "grid_template_columns": null,
            "grid_template_rows": null,
            "height": null,
            "justify_content": null,
            "justify_items": null,
            "left": null,
            "margin": null,
            "max_height": null,
            "max_width": null,
            "min_height": null,
            "min_width": null,
            "object_fit": null,
            "object_position": null,
            "order": null,
            "overflow": null,
            "overflow_x": null,
            "overflow_y": null,
            "padding": null,
            "right": null,
            "top": null,
            "visibility": null,
            "width": null
          }
        },
        "08740b20db194845ba847201cb68b8db": {
          "model_module": "@jupyter-widgets/controls",
          "model_name": "DescriptionStyleModel",
          "model_module_version": "1.5.0",
          "state": {
            "_model_module": "@jupyter-widgets/controls",
            "_model_module_version": "1.5.0",
            "_model_name": "DescriptionStyleModel",
            "_view_count": null,
            "_view_module": "@jupyter-widgets/base",
            "_view_module_version": "1.2.0",
            "_view_name": "StyleView",
            "description_width": ""
          }
        },
        "af5b365b5683423c95a1710b8aaa38b2": {
          "model_module": "@jupyter-widgets/controls",
          "model_name": "HBoxModel",
          "model_module_version": "1.5.0",
          "state": {
            "_dom_classes": [],
            "_model_module": "@jupyter-widgets/controls",
            "_model_module_version": "1.5.0",
            "_model_name": "HBoxModel",
            "_view_count": null,
            "_view_module": "@jupyter-widgets/controls",
            "_view_module_version": "1.5.0",
            "_view_name": "HBoxView",
            "box_style": "",
            "children": [
              "IPY_MODEL_f09c2435783645f5a9aaf1fb8aef8ba2",
              "IPY_MODEL_240afb36727d4074801431db9bf2ec07",
              "IPY_MODEL_44b1e458e7e14f67ad716e9d939f65ed"
            ],
            "layout": "IPY_MODEL_bcde7992a4f6475aa9210189206b187e"
          }
        },
        "f09c2435783645f5a9aaf1fb8aef8ba2": {
          "model_module": "@jupyter-widgets/controls",
          "model_name": "HTMLModel",
          "model_module_version": "1.5.0",
          "state": {
            "_dom_classes": [],
            "_model_module": "@jupyter-widgets/controls",
            "_model_module_version": "1.5.0",
            "_model_name": "HTMLModel",
            "_view_count": null,
            "_view_module": "@jupyter-widgets/controls",
            "_view_module_version": "1.5.0",
            "_view_name": "HTMLView",
            "description": "",
            "description_tooltip": null,
            "layout": "IPY_MODEL_098115065896452ea2f1317709e5135a",
            "placeholder": "​",
            "style": "IPY_MODEL_69afc350be764f7ab028213c4d0657a9",
            "value": "Generating train split: "
          }
        },
        "240afb36727d4074801431db9bf2ec07": {
          "model_module": "@jupyter-widgets/controls",
          "model_name": "FloatProgressModel",
          "model_module_version": "1.5.0",
          "state": {
            "_dom_classes": [],
            "_model_module": "@jupyter-widgets/controls",
            "_model_module_version": "1.5.0",
            "_model_name": "FloatProgressModel",
            "_view_count": null,
            "_view_module": "@jupyter-widgets/controls",
            "_view_module_version": "1.5.0",
            "_view_name": "ProgressView",
            "bar_style": "success",
            "description": "",
            "description_tooltip": null,
            "layout": "IPY_MODEL_f5ae4368655a40c3893c18cbff8336ef",
            "max": 1,
            "min": 0,
            "orientation": "horizontal",
            "style": "IPY_MODEL_6e1bc68b98b14b06932d2b6cd80fac9a",
            "value": 1
          }
        },
        "44b1e458e7e14f67ad716e9d939f65ed": {
          "model_module": "@jupyter-widgets/controls",
          "model_name": "HTMLModel",
          "model_module_version": "1.5.0",
          "state": {
            "_dom_classes": [],
            "_model_module": "@jupyter-widgets/controls",
            "_model_module_version": "1.5.0",
            "_model_name": "HTMLModel",
            "_view_count": null,
            "_view_module": "@jupyter-widgets/controls",
            "_view_module_version": "1.5.0",
            "_view_name": "HTMLView",
            "description": "",
            "description_tooltip": null,
            "layout": "IPY_MODEL_a190c57f2b1243ae90c604c1e4e1cb1c",
            "placeholder": "​",
            "style": "IPY_MODEL_6d3c0652e31c46998232f51c46efe6b6",
            "value": " 60000/0 [00:00&lt;00:00, 364564.21 examples/s]"
          }
        },
        "bcde7992a4f6475aa9210189206b187e": {
          "model_module": "@jupyter-widgets/base",
          "model_name": "LayoutModel",
          "model_module_version": "1.2.0",
          "state": {
            "_model_module": "@jupyter-widgets/base",
            "_model_module_version": "1.2.0",
            "_model_name": "LayoutModel",
            "_view_count": null,
            "_view_module": "@jupyter-widgets/base",
            "_view_module_version": "1.2.0",
            "_view_name": "LayoutView",
            "align_content": null,
            "align_items": null,
            "align_self": null,
            "border": null,
            "bottom": null,
            "display": null,
            "flex": null,
            "flex_flow": null,
            "grid_area": null,
            "grid_auto_columns": null,
            "grid_auto_flow": null,
            "grid_auto_rows": null,
            "grid_column": null,
            "grid_gap": null,
            "grid_row": null,
            "grid_template_areas": null,
            "grid_template_columns": null,
            "grid_template_rows": null,
            "height": null,
            "justify_content": null,
            "justify_items": null,
            "left": null,
            "margin": null,
            "max_height": null,
            "max_width": null,
            "min_height": null,
            "min_width": null,
            "object_fit": null,
            "object_position": null,
            "order": null,
            "overflow": null,
            "overflow_x": null,
            "overflow_y": null,
            "padding": null,
            "right": null,
            "top": null,
            "visibility": null,
            "width": null
          }
        },
        "098115065896452ea2f1317709e5135a": {
          "model_module": "@jupyter-widgets/base",
          "model_name": "LayoutModel",
          "model_module_version": "1.2.0",
          "state": {
            "_model_module": "@jupyter-widgets/base",
            "_model_module_version": "1.2.0",
            "_model_name": "LayoutModel",
            "_view_count": null,
            "_view_module": "@jupyter-widgets/base",
            "_view_module_version": "1.2.0",
            "_view_name": "LayoutView",
            "align_content": null,
            "align_items": null,
            "align_self": null,
            "border": null,
            "bottom": null,
            "display": null,
            "flex": null,
            "flex_flow": null,
            "grid_area": null,
            "grid_auto_columns": null,
            "grid_auto_flow": null,
            "grid_auto_rows": null,
            "grid_column": null,
            "grid_gap": null,
            "grid_row": null,
            "grid_template_areas": null,
            "grid_template_columns": null,
            "grid_template_rows": null,
            "height": null,
            "justify_content": null,
            "justify_items": null,
            "left": null,
            "margin": null,
            "max_height": null,
            "max_width": null,
            "min_height": null,
            "min_width": null,
            "object_fit": null,
            "object_position": null,
            "order": null,
            "overflow": null,
            "overflow_x": null,
            "overflow_y": null,
            "padding": null,
            "right": null,
            "top": null,
            "visibility": null,
            "width": null
          }
        },
        "69afc350be764f7ab028213c4d0657a9": {
          "model_module": "@jupyter-widgets/controls",
          "model_name": "DescriptionStyleModel",
          "model_module_version": "1.5.0",
          "state": {
            "_model_module": "@jupyter-widgets/controls",
            "_model_module_version": "1.5.0",
            "_model_name": "DescriptionStyleModel",
            "_view_count": null,
            "_view_module": "@jupyter-widgets/base",
            "_view_module_version": "1.2.0",
            "_view_name": "StyleView",
            "description_width": ""
          }
        },
        "f5ae4368655a40c3893c18cbff8336ef": {
          "model_module": "@jupyter-widgets/base",
          "model_name": "LayoutModel",
          "model_module_version": "1.2.0",
          "state": {
            "_model_module": "@jupyter-widgets/base",
            "_model_module_version": "1.2.0",
            "_model_name": "LayoutModel",
            "_view_count": null,
            "_view_module": "@jupyter-widgets/base",
            "_view_module_version": "1.2.0",
            "_view_name": "LayoutView",
            "align_content": null,
            "align_items": null,
            "align_self": null,
            "border": null,
            "bottom": null,
            "display": null,
            "flex": null,
            "flex_flow": null,
            "grid_area": null,
            "grid_auto_columns": null,
            "grid_auto_flow": null,
            "grid_auto_rows": null,
            "grid_column": null,
            "grid_gap": null,
            "grid_row": null,
            "grid_template_areas": null,
            "grid_template_columns": null,
            "grid_template_rows": null,
            "height": null,
            "justify_content": null,
            "justify_items": null,
            "left": null,
            "margin": null,
            "max_height": null,
            "max_width": null,
            "min_height": null,
            "min_width": null,
            "object_fit": null,
            "object_position": null,
            "order": null,
            "overflow": null,
            "overflow_x": null,
            "overflow_y": null,
            "padding": null,
            "right": null,
            "top": null,
            "visibility": null,
            "width": "20px"
          }
        },
        "6e1bc68b98b14b06932d2b6cd80fac9a": {
          "model_module": "@jupyter-widgets/controls",
          "model_name": "ProgressStyleModel",
          "model_module_version": "1.5.0",
          "state": {
            "_model_module": "@jupyter-widgets/controls",
            "_model_module_version": "1.5.0",
            "_model_name": "ProgressStyleModel",
            "_view_count": null,
            "_view_module": "@jupyter-widgets/base",
            "_view_module_version": "1.2.0",
            "_view_name": "StyleView",
            "bar_color": null,
            "description_width": ""
          }
        },
        "a190c57f2b1243ae90c604c1e4e1cb1c": {
          "model_module": "@jupyter-widgets/base",
          "model_name": "LayoutModel",
          "model_module_version": "1.2.0",
          "state": {
            "_model_module": "@jupyter-widgets/base",
            "_model_module_version": "1.2.0",
            "_model_name": "LayoutModel",
            "_view_count": null,
            "_view_module": "@jupyter-widgets/base",
            "_view_module_version": "1.2.0",
            "_view_name": "LayoutView",
            "align_content": null,
            "align_items": null,
            "align_self": null,
            "border": null,
            "bottom": null,
            "display": null,
            "flex": null,
            "flex_flow": null,
            "grid_area": null,
            "grid_auto_columns": null,
            "grid_auto_flow": null,
            "grid_auto_rows": null,
            "grid_column": null,
            "grid_gap": null,
            "grid_row": null,
            "grid_template_areas": null,
            "grid_template_columns": null,
            "grid_template_rows": null,
            "height": null,
            "justify_content": null,
            "justify_items": null,
            "left": null,
            "margin": null,
            "max_height": null,
            "max_width": null,
            "min_height": null,
            "min_width": null,
            "object_fit": null,
            "object_position": null,
            "order": null,
            "overflow": null,
            "overflow_x": null,
            "overflow_y": null,
            "padding": null,
            "right": null,
            "top": null,
            "visibility": null,
            "width": null
          }
        },
        "6d3c0652e31c46998232f51c46efe6b6": {
          "model_module": "@jupyter-widgets/controls",
          "model_name": "DescriptionStyleModel",
          "model_module_version": "1.5.0",
          "state": {
            "_model_module": "@jupyter-widgets/controls",
            "_model_module_version": "1.5.0",
            "_model_name": "DescriptionStyleModel",
            "_view_count": null,
            "_view_module": "@jupyter-widgets/base",
            "_view_module_version": "1.2.0",
            "_view_name": "StyleView",
            "description_width": ""
          }
        },
        "d3127d6c56134b91b08dab81202d5866": {
          "model_module": "@jupyter-widgets/controls",
          "model_name": "HBoxModel",
          "model_module_version": "1.5.0",
          "state": {
            "_dom_classes": [],
            "_model_module": "@jupyter-widgets/controls",
            "_model_module_version": "1.5.0",
            "_model_name": "HBoxModel",
            "_view_count": null,
            "_view_module": "@jupyter-widgets/controls",
            "_view_module_version": "1.5.0",
            "_view_name": "HBoxView",
            "box_style": "",
            "children": [
              "IPY_MODEL_476631d1eaac4c09813a066bedfa0d77",
              "IPY_MODEL_35511838092f476bb0e54aef1287630d",
              "IPY_MODEL_d882052086e1412ab9acb1fa7cd460f7"
            ],
            "layout": "IPY_MODEL_a764ec6faef94111a747df4735f0a16e"
          }
        },
        "476631d1eaac4c09813a066bedfa0d77": {
          "model_module": "@jupyter-widgets/controls",
          "model_name": "HTMLModel",
          "model_module_version": "1.5.0",
          "state": {
            "_dom_classes": [],
            "_model_module": "@jupyter-widgets/controls",
            "_model_module_version": "1.5.0",
            "_model_name": "HTMLModel",
            "_view_count": null,
            "_view_module": "@jupyter-widgets/controls",
            "_view_module_version": "1.5.0",
            "_view_name": "HTMLView",
            "description": "",
            "description_tooltip": null,
            "layout": "IPY_MODEL_7234a06641a348cb94ca81982f0534e5",
            "placeholder": "​",
            "style": "IPY_MODEL_97f4eab6595848169bc2e987e58d5291",
            "value": "Generating test split: "
          }
        },
        "35511838092f476bb0e54aef1287630d": {
          "model_module": "@jupyter-widgets/controls",
          "model_name": "FloatProgressModel",
          "model_module_version": "1.5.0",
          "state": {
            "_dom_classes": [],
            "_model_module": "@jupyter-widgets/controls",
            "_model_module_version": "1.5.0",
            "_model_name": "FloatProgressModel",
            "_view_count": null,
            "_view_module": "@jupyter-widgets/controls",
            "_view_module_version": "1.5.0",
            "_view_name": "ProgressView",
            "bar_style": "success",
            "description": "",
            "description_tooltip": null,
            "layout": "IPY_MODEL_798e492cef754a52ba768d8f383ffbc3",
            "max": 1,
            "min": 0,
            "orientation": "horizontal",
            "style": "IPY_MODEL_fb71d62d237f4085a5ae9e247b7382cb",
            "value": 1
          }
        },
        "d882052086e1412ab9acb1fa7cd460f7": {
          "model_module": "@jupyter-widgets/controls",
          "model_name": "HTMLModel",
          "model_module_version": "1.5.0",
          "state": {
            "_dom_classes": [],
            "_model_module": "@jupyter-widgets/controls",
            "_model_module_version": "1.5.0",
            "_model_name": "HTMLModel",
            "_view_count": null,
            "_view_module": "@jupyter-widgets/controls",
            "_view_module_version": "1.5.0",
            "_view_name": "HTMLView",
            "description": "",
            "description_tooltip": null,
            "layout": "IPY_MODEL_fb5a9e4751d14fcf9438454046ebe935",
            "placeholder": "​",
            "style": "IPY_MODEL_c1498b06df1c42a689ccbd623ede06e4",
            "value": " 10000/0 [00:00&lt;00:00, 189720.55 examples/s]"
          }
        },
        "a764ec6faef94111a747df4735f0a16e": {
          "model_module": "@jupyter-widgets/base",
          "model_name": "LayoutModel",
          "model_module_version": "1.2.0",
          "state": {
            "_model_module": "@jupyter-widgets/base",
            "_model_module_version": "1.2.0",
            "_model_name": "LayoutModel",
            "_view_count": null,
            "_view_module": "@jupyter-widgets/base",
            "_view_module_version": "1.2.0",
            "_view_name": "LayoutView",
            "align_content": null,
            "align_items": null,
            "align_self": null,
            "border": null,
            "bottom": null,
            "display": null,
            "flex": null,
            "flex_flow": null,
            "grid_area": null,
            "grid_auto_columns": null,
            "grid_auto_flow": null,
            "grid_auto_rows": null,
            "grid_column": null,
            "grid_gap": null,
            "grid_row": null,
            "grid_template_areas": null,
            "grid_template_columns": null,
            "grid_template_rows": null,
            "height": null,
            "justify_content": null,
            "justify_items": null,
            "left": null,
            "margin": null,
            "max_height": null,
            "max_width": null,
            "min_height": null,
            "min_width": null,
            "object_fit": null,
            "object_position": null,
            "order": null,
            "overflow": null,
            "overflow_x": null,
            "overflow_y": null,
            "padding": null,
            "right": null,
            "top": null,
            "visibility": null,
            "width": null
          }
        },
        "7234a06641a348cb94ca81982f0534e5": {
          "model_module": "@jupyter-widgets/base",
          "model_name": "LayoutModel",
          "model_module_version": "1.2.0",
          "state": {
            "_model_module": "@jupyter-widgets/base",
            "_model_module_version": "1.2.0",
            "_model_name": "LayoutModel",
            "_view_count": null,
            "_view_module": "@jupyter-widgets/base",
            "_view_module_version": "1.2.0",
            "_view_name": "LayoutView",
            "align_content": null,
            "align_items": null,
            "align_self": null,
            "border": null,
            "bottom": null,
            "display": null,
            "flex": null,
            "flex_flow": null,
            "grid_area": null,
            "grid_auto_columns": null,
            "grid_auto_flow": null,
            "grid_auto_rows": null,
            "grid_column": null,
            "grid_gap": null,
            "grid_row": null,
            "grid_template_areas": null,
            "grid_template_columns": null,
            "grid_template_rows": null,
            "height": null,
            "justify_content": null,
            "justify_items": null,
            "left": null,
            "margin": null,
            "max_height": null,
            "max_width": null,
            "min_height": null,
            "min_width": null,
            "object_fit": null,
            "object_position": null,
            "order": null,
            "overflow": null,
            "overflow_x": null,
            "overflow_y": null,
            "padding": null,
            "right": null,
            "top": null,
            "visibility": null,
            "width": null
          }
        },
        "97f4eab6595848169bc2e987e58d5291": {
          "model_module": "@jupyter-widgets/controls",
          "model_name": "DescriptionStyleModel",
          "model_module_version": "1.5.0",
          "state": {
            "_model_module": "@jupyter-widgets/controls",
            "_model_module_version": "1.5.0",
            "_model_name": "DescriptionStyleModel",
            "_view_count": null,
            "_view_module": "@jupyter-widgets/base",
            "_view_module_version": "1.2.0",
            "_view_name": "StyleView",
            "description_width": ""
          }
        },
        "798e492cef754a52ba768d8f383ffbc3": {
          "model_module": "@jupyter-widgets/base",
          "model_name": "LayoutModel",
          "model_module_version": "1.2.0",
          "state": {
            "_model_module": "@jupyter-widgets/base",
            "_model_module_version": "1.2.0",
            "_model_name": "LayoutModel",
            "_view_count": null,
            "_view_module": "@jupyter-widgets/base",
            "_view_module_version": "1.2.0",
            "_view_name": "LayoutView",
            "align_content": null,
            "align_items": null,
            "align_self": null,
            "border": null,
            "bottom": null,
            "display": null,
            "flex": null,
            "flex_flow": null,
            "grid_area": null,
            "grid_auto_columns": null,
            "grid_auto_flow": null,
            "grid_auto_rows": null,
            "grid_column": null,
            "grid_gap": null,
            "grid_row": null,
            "grid_template_areas": null,
            "grid_template_columns": null,
            "grid_template_rows": null,
            "height": null,
            "justify_content": null,
            "justify_items": null,
            "left": null,
            "margin": null,
            "max_height": null,
            "max_width": null,
            "min_height": null,
            "min_width": null,
            "object_fit": null,
            "object_position": null,
            "order": null,
            "overflow": null,
            "overflow_x": null,
            "overflow_y": null,
            "padding": null,
            "right": null,
            "top": null,
            "visibility": null,
            "width": "20px"
          }
        },
        "fb71d62d237f4085a5ae9e247b7382cb": {
          "model_module": "@jupyter-widgets/controls",
          "model_name": "ProgressStyleModel",
          "model_module_version": "1.5.0",
          "state": {
            "_model_module": "@jupyter-widgets/controls",
            "_model_module_version": "1.5.0",
            "_model_name": "ProgressStyleModel",
            "_view_count": null,
            "_view_module": "@jupyter-widgets/base",
            "_view_module_version": "1.2.0",
            "_view_name": "StyleView",
            "bar_color": null,
            "description_width": ""
          }
        },
        "fb5a9e4751d14fcf9438454046ebe935": {
          "model_module": "@jupyter-widgets/base",
          "model_name": "LayoutModel",
          "model_module_version": "1.2.0",
          "state": {
            "_model_module": "@jupyter-widgets/base",
            "_model_module_version": "1.2.0",
            "_model_name": "LayoutModel",
            "_view_count": null,
            "_view_module": "@jupyter-widgets/base",
            "_view_module_version": "1.2.0",
            "_view_name": "LayoutView",
            "align_content": null,
            "align_items": null,
            "align_self": null,
            "border": null,
            "bottom": null,
            "display": null,
            "flex": null,
            "flex_flow": null,
            "grid_area": null,
            "grid_auto_columns": null,
            "grid_auto_flow": null,
            "grid_auto_rows": null,
            "grid_column": null,
            "grid_gap": null,
            "grid_row": null,
            "grid_template_areas": null,
            "grid_template_columns": null,
            "grid_template_rows": null,
            "height": null,
            "justify_content": null,
            "justify_items": null,
            "left": null,
            "margin": null,
            "max_height": null,
            "max_width": null,
            "min_height": null,
            "min_width": null,
            "object_fit": null,
            "object_position": null,
            "order": null,
            "overflow": null,
            "overflow_x": null,
            "overflow_y": null,
            "padding": null,
            "right": null,
            "top": null,
            "visibility": null,
            "width": null
          }
        },
        "c1498b06df1c42a689ccbd623ede06e4": {
          "model_module": "@jupyter-widgets/controls",
          "model_name": "DescriptionStyleModel",
          "model_module_version": "1.5.0",
          "state": {
            "_model_module": "@jupyter-widgets/controls",
            "_model_module_version": "1.5.0",
            "_model_name": "DescriptionStyleModel",
            "_view_count": null,
            "_view_module": "@jupyter-widgets/base",
            "_view_module_version": "1.2.0",
            "_view_name": "StyleView",
            "description_width": ""
          }
        },
        "48803d28e37a4bf3ad38de620e8f0555": {
          "model_module": "@jupyter-widgets/controls",
          "model_name": "HBoxModel",
          "model_module_version": "1.5.0",
          "state": {
            "_dom_classes": [],
            "_model_module": "@jupyter-widgets/controls",
            "_model_module_version": "1.5.0",
            "_model_name": "HBoxModel",
            "_view_count": null,
            "_view_module": "@jupyter-widgets/controls",
            "_view_module_version": "1.5.0",
            "_view_name": "HBoxView",
            "box_style": "",
            "children": [
              "IPY_MODEL_d6b09909c1b1464ba4c0e34c089ca2cb",
              "IPY_MODEL_0a6dc1b393784a28ab7ebeab14245bd3",
              "IPY_MODEL_f4e72f8f4fc04b8e9c65be83872649ed"
            ],
            "layout": "IPY_MODEL_38f24caaea2f4817a196914737861cc9"
          }
        },
        "d6b09909c1b1464ba4c0e34c089ca2cb": {
          "model_module": "@jupyter-widgets/controls",
          "model_name": "HTMLModel",
          "model_module_version": "1.5.0",
          "state": {
            "_dom_classes": [],
            "_model_module": "@jupyter-widgets/controls",
            "_model_module_version": "1.5.0",
            "_model_name": "HTMLModel",
            "_view_count": null,
            "_view_module": "@jupyter-widgets/controls",
            "_view_module_version": "1.5.0",
            "_view_name": "HTMLView",
            "description": "",
            "description_tooltip": null,
            "layout": "IPY_MODEL_e6cfdbf067a04ca69e364a470b6647cc",
            "placeholder": "​",
            "style": "IPY_MODEL_001bc30c8b4b4ce8ac157c840489c130",
            "value": "Downloading data: 100%"
          }
        },
        "0a6dc1b393784a28ab7ebeab14245bd3": {
          "model_module": "@jupyter-widgets/controls",
          "model_name": "FloatProgressModel",
          "model_module_version": "1.5.0",
          "state": {
            "_dom_classes": [],
            "_model_module": "@jupyter-widgets/controls",
            "_model_module_version": "1.5.0",
            "_model_name": "FloatProgressModel",
            "_view_count": null,
            "_view_module": "@jupyter-widgets/controls",
            "_view_module_version": "1.5.0",
            "_view_name": "ProgressView",
            "bar_style": "success",
            "description": "",
            "description_tooltip": null,
            "layout": "IPY_MODEL_cedf6631ad4e46c8b8d80effc3a35717",
            "max": 30931277,
            "min": 0,
            "orientation": "horizontal",
            "style": "IPY_MODEL_c0f1348fa25d486285a50243432c7195",
            "value": 30931277
          }
        },
        "f4e72f8f4fc04b8e9c65be83872649ed": {
          "model_module": "@jupyter-widgets/controls",
          "model_name": "HTMLModel",
          "model_module_version": "1.5.0",
          "state": {
            "_dom_classes": [],
            "_model_module": "@jupyter-widgets/controls",
            "_model_module_version": "1.5.0",
            "_model_name": "HTMLModel",
            "_view_count": null,
            "_view_module": "@jupyter-widgets/controls",
            "_view_module_version": "1.5.0",
            "_view_name": "HTMLView",
            "description": "",
            "description_tooltip": null,
            "layout": "IPY_MODEL_19096a74a8744c03ae83251b134250bd",
            "placeholder": "​",
            "style": "IPY_MODEL_96f6a10adda24e82a78f20162bc97523",
            "value": " 30.9M/30.9M [00:10&lt;00:00, 3.08MB/s]"
          }
        },
        "38f24caaea2f4817a196914737861cc9": {
          "model_module": "@jupyter-widgets/base",
          "model_name": "LayoutModel",
          "model_module_version": "1.2.0",
          "state": {
            "_model_module": "@jupyter-widgets/base",
            "_model_module_version": "1.2.0",
            "_model_name": "LayoutModel",
            "_view_count": null,
            "_view_module": "@jupyter-widgets/base",
            "_view_module_version": "1.2.0",
            "_view_name": "LayoutView",
            "align_content": null,
            "align_items": null,
            "align_self": null,
            "border": null,
            "bottom": null,
            "display": null,
            "flex": null,
            "flex_flow": null,
            "grid_area": null,
            "grid_auto_columns": null,
            "grid_auto_flow": null,
            "grid_auto_rows": null,
            "grid_column": null,
            "grid_gap": null,
            "grid_row": null,
            "grid_template_areas": null,
            "grid_template_columns": null,
            "grid_template_rows": null,
            "height": null,
            "justify_content": null,
            "justify_items": null,
            "left": null,
            "margin": null,
            "max_height": null,
            "max_width": null,
            "min_height": null,
            "min_width": null,
            "object_fit": null,
            "object_position": null,
            "order": null,
            "overflow": null,
            "overflow_x": null,
            "overflow_y": null,
            "padding": null,
            "right": null,
            "top": null,
            "visibility": null,
            "width": null
          }
        },
        "e6cfdbf067a04ca69e364a470b6647cc": {
          "model_module": "@jupyter-widgets/base",
          "model_name": "LayoutModel",
          "model_module_version": "1.2.0",
          "state": {
            "_model_module": "@jupyter-widgets/base",
            "_model_module_version": "1.2.0",
            "_model_name": "LayoutModel",
            "_view_count": null,
            "_view_module": "@jupyter-widgets/base",
            "_view_module_version": "1.2.0",
            "_view_name": "LayoutView",
            "align_content": null,
            "align_items": null,
            "align_self": null,
            "border": null,
            "bottom": null,
            "display": null,
            "flex": null,
            "flex_flow": null,
            "grid_area": null,
            "grid_auto_columns": null,
            "grid_auto_flow": null,
            "grid_auto_rows": null,
            "grid_column": null,
            "grid_gap": null,
            "grid_row": null,
            "grid_template_areas": null,
            "grid_template_columns": null,
            "grid_template_rows": null,
            "height": null,
            "justify_content": null,
            "justify_items": null,
            "left": null,
            "margin": null,
            "max_height": null,
            "max_width": null,
            "min_height": null,
            "min_width": null,
            "object_fit": null,
            "object_position": null,
            "order": null,
            "overflow": null,
            "overflow_x": null,
            "overflow_y": null,
            "padding": null,
            "right": null,
            "top": null,
            "visibility": null,
            "width": null
          }
        },
        "001bc30c8b4b4ce8ac157c840489c130": {
          "model_module": "@jupyter-widgets/controls",
          "model_name": "DescriptionStyleModel",
          "model_module_version": "1.5.0",
          "state": {
            "_model_module": "@jupyter-widgets/controls",
            "_model_module_version": "1.5.0",
            "_model_name": "DescriptionStyleModel",
            "_view_count": null,
            "_view_module": "@jupyter-widgets/base",
            "_view_module_version": "1.2.0",
            "_view_name": "StyleView",
            "description_width": ""
          }
        },
        "cedf6631ad4e46c8b8d80effc3a35717": {
          "model_module": "@jupyter-widgets/base",
          "model_name": "LayoutModel",
          "model_module_version": "1.2.0",
          "state": {
            "_model_module": "@jupyter-widgets/base",
            "_model_module_version": "1.2.0",
            "_model_name": "LayoutModel",
            "_view_count": null,
            "_view_module": "@jupyter-widgets/base",
            "_view_module_version": "1.2.0",
            "_view_name": "LayoutView",
            "align_content": null,
            "align_items": null,
            "align_self": null,
            "border": null,
            "bottom": null,
            "display": null,
            "flex": null,
            "flex_flow": null,
            "grid_area": null,
            "grid_auto_columns": null,
            "grid_auto_flow": null,
            "grid_auto_rows": null,
            "grid_column": null,
            "grid_gap": null,
            "grid_row": null,
            "grid_template_areas": null,
            "grid_template_columns": null,
            "grid_template_rows": null,
            "height": null,
            "justify_content": null,
            "justify_items": null,
            "left": null,
            "margin": null,
            "max_height": null,
            "max_width": null,
            "min_height": null,
            "min_width": null,
            "object_fit": null,
            "object_position": null,
            "order": null,
            "overflow": null,
            "overflow_x": null,
            "overflow_y": null,
            "padding": null,
            "right": null,
            "top": null,
            "visibility": null,
            "width": null
          }
        },
        "c0f1348fa25d486285a50243432c7195": {
          "model_module": "@jupyter-widgets/controls",
          "model_name": "ProgressStyleModel",
          "model_module_version": "1.5.0",
          "state": {
            "_model_module": "@jupyter-widgets/controls",
            "_model_module_version": "1.5.0",
            "_model_name": "ProgressStyleModel",
            "_view_count": null,
            "_view_module": "@jupyter-widgets/base",
            "_view_module_version": "1.2.0",
            "_view_name": "StyleView",
            "bar_color": null,
            "description_width": ""
          }
        },
        "19096a74a8744c03ae83251b134250bd": {
          "model_module": "@jupyter-widgets/base",
          "model_name": "LayoutModel",
          "model_module_version": "1.2.0",
          "state": {
            "_model_module": "@jupyter-widgets/base",
            "_model_module_version": "1.2.0",
            "_model_name": "LayoutModel",
            "_view_count": null,
            "_view_module": "@jupyter-widgets/base",
            "_view_module_version": "1.2.0",
            "_view_name": "LayoutView",
            "align_content": null,
            "align_items": null,
            "align_self": null,
            "border": null,
            "bottom": null,
            "display": null,
            "flex": null,
            "flex_flow": null,
            "grid_area": null,
            "grid_auto_columns": null,
            "grid_auto_flow": null,
            "grid_auto_rows": null,
            "grid_column": null,
            "grid_gap": null,
            "grid_row": null,
            "grid_template_areas": null,
            "grid_template_columns": null,
            "grid_template_rows": null,
            "height": null,
            "justify_content": null,
            "justify_items": null,
            "left": null,
            "margin": null,
            "max_height": null,
            "max_width": null,
            "min_height": null,
            "min_width": null,
            "object_fit": null,
            "object_position": null,
            "order": null,
            "overflow": null,
            "overflow_x": null,
            "overflow_y": null,
            "padding": null,
            "right": null,
            "top": null,
            "visibility": null,
            "width": null
          }
        },
        "96f6a10adda24e82a78f20162bc97523": {
          "model_module": "@jupyter-widgets/controls",
          "model_name": "DescriptionStyleModel",
          "model_module_version": "1.5.0",
          "state": {
            "_model_module": "@jupyter-widgets/controls",
            "_model_module_version": "1.5.0",
            "_model_name": "DescriptionStyleModel",
            "_view_count": null,
            "_view_module": "@jupyter-widgets/base",
            "_view_module_version": "1.2.0",
            "_view_name": "StyleView",
            "description_width": ""
          }
        },
        "bff261f1873c4407b1a05a1df89435bf": {
          "model_module": "@jupyter-widgets/controls",
          "model_name": "HBoxModel",
          "model_module_version": "1.5.0",
          "state": {
            "_dom_classes": [],
            "_model_module": "@jupyter-widgets/controls",
            "_model_module_version": "1.5.0",
            "_model_name": "HBoxModel",
            "_view_count": null,
            "_view_module": "@jupyter-widgets/controls",
            "_view_module_version": "1.5.0",
            "_view_name": "HBoxView",
            "box_style": "",
            "children": [
              "IPY_MODEL_f1a65c73ca314849ba4a9fbb29c1f1de",
              "IPY_MODEL_448d5d29f1394fdb9ae72b86cba3b86d",
              "IPY_MODEL_7609441e7a534ba89e89d9a74dbf099e"
            ],
            "layout": "IPY_MODEL_9117f38c852d4e9cbd6c73bcf26cd7b1"
          }
        },
        "f1a65c73ca314849ba4a9fbb29c1f1de": {
          "model_module": "@jupyter-widgets/controls",
          "model_name": "HTMLModel",
          "model_module_version": "1.5.0",
          "state": {
            "_dom_classes": [],
            "_model_module": "@jupyter-widgets/controls",
            "_model_module_version": "1.5.0",
            "_model_name": "HTMLModel",
            "_view_count": null,
            "_view_module": "@jupyter-widgets/controls",
            "_view_module_version": "1.5.0",
            "_view_name": "HTMLView",
            "description": "",
            "description_tooltip": null,
            "layout": "IPY_MODEL_053f8c434ef94d0eb31694811a4ee623",
            "placeholder": "​",
            "style": "IPY_MODEL_16c4aca137e74951808daf224bacae74",
            "value": "Downloading data: 100%"
          }
        },
        "448d5d29f1394fdb9ae72b86cba3b86d": {
          "model_module": "@jupyter-widgets/controls",
          "model_name": "FloatProgressModel",
          "model_module_version": "1.5.0",
          "state": {
            "_dom_classes": [],
            "_model_module": "@jupyter-widgets/controls",
            "_model_module_version": "1.5.0",
            "_model_name": "FloatProgressModel",
            "_view_count": null,
            "_view_module": "@jupyter-widgets/controls",
            "_view_module_version": "1.5.0",
            "_view_name": "ProgressView",
            "bar_style": "success",
            "description": "",
            "description_tooltip": null,
            "layout": "IPY_MODEL_410272ee3686496eb586c5ed2d45b353",
            "max": 5175617,
            "min": 0,
            "orientation": "horizontal",
            "style": "IPY_MODEL_d70189a9420142ee933c74daf593d171",
            "value": 5175617
          }
        },
        "7609441e7a534ba89e89d9a74dbf099e": {
          "model_module": "@jupyter-widgets/controls",
          "model_name": "HTMLModel",
          "model_module_version": "1.5.0",
          "state": {
            "_dom_classes": [],
            "_model_module": "@jupyter-widgets/controls",
            "_model_module_version": "1.5.0",
            "_model_name": "HTMLModel",
            "_view_count": null,
            "_view_module": "@jupyter-widgets/controls",
            "_view_module_version": "1.5.0",
            "_view_name": "HTMLView",
            "description": "",
            "description_tooltip": null,
            "layout": "IPY_MODEL_94d8a90545594f35aef04f127deb8dc6",
            "placeholder": "​",
            "style": "IPY_MODEL_104b166b991a473eb8c87bf804ef2090",
            "value": " 5.18M/5.18M [00:03&lt;00:00, 1.14MB/s]"
          }
        },
        "9117f38c852d4e9cbd6c73bcf26cd7b1": {
          "model_module": "@jupyter-widgets/base",
          "model_name": "LayoutModel",
          "model_module_version": "1.2.0",
          "state": {
            "_model_module": "@jupyter-widgets/base",
            "_model_module_version": "1.2.0",
            "_model_name": "LayoutModel",
            "_view_count": null,
            "_view_module": "@jupyter-widgets/base",
            "_view_module_version": "1.2.0",
            "_view_name": "LayoutView",
            "align_content": null,
            "align_items": null,
            "align_self": null,
            "border": null,
            "bottom": null,
            "display": null,
            "flex": null,
            "flex_flow": null,
            "grid_area": null,
            "grid_auto_columns": null,
            "grid_auto_flow": null,
            "grid_auto_rows": null,
            "grid_column": null,
            "grid_gap": null,
            "grid_row": null,
            "grid_template_areas": null,
            "grid_template_columns": null,
            "grid_template_rows": null,
            "height": null,
            "justify_content": null,
            "justify_items": null,
            "left": null,
            "margin": null,
            "max_height": null,
            "max_width": null,
            "min_height": null,
            "min_width": null,
            "object_fit": null,
            "object_position": null,
            "order": null,
            "overflow": null,
            "overflow_x": null,
            "overflow_y": null,
            "padding": null,
            "right": null,
            "top": null,
            "visibility": null,
            "width": null
          }
        },
        "053f8c434ef94d0eb31694811a4ee623": {
          "model_module": "@jupyter-widgets/base",
          "model_name": "LayoutModel",
          "model_module_version": "1.2.0",
          "state": {
            "_model_module": "@jupyter-widgets/base",
            "_model_module_version": "1.2.0",
            "_model_name": "LayoutModel",
            "_view_count": null,
            "_view_module": "@jupyter-widgets/base",
            "_view_module_version": "1.2.0",
            "_view_name": "LayoutView",
            "align_content": null,
            "align_items": null,
            "align_self": null,
            "border": null,
            "bottom": null,
            "display": null,
            "flex": null,
            "flex_flow": null,
            "grid_area": null,
            "grid_auto_columns": null,
            "grid_auto_flow": null,
            "grid_auto_rows": null,
            "grid_column": null,
            "grid_gap": null,
            "grid_row": null,
            "grid_template_areas": null,
            "grid_template_columns": null,
            "grid_template_rows": null,
            "height": null,
            "justify_content": null,
            "justify_items": null,
            "left": null,
            "margin": null,
            "max_height": null,
            "max_width": null,
            "min_height": null,
            "min_width": null,
            "object_fit": null,
            "object_position": null,
            "order": null,
            "overflow": null,
            "overflow_x": null,
            "overflow_y": null,
            "padding": null,
            "right": null,
            "top": null,
            "visibility": null,
            "width": null
          }
        },
        "16c4aca137e74951808daf224bacae74": {
          "model_module": "@jupyter-widgets/controls",
          "model_name": "DescriptionStyleModel",
          "model_module_version": "1.5.0",
          "state": {
            "_model_module": "@jupyter-widgets/controls",
            "_model_module_version": "1.5.0",
            "_model_name": "DescriptionStyleModel",
            "_view_count": null,
            "_view_module": "@jupyter-widgets/base",
            "_view_module_version": "1.2.0",
            "_view_name": "StyleView",
            "description_width": ""
          }
        },
        "410272ee3686496eb586c5ed2d45b353": {
          "model_module": "@jupyter-widgets/base",
          "model_name": "LayoutModel",
          "model_module_version": "1.2.0",
          "state": {
            "_model_module": "@jupyter-widgets/base",
            "_model_module_version": "1.2.0",
            "_model_name": "LayoutModel",
            "_view_count": null,
            "_view_module": "@jupyter-widgets/base",
            "_view_module_version": "1.2.0",
            "_view_name": "LayoutView",
            "align_content": null,
            "align_items": null,
            "align_self": null,
            "border": null,
            "bottom": null,
            "display": null,
            "flex": null,
            "flex_flow": null,
            "grid_area": null,
            "grid_auto_columns": null,
            "grid_auto_flow": null,
            "grid_auto_rows": null,
            "grid_column": null,
            "grid_gap": null,
            "grid_row": null,
            "grid_template_areas": null,
            "grid_template_columns": null,
            "grid_template_rows": null,
            "height": null,
            "justify_content": null,
            "justify_items": null,
            "left": null,
            "margin": null,
            "max_height": null,
            "max_width": null,
            "min_height": null,
            "min_width": null,
            "object_fit": null,
            "object_position": null,
            "order": null,
            "overflow": null,
            "overflow_x": null,
            "overflow_y": null,
            "padding": null,
            "right": null,
            "top": null,
            "visibility": null,
            "width": null
          }
        },
        "d70189a9420142ee933c74daf593d171": {
          "model_module": "@jupyter-widgets/controls",
          "model_name": "ProgressStyleModel",
          "model_module_version": "1.5.0",
          "state": {
            "_model_module": "@jupyter-widgets/controls",
            "_model_module_version": "1.5.0",
            "_model_name": "ProgressStyleModel",
            "_view_count": null,
            "_view_module": "@jupyter-widgets/base",
            "_view_module_version": "1.2.0",
            "_view_name": "StyleView",
            "bar_color": null,
            "description_width": ""
          }
        },
        "94d8a90545594f35aef04f127deb8dc6": {
          "model_module": "@jupyter-widgets/base",
          "model_name": "LayoutModel",
          "model_module_version": "1.2.0",
          "state": {
            "_model_module": "@jupyter-widgets/base",
            "_model_module_version": "1.2.0",
            "_model_name": "LayoutModel",
            "_view_count": null,
            "_view_module": "@jupyter-widgets/base",
            "_view_module_version": "1.2.0",
            "_view_name": "LayoutView",
            "align_content": null,
            "align_items": null,
            "align_self": null,
            "border": null,
            "bottom": null,
            "display": null,
            "flex": null,
            "flex_flow": null,
            "grid_area": null,
            "grid_auto_columns": null,
            "grid_auto_flow": null,
            "grid_auto_rows": null,
            "grid_column": null,
            "grid_gap": null,
            "grid_row": null,
            "grid_template_areas": null,
            "grid_template_columns": null,
            "grid_template_rows": null,
            "height": null,
            "justify_content": null,
            "justify_items": null,
            "left": null,
            "margin": null,
            "max_height": null,
            "max_width": null,
            "min_height": null,
            "min_width": null,
            "object_fit": null,
            "object_position": null,
            "order": null,
            "overflow": null,
            "overflow_x": null,
            "overflow_y": null,
            "padding": null,
            "right": null,
            "top": null,
            "visibility": null,
            "width": null
          }
        },
        "104b166b991a473eb8c87bf804ef2090": {
          "model_module": "@jupyter-widgets/controls",
          "model_name": "DescriptionStyleModel",
          "model_module_version": "1.5.0",
          "state": {
            "_model_module": "@jupyter-widgets/controls",
            "_model_module_version": "1.5.0",
            "_model_name": "DescriptionStyleModel",
            "_view_count": null,
            "_view_module": "@jupyter-widgets/base",
            "_view_module_version": "1.2.0",
            "_view_name": "StyleView",
            "description_width": ""
          }
        },
        "933ac673735d48b38d5bc6119412a695": {
          "model_module": "@jupyter-widgets/controls",
          "model_name": "HBoxModel",
          "model_module_version": "1.5.0",
          "state": {
            "_dom_classes": [],
            "_model_module": "@jupyter-widgets/controls",
            "_model_module_version": "1.5.0",
            "_model_name": "HBoxModel",
            "_view_count": null,
            "_view_module": "@jupyter-widgets/controls",
            "_view_module_version": "1.5.0",
            "_view_name": "HBoxView",
            "box_style": "",
            "children": [
              "IPY_MODEL_3cd809022335455c9ecb37721feb6ed0",
              "IPY_MODEL_4559650de4d74d70a5db9cfb1f99e339",
              "IPY_MODEL_dac910a1446a468fb24e38ad606eee50"
            ],
            "layout": "IPY_MODEL_c0f67bac26384333a44dca1fa0569d6a"
          }
        },
        "3cd809022335455c9ecb37721feb6ed0": {
          "model_module": "@jupyter-widgets/controls",
          "model_name": "HTMLModel",
          "model_module_version": "1.5.0",
          "state": {
            "_dom_classes": [],
            "_model_module": "@jupyter-widgets/controls",
            "_model_module_version": "1.5.0",
            "_model_name": "HTMLModel",
            "_view_count": null,
            "_view_module": "@jupyter-widgets/controls",
            "_view_module_version": "1.5.0",
            "_view_name": "HTMLView",
            "description": "",
            "description_tooltip": null,
            "layout": "IPY_MODEL_2871c365b2cc4669bdeea190343a9508",
            "placeholder": "​",
            "style": "IPY_MODEL_69d7413ba8bc4ba0823f8d69609a378b",
            "value": "Generating train split: "
          }
        },
        "4559650de4d74d70a5db9cfb1f99e339": {
          "model_module": "@jupyter-widgets/controls",
          "model_name": "FloatProgressModel",
          "model_module_version": "1.5.0",
          "state": {
            "_dom_classes": [],
            "_model_module": "@jupyter-widgets/controls",
            "_model_module_version": "1.5.0",
            "_model_name": "FloatProgressModel",
            "_view_count": null,
            "_view_module": "@jupyter-widgets/controls",
            "_view_module_version": "1.5.0",
            "_view_name": "ProgressView",
            "bar_style": "success",
            "description": "",
            "description_tooltip": null,
            "layout": "IPY_MODEL_717b98a388c742819a5faa83ca56cb84",
            "max": 1,
            "min": 0,
            "orientation": "horizontal",
            "style": "IPY_MODEL_bf2114366add4cd39129604886b8169d",
            "value": 1
          }
        },
        "dac910a1446a468fb24e38ad606eee50": {
          "model_module": "@jupyter-widgets/controls",
          "model_name": "HTMLModel",
          "model_module_version": "1.5.0",
          "state": {
            "_dom_classes": [],
            "_model_module": "@jupyter-widgets/controls",
            "_model_module_version": "1.5.0",
            "_model_name": "HTMLModel",
            "_view_count": null,
            "_view_module": "@jupyter-widgets/controls",
            "_view_module_version": "1.5.0",
            "_view_name": "HTMLView",
            "description": "",
            "description_tooltip": null,
            "layout": "IPY_MODEL_b545d602eb5b4361b502bf2b73c35a4f",
            "placeholder": "​",
            "style": "IPY_MODEL_d54b3a9d7044433db00190dc1443a085",
            "value": " 60000/0 [00:00&lt;00:00, 253418.10 examples/s]"
          }
        },
        "c0f67bac26384333a44dca1fa0569d6a": {
          "model_module": "@jupyter-widgets/base",
          "model_name": "LayoutModel",
          "model_module_version": "1.2.0",
          "state": {
            "_model_module": "@jupyter-widgets/base",
            "_model_module_version": "1.2.0",
            "_model_name": "LayoutModel",
            "_view_count": null,
            "_view_module": "@jupyter-widgets/base",
            "_view_module_version": "1.2.0",
            "_view_name": "LayoutView",
            "align_content": null,
            "align_items": null,
            "align_self": null,
            "border": null,
            "bottom": null,
            "display": null,
            "flex": null,
            "flex_flow": null,
            "grid_area": null,
            "grid_auto_columns": null,
            "grid_auto_flow": null,
            "grid_auto_rows": null,
            "grid_column": null,
            "grid_gap": null,
            "grid_row": null,
            "grid_template_areas": null,
            "grid_template_columns": null,
            "grid_template_rows": null,
            "height": null,
            "justify_content": null,
            "justify_items": null,
            "left": null,
            "margin": null,
            "max_height": null,
            "max_width": null,
            "min_height": null,
            "min_width": null,
            "object_fit": null,
            "object_position": null,
            "order": null,
            "overflow": null,
            "overflow_x": null,
            "overflow_y": null,
            "padding": null,
            "right": null,
            "top": null,
            "visibility": null,
            "width": null
          }
        },
        "2871c365b2cc4669bdeea190343a9508": {
          "model_module": "@jupyter-widgets/base",
          "model_name": "LayoutModel",
          "model_module_version": "1.2.0",
          "state": {
            "_model_module": "@jupyter-widgets/base",
            "_model_module_version": "1.2.0",
            "_model_name": "LayoutModel",
            "_view_count": null,
            "_view_module": "@jupyter-widgets/base",
            "_view_module_version": "1.2.0",
            "_view_name": "LayoutView",
            "align_content": null,
            "align_items": null,
            "align_self": null,
            "border": null,
            "bottom": null,
            "display": null,
            "flex": null,
            "flex_flow": null,
            "grid_area": null,
            "grid_auto_columns": null,
            "grid_auto_flow": null,
            "grid_auto_rows": null,
            "grid_column": null,
            "grid_gap": null,
            "grid_row": null,
            "grid_template_areas": null,
            "grid_template_columns": null,
            "grid_template_rows": null,
            "height": null,
            "justify_content": null,
            "justify_items": null,
            "left": null,
            "margin": null,
            "max_height": null,
            "max_width": null,
            "min_height": null,
            "min_width": null,
            "object_fit": null,
            "object_position": null,
            "order": null,
            "overflow": null,
            "overflow_x": null,
            "overflow_y": null,
            "padding": null,
            "right": null,
            "top": null,
            "visibility": null,
            "width": null
          }
        },
        "69d7413ba8bc4ba0823f8d69609a378b": {
          "model_module": "@jupyter-widgets/controls",
          "model_name": "DescriptionStyleModel",
          "model_module_version": "1.5.0",
          "state": {
            "_model_module": "@jupyter-widgets/controls",
            "_model_module_version": "1.5.0",
            "_model_name": "DescriptionStyleModel",
            "_view_count": null,
            "_view_module": "@jupyter-widgets/base",
            "_view_module_version": "1.2.0",
            "_view_name": "StyleView",
            "description_width": ""
          }
        },
        "717b98a388c742819a5faa83ca56cb84": {
          "model_module": "@jupyter-widgets/base",
          "model_name": "LayoutModel",
          "model_module_version": "1.2.0",
          "state": {
            "_model_module": "@jupyter-widgets/base",
            "_model_module_version": "1.2.0",
            "_model_name": "LayoutModel",
            "_view_count": null,
            "_view_module": "@jupyter-widgets/base",
            "_view_module_version": "1.2.0",
            "_view_name": "LayoutView",
            "align_content": null,
            "align_items": null,
            "align_self": null,
            "border": null,
            "bottom": null,
            "display": null,
            "flex": null,
            "flex_flow": null,
            "grid_area": null,
            "grid_auto_columns": null,
            "grid_auto_flow": null,
            "grid_auto_rows": null,
            "grid_column": null,
            "grid_gap": null,
            "grid_row": null,
            "grid_template_areas": null,
            "grid_template_columns": null,
            "grid_template_rows": null,
            "height": null,
            "justify_content": null,
            "justify_items": null,
            "left": null,
            "margin": null,
            "max_height": null,
            "max_width": null,
            "min_height": null,
            "min_width": null,
            "object_fit": null,
            "object_position": null,
            "order": null,
            "overflow": null,
            "overflow_x": null,
            "overflow_y": null,
            "padding": null,
            "right": null,
            "top": null,
            "visibility": null,
            "width": "20px"
          }
        },
        "bf2114366add4cd39129604886b8169d": {
          "model_module": "@jupyter-widgets/controls",
          "model_name": "ProgressStyleModel",
          "model_module_version": "1.5.0",
          "state": {
            "_model_module": "@jupyter-widgets/controls",
            "_model_module_version": "1.5.0",
            "_model_name": "ProgressStyleModel",
            "_view_count": null,
            "_view_module": "@jupyter-widgets/base",
            "_view_module_version": "1.2.0",
            "_view_name": "StyleView",
            "bar_color": null,
            "description_width": ""
          }
        },
        "b545d602eb5b4361b502bf2b73c35a4f": {
          "model_module": "@jupyter-widgets/base",
          "model_name": "LayoutModel",
          "model_module_version": "1.2.0",
          "state": {
            "_model_module": "@jupyter-widgets/base",
            "_model_module_version": "1.2.0",
            "_model_name": "LayoutModel",
            "_view_count": null,
            "_view_module": "@jupyter-widgets/base",
            "_view_module_version": "1.2.0",
            "_view_name": "LayoutView",
            "align_content": null,
            "align_items": null,
            "align_self": null,
            "border": null,
            "bottom": null,
            "display": null,
            "flex": null,
            "flex_flow": null,
            "grid_area": null,
            "grid_auto_columns": null,
            "grid_auto_flow": null,
            "grid_auto_rows": null,
            "grid_column": null,
            "grid_gap": null,
            "grid_row": null,
            "grid_template_areas": null,
            "grid_template_columns": null,
            "grid_template_rows": null,
            "height": null,
            "justify_content": null,
            "justify_items": null,
            "left": null,
            "margin": null,
            "max_height": null,
            "max_width": null,
            "min_height": null,
            "min_width": null,
            "object_fit": null,
            "object_position": null,
            "order": null,
            "overflow": null,
            "overflow_x": null,
            "overflow_y": null,
            "padding": null,
            "right": null,
            "top": null,
            "visibility": null,
            "width": null
          }
        },
        "d54b3a9d7044433db00190dc1443a085": {
          "model_module": "@jupyter-widgets/controls",
          "model_name": "DescriptionStyleModel",
          "model_module_version": "1.5.0",
          "state": {
            "_model_module": "@jupyter-widgets/controls",
            "_model_module_version": "1.5.0",
            "_model_name": "DescriptionStyleModel",
            "_view_count": null,
            "_view_module": "@jupyter-widgets/base",
            "_view_module_version": "1.2.0",
            "_view_name": "StyleView",
            "description_width": ""
          }
        },
        "a0d84ef48cd1466bbac1290a0535f1b9": {
          "model_module": "@jupyter-widgets/controls",
          "model_name": "HBoxModel",
          "model_module_version": "1.5.0",
          "state": {
            "_dom_classes": [],
            "_model_module": "@jupyter-widgets/controls",
            "_model_module_version": "1.5.0",
            "_model_name": "HBoxModel",
            "_view_count": null,
            "_view_module": "@jupyter-widgets/controls",
            "_view_module_version": "1.5.0",
            "_view_name": "HBoxView",
            "box_style": "",
            "children": [
              "IPY_MODEL_0de5753ae7a24ad7b25355dfa383d9c2",
              "IPY_MODEL_c6af42adc504430eaf80effe34bdca7b",
              "IPY_MODEL_f2c1864e6a8a477dac4a0cd30a55dc20"
            ],
            "layout": "IPY_MODEL_a8beff89c6a14ae3b2c9f14783c3c867"
          }
        },
        "0de5753ae7a24ad7b25355dfa383d9c2": {
          "model_module": "@jupyter-widgets/controls",
          "model_name": "HTMLModel",
          "model_module_version": "1.5.0",
          "state": {
            "_dom_classes": [],
            "_model_module": "@jupyter-widgets/controls",
            "_model_module_version": "1.5.0",
            "_model_name": "HTMLModel",
            "_view_count": null,
            "_view_module": "@jupyter-widgets/controls",
            "_view_module_version": "1.5.0",
            "_view_name": "HTMLView",
            "description": "",
            "description_tooltip": null,
            "layout": "IPY_MODEL_2caa5f7da5034e70b011079c1c80ee0a",
            "placeholder": "​",
            "style": "IPY_MODEL_cca97721c30f4e16a2199b49d27a093b",
            "value": "Generating test split: "
          }
        },
        "c6af42adc504430eaf80effe34bdca7b": {
          "model_module": "@jupyter-widgets/controls",
          "model_name": "FloatProgressModel",
          "model_module_version": "1.5.0",
          "state": {
            "_dom_classes": [],
            "_model_module": "@jupyter-widgets/controls",
            "_model_module_version": "1.5.0",
            "_model_name": "FloatProgressModel",
            "_view_count": null,
            "_view_module": "@jupyter-widgets/controls",
            "_view_module_version": "1.5.0",
            "_view_name": "ProgressView",
            "bar_style": "success",
            "description": "",
            "description_tooltip": null,
            "layout": "IPY_MODEL_672a72f5ae29495a9abb50520aca9bcd",
            "max": 1,
            "min": 0,
            "orientation": "horizontal",
            "style": "IPY_MODEL_eb20f7fd14fa42cca123df436d1ae62f",
            "value": 1
          }
        },
        "f2c1864e6a8a477dac4a0cd30a55dc20": {
          "model_module": "@jupyter-widgets/controls",
          "model_name": "HTMLModel",
          "model_module_version": "1.5.0",
          "state": {
            "_dom_classes": [],
            "_model_module": "@jupyter-widgets/controls",
            "_model_module_version": "1.5.0",
            "_model_name": "HTMLModel",
            "_view_count": null,
            "_view_module": "@jupyter-widgets/controls",
            "_view_module_version": "1.5.0",
            "_view_name": "HTMLView",
            "description": "",
            "description_tooltip": null,
            "layout": "IPY_MODEL_9dc447bce51e4ff190e5085239750047",
            "placeholder": "​",
            "style": "IPY_MODEL_d4ad2d97fe54450fb8f73012374d2cdc",
            "value": " 10000/0 [00:00&lt;00:00, 151828.91 examples/s]"
          }
        },
        "a8beff89c6a14ae3b2c9f14783c3c867": {
          "model_module": "@jupyter-widgets/base",
          "model_name": "LayoutModel",
          "model_module_version": "1.2.0",
          "state": {
            "_model_module": "@jupyter-widgets/base",
            "_model_module_version": "1.2.0",
            "_model_name": "LayoutModel",
            "_view_count": null,
            "_view_module": "@jupyter-widgets/base",
            "_view_module_version": "1.2.0",
            "_view_name": "LayoutView",
            "align_content": null,
            "align_items": null,
            "align_self": null,
            "border": null,
            "bottom": null,
            "display": null,
            "flex": null,
            "flex_flow": null,
            "grid_area": null,
            "grid_auto_columns": null,
            "grid_auto_flow": null,
            "grid_auto_rows": null,
            "grid_column": null,
            "grid_gap": null,
            "grid_row": null,
            "grid_template_areas": null,
            "grid_template_columns": null,
            "grid_template_rows": null,
            "height": null,
            "justify_content": null,
            "justify_items": null,
            "left": null,
            "margin": null,
            "max_height": null,
            "max_width": null,
            "min_height": null,
            "min_width": null,
            "object_fit": null,
            "object_position": null,
            "order": null,
            "overflow": null,
            "overflow_x": null,
            "overflow_y": null,
            "padding": null,
            "right": null,
            "top": null,
            "visibility": null,
            "width": null
          }
        },
        "2caa5f7da5034e70b011079c1c80ee0a": {
          "model_module": "@jupyter-widgets/base",
          "model_name": "LayoutModel",
          "model_module_version": "1.2.0",
          "state": {
            "_model_module": "@jupyter-widgets/base",
            "_model_module_version": "1.2.0",
            "_model_name": "LayoutModel",
            "_view_count": null,
            "_view_module": "@jupyter-widgets/base",
            "_view_module_version": "1.2.0",
            "_view_name": "LayoutView",
            "align_content": null,
            "align_items": null,
            "align_self": null,
            "border": null,
            "bottom": null,
            "display": null,
            "flex": null,
            "flex_flow": null,
            "grid_area": null,
            "grid_auto_columns": null,
            "grid_auto_flow": null,
            "grid_auto_rows": null,
            "grid_column": null,
            "grid_gap": null,
            "grid_row": null,
            "grid_template_areas": null,
            "grid_template_columns": null,
            "grid_template_rows": null,
            "height": null,
            "justify_content": null,
            "justify_items": null,
            "left": null,
            "margin": null,
            "max_height": null,
            "max_width": null,
            "min_height": null,
            "min_width": null,
            "object_fit": null,
            "object_position": null,
            "order": null,
            "overflow": null,
            "overflow_x": null,
            "overflow_y": null,
            "padding": null,
            "right": null,
            "top": null,
            "visibility": null,
            "width": null
          }
        },
        "cca97721c30f4e16a2199b49d27a093b": {
          "model_module": "@jupyter-widgets/controls",
          "model_name": "DescriptionStyleModel",
          "model_module_version": "1.5.0",
          "state": {
            "_model_module": "@jupyter-widgets/controls",
            "_model_module_version": "1.5.0",
            "_model_name": "DescriptionStyleModel",
            "_view_count": null,
            "_view_module": "@jupyter-widgets/base",
            "_view_module_version": "1.2.0",
            "_view_name": "StyleView",
            "description_width": ""
          }
        },
        "672a72f5ae29495a9abb50520aca9bcd": {
          "model_module": "@jupyter-widgets/base",
          "model_name": "LayoutModel",
          "model_module_version": "1.2.0",
          "state": {
            "_model_module": "@jupyter-widgets/base",
            "_model_module_version": "1.2.0",
            "_model_name": "LayoutModel",
            "_view_count": null,
            "_view_module": "@jupyter-widgets/base",
            "_view_module_version": "1.2.0",
            "_view_name": "LayoutView",
            "align_content": null,
            "align_items": null,
            "align_self": null,
            "border": null,
            "bottom": null,
            "display": null,
            "flex": null,
            "flex_flow": null,
            "grid_area": null,
            "grid_auto_columns": null,
            "grid_auto_flow": null,
            "grid_auto_rows": null,
            "grid_column": null,
            "grid_gap": null,
            "grid_row": null,
            "grid_template_areas": null,
            "grid_template_columns": null,
            "grid_template_rows": null,
            "height": null,
            "justify_content": null,
            "justify_items": null,
            "left": null,
            "margin": null,
            "max_height": null,
            "max_width": null,
            "min_height": null,
            "min_width": null,
            "object_fit": null,
            "object_position": null,
            "order": null,
            "overflow": null,
            "overflow_x": null,
            "overflow_y": null,
            "padding": null,
            "right": null,
            "top": null,
            "visibility": null,
            "width": "20px"
          }
        },
        "eb20f7fd14fa42cca123df436d1ae62f": {
          "model_module": "@jupyter-widgets/controls",
          "model_name": "ProgressStyleModel",
          "model_module_version": "1.5.0",
          "state": {
            "_model_module": "@jupyter-widgets/controls",
            "_model_module_version": "1.5.0",
            "_model_name": "ProgressStyleModel",
            "_view_count": null,
            "_view_module": "@jupyter-widgets/base",
            "_view_module_version": "1.2.0",
            "_view_name": "StyleView",
            "bar_color": null,
            "description_width": ""
          }
        },
        "9dc447bce51e4ff190e5085239750047": {
          "model_module": "@jupyter-widgets/base",
          "model_name": "LayoutModel",
          "model_module_version": "1.2.0",
          "state": {
            "_model_module": "@jupyter-widgets/base",
            "_model_module_version": "1.2.0",
            "_model_name": "LayoutModel",
            "_view_count": null,
            "_view_module": "@jupyter-widgets/base",
            "_view_module_version": "1.2.0",
            "_view_name": "LayoutView",
            "align_content": null,
            "align_items": null,
            "align_self": null,
            "border": null,
            "bottom": null,
            "display": null,
            "flex": null,
            "flex_flow": null,
            "grid_area": null,
            "grid_auto_columns": null,
            "grid_auto_flow": null,
            "grid_auto_rows": null,
            "grid_column": null,
            "grid_gap": null,
            "grid_row": null,
            "grid_template_areas": null,
            "grid_template_columns": null,
            "grid_template_rows": null,
            "height": null,
            "justify_content": null,
            "justify_items": null,
            "left": null,
            "margin": null,
            "max_height": null,
            "max_width": null,
            "min_height": null,
            "min_width": null,
            "object_fit": null,
            "object_position": null,
            "order": null,
            "overflow": null,
            "overflow_x": null,
            "overflow_y": null,
            "padding": null,
            "right": null,
            "top": null,
            "visibility": null,
            "width": null
          }
        },
        "d4ad2d97fe54450fb8f73012374d2cdc": {
          "model_module": "@jupyter-widgets/controls",
          "model_name": "DescriptionStyleModel",
          "model_module_version": "1.5.0",
          "state": {
            "_model_module": "@jupyter-widgets/controls",
            "_model_module_version": "1.5.0",
            "_model_name": "DescriptionStyleModel",
            "_view_count": null,
            "_view_module": "@jupyter-widgets/base",
            "_view_module_version": "1.2.0",
            "_view_name": "StyleView",
            "description_width": ""
          }
        },
        "2d0ba038c82f4b0eb7eef68f89162b61": {
          "model_module": "@jupyter-widgets/controls",
          "model_name": "HBoxModel",
          "model_module_version": "1.5.0",
          "state": {
            "_dom_classes": [],
            "_model_module": "@jupyter-widgets/controls",
            "_model_module_version": "1.5.0",
            "_model_name": "HBoxModel",
            "_view_count": null,
            "_view_module": "@jupyter-widgets/controls",
            "_view_module_version": "1.5.0",
            "_view_name": "HBoxView",
            "box_style": "",
            "children": [
              "IPY_MODEL_43e78eb941a8471b8143581eee7f8a90",
              "IPY_MODEL_cf6d54f9e80d4dffb0333397d0e1f2ec",
              "IPY_MODEL_ba6ca4ad65324d188055ea54e175ede9"
            ],
            "layout": "IPY_MODEL_cf19c087c0114cada190d99f08cc8d0c"
          }
        },
        "43e78eb941a8471b8143581eee7f8a90": {
          "model_module": "@jupyter-widgets/controls",
          "model_name": "HTMLModel",
          "model_module_version": "1.5.0",
          "state": {
            "_dom_classes": [],
            "_model_module": "@jupyter-widgets/controls",
            "_model_module_version": "1.5.0",
            "_model_name": "HTMLModel",
            "_view_count": null,
            "_view_module": "@jupyter-widgets/controls",
            "_view_module_version": "1.5.0",
            "_view_name": "HTMLView",
            "description": "",
            "description_tooltip": null,
            "layout": "IPY_MODEL_8eb149002e084b1f96c41de7de42b49e",
            "placeholder": "​",
            "style": "IPY_MODEL_0f912cda43a6490a89af80f40a100182",
            "value": "Downloading data: 100%"
          }
        },
        "cf6d54f9e80d4dffb0333397d0e1f2ec": {
          "model_module": "@jupyter-widgets/controls",
          "model_name": "FloatProgressModel",
          "model_module_version": "1.5.0",
          "state": {
            "_dom_classes": [],
            "_model_module": "@jupyter-widgets/controls",
            "_model_module_version": "1.5.0",
            "_model_name": "FloatProgressModel",
            "_view_count": null,
            "_view_module": "@jupyter-widgets/controls",
            "_view_module_version": "1.5.0",
            "_view_name": "ProgressView",
            "bar_style": "success",
            "description": "",
            "description_tooltip": null,
            "layout": "IPY_MODEL_01a27e567f3c4db8b7387e6b7b320577",
            "max": 30931277,
            "min": 0,
            "orientation": "horizontal",
            "style": "IPY_MODEL_6cb7c3ac2b174e9cb43451b473e700c0",
            "value": 30931277
          }
        },
        "ba6ca4ad65324d188055ea54e175ede9": {
          "model_module": "@jupyter-widgets/controls",
          "model_name": "HTMLModel",
          "model_module_version": "1.5.0",
          "state": {
            "_dom_classes": [],
            "_model_module": "@jupyter-widgets/controls",
            "_model_module_version": "1.5.0",
            "_model_name": "HTMLModel",
            "_view_count": null,
            "_view_module": "@jupyter-widgets/controls",
            "_view_module_version": "1.5.0",
            "_view_name": "HTMLView",
            "description": "",
            "description_tooltip": null,
            "layout": "IPY_MODEL_8852abc431a34a1881ff9be16be79d6a",
            "placeholder": "​",
            "style": "IPY_MODEL_b624e3352ecc4258af2b01dc10c3ac6d",
            "value": " 30.9M/30.9M [00:04&lt;00:00, 7.42MB/s]"
          }
        },
        "cf19c087c0114cada190d99f08cc8d0c": {
          "model_module": "@jupyter-widgets/base",
          "model_name": "LayoutModel",
          "model_module_version": "1.2.0",
          "state": {
            "_model_module": "@jupyter-widgets/base",
            "_model_module_version": "1.2.0",
            "_model_name": "LayoutModel",
            "_view_count": null,
            "_view_module": "@jupyter-widgets/base",
            "_view_module_version": "1.2.0",
            "_view_name": "LayoutView",
            "align_content": null,
            "align_items": null,
            "align_self": null,
            "border": null,
            "bottom": null,
            "display": null,
            "flex": null,
            "flex_flow": null,
            "grid_area": null,
            "grid_auto_columns": null,
            "grid_auto_flow": null,
            "grid_auto_rows": null,
            "grid_column": null,
            "grid_gap": null,
            "grid_row": null,
            "grid_template_areas": null,
            "grid_template_columns": null,
            "grid_template_rows": null,
            "height": null,
            "justify_content": null,
            "justify_items": null,
            "left": null,
            "margin": null,
            "max_height": null,
            "max_width": null,
            "min_height": null,
            "min_width": null,
            "object_fit": null,
            "object_position": null,
            "order": null,
            "overflow": null,
            "overflow_x": null,
            "overflow_y": null,
            "padding": null,
            "right": null,
            "top": null,
            "visibility": null,
            "width": null
          }
        },
        "8eb149002e084b1f96c41de7de42b49e": {
          "model_module": "@jupyter-widgets/base",
          "model_name": "LayoutModel",
          "model_module_version": "1.2.0",
          "state": {
            "_model_module": "@jupyter-widgets/base",
            "_model_module_version": "1.2.0",
            "_model_name": "LayoutModel",
            "_view_count": null,
            "_view_module": "@jupyter-widgets/base",
            "_view_module_version": "1.2.0",
            "_view_name": "LayoutView",
            "align_content": null,
            "align_items": null,
            "align_self": null,
            "border": null,
            "bottom": null,
            "display": null,
            "flex": null,
            "flex_flow": null,
            "grid_area": null,
            "grid_auto_columns": null,
            "grid_auto_flow": null,
            "grid_auto_rows": null,
            "grid_column": null,
            "grid_gap": null,
            "grid_row": null,
            "grid_template_areas": null,
            "grid_template_columns": null,
            "grid_template_rows": null,
            "height": null,
            "justify_content": null,
            "justify_items": null,
            "left": null,
            "margin": null,
            "max_height": null,
            "max_width": null,
            "min_height": null,
            "min_width": null,
            "object_fit": null,
            "object_position": null,
            "order": null,
            "overflow": null,
            "overflow_x": null,
            "overflow_y": null,
            "padding": null,
            "right": null,
            "top": null,
            "visibility": null,
            "width": null
          }
        },
        "0f912cda43a6490a89af80f40a100182": {
          "model_module": "@jupyter-widgets/controls",
          "model_name": "DescriptionStyleModel",
          "model_module_version": "1.5.0",
          "state": {
            "_model_module": "@jupyter-widgets/controls",
            "_model_module_version": "1.5.0",
            "_model_name": "DescriptionStyleModel",
            "_view_count": null,
            "_view_module": "@jupyter-widgets/base",
            "_view_module_version": "1.2.0",
            "_view_name": "StyleView",
            "description_width": ""
          }
        },
        "01a27e567f3c4db8b7387e6b7b320577": {
          "model_module": "@jupyter-widgets/base",
          "model_name": "LayoutModel",
          "model_module_version": "1.2.0",
          "state": {
            "_model_module": "@jupyter-widgets/base",
            "_model_module_version": "1.2.0",
            "_model_name": "LayoutModel",
            "_view_count": null,
            "_view_module": "@jupyter-widgets/base",
            "_view_module_version": "1.2.0",
            "_view_name": "LayoutView",
            "align_content": null,
            "align_items": null,
            "align_self": null,
            "border": null,
            "bottom": null,
            "display": null,
            "flex": null,
            "flex_flow": null,
            "grid_area": null,
            "grid_auto_columns": null,
            "grid_auto_flow": null,
            "grid_auto_rows": null,
            "grid_column": null,
            "grid_gap": null,
            "grid_row": null,
            "grid_template_areas": null,
            "grid_template_columns": null,
            "grid_template_rows": null,
            "height": null,
            "justify_content": null,
            "justify_items": null,
            "left": null,
            "margin": null,
            "max_height": null,
            "max_width": null,
            "min_height": null,
            "min_width": null,
            "object_fit": null,
            "object_position": null,
            "order": null,
            "overflow": null,
            "overflow_x": null,
            "overflow_y": null,
            "padding": null,
            "right": null,
            "top": null,
            "visibility": null,
            "width": null
          }
        },
        "6cb7c3ac2b174e9cb43451b473e700c0": {
          "model_module": "@jupyter-widgets/controls",
          "model_name": "ProgressStyleModel",
          "model_module_version": "1.5.0",
          "state": {
            "_model_module": "@jupyter-widgets/controls",
            "_model_module_version": "1.5.0",
            "_model_name": "ProgressStyleModel",
            "_view_count": null,
            "_view_module": "@jupyter-widgets/base",
            "_view_module_version": "1.2.0",
            "_view_name": "StyleView",
            "bar_color": null,
            "description_width": ""
          }
        },
        "8852abc431a34a1881ff9be16be79d6a": {
          "model_module": "@jupyter-widgets/base",
          "model_name": "LayoutModel",
          "model_module_version": "1.2.0",
          "state": {
            "_model_module": "@jupyter-widgets/base",
            "_model_module_version": "1.2.0",
            "_model_name": "LayoutModel",
            "_view_count": null,
            "_view_module": "@jupyter-widgets/base",
            "_view_module_version": "1.2.0",
            "_view_name": "LayoutView",
            "align_content": null,
            "align_items": null,
            "align_self": null,
            "border": null,
            "bottom": null,
            "display": null,
            "flex": null,
            "flex_flow": null,
            "grid_area": null,
            "grid_auto_columns": null,
            "grid_auto_flow": null,
            "grid_auto_rows": null,
            "grid_column": null,
            "grid_gap": null,
            "grid_row": null,
            "grid_template_areas": null,
            "grid_template_columns": null,
            "grid_template_rows": null,
            "height": null,
            "justify_content": null,
            "justify_items": null,
            "left": null,
            "margin": null,
            "max_height": null,
            "max_width": null,
            "min_height": null,
            "min_width": null,
            "object_fit": null,
            "object_position": null,
            "order": null,
            "overflow": null,
            "overflow_x": null,
            "overflow_y": null,
            "padding": null,
            "right": null,
            "top": null,
            "visibility": null,
            "width": null
          }
        },
        "b624e3352ecc4258af2b01dc10c3ac6d": {
          "model_module": "@jupyter-widgets/controls",
          "model_name": "DescriptionStyleModel",
          "model_module_version": "1.5.0",
          "state": {
            "_model_module": "@jupyter-widgets/controls",
            "_model_module_version": "1.5.0",
            "_model_name": "DescriptionStyleModel",
            "_view_count": null,
            "_view_module": "@jupyter-widgets/base",
            "_view_module_version": "1.2.0",
            "_view_name": "StyleView",
            "description_width": ""
          }
        },
        "2f79d60d49694afeacd38ac7623e8ef3": {
          "model_module": "@jupyter-widgets/controls",
          "model_name": "HBoxModel",
          "model_module_version": "1.5.0",
          "state": {
            "_dom_classes": [],
            "_model_module": "@jupyter-widgets/controls",
            "_model_module_version": "1.5.0",
            "_model_name": "HBoxModel",
            "_view_count": null,
            "_view_module": "@jupyter-widgets/controls",
            "_view_module_version": "1.5.0",
            "_view_name": "HBoxView",
            "box_style": "",
            "children": [
              "IPY_MODEL_e3edb00c87564a03ac071baada85508d",
              "IPY_MODEL_566d6d708c314b128fcc9f890ab80b63",
              "IPY_MODEL_6ba4f04725f74417a124d2ea4bdae68b"
            ],
            "layout": "IPY_MODEL_e8d58ebca896413bbbc7e3731e04e610"
          }
        },
        "e3edb00c87564a03ac071baada85508d": {
          "model_module": "@jupyter-widgets/controls",
          "model_name": "HTMLModel",
          "model_module_version": "1.5.0",
          "state": {
            "_dom_classes": [],
            "_model_module": "@jupyter-widgets/controls",
            "_model_module_version": "1.5.0",
            "_model_name": "HTMLModel",
            "_view_count": null,
            "_view_module": "@jupyter-widgets/controls",
            "_view_module_version": "1.5.0",
            "_view_name": "HTMLView",
            "description": "",
            "description_tooltip": null,
            "layout": "IPY_MODEL_f4561d10a1674d5293f97bfba071b9a7",
            "placeholder": "​",
            "style": "IPY_MODEL_0a4d0c5a780c4f968dfe0a7126f2c26c",
            "value": "Downloading data: 100%"
          }
        },
        "566d6d708c314b128fcc9f890ab80b63": {
          "model_module": "@jupyter-widgets/controls",
          "model_name": "FloatProgressModel",
          "model_module_version": "1.5.0",
          "state": {
            "_dom_classes": [],
            "_model_module": "@jupyter-widgets/controls",
            "_model_module_version": "1.5.0",
            "_model_name": "FloatProgressModel",
            "_view_count": null,
            "_view_module": "@jupyter-widgets/controls",
            "_view_module_version": "1.5.0",
            "_view_name": "ProgressView",
            "bar_style": "success",
            "description": "",
            "description_tooltip": null,
            "layout": "IPY_MODEL_c0e7d4e0b064404ba9aa046fd211f364",
            "max": 5175617,
            "min": 0,
            "orientation": "horizontal",
            "style": "IPY_MODEL_a83ed53a2f4d4a2cae7c668b4f587990",
            "value": 5175617
          }
        },
        "6ba4f04725f74417a124d2ea4bdae68b": {
          "model_module": "@jupyter-widgets/controls",
          "model_name": "HTMLModel",
          "model_module_version": "1.5.0",
          "state": {
            "_dom_classes": [],
            "_model_module": "@jupyter-widgets/controls",
            "_model_module_version": "1.5.0",
            "_model_name": "HTMLModel",
            "_view_count": null,
            "_view_module": "@jupyter-widgets/controls",
            "_view_module_version": "1.5.0",
            "_view_name": "HTMLView",
            "description": "",
            "description_tooltip": null,
            "layout": "IPY_MODEL_81bff1c0c4e3494c9754accd581e9371",
            "placeholder": "​",
            "style": "IPY_MODEL_b13cd6180bfa4602b47269cd9a4061ff",
            "value": " 5.18M/5.18M [00:01&lt;00:00, 3.87MB/s]"
          }
        },
        "e8d58ebca896413bbbc7e3731e04e610": {
          "model_module": "@jupyter-widgets/base",
          "model_name": "LayoutModel",
          "model_module_version": "1.2.0",
          "state": {
            "_model_module": "@jupyter-widgets/base",
            "_model_module_version": "1.2.0",
            "_model_name": "LayoutModel",
            "_view_count": null,
            "_view_module": "@jupyter-widgets/base",
            "_view_module_version": "1.2.0",
            "_view_name": "LayoutView",
            "align_content": null,
            "align_items": null,
            "align_self": null,
            "border": null,
            "bottom": null,
            "display": null,
            "flex": null,
            "flex_flow": null,
            "grid_area": null,
            "grid_auto_columns": null,
            "grid_auto_flow": null,
            "grid_auto_rows": null,
            "grid_column": null,
            "grid_gap": null,
            "grid_row": null,
            "grid_template_areas": null,
            "grid_template_columns": null,
            "grid_template_rows": null,
            "height": null,
            "justify_content": null,
            "justify_items": null,
            "left": null,
            "margin": null,
            "max_height": null,
            "max_width": null,
            "min_height": null,
            "min_width": null,
            "object_fit": null,
            "object_position": null,
            "order": null,
            "overflow": null,
            "overflow_x": null,
            "overflow_y": null,
            "padding": null,
            "right": null,
            "top": null,
            "visibility": null,
            "width": null
          }
        },
        "f4561d10a1674d5293f97bfba071b9a7": {
          "model_module": "@jupyter-widgets/base",
          "model_name": "LayoutModel",
          "model_module_version": "1.2.0",
          "state": {
            "_model_module": "@jupyter-widgets/base",
            "_model_module_version": "1.2.0",
            "_model_name": "LayoutModel",
            "_view_count": null,
            "_view_module": "@jupyter-widgets/base",
            "_view_module_version": "1.2.0",
            "_view_name": "LayoutView",
            "align_content": null,
            "align_items": null,
            "align_self": null,
            "border": null,
            "bottom": null,
            "display": null,
            "flex": null,
            "flex_flow": null,
            "grid_area": null,
            "grid_auto_columns": null,
            "grid_auto_flow": null,
            "grid_auto_rows": null,
            "grid_column": null,
            "grid_gap": null,
            "grid_row": null,
            "grid_template_areas": null,
            "grid_template_columns": null,
            "grid_template_rows": null,
            "height": null,
            "justify_content": null,
            "justify_items": null,
            "left": null,
            "margin": null,
            "max_height": null,
            "max_width": null,
            "min_height": null,
            "min_width": null,
            "object_fit": null,
            "object_position": null,
            "order": null,
            "overflow": null,
            "overflow_x": null,
            "overflow_y": null,
            "padding": null,
            "right": null,
            "top": null,
            "visibility": null,
            "width": null
          }
        },
        "0a4d0c5a780c4f968dfe0a7126f2c26c": {
          "model_module": "@jupyter-widgets/controls",
          "model_name": "DescriptionStyleModel",
          "model_module_version": "1.5.0",
          "state": {
            "_model_module": "@jupyter-widgets/controls",
            "_model_module_version": "1.5.0",
            "_model_name": "DescriptionStyleModel",
            "_view_count": null,
            "_view_module": "@jupyter-widgets/base",
            "_view_module_version": "1.2.0",
            "_view_name": "StyleView",
            "description_width": ""
          }
        },
        "c0e7d4e0b064404ba9aa046fd211f364": {
          "model_module": "@jupyter-widgets/base",
          "model_name": "LayoutModel",
          "model_module_version": "1.2.0",
          "state": {
            "_model_module": "@jupyter-widgets/base",
            "_model_module_version": "1.2.0",
            "_model_name": "LayoutModel",
            "_view_count": null,
            "_view_module": "@jupyter-widgets/base",
            "_view_module_version": "1.2.0",
            "_view_name": "LayoutView",
            "align_content": null,
            "align_items": null,
            "align_self": null,
            "border": null,
            "bottom": null,
            "display": null,
            "flex": null,
            "flex_flow": null,
            "grid_area": null,
            "grid_auto_columns": null,
            "grid_auto_flow": null,
            "grid_auto_rows": null,
            "grid_column": null,
            "grid_gap": null,
            "grid_row": null,
            "grid_template_areas": null,
            "grid_template_columns": null,
            "grid_template_rows": null,
            "height": null,
            "justify_content": null,
            "justify_items": null,
            "left": null,
            "margin": null,
            "max_height": null,
            "max_width": null,
            "min_height": null,
            "min_width": null,
            "object_fit": null,
            "object_position": null,
            "order": null,
            "overflow": null,
            "overflow_x": null,
            "overflow_y": null,
            "padding": null,
            "right": null,
            "top": null,
            "visibility": null,
            "width": null
          }
        },
        "a83ed53a2f4d4a2cae7c668b4f587990": {
          "model_module": "@jupyter-widgets/controls",
          "model_name": "ProgressStyleModel",
          "model_module_version": "1.5.0",
          "state": {
            "_model_module": "@jupyter-widgets/controls",
            "_model_module_version": "1.5.0",
            "_model_name": "ProgressStyleModel",
            "_view_count": null,
            "_view_module": "@jupyter-widgets/base",
            "_view_module_version": "1.2.0",
            "_view_name": "StyleView",
            "bar_color": null,
            "description_width": ""
          }
        },
        "81bff1c0c4e3494c9754accd581e9371": {
          "model_module": "@jupyter-widgets/base",
          "model_name": "LayoutModel",
          "model_module_version": "1.2.0",
          "state": {
            "_model_module": "@jupyter-widgets/base",
            "_model_module_version": "1.2.0",
            "_model_name": "LayoutModel",
            "_view_count": null,
            "_view_module": "@jupyter-widgets/base",
            "_view_module_version": "1.2.0",
            "_view_name": "LayoutView",
            "align_content": null,
            "align_items": null,
            "align_self": null,
            "border": null,
            "bottom": null,
            "display": null,
            "flex": null,
            "flex_flow": null,
            "grid_area": null,
            "grid_auto_columns": null,
            "grid_auto_flow": null,
            "grid_auto_rows": null,
            "grid_column": null,
            "grid_gap": null,
            "grid_row": null,
            "grid_template_areas": null,
            "grid_template_columns": null,
            "grid_template_rows": null,
            "height": null,
            "justify_content": null,
            "justify_items": null,
            "left": null,
            "margin": null,
            "max_height": null,
            "max_width": null,
            "min_height": null,
            "min_width": null,
            "object_fit": null,
            "object_position": null,
            "order": null,
            "overflow": null,
            "overflow_x": null,
            "overflow_y": null,
            "padding": null,
            "right": null,
            "top": null,
            "visibility": null,
            "width": null
          }
        },
        "b13cd6180bfa4602b47269cd9a4061ff": {
          "model_module": "@jupyter-widgets/controls",
          "model_name": "DescriptionStyleModel",
          "model_module_version": "1.5.0",
          "state": {
            "_model_module": "@jupyter-widgets/controls",
            "_model_module_version": "1.5.0",
            "_model_name": "DescriptionStyleModel",
            "_view_count": null,
            "_view_module": "@jupyter-widgets/base",
            "_view_module_version": "1.2.0",
            "_view_name": "StyleView",
            "description_width": ""
          }
        },
        "36332ff3917d413fae5e43eb85088139": {
          "model_module": "@jupyter-widgets/controls",
          "model_name": "HBoxModel",
          "model_module_version": "1.5.0",
          "state": {
            "_dom_classes": [],
            "_model_module": "@jupyter-widgets/controls",
            "_model_module_version": "1.5.0",
            "_model_name": "HBoxModel",
            "_view_count": null,
            "_view_module": "@jupyter-widgets/controls",
            "_view_module_version": "1.5.0",
            "_view_name": "HBoxView",
            "box_style": "",
            "children": [
              "IPY_MODEL_3171e16fccc845d8855520fd643f7373",
              "IPY_MODEL_6e11f1a11a8a4b8d9252e1fb767b072f",
              "IPY_MODEL_3c47e7f1252346e489561398cd512088"
            ],
            "layout": "IPY_MODEL_49d8825822674ba9bdb97472289a096a"
          }
        },
        "3171e16fccc845d8855520fd643f7373": {
          "model_module": "@jupyter-widgets/controls",
          "model_name": "HTMLModel",
          "model_module_version": "1.5.0",
          "state": {
            "_dom_classes": [],
            "_model_module": "@jupyter-widgets/controls",
            "_model_module_version": "1.5.0",
            "_model_name": "HTMLModel",
            "_view_count": null,
            "_view_module": "@jupyter-widgets/controls",
            "_view_module_version": "1.5.0",
            "_view_name": "HTMLView",
            "description": "",
            "description_tooltip": null,
            "layout": "IPY_MODEL_4568fbf96b0f40f681894a642104207c",
            "placeholder": "​",
            "style": "IPY_MODEL_b9f25d8c17b8472881c632020d61f037",
            "value": "Generating train split: "
          }
        },
        "6e11f1a11a8a4b8d9252e1fb767b072f": {
          "model_module": "@jupyter-widgets/controls",
          "model_name": "FloatProgressModel",
          "model_module_version": "1.5.0",
          "state": {
            "_dom_classes": [],
            "_model_module": "@jupyter-widgets/controls",
            "_model_module_version": "1.5.0",
            "_model_name": "FloatProgressModel",
            "_view_count": null,
            "_view_module": "@jupyter-widgets/controls",
            "_view_module_version": "1.5.0",
            "_view_name": "ProgressView",
            "bar_style": "success",
            "description": "",
            "description_tooltip": null,
            "layout": "IPY_MODEL_ae7ee1c9ce7349699265ca9cbb942c37",
            "max": 1,
            "min": 0,
            "orientation": "horizontal",
            "style": "IPY_MODEL_282cde98348a4560934c3a7803c92360",
            "value": 1
          }
        },
        "3c47e7f1252346e489561398cd512088": {
          "model_module": "@jupyter-widgets/controls",
          "model_name": "HTMLModel",
          "model_module_version": "1.5.0",
          "state": {
            "_dom_classes": [],
            "_model_module": "@jupyter-widgets/controls",
            "_model_module_version": "1.5.0",
            "_model_name": "HTMLModel",
            "_view_count": null,
            "_view_module": "@jupyter-widgets/controls",
            "_view_module_version": "1.5.0",
            "_view_name": "HTMLView",
            "description": "",
            "description_tooltip": null,
            "layout": "IPY_MODEL_15743148e8384f9b93b3c9583de21254",
            "placeholder": "​",
            "style": "IPY_MODEL_350debe8a4ad4dbab74637254cc35b9f",
            "value": " 60000/0 [00:00&lt;00:00, 248415.55 examples/s]"
          }
        },
        "49d8825822674ba9bdb97472289a096a": {
          "model_module": "@jupyter-widgets/base",
          "model_name": "LayoutModel",
          "model_module_version": "1.2.0",
          "state": {
            "_model_module": "@jupyter-widgets/base",
            "_model_module_version": "1.2.0",
            "_model_name": "LayoutModel",
            "_view_count": null,
            "_view_module": "@jupyter-widgets/base",
            "_view_module_version": "1.2.0",
            "_view_name": "LayoutView",
            "align_content": null,
            "align_items": null,
            "align_self": null,
            "border": null,
            "bottom": null,
            "display": null,
            "flex": null,
            "flex_flow": null,
            "grid_area": null,
            "grid_auto_columns": null,
            "grid_auto_flow": null,
            "grid_auto_rows": null,
            "grid_column": null,
            "grid_gap": null,
            "grid_row": null,
            "grid_template_areas": null,
            "grid_template_columns": null,
            "grid_template_rows": null,
            "height": null,
            "justify_content": null,
            "justify_items": null,
            "left": null,
            "margin": null,
            "max_height": null,
            "max_width": null,
            "min_height": null,
            "min_width": null,
            "object_fit": null,
            "object_position": null,
            "order": null,
            "overflow": null,
            "overflow_x": null,
            "overflow_y": null,
            "padding": null,
            "right": null,
            "top": null,
            "visibility": null,
            "width": null
          }
        },
        "4568fbf96b0f40f681894a642104207c": {
          "model_module": "@jupyter-widgets/base",
          "model_name": "LayoutModel",
          "model_module_version": "1.2.0",
          "state": {
            "_model_module": "@jupyter-widgets/base",
            "_model_module_version": "1.2.0",
            "_model_name": "LayoutModel",
            "_view_count": null,
            "_view_module": "@jupyter-widgets/base",
            "_view_module_version": "1.2.0",
            "_view_name": "LayoutView",
            "align_content": null,
            "align_items": null,
            "align_self": null,
            "border": null,
            "bottom": null,
            "display": null,
            "flex": null,
            "flex_flow": null,
            "grid_area": null,
            "grid_auto_columns": null,
            "grid_auto_flow": null,
            "grid_auto_rows": null,
            "grid_column": null,
            "grid_gap": null,
            "grid_row": null,
            "grid_template_areas": null,
            "grid_template_columns": null,
            "grid_template_rows": null,
            "height": null,
            "justify_content": null,
            "justify_items": null,
            "left": null,
            "margin": null,
            "max_height": null,
            "max_width": null,
            "min_height": null,
            "min_width": null,
            "object_fit": null,
            "object_position": null,
            "order": null,
            "overflow": null,
            "overflow_x": null,
            "overflow_y": null,
            "padding": null,
            "right": null,
            "top": null,
            "visibility": null,
            "width": null
          }
        },
        "b9f25d8c17b8472881c632020d61f037": {
          "model_module": "@jupyter-widgets/controls",
          "model_name": "DescriptionStyleModel",
          "model_module_version": "1.5.0",
          "state": {
            "_model_module": "@jupyter-widgets/controls",
            "_model_module_version": "1.5.0",
            "_model_name": "DescriptionStyleModel",
            "_view_count": null,
            "_view_module": "@jupyter-widgets/base",
            "_view_module_version": "1.2.0",
            "_view_name": "StyleView",
            "description_width": ""
          }
        },
        "ae7ee1c9ce7349699265ca9cbb942c37": {
          "model_module": "@jupyter-widgets/base",
          "model_name": "LayoutModel",
          "model_module_version": "1.2.0",
          "state": {
            "_model_module": "@jupyter-widgets/base",
            "_model_module_version": "1.2.0",
            "_model_name": "LayoutModel",
            "_view_count": null,
            "_view_module": "@jupyter-widgets/base",
            "_view_module_version": "1.2.0",
            "_view_name": "LayoutView",
            "align_content": null,
            "align_items": null,
            "align_self": null,
            "border": null,
            "bottom": null,
            "display": null,
            "flex": null,
            "flex_flow": null,
            "grid_area": null,
            "grid_auto_columns": null,
            "grid_auto_flow": null,
            "grid_auto_rows": null,
            "grid_column": null,
            "grid_gap": null,
            "grid_row": null,
            "grid_template_areas": null,
            "grid_template_columns": null,
            "grid_template_rows": null,
            "height": null,
            "justify_content": null,
            "justify_items": null,
            "left": null,
            "margin": null,
            "max_height": null,
            "max_width": null,
            "min_height": null,
            "min_width": null,
            "object_fit": null,
            "object_position": null,
            "order": null,
            "overflow": null,
            "overflow_x": null,
            "overflow_y": null,
            "padding": null,
            "right": null,
            "top": null,
            "visibility": null,
            "width": "20px"
          }
        },
        "282cde98348a4560934c3a7803c92360": {
          "model_module": "@jupyter-widgets/controls",
          "model_name": "ProgressStyleModel",
          "model_module_version": "1.5.0",
          "state": {
            "_model_module": "@jupyter-widgets/controls",
            "_model_module_version": "1.5.0",
            "_model_name": "ProgressStyleModel",
            "_view_count": null,
            "_view_module": "@jupyter-widgets/base",
            "_view_module_version": "1.2.0",
            "_view_name": "StyleView",
            "bar_color": null,
            "description_width": ""
          }
        },
        "15743148e8384f9b93b3c9583de21254": {
          "model_module": "@jupyter-widgets/base",
          "model_name": "LayoutModel",
          "model_module_version": "1.2.0",
          "state": {
            "_model_module": "@jupyter-widgets/base",
            "_model_module_version": "1.2.0",
            "_model_name": "LayoutModel",
            "_view_count": null,
            "_view_module": "@jupyter-widgets/base",
            "_view_module_version": "1.2.0",
            "_view_name": "LayoutView",
            "align_content": null,
            "align_items": null,
            "align_self": null,
            "border": null,
            "bottom": null,
            "display": null,
            "flex": null,
            "flex_flow": null,
            "grid_area": null,
            "grid_auto_columns": null,
            "grid_auto_flow": null,
            "grid_auto_rows": null,
            "grid_column": null,
            "grid_gap": null,
            "grid_row": null,
            "grid_template_areas": null,
            "grid_template_columns": null,
            "grid_template_rows": null,
            "height": null,
            "justify_content": null,
            "justify_items": null,
            "left": null,
            "margin": null,
            "max_height": null,
            "max_width": null,
            "min_height": null,
            "min_width": null,
            "object_fit": null,
            "object_position": null,
            "order": null,
            "overflow": null,
            "overflow_x": null,
            "overflow_y": null,
            "padding": null,
            "right": null,
            "top": null,
            "visibility": null,
            "width": null
          }
        },
        "350debe8a4ad4dbab74637254cc35b9f": {
          "model_module": "@jupyter-widgets/controls",
          "model_name": "DescriptionStyleModel",
          "model_module_version": "1.5.0",
          "state": {
            "_model_module": "@jupyter-widgets/controls",
            "_model_module_version": "1.5.0",
            "_model_name": "DescriptionStyleModel",
            "_view_count": null,
            "_view_module": "@jupyter-widgets/base",
            "_view_module_version": "1.2.0",
            "_view_name": "StyleView",
            "description_width": ""
          }
        },
        "e359097e1da64150a21569f2e9704795": {
          "model_module": "@jupyter-widgets/controls",
          "model_name": "HBoxModel",
          "model_module_version": "1.5.0",
          "state": {
            "_dom_classes": [],
            "_model_module": "@jupyter-widgets/controls",
            "_model_module_version": "1.5.0",
            "_model_name": "HBoxModel",
            "_view_count": null,
            "_view_module": "@jupyter-widgets/controls",
            "_view_module_version": "1.5.0",
            "_view_name": "HBoxView",
            "box_style": "",
            "children": [
              "IPY_MODEL_fd024bc059014a5f99df0fbbe0e45247",
              "IPY_MODEL_bf08d085097448218440d07e188d8636",
              "IPY_MODEL_cca1a2d6ac6a4d21af6821fc003a3346"
            ],
            "layout": "IPY_MODEL_dd2d033e77124decb7ea36bf9121929d"
          }
        },
        "fd024bc059014a5f99df0fbbe0e45247": {
          "model_module": "@jupyter-widgets/controls",
          "model_name": "HTMLModel",
          "model_module_version": "1.5.0",
          "state": {
            "_dom_classes": [],
            "_model_module": "@jupyter-widgets/controls",
            "_model_module_version": "1.5.0",
            "_model_name": "HTMLModel",
            "_view_count": null,
            "_view_module": "@jupyter-widgets/controls",
            "_view_module_version": "1.5.0",
            "_view_name": "HTMLView",
            "description": "",
            "description_tooltip": null,
            "layout": "IPY_MODEL_c7963fd13fc740ee8537085c45740040",
            "placeholder": "​",
            "style": "IPY_MODEL_879f61d3a7244de6aab6a8f25b629d79",
            "value": "Generating test split: "
          }
        },
        "bf08d085097448218440d07e188d8636": {
          "model_module": "@jupyter-widgets/controls",
          "model_name": "FloatProgressModel",
          "model_module_version": "1.5.0",
          "state": {
            "_dom_classes": [],
            "_model_module": "@jupyter-widgets/controls",
            "_model_module_version": "1.5.0",
            "_model_name": "FloatProgressModel",
            "_view_count": null,
            "_view_module": "@jupyter-widgets/controls",
            "_view_module_version": "1.5.0",
            "_view_name": "ProgressView",
            "bar_style": "success",
            "description": "",
            "description_tooltip": null,
            "layout": "IPY_MODEL_e5ad7aaa352046cca95de8db19283cc1",
            "max": 1,
            "min": 0,
            "orientation": "horizontal",
            "style": "IPY_MODEL_125a144cf4064202bcc58c9423ed8160",
            "value": 1
          }
        },
        "cca1a2d6ac6a4d21af6821fc003a3346": {
          "model_module": "@jupyter-widgets/controls",
          "model_name": "HTMLModel",
          "model_module_version": "1.5.0",
          "state": {
            "_dom_classes": [],
            "_model_module": "@jupyter-widgets/controls",
            "_model_module_version": "1.5.0",
            "_model_name": "HTMLModel",
            "_view_count": null,
            "_view_module": "@jupyter-widgets/controls",
            "_view_module_version": "1.5.0",
            "_view_name": "HTMLView",
            "description": "",
            "description_tooltip": null,
            "layout": "IPY_MODEL_7805d8f3535b4450885fcea5f3997626",
            "placeholder": "​",
            "style": "IPY_MODEL_1b948121c5fe476fa106c6883fa6cdb9",
            "value": " 10000/0 [00:00&lt;00:00, 145972.10 examples/s]"
          }
        },
        "dd2d033e77124decb7ea36bf9121929d": {
          "model_module": "@jupyter-widgets/base",
          "model_name": "LayoutModel",
          "model_module_version": "1.2.0",
          "state": {
            "_model_module": "@jupyter-widgets/base",
            "_model_module_version": "1.2.0",
            "_model_name": "LayoutModel",
            "_view_count": null,
            "_view_module": "@jupyter-widgets/base",
            "_view_module_version": "1.2.0",
            "_view_name": "LayoutView",
            "align_content": null,
            "align_items": null,
            "align_self": null,
            "border": null,
            "bottom": null,
            "display": null,
            "flex": null,
            "flex_flow": null,
            "grid_area": null,
            "grid_auto_columns": null,
            "grid_auto_flow": null,
            "grid_auto_rows": null,
            "grid_column": null,
            "grid_gap": null,
            "grid_row": null,
            "grid_template_areas": null,
            "grid_template_columns": null,
            "grid_template_rows": null,
            "height": null,
            "justify_content": null,
            "justify_items": null,
            "left": null,
            "margin": null,
            "max_height": null,
            "max_width": null,
            "min_height": null,
            "min_width": null,
            "object_fit": null,
            "object_position": null,
            "order": null,
            "overflow": null,
            "overflow_x": null,
            "overflow_y": null,
            "padding": null,
            "right": null,
            "top": null,
            "visibility": null,
            "width": null
          }
        },
        "c7963fd13fc740ee8537085c45740040": {
          "model_module": "@jupyter-widgets/base",
          "model_name": "LayoutModel",
          "model_module_version": "1.2.0",
          "state": {
            "_model_module": "@jupyter-widgets/base",
            "_model_module_version": "1.2.0",
            "_model_name": "LayoutModel",
            "_view_count": null,
            "_view_module": "@jupyter-widgets/base",
            "_view_module_version": "1.2.0",
            "_view_name": "LayoutView",
            "align_content": null,
            "align_items": null,
            "align_self": null,
            "border": null,
            "bottom": null,
            "display": null,
            "flex": null,
            "flex_flow": null,
            "grid_area": null,
            "grid_auto_columns": null,
            "grid_auto_flow": null,
            "grid_auto_rows": null,
            "grid_column": null,
            "grid_gap": null,
            "grid_row": null,
            "grid_template_areas": null,
            "grid_template_columns": null,
            "grid_template_rows": null,
            "height": null,
            "justify_content": null,
            "justify_items": null,
            "left": null,
            "margin": null,
            "max_height": null,
            "max_width": null,
            "min_height": null,
            "min_width": null,
            "object_fit": null,
            "object_position": null,
            "order": null,
            "overflow": null,
            "overflow_x": null,
            "overflow_y": null,
            "padding": null,
            "right": null,
            "top": null,
            "visibility": null,
            "width": null
          }
        },
        "879f61d3a7244de6aab6a8f25b629d79": {
          "model_module": "@jupyter-widgets/controls",
          "model_name": "DescriptionStyleModel",
          "model_module_version": "1.5.0",
          "state": {
            "_model_module": "@jupyter-widgets/controls",
            "_model_module_version": "1.5.0",
            "_model_name": "DescriptionStyleModel",
            "_view_count": null,
            "_view_module": "@jupyter-widgets/base",
            "_view_module_version": "1.2.0",
            "_view_name": "StyleView",
            "description_width": ""
          }
        },
        "e5ad7aaa352046cca95de8db19283cc1": {
          "model_module": "@jupyter-widgets/base",
          "model_name": "LayoutModel",
          "model_module_version": "1.2.0",
          "state": {
            "_model_module": "@jupyter-widgets/base",
            "_model_module_version": "1.2.0",
            "_model_name": "LayoutModel",
            "_view_count": null,
            "_view_module": "@jupyter-widgets/base",
            "_view_module_version": "1.2.0",
            "_view_name": "LayoutView",
            "align_content": null,
            "align_items": null,
            "align_self": null,
            "border": null,
            "bottom": null,
            "display": null,
            "flex": null,
            "flex_flow": null,
            "grid_area": null,
            "grid_auto_columns": null,
            "grid_auto_flow": null,
            "grid_auto_rows": null,
            "grid_column": null,
            "grid_gap": null,
            "grid_row": null,
            "grid_template_areas": null,
            "grid_template_columns": null,
            "grid_template_rows": null,
            "height": null,
            "justify_content": null,
            "justify_items": null,
            "left": null,
            "margin": null,
            "max_height": null,
            "max_width": null,
            "min_height": null,
            "min_width": null,
            "object_fit": null,
            "object_position": null,
            "order": null,
            "overflow": null,
            "overflow_x": null,
            "overflow_y": null,
            "padding": null,
            "right": null,
            "top": null,
            "visibility": null,
            "width": "20px"
          }
        },
        "125a144cf4064202bcc58c9423ed8160": {
          "model_module": "@jupyter-widgets/controls",
          "model_name": "ProgressStyleModel",
          "model_module_version": "1.5.0",
          "state": {
            "_model_module": "@jupyter-widgets/controls",
            "_model_module_version": "1.5.0",
            "_model_name": "ProgressStyleModel",
            "_view_count": null,
            "_view_module": "@jupyter-widgets/base",
            "_view_module_version": "1.2.0",
            "_view_name": "StyleView",
            "bar_color": null,
            "description_width": ""
          }
        },
        "7805d8f3535b4450885fcea5f3997626": {
          "model_module": "@jupyter-widgets/base",
          "model_name": "LayoutModel",
          "model_module_version": "1.2.0",
          "state": {
            "_model_module": "@jupyter-widgets/base",
            "_model_module_version": "1.2.0",
            "_model_name": "LayoutModel",
            "_view_count": null,
            "_view_module": "@jupyter-widgets/base",
            "_view_module_version": "1.2.0",
            "_view_name": "LayoutView",
            "align_content": null,
            "align_items": null,
            "align_self": null,
            "border": null,
            "bottom": null,
            "display": null,
            "flex": null,
            "flex_flow": null,
            "grid_area": null,
            "grid_auto_columns": null,
            "grid_auto_flow": null,
            "grid_auto_rows": null,
            "grid_column": null,
            "grid_gap": null,
            "grid_row": null,
            "grid_template_areas": null,
            "grid_template_columns": null,
            "grid_template_rows": null,
            "height": null,
            "justify_content": null,
            "justify_items": null,
            "left": null,
            "margin": null,
            "max_height": null,
            "max_width": null,
            "min_height": null,
            "min_width": null,
            "object_fit": null,
            "object_position": null,
            "order": null,
            "overflow": null,
            "overflow_x": null,
            "overflow_y": null,
            "padding": null,
            "right": null,
            "top": null,
            "visibility": null,
            "width": null
          }
        },
        "1b948121c5fe476fa106c6883fa6cdb9": {
          "model_module": "@jupyter-widgets/controls",
          "model_name": "DescriptionStyleModel",
          "model_module_version": "1.5.0",
          "state": {
            "_model_module": "@jupyter-widgets/controls",
            "_model_module_version": "1.5.0",
            "_model_name": "DescriptionStyleModel",
            "_view_count": null,
            "_view_module": "@jupyter-widgets/base",
            "_view_module_version": "1.2.0",
            "_view_name": "StyleView",
            "description_width": ""
          }
        }
      }
    }
  },
  "cells": [
    {
      "cell_type": "markdown",
      "metadata": {
        "id": "view-in-github",
        "colab_type": "text"
      },
      "source": [
        "<a href=\"https://colab.research.google.com/github/pranay8297/fastaip2/blob/main/convolutions_and_learner.ipynb\" target=\"_parent\"><img src=\"https://colab.research.google.com/assets/colab-badge.svg\" alt=\"Open In Colab\"/></a>"
      ]
    },
    {
      "cell_type": "markdown",
      "source": [
        "# Basic Requirements"
      ],
      "metadata": {
        "id": "d4bzpsNs29Ys"
      }
    },
    {
      "cell_type": "code",
      "source": [
        "!pip install datasets\n",
        "!pip install ipdb\n",
        "!pip install torcheval"
      ],
      "metadata": {
        "id": "H4h7M4Brmwt9"
      },
      "execution_count": null,
      "outputs": []
    },
    {
      "cell_type": "code",
      "source": [
        "import torch\n",
        "import datasets\n",
        "import math\n",
        "import matplotlib.pyplot as plt\n",
        "from ipdb import set_trace as st\n",
        "\n",
        "import pandas as pd\n",
        "import numpy as np\n",
        "\n",
        "import matplotlib as mpl\n",
        "from pathlib import Path\n",
        "from datasets import load_dataset, load_dataset_builder\n",
        "from torchvision.transforms.functional import to_tensor\n",
        "\n",
        "from PIL import Image\n",
        "import torch.nn.functional as F\n",
        "from torch.utils.data import DataLoader, Dataset\n",
        "from torch import nn\n",
        "from operator import itemgetter, attrgetter, methodcaller\n",
        "from torch import optim\n",
        "import fastcore.all as fc\n",
        "from tqdm import tqdm\n",
        "from torcheval.metrics import MulticlassAccuracy, Mean, MulticlassF1Score\n",
        "from collections.abc import Mapping\n",
        "from functools import partial\n",
        "\n",
        "mpl.rcParams['image.cmap'] = 'gray'"
      ],
      "metadata": {
        "id": "Mwf51jV-bcYu"
      },
      "execution_count": 2,
      "outputs": []
    },
    {
      "cell_type": "code",
      "source": [
        "def show_image(im, ax = None, figsize = (3, 3), title = None, **kwargs):\n",
        "\n",
        "  if len(im.shape) > 2 and im.shape[0] == 1: im = im.squeeze()\n",
        "\n",
        "  im = im.numpy()\n",
        "  if not ax: _, ax = plt.subplots(1, 1, figsize = figsize)\n",
        "  ax.imshow(im, **kwargs)\n",
        "  if title: ax.set_title(title)\n",
        "  ax.axis('off')\n",
        "  return ax\n",
        "\n",
        "def get_grid(n_images, n_rows = None, n_cols = None, **kwargs):\n",
        "\n",
        "  if n_rows and n_cols: nr, nc = n_rows, n_cols\n",
        "  elif n_rows and not n_cols: nr, nc = n_rows, math.ceil(n_images/n_rows)\n",
        "  elif n_cols and not n_rows: nr, nc = math.ceil(n_images/n_cols), n_cols\n",
        "  else: nr, nc = math.ceil(n_images/4), 4\n",
        "  fig, axs = plt.subplots(nr, nc, **kwargs)\n",
        "  if nr*nc == 1: axs = [axs]\n",
        "  for i in range(n_images, nr*nc): axs.flat[i].set_axis_off()\n",
        "  return fig, axs.flatten()\n",
        "\n",
        "def display_pixels(im_tensor):\n",
        "  df = pd.DataFrame(im_tensor.squeeze())\n",
        "  df.style.format(precision = 2).set_properties(**{\"font-size\": '7pt'}).background_gradient('Greys')"
      ],
      "metadata": {
        "id": "h7ojE8dY-bY0"
      },
      "execution_count": 3,
      "outputs": []
    },
    {
      "cell_type": "code",
      "source": [
        "def show_images(images, labels = None):\n",
        "\n",
        "  fig, axs = get_grid(len(images))\n",
        "  labels = labels if labels else [None]*len(images)\n",
        "  for img, ax, lbl in zip(images, axs, labels): show_image(img, ax, title = lbl)"
      ],
      "metadata": {
        "id": "LDBXMW4_CwIu"
      },
      "execution_count": 4,
      "outputs": []
    },
    {
      "cell_type": "code",
      "source": [
        "# Prepare the model\n",
        "def conv(n_in, n_out, kernel_size = (3, 3), stride = 2, relu = True):\n",
        "  layer = nn.Conv2d(n_in, n_out, kernel_size, stride = stride, padding = kernel_size[0]//2)\n",
        "  if relu: return nn.Sequential(layer, nn.ReLU())\n",
        "  return layer\n",
        "\n",
        "def fit(model, num_epocs = 100, lr = 0.01, optim = None, loss_fun = None):\n",
        "\n",
        "  opt = torch.optim.SGD(model.parameters(), lr = lr) if not optim  else optim(model.parameters(), lr = lr)\n",
        "  loss_fn = F.cross_entropy if not loss_fun else loss_fun\n",
        "\n",
        "  for i in tqdm(range(num_epocs)):\n",
        "    model.train()\n",
        "    train_losses, valid_losses = [], []\n",
        "    for x, y in train_dl:\n",
        "      x, y = x.to(device), y.to(device)\n",
        "      yhat = model(x)\n",
        "      loss = loss_fn(yhat, y)\n",
        "      loss.backward()\n",
        "      # st()\n",
        "      opt.step()\n",
        "      opt.zero_grad()\n",
        "\n",
        "      train_losses.append(loss.item())\n",
        "\n",
        "    model.eval()\n",
        "    with torch.no_grad():\n",
        "      for vx, vy in valid_dl:\n",
        "        vx, vy = vx.to(device), vy.to(device)\n",
        "        vyhat = model(vx)\n",
        "        vloss = loss_fn(vyhat, vy)\n",
        "        valid_losses.append(vloss.item())\n",
        "\n",
        "    print(f\"epoch: {i}, train_loss: {np.mean(train_losses)}, valid_loss: {np.mean(valid_losses)}\")"
      ],
      "metadata": {
        "id": "ozxODjm-CXLb"
      },
      "execution_count": 5,
      "outputs": []
    },
    {
      "cell_type": "code",
      "source": [
        "def to_device(data, device = torch.device('cuda') if torch.cuda.is_available() else torch.device('cpu')):\n",
        "  return data.to(device)\n",
        "\n",
        "def run_cbs(cbs, name_of_func, *args, **kwargs):\n",
        "  for cb in sorted(cbs, key = attrgetter('order')):\n",
        "    func = getattr(cb, name_of_func, None)\n",
        "    if func: func(*args, **kwargs)\n",
        "\n",
        "def to_cpu(x):\n",
        "  if isinstance(x, Mapping): return {k: to_cpu(v) for k, v in x.items()}\n",
        "  if isinstance(x, list): return [to_cpu(i) for i in x]\n",
        "  if isinstance(x, tuple): return tuple([to_cpu(i) for i in x])\n",
        "  x = x.detach().cpu()\n",
        "  return x.float() if x.dtype == torch.float16 else x\n",
        "\n",
        "class Callback: order = 0"
      ],
      "metadata": {
        "id": "mpO47mpvwqOI"
      },
      "execution_count": 6,
      "outputs": []
    },
    {
      "cell_type": "code",
      "source": [
        "x,y = 'image','label'\n",
        "name = \"fashion_mnist\"\n",
        "dsd = load_dataset(name)\n",
        "\n",
        "def new(some_data):\n",
        "  def transform(some_data):\n",
        "    some_data['image'] = [to_tensor(i) for i in some_data['image']]\n",
        "  transform(some_data)\n",
        "\n",
        "  return some_data\n",
        "\n",
        "def collate_fn(some_data):\n",
        "  sd = (i.values() for i in some_data)\n",
        "  xs, ys = zip(*sd)\n",
        "  return torch.stack(xs), torch.tensor(ys)\n",
        "\n",
        "tds = dsd.with_transform(new)\n",
        "f = partial(DataLoader, batch_size = 64, collate_fn = collate_fn)\n",
        "train_dl, valid_dl = f(tds['train'], shuffle = True), f(tds['test'])"
      ],
      "metadata": {
        "colab": {
          "base_uri": "https://localhost:8080/",
          "height": 373,
          "referenced_widgets": [
            "2d0ba038c82f4b0eb7eef68f89162b61",
            "43e78eb941a8471b8143581eee7f8a90",
            "cf6d54f9e80d4dffb0333397d0e1f2ec",
            "ba6ca4ad65324d188055ea54e175ede9",
            "cf19c087c0114cada190d99f08cc8d0c",
            "8eb149002e084b1f96c41de7de42b49e",
            "0f912cda43a6490a89af80f40a100182",
            "01a27e567f3c4db8b7387e6b7b320577",
            "6cb7c3ac2b174e9cb43451b473e700c0",
            "8852abc431a34a1881ff9be16be79d6a",
            "b624e3352ecc4258af2b01dc10c3ac6d",
            "2f79d60d49694afeacd38ac7623e8ef3",
            "e3edb00c87564a03ac071baada85508d",
            "566d6d708c314b128fcc9f890ab80b63",
            "6ba4f04725f74417a124d2ea4bdae68b",
            "e8d58ebca896413bbbc7e3731e04e610",
            "f4561d10a1674d5293f97bfba071b9a7",
            "0a4d0c5a780c4f968dfe0a7126f2c26c",
            "c0e7d4e0b064404ba9aa046fd211f364",
            "a83ed53a2f4d4a2cae7c668b4f587990",
            "81bff1c0c4e3494c9754accd581e9371",
            "b13cd6180bfa4602b47269cd9a4061ff",
            "36332ff3917d413fae5e43eb85088139",
            "3171e16fccc845d8855520fd643f7373",
            "6e11f1a11a8a4b8d9252e1fb767b072f",
            "3c47e7f1252346e489561398cd512088",
            "49d8825822674ba9bdb97472289a096a",
            "4568fbf96b0f40f681894a642104207c",
            "b9f25d8c17b8472881c632020d61f037",
            "ae7ee1c9ce7349699265ca9cbb942c37",
            "282cde98348a4560934c3a7803c92360",
            "15743148e8384f9b93b3c9583de21254",
            "350debe8a4ad4dbab74637254cc35b9f",
            "e359097e1da64150a21569f2e9704795",
            "fd024bc059014a5f99df0fbbe0e45247",
            "bf08d085097448218440d07e188d8636",
            "cca1a2d6ac6a4d21af6821fc003a3346",
            "dd2d033e77124decb7ea36bf9121929d",
            "c7963fd13fc740ee8537085c45740040",
            "879f61d3a7244de6aab6a8f25b629d79",
            "e5ad7aaa352046cca95de8db19283cc1",
            "125a144cf4064202bcc58c9423ed8160",
            "7805d8f3535b4450885fcea5f3997626",
            "1b948121c5fe476fa106c6883fa6cdb9"
          ]
        },
        "id": "LwUsnFqGyLmv",
        "outputId": "396f6275-88ed-4f99-b864-fbb971ae03ef"
      },
      "execution_count": 7,
      "outputs": [
        {
          "output_type": "stream",
          "name": "stderr",
          "text": [
            "/usr/local/lib/python3.10/dist-packages/huggingface_hub/utils/_token.py:72: UserWarning: \n",
            "The secret `HF_TOKEN` does not exist in your Colab secrets.\n",
            "To authenticate with the Hugging Face Hub, create a token in your settings tab (https://huggingface.co/settings/tokens), set it as secret in your Google Colab and restart your session.\n",
            "You will be able to reuse this secret in all of your notebooks.\n",
            "Please note that authentication is recommended but still optional to access public models or datasets.\n",
            "  warnings.warn(\n",
            "/usr/local/lib/python3.10/dist-packages/huggingface_hub/utils/_token.py:72: UserWarning: \n",
            "The secret `HF_TOKEN` does not exist in your Colab secrets.\n",
            "To authenticate with the Hugging Face Hub, create a token in your settings tab (https://huggingface.co/settings/tokens), set it as secret in your Google Colab and restart your session.\n",
            "You will be able to reuse this secret in all of your notebooks.\n",
            "Please note that authentication is recommended but still optional to access public models or datasets.\n",
            "  warnings.warn(\n"
          ]
        },
        {
          "output_type": "display_data",
          "data": {
            "text/plain": [
              "Downloading data:   0%|          | 0.00/30.9M [00:00<?, ?B/s]"
            ],
            "application/vnd.jupyter.widget-view+json": {
              "version_major": 2,
              "version_minor": 0,
              "model_id": "2d0ba038c82f4b0eb7eef68f89162b61"
            }
          },
          "metadata": {}
        },
        {
          "output_type": "display_data",
          "data": {
            "text/plain": [
              "Downloading data:   0%|          | 0.00/5.18M [00:00<?, ?B/s]"
            ],
            "application/vnd.jupyter.widget-view+json": {
              "version_major": 2,
              "version_minor": 0,
              "model_id": "2f79d60d49694afeacd38ac7623e8ef3"
            }
          },
          "metadata": {}
        },
        {
          "output_type": "display_data",
          "data": {
            "text/plain": [
              "Generating train split: 0 examples [00:00, ? examples/s]"
            ],
            "application/vnd.jupyter.widget-view+json": {
              "version_major": 2,
              "version_minor": 0,
              "model_id": "36332ff3917d413fae5e43eb85088139"
            }
          },
          "metadata": {}
        },
        {
          "output_type": "display_data",
          "data": {
            "text/plain": [
              "Generating test split: 0 examples [00:00, ? examples/s]"
            ],
            "application/vnd.jupyter.widget-view+json": {
              "version_major": 2,
              "version_minor": 0,
              "model_id": "e359097e1da64150a21569f2e9704795"
            }
          },
          "metadata": {}
        }
      ]
    },
    {
      "cell_type": "markdown",
      "source": [
        "# MNIST and Convolutions"
      ],
      "metadata": {
        "id": "nfPCcX0_CAuW"
      }
    },
    {
      "cell_type": "code",
      "source": [
        "ds_builder = load_dataset_builder('mnist')"
      ],
      "metadata": {
        "id": "aSKpxTsT-pQ5"
      },
      "execution_count": null,
      "outputs": []
    },
    {
      "cell_type": "code",
      "source": [
        "ds = load_dataset('mnist')"
      ],
      "metadata": {
        "colab": {
          "base_uri": "https://localhost:8080/",
          "referenced_widgets": [
            "bd2d16ba125d4ba5b8e62c694eb48e8d",
            "47fe5fb8ab5249309c7b9f120ce7904c",
            "68d302e32b3544ee8e41e0c79b4e25a6",
            "0db0df0535f049008aa05aa9ebd624ed",
            "bd5b8e75e6af4a33b24805d4b08f05a9",
            "fe13dc26852949a893425bd857d6568b",
            "d64d0ed714434b4f91443a4ddc42ba3c",
            "791d579dc1ac4778a3544c12ccaf14cb",
            "abd308bd04cd430faff6250092cd7d11",
            "d1731ddb8fb04ff4b5ba6dcd8e125a38",
            "5c22f8424f834a4ca197a3cf04dd2962",
            "721ce9782287448183bcb76e753b8c67",
            "89e44b08add3493595652e9dd8bbc27b",
            "0bedb6069fb74adeb885f74d2b003eb9",
            "fd407a16bf7a458e8020b52c851ef4a2",
            "5f69ca883d524f989e46e22da9a83260",
            "185fe31f00224014991475a22bc31a3b",
            "f64f724f41544c7cb100222dae9192c8",
            "fe762dd83c9e4ad8a6b4d966e4e5099c",
            "8d0c0743afc645f68c1f62dbcbd19e25",
            "0e92eb250d134ff7a8fcc127007b608b",
            "5f13e0a3954548daa07ab7bb9f4598ba",
            "9e706783baac4af98f750523aa36c5a8",
            "0d21b8fd28b94a5fb947a7272099f542",
            "aa53405f78db48e1a4863c816b3df663",
            "9425714a10c04568b08cb6d73ad623ef",
            "9a1207a757514583887230ec36d546c1",
            "c98b5895cd55434c8d4e3df8dc88c90a",
            "ea520d9a69444322861c7f4771e34388",
            "caa3907ccbd6407297f402c781fee6cd",
            "37063d79cd3d4858bbc5125e48b72bad",
            "7f03f8b3d9f949c8b734e3f0945bb968",
            "048da3b679f34180b915f299a6eea567",
            "320811098fd84881b40125851e01d760",
            "9e3571dd512940268401c1859ee214c3",
            "aa696877c2824404bff05a9f72165183",
            "a9cde400869943c5a8d1f5f155b4ac0a",
            "58902a1525f54e92b14d702480f90cf3",
            "a0a479b4cc5d48eda33042b1c01756d3",
            "dd9fc8b509754f0b9e1fc99151f90917",
            "663658726258461bb870ac47677f32f1",
            "6a8ba954ebda498fb29470f217f2272d",
            "0b9375b35fd940a986e8d0158afb8098",
            "8a0d14709c464a4694c195be15c3bda0"
          ]
        },
        "id": "qPdncPH6_bCv",
        "outputId": "a7323e9d-d1bb-4fd3-90f7-6a6a95adaa76"
      },
      "execution_count": null,
      "outputs": [
        {
          "output_type": "display_data",
          "data": {
            "text/plain": [
              "Downloading data:   0%|          | 0.00/15.6M [00:00<?, ?B/s]"
            ],
            "application/vnd.jupyter.widget-view+json": {
              "version_major": 2,
              "version_minor": 0,
              "model_id": "bd2d16ba125d4ba5b8e62c694eb48e8d"
            }
          },
          "metadata": {}
        },
        {
          "output_type": "display_data",
          "data": {
            "text/plain": [
              "Downloading data:   0%|          | 0.00/2.60M [00:00<?, ?B/s]"
            ],
            "application/vnd.jupyter.widget-view+json": {
              "version_major": 2,
              "version_minor": 0,
              "model_id": "721ce9782287448183bcb76e753b8c67"
            }
          },
          "metadata": {}
        },
        {
          "output_type": "display_data",
          "data": {
            "text/plain": [
              "Generating train split: 0 examples [00:00, ? examples/s]"
            ],
            "application/vnd.jupyter.widget-view+json": {
              "version_major": 2,
              "version_minor": 0,
              "model_id": "9e706783baac4af98f750523aa36c5a8"
            }
          },
          "metadata": {}
        },
        {
          "output_type": "display_data",
          "data": {
            "text/plain": [
              "Generating test split: 0 examples [00:00, ? examples/s]"
            ],
            "application/vnd.jupyter.widget-view+json": {
              "version_major": 2,
              "version_minor": 0,
              "model_id": "320811098fd84881b40125851e01d760"
            }
          },
          "metadata": {}
        }
      ]
    },
    {
      "cell_type": "code",
      "source": [
        "ds"
      ],
      "metadata": {
        "colab": {
          "base_uri": "https://localhost:8080/"
        },
        "id": "5G1mxJOZ_fkL",
        "outputId": "effd5447-1225-4385-e4ae-041e472ecc7e"
      },
      "execution_count": null,
      "outputs": [
        {
          "output_type": "execute_result",
          "data": {
            "text/plain": [
              "DatasetDict({\n",
              "    train: Dataset({\n",
              "        features: ['image', 'label'],\n",
              "        num_rows: 60000\n",
              "    })\n",
              "    test: Dataset({\n",
              "        features: ['image', 'label'],\n",
              "        num_rows: 10000\n",
              "    })\n",
              "})"
            ]
          },
          "metadata": {},
          "execution_count": 8
        }
      ]
    },
    {
      "cell_type": "code",
      "source": [],
      "metadata": {
        "id": "wsWbtV02_t03"
      },
      "execution_count": null,
      "outputs": []
    },
    {
      "cell_type": "code",
      "source": [
        "img = ds['train']['image'][0]\n",
        "im_tensor = to_tensor(img)\n",
        "show_image(im_tensor)"
      ],
      "metadata": {
        "colab": {
          "base_uri": "https://localhost:8080/"
        },
        "id": "zifXhfAu_j8g",
        "outputId": "fcd45bac-7c3b-4867-87fe-ddc859921499"
      },
      "execution_count": null,
      "outputs": [
        {
          "output_type": "execute_result",
          "data": {
            "text/plain": [
              "<Axes: >"
            ]
          },
          "metadata": {},
          "execution_count": 10
        },
        {
          "output_type": "display_data",
          "data": {
            "text/plain": [
              "<Figure size 300x300 with 1 Axes>"
            ],
            "image/png": "[encoded data removed]"
          },
          "metadata": {}
        }
      ]
    },
    {
      "cell_type": "code",
      "source": [
        "kernel = torch.Tensor([\n",
        "    [-1, -1, -1],\n",
        "    [0, 0, 0],\n",
        "    [1, 1, 1]\n",
        "]).float()"
      ],
      "metadata": {
        "id": "9mFZUEzFBKnw"
      },
      "execution_count": null,
      "outputs": []
    },
    {
      "cell_type": "code",
      "source": [
        "show_image(kernel)"
      ],
      "metadata": {
        "colab": {
          "base_uri": "https://localhost:8080/"
        },
        "id": "gE9mZVaDB5rM",
        "outputId": "a22ac4b8-941b-465d-d1d9-10efdd9ef12c"
      },
      "execution_count": null,
      "outputs": [
        {
          "output_type": "execute_result",
          "data": {
            "text/plain": [
              "<Axes: >"
            ]
          },
          "metadata": {},
          "execution_count": 12
        },
        {
          "output_type": "display_data",
          "data": {
            "text/plain": [
              "<Figure size 300x300 with 1 Axes>"
            ],
            "image/png": "[encoded data removed]"
          },
          "metadata": {}
        }
      ]
    },
    {
      "cell_type": "code",
      "source": [
        "df = pd.DataFrame(im_tensor.squeeze())"
      ],
      "metadata": {
        "id": "1fsCXewuB6qE"
      },
      "execution_count": null,
      "outputs": []
    },
    {
      "cell_type": "code",
      "source": [
        "df.style.format(precision = 2).set_properties(**{\"font-size\": '7pt'}).background_gradient('Greys')"
      ],
      "metadata": {
        "colab": {
          "base_uri": "https://localhost:8080/"
        },
        "id": "0xeal7-kCBf6",
        "outputId": "c5b045de-28c3-4b4c-cbda-8a278937abe3"
      },
      "execution_count": null,
      "outputs": [
        {
          "output_type": "execute_result",
          "data": {
            "text/plain": [
              "<pandas.io.formats.style.Styler at 0x7b094ca8b6d0>"
            ],
            "text/html": [
              "<style type=\"text/css\">\n",
              "#T_4cd3c_row0_col0, #T_4cd3c_row0_col1, #T_4cd3c_row0_col2, #T_4cd3c_row0_col3, #T_4cd3c_row0_col4, #T_4cd3c_row0_col5, #T_4cd3c_row0_col6, #T_4cd3c_row0_col7, #T_4cd3c_row0_col8, #T_4cd3c_row0_col9, #T_4cd3c_row0_col10, #T_4cd3c_row0_col11, #T_4cd3c_row0_col12, #T_4cd3c_row0_col13, #T_4cd3c_row0_col14, #T_4cd3c_row0_col15, #T_4cd3c_row0_col16, #T_4cd3c_row0_col17, #T_4cd3c_row0_col18, #T_4cd3c_row0_col19, #T_4cd3c_row0_col20, #T_4cd3c_row0_col21, #T_4cd3c_row0_col22, #T_4cd3c_row0_col23, #T_4cd3c_row0_col24, #T_4cd3c_row0_col25, #T_4cd3c_row0_col26, #T_4cd3c_row0_col27, #T_4cd3c_row1_col0, #T_4cd3c_row1_col1, #T_4cd3c_row1_col2, #T_4cd3c_row1_col3, #T_4cd3c_row1_col4, #T_4cd3c_row1_col5, #T_4cd3c_row1_col6, #T_4cd3c_row1_col7, #T_4cd3c_row1_col8, #T_4cd3c_row1_col9, #T_4cd3c_row1_col10, #T_4cd3c_row1_col11, #T_4cd3c_row1_col12, #T_4cd3c_row1_col13, #T_4cd3c_row1_col14, #T_4cd3c_row1_col15, #T_4cd3c_row1_col16, #T_4cd3c_row1_col17, #T_4cd3c_row1_col18, #T_4cd3c_row1_col19, #T_4cd3c_row1_col20, #T_4cd3c_row1_col21, #T_4cd3c_row1_col22, #T_4cd3c_row1_col23, #T_4cd3c_row1_col24, #T_4cd3c_row1_col25, #T_4cd3c_row1_col26, #T_4cd3c_row1_col27, #T_4cd3c_row2_col0, #T_4cd3c_row2_col1, #T_4cd3c_row2_col2, #T_4cd3c_row2_col3, #T_4cd3c_row2_col4, #T_4cd3c_row2_col5, #T_4cd3c_row2_col6, #T_4cd3c_row2_col7, #T_4cd3c_row2_col8, #T_4cd3c_row2_col9, #T_4cd3c_row2_col10, #T_4cd3c_row2_col11, #T_4cd3c_row2_col12, #T_4cd3c_row2_col13, #T_4cd3c_row2_col14, #T_4cd3c_row2_col15, #T_4cd3c_row2_col16, #T_4cd3c_row2_col17, #T_4cd3c_row2_col18, #T_4cd3c_row2_col19, #T_4cd3c_row2_col20, #T_4cd3c_row2_col21, #T_4cd3c_row2_col22, #T_4cd3c_row2_col23, #T_4cd3c_row2_col24, #T_4cd3c_row2_col25, #T_4cd3c_row2_col26, #T_4cd3c_row2_col27, #T_4cd3c_row3_col0, #T_4cd3c_row3_col1, #T_4cd3c_row3_col2, #T_4cd3c_row3_col3, #T_4cd3c_row3_col4, #T_4cd3c_row3_col5, #T_4cd3c_row3_col6, #T_4cd3c_row3_col7, #T_4cd3c_row3_col8, #T_4cd3c_row3_col9, #T_4cd3c_row3_col10, #T_4cd3c_row3_col11, #T_4cd3c_row3_col12, #T_4cd3c_row3_col13, #T_4cd3c_row3_col14, #T_4cd3c_row3_col15, #T_4cd3c_row3_col16, #T_4cd3c_row3_col17, #T_4cd3c_row3_col18, #T_4cd3c_row3_col19, #T_4cd3c_row3_col20, #T_4cd3c_row3_col21, #T_4cd3c_row3_col22, #T_4cd3c_row3_col23, #T_4cd3c_row3_col24, #T_4cd3c_row3_col25, #T_4cd3c_row3_col26, #T_4cd3c_row3_col27, #T_4cd3c_row4_col0, #T_4cd3c_row4_col1, #T_4cd3c_row4_col2, #T_4cd3c_row4_col3, #T_4cd3c_row4_col4, #T_4cd3c_row4_col5, #T_4cd3c_row4_col6, #T_4cd3c_row4_col7, #T_4cd3c_row4_col8, #T_4cd3c_row4_col9, #T_4cd3c_row4_col10, #T_4cd3c_row4_col11, #T_4cd3c_row4_col12, #T_4cd3c_row4_col13, #T_4cd3c_row4_col14, #T_4cd3c_row4_col15, #T_4cd3c_row4_col16, #T_4cd3c_row4_col17, #T_4cd3c_row4_col18, #T_4cd3c_row4_col19, #T_4cd3c_row4_col20, #T_4cd3c_row4_col21, #T_4cd3c_row4_col22, #T_4cd3c_row4_col23, #T_4cd3c_row4_col24, #T_4cd3c_row4_col25, #T_4cd3c_row4_col26, #T_4cd3c_row4_col27, #T_4cd3c_row5_col0, #T_4cd3c_row5_col1, #T_4cd3c_row5_col2, #T_4cd3c_row5_col3, #T_4cd3c_row5_col4, #T_4cd3c_row5_col5, #T_4cd3c_row5_col6, #T_4cd3c_row5_col7, #T_4cd3c_row5_col8, #T_4cd3c_row5_col9, #T_4cd3c_row5_col10, #T_4cd3c_row5_col11, #T_4cd3c_row5_col24, #T_4cd3c_row5_col25, #T_4cd3c_row5_col26, #T_4cd3c_row5_col27, #T_4cd3c_row6_col0, #T_4cd3c_row6_col1, #T_4cd3c_row6_col2, #T_4cd3c_row6_col3, #T_4cd3c_row6_col4, #T_4cd3c_row6_col5, #T_4cd3c_row6_col6, #T_4cd3c_row6_col7, #T_4cd3c_row6_col24, #T_4cd3c_row6_col25, #T_4cd3c_row6_col26, #T_4cd3c_row6_col27, #T_4cd3c_row7_col0, #T_4cd3c_row7_col1, #T_4cd3c_row7_col2, #T_4cd3c_row7_col3, #T_4cd3c_row7_col4, #T_4cd3c_row7_col5, #T_4cd3c_row7_col6, #T_4cd3c_row7_col23, #T_4cd3c_row7_col24, #T_4cd3c_row7_col25, #T_4cd3c_row7_col26, #T_4cd3c_row7_col27, #T_4cd3c_row8_col0, #T_4cd3c_row8_col1, #T_4cd3c_row8_col2, #T_4cd3c_row8_col3, #T_4cd3c_row8_col4, #T_4cd3c_row8_col5, #T_4cd3c_row8_col6, #T_4cd3c_row8_col18, #T_4cd3c_row8_col19, #T_4cd3c_row8_col20, #T_4cd3c_row8_col21, #T_4cd3c_row8_col22, #T_4cd3c_row8_col23, #T_4cd3c_row8_col24, #T_4cd3c_row8_col25, #T_4cd3c_row8_col26, #T_4cd3c_row8_col27, #T_4cd3c_row9_col0, #T_4cd3c_row9_col1, #T_4cd3c_row9_col2, #T_4cd3c_row9_col3, #T_4cd3c_row9_col4, #T_4cd3c_row9_col5, #T_4cd3c_row9_col6, #T_4cd3c_row9_col7, #T_4cd3c_row9_col15, #T_4cd3c_row9_col18, #T_4cd3c_row9_col19, #T_4cd3c_row9_col20, #T_4cd3c_row9_col21, #T_4cd3c_row9_col22, #T_4cd3c_row9_col23, #T_4cd3c_row9_col24, #T_4cd3c_row9_col25, #T_4cd3c_row9_col26, #T_4cd3c_row9_col27, #T_4cd3c_row10_col0, #T_4cd3c_row10_col1, #T_4cd3c_row10_col2, #T_4cd3c_row10_col3, #T_4cd3c_row10_col4, #T_4cd3c_row10_col5, #T_4cd3c_row10_col6, #T_4cd3c_row10_col7, #T_4cd3c_row10_col8, #T_4cd3c_row10_col10, #T_4cd3c_row10_col14, #T_4cd3c_row10_col15, #T_4cd3c_row10_col16, #T_4cd3c_row10_col17, #T_4cd3c_row10_col18, #T_4cd3c_row10_col19, #T_4cd3c_row10_col20, #T_4cd3c_row10_col21, #T_4cd3c_row10_col22, #T_4cd3c_row10_col23, #T_4cd3c_row10_col24, #T_4cd3c_row10_col25, #T_4cd3c_row10_col26, #T_4cd3c_row10_col27, #T_4cd3c_row11_col0, #T_4cd3c_row11_col1, #T_4cd3c_row11_col2, #T_4cd3c_row11_col3, #T_4cd3c_row11_col4, #T_4cd3c_row11_col5, #T_4cd3c_row11_col6, #T_4cd3c_row11_col7, #T_4cd3c_row11_col8, #T_4cd3c_row11_col9, #T_4cd3c_row11_col10, #T_4cd3c_row11_col15, #T_4cd3c_row11_col16, #T_4cd3c_row11_col17, #T_4cd3c_row11_col18, #T_4cd3c_row11_col19, #T_4cd3c_row11_col20, #T_4cd3c_row11_col21, #T_4cd3c_row11_col22, #T_4cd3c_row11_col23, #T_4cd3c_row11_col24, #T_4cd3c_row11_col25, #T_4cd3c_row11_col26, #T_4cd3c_row11_col27, #T_4cd3c_row12_col0, #T_4cd3c_row12_col1, #T_4cd3c_row12_col2, #T_4cd3c_row12_col3, #T_4cd3c_row12_col4, #T_4cd3c_row12_col5, #T_4cd3c_row12_col6, #T_4cd3c_row12_col7, #T_4cd3c_row12_col8, #T_4cd3c_row12_col9, #T_4cd3c_row12_col10, #T_4cd3c_row12_col15, #T_4cd3c_row12_col16, #T_4cd3c_row12_col17, #T_4cd3c_row12_col18, #T_4cd3c_row12_col19, #T_4cd3c_row12_col20, #T_4cd3c_row12_col21, #T_4cd3c_row12_col22, #T_4cd3c_row12_col23, #T_4cd3c_row12_col24, #T_4cd3c_row12_col25, #T_4cd3c_row12_col26, #T_4cd3c_row12_col27, #T_4cd3c_row13_col0, #T_4cd3c_row13_col1, #T_4cd3c_row13_col2, #T_4cd3c_row13_col3, #T_4cd3c_row13_col4, #T_4cd3c_row13_col5, #T_4cd3c_row13_col6, #T_4cd3c_row13_col7, #T_4cd3c_row13_col8, #T_4cd3c_row13_col9, #T_4cd3c_row13_col10, #T_4cd3c_row13_col11, #T_4cd3c_row13_col17, #T_4cd3c_row13_col18, #T_4cd3c_row13_col19, #T_4cd3c_row13_col20, #T_4cd3c_row13_col21, #T_4cd3c_row13_col22, #T_4cd3c_row13_col23, #T_4cd3c_row13_col24, #T_4cd3c_row13_col25, #T_4cd3c_row13_col26, #T_4cd3c_row13_col27, #T_4cd3c_row14_col0, #T_4cd3c_row14_col1, #T_4cd3c_row14_col2, #T_4cd3c_row14_col3, #T_4cd3c_row14_col4, #T_4cd3c_row14_col5, #T_4cd3c_row14_col6, #T_4cd3c_row14_col7, #T_4cd3c_row14_col8, #T_4cd3c_row14_col9, #T_4cd3c_row14_col10, #T_4cd3c_row14_col11, #T_4cd3c_row14_col12, #T_4cd3c_row14_col19, #T_4cd3c_row14_col20, #T_4cd3c_row14_col21, #T_4cd3c_row14_col22, #T_4cd3c_row14_col23, #T_4cd3c_row14_col24, #T_4cd3c_row14_col25, #T_4cd3c_row14_col26, #T_4cd3c_row14_col27, #T_4cd3c_row15_col0, #T_4cd3c_row15_col1, #T_4cd3c_row15_col2, #T_4cd3c_row15_col3, #T_4cd3c_row15_col4, #T_4cd3c_row15_col5, #T_4cd3c_row15_col6, #T_4cd3c_row15_col7, #T_4cd3c_row15_col8, #T_4cd3c_row15_col9, #T_4cd3c_row15_col10, #T_4cd3c_row15_col11, #T_4cd3c_row15_col12, #T_4cd3c_row15_col13, #T_4cd3c_row15_col20, #T_4cd3c_row15_col21, #T_4cd3c_row15_col22, #T_4cd3c_row15_col23, #T_4cd3c_row15_col24, #T_4cd3c_row15_col25, #T_4cd3c_row15_col26, #T_4cd3c_row15_col27, #T_4cd3c_row16_col0, #T_4cd3c_row16_col1, #T_4cd3c_row16_col2, #T_4cd3c_row16_col3, #T_4cd3c_row16_col4, #T_4cd3c_row16_col5, #T_4cd3c_row16_col6, #T_4cd3c_row16_col7, #T_4cd3c_row16_col8, #T_4cd3c_row16_col9, #T_4cd3c_row16_col10, #T_4cd3c_row16_col11, #T_4cd3c_row16_col12, #T_4cd3c_row16_col13, #T_4cd3c_row16_col14, #T_4cd3c_row16_col20, #T_4cd3c_row16_col21, #T_4cd3c_row16_col22, #T_4cd3c_row16_col23, #T_4cd3c_row16_col24, #T_4cd3c_row16_col25, #T_4cd3c_row16_col26, #T_4cd3c_row16_col27, #T_4cd3c_row17_col0, #T_4cd3c_row17_col1, #T_4cd3c_row17_col2, #T_4cd3c_row17_col3, #T_4cd3c_row17_col4, #T_4cd3c_row17_col5, #T_4cd3c_row17_col6, #T_4cd3c_row17_col7, #T_4cd3c_row17_col8, #T_4cd3c_row17_col9, #T_4cd3c_row17_col10, #T_4cd3c_row17_col11, #T_4cd3c_row17_col12, #T_4cd3c_row17_col13, #T_4cd3c_row17_col14, #T_4cd3c_row17_col15, #T_4cd3c_row17_col16, #T_4cd3c_row17_col21, #T_4cd3c_row17_col22, #T_4cd3c_row17_col23, #T_4cd3c_row17_col24, #T_4cd3c_row17_col25, #T_4cd3c_row17_col26, #T_4cd3c_row17_col27, #T_4cd3c_row18_col0, #T_4cd3c_row18_col1, #T_4cd3c_row18_col2, #T_4cd3c_row18_col3, #T_4cd3c_row18_col4, #T_4cd3c_row18_col5, #T_4cd3c_row18_col6, #T_4cd3c_row18_col7, #T_4cd3c_row18_col8, #T_4cd3c_row18_col9, #T_4cd3c_row18_col10, #T_4cd3c_row18_col11, #T_4cd3c_row18_col12, #T_4cd3c_row18_col13, #T_4cd3c_row18_col21, #T_4cd3c_row18_col22, #T_4cd3c_row18_col23, #T_4cd3c_row18_col24, #T_4cd3c_row18_col25, #T_4cd3c_row18_col26, #T_4cd3c_row18_col27, #T_4cd3c_row19_col0, #T_4cd3c_row19_col1, #T_4cd3c_row19_col2, #T_4cd3c_row19_col3, #T_4cd3c_row19_col4, #T_4cd3c_row19_col5, #T_4cd3c_row19_col6, #T_4cd3c_row19_col7, #T_4cd3c_row19_col8, #T_4cd3c_row19_col9, #T_4cd3c_row19_col10, #T_4cd3c_row19_col11, #T_4cd3c_row19_col20, #T_4cd3c_row19_col21, #T_4cd3c_row19_col22, #T_4cd3c_row19_col23, #T_4cd3c_row19_col24, #T_4cd3c_row19_col25, #T_4cd3c_row19_col26, #T_4cd3c_row19_col27, #T_4cd3c_row20_col0, #T_4cd3c_row20_col1, #T_4cd3c_row20_col2, #T_4cd3c_row20_col3, #T_4cd3c_row20_col4, #T_4cd3c_row20_col5, #T_4cd3c_row20_col6, #T_4cd3c_row20_col7, #T_4cd3c_row20_col8, #T_4cd3c_row20_col9, #T_4cd3c_row20_col19, #T_4cd3c_row20_col20, #T_4cd3c_row20_col21, #T_4cd3c_row20_col22, #T_4cd3c_row20_col23, #T_4cd3c_row20_col24, #T_4cd3c_row20_col25, #T_4cd3c_row20_col26, #T_4cd3c_row20_col27, #T_4cd3c_row21_col0, #T_4cd3c_row21_col1, #T_4cd3c_row21_col2, #T_4cd3c_row21_col3, #T_4cd3c_row21_col4, #T_4cd3c_row21_col5, #T_4cd3c_row21_col6, #T_4cd3c_row21_col7, #T_4cd3c_row21_col18, #T_4cd3c_row21_col19, #T_4cd3c_row21_col20, #T_4cd3c_row21_col21, #T_4cd3c_row21_col22, #T_4cd3c_row21_col23, #T_4cd3c_row21_col24, #T_4cd3c_row21_col25, #T_4cd3c_row21_col26, #T_4cd3c_row21_col27, #T_4cd3c_row22_col0, #T_4cd3c_row22_col1, #T_4cd3c_row22_col2, #T_4cd3c_row22_col3, #T_4cd3c_row22_col4, #T_4cd3c_row22_col5, #T_4cd3c_row22_col16, #T_4cd3c_row22_col17, #T_4cd3c_row22_col18, #T_4cd3c_row22_col19, #T_4cd3c_row22_col20, #T_4cd3c_row22_col21, #T_4cd3c_row22_col22, #T_4cd3c_row22_col23, #T_4cd3c_row22_col24, #T_4cd3c_row22_col25, #T_4cd3c_row22_col26, #T_4cd3c_row22_col27, #T_4cd3c_row23_col0, #T_4cd3c_row23_col1, #T_4cd3c_row23_col2, #T_4cd3c_row23_col3, #T_4cd3c_row23_col14, #T_4cd3c_row23_col15, #T_4cd3c_row23_col16, #T_4cd3c_row23_col17, #T_4cd3c_row23_col18, #T_4cd3c_row23_col19, #T_4cd3c_row23_col20, #T_4cd3c_row23_col21, #T_4cd3c_row23_col22, #T_4cd3c_row23_col23, #T_4cd3c_row23_col24, #T_4cd3c_row23_col25, #T_4cd3c_row23_col26, #T_4cd3c_row23_col27, #T_4cd3c_row24_col0, #T_4cd3c_row24_col1, #T_4cd3c_row24_col2, #T_4cd3c_row24_col3, #T_4cd3c_row24_col12, #T_4cd3c_row24_col13, #T_4cd3c_row24_col14, #T_4cd3c_row24_col15, #T_4cd3c_row24_col16, #T_4cd3c_row24_col17, #T_4cd3c_row24_col18, #T_4cd3c_row24_col19, #T_4cd3c_row24_col20, #T_4cd3c_row24_col21, #T_4cd3c_row24_col22, #T_4cd3c_row24_col23, #T_4cd3c_row24_col24, #T_4cd3c_row24_col25, #T_4cd3c_row24_col26, #T_4cd3c_row24_col27, #T_4cd3c_row25_col0, #T_4cd3c_row25_col1, #T_4cd3c_row25_col2, #T_4cd3c_row25_col3, #T_4cd3c_row25_col4, #T_4cd3c_row25_col5, #T_4cd3c_row25_col6, #T_4cd3c_row25_col7, #T_4cd3c_row25_col8, #T_4cd3c_row25_col9, #T_4cd3c_row25_col10, #T_4cd3c_row25_col11, #T_4cd3c_row25_col12, #T_4cd3c_row25_col13, #T_4cd3c_row25_col14, #T_4cd3c_row25_col15, #T_4cd3c_row25_col16, #T_4cd3c_row25_col17, #T_4cd3c_row25_col18, #T_4cd3c_row25_col19, #T_4cd3c_row25_col20, #T_4cd3c_row25_col21, #T_4cd3c_row25_col22, #T_4cd3c_row25_col23, #T_4cd3c_row25_col24, #T_4cd3c_row25_col25, #T_4cd3c_row25_col26, #T_4cd3c_row25_col27, #T_4cd3c_row26_col0, #T_4cd3c_row26_col1, #T_4cd3c_row26_col2, #T_4cd3c_row26_col3, #T_4cd3c_row26_col4, #T_4cd3c_row26_col5, #T_4cd3c_row26_col6, #T_4cd3c_row26_col7, #T_4cd3c_row26_col8, #T_4cd3c_row26_col9, #T_4cd3c_row26_col10, #T_4cd3c_row26_col11, #T_4cd3c_row26_col12, #T_4cd3c_row26_col13, #T_4cd3c_row26_col14, #T_4cd3c_row26_col15, #T_4cd3c_row26_col16, #T_4cd3c_row26_col17, #T_4cd3c_row26_col18, #T_4cd3c_row26_col19, #T_4cd3c_row26_col20, #T_4cd3c_row26_col21, #T_4cd3c_row26_col22, #T_4cd3c_row26_col23, #T_4cd3c_row26_col24, #T_4cd3c_row26_col25, #T_4cd3c_row26_col26, #T_4cd3c_row26_col27, #T_4cd3c_row27_col0, #T_4cd3c_row27_col1, #T_4cd3c_row27_col2, #T_4cd3c_row27_col3, #T_4cd3c_row27_col4, #T_4cd3c_row27_col5, #T_4cd3c_row27_col6, #T_4cd3c_row27_col7, #T_4cd3c_row27_col8, #T_4cd3c_row27_col9, #T_4cd3c_row27_col10, #T_4cd3c_row27_col11, #T_4cd3c_row27_col12, #T_4cd3c_row27_col13, #T_4cd3c_row27_col14, #T_4cd3c_row27_col15, #T_4cd3c_row27_col16, #T_4cd3c_row27_col17, #T_4cd3c_row27_col18, #T_4cd3c_row27_col19, #T_4cd3c_row27_col20, #T_4cd3c_row27_col21, #T_4cd3c_row27_col22, #T_4cd3c_row27_col23, #T_4cd3c_row27_col24, #T_4cd3c_row27_col25, #T_4cd3c_row27_col26, #T_4cd3c_row27_col27 {\n",
              "  font-size: 7pt;\n",
              "  background-color: #ffffff;\n",
              "  color: #000000;\n",
              "}\n",
              "#T_4cd3c_row5_col12, #T_4cd3c_row11_col14, #T_4cd3c_row18_col20, #T_4cd3c_row21_col17 {\n",
              "  font-size: 7pt;\n",
              "  background-color: #fefefe;\n",
              "  color: #000000;\n",
              "}\n",
              "#T_4cd3c_row5_col13, #T_4cd3c_row5_col14, #T_4cd3c_row5_col15, #T_4cd3c_row8_col7, #T_4cd3c_row16_col15, #T_4cd3c_row22_col6, #T_4cd3c_row24_col11 {\n",
              "  font-size: 7pt;\n",
              "  background-color: #f7f7f7;\n",
              "  color: #000000;\n",
              "}\n",
              "#T_4cd3c_row5_col16 {\n",
              "  font-size: 7pt;\n",
              "  background-color: #979797;\n",
              "  color: #f1f1f1;\n",
              "}\n",
              "#T_4cd3c_row5_col17 {\n",
              "  font-size: 7pt;\n",
              "  background-color: #8c8c8c;\n",
              "  color: #f1f1f1;\n",
              "}\n",
              "#T_4cd3c_row5_col18 {\n",
              "  font-size: 7pt;\n",
              "  background-color: #616161;\n",
              "  color: #f1f1f1;\n",
              "}\n",
              "#T_4cd3c_row5_col19, #T_4cd3c_row14_col18 {\n",
              "  font-size: 7pt;\n",
              "  background-color: #f3f3f3;\n",
              "  color: #000000;\n",
              "}\n",
              "#T_4cd3c_row5_col20 {\n",
              "  font-size: 7pt;\n",
              "  background-color: #6b6b6b;\n",
              "  color: #f1f1f1;\n",
              "}\n",
              "#T_4cd3c_row5_col21, #T_4cd3c_row5_col22, #T_4cd3c_row5_col23, #T_4cd3c_row6_col13, #T_4cd3c_row6_col14, #T_4cd3c_row6_col15, #T_4cd3c_row6_col16, #T_4cd3c_row6_col17, #T_4cd3c_row6_col20, #T_4cd3c_row7_col9, #T_4cd3c_row7_col10, #T_4cd3c_row7_col11, #T_4cd3c_row7_col12, #T_4cd3c_row7_col13, #T_4cd3c_row7_col14, #T_4cd3c_row7_col15, #T_4cd3c_row7_col16, #T_4cd3c_row8_col9, #T_4cd3c_row8_col10, #T_4cd3c_row8_col11, #T_4cd3c_row8_col12, #T_4cd3c_row8_col13, #T_4cd3c_row9_col11, #T_4cd3c_row9_col12, #T_4cd3c_row10_col12, #T_4cd3c_row11_col12, #T_4cd3c_row12_col13, #T_4cd3c_row14_col15, #T_4cd3c_row14_col16, #T_4cd3c_row15_col16, #T_4cd3c_row15_col17, #T_4cd3c_row16_col18, #T_4cd3c_row17_col18, #T_4cd3c_row17_col19, #T_4cd3c_row18_col17, #T_4cd3c_row18_col18, #T_4cd3c_row19_col15, #T_4cd3c_row19_col16, #T_4cd3c_row19_col17, #T_4cd3c_row20_col13, #T_4cd3c_row20_col14, #T_4cd3c_row20_col15, #T_4cd3c_row20_col16, #T_4cd3c_row21_col11, #T_4cd3c_row21_col12, #T_4cd3c_row21_col13, #T_4cd3c_row21_col14, #T_4cd3c_row22_col9, #T_4cd3c_row22_col10, #T_4cd3c_row22_col11, #T_4cd3c_row22_col12, #T_4cd3c_row23_col7, #T_4cd3c_row23_col8, #T_4cd3c_row23_col9, #T_4cd3c_row23_col10, #T_4cd3c_row24_col4, #T_4cd3c_row24_col5, #T_4cd3c_row24_col6, #T_4cd3c_row24_col7 {\n",
              "  font-size: 7pt;\n",
              "  background-color: #000000;\n",
              "  color: #f1f1f1;\n",
              "}\n",
              "#T_4cd3c_row6_col8 {\n",
              "  font-size: 7pt;\n",
              "  background-color: #f1f1f1;\n",
              "  color: #000000;\n",
              "}\n",
              "#T_4cd3c_row6_col9 {\n",
              "  font-size: 7pt;\n",
              "  background-color: #ededed;\n",
              "  color: #000000;\n",
              "}\n",
              "#T_4cd3c_row6_col10, #T_4cd3c_row7_col18, #T_4cd3c_row16_col16 {\n",
              "  font-size: 7pt;\n",
              "  background-color: #bebebe;\n",
              "  color: #000000;\n",
              "}\n",
              "#T_4cd3c_row6_col11, #T_4cd3c_row9_col17, #T_4cd3c_row10_col11 {\n",
              "  font-size: 7pt;\n",
              "  background-color: #787878;\n",
              "  color: #f1f1f1;\n",
              "}\n",
              "#T_4cd3c_row6_col12 {\n",
              "  font-size: 7pt;\n",
              "  background-color: #666666;\n",
              "  color: #f1f1f1;\n",
              "}\n",
              "#T_4cd3c_row6_col18, #T_4cd3c_row13_col14 {\n",
              "  font-size: 7pt;\n",
              "  background-color: #212121;\n",
              "  color: #f1f1f1;\n",
              "}\n",
              "#T_4cd3c_row6_col19 {\n",
              "  font-size: 7pt;\n",
              "  background-color: #626262;\n",
              "  color: #f1f1f1;\n",
              "}\n",
              "#T_4cd3c_row6_col21, #T_4cd3c_row14_col14 {\n",
              "  font-size: 7pt;\n",
              "  background-color: #0f0f0f;\n",
              "  color: #f1f1f1;\n",
              "}\n",
              "#T_4cd3c_row6_col22 {\n",
              "  font-size: 7pt;\n",
              "  background-color: #434343;\n",
              "  color: #f1f1f1;\n",
              "}\n",
              "#T_4cd3c_row6_col23 {\n",
              "  font-size: 7pt;\n",
              "  background-color: #949494;\n",
              "  color: #f1f1f1;\n",
              "}\n",
              "#T_4cd3c_row7_col7 {\n",
              "  font-size: 7pt;\n",
              "  background-color: #e4e4e4;\n",
              "  color: #000000;\n",
              "}\n",
              "#T_4cd3c_row7_col8 {\n",
              "  font-size: 7pt;\n",
              "  background-color: #111111;\n",
              "  color: #f1f1f1;\n",
              "}\n",
              "#T_4cd3c_row7_col17 {\n",
              "  font-size: 7pt;\n",
              "  background-color: #020202;\n",
              "  color: #f1f1f1;\n",
              "}\n",
              "#T_4cd3c_row7_col19 {\n",
              "  font-size: 7pt;\n",
              "  background-color: #c7c7c7;\n",
              "  color: #000000;\n",
              "}\n",
              "#T_4cd3c_row7_col20 {\n",
              "  font-size: 7pt;\n",
              "  background-color: #c9c9c9;\n",
              "  color: #000000;\n",
              "}\n",
              "#T_4cd3c_row7_col21 {\n",
              "  font-size: 7pt;\n",
              "  background-color: #dfdfdf;\n",
              "  color: #000000;\n",
              "}\n",
              "#T_4cd3c_row7_col22 {\n",
              "  font-size: 7pt;\n",
              "  background-color: #eaeaea;\n",
              "  color: #000000;\n",
              "}\n",
              "#T_4cd3c_row8_col8, #T_4cd3c_row22_col8 {\n",
              "  font-size: 7pt;\n",
              "  background-color: #282828;\n",
              "  color: #f1f1f1;\n",
              "}\n",
              "#T_4cd3c_row8_col14, #T_4cd3c_row21_col15 {\n",
              "  font-size: 7pt;\n",
              "  background-color: #464646;\n",
              "  color: #f1f1f1;\n",
              "}\n",
              "#T_4cd3c_row8_col15 {\n",
              "  font-size: 7pt;\n",
              "  background-color: #5a5a5a;\n",
              "  color: #f1f1f1;\n",
              "}\n",
              "#T_4cd3c_row8_col16 {\n",
              "  font-size: 7pt;\n",
              "  background-color: #070707;\n",
              "  color: #f1f1f1;\n",
              "}\n",
              "#T_4cd3c_row8_col17, #T_4cd3c_row13_col13 {\n",
              "  font-size: 7pt;\n",
              "  background-color: #0e0e0e;\n",
              "  color: #f1f1f1;\n",
              "}\n",
              "#T_4cd3c_row9_col8, #T_4cd3c_row22_col14 {\n",
              "  font-size: 7pt;\n",
              "  background-color: #cbcbcb;\n",
              "  color: #000000;\n",
              "}\n",
              "#T_4cd3c_row9_col9 {\n",
              "  font-size: 7pt;\n",
              "  background-color: #767676;\n",
              "  color: #f1f1f1;\n",
              "}\n",
              "#T_4cd3c_row9_col10 {\n",
              "  font-size: 7pt;\n",
              "  background-color: #aeaeae;\n",
              "  color: #000000;\n",
              "}\n",
              "#T_4cd3c_row9_col13 {\n",
              "  font-size: 7pt;\n",
              "  background-color: #3c3c3c;\n",
              "  color: #f1f1f1;\n",
              "}\n",
              "#T_4cd3c_row9_col14, #T_4cd3c_row12_col11, #T_4cd3c_row23_col13 {\n",
              "  font-size: 7pt;\n",
              "  background-color: #fafafa;\n",
              "  color: #000000;\n",
              "}\n",
              "#T_4cd3c_row9_col16 {\n",
              "  font-size: 7pt;\n",
              "  background-color: #e8e8e8;\n",
              "  color: #000000;\n",
              "}\n",
              "#T_4cd3c_row10_col9 {\n",
              "  font-size: 7pt;\n",
              "  background-color: #f8f8f8;\n",
              "  color: #000000;\n",
              "}\n",
              "#T_4cd3c_row10_col13 {\n",
              "  font-size: 7pt;\n",
              "  background-color: #c1c1c1;\n",
              "  color: #000000;\n",
              "}\n",
              "#T_4cd3c_row11_col11 {\n",
              "  font-size: 7pt;\n",
              "  background-color: #888888;\n",
              "  color: #f1f1f1;\n",
              "}\n",
              "#T_4cd3c_row11_col13, #T_4cd3c_row12_col12, #T_4cd3c_row16_col19 {\n",
              "  font-size: 7pt;\n",
              "  background-color: #515151;\n",
              "  color: #f1f1f1;\n",
              "}\n",
              "#T_4cd3c_row12_col14 {\n",
              "  font-size: 7pt;\n",
              "  background-color: #d4d4d4;\n",
              "  color: #000000;\n",
              "}\n",
              "#T_4cd3c_row13_col12 {\n",
              "  font-size: 7pt;\n",
              "  background-color: #eeeeee;\n",
              "  color: #000000;\n",
              "}\n",
              "#T_4cd3c_row13_col15 {\n",
              "  font-size: 7pt;\n",
              "  background-color: #717171;\n",
              "  color: #f1f1f1;\n",
              "}\n",
              "#T_4cd3c_row13_col16 {\n",
              "  font-size: 7pt;\n",
              "  background-color: #adadad;\n",
              "  color: #000000;\n",
              "}\n",
              "#T_4cd3c_row14_col13, #T_4cd3c_row21_col16 {\n",
              "  font-size: 7pt;\n",
              "  background-color: #cacaca;\n",
              "  color: #000000;\n",
              "}\n",
              "#T_4cd3c_row14_col17 {\n",
              "  font-size: 7pt;\n",
              "  background-color: #9f9f9f;\n",
              "  color: #f1f1f1;\n",
              "}\n",
              "#T_4cd3c_row15_col14 {\n",
              "  font-size: 7pt;\n",
              "  background-color: #e7e7e7;\n",
              "  color: #000000;\n",
              "}\n",
              "#T_4cd3c_row15_col15 {\n",
              "  font-size: 7pt;\n",
              "  background-color: #555555;\n",
              "  color: #f1f1f1;\n",
              "}\n",
              "#T_4cd3c_row15_col18 {\n",
              "  font-size: 7pt;\n",
              "  background-color: #7c7c7c;\n",
              "  color: #f1f1f1;\n",
              "}\n",
              "#T_4cd3c_row15_col19 {\n",
              "  font-size: 7pt;\n",
              "  background-color: #f2f2f2;\n",
              "  color: #000000;\n",
              "}\n",
              "#T_4cd3c_row16_col17 {\n",
              "  font-size: 7pt;\n",
              "  background-color: #010101;\n",
              "  color: #f1f1f1;\n",
              "}\n",
              "#T_4cd3c_row17_col17 {\n",
              "  font-size: 7pt;\n",
              "  background-color: #050505;\n",
              "  color: #f1f1f1;\n",
              "}\n",
              "#T_4cd3c_row17_col20 {\n",
              "  font-size: 7pt;\n",
              "  background-color: #d9d9d9;\n",
              "  color: #000000;\n",
              "}\n",
              "#T_4cd3c_row18_col14 {\n",
              "  font-size: 7pt;\n",
              "  background-color: #e6e6e6;\n",
              "  color: #000000;\n",
              "}\n",
              "#T_4cd3c_row18_col15 {\n",
              "  font-size: 7pt;\n",
              "  background-color: #929292;\n",
              "  color: #f1f1f1;\n",
              "}\n",
              "#T_4cd3c_row18_col16 {\n",
              "  font-size: 7pt;\n",
              "  background-color: #585858;\n",
              "  color: #f1f1f1;\n",
              "}\n",
              "#T_4cd3c_row18_col19 {\n",
              "  font-size: 7pt;\n",
              "  background-color: #353535;\n",
              "  color: #f1f1f1;\n",
              "}\n",
              "#T_4cd3c_row19_col12 {\n",
              "  font-size: 7pt;\n",
              "  background-color: #ebebeb;\n",
              "  color: #000000;\n",
              "}\n",
              "#T_4cd3c_row19_col13 {\n",
              "  font-size: 7pt;\n",
              "  background-color: #7e7e7e;\n",
              "  color: #f1f1f1;\n",
              "}\n",
              "#T_4cd3c_row19_col14 {\n",
              "  font-size: 7pt;\n",
              "  background-color: #1c1c1c;\n",
              "  color: #f1f1f1;\n",
              "}\n",
              "#T_4cd3c_row19_col18 {\n",
              "  font-size: 7pt;\n",
              "  background-color: #030303;\n",
              "  color: #f1f1f1;\n",
              "}\n",
              "#T_4cd3c_row19_col19 {\n",
              "  font-size: 7pt;\n",
              "  background-color: #565656;\n",
              "  color: #f1f1f1;\n",
              "}\n",
              "#T_4cd3c_row20_col10, #T_4cd3c_row21_col8 {\n",
              "  font-size: 7pt;\n",
              "  background-color: #f4f4f4;\n",
              "  color: #000000;\n",
              "}\n",
              "#T_4cd3c_row20_col11 {\n",
              "  font-size: 7pt;\n",
              "  background-color: #a5a5a5;\n",
              "  color: #f1f1f1;\n",
              "}\n",
              "#T_4cd3c_row20_col12 {\n",
              "  font-size: 7pt;\n",
              "  background-color: #252525;\n",
              "  color: #f1f1f1;\n",
              "}\n",
              "#T_4cd3c_row20_col17 {\n",
              "  font-size: 7pt;\n",
              "  background-color: #414141;\n",
              "  color: #f1f1f1;\n",
              "}\n",
              "#T_4cd3c_row20_col18 {\n",
              "  font-size: 7pt;\n",
              "  background-color: #cccccc;\n",
              "  color: #000000;\n",
              "}\n",
              "#T_4cd3c_row21_col9 {\n",
              "  font-size: 7pt;\n",
              "  background-color: #d7d7d7;\n",
              "  color: #000000;\n",
              "}\n",
              "#T_4cd3c_row21_col10 {\n",
              "  font-size: 7pt;\n",
              "  background-color: #303030;\n",
              "  color: #f1f1f1;\n",
              "}\n",
              "#T_4cd3c_row22_col7 {\n",
              "  font-size: 7pt;\n",
              "  background-color: #656565;\n",
              "  color: #f1f1f1;\n",
              "}\n",
              "#T_4cd3c_row22_col13 {\n",
              "  font-size: 7pt;\n",
              "  background-color: #4a4a4a;\n",
              "  color: #f1f1f1;\n",
              "}\n",
              "#T_4cd3c_row22_col15 {\n",
              "  font-size: 7pt;\n",
              "  background-color: #fbfbfb;\n",
              "  color: #000000;\n",
              "}\n",
              "#T_4cd3c_row23_col4 {\n",
              "  font-size: 7pt;\n",
              "  background-color: #b4b4b4;\n",
              "  color: #000000;\n",
              "}\n",
              "#T_4cd3c_row23_col5 {\n",
              "  font-size: 7pt;\n",
              "  background-color: #646464;\n",
              "  color: #f1f1f1;\n",
              "}\n",
              "#T_4cd3c_row23_col6 {\n",
              "  font-size: 7pt;\n",
              "  background-color: #1f1f1f;\n",
              "  color: #f1f1f1;\n",
              "}\n",
              "#T_4cd3c_row23_col11 {\n",
              "  font-size: 7pt;\n",
              "  background-color: #0a0a0a;\n",
              "  color: #f1f1f1;\n",
              "}\n",
              "#T_4cd3c_row23_col12 {\n",
              "  font-size: 7pt;\n",
              "  background-color: #8f8f8f;\n",
              "  color: #f1f1f1;\n",
              "}\n",
              "#T_4cd3c_row24_col8 {\n",
              "  font-size: 7pt;\n",
              "  background-color: #323232;\n",
              "  color: #f1f1f1;\n",
              "}\n",
              "#T_4cd3c_row24_col9 {\n",
              "  font-size: 7pt;\n",
              "  background-color: #8d8d8d;\n",
              "  color: #f1f1f1;\n",
              "}\n",
              "#T_4cd3c_row24_col10 {\n",
              "  font-size: 7pt;\n",
              "  background-color: #909090;\n",
              "  color: #f1f1f1;\n",
              "}\n",
              "</style>\n",
              "<table id=\"T_4cd3c\" class=\"dataframe\">\n",
              "  <thead>\n",
              "    <tr>\n",
              "      <th class=\"blank level0\" >&nbsp;</th>\n",
              "      <th id=\"T_4cd3c_level0_col0\" class=\"col_heading level0 col0\" >0</th>\n",
              "      <th id=\"T_4cd3c_level0_col1\" class=\"col_heading level0 col1\" >1</th>\n",
              "      <th id=\"T_4cd3c_level0_col2\" class=\"col_heading level0 col2\" >2</th>\n",
              "      <th id=\"T_4cd3c_level0_col3\" class=\"col_heading level0 col3\" >3</th>\n",
              "      <th id=\"T_4cd3c_level0_col4\" class=\"col_heading level0 col4\" >4</th>\n",
              "      <th id=\"T_4cd3c_level0_col5\" class=\"col_heading level0 col5\" >5</th>\n",
              "      <th id=\"T_4cd3c_level0_col6\" class=\"col_heading level0 col6\" >6</th>\n",
              "      <th id=\"T_4cd3c_level0_col7\" class=\"col_heading level0 col7\" >7</th>\n",
              "      <th id=\"T_4cd3c_level0_col8\" class=\"col_heading level0 col8\" >8</th>\n",
              "      <th id=\"T_4cd3c_level0_col9\" class=\"col_heading level0 col9\" >9</th>\n",
              "      <th id=\"T_4cd3c_level0_col10\" class=\"col_heading level0 col10\" >10</th>\n",
              "      <th id=\"T_4cd3c_level0_col11\" class=\"col_heading level0 col11\" >11</th>\n",
              "      <th id=\"T_4cd3c_level0_col12\" class=\"col_heading level0 col12\" >12</th>\n",
              "      <th id=\"T_4cd3c_level0_col13\" class=\"col_heading level0 col13\" >13</th>\n",
              "      <th id=\"T_4cd3c_level0_col14\" class=\"col_heading level0 col14\" >14</th>\n",
              "      <th id=\"T_4cd3c_level0_col15\" class=\"col_heading level0 col15\" >15</th>\n",
              "      <th id=\"T_4cd3c_level0_col16\" class=\"col_heading level0 col16\" >16</th>\n",
              "      <th id=\"T_4cd3c_level0_col17\" class=\"col_heading level0 col17\" >17</th>\n",
              "      <th id=\"T_4cd3c_level0_col18\" class=\"col_heading level0 col18\" >18</th>\n",
              "      <th id=\"T_4cd3c_level0_col19\" class=\"col_heading level0 col19\" >19</th>\n",
              "      <th id=\"T_4cd3c_level0_col20\" class=\"col_heading level0 col20\" >20</th>\n",
              "      <th id=\"T_4cd3c_level0_col21\" class=\"col_heading level0 col21\" >21</th>\n",
              "      <th id=\"T_4cd3c_level0_col22\" class=\"col_heading level0 col22\" >22</th>\n",
              "      <th id=\"T_4cd3c_level0_col23\" class=\"col_heading level0 col23\" >23</th>\n",
              "      <th id=\"T_4cd3c_level0_col24\" class=\"col_heading level0 col24\" >24</th>\n",
              "      <th id=\"T_4cd3c_level0_col25\" class=\"col_heading level0 col25\" >25</th>\n",
              "      <th id=\"T_4cd3c_level0_col26\" class=\"col_heading level0 col26\" >26</th>\n",
              "      <th id=\"T_4cd3c_level0_col27\" class=\"col_heading level0 col27\" >27</th>\n",
              "    </tr>\n",
              "  </thead>\n",
              "  <tbody>\n",
              "    <tr>\n",
              "      <th id=\"T_4cd3c_level0_row0\" class=\"row_heading level0 row0\" >0</th>\n",
              "      <td id=\"T_4cd3c_row0_col0\" class=\"data row0 col0\" >0.00</td>\n",
              "      <td id=\"T_4cd3c_row0_col1\" class=\"data row0 col1\" >0.00</td>\n",
              "      <td id=\"T_4cd3c_row0_col2\" class=\"data row0 col2\" >0.00</td>\n",
              "      <td id=\"T_4cd3c_row0_col3\" class=\"data row0 col3\" >0.00</td>\n",
              "      <td id=\"T_4cd3c_row0_col4\" class=\"data row0 col4\" >0.00</td>\n",
              "      <td id=\"T_4cd3c_row0_col5\" class=\"data row0 col5\" >0.00</td>\n",
              "      <td id=\"T_4cd3c_row0_col6\" class=\"data row0 col6\" >0.00</td>\n",
              "      <td id=\"T_4cd3c_row0_col7\" class=\"data row0 col7\" >0.00</td>\n",
              "      <td id=\"T_4cd3c_row0_col8\" class=\"data row0 col8\" >0.00</td>\n",
              "      <td id=\"T_4cd3c_row0_col9\" class=\"data row0 col9\" >0.00</td>\n",
              "      <td id=\"T_4cd3c_row0_col10\" class=\"data row0 col10\" >0.00</td>\n",
              "      <td id=\"T_4cd3c_row0_col11\" class=\"data row0 col11\" >0.00</td>\n",
              "      <td id=\"T_4cd3c_row0_col12\" class=\"data row0 col12\" >0.00</td>\n",
              "      <td id=\"T_4cd3c_row0_col13\" class=\"data row0 col13\" >0.00</td>\n",
              "      <td id=\"T_4cd3c_row0_col14\" class=\"data row0 col14\" >0.00</td>\n",
              "      <td id=\"T_4cd3c_row0_col15\" class=\"data row0 col15\" >0.00</td>\n",
              "      <td id=\"T_4cd3c_row0_col16\" class=\"data row0 col16\" >0.00</td>\n",
              "      <td id=\"T_4cd3c_row0_col17\" class=\"data row0 col17\" >0.00</td>\n",
              "      <td id=\"T_4cd3c_row0_col18\" class=\"data row0 col18\" >0.00</td>\n",
              "      <td id=\"T_4cd3c_row0_col19\" class=\"data row0 col19\" >0.00</td>\n",
              "      <td id=\"T_4cd3c_row0_col20\" class=\"data row0 col20\" >0.00</td>\n",
              "      <td id=\"T_4cd3c_row0_col21\" class=\"data row0 col21\" >0.00</td>\n",
              "      <td id=\"T_4cd3c_row0_col22\" class=\"data row0 col22\" >0.00</td>\n",
              "      <td id=\"T_4cd3c_row0_col23\" class=\"data row0 col23\" >0.00</td>\n",
              "      <td id=\"T_4cd3c_row0_col24\" class=\"data row0 col24\" >0.00</td>\n",
              "      <td id=\"T_4cd3c_row0_col25\" class=\"data row0 col25\" >0.00</td>\n",
              "      <td id=\"T_4cd3c_row0_col26\" class=\"data row0 col26\" >0.00</td>\n",
              "      <td id=\"T_4cd3c_row0_col27\" class=\"data row0 col27\" >0.00</td>\n",
              "    </tr>\n",
              "    <tr>\n",
              "      <th id=\"T_4cd3c_level0_row1\" class=\"row_heading level0 row1\" >1</th>\n",
              "      <td id=\"T_4cd3c_row1_col0\" class=\"data row1 col0\" >0.00</td>\n",
              "      <td id=\"T_4cd3c_row1_col1\" class=\"data row1 col1\" >0.00</td>\n",
              "      <td id=\"T_4cd3c_row1_col2\" class=\"data row1 col2\" >0.00</td>\n",
              "      <td id=\"T_4cd3c_row1_col3\" class=\"data row1 col3\" >0.00</td>\n",
              "      <td id=\"T_4cd3c_row1_col4\" class=\"data row1 col4\" >0.00</td>\n",
              "      <td id=\"T_4cd3c_row1_col5\" class=\"data row1 col5\" >0.00</td>\n",
              "      <td id=\"T_4cd3c_row1_col6\" class=\"data row1 col6\" >0.00</td>\n",
              "      <td id=\"T_4cd3c_row1_col7\" class=\"data row1 col7\" >0.00</td>\n",
              "      <td id=\"T_4cd3c_row1_col8\" class=\"data row1 col8\" >0.00</td>\n",
              "      <td id=\"T_4cd3c_row1_col9\" class=\"data row1 col9\" >0.00</td>\n",
              "      <td id=\"T_4cd3c_row1_col10\" class=\"data row1 col10\" >0.00</td>\n",
              "      <td id=\"T_4cd3c_row1_col11\" class=\"data row1 col11\" >0.00</td>\n",
              "      <td id=\"T_4cd3c_row1_col12\" class=\"data row1 col12\" >0.00</td>\n",
              "      <td id=\"T_4cd3c_row1_col13\" class=\"data row1 col13\" >0.00</td>\n",
              "      <td id=\"T_4cd3c_row1_col14\" class=\"data row1 col14\" >0.00</td>\n",
              "      <td id=\"T_4cd3c_row1_col15\" class=\"data row1 col15\" >0.00</td>\n",
              "      <td id=\"T_4cd3c_row1_col16\" class=\"data row1 col16\" >0.00</td>\n",
              "      <td id=\"T_4cd3c_row1_col17\" class=\"data row1 col17\" >0.00</td>\n",
              "      <td id=\"T_4cd3c_row1_col18\" class=\"data row1 col18\" >0.00</td>\n",
              "      <td id=\"T_4cd3c_row1_col19\" class=\"data row1 col19\" >0.00</td>\n",
              "      <td id=\"T_4cd3c_row1_col20\" class=\"data row1 col20\" >0.00</td>\n",
              "      <td id=\"T_4cd3c_row1_col21\" class=\"data row1 col21\" >0.00</td>\n",
              "      <td id=\"T_4cd3c_row1_col22\" class=\"data row1 col22\" >0.00</td>\n",
              "      <td id=\"T_4cd3c_row1_col23\" class=\"data row1 col23\" >0.00</td>\n",
              "      <td id=\"T_4cd3c_row1_col24\" class=\"data row1 col24\" >0.00</td>\n",
              "      <td id=\"T_4cd3c_row1_col25\" class=\"data row1 col25\" >0.00</td>\n",
              "      <td id=\"T_4cd3c_row1_col26\" class=\"data row1 col26\" >0.00</td>\n",
              "      <td id=\"T_4cd3c_row1_col27\" class=\"data row1 col27\" >0.00</td>\n",
              "    </tr>\n",
              "    <tr>\n",
              "      <th id=\"T_4cd3c_level0_row2\" class=\"row_heading level0 row2\" >2</th>\n",
              "      <td id=\"T_4cd3c_row2_col0\" class=\"data row2 col0\" >0.00</td>\n",
              "      <td id=\"T_4cd3c_row2_col1\" class=\"data row2 col1\" >0.00</td>\n",
              "      <td id=\"T_4cd3c_row2_col2\" class=\"data row2 col2\" >0.00</td>\n",
              "      <td id=\"T_4cd3c_row2_col3\" class=\"data row2 col3\" >0.00</td>\n",
              "      <td id=\"T_4cd3c_row2_col4\" class=\"data row2 col4\" >0.00</td>\n",
              "      <td id=\"T_4cd3c_row2_col5\" class=\"data row2 col5\" >0.00</td>\n",
              "      <td id=\"T_4cd3c_row2_col6\" class=\"data row2 col6\" >0.00</td>\n",
              "      <td id=\"T_4cd3c_row2_col7\" class=\"data row2 col7\" >0.00</td>\n",
              "      <td id=\"T_4cd3c_row2_col8\" class=\"data row2 col8\" >0.00</td>\n",
              "      <td id=\"T_4cd3c_row2_col9\" class=\"data row2 col9\" >0.00</td>\n",
              "      <td id=\"T_4cd3c_row2_col10\" class=\"data row2 col10\" >0.00</td>\n",
              "      <td id=\"T_4cd3c_row2_col11\" class=\"data row2 col11\" >0.00</td>\n",
              "      <td id=\"T_4cd3c_row2_col12\" class=\"data row2 col12\" >0.00</td>\n",
              "      <td id=\"T_4cd3c_row2_col13\" class=\"data row2 col13\" >0.00</td>\n",
              "      <td id=\"T_4cd3c_row2_col14\" class=\"data row2 col14\" >0.00</td>\n",
              "      <td id=\"T_4cd3c_row2_col15\" class=\"data row2 col15\" >0.00</td>\n",
              "      <td id=\"T_4cd3c_row2_col16\" class=\"data row2 col16\" >0.00</td>\n",
              "      <td id=\"T_4cd3c_row2_col17\" class=\"data row2 col17\" >0.00</td>\n",
              "      <td id=\"T_4cd3c_row2_col18\" class=\"data row2 col18\" >0.00</td>\n",
              "      <td id=\"T_4cd3c_row2_col19\" class=\"data row2 col19\" >0.00</td>\n",
              "      <td id=\"T_4cd3c_row2_col20\" class=\"data row2 col20\" >0.00</td>\n",
              "      <td id=\"T_4cd3c_row2_col21\" class=\"data row2 col21\" >0.00</td>\n",
              "      <td id=\"T_4cd3c_row2_col22\" class=\"data row2 col22\" >0.00</td>\n",
              "      <td id=\"T_4cd3c_row2_col23\" class=\"data row2 col23\" >0.00</td>\n",
              "      <td id=\"T_4cd3c_row2_col24\" class=\"data row2 col24\" >0.00</td>\n",
              "      <td id=\"T_4cd3c_row2_col25\" class=\"data row2 col25\" >0.00</td>\n",
              "      <td id=\"T_4cd3c_row2_col26\" class=\"data row2 col26\" >0.00</td>\n",
              "      <td id=\"T_4cd3c_row2_col27\" class=\"data row2 col27\" >0.00</td>\n",
              "    </tr>\n",
              "    <tr>\n",
              "      <th id=\"T_4cd3c_level0_row3\" class=\"row_heading level0 row3\" >3</th>\n",
              "      <td id=\"T_4cd3c_row3_col0\" class=\"data row3 col0\" >0.00</td>\n",
              "      <td id=\"T_4cd3c_row3_col1\" class=\"data row3 col1\" >0.00</td>\n",
              "      <td id=\"T_4cd3c_row3_col2\" class=\"data row3 col2\" >0.00</td>\n",
              "      <td id=\"T_4cd3c_row3_col3\" class=\"data row3 col3\" >0.00</td>\n",
              "      <td id=\"T_4cd3c_row3_col4\" class=\"data row3 col4\" >0.00</td>\n",
              "      <td id=\"T_4cd3c_row3_col5\" class=\"data row3 col5\" >0.00</td>\n",
              "      <td id=\"T_4cd3c_row3_col6\" class=\"data row3 col6\" >0.00</td>\n",
              "      <td id=\"T_4cd3c_row3_col7\" class=\"data row3 col7\" >0.00</td>\n",
              "      <td id=\"T_4cd3c_row3_col8\" class=\"data row3 col8\" >0.00</td>\n",
              "      <td id=\"T_4cd3c_row3_col9\" class=\"data row3 col9\" >0.00</td>\n",
              "      <td id=\"T_4cd3c_row3_col10\" class=\"data row3 col10\" >0.00</td>\n",
              "      <td id=\"T_4cd3c_row3_col11\" class=\"data row3 col11\" >0.00</td>\n",
              "      <td id=\"T_4cd3c_row3_col12\" class=\"data row3 col12\" >0.00</td>\n",
              "      <td id=\"T_4cd3c_row3_col13\" class=\"data row3 col13\" >0.00</td>\n",
              "      <td id=\"T_4cd3c_row3_col14\" class=\"data row3 col14\" >0.00</td>\n",
              "      <td id=\"T_4cd3c_row3_col15\" class=\"data row3 col15\" >0.00</td>\n",
              "      <td id=\"T_4cd3c_row3_col16\" class=\"data row3 col16\" >0.00</td>\n",
              "      <td id=\"T_4cd3c_row3_col17\" class=\"data row3 col17\" >0.00</td>\n",
              "      <td id=\"T_4cd3c_row3_col18\" class=\"data row3 col18\" >0.00</td>\n",
              "      <td id=\"T_4cd3c_row3_col19\" class=\"data row3 col19\" >0.00</td>\n",
              "      <td id=\"T_4cd3c_row3_col20\" class=\"data row3 col20\" >0.00</td>\n",
              "      <td id=\"T_4cd3c_row3_col21\" class=\"data row3 col21\" >0.00</td>\n",
              "      <td id=\"T_4cd3c_row3_col22\" class=\"data row3 col22\" >0.00</td>\n",
              "      <td id=\"T_4cd3c_row3_col23\" class=\"data row3 col23\" >0.00</td>\n",
              "      <td id=\"T_4cd3c_row3_col24\" class=\"data row3 col24\" >0.00</td>\n",
              "      <td id=\"T_4cd3c_row3_col25\" class=\"data row3 col25\" >0.00</td>\n",
              "      <td id=\"T_4cd3c_row3_col26\" class=\"data row3 col26\" >0.00</td>\n",
              "      <td id=\"T_4cd3c_row3_col27\" class=\"data row3 col27\" >0.00</td>\n",
              "    </tr>\n",
              "    <tr>\n",
              "      <th id=\"T_4cd3c_level0_row4\" class=\"row_heading level0 row4\" >4</th>\n",
              "      <td id=\"T_4cd3c_row4_col0\" class=\"data row4 col0\" >0.00</td>\n",
              "      <td id=\"T_4cd3c_row4_col1\" class=\"data row4 col1\" >0.00</td>\n",
              "      <td id=\"T_4cd3c_row4_col2\" class=\"data row4 col2\" >0.00</td>\n",
              "      <td id=\"T_4cd3c_row4_col3\" class=\"data row4 col3\" >0.00</td>\n",
              "      <td id=\"T_4cd3c_row4_col4\" class=\"data row4 col4\" >0.00</td>\n",
              "      <td id=\"T_4cd3c_row4_col5\" class=\"data row4 col5\" >0.00</td>\n",
              "      <td id=\"T_4cd3c_row4_col6\" class=\"data row4 col6\" >0.00</td>\n",
              "      <td id=\"T_4cd3c_row4_col7\" class=\"data row4 col7\" >0.00</td>\n",
              "      <td id=\"T_4cd3c_row4_col8\" class=\"data row4 col8\" >0.00</td>\n",
              "      <td id=\"T_4cd3c_row4_col9\" class=\"data row4 col9\" >0.00</td>\n",
              "      <td id=\"T_4cd3c_row4_col10\" class=\"data row4 col10\" >0.00</td>\n",
              "      <td id=\"T_4cd3c_row4_col11\" class=\"data row4 col11\" >0.00</td>\n",
              "      <td id=\"T_4cd3c_row4_col12\" class=\"data row4 col12\" >0.00</td>\n",
              "      <td id=\"T_4cd3c_row4_col13\" class=\"data row4 col13\" >0.00</td>\n",
              "      <td id=\"T_4cd3c_row4_col14\" class=\"data row4 col14\" >0.00</td>\n",
              "      <td id=\"T_4cd3c_row4_col15\" class=\"data row4 col15\" >0.00</td>\n",
              "      <td id=\"T_4cd3c_row4_col16\" class=\"data row4 col16\" >0.00</td>\n",
              "      <td id=\"T_4cd3c_row4_col17\" class=\"data row4 col17\" >0.00</td>\n",
              "      <td id=\"T_4cd3c_row4_col18\" class=\"data row4 col18\" >0.00</td>\n",
              "      <td id=\"T_4cd3c_row4_col19\" class=\"data row4 col19\" >0.00</td>\n",
              "      <td id=\"T_4cd3c_row4_col20\" class=\"data row4 col20\" >0.00</td>\n",
              "      <td id=\"T_4cd3c_row4_col21\" class=\"data row4 col21\" >0.00</td>\n",
              "      <td id=\"T_4cd3c_row4_col22\" class=\"data row4 col22\" >0.00</td>\n",
              "      <td id=\"T_4cd3c_row4_col23\" class=\"data row4 col23\" >0.00</td>\n",
              "      <td id=\"T_4cd3c_row4_col24\" class=\"data row4 col24\" >0.00</td>\n",
              "      <td id=\"T_4cd3c_row4_col25\" class=\"data row4 col25\" >0.00</td>\n",
              "      <td id=\"T_4cd3c_row4_col26\" class=\"data row4 col26\" >0.00</td>\n",
              "      <td id=\"T_4cd3c_row4_col27\" class=\"data row4 col27\" >0.00</td>\n",
              "    </tr>\n",
              "    <tr>\n",
              "      <th id=\"T_4cd3c_level0_row5\" class=\"row_heading level0 row5\" >5</th>\n",
              "      <td id=\"T_4cd3c_row5_col0\" class=\"data row5 col0\" >0.00</td>\n",
              "      <td id=\"T_4cd3c_row5_col1\" class=\"data row5 col1\" >0.00</td>\n",
              "      <td id=\"T_4cd3c_row5_col2\" class=\"data row5 col2\" >0.00</td>\n",
              "      <td id=\"T_4cd3c_row5_col3\" class=\"data row5 col3\" >0.00</td>\n",
              "      <td id=\"T_4cd3c_row5_col4\" class=\"data row5 col4\" >0.00</td>\n",
              "      <td id=\"T_4cd3c_row5_col5\" class=\"data row5 col5\" >0.00</td>\n",
              "      <td id=\"T_4cd3c_row5_col6\" class=\"data row5 col6\" >0.00</td>\n",
              "      <td id=\"T_4cd3c_row5_col7\" class=\"data row5 col7\" >0.00</td>\n",
              "      <td id=\"T_4cd3c_row5_col8\" class=\"data row5 col8\" >0.00</td>\n",
              "      <td id=\"T_4cd3c_row5_col9\" class=\"data row5 col9\" >0.00</td>\n",
              "      <td id=\"T_4cd3c_row5_col10\" class=\"data row5 col10\" >0.00</td>\n",
              "      <td id=\"T_4cd3c_row5_col11\" class=\"data row5 col11\" >0.00</td>\n",
              "      <td id=\"T_4cd3c_row5_col12\" class=\"data row5 col12\" >0.01</td>\n",
              "      <td id=\"T_4cd3c_row5_col13\" class=\"data row5 col13\" >0.07</td>\n",
              "      <td id=\"T_4cd3c_row5_col14\" class=\"data row5 col14\" >0.07</td>\n",
              "      <td id=\"T_4cd3c_row5_col15\" class=\"data row5 col15\" >0.07</td>\n",
              "      <td id=\"T_4cd3c_row5_col16\" class=\"data row5 col16\" >0.49</td>\n",
              "      <td id=\"T_4cd3c_row5_col17\" class=\"data row5 col17\" >0.53</td>\n",
              "      <td id=\"T_4cd3c_row5_col18\" class=\"data row5 col18\" >0.69</td>\n",
              "      <td id=\"T_4cd3c_row5_col19\" class=\"data row5 col19\" >0.10</td>\n",
              "      <td id=\"T_4cd3c_row5_col20\" class=\"data row5 col20\" >0.65</td>\n",
              "      <td id=\"T_4cd3c_row5_col21\" class=\"data row5 col21\" >1.00</td>\n",
              "      <td id=\"T_4cd3c_row5_col22\" class=\"data row5 col22\" >0.97</td>\n",
              "      <td id=\"T_4cd3c_row5_col23\" class=\"data row5 col23\" >0.50</td>\n",
              "      <td id=\"T_4cd3c_row5_col24\" class=\"data row5 col24\" >0.00</td>\n",
              "      <td id=\"T_4cd3c_row5_col25\" class=\"data row5 col25\" >0.00</td>\n",
              "      <td id=\"T_4cd3c_row5_col26\" class=\"data row5 col26\" >0.00</td>\n",
              "      <td id=\"T_4cd3c_row5_col27\" class=\"data row5 col27\" >0.00</td>\n",
              "    </tr>\n",
              "    <tr>\n",
              "      <th id=\"T_4cd3c_level0_row6\" class=\"row_heading level0 row6\" >6</th>\n",
              "      <td id=\"T_4cd3c_row6_col0\" class=\"data row6 col0\" >0.00</td>\n",
              "      <td id=\"T_4cd3c_row6_col1\" class=\"data row6 col1\" >0.00</td>\n",
              "      <td id=\"T_4cd3c_row6_col2\" class=\"data row6 col2\" >0.00</td>\n",
              "      <td id=\"T_4cd3c_row6_col3\" class=\"data row6 col3\" >0.00</td>\n",
              "      <td id=\"T_4cd3c_row6_col4\" class=\"data row6 col4\" >0.00</td>\n",
              "      <td id=\"T_4cd3c_row6_col5\" class=\"data row6 col5\" >0.00</td>\n",
              "      <td id=\"T_4cd3c_row6_col6\" class=\"data row6 col6\" >0.00</td>\n",
              "      <td id=\"T_4cd3c_row6_col7\" class=\"data row6 col7\" >0.00</td>\n",
              "      <td id=\"T_4cd3c_row6_col8\" class=\"data row6 col8\" >0.12</td>\n",
              "      <td id=\"T_4cd3c_row6_col9\" class=\"data row6 col9\" >0.14</td>\n",
              "      <td id=\"T_4cd3c_row6_col10\" class=\"data row6 col10\" >0.37</td>\n",
              "      <td id=\"T_4cd3c_row6_col11\" class=\"data row6 col11\" >0.60</td>\n",
              "      <td id=\"T_4cd3c_row6_col12\" class=\"data row6 col12\" >0.67</td>\n",
              "      <td id=\"T_4cd3c_row6_col13\" class=\"data row6 col13\" >0.99</td>\n",
              "      <td id=\"T_4cd3c_row6_col14\" class=\"data row6 col14\" >0.99</td>\n",
              "      <td id=\"T_4cd3c_row6_col15\" class=\"data row6 col15\" >0.99</td>\n",
              "      <td id=\"T_4cd3c_row6_col16\" class=\"data row6 col16\" >0.99</td>\n",
              "      <td id=\"T_4cd3c_row6_col17\" class=\"data row6 col17\" >0.99</td>\n",
              "      <td id=\"T_4cd3c_row6_col18\" class=\"data row6 col18\" >0.88</td>\n",
              "      <td id=\"T_4cd3c_row6_col19\" class=\"data row6 col19\" >0.67</td>\n",
              "      <td id=\"T_4cd3c_row6_col20\" class=\"data row6 col20\" >0.99</td>\n",
              "      <td id=\"T_4cd3c_row6_col21\" class=\"data row6 col21\" >0.95</td>\n",
              "      <td id=\"T_4cd3c_row6_col22\" class=\"data row6 col22\" >0.76</td>\n",
              "      <td id=\"T_4cd3c_row6_col23\" class=\"data row6 col23\" >0.25</td>\n",
              "      <td id=\"T_4cd3c_row6_col24\" class=\"data row6 col24\" >0.00</td>\n",
              "      <td id=\"T_4cd3c_row6_col25\" class=\"data row6 col25\" >0.00</td>\n",
              "      <td id=\"T_4cd3c_row6_col26\" class=\"data row6 col26\" >0.00</td>\n",
              "      <td id=\"T_4cd3c_row6_col27\" class=\"data row6 col27\" >0.00</td>\n",
              "    </tr>\n",
              "    <tr>\n",
              "      <th id=\"T_4cd3c_level0_row7\" class=\"row_heading level0 row7\" >7</th>\n",
              "      <td id=\"T_4cd3c_row7_col0\" class=\"data row7 col0\" >0.00</td>\n",
              "      <td id=\"T_4cd3c_row7_col1\" class=\"data row7 col1\" >0.00</td>\n",
              "      <td id=\"T_4cd3c_row7_col2\" class=\"data row7 col2\" >0.00</td>\n",
              "      <td id=\"T_4cd3c_row7_col3\" class=\"data row7 col3\" >0.00</td>\n",
              "      <td id=\"T_4cd3c_row7_col4\" class=\"data row7 col4\" >0.00</td>\n",
              "      <td id=\"T_4cd3c_row7_col5\" class=\"data row7 col5\" >0.00</td>\n",
              "      <td id=\"T_4cd3c_row7_col6\" class=\"data row7 col6\" >0.00</td>\n",
              "      <td id=\"T_4cd3c_row7_col7\" class=\"data row7 col7\" >0.19</td>\n",
              "      <td id=\"T_4cd3c_row7_col8\" class=\"data row7 col8\" >0.93</td>\n",
              "      <td id=\"T_4cd3c_row7_col9\" class=\"data row7 col9\" >0.99</td>\n",
              "      <td id=\"T_4cd3c_row7_col10\" class=\"data row7 col10\" >0.99</td>\n",
              "      <td id=\"T_4cd3c_row7_col11\" class=\"data row7 col11\" >0.99</td>\n",
              "      <td id=\"T_4cd3c_row7_col12\" class=\"data row7 col12\" >0.99</td>\n",
              "      <td id=\"T_4cd3c_row7_col13\" class=\"data row7 col13\" >0.99</td>\n",
              "      <td id=\"T_4cd3c_row7_col14\" class=\"data row7 col14\" >0.99</td>\n",
              "      <td id=\"T_4cd3c_row7_col15\" class=\"data row7 col15\" >0.99</td>\n",
              "      <td id=\"T_4cd3c_row7_col16\" class=\"data row7 col16\" >0.99</td>\n",
              "      <td id=\"T_4cd3c_row7_col17\" class=\"data row7 col17\" >0.98</td>\n",
              "      <td id=\"T_4cd3c_row7_col18\" class=\"data row7 col18\" >0.36</td>\n",
              "      <td id=\"T_4cd3c_row7_col19\" class=\"data row7 col19\" >0.32</td>\n",
              "      <td id=\"T_4cd3c_row7_col20\" class=\"data row7 col20\" >0.32</td>\n",
              "      <td id=\"T_4cd3c_row7_col21\" class=\"data row7 col21\" >0.22</td>\n",
              "      <td id=\"T_4cd3c_row7_col22\" class=\"data row7 col22\" >0.15</td>\n",
              "      <td id=\"T_4cd3c_row7_col23\" class=\"data row7 col23\" >0.00</td>\n",
              "      <td id=\"T_4cd3c_row7_col24\" class=\"data row7 col24\" >0.00</td>\n",
              "      <td id=\"T_4cd3c_row7_col25\" class=\"data row7 col25\" >0.00</td>\n",
              "      <td id=\"T_4cd3c_row7_col26\" class=\"data row7 col26\" >0.00</td>\n",
              "      <td id=\"T_4cd3c_row7_col27\" class=\"data row7 col27\" >0.00</td>\n",
              "    </tr>\n",
              "    <tr>\n",
              "      <th id=\"T_4cd3c_level0_row8\" class=\"row_heading level0 row8\" >8</th>\n",
              "      <td id=\"T_4cd3c_row8_col0\" class=\"data row8 col0\" >0.00</td>\n",
              "      <td id=\"T_4cd3c_row8_col1\" class=\"data row8 col1\" >0.00</td>\n",
              "      <td id=\"T_4cd3c_row8_col2\" class=\"data row8 col2\" >0.00</td>\n",
              "      <td id=\"T_4cd3c_row8_col3\" class=\"data row8 col3\" >0.00</td>\n",
              "      <td id=\"T_4cd3c_row8_col4\" class=\"data row8 col4\" >0.00</td>\n",
              "      <td id=\"T_4cd3c_row8_col5\" class=\"data row8 col5\" >0.00</td>\n",
              "      <td id=\"T_4cd3c_row8_col6\" class=\"data row8 col6\" >0.00</td>\n",
              "      <td id=\"T_4cd3c_row8_col7\" class=\"data row8 col7\" >0.07</td>\n",
              "      <td id=\"T_4cd3c_row8_col8\" class=\"data row8 col8\" >0.86</td>\n",
              "      <td id=\"T_4cd3c_row8_col9\" class=\"data row8 col9\" >0.99</td>\n",
              "      <td id=\"T_4cd3c_row8_col10\" class=\"data row8 col10\" >0.99</td>\n",
              "      <td id=\"T_4cd3c_row8_col11\" class=\"data row8 col11\" >0.99</td>\n",
              "      <td id=\"T_4cd3c_row8_col12\" class=\"data row8 col12\" >0.99</td>\n",
              "      <td id=\"T_4cd3c_row8_col13\" class=\"data row8 col13\" >0.99</td>\n",
              "      <td id=\"T_4cd3c_row8_col14\" class=\"data row8 col14\" >0.78</td>\n",
              "      <td id=\"T_4cd3c_row8_col15\" class=\"data row8 col15\" >0.71</td>\n",
              "      <td id=\"T_4cd3c_row8_col16\" class=\"data row8 col16\" >0.97</td>\n",
              "      <td id=\"T_4cd3c_row8_col17\" class=\"data row8 col17\" >0.95</td>\n",
              "      <td id=\"T_4cd3c_row8_col18\" class=\"data row8 col18\" >0.00</td>\n",
              "      <td id=\"T_4cd3c_row8_col19\" class=\"data row8 col19\" >0.00</td>\n",
              "      <td id=\"T_4cd3c_row8_col20\" class=\"data row8 col20\" >0.00</td>\n",
              "      <td id=\"T_4cd3c_row8_col21\" class=\"data row8 col21\" >0.00</td>\n",
              "      <td id=\"T_4cd3c_row8_col22\" class=\"data row8 col22\" >0.00</td>\n",
              "      <td id=\"T_4cd3c_row8_col23\" class=\"data row8 col23\" >0.00</td>\n",
              "      <td id=\"T_4cd3c_row8_col24\" class=\"data row8 col24\" >0.00</td>\n",
              "      <td id=\"T_4cd3c_row8_col25\" class=\"data row8 col25\" >0.00</td>\n",
              "      <td id=\"T_4cd3c_row8_col26\" class=\"data row8 col26\" >0.00</td>\n",
              "      <td id=\"T_4cd3c_row8_col27\" class=\"data row8 col27\" >0.00</td>\n",
              "    </tr>\n",
              "    <tr>\n",
              "      <th id=\"T_4cd3c_level0_row9\" class=\"row_heading level0 row9\" >9</th>\n",
              "      <td id=\"T_4cd3c_row9_col0\" class=\"data row9 col0\" >0.00</td>\n",
              "      <td id=\"T_4cd3c_row9_col1\" class=\"data row9 col1\" >0.00</td>\n",
              "      <td id=\"T_4cd3c_row9_col2\" class=\"data row9 col2\" >0.00</td>\n",
              "      <td id=\"T_4cd3c_row9_col3\" class=\"data row9 col3\" >0.00</td>\n",
              "      <td id=\"T_4cd3c_row9_col4\" class=\"data row9 col4\" >0.00</td>\n",
              "      <td id=\"T_4cd3c_row9_col5\" class=\"data row9 col5\" >0.00</td>\n",
              "      <td id=\"T_4cd3c_row9_col6\" class=\"data row9 col6\" >0.00</td>\n",
              "      <td id=\"T_4cd3c_row9_col7\" class=\"data row9 col7\" >0.00</td>\n",
              "      <td id=\"T_4cd3c_row9_col8\" class=\"data row9 col8\" >0.31</td>\n",
              "      <td id=\"T_4cd3c_row9_col9\" class=\"data row9 col9\" >0.61</td>\n",
              "      <td id=\"T_4cd3c_row9_col10\" class=\"data row9 col10\" >0.42</td>\n",
              "      <td id=\"T_4cd3c_row9_col11\" class=\"data row9 col11\" >0.99</td>\n",
              "      <td id=\"T_4cd3c_row9_col12\" class=\"data row9 col12\" >0.99</td>\n",
              "      <td id=\"T_4cd3c_row9_col13\" class=\"data row9 col13\" >0.80</td>\n",
              "      <td id=\"T_4cd3c_row9_col14\" class=\"data row9 col14\" >0.04</td>\n",
              "      <td id=\"T_4cd3c_row9_col15\" class=\"data row9 col15\" >0.00</td>\n",
              "      <td id=\"T_4cd3c_row9_col16\" class=\"data row9 col16\" >0.17</td>\n",
              "      <td id=\"T_4cd3c_row9_col17\" class=\"data row9 col17\" >0.60</td>\n",
              "      <td id=\"T_4cd3c_row9_col18\" class=\"data row9 col18\" >0.00</td>\n",
              "      <td id=\"T_4cd3c_row9_col19\" class=\"data row9 col19\" >0.00</td>\n",
              "      <td id=\"T_4cd3c_row9_col20\" class=\"data row9 col20\" >0.00</td>\n",
              "      <td id=\"T_4cd3c_row9_col21\" class=\"data row9 col21\" >0.00</td>\n",
              "      <td id=\"T_4cd3c_row9_col22\" class=\"data row9 col22\" >0.00</td>\n",
              "      <td id=\"T_4cd3c_row9_col23\" class=\"data row9 col23\" >0.00</td>\n",
              "      <td id=\"T_4cd3c_row9_col24\" class=\"data row9 col24\" >0.00</td>\n",
              "      <td id=\"T_4cd3c_row9_col25\" class=\"data row9 col25\" >0.00</td>\n",
              "      <td id=\"T_4cd3c_row9_col26\" class=\"data row9 col26\" >0.00</td>\n",
              "      <td id=\"T_4cd3c_row9_col27\" class=\"data row9 col27\" >0.00</td>\n",
              "    </tr>\n",
              "    <tr>\n",
              "      <th id=\"T_4cd3c_level0_row10\" class=\"row_heading level0 row10\" >10</th>\n",
              "      <td id=\"T_4cd3c_row10_col0\" class=\"data row10 col0\" >0.00</td>\n",
              "      <td id=\"T_4cd3c_row10_col1\" class=\"data row10 col1\" >0.00</td>\n",
              "      <td id=\"T_4cd3c_row10_col2\" class=\"data row10 col2\" >0.00</td>\n",
              "      <td id=\"T_4cd3c_row10_col3\" class=\"data row10 col3\" >0.00</td>\n",
              "      <td id=\"T_4cd3c_row10_col4\" class=\"data row10 col4\" >0.00</td>\n",
              "      <td id=\"T_4cd3c_row10_col5\" class=\"data row10 col5\" >0.00</td>\n",
              "      <td id=\"T_4cd3c_row10_col6\" class=\"data row10 col6\" >0.00</td>\n",
              "      <td id=\"T_4cd3c_row10_col7\" class=\"data row10 col7\" >0.00</td>\n",
              "      <td id=\"T_4cd3c_row10_col8\" class=\"data row10 col8\" >0.00</td>\n",
              "      <td id=\"T_4cd3c_row10_col9\" class=\"data row10 col9\" >0.05</td>\n",
              "      <td id=\"T_4cd3c_row10_col10\" class=\"data row10 col10\" >0.00</td>\n",
              "      <td id=\"T_4cd3c_row10_col11\" class=\"data row10 col11\" >0.60</td>\n",
              "      <td id=\"T_4cd3c_row10_col12\" class=\"data row10 col12\" >0.99</td>\n",
              "      <td id=\"T_4cd3c_row10_col13\" class=\"data row10 col13\" >0.35</td>\n",
              "      <td id=\"T_4cd3c_row10_col14\" class=\"data row10 col14\" >0.00</td>\n",
              "      <td id=\"T_4cd3c_row10_col15\" class=\"data row10 col15\" >0.00</td>\n",
              "      <td id=\"T_4cd3c_row10_col16\" class=\"data row10 col16\" >0.00</td>\n",
              "      <td id=\"T_4cd3c_row10_col17\" class=\"data row10 col17\" >0.00</td>\n",
              "      <td id=\"T_4cd3c_row10_col18\" class=\"data row10 col18\" >0.00</td>\n",
              "      <td id=\"T_4cd3c_row10_col19\" class=\"data row10 col19\" >0.00</td>\n",
              "      <td id=\"T_4cd3c_row10_col20\" class=\"data row10 col20\" >0.00</td>\n",
              "      <td id=\"T_4cd3c_row10_col21\" class=\"data row10 col21\" >0.00</td>\n",
              "      <td id=\"T_4cd3c_row10_col22\" class=\"data row10 col22\" >0.00</td>\n",
              "      <td id=\"T_4cd3c_row10_col23\" class=\"data row10 col23\" >0.00</td>\n",
              "      <td id=\"T_4cd3c_row10_col24\" class=\"data row10 col24\" >0.00</td>\n",
              "      <td id=\"T_4cd3c_row10_col25\" class=\"data row10 col25\" >0.00</td>\n",
              "      <td id=\"T_4cd3c_row10_col26\" class=\"data row10 col26\" >0.00</td>\n",
              "      <td id=\"T_4cd3c_row10_col27\" class=\"data row10 col27\" >0.00</td>\n",
              "    </tr>\n",
              "    <tr>\n",
              "      <th id=\"T_4cd3c_level0_row11\" class=\"row_heading level0 row11\" >11</th>\n",
              "      <td id=\"T_4cd3c_row11_col0\" class=\"data row11 col0\" >0.00</td>\n",
              "      <td id=\"T_4cd3c_row11_col1\" class=\"data row11 col1\" >0.00</td>\n",
              "      <td id=\"T_4cd3c_row11_col2\" class=\"data row11 col2\" >0.00</td>\n",
              "      <td id=\"T_4cd3c_row11_col3\" class=\"data row11 col3\" >0.00</td>\n",
              "      <td id=\"T_4cd3c_row11_col4\" class=\"data row11 col4\" >0.00</td>\n",
              "      <td id=\"T_4cd3c_row11_col5\" class=\"data row11 col5\" >0.00</td>\n",
              "      <td id=\"T_4cd3c_row11_col6\" class=\"data row11 col6\" >0.00</td>\n",
              "      <td id=\"T_4cd3c_row11_col7\" class=\"data row11 col7\" >0.00</td>\n",
              "      <td id=\"T_4cd3c_row11_col8\" class=\"data row11 col8\" >0.00</td>\n",
              "      <td id=\"T_4cd3c_row11_col9\" class=\"data row11 col9\" >0.00</td>\n",
              "      <td id=\"T_4cd3c_row11_col10\" class=\"data row11 col10\" >0.00</td>\n",
              "      <td id=\"T_4cd3c_row11_col11\" class=\"data row11 col11\" >0.55</td>\n",
              "      <td id=\"T_4cd3c_row11_col12\" class=\"data row11 col12\" >0.99</td>\n",
              "      <td id=\"T_4cd3c_row11_col13\" class=\"data row11 col13\" >0.75</td>\n",
              "      <td id=\"T_4cd3c_row11_col14\" class=\"data row11 col14\" >0.01</td>\n",
              "      <td id=\"T_4cd3c_row11_col15\" class=\"data row11 col15\" >0.00</td>\n",
              "      <td id=\"T_4cd3c_row11_col16\" class=\"data row11 col16\" >0.00</td>\n",
              "      <td id=\"T_4cd3c_row11_col17\" class=\"data row11 col17\" >0.00</td>\n",
              "      <td id=\"T_4cd3c_row11_col18\" class=\"data row11 col18\" >0.00</td>\n",
              "      <td id=\"T_4cd3c_row11_col19\" class=\"data row11 col19\" >0.00</td>\n",
              "      <td id=\"T_4cd3c_row11_col20\" class=\"data row11 col20\" >0.00</td>\n",
              "      <td id=\"T_4cd3c_row11_col21\" class=\"data row11 col21\" >0.00</td>\n",
              "      <td id=\"T_4cd3c_row11_col22\" class=\"data row11 col22\" >0.00</td>\n",
              "      <td id=\"T_4cd3c_row11_col23\" class=\"data row11 col23\" >0.00</td>\n",
              "      <td id=\"T_4cd3c_row11_col24\" class=\"data row11 col24\" >0.00</td>\n",
              "      <td id=\"T_4cd3c_row11_col25\" class=\"data row11 col25\" >0.00</td>\n",
              "      <td id=\"T_4cd3c_row11_col26\" class=\"data row11 col26\" >0.00</td>\n",
              "      <td id=\"T_4cd3c_row11_col27\" class=\"data row11 col27\" >0.00</td>\n",
              "    </tr>\n",
              "    <tr>\n",
              "      <th id=\"T_4cd3c_level0_row12\" class=\"row_heading level0 row12\" >12</th>\n",
              "      <td id=\"T_4cd3c_row12_col0\" class=\"data row12 col0\" >0.00</td>\n",
              "      <td id=\"T_4cd3c_row12_col1\" class=\"data row12 col1\" >0.00</td>\n",
              "      <td id=\"T_4cd3c_row12_col2\" class=\"data row12 col2\" >0.00</td>\n",
              "      <td id=\"T_4cd3c_row12_col3\" class=\"data row12 col3\" >0.00</td>\n",
              "      <td id=\"T_4cd3c_row12_col4\" class=\"data row12 col4\" >0.00</td>\n",
              "      <td id=\"T_4cd3c_row12_col5\" class=\"data row12 col5\" >0.00</td>\n",
              "      <td id=\"T_4cd3c_row12_col6\" class=\"data row12 col6\" >0.00</td>\n",
              "      <td id=\"T_4cd3c_row12_col7\" class=\"data row12 col7\" >0.00</td>\n",
              "      <td id=\"T_4cd3c_row12_col8\" class=\"data row12 col8\" >0.00</td>\n",
              "      <td id=\"T_4cd3c_row12_col9\" class=\"data row12 col9\" >0.00</td>\n",
              "      <td id=\"T_4cd3c_row12_col10\" class=\"data row12 col10\" >0.00</td>\n",
              "      <td id=\"T_4cd3c_row12_col11\" class=\"data row12 col11\" >0.04</td>\n",
              "      <td id=\"T_4cd3c_row12_col12\" class=\"data row12 col12\" >0.75</td>\n",
              "      <td id=\"T_4cd3c_row12_col13\" class=\"data row12 col13\" >0.99</td>\n",
              "      <td id=\"T_4cd3c_row12_col14\" class=\"data row12 col14\" >0.27</td>\n",
              "      <td id=\"T_4cd3c_row12_col15\" class=\"data row12 col15\" >0.00</td>\n",
              "      <td id=\"T_4cd3c_row12_col16\" class=\"data row12 col16\" >0.00</td>\n",
              "      <td id=\"T_4cd3c_row12_col17\" class=\"data row12 col17\" >0.00</td>\n",
              "      <td id=\"T_4cd3c_row12_col18\" class=\"data row12 col18\" >0.00</td>\n",
              "      <td id=\"T_4cd3c_row12_col19\" class=\"data row12 col19\" >0.00</td>\n",
              "      <td id=\"T_4cd3c_row12_col20\" class=\"data row12 col20\" >0.00</td>\n",
              "      <td id=\"T_4cd3c_row12_col21\" class=\"data row12 col21\" >0.00</td>\n",
              "      <td id=\"T_4cd3c_row12_col22\" class=\"data row12 col22\" >0.00</td>\n",
              "      <td id=\"T_4cd3c_row12_col23\" class=\"data row12 col23\" >0.00</td>\n",
              "      <td id=\"T_4cd3c_row12_col24\" class=\"data row12 col24\" >0.00</td>\n",
              "      <td id=\"T_4cd3c_row12_col25\" class=\"data row12 col25\" >0.00</td>\n",
              "      <td id=\"T_4cd3c_row12_col26\" class=\"data row12 col26\" >0.00</td>\n",
              "      <td id=\"T_4cd3c_row12_col27\" class=\"data row12 col27\" >0.00</td>\n",
              "    </tr>\n",
              "    <tr>\n",
              "      <th id=\"T_4cd3c_level0_row13\" class=\"row_heading level0 row13\" >13</th>\n",
              "      <td id=\"T_4cd3c_row13_col0\" class=\"data row13 col0\" >0.00</td>\n",
              "      <td id=\"T_4cd3c_row13_col1\" class=\"data row13 col1\" >0.00</td>\n",
              "      <td id=\"T_4cd3c_row13_col2\" class=\"data row13 col2\" >0.00</td>\n",
              "      <td id=\"T_4cd3c_row13_col3\" class=\"data row13 col3\" >0.00</td>\n",
              "      <td id=\"T_4cd3c_row13_col4\" class=\"data row13 col4\" >0.00</td>\n",
              "      <td id=\"T_4cd3c_row13_col5\" class=\"data row13 col5\" >0.00</td>\n",
              "      <td id=\"T_4cd3c_row13_col6\" class=\"data row13 col6\" >0.00</td>\n",
              "      <td id=\"T_4cd3c_row13_col7\" class=\"data row13 col7\" >0.00</td>\n",
              "      <td id=\"T_4cd3c_row13_col8\" class=\"data row13 col8\" >0.00</td>\n",
              "      <td id=\"T_4cd3c_row13_col9\" class=\"data row13 col9\" >0.00</td>\n",
              "      <td id=\"T_4cd3c_row13_col10\" class=\"data row13 col10\" >0.00</td>\n",
              "      <td id=\"T_4cd3c_row13_col11\" class=\"data row13 col11\" >0.00</td>\n",
              "      <td id=\"T_4cd3c_row13_col12\" class=\"data row13 col12\" >0.14</td>\n",
              "      <td id=\"T_4cd3c_row13_col13\" class=\"data row13 col13\" >0.95</td>\n",
              "      <td id=\"T_4cd3c_row13_col14\" class=\"data row13 col14\" >0.88</td>\n",
              "      <td id=\"T_4cd3c_row13_col15\" class=\"data row13 col15\" >0.63</td>\n",
              "      <td id=\"T_4cd3c_row13_col16\" class=\"data row13 col16\" >0.42</td>\n",
              "      <td id=\"T_4cd3c_row13_col17\" class=\"data row13 col17\" >0.00</td>\n",
              "      <td id=\"T_4cd3c_row13_col18\" class=\"data row13 col18\" >0.00</td>\n",
              "      <td id=\"T_4cd3c_row13_col19\" class=\"data row13 col19\" >0.00</td>\n",
              "      <td id=\"T_4cd3c_row13_col20\" class=\"data row13 col20\" >0.00</td>\n",
              "      <td id=\"T_4cd3c_row13_col21\" class=\"data row13 col21\" >0.00</td>\n",
              "      <td id=\"T_4cd3c_row13_col22\" class=\"data row13 col22\" >0.00</td>\n",
              "      <td id=\"T_4cd3c_row13_col23\" class=\"data row13 col23\" >0.00</td>\n",
              "      <td id=\"T_4cd3c_row13_col24\" class=\"data row13 col24\" >0.00</td>\n",
              "      <td id=\"T_4cd3c_row13_col25\" class=\"data row13 col25\" >0.00</td>\n",
              "      <td id=\"T_4cd3c_row13_col26\" class=\"data row13 col26\" >0.00</td>\n",
              "      <td id=\"T_4cd3c_row13_col27\" class=\"data row13 col27\" >0.00</td>\n",
              "    </tr>\n",
              "    <tr>\n",
              "      <th id=\"T_4cd3c_level0_row14\" class=\"row_heading level0 row14\" >14</th>\n",
              "      <td id=\"T_4cd3c_row14_col0\" class=\"data row14 col0\" >0.00</td>\n",
              "      <td id=\"T_4cd3c_row14_col1\" class=\"data row14 col1\" >0.00</td>\n",
              "      <td id=\"T_4cd3c_row14_col2\" class=\"data row14 col2\" >0.00</td>\n",
              "      <td id=\"T_4cd3c_row14_col3\" class=\"data row14 col3\" >0.00</td>\n",
              "      <td id=\"T_4cd3c_row14_col4\" class=\"data row14 col4\" >0.00</td>\n",
              "      <td id=\"T_4cd3c_row14_col5\" class=\"data row14 col5\" >0.00</td>\n",
              "      <td id=\"T_4cd3c_row14_col6\" class=\"data row14 col6\" >0.00</td>\n",
              "      <td id=\"T_4cd3c_row14_col7\" class=\"data row14 col7\" >0.00</td>\n",
              "      <td id=\"T_4cd3c_row14_col8\" class=\"data row14 col8\" >0.00</td>\n",
              "      <td id=\"T_4cd3c_row14_col9\" class=\"data row14 col9\" >0.00</td>\n",
              "      <td id=\"T_4cd3c_row14_col10\" class=\"data row14 col10\" >0.00</td>\n",
              "      <td id=\"T_4cd3c_row14_col11\" class=\"data row14 col11\" >0.00</td>\n",
              "      <td id=\"T_4cd3c_row14_col12\" class=\"data row14 col12\" >0.00</td>\n",
              "      <td id=\"T_4cd3c_row14_col13\" class=\"data row14 col13\" >0.32</td>\n",
              "      <td id=\"T_4cd3c_row14_col14\" class=\"data row14 col14\" >0.94</td>\n",
              "      <td id=\"T_4cd3c_row14_col15\" class=\"data row14 col15\" >0.99</td>\n",
              "      <td id=\"T_4cd3c_row14_col16\" class=\"data row14 col16\" >0.99</td>\n",
              "      <td id=\"T_4cd3c_row14_col17\" class=\"data row14 col17\" >0.47</td>\n",
              "      <td id=\"T_4cd3c_row14_col18\" class=\"data row14 col18\" >0.10</td>\n",
              "      <td id=\"T_4cd3c_row14_col19\" class=\"data row14 col19\" >0.00</td>\n",
              "      <td id=\"T_4cd3c_row14_col20\" class=\"data row14 col20\" >0.00</td>\n",
              "      <td id=\"T_4cd3c_row14_col21\" class=\"data row14 col21\" >0.00</td>\n",
              "      <td id=\"T_4cd3c_row14_col22\" class=\"data row14 col22\" >0.00</td>\n",
              "      <td id=\"T_4cd3c_row14_col23\" class=\"data row14 col23\" >0.00</td>\n",
              "      <td id=\"T_4cd3c_row14_col24\" class=\"data row14 col24\" >0.00</td>\n",
              "      <td id=\"T_4cd3c_row14_col25\" class=\"data row14 col25\" >0.00</td>\n",
              "      <td id=\"T_4cd3c_row14_col26\" class=\"data row14 col26\" >0.00</td>\n",
              "      <td id=\"T_4cd3c_row14_col27\" class=\"data row14 col27\" >0.00</td>\n",
              "    </tr>\n",
              "    <tr>\n",
              "      <th id=\"T_4cd3c_level0_row15\" class=\"row_heading level0 row15\" >15</th>\n",
              "      <td id=\"T_4cd3c_row15_col0\" class=\"data row15 col0\" >0.00</td>\n",
              "      <td id=\"T_4cd3c_row15_col1\" class=\"data row15 col1\" >0.00</td>\n",
              "      <td id=\"T_4cd3c_row15_col2\" class=\"data row15 col2\" >0.00</td>\n",
              "      <td id=\"T_4cd3c_row15_col3\" class=\"data row15 col3\" >0.00</td>\n",
              "      <td id=\"T_4cd3c_row15_col4\" class=\"data row15 col4\" >0.00</td>\n",
              "      <td id=\"T_4cd3c_row15_col5\" class=\"data row15 col5\" >0.00</td>\n",
              "      <td id=\"T_4cd3c_row15_col6\" class=\"data row15 col6\" >0.00</td>\n",
              "      <td id=\"T_4cd3c_row15_col7\" class=\"data row15 col7\" >0.00</td>\n",
              "      <td id=\"T_4cd3c_row15_col8\" class=\"data row15 col8\" >0.00</td>\n",
              "      <td id=\"T_4cd3c_row15_col9\" class=\"data row15 col9\" >0.00</td>\n",
              "      <td id=\"T_4cd3c_row15_col10\" class=\"data row15 col10\" >0.00</td>\n",
              "      <td id=\"T_4cd3c_row15_col11\" class=\"data row15 col11\" >0.00</td>\n",
              "      <td id=\"T_4cd3c_row15_col12\" class=\"data row15 col12\" >0.00</td>\n",
              "      <td id=\"T_4cd3c_row15_col13\" class=\"data row15 col13\" >0.00</td>\n",
              "      <td id=\"T_4cd3c_row15_col14\" class=\"data row15 col14\" >0.18</td>\n",
              "      <td id=\"T_4cd3c_row15_col15\" class=\"data row15 col15\" >0.73</td>\n",
              "      <td id=\"T_4cd3c_row15_col16\" class=\"data row15 col16\" >0.99</td>\n",
              "      <td id=\"T_4cd3c_row15_col17\" class=\"data row15 col17\" >0.99</td>\n",
              "      <td id=\"T_4cd3c_row15_col18\" class=\"data row15 col18\" >0.59</td>\n",
              "      <td id=\"T_4cd3c_row15_col19\" class=\"data row15 col19\" >0.11</td>\n",
              "      <td id=\"T_4cd3c_row15_col20\" class=\"data row15 col20\" >0.00</td>\n",
              "      <td id=\"T_4cd3c_row15_col21\" class=\"data row15 col21\" >0.00</td>\n",
              "      <td id=\"T_4cd3c_row15_col22\" class=\"data row15 col22\" >0.00</td>\n",
              "      <td id=\"T_4cd3c_row15_col23\" class=\"data row15 col23\" >0.00</td>\n",
              "      <td id=\"T_4cd3c_row15_col24\" class=\"data row15 col24\" >0.00</td>\n",
              "      <td id=\"T_4cd3c_row15_col25\" class=\"data row15 col25\" >0.00</td>\n",
              "      <td id=\"T_4cd3c_row15_col26\" class=\"data row15 col26\" >0.00</td>\n",
              "      <td id=\"T_4cd3c_row15_col27\" class=\"data row15 col27\" >0.00</td>\n",
              "    </tr>\n",
              "    <tr>\n",
              "      <th id=\"T_4cd3c_level0_row16\" class=\"row_heading level0 row16\" >16</th>\n",
              "      <td id=\"T_4cd3c_row16_col0\" class=\"data row16 col0\" >0.00</td>\n",
              "      <td id=\"T_4cd3c_row16_col1\" class=\"data row16 col1\" >0.00</td>\n",
              "      <td id=\"T_4cd3c_row16_col2\" class=\"data row16 col2\" >0.00</td>\n",
              "      <td id=\"T_4cd3c_row16_col3\" class=\"data row16 col3\" >0.00</td>\n",
              "      <td id=\"T_4cd3c_row16_col4\" class=\"data row16 col4\" >0.00</td>\n",
              "      <td id=\"T_4cd3c_row16_col5\" class=\"data row16 col5\" >0.00</td>\n",
              "      <td id=\"T_4cd3c_row16_col6\" class=\"data row16 col6\" >0.00</td>\n",
              "      <td id=\"T_4cd3c_row16_col7\" class=\"data row16 col7\" >0.00</td>\n",
              "      <td id=\"T_4cd3c_row16_col8\" class=\"data row16 col8\" >0.00</td>\n",
              "      <td id=\"T_4cd3c_row16_col9\" class=\"data row16 col9\" >0.00</td>\n",
              "      <td id=\"T_4cd3c_row16_col10\" class=\"data row16 col10\" >0.00</td>\n",
              "      <td id=\"T_4cd3c_row16_col11\" class=\"data row16 col11\" >0.00</td>\n",
              "      <td id=\"T_4cd3c_row16_col12\" class=\"data row16 col12\" >0.00</td>\n",
              "      <td id=\"T_4cd3c_row16_col13\" class=\"data row16 col13\" >0.00</td>\n",
              "      <td id=\"T_4cd3c_row16_col14\" class=\"data row16 col14\" >0.00</td>\n",
              "      <td id=\"T_4cd3c_row16_col15\" class=\"data row16 col15\" >0.06</td>\n",
              "      <td id=\"T_4cd3c_row16_col16\" class=\"data row16 col16\" >0.36</td>\n",
              "      <td id=\"T_4cd3c_row16_col17\" class=\"data row16 col17\" >0.99</td>\n",
              "      <td id=\"T_4cd3c_row16_col18\" class=\"data row16 col18\" >0.99</td>\n",
              "      <td id=\"T_4cd3c_row16_col19\" class=\"data row16 col19\" >0.73</td>\n",
              "      <td id=\"T_4cd3c_row16_col20\" class=\"data row16 col20\" >0.00</td>\n",
              "      <td id=\"T_4cd3c_row16_col21\" class=\"data row16 col21\" >0.00</td>\n",
              "      <td id=\"T_4cd3c_row16_col22\" class=\"data row16 col22\" >0.00</td>\n",
              "      <td id=\"T_4cd3c_row16_col23\" class=\"data row16 col23\" >0.00</td>\n",
              "      <td id=\"T_4cd3c_row16_col24\" class=\"data row16 col24\" >0.00</td>\n",
              "      <td id=\"T_4cd3c_row16_col25\" class=\"data row16 col25\" >0.00</td>\n",
              "      <td id=\"T_4cd3c_row16_col26\" class=\"data row16 col26\" >0.00</td>\n",
              "      <td id=\"T_4cd3c_row16_col27\" class=\"data row16 col27\" >0.00</td>\n",
              "    </tr>\n",
              "    <tr>\n",
              "      <th id=\"T_4cd3c_level0_row17\" class=\"row_heading level0 row17\" >17</th>\n",
              "      <td id=\"T_4cd3c_row17_col0\" class=\"data row17 col0\" >0.00</td>\n",
              "      <td id=\"T_4cd3c_row17_col1\" class=\"data row17 col1\" >0.00</td>\n",
              "      <td id=\"T_4cd3c_row17_col2\" class=\"data row17 col2\" >0.00</td>\n",
              "      <td id=\"T_4cd3c_row17_col3\" class=\"data row17 col3\" >0.00</td>\n",
              "      <td id=\"T_4cd3c_row17_col4\" class=\"data row17 col4\" >0.00</td>\n",
              "      <td id=\"T_4cd3c_row17_col5\" class=\"data row17 col5\" >0.00</td>\n",
              "      <td id=\"T_4cd3c_row17_col6\" class=\"data row17 col6\" >0.00</td>\n",
              "      <td id=\"T_4cd3c_row17_col7\" class=\"data row17 col7\" >0.00</td>\n",
              "      <td id=\"T_4cd3c_row17_col8\" class=\"data row17 col8\" >0.00</td>\n",
              "      <td id=\"T_4cd3c_row17_col9\" class=\"data row17 col9\" >0.00</td>\n",
              "      <td id=\"T_4cd3c_row17_col10\" class=\"data row17 col10\" >0.00</td>\n",
              "      <td id=\"T_4cd3c_row17_col11\" class=\"data row17 col11\" >0.00</td>\n",
              "      <td id=\"T_4cd3c_row17_col12\" class=\"data row17 col12\" >0.00</td>\n",
              "      <td id=\"T_4cd3c_row17_col13\" class=\"data row17 col13\" >0.00</td>\n",
              "      <td id=\"T_4cd3c_row17_col14\" class=\"data row17 col14\" >0.00</td>\n",
              "      <td id=\"T_4cd3c_row17_col15\" class=\"data row17 col15\" >0.00</td>\n",
              "      <td id=\"T_4cd3c_row17_col16\" class=\"data row17 col16\" >0.00</td>\n",
              "      <td id=\"T_4cd3c_row17_col17\" class=\"data row17 col17\" >0.98</td>\n",
              "      <td id=\"T_4cd3c_row17_col18\" class=\"data row17 col18\" >0.99</td>\n",
              "      <td id=\"T_4cd3c_row17_col19\" class=\"data row17 col19\" >0.98</td>\n",
              "      <td id=\"T_4cd3c_row17_col20\" class=\"data row17 col20\" >0.25</td>\n",
              "      <td id=\"T_4cd3c_row17_col21\" class=\"data row17 col21\" >0.00</td>\n",
              "      <td id=\"T_4cd3c_row17_col22\" class=\"data row17 col22\" >0.00</td>\n",
              "      <td id=\"T_4cd3c_row17_col23\" class=\"data row17 col23\" >0.00</td>\n",
              "      <td id=\"T_4cd3c_row17_col24\" class=\"data row17 col24\" >0.00</td>\n",
              "      <td id=\"T_4cd3c_row17_col25\" class=\"data row17 col25\" >0.00</td>\n",
              "      <td id=\"T_4cd3c_row17_col26\" class=\"data row17 col26\" >0.00</td>\n",
              "      <td id=\"T_4cd3c_row17_col27\" class=\"data row17 col27\" >0.00</td>\n",
              "    </tr>\n",
              "    <tr>\n",
              "      <th id=\"T_4cd3c_level0_row18\" class=\"row_heading level0 row18\" >18</th>\n",
              "      <td id=\"T_4cd3c_row18_col0\" class=\"data row18 col0\" >0.00</td>\n",
              "      <td id=\"T_4cd3c_row18_col1\" class=\"data row18 col1\" >0.00</td>\n",
              "      <td id=\"T_4cd3c_row18_col2\" class=\"data row18 col2\" >0.00</td>\n",
              "      <td id=\"T_4cd3c_row18_col3\" class=\"data row18 col3\" >0.00</td>\n",
              "      <td id=\"T_4cd3c_row18_col4\" class=\"data row18 col4\" >0.00</td>\n",
              "      <td id=\"T_4cd3c_row18_col5\" class=\"data row18 col5\" >0.00</td>\n",
              "      <td id=\"T_4cd3c_row18_col6\" class=\"data row18 col6\" >0.00</td>\n",
              "      <td id=\"T_4cd3c_row18_col7\" class=\"data row18 col7\" >0.00</td>\n",
              "      <td id=\"T_4cd3c_row18_col8\" class=\"data row18 col8\" >0.00</td>\n",
              "      <td id=\"T_4cd3c_row18_col9\" class=\"data row18 col9\" >0.00</td>\n",
              "      <td id=\"T_4cd3c_row18_col10\" class=\"data row18 col10\" >0.00</td>\n",
              "      <td id=\"T_4cd3c_row18_col11\" class=\"data row18 col11\" >0.00</td>\n",
              "      <td id=\"T_4cd3c_row18_col12\" class=\"data row18 col12\" >0.00</td>\n",
              "      <td id=\"T_4cd3c_row18_col13\" class=\"data row18 col13\" >0.00</td>\n",
              "      <td id=\"T_4cd3c_row18_col14\" class=\"data row18 col14\" >0.18</td>\n",
              "      <td id=\"T_4cd3c_row18_col15\" class=\"data row18 col15\" >0.51</td>\n",
              "      <td id=\"T_4cd3c_row18_col16\" class=\"data row18 col16\" >0.72</td>\n",
              "      <td id=\"T_4cd3c_row18_col17\" class=\"data row18 col17\" >0.99</td>\n",
              "      <td id=\"T_4cd3c_row18_col18\" class=\"data row18 col18\" >0.99</td>\n",
              "      <td id=\"T_4cd3c_row18_col19\" class=\"data row18 col19\" >0.81</td>\n",
              "      <td id=\"T_4cd3c_row18_col20\" class=\"data row18 col20\" >0.01</td>\n",
              "      <td id=\"T_4cd3c_row18_col21\" class=\"data row18 col21\" >0.00</td>\n",
              "      <td id=\"T_4cd3c_row18_col22\" class=\"data row18 col22\" >0.00</td>\n",
              "      <td id=\"T_4cd3c_row18_col23\" class=\"data row18 col23\" >0.00</td>\n",
              "      <td id=\"T_4cd3c_row18_col24\" class=\"data row18 col24\" >0.00</td>\n",
              "      <td id=\"T_4cd3c_row18_col25\" class=\"data row18 col25\" >0.00</td>\n",
              "      <td id=\"T_4cd3c_row18_col26\" class=\"data row18 col26\" >0.00</td>\n",
              "      <td id=\"T_4cd3c_row18_col27\" class=\"data row18 col27\" >0.00</td>\n",
              "    </tr>\n",
              "    <tr>\n",
              "      <th id=\"T_4cd3c_level0_row19\" class=\"row_heading level0 row19\" >19</th>\n",
              "      <td id=\"T_4cd3c_row19_col0\" class=\"data row19 col0\" >0.00</td>\n",
              "      <td id=\"T_4cd3c_row19_col1\" class=\"data row19 col1\" >0.00</td>\n",
              "      <td id=\"T_4cd3c_row19_col2\" class=\"data row19 col2\" >0.00</td>\n",
              "      <td id=\"T_4cd3c_row19_col3\" class=\"data row19 col3\" >0.00</td>\n",
              "      <td id=\"T_4cd3c_row19_col4\" class=\"data row19 col4\" >0.00</td>\n",
              "      <td id=\"T_4cd3c_row19_col5\" class=\"data row19 col5\" >0.00</td>\n",
              "      <td id=\"T_4cd3c_row19_col6\" class=\"data row19 col6\" >0.00</td>\n",
              "      <td id=\"T_4cd3c_row19_col7\" class=\"data row19 col7\" >0.00</td>\n",
              "      <td id=\"T_4cd3c_row19_col8\" class=\"data row19 col8\" >0.00</td>\n",
              "      <td id=\"T_4cd3c_row19_col9\" class=\"data row19 col9\" >0.00</td>\n",
              "      <td id=\"T_4cd3c_row19_col10\" class=\"data row19 col10\" >0.00</td>\n",
              "      <td id=\"T_4cd3c_row19_col11\" class=\"data row19 col11\" >0.00</td>\n",
              "      <td id=\"T_4cd3c_row19_col12\" class=\"data row19 col12\" >0.15</td>\n",
              "      <td id=\"T_4cd3c_row19_col13\" class=\"data row19 col13\" >0.58</td>\n",
              "      <td id=\"T_4cd3c_row19_col14\" class=\"data row19 col14\" >0.90</td>\n",
              "      <td id=\"T_4cd3c_row19_col15\" class=\"data row19 col15\" >0.99</td>\n",
              "      <td id=\"T_4cd3c_row19_col16\" class=\"data row19 col16\" >0.99</td>\n",
              "      <td id=\"T_4cd3c_row19_col17\" class=\"data row19 col17\" >0.99</td>\n",
              "      <td id=\"T_4cd3c_row19_col18\" class=\"data row19 col18\" >0.98</td>\n",
              "      <td id=\"T_4cd3c_row19_col19\" class=\"data row19 col19\" >0.71</td>\n",
              "      <td id=\"T_4cd3c_row19_col20\" class=\"data row19 col20\" >0.00</td>\n",
              "      <td id=\"T_4cd3c_row19_col21\" class=\"data row19 col21\" >0.00</td>\n",
              "      <td id=\"T_4cd3c_row19_col22\" class=\"data row19 col22\" >0.00</td>\n",
              "      <td id=\"T_4cd3c_row19_col23\" class=\"data row19 col23\" >0.00</td>\n",
              "      <td id=\"T_4cd3c_row19_col24\" class=\"data row19 col24\" >0.00</td>\n",
              "      <td id=\"T_4cd3c_row19_col25\" class=\"data row19 col25\" >0.00</td>\n",
              "      <td id=\"T_4cd3c_row19_col26\" class=\"data row19 col26\" >0.00</td>\n",
              "      <td id=\"T_4cd3c_row19_col27\" class=\"data row19 col27\" >0.00</td>\n",
              "    </tr>\n",
              "    <tr>\n",
              "      <th id=\"T_4cd3c_level0_row20\" class=\"row_heading level0 row20\" >20</th>\n",
              "      <td id=\"T_4cd3c_row20_col0\" class=\"data row20 col0\" >0.00</td>\n",
              "      <td id=\"T_4cd3c_row20_col1\" class=\"data row20 col1\" >0.00</td>\n",
              "      <td id=\"T_4cd3c_row20_col2\" class=\"data row20 col2\" >0.00</td>\n",
              "      <td id=\"T_4cd3c_row20_col3\" class=\"data row20 col3\" >0.00</td>\n",
              "      <td id=\"T_4cd3c_row20_col4\" class=\"data row20 col4\" >0.00</td>\n",
              "      <td id=\"T_4cd3c_row20_col5\" class=\"data row20 col5\" >0.00</td>\n",
              "      <td id=\"T_4cd3c_row20_col6\" class=\"data row20 col6\" >0.00</td>\n",
              "      <td id=\"T_4cd3c_row20_col7\" class=\"data row20 col7\" >0.00</td>\n",
              "      <td id=\"T_4cd3c_row20_col8\" class=\"data row20 col8\" >0.00</td>\n",
              "      <td id=\"T_4cd3c_row20_col9\" class=\"data row20 col9\" >0.00</td>\n",
              "      <td id=\"T_4cd3c_row20_col10\" class=\"data row20 col10\" >0.09</td>\n",
              "      <td id=\"T_4cd3c_row20_col11\" class=\"data row20 col11\" >0.45</td>\n",
              "      <td id=\"T_4cd3c_row20_col12\" class=\"data row20 col12\" >0.87</td>\n",
              "      <td id=\"T_4cd3c_row20_col13\" class=\"data row20 col13\" >0.99</td>\n",
              "      <td id=\"T_4cd3c_row20_col14\" class=\"data row20 col14\" >0.99</td>\n",
              "      <td id=\"T_4cd3c_row20_col15\" class=\"data row20 col15\" >0.99</td>\n",
              "      <td id=\"T_4cd3c_row20_col16\" class=\"data row20 col16\" >0.99</td>\n",
              "      <td id=\"T_4cd3c_row20_col17\" class=\"data row20 col17\" >0.79</td>\n",
              "      <td id=\"T_4cd3c_row20_col18\" class=\"data row20 col18\" >0.31</td>\n",
              "      <td id=\"T_4cd3c_row20_col19\" class=\"data row20 col19\" >0.00</td>\n",
              "      <td id=\"T_4cd3c_row20_col20\" class=\"data row20 col20\" >0.00</td>\n",
              "      <td id=\"T_4cd3c_row20_col21\" class=\"data row20 col21\" >0.00</td>\n",
              "      <td id=\"T_4cd3c_row20_col22\" class=\"data row20 col22\" >0.00</td>\n",
              "      <td id=\"T_4cd3c_row20_col23\" class=\"data row20 col23\" >0.00</td>\n",
              "      <td id=\"T_4cd3c_row20_col24\" class=\"data row20 col24\" >0.00</td>\n",
              "      <td id=\"T_4cd3c_row20_col25\" class=\"data row20 col25\" >0.00</td>\n",
              "      <td id=\"T_4cd3c_row20_col26\" class=\"data row20 col26\" >0.00</td>\n",
              "      <td id=\"T_4cd3c_row20_col27\" class=\"data row20 col27\" >0.00</td>\n",
              "    </tr>\n",
              "    <tr>\n",
              "      <th id=\"T_4cd3c_level0_row21\" class=\"row_heading level0 row21\" >21</th>\n",
              "      <td id=\"T_4cd3c_row21_col0\" class=\"data row21 col0\" >0.00</td>\n",
              "      <td id=\"T_4cd3c_row21_col1\" class=\"data row21 col1\" >0.00</td>\n",
              "      <td id=\"T_4cd3c_row21_col2\" class=\"data row21 col2\" >0.00</td>\n",
              "      <td id=\"T_4cd3c_row21_col3\" class=\"data row21 col3\" >0.00</td>\n",
              "      <td id=\"T_4cd3c_row21_col4\" class=\"data row21 col4\" >0.00</td>\n",
              "      <td id=\"T_4cd3c_row21_col5\" class=\"data row21 col5\" >0.00</td>\n",
              "      <td id=\"T_4cd3c_row21_col6\" class=\"data row21 col6\" >0.00</td>\n",
              "      <td id=\"T_4cd3c_row21_col7\" class=\"data row21 col7\" >0.00</td>\n",
              "      <td id=\"T_4cd3c_row21_col8\" class=\"data row21 col8\" >0.09</td>\n",
              "      <td id=\"T_4cd3c_row21_col9\" class=\"data row21 col9\" >0.26</td>\n",
              "      <td id=\"T_4cd3c_row21_col10\" class=\"data row21 col10\" >0.84</td>\n",
              "      <td id=\"T_4cd3c_row21_col11\" class=\"data row21 col11\" >0.99</td>\n",
              "      <td id=\"T_4cd3c_row21_col12\" class=\"data row21 col12\" >0.99</td>\n",
              "      <td id=\"T_4cd3c_row21_col13\" class=\"data row21 col13\" >0.99</td>\n",
              "      <td id=\"T_4cd3c_row21_col14\" class=\"data row21 col14\" >0.99</td>\n",
              "      <td id=\"T_4cd3c_row21_col15\" class=\"data row21 col15\" >0.78</td>\n",
              "      <td id=\"T_4cd3c_row21_col16\" class=\"data row21 col16\" >0.32</td>\n",
              "      <td id=\"T_4cd3c_row21_col17\" class=\"data row21 col17\" >0.01</td>\n",
              "      <td id=\"T_4cd3c_row21_col18\" class=\"data row21 col18\" >0.00</td>\n",
              "      <td id=\"T_4cd3c_row21_col19\" class=\"data row21 col19\" >0.00</td>\n",
              "      <td id=\"T_4cd3c_row21_col20\" class=\"data row21 col20\" >0.00</td>\n",
              "      <td id=\"T_4cd3c_row21_col21\" class=\"data row21 col21\" >0.00</td>\n",
              "      <td id=\"T_4cd3c_row21_col22\" class=\"data row21 col22\" >0.00</td>\n",
              "      <td id=\"T_4cd3c_row21_col23\" class=\"data row21 col23\" >0.00</td>\n",
              "      <td id=\"T_4cd3c_row21_col24\" class=\"data row21 col24\" >0.00</td>\n",
              "      <td id=\"T_4cd3c_row21_col25\" class=\"data row21 col25\" >0.00</td>\n",
              "      <td id=\"T_4cd3c_row21_col26\" class=\"data row21 col26\" >0.00</td>\n",
              "      <td id=\"T_4cd3c_row21_col27\" class=\"data row21 col27\" >0.00</td>\n",
              "    </tr>\n",
              "    <tr>\n",
              "      <th id=\"T_4cd3c_level0_row22\" class=\"row_heading level0 row22\" >22</th>\n",
              "      <td id=\"T_4cd3c_row22_col0\" class=\"data row22 col0\" >0.00</td>\n",
              "      <td id=\"T_4cd3c_row22_col1\" class=\"data row22 col1\" >0.00</td>\n",
              "      <td id=\"T_4cd3c_row22_col2\" class=\"data row22 col2\" >0.00</td>\n",
              "      <td id=\"T_4cd3c_row22_col3\" class=\"data row22 col3\" >0.00</td>\n",
              "      <td id=\"T_4cd3c_row22_col4\" class=\"data row22 col4\" >0.00</td>\n",
              "      <td id=\"T_4cd3c_row22_col5\" class=\"data row22 col5\" >0.00</td>\n",
              "      <td id=\"T_4cd3c_row22_col6\" class=\"data row22 col6\" >0.07</td>\n",
              "      <td id=\"T_4cd3c_row22_col7\" class=\"data row22 col7\" >0.67</td>\n",
              "      <td id=\"T_4cd3c_row22_col8\" class=\"data row22 col8\" >0.86</td>\n",
              "      <td id=\"T_4cd3c_row22_col9\" class=\"data row22 col9\" >0.99</td>\n",
              "      <td id=\"T_4cd3c_row22_col10\" class=\"data row22 col10\" >0.99</td>\n",
              "      <td id=\"T_4cd3c_row22_col11\" class=\"data row22 col11\" >0.99</td>\n",
              "      <td id=\"T_4cd3c_row22_col12\" class=\"data row22 col12\" >0.99</td>\n",
              "      <td id=\"T_4cd3c_row22_col13\" class=\"data row22 col13\" >0.76</td>\n",
              "      <td id=\"T_4cd3c_row22_col14\" class=\"data row22 col14\" >0.31</td>\n",
              "      <td id=\"T_4cd3c_row22_col15\" class=\"data row22 col15\" >0.04</td>\n",
              "      <td id=\"T_4cd3c_row22_col16\" class=\"data row22 col16\" >0.00</td>\n",
              "      <td id=\"T_4cd3c_row22_col17\" class=\"data row22 col17\" >0.00</td>\n",
              "      <td id=\"T_4cd3c_row22_col18\" class=\"data row22 col18\" >0.00</td>\n",
              "      <td id=\"T_4cd3c_row22_col19\" class=\"data row22 col19\" >0.00</td>\n",
              "      <td id=\"T_4cd3c_row22_col20\" class=\"data row22 col20\" >0.00</td>\n",
              "      <td id=\"T_4cd3c_row22_col21\" class=\"data row22 col21\" >0.00</td>\n",
              "      <td id=\"T_4cd3c_row22_col22\" class=\"data row22 col22\" >0.00</td>\n",
              "      <td id=\"T_4cd3c_row22_col23\" class=\"data row22 col23\" >0.00</td>\n",
              "      <td id=\"T_4cd3c_row22_col24\" class=\"data row22 col24\" >0.00</td>\n",
              "      <td id=\"T_4cd3c_row22_col25\" class=\"data row22 col25\" >0.00</td>\n",
              "      <td id=\"T_4cd3c_row22_col26\" class=\"data row22 col26\" >0.00</td>\n",
              "      <td id=\"T_4cd3c_row22_col27\" class=\"data row22 col27\" >0.00</td>\n",
              "    </tr>\n",
              "    <tr>\n",
              "      <th id=\"T_4cd3c_level0_row23\" class=\"row_heading level0 row23\" >23</th>\n",
              "      <td id=\"T_4cd3c_row23_col0\" class=\"data row23 col0\" >0.00</td>\n",
              "      <td id=\"T_4cd3c_row23_col1\" class=\"data row23 col1\" >0.00</td>\n",
              "      <td id=\"T_4cd3c_row23_col2\" class=\"data row23 col2\" >0.00</td>\n",
              "      <td id=\"T_4cd3c_row23_col3\" class=\"data row23 col3\" >0.00</td>\n",
              "      <td id=\"T_4cd3c_row23_col4\" class=\"data row23 col4\" >0.22</td>\n",
              "      <td id=\"T_4cd3c_row23_col5\" class=\"data row23 col5\" >0.67</td>\n",
              "      <td id=\"T_4cd3c_row23_col6\" class=\"data row23 col6\" >0.89</td>\n",
              "      <td id=\"T_4cd3c_row23_col7\" class=\"data row23 col7\" >0.99</td>\n",
              "      <td id=\"T_4cd3c_row23_col8\" class=\"data row23 col8\" >0.99</td>\n",
              "      <td id=\"T_4cd3c_row23_col9\" class=\"data row23 col9\" >0.99</td>\n",
              "      <td id=\"T_4cd3c_row23_col10\" class=\"data row23 col10\" >0.99</td>\n",
              "      <td id=\"T_4cd3c_row23_col11\" class=\"data row23 col11\" >0.96</td>\n",
              "      <td id=\"T_4cd3c_row23_col12\" class=\"data row23 col12\" >0.52</td>\n",
              "      <td id=\"T_4cd3c_row23_col13\" class=\"data row23 col13\" >0.04</td>\n",
              "      <td id=\"T_4cd3c_row23_col14\" class=\"data row23 col14\" >0.00</td>\n",
              "      <td id=\"T_4cd3c_row23_col15\" class=\"data row23 col15\" >0.00</td>\n",
              "      <td id=\"T_4cd3c_row23_col16\" class=\"data row23 col16\" >0.00</td>\n",
              "      <td id=\"T_4cd3c_row23_col17\" class=\"data row23 col17\" >0.00</td>\n",
              "      <td id=\"T_4cd3c_row23_col18\" class=\"data row23 col18\" >0.00</td>\n",
              "      <td id=\"T_4cd3c_row23_col19\" class=\"data row23 col19\" >0.00</td>\n",
              "      <td id=\"T_4cd3c_row23_col20\" class=\"data row23 col20\" >0.00</td>\n",
              "      <td id=\"T_4cd3c_row23_col21\" class=\"data row23 col21\" >0.00</td>\n",
              "      <td id=\"T_4cd3c_row23_col22\" class=\"data row23 col22\" >0.00</td>\n",
              "      <td id=\"T_4cd3c_row23_col23\" class=\"data row23 col23\" >0.00</td>\n",
              "      <td id=\"T_4cd3c_row23_col24\" class=\"data row23 col24\" >0.00</td>\n",
              "      <td id=\"T_4cd3c_row23_col25\" class=\"data row23 col25\" >0.00</td>\n",
              "      <td id=\"T_4cd3c_row23_col26\" class=\"data row23 col26\" >0.00</td>\n",
              "      <td id=\"T_4cd3c_row23_col27\" class=\"data row23 col27\" >0.00</td>\n",
              "    </tr>\n",
              "    <tr>\n",
              "      <th id=\"T_4cd3c_level0_row24\" class=\"row_heading level0 row24\" >24</th>\n",
              "      <td id=\"T_4cd3c_row24_col0\" class=\"data row24 col0\" >0.00</td>\n",
              "      <td id=\"T_4cd3c_row24_col1\" class=\"data row24 col1\" >0.00</td>\n",
              "      <td id=\"T_4cd3c_row24_col2\" class=\"data row24 col2\" >0.00</td>\n",
              "      <td id=\"T_4cd3c_row24_col3\" class=\"data row24 col3\" >0.00</td>\n",
              "      <td id=\"T_4cd3c_row24_col4\" class=\"data row24 col4\" >0.53</td>\n",
              "      <td id=\"T_4cd3c_row24_col5\" class=\"data row24 col5\" >0.99</td>\n",
              "      <td id=\"T_4cd3c_row24_col6\" class=\"data row24 col6\" >0.99</td>\n",
              "      <td id=\"T_4cd3c_row24_col7\" class=\"data row24 col7\" >0.99</td>\n",
              "      <td id=\"T_4cd3c_row24_col8\" class=\"data row24 col8\" >0.83</td>\n",
              "      <td id=\"T_4cd3c_row24_col9\" class=\"data row24 col9\" >0.53</td>\n",
              "      <td id=\"T_4cd3c_row24_col10\" class=\"data row24 col10\" >0.52</td>\n",
              "      <td id=\"T_4cd3c_row24_col11\" class=\"data row24 col11\" >0.06</td>\n",
              "      <td id=\"T_4cd3c_row24_col12\" class=\"data row24 col12\" >0.00</td>\n",
              "      <td id=\"T_4cd3c_row24_col13\" class=\"data row24 col13\" >0.00</td>\n",
              "      <td id=\"T_4cd3c_row24_col14\" class=\"data row24 col14\" >0.00</td>\n",
              "      <td id=\"T_4cd3c_row24_col15\" class=\"data row24 col15\" >0.00</td>\n",
              "      <td id=\"T_4cd3c_row24_col16\" class=\"data row24 col16\" >0.00</td>\n",
              "      <td id=\"T_4cd3c_row24_col17\" class=\"data row24 col17\" >0.00</td>\n",
              "      <td id=\"T_4cd3c_row24_col18\" class=\"data row24 col18\" >0.00</td>\n",
              "      <td id=\"T_4cd3c_row24_col19\" class=\"data row24 col19\" >0.00</td>\n",
              "      <td id=\"T_4cd3c_row24_col20\" class=\"data row24 col20\" >0.00</td>\n",
              "      <td id=\"T_4cd3c_row24_col21\" class=\"data row24 col21\" >0.00</td>\n",
              "      <td id=\"T_4cd3c_row24_col22\" class=\"data row24 col22\" >0.00</td>\n",
              "      <td id=\"T_4cd3c_row24_col23\" class=\"data row24 col23\" >0.00</td>\n",
              "      <td id=\"T_4cd3c_row24_col24\" class=\"data row24 col24\" >0.00</td>\n",
              "      <td id=\"T_4cd3c_row24_col25\" class=\"data row24 col25\" >0.00</td>\n",
              "      <td id=\"T_4cd3c_row24_col26\" class=\"data row24 col26\" >0.00</td>\n",
              "      <td id=\"T_4cd3c_row24_col27\" class=\"data row24 col27\" >0.00</td>\n",
              "    </tr>\n",
              "    <tr>\n",
              "      <th id=\"T_4cd3c_level0_row25\" class=\"row_heading level0 row25\" >25</th>\n",
              "      <td id=\"T_4cd3c_row25_col0\" class=\"data row25 col0\" >0.00</td>\n",
              "      <td id=\"T_4cd3c_row25_col1\" class=\"data row25 col1\" >0.00</td>\n",
              "      <td id=\"T_4cd3c_row25_col2\" class=\"data row25 col2\" >0.00</td>\n",
              "      <td id=\"T_4cd3c_row25_col3\" class=\"data row25 col3\" >0.00</td>\n",
              "      <td id=\"T_4cd3c_row25_col4\" class=\"data row25 col4\" >0.00</td>\n",
              "      <td id=\"T_4cd3c_row25_col5\" class=\"data row25 col5\" >0.00</td>\n",
              "      <td id=\"T_4cd3c_row25_col6\" class=\"data row25 col6\" >0.00</td>\n",
              "      <td id=\"T_4cd3c_row25_col7\" class=\"data row25 col7\" >0.00</td>\n",
              "      <td id=\"T_4cd3c_row25_col8\" class=\"data row25 col8\" >0.00</td>\n",
              "      <td id=\"T_4cd3c_row25_col9\" class=\"data row25 col9\" >0.00</td>\n",
              "      <td id=\"T_4cd3c_row25_col10\" class=\"data row25 col10\" >0.00</td>\n",
              "      <td id=\"T_4cd3c_row25_col11\" class=\"data row25 col11\" >0.00</td>\n",
              "      <td id=\"T_4cd3c_row25_col12\" class=\"data row25 col12\" >0.00</td>\n",
              "      <td id=\"T_4cd3c_row25_col13\" class=\"data row25 col13\" >0.00</td>\n",
              "      <td id=\"T_4cd3c_row25_col14\" class=\"data row25 col14\" >0.00</td>\n",
              "      <td id=\"T_4cd3c_row25_col15\" class=\"data row25 col15\" >0.00</td>\n",
              "      <td id=\"T_4cd3c_row25_col16\" class=\"data row25 col16\" >0.00</td>\n",
              "      <td id=\"T_4cd3c_row25_col17\" class=\"data row25 col17\" >0.00</td>\n",
              "      <td id=\"T_4cd3c_row25_col18\" class=\"data row25 col18\" >0.00</td>\n",
              "      <td id=\"T_4cd3c_row25_col19\" class=\"data row25 col19\" >0.00</td>\n",
              "      <td id=\"T_4cd3c_row25_col20\" class=\"data row25 col20\" >0.00</td>\n",
              "      <td id=\"T_4cd3c_row25_col21\" class=\"data row25 col21\" >0.00</td>\n",
              "      <td id=\"T_4cd3c_row25_col22\" class=\"data row25 col22\" >0.00</td>\n",
              "      <td id=\"T_4cd3c_row25_col23\" class=\"data row25 col23\" >0.00</td>\n",
              "      <td id=\"T_4cd3c_row25_col24\" class=\"data row25 col24\" >0.00</td>\n",
              "      <td id=\"T_4cd3c_row25_col25\" class=\"data row25 col25\" >0.00</td>\n",
              "      <td id=\"T_4cd3c_row25_col26\" class=\"data row25 col26\" >0.00</td>\n",
              "      <td id=\"T_4cd3c_row25_col27\" class=\"data row25 col27\" >0.00</td>\n",
              "    </tr>\n",
              "    <tr>\n",
              "      <th id=\"T_4cd3c_level0_row26\" class=\"row_heading level0 row26\" >26</th>\n",
              "      <td id=\"T_4cd3c_row26_col0\" class=\"data row26 col0\" >0.00</td>\n",
              "      <td id=\"T_4cd3c_row26_col1\" class=\"data row26 col1\" >0.00</td>\n",
              "      <td id=\"T_4cd3c_row26_col2\" class=\"data row26 col2\" >0.00</td>\n",
              "      <td id=\"T_4cd3c_row26_col3\" class=\"data row26 col3\" >0.00</td>\n",
              "      <td id=\"T_4cd3c_row26_col4\" class=\"data row26 col4\" >0.00</td>\n",
              "      <td id=\"T_4cd3c_row26_col5\" class=\"data row26 col5\" >0.00</td>\n",
              "      <td id=\"T_4cd3c_row26_col6\" class=\"data row26 col6\" >0.00</td>\n",
              "      <td id=\"T_4cd3c_row26_col7\" class=\"data row26 col7\" >0.00</td>\n",
              "      <td id=\"T_4cd3c_row26_col8\" class=\"data row26 col8\" >0.00</td>\n",
              "      <td id=\"T_4cd3c_row26_col9\" class=\"data row26 col9\" >0.00</td>\n",
              "      <td id=\"T_4cd3c_row26_col10\" class=\"data row26 col10\" >0.00</td>\n",
              "      <td id=\"T_4cd3c_row26_col11\" class=\"data row26 col11\" >0.00</td>\n",
              "      <td id=\"T_4cd3c_row26_col12\" class=\"data row26 col12\" >0.00</td>\n",
              "      <td id=\"T_4cd3c_row26_col13\" class=\"data row26 col13\" >0.00</td>\n",
              "      <td id=\"T_4cd3c_row26_col14\" class=\"data row26 col14\" >0.00</td>\n",
              "      <td id=\"T_4cd3c_row26_col15\" class=\"data row26 col15\" >0.00</td>\n",
              "      <td id=\"T_4cd3c_row26_col16\" class=\"data row26 col16\" >0.00</td>\n",
              "      <td id=\"T_4cd3c_row26_col17\" class=\"data row26 col17\" >0.00</td>\n",
              "      <td id=\"T_4cd3c_row26_col18\" class=\"data row26 col18\" >0.00</td>\n",
              "      <td id=\"T_4cd3c_row26_col19\" class=\"data row26 col19\" >0.00</td>\n",
              "      <td id=\"T_4cd3c_row26_col20\" class=\"data row26 col20\" >0.00</td>\n",
              "      <td id=\"T_4cd3c_row26_col21\" class=\"data row26 col21\" >0.00</td>\n",
              "      <td id=\"T_4cd3c_row26_col22\" class=\"data row26 col22\" >0.00</td>\n",
              "      <td id=\"T_4cd3c_row26_col23\" class=\"data row26 col23\" >0.00</td>\n",
              "      <td id=\"T_4cd3c_row26_col24\" class=\"data row26 col24\" >0.00</td>\n",
              "      <td id=\"T_4cd3c_row26_col25\" class=\"data row26 col25\" >0.00</td>\n",
              "      <td id=\"T_4cd3c_row26_col26\" class=\"data row26 col26\" >0.00</td>\n",
              "      <td id=\"T_4cd3c_row26_col27\" class=\"data row26 col27\" >0.00</td>\n",
              "    </tr>\n",
              "    <tr>\n",
              "      <th id=\"T_4cd3c_level0_row27\" class=\"row_heading level0 row27\" >27</th>\n",
              "      <td id=\"T_4cd3c_row27_col0\" class=\"data row27 col0\" >0.00</td>\n",
              "      <td id=\"T_4cd3c_row27_col1\" class=\"data row27 col1\" >0.00</td>\n",
              "      <td id=\"T_4cd3c_row27_col2\" class=\"data row27 col2\" >0.00</td>\n",
              "      <td id=\"T_4cd3c_row27_col3\" class=\"data row27 col3\" >0.00</td>\n",
              "      <td id=\"T_4cd3c_row27_col4\" class=\"data row27 col4\" >0.00</td>\n",
              "      <td id=\"T_4cd3c_row27_col5\" class=\"data row27 col5\" >0.00</td>\n",
              "      <td id=\"T_4cd3c_row27_col6\" class=\"data row27 col6\" >0.00</td>\n",
              "      <td id=\"T_4cd3c_row27_col7\" class=\"data row27 col7\" >0.00</td>\n",
              "      <td id=\"T_4cd3c_row27_col8\" class=\"data row27 col8\" >0.00</td>\n",
              "      <td id=\"T_4cd3c_row27_col9\" class=\"data row27 col9\" >0.00</td>\n",
              "      <td id=\"T_4cd3c_row27_col10\" class=\"data row27 col10\" >0.00</td>\n",
              "      <td id=\"T_4cd3c_row27_col11\" class=\"data row27 col11\" >0.00</td>\n",
              "      <td id=\"T_4cd3c_row27_col12\" class=\"data row27 col12\" >0.00</td>\n",
              "      <td id=\"T_4cd3c_row27_col13\" class=\"data row27 col13\" >0.00</td>\n",
              "      <td id=\"T_4cd3c_row27_col14\" class=\"data row27 col14\" >0.00</td>\n",
              "      <td id=\"T_4cd3c_row27_col15\" class=\"data row27 col15\" >0.00</td>\n",
              "      <td id=\"T_4cd3c_row27_col16\" class=\"data row27 col16\" >0.00</td>\n",
              "      <td id=\"T_4cd3c_row27_col17\" class=\"data row27 col17\" >0.00</td>\n",
              "      <td id=\"T_4cd3c_row27_col18\" class=\"data row27 col18\" >0.00</td>\n",
              "      <td id=\"T_4cd3c_row27_col19\" class=\"data row27 col19\" >0.00</td>\n",
              "      <td id=\"T_4cd3c_row27_col20\" class=\"data row27 col20\" >0.00</td>\n",
              "      <td id=\"T_4cd3c_row27_col21\" class=\"data row27 col21\" >0.00</td>\n",
              "      <td id=\"T_4cd3c_row27_col22\" class=\"data row27 col22\" >0.00</td>\n",
              "      <td id=\"T_4cd3c_row27_col23\" class=\"data row27 col23\" >0.00</td>\n",
              "      <td id=\"T_4cd3c_row27_col24\" class=\"data row27 col24\" >0.00</td>\n",
              "      <td id=\"T_4cd3c_row27_col25\" class=\"data row27 col25\" >0.00</td>\n",
              "      <td id=\"T_4cd3c_row27_col26\" class=\"data row27 col26\" >0.00</td>\n",
              "      <td id=\"T_4cd3c_row27_col27\" class=\"data row27 col27\" >0.00</td>\n",
              "    </tr>\n",
              "  </tbody>\n",
              "</table>\n"
            ]
          },
          "metadata": {},
          "execution_count": 14
        }
      ]
    },
    {
      "cell_type": "code",
      "source": [
        "im_tensor.squeeze_()\n",
        "im_tensor.shape"
      ],
      "metadata": {
        "colab": {
          "base_uri": "https://localhost:8080/"
        },
        "id": "U8pCZZWbClTQ",
        "outputId": "51074649-3668-40c8-8c40-968fbe82d6b3"
      },
      "execution_count": null,
      "outputs": [
        {
          "output_type": "execute_result",
          "data": {
            "text/plain": [
              "torch.Size([28, 28])"
            ]
          },
          "metadata": {},
          "execution_count": 15
        }
      ]
    },
    {
      "cell_type": "code",
      "source": [
        "im_tensor[3:6, 20:23].shape"
      ],
      "metadata": {
        "colab": {
          "base_uri": "https://localhost:8080/"
        },
        "id": "8lr_xsTbDQfT",
        "outputId": "ab70d6e2-1a92-46e2-f8a3-25c27c24050e"
      },
      "execution_count": null,
      "outputs": [
        {
          "output_type": "execute_result",
          "data": {
            "text/plain": [
              "torch.Size([3, 3])"
            ]
          },
          "metadata": {},
          "execution_count": 16
        }
      ]
    },
    {
      "cell_type": "code",
      "source": [
        "im_tensor[25:28].shape"
      ],
      "metadata": {
        "colab": {
          "base_uri": "https://localhost:8080/"
        },
        "id": "HAv1mrYvFn7t",
        "outputId": "ee954b79-0570-4d90-89d9-5b63663ea9fa"
      },
      "execution_count": null,
      "outputs": [
        {
          "output_type": "execute_result",
          "data": {
            "text/plain": [
              "torch.Size([3, 28])"
            ]
          },
          "metadata": {},
          "execution_count": 17
        }
      ]
    },
    {
      "cell_type": "code",
      "source": [
        "def apply_kernel(im_tensor, kernel = kernel): return (im_tensor * kernel).sum()"
      ],
      "metadata": {
        "id": "H333OeZjEvYo"
      },
      "execution_count": null,
      "outputs": []
    },
    {
      "cell_type": "code",
      "source": [
        "apply_kernel(im_tensor[3:6, 20:23])"
      ],
      "metadata": {
        "colab": {
          "base_uri": "https://localhost:8080/"
        },
        "id": "emi4tmDhE5YA",
        "outputId": "d5deb24d-2ce5-48a8-a09b-936031eacbfc"
      },
      "execution_count": null,
      "outputs": [
        {
          "output_type": "execute_result",
          "data": {
            "text/plain": [
              "tensor(2.6196)"
            ]
          },
          "metadata": {},
          "execution_count": 19
        }
      ]
    },
    {
      "cell_type": "code",
      "source": [
        "def conv_img(im_tensor, kernel = kernel):\n",
        "  im_tensor.squeeze_()\n",
        "  (rows, cols), margin = im_tensor.shape, kernel.shape[0]\n",
        "  return torch.stack([torch.Tensor([apply_kernel(im_tensor[r:r+margin, c:c+margin], kernel) for c in range(cols - margin)]) for r in range(rows - margin)])"
      ],
      "metadata": {
        "id": "eyFQNXgME9BQ"
      },
      "execution_count": null,
      "outputs": []
    },
    {
      "cell_type": "code",
      "source": [
        "acts = conv_img(im_tensor)"
      ],
      "metadata": {
        "id": "OT21EhvXFg8U"
      },
      "execution_count": null,
      "outputs": []
    },
    {
      "cell_type": "code",
      "source": [
        "show_image(acts)"
      ],
      "metadata": {
        "colab": {
          "base_uri": "https://localhost:8080/"
        },
        "id": "lsdV6GQbFif1",
        "outputId": "9553a2bb-8fb2-4348-b4b5-0962caf0a9b0"
      },
      "execution_count": null,
      "outputs": [
        {
          "output_type": "execute_result",
          "data": {
            "text/plain": [
              "<Axes: >"
            ]
          },
          "metadata": {},
          "execution_count": 22
        },
        {
          "output_type": "display_data",
          "data": {
            "text/plain": [
              "<Figure size 300x300 with 1 Axes>"
            ],
            "image/png": "[encoded data removed]"
          },
          "metadata": {}
        }
      ]
    },
    {
      "cell_type": "code",
      "source": [
        "left_edge = torch.Tensor([\n",
        "    [-1, 0, 1],\n",
        "    [-1, 0, 1],\n",
        "    [-1, 0, 1]\n",
        "]).float()"
      ],
      "metadata": {
        "id": "iO9OM_tVHL-V"
      },
      "execution_count": null,
      "outputs": []
    },
    {
      "cell_type": "code",
      "source": [
        "show_image(conv_img(im_tensor, left_edge))"
      ],
      "metadata": {
        "colab": {
          "base_uri": "https://localhost:8080/"
        },
        "id": "IMdZ-vGWHi05",
        "outputId": "0bb48fc1-d13f-42c0-d09a-6723394d6087"
      },
      "execution_count": null,
      "outputs": [
        {
          "output_type": "execute_result",
          "data": {
            "text/plain": [
              "<Axes: >"
            ]
          },
          "metadata": {},
          "execution_count": 24
        },
        {
          "output_type": "display_data",
          "data": {
            "text/plain": [
              "<Figure size 300x300 with 1 Axes>"
            ],
            "image/png": "[encoded data removed]"
          },
          "metadata": {}
        }
      ]
    },
    {
      "cell_type": "code",
      "source": [
        "im_tensor[None, None, :, :].shape"
      ],
      "metadata": {
        "colab": {
          "base_uri": "https://localhost:8080/"
        },
        "id": "ZP_I22C3HnDN",
        "outputId": "796c205d-8de5-413c-f730-4afd8eedda89"
      },
      "execution_count": null,
      "outputs": [
        {
          "output_type": "execute_result",
          "data": {
            "text/plain": [
              "torch.Size([1, 1, 28, 28])"
            ]
          },
          "metadata": {},
          "execution_count": 25
        }
      ]
    },
    {
      "cell_type": "code",
      "source": [
        "\n",
        "F.unfold(im_tensor[None, None, :, :], (3, 3)).shape"
      ],
      "metadata": {
        "colab": {
          "base_uri": "https://localhost:8080/"
        },
        "id": "osoRQVl4KK4H",
        "outputId": "0d39eb3a-27cf-44b5-bbc5-894512ab8ed2"
      },
      "execution_count": null,
      "outputs": [
        {
          "output_type": "execute_result",
          "data": {
            "text/plain": [
              "torch.Size([1, 9, 676])"
            ]
          },
          "metadata": {},
          "execution_count": 26
        }
      ]
    },
    {
      "cell_type": "code",
      "source": [
        "ext = torch.tensor([[1.1, 1.2, 1.3, 1.4, 1.5],\n",
        "                    [2.1, 2.2, 2.3, 2.4, 2.5],\n",
        "                    [3.1, 3.2, 3.3, 3.4, 3.5],\n",
        "                    [4.1, 4.2, 4.3, 4.4, 4.5],\n",
        "                    [5.1, 5.2, 5.3, 5.4, 5.5],\n",
        "                    [6.1, 6.2, 6.3, 6.4, 6.5]]).float()\n",
        "F.unfold(ext[None, None, :, :], (3, 3))"
      ],
      "metadata": {
        "colab": {
          "base_uri": "https://localhost:8080/"
        },
        "id": "a5WvlZw8KUue",
        "outputId": "a3768da1-489c-47d7-8e95-6214e1e9ea22"
      },
      "execution_count": null,
      "outputs": [
        {
          "output_type": "execute_result",
          "data": {
            "text/plain": [
              "tensor([[[1.1000, 1.2000, 1.3000, 2.1000, 2.2000, 2.3000, 3.1000, 3.2000,\n",
              "          3.3000, 4.1000, 4.2000, 4.3000],\n",
              "         [1.2000, 1.3000, 1.4000, 2.2000, 2.3000, 2.4000, 3.2000, 3.3000,\n",
              "          3.4000, 4.2000, 4.3000, 4.4000],\n",
              "         [1.3000, 1.4000, 1.5000, 2.3000, 2.4000, 2.5000, 3.3000, 3.4000,\n",
              "          3.5000, 4.3000, 4.4000, 4.5000],\n",
              "         [2.1000, 2.2000, 2.3000, 3.1000, 3.2000, 3.3000, 4.1000, 4.2000,\n",
              "          4.3000, 5.1000, 5.2000, 5.3000],\n",
              "         [2.2000, 2.3000, 2.4000, 3.2000, 3.3000, 3.4000, 4.2000, 4.3000,\n",
              "          4.4000, 5.2000, 5.3000, 5.4000],\n",
              "         [2.3000, 2.4000, 2.5000, 3.3000, 3.4000, 3.5000, 4.3000, 4.4000,\n",
              "          4.5000, 5.3000, 5.4000, 5.5000],\n",
              "         [3.1000, 3.2000, 3.3000, 4.1000, 4.2000, 4.3000, 5.1000, 5.2000,\n",
              "          5.3000, 6.1000, 6.2000, 6.3000],\n",
              "         [3.2000, 3.3000, 3.4000, 4.2000, 4.3000, 4.4000, 5.2000, 5.3000,\n",
              "          5.4000, 6.2000, 6.3000, 6.4000],\n",
              "         [3.3000, 3.4000, 3.5000, 4.3000, 4.4000, 4.5000, 5.3000, 5.4000,\n",
              "          5.5000, 6.3000, 6.4000, 6.5000]]])"
            ]
          },
          "metadata": {},
          "execution_count": 27
        }
      ]
    },
    {
      "cell_type": "code",
      "source": [
        "F.unfold(ext[None, None, :, :], (3, 3)).shape"
      ],
      "metadata": {
        "colab": {
          "base_uri": "https://localhost:8080/"
        },
        "id": "VwVelfvZMfw6",
        "outputId": "6ce8076b-f737-42cc-d1f1-b0d6b477a034"
      },
      "execution_count": null,
      "outputs": [
        {
          "output_type": "execute_result",
          "data": {
            "text/plain": [
              "torch.Size([1, 9, 12])"
            ]
          },
          "metadata": {},
          "execution_count": 28
        }
      ]
    },
    {
      "cell_type": "code",
      "source": [
        "imgs = ds['train']['image'][:8]\n",
        "imgs = torch.stack(list(map(to_tensor, imgs)))"
      ],
      "metadata": {
        "id": "CHhbyYlhO_DO"
      },
      "execution_count": null,
      "outputs": []
    },
    {
      "cell_type": "code",
      "source": [
        "kernels = torch.stack((kernel, left_edge))[:, None, :, :]"
      ],
      "metadata": {
        "id": "Zv7gx2WrPKAy"
      },
      "execution_count": null,
      "outputs": []
    },
    {
      "cell_type": "code",
      "source": [
        "imgs.shape, kernels.shape"
      ],
      "metadata": {
        "colab": {
          "base_uri": "https://localhost:8080/"
        },
        "id": "Ph9ZdznFP9HR",
        "outputId": "3b567afa-0d81-49d4-a830-883c36450f1a"
      },
      "execution_count": null,
      "outputs": [
        {
          "output_type": "execute_result",
          "data": {
            "text/plain": [
              "(torch.Size([8, 1, 28, 28]), torch.Size([2, 1, 3, 3]))"
            ]
          },
          "metadata": {},
          "execution_count": 31
        }
      ]
    },
    {
      "cell_type": "code",
      "source": [
        "out = F.conv2d(imgs, kernels)\n",
        "out.shape"
      ],
      "metadata": {
        "colab": {
          "base_uri": "https://localhost:8080/"
        },
        "id": "FZZF2WcLPpBS",
        "outputId": "e900ef28-0f9a-4354-d889-beb265add9e3"
      },
      "execution_count": null,
      "outputs": [
        {
          "output_type": "execute_result",
          "data": {
            "text/plain": [
              "torch.Size([8, 2, 26, 26])"
            ]
          },
          "metadata": {},
          "execution_count": 32
        }
      ]
    },
    {
      "cell_type": "code",
      "source": [
        "show_image(imgs[2])"
      ],
      "metadata": {
        "colab": {
          "base_uri": "https://localhost:8080/"
        },
        "id": "-AZL0SxMPqtd",
        "outputId": "e7182e66-3690-4165-f185-c544e009124a"
      },
      "execution_count": null,
      "outputs": [
        {
          "output_type": "execute_result",
          "data": {
            "text/plain": [
              "<Axes: >"
            ]
          },
          "metadata": {},
          "execution_count": 33
        },
        {
          "output_type": "display_data",
          "data": {
            "text/plain": [
              "<Figure size 300x300 with 1 Axes>"
            ],
            "image/png": "[encoded data removed]"
          },
          "metadata": {}
        }
      ]
    },
    {
      "cell_type": "code",
      "source": [
        "fig, axs = get_grid(2, 1, 2)\n",
        "for i, ax in enumerate(axs):\n",
        "  show_image(out[2, i], ax)"
      ],
      "metadata": {
        "colab": {
          "base_uri": "https://localhost:8080/"
        },
        "id": "w2I3hbTyQtJY",
        "outputId": "78e4b41c-6dfb-4c68-913d-c68bfe39bfdd"
      },
      "execution_count": null,
      "outputs": [
        {
          "output_type": "display_data",
          "data": {
            "text/plain": [
              "<Figure size 640x480 with 2 Axes>"
            ],
            "image/png": "[encoded data removed]"
          },
          "metadata": {}
        }
      ]
    },
    {
      "cell_type": "code",
      "source": [
        "from torch.utils.data import DataLoader\n",
        "from torch import nn"
      ],
      "metadata": {
        "id": "xFkDwVkNuKmi"
      },
      "execution_count": null,
      "outputs": []
    },
    {
      "cell_type": "code",
      "source": [
        "def transform(some_data):\n",
        "  some_data['image'] = [to_tensor(img) for img in some_data['image']]\n",
        "  return some_data\n",
        "\n",
        "def collate_function(some_data):\n",
        "  data = [(s['image'], torch.tensor(s['label'])) for s in some_data]\n",
        "  x, y = zip(*data)\n",
        "  return torch.stack(x), torch.stack(y)"
      ],
      "metadata": {
        "id": "8CVvIJtzur8S"
      },
      "execution_count": null,
      "outputs": []
    },
    {
      "cell_type": "code",
      "source": [
        "# Prepare the dataloaders\n",
        "# Prepare the model\n",
        "# Train the model for 10 epochs\n",
        "train_ds, test_ds = ds['train'].with_transform(transform), ds['test'].with_transform(transform)\n",
        "train_dl, valid_dl = DataLoader(train_ds, batch_size = 64, shuffle = True, collate_fn = collate_function), DataLoader(test_ds, batch_size = 16, shuffle = False, collate_fn = collate_function)"
      ],
      "metadata": {
        "id": "L9bSf2oAQ_tJ"
      },
      "execution_count": null,
      "outputs": []
    },
    {
      "cell_type": "code",
      "source": [
        "# Prepare the model\n",
        "def conv(n_in, n_out, kernel_size = (3, 3), stride = 2, relu = True):\n",
        "  layer = nn.Conv2d(n_in, n_out, kernel_size, stride = stride, padding = kernel_size[0]//2)\n",
        "  if relu: return nn.Sequential(layer, nn.ReLU())\n",
        "  return layer"
      ],
      "metadata": {
        "id": "YC82yLARwmPE"
      },
      "execution_count": null,
      "outputs": []
    },
    {
      "cell_type": "code",
      "source": [
        "device = torch.device('cuda')"
      ],
      "metadata": {
        "id": "Xaa-2aNNxl_t"
      },
      "execution_count": null,
      "outputs": []
    },
    {
      "cell_type": "code",
      "source": [
        "\n",
        "def test_fit(epochs, model, loss_func, opt, train_dl, valid_dl):\n",
        "    for epoch in range(epochs):\n",
        "        model.train()\n",
        "        for xb,yb in train_dl:\n",
        "            loss = loss_func(model(xb), yb)\n",
        "            loss.backward()\n",
        "            opt.step()\n",
        "            opt.zero_grad()\n",
        "\n",
        "        model.eval()\n",
        "        with torch.no_grad():\n",
        "            tot_loss,tot_acc,count = 0.,0.,0\n",
        "            for xb,yb in valid_dl:\n",
        "                pred = model(xb)\n",
        "                n = len(xb)\n",
        "                count += n\n",
        "                tot_loss += loss_func(pred,yb).item()*n\n",
        "                tot_acc  += accuracy (pred,yb).item()*n\n",
        "        print(epoch, tot_loss/count, tot_acc/count)\n",
        "    return tot_loss/count, tot_acc/count"
      ],
      "metadata": {
        "id": "mfZBCZI5qECA"
      },
      "execution_count": null,
      "outputs": []
    },
    {
      "cell_type": "code",
      "source": [
        "x, y = next(iter(train_dl))"
      ],
      "metadata": {
        "id": "pihzmiV0rwzm"
      },
      "execution_count": null,
      "outputs": []
    },
    {
      "cell_type": "code",
      "source": [
        "fig, axs = get_grid(10, 3)\n",
        "imgs = x[:10]\n",
        "for img, ax in zip(imgs, axs):\n",
        "  show_image(img, ax)"
      ],
      "metadata": {
        "colab": {
          "base_uri": "https://localhost:8080/"
        },
        "id": "PcUR3rW_sWTD",
        "outputId": "4bcb5fbe-7f0a-493f-b734-f13dcb848ebb"
      },
      "execution_count": null,
      "outputs": [
        {
          "output_type": "display_data",
          "data": {
            "text/plain": [
              "<Figure size 640x480 with 12 Axes>"
            ],
            "image/png": "[encoded data removed]"
          },
          "metadata": {}
        }
      ]
    },
    {
      "cell_type": "code",
      "source": [
        "y[:10]"
      ],
      "metadata": {
        "colab": {
          "base_uri": "https://localhost:8080/"
        },
        "id": "P4bQZlSvs4o4",
        "outputId": "30c99b1e-57ae-41fb-9e51-bb105cf5d155"
      },
      "execution_count": null,
      "outputs": [
        {
          "output_type": "execute_result",
          "data": {
            "text/plain": [
              "tensor([6, 2, 3, 4, 3, 5, 5, 6, 7, 5])"
            ]
          },
          "metadata": {},
          "execution_count": 74
        }
      ]
    },
    {
      "cell_type": "code",
      "source": [
        "def get_model():\n",
        "  return nn.Sequential(\n",
        "    conv(1, 8),  ## 8x14x14\n",
        "    conv(8, 16), ## 16x7x7\n",
        "    conv(16, 32), ## 32x4x4\n",
        "    conv(32, 16), # 64x2x2\n",
        "    conv(16, 10, relu = False), # 128x1x1\n",
        "    nn.Flatten(), # bs x 128\n",
        "  ).to(device)\n",
        "\n",
        "model = get_model()"
      ],
      "metadata": {
        "id": "96dEhoSF3NFL"
      },
      "execution_count": null,
      "outputs": []
    },
    {
      "cell_type": "code",
      "source": [
        "new_model = nn.Sequential(\n",
        "    conv(1 ,4),            #14x14\n",
        "    conv(4 ,8),            #7x7\n",
        "    conv(8 ,16),           #4x4\n",
        "    conv(16,16),           #2x2\n",
        "    conv(16,10, relu=False), #1x1\n",
        "    nn.Flatten(),\n",
        ").to(device)"
      ],
      "metadata": {
        "id": "NeingdLErhUR"
      },
      "execution_count": null,
      "outputs": []
    },
    {
      "cell_type": "code",
      "source": [
        "class MyModel(nn.Module):\n",
        "  def __init__(self):\n",
        "    super().__init__()\n",
        "    self.encoder = nn.Sequential(\n",
        "      conv(1, 8),  ## 8x14x14\n",
        "      conv(8, 16), ## 16x7x7\n",
        "      conv(16, 32), ## 32x4x4\n",
        "      conv(32, 64), # 64x2x2\n",
        "      conv(64, 128)\n",
        "    )\n",
        "    self.final = nn.Sequential(nn.Linear(128, 10), nn.ReLU())\n",
        "\n",
        "  def forward(self, x):\n",
        "    x = self.encoder(x).view(x.shape[0], -1)\n",
        "    return self.final(x)\n"
      ],
      "metadata": {
        "id": "g50VeDwdAmCy"
      },
      "execution_count": null,
      "outputs": []
    },
    {
      "cell_type": "code",
      "source": [
        "\n",
        "def fit(model = model, num_epocs = 100, lr = 0.01):\n",
        "\n",
        "  opt = torch.optim.SGD(model.parameters(), lr = lr)\n",
        "  loss_fn = F.cross_entropy\n",
        "\n",
        "  for i in range(num_epocs):\n",
        "    model.train()\n",
        "    train_losses, valid_losses = [], []\n",
        "    for x, y in train_dl:\n",
        "      x, y = x.to(device), y.to(device)\n",
        "      yhat = model(x)\n",
        "      loss = loss_fn(yhat, y)\n",
        "      loss.backward()\n",
        "      opt.step()\n",
        "      opt.zero_grad()\n",
        "\n",
        "      train_losses.append(loss.item())\n",
        "\n",
        "    model.eval()\n",
        "    with torch.no_grad():\n",
        "      for vx, vy in valid_dl:\n",
        "        vx, vy = vx.to(device), vy.to(device)\n",
        "        vyhat = model(vx)\n",
        "        vloss = loss_fn(vyhat, vy)\n",
        "        valid_losses.append(vloss.item())\n",
        "\n",
        "    print(f\"epoch: {i}, train_loss: {np.mean(train_losses)}, valid_loss: {np.mean(valid_losses)}\")"
      ],
      "metadata": {
        "id": "-cEPS4VlzoqC"
      },
      "execution_count": null,
      "outputs": []
    },
    {
      "cell_type": "code",
      "source": [
        "fit(model = new_model, num_epocs = 3, lr = 0.1)"
      ],
      "metadata": {
        "colab": {
          "base_uri": "https://localhost:8080/"
        },
        "id": "WSPk43u3C98U",
        "outputId": "cc3ada82-3458-4d08-b2dd-98de38b90c8e"
      },
      "execution_count": null,
      "outputs": [
        {
          "output_type": "stream",
          "name": "stdout",
          "text": [
            "epoch: 0, train_loss: 1.3915640050048894, valid_loss: 0.28255949592851104\n",
            "epoch: 1, train_loss: 0.19294885002862988, valid_loss: 0.1232951137450058\n",
            "epoch: 2, train_loss: 0.13124457460496503, valid_loss: 0.1556387377347797\n"
          ]
        }
      ]
    },
    {
      "cell_type": "code",
      "source": [
        "model_v3 = nn.Sequential(\n",
        "    conv(1, 4),  ## 8x14x14\n",
        "    conv(4, 8), ## 16x7x7\n",
        "    conv(8, 16), ## 32x4x4\n",
        "    conv(16, 32), # 64x2x2\n",
        "    conv(32, 64), # 128x1x1\n",
        "    nn.Flatten(), # bs x 128\n",
        "    nn.Linear(64, 10),\n",
        "    nn.ReLU()\n",
        "  ).to(device)\n",
        "fit(model = model_v3, num_epocs = 3, lr = 0.1)"
      ],
      "metadata": {
        "colab": {
          "base_uri": "https://localhost:8080/"
        },
        "id": "pgPko-1RDssW",
        "outputId": "bfa7c3aa-6b9a-4b78-889c-b1c6b5dfc595"
      },
      "execution_count": null,
      "outputs": [
        {
          "output_type": "stream",
          "name": "stdout",
          "text": [
            "epoch: 0, train_loss: 2.3015400791473226, valid_loss: 2.3004445514678955\n",
            "epoch: 1, train_loss: 1.7015047817786872, valid_loss: 0.3560440572410822\n",
            "epoch: 2, train_loss: 0.1938174391445368, valid_loss: 0.13029525599107147\n"
          ]
        }
      ]
    },
    {
      "cell_type": "code",
      "source": [
        "model_v4 = nn.Sequential(\n",
        "    conv(1, 8),  ## 8x14x14\n",
        "    conv(8, 16), ## 16x7x7\n",
        "    conv(16, 32), ## 32x4x4\n",
        "    conv(32, 64), # 64x2x2x\n",
        "    conv(64, 64), # 128x1x1\n",
        "    nn.Flatten(), # bs x 128\n",
        "    nn.Linear(64, 10),\n",
        "    nn.ReLU()\n",
        "  ).to(device)\n",
        "fit(model = model_v4, num_epocs = 3, lr = 0.1)"
      ],
      "metadata": {
        "colab": {
          "base_uri": "https://localhost:8080/"
        },
        "id": "5tMSOip4EF41",
        "outputId": "f99251d9-48d2-4b99-af15-2d460a10179c"
      },
      "execution_count": null,
      "outputs": [
        {
          "output_type": "stream",
          "name": "stdout",
          "text": [
            "epoch: 0, train_loss: 2.2928247206500854, valid_loss: 1.9957037464141845\n",
            "epoch: 1, train_loss: 0.39728973281861685, valid_loss: 0.3145681996891275\n",
            "epoch: 2, train_loss: 0.1182014906842476, valid_loss: 0.09782285843869903\n"
          ]
        }
      ]
    },
    {
      "cell_type": "code",
      "source": [
        "model_v5 = nn.Sequential(\n",
        "    conv(1, 8),  ## 8x14x14\n",
        "    conv(8, 16), ## 16x7x7\n",
        "    conv(16, 32), ## 32x4x4\n",
        "    conv(32, 64), # 64x2x2x\n",
        "    conv(64, 128), # 128x1x1\n",
        "    nn.Flatten(), # bs x 128\n",
        "    nn.Linear(128, 10),\n",
        "    nn.ReLU()\n",
        "  ).to(device)\n",
        "fit(model = model_v5, num_epocs = 3, lr = 0.1)"
      ],
      "metadata": {
        "colab": {
          "base_uri": "https://localhost:8080/"
        },
        "id": "OlUnvPxqEb5j",
        "outputId": "726d9527-5dd0-47fb-ad01-876d6f38a2d0"
      },
      "execution_count": null,
      "outputs": [
        {
          "output_type": "stream",
          "name": "stdout",
          "text": [
            "epoch: 0, train_loss: 1.1705503302143772, valid_loss: 0.1985379087826237\n",
            "epoch: 1, train_loss: 0.1353729552656873, valid_loss: 0.09797595009910874\n",
            "epoch: 2, train_loss: 0.08780057390661303, valid_loss: 0.17738789424971327\n"
          ]
        }
      ]
    },
    {
      "cell_type": "markdown",
      "source": [
        "# Autoencoder and experiments"
      ],
      "metadata": {
        "id": "WjUnwnn7CFqz"
      }
    },
    {
      "cell_type": "code",
      "source": [
        "# start with showing images\n",
        "# get the new dataset\n",
        "# Create a new dataset, dataloaders with collate function and all\n",
        "# Create an auto encoder - basic unet, play around, add skip connections and all - Add hooks and all.\n",
        "# Test them with SGD, Adam"
      ],
      "metadata": {
        "id": "fXFsACPPE50H"
      },
      "execution_count": null,
      "outputs": []
    },
    {
      "cell_type": "code",
      "source": [
        "dsd = load_dataset_builder('fashion_mnist')"
      ],
      "metadata": {
        "colab": {
          "base_uri": "https://localhost:8080/"
        },
        "id": "LkVo-SnBB9xn",
        "outputId": "2a5f9e62-6d10-4008-dee8-8a054f4156d5"
      },
      "execution_count": null,
      "outputs": [
        {
          "output_type": "stream",
          "name": "stderr",
          "text": [
            "/usr/local/lib/python3.10/dist-packages/huggingface_hub/utils/_token.py:72: UserWarning: \n",
            "The secret `HF_TOKEN` does not exist in your Colab secrets.\n",
            "To authenticate with the Hugging Face Hub, create a token in your settings tab (https://huggingface.co/settings/tokens), set it as secret in your Google Colab and restart your session.\n",
            "You will be able to reuse this secret in all of your notebooks.\n",
            "Please note that authentication is recommended but still optional to access public models or datasets.\n",
            "  warnings.warn(\n"
          ]
        }
      ]
    },
    {
      "cell_type": "code",
      "source": [
        "ds = load_dataset('fashion_mnist')"
      ],
      "metadata": {
        "colab": {
          "base_uri": "https://localhost:8080/",
          "height": 272,
          "referenced_widgets": [
            "85c32e1ca8744ac19887b83c0ddb2d7f",
            "445a477108a2428eb4e5ddfb03f36c74",
            "045d6b7590ac460db0f035e4f8ae845b",
            "01b66f35c1ab44c198f74d910278a433",
            "9d342c79eac84b80953489507251ffa6",
            "f501c830fc3c4dd2bd4bfbbc8703141a",
            "40db3d97ec5c481ab932a195fd123aba",
            "d016ebfe78af46d9a4d832d210ea4688",
            "6e377051a0724ffd81165d85fe1977aa",
            "0317b1813ff844e59d6c510df22fba19",
            "492be37487764ee4b2c1133a60fdd766",
            "8607787941cd4872b980807996c93633",
            "3420c1b8e71741cbb6d20a2da46dae54",
            "21372882d57c4423843cb7cef03ecdc2",
            "f2a425d04a6f4dcfb5ad8f341aac09f0",
            "b3e90dda54de4e0d9a722c561b0c6a01",
            "7f8416f2cb09481ca5cf24453614ab1e",
            "8de67bca2b5241ddbd24057c4bec0ded",
            "edd1d159c0ea46958dfa5492cb6c4d9d",
            "6b8ad05dbb0c4de6b7497615b2f86e3f",
            "583b0d9ed78645229a0c029df1f802b9",
            "08740b20db194845ba847201cb68b8db",
            "af5b365b5683423c95a1710b8aaa38b2",
            "f09c2435783645f5a9aaf1fb8aef8ba2",
            "240afb36727d4074801431db9bf2ec07",
            "44b1e458e7e14f67ad716e9d939f65ed",
            "bcde7992a4f6475aa9210189206b187e",
            "098115065896452ea2f1317709e5135a",
            "69afc350be764f7ab028213c4d0657a9",
            "f5ae4368655a40c3893c18cbff8336ef",
            "6e1bc68b98b14b06932d2b6cd80fac9a",
            "a190c57f2b1243ae90c604c1e4e1cb1c",
            "6d3c0652e31c46998232f51c46efe6b6",
            "d3127d6c56134b91b08dab81202d5866",
            "476631d1eaac4c09813a066bedfa0d77",
            "35511838092f476bb0e54aef1287630d",
            "d882052086e1412ab9acb1fa7cd460f7",
            "a764ec6faef94111a747df4735f0a16e",
            "7234a06641a348cb94ca81982f0534e5",
            "97f4eab6595848169bc2e987e58d5291",
            "798e492cef754a52ba768d8f383ffbc3",
            "fb71d62d237f4085a5ae9e247b7382cb",
            "fb5a9e4751d14fcf9438454046ebe935",
            "c1498b06df1c42a689ccbd623ede06e4"
          ]
        },
        "id": "SK8l6-ToDvog",
        "outputId": "58dd5234-b655-4eaa-d1ef-a0f2ac991c3b"
      },
      "execution_count": null,
      "outputs": [
        {
          "output_type": "stream",
          "name": "stderr",
          "text": [
            "/usr/local/lib/python3.10/dist-packages/huggingface_hub/utils/_token.py:72: UserWarning: \n",
            "The secret `HF_TOKEN` does not exist in your Colab secrets.\n",
            "To authenticate with the Hugging Face Hub, create a token in your settings tab (https://huggingface.co/settings/tokens), set it as secret in your Google Colab and restart your session.\n",
            "You will be able to reuse this secret in all of your notebooks.\n",
            "Please note that authentication is recommended but still optional to access public models or datasets.\n",
            "  warnings.warn(\n"
          ]
        },
        {
          "output_type": "display_data",
          "data": {
            "text/plain": [
              "Downloading data:   0%|          | 0.00/30.9M [00:00<?, ?B/s]"
            ],
            "application/vnd.jupyter.widget-view+json": {
              "version_major": 2,
              "version_minor": 0,
              "model_id": "85c32e1ca8744ac19887b83c0ddb2d7f"
            }
          },
          "metadata": {}
        },
        {
          "output_type": "display_data",
          "data": {
            "text/plain": [
              "Downloading data:   0%|          | 0.00/5.18M [00:00<?, ?B/s]"
            ],
            "application/vnd.jupyter.widget-view+json": {
              "version_major": 2,
              "version_minor": 0,
              "model_id": "8607787941cd4872b980807996c93633"
            }
          },
          "metadata": {}
        },
        {
          "output_type": "display_data",
          "data": {
            "text/plain": [
              "Generating train split: 0 examples [00:00, ? examples/s]"
            ],
            "application/vnd.jupyter.widget-view+json": {
              "version_major": 2,
              "version_minor": 0,
              "model_id": "af5b365b5683423c95a1710b8aaa38b2"
            }
          },
          "metadata": {}
        },
        {
          "output_type": "display_data",
          "data": {
            "text/plain": [
              "Generating test split: 0 examples [00:00, ? examples/s]"
            ],
            "application/vnd.jupyter.widget-view+json": {
              "version_major": 2,
              "version_minor": 0,
              "model_id": "d3127d6c56134b91b08dab81202d5866"
            }
          },
          "metadata": {}
        }
      ]
    },
    {
      "cell_type": "code",
      "source": [
        "dsd, ds"
      ],
      "metadata": {
        "colab": {
          "base_uri": "https://localhost:8080/"
        },
        "id": "LxaznLpzD3bW",
        "outputId": "6acbce0e-ddeb-4ad8-f92a-fff1de443354"
      },
      "execution_count": null,
      "outputs": [
        {
          "output_type": "execute_result",
          "data": {
            "text/plain": [
              "(<datasets.packaged_modules.parquet.parquet.ParquetFashionMnist at 0x7eee071b7ca0>,\n",
              " DatasetDict({\n",
              "     train: Dataset({\n",
              "         features: ['image', 'label'],\n",
              "         num_rows: 60000\n",
              "     })\n",
              "     test: Dataset({\n",
              "         features: ['image', 'label'],\n",
              "         num_rows: 10000\n",
              "     })\n",
              " }))"
            ]
          },
          "metadata": {},
          "execution_count": 8
        }
      ]
    },
    {
      "cell_type": "code",
      "source": [
        "class FM_Dataset(Dataset):\n",
        "  def __init__(self, x, y):\n",
        "    super().__init__()\n",
        "    if type(x) == list: x = torch.stack(x)\n",
        "    if type(y) == list: y = torch.tensor(y, dtype = torch.long)\n",
        "    self.x, self.y = x, y\n",
        "\n",
        "  def __getitem__(self, index):\n",
        "    return self.x[index], self.y[index]\n",
        "\n",
        "  def __len__(self):\n",
        "    return self.x.shape[0]"
      ],
      "metadata": {
        "id": "5ZLjyIwIFMDj"
      },
      "execution_count": null,
      "outputs": []
    },
    {
      "cell_type": "code",
      "source": [
        "def collate_fn(data):\n",
        "  x, y = zip(*data)\n",
        "  return torch.stack(x), torch.stack(y)\n",
        "\n",
        "def conv(nin, nout, ks = (3,3), stride = 2, act = False):\n",
        "  layer = nn.Conv2d(nin, nout, ks, stride, padding = ks[0]//2)\n",
        "  if act: return nn.Sequential(layer, nn.ReLU())\n",
        "  return layer\n",
        "\n",
        "train_x, train_y, test_x, test_y = ds['train']['image'], ds['train']['label'], ds['test']['image'], ds['test']['label']\n",
        "train_x, test_x = torch.stack(list(map(to_tensor, train_x))), torch.stack(list(map(to_tensor, test_x)))\n",
        "train_ds, valid_ds = FM_Dataset(train_x, train_y), FM_Dataset(test_x, test_y)\n",
        "train_dl, valid_dl = DataLoader(train_ds, batch_size = 64, shuffle = True, collate_fn = collate_fn), DataLoader(valid_ds, batch_size = 64, shuffle = False, collate_fn = collate_fn)"
      ],
      "metadata": {
        "id": "nQbGMIgOKo4S"
      },
      "execution_count": null,
      "outputs": []
    },
    {
      "cell_type": "code",
      "source": [
        "device = torch.device('cuda')"
      ],
      "metadata": {
        "id": "HUo8VImzMJYL"
      },
      "execution_count": null,
      "outputs": []
    },
    {
      "cell_type": "code",
      "source": [
        "model = nn.Sequential(\n",
        "    conv(1, 8), # (14, 14)\n",
        "    conv(8, 16), # (7, 7)\n",
        "    conv(16, 32), # (4, 4)\n",
        "    conv(32, 64), # (2, 2)\n",
        "    conv(64, 128),  # (1, 1)\n",
        "    nn.Flatten(),\n",
        "    nn.Linear(128, 10),\n",
        "    nn.ReLU()\n",
        ").to(device)"
      ],
      "metadata": {
        "id": "TZmAQU8NKar5"
      },
      "execution_count": null,
      "outputs": []
    },
    {
      "cell_type": "code",
      "source": [
        "fit(model, 8, lr = 0.1)"
      ],
      "metadata": {
        "colab": {
          "base_uri": "https://localhost:8080/"
        },
        "id": "2B-VHSK7MSjB",
        "outputId": "e66975d6-a736-4fc8-d6a1-0f5fa4606ef8"
      },
      "execution_count": null,
      "outputs": [
        {
          "output_type": "stream",
          "name": "stdout",
          "text": [
            "epoch: 0, train_loss: 0.8408869242172505, valid_loss: 0.6652135562365222\n",
            "epoch: 1, train_loss: 0.5208437432453576, valid_loss: 0.5358633603070192\n",
            "epoch: 2, train_loss: 0.4915948046137021, valid_loss: 0.5149278254455821\n",
            "epoch: 3, train_loss: 0.4706609522991343, valid_loss: 0.48339534014653246\n",
            "epoch: 4, train_loss: 0.4568423995140519, valid_loss: 0.4737347679533017\n",
            "epoch: 5, train_loss: 0.44619870557586777, valid_loss: 0.48947655784476335\n",
            "epoch: 6, train_loss: 0.44074667025921443, valid_loss: 0.4806534168636723\n",
            "epoch: 7, train_loss: 0.43502002184007216, valid_loss: 0.482069139457812\n"
          ]
        }
      ]
    },
    {
      "cell_type": "code",
      "source": [
        "sx = torch.randn(16, 8, 7, 7)\n",
        "sl = nn.UpsamplingNearest2d(scale_factor=2)\n",
        "sl(sx).shape"
      ],
      "metadata": {
        "colab": {
          "base_uri": "https://localhost:8080/"
        },
        "id": "emLLijTMNVwV",
        "outputId": "c95cc884-bd34-4b02-b7a6-9575fdd94eaa"
      },
      "execution_count": null,
      "outputs": [
        {
          "output_type": "execute_result",
          "data": {
            "text/plain": [
              "torch.Size([16, 8, 14, 14])"
            ]
          },
          "metadata": {},
          "execution_count": 14
        }
      ]
    },
    {
      "cell_type": "code",
      "source": [
        "def de_conv(nin, nout, ks = 3, stride = 1, relu = True):\n",
        "  layers = [nn.UpsamplingNearest2d(scale_factor=2), nn.Conv2d(nin, nout, (ks, ks), stride, padding = ks//2)]\n",
        "  if relu: layers.append(nn.ReLU())\n",
        "  return nn.Sequential(*layers)"
      ],
      "metadata": {
        "id": "Umf3SH4UPVgf"
      },
      "execution_count": null,
      "outputs": []
    },
    {
      "cell_type": "code",
      "source": [
        "autoencoder = nn.Sequential(\n",
        "    nn.ZeroPad2d(2),\n",
        "    conv(1, 2), # (14, 14)\n",
        "    conv(2, 4), # (7, 7)\n",
        "    conv(4, 8), # (4, 4)\n",
        "    de_conv(8, 4), # (8, 8)\n",
        "    de_conv(4, 2), # (16, 16)\n",
        "    de_conv(2, 1), # (32, 32)\n",
        "    nn.ZeroPad2d(-2),\n",
        ").to(device)"
      ],
      "metadata": {
        "id": "OSmWTISPMq2m"
      },
      "execution_count": null,
      "outputs": []
    },
    {
      "cell_type": "code",
      "source": [
        "def ae_fit(model, dl, valid_dl, loss_fn, optim, epocs = 10):\n",
        "  # with torch.autocast():\n",
        "  for ep in range(epocs):\n",
        "    train_loss, valid_loss = [], []\n",
        "    for x, y in dl:\n",
        "      x = x.to(device)\n",
        "      yhat = model(x)\n",
        "      loss = loss_fn(yhat, x)\n",
        "      loss.backward()\n",
        "      optim.step()\n",
        "      optim.zero_grad()\n",
        "      train_loss.append(loss.item())\n",
        "\n",
        "    with torch.no_grad():\n",
        "      for vx, vy in valid_dl:\n",
        "        vx = vx.to(device)\n",
        "        vyhat = model(vx)\n",
        "        vloss = loss_fn(vyhat, vx)\n",
        "        valid_loss.append(vloss.item())\n",
        "    print(f'train_loss: {np.mean(train_loss):.4f}, valid_loss: {np.mean(valid_loss):.4f}')"
      ],
      "metadata": {
        "id": "yKBHXVjVRE5t"
      },
      "execution_count": null,
      "outputs": []
    },
    {
      "cell_type": "code",
      "source": [
        "loss_fn = F.mse_loss\n",
        "optim = torch.optim.SGD(autoencoder.parameters(), lr = 0.01)\n",
        "ae_fit(autoencoder, train_dl, valid_dl, loss_fn, optim)"
      ],
      "metadata": {
        "colab": {
          "base_uri": "https://localhost:8080/"
        },
        "id": "U6ORIv_1SZRb",
        "outputId": "aba055f8-7e89-4985-cd4e-41b408f03957"
      },
      "execution_count": null,
      "outputs": [
        {
          "output_type": "stream",
          "name": "stdout",
          "text": [
            "train_loss: 0.0891, valid_loss: 0.0409\n",
            "train_loss: 0.0361, valid_loss: 0.0336\n",
            "train_loss: 0.0324, valid_loss: 0.0314\n",
            "train_loss: 0.0307, valid_loss: 0.0300\n",
            "train_loss: 0.0295, valid_loss: 0.0291\n",
            "train_loss: 0.0287, valid_loss: 0.0283\n",
            "train_loss: 0.0280, valid_loss: 0.0277\n",
            "train_loss: 0.0275, valid_loss: 0.0272\n",
            "train_loss: 0.0270, valid_loss: 0.0267\n",
            "train_loss: 0.0265, valid_loss: 0.0263\n"
          ]
        }
      ]
    },
    {
      "cell_type": "code",
      "source": [
        "# First lets change the optimization from SGD to AdamW - firstly whats the difference between Adam and AdamW? - Done\n",
        "# Try adding shape connections - register hooks, and get outputs, and then add them - Done\n",
        "# Add Batch Norm Layers - Done\n",
        "# Add skip connections - ResLayers - Experiment them - Done"
      ],
      "metadata": {
        "id": "fJIf4CorTxkP"
      },
      "execution_count": null,
      "outputs": []
    },
    {
      "cell_type": "code",
      "source": [
        "autoencoder = nn.Sequential(\n",
        "    nn.ZeroPad2d(2),\n",
        "    conv(1, 2), # (14, 14)\n",
        "    conv(2, 4), # (7, 7)\n",
        "    conv(4, 8), # (4, 4)\n",
        "    de_conv(8, 4), # (8, 8)\n",
        "    de_conv(4, 2), # (16, 16)\n",
        "    de_conv(2, 1), # (32, 32)\n",
        "    nn.ZeroPad2d(-2),\n",
        ").to(device)\n",
        "\n",
        "loss_fn = F.mse_loss\n",
        "optim = torch.optim.AdamW(autoencoder.parameters(), lr = 1e-03, betas = (0.9, 0.9), weight_decay = 1e-01)\n",
        "ae_fit(autoencoder, train_dl, valid_dl, loss_fn, optim)"
      ],
      "metadata": {
        "colab": {
          "base_uri": "https://localhost:8080/"
        },
        "id": "G12Wy3qu8D8N",
        "outputId": "cc366607-b2e8-4ba3-d125-928ed6d20cf2"
      },
      "execution_count": null,
      "outputs": [
        {
          "output_type": "stream",
          "name": "stdout",
          "text": [
            "train_loss: 0.0297, valid_loss: 0.0194\n",
            "train_loss: 0.0179, valid_loss: 0.0167\n",
            "train_loss: 0.0160, valid_loss: 0.0156\n",
            "train_loss: 0.0151, valid_loss: 0.0150\n",
            "train_loss: 0.0148, valid_loss: 0.0147\n",
            "train_loss: 0.0146, valid_loss: 0.0146\n",
            "train_loss: 0.0144, valid_loss: 0.0144\n",
            "train_loss: 0.0143, valid_loss: 0.0144\n",
            "train_loss: 0.0142, valid_loss: 0.0144\n",
            "train_loss: 0.0142, valid_loss: 0.0143\n"
          ]
        }
      ]
    },
    {
      "cell_type": "code",
      "source": [
        "x, y = next(iter(train_dl))\n",
        "yhat = autoencoder(x.to(device)).to('cpu').detach()\n",
        "show_images(x[:12])"
      ],
      "metadata": {
        "colab": {
          "base_uri": "https://localhost:8080/",
          "height": 405
        },
        "id": "rGsX2YVmToNC",
        "outputId": "091fd0f8-87ce-4eb6-9f9f-f2bf68f2eab5"
      },
      "execution_count": null,
      "outputs": [
        {
          "output_type": "display_data",
          "data": {
            "text/plain": [
              "<Figure size 640x480 with 12 Axes>"
            ],
            "image/png": "[encoded data removed]"
          },
          "metadata": {}
        }
      ]
    },
    {
      "cell_type": "code",
      "source": [
        "old_yhat = yhat.clone()\n",
        "show_images(yhat[:12])"
      ],
      "metadata": {
        "colab": {
          "base_uri": "https://localhost:8080/",
          "height": 405
        },
        "id": "lvP9dzpxTvWG",
        "outputId": "32b90426-c23b-473e-f49a-2e355f1fe07a"
      },
      "execution_count": null,
      "outputs": [
        {
          "output_type": "display_data",
          "data": {
            "text/plain": [
              "<Figure size 640x480 with 12 Axes>"
            ],
            "image/png": "[encoded data removed]"
          },
          "metadata": {}
        }
      ]
    },
    {
      "cell_type": "code",
      "source": [
        "acts = {}\n",
        "\n",
        "def get_hook_fn(name):\n",
        "  def hook(model, inp, out):\n",
        "    acts[name] = out\n",
        "  return hook\n",
        "\n",
        "class AE(nn.Module):\n",
        "  def __init__(self):\n",
        "    super().__init__()\n",
        "    self.layers = nn.ModuleList([nn.ZeroPad2d(2),\n",
        "                conv(1, 2), # (14, 14)\n",
        "                conv(2, 4), # (7, 7)\n",
        "                conv(4, 8), # (4, 4)\n",
        "                de_conv(8, 4), # (8, 8)\n",
        "                de_conv(4, 2), # (16, 16)\n",
        "                de_conv(2, 1), # (32, 32)\n",
        "                nn.ZeroPad2d(-2)\n",
        "              ])\n",
        "\n",
        "    self.acts = {}\n",
        "    self.layers[1].register_forward_hook(get_hook_fn('2'))\n",
        "    self.layers[2].register_forward_hook(get_hook_fn('4'))\n",
        "    self.layers[3].register_forward_hook(get_hook_fn('8'))\n",
        "\n",
        "    self.enc = nn.Sequential(*self.layers[:4])\n",
        "\n",
        "  def forward(self, x):\n",
        "    int_acts = self.enc(x)\n",
        "    int_acts = self.layers[4](int_acts + acts['8'])\n",
        "    int_acts = self.layers[5](int_acts + acts['4'])\n",
        "    int_acts = self.layers[6](int_acts + acts['2'])\n",
        "    return self.layers[-1](int_acts)\n",
        "\n"
      ],
      "metadata": {
        "id": "HCT_WJRf8sTs"
      },
      "execution_count": null,
      "outputs": []
    },
    {
      "cell_type": "code",
      "source": [
        "ae_model = AE().to(device)"
      ],
      "metadata": {
        "id": "2uUbYbQfC2sU"
      },
      "execution_count": null,
      "outputs": []
    },
    {
      "cell_type": "code",
      "source": [
        "loss_fn = F.mse_loss\n",
        "optim = torch.optim.AdamW(ae_model.parameters(), lr = 1e-03, betas = (0.9, 0.9), weight_decay = 1e-01)\n",
        "ae_fit(ae_model, train_dl, valid_dl, loss_fn, optim)"
      ],
      "metadata": {
        "colab": {
          "base_uri": "https://localhost:8080/"
        },
        "id": "qQlE00_oC6zf",
        "outputId": "8fe7fdc6-883a-4f25-f334-c43dd254f0a4"
      },
      "execution_count": null,
      "outputs": [
        {
          "output_type": "stream",
          "name": "stdout",
          "text": [
            "train_loss: 0.0165, valid_loss: 0.0037\n",
            "train_loss: 0.0034, valid_loss: 0.0033\n",
            "train_loss: 0.0032, valid_loss: 0.0032\n",
            "train_loss: 0.0032, valid_loss: 0.0032\n",
            "train_loss: 0.0032, valid_loss: 0.0032\n",
            "train_loss: 0.0032, valid_loss: 0.0032\n",
            "train_loss: 0.0032, valid_loss: 0.0032\n",
            "train_loss: 0.0032, valid_loss: 0.0032\n",
            "train_loss: 0.0032, valid_loss: 0.0032\n",
            "train_loss: 0.0032, valid_loss: 0.0032\n"
          ]
        }
      ]
    },
    {
      "cell_type": "code",
      "source": [
        "x, y = next(iter(train_dl))\n",
        "yhat = ae_model(x.to(device)).to('cpu').detach()\n",
        "show_images(x[:12])"
      ],
      "metadata": {
        "colab": {
          "base_uri": "https://localhost:8080/",
          "height": 405
        },
        "id": "dYRiOzkFE320",
        "outputId": "c5ba0dbb-35bc-49d3-d854-a47dc01b073d"
      },
      "execution_count": null,
      "outputs": [
        {
          "output_type": "display_data",
          "data": {
            "text/plain": [
              "<Figure size 640x480 with 12 Axes>"
            ],
            "image/png": "[encoded data removed]"
          },
          "metadata": {}
        }
      ]
    },
    {
      "cell_type": "code",
      "source": [
        "show_images(yhat[:12])"
      ],
      "metadata": {
        "colab": {
          "base_uri": "https://localhost:8080/",
          "height": 405
        },
        "id": "9lQInS2nFKxr",
        "outputId": "8c842c89-de43-4399-bbbb-0d90c99a45c7"
      },
      "execution_count": null,
      "outputs": [
        {
          "output_type": "display_data",
          "data": {
            "text/plain": [
              "<Figure size 640x480 with 12 Axes>"
            ],
            "image/png": "[encoded data removed]"
          },
          "metadata": {}
        }
      ]
    },
    {
      "cell_type": "code",
      "source": [
        "yhat_prev_model = autoencoder(x.to(device)).detach().to('cpu')\n",
        "show_images(yhat_prev_model[:12])"
      ],
      "metadata": {
        "colab": {
          "base_uri": "https://localhost:8080/",
          "height": 405
        },
        "id": "5DRAsUfWFMs5",
        "outputId": "48c4bdcb-0ab0-43eb-c00b-89abae4356dd"
      },
      "execution_count": null,
      "outputs": [
        {
          "output_type": "display_data",
          "data": {
            "text/plain": [
              "<Figure size 640x480 with 12 Axes>"
            ],
            "image/png": "[encoded data removed]"
          },
          "metadata": {}
        }
      ]
    },
    {
      "cell_type": "code",
      "source": [
        "# Lets create a ResLayer"
      ],
      "metadata": {
        "id": "At6n720oFyoR"
      },
      "execution_count": null,
      "outputs": []
    },
    {
      "cell_type": "code",
      "source": [
        "class ResLayer(nn.Module):\n",
        "  def __init__(self, nin, nout, ks = 3, stride = 2):\n",
        "    super().__init__()\n",
        "    init_layers = []\n",
        "    if stride == '1/2':\n",
        "      self.do_st = True\n",
        "      init_layers.append(de_conv(nin, nout, ks = ks))\n",
        "      nin = nout\n",
        "      stride = 1\n",
        "    init_layers.append(conv(nin, nout, stride = stride))\n",
        "    self.init_layers = nn.Sequential(*init_layers)\n",
        "    self.fin_layers = nn.Sequential(conv(nout, nout, stride = 1), conv(nout, nout, stride = 1))\n",
        "\n",
        "  def forward(self, x):\n",
        "    # if self.do_st: st()\n",
        "    x = self.init_layers(x)\n",
        "    return self.fin_layers(x) + x"
      ],
      "metadata": {
        "id": "5MZ9OesSGRDI"
      },
      "execution_count": null,
      "outputs": []
    },
    {
      "cell_type": "code",
      "source": [
        "acts = {}\n",
        "\n",
        "def get_hook_fn(name):\n",
        "  def hook(model, inp, out):\n",
        "    acts[name] = out\n",
        "  return hook\n",
        "\n",
        "class AE(nn.Module):\n",
        "  def __init__(self):\n",
        "    super().__init__()\n",
        "    self.layers = nn.ModuleList([nn.ZeroPad2d(2),\n",
        "                ResLayer(1, 2), # (16, 16)\n",
        "                ResLayer(2, 4), # (8, 8)\n",
        "                ResLayer(4, 8), # (4, 4)\n",
        "                ResLayer(8, 4, stride = '1/2'), # (8, 8)\n",
        "                ResLayer(4, 2, stride = '1/2'), # (16, 16)\n",
        "                ResLayer(2, 1, stride = '1/2'), # (32, 32)\n",
        "                nn.ZeroPad2d(-2)\n",
        "              ])\n",
        "\n",
        "    self.acts = {}\n",
        "    self.layers[1].register_forward_hook(get_hook_fn('2'))\n",
        "    self.layers[2].register_forward_hook(get_hook_fn('4'))\n",
        "    self.layers[3].register_forward_hook(get_hook_fn('8'))\n",
        "\n",
        "    self.enc = nn.Sequential(*self.layers[:4])\n",
        "\n",
        "  def forward(self, x):\n",
        "    int_acts = self.enc(x)\n",
        "    int_acts = self.layers[4](int_acts + acts['8'])\n",
        "    int_acts = self.layers[5](int_acts + acts['4'])\n",
        "    int_acts = self.layers[6](int_acts + acts['2'])\n",
        "    return self.layers[-1](int_acts)\n",
        "\n"
      ],
      "metadata": {
        "id": "YYDn3vm7IHfU"
      },
      "execution_count": null,
      "outputs": []
    },
    {
      "cell_type": "code",
      "source": [
        "ae_v2 = AE().to(device)"
      ],
      "metadata": {
        "id": "ML5t6Y8qIXwl"
      },
      "execution_count": null,
      "outputs": []
    },
    {
      "cell_type": "code",
      "source": [
        "loss_fn = F.mse_loss\n",
        "optim = torch.optim.AdamW(ae_v2.parameters(), lr = 1e-03, betas = (0.9, 0.9), weight_decay = 1e-01)\n",
        "ae_fit(ae_v2, train_dl, valid_dl, loss_fn, optim)"
      ],
      "metadata": {
        "colab": {
          "base_uri": "https://localhost:8080/"
        },
        "id": "_zd0zRvWIbtn",
        "outputId": "3ea17aeb-7804-4cac-f3fd-2e2e77b3ed04"
      },
      "execution_count": null,
      "outputs": [
        {
          "output_type": "stream",
          "name": "stdout",
          "text": [
            "train_loss: 0.0070, valid_loss: 0.0026\n",
            "train_loss: 0.0024, valid_loss: 0.0023\n",
            "train_loss: 0.0023, valid_loss: 0.0022\n",
            "train_loss: 0.0022, valid_loss: 0.0022\n",
            "train_loss: 0.0022, valid_loss: 0.0022\n",
            "train_loss: 0.0021, valid_loss: 0.0021\n",
            "train_loss: 0.0021, valid_loss: 0.0021\n",
            "train_loss: 0.0021, valid_loss: 0.0021\n",
            "train_loss: 0.0021, valid_loss: 0.0021\n",
            "train_loss: 0.0021, valid_loss: 0.0021\n"
          ]
        }
      ]
    },
    {
      "cell_type": "code",
      "source": [
        "yhat = ae_model(x.to(device)).to('cpu').detach()\n",
        "show_images(yhat[:12])"
      ],
      "metadata": {
        "colab": {
          "base_uri": "https://localhost:8080/",
          "height": 405
        },
        "id": "xSPSDlTVMSSu",
        "outputId": "cc261c61-1150-499b-8bbf-dbafd4a56699"
      },
      "execution_count": null,
      "outputs": [
        {
          "output_type": "display_data",
          "data": {
            "text/plain": [
              "<Figure size 640x480 with 12 Axes>"
            ],
            "image/png": "[encoded data removed]"
          },
          "metadata": {}
        }
      ]
    },
    {
      "cell_type": "markdown",
      "source": [
        "# Get attr, setattr, itemgetter, attrgetter, methodcaller"
      ],
      "metadata": {
        "id": "iyjhef81E9dl"
      }
    },
    {
      "cell_type": "code",
      "source": [],
      "metadata": {
        "id": "r0nLkpOqE9Ff"
      },
      "execution_count": null,
      "outputs": []
    },
    {
      "cell_type": "code",
      "source": [
        "getattr"
      ],
      "metadata": {
        "colab": {
          "base_uri": "https://localhost:8080/"
        },
        "id": "eFyVHnsIDdvp",
        "outputId": "7dbf6546-504e-4f0b-f050-d732ae5366f4"
      },
      "execution_count": null,
      "outputs": [
        {
          "output_type": "execute_result",
          "data": {
            "text/plain": [
              "<function getattr>"
            ]
          },
          "metadata": {},
          "execution_count": 8
        }
      ]
    },
    {
      "cell_type": "code",
      "source": [
        "torch"
      ],
      "metadata": {
        "colab": {
          "base_uri": "https://localhost:8080/"
        },
        "id": "qZoDFXK9Dl1o",
        "outputId": "0d8d3f7e-ae4e-40ef-b0c2-4d20808dab32"
      },
      "execution_count": null,
      "outputs": [
        {
          "output_type": "execute_result",
          "data": {
            "text/plain": [
              "<module 'torch' from '/usr/local/lib/python3.10/dist-packages/torch/__init__.py'>"
            ]
          },
          "metadata": {},
          "execution_count": 9
        }
      ]
    },
    {
      "cell_type": "code",
      "source": [
        "nn = getattr(torch, 'nn', None)"
      ],
      "metadata": {
        "id": "HvKdGGmCI31w"
      },
      "execution_count": null,
      "outputs": []
    },
    {
      "cell_type": "code",
      "source": [
        "setattr"
      ],
      "metadata": {
        "colab": {
          "base_uri": "https://localhost:8080/"
        },
        "id": "kP1zv88ZI-dg",
        "outputId": "38483c45-c597-4333-99d7-06e3ec095aab"
      },
      "execution_count": null,
      "outputs": [
        {
          "output_type": "execute_result",
          "data": {
            "text/plain": [
              "<function setattr(obj, name, value, /)>"
            ]
          },
          "metadata": {},
          "execution_count": 13
        }
      ]
    },
    {
      "cell_type": "code",
      "source": [
        "class Test:\n",
        "  def __init__(self):\n",
        "    print('done')"
      ],
      "metadata": {
        "id": "NE4RPXOdJNvS"
      },
      "execution_count": null,
      "outputs": []
    },
    {
      "cell_type": "code",
      "source": [
        "a = Test()\n",
        "setattr(a, 'some', 'shit')"
      ],
      "metadata": {
        "colab": {
          "base_uri": "https://localhost:8080/"
        },
        "id": "zqaVgu04JExI",
        "outputId": "14e6cc8e-cdfa-4198-c38d-40d40e0409d5"
      },
      "execution_count": null,
      "outputs": [
        {
          "output_type": "stream",
          "name": "stdout",
          "text": [
            "done\n"
          ]
        }
      ]
    },
    {
      "cell_type": "code",
      "source": [
        "a.some"
      ],
      "metadata": {
        "colab": {
          "base_uri": "https://localhost:8080/",
          "height": 35
        },
        "id": "cwWFT1h8JJKL",
        "outputId": "76507a6f-e818-43af-b1cf-dbcdc37c794d"
      },
      "execution_count": null,
      "outputs": [
        {
          "output_type": "execute_result",
          "data": {
            "text/plain": [
              "'shit'"
            ],
            "application/vnd.google.colaboratory.intrinsic+json": {
              "type": "string"
            }
          },
          "metadata": {},
          "execution_count": 21
        }
      ]
    },
    {
      "cell_type": "code",
      "source": [
        "getattr(a, 'sokme', 'iiindinf')"
      ],
      "metadata": {
        "colab": {
          "base_uri": "https://localhost:8080/",
          "height": 35
        },
        "id": "1oY_6OOEJYP9",
        "outputId": "5b3b0e76-d5d6-448d-c2a3-234273db6a31"
      },
      "execution_count": null,
      "outputs": [
        {
          "output_type": "execute_result",
          "data": {
            "text/plain": [
              "'iiindinf'"
            ],
            "application/vnd.google.colaboratory.intrinsic+json": {
              "type": "string"
            }
          },
          "metadata": {},
          "execution_count": 23
        }
      ]
    },
    {
      "cell_type": "code",
      "source": [
        "def get_evens():\n",
        "  i = 0\n",
        "  while i < 100:\n",
        "    if i%2 == 0: yield i\n",
        "    i += 1"
      ],
      "metadata": {
        "id": "kRjiFvPLJff9"
      },
      "execution_count": null,
      "outputs": []
    },
    {
      "cell_type": "code",
      "source": [
        "gen = get_evens()"
      ],
      "metadata": {
        "id": "j1NSRn-SMWfl"
      },
      "execution_count": null,
      "outputs": []
    },
    {
      "cell_type": "code",
      "source": [
        "gen"
      ],
      "metadata": {
        "colab": {
          "base_uri": "https://localhost:8080/"
        },
        "id": "hFEKX3AlMYp6",
        "outputId": "a22bc9b5-b878-4bd0-8451-9b1b05be80d0"
      },
      "execution_count": null,
      "outputs": [
        {
          "output_type": "execute_result",
          "data": {
            "text/plain": [
              "<generator object get_evens at 0x7a17949bac00>"
            ]
          },
          "metadata": {},
          "execution_count": 26
        }
      ]
    },
    {
      "cell_type": "code",
      "source": [
        "from operator import itemgetter, attrgetter, methodcaller"
      ],
      "metadata": {
        "id": "8f7RpJZcMZCg"
      },
      "execution_count": null,
      "outputs": []
    },
    {
      "cell_type": "code",
      "source": [
        "f = itemgetter(3)"
      ],
      "metadata": {
        "id": "82BH_6r9MbZ3"
      },
      "execution_count": null,
      "outputs": []
    },
    {
      "cell_type": "code",
      "source": [
        "f(list(gen))"
      ],
      "metadata": {
        "colab": {
          "base_uri": "https://localhost:8080/"
        },
        "id": "Ce7EW0AYMigx",
        "outputId": "0154a913-2604-490f-c457-e7dc9275d845"
      },
      "execution_count": null,
      "outputs": [
        {
          "output_type": "execute_result",
          "data": {
            "text/plain": [
              "6"
            ]
          },
          "metadata": {},
          "execution_count": 32
        }
      ]
    },
    {
      "cell_type": "code",
      "source": [
        "slice(1, None, 3)"
      ],
      "metadata": {
        "colab": {
          "base_uri": "https://localhost:8080/"
        },
        "id": "VP5oX2giMrgb",
        "outputId": "e13558a6-077c-4a1a-b916-de5470661ba8"
      },
      "execution_count": null,
      "outputs": [
        {
          "output_type": "execute_result",
          "data": {
            "text/plain": [
              "slice(1, None, 3)"
            ]
          },
          "metadata": {},
          "execution_count": 38
        }
      ]
    },
    {
      "cell_type": "code",
      "source": [
        "l = [1, 2, 3, 4, 5, 6]\n",
        "l[slice(1, 4)]"
      ],
      "metadata": {
        "colab": {
          "base_uri": "https://localhost:8080/"
        },
        "id": "STGI9MY3M3IW",
        "outputId": "596bd87c-79bf-4bd0-e750-45be2fdabd43"
      },
      "execution_count": null,
      "outputs": [
        {
          "output_type": "execute_result",
          "data": {
            "text/plain": [
              "[2, 3, 4]"
            ]
          },
          "metadata": {},
          "execution_count": 39
        }
      ]
    },
    {
      "cell_type": "code",
      "source": [
        "itemgetter(slice(1, 3))(l)"
      ],
      "metadata": {
        "colab": {
          "base_uri": "https://localhost:8080/"
        },
        "id": "Gf2hhtJzM-63",
        "outputId": "ff2590f6-5db2-44d1-8e97-2ffee3563715"
      },
      "execution_count": null,
      "outputs": [
        {
          "output_type": "execute_result",
          "data": {
            "text/plain": [
              "[2, 3]"
            ]
          },
          "metadata": {},
          "execution_count": 42
        }
      ]
    },
    {
      "cell_type": "code",
      "source": [
        "f = itemgetter('k1', 'k2')\n",
        "f({'k1': 2, 'k2': 4})"
      ],
      "metadata": {
        "colab": {
          "base_uri": "https://localhost:8080/"
        },
        "id": "g6E1Dr30NEBF",
        "outputId": "b3e7699b-88d5-4115-b6c4-74f213d48b02"
      },
      "execution_count": null,
      "outputs": [
        {
          "output_type": "execute_result",
          "data": {
            "text/plain": [
              "(2, 4)"
            ]
          },
          "metadata": {},
          "execution_count": 44
        }
      ]
    },
    {
      "cell_type": "code",
      "source": [
        "a.__dict__"
      ],
      "metadata": {
        "colab": {
          "base_uri": "https://localhost:8080/"
        },
        "id": "zb3qufgVNYsW",
        "outputId": "a6cbf832-b330-46a9-f41b-57be0eb6d2d2"
      },
      "execution_count": null,
      "outputs": [
        {
          "output_type": "execute_result",
          "data": {
            "text/plain": [
              "{'some': 'shit'}"
            ]
          },
          "metadata": {},
          "execution_count": 47
        }
      ]
    },
    {
      "cell_type": "code",
      "source": [
        "class Test:\n",
        "  def __init__(self):\n",
        "    print('done')"
      ],
      "metadata": {
        "id": "sQ909rNwOV0L"
      },
      "execution_count": null,
      "outputs": []
    },
    {
      "cell_type": "code",
      "source": [
        "class New(Test):\n",
        "  def test_fun(self, *args, **kwargs):\n",
        "    print(f'Testing is cool, {args}, {kwargs}')"
      ],
      "metadata": {
        "id": "Fn5I2zB7Nxka"
      },
      "execution_count": null,
      "outputs": []
    },
    {
      "cell_type": "code",
      "source": [
        "o = New()"
      ],
      "metadata": {
        "colab": {
          "base_uri": "https://localhost:8080/"
        },
        "id": "eynypPCuN3ic",
        "outputId": "df51d5e8-0d89-4cc1-8469-333a0cfda5d9"
      },
      "execution_count": null,
      "outputs": [
        {
          "output_type": "stream",
          "name": "stdout",
          "text": [
            "done\n"
          ]
        }
      ]
    },
    {
      "cell_type": "code",
      "source": [
        "mc = methodcaller('test_fun', 1, 2, 3, 4, 5, 6, some = 'shit', idk = 'nothing')"
      ],
      "metadata": {
        "id": "GXPittMXOZTt"
      },
      "execution_count": null,
      "outputs": []
    },
    {
      "cell_type": "code",
      "source": [
        "mc(o)"
      ],
      "metadata": {
        "colab": {
          "base_uri": "https://localhost:8080/"
        },
        "id": "90nbZ9pfOr2u",
        "outputId": "24759100-1d9d-43ae-87f0-d053c3385e17"
      },
      "execution_count": null,
      "outputs": [
        {
          "output_type": "stream",
          "name": "stdout",
          "text": [
            "Testing is cool, (1, 2, 3, 4, 5, 6), {'some': 'shit', 'idk': 'nothing'}\n"
          ]
        }
      ]
    },
    {
      "cell_type": "markdown",
      "source": [
        "# Experiments with Learner - Basic code"
      ],
      "metadata": {
        "id": "dF4BzjKzO27w"
      }
    },
    {
      "cell_type": "code",
      "source": [
        "x,y = 'image','label'\n",
        "name = \"fashion_mnist\"\n",
        "dsd = load_dataset(name)"
      ],
      "metadata": {
        "colab": {
          "base_uri": "https://localhost:8080/",
          "height": 379,
          "referenced_widgets": [
            "48803d28e37a4bf3ad38de620e8f0555",
            "d6b09909c1b1464ba4c0e34c089ca2cb",
            "0a6dc1b393784a28ab7ebeab14245bd3",
            "f4e72f8f4fc04b8e9c65be83872649ed",
            "38f24caaea2f4817a196914737861cc9",
            "e6cfdbf067a04ca69e364a470b6647cc",
            "001bc30c8b4b4ce8ac157c840489c130",
            "cedf6631ad4e46c8b8d80effc3a35717",
            "c0f1348fa25d486285a50243432c7195",
            "19096a74a8744c03ae83251b134250bd",
            "96f6a10adda24e82a78f20162bc97523",
            "bff261f1873c4407b1a05a1df89435bf",
            "f1a65c73ca314849ba4a9fbb29c1f1de",
            "448d5d29f1394fdb9ae72b86cba3b86d",
            "7609441e7a534ba89e89d9a74dbf099e",
            "9117f38c852d4e9cbd6c73bcf26cd7b1",
            "053f8c434ef94d0eb31694811a4ee623",
            "16c4aca137e74951808daf224bacae74",
            "410272ee3686496eb586c5ed2d45b353",
            "d70189a9420142ee933c74daf593d171",
            "94d8a90545594f35aef04f127deb8dc6",
            "104b166b991a473eb8c87bf804ef2090",
            "933ac673735d48b38d5bc6119412a695",
            "3cd809022335455c9ecb37721feb6ed0",
            "4559650de4d74d70a5db9cfb1f99e339",
            "dac910a1446a468fb24e38ad606eee50",
            "c0f67bac26384333a44dca1fa0569d6a",
            "2871c365b2cc4669bdeea190343a9508",
            "69d7413ba8bc4ba0823f8d69609a378b",
            "717b98a388c742819a5faa83ca56cb84",
            "bf2114366add4cd39129604886b8169d",
            "b545d602eb5b4361b502bf2b73c35a4f",
            "d54b3a9d7044433db00190dc1443a085",
            "a0d84ef48cd1466bbac1290a0535f1b9",
            "0de5753ae7a24ad7b25355dfa383d9c2",
            "c6af42adc504430eaf80effe34bdca7b",
            "f2c1864e6a8a477dac4a0cd30a55dc20",
            "a8beff89c6a14ae3b2c9f14783c3c867",
            "2caa5f7da5034e70b011079c1c80ee0a",
            "cca97721c30f4e16a2199b49d27a093b",
            "672a72f5ae29495a9abb50520aca9bcd",
            "eb20f7fd14fa42cca123df436d1ae62f",
            "9dc447bce51e4ff190e5085239750047",
            "d4ad2d97fe54450fb8f73012374d2cdc"
          ]
        },
        "id": "jaXpTdaEOuhT",
        "outputId": "2672639f-1575-4aa5-ffd0-0a5bda5ea565"
      },
      "execution_count": null,
      "outputs": [
        {
          "output_type": "stream",
          "name": "stderr",
          "text": [
            "/usr/local/lib/python3.10/dist-packages/huggingface_hub/utils/_token.py:72: UserWarning: \n",
            "The secret `HF_TOKEN` does not exist in your Colab secrets.\n",
            "To authenticate with the Hugging Face Hub, create a token in your settings tab (https://huggingface.co/settings/tokens), set it as secret in your Google Colab and restart your session.\n",
            "You will be able to reuse this secret in all of your notebooks.\n",
            "Please note that authentication is recommended but still optional to access public models or datasets.\n",
            "  warnings.warn(\n",
            "/usr/local/lib/python3.10/dist-packages/huggingface_hub/utils/_token.py:72: UserWarning: \n",
            "The secret `HF_TOKEN` does not exist in your Colab secrets.\n",
            "To authenticate with the Hugging Face Hub, create a token in your settings tab (https://huggingface.co/settings/tokens), set it as secret in your Google Colab and restart your session.\n",
            "You will be able to reuse this secret in all of your notebooks.\n",
            "Please note that authentication is recommended but still optional to access public models or datasets.\n",
            "  warnings.warn(\n"
          ]
        },
        {
          "output_type": "display_data",
          "data": {
            "text/plain": [
              "Downloading data:   0%|          | 0.00/30.9M [00:00<?, ?B/s]"
            ],
            "application/vnd.jupyter.widget-view+json": {
              "version_major": 2,
              "version_minor": 0,
              "model_id": "48803d28e37a4bf3ad38de620e8f0555"
            }
          },
          "metadata": {}
        },
        {
          "output_type": "display_data",
          "data": {
            "text/plain": [
              "Downloading data:   0%|          | 0.00/5.18M [00:00<?, ?B/s]"
            ],
            "application/vnd.jupyter.widget-view+json": {
              "version_major": 2,
              "version_minor": 0,
              "model_id": "bff261f1873c4407b1a05a1df89435bf"
            }
          },
          "metadata": {}
        },
        {
          "output_type": "display_data",
          "data": {
            "text/plain": [
              "Generating train split: 0 examples [00:00, ? examples/s]"
            ],
            "application/vnd.jupyter.widget-view+json": {
              "version_major": 2,
              "version_minor": 0,
              "model_id": "933ac673735d48b38d5bc6119412a695"
            }
          },
          "metadata": {}
        },
        {
          "output_type": "display_data",
          "data": {
            "text/plain": [
              "Generating test split: 0 examples [00:00, ? examples/s]"
            ],
            "application/vnd.jupyter.widget-view+json": {
              "version_major": 2,
              "version_minor": 0,
              "model_id": "a0d84ef48cd1466bbac1290a0535f1b9"
            }
          },
          "metadata": {}
        }
      ]
    },
    {
      "cell_type": "code",
      "source": [
        "def new(some_data):\n",
        "  def transform(some_data):\n",
        "    some_data['image'] = [to_tensor(i) for i in some_data['image']]\n",
        "  transform(some_data)\n",
        "\n",
        "  return some_data"
      ],
      "metadata": {
        "id": "65WI9LpnP5jc"
      },
      "execution_count": null,
      "outputs": []
    },
    {
      "cell_type": "code",
      "source": [
        "dsd"
      ],
      "metadata": {
        "colab": {
          "base_uri": "https://localhost:8080/"
        },
        "id": "TXzYqMyvQjbc",
        "outputId": "785aa9f7-8f22-40c4-9a4c-9fcb97470daf"
      },
      "execution_count": null,
      "outputs": [
        {
          "output_type": "execute_result",
          "data": {
            "text/plain": [
              "DatasetDict({\n",
              "    train: Dataset({\n",
              "        features: ['image', 'label'],\n",
              "        num_rows: 60000\n",
              "    })\n",
              "    test: Dataset({\n",
              "        features: ['image', 'label'],\n",
              "        num_rows: 10000\n",
              "    })\n",
              "})"
            ]
          },
          "metadata": {},
          "execution_count": 14
        }
      ]
    },
    {
      "cell_type": "code",
      "source": [
        "tds = dsd.with_transform(new)"
      ],
      "metadata": {
        "id": "m0N9kRS2Qkjv"
      },
      "execution_count": null,
      "outputs": []
    },
    {
      "cell_type": "code",
      "source": [
        "def collate_fn(some_data):\n",
        "  sd = (i.values() for i in some_data)\n",
        "  xs, ys = zip(*sd)\n",
        "  return torch.stack(xs), torch.tensor(ys)"
      ],
      "metadata": {
        "id": "TL5Y66ZZQu8W"
      },
      "execution_count": null,
      "outputs": []
    },
    {
      "cell_type": "code",
      "source": [
        "from functools import partial\n",
        "f = partial(DataLoader, batch_size = 64, collate_fn = collate_fn)"
      ],
      "metadata": {
        "id": "esW0oM1gT8Vx"
      },
      "execution_count": null,
      "outputs": []
    },
    {
      "cell_type": "code",
      "source": [
        "train_dl, valid_dl = f(tds['train'], shuffle = True), f(tds['test'])"
      ],
      "metadata": {
        "id": "DnBb3HpeTtyu"
      },
      "execution_count": null,
      "outputs": []
    },
    {
      "cell_type": "code",
      "source": [
        "class Learner:\n",
        "\n",
        "  # init, fit, one_epoch, one_batch, calc_stats - Write new\n",
        "  def __repr__(self):\n",
        "    return f\" model: {self.model} \\n dls: {[train_dl, valid_dl]} \\n opt: {self.opt} \\n loss_fn: {self.loss_fn}\"\n",
        "\n",
        "  def __init__(self, model, train_dl, valid_dl, opt = optim.SGD, loss_fn = F.cross_entropy):\n",
        "    fc.store_attr() # it will store all the attributes\n",
        "    self.device = torch.device('cuda') if torch.cuda.is_available() else torch.device('cpu')\n",
        "\n",
        "  def fit(self, epochs = 100, opt = None, **kwargs):\n",
        "\n",
        "    opt_fun = torch.optim.SGD if opt == None else opt\n",
        "    self.opt = opt_fun(self.model.parameters(), **kwargs)\n",
        "    self.model = self.model.to(self.device)\n",
        "    for ep in tqdm(range(epochs)): self.one_epoch()\n",
        "\n",
        "  def one_epoch(self):\n",
        "\n",
        "    self.train_loss, self.valid_loss = [], []\n",
        "    for x, y in self.train_dl: self.train_loss.append(self.one_batch(x.to(self.device), y.to(self.device), True))\n",
        "    with torch.no_grad():\n",
        "      for vx, vy in self.valid_dl: self.valid_loss.append(self.one_batch(vx.to(self.device), vy.to(self.device), False))\n",
        "    print(f\"train loss: {np.mean(self.train_loss):.3f}, valid_loss: {np.mean(self.valid_loss):.3f}\")\n",
        "\n",
        "  def one_batch(self, x, y, training = False):\n",
        "\n",
        "    self.model.train() if training else self.model.eval()\n",
        "    yhat = self.model(x)\n",
        "    loss = self.loss_fn(yhat, y)\n",
        "    if training:\n",
        "      loss.backward()\n",
        "      self.opt.step()\n",
        "      self.opt.zero_grad()\n",
        "    return loss.item()"
      ],
      "metadata": {
        "id": "uony5aeHV1Zm"
      },
      "execution_count": null,
      "outputs": []
    },
    {
      "cell_type": "code",
      "source": [
        "model =  nn.Sequential(\n",
        "    conv(1, 4),  ## 8x14x14\n",
        "    conv(4, 8), ## 16x7x7\n",
        "    conv(8, 16), ## 32x4x4\n",
        "    conv(16, 16), # 64x2x2x\n",
        "    conv(16, 10, relu= False), # 128x1x1\n",
        "    nn.Flatten(), # bs x 128\n",
        "  )"
      ],
      "metadata": {
        "id": "riHAYpmVF1sn"
      },
      "execution_count": null,
      "outputs": []
    },
    {
      "cell_type": "code",
      "source": [
        "learner = Learner(model, train_dl, valid_dl)\n",
        "learner.fit(2, lr = 0.4)"
      ],
      "metadata": {
        "colab": {
          "base_uri": "https://localhost:8080/"
        },
        "id": "L5eLR2KgJ_pc",
        "outputId": "0ab38bf7-7234-46ea-fa02-46e4e44ec1f7"
      },
      "execution_count": null,
      "outputs": [
        {
          "output_type": "stream",
          "name": "stderr",
          "text": [
            " 50%|█████     | 1/2 [00:11<00:11, 11.51s/it]"
          ]
        },
        {
          "output_type": "stream",
          "name": "stdout",
          "text": [
            "train loss: 0.385, valid_loss: 0.459\n"
          ]
        },
        {
          "output_type": "stream",
          "name": "stderr",
          "text": [
            "100%|██████████| 2/2 [00:23<00:00, 11.51s/it]"
          ]
        },
        {
          "output_type": "stream",
          "name": "stdout",
          "text": [
            "train loss: 0.366, valid_loss: 0.417\n"
          ]
        },
        {
          "output_type": "stream",
          "name": "stderr",
          "text": [
            "\n"
          ]
        }
      ]
    },
    {
      "cell_type": "code",
      "source": [
        "learner.device"
      ],
      "metadata": {
        "colab": {
          "base_uri": "https://localhost:8080/"
        },
        "id": "EinDEksf0Mol",
        "outputId": "a889c90c-6690-4dc3-9bc5-7fe7f1a18a82"
      },
      "execution_count": null,
      "outputs": [
        {
          "output_type": "execute_result",
          "data": {
            "text/plain": [
              "device(type='cuda')"
            ]
          },
          "metadata": {},
          "execution_count": 38
        }
      ]
    },
    {
      "cell_type": "code",
      "source": [
        "class LearnerV2:\n",
        "\n",
        "  def __repr__(self):\n",
        "    return f\" model: {self.model} \\n dls: {[train_dl, valid_dl]} \\n opt: {self.opt} \\n loss_fn: {self.loss_fn}\"\n",
        "\n",
        "  def __init__(self, model, train_dl, valid_dl, opt = optim.SGD, loss_fn = F.cross_entropy):\n",
        "\n",
        "    fc.store_attr()\n",
        "    self.device = torch.device('cuda') if torch.cuda.is_available() else torch.device('cpu')\n",
        "\n",
        "  def store_stats(self):\n",
        "\n",
        "    acc = ((self.y == self.yhat.argmax(1)).float().sum()/self.x.shape[0]).item()\n",
        "    if self.model.training:\n",
        "      self.train_loss.append(self.loss.item())\n",
        "      self.train_accs.append(acc)\n",
        "    else:\n",
        "      self.valid_loss.append(self.loss.item())\n",
        "      self.valid_accs.append(acc)\n",
        "\n",
        "  def calc_stats(self):\n",
        "\n",
        "    print({\n",
        "        'train_loss': np.mean(self.train_loss),\n",
        "        'train_accs': np.mean(self.train_accs),\n",
        "        'valid_loss': np.mean(self.valid_loss),\n",
        "        'valid_accs': np.mean(self.valid_accs)\n",
        "    })\n",
        "\n",
        "  def fit(self, epochs = 100, opt = None, **kwargs):\n",
        "\n",
        "    opt_fun = torch.optim.SGD if opt == None else opt\n",
        "    self.opt = opt_fun(self.model.parameters(), **kwargs)\n",
        "    self.model = self.model.to(self.device)\n",
        "    for ep in tqdm(range(epochs)): self.one_epoch()\n",
        "\n",
        "  def one_epoch(self):\n",
        "\n",
        "    self.train_loss, self.valid_loss, self.train_accs, self.valid_accs = [], [], [], []\n",
        "    for x, y in self.train_dl: self.one_batch(x.to(self.device), y.to(self.device), True)\n",
        "    with torch.no_grad():\n",
        "      for vx, vy in self.valid_dl: self.one_batch(vx.to(self.device), vy.to(self.device), False)\n",
        "    self.calc_stats()\n",
        "\n",
        "  def one_batch(self, x, y, training = False):\n",
        "\n",
        "    self.x, self.y = x, y\n",
        "    self.model.train() if training else self.model.eval()\n",
        "    self.yhat = self.model(self.x)\n",
        "    self.loss = self.loss_fn(self.yhat, self.y)\n",
        "\n",
        "    if training:\n",
        "      self.loss.backward()\n",
        "      self.opt.step()\n",
        "      self.opt.zero_grad()\n",
        "\n",
        "    self.store_stats()\n"
      ],
      "metadata": {
        "id": "8zbCrjOc4M_B"
      },
      "execution_count": null,
      "outputs": []
    },
    {
      "cell_type": "code",
      "source": [
        "learner = LearnerV2(model, train_dl, valid_dl)\n",
        "learner.fit(4, lr = 0.4)"
      ],
      "metadata": {
        "colab": {
          "base_uri": "https://localhost:8080/"
        },
        "id": "IBZ_gWtF75B_",
        "outputId": "1971d36a-a227-4f1a-dd0f-37298c636ed6"
      },
      "execution_count": null,
      "outputs": [
        {
          "output_type": "stream",
          "name": "stderr",
          "text": [
            " 25%|██▌       | 1/4 [00:11<00:35, 11.97s/it]"
          ]
        },
        {
          "output_type": "stream",
          "name": "stdout",
          "text": [
            "train loss: {'train_loss': 0.36777676104990914, 'train_accs': 0.8648387526652452, 'valid_loss': 0.40972469044718773, 'valid_accs': 0.8525079617834395}\n"
          ]
        },
        {
          "output_type": "stream",
          "name": "stderr",
          "text": [
            "\r 50%|█████     | 2/4 [00:23<00:23, 11.79s/it]"
          ]
        },
        {
          "output_type": "stream",
          "name": "stdout",
          "text": [
            "train loss: {'train_loss': 0.36146924336518305, 'train_accs': 0.8655383795309168, 'valid_loss': 0.3903218951005085, 'valid_accs': 0.855593152866242}\n"
          ]
        },
        {
          "output_type": "stream",
          "name": "stderr",
          "text": [
            "\r 75%|███████▌  | 3/4 [00:35<00:11, 11.79s/it]"
          ]
        },
        {
          "output_type": "stream",
          "name": "stdout",
          "text": [
            "train loss: {'train_loss': 0.3566572162261141, 'train_accs': 0.8694029850746269, 'valid_loss': 0.3806497502099177, 'valid_accs': 0.8578821656050956}\n"
          ]
        },
        {
          "output_type": "stream",
          "name": "stderr",
          "text": [
            "100%|██████████| 4/4 [00:47<00:00, 11.81s/it]"
          ]
        },
        {
          "output_type": "stream",
          "name": "stdout",
          "text": [
            "train loss: {'train_loss': 0.3526476392709116, 'train_accs': 0.8686700426439232, 'valid_loss': 0.3888571958063514, 'valid_accs': 0.8538017515923567}\n"
          ]
        },
        {
          "output_type": "stream",
          "name": "stderr",
          "text": [
            "\n"
          ]
        }
      ]
    },
    {
      "cell_type": "code",
      "source": [
        "class LearnerBeforeFitException(Exception): pass\n",
        "class LearnerBeforeEpochException(Exception): pass\n",
        "class LearnerAfterEpochException(Exception): pass\n",
        "class LearnerBeforeBatchException(Exception): pass\n",
        "class LearnerAfterBatchException(Exception): pass"
      ],
      "metadata": {
        "id": "qK04F7AzFPFW"
      },
      "execution_count": null,
      "outputs": []
    },
    {
      "cell_type": "code",
      "source": [
        "class LearnerCallback:\n",
        "\n",
        "  def __init__(self):\n",
        "    self.order = 0\n",
        "\n",
        "  def before_fit(self, learner = None):\n",
        "    try:\n",
        "      print('Before Fit callback called')\n",
        "      learner.model = learner.model.to(learner.device)\n",
        "    except AttributeError as e:\n",
        "      raise LearnerBeforeFitException(e)\n",
        "\n",
        "  def before_epoch(self, learner = None):\n",
        "    try:\n",
        "      print('Before Epoch callback called')\n",
        "      self.count = 0\n",
        "    except Exception as e:\n",
        "      raise LearnerBeforeEpochException(e)\n",
        "\n",
        "  def after_epoch(self, learner = None):\n",
        "    try:\n",
        "      print(f'After Epoch callback called, total batches: {self.count}')\n",
        "      learner.calc_stats()\n",
        "    except AttributeError as e:\n",
        "      raise LearnerAfterEpochException(e)\n",
        "\n",
        "  def before_batch(self, learner = None):\n",
        "    try:\n",
        "      learner.x = learner.x.to(learner.device)\n",
        "      learner.y = learner.y.to(learner.device)\n",
        "    except AttributeError as e:\n",
        "      raise LearnerBeforeBatchException(e)\n",
        "\n",
        "  def after_batch(self, learner = None):\n",
        "    try:\n",
        "      self.count += 1\n",
        "      learner.store_stats()\n",
        "    except AttributeError as e:\n",
        "      raise LearnerAfterBatchException(e)\n"
      ],
      "metadata": {
        "id": "Ez2OuHV_8Xq9"
      },
      "execution_count": null,
      "outputs": []
    },
    {
      "cell_type": "code",
      "source": [
        "def run_cbs(cb_obj, name_of_func, *args, **kwargs):\n",
        "  func = getattr(cb_obj, name_of_func, None)\n",
        "  if func: func(*args, **kwargs)"
      ],
      "metadata": {
        "id": "uHPGzJq8G08g"
      },
      "execution_count": null,
      "outputs": []
    },
    {
      "cell_type": "code",
      "source": [
        "class LearnerV3:\n",
        "\n",
        "  def __repr__(self):\n",
        "    return f\" model: {self.model} \\n dls: {[train_dl, valid_dl]} \\n opt: {self.opt} \\n loss_fn: {self.loss_fn}\"\n",
        "\n",
        "  def __init__(self, model, train_dl, valid_dl, cbs, opt = optim.SGD, loss_fn = F.cross_entropy):\n",
        "\n",
        "    fc.store_attr()\n",
        "    self.device = torch.device('cuda') if torch.cuda.is_available() else torch.device('cpu')\n",
        "\n",
        "  def store_stats(self):\n",
        "\n",
        "    acc = ((self.y == self.yhat.argmax(1)).float().sum()/self.x.shape[0]).item()\n",
        "    if self.model.training:\n",
        "      self.train_loss.append(self.loss.item())\n",
        "      self.train_accs.append(acc)\n",
        "    else:\n",
        "      self.valid_loss.append(self.loss.item())\n",
        "      self.valid_accs.append(acc)\n",
        "\n",
        "  def calc_stats(self):\n",
        "\n",
        "    print({\n",
        "        'train_loss': np.mean(self.train_loss),\n",
        "        'train_accs': np.mean(self.train_accs),\n",
        "        'valid_loss': np.mean(self.valid_loss),\n",
        "        'valid_accs': np.mean(self.valid_accs)\n",
        "    })\n",
        "\n",
        "  def fit(self, epochs = 100, opt = None, **kwargs):\n",
        "\n",
        "    run_cbs(self.cbs, 'before_fit', self)\n",
        "    opt_fun = torch.optim.SGD if opt == None else opt\n",
        "    self.opt = opt_fun(self.model.parameters(), **kwargs)\n",
        "    for ep in tqdm(range(epochs)): self.one_epoch()\n",
        "    run_cbs(self.cbs, 'after_fit', self)\n",
        "\n",
        "  def one_epoch(self):\n",
        "\n",
        "    run_cbs(self.cbs, 'before_epoch', self)\n",
        "    self.train_loss, self.valid_loss, self.train_accs, self.valid_accs = [], [], [], []\n",
        "    for x, y in self.train_dl: self.one_batch(x, y, True)\n",
        "    with torch.no_grad():\n",
        "      for vx, vy in self.valid_dl: self.one_batch(vx, vy, False)\n",
        "    run_cbs(self.cbs, 'after_epoch', self)\n",
        "\n",
        "  def one_batch(self, x, y, training = False):\n",
        "\n",
        "    self.x, self.y = x, y\n",
        "    run_cbs(self.cbs, 'before_batch', self)\n",
        "    self.model.train() if training else self.model.eval()\n",
        "    self.yhat = self.model(self.x)\n",
        "    self.loss = self.loss_fn(self.yhat, self.y)\n",
        "\n",
        "    if training:\n",
        "      self.loss.backward()\n",
        "      self.opt.step()\n",
        "      self.opt.zero_grad()\n",
        "\n",
        "    run_cbs(self.cbs, 'after_batch', self)\n"
      ],
      "metadata": {
        "id": "pUwYKhkkHeqZ"
      },
      "execution_count": null,
      "outputs": []
    },
    {
      "cell_type": "code",
      "source": [
        "learner = LearnerV3(model, train_dl, valid_dl, LearnerCallback())\n",
        "learner.fit(4, lr = 0.4)"
      ],
      "metadata": {
        "colab": {
          "base_uri": "https://localhost:8080/"
        },
        "id": "pHDj22qFKHc-",
        "outputId": "9639e06e-a9b7-4285-b281-568241fc3377"
      },
      "execution_count": null,
      "outputs": [
        {
          "output_type": "stream",
          "name": "stdout",
          "text": [
            "Before Fit callback called\n"
          ]
        },
        {
          "output_type": "stream",
          "name": "stderr",
          "text": [
            "\r  0%|          | 0/4 [00:00<?, ?it/s]"
          ]
        },
        {
          "output_type": "stream",
          "name": "stdout",
          "text": [
            "Before Epoch callback called\n"
          ]
        },
        {
          "output_type": "stream",
          "name": "stderr",
          "text": [
            "\r 25%|██▌       | 1/4 [00:11<00:35, 11.90s/it]"
          ]
        },
        {
          "output_type": "stream",
          "name": "stdout",
          "text": [
            "After Epoch callback called, total batches: 1095\n",
            "{'train_loss': 0.3388607440504438, 'train_accs': 0.8753164978678039, 'valid_loss': 0.44033848128880665, 'valid_accs': 0.8388734076433121}\n",
            "Before Epoch callback called\n"
          ]
        },
        {
          "output_type": "stream",
          "name": "stderr",
          "text": [
            "\r 50%|█████     | 2/4 [00:23<00:23, 11.95s/it]"
          ]
        },
        {
          "output_type": "stream",
          "name": "stdout",
          "text": [
            "After Epoch callback called, total batches: 1095\n",
            "{'train_loss': 0.33857758509229496, 'train_accs': 0.874933368869936, 'valid_loss': 0.3943704639080983, 'valid_accs': 0.8542993630573248}\n",
            "Before Epoch callback called\n"
          ]
        },
        {
          "output_type": "stream",
          "name": "stderr",
          "text": [
            "\r 75%|███████▌  | 3/4 [00:35<00:11, 11.93s/it]"
          ]
        },
        {
          "output_type": "stream",
          "name": "stdout",
          "text": [
            "After Epoch callback called, total batches: 1095\n",
            "{'train_loss': 0.33227800741505775, 'train_accs': 0.8766491204690832, 'valid_loss': 0.4091026976609686, 'valid_accs': 0.8444466560509554}\n",
            "Before Epoch callback called\n"
          ]
        },
        {
          "output_type": "stream",
          "name": "stderr",
          "text": [
            "100%|██████████| 4/4 [00:47<00:00, 11.89s/it]"
          ]
        },
        {
          "output_type": "stream",
          "name": "stdout",
          "text": [
            "After Epoch callback called, total batches: 1095\n",
            "{'train_loss': 0.33280602386638297, 'train_accs': 0.8760327825159915, 'valid_loss': 0.38522239712772854, 'valid_accs': 0.8595740445859873}\n"
          ]
        },
        {
          "output_type": "stream",
          "name": "stderr",
          "text": [
            "\n"
          ]
        }
      ]
    },
    {
      "cell_type": "code",
      "source": [
        "class Metric:\n",
        "  def __init__(self):\n",
        "    self.reset()\n",
        "\n",
        "  def reset(self):\n",
        "    self.vals, self.ns = [], []\n",
        "\n",
        "  def add(self, inp, targ, n = 1):\n",
        "    self.last = self.calc(inp, targ)\n",
        "    self.vals.append(self.last)\n",
        "    self.ns.append(n)\n",
        "\n",
        "  def calc(self, inp, targ):\n",
        "    return inp\n",
        "\n",
        "  @property\n",
        "  def value(self):\n",
        "    return (torch.tensor(self.ns)*torch.tensor(self.vals)).sum()/torch.tensor(self.ns).sum()"
      ],
      "metadata": {
        "id": "BQV60EoDKZe6"
      },
      "execution_count": null,
      "outputs": []
    },
    {
      "cell_type": "code",
      "source": [
        "class Accuracy(Metric):\n",
        "  def calc(self, inp, targ):\n",
        "    return (inp == targ).float().mean()"
      ],
      "metadata": {
        "id": "-4bdWPBMn4gc"
      },
      "execution_count": null,
      "outputs": []
    },
    {
      "cell_type": "code",
      "source": [
        "acc = Accuracy()\n",
        "acc.add(torch.tensor([1, 2, 3, 4, 5, 6]), torch.tensor([2,2, 3, 3, 5, 6]), n = 6)"
      ],
      "metadata": {
        "id": "kmAzAWv5olQu"
      },
      "execution_count": null,
      "outputs": []
    },
    {
      "cell_type": "code",
      "source": [
        "acc.value"
      ],
      "metadata": {
        "colab": {
          "base_uri": "https://localhost:8080/"
        },
        "id": "xxBUBxZNoz_b",
        "outputId": "1de8ebf3-bb34-4dae-a0ce-4539ea0957ee"
      },
      "execution_count": null,
      "outputs": [
        {
          "output_type": "execute_result",
          "data": {
            "text/plain": [
              "tensor(0.6667)"
            ]
          },
          "metadata": {},
          "execution_count": 30
        }
      ]
    },
    {
      "cell_type": "code",
      "source": [
        "acc.add(torch.tensor([1, 2, 3, 4, 5, 6]), torch.tensor([1,2, 3, 3, 5, 6]), n = 6)"
      ],
      "metadata": {
        "id": "84G_EpEBo1FA"
      },
      "execution_count": null,
      "outputs": []
    },
    {
      "cell_type": "code",
      "source": [
        "acc.value"
      ],
      "metadata": {
        "colab": {
          "base_uri": "https://localhost:8080/"
        },
        "id": "1M7bqWE8pCn-",
        "outputId": "8bf00780-5a1b-490e-8c88-a3f5dbffbccd"
      },
      "execution_count": null,
      "outputs": [
        {
          "output_type": "execute_result",
          "data": {
            "text/plain": [
              "tensor(0.7500)"
            ]
          },
          "metadata": {},
          "execution_count": 32
        }
      ]
    },
    {
      "cell_type": "markdown",
      "source": [
        "# Little Deep Into Callbacks"
      ],
      "metadata": {
        "id": "EMmQp7tRrgcB"
      }
    },
    {
      "cell_type": "code",
      "source": [
        "from torcheval.metrics import MulticlassAccuracy, Mean\n",
        "from collections.abc import Mapping"
      ],
      "metadata": {
        "id": "V_LQyDaBpDxc"
      },
      "execution_count": null,
      "outputs": []
    },
    {
      "cell_type": "code",
      "source": [
        "def to_device(data, device = torch.device('cuda') if torch.cuda.is_available() else torch.device('cpu')):\n",
        "  return data.to(device)"
      ],
      "metadata": {
        "id": "A5VFJQxlr7em"
      },
      "execution_count": 72,
      "outputs": []
    },
    {
      "cell_type": "code",
      "source": [
        "def run_cbs(cbs, name_of_func, *args, **kwargs):\n",
        "\n",
        "  for cb in sorted(cbs, key = attrgetter('order')):\n",
        "    func = getattr(cb, name_of_func, None)\n",
        "    if func: func(*args, **kwargs)"
      ],
      "metadata": {
        "id": "AEyyM6e1wPVm"
      },
      "execution_count": 73,
      "outputs": []
    },
    {
      "cell_type": "code",
      "source": [
        "def to_cpu(x):\n",
        "  if isinstance(x, Mapping): return {k: to_cpu(v) for k, v in x.items()}\n",
        "  if isinstance(x, list): return [to_cpu(i) for i in x]\n",
        "  if isinstance(x, tuple): return tuple([to_cpu(i) for i in x])\n",
        "  x = x.detach().cpu()\n",
        "  return x.float() if x.dtype == torch.float16 else x"
      ],
      "metadata": {
        "id": "ROk_bYlowvoR"
      },
      "execution_count": 74,
      "outputs": []
    },
    {
      "cell_type": "code",
      "source": [],
      "metadata": {
        "id": "Yv6d3MnDzJvB"
      },
      "execution_count": null,
      "outputs": []
    },
    {
      "cell_type": "code",
      "source": [
        "# create Metrics callback - that takes all the metrics and do one by one and a device callbacks - to load the elements onto the device\n",
        "class MetricsCB(Callback):\n",
        "  def __init__(self, **metrics):\n",
        "    self.order = 1\n",
        "    self.loss = Mean()\n",
        "    self.all_metrics = metrics\n",
        "\n",
        "  def _log(self, d):\n",
        "    print(d)\n",
        "\n",
        "  def before_fit(self, learner):\n",
        "    learner.metrics = self\n",
        "\n",
        "  def after_fit(self, learner):\n",
        "    pass\n",
        "\n",
        "  def before_epoch(self, learner):\n",
        "    [i.reset() for i in self.all_metrics.values()]\n",
        "\n",
        "  def after_epoch(self, learner):\n",
        "    dd = {k: f\"{v.compute(): .3f}\" for k, v in self.all_metrics.items()}\n",
        "    dd['loss'] = f\"{self.loss.compute(): .3f}\"\n",
        "    dd['phase'] = 'train' if learner.model.training else 'eval'\n",
        "    self._log(dd)\n",
        "\n",
        "  def after_batch(self, learner):\n",
        "    x, y, yhat = to_cpu((learner.x, learner.y, learner.yhat))\n",
        "\n",
        "    for m in self.all_metrics.values():\n",
        "      m.update(yhat, y)\n",
        "\n",
        "    self.loss.update(to_cpu(learner.loss), weight=len(x))\n"
      ],
      "metadata": {
        "id": "VOlUh-gwxfeA"
      },
      "execution_count": null,
      "outputs": []
    },
    {
      "cell_type": "code",
      "source": [
        "class DeviceCB(Callback):\n",
        "  def __init__(self):\n",
        "    self.order = 0\n",
        "    self.device = torch.device('cuda' if torch.cuda.is_available() else 'cpu')\n",
        "\n",
        "  def before_fit(self, learn):\n",
        "    if hasattr(learn, 'model'): learn.model = to_device(learn.model, self.device)\n",
        "\n",
        "  def after_fit(self, learn):\n",
        "    pass\n",
        "\n",
        "  def before_epoch(self, learn):\n",
        "    pass\n",
        "\n",
        "  def after_epoch(self, learn):\n",
        "    pass\n",
        "\n",
        "  def before_batch(self, learn):\n",
        "    learn.x, learn.y = to_device(learn.x, self.device), to_device(learn.y, self.device)"
      ],
      "metadata": {
        "id": "G03TvgjtzYHx"
      },
      "execution_count": 14,
      "outputs": []
    },
    {
      "cell_type": "code",
      "source": [
        "model =  nn.Sequential(\n",
        "    conv(1, 4),  ## 8x14x14\n",
        "    conv(4, 8), ## 16x7x7\n",
        "    conv(8, 16), ## 32x4x4\n",
        "    conv(16, 16), # 64x2x2x\n",
        "    conv(16, 10, relu= False), # 128x1x1\n",
        "    nn.Flatten(), # bs x 128\n",
        "  )"
      ],
      "metadata": {
        "id": "SV6s_KTV2oX1"
      },
      "execution_count": null,
      "outputs": []
    },
    {
      "cell_type": "code",
      "source": [
        "class LearnerV4:\n",
        "\n",
        "  def __repr__(self):\n",
        "    return f\" model: {self.model} \\n dls: {[train_dl, valid_dl]} \\n opt: {self.opt} \\n loss_fn: {self.loss_fn}\"\n",
        "\n",
        "  def __init__(self, model, train_dl, valid_dl, cbs, opt = optim.SGD, loss_fn = F.cross_entropy):\n",
        "\n",
        "    fc.store_attr()\n",
        "    self.device = torch.device('cuda') if torch.cuda.is_available() else torch.device('cpu')\n",
        "\n",
        "  def fit(self, epochs = 100, opt = None, **kwargs):\n",
        "\n",
        "    run_cbs(self.cbs, 'before_fit', self)\n",
        "    opt_fun = torch.optim.SGD if opt == None else opt\n",
        "    self.opt = opt_fun(self.model.parameters(), **kwargs)\n",
        "    for ep in tqdm(range(epochs)): self.one_epoch()\n",
        "    run_cbs(self.cbs, 'after_fit', self)\n",
        "\n",
        "  def one_epoch(self):\n",
        "\n",
        "    run_cbs(self.cbs, 'before_epoch', self)\n",
        "    self.train_loss, self.valid_loss, self.train_accs, self.valid_accs = [], [], [], []\n",
        "    for x, y in self.train_dl: self.one_batch(x, y, True)\n",
        "    with torch.no_grad():\n",
        "      for vx, vy in self.valid_dl: self.one_batch(vx, vy, False)\n",
        "    run_cbs(self.cbs, 'after_epoch', self)\n",
        "\n",
        "  def one_batch(self, x, y, training = False):\n",
        "\n",
        "    self.x, self.y = x, y\n",
        "    run_cbs(self.cbs, 'before_batch', self)\n",
        "    self.model.train() if training else self.model.eval()\n",
        "    self.yhat = self.model(self.x)\n",
        "    self.loss = self.loss_fn(self.yhat, self.y)\n",
        "\n",
        "    if training:\n",
        "      self.loss.backward()\n",
        "      self.opt.step()\n",
        "      self.opt.zero_grad()\n",
        "\n",
        "    run_cbs(self.cbs, 'after_batch', self)\n"
      ],
      "metadata": {
        "id": "_j-AssOj2L-x"
      },
      "execution_count": null,
      "outputs": []
    },
    {
      "cell_type": "code",
      "source": [
        "learner = LearnerV4(model, train_dl, valid_dl, [DeviceCB(), MetricsCB(acc = MulticlassAccuracy())])"
      ],
      "metadata": {
        "id": "gGtHYqmL2YdM"
      },
      "execution_count": null,
      "outputs": []
    },
    {
      "cell_type": "code",
      "source": [
        "learner.fit( 2, lr = 0.4)"
      ],
      "metadata": {
        "colab": {
          "base_uri": "https://localhost:8080/"
        },
        "id": "iHE7Jmjp2jBu",
        "outputId": "a98ae147-47c0-4f6d-b9a0-3aa2ad27d710"
      },
      "execution_count": null,
      "outputs": [
        {
          "output_type": "stream",
          "name": "stderr",
          "text": [
            " 50%|█████     | 1/2 [00:20<00:20, 20.80s/it]"
          ]
        },
        {
          "output_type": "stream",
          "name": "stdout",
          "text": [
            "{'acc': ' 0.723', 'loss': ' 0.750', 'phase': 'eval'}\n"
          ]
        },
        {
          "output_type": "stream",
          "name": "stderr",
          "text": [
            "100%|██████████| 2/2 [00:40<00:00, 20.25s/it]"
          ]
        },
        {
          "output_type": "stream",
          "name": "stdout",
          "text": [
            "{'acc': ' 0.827', 'loss': ' 0.607', 'phase': 'eval'}\n"
          ]
        },
        {
          "output_type": "stream",
          "name": "stderr",
          "text": [
            "\n"
          ]
        }
      ]
    },
    {
      "cell_type": "markdown",
      "source": [
        "# Flexible Learner"
      ],
      "metadata": {
        "id": "atz2P6hs7GWt"
      }
    },
    {
      "cell_type": "code",
      "source": [
        "class with_cbs:\n",
        "  def __init__(self, nm):\n",
        "    self.nm = nm\n",
        "\n",
        "  def __call__(self, f):\n",
        "    def _f(o, *args, **kwargs):\n",
        "      o.callback(f\"before_{self.nm}\")\n",
        "      f(o, *args, **kwargs)\n",
        "      o.callback(f\"after_{self.nm}\")\n",
        "    return _f"
      ],
      "metadata": {
        "id": "FDCOI9se2yLi"
      },
      "execution_count": 8,
      "outputs": []
    },
    {
      "cell_type": "code",
      "source": [
        "class LearnerV5:\n",
        "\n",
        "  def __repr__(self):\n",
        "    return f\" model: {self.model} \\n dls: {[train_dl, valid_dl]} \\n opt: {self.opt} \\n loss_fn: {self.loss_fn}\"\n",
        "\n",
        "  def __init__(self, model, train_dl, valid_dl, cbs, opt = optim.SGD, loss_fn = F.cross_entropy): fc.store_attr()\n",
        "\n",
        "  @property\n",
        "  def training(self): return self.model.training\n",
        "\n",
        "  @with_cbs('fit')\n",
        "  def fit(self, epochs = 100, opt = None, **kwargs):\n",
        "\n",
        "    opt_fun = torch.optim.SGD if opt == None else opt\n",
        "    self.opt = opt_fun(self.model.parameters(), **kwargs)\n",
        "    for ep in tqdm(range(epochs)): self.one_epoch()\n",
        "\n",
        "  @with_cbs('epoch')\n",
        "  def one_epoch(self):\n",
        "\n",
        "    self.model.train()\n",
        "    self._one_epoch(self.train_dl)\n",
        "    self.model.eval()\n",
        "    with torch.no_grad(): self._one_epoch(self.valid_dl)\n",
        "\n",
        "  def _one_epoch(self, dl):\n",
        "    for x, y in dl:\n",
        "      self.x, self.y = x, y\n",
        "      self.one_batch()\n",
        "\n",
        "  @with_cbs('batch')\n",
        "  def one_batch(self):\n",
        "\n",
        "    self.yhat = self.model(self.x)\n",
        "    self.loss = self.loss_fn(self.yhat, self.y)\n",
        "\n",
        "    if self.training:\n",
        "      self.loss.backward()\n",
        "      self.opt.step()\n",
        "      self.opt.zero_grad()\n",
        "\n",
        "  def callback(self, nm): run_cbs(self.cbs, nm, self)"
      ],
      "metadata": {
        "id": "eCt1opyp9iwG"
      },
      "execution_count": 15,
      "outputs": []
    },
    {
      "cell_type": "code",
      "source": [
        "# learner = LearnerV5(model, train_dl, valid_dl, [DeviceCB(), MetricsCB(acc = MulticlassAccuracy())])\n",
        "# learner.fit( 2, lr = 0.4)"
      ],
      "metadata": {
        "id": "zMdxVuBn_VFt"
      },
      "execution_count": 237,
      "outputs": []
    },
    {
      "cell_type": "code",
      "source": [
        "# Add more callbacks - Like progress callback - IDK what it does?\n",
        "\n",
        "# what do I require while I'm training the model\n",
        "\n",
        "# 0. Prior to everything, lets create a context manager callback arch, so that we can design the callbacks based on that.\n",
        "# 1. I want to store epoch wise performance - Done in metrics class and stored in history object of that class.\n",
        "# 2. Introduce graphical elements - progress_callback - plot losses of that particular fit call - both train and valid\n",
        "# 3. create an lr find method for the learner to find the learning rate\n",
        "# 4. save the model after every epoch\n",
        "# 5. save the model when ever we get the best losses.\n",
        "# 6. create a callback to find the best learning rate and update the learning rate in optim after every epoch\n",
        "\n",
        "# So, basically I have to write handler functions - performance handler is the first one here.\n",
        "# Performance Handler - Records the performance of the model - Keeps track of all the metrics, What learning rate yielded the best results.\n",
        "# So, it should have cycles - n cycles - each cycle has a reset function to stop that cycle and start a new one.\n",
        "# general performance metrics - like what are the performance metrics that we want to calculate\n",
        "#    - MultiClassAccuracy,\n",
        "#    - F1Score, basic loss\n",
        "#    - Mean Metric of the loss\n",
        "# So, here we require 2 classes, one is metrics class and other is performance class.\n"
      ],
      "metadata": {
        "id": "B82ViC-9ACyb"
      },
      "execution_count": 238,
      "outputs": []
    },
    {
      "cell_type": "code",
      "source": [
        "class StoreMetrics(Callback):\n",
        "  def __init__(self, **ms):\n",
        "    self.metrics, self.loss_metric = {k:v() for k, v in ms.items()}, Mean()\n",
        "    self.history, self.train_losses, self.valid_losses  = [], [], []\n",
        "    self.learn = None\n",
        "\n",
        "  @property\n",
        "  def results(self):\n",
        "    dd = {k: metric.compute() for k, metric in self.metrics.items()}\n",
        "    dd['loss'], dd['epoch'], dd['lr'], dd['mode'] = self.loss_metric.compute(), self.learn.epoch, self.learn.opt.param_groups[0]['lr'], 'train' if self.learn.training else 'eval'\n",
        "    self.history.append(dd)\n",
        "    return dd\n",
        "\n",
        "  def after_batch(self, learn):\n",
        "    yhat, y, loss = to_cpu((self.learn.yhat, self.learn.y, self.learn.loss))\n",
        "    self.train_losses.append(loss) if self.learn.training else self.valid_losses.append(loss)\n",
        "    for k, metric in self.metrics.items(): metric.update(yhat, y)\n",
        "    self.loss_metric.update(loss)\n",
        "\n",
        "  def _log(self, dd):\n",
        "    print(dd)\n",
        "\n",
        "  def after_epoch(self, learn):\n",
        "    self._log(self.results)\n",
        "\n",
        "  def before_epoch(self, learn):\n",
        "    [i.reset() for i in list(self.metrics.values()) + [self.loss_metric]]\n",
        "\n",
        "  def before_fit(self, learn):\n",
        "    if not self.learn: self.learn = learn\n",
        "    self.train_losses, self.valid_losses  = [], []\n",
        "\n",
        "class pd:\n",
        "  def __init__(self, *args): pass\n",
        "\n",
        "  def __call__(self, f):\n",
        "    # st()\n",
        "    self.nm = f.__name__\n",
        "    def _f(o, *args, **kwargs):\n",
        "      methodcaller(self.nm, *args, **kwargs)(o.metrics)\n",
        "      f(o, *args, **kwargs)\n",
        "    return _f\n",
        "\n",
        "class ProgressCallback(Callback):\n",
        "  def __init__(self, metrics_class = StoreMetrics, **ms):\n",
        "    fc.store_attr()\n",
        "    self.ms = ms\n",
        "    self.metrics, self.prev = self.intantiate(), []\n",
        "    self.learn = None\n",
        "\n",
        "  def intantiate(self):\n",
        "    return self.metrics_class(**self.ms)\n",
        "\n",
        "  @pd()\n",
        "  def after_batch(self, learn): pass\n",
        "\n",
        "  @pd()\n",
        "  def after_epoch(self, learn): pass\n",
        "\n",
        "  @pd()\n",
        "  def before_epoch(self, learn): pass\n",
        "\n",
        "  @pd()\n",
        "  def before_fit(self, learn): self.learn = learn\n",
        "\n",
        "  def after_fit(self, learn): self.plot()\n",
        "\n",
        "  def reset(self, learn):\n",
        "    self.prev.append(self.metrics)\n",
        "    self.metrics = self.intantiate()\n",
        "\n",
        "  def _log(self, dd): print(dd)\n",
        "\n",
        "  def summary(self, learn):\n",
        "    self._log(self.metrics.history)\n",
        "\n",
        "  def history(self, learn):\n",
        "    self._log([i.history for i in self.prev])\n",
        "\n",
        "  def plot(self, *args, **kwargs):\n",
        "    tl, vl = self.metrics.train_losses, self.metrics.valid_losses\n",
        "    self._plot(tl, vl)\n",
        "\n",
        "  def _plot(self, *args):\n",
        "    for a in args:\n",
        "      plt.plot(a)"
      ],
      "metadata": {
        "id": "mwWVzOX41cEq"
      },
      "execution_count": 55,
      "outputs": []
    },
    {
      "cell_type": "code",
      "source": [
        "model =  nn.Sequential(\n",
        "    conv(1, 4),  ## 8x14x14\n",
        "    conv(4, 8), ## 16x7x7\n",
        "    conv(8, 16), ## 32x4x4\n",
        "    conv(16, 16), # 64x2x2x\n",
        "    conv(16, 10, relu= False), # 128x1x1\n",
        "    nn.Flatten(), # bs x 128\n",
        "  )"
      ],
      "metadata": {
        "id": "17rkh45x0-U1"
      },
      "execution_count": 35,
      "outputs": []
    },
    {
      "cell_type": "code",
      "source": [
        "class with_cbs:\n",
        "  def __init__(self, nm):\n",
        "    self.nm = nm\n",
        "\n",
        "  def __call__(self, f):\n",
        "\n",
        "    def _f(o, *args, **kwargs):\n",
        "      # st()\n",
        "      o.callback(f\"before_{self.nm}\")\n",
        "      f(o, *args, **kwargs)\n",
        "      o.callback(f\"after_{self.nm}\")\n",
        "    return _f"
      ],
      "metadata": {
        "id": "LvvLZm-XeCmF"
      },
      "execution_count": 36,
      "outputs": []
    },
    {
      "cell_type": "code",
      "source": [
        "class LearnerV6:\n",
        "\n",
        "  def __repr__(self):\n",
        "    return f\" model: {self.model} \\n dls: {[train_dl, valid_dl]} \\n opt: {self.opt} \\n loss_fn: {self.loss_fn}\"\n",
        "\n",
        "  def __init__(self, model, train_dl, valid_dl, cbs, opt = optim.SGD, loss_fn = F.cross_entropy): fc.store_attr()\n",
        "\n",
        "  @property\n",
        "  def training(self): return self.model.training\n",
        "\n",
        "  @with_cbs('fit')\n",
        "  def fit(self, epochs = 100, opt = None, **kwargs):\n",
        "    # st()\n",
        "    opt_fun = torch.optim.SGD if opt == None else opt\n",
        "    self.opt = opt_fun(self.model.parameters(), **kwargs)\n",
        "    for self.epoch in tqdm(range(epochs)) : self.one_epoch()\n",
        "\n",
        "  def one_epoch(self):\n",
        "\n",
        "    self.model.train()\n",
        "    self._one_epoch(self.train_dl)\n",
        "    self.model.eval()\n",
        "    with torch.no_grad(): self._one_epoch(self.valid_dl)\n",
        "\n",
        "  @with_cbs('epoch')\n",
        "  def _one_epoch(self, dl):\n",
        "    for self.batch_num, (self.x, self.y) in enumerate(dl): self.one_batch()\n",
        "\n",
        "  @with_cbs('batch')\n",
        "  def one_batch(self):\n",
        "\n",
        "    self.yhat = self.model(self.x)\n",
        "    self.loss = self.loss_fn(self.yhat, self.y)\n",
        "\n",
        "    if self.training:\n",
        "      self.loss.backward()\n",
        "      self.opt.step()\n",
        "      self.opt.zero_grad()\n",
        "\n",
        "  def lr_find(self): pass\n",
        "\n",
        "  def __getattr__(self, nm):\n",
        "    if nm in ['plot', 'history', \"summary\"]:\n",
        "      return partial(self.callback, nm)\n",
        "    raise AttributeError(name)\n",
        "\n",
        "  def callback(self, nm): run_cbs(self.cbs, nm, self)"
      ],
      "metadata": {
        "id": "c9QA33tjA6vG"
      },
      "execution_count": 46,
      "outputs": []
    },
    {
      "cell_type": "code",
      "source": [
        "learner = LearnerV6(model, train_dl, valid_dl, cbs = [DeviceCB(), ProgressCallback(acc = MulticlassAccuracy, f1_score = MulticlassF1Score)])"
      ],
      "metadata": {
        "id": "BWKA9d9vcLhJ"
      },
      "execution_count": 47,
      "outputs": []
    },
    {
      "cell_type": "code",
      "source": [
        "learner.fit(2, lr = 0.3)"
      ],
      "metadata": {
        "colab": {
          "base_uri": "https://localhost:8080/",
          "height": 569
        },
        "id": "4trkwnMLdqv-",
        "outputId": "da1bbc9a-a240-41d8-87e1-1bd7cc45cc26"
      },
      "execution_count": 48,
      "outputs": [
        {
          "output_type": "stream",
          "name": "stderr",
          "text": [
            "\r  0%|          | 0/2 [00:00<?, ?it/s]"
          ]
        },
        {
          "output_type": "stream",
          "name": "stdout",
          "text": [
            "{'acc': tensor(0.8681), 'f1_score': tensor(0.8681), 'loss': tensor(0.3537, dtype=torch.float64), 'epoch': 0, 'lr': 0.3, 'mode': 'train'}\n"
          ]
        },
        {
          "output_type": "stream",
          "name": "stderr",
          "text": [
            "\r 50%|█████     | 1/2 [00:21<00:21, 21.04s/it]"
          ]
        },
        {
          "output_type": "stream",
          "name": "stdout",
          "text": [
            "{'acc': tensor(0.8562), 'f1_score': tensor(0.8562), 'loss': tensor(0.3952, dtype=torch.float64), 'epoch': 0, 'lr': 0.3, 'mode': 'eval'}\n",
            "{'acc': tensor(0.8717), 'f1_score': tensor(0.8717), 'loss': tensor(0.3488, dtype=torch.float64), 'epoch': 1, 'lr': 0.3, 'mode': 'train'}\n"
          ]
        },
        {
          "output_type": "stream",
          "name": "stderr",
          "text": [
            "100%|██████████| 2/2 [00:39<00:00, 19.74s/it]"
          ]
        },
        {
          "output_type": "stream",
          "name": "stdout",
          "text": [
            "{'acc': tensor(0.8547), 'f1_score': tensor(0.8547), 'loss': tensor(0.4147, dtype=torch.float64), 'epoch': 1, 'lr': 0.3, 'mode': 'eval'}\n"
          ]
        },
        {
          "output_type": "stream",
          "name": "stderr",
          "text": [
            "\n"
          ]
        },
        {
          "output_type": "display_data",
          "data": {
            "text/plain": [
              "<Figure size 640x480 with 1 Axes>"
            ],
            "image/png": "[encoded data removed]"
          },
          "metadata": {}
        }
      ]
    },
    {
      "cell_type": "code",
      "source": [
        "learner.summary()"
      ],
      "metadata": {
        "id": "gv5fQz0ThipR"
      },
      "execution_count": 49,
      "outputs": []
    },
    {
      "cell_type": "code",
      "source": [
        "learner.cbs[1].metrics.history"
      ],
      "metadata": {
        "colab": {
          "base_uri": "https://localhost:8080/"
        },
        "id": "_ZywQuPYip5f",
        "outputId": "af7d2e5f-ba3b-4d2b-e3db-5bdba195dbfa"
      },
      "execution_count": 54,
      "outputs": [
        {
          "output_type": "execute_result",
          "data": {
            "text/plain": [
              "[{'acc': tensor(0.8681),\n",
              "  'f1_score': tensor(0.8681),\n",
              "  'loss': tensor(0.3537, dtype=torch.float64),\n",
              "  'epoch': 0,\n",
              "  'lr': 0.3,\n",
              "  'mode': 'train'},\n",
              " {'acc': tensor(0.8562),\n",
              "  'f1_score': tensor(0.8562),\n",
              "  'loss': tensor(0.3952, dtype=torch.float64),\n",
              "  'epoch': 0,\n",
              "  'lr': 0.3,\n",
              "  'mode': 'eval'},\n",
              " {'acc': tensor(0.8717),\n",
              "  'f1_score': tensor(0.8717),\n",
              "  'loss': tensor(0.3488, dtype=torch.float64),\n",
              "  'epoch': 1,\n",
              "  'lr': 0.3,\n",
              "  'mode': 'train'},\n",
              " {'acc': tensor(0.8547),\n",
              "  'f1_score': tensor(0.8547),\n",
              "  'loss': tensor(0.4147, dtype=torch.float64),\n",
              "  'epoch': 1,\n",
              "  'lr': 0.3,\n",
              "  'mode': 'eval'}]"
            ]
          },
          "metadata": {},
          "execution_count": 54
        }
      ]
    },
    {
      "cell_type": "code",
      "source": [
        "# lr find\n",
        "# Lets start from least learning rate of 1e-04, increment that lr by 30 pct - Use learning rate scheduler\n",
        "# Take only 10 batches of data - x, y\n",
        "# create an existing copy of the model\n",
        "# with no grad - fit the model for an epoch"
      ],
      "metadata": {
        "id": "xA4I0AoRZ-BY"
      },
      "execution_count": null,
      "outputs": []
    },
    {
      "cell_type": "code",
      "source": [
        "class LearnerV7:\n",
        "\n",
        "  def __repr__(self):\n",
        "    return f\" model: {self.model} \\n dls: {[train_dl, valid_dl]} \\n opt: {self.opt} \\n loss_fn: {self.loss_fn}\"\n",
        "\n",
        "  def __init__(self, model, train_dl, valid_dl, cbs, opt = optim.SGD, loss_fn = F.cross_entropy): fc.store_attr()\n",
        "\n",
        "  @property\n",
        "  def training(self): return self.model.training\n",
        "\n",
        "  @with_cbs('fit')\n",
        "  def fit(self, epochs = 100, opt = None, **kwargs):\n",
        "    # st()\n",
        "    opt_fun = torch.optim.SGD if opt == None else opt\n",
        "    self.opt = opt_fun(self.model.parameters(), **kwargs)\n",
        "    for self.epoch in tqdm(range(epochs)) : self.one_epoch()\n",
        "\n",
        "  def one_epoch(self):\n",
        "\n",
        "    self.model.train()\n",
        "    self._one_epoch(self.train_dl)\n",
        "    self.model.eval()\n",
        "    with torch.no_grad(): self._one_epoch(self.valid_dl)\n",
        "\n",
        "  @with_cbs('epoch')\n",
        "  def _one_epoch(self, dl):\n",
        "    for self.batch_num, (self.x, self.y) in enumerate(dl): self.one_batch()\n",
        "\n",
        "  @with_cbs('batch')\n",
        "  def one_batch(self):\n",
        "\n",
        "    self.yhat = self.model(self.x)\n",
        "    self.loss = self.loss_fn(self.yhat, self.y)\n",
        "\n",
        "    if self.training:\n",
        "      self.loss.backward()\n",
        "      self.opt.step()\n",
        "      self.opt.zero_grad()\n",
        "\n",
        "  def lr_find(self):\n",
        "    pass\n",
        "\n",
        "  def __getattr__(self, nm):\n",
        "    if nm in ['plot']:\n",
        "      return partial(self.callback, nm)\n",
        "    raise AttributeError(name)\n",
        "\n",
        "  def callback(self, nm): run_cbs(self.cbs, nm, self)"
      ],
      "metadata": {
        "id": "VWTblDr9m-CB"
      },
      "execution_count": null,
      "outputs": []
    }
  ]
}
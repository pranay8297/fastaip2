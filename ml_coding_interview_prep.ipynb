{
  "nbformat": 4,
  "nbformat_minor": 0,
  "metadata": {
    "colab": {
      "provenance": [],
      "authorship_tag": "ABX9TyOzEHI9MkdOWgvcMevp7jna",
      "include_colab_link": true
    },
    "kernelspec": {
      "name": "python3",
      "display_name": "Python 3"
    },
    "language_info": {
      "name": "python"
    }
  },
  "cells": [
    {
      "cell_type": "markdown",
      "metadata": {
        "id": "view-in-github",
        "colab_type": "text"
      },
      "source": [
        "<a href=\"https://colab.research.google.com/github/pranay8297/fastaip2/blob/main/ml_coding_interview_prep.ipynb\" target=\"_parent\"><img src=\"https://colab.research.google.com/assets/colab-badge.svg\" alt=\"Open In Colab\"/></a>"
      ]
    },
    {
      "cell_type": "markdown",
      "source": [
        "# Micrograd"
      ],
      "metadata": {
        "id": "xIyiiIDFMhnr"
      }
    },
    {
      "cell_type": "code",
      "source": [
        "import numpy as np"
      ],
      "metadata": {
        "id": "bXqQT21Q_pNE"
      },
      "execution_count": 1,
      "outputs": []
    },
    {
      "cell_type": "code",
      "execution_count": 2,
      "metadata": {
        "id": "8Gdx0OTZeraI"
      },
      "outputs": [],
      "source": [
        "# Lets start with Micro grad\n",
        "\n",
        "class Value:\n",
        "\n",
        "    def __init__(self, val, parents = (), op = None, label = None):\n",
        "        self.val = val\n",
        "        self.parents = parents\n",
        "        self.op = op\n",
        "        self.grad = 0\n",
        "        self.label = label\n",
        "\n",
        "    def __repr__(self):\n",
        "        return f'Value: {self.val:.4f}' + (f'  :: Label: {self.label}' if self.label != None else '')\n",
        "\n",
        "    def __sub__(self, other):\n",
        "        return self + (-other)\n",
        "\n",
        "    def __neg__(self):\n",
        "        return self * -1\n",
        "\n",
        "    def __radd__(self, other):\n",
        "        return self + other\n",
        "\n",
        "    def __rmul__(self, other):\n",
        "        return self * other\n",
        "\n",
        "    def __truediv__(self, other):\n",
        "        return self * (other**-1)\n",
        "\n",
        "    def __add__(self, other):\n",
        "\n",
        "        if not isinstance(other, Value): other = Value(other, label = str(other))\n",
        "\n",
        "        out = Value(self.val + other.val, (self, other), label = f'{self.label}+{other.label}')\n",
        "\n",
        "        def _backward():\n",
        "            self.grad += 1 * out.grad\n",
        "            other.grad += 1 * out.grad\n",
        "        out._backward = _backward\n",
        "        return out\n",
        "\n",
        "    def __mul__(self, other):\n",
        "        if not isinstance(other, Value): other = Value(other, label = str(other))\n",
        "        out = Value(self.val * other.val, (self, other), label = f'{self.label}*{other.label}')\n",
        "\n",
        "        def _backward():\n",
        "            self.grad += other.val * out.grad\n",
        "            other.grad += self.val * out.grad\n",
        "\n",
        "        out._backward = _backward\n",
        "        return out\n",
        "\n",
        "    def __pow__(self, pow):\n",
        "        out = Value(self.val ** pow, (self,), label = f'{self.label}**{pow}')\n",
        "        def _backward():\n",
        "            self.grad += pow*self.val**(pow-1) * out.grad\n",
        "        out._backward = _backward\n",
        "        return out\n",
        "\n",
        "    def exp(self):\n",
        "        exp = np.exp(self.val)\n",
        "        out = Value(exp, (self,), label = f'exp({self.label})')\n",
        "        def _backward():\n",
        "            self.grad += exp * out.grad\n",
        "        out._backward = _backward\n",
        "        return out\n",
        "\n",
        "    def relu(self):\n",
        "        out = Value(self.val if self.val > 0 else 0, label = f'relu({self.label})')\n",
        "\n",
        "        def _backward():\n",
        "            self.grad += 0 if out.val else out.grad\n",
        "\n",
        "        out._backward = _backward\n",
        "        return out\n",
        "\n",
        "    def backward(self):\n",
        "        self.grad = 1.\n",
        "        visited = set()\n",
        "        dfs = []\n",
        "        # breakpoint()\n",
        "        def _dfs(node):\n",
        "\n",
        "            if node in visited: return\n",
        "\n",
        "            visited.add(node)\n",
        "\n",
        "            for i in node.parents:\n",
        "                _dfs(i)\n",
        "\n",
        "            dfs.append(node)\n",
        "\n",
        "        _dfs(self)\n",
        "        topsort = reversed(dfs)\n",
        "\n",
        "        for i in topsort:\n",
        "            if not hasattr(i, '_backward'): continue\n",
        "            i._backward()\n"
      ]
    },
    {
      "cell_type": "code",
      "source": [
        "x1, x2 = Value(-1.5, label = 'x1'), Value(1.3, label = 'x2')\n",
        "w1, w2 = Value(4, label = 'w1'), Value(5, label = 'w2')\n",
        "b = Value(0, label = 'b')\n",
        "z = w1*x1 + w2*x2 + b\n",
        "z.label = 'z'\n",
        "\n",
        "# z.backward()\n",
        "# w1.grad, w2.grad, b.grad\n",
        "print(z)\n",
        "yhat = ((2*z).exp() - 1)/((2*z).exp() + 1)\n",
        "# yhat.label = 'yhat'\n",
        "print(yhat)\n",
        "\n",
        "yhat.backward()\n",
        "\n",
        "yhat.grad, z.grad, w1.grad, w2.grad, b.grad"
      ],
      "metadata": {
        "colab": {
          "base_uri": "https://localhost:8080/"
        },
        "id": "v2d0W0kJ5cWA",
        "outputId": "cb7f824c-d8cc-4e4c-db98-b1433129f44c"
      },
      "execution_count": 3,
      "outputs": [
        {
          "output_type": "stream",
          "name": "stdout",
          "text": [
            "Value: 0.5000  :: Label: z\n",
            "Value: 0.4621  :: Label: exp(z*2)+-1*exp(z*2)+1**-1\n"
          ]
        },
        {
          "output_type": "execute_result",
          "data": {
            "text/plain": [
              "(1.0,\n",
              " 0.7864477329659272,\n",
              " -1.1796715994488909,\n",
              " 1.0223820528557053,\n",
              " 0.7864477329659272)"
            ]
          },
          "metadata": {},
          "execution_count": 3
        }
      ]
    },
    {
      "cell_type": "code",
      "source": [
        "import random\n",
        "\n",
        "class Module:\n",
        "    def __call__(self, *args, **kwargs):\n",
        "        return self.forward(*args, **kwargs)\n",
        "\n",
        "class Neuron(Module):\n",
        "    def __init__(self, n_in):\n",
        "        self.ws = [Value(random.uniform(-1, 1)) for _ in range(n_in)]\n",
        "        self.b = Value(0)\n",
        "\n",
        "    def forward(self, x): # dot product + b: wx + b\n",
        "        # breakpoint()\n",
        "        return sum((a * b for a, b in zip(self.ws, x))) + self.b\n",
        "\n",
        "    def __repr__(self):\n",
        "        return f\"Neuron containing: {self.ws}\"\n",
        "\n",
        "class Layer(Module):\n",
        "    def __init__(self, n_in, n_out):\n",
        "        # n_in: number of inputs\n",
        "        # n_out: number of outputs desired in a layer\n",
        "        self.neurons = [Neuron(n_in) for _ in range(n_out)]\n",
        "\n",
        "    def forward(self, x):\n",
        "        return [n(x) for n in self.neurons]\n",
        "\n",
        "    def __repr__(self): return f\"Layer containing weights of shape: {len(self.neurons)}x{len(self.neurons[0].ws)}\"\n",
        "\n",
        "\n",
        "class MLP(Module):\n",
        "\n",
        "    def __init__(self, lc = [], act = 'relu'):\n",
        "        # assume lc - layer_config has n_in preppended\n",
        "        self.layers = [Layer(lc[i-1], lc[i]) for i in range(1, len(lc))]\n",
        "\n",
        "    def forward(self, x):\n",
        "\n",
        "        for layer in self.layers:\n",
        "            x = layer(x)\n",
        "        return x\n",
        "\n",
        "    def __repr__(self):\n",
        "        st = ''\n",
        "        for i in self.layers:\n",
        "            st += i.__repr__() + ' \\n'\n",
        "        return st"
      ],
      "metadata": {
        "id": "YlIK6eZ_vsqO"
      },
      "execution_count": 4,
      "outputs": []
    },
    {
      "cell_type": "code",
      "source": [
        "x = [Value(1, label = 'x1'), Value(1.5, label = 'x2'), Value(1.2, label = 'x3')]\n",
        "neu = Neuron(3)\n",
        "neu(x)"
      ],
      "metadata": {
        "colab": {
          "base_uri": "https://localhost:8080/"
        },
        "id": "Cv1wZC7lXFhv",
        "outputId": "57cb9f41-a9fe-4de4-ab6f-0e9b36faf465"
      },
      "execution_count": 5,
      "outputs": [
        {
          "output_type": "execute_result",
          "data": {
            "text/plain": [
              "Value: 1.8940  :: Label: None*x1+0+None*x2+None*x3+None"
            ]
          },
          "metadata": {},
          "execution_count": 5
        }
      ]
    },
    {
      "cell_type": "code",
      "source": [
        "x = [Value(1, label = 'x1'), Value(1.5, label = 'x2'), Value(1.2, label = 'x3')]\n",
        "layer = Layer(3, 2)\n",
        "inter = layer(x)\n",
        "inter"
      ],
      "metadata": {
        "colab": {
          "base_uri": "https://localhost:8080/"
        },
        "id": "sKorQi6YvTDJ",
        "outputId": "30a46587-0a23-4b90-e135-b70e52b6cc3e"
      },
      "execution_count": 6,
      "outputs": [
        {
          "output_type": "execute_result",
          "data": {
            "text/plain": [
              "[Value: -0.1218  :: Label: None*x1+0+None*x2+None*x3+None,\n",
              " Value: 1.1135  :: Label: None*x1+0+None*x2+None*x3+None]"
            ]
          },
          "metadata": {},
          "execution_count": 6
        }
      ]
    },
    {
      "cell_type": "code",
      "source": [
        "x = [Value(1, label = 'x1'), Value(1.5, label = 'x2'), Value(1.2, label = 'x3')]\n",
        "mlp = MLP((3, 2, 1))\n",
        "yhat = mlp(x)"
      ],
      "metadata": {
        "id": "BDlts59jzruj"
      },
      "execution_count": 7,
      "outputs": []
    },
    {
      "cell_type": "code",
      "source": [
        "yhat[0].backward()\n",
        "yhat[0].val"
      ],
      "metadata": {
        "colab": {
          "base_uri": "https://localhost:8080/"
        },
        "id": "KdcRQehVRuSG",
        "outputId": "79906989-aec5-4eff-ddf7-04830afec942"
      },
      "execution_count": 8,
      "outputs": [
        {
          "output_type": "execute_result",
          "data": {
            "text/plain": [
              "-0.8330107775570503"
            ]
          },
          "metadata": {},
          "execution_count": 8
        }
      ]
    },
    {
      "cell_type": "code",
      "source": [
        "for layer in mlp.layers:\n",
        "    for neu in layer.neurons:\n",
        "        print([i.grad for i in neu.ws])"
      ],
      "metadata": {
        "colab": {
          "base_uri": "https://localhost:8080/"
        },
        "id": "ukRREvcE0ehM",
        "outputId": "3a70d315-b66c-4639-ec80-2c12ff64420b"
      },
      "execution_count": 9,
      "outputs": [
        {
          "output_type": "stream",
          "name": "stdout",
          "text": [
            "[0.5272679690160686, 0.790901953524103, 0.6327215628192824]\n",
            "[-0.38744739074537704, -0.5811710861180656, -0.4649368688944524]\n",
            "[-1.2862314400106958, 0.39959525395215145]\n"
          ]
        }
      ]
    },
    {
      "cell_type": "code",
      "source": [
        "# batch norm\n",
        "import torch\n",
        "from torch import nn\n",
        "from torch.nn import functional as F\n",
        "\n",
        "class BN(nn.Module):\n",
        "\n",
        "    def __init__(self, n_filters):\n",
        "        super().__init__()\n",
        "        self.running_mean = None\n",
        "        self.running_std = None\n",
        "\n",
        "        self.scale = nn.Parameter(torch.tensor(1.))\n",
        "        self.shift = nn.Parameter(torch.tensor(0.))\n",
        "\n",
        "    def forward(self, x):\n",
        "        # x.shape - bs, ch, h, w\n",
        "        mean = x.mean((0, 1)).squeeze() #bs, h, w\n",
        "        std = x.std((0, 1)).squeeze() #bs, h, w\n",
        "        return self.scale*((x - mean)/std) + self.shift"
      ],
      "metadata": {
        "id": "NhF_apPQVDpN"
      },
      "execution_count": 10,
      "outputs": []
    },
    {
      "cell_type": "code",
      "source": [
        "bn = BN(4)\n",
        "x = torch.randn(16, 4, 32, 32)\n",
        "out = bn(x)\n",
        "out.shape, out.mean(), out.std()"
      ],
      "metadata": {
        "colab": {
          "base_uri": "https://localhost:8080/"
        },
        "id": "BZl0LizLaYRe",
        "outputId": "beb2baf2-ead5-4d02-b019-ea3a48412ea0"
      },
      "execution_count": 11,
      "outputs": [
        {
          "output_type": "execute_result",
          "data": {
            "text/plain": [
              "(torch.Size([16, 4, 32, 32]),\n",
              " tensor(6.4392e-10, grad_fn=<MeanBackward0>),\n",
              " tensor(0.9922, grad_fn=<StdBackward0>))"
            ]
          },
          "metadata": {},
          "execution_count": 11
        }
      ]
    },
    {
      "cell_type": "code",
      "source": [
        "np.eye(3)"
      ],
      "metadata": {
        "colab": {
          "base_uri": "https://localhost:8080/"
        },
        "id": "19nMHoi8lSv6",
        "outputId": "ed1f64ba-46f1-458a-e3fc-30659d32b3aa"
      },
      "execution_count": 12,
      "outputs": [
        {
          "output_type": "execute_result",
          "data": {
            "text/plain": [
              "array([[1., 0., 0.],\n",
              "       [0., 1., 0.],\n",
              "       [0., 0., 1.]])"
            ]
          },
          "metadata": {},
          "execution_count": 12
        }
      ]
    },
    {
      "cell_type": "code",
      "source": [
        "class Softmax():\n",
        "    def __init__(self): pass\n",
        "\n",
        "    def __call__(self, x):\n",
        "        self.x = x\n",
        "        x_exp = np.exp(x)\n",
        "        x_exp_sum = x_exp.sum()\n",
        "\n",
        "        self.es = x_exp/x_exp_sum\n",
        "        return self.es\n",
        "\n",
        "    def _backward(self):\n",
        "        lsp, rsp = self.es, (np.eye(len(self.x)) - self.es).T\n",
        "        return np.dot(lsp, rsp)"
      ],
      "metadata": {
        "id": "VNgc4lYeuqQM"
      },
      "execution_count": 13,
      "outputs": []
    },
    {
      "cell_type": "code",
      "source": [
        "x = [0.14, 0.5, -0.8]\n",
        "soft = Softmax()\n",
        "es = soft(x)"
      ],
      "metadata": {
        "id": "2n5wWQalw1LQ"
      },
      "execution_count": 14,
      "outputs": []
    },
    {
      "cell_type": "code",
      "source": [
        "es, es.sum()"
      ],
      "metadata": {
        "colab": {
          "base_uri": "https://localhost:8080/"
        },
        "id": "yT5ZEA8sxSuU",
        "outputId": "c0d086f2-d9e2-4ac9-b74c-465e01c30275"
      },
      "execution_count": 15,
      "outputs": [
        {
          "output_type": "execute_result",
          "data": {
            "text/plain": [
              "(array([0.35411301, 0.50756059, 0.1383264 ]), 1.0)"
            ]
          },
          "metadata": {},
          "execution_count": 15
        }
      ]
    },
    {
      "cell_type": "code",
      "source": [
        "x_grad = soft._backward()"
      ],
      "metadata": {
        "id": "e59Yj1enxTSC"
      },
      "execution_count": 16,
      "outputs": []
    },
    {
      "cell_type": "code",
      "source": [
        "x_grad"
      ],
      "metadata": {
        "colab": {
          "base_uri": "https://localhost:8080/"
        },
        "id": "tnmmIwnSxzjJ",
        "outputId": "6aa8fad8-93c0-4e45-e4af-d311cc3bbb76"
      },
      "execution_count": 17,
      "outputs": [
        {
          "output_type": "execute_result",
          "data": {
            "text/plain": [
              "array([-0.04803496,  0.10541262, -0.26382157])"
            ]
          },
          "metadata": {},
          "execution_count": 17
        }
      ]
    },
    {
      "cell_type": "code",
      "source": [
        "xx = torch.tensor(x, requires_grad = True)\n",
        "y = F.softmax(xx)\n",
        "\n",
        "y.sum().backward()"
      ],
      "metadata": {
        "colab": {
          "base_uri": "https://localhost:8080/"
        },
        "id": "xfaUl0PvxZTL",
        "outputId": "ded6f0ce-cd98-432f-c22b-e700cf091fb0"
      },
      "execution_count": 18,
      "outputs": [
        {
          "output_type": "stream",
          "name": "stderr",
          "text": [
            "<ipython-input-18-bf3ebf7fce68>:2: UserWarning: Implicit dimension choice for softmax has been deprecated. Change the call to include dim=X as an argument.\n",
            "  y = F.softmax(xx)\n"
          ]
        }
      ]
    },
    {
      "cell_type": "code",
      "source": [
        "xx, xx.grad"
      ],
      "metadata": {
        "colab": {
          "base_uri": "https://localhost:8080/"
        },
        "id": "BzJ3G3xWxhtb",
        "outputId": "ecd5d6c9-a5f2-4519-a6b0-721d8d38f6ae"
      },
      "execution_count": 19,
      "outputs": [
        {
          "output_type": "execute_result",
          "data": {
            "text/plain": [
              "(tensor([ 0.1400,  0.5000, -0.8000], requires_grad=True),\n",
              " tensor([2.1107e-08, 3.0253e-08, 8.2449e-09]))"
            ]
          },
          "metadata": {},
          "execution_count": 19
        }
      ]
    },
    {
      "cell_type": "markdown",
      "source": [
        "# Perceptron and othe blocks from scratch (Dealing with matrices)"
      ],
      "metadata": {
        "id": "2tIlAx1XMkgO"
      }
    },
    {
      "cell_type": "code",
      "source": [
        "import numpy as np\n",
        "import torch\n",
        "\n",
        "from torch.nn import functional as F\n",
        "\n",
        "import matplotlib.pyplot as plt"
      ],
      "metadata": {
        "id": "jQbHPRgXy7hT"
      },
      "execution_count": 20,
      "outputs": []
    },
    {
      "cell_type": "code",
      "source": [
        "# create a dataset of 20 examples\n",
        "# 3xs and 1ys\n",
        "# create a ws and b\n",
        "# sigmoid\n",
        "# mse"
      ],
      "metadata": {
        "id": "2Xc9mCoaMtN-"
      },
      "execution_count": 352,
      "outputs": []
    },
    {
      "cell_type": "code",
      "source": [
        "def mse(yhat, y):\n",
        "    return np.mean((yhat-y)**2)\n",
        "\n",
        "def mse_grad(yhat, y):\n",
        "    return (2/len(yhat))*(yhat - y)\n",
        "\n",
        "def sigmoid(z):\n",
        "    return 1/(1 + np.exp(-z))\n",
        "\n",
        "def sigmoid_grad(act):\n",
        "    return act*(1 - act)\n",
        "\n",
        "def relu(z):\n",
        "    return z * (z > 0)\n",
        "\n",
        "def relu_grad(z):\n",
        "    return (z > 0)\n",
        "\n",
        "def softmax(z):\n",
        "    exp_sum = np.exp(z).sum(-1)\n",
        "    return np.exp(z)/np.expand_dims(exp_sum, axis=1)\n",
        "\n",
        "def softmax_grad(acts):\n",
        "    return acts * (1. - acts)\n",
        "\n",
        "def cross_entropy(yhat, y):\n",
        "    return y * -1 * np.log(yhat)\n",
        "\n",
        "def cross_entropy_grad(yhat, y):\n",
        "    return y * (-1/yhat)"
      ],
      "metadata": {
        "id": "IA-PQ8yYdRIv"
      },
      "execution_count": 28,
      "outputs": []
    },
    {
      "cell_type": "code",
      "source": [
        "ys = np.arange(0, 1, 1/20)\n",
        "\n",
        "ys = np.random.uniform(low=0, high=1., size=(20,2))\n",
        "xs = np.random.uniform(low= -1, high = 2, size = (20, 3))\n",
        "\n",
        "# 3x2 matrix for 3 inputs and 2 outputs\n",
        "ws = np.random.uniform(low = -1, high = 1, size = (3, 2))\n",
        "bs = np.zeros((2))\n",
        "# xs.shape, ys.shape, ws.shape, bs.shape\n",
        "\n",
        "zs = xs.dot(ws) + bs\n",
        "yhat = sigmoid(zs)\n",
        "print(yhat.shape)\n",
        "\n",
        "loss = mse(yhat, y)\n",
        "print(\"Loss: \", loss)\n",
        "\n",
        "dl_dyhat = mse_grad(yhat, y)\n",
        "dyhat_dz = sigmoid_grad(yhat)\n",
        "# dyhat_dz.shape\n",
        "dl_dz = dyhat_dz * dl_dyhat\n",
        "dl_dw = (1/xs.shape[0])*np.dot(xs.T, dl_dz)\n",
        "\n",
        "lr = 0.5\n",
        "ws += -lr*dl_dw\n",
        "bs += -lr*dl_dz.mean(0)"
      ],
      "metadata": {
        "colab": {
          "base_uri": "https://localhost:8080/"
        },
        "id": "Rt19kyD1drUi",
        "outputId": "336a00c3-3f92-4cf6-d94e-3380e84ee6a8"
      },
      "execution_count": 423,
      "outputs": [
        {
          "output_type": "stream",
          "name": "stdout",
          "text": [
            "(20, 2)\n",
            "Loss:  0.243156526893116\n"
          ]
        }
      ]
    },
    {
      "cell_type": "code",
      "source": [
        "def train(xs, ys, n_epochs = 100):\n",
        "\n",
        "    lr = 0.7\n",
        "    # 3x2 matrix for 3 inputs and 2 outputs\n",
        "    ws = np.random.uniform(low = -1, high = 1, size = (xs.shape[1], ys.shape[1]))\n",
        "    bs = np.zeros((ys.shape[1]))\n",
        "    print(xs.shape, ys.shape, ws.shape, bs.shape)\n",
        "\n",
        "    for i in range(n_epochs):\n",
        "\n",
        "        # Forward Pass\n",
        "        zs = xs.dot(ws) + bs\n",
        "        yhat = sigmoid(zs)\n",
        "\n",
        "        # Loss Calculation\n",
        "        loss = mse(yhat, ys)\n",
        "        if (i)%10 == 0:\n",
        "            print(f\"Epoch: {i+1}, Loss: {loss}\")\n",
        "\n",
        "        # Calculating Gradients\n",
        "        dl_dyhat = mse_grad(yhat, ys)\n",
        "        dyhat_dz = sigmoid_grad(yhat)\n",
        "        dl_dz = dyhat_dz * dl_dyhat\n",
        "        dl_dw = (1/xs.shape[0])*np.dot(xs.T, dl_dz) # dl_dz*dz_dw\n",
        "        dl_db = dl_dz.mean(0) # 1\n",
        "\n",
        "        # Backward Pass\n",
        "        ws += -lr * dl_dw\n",
        "        bs += -lr * dl_db\n",
        "\n",
        "    return ws, bs"
      ],
      "metadata": {
        "id": "I6VlFub5w7Cj"
      },
      "execution_count": 15,
      "outputs": []
    },
    {
      "cell_type": "code",
      "source": [
        "ys = np.random.uniform(low=0, high=1., size=(20,2))\n",
        "xs = np.random.uniform(low= -4, high = 4, size = (20, 3))\n",
        "trained_ws, trained_bs = train(xs, ys, 100)"
      ],
      "metadata": {
        "colab": {
          "base_uri": "https://localhost:8080/"
        },
        "id": "VTnD8Rt4x8zf",
        "outputId": "ad03fadd-d206-4dcd-9a01-750f673520d3"
      },
      "execution_count": 21,
      "outputs": [
        {
          "output_type": "stream",
          "name": "stdout",
          "text": [
            "(20, 3) (20, 2) (3, 2) (2,)\n",
            "Epoch: 1, Loss: 0.17480770537172163\n",
            "Epoch: 11, Loss: 0.14914855268778654\n",
            "Epoch: 21, Loss: 0.12973814316934065\n",
            "Epoch: 31, Loss: 0.11517636329801513\n",
            "Epoch: 41, Loss: 0.10321831826716292\n",
            "Epoch: 51, Loss: 0.09272226704806837\n",
            "Epoch: 61, Loss: 0.08349640143061773\n",
            "Epoch: 71, Loss: 0.07582077763916781\n",
            "Epoch: 81, Loss: 0.0699662471142186\n",
            "Epoch: 91, Loss: 0.06588078714386562\n"
          ]
        }
      ]
    },
    {
      "cell_type": "code",
      "source": [
        "# 3, 4, 2\n",
        "ys = np.random.uniform(low=0, high=1., size=(20,2))\n",
        "xs = np.random.uniform(low= -10, high = 10, size = (20, 3))\n",
        "\n",
        "w1 = np.random.uniform(low = -1, high = 1, size = (xs.shape[1], 4))\n",
        "b1 = np.zeros((4))\n",
        "\n",
        "w2 = np.random.uniform(low = -1, high = 1, size = (4, ys.shape[1]))\n",
        "b2 = np.zeros((ys.shape[1]))\n",
        "\n",
        "z1 = np.dot(xs, w1) + b1\n",
        "a1 = sigmoid(z1)\n",
        "\n",
        "z2 = np.dot(a1, w2) + b2\n",
        "yhat = sigmoid(z2)\n",
        "loss = mse(yhat, ys)\n",
        "\n",
        "print(\"First Loss: \", loss)\n",
        "\n",
        "dl_dyhat = mse_grad(yhat, ys)\n",
        "dl_dyhat.shape\n",
        "\n",
        "dyhat_dz2 = sigmoid_grad(yhat)\n",
        "dyhat_dz2.shape\n",
        "\n",
        "dl_dz2 = dl_dyhat * dyhat_dz2\n",
        "dl_dz2.shape\n",
        "\n",
        "# dl_dw2 = dl_dz2 * dz2_dw2\n",
        "# dl_db2 = dl_dz2\n",
        "\n",
        "dl_dw2 = (1/a1.shape[0]) * np.dot(a1.T, dl_dz2) # Done\n",
        "dl_db2 = dl_dz2.mean(0) # Done\n",
        "\n",
        "dl_dw2.shape, dl_db2.shape\n",
        "\n",
        "# Now we have to calculate dz2_da1\n",
        "# then dl_da1 = dl_dz2 * dz2_da1\n",
        "w2.shape, dl_dz2.shape\n",
        "\n",
        "# dz2_dz1 = w2\n",
        "dl_da1 = np.dot(dl_dz2, w2.T)\n",
        "dl_da1.shape\n",
        "\n",
        "# dl_dz1 = dl_da1 * da1_dz1\n",
        "da1_dz1 = sigmoid_grad(a1)\n",
        "dl_dz1 = dl_da1 * da1_dz1\n",
        "dl_dz1.shape\n",
        "\n",
        "dl_dw1 = (1/z1.shape[0]) * np.dot(xs.T, dl_dz1) # Done\n",
        "dl_db1 = dl_dz1.mean(0) # Done\n",
        "\n",
        "dl_dw1.shape, dl_db1.shape\n",
        "\n",
        "lr = 0.89\n",
        "\n",
        "w1 += -lr * dl_dw1\n",
        "b1 += -lr * dl_db1\n",
        "\n",
        "w2 += -lr * dl_dw2\n",
        "b2 += -lr * dl_db2\n",
        "\n",
        "z1 = np.dot(xs, w1) + b1\n",
        "a1 = sigmoid(z1)\n",
        "\n",
        "z2 = np.dot(a1, w2) + b2\n",
        "yhat = sigmoid(z2)\n",
        "loss = mse(yhat, ys)\n",
        "\n",
        "loss"
      ],
      "metadata": {
        "colab": {
          "base_uri": "https://localhost:8080/"
        },
        "id": "mWSJW44oSVw_",
        "outputId": "cce16af2-13d6-4fd2-fe90-e59784aa7308"
      },
      "execution_count": 74,
      "outputs": [
        {
          "output_type": "stream",
          "name": "stdout",
          "text": [
            "First Loss:  0.08896005403578382\n"
          ]
        },
        {
          "output_type": "execute_result",
          "data": {
            "text/plain": [
              "0.08859228406828024"
            ]
          },
          "metadata": {},
          "execution_count": 74
        }
      ]
    },
    {
      "cell_type": "code",
      "source": [
        "def mlp_train(xs, ys, n_epochs = 100):\n",
        "\n",
        "    lr = 0.7\n",
        "    # 3x2 matrix for 3 inputs and 2 outputs\n",
        "    w1 = np.random.uniform(low = -1, high = 1, size = (xs.shape[1], 4))\n",
        "    b1 = np.zeros((4))\n",
        "\n",
        "    w2 = np.random.uniform(low = -1, high = 1, size = (4, ys.shape[1]))\n",
        "    b2 = np.zeros((ys.shape[1]))\n",
        "\n",
        "    # print(xs.shape, ys.shape, ws.shape, bs.shape)\n",
        "\n",
        "    for i in range(n_epochs):\n",
        "\n",
        "        # Forward Pass\n",
        "        z1 = np.dot(xs, w1) + b1\n",
        "        a1 = relu(z1)\n",
        "\n",
        "        z2 = np.dot(a1, w2) + b2\n",
        "        yhat = sigmoid(z2)\n",
        "\n",
        "        # Loss Calculation\n",
        "        loss = mse(yhat, ys)\n",
        "        if (i)%10 == 0:\n",
        "            print(f\"Epoch: {i+1}, Loss: {loss}\")\n",
        "\n",
        "        # Calculating Gradients\n",
        "        dl_dyhat = mse_grad(yhat, ys)\n",
        "        dyhat_dz2 = sigmoid_grad(yhat)\n",
        "\n",
        "        dl_dz2 = dl_dyhat * dyhat_dz2\n",
        "\n",
        "        # Activation to weight\n",
        "        dl_dw2 = (1/a1.shape[0]) * np.dot(a1.T, dl_dz2) # Done\n",
        "        dl_db2 = dl_dz2.mean(0) # Done\n",
        "\n",
        "        # Activation to Activation\n",
        "        dl_da1 = np.dot(dl_dz2, w2.T)\n",
        "        da1_dz1 = relu_grad(z1)\n",
        "\n",
        "        dl_dz1 = dl_da1 * da1_dz1\n",
        "\n",
        "        dl_dw1 = (1/z1.shape[0]) * np.dot(xs.T, dl_dz1) # Done\n",
        "        dl_db1 = dl_dz1.mean(0) # Done\n",
        "\n",
        "        # Backward Pass\n",
        "        w1 += -lr * dl_dw1\n",
        "        b1 += -lr * dl_db1\n",
        "\n",
        "        w2 += -lr * dl_dw2\n",
        "        b2 += -lr * dl_db2\n",
        "\n",
        "    return w1, b1, w2, b2"
      ],
      "metadata": {
        "id": "WQ6zugpVSl42"
      },
      "execution_count": 71,
      "outputs": []
    },
    {
      "cell_type": "code",
      "source": [
        "ys = np.random.uniform(low=0, high=1., size=(20,2))\n",
        "xs = np.random.uniform(low= -4, high = 4, size = (20, 3))\n",
        "mlp_parameters = mlp_train(xs, ys, 200)"
      ],
      "metadata": {
        "colab": {
          "base_uri": "https://localhost:8080/"
        },
        "id": "i3QBeH5ITzt4",
        "outputId": "6f7824a8-38c5-4cff-ebe6-505128b417a8"
      },
      "execution_count": 72,
      "outputs": [
        {
          "output_type": "stream",
          "name": "stdout",
          "text": [
            "Epoch: 1, Loss: 0.20880276427291705\n",
            "Epoch: 11, Loss: 0.19286537214136576\n",
            "Epoch: 21, Loss: 0.17876130479920377\n",
            "Epoch: 31, Loss: 0.1684445768804895\n",
            "Epoch: 41, Loss: 0.16049987459064366\n",
            "Epoch: 51, Loss: 0.15302545114742697\n",
            "Epoch: 61, Loss: 0.1460114353910063\n",
            "Epoch: 71, Loss: 0.13947239740666803\n",
            "Epoch: 81, Loss: 0.13341236039021864\n",
            "Epoch: 91, Loss: 0.12781272182953737\n",
            "Epoch: 101, Loss: 0.12263763136945331\n",
            "Epoch: 111, Loss: 0.11781626826874629\n",
            "Epoch: 121, Loss: 0.11331716968269956\n",
            "Epoch: 131, Loss: 0.10911714064164271\n",
            "Epoch: 141, Loss: 0.1051894469078983\n",
            "Epoch: 151, Loss: 0.10149579563690976\n",
            "Epoch: 161, Loss: 0.09801162402526392\n",
            "Epoch: 171, Loss: 0.09472338810090418\n",
            "Epoch: 181, Loss: 0.09159211982221711\n",
            "Epoch: 191, Loss: 0.08874235951211558\n"
          ]
        }
      ]
    },
    {
      "cell_type": "code",
      "source": [
        "# [x1, x2] -> [e1, e2] -> L\n",
        "# dl_de = [dl_de1, dl_de2]\n",
        "# de_dx = [de_dx1, de_dx2] = [de1_dx1 + de2_dx1, de1_dx2 + de2_dx2]\n",
        "# dl_dx = [dl_de1 * de1_dx1 + dl_de2 * de2_dx1, dl_de1 * de1_dx2 + dl_de2 * de2_dx2]\n",
        "\n",
        "def softmax(z):\n",
        "    exp_sum = np.exp(z).sum(-1)\n",
        "    return np.exp(z)/(np.expand_dims(exp_sum, axis=1) if len(z.shape) > 1 else exp_sum)\n",
        "\n",
        "def cross_entropy(yhat, y):\n",
        "    if len(y.shape) > 1:\n",
        "        return (y * np.log(1/yhat)).sum(1).mean()\n",
        "    else:\n",
        "        return (y * np.log(1/yhat)).sum()\n",
        "\n",
        "def cross_entropy_grad(yhat, y):\n",
        "    if len(yhat.shape) > 1:\n",
        "        return (y/yhat.shape[0]) * (-1/yhat)\n",
        "    else:\n",
        "        return y * (-1/yhat)\n",
        "\n",
        "def softmax_grad(yhat): # Only support single element, does not support batchwise : TODO: Do batchwise\n",
        "\n",
        "    # yhat.shape = [3] - num_classes\n",
        "    # dl_de = [3] - dl_for_each_e - dl_de[0] = [dl_de1, dl_de2, dl_de3]\n",
        "    # So now what needs to be done????\n",
        "    # formulate de_dx matrix where we have dei_dxj for each e_i and x_j\n",
        "\n",
        "    # e == yhat : yhat is the output of softmax act function\n",
        "    # de_dx = yhat * (np.eye(yhat.shape[-1]) - yhat.T)\n",
        "\n",
        "    # de_dx_unsummed = yhat * (np.eye(yhat.shape[-1]) - np.expand_dims(yhat, axis = 0).T)\n",
        "    # return de_dx_unsummed\n",
        "    return np.diag(yhat) - np.outer(yhat, yhat)"
      ],
      "metadata": {
        "id": "AeawvbRlXH_S"
      },
      "execution_count": 109,
      "outputs": []
    },
    {
      "cell_type": "code",
      "source": [
        "zs_t = torch.randn([1, 3], requires_grad = True)\n",
        "ys_t = torch.tensor([[0, 1, 0]], dtype = torch.float32)\n",
        "\n",
        "zs, ys = zs_t.detach().numpy()[0], ys_t.numpy()[0]\n",
        "\n",
        "yhat = softmax(zs)\n",
        "loss = cross_entropy(yhat, ys)\n",
        "print(f\"Loss: {loss}\")\n",
        "\n",
        "dloss_dyhat = cross_entropy_grad(yhat, ys) # Correct\n",
        "\n",
        "dyhat_dz_unsummed = softmax_grad(yhat)\n",
        "\n",
        "dl_dz = np.dot(dloss_dyhat, dyhat_dz_unsummed)\n",
        "\n",
        "dl_dz"
      ],
      "metadata": {
        "colab": {
          "base_uri": "https://localhost:8080/"
        },
        "id": "W-gnD7ZtXIsa",
        "outputId": "d2222f5a-b244-4226-8b07-853e0fb5bc94"
      },
      "execution_count": 222,
      "outputs": [
        {
          "output_type": "stream",
          "name": "stdout",
          "text": [
            "Loss: 0.6789330840110779\n"
          ]
        },
        {
          "output_type": "execute_result",
          "data": {
            "text/plain": [
              "array([ 0.31114352, -0.49284223,  0.18169868], dtype=float32)"
            ]
          },
          "metadata": {},
          "execution_count": 222
        }
      ]
    },
    {
      "cell_type": "code",
      "source": [
        "yhat_t = F.softmax(zs_t, dim = 1)\n",
        "yhat_t.retain_grad()\n",
        "loss = (ys_t * torch.log(1./yhat_t)).sum(1).mean()\n",
        "print(f\"Loss: {loss}\")\n",
        "loss.backward()\n",
        "zs_t.grad, yhat_t.grad"
      ],
      "metadata": {
        "colab": {
          "base_uri": "https://localhost:8080/"
        },
        "id": "2MHyF6j1z_CP",
        "outputId": "e6274e35-a8aa-4096-fd79-c991516aa7f4"
      },
      "execution_count": 223,
      "outputs": [
        {
          "output_type": "stream",
          "name": "stdout",
          "text": [
            "Loss: 0.6789330840110779\n"
          ]
        },
        {
          "output_type": "execute_result",
          "data": {
            "text/plain": [
              "(tensor([[ 0.3111, -0.4928,  0.1817]]), tensor([[-0.0000, -1.9718, -0.0000]]))"
            ]
          },
          "metadata": {},
          "execution_count": 223
        }
      ]
    },
    {
      "cell_type": "markdown",
      "source": [
        "# TODO: Conv Layer from scratch"
      ],
      "metadata": {
        "id": "EkWIYYIlQSd-"
      }
    },
    {
      "cell_type": "markdown",
      "source": [
        "# TODO: Norm Layers From Scrath - BN and LN"
      ],
      "metadata": {
        "id": "9UIz-l5aQF6Q"
      }
    },
    {
      "cell_type": "markdown",
      "source": [
        "# TODO: Linear Layer from scratch\n"
      ],
      "metadata": {
        "id": "7w1wGYKzQKfb"
      }
    },
    {
      "cell_type": "code",
      "source": [
        "import numpy as np\n",
        "\n",
        "import torch\n",
        "import torch.nn.functional as F\n",
        "\n",
        "class Module:\n",
        "    def __call__(self, *args, **kwargs):\n",
        "        return self.forward(*args, **kwargs)\n",
        "\n",
        "    def step(self, *args, **kwargs): pass\n",
        "\n",
        "class Linear(Module):\n",
        "\n",
        "    def __init__(self, nin, nout):\n",
        "\n",
        "        self.nin = nin; self.nout = nout\n",
        "\n",
        "        self.w = torch.randn(nin, nout)\n",
        "        self.b = torch.zeros(nout)\n",
        "\n",
        "    def forward(self, x):\n",
        "\n",
        "        # x.shape = (bs, n_features)\n",
        "        # ws.shape = (n_features, out_features)\n",
        "        # returns shape of (bs, out_features)\n",
        "        self.input = x\n",
        "        self.out = self.input@self.w + self.b\n",
        "        return self.out\n",
        "\n",
        "    def backward(self):\n",
        "\n",
        "        # out_grads of shape: [bs, n_out] : out_features\n",
        "        # dot product between input and out_grads\n",
        "        # input shape = bs, n_in : out_grads shape = [bs, n_out]\n",
        "\n",
        "\n",
        "        '''\n",
        "        Formulas:\n",
        "            Input: X\n",
        "            Output: Z\n",
        "            Weights: w\n",
        "            Bias: b\n",
        "\n",
        "            dl_dw = (X.T @ dl_dz)/batch_size # Mean\n",
        "            dl_db = dl_dz.mean()\n",
        "            dl_dx = dl_dz @ w.T\n",
        "        '''\n",
        "        bs = self.input.shape[0]\n",
        "\n",
        "        # Lets calculate dl_dw\n",
        "        self.w.grad = (self.input.T @ self.out.grad) * (1/bs)\n",
        "\n",
        "        # Calculate dl_db\n",
        "        self.b.grad = self.out.grad.mean(0)\n",
        "\n",
        "        # Claculate dl_dx\n",
        "        self.input.grad = self.out.grad @ self.w.T\n",
        "\n",
        "    def step(self, lr):\n",
        "\n",
        "        self.w += -lr * self.w.grad\n",
        "        self.b += -lr * self.b.grad\n",
        "\n",
        "class ReLU(Module):\n",
        "    def forward(self, x):\n",
        "        self.input = x\n",
        "        self.mask = (self.input > 0).to(torch.float32)\n",
        "        self.out = self.mask * self.input\n",
        "        return self.out\n",
        "\n",
        "    def backward(self):\n",
        "\n",
        "        self.input.grad = self.mask * self.out.grad\n",
        "\n",
        "class Sigmoid(Module):\n",
        "\n",
        "    def forward(self, x):\n",
        "        self.input = x\n",
        "        self.out = 1/(1 + torch.exp(-1*x))\n",
        "        return self.out\n",
        "\n",
        "    def backward(self):\n",
        "        local_grad = self.out * (1 - self.out)\n",
        "        self.input.grad = local_grad * self.out.grad\n",
        "\n",
        "class Softmax(Module):\n",
        "\n",
        "    def forward(self, x):\n",
        "        self.input = x\n",
        "        self.out = self.input.exp()/self.input.exp().sum(1)[:, None]\n",
        "        return self.out\n",
        "\n",
        "    def backward(self):\n",
        "        # self.input.shape == self.out.shape = bs, c\n",
        "        bs, c = self.input.shape\n",
        "\n",
        "        out_g = self.out.grad # (bs, c)\n",
        "\n",
        "        id_m = torch.eye(c, dtype = torch.float32) # (c, c)\n",
        "        id_m = id_m[None, :, :] # (1, c, c) - For broadcasting\n",
        "        rhp = (id_m - self.out[:, None, :]) # (bs, c, c)\n",
        "        lhp = self.out[:, :, None] # (bs, c, 1) for column wise broadcasting\n",
        "        local_grad = lhp * rhp # (bs, c, c) - un summed\n",
        "        dl_dinput = local_grad @ self.out.grad[:, :, None] # (bs, c, c) @ (bs, c, 1) - bs, c, 1\n",
        "\n",
        "        self.input.grad = dl_dinput.squeeze()\n",
        "\n",
        "class CrossEntropyLoss(Module):\n",
        "\n",
        "    def forward(self, yhat, y):\n",
        "        self.input = yhat\n",
        "        self.y = y\n",
        "        return (y * -yhat.log()).sum(1).mean()\n",
        "\n",
        "    def backward(self):\n",
        "        bs = self.input.shape[0]\n",
        "        self.input.grad = (1/bs) * (-self.y/self.input)\n",
        "\n",
        "class MSELoss(Module):\n",
        "    def forward(self, yhat, y):\n",
        "        self.input = yhat\n",
        "        self.y = y\n",
        "        self.out = ((yhat - y) ** 2).mean()\n",
        "        return self.out\n",
        "\n",
        "    def backward(self):\n",
        "        grad = (2/self.input.shape[0]) * (self.input - self.y)\n",
        "        self.input.grad = grad"
      ],
      "metadata": {
        "id": "W-O9KkHxVsne"
      },
      "execution_count": 143,
      "outputs": []
    },
    {
      "cell_type": "code",
      "source": [
        "x = torch.randn(32, 5)\n",
        "y = torch.tensor(np.random.uniform(low= 0, high = 1, size = (32, 2)), dtype = torch.float32)\n",
        "\n",
        "l1 = Linear(5, 3)\n",
        "a1 = ReLU()\n",
        "l2 = Linear(3, 2)\n",
        "a2 = Sigmoid()\n",
        "\n",
        "loss_func = MSELoss()\n",
        "\n",
        "for i in range(1000):\n",
        "    o1 = l1(x)\n",
        "    o2 = a1(o1)\n",
        "    o3 = l2(o2)\n",
        "    o4 = a2(o3)\n",
        "\n",
        "    loss = loss_func(o4, y)\n",
        "    if i%50 == 0: print(f\"Ep: {i}, Loss: {loss}\")\n",
        "    loss_func.backward()\n",
        "    a2.backward()\n",
        "    l2.backward()\n",
        "    a1.backward()\n",
        "    l1.backward()\n",
        "\n",
        "    for l in [l1, a1, l2, a2]: l.step(lr = 0.8)\n",
        "    x.grad = None\n",
        "print(f\"Ep: {i}, Loss: {loss}\")"
      ],
      "metadata": {
        "colab": {
          "base_uri": "https://localhost:8080/"
        },
        "id": "k7I_bOQ0j_iw",
        "outputId": "4303a83f-b197-4bfc-ab08-f09466511713"
      },
      "execution_count": 115,
      "outputs": [
        {
          "output_type": "stream",
          "name": "stdout",
          "text": [
            "Ep: 0, Loss: 0.1449497640132904\n",
            "Ep: 50, Loss: 0.13988332450389862\n",
            "Ep: 100, Loss: 0.13490402698516846\n",
            "Ep: 150, Loss: 0.12993314862251282\n",
            "Ep: 200, Loss: 0.12498801201581955\n",
            "Ep: 250, Loss: 0.11912492662668228\n",
            "Ep: 300, Loss: 0.11209198087453842\n",
            "Ep: 350, Loss: 0.10667120665311813\n",
            "Ep: 400, Loss: 0.10068228095769882\n",
            "Ep: 450, Loss: 0.0948733240365982\n",
            "Ep: 500, Loss: 0.09017761051654816\n",
            "Ep: 550, Loss: 0.08661936223506927\n",
            "Ep: 600, Loss: 0.0839461237192154\n",
            "Ep: 650, Loss: 0.08184453099966049\n",
            "Ep: 700, Loss: 0.08003367483615875\n",
            "Ep: 750, Loss: 0.07836124300956726\n",
            "Ep: 800, Loss: 0.07684402167797089\n",
            "Ep: 850, Loss: 0.07548607885837555\n",
            "Ep: 900, Loss: 0.07419560849666595\n",
            "Ep: 950, Loss: 0.07296980172395706\n",
            "Ep: 999, Loss: 0.07183732837438583\n"
          ]
        }
      ]
    },
    {
      "cell_type": "code",
      "source": [
        "yhat_t = torch.randn((2, 3), requires_grad = True)\n",
        "y_t = torch.Tensor([[1., 0, 0], [0., 1., 0]])\n",
        "\n",
        "yhat_t_s = F.softmax(yhat_t, dim = 1)\n",
        "yhat_t_s.retain_grad()\n",
        "loss = (-y_t * yhat_t_s.log()).sum(1).mean()\n",
        "loss"
      ],
      "metadata": {
        "colab": {
          "base_uri": "https://localhost:8080/"
        },
        "id": "c2JWum-AkOHI",
        "outputId": "d0030bdf-2e48-47d9-895c-3d7d6d32ed13"
      },
      "execution_count": 136,
      "outputs": [
        {
          "output_type": "execute_result",
          "data": {
            "text/plain": [
              "tensor(1.9451, grad_fn=<MeanBackward0>)"
            ]
          },
          "metadata": {},
          "execution_count": 136
        }
      ]
    },
    {
      "cell_type": "code",
      "source": [
        "loss.backward()\n",
        "yhat_t_s.grad, yhat_t.grad"
      ],
      "metadata": {
        "id": "m42JBTkc1dDh",
        "outputId": "5f0db2fa-3363-4503-face-6576d42121d5",
        "colab": {
          "base_uri": "https://localhost:8080/"
        }
      },
      "execution_count": 137,
      "outputs": [
        {
          "output_type": "execute_result",
          "data": {
            "text/plain": [
              "(tensor([[-2.7648, -0.0000, -0.0000],\n",
              "         [-0.0000, -4.4235, -0.0000]]),\n",
              " tensor([[-0.4096,  0.3303,  0.0793],\n",
              "         [ 0.3306, -0.4435,  0.1128]]))"
            ]
          },
          "metadata": {},
          "execution_count": 137
        }
      ]
    },
    {
      "cell_type": "code",
      "source": [
        "yhat = yhat_t.detach().clone()\n",
        "y = y_t.clone()\n",
        "softm = Softmax()\n",
        "loss_func = CrossEntropyLoss()\n",
        "yhat_s = softm(yhat)\n",
        "loss_func(yhat_s, y)"
      ],
      "metadata": {
        "colab": {
          "base_uri": "https://localhost:8080/"
        },
        "id": "QfAI7jIEn6uh",
        "outputId": "7bce02f2-f126-467e-bde6-fa92b06221f2"
      },
      "execution_count": 140,
      "outputs": [
        {
          "output_type": "execute_result",
          "data": {
            "text/plain": [
              "tensor(1.9451)"
            ]
          },
          "metadata": {},
          "execution_count": 140
        }
      ]
    },
    {
      "cell_type": "code",
      "source": [
        "loss_func.backward()\n",
        "yhat_s.grad"
      ],
      "metadata": {
        "id": "iYJ64ygczixN",
        "outputId": "6db8ce06-1908-44a6-966e-50dbc4bb6e85",
        "colab": {
          "base_uri": "https://localhost:8080/"
        }
      },
      "execution_count": 141,
      "outputs": [
        {
          "output_type": "execute_result",
          "data": {
            "text/plain": [
              "tensor([[-2.7648, -0.0000, -0.0000],\n",
              "        [-0.0000, -4.4235, -0.0000]])"
            ]
          },
          "metadata": {},
          "execution_count": 141
        }
      ]
    },
    {
      "cell_type": "code",
      "source": [
        "softm.backward()\n",
        "yhat.grad"
      ],
      "metadata": {
        "id": "TvfnBZns1wm1",
        "outputId": "fd4bd5d1-1ae8-492d-a6d1-a44be6dc7ea7",
        "colab": {
          "base_uri": "https://localhost:8080/"
        }
      },
      "execution_count": 142,
      "outputs": [
        {
          "output_type": "execute_result",
          "data": {
            "text/plain": [
              "tensor([[-0.4096,  0.3303,  0.0793],\n",
              "        [ 0.3306, -0.4435,  0.1128]])"
            ]
          },
          "metadata": {},
          "execution_count": 142
        }
      ]
    },
    {
      "cell_type": "markdown",
      "source": [
        "# Random Diffusion Visualizations"
      ],
      "metadata": {
        "id": "wViCLdiSF5kY"
      }
    },
    {
      "cell_type": "code",
      "source": [
        "import torch\n",
        "from matplotlib import pyplot as plt\n",
        "\n",
        "# This is alpha_bar_t\n",
        "'''\n",
        "x0 = torch.randn(32, 3, 32, 32)\n",
        "N = torch.randn_like(x0)\n",
        "xt = (alpha_bar_t.sqrt())*x0 + (1 - alpha_bar_t).sqrt()*N\n",
        "\n",
        "a = (alpha_bar_t.sqrt())\n",
        "b = (1 - alpha_bar_t).sqrt()\n",
        "'''\n",
        "\n",
        "b = torch.linspace(0, 1, 1000)\n",
        "alpha_bar_t = 1 - b**2\n",
        "\n",
        "plt.plot(b)\n",
        "plt.plot(alpha_bar_t.sqrt())"
      ],
      "metadata": {
        "id": "Q5r_6z4cF5GU",
        "outputId": "52c5cbb3-1600-450d-abcd-f1f477e1144c",
        "colab": {
          "base_uri": "https://localhost:8080/",
          "height": 448
        }
      },
      "execution_count": 1,
      "outputs": [
        {
          "output_type": "execute_result",
          "data": {
            "text/plain": [
              "[<matplotlib.lines.Line2D at 0x7e98a61acd00>]"
            ]
          },
          "metadata": {},
          "execution_count": 1
        },
        {
          "output_type": "display_data",
          "data": {
            "text/plain": [
              "<Figure size 640x480 with 1 Axes>"
            ],
            "image/png": "[encoded data removed]"
          },
          "metadata": {}
        }
      ]
    },
    {
      "cell_type": "code",
      "source": [
        "# Lets say sqrt(beta_t) is linear\n",
        "\n",
        "beta_sqrt = torch.linspace(0.0001, 0.02, 1000)\n",
        "beta = beta_sqrt #** 2\n",
        "alpha = 1. - beta\n",
        "alpha_bar = alpha.cumprod(0)\n",
        "\n",
        "plt.plot((1-alpha_bar).sqrt())\n",
        "plt.plot(alpha_bar.sqrt())"
      ],
      "metadata": {
        "id": "5jdB-ZnPIQQZ",
        "outputId": "4cad1039-1e7f-47b5-97f7-c555e7eec8ea",
        "colab": {
          "base_uri": "https://localhost:8080/",
          "height": 448
        }
      },
      "execution_count": 3,
      "outputs": [
        {
          "output_type": "execute_result",
          "data": {
            "text/plain": [
              "[<matplotlib.lines.Line2D at 0x7e98a6084f10>]"
            ]
          },
          "metadata": {},
          "execution_count": 3
        },
        {
          "output_type": "display_data",
          "data": {
            "text/plain": [
              "<Figure size 640x480 with 1 Axes>"
            ],
            "image/png": "[encoded data removed]"
          },
          "metadata": {}
        }
      ]
    },
    {
      "cell_type": "markdown",
      "source": [
        "# Only Forwards"
      ],
      "metadata": {
        "id": "eT9cJNJnTqsb"
      }
    },
    {
      "cell_type": "code",
      "source": [
        "from einops import rearrange\n",
        "import torch\n",
        "from torch import nn\n",
        "\n",
        "class Module:\n",
        "    def __call__(self, *args, **kwargs):\n",
        "        return self.forward(*args, **kwargs)\n",
        "\n",
        "class Conv2dFilter(Module):\n",
        "\n",
        "    def __init__(self, in_c, kernel_size = 2):\n",
        "\n",
        "        self.in_c = in_c\n",
        "        self.kernel_size = kernel_size\n",
        "\n",
        "        total_w_size = kernel_size**2 * in_c\n",
        "        self.w = nn.Linear(total_w_size, 1)\n",
        "\n",
        "    def forward(self, x):\n",
        "        # x is of shape bs, channels, h, w\n",
        "        ks = self.kernel_size\n",
        "\n",
        "        i, j = ks, ks\n",
        "        bs, c, h, w = x.shape\n",
        "        acts = []\n",
        "\n",
        "        while i <= x.shape[-2]:\n",
        "            j = ks\n",
        "            while j <= x.shape[-1]:\n",
        "\n",
        "                x_window = x[:, :, i-ks:i, j-ks:j] # bs, c, ks, ks\n",
        "                x_window = x_window.reshape(bs, -1) # bs, c*ks*ks\n",
        "                acts.append(x_window[:, None, :])\n",
        "                j += 1\n",
        "            i += 1\n",
        "\n",
        "        nh, nw = h - (1 + ks//2), w - (1 + ks//2)\n",
        "        acts = torch.cat(acts, dim = 1) # bs, nh*nw, c\n",
        "        fin_acts = self.w(acts).squeeze() # bs, nh*nw, 1\n",
        "\n",
        "        return rearrange(fin_acts, 'b (i j)-> b i j', i = nh, j = nw)"
      ],
      "metadata": {
        "id": "Z130Dyb78HZR"
      },
      "execution_count": 2,
      "outputs": []
    },
    {
      "cell_type": "code",
      "source": [
        "x = torch.randn(2, 3, 4, 4)\n",
        "filter = Conv2dFilter(3, 3)\n",
        "out = filter(x)\n",
        "out.shape, x.mean(), x.std()"
      ],
      "metadata": {
        "id": "Zral3csWXYa3",
        "outputId": "5f563c0d-a2f4-4699-8589-522e11968b5c",
        "colab": {
          "base_uri": "https://localhost:8080/"
        }
      },
      "execution_count": 207,
      "outputs": [
        {
          "output_type": "execute_result",
          "data": {
            "text/plain": [
              "(torch.Size([2, 2, 2]), tensor(0.0352), tensor(0.9435))"
            ]
          },
          "metadata": {},
          "execution_count": 207
        }
      ]
    },
    {
      "cell_type": "code",
      "source": [
        "class LayerNorm(Module):\n",
        "\n",
        "    def __init__(self, nc, eps = 1e-05):\n",
        "        self.nc = nc\n",
        "        self.w = torch.ones(nc, requires_grad = True)\n",
        "        self.b = torch.zeros(nc, requires_grad = True)\n",
        "        self.eps = eps\n",
        "\n",
        "    def forward(self, x: torch.Tensor):\n",
        "        # x.shape = (bs, n, c)\n",
        "        mean = x.mean(-1, keepdim = True)\n",
        "        var = ((x - mean)**2).mean(-1, keepdim = True)\n",
        "        st_dev = (var + self.eps).sqrt()\n",
        "\n",
        "        norm = (x - mean)/st_dev\n",
        "\n",
        "        return self.w * norm + self.b\n",
        "\n",
        "class BatchNorm(Module):\n",
        "    def __init__(self, nc, eps = 1e-05):\n",
        "        self.nc = nc\n",
        "        self.w = torch.ones(nc)\n",
        "        self.b = torch.zeros(nc)\n",
        "        self.eps = eps\n",
        "        self.mean = None\n",
        "        self.std = None\n",
        "\n",
        "        self.ema_coeff = 0.9\n",
        "\n",
        "        self.training = True\n",
        "\n",
        "    def eval(self):\n",
        "        self.training = False\n",
        "\n",
        "    def forward(self, x):\n",
        "        # x.shape = (bs, n, c)\n",
        "        mean = x.mean(0, keepdim = True) # (1, n, c)\n",
        "        var = ((x - mean)**2).mean(0, keepdim = True) # (1, n, c)\n",
        "        st_dev = (var + self.eps).sqrt()\n",
        "\n",
        "        if self.training:\n",
        "            if self.mean == None: self.mean = torch.zeros_like(mean)\n",
        "            if self.std == None: self.std = torch.zeros_like(st_dev)\n",
        "\n",
        "            self.mean = self.ema_coeff * self.mean + (1 - self.ema_coeff)*mean\n",
        "            self.std = self.ema_coeff * self.std + (1 - self.ema_coeff)*st_dev\n",
        "\n",
        "        norm = (x - self.mean)/self.std\n",
        "\n",
        "        return self.w * norm + self.b"
      ],
      "metadata": {
        "id": "6W1OaULnXV5t"
      },
      "execution_count": 17,
      "outputs": []
    },
    {
      "cell_type": "code",
      "source": [
        "bn = BatchNorm(20)"
      ],
      "metadata": {
        "id": "9__ojWbocHge"
      },
      "execution_count": 15,
      "outputs": []
    },
    {
      "cell_type": "code",
      "source": [
        "for i in range(50):\n",
        "    x = 3*torch.randn(32, 16, 20)\n",
        "    norm = bn(x)\n",
        "    if i%10 == 0:\n",
        "        print(x.mean(), x.std())\n",
        "        print(\"Norm: \", norm.mean(), norm.std())"
      ],
      "metadata": {
        "collapsed": true,
        "id": "lnpJjCp0tSDr",
        "outputId": "21730e82-e4ca-4651-a9ad-dab56e71a95a",
        "colab": {
          "base_uri": "https://localhost:8080/"
        }
      },
      "execution_count": 16,
      "outputs": [
        {
          "output_type": "stream",
          "name": "stdout",
          "text": [
            "tensor(-0.0257) tensor(2.9973)\n",
            "Norm:  tensor(-0.0863) tensor(10.1482)\n",
            "tensor(0.0242) tensor(2.9970)\n",
            "Norm:  tensor(0.0118) tensor(1.4870)\n",
            "tensor(-0.0014) tensor(2.9905)\n",
            "Norm:  tensor(-0.0020) tensor(1.1444)\n",
            "tensor(-0.0410) tensor(3.0482)\n",
            "Norm:  tensor(-0.0158) tensor(1.0745)\n",
            "tensor(-0.0208) tensor(3.0283)\n",
            "Norm:  tensor(-0.0067) tensor(1.0394)\n"
          ]
        }
      ]
    },
    {
      "cell_type": "code",
      "source": [
        "class MomentumOpt:\n",
        "    def __init__(self, model, lr, p = 0.9):\n",
        "\n",
        "        self.lr = lr\n",
        "        self.p = p\n",
        "        self.model = model\n",
        "\n",
        "        self.velocities = {}\n",
        "        for name, param in self.model.named_parameters():\n",
        "            self.velocities[name] = torch.zeros_like(param)\n",
        "\n",
        "    def step(self, model: nn.Module): # TODO: Correct the implementation pls\n",
        "\n",
        "        for name, param in model.named_parameters():\n",
        "            grad = param.grad.data\n",
        "            ve = self.velocities[name]\n",
        "            updated_ve =  grad + self.p * ve\n",
        "            self.velocities[name] = updated_ve\n",
        "            param.data += -self.lr * updated_ve\n",
        "\n",
        "class RMSProp:\n",
        "\n",
        "    def __init__(self, model, lr, beta, eps = 1e-8):\n",
        "\n",
        "        self.model = model\n",
        "        self.lr = lr\n",
        "        self.beta = beta\n",
        "        self.eps = eps\n",
        "        self.grad_squared_ema = {} # EMA\n",
        "\n",
        "        for name, param in self.model.named_parameters():\n",
        "            self.grad_squared_ema[name] = torch.zeros_like(param.data)\n",
        "\n",
        "    def step(self):\n",
        "\n",
        "        for name, param in self.model.named_parameters():\n",
        "\n",
        "            grad = param.grad.data\n",
        "\n",
        "            grad_s_ema = self.grad_squared_ema[name]\n",
        "            grad_s_ema_updated = (1 - self.beta)*grad**2 + beta*grad_s_ema\n",
        "            self.grad_squared_ema[name] = grad_s_ema_updated\n",
        "\n",
        "            param.data += -self.lr * (param.grad.data/(grad_s_ema_updated.sqrt() + self.eps))\n",
        "\n",
        "class AdamW:\n",
        "\n",
        "    def __init__(self, model, lr, wd = 1e-02, betas = (0.9, 0.999), eps = 1e-08):\n",
        "\n",
        "        self.model = model\n",
        "        self.lr = lr\n",
        "        self.betas = betas\n",
        "        self.eps = eps\n",
        "        self.wd = wd\n",
        "\n",
        "        self.momentum = {}\n",
        "        self.rms_prop = {}\n",
        "\n",
        "        self.t = 0\n",
        "\n",
        "        for name, param in self.model.named_parameters():\n",
        "            self.momentum[name] = torch.zeros_like(param.data)\n",
        "            self.rms_prop[name] = torch.zeros_like(param.data)\n",
        "\n",
        "    def step(self):\n",
        "\n",
        "        # step update = param.data += -lr * ((momentum_step/rms_prop_step) - wd*param.data)\n",
        "\n",
        "        def beta_correction(term, beta):\n",
        "            return term/(1. - beta**self.t)\n",
        "\n",
        "        for name, param in self.model.named_parameters():\n",
        "\n",
        "            if param.grad == None: continue\n",
        "\n",
        "            grad = param.grad.data\n",
        "            updated_v = grad*(1-self.betas[0]) + self.momentum[name]*self.betas[0]\n",
        "            updated_rms_prop = (grad**2)*(1-self.betas[1]) + self.rms_prop[name]*self.betas[1]\n",
        "\n",
        "            self.momentum[name] = updated_v; self.rms_prop[name] = updated_rms_prop\n",
        "\n",
        "            update = (self.wd*param.data + beta_correction(updated_v, self.betas[0])/(beta_correction(updated_rms_prop, self.betas[1]).sqrt() + self.eps))\n",
        "\n",
        "            param.data += -self.lr*update"
      ],
      "metadata": {
        "id": "AEinBygRuQmt"
      },
      "execution_count": 24,
      "outputs": []
    },
    {
      "cell_type": "code",
      "source": [
        "from torch import nn\n",
        "import numpy as np\n",
        "from einops import rearrange\n",
        "\n",
        "class SelfAttention(nn.Module):\n",
        "    def __init__(self, dim = 768):\n",
        "\n",
        "        # norm -> attn -> proj -> add\n",
        "        super().__init__()\n",
        "        self.dim = dim\n",
        "        self.kqv = nn.Linear(self.dim, self.dim*3, bias = False)\n",
        "        self.norm = nn.LayerNorm(self.dim)\n",
        "        self.proj = nn.Linear(self.dim, self.dim)\n",
        "\n",
        "    def forward(self, x, causal = False): # as done in stable diffusion paper, except they used group norm rather than layer norm\n",
        "\n",
        "        # x.shape = (bs, n, c)\n",
        "\n",
        "        inp = self.norm(x)\n",
        "        kqv = self.kqv(inp) # bs, n, 3*c\n",
        "        k, q, v = kqv.chunk(3, dim = -1)\n",
        "\n",
        "        # k - (bs, n, c), q - (bs, n, c)\n",
        "        scale = 1/np.sqrt(x.shape[-1])\n",
        "        attn_scores = (q@k.transpose(1, -1))*(1/scale) # (bs, n, n)\n",
        "\n",
        "        if causal:\n",
        "            mask = torch.triu(torch.ones_like(attn_scores), diagonal = 0)\n",
        "            attn_scores.masked_fill(mask == 1, float('-inf'))\n",
        "\n",
        "        attn_scores = F.softmax(attn_scores, dim = -1) # (bs, n, n)\n",
        "        res = attn_scores @ v # bs, n, n @ bs, n, c -> bs, n, c\n",
        "\n",
        "        return self.proj(res)\n",
        "\n",
        "class MultiHeadAttention(nn.Module):\n",
        "\n",
        "    def __init__(self, dim, n_head = 4):\n",
        "        assert dim%n_head == 0\n",
        "\n",
        "        self.dim = dim\n",
        "        self.n_head = n_head\n",
        "        self.kqv = nn.Linear(dim//n_head, 3*dim//n_head, bias = False)\n",
        "        self.norm = nn.LayerNorm(dim)\n",
        "        self.proj = nn.Linear(dim, dim)\n",
        "\n",
        "    def forward(self, x, causal = False):\n",
        "\n",
        "        # norm -> break_to_multiple_heads -> attn_calculation -> concat all the heads -> proj -> return\n",
        "        # x.shape = (bs, n, c)\n",
        "        inp = x\n",
        "        k, q, v = self.kqv(inp).chunk(3, dim = -1)\n",
        "\n",
        "        k = rearrange(k, 'b n (c h) -> b h n c', h = self.n_heads) # bs, h, n, c/h\n",
        "        q = rearrange(q, 'b n (c h) -> b h n c', h = self.n_heads) # bs, h, n, c/h\n",
        "        v = rearrange(v, 'b n (c h) -> b h n c', h = self.n_heads) # bs, h, n, c/h\n",
        "\n",
        "        scale = 1/np.sqrt(x.shape[-1])\n",
        "        attn_scores = (q@k.transpose(1, -1))*(1/scale) # (bs, h, n, n)\n",
        "\n",
        "        if causal:\n",
        "            mask = torch.triu(torch.ones_like(attn_scores), diagonal = 0)\n",
        "            attn_scores.masked_fill(mask == 1, float('-inf'))\n",
        "\n",
        "        attn_scores = F.softmax(attn_scores, dim = -1) # (bs, h, n, n)\n",
        "        res = attn_scores @ v # bs, h, n, n @ bs, h, n, c/h -> bs, h, n, c/h\n",
        "\n",
        "        res = rearrange(res, 'b h n c -> b n (c h)', h = self.n_heads) # bs, h, n, c/h\n",
        "        return res\n",
        "\n",
        "class EncoderBlock(nn.Module):\n",
        "\n",
        "    def __init__(self, dim, attn_block: nn.Module = SelfAttention):\n",
        "\n",
        "        # attn(norm -> self_attn -> lin) -> add -> norm -> lin -> act -> lin\n",
        "        super().__init__()\n",
        "        self.dim = dim\n",
        "        self.attn = attn_block(dim = dim)\n",
        "        self.mlp = nn.Sequential(nn.LayerNorm(dim),\n",
        "                                 nn.Linear(dim, dim),\n",
        "                                 nn.GELU(approximate = 'tanh'),\n",
        "                                 nn.Linear(dim, dim))\n",
        "\n",
        "    def forward(self, x):\n",
        "        attn_op = self.attn(x)\n",
        "        x = x + attn_op\n",
        "        return x + self.mlp(x)"
      ],
      "metadata": {
        "id": "4qVXjw_WqD6W"
      },
      "execution_count": 36,
      "outputs": []
    },
    {
      "cell_type": "code",
      "source": [
        "a = torch.randn(4, 32, 64)\n",
        "a.transpose(1, -1).shape"
      ],
      "metadata": {
        "id": "yf4JLzPKyjNL",
        "outputId": "7dfa3a54-e3b7-4ae0-a641-0cac62218f19",
        "colab": {
          "base_uri": "https://localhost:8080/"
        }
      },
      "execution_count": 22,
      "outputs": [
        {
          "output_type": "execute_result",
          "data": {
            "text/plain": [
              "torch.Size([4, 64, 32])"
            ]
          },
          "metadata": {},
          "execution_count": 22
        }
      ]
    },
    {
      "cell_type": "code",
      "source": [
        "matrix = torch.ones((2, 3, 3))\n",
        "torch.triu(matrix, diagonal=1)"
      ],
      "metadata": {
        "id": "NCG_wxycy6G7",
        "outputId": "d87bb4ff-5545-4a39-83fd-97a23fefe09c",
        "colab": {
          "base_uri": "https://localhost:8080/"
        }
      },
      "execution_count": 35,
      "outputs": [
        {
          "output_type": "execute_result",
          "data": {
            "text/plain": [
              "tensor([[[0., 1., 1.],\n",
              "         [0., 0., 1.],\n",
              "         [0., 0., 0.]],\n",
              "\n",
              "        [[0., 1., 1.],\n",
              "         [0., 0., 1.],\n",
              "         [0., 0., 0.]]])"
            ]
          },
          "metadata": {},
          "execution_count": 35
        }
      ]
    },
    {
      "cell_type": "code",
      "source": [
        "import math\n",
        "  # points_dist = tsteps[:, None] * points[None, :].exp()\n",
        "  # return torch.cat((torch.sin(points_dist), torch.cos(points_dist)), dim = 1)"
      ],
      "metadata": {
        "id": "rwD_3Z72U7gT"
      },
      "execution_count": 39,
      "outputs": []
    },
    {
      "cell_type": "code",
      "source": [
        "# POSITIONAL EMBEDDIGNS\n",
        "nsteps = 20; max_steps = 100; nemb = 64\n",
        "\n",
        "tsteps = torch.linspace(-10, 10, nsteps)\n",
        "points = -1*math.log(max_steps) * torch.linspace(0, 1, nemb//2).exp()\n",
        "freqs = tsteps[:, None] * points[None, :]\n",
        "out = torch.cat([torch.sin(freqs), torch.cos(freqs)], dim = -1)\n",
        "out.shape"
      ],
      "metadata": {
        "id": "cnyhyg4HVA4W",
        "outputId": "9016060b-9165-4041-dcab-ce5249f94a98",
        "colab": {
          "base_uri": "https://localhost:8080/"
        }
      },
      "execution_count": 54,
      "outputs": [
        {
          "output_type": "execute_result",
          "data": {
            "text/plain": [
              "torch.Size([20, 64])"
            ]
          },
          "metadata": {},
          "execution_count": 54
        }
      ]
    },
    {
      "cell_type": "code",
      "source": [
        "class LoRALinear()"
      ],
      "metadata": {
        "id": "pgFb6q-VVHPP",
        "outputId": "bdc68b5f-4bb5-4246-de44-dd9ae550b95e",
        "colab": {
          "base_uri": "https://localhost:8080/"
        }
      },
      "execution_count": 52,
      "outputs": [
        {
          "output_type": "execute_result",
          "data": {
            "text/plain": [
              "torch.Size([20, 64])"
            ]
          },
          "metadata": {},
          "execution_count": 52
        }
      ]
    }
  ]
}